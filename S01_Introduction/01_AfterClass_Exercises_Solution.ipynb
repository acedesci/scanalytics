{
 "cells": [
  {
   "cell_type": "markdown",
   "metadata": {
    "id": "k1ZcRrpotTl9"
   },
   "source": [
    "#  S01 After-class Exercises: Python Basics (Solution)"
   ]
  },
  {
   "cell_type": "markdown",
   "metadata": {
    "id": "gxsKhd2qtTmE"
   },
   "source": [
    "---\n",
    "## Instructions\n",
    "\n",
    "Most of the exercises presented here allows you to practice basic Python programming for some applications in Operations Management and Logistics. \n",
    "\n",
    "For each exercise, you have a code cell for the response underneath it, where you should write your answer between the lines containing `### start your code here ###`  and `### end your code here ###`. Your code can contain one or more lines and you can execute this cell in order to complete the exercise. To execute the cell, you can type `Shift+Enter` or press the play button in the toolbar above. Your results will appear right below this response cell.\n",
    "\n",
    "**NOTE:** Please pay attention to the variable name of the output you need to provide under each question. You must use the same variable name for the output so that the result can be printed out correctly."
   ]
  },
  {
   "cell_type": "markdown",
   "metadata": {
    "id": "tar9dEqQtTmE"
   },
   "source": [
    "---\n",
    "##  Variable Declaration and Operations"
   ]
  },
  {
   "cell_type": "markdown",
   "metadata": {
    "id": "QoqDmd7ftTmF"
   },
   "source": [
    "Values and variables can be manipulated using operators. Operators are symbols that perform operations on values. You can look at [this page](https://www.w3schools.com/python/python_operators.asp) for more information about operators in general.\n",
    "\n",
    "The arithmetic operators are the most common type of operators, so we will see how to use them to manipulate numbers. In these exercises you will use arithmetic operators with numeric values to perform common mathematical operations.\n",
    "\n",
    "For each exercise, use the arithmetic operators (`+`, `-`,` * `,` / `)."
   ]
  },
  {
   "cell_type": "markdown",
   "metadata": {
    "id": "kVomMRYotTmF"
   },
   "source": [
    "---\n",
    "## Computing EOQ and Total Costs\n",
    "\n",
    "Last year, a supermarket sold $150000$ packages of a $5$-kg brown rice product. It is predicted that the sales of this product will increase $10\\%$ this year. The current price of this brown rice product is set at $\\$14.65$. The acquisition cost of this product is $\\$5.3$. The supermarket has calculated that the ordering cost is $\\$45$ per order and that the unit inventory cost is $22\\%$ of the acquisition cost."
   ]
  },
  {
   "cell_type": "markdown",
   "metadata": {
    "id": "LoyWtI0rtTmF"
   },
   "source": [
    "### Exercise 1: Annual Demand\n",
    "Compute the annual demand for this year and assign this value to variable `annual_dem`."
   ]
  },
  {
   "cell_type": "code",
   "execution_count": 1,
   "metadata": {
    "id": "3nbTeOtdtTmG",
    "outputId": "1b71a1e0-719f-4f32-ba74-b1677a4774e1"
   },
   "outputs": [
    {
     "name": "stdout",
     "output_type": "stream",
     "text": [
      "The annual demand for this year is:  165000.0\n"
     ]
    }
   ],
   "source": [
    "### start your code here ###\n",
    "\n",
    "annual_demand = 150000 * 1.1\n",
    "\n",
    "### end your code here ####\n",
    "\n",
    "print('The annual demand for this year is: ', annual_demand)"
   ]
  },
  {
   "cell_type": "markdown",
   "metadata": {
    "id": "SJjRW0QDtTmH"
   },
   "source": [
    "### Exercise 2: Unit Inventory Cost\n",
    "Compute the unit inventory holding cost and assign this value to variable `inv_cost`."
   ]
  },
  {
   "cell_type": "code",
   "execution_count": 2,
   "metadata": {
    "id": "k2TbXHwAtTmH",
    "outputId": "cd25ef33-b94a-4f8a-fd2b-e9cc04e3c5c1"
   },
   "outputs": [
    {
     "name": "stdout",
     "output_type": "stream",
     "text": [
      "The unit inventory holding cost is:  1.166\n"
     ]
    }
   ],
   "source": [
    "### start your code here ###\n",
    "\n",
    "inv_cost = 0.22 * 5.3\n",
    "\n",
    "### end your code here ####\n",
    "print('The unit inventory holding cost is: ', inv_cost)"
   ]
  },
  {
   "cell_type": "markdown",
   "metadata": {
    "id": "FG3uYA5RtTmI"
   },
   "source": [
    "### Exercise 3: EOQ\n",
    "Compute the economic order quantity ($EOQ$) for this $5$-kg brown rice by reusing the previous variables and assign this value to the variable `eoq_rice`. \n",
    "\n",
    "Recall that the $EOQ$ is computed as follows:\n",
    "\n",
    "$$ EOQ=\\sqrt{\\frac{2DO}{H}}$$\n",
    "\n",
    "- $D$: total annual demand, i.e., the quantity of the product that is used each year;\n",
    "- $H$: holding cost per unit, i.e., the cost of carrying one unit of the product per year;\n",
    "- $O$: fixed cost per order, i.e., the cost of placing an order."
   ]
  },
  {
   "cell_type": "code",
   "execution_count": 3,
   "metadata": {
    "id": "zqW_-1vKtTmI",
    "outputId": "d57abe04-6724-4947-a67a-b032ae7a42d5"
   },
   "outputs": [
    {
     "name": "stdout",
     "output_type": "stream",
     "text": [
      "The EOQ for the 5-kg brown rice is:  3568.7321357316487\n"
     ]
    }
   ],
   "source": [
    "### start your code here ###\n",
    "\n",
    "eoq_rice = (2 * annual_demand * 45 / inv_cost) ** (1/2)\n",
    "\n",
    "### end your code here ####\n",
    "print('The EOQ for the 5-kg brown rice is: ', eoq_rice)"
   ]
  },
  {
   "cell_type": "markdown",
   "metadata": {
    "id": "a4PA3xu7tTmI"
   },
   "source": [
    "### Exercise 4: Total ordering cost\n",
    "\n",
    "This part requires two outputs, `n_orders` and `total_order_cost`, as follows:\n",
    "\n",
    "1.   Compute the number of orders to place over this year using the variables `annual_demand` and  `eoq_rice` from the previous exercises and assign this value to variable `n_orders`. \n",
    "2.   Use `n_orders` to compute the the total ordering cost and assign this value to variable `total_order_cost`.\n",
    "\n",
    "The total ordering cost $TOC$ is computed as below, where $Q$ is the order quantity and  $D/Q$ is the number of orders to place over the year.\n",
    "\n",
    "$$ TOC= O\\left(\\frac{D}{Q}\\right)$$"
   ]
  },
  {
   "cell_type": "code",
   "execution_count": 4,
   "metadata": {
    "id": "A6EU7jjjtTmJ",
    "outputId": "378c8b4e-c110-469d-da3b-86bcb1a88a02"
   },
   "outputs": [
    {
     "name": "stdout",
     "output_type": "stream",
     "text": [
      "The number of orders per year is:  46.2349074473678\n",
      "The total ordering cost is :  2080.570835131551\n"
     ]
    }
   ],
   "source": [
    "### start your code here ###\n",
    "\n",
    "n_orders = annual_demand / eoq_rice\n",
    "total_order_cost = n_orders * 45\n",
    "\n",
    "### end your code here ####\n",
    "\n",
    "print('The number of orders per year is: ', n_orders)\n",
    "print('The total ordering cost is : ', total_order_cost)"
   ]
  },
  {
   "cell_type": "markdown",
   "metadata": {
    "id": "kyg-1sBMtTmJ"
   },
   "source": [
    "### Exercise 5: Total inventory management cost\n",
    "\n",
    "Compute the total cost assuming that the order quantity is `eoq_rice` and there is no safety stock. Assign this value to variable `total_cost`.\n",
    "\n",
    "The total cost can be computed as follows:\n",
    "\n",
    "$$TC=PD + O\\left(\\frac{D}{Q}\\right) + H\\left(\\frac{Q}{2}+SS\\right)$$\n",
    "\n",
    "- $TC$: total annual cost;\n",
    "- $P$: purchase unit price;\n",
    "- $D$: annual demand;\n",
    "- $O$: fixed cost per order;\n",
    "- $Q$:  order quantity;\n",
    "- $H$: unit inventory holding cost;\n",
    "- $SS$: safety stock."
   ]
  },
  {
   "cell_type": "code",
   "execution_count": 5,
   "metadata": {
    "id": "dl61O1cFtTmJ",
    "outputId": "690f9f29-7978-4c3b-9801-3f94f7449269"
   },
   "outputs": [
    {
     "name": "stdout",
     "output_type": "stream",
     "text": [
      "Total cost:  878661.1416702631\n"
     ]
    }
   ],
   "source": [
    "### start your code here ###\n",
    "\n",
    "total_cost = 5.3 * annual_demand + total_order_cost + inv_cost * (eoq_rice/2)\n",
    "\n",
    "### end your code here ####\n",
    "\n",
    "print('Total cost: ', total_cost)"
   ]
  },
  {
   "cell_type": "code",
   "execution_count": null,
   "metadata": {
    "id": "S85usdidtTmK"
   },
   "outputs": [],
   "source": []
  }
 ],
 "metadata": {
  "colab": {
   "include_colab_link": true,
   "name": "01_AfterClassAct_Notebook(Solved).ipynb",
   "provenance": []
  },
  "kernelspec": {
   "display_name": "Python 3 (ipykernel)",
   "language": "python",
   "name": "python3"
  },
  "language_info": {
   "codemirror_mode": {
    "name": "ipython",
    "version": 3
   },
   "file_extension": ".py",
   "mimetype": "text/x-python",
   "name": "python",
   "nbconvert_exporter": "python",
   "pygments_lexer": "ipython3",
   "version": "3.8.8"
  },
  "toc": {
   "base_numbering": 1,
   "nav_menu": {},
   "number_sections": true,
   "sideBar": true,
   "skip_h1_title": false,
   "title_cell": "Table of Contents",
   "title_sidebar": "Contents",
   "toc_cell": false,
   "toc_position": {},
   "toc_section_display": true,
   "toc_window_display": true
  }
 },
 "nbformat": 4,
 "nbformat_minor": 1
}
