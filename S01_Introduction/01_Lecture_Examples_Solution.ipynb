{
 "cells": [
  {
   "cell_type": "markdown",
   "metadata": {
    "id": "S2Q5y_D6ULI8"
   },
   "source": [
    "# S01 Python Basics "
   ]
  },
  {
   "cell_type": "markdown",
   "metadata": {
    "id": "dOPDbmdOULJB"
   },
   "source": [
    "## Variable Declaration and Operations"
   ]
  },
  {
   "cell_type": "markdown",
   "metadata": {
    "id": "ju_uLGptULJC"
   },
   "source": [
    "### Example 1: Variables Declaration"
   ]
  },
  {
   "cell_type": "markdown",
   "metadata": {
    "id": "7ulKW6ogULJC"
   },
   "source": [
    "Use a variable of type integer (`int`), a variable of type float (`float`), and a variable of type string (`str`).\n",
    "\n",
    "**NOTE:** `#` is used prior to the comment and the text after `#` is not part of the code."
   ]
  },
  {
   "cell_type": "code",
   "execution_count": 1,
   "metadata": {
    "id": "TTuQKK3bULJD"
   },
   "outputs": [
    {
     "name": "stdout",
     "output_type": "stream",
     "text": [
      "Value of variable 'int_var': 552 , Type:  <class 'int'>\n",
      "Value of variable 'float_var': 3.141592 , Type:  <class 'float'>\n",
      "Value of variable 'str_var': Supply Chain Analytics , Type:  <class 'str'>\n"
     ]
    }
   ],
   "source": [
    "# declaring variables\n",
    "int_var = 552\n",
    "float_var = 3.141592\n",
    "str_var = 'Supply Chain Analytics'\n",
    "\n",
    "print(\"Value of variable 'int_var':\", int_var, \", Type: \", type(int_var))\n",
    "print(\"Value of variable 'float_var':\", float_var, \", Type: \", type(float_var))\n",
    "print(\"Value of variable 'str_var':\", str_var, \", Type: \", type(str_var))"
   ]
  },
  {
   "cell_type": "markdown",
   "metadata": {
    "id": "iFnhHHE5ULJE"
   },
   "source": [
    "### Example 2:  Unit Production Cost"
   ]
  },
  {
   "cell_type": "markdown",
   "metadata": {
    "id": "6_pg7C7uULJE"
   },
   "source": [
    "Unit cost is determined by combining the variable costs and fixed costs and dividing by the total number of units produced. Assuming total fixed cost is $\\$40,000$, the total variable cost is $\\$20,000$ and you produced $30,000$ units, please calculate the unit production cost."
   ]
  },
  {
   "cell_type": "code",
   "execution_count": 2,
   "metadata": {
    "id": "xgDSvP7nULJF"
   },
   "outputs": [
    {
     "name": "stdout",
     "output_type": "stream",
     "text": [
      "Unit production cost is:  2.0\n"
     ]
    }
   ],
   "source": [
    "# declaring variables\n",
    "fixed_cost = 40000\n",
    "variable_cost = 20000\n",
    "total_prod = 30000\n",
    "\n",
    "# computing unit cost\n",
    "unit_cost = (fixed_cost + variable_cost) / total_prod\n",
    "\n",
    "print('Unit production cost is: ', unit_cost)"
   ]
  },
  {
   "cell_type": "markdown",
   "metadata": {
    "id": "SoSJPAjNULJF"
   },
   "source": [
    "### Example 3:  EOQ"
   ]
  },
  {
   "cell_type": "markdown",
   "metadata": {
    "id": "nikAsR7-ULJG"
   },
   "source": [
    "Economic order quantity (EOQ) is the ideal order quantity a company should purchase to minimize inventory costs such as holding costs, shortage costs, and order costs."
   ]
  },
  {
   "cell_type": "markdown",
   "metadata": {
    "id": "r3x6Uf68ULJG"
   },
   "source": [
    "<img src=\"https://raw.githubusercontent.com/acedesci/scanalytics/master/S01_Introduction/_static/EOQ-4.png\"  width=\"600\"/>"
   ]
  },
  {
   "cell_type": "markdown",
   "metadata": {
    "id": "Zr0bJDMHULJH"
   },
   "source": [
    "The EOQ is computed as follows:\n",
    "$$ EOQ=\\sqrt{\\frac{2DO}{H}}$$\n",
    "\n",
    "- $D$: total annual demand, i.e., the quantity of the product that is used each year;\n",
    "- $H$: holding cost per unit, i.e., the cost of carrying one unit of the product per year;\n",
    "- $O$: fixed cost per order, i.e., the cost of placing an order."
   ]
  },
  {
   "cell_type": "code",
   "execution_count": 3,
   "metadata": {
    "id": "QC30694kULJH"
   },
   "outputs": [
    {
     "name": "stdout",
     "output_type": "stream",
     "text": [
      "The economic order quantity is:  489.89794855663564\n"
     ]
    }
   ],
   "source": [
    "# declaring variables\n",
    "D = 20000   # annual demand\n",
    "H = 5       # unit holding cost\n",
    "O = 30      # fixed ordering cost\n",
    "\n",
    "# computing EOQ\n",
    "EOQ = ((2 * D * O) / H)**(1/2)\n",
    "print('The economic order quantity is: ', EOQ)"
   ]
  }
 ],
 "metadata": {
  "kernelspec": {
   "display_name": "Python 3 (ipykernel)",
   "language": "python",
   "name": "python3"
  },
  "language_info": {
   "codemirror_mode": {
    "name": "ipython",
    "version": 3
   },
   "file_extension": ".py",
   "mimetype": "text/x-python",
   "name": "python",
   "nbconvert_exporter": "python",
   "pygments_lexer": "ipython3",
   "version": "3.8.8"
  },
  "toc": {
   "base_numbering": 1,
   "nav_menu": {},
   "number_sections": true,
   "sideBar": true,
   "skip_h1_title": false,
   "title_cell": "Table of Contents",
   "title_sidebar": "Contents",
   "toc_cell": false,
   "toc_position": {},
   "toc_section_display": true,
   "toc_window_display": true
  }
 },
 "nbformat": 4,
 "nbformat_minor": 1
}
