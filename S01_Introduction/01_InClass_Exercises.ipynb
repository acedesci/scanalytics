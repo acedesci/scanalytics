{
 "cells": [
  {
   "cell_type": "markdown",
   "metadata": {
    "id": "JIu64D3PUvuH"
   },
   "source": [
    "# S01 In-class Exercises: Python Basics"
   ]
  },
  {
   "cell_type": "markdown",
   "metadata": {
    "id": "xTl2iP2WUvuM"
   },
   "source": [
    "---\n",
    "## Instructions\n",
    "\n",
    "Most of the exercises presented here allows you to practice basic Python programming for some applications in Operations Management and Logistics. \n",
    "\n",
    "For each exercise, you have a code cell for the response underneath it, where you should write your answer between the lines containing `### start your code here ###`  and `### end your code here ###`. Your code can contain one or more lines and you can execute this cell in order to complete the exercise. To execute the cell, you can type `Shift+Enter` or press the play button in the toolbar above. Your results will appear right below this response cell.\n",
    "\n",
    "**NOTE:** Please pay attention to the variable name of the output you need to provide under each question. You must use the same variable name for the output so that the result can be printed out correctly."
   ]
  },
  {
   "cell_type": "markdown",
   "metadata": {
    "id": "9vouvkz_UvuN"
   },
   "source": [
    "---\n",
    "##  Variable Declaration and Operations"
   ]
  },
  {
   "cell_type": "markdown",
   "metadata": {
    "id": "sNGxhiKwUvuN"
   },
   "source": [
    "Values and variables can be manipulated using operators. Operators are symbols that perform operations on values. You can look at [this page](https://www.w3schools.com/python/python_operators.asp) for more information about operators in general.\n",
    "\n",
    "The arithmetic operators are the most common type of operators, so we will see how to use them to manipulate numbers. In these exercises you will use arithmetic operators with numeric values to perform common mathematical operations.\n",
    "\n",
    "For each exercise, use the arithmetic operators (`+`, `-`,` * `,` / `)."
   ]
  },
  {
   "cell_type": "markdown",
   "metadata": {
    "id": "XNyurkD_UvuO"
   },
   "source": [
    "---\n",
    "### Exercise 1: Total Demand\n",
    "The table below presents information about the order placed by customers for next week. Create a variable for each client ID with the name that begins with `demand_` and ends with the ClientID (e.g., `demand_X15`), compute the total demand and assign this value to the variable `total_demand`.\n",
    "\n",
    "| ClientID | Date | Demand (units)| \n",
    "| :------: | :----: | :-------------: |\n",
    "| X15       | 06-12-2020 | 560 |\n",
    "| AO5       | 06-12-2020 | 1152 |\n",
    "| ZI5       | 08-12-2020 | 32 |\n",
    "| T65       | 10-12-2020 | 194 |"
   ]
  },
  {
   "cell_type": "code",
   "execution_count": null,
   "metadata": {
    "id": "XIt-PAVIUvuO"
   },
   "outputs": [],
   "source": [
    "### start your code here ###\n",
    "\n",
    "### end your code here ####\n",
    "print('The total demand is: ', total_demand)"
   ]
  },
  {
   "cell_type": "markdown",
   "metadata": {
    "id": "UAH_fDBzUvuQ"
   },
   "source": [
    "### Exercise 2: Euclidean Distance\n",
    "\n",
    "Compute the Euclidian distance between a warehouse and a client $d(W,C)$, given the coordinates $W=(2.1, 15.3)$ for the warehouse and $C=(12.4, 1.7)$. Assign this value to variable `euc_dist`.\n",
    "\n",
    "**NOTE:** the Euclidian distance between two points $(x_1, y_1)$ and $(x_2, y_2)$ is equal to $\\sqrt{(x_2-x_1)^2+(y_2-y_1)^2}$ (also see https://en.wikipedia.org/wiki/Euclidean_distance)\n",
    "\n",
    "**HINT:** The power operator in Python 3 is **. You can refer to the references https://www.educative.io/edpresso/power-operator-in-python and https://docs.python.org/3/reference/expressions.html#the-power-operator for more detail.\n"
   ]
  },
  {
   "cell_type": "markdown",
   "metadata": {
    "id": "H5ATL1niUvuQ"
   },
   "source": [
    "<div>\n",
    "<img  src=\"attachment:Euclidean.png\" width=\"600\">    \n",
    "</div>\n"
   ]
  },
  {
   "cell_type": "code",
   "execution_count": null,
   "metadata": {
    "id": "Vt0eef2WUvuR"
   },
   "outputs": [],
   "source": [
    "### start your code here ###\n",
    "\n",
    "### end your code here ####\n",
    "print('The Euclidian distance between the warehouse and the client is: ', euc_dist)"
   ]
  },
  {
   "cell_type": "markdown",
   "metadata": {
    "id": "29DWMZSCUvuR"
   },
   "source": [
    "### Exercise 3: Total Costs\n",
    "Based on the estimation of unit acquisition cost, order quantity, safety stock, annual demand, unit ordering cost, and annual inventory holding cost of a unit, please calculate the total annual cost of procurement using the information below. The total annual cost consists of the annual acquisition cost, total ordering cost, and annual holding cost, and can be formally expressed as follows:\n",
    "\n",
    "$$TC=PD + O\\left(\\frac{D}{Q}\\right) + H\\left(\\frac{Q}{2}+SS\\right)$$\n",
    "\n",
    "- $TC$: total annual cost (required output);\n",
    "- $P$: purchase unit price (=$\\$5.6$);\n",
    "- $D$: annual demand (=$15000$ units);\n",
    "- $O$: fixed cost per order (=$\\$45$);\n",
    "- $Q$:  order quantity  (=$200$ units);\n",
    "- $H$: unit inventory holding cost per year  (=$\\$0.8$);\n",
    "- $SS$: safety stock (=$50$ units)."
   ]
  },
  {
   "cell_type": "code",
   "execution_count": null,
   "metadata": {
    "id": "8MujUD3BUvuR"
   },
   "outputs": [],
   "source": [
    "### start your code here ###\n",
    "\n",
    "### end your code here ####\n",
    "print('The total annual cost is: ', total_annual_cost)"
   ]
  }
 ],
 "metadata": {
  "colab": {
   "include_colab_link": true,
   "name": "01_InClass_Exercises.ipynb",
   "provenance": []
  },
  "kernelspec": {
   "display_name": "Python 3 (ipykernel)",
   "language": "python",
   "name": "python3"
  },
  "language_info": {
   "codemirror_mode": {
    "name": "ipython",
    "version": 3
   },
   "file_extension": ".py",
   "mimetype": "text/x-python",
   "name": "python",
   "nbconvert_exporter": "python",
   "pygments_lexer": "ipython3",
   "version": "3.8.8"
  },
  "toc": {
   "base_numbering": 1,
   "nav_menu": {},
   "number_sections": true,
   "sideBar": true,
   "skip_h1_title": false,
   "title_cell": "Table of Contents",
   "title_sidebar": "Contents",
   "toc_cell": false,
   "toc_position": {},
   "toc_section_display": true,
   "toc_window_display": true
  }
 },
 "nbformat": 4,
 "nbformat_minor": 1
}
