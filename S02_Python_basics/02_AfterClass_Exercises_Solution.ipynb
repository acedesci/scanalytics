{
  "nbformat": 4,
  "nbformat_minor": 0,
  "metadata": {
    "kernelspec": {
      "display_name": "Python 3",
      "language": "python",
      "name": "python3"
    },
    "language_info": {
      "codemirror_mode": {
        "name": "ipython",
        "version": 3
      },
      "file_extension": ".py",
      "mimetype": "text/x-python",
      "name": "python",
      "nbconvert_exporter": "python",
      "pygments_lexer": "ipython3",
      "version": "3.7.6"
    },
    "colab": {
      "name": "02_AfterClass_Exercises_Solution.ipynb",
      "provenance": [],
      "include_colab_link": true
    }
  },
  "cells": [
    {
      "cell_type": "markdown",
      "metadata": {
        "id": "view-in-github",
        "colab_type": "text"
      },
      "source": [
        "<a href=\"https://colab.research.google.com/github/acedesci/scanalytics/blob/master/S02_Python_basics/02_AfterClass_Exercises_Solution.ipynb\" target=\"_parent\"><img src=\"https://colab.research.google.com/assets/colab-badge.svg\" alt=\"Open In Colab\"/></a>"
      ]
    },
    {
      "cell_type": "markdown",
      "metadata": {
        "id": "IKYXKpZ8wY8N"
      },
      "source": [
        "# S2 After-class Exercises: Python basics and SC applications - Part I (Solution)"
      ]
    },
    {
      "cell_type": "markdown",
      "metadata": {
        "id": "pOrjKD2KwY8V"
      },
      "source": [
        "---\n",
        "## Instructions:\n",
        "\n",
        "Most of the exercises presented here allows you to practice basic Python programming for some applications in Operations Management and Logistics. \n",
        "\n",
        "For each exercise, you have a code cell for the response underneath it, where you should write your answer between the lines containing `### start your code here ###`  and `### end your code here ###`. Your code can contain one or more lines and you can execute this cell in order to complete the exercise. To execute the cell, you can type `Shift+Enter` or press the play button in the toolbar above. Your results will appear right below this response cell.\n",
        "\n",
        "**NOTE:** Please pay attention to the variable name of the output you would need to provide under each question. You must use the same variable name for the output so that the result can be printed out correctly."
      ]
    },
    {
      "cell_type": "markdown",
      "metadata": {
        "id": "X_qLKP1iwY8W"
      },
      "source": [
        "## Exercise 1: EOQ with discounts\n",
        "EOQ generally minimizes the total inventory cost and ordering cost. However, EOQ may not be optimal when discounts are factored into the calculation. To calculate the EOQ when discounts are involved, we need to perform the following steps:\n",
        "\n",
        "1. For each quantity range associated with a discount, calculate the quantity to optimal order Q* for that range based on the corresponding parameters using the EOQ equation;\n",
        "2. **If** Q* does not qualify for a discount, choose the smallest possible order size to get the discount and set Q* to that value, **otherwise** the value Q* remains unchanged;\n",
        "3. Calculate the total cost for each Q* from step 2;\n",
        "4. Select the Q* that gives the lowest total cost, which is calculated by. \n",
        "\n",
        "$$TC=PD + O\\left(\\frac{D}{Q}\\right) + H\\left(\\frac{Q}{2}\\right)$$\n",
        "\n",
        "- $TC$: total annual cost;\n",
        "- $P$: purchase cost per unit;\n",
        "- $D$: annual demand;\n",
        "- $O$: fixed cost per order;\n",
        "- $Q$:  order quantity (quantity $Q^*$ associated with a given discount);\n",
        "- $H$: unit inventory holding cost = $hP$ where $h$ is the inventory holding cost is given as % of the value of the product."
      ]
    },
    {
      "cell_type": "markdown",
      "metadata": {
        "id": "oi_jgQpQwY8W"
      },
      "source": [
        "#### Exercise 1.1: Functions\n",
        "\n",
        "Please create a function `total_cost` which return the calculation of the total cost based on the parameters provided to the function."
      ]
    },
    {
      "cell_type": "code",
      "metadata": {
        "id": "cRdqU4jXwY8X"
      },
      "source": [
        "### start your code here ###\n",
        "# defining a function to compute the total costs\n",
        "def total_cost(demand, acq_cost, order_cost, holding_cost, order_qty):\n",
        "    \"\"\"\n",
        "    Compute the total costs as the sum of the total adquisition costs, ordering costs and inventory costs.\n",
        "    Parameters:\n",
        "        demand: (number) annual demand,\n",
        "        acq_cost: (number) unit acquisition/purchase cost,\n",
        "        order_cost: (number) fixed ordering cost,\n",
        "        holding_cost: (number) unit inventory holding cost,\n",
        "        order_qty: (number) quantity to order.\n",
        "    Return:\n",
        "        (number) total costs\n",
        "    \"\"\"\n",
        "    return (acq_cost * demand) + order_cost * (demand / order_qty) + holding_cost * (order_qty/2)\n",
        "\n",
        "### end your code here ####"
      ],
      "execution_count": null,
      "outputs": []
    },
    {
      "cell_type": "markdown",
      "metadata": {
        "id": "-uO4aSa2wY8X"
      },
      "source": [
        "#### Exercise 1.2: Functions\n",
        "\n",
        "Create a function which computes the EOQ given the following parameters:  (i) annual demand, (ii) fixed cost per order, (iii) unit inventory holding cost."
      ]
    },
    {
      "cell_type": "code",
      "metadata": {
        "id": "Hlyx4y6YwY8Y"
      },
      "source": [
        "### start your code here ###\n",
        "# defining the EOQ function\n",
        "def EOQ(demand, order_cost, holding_cost):\n",
        "    \"\"\"\n",
        "    Compute the economic quantity to order in order to minimize the total costs\n",
        "    Parameters:\n",
        "        demand: (number) annual demand\n",
        "        order_cost: (number) unit ordering cost\n",
        "        holding_cost: (number different than 0) unit inventory cost\n",
        "    Return:\n",
        "        (number) optimal quantity to order\n",
        "    \"\"\"\n",
        "    return ((2 * demand * order_cost) / holding_cost) ** (1/2)\n",
        "\n",
        "### end your code here ####"
      ],
      "execution_count": null,
      "outputs": []
    },
    {
      "cell_type": "markdown",
      "metadata": {
        "id": "fEBxzT3SwY8Y"
      },
      "source": [
        "#### Exercise 1.3: Conditional statements \n",
        "Maka Inc. operates a chocolate shop in Montreal. The chocolate is ordered from a supplier in Denmark. Normally, cost for one unit of chocolate is $5.00, but a quantity discount is provided by the manufacturer according to the table below.\n",
        "\n",
        "| Order quantity |  Discount (\\%) | Discount price per unit ($\\$$) |\n",
        "| :-----------:  | :------:       | :--------------:     | \n",
        "| 1 - 1000           | 0             | $\\$5.00$   |  \n",
        "| 1001 - 2000        | 4             | $\\$4.80$   |  \n",
        "| 2001 - 3000        | 10             | $\\$4.50$   | \n",
        "| 3001 - 4000        | 12             | $\\$4.40$   | \n",
        "| 4001 - 5000       | 15             | $\\$4.25$   |\n",
        "\n",
        "Maka Inc.'s annual demand for chocolate is $10000$ units and the cost per order is $\\$50$. The unit inventory cost is estimated as $20\\%$ of the purchase price. \n",
        "\n",
        "Create a program which determines the optimal EOQ and the total costs considering the discount policy presented in the table above.\n",
        "\n",
        "**Hint:** make use of conditionals statements and the functions created in Exercises 1.1 and 1.2 to compute the EOQ and total costs for each discount. "
      ]
    },
    {
      "cell_type": "code",
      "metadata": {
        "id": "PoaKWrFXwY8Y",
        "outputId": "34e3ec0c-e7cb-4cb2-b8aa-58e6fd77d794"
      },
      "source": [
        "### start your code here ###\n",
        "\n",
        "# initializing Q and costs using the EOQ without discount\n",
        "bestQ = EOQ (10000, 50, 0.2 * 5)\n",
        "bestCost = total_cost(10000, 5, 50, 0.2 * 5, bestQ)\n",
        "\n",
        "\n",
        "# Computing EOQ and costs for discount 4% discount\n",
        "eoq = EOQ (10000, 50, 0.2 * 4.8)\n",
        "if 1001 <= eoq <= 2000:  # checking if 'eoq' qualifies for the 4% discount\n",
        "    Q = eoq\n",
        "else:\n",
        "    Q = 1001    # consider the smallest possible order size to get the discount of 4%\n",
        "cost = total_cost(10000, 4.8, 50, 0.2 * 4.8, Q)\n",
        "print(\"The order quantity with 0.04  discount is %f and the total cost is %f\" %(Q, cost))\n",
        "\n",
        "if cost < bestCost: # updating the best Q and best costs accordingly\n",
        "    bestQ = Q\n",
        "    bestCost = cost\n",
        "    \n",
        "# Computing EOQ and costs for discount 10% discount\n",
        "eoq = EOQ (10000, 50, 0.2 * 4.5)\n",
        "if 2001 <= eoq <= 3000: # checking if 'eoq' qualifies for the 10% discount\n",
        "    Q = eoq\n",
        "else:\n",
        "    Q = 2001       # consider the smallest possible order size to get the discount of 10%\n",
        "cost = total_cost(10000, 4.5, 50, 0.2 * 4.5, Q)\n",
        "print(\"The order quantity with 0.10  discount is %f and the total cost is %f\" %(Q, cost))\n",
        "\n",
        "if cost < bestCost: # updating the best Q and best costs accordingly\n",
        "    bestQ = Q\n",
        "    bestCost = cost\n",
        "    \n",
        "# Computing EOQ and costs for discount 12% discount\n",
        "eoq = EOQ (10000, 50, 0.2 * 4.4)\n",
        "if 3001 <= eoq <= 4000:  # checking if 'eoq' qualifies for the 12% discount\n",
        "    Q = eoq\n",
        "else:\n",
        "    Q = 3001    # consider the smallest possible order size to get the discount of 12%\n",
        "cost = total_cost(10000, 4.4, 50, 0.2 * 4.4, Q)\n",
        "print(\"The order quantity with 0.12  discount is %f and the total cost is %f\" %(Q, cost))\n",
        "\n",
        "if cost < bestCost: # updating the best Q and best costs accordingly\n",
        "    bestQ = Q\n",
        "    bestCost = cost\n",
        "    \n",
        "# Computing EOQ and costs for discount 15% discount\n",
        "eoq = EOQ (10000, 50, 0.2 * 4.25)\n",
        "if 4001 <= eoq <= 5000:  # checking if 'eoq' qualifies for the 15% discount\n",
        "    Q = eoq\n",
        "else:\n",
        "    Q = 4001  # consider the smallest possible order size to get the discount of 15%\n",
        "cost = total_cost(10000, 4.25, 50, 0.2 * 4.25, Q)\n",
        "print(\"The order quantity with 0.15  discount is %f and the total cost is %f\" %(Q, cost))\n",
        "if cost < bestCost: # updating the best Q and best costs accordingly\n",
        "    bestQ = Q\n",
        "    bestCost = cost\n",
        "\n",
        "\n",
        "### end your code here ####   \n",
        "   \n",
        "print(\"The optimal EOQ with discounts is:\", bestQ ,\" and the total cost is :\", bestCost)"
      ],
      "execution_count": null,
      "outputs": [
        {
          "output_type": "stream",
          "text": [
            "The order quantity with 0.04  discount is 1020.620726 and the total cost is 48979.795897\n",
            "The order quantity with 0.10  discount is 2001.000000 and the total cost is 46150.325062\n",
            "The order quantity with 0.12  discount is 3001.000000 and the total cost is 45487.051130\n",
            "The order quantity with 0.15  discount is 4001.000000 and the total cost is 44325.393758\n",
            "The optimal EOQ with discounts is: 4001.000000 and the toal costs is : 44325.393758\n"
          ],
          "name": "stdout"
        }
      ]
    },
    {
      "cell_type": "markdown",
      "metadata": {
        "id": "A5hY2T2o2yx0"
      },
      "source": [
        "## Exercise 2: Bass diffusion model\r\n",
        "\r\n",
        "Please refer again to the detail of the Bass diffusion model in lecture. We have seen the calculation of the probability that an individual adopted (i.e., bought the product) at time $t$: $f(t)$. Another important number is the *cumulative* probability of the purchase by an individual from the product introduction (period 0) to period $t$ which is represented by $F(t)$ (recall that $f(t) = \\frac{d}{dt}F(t)$). \r\n",
        "\r\n",
        "Given the parameters $p$ and $q$, we can also calculate $F(t)$ using the following function: \r\n",
        "\r\n",
        "$$F(t) = \\frac{p(e^{(p+q)t}-1)}{pe^{(p+q)t}+q} $$\r\n",
        "\r\n",
        "Consequently, the total cumulative demand $CD$ can be calculated as $CD = M\\times F(t)$"
      ]
    },
    {
      "cell_type": "markdown",
      "metadata": {
        "id": "JBnuOyFU9SXx"
      },
      "source": [
        "Given a value of $M$, $p$ and $q$, we want to determine the *cumulative* number of adoptions using the Bass model above for years 1 to 5 for the following cases:\r\n",
        "\r\n",
        "* Product 1: $M_1=1000$, $q_1 = 0.40$, and $p_1 = 0.10$\r\n",
        "* Product 2: $M_2=1000$, $q_2 = 0.10$, and $p_2 = 0.40$\r\n",
        "\r\n",
        "Please determine the function to calculate $F(t)$ and $CD$ using `for` or `while` loops. Please print out the results in the following format:\r\n",
        "`\"Year[%t%]: F(t) = %Ft%, Cumulative N. of adoptions at t = %CD%\")` where the `%text%` represent the corresponding output variable from the calculation.\r\n",
        "\r\n",
        "\r\n",
        "<b>Hint 1:</b> You can also use the `range()` funtion in the `for` loop and the function you created in Exercise 2.1. Check [this page](https://www.w3schools.com/python/ref_func_range.asp) to know more about the `range()` function. For example, if you want to create a sequence from 1 to 5, we can use the function `range(1, 6)` (see below)."
      ]
    },
    {
      "cell_type": "code",
      "metadata": {
        "colab": {
          "base_uri": "https://localhost:8080/"
        },
        "id": "PmnGsO4XwY8f",
        "outputId": "83e416eb-8906-4b76-f49d-5161456b6a9d"
      },
      "source": [
        "for i in range(1,6):\r\n",
        "  print(i)"
      ],
      "execution_count": 4,
      "outputs": [
        {
          "output_type": "stream",
          "text": [
            "1\n",
            "2\n",
            "3\n",
            "4\n",
            "5\n"
          ],
          "name": "stdout"
        }
      ]
    },
    {
      "cell_type": "markdown",
      "metadata": {
        "id": "aPZXuK83-xA1"
      },
      "source": [
        "<b>Hint 2:</b> Please first define the function to calculate F(t) and then call this function in the loop."
      ]
    },
    {
      "cell_type": "code",
      "metadata": {
        "id": "ncHUxAKO9u0R"
      },
      "source": [
        "# Function to calculate F(t)\r\n",
        "### start your code here ###\r\n",
        "\r\n",
        "import math\r\n",
        "def Bass_cumulative_probability_Ft(p, q, t):\r\n",
        "    return (p*(math.exp((p+q)*t)-1))/(p*math.exp((p+q)*t)+q)\r\n",
        "\r\n",
        "### end your code here #### \r\n"
      ],
      "execution_count": 12,
      "outputs": []
    },
    {
      "cell_type": "code",
      "metadata": {
        "colab": {
          "base_uri": "https://localhost:8080/"
        },
        "id": "tm5tBn-t_tzC",
        "outputId": "07b01ea5-91d5-4e4a-878c-5f55d2984705"
      },
      "source": [
        "# Calculate F(t) for product 1\r\n",
        "M_product_1 = 1000\r\n",
        "q_product_1 = 0.4\r\n",
        "p_product_1 = 0.1\r\n",
        "\r\n",
        "### start your code here ###\r\n",
        "for t in range(1,6):\r\n",
        "  Ft_product_1 = Bass_cumulative_probability_Ft(p_product_1, q_product_1, t)\r\n",
        "  print(\"Year[\",t,\"]: F(t) = \",Ft_product_1,\", N. of adoptions at t = \", M_product_1*Ft_product_1)\r\n",
        "### end your code here #### "
      ],
      "execution_count": 13,
      "outputs": [
        {
          "output_type": "stream",
          "text": [
            "Year[ 1 ]: F(t) =  0.11484391592572289 , N. of adoptions at t =  114.8439159257229\n",
            "Year[ 2 ]: F(t) =  0.2557620939896121 , N. of adoptions at t =  255.76209398961208\n",
            "Year[ 3 ]: F(t) =  0.4104947778048283 , N. of adoptions at t =  410.4947778048283\n",
            "Year[ 4 ]: F(t) =  0.5609820553549241 , N. of adoptions at t =  560.9820553549241\n",
            "Year[ 5 ]: F(t) =  0.6910241392864612 , N. of adoptions at t =  691.0241392864613\n"
          ],
          "name": "stdout"
        }
      ]
    },
    {
      "cell_type": "code",
      "metadata": {
        "colab": {
          "base_uri": "https://localhost:8080/"
        },
        "id": "2EoGaKbV_7Fl",
        "outputId": "93b48b25-ca56-456a-98cd-b08bc9be07dc"
      },
      "source": [
        "# Calculate F(t) for product 2\r\n",
        "M_product_2 = 1000\r\n",
        "q_product_2 = 0.1\r\n",
        "p_product_2 = 0.4\r\n",
        "\r\n",
        "### start your code here ###\r\n",
        "for t in range(1,6):\r\n",
        "  Ft_product_2 = Bass_cumulative_probability_Ft(p_product_2, q_product_2, t)\r\n",
        "  print(\"Year[\",t,\"]: F(t) = \",Ft_product_2,\", N. of adoptions at t = \", M_product_2*Ft_product_2)\r\n",
        "### end your code here #### "
      ],
      "execution_count": 15,
      "outputs": [
        {
          "output_type": "stream",
          "text": [
            "Year[ 1 ]: F(t) =  0.34166219166066475 , N. of adoptions at t =  341.66219166066475\n",
            "Year[ 2 ]: F(t) =  0.5788809579955129 , N. of adoptions at t =  578.8809579955129\n",
            "Year[ 3 ]: F(t) =  0.7358237235333193 , N. of adoptions at t =  735.8237235333193\n",
            "Year[ 4 ]: F(t) =  0.8363672181730698 , N. of adoptions at t =  836.3672181730698\n",
            "Year[ 5 ]: F(t) =  0.8994570193276596 , N. of adoptions at t =  899.4570193276596\n"
          ],
          "name": "stdout"
        }
      ]
    }
  ]
}