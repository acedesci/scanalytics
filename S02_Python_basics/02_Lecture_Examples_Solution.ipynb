{
  "nbformat": 4,
  "nbformat_minor": 0,
  "metadata": {
    "kernelspec": {
      "display_name": "Python 3",
      "language": "python",
      "name": "python3"
    },
    "language_info": {
      "codemirror_mode": {
        "name": "ipython",
        "version": 3
      },
      "file_extension": ".py",
      "mimetype": "text/x-python",
      "name": "python",
      "nbconvert_exporter": "python",
      "pygments_lexer": "ipython3",
      "version": "3.7.6"
    },
    "colab": {
      "name": "02_Lecture_Examples_Solution.ipynb",
      "provenance": [],
      "include_colab_link": true
    }
  },
  "cells": [
    {
      "cell_type": "markdown",
      "metadata": {
        "id": "view-in-github",
        "colab_type": "text"
      },
      "source": [
        "<a href=\"https://colab.research.google.com/github/acedesci/scanalytics/blob/master/S02_Python_basics/02_Lecture_Examples_Solution.ipynb\" target=\"_parent\"><img src=\"https://colab.research.google.com/assets/colab-badge.svg\" alt=\"Open In Colab\"/></a>"
      ]
    },
    {
      "cell_type": "markdown",
      "metadata": {
        "id": "uFfgGurXPCpB"
      },
      "source": [
        "# S2 - Python Basics and Supply Chain Examples - Part I"
      ]
    },
    {
      "cell_type": "markdown",
      "metadata": {
        "id": "PCLxQfghU9Jv"
      },
      "source": [
        "Programming topics covered in this section:\r\n",
        "*    Python functions\r\n",
        "*    Condition statements\r\n",
        "*    Iteration\r\n",
        "\r\n",
        "Supply chain examples include:\r\n",
        "*    EOQ with discounts\r\n",
        "*    Bass diffusion model"
      ]
    },
    {
      "cell_type": "markdown",
      "metadata": {
        "id": "W24piI9sPCpD"
      },
      "source": [
        "---\n",
        "## 1. Python functions"
      ]
    },
    {
      "cell_type": "markdown",
      "metadata": {
        "id": "dCv87JLZPCpE"
      },
      "source": [
        "A function is a block to transform [input parameters] -> [output]. We often use a function when a certain operation is used more than once or used in multiple processes. An output can also be returned from a function.\n",
        "\n",
        "A function usually include the following components:\n",
        "*   keyword `def`\n",
        "*   function name\n",
        "*   parentheses \n",
        "*   parameters (variables) or arguments (values) separated by a comma\n",
        "*   colon\n",
        "*   code of the function with indentation\n",
        "*   `return` statement\n",
        "\n",
        "For example, a function `square` can be written as follows: \n",
        "```\n",
        "def square(x):\n",
        "    y = x ** 2    \n",
        "    return y`\n",
        "```\n",
        "\n",
        "\n",
        "Calling a function can be done by indicating the function name and provide the required parameters/arguments.\n",
        "\n",
        "For example, to use the function `square` to calculate the squared value of 10 can be done as follows (this needs to be called strictly after the function is defined and run on Notebook). The following line of code will give the result `squared_value = 100`: \n",
        "```\n",
        "squared_value = square(10)\n",
        "```\n",
        "\n",
        "**NOTE:** please also see https://www.w3schools.com/python/python_functions.asp for more descriptions and examples.\n",
        "\n",
        "In this course, we will make use of function in particular when some operations or processes will be used multiple times or should be organized to avoid clutter."
      ]
    },
    {
      "cell_type": "markdown",
      "metadata": {
        "id": "kU7-GXNnUFMx"
      },
      "source": [
        "## `math` Module\r\n",
        "\r\n",
        "The `math` module provides access to several mathematical functions as permutation (`math.perm()`), square root (`math.sqrt()`), rounding  up and rounding down (`math.ceil()` and `math.floor()`, note that the normal rounding function `round()` can be called directly without using module `math`, see [this link](https://www.w3schools.com/python/ref_func_round.asp)).  You can look at [this link](https://docs.python.org/3/library/math.html) for more information about functions in the `math` module. \r\n",
        "\r\n",
        "In order to use the modules in Python to be able to use the pre-built functions, we can simply `import` the module using the module name prior to using it (typically we import at the beginning of the code), i.e., `import math` then we can call the function `math.sqrt()`."
      ]
    },
    {
      "cell_type": "markdown",
      "metadata": {
        "id": "mQeW-Ta_PCpF"
      },
      "source": [
        "### Example 1.1: EOQ function\n",
        "Using the annual demand $D$, the holding cost per unit $H$ and fixed ordering cost $O$, define a function which calculates the economic order quantity (EOQ).\n",
        "\n",
        "$$ EOQ=\\sqrt{\\frac{2DO}{H}}$$"
      ]
    },
    {
      "cell_type": "markdown",
      "metadata": {
        "id": "tkc-zSUmPCpF"
      },
      "source": [
        "Next, call this function to compute the EOQ assuming $D=500$ units per year, $S=\\$15$ per order, and $H=\\$1.2$ per unit held in inventory. \r\n",
        "\r\n",
        "**NOTE:** triple quotes `\"\"\"...\"\"\"` are often used for comments over multiple lines and, in practice, one often adds the descriptions of the parameters, arguments, and the return value of each function. "
      ]
    },
    {
      "cell_type": "code",
      "metadata": {
        "scrolled": true,
        "id": "BIP_x-KOPCpG",
        "colab": {
          "base_uri": "https://localhost:8080/"
        },
        "outputId": "c7a9fbc3-dab1-4998-fc7e-dae6ab38932c"
      },
      "source": [
        "# defining the EOQ function\n",
        "\n",
        "def EOQ(demand, order_cost, holding_cost):\n",
        "    \"\"\"\n",
        "    The text between \n",
        "    Compute the economic quantity to order in order to minimize the total costs\n",
        "    Parameters:\n",
        "        demand: (number) annual demand\n",
        "        order_cost: (number) unit ordering cost\n",
        "        holding_cost: (number different than 0) unit inventory cost\n",
        "    Return:\n",
        "        (number) optimal quantity to order\n",
        "    \"\"\"\n",
        "    return ((2 * demand * order_cost) / holding_cost) ** (1/2)\n",
        "\n",
        "# calculate EOQ using the function\n",
        "eoq_value=EOQ(demand=600, order_cost=15, holding_cost=1.2)\n",
        "\n",
        "# another compact way of calling the EOQ function (the sequence must be preserved)\n",
        "eoq_value = EOQ(600, 15, 1.2)  \n",
        "\n",
        "print('EOQ = ', eoq_value)"
      ],
      "execution_count": 1,
      "outputs": [
        {
          "output_type": "stream",
          "text": [
            "EOQ =  122.47448713915891\n"
          ],
          "name": "stdout"
        }
      ]
    },
    {
      "cell_type": "markdown",
      "metadata": {
        "id": "hyt7OwNrPCpH"
      },
      "source": [
        "### Example 1.2: EOQ rounded up\n",
        "Define a function which gives the EOQ as integer quantity (rounded up). Use the functions within  `math` module in Python."
      ]
    },
    {
      "cell_type": "code",
      "metadata": {
        "id": "2wvoINYrPCpH",
        "colab": {
          "base_uri": "https://localhost:8080/"
        },
        "outputId": "2a4c23a4-c095-42ba-894d-7b195f55734a"
      },
      "source": [
        "# defining EOQ function with rounded number\n",
        "\n",
        "import math   # importing math module\n",
        "\n",
        "def ceil_EOQ(demand, order_cost, holding_cost):\n",
        "    \"\"\"\n",
        "    Compute the economic quantity to order as an integer amount\n",
        "    Parameters:\n",
        "        demand: (number) annual demand\n",
        "        order_cost: (number) unit ordering cost\n",
        "        holding_cost: (number different than 0) unit inventory cost\n",
        "    Return:\n",
        "        optimal quantity to order rounded up to the next largest integer\n",
        "    \"\"\"\n",
        "    return  math.ceil(math.sqrt((2 * demand * order_cost) / holding_cost)) \n",
        "    # math.ceil(x) is a function to round the number up to the next largest integer.\n",
        "\n",
        "# calling the Round_EOQ function\n",
        "ceiling_eoq = ceil_EOQ(demand=600, order_cost=15, holding_cost=1.2)\n",
        "print('Integer EOQ  = ', ceiling_eoq, ',', type(ceiling_eoq))"
      ],
      "execution_count": 2,
      "outputs": [
        {
          "output_type": "stream",
          "text": [
            "Integer EOQ  =  123 , <class 'int'>\n"
          ],
          "name": "stdout"
        }
      ]
    },
    {
      "cell_type": "markdown",
      "metadata": {
        "id": "uYRC0f3vPCpJ"
      },
      "source": [
        "---\n",
        "## 2. Conditional Statements"
      ]
    },
    {
      "cell_type": "markdown",
      "metadata": {
        "id": "pwVqcLmlPCpK"
      },
      "source": [
        "Conditional expressions are tools for modeling the behavior of a program. The element tested is called a Boolean expression, that is, it can take a true value (`True`) or a false value (`False`). In this expression, several elements can be tested using comparison operations (`==`,`!=`,`>`, `<`,`>=`, `<=`) and Boolean operations (`and`, `or`, `not`). You can look at [this page](https://www.w3schools.com/python/python_conditions.asp) for more information.\r\n",
        "\r\n",
        "**NOTE:** the condition statement is equivalent to IF function in Excel. They are very important statements in programming."
      ]
    },
    {
      "cell_type": "markdown",
      "metadata": {
        "id": "9zV9udWEPCpL"
      },
      "source": [
        "### Example 2.1: EOQ with discounts\n",
        "EOQ generally minimizes the total inventory cost and ordering cost. However, EOQ may not be optimal when discounts are factored into the calculation. To calculate the EOQ when discounts are involved, we need to perform the following steps:\n",
        "\n",
        "1. For each quantity range associated with a discount, calculate the quantity to optimal order Q* for that range based on the corresponding parameters using the EOQ equation;\n",
        "2. **If** Q* does not qualify for a discount, choose the smallest possible order size to get the discount and set Q* to that value, **otherwise** the value Q* remains unchanged;\n",
        "3. Calculate the total cost for each Q* from step 2;\n",
        "4. Select the Q* that gives the lowest total cost, which is calculated by. \n",
        "\n",
        "$$TC=PD + O\\left(\\frac{D}{Q}\\right) + H\\left(\\frac{Q}{2}\\right)$$\n",
        "\n",
        "- $TC$: total annual cost;\n",
        "- $P$: purchase cost per unit;\n",
        "- $D$: annual demand;\n",
        "- $O$: fixed cost per order;\n",
        "- $Q$:  order quantity (quantity $Q^*$ associated with a given discount);\n",
        "- $H$: unit inventory holding cost = $hP$ where $h$ is the inventory holding cost is given as % of the value of the product."
      ]
    },
    {
      "cell_type": "markdown",
      "metadata": {
        "id": "nFCzgUvYPCpM"
      },
      "source": [
        "**Example:** Determine the <u>optimal order quantity</u> given the following information. Demand is forecast as $485$ units per year, the purchase cost is $\\$31$ per unit, the inventory holding cost is $\\%5$ of the purchase price and the ordering cost is $\\$280$. The supplier  is now offering $5\\%$ discount on orders above $500$ units.\r\n",
        "\r\n",
        "Please create a function `total_cost` which return the calculation of the total cost based on the parameters provided to the function."
      ]
    },
    {
      "cell_type": "code",
      "metadata": {
        "id": "9MBbAFCqPCpN"
      },
      "source": [
        "# defining a function total_cost(...) to compute the total costs\n",
        "\n",
        "def total_cost(demand, acq_cost, order_cost, holding_cost, order_qty):\n",
        "    \"\"\"\n",
        "    Compute the total costs as the sum of the total adquisition cost, ordering cost and inventory cost.\n",
        "    Parameters:\n",
        "        demand: (number) annual demand,\n",
        "        acq_cost: (number) unit acquisition/purchase cost,\n",
        "        order_cost: (number) fixed ordering cost,\n",
        "        holding_cost: (number) unit inventory holding cost,\n",
        "        order_qty: (number) quantity to order.\n",
        "    Return:\n",
        "        (number) total costs\n",
        "    \"\"\"\n",
        "    return (acq_cost * demand) + order_cost * (demand / order_qty) + holding_cost * (order_qty/2)"
      ],
      "execution_count": 3,
      "outputs": []
    },
    {
      "cell_type": "code",
      "metadata": {
        "colab": {
          "base_uri": "https://localhost:8080/"
        },
        "id": "_L-y-El3-5TO",
        "outputId": "d4429a1e-29c7-4038-be9d-d474e8c9d02a"
      },
      "source": [
        "# initialize parameters\r\n",
        "D = 485\r\n",
        "O = 280\r\n",
        "h = 0.05\r\n",
        "P = 31\r\n",
        "\r\n",
        "# EOQ 1: determining EOQ and total costs without discounts (discount 0%)\r\n",
        "eoq_no_discount = EOQ(demand=D, order_cost=O, holding_cost=h*P)\r\n",
        "if eoq_no_discount > 500:\r\n",
        "  eoq_no_discount = 500\r\n",
        "cost_no_discount = total_cost(demand=D, acq_cost=P, order_cost=O, holding_cost=h*P, order_qty= eoq_no_discount)\r\n",
        "\r\n",
        "print('The order quantity with no discount = ', eoq_no_discount, '; and the corresponding total cost = ', cost_no_discount) "
      ],
      "execution_count": 4,
      "outputs": [
        {
          "output_type": "stream",
          "text": [
            "The order quantity with no discount =  418.59981659290406 ; and the corresponding total cost =  15683.829715719003\n"
          ],
          "name": "stdout"
        }
      ]
    },
    {
      "cell_type": "code",
      "metadata": {
        "id": "STtI1nh_AFuu"
      },
      "source": [
        "# Set the optimal quantity and cost (these values will be updated afterward based on the optimal value)\r\n",
        "optimal_order_qty = eoq_no_discount\r\n",
        "optimal_total_cost = cost_no_discount"
      ],
      "execution_count": 5,
      "outputs": []
    },
    {
      "cell_type": "code",
      "metadata": {
        "id": "9oVc_054e2_5",
        "colab": {
          "base_uri": "https://localhost:8080/"
        },
        "outputId": "59cf3069-88b5-4c96-dad8-988991576357"
      },
      "source": [
        "# EOQ 2: calculating the EOQ  for discount 5%\r\n",
        "eoq_discount = EOQ(demand=D, order_cost=O, holding_cost=0.95*h*P)\r\n",
        "print('The EOQ using the parameters with 5% discount ', eoq_discount)\r\n",
        "\r\n",
        "# checking if 'eoq_discount' does not qualify for the 5% discount and set it eoq_discount to the lower feasible quantity in that case\r\n",
        "if eoq_discount <= 500:\r\n",
        "  eoq_discount = 501\r\n",
        "\r\n",
        "# computing the total costs with discount 5%\r\n",
        "cost_discount = total_cost(demand=D, acq_cost=P*0.95, order_cost=O, holding_cost=0.95*h*P, order_qty= eoq_discount)\r\n",
        "\r\n",
        "print('The order quantity with no discount = ', eoq_discount, '; and the corresponding total cost = ', cost_discount)"
      ],
      "execution_count": 6,
      "outputs": [
        {
          "output_type": "stream",
          "text": [
            "The EOQ using the parameters with 5% discount  429.47435001113547\n",
            "The order quantity with no discount =  501 ; and the corresponding total cost =  14923.169134231537\n"
          ],
          "name": "stdout"
        }
      ]
    },
    {
      "cell_type": "code",
      "metadata": {
        "id": "YLYsX-EVe5wA",
        "colab": {
          "base_uri": "https://localhost:8080/"
        },
        "outputId": "5e7c9739-e9fa-4b08-c87e-467402534fd4"
      },
      "source": [
        "# choosing the option with a lower cost\r\n",
        "if optimal_total_cost > cost_discount:\r\n",
        "  optimal_total_cost = cost_discount\r\n",
        "  optimal_order_qty = eoq_discount\r\n",
        "        \r\n",
        "print('The optimal order quantity = ', optimal_order_qty, '; and the corresponding total cost = ', optimal_total_cost)   "
      ],
      "execution_count": 7,
      "outputs": [
        {
          "output_type": "stream",
          "text": [
            "The optimal order quantity =  501 ; and the corresponding total cost =  14923.169134231537\n"
          ],
          "name": "stdout"
        }
      ]
    },
    {
      "cell_type": "markdown",
      "metadata": {
        "id": "jHDcX1-5PCpS"
      },
      "source": [
        "---\n",
        "## 3. `for` and `while` Loops\n",
        "\n",
        "'for' and 'while' loops are also core programming components which you should effectively leverage. In this context, the loops are used to **iteratively** compute or perform operations. \n",
        "\n",
        "You can refer to [this link](https://www.w3schools.com/python/python_for_loops.asp) for the 'for' loops and [this link](https://www.w3schools.com/python/python_while_loops.asp) for the 'while' loops for more examples.\n",
        "\n",
        "### Example 3.1: Bass diffusion model\n",
        "\n",
        "Bass diffusion model is one of the most widely adopted models to predict demand (or customer base) over a product life cycle. This model is particularly useful when a new product will be introduced to the market. The background of the model is provided below. \n",
        "\n",
        "<blockquote>\n",
        "  <p> <b>Brief description of the model:</b> In this model, the cumulative number of adoptors (people who bought/adopted the product) $S(t)$ from the beginning (time 0) to time $t$ is described by $S(t) = m\\times F(t)$ where $m$ is the market size (the estimated total number of potential customers) and $F(t)$ is the <i>cumulative</i> probability that an individual (potential customer) has already adopted the product by time $t$ (which needs to be calculated). In other words, $F(t)$ represents the portion of potential market $m$ that have adopted by time t. Thus, the value $1 - F(t)$ represents the portion of $m$ that have <i>not yet</i> adopted the product by time $t$.\n",
        "<br /> \n",
        "Consequently, we can also write $f(t) = \\frac{d}{dt}F(t)$ where $f(t)$ is the probability that an individual adopts the product at time $t$. \n",
        "<br /> \n",
        "Bass's model, proposed by Frank Bass, is described as follows:\n",
        "<br /> \n",
        "$$\\frac{f(t)}{1-F(t)} = \\frac{\\frac{d}{dt}F(t)}{1-F(t)} = p + qF(t)$$\n",
        "where \n",
        "<br /> \n",
        "* $p$ is the coefficiant of innovation\n",
        "<br /> \n",
        "* $q$ is the coefficient of imitation\n",
        "<br /> \n",
        "which indicates that the rate of adoptions for those who have not adopted prior to time $t$ is equal to $p+qF(t)$. One can observe that $p$ is *not* associated with the overall market status (which is captured by $F(t)$) and represents the the rate of adoptions from an individual which is *independent* of the others, whereas $q$ is associated with the market status $F(t)$ and represents the adoption influenced by other adoptors (by imitation). These values $p$ and $q$ are used by marketers/planners to describe the behavior of the customer base for their new product. \n",
        "<br /> \n",
        "<i><b>Note:</b> In practice, values of $p$ and $q$ are estimated using a regression technique applied to the *similar* products already sold in the market (where data is already available). In this example, we assume that $m$, $p$ and $q$ are already available for the calculation. We will revisit the parameter estimation ($p$, $q$ and $m$) of this model from sales data in a later session.</i>\n",
        "<br /> \n",
        "Based on the derivative of the Bass diffussion function above (detail omitted here), we can obtain $F(t)$ as a function of $p$ and $q$ as follows:\n",
        "\n",
        "$$F(t) = \\frac{1-e^{-(p+q)t}}{1+\\frac{q}{p}e^{-(p+q)t}} $$\n",
        "\n",
        "Consequently, the total cumulative adoptors (demand) $S(t)$ up to $t$ can be calculated as $S(t) = m\\times F(t)$. More details on the Bass diffusion model can be found on [this link](https://srdas.github.io/MLBook/productForecastingBassModel.html) and [this link](https://en.wikipedia.org/wiki/Bass_diffusion_model).\n",
        "<br /> \n",
        "<b>Reference</b>: Bass, F. M. (1969). A new product growth for model consumer durables. Management science, 15(5), 215-227.\n",
        "</p> \n",
        "</blockquote>\n"
      ]
    },
    {
      "cell_type": "markdown",
      "metadata": {
        "id": "1A_UHoYE5VpK"
      },
      "source": [
        "Given a value of $m$, $p$ and $q$, we want to determine the number of adoptions using the Bass model above for years 1 to 5 for the following cases:\r\n",
        "\r\n",
        "* Product 1: $m_1=1000$, $q_1 = 0.40$, and $p_1 = 0.10$\r\n",
        "* Product 2: $m_2=1000$, $q_2 = 0.10$, and $p_2 = 0.40$\r\n",
        "\r\n",
        "First, we determine the function to calculate $F(t)$"
      ]
    },
    {
      "cell_type": "code",
      "metadata": {
        "scrolled": true,
        "id": "aOVNNIaRPCpT"
      },
      "source": [
        "import math\n",
        "def Bass_cumulative_probability_Ft(p, q, t):\n",
        "    return (1-math.exp(-(p+q)*t))/(1+(q/p)*math.exp(-(p+q)*t))\n"
      ],
      "execution_count": 8,
      "outputs": []
    },
    {
      "cell_type": "markdown",
      "metadata": {
        "id": "Jcglfsrw6Tzj"
      },
      "source": [
        "Next, we perform the calculations and print out the number of adoptions for each year using `for` loop:\r\n",
        "\r\n"
      ]
    },
    {
      "cell_type": "code",
      "metadata": {
        "id": "mS8rxYW76ks9",
        "colab": {
          "base_uri": "https://localhost:8080/"
        },
        "outputId": "56ba3fce-f0ab-4ead-9df5-fcb8bf2a47e2"
      },
      "source": [
        "m_product_1 = 1000\r\n",
        "q_product_1 = 0.4\r\n",
        "p_product_1 = 0.1\r\n",
        "\r\n",
        "\r\n",
        "print(\"Cumulative adoptions (demand) prediction for product 1\")\r\n",
        "# Note that [] defines a list which contains ordered values. \r\n",
        "# We will discuss in more detail the data structure in the next session\r\n",
        "for t in [1,2,3,4,5]:\r\n",
        "  Ft_product_1 = Bass_cumulative_probability_Ft(p_product_1, q_product_1, t)\r\n",
        "  print(\"Year[\",t,\"]: F(t) = \", Ft_product_1,\", Cumulative N. of adoptions until t = \", m_product_1*Ft_product_1)\r\n"
      ],
      "execution_count": 9,
      "outputs": [
        {
          "output_type": "stream",
          "text": [
            "Cumulative adoptions (demand) prediction for product 1\n",
            "Year[ 1 ]: F(t) =  0.1148439159257229 , Cumulative N. of adoptions until t =  114.84391592572291\n",
            "Year[ 2 ]: F(t) =  0.2557620939896121 , Cumulative N. of adoptions until t =  255.76209398961208\n",
            "Year[ 3 ]: F(t) =  0.4104947778048284 , Cumulative N. of adoptions until t =  410.4947778048284\n",
            "Year[ 4 ]: F(t) =  0.5609820553549241 , Cumulative N. of adoptions until t =  560.9820553549241\n",
            "Year[ 5 ]: F(t) =  0.6910241392864611 , Cumulative N. of adoptions until t =  691.0241392864611\n"
          ],
          "name": "stdout"
        }
      ]
    },
    {
      "cell_type": "code",
      "metadata": {
        "id": "zqdvu4ac-XGE",
        "colab": {
          "base_uri": "https://localhost:8080/"
        },
        "outputId": "c5a7124e-990b-42d4-8f39-fe7713cf26ed"
      },
      "source": [
        "m_product_2 = 1000\r\n",
        "q_product_2 = 0.1\r\n",
        "p_product_2 = 0.4\r\n",
        "\r\n",
        "print(\"Cumulative adoptions (demand) prediction for product 2\")\r\n",
        "for t in range(1,6):\r\n",
        "  Ft_product_2 = Bass_cumulative_probability_Ft(p_product_2, q_product_2, t)\r\n",
        "  print(\"Year[\",t,\"]: f(t) = \", Ft_product_2,\", Cumulative N. of adoptions until t = \", m_product_2*Ft_product_2)\r\n"
      ],
      "execution_count": 10,
      "outputs": [
        {
          "output_type": "stream",
          "text": [
            "Cumulative adoptions (demand) prediction for product 2\n",
            "Year[ 1 ]: f(t) =  0.3416621916606648 , Cumulative N. of adoptions until t =  341.6621916606648\n",
            "Year[ 2 ]: f(t) =  0.578880957995513 , Cumulative N. of adoptions until t =  578.880957995513\n",
            "Year[ 3 ]: f(t) =  0.7358237235333194 , Cumulative N. of adoptions until t =  735.8237235333194\n",
            "Year[ 4 ]: f(t) =  0.8363672181730698 , Cumulative N. of adoptions until t =  836.3672181730698\n",
            "Year[ 5 ]: f(t) =  0.8994570193276593 , Cumulative N. of adoptions until t =  899.4570193276593\n"
          ],
          "name": "stdout"
        }
      ]
    },
    {
      "cell_type": "markdown",
      "metadata": {
        "id": "70L-TrVsPCpU"
      },
      "source": [
        "### Example 3.2: Bass diffusion using `while` loop\n",
        "\n",
        "`while` loop must be defined with a condition and the loop continues until the condition is no longer met.\n",
        " \n",
        "Repeat Exercise 3.1 using a `while` loop."
      ]
    },
    {
      "cell_type": "code",
      "metadata": {
        "id": "8LpzY2R0PCpV",
        "colab": {
          "base_uri": "https://localhost:8080/"
        },
        "outputId": "0a7cafdd-981d-4757-c95c-1af8eeaf662f"
      },
      "source": [
        "t = 1 # set the initial value of t\n",
        "print(\"Cumulative adoptions (demand) prediction for product 1\")\n",
        "while t <= 5:\n",
        "  Ft_product_1 = Bass_cumulative_probability_Ft(p_product_1, q_product_1, t)\n",
        "  print(\"Year[\",t,\"]: F(t) = \", Ft_product_1,\", Cumulative N. of adoptions until t = \", m_product_1*Ft_product_1)\n",
        "  t = t + 1"
      ],
      "execution_count": 11,
      "outputs": [
        {
          "output_type": "stream",
          "text": [
            "Cumulative adoptions (demand) prediction for product 1\n",
            "Year[ 1 ]: F(t) =  0.1148439159257229 , Cumulative N. of adoptions until t =  114.84391592572291\n",
            "Year[ 2 ]: F(t) =  0.2557620939896121 , Cumulative N. of adoptions until t =  255.76209398961208\n",
            "Year[ 3 ]: F(t) =  0.4104947778048284 , Cumulative N. of adoptions until t =  410.4947778048284\n",
            "Year[ 4 ]: F(t) =  0.5609820553549241 , Cumulative N. of adoptions until t =  560.9820553549241\n",
            "Year[ 5 ]: F(t) =  0.6910241392864611 , Cumulative N. of adoptions until t =  691.0241392864611\n"
          ],
          "name": "stdout"
        }
      ]
    },
    {
      "cell_type": "code",
      "metadata": {
        "id": "VeEYIOJ_BboS",
        "colab": {
          "base_uri": "https://localhost:8080/"
        },
        "outputId": "246fe611-ead1-49aa-f735-0ca4d86da3ed"
      },
      "source": [
        "t = 1 # set the initial value of t\r\n",
        "print(\"Cumulative adoptions (demand) prediction for product 2\")\r\n",
        "while t <= 5:\r\n",
        "  Ft_product_2 = Bass_cumulative_probability_Ft(p_product_2, q_product_2, t)\r\n",
        "  print(\"Year[\",t,\"]: f(t) = \", Ft_product_2,\", Cumulative N. of adoptions until t = \", m_product_2*Ft_product_2)\r\n",
        "  t += 1 # this is equivalent to t = t + 1"
      ],
      "execution_count": 12,
      "outputs": [
        {
          "output_type": "stream",
          "text": [
            "Cumulative adoptions (demand) prediction for product 2\n",
            "Year[ 1 ]: f(t) =  0.3416621916606648 , Cumulative N. of adoptions until t =  341.6621916606648\n",
            "Year[ 2 ]: f(t) =  0.578880957995513 , Cumulative N. of adoptions until t =  578.880957995513\n",
            "Year[ 3 ]: f(t) =  0.7358237235333194 , Cumulative N. of adoptions until t =  735.8237235333194\n",
            "Year[ 4 ]: f(t) =  0.8363672181730698 , Cumulative N. of adoptions until t =  836.3672181730698\n",
            "Year[ 5 ]: f(t) =  0.8994570193276593 , Cumulative N. of adoptions until t =  899.4570193276593\n"
          ],
          "name": "stdout"
        }
      ]
    },
    {
      "cell_type": "code",
      "metadata": {
        "id": "C3V1XATYPCpW"
      },
      "source": [
        ""
      ],
      "execution_count": 12,
      "outputs": []
    }
  ]
}