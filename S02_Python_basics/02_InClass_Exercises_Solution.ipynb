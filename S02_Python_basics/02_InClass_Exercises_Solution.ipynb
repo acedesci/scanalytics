{
  "nbformat": 4,
  "nbformat_minor": 0,
  "metadata": {
    "kernelspec": {
      "display_name": "Python 3",
      "language": "python",
      "name": "python3"
    },
    "language_info": {
      "codemirror_mode": {
        "name": "ipython",
        "version": 3
      },
      "file_extension": ".py",
      "mimetype": "text/x-python",
      "name": "python",
      "nbconvert_exporter": "python",
      "pygments_lexer": "ipython3",
      "version": "3.7.6"
    },
    "colab": {
      "name": "02_InClass_Exercises_Solution.ipynb",
      "provenance": [],
      "include_colab_link": true
    }
  },
  "cells": [
    {
      "cell_type": "markdown",
      "metadata": {
        "id": "view-in-github",
        "colab_type": "text"
      },
      "source": [
        "<a href=\"https://colab.research.google.com/github/acedesci/scanalytics/blob/master/S02_Python_basics/02_InClass_Exercises_Solution.ipynb\" target=\"_parent\"><img src=\"https://colab.research.google.com/assets/colab-badge.svg\" alt=\"Open In Colab\"/></a>"
      ]
    },
    {
      "cell_type": "markdown",
      "metadata": {
        "id": "dusMrXrrgEQw"
      },
      "source": [
        "# S2 In-class Exercises: Python basics and SC applications - Part I (Solution)"
      ]
    },
    {
      "cell_type": "markdown",
      "metadata": {
        "id": "WS5Js8FsgEQ2"
      },
      "source": [
        "---\n",
        "## Instructions:\n",
        "\n",
        "Most of the exercises presented here allows you to practice basic Python programming for some applications in Operations Management and Logistics. \n",
        "\n",
        "For each exercise, you have a code cell for the response underneath it, where you should write your answer between the lines containing `### start your code here ###`  and `### end your code here ###`. Your code can contain one or more lines and you can execute this cell in order to complete the exercise. To execute the cell, you can type `Shift+Enter` or press the play button in the toolbar above. Your results will appear right below this response cell.\n",
        "\n",
        "**NOTE:** Please pay attention to the variable name of the output you would need to provide under each question. You must use the same variable name for the output so that the result can be printed out correctly."
      ]
    },
    {
      "cell_type": "markdown",
      "metadata": {
        "id": "QbXIY1UDgEQ3"
      },
      "source": [
        "---\n",
        "##  Exercise 1: Functions and `math` module"
      ]
    },
    {
      "cell_type": "markdown",
      "metadata": {
        "id": "TRWeE4hKgEQ4"
      },
      "source": [
        "### Exercise 1.1: Reorder Point System (ROP)\n",
        "The EOQ model answer the question \"how much to order?\". The Reorder Point (ROP) tells \"when\" to order. ROP is introduced as the inventory level that signals when it is time to place an order. For example, ROP=1000 means that a new order should be placed as soon as the inventory on hand reaches 1000 units. \n",
        "The ROP is introduced to take into account the *lead time*, i.e., the time between placement and receipt of an order.\n",
        "\n",
        "With the assumption of constant demand and fixed lead time, the ROP is computed as:\n",
        "\n",
        "$$ROP=dL,$$\n",
        "\n",
        "where $d$ is daily demand and $L$ is lead time (in days)."
      ]
    },
    {
      "cell_type": "markdown",
      "metadata": {
        "id": "leTuH751gEQ4"
      },
      "source": [
        "\n",
        "<div>\n",
        "  <img src=\"attachment:ROP-2.PNG\" width=\"700\">\n",
        "</div>"
      ]
    },
    {
      "cell_type": "markdown",
      "metadata": {
        "id": "FlFz2elDgEQ5"
      },
      "source": [
        "Create a function which return the ROP given two arguments: (i) the daily demand $d$ and (ii) the lead time in days $L$. Name this function as `ROP`. Next, call this function to compute the ROP for demand $d=450$ and $L=3$."
      ]
    },
    {
      "cell_type": "code",
      "metadata": {
        "id": "Y4PN7QLSgEQ5",
        "outputId": "3f80090c-af05-4e87-969b-58528fc3a4bc",
        "colab": {
          "base_uri": "https://localhost:8080/"
        }
      },
      "source": [
        "### start your code here ###\n",
        "def ROP(demand, leadtime):\n",
        "    \"\"\"\n",
        "    Computes the Reorder Point\n",
        "    Parameters:\n",
        "        demand: (number) daily demand\n",
        "        leadtime: (int number) lead time in days\n",
        "    Return:\n",
        "        ROP : (number) the reorder point\n",
        "    \n",
        "    \"\"\"\n",
        "    return demand * leadtime\n",
        "\n",
        "### end your code here ####\n",
        "\n",
        "# calling the ROP function assuming d=450 and leadtime=3\n",
        "print(\"The ROP is: \", ROP(450, 3))"
      ],
      "execution_count": 1,
      "outputs": [
        {
          "output_type": "stream",
          "text": [
            "The ROP is:  1350\n"
          ],
          "name": "stdout"
        }
      ]
    },
    {
      "cell_type": "markdown",
      "metadata": {
        "id": "xRhADX1HgEQ6"
      },
      "source": [
        "### Exercise 1.2: ROP with Safety Stock (SS)\n",
        "\n",
        "An important aspect to consider in the ROP system is the demand variation during the lead time. If actual demand during the lead time is superior to $d$, the inventory will run out before the next order arrives. In order to correctly calculate the ROP for this case, the safety stock level must be taken into account. \n",
        "<div>\n",
        "    <img src=\"attachment:ROPSs-2.png\" width=\"700\">\n",
        "</div>"
      ]
    },
    {
      "cell_type": "markdown",
      "metadata": {
        "id": "J0DtkYfMgEQ7"
      },
      "source": [
        "The ROP with this case is computed as follows:\n",
        "\n",
        "$$ROP \\,(\\text{with SS}) = \\bar{d}L +Ss,$$\n",
        "\n",
        "where:\n",
        "- $\\bar{d}$: average demand,\n",
        "- $L$: lead time,\n",
        "- $SS$: safety stock. \n",
        "\n",
        "One way to compute the safety stock  involves determining your service level,  the average  and the standard deviation of the demand. If demand is assumed to be normally distributed during the lead time, the safety stock can be  computed as: \n",
        "\n",
        "$$SS=Z\\sigma\\sqrt{L},$$\n",
        "\n",
        "where:\n",
        "- $Z$ coefficient from the normal distribution table corresponding to the desired service level,\n",
        "- $\\sigma$: standard deviation of the demand. \n",
        "\n",
        "Create a function named `safety_stock` which computes the safety stock as an integer amount (rounded up) given three arguments: (i) the lead time, (ii) the standard deviation of the demand, and (iii) the value $Z$. Call the `safety_stock` function and the `ROP` function created in Exercise 1.2 to compute the ROP with safety stock given the following situation: $\\bar{d}=450$,  $\\sigma=10$, $L=3$, and $Z=1.64$ (which corresponds to the service level of 95\\%). \n"
      ]
    },
    {
      "cell_type": "markdown",
      "metadata": {
        "id": "P4GaKeRYgEQ7"
      },
      "source": [
        "<b>Hint:</b> you can use the `math.sqrt` and `math.ceil` functions of the `math` module."
      ]
    },
    {
      "cell_type": "code",
      "metadata": {
        "id": "KqAMDXvegEQ7",
        "outputId": "3ccb361d-7e6c-4d5d-e073-aab2e36547c1",
        "colab": {
          "base_uri": "https://localhost:8080/"
        }
      },
      "source": [
        "import math     # importing math module\n",
        "### start your code here ###\n",
        "def safety_stock(leadtime, std, z_value):\n",
        "    \"\"\"\n",
        "    Computes the Reorder Point\n",
        "    Parameters:\n",
        "        leadtime: (int number) lead time in days\n",
        "        std: (number) standard deviation of the deily demand\n",
        "        z_value: (float number) coefficient of the normal distribution\n",
        "    Return: (number) safety stock\n",
        "    \n",
        "    \"\"\"\n",
        "    return math.ceil(z_value * std * math.sqrt(leadtime))\n",
        "\n",
        "\n",
        "### end your code here ####\n",
        "\n",
        "print('The ROP with safety stock is: ',  ROP(450, 3) + safety_stock(3, 10, 1.64))"
      ],
      "execution_count": 2,
      "outputs": [
        {
          "output_type": "stream",
          "text": [
            "The ROP with safety stock is:  1379\n"
          ],
          "name": "stdout"
        }
      ]
    },
    {
      "cell_type": "markdown",
      "metadata": {
        "id": "v61syZkhgEQ8"
      },
      "source": [
        "---\n",
        "## 2. Conditional Statements\n"
      ]
    },
    {
      "cell_type": "markdown",
      "metadata": {
        "id": "kpuBOID6gEQ8"
      },
      "source": [
        "### Exercise 2.1: Discount Policy\n",
        "\n",
        "Using conditional statements (`if`, `elif`), comparison operations (`==`,`!=`,`>`, `<`,`>=`, `<=`) and/or Boolean operations (`and`, `or`, `not`), create a function which takes as argument the quantity ordered by a client and returns the discount to be applied. The discounts are determined following the table below.\n",
        "\n",
        "| Order quantity | Discount to apply |\n",
        "| :------------: | :---------------: |\n",
        "|  1 - 499       |               0 % |\n",
        "| 500 - 999      |               4 % |\n",
        "| 1000 - 1499    |               6 % |\n",
        "| 1500 - 1999    |               9 % |\n",
        "| 2000 - other        |               12 %|\n"
      ]
    },
    {
      "cell_type": "code",
      "metadata": {
        "id": "xTbhsqcPgEQ8",
        "outputId": "42bf893e-3995-47cd-d09f-9f047483190a",
        "colab": {
          "base_uri": "https://localhost:8080/"
        }
      },
      "source": [
        "### start your code here ###\n",
        "def discount_to_apply(qty):\n",
        "    \"\"\"\n",
        "    Determine the discount to be applied.\n",
        "    Parameter:\n",
        "        qty: (positive number) quantity ordered by a client\n",
        "    Return: (float number) discount rate\n",
        "    \n",
        "    \"\"\"\n",
        "    if qty >= 2000:\n",
        "        return 0.12\n",
        "    elif 1500 <= qty < 2000:\n",
        "        return 0.09\n",
        "    elif 1000 <= qty < 1500:\n",
        "        return 0.06\n",
        "    elif 500 <= qty < 1000:\n",
        "        return 0.04\n",
        "    else:\n",
        "        return 0\n",
        "### end your code here ####\n",
        "\n",
        "# replace 'function_name' by the name of your function to know the discount factor for a order qty = 1365\n",
        "print('The discount of an order of %d units is: %f' %(1365, discount_to_apply(1365)))"
      ],
      "execution_count": 3,
      "outputs": [
        {
          "output_type": "stream",
          "text": [
            "The discount of an order of 1365 units is: 0.060000\n"
          ],
          "name": "stdout"
        }
      ]
    },
    {
      "cell_type": "markdown",
      "metadata": {
        "id": "hH_pPW-TgEQ_"
      },
      "source": [
        "---\n",
        "## 3. `for` and `while` loops\n"
      ]
    },
    {
      "cell_type": "markdown",
      "metadata": {
        "id": "-gvGvBU3gEQ_"
      },
      "source": [
        "### Exercise 3.1: Average demand\n",
        "Compute the monthly average demand considering the data below.\n",
        "\n",
        "| Month | January | February | March | April | June | July | August | September | October | November | December|\n",
        "| :---: | :---:   | :---:   | :---:  | :---: | :---:| :---: | :---: | :---:    | :---:    | :---:    | :---:   |\n",
        "| **Demand** | 12530  | 2100    |  1956  | 1523 |  1896 | 956   | 998   |   1632    | 1563   | 2531      | 2100 |\n",
        "\n",
        "\n",
        "Please calculate arithmetic mean and geometric mean of this demand data using `for` or `while` loop.\n",
        "\n",
        "**HINT:** The arithmetic mean for data $i = 1,...,n$ is equal to $A = \\frac{\\sum_{i=1}^n{x_i}}{n}$ whereas the geomatric mean is equal to $G = \\sqrt[n]{x_1x_2\\cdot\\cdot\\cdot x_n}$\n"
      ]
    },
    {
      "cell_type": "code",
      "metadata": {
        "colab": {
          "base_uri": "https://localhost:8080/"
        },
        "id": "DD4aQUaKgEQ_",
        "outputId": "adc5a9e0-d1fa-4794-d04b-62165a4a3f4e"
      },
      "source": [
        "demands = [12530, 2100, 1956, 1523, 1896, 956, 998, 1632, 1563, 2531, 2100]\n",
        "\n",
        "### start your code here ###\n",
        "cumulative_demand = 0\n",
        "product_demand = 1\n",
        "for i in [12530, 2100, 1956, 1523, 1896, 956, 998, 1632, 1563, 2531, 2100]:\n",
        "    cumulative_demand += i\n",
        "    product_demand = product_demand*i\n",
        "\n",
        "a_mean = cumulative_demand/11\n",
        "g_mean = product_demand**(1/11)\n",
        "\n",
        "### end your code here ####\n",
        "\n",
        "# printing results\n",
        "print('Arithmatic mean demand is: ', a_mean)  \n",
        "print('Geomatric mean demand is: ', g_mean) "
      ],
      "execution_count": 4,
      "outputs": [
        {
          "output_type": "stream",
          "text": [
            "Arithmatic mean demand is:  2707.7272727272725\n",
            "Geomatric mean demand is:  1988.5311810717162\n"
          ],
          "name": "stdout"
        }
      ]
    },
    {
      "cell_type": "markdown",
      "metadata": {
        "id": "KqquM-ozgEQ-"
      },
      "source": [
        "### Exercise 3.2: Depreciation of fleet\n",
        "A delivery truck is purchased by a company with a cost of $ \\$ 180,000$, a useful life of 5 years and a residual value of $\\$30000$. The rate of Depreciation is $20\\%$.  \n",
        "\n",
        "Create a function which returns the value of the truck at the end of a specific year which takes the parameters as indicated in comment in the code cell below.\n"
      ]
    },
    {
      "cell_type": "code",
      "metadata": {
        "id": "0NNe4JGMDM5g",
        "outputId": "8a6eb27c-13ee-47b0-b0ef-f4dee0e543ff",
        "colab": {
          "base_uri": "https://localhost:8080/"
        }
      },
      "source": [
        "# option 1 for loop\r\n",
        "### start your code here ###\r\n",
        "\r\n",
        "# define the function to compute the truck value at the end of the nth year after its purchase\r\n",
        "def truck_value(n, truck_cost, res_val, depr_rate):\r\n",
        "    \"\"\"\r\n",
        "    Compute the truck value at the end of the nth year after its purchase\r\n",
        "    Parameters:\r\n",
        "        n: (int number) years after the purchase\r\n",
        "        truck_cost: (number) value paid for the new truck\r\n",
        "        res_val: (number) value of the truck at the end of its useful life\r\n",
        "        depr_rate: (float number between 0 and 1) depreciation rate\r\n",
        "    Return: (number) value of the truck after n periods\r\n",
        "    \r\n",
        "    \"\"\"\r\n",
        "    current_val = truck_cost\r\n",
        "    for i in range(n+1): # iterate n times from 0 to n \r\n",
        "        current_val = current_val*(1 - depr_rate)\r\n",
        "        if i >= 5: current_val = res_val # if more than 5 years, then we take the residual value\r\n",
        "\r\n",
        "    return current_val\r\n",
        "\r\n",
        "# call the function to known the value of the truck after the 3rd year \r\n",
        "n_year = 3\r\n",
        "current_val = truck_value(n=n_year, truck_cost=180000, res_val=30000, depr_rate=0.2) \r\n",
        "### end your code here ####\r\n",
        "print(\"The current value of the truck after year\",n_year,\" is $\", current_val)"
      ],
      "execution_count": 5,
      "outputs": [
        {
          "output_type": "stream",
          "text": [
            "The current value of the truck after year 3  is $ 73728.0\n"
          ],
          "name": "stdout"
        }
      ]
    },
    {
      "cell_type": "code",
      "metadata": {
        "colab": {
          "base_uri": "https://localhost:8080/"
        },
        "id": "gYFjJuyFgEQ-",
        "outputId": "c780c7fe-b8e5-4e2a-bc85-c02a064c1e4c"
      },
      "source": [
        "# option 2: while loop\n",
        "\n",
        "### start your code here ###\n",
        "\n",
        "# define the function to compute the truck value at the end of the nth year after its purchase\n",
        "def truck_value(n, truck_cost, res_val, depr_rate):\n",
        "    \"\"\"\n",
        "    Compute the truck value at the end of the nth year after its purchase\n",
        "    Parameters:\n",
        "        n: (int number) years after the purchase\n",
        "        truck_cost: (number) value paid for the new truck\n",
        "        res_val: (number) value of the truck at the end of its useful life\n",
        "        depr_rate: (float number between 0 and 1) depreciation rate\n",
        "    Return: (number) value of the truck after n periods\n",
        "    \n",
        "    \"\"\"\n",
        "    current_val = truck_cost\n",
        "    i = 0\n",
        "    while i <= n:\n",
        "      current_val = current_val*(1 - depr_rate)\n",
        "      if n >= 5:\n",
        "        current_val = res_val\n",
        "      i += 1\n",
        "    return current_val\n",
        "\n",
        "# call the function to known the value of the truck after the 3rd year \n",
        "n_year = 3\n",
        "current_val = truck_value(n=n_year, truck_cost=180000, res_val=30000, depr_rate=0.2) \n",
        "### end your code here ####\n",
        "print(\"The current value of the truck after year\",n_year,\" is $\", current_val)"
      ],
      "execution_count": 6,
      "outputs": [
        {
          "output_type": "stream",
          "text": [
            "The current value of the truck after year 3  is $ 73728.0\n"
          ],
          "name": "stdout"
        }
      ]
    },
    {
      "cell_type": "code",
      "metadata": {
        "id": "fvAzkaScgERA"
      },
      "source": [
        ""
      ],
      "execution_count": 6,
      "outputs": []
    }
  ]
}