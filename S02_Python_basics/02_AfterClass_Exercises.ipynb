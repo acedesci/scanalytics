{
 "cells": [
  {
   "cell_type": "markdown",
   "metadata": {},
   "source": [
    "# S2 After-class Exercises: Functions, Conditional Statements, `for`  and `while` Loops"
   ]
  },
  {
   "cell_type": "markdown",
   "metadata": {},
   "source": [
    "---\n",
    "## Instructions:\n",
    "<div class=\"alert alert-block alert-warning\">\n",
    "\n",
    "> Most of the exercises presented here allows you to practice notions applied to Operations Management and Logistics. \n",
    ">\n",
    "> For each exercise, you have a response cell, where you should write your answer between the lines containing `### start your code here ###`  and `### end your code here ###`. You should write a piece of code in the response cell, which can consist of one or more lines, and execute this cell in order to complete the exercise. To execute the cell, you can type `Shift+Enter` or press the play button in the toolbar above. Your results will appear right below this response cell."
   ]
  },
  {
   "cell_type": "markdown",
   "metadata": {},
   "source": [
    "---\n",
    "## 1. EOQ with Discounts\n",
    "\n",
    "EOQ generally minimizes the total inventory cost and ordering cost. However, EOQ may not be optimal when discounts are factored into the calculation. To calculate the EOQ when discounts are involved, we need to perform the following steps:\n",
    "\n",
    "1. For each discount, calculate the quantity to order Q* using the EOQ equation;\n",
    "2. If Q* does not qualify for a discount, choose the smallest possible order size to get the discount;\n",
    "3. Calculate the total cost for each Q* or adjusted value from step 2;\n",
    "4. Select the Q* that gives the lowest total cost. \n",
    "\n",
    "<div class=\"alert alert-block alert-info\">  \n",
    "<b> EOQ equation: </b>  \n",
    "    \n",
    "$$ EOQ=\\sqrt{\\frac{2DS}{H}}$$\n",
    "\n",
    "<b> Total annual costs (TC): </b>     \n",
    "$$TC=PD + S\\left(\\frac{D}{Q}\\right) + H\\left(\\frac{Q}{2}\\right)$$\n",
    "\n",
    "- $P$: purchase cost per unit;\n",
    "- $D$: annual demand;\n",
    "- $S$: fixed cost per order;\n",
    "- $Q$:  order quantity;\n",
    "- $H$: unit inventory holding cost.\n",
    "\n"
   ]
  },
  {
   "cell_type": "markdown",
   "metadata": {},
   "source": [
    "### Exercise 1.1: Functions\n",
    "\n",
    "Create a function which return the total annual costs given the following parameters:  (i) annual demand, (ii) purchase cost per unit, (iii) fixed cost per order, (iv) unit inventory holding cost and (v) order quantity."
   ]
  },
  {
   "cell_type": "code",
   "execution_count": null,
   "metadata": {},
   "outputs": [],
   "source": [
    "### start your code here ###\n",
    "# defining a function to compute the total costs\n",
    "\n",
    "### end your code here ####"
   ]
  },
  {
   "cell_type": "markdown",
   "metadata": {},
   "source": [
    "### Exercise 1.2: Functions\n",
    "\n",
    "Create a function which computes the EOQ given the following parameters:  (i) annual demand, (ii) fixed cost per order, (iii) unit inventory holding cost."
   ]
  },
  {
   "cell_type": "code",
   "execution_count": null,
   "metadata": {},
   "outputs": [],
   "source": [
    "### start your code here ###\n",
    "# defining the EOQ function\n",
    "\n",
    "\n",
    "### end your code here ####"
   ]
  },
  {
   "cell_type": "markdown",
   "metadata": {},
   "source": [
    "### Exercise 1.3: Conditionals \n",
    "Maka Inc. operates a chocolate shop in Montreal. The chocolate is ordered from a supplier in Denmark. Normally, cost for one unit of chocolate is $5.00, but a quantity discount is provided by the manufacturer according to the table below.\n",
    "\n",
    "| Order quantity |  Discount (\\%) | Discount price per unit ($\\$$) |\n",
    "| :-----------:  | :------:       | :--------------:     | \n",
    "| 1 - 1000           | 0             | $\\$5.00$   |  \n",
    "| 1001 - 2000        | 4             | $\\$4.80$   |  \n",
    "| 2001 - 3000        | 10             | $\\$4.50$   | \n",
    "| 3001 - 4000        | 12             | $\\$4.40$   | \n",
    "| 4001 - 5000       | 15             | $\\$4.25$   |\n",
    "\n",
    "Maka Inc.'s annual demand for chocolate is $10000$ units and the cost per order is $\\$50$. The unit inventory cost is estimated as $20\\%$ of the purchase price. \n",
    "\n",
    "Create a program which determines the optimal EOQ and the total costs considering the discount policy presented in the table above.\n",
    "\n",
    "> **Hint:** make use of conditionals statements and the functions created in Exercises 1.1 and 1.2 to compute the EOQ and total costs for each discount. "
   ]
  },
  {
   "cell_type": "code",
   "execution_count": null,
   "metadata": {},
   "outputs": [],
   "source": [
    "### start your code here ###\n",
    "\n",
    "\n",
    "\n",
    "\n",
    "\n",
    "print('The optimal EOQ with discounts is: %f and the toal costs is : %f' %(bestQ, bestCost))\n",
    "\n",
    "### end your code here ####   \n",
    "  "
   ]
  },
  {
   "attachments": {
    "Exp.png": {
     "image/png": "[encoded data removed]"
    }
   },
   "cell_type": "markdown",
   "metadata": {},
   "source": [
    "---\n",
    "##  2. Double Exponential Smoothing\n",
    "\n",
    "Double exponential smoothing is used for situations where a trend already exists. This method works with two smoothing factors, $\\alpha$ and $\\beta$. The basic idea is that demand is normally overrated when a trend is positive and underrated when the trend\n",
    "is negative. It generally provides more accurate forecast compared to **Simple Exponential Smoothing** when historical data show that there is a trend, as in the example in the figure below.\n",
    "![Exp.png](attachment:Exp.png)"
   ]
  },
  {
   "cell_type": "markdown",
   "metadata": {},
   "source": [
    "<div class=\"alert alert-block alert-info\">\n",
    "    \n",
    "<b>Demand forecast using the Double Exponential Smoothing method:</b>\n",
    "    \n",
    "$$ F_{t+\\tau}= a_t + \\tau b_t $$\n",
    "   \n",
    "    \n",
    "Where:\n",
    "- $F_{t+\\tau}$ is the forecast for period $t+\\tau$,\n",
    "    \n",
    "- $a_t$ is the smoothed forecast at period $t$, \n",
    "    \n",
    "- $b_t$ is the smoothed trend parameter (slope) at period $t$, and\n",
    "    \n",
    "- $\\tau$ is the parameter which describes the number of periods for which we are making the forecast."
   ]
  },
  {
   "cell_type": "markdown",
   "metadata": {},
   "source": [
    "The smoothed forecast $a_t$ and  the smoothed trend parameter $b_t$ are computed  as follows:\n",
    "\n",
    "$$a_t=\\alpha D_t + (1-\\alpha)(a_{t-1}+b_{t-1})$$\n",
    "$$b_t=\\beta(a_t - a_{t-1})  + (1-\\beta)b_{t-1},$$\n",
    "\n",
    "where:\n",
    "\n",
    "- $D_t$ is the demand at period $t$,\n",
    "- $\\alpha$ is a smoothing constant between 0 and 1,\n",
    "- $\\beta$ is a smoothing constant to model the trend between 0 and 1."
   ]
  },
  {
   "cell_type": "markdown",
   "metadata": {},
   "source": [
    "---\n",
    "### Exercise 2.1: Functions\n",
    "Create a function which takes as input tree arguments ($a_t$, $b_t$ and $\\tau$) and returns the demand forecast for period $t+\\tau$ using the Double Exponential Smoothing method."
   ]
  },
  {
   "cell_type": "code",
   "execution_count": null,
   "metadata": {},
   "outputs": [],
   "source": [
    "### start your code here ###\n",
    "\n",
    "\n",
    "### end your code here ####"
   ]
  },
  {
   "cell_type": "markdown",
   "metadata": {},
   "source": [
    "### Exercise 2.2: `for` and `while` loops\n",
    "\n",
    "Assuming $a_t=250$ and $b_t=5.3$, create a program to compute and siplay the demand forecast for the next 10 periods (i.e., $\\tau=1, 2, 3, 4, 5, 6, 7, 8, 9, 10$). Do this exercise using `for` loops and `while` loops."
   ]
  },
  {
   "cell_type": "markdown",
   "metadata": {},
   "source": [
    "\n",
    "> <b>Hint:</b> use the `range()` funtion in the `for` loop and the function you created in Exercise 2.1. Check [this page](https://www.w3schools.com/python/ref_func_range.asp) to know more about the `range()` function."
   ]
  },
  {
   "cell_type": "code",
   "execution_count": null,
   "metadata": {},
   "outputs": [],
   "source": [
    "### start your code here ###\n",
    "\n",
    "# using for loop\n",
    "\n",
    "    \n",
    "# using while loop\n",
    "\n",
    "\n",
    "\n",
    "### end your code here ####"
   ]
  },
  {
   "cell_type": "markdown",
   "metadata": {},
   "source": [
    "### Exercise 2.3: Recursion\n",
    "Using an initial smoothed forecast $a_0$, two smoothing factors $\\alpha$ and $\\beta$ (between 0 and 1), and assuming constant demand and a constant smoothed trend $b_t$, create a recursive function which uses the double exponential smoothing method to calculate the smoothed forecast at period t $a_t$.\n",
    "\n",
    "Next, call this function to compute the smoothed forecast at period 5 ($a_5$), assuming an initial smoothed forecast $a_0=25000$ units, a constant smoothed trend $b=35$ units, constant demand $D=20000$ units, and smoothing constants $\\alpha=0.2$ and $\\beta=0.25$.\n",
    "\n",
    "(Note: this is not a practically relevant problem, but it provides a context for practicing recursive functions)"
   ]
  },
  {
   "cell_type": "code",
   "execution_count": null,
   "metadata": {},
   "outputs": [],
   "source": [
    "### start your code here ###\n",
    "\n",
    "\n",
    "# testing the function \n",
    "\n",
    "\n",
    "### end your code here ####"
   ]
  },
  {
   "cell_type": "code",
   "execution_count": null,
   "metadata": {},
   "outputs": [],
   "source": []
  }
 ],
 "metadata": {
  "kernelspec": {
   "display_name": "Python 3",
   "language": "python",
   "name": "python3"
  },
  "language_info": {
   "codemirror_mode": {
    "name": "ipython",
    "version": 3
   },
   "file_extension": ".py",
   "mimetype": "text/x-python",
   "name": "python",
   "nbconvert_exporter": "python",
   "pygments_lexer": "ipython3",
   "version": "3.7.6"
  }
 },
 "nbformat": 4,
 "nbformat_minor": 4
}
