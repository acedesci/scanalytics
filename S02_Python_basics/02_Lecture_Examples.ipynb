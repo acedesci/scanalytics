{
  "nbformat": 4,
  "nbformat_minor": 0,
  "metadata": {
    "kernelspec": {
      "display_name": "Python 3",
      "language": "python",
      "name": "python3"
    },
    "language_info": {
      "codemirror_mode": {
        "name": "ipython",
        "version": 3
      },
      "file_extension": ".py",
      "mimetype": "text/x-python",
      "name": "python",
      "nbconvert_exporter": "python",
      "pygments_lexer": "ipython3",
      "version": "3.7.6"
    },
    "colab": {
      "name": "02_Lecture_Examples.ipynb",
      "provenance": [],
      "include_colab_link": true
    }
  },
  "cells": [
    {
      "cell_type": "markdown",
      "metadata": {
        "id": "view-in-github",
        "colab_type": "text"
      },
      "source": [
        "<a href=\"https://colab.research.google.com/github/acedesci/scanalytics/blob/master/S02_Python_basics/02_Lecture_Examples.ipynb\" target=\"_parent\"><img src=\"https://colab.research.google.com/assets/colab-badge.svg\" alt=\"Open In Colab\"/></a>"
      ]
    },
    {
      "cell_type": "markdown",
      "metadata": {
        "id": "uFfgGurXPCpB"
      },
      "source": [
        "# S2 - Functions, Conditional Statements, `for`  and `while` Loops "
      ]
    },
    {
      "cell_type": "markdown",
      "metadata": {
        "id": "W24piI9sPCpD"
      },
      "source": [
        "---\n",
        "## 1. Python functions"
      ]
    },
    {
      "cell_type": "markdown",
      "metadata": {
        "id": "dCv87JLZPCpE"
      },
      "source": [
        "A function is a block to transform [input parameters] -> [output]. We often use a function when a certain operation is used more than once or used in multiple processes. An output can also be returned from a function.\n",
        "\n",
        "A function usually include the following components:\n",
        "*   keyword `def`\n",
        "*   function name\n",
        "*   parentheses \n",
        "*   parameters (variables) or arguments (values), if any\n",
        "*   colon (to separate parameters and arguments)\n",
        "*   content of the function with indentation\n",
        "*   `return` statement\n",
        "\n",
        "For example, a function `square` can be written as follows: \n",
        "```\n",
        "def square(x):\n",
        "    y = x ** 2    \n",
        "    return y`\n",
        "```\n",
        "\n",
        "\n",
        "Calling a function can be done by indicating the function name and provide the required parameters/arguments.\n",
        "\n",
        "For example, to use the function `square` to calculate the squared value of 10 can be done as follows (this needs to be called strictly after the function is defined and run on Notebook). The following line of code will give the result `squared_value = 100`: \n",
        "```\n",
        "squared_value = square(10)\n",
        "```\n",
        "\n",
        "**NOTE:** please also see https://www.w3schools.com/python/python_functions.asp for more descriptions and examples.\n",
        "\n",
        "In this course, we will make use of function in particular when some operations or processes will be used multiple times or should be organized to avoid clutter."
      ]
    },
    {
      "cell_type": "markdown",
      "metadata": {
        "id": "kU7-GXNnUFMx"
      },
      "source": [
        "## 2. `math` Module\r\n",
        "\r\n",
        "The `math` module provides access to several mathematical functions as permutation (`math.perm()`), square root >(`math.sqrt()`), rounding  up and down (`math.ceil()` and `math.floor()`).  You can look at [this page](https://docs.python.org/3/library/math.html) for more information about functions in the `math` module. \r\n",
        "\r\n",
        "In order to use the modules in Python to be able to use the pre-built functions, we can simply `import` the module using the module name prior to using it (typically we import at the beginning of the code), i.e., `import math` then we can call the function `math.sqrt()`."
      ]
    },
    {
      "cell_type": "markdown",
      "metadata": {
        "id": "mQeW-Ta_PCpF"
      },
      "source": [
        "### Example 1.1: EOQ function\n",
        "Using the annual demand $D$, the holding cost per unit $H$ and fixed ordering cost $O$, define a function which calculates the economic order quantity (EOQ).\n",
        "\n",
        "$$ EOQ=\\sqrt{\\frac{2DS}{H}}$$"
      ]
    },
    {
      "cell_type": "markdown",
      "metadata": {
        "id": "tkc-zSUmPCpF"
      },
      "source": [
        "Next, call this function to compute the EOQ assuming $D=500$ units per year, $S=\\$15$ per order, and $H=\\$1.2$ per unit held in inventory. \r\n",
        "\r\n",
        "**NOTE:** triple quotes `\"\"\"...\"\"\"` are often used for comments over multiple lines and, in practice, one often adds the descriptions of the parameters, arguments, and the return value of each function. "
      ]
    },
    {
      "cell_type": "code",
      "metadata": {
        "scrolled": true,
        "id": "BIP_x-KOPCpG",
        "outputId": "7e28f4f8-942e-4590-df7d-268c9daa4474"
      },
      "source": [
        "# defining the EOQ function\n",
        "def EOQ(demand, order_cost, holding_cost):\n",
        "    \"\"\"\n",
        "    The text between \n",
        "    Compute the economic quantity to order in order to minimize the total costs\n",
        "    Parameters:\n",
        "        demand: (number) annual demand\n",
        "        order_cost: (number) unit ordering cost\n",
        "        holding_cost: (number different than 0) unit inventory cost\n",
        "    Return:\n",
        "        (number) optimal quantity to order\n",
        "    \"\"\"\n",
        "    return ((2 * demand * order_cost) / holding_cost) ** (1/2)\n",
        "\n",
        "# calling the EOQ function\n",
        "eoq_value = EOQ(600, 15, 1.2)   \n",
        "\n",
        "# an alternative and more informative way to call the function\n",
        "eoq_value=EOQ(demand=600, order_cost=15, holding_cost=1.2)\n",
        "\n",
        "print('EOQ = ', eoq_value)"
      ],
      "execution_count": null,
      "outputs": [
        {
          "output_type": "stream",
          "text": [
            "EOQ =  122.47448713915891\n"
          ],
          "name": "stdout"
        }
      ]
    },
    {
      "cell_type": "markdown",
      "metadata": {
        "id": "hyt7OwNrPCpH"
      },
      "source": [
        "### Example 1.2: Rounded EOQ\n",
        "Define a function which gives the EOQ as integer quantity. Use the functions within  `math` module in Python."
      ]
    },
    {
      "cell_type": "code",
      "metadata": {
        "id": "2wvoINYrPCpH",
        "outputId": "92aa68a1-32cc-45ef-ae6b-76f3fac72fe8"
      },
      "source": [
        "import math   # importing math module\n",
        "\n",
        "def Round_EOQ(demand, order_cost, holding_cost):\n",
        "    \"\"\"\n",
        "    Compute the economic quantity to order as an integer amount\n",
        "    Parameters:\n",
        "        demand: (number) annual demand\n",
        "        order_cost: (number) unit ordering cost\n",
        "        holding_cost: (number different than 0) unit inventory cost\n",
        "    Return:\n",
        "        (integer number) optimal quantity to order\n",
        "    \"\"\"\n",
        "    return  math.ceil(math.sqrt((2 * demand * order_cost) / holding_cost))\n",
        "\n",
        "# calling the Round_EOQ function\n",
        "int_eoq=Round_EOQ(demand=600, order_cost=15, holding_cost=1.2)\n",
        "\n",
        "\n",
        "print('Integer EOQ  = ', int_eoq, ',', type(int_eoq))"
      ],
      "execution_count": null,
      "outputs": [
        {
          "output_type": "stream",
          "text": [
            "Integer EOQ  =  123 , <class 'int'>\n"
          ],
          "name": "stdout"
        }
      ]
    },
    {
      "cell_type": "markdown",
      "metadata": {
        "id": "uYRC0f3vPCpJ"
      },
      "source": [
        "---\n",
        "## 2. Conditional Statements"
      ]
    },
    {
      "cell_type": "markdown",
      "metadata": {
        "id": "pwVqcLmlPCpK"
      },
      "source": [
        "> Conditional expressions are tools for modeling the behavior of a program. The element tested is called a Boolean expression, that is, it can take a true value (`True`) or a false value (`False`). In this expression, several elements can be tested using comparison operations (`==`,`!=`,`>`, `<`,`>=`, `<=`) and Boolean operations (`and`, `or`, `not`). You can look at [this page](https://www.w3schools.com/python/python_conditions.asp) for more information."
      ]
    },
    {
      "cell_type": "markdown",
      "metadata": {
        "id": "9zV9udWEPCpL"
      },
      "source": [
        "### Example 2.1: EOQ with discounts\n",
        "EOQ generally minimizes the total inventory cost and ordering cost. However, EOQ may not be optimal when discounts are factored into the calculation. To calculate the EOQ when discounts are involved, we need to perform the following steps:\n",
        "\n",
        "1. For each discount, calculate the quantity to order Q* using the EOQ equation;\n",
        "2. If Q* does not qualify for a discount, choose the smallest possible order size to get the discount;\n",
        "3. Calculate the total cost for each Q* or adjusted value from step 2;\n",
        "4. Select the Q* that gives the lowest total cost. \n",
        "\n",
        "<div class=\"alert alert-block alert-info\">  \n",
        "$$TC=PD + S\\left(\\frac{D}{Q}\\right) + H\\left(\\frac{Q}{2}\\right)$$\n",
        "\n",
        "- $TC$: total annual cost;\n",
        "- $P$: purchase cost per unit;\n",
        "- $D$: annual demand;\n",
        "- $S$: fixed cost per order;\n",
        "- $Q$:  order quantity;\n",
        "- $H$: unit inventory holding cost."
      ]
    },
    {
      "cell_type": "markdown",
      "metadata": {
        "id": "nFCzgUvYPCpM"
      },
      "source": [
        "Determine the <u>best order quantity</u> given the following situation. Demand is forecast as $4.850$ units per year, the purchase cost is $\\$31$ per unit, the inventory holding cost is $\\%5$ of the purchase price and the ordering cost is $\\$28$. The supplier  is now offering $5\\%$ discount on orders above $500$ units."
      ]
    },
    {
      "cell_type": "code",
      "metadata": {
        "id": "9MBbAFCqPCpN",
        "outputId": "41299476-69bc-4419-8249-d23e679c378a"
      },
      "source": [
        "# defining a function to compute the total costs\n",
        "def total_cost(demand, acq_cost, order_cost, holding_cost, order_qty):\n",
        "    \"\"\"\n",
        "    Compute the total costs as the sum of the total adquisition costs, ordering costs and inventory costs.\n",
        "    Parameters:\n",
        "        demand: (number) annual demand,\n",
        "        acq_cost: (number) unit acquisition/purchase cost,\n",
        "        order_cost: (number) fixed ordering cost,\n",
        "        holding_cost: (number) unit inventory holding cost,\n",
        "        order_qty: (number) quantity to order.\n",
        "    Return:\n",
        "        (number) total costs\n",
        "    \"\"\"\n",
        "    return (acq_cost * demand) + order_cost * (demand / order_qty) + holding_cost * (order_qty/2)\n",
        "\n",
        "\n",
        "# determining EOQ and total costs without discounts (discount 0%)\n",
        "eoq_no_disc = EOQ(demand=4850, order_cost=28, holding_cost=(0.05 * 31))\n",
        "cost_no_disc = total_cost(demand=4850, acq_cost=31, order_cost=28, holding_cost=0.05 * 31, order_qty= eoq_no_disc)\n",
        "\n",
        "# calculating the EOQ  for discount 5%\n",
        "eoq_disc = EOQ(demand=4850, order_cost=28, holding_cost=(0.05 * 0.95 * 31))\n",
        "\n",
        "if eoq_disc >= 500: # checking if 'eoq_disc' qualifies for the 5% discount (Q is the qty to order in this case)\n",
        "    Q = eoq_disc\n",
        "else:\n",
        "    Q = 500  # consider the smallest possible order size to get the 5% discount\n",
        "# computing the total costs with discount 5%\n",
        "cost_disc = total_cost(demand=4850, acq_cost=(0.95 * 31), order_cost=28,\n",
        "                       holding_cost=(0.05 * 0.95 * 31), order_qty= Q)\n",
        "\n",
        "# choosing the most economical option\n",
        "if cost_disc < cost_no_disc:   \n",
        "    best_order_qty = Q\n",
        "    best_total_cost = cost_disc\n",
        "else:\n",
        "    best_order_qty = eoq_no_disc\n",
        "    best_total_cost = cost_no_disc\n",
        "\n",
        "        \n",
        "print('The best order quantity = ', best_order_qty, '; and the corresponding total costs = ', best_total_cost)   "
      ],
      "execution_count": null,
      "outputs": [
        {
          "output_type": "stream",
          "text": [
            "The best order quantity =  500 ; and the corresponding total costs =  143472.225\n"
          ],
          "name": "stdout"
        }
      ]
    },
    {
      "cell_type": "markdown",
      "metadata": {
        "id": "mXDqGgzePCpO"
      },
      "source": [
        "---\n",
        "## 3. Recursive Functions\n",
        "\n",
        "\n",
        "\n",
        "![fixing_problems.png](attachment:fixing_problems.png)\n",
        "<div align=\"center\"> Font: https://xkcd.com/1739/ </div>\n",
        "\n",
        "### Example 3.1: Forecast using recursive functions\n",
        "Using an initial demand forecast, a smoothing factor (between 0 and 1), and assuming constant demand, create a function which uses the simple exponential smoothing method to calculate the forecast demand after multiple time periods.\n",
        "\n",
        "(Note: this is not a practically relevant problem, but it provides a context for practicing recursive functions)\n",
        "\n",
        "<div class=\"alert alert-block alert-info\">  \n",
        " \n",
        "**Demand forecast using the exponential smoothing method:**\n",
        "$$ F_{t+1}=\\alpha D + (1-\\alpha) F_t $$\n",
        "   \n",
        "    \n",
        "Where:\n",
        "- $F_t$ = forecast for period $t$,\n",
        "    \n",
        "- $D_t$ = actual demand for the period $t$,\n",
        "    \n",
        "- $\\alpha$ = choice of smoothing constant.\n",
        "    "
      ]
    },
    {
      "cell_type": "markdown",
      "metadata": {
        "id": "a11XWlBJPCpQ"
      },
      "source": [
        "Next, call this function to compute the forecast demand for 5 periods in the future ($F_{t+5}$), assuming an initial forecast $F_t=1000$ units, constant demand $D=1200$ units, and smoothing constant $\\alpha=0.3$."
      ]
    },
    {
      "cell_type": "code",
      "metadata": {
        "id": "Gviq_zxUPCpR",
        "outputId": "90d02daa-0765-4225-afc3-92fcb593fad0"
      },
      "source": [
        "def forecast(initial_forecast, demand, alpha, n_periods):\n",
        "    \"\"\"\n",
        "    Compute the forecast demand using the simple exponential smothing methood\n",
        "    Parameters:\n",
        "        initial_forecast: (number)  initial demand forecast\n",
        "        demand: (number) demand\n",
        "        alpha: (number between 0 and 1) smoothing parameter\n",
        "        n_periods: (integer number) number of periods in the future for forecasting\n",
        "    Return:\n",
        "        (number) forcast demand after n_period\n",
        "    \"\"\"\n",
        "    # base case forecast = initial_forecast\n",
        "    if n_periods == 0:\n",
        "        return initial_forecast\n",
        "    else:\n",
        "        return alpha * demand + (1-alpha) * forecast(initial_forecast, demand, alpha, n_periods-1)\n",
        "\n",
        "# calling 'forecast' to determine     \n",
        "print('The forecast demand for 5 periods in the future is: ', \n",
        "      forecast(initial_forecast=1000, demand=1120, alpha=0.3, n_periods=5))"
      ],
      "execution_count": null,
      "outputs": [
        {
          "output_type": "stream",
          "text": [
            "The forecast demand for 5 periods in the future is:  1099.8315999999998\n"
          ],
          "name": "stdout"
        }
      ]
    },
    {
      "cell_type": "markdown",
      "metadata": {
        "id": "jHDcX1-5PCpS"
      },
      "source": [
        "---\n",
        "## 4. `for` and `while` Loops\n",
        "### Example 4.1: Forecast using `for` loop\n",
        "Using the `forecast` function created above and a `for` loop, compute the forecast demand for the next period ($F_{t+1}$) by considering different smoothing constants ($\\alpha=0.1, 0.2, 0.3, 0.4, 0.5$). Assume an initial forecast $F_t=1000$ units and demand $D_t=1120$ units."
      ]
    },
    {
      "cell_type": "code",
      "metadata": {
        "scrolled": true,
        "id": "aOVNNIaRPCpT",
        "outputId": "0e75d3eb-feb1-4006-824e-8ce98a5eb45f"
      },
      "source": [
        "# computing demand forecast using exponential smoothing with different alpha values (smoothing constant)\n",
        "for a in [0.1, 0.2, 0.3, 0.4, 0.5]:\n",
        "    print('Forecast for the next period considering alpha = %f is = %f'\n",
        "          %(a,     forecast(initial_forecast=1000, demand=1120, alpha=a, n_periods=1)))"
      ],
      "execution_count": null,
      "outputs": [
        {
          "output_type": "stream",
          "text": [
            "Forecast for the next period considering alpha = 0.100000 is = 1012.000000\n",
            "Forecast for the next period considering alpha = 0.200000 is = 1024.000000\n",
            "Forecast for the next period considering alpha = 0.300000 is = 1036.000000\n",
            "Forecast for the next period considering alpha = 0.400000 is = 1048.000000\n",
            "Forecast for the next period considering alpha = 0.500000 is = 1060.000000\n"
          ],
          "name": "stdout"
        }
      ]
    },
    {
      "cell_type": "markdown",
      "metadata": {
        "id": "70L-TrVsPCpU"
      },
      "source": [
        "### Example 4.2: Forecast using `while` loop\n",
        "Repeat Exercise 4.1 using a `while` loop."
      ]
    },
    {
      "cell_type": "code",
      "metadata": {
        "id": "8LpzY2R0PCpV",
        "outputId": "b0baa893-5011-41cc-ac7e-f47f9d6d5403"
      },
      "source": [
        "alpha = 0.1   # initializing the alpha value\n",
        "while alpha <= 0.5:\n",
        "    print('Forecast for the next period considering alpha = %f is = %f'\n",
        "          %(alpha,     forecast(initial_forecast=1000, demand=1120, alpha=alpha, n_periods=1)))\n",
        "    alpha += 0.1    # increasing the value of alpha by 0.1"
      ],
      "execution_count": null,
      "outputs": [
        {
          "output_type": "stream",
          "text": [
            "Forecast for the next period considering alpha = 0.100000 is = 1012.000000\n",
            "Forecast for the next period considering alpha = 0.200000 is = 1024.000000\n",
            "Forecast for the next period considering alpha = 0.300000 is = 1036.000000\n",
            "Forecast for the next period considering alpha = 0.400000 is = 1048.000000\n",
            "Forecast for the next period considering alpha = 0.500000 is = 1060.000000\n"
          ],
          "name": "stdout"
        }
      ]
    },
    {
      "cell_type": "code",
      "metadata": {
        "id": "C3V1XATYPCpW"
      },
      "source": [
        ""
      ],
      "execution_count": null,
      "outputs": []
    }
  ]
}