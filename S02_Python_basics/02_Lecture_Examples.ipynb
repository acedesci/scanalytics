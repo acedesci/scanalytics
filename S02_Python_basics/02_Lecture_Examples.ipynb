{
 "cells": [
  {
   "cell_type": "markdown",
   "metadata": {},
   "source": [
    "# S2 - Functions, Conditional Statements, `for`  and `while` Loops "
   ]
  },
  {
   "cell_type": "markdown",
   "metadata": {},
   "source": [
    "---\n",
    "## 1. Functions and `math` Module"
   ]
  },
  {
   "cell_type": "markdown",
   "metadata": {},
   "source": [
    "> Definition of a function needs to contain:\n",
    "> - The keyword `def`\n",
    ">- The function name\n",
    ">- The parentheses \n",
    ">- The arguments if any\n",
    ">- The colon\n",
    ">- The content of the function with indentations\n",
    ">\n",
    ">Calling a function requires:\n",
    ">- The function name\n",
    ">- The parentheses\n",
    ">- The arguments if any\n",
    ">\n",
    "> **Example**:\n",
    ">\n",
    "> **`def`** `square(x):\n",
    "    y = x ** 2    \n",
    "    return y`\n",
    ">  \n",
    ">The `math` module provides access to several mathematical functions as permutation (`math.perm()`), square root >(`math.sqrt()`), rounding  up and down (`math.ceil()` and `math.floor()`).  You can look at [this page](https://docs.python.org/3/library/math.html) for more information about functions in the `math` module. "
   ]
  },
  {
   "cell_type": "markdown",
   "metadata": {},
   "source": [
    "### Example 1.1: EOQ\n",
    "Using the annual demand $D$, the holding cost per unit $H$ and fixed ordering cost $S$, define a function which calculates the economic order quantity (EOQ).\n",
    "\n",
    "<div class=\"alert alert-block alert-info\">  \n",
    "\n",
    "$$ EOQ=\\sqrt{\\frac{2DS}{H}}$$"
   ]
  },
  {
   "cell_type": "markdown",
   "metadata": {},
   "source": [
    "Next, call this function to compute the EOQ assuming $D=500$ units per year, $S=\\$15$ per order, and $H=\\$1.2$ per unit held in inventory. "
   ]
  },
  {
   "cell_type": "code",
   "execution_count": 1,
   "metadata": {
    "scrolled": true
   },
   "outputs": [
    {
     "name": "stdout",
     "output_type": "stream",
     "text": [
      "EOQ =  122.47448713915891\n"
     ]
    }
   ],
   "source": [
    "# defining the EOQ function\n",
    "def EOQ(demand, order_cost, holding_cost):\n",
    "    \"\"\"\n",
    "    Compute the economic quantity to order in order to minimize the total costs\n",
    "    Parameters:\n",
    "        demand: (number) annual demand\n",
    "        order_cost: (number) unit ordering cost\n",
    "        holding_cost: (number different than 0) unit inventory cost\n",
    "    Return:\n",
    "        (number) optimal quantity to order\n",
    "    \"\"\"\n",
    "    return ((2 * demand * order_cost) / holding_cost) ** (1/2)\n",
    "\n",
    "# calling the EOQ function\n",
    "eoq_value = EOQ(600, 15, 1.2)   \n",
    "\n",
    "# an alternative and more informative way to call the function\n",
    "eoq_value=EOQ(demand=600, order_cost=15, holding_cost=1.2)\n",
    "\n",
    "\n",
    "print('EOQ = ', eoq_value)"
   ]
  },
  {
   "cell_type": "markdown",
   "metadata": {},
   "source": [
    "### Example 1.2: Rounded EOQ\n",
    "Define a function which gives the EOQ as integer quantity. Use the functions within  `math` module in Python."
   ]
  },
  {
   "cell_type": "code",
   "execution_count": 2,
   "metadata": {},
   "outputs": [
    {
     "name": "stdout",
     "output_type": "stream",
     "text": [
      "Integer EOQ  =  123 , <class 'int'>\n"
     ]
    }
   ],
   "source": [
    "import math   # importing math module\n",
    "\n",
    "def Round_EOQ(demand, order_cost, holding_cost):\n",
    "    \"\"\"\n",
    "    Compute the economic quantity to order as an integer amount\n",
    "    Parameters:\n",
    "        demand: (number) annual demand\n",
    "        order_cost: (number) unit ordering cost\n",
    "        holding_cost: (number different than 0) unit inventory cost\n",
    "    Return:\n",
    "        (integer number) optimal quantity to order\n",
    "    \"\"\"\n",
    "    return  math.ceil(math.sqrt((2 * demand * order_cost) / holding_cost))\n",
    "\n",
    "# calling the Round_EOQ function\n",
    "int_eoq=Round_EOQ(demand=600, order_cost=15, holding_cost=1.2)\n",
    "\n",
    "\n",
    "print('Integer EOQ  = ', int_eoq, ',', type(int_eoq))"
   ]
  },
  {
   "cell_type": "markdown",
   "metadata": {},
   "source": [
    "---\n",
    "## 2. Conditional Statements"
   ]
  },
  {
   "cell_type": "markdown",
   "metadata": {},
   "source": [
    "> Conditional expressions are tools for modeling the behavior of a program. The element tested is called a Boolean expression, that is, it can take a true value (`True`) or a false value (`False`). In this expression, several elements can be tested using comparison operations (`==`,`!=`,`>`, `<`,`>=`, `<=`) and Boolean operations (`and`, `or`, `not`). You can look at [this page](https://www.w3schools.com/python/python_conditions.asp) for more information."
   ]
  },
  {
   "cell_type": "markdown",
   "metadata": {},
   "source": [
    "### Example 2.1: EOQ with discounts\n",
    "EOQ generally minimizes the total inventory cost and ordering cost. However, EOQ may not be optimal when discounts are factored into the calculation. To calculate the EOQ when discounts are involved, we need to perform the following steps:\n",
    "\n",
    "1. For each discount, calculate the quantity to order Q* using the EOQ equation;\n",
    "2. If Q* does not qualify for a discount, choose the smallest possible order size to get the discount;\n",
    "3. Calculate the total cost for each Q* or adjusted value from step 2;\n",
    "4. Select the Q* that gives the lowest total cost. \n",
    "\n",
    "<div class=\"alert alert-block alert-info\">  \n",
    "$$TC=PD + S\\left(\\frac{D}{Q}\\right) + H\\left(\\frac{Q}{2}\\right)$$\n",
    "\n",
    "- $TC$: total annual cost;\n",
    "- $P$: purchase cost per unit;\n",
    "- $D$: annual demand;\n",
    "- $S$: fixed cost per order;\n",
    "- $Q$:  order quantity;\n",
    "- $H$: unit inventory holding cost."
   ]
  },
  {
   "cell_type": "markdown",
   "metadata": {},
   "source": [
    "Determine the <u>best order quantity</u> given the following situation. Demand is forecast as $4.850$ units per year, the purchase cost is $\\$31$ per unit, the inventory holding cost is $\\%5$ of the purchase price and the ordering cost is $\\$28$. The supplier  is now offering $5\\%$ discount on orders above $500$ units."
   ]
  },
  {
   "cell_type": "code",
   "execution_count": 3,
   "metadata": {},
   "outputs": [
    {
     "name": "stdout",
     "output_type": "stream",
     "text": [
      "The best order quantity =  500 ; and the corresponding total costs =  143472.225\n"
     ]
    }
   ],
   "source": [
    "# defining a function to compute the total costs\n",
    "def total_cost(demand, acq_cost, order_cost, holding_cost, order_qty):\n",
    "    \"\"\"\n",
    "    Compute the total costs as the sum of the total adquisition costs, ordering costs and inventory costs.\n",
    "    Parameters:\n",
    "        demand: (number) annual demand,\n",
    "        acq_cost: (number) unit acquisition/purchase cost,\n",
    "        order_cost: (number) fixed ordering cost,\n",
    "        holding_cost: (number) unit inventory holding cost,\n",
    "        order_qty: (number) quantity to order.\n",
    "    Return:\n",
    "        (number) total costs\n",
    "    \"\"\"\n",
    "    return (acq_cost * demand) + order_cost * (demand / order_qty) + holding_cost * (order_qty/2)\n",
    "\n",
    "\n",
    "# determining EOQ and total costs without discounts (discount 0%)\n",
    "eoq_no_disc = EOQ(demand=4850, order_cost=28, holding_cost=(0.05 * 31))\n",
    "cost_no_disc = total_cost(demand=4850, acq_cost=31, order_cost=28, holding_cost=0.05 * 31, order_qty= eoq_no_disc)\n",
    "\n",
    "# calculating the EOQ  for discount 5%\n",
    "eoq_disc = EOQ(demand=4850, order_cost=28, holding_cost=(0.05 * 0.95 * 31))\n",
    "\n",
    "if eoq_disc >= 500: # checking if 'eoq_disc' qualifies for the 5% discount (Q is the qty to order in this case)\n",
    "    Q = eoq_disc\n",
    "else:\n",
    "    Q = 500  # consider the smallest possible order size to get the 5% discount\n",
    "# computing the total costs with discount 5%\n",
    "cost_disc = total_cost(demand=4850, acq_cost=(0.95 * 31), order_cost=28,\n",
    "                       holding_cost=(0.05 * 0.95 * 31), order_qty= Q)\n",
    "\n",
    "# choosing the most economical option\n",
    "if cost_disc < cost_no_disc:   \n",
    "    best_order_qty = Q\n",
    "    best_total_cost = cost_disc\n",
    "else:\n",
    "    best_order_qty = eoq_no_disc\n",
    "    best_total_cost = cost_no_disc\n",
    "\n",
    "        \n",
    "print('The best order quantity = ', best_order_qty, '; and the corresponding total costs = ', best_total_cost)   "
   ]
  },
  {
   "attachments": {
    "fixing_problems.png": {
     "image/png": "[encoded data removed]"
    }
   },
   "cell_type": "markdown",
   "metadata": {},
   "source": [
    "---\n",
    "## 3. Recursive Functions\n",
    "\n",
    "\n",
    "\n",
    "![fixing_problems.png](attachment:fixing_problems.png)\n",
    "<div align=\"center\"> Font: https://xkcd.com/1739/ </div>\n",
    "\n",
    "### Example 3.1: Forecast using recursive functions\n",
    "Using an initial demand forecast, a smoothing factor (between 0 and 1), and assuming constant demand, create a function which uses the simple exponential smoothing method to calculate the forecast demand after multiple time periods.\n",
    "\n",
    "(Note: this is not a practically relevant problem, but it provides a context for practicing recursive functions)\n",
    "\n",
    "<div class=\"alert alert-block alert-info\">  \n",
    " \n",
    "**Demand forecast using the exponential smoothing method:**\n",
    "$$ F_{t+1}=\\alpha D + (1-\\alpha) F_t $$\n",
    "   \n",
    "    \n",
    "Where:\n",
    "- $F_t$ = forecast for period $t$,\n",
    "    \n",
    "- $D_t$ = actual demand for the period $t$,\n",
    "    \n",
    "- $\\alpha$ = choice of smoothing constant.\n",
    "    "
   ]
  },
  {
   "cell_type": "markdown",
   "metadata": {},
   "source": [
    "Next, call this function to compute the forecast demand for 5 periods in the future ($F_{t+5}$), assuming an initial forecast $F_t=1000$ units, constant demand $D=1200$ units, and smoothing constant $\\alpha=0.3$."
   ]
  },
  {
   "cell_type": "code",
   "execution_count": 4,
   "metadata": {},
   "outputs": [
    {
     "name": "stdout",
     "output_type": "stream",
     "text": [
      "The forecast demand for 5 periods in the future is:  1099.8315999999998\n"
     ]
    }
   ],
   "source": [
    "def forecast(initial_forecast, demand, alpha, n_periods):\n",
    "    \"\"\"\n",
    "    Compute the forecast demand using the simple exponential smothing methood\n",
    "    Parameters:\n",
    "        initial_forecast: (number)  initial demand forecast\n",
    "        demand: (number) demand\n",
    "        alpha: (number between 0 and 1) smoothing parameter\n",
    "        n_periods: (integer number) number of periods in the future for forecasting\n",
    "    Return:\n",
    "        (number) forcast demand after n_period\n",
    "    \"\"\"\n",
    "    # base case forecast = initial_forecast\n",
    "    if n_periods == 0:\n",
    "        return initial_forecast\n",
    "    else:\n",
    "        return alpha * demand + (1-alpha) * forecast(initial_forecast, demand, alpha, n_periods-1)\n",
    "\n",
    "# calling 'forecast' to determine     \n",
    "print('The forecast demand for 5 periods in the future is: ', \n",
    "      forecast(initial_forecast=1000, demand=1120, alpha=0.3, n_periods=5))"
   ]
  },
  {
   "cell_type": "markdown",
   "metadata": {},
   "source": [
    "---\n",
    "## 4. `for` and `while` Loops\n",
    "### Example 4.1: Forecast using `for` loop\n",
    "Using the `forecast` function created above and a `for` loop, compute the forecast demand for the next period ($F_{t+1}$) by considering different smoothing constants ($\\alpha=0.1, 0.2, 0.3, 0.4, 0.5$). Assume an initial forecast $F_t=1000$ units and demand $D_t=1120$ units."
   ]
  },
  {
   "cell_type": "code",
   "execution_count": 5,
   "metadata": {
    "scrolled": true
   },
   "outputs": [
    {
     "name": "stdout",
     "output_type": "stream",
     "text": [
      "Forecast for the next period considering alpha = 0.100000 is = 1012.000000\n",
      "Forecast for the next period considering alpha = 0.200000 is = 1024.000000\n",
      "Forecast for the next period considering alpha = 0.300000 is = 1036.000000\n",
      "Forecast for the next period considering alpha = 0.400000 is = 1048.000000\n",
      "Forecast for the next period considering alpha = 0.500000 is = 1060.000000\n"
     ]
    }
   ],
   "source": [
    "# computing demand forecast using exponential smoothing with different alpha values (smoothing constant)\n",
    "for a in [0.1, 0.2, 0.3, 0.4, 0.5]:\n",
    "    print('Forecast for the next period considering alpha = %f is = %f'\n",
    "          %(a,     forecast(initial_forecast=1000, demand=1120, alpha=a, n_periods=1)))"
   ]
  },
  {
   "cell_type": "markdown",
   "metadata": {},
   "source": [
    "### Example 4.2: Forecast using `while` loop\n",
    "Repeat Exercise 4.1 using a `while` loop."
   ]
  },
  {
   "cell_type": "code",
   "execution_count": 6,
   "metadata": {},
   "outputs": [
    {
     "name": "stdout",
     "output_type": "stream",
     "text": [
      "Forecast for the next period considering alpha = 0.100000 is = 1012.000000\n",
      "Forecast for the next period considering alpha = 0.200000 is = 1024.000000\n",
      "Forecast for the next period considering alpha = 0.300000 is = 1036.000000\n",
      "Forecast for the next period considering alpha = 0.400000 is = 1048.000000\n",
      "Forecast for the next period considering alpha = 0.500000 is = 1060.000000\n"
     ]
    }
   ],
   "source": [
    "alpha = 0.1   # initializing the alpha value\n",
    "while alpha <= 0.5:\n",
    "    print('Forecast for the next period considering alpha = %f is = %f'\n",
    "          %(alpha,     forecast(initial_forecast=1000, demand=1120, alpha=alpha, n_periods=1)))\n",
    "    alpha += 0.1    # increasing the value of alpha by 0.1"
   ]
  },
  {
   "cell_type": "code",
   "execution_count": null,
   "metadata": {},
   "outputs": [],
   "source": []
  }
 ],
 "metadata": {
  "kernelspec": {
   "display_name": "Python 3",
   "language": "python",
   "name": "python3"
  },
  "language_info": {
   "codemirror_mode": {
    "name": "ipython",
    "version": 3
   },
   "file_extension": ".py",
   "mimetype": "text/x-python",
   "name": "python",
   "nbconvert_exporter": "python",
   "pygments_lexer": "ipython3",
   "version": "3.7.6"
  }
 },
 "nbformat": 4,
 "nbformat_minor": 4
}
