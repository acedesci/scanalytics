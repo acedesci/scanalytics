{
  "nbformat": 4,
  "nbformat_minor": 0,
  "metadata": {
    "kernelspec": {
      "display_name": "Python 3",
      "language": "python",
      "name": "python3"
    },
    "language_info": {
      "codemirror_mode": {
        "name": "ipython",
        "version": 3
      },
      "file_extension": ".py",
      "mimetype": "text/x-python",
      "name": "python",
      "nbconvert_exporter": "python",
      "pygments_lexer": "ipython3",
      "version": "3.7.6"
    },
    "colab": {
      "name": "02_Lecture_Examples.ipynb",
      "provenance": []
    }
  },
  "cells": [
    {
      "cell_type": "markdown",
      "metadata": {
        "id": "uFfgGurXPCpB"
      },
      "source": [
        "# S2 - Functions, Conditional Statements, `for`  and `while` Loops "
      ]
    },
    {
      "cell_type": "markdown",
      "metadata": {
        "id": "W24piI9sPCpD"
      },
      "source": [
        "---\n",
        "## 1. Python functions"
      ]
    },
    {
      "cell_type": "markdown",
      "metadata": {
        "id": "dCv87JLZPCpE"
      },
      "source": [
        "A function is a block to transform [input parameters] -> [output]. We often use a function when a certain operation is used more than once or used in multiple processes. An output can also be returned from a function.\n",
        "\n",
        "A function usually include the following components:\n",
        "*   keyword `def`\n",
        "*   function name\n",
        "*   parentheses \n",
        "*   parameters (variables) or arguments (values) separated by a comma\n",
        "*   colon\n",
        "*   code of the function with indentation\n",
        "*   `return` statement\n",
        "\n",
        "For example, a function `square` can be written as follows: \n",
        "```\n",
        "def square(x):\n",
        "    y = x ** 2    \n",
        "    return y`\n",
        "```\n",
        "\n",
        "\n",
        "Calling a function can be done by indicating the function name and provide the required parameters/arguments.\n",
        "\n",
        "For example, to use the function `square` to calculate the squared value of 10 can be done as follows (this needs to be called strictly after the function is defined and run on Notebook). The following line of code will give the result `squared_value = 100`: \n",
        "```\n",
        "squared_value = square(10)\n",
        "```\n",
        "\n",
        "**NOTE:** please also see https://www.w3schools.com/python/python_functions.asp for more descriptions and examples.\n",
        "\n",
        "In this course, we will make use of function in particular when some operations or processes will be used multiple times or should be organized to avoid clutter."
      ]
    },
    {
      "cell_type": "markdown",
      "metadata": {
        "id": "kU7-GXNnUFMx"
      },
      "source": [
        "## 2. `math` Module\r\n",
        "\r\n",
        "The `math` module provides access to several mathematical functions as permutation (`math.perm()`), square root >(`math.sqrt()`), rounding  up and down (`math.ceil()` and `math.floor()`).  You can look at [this page](https://docs.python.org/3/library/math.html) for more information about functions in the `math` module. \r\n",
        "\r\n",
        "In order to use the modules in Python to be able to use the pre-built functions, we can simply `import` the module using the module name prior to using it (typically we import at the beginning of the code), i.e., `import math` then we can call the function `math.sqrt()`."
      ]
    },
    {
      "cell_type": "markdown",
      "metadata": {
        "id": "mQeW-Ta_PCpF"
      },
      "source": [
        "### Example 1.1: EOQ function\n",
        "Using the annual demand $D$, the holding cost per unit $H$ and fixed ordering cost $O$, define a function which calculates the economic order quantity (EOQ).\n",
        "\n",
        "$$ EOQ=\\sqrt{\\frac{2DO}{H}}$$"
      ]
    },
    {
      "cell_type": "markdown",
      "metadata": {
        "id": "tkc-zSUmPCpF"
      },
      "source": [
        "Next, call this function to compute the EOQ assuming $D=500$ units per year, $S=\\$15$ per order, and $H=\\$1.2$ per unit held in inventory. \r\n",
        "\r\n",
        "**NOTE:** triple quotes `\"\"\"...\"\"\"` are often used for comments over multiple lines and, in practice, one often adds the descriptions of the parameters, arguments, and the return value of each function. "
      ]
    },
    {
      "cell_type": "code",
      "metadata": {
        "scrolled": true,
        "colab": {
          "base_uri": "https://localhost:8080/"
        },
        "id": "BIP_x-KOPCpG",
        "outputId": "b9e59c42-ac4a-4eb5-a39a-32bf1394b635"
      },
      "source": [
        "# defining the EOQ function\n",
        "def EOQ(demand, order_cost, holding_cost):\n",
        "    \"\"\"\n",
        "    The text between \n",
        "    Compute the economic quantity to order in order to minimize the total costs\n",
        "    Parameters:\n",
        "        demand: (number) annual demand\n",
        "        order_cost: (number) unit ordering cost\n",
        "        holding_cost: (number different than 0) unit inventory cost\n",
        "    Return:\n",
        "        (number) optimal quantity to order\n",
        "    \"\"\"\n",
        "    return ((2 * demand * order_cost) / holding_cost) ** (1/2)\n",
        "\n",
        "# calling the EOQ function\n",
        "eoq_value = EOQ(600, 15, 1.2)   \n",
        "\n",
        "# an alternative and more informative way to call the function (recommended)\n",
        "eoq_value=EOQ(demand=600, order_cost=15, holding_cost=1.2)\n",
        "\n",
        "print('EOQ = ', eoq_value)"
      ],
      "execution_count": 5,
      "outputs": [
        {
          "output_type": "stream",
          "text": [
            "EOQ =  122.47448713915891\n"
          ],
          "name": "stdout"
        }
      ]
    },
    {
      "cell_type": "markdown",
      "metadata": {
        "id": "hyt7OwNrPCpH"
      },
      "source": [
        "### Example 1.2: EOQ rounded up\n",
        "Define a function which gives the EOQ as integer quantity (rounded up). Use the functions within  `math` module in Python."
      ]
    },
    {
      "cell_type": "code",
      "metadata": {
        "colab": {
          "base_uri": "https://localhost:8080/"
        },
        "id": "2wvoINYrPCpH",
        "outputId": "805afe57-9253-4e67-e686-1859e476d8d3"
      },
      "source": [
        "import math   # importing math module\n",
        "\n",
        "def ceil_EOQ(demand, order_cost, holding_cost):\n",
        "    \"\"\"\n",
        "    Compute the economic quantity to order as an integer amount\n",
        "    Parameters:\n",
        "        demand: (number) annual demand\n",
        "        order_cost: (number) unit ordering cost\n",
        "        holding_cost: (number different than 0) unit inventory cost\n",
        "    Return:\n",
        "        optimal quantity to order rounded up to the next largest integer\n",
        "    \"\"\"\n",
        "    return  math.ceil(math.sqrt((2 * demand * order_cost) / holding_cost)) \n",
        "    # math.ceil(x) is a function to round the number up to the next largest integer. \n",
        "\n",
        "# calling the Round_EOQ function\n",
        "ceiling_eoq = ceil_EOQ(demand=600, order_cost=15, holding_cost=1.2)\n",
        "\n",
        "print('Integer EOQ  = ', ceiling_eoq, ',', type(ceiling_eoq))"
      ],
      "execution_count": 6,
      "outputs": [
        {
          "output_type": "stream",
          "text": [
            "Integer EOQ  =  123 , <class 'int'>\n"
          ],
          "name": "stdout"
        }
      ]
    },
    {
      "cell_type": "markdown",
      "metadata": {
        "id": "uYRC0f3vPCpJ"
      },
      "source": [
        "---\n",
        "## 2. Conditional Statements"
      ]
    },
    {
      "cell_type": "markdown",
      "metadata": {
        "id": "pwVqcLmlPCpK"
      },
      "source": [
        "Conditional expressions are tools for modeling the behavior of a program. The element tested is called a Boolean expression, that is, it can take a true value (`True`) or a false value (`False`). In this expression, several elements can be tested using comparison operations (`==`,`!=`,`>`, `<`,`>=`, `<=`) and Boolean operations (`and`, `or`, `not`). You can look at [this page](https://www.w3schools.com/python/python_conditions.asp) for more information.\r\n",
        "\r\n",
        "**NOTE:** the condition statement is equivalent to IF function in Excel. They are very important statements in programming."
      ]
    },
    {
      "cell_type": "markdown",
      "metadata": {
        "id": "9zV9udWEPCpL"
      },
      "source": [
        "### Example 2.1: EOQ with discounts\n",
        "EOQ generally minimizes the total inventory cost and ordering cost. However, EOQ may not be optimal when discounts are factored into the calculation. To calculate the EOQ when discounts are involved, we need to perform the following steps:\n",
        "\n",
        "1. For each quantity range associated with a discount, calculate the quantity to optimal order Q* for that range based on the corresponding parameters using the EOQ equation;\n",
        "2. **If** Q* does not qualify for a discount, choose the smallest possible order size to get the discount and set Q* to that value, **otherwise** the value Q* remains unchanged;\n",
        "3. Calculate the total cost for each Q* from step 2;\n",
        "4. Select the Q* that gives the lowest total cost, which is calculated by. \n",
        "\n",
        "$$TC=PD + O\\left(\\frac{D}{Q}\\right) + H\\left(\\frac{Q}{2}\\right)$$\n",
        "\n",
        "- $TC$: total annual cost;\n",
        "- $P$: purchase cost per unit;\n",
        "- $D$: annual demand;\n",
        "- $O$: fixed cost per order;\n",
        "- $Q$:  order quantity (quantity $Q^*$ associated with a given discount);\n",
        "- $H$: unit inventory holding cost = $hP$ where $h$ is the inventory holding cost is given as % of the value of the product."
      ]
    },
    {
      "cell_type": "markdown",
      "metadata": {
        "id": "nFCzgUvYPCpM"
      },
      "source": [
        "**Example:** Determine the <u>optimal order quantity</u> given the following information. Demand is forecast as $4.850$ units per year, the purchase cost is $\\$31$ per unit, the inventory holding cost is $\\%5$ of the purchase price and the ordering cost is $\\$28$. The supplier  is now offering $5\\%$ discount on orders above $500$ units.\r\n",
        "\r\n",
        "Please create a function `total_cost` which return the calculation of the total cost based on the parameters provided to the function."
      ]
    },
    {
      "cell_type": "code",
      "metadata": {
        "colab": {
          "base_uri": "https://localhost:8080/"
        },
        "id": "9MBbAFCqPCpN",
        "outputId": "4712198a-56ae-4157-c934-8aac50c2b76d"
      },
      "source": [
        "# defining a function to compute the total costs\n",
        "def total_cost(demand, acq_cost, order_cost, holding_cost, order_qty):\n",
        "    \"\"\"\n",
        "    Compute the total costs as the sum of the total adquisition cost, ordering cost and inventory cost.\n",
        "    Parameters:\n",
        "        demand: (number) annual demand,\n",
        "        acq_cost: (number) unit acquisition/purchase cost,\n",
        "        order_cost: (number) fixed ordering cost,\n",
        "        holding_cost: (number) unit inventory holding cost,\n",
        "        order_qty: (number) quantity to order.\n",
        "    Return:\n",
        "        (number) total costs\n",
        "    \"\"\"\n",
        "    return (acq_cost * demand) + order_cost * (demand / order_qty) + holding_cost * (order_qty/2)\n",
        "\n",
        "# initialize parameters\n",
        "D = 4850\n",
        "O = 28\n",
        "h = 0.05\n",
        "P = 31\n",
        "\n",
        "# determining EOQ and total costs without discounts (discount 0%)\n",
        "eoq_no_discount = EOQ(demand=D, order_cost=O, holding_cost=h*P)\n",
        "cost_no_discount = total_cost(demand=D, acq_cost=P, order_cost=O, holding_cost=h*P, order_qty= eoq_no_discount)\n",
        "print('The order quantity with no discount = ', eoq_no_discount, '; and the corresponding total cost = ', cost_no_discount)   \n",
        "\n"
      ],
      "execution_count": 10,
      "outputs": [
        {
          "output_type": "stream",
          "text": [
            "The order quantity with no discount =  418.59981659290406 ; and the corresponding total cost =  150998.82971571898\n"
          ],
          "name": "stdout"
        }
      ]
    },
    {
      "cell_type": "code",
      "metadata": {
        "colab": {
          "base_uri": "https://localhost:8080/"
        },
        "id": "9oVc_054e2_5",
        "outputId": "c2e6dbdb-824c-4d15-eae7-c235ae3ce332"
      },
      "source": [
        "# calculating the EOQ  for discount 5%\r\n",
        "eoq_discount = EOQ(demand=D, order_cost=O, holding_cost=0.95*h*P)\r\n",
        "print('The EOQ using the parameters with 5% discount ', eoq_discount)\r\n",
        "\r\n",
        "# checking if 'eoq_discount' does not qualify for the 5% discount and set it eoq_discount to the lower feasible quantity in that case\r\n",
        "if eoq_discount < 500: \r\n",
        "     eoq_discount = 500\r\n",
        "\r\n",
        "# computing the total costs with discount 5%\r\n",
        "cost_discount = total_cost(demand=D, acq_cost=P, order_cost=O, holding_cost=0.95*h*P, order_qty= eoq_discount)\r\n",
        "print('The order quantity with no discount = ', eoq_discount, '; and the corresponding total cost = ', cost_discount)"
      ],
      "execution_count": 12,
      "outputs": [
        {
          "output_type": "stream",
          "text": [
            "The EOQ using the parameters with 5% discount  429.47435001113547\n",
            "The order quantity with no discount =  500 ; and the corresponding total cost =  150989.725\n"
          ],
          "name": "stdout"
        }
      ]
    },
    {
      "cell_type": "code",
      "metadata": {
        "colab": {
          "base_uri": "https://localhost:8080/"
        },
        "id": "YLYsX-EVe5wA",
        "outputId": "306c4396-0253-4e19-983d-6c56346a167a"
      },
      "source": [
        "# choosing the option with a lower cost\r\n",
        "if cost_discount < cost_no_discount:   \r\n",
        "    optimal_order_qty = eoq_discount\r\n",
        "    optimal_total_cost = cost_discount\r\n",
        "else:\r\n",
        "    optimal_order_qty = eoq_no_discount\r\n",
        "    optimal_total_cost = cost_no_discount\r\n",
        "        \r\n",
        "print('The optimal order quantity = ', optimal_order_qty, '; and the corresponding total cost = ', optimal_total_cost)   "
      ],
      "execution_count": 13,
      "outputs": [
        {
          "output_type": "stream",
          "text": [
            "The optimal order quantity =  500 ; and the corresponding total cost =  150989.725\n"
          ],
          "name": "stdout"
        }
      ]
    },
    {
      "cell_type": "markdown",
      "metadata": {
        "id": "a11XWlBJPCpQ"
      },
      "source": [
        "Next, call this function to compute the forecast demand for 5 periods in the future ($F_{t+5}$), assuming an initial forecast $F_t=1000$ units, constant demand $D=1200$ units, and smoothing constant $\\alpha=0.3$."
      ]
    },
    {
      "cell_type": "markdown",
      "metadata": {
        "id": "jHDcX1-5PCpS"
      },
      "source": [
        "---\n",
        "## 3. `for` and `while` Loops\n",
        "\n",
        "'for' and 'while' loops are also core programming components which you should effectively leverage. In this context, the loops are used to **iteratively** compute or perform operations. \n",
        "\n",
        "You can refer to [this link](https://www.w3schools.com/python/python_for_loops.asp) for the 'for' loops and [this link](https://www.w3schools.com/python/python_while_loops.asp) for the 'while' loops for more examples.\n",
        "\n",
        "### Example 3.1: Bass diffusion model\n",
        "\n",
        "The background of the model is provided below. \n",
        "<blockquote>\n",
        "  <p> <b>Brief description of the model:</b> Bass diffusion model is one of the most effective and popular models to predict demand (or customer base) over a product life cycle. This model is particularly useful when a new product will be introduced to the market. In this model, the number of adoptions ($D$) is described by $D = M\\times f(t)$ where $M$ is the market size (the total number of potential customers, which is typically given) and $f(t)$ is the probability that an individual customer makes a purchase for the product at time $t$ (which needs to be calculated).\n",
        "\n",
        "If we define $F(t)$ as the *cumulative* probability of the purchase by an individual from the product introduction (period 0) to period $t$. Consequently, we can also write $f(t) = \\frac{d}{dt}F(t)$. Also, the value $1 - F(t)$ represents the probability that an individual has not yet adopted (bought) the product at time $t$.\n",
        "\n",
        "Bass's model, proposed by Frank Bass, is described as follows:\n",
        "\n",
        "$$\\frac{f(t)}{1-F(t)} = p + qF(t)$$\n",
        "where \n",
        "* $p$ is the coefficiant of innovation\n",
        "* $q$ is the coefficient of imitation\n",
        "\n",
        "Note that $p$ is *not* associated with the overall market status (represented by the cumulative probability of adoption $F(t)$) which captures the adoption from an individual independent of the others, whereas $q$ is associated with this value $F(t)$ and represents the adoption stemmed from imitation (influenced by other adoptors). These values $p$ and $q$ are used by marketers/planners to describe the behavior of the customer base. In practice, values of $p$ and $q$ are estimated using a regression technique applied to the similar products already sold in the market (thus, the data is already available). Thus, we assume that $p$ and $q$ are already available for the calculation.\n",
        "\n",
        "Based on the derivative of the Bass diffussion function above, we can determine $f(t)$ using the following equation:\n",
        "\n",
        "$$f(t) = \\frac{d}{dt}F(t) = \\frac{e^{((p+q)t)}p(p+q)^2}{[pe^{((p+q)t)}+q]^2} $$\n",
        "\n",
        "**NOTE:** more details on the Bass diffusion model can be found on [this link](https://srdas.github.io/MLBook/productForecastingBassModel.html) and [this link](https://en.wikipedia.org/wiki/Bass_diffusion_model).\n",
        "</p> \n",
        "</blockquote>\n"
      ]
    },
    {
      "cell_type": "markdown",
      "metadata": {
        "id": "1A_UHoYE5VpK"
      },
      "source": [
        "\r\n",
        "Given a value of $M$, $p$ and $q$, we want to determine the number of adoptions using the Bass model above for years 1 to 5 for the following cases:\r\n",
        "\r\n",
        "* Product 1: $M=1000$, $q = 0.20$, and $p = 0.01$\r\n",
        "* Product 2: $M=1000$, $q = 0.02$, and $p = 0.10$\r\n",
        "\r\n",
        "First, we determine the function to calculate $f(t)$"
      ]
    },
    {
      "cell_type": "code",
      "metadata": {
        "scrolled": true,
        "id": "aOVNNIaRPCpT"
      },
      "source": [
        "import math\n",
        "def Bass_probability_ft(p, q, t):\n",
        "    return (math.exp((p+q)*t)*p*(p+q)**2)/(p*math.exp((p+q)*t)+q)**2"
      ],
      "execution_count": 22,
      "outputs": []
    },
    {
      "cell_type": "markdown",
      "metadata": {
        "id": "Jcglfsrw6Tzj"
      },
      "source": [
        "Next, we perform the calculations and print out the number of adoptions for each year using `for` loop:\r\n",
        "\r\n"
      ]
    },
    {
      "cell_type": "code",
      "metadata": {
        "colab": {
          "base_uri": "https://localhost:8080/"
        },
        "id": "mS8rxYW76ks9",
        "outputId": "8c20e19a-d626-4826-fe05-407e0dc658c4"
      },
      "source": [
        "M_product_1 = 1000\r\n",
        "q_product_1 = 0.4\r\n",
        "p_product_1 = 0.1\r\n",
        "\r\n",
        "\r\n",
        "print(\"Demand prediction for product 1\")\r\n",
        "# Note that [] defines a list which contains ordered values. \r\n",
        "# We will discuss in more detail the data structure in the next session\r\n",
        "for t in [1,2,3,4,5]:\r\n",
        "  ft_product_1 = Bass_probability_ft(p_product_1, q_product_1, t)\r\n",
        "  print(\"Year[\",t,\"]: f(t) = \",ft_product_1,\", N. of adoptions at t = \", M_product_1*ft_product_1)\r\n"
      ],
      "execution_count": 40,
      "outputs": [
        {
          "output_type": "stream",
          "text": [
            "Demand prediction for product 1\n",
            "Year[ 1 ]: f(t) =  0.12917752476765507 , N. of adoptions at t =  129.17752476765506\n",
            "Year[ 2 ]: f(t) =  0.15056292870810317 , N. of adoptions at t =  150.5629287081032\n",
            "Year[ 3 ]: f(t) =  0.15574604829943434 , N. of adoptions at t =  155.74604829943434\n",
            "Year[ 4 ]: f(t) =  0.14241427003438314 , N. of adoptions at t =  142.41427003438315\n",
            "Year[ 5 ]: f(t) =  0.11630149735530057 , N. of adoptions at t =  116.30149735530057\n"
          ],
          "name": "stdout"
        }
      ]
    },
    {
      "cell_type": "code",
      "metadata": {
        "colab": {
          "base_uri": "https://localhost:8080/"
        },
        "id": "zqdvu4ac-XGE",
        "outputId": "dfedaed1-27ed-4c05-9f07-c059548b7ebc"
      },
      "source": [
        "M_product_2 = 1000\r\n",
        "q_product_2 = 0.1\r\n",
        "p_product_2 = 0.4\r\n",
        "\r\n",
        "print(\"Demand prediction for product 2\")\r\n",
        "for t in [1,2,3,4,5]:\r\n",
        "  ft_product_2 = Bass_probability_ft(p_product_2, q_product_2, t)\r\n",
        "  print(\"Year[\",t,\"]: f(t) = \",ft_product_2,\", N. of adoptions at t = \", M_product_2*ft_product_2)\r\n"
      ],
      "execution_count": 41,
      "outputs": [
        {
          "output_type": "stream",
          "text": [
            "Demand prediction for product 2\n",
            "Year[ 1 ]: f(t) =  0.28582803718076366 , N. of adoptions at t =  285.82803718076366\n",
            "Year[ 2 ]: f(t) =  0.19282539624836575 , N. of adoptions at t =  192.82539624836576\n",
            "Year[ 3 ]: f(t) =  0.12510922772856034 , N. of adoptions at t =  125.10922772856034\n",
            "Year[ 4 ]: f(t) =  0.07913882218462313 , N. of adoptions at t =  79.13882218462314\n",
            "Year[ 5 ]: f(t) =  0.04926060123992242 , N. of adoptions at t =  49.26060123992242\n"
          ],
          "name": "stdout"
        }
      ]
    },
    {
      "cell_type": "markdown",
      "metadata": {
        "id": "70L-TrVsPCpU"
      },
      "source": [
        "### Example 3.2: Bass diffusion using `while` loop\n",
        "\n",
        "`while` loop must be defined with a condition and the loop continues until the condition is no longer met.\n",
        " \n",
        "Repeat Exercise 3.1 using a `while` loop."
      ]
    },
    {
      "cell_type": "code",
      "metadata": {
        "colab": {
          "base_uri": "https://localhost:8080/"
        },
        "id": "8LpzY2R0PCpV",
        "outputId": "dd77c461-c9a8-42f9-b706-338013ea74b4"
      },
      "source": [
        "t = 1 # set the initial value of t\n",
        "\n",
        "print(\"Demand prediction for product 1\")\n",
        "while t <= 5:\n",
        "  ft_product_1 = Bass_probability_ft(p_product_1, q_product_1, t)\n",
        "  print(\"Year[\",t,\"]: f(t) = \",ft_product_1,\", N. of adoptions at t = \", M_product_1*ft_product_1)\n",
        "  t = t + 1\n"
      ],
      "execution_count": 42,
      "outputs": [
        {
          "output_type": "stream",
          "text": [
            "Demand prediction for product 1\n",
            "Year[ 1 ]: f(t) =  0.12917752476765507 , N. of adoptions at t =  129.17752476765506\n",
            "Year[ 2 ]: f(t) =  0.15056292870810317 , N. of adoptions at t =  150.5629287081032\n",
            "Year[ 3 ]: f(t) =  0.15574604829943434 , N. of adoptions at t =  155.74604829943434\n",
            "Year[ 4 ]: f(t) =  0.14241427003438314 , N. of adoptions at t =  142.41427003438315\n",
            "Year[ 5 ]: f(t) =  0.11630149735530057 , N. of adoptions at t =  116.30149735530057\n"
          ],
          "name": "stdout"
        }
      ]
    },
    {
      "cell_type": "code",
      "metadata": {
        "id": "VeEYIOJ_BboS",
        "outputId": "74a409c0-14e5-4f27-b405-b5c74877c412",
        "colab": {
          "base_uri": "https://localhost:8080/"
        }
      },
      "source": [
        "t = 1 # set the initial value of t\r\n",
        "\r\n",
        "print(\"Demand prediction for product 2\")\r\n",
        "while t <= 5:\r\n",
        "  ft_product_2 = Bass_probability_ft(p_product_2, q_product_2, t)\r\n",
        "  print(\"Year[\",t,\"]: f(t) = \",ft_product_2,\", N. of adoptions at t = \", M_product_2*ft_product_2)\r\n",
        "  t += 1 # this is equivalent to t = t + 1\r\n"
      ],
      "execution_count": 43,
      "outputs": [
        {
          "output_type": "stream",
          "text": [
            "Demand prediction for product 2\n",
            "Year[ 1 ]: f(t) =  0.28582803718076366 , N. of adoptions at t =  285.82803718076366\n",
            "Year[ 2 ]: f(t) =  0.19282539624836575 , N. of adoptions at t =  192.82539624836576\n",
            "Year[ 3 ]: f(t) =  0.12510922772856034 , N. of adoptions at t =  125.10922772856034\n",
            "Year[ 4 ]: f(t) =  0.07913882218462313 , N. of adoptions at t =  79.13882218462314\n",
            "Year[ 5 ]: f(t) =  0.04926060123992242 , N. of adoptions at t =  49.26060123992242\n"
          ],
          "name": "stdout"
        }
      ]
    },
    {
      "cell_type": "code",
      "metadata": {
        "id": "C3V1XATYPCpW"
      },
      "source": [
        ""
      ],
      "execution_count": null,
      "outputs": []
    }
  ]
}