{
  "nbformat": 4,
  "nbformat_minor": 0,
  "metadata": {
    "kernelspec": {
      "display_name": "Python 3",
      "language": "python",
      "name": "python3"
    },
    "language_info": {
      "codemirror_mode": {
        "name": "ipython",
        "version": 3
      },
      "file_extension": ".py",
      "mimetype": "text/x-python",
      "name": "python",
      "nbconvert_exporter": "python",
      "pygments_lexer": "ipython3",
      "version": "3.7.6"
    },
    "colab": {
      "name": "03_AfterClass_Exercises_Solution.ipynb",
      "provenance": [],
      "include_colab_link": true
    }
  },
  "cells": [
    {
      "cell_type": "markdown",
      "metadata": {
        "id": "view-in-github",
        "colab_type": "text"
      },
      "source": [
        "<a href=\"https://colab.research.google.com/github/acedesci/scanalytics/blob/master/S03_Data_Structures_1/03_AfterClass_Exercises_Data_Structure.ipynb\" target=\"_parent\"><img src=\"https://colab.research.google.com/assets/colab-badge.svg\" alt=\"Open In Colab\"/></a>"
      ]
    },
    {
      "cell_type": "markdown",
      "metadata": {
        "id": "-__V4rB0zAnI"
      },
      "source": [
        "# S3 - After-class Exercises: Python Data Structure - Part I (Solution)\n",
        "\n",
        "---\n",
        "## Instructions:\n",
        "Most of the exercises presented here allows you to practice basic Python programming for some applications in Operations Management and Logistics.\n",
        "\n",
        "For each exercise, you have a code cell for the response underneath it, where you should write your answer between the lines containing `### start your code here ###` and `### end your code here ###`. Your code can contain one or more lines and you can execute this cell in order to complete the exercise. To execute the cell, you can type `Shift+Enter` or press the play button in the toolbar above. Your results will appear right below this response cell.\n",
        "\n",
        "NOTE: Please pay attention to the variable name of the output you would need to provide under each question. You must use the same variable name for the output so that the result can be printed out correctly."
      ]
    },
    {
      "cell_type": "markdown",
      "metadata": {
        "id": "5pBSuHQNzAnK"
      },
      "source": [
        "---\n",
        "## Aggregate Planning \n",
        "\n",
        "Production planning is usually done at an aggregate level, for both products and resources. The objective of aggregate planning or so called *sales and operations planning (S&OP)* is to meet forecasted demand while minimizing cost over the planning period.\n",
        "The concept of aggregated planning is aimed at achieving a balance between demand and supply. Distinct but similar products are combined into aggregate product families that can be planned for together so as to reduce planning complexity.\n",
        "\n",
        "Using information about forecast demand of similar products, a logical overall unit measuring sales and output, a method for determining costs, capacity planning results, among others, a company makes the following determinations through aggregate planning:\n",
        "\n",
        "* **Production quantity** from regular time, overtime, and subcontracted time: used to\n",
        "determine number of workers and supplier purchase levels;\n",
        "* **Inventory held**: used to determine the warehouse space and working capital\n",
        "required;\n",
        "* **Backlog/stockout quantity:** used to determine customer service levels;\n",
        "* **Machine capacity increase/decrease**: used to determine if new production equipment should be purchased or idled.\n",
        "\n",
        "In this exercise, you will be given an illustrative situation and perform several steps to develop an aggregate plan. \n",
        "\n",
        "### Exercise 1.1: Equivalent Units vs Actual Production Units\n",
        "\n",
        "Since the decisions that go into preparing aggregate plans are strategics in nature, they cannot be made separately for each of a company's product. Rather, they must include all products. or at least a large family of products. The **aggregate production plan (APP)** must therefore be stablished using *equivalent units* rather than the actual *production units*. Equivalent units (EU) are the reference units into which all the products of a company are converted into standard units. \n",
        "\n",
        "Consider a company which produce three diferent types of desks, as shown below. One can recognize that manufacturing a corner workstation requires more capacity resources (employees hours and machine capacity) than a stand along desk. \n",
        "\n",
        "<div>\n",
        "  <img src=\"https://raw.githubusercontent.com/acedesci/scanalytics/master/S03_Data_Structures_1/Desks.png\" width=\"500\">\n",
        "</div>\n",
        "\n",
        "The first step to develop our APP is to express our forecast demand in EU. In this exercise you are provided with a dictionary which contains the forecast demand in production units for each one of the tree products (Desk A, Desk B and Dssk C) over a planning horizon of 12 periods, and the conversion of each production unit into EU. Using the dictionary `forecast_dem`, create a list with the aggregated forecast demand in EU. Each element of this list is computed as follows:\n",
        "\n",
        "$$AF_t=F_{t}^{(Desk A)}* EU^{(Desk A)}+F_{t}^{(Desk B)}* EU^{(Desk B)}+F_{t}^{(Desk B)}* EU^{(Desk B)}$$\n",
        "\n",
        "where:\n",
        "* $AF_t$: aggregated forecast in EU for period t;\n",
        "* $F_{t}^{(Desk)}$: forecast demand for period $t$ of the corresponding product type;\n",
        "* $EU^{(Desk)}$: EU per production unit of the corresponding product type.\n"
      ]
    },
    {
      "cell_type": "code",
      "metadata": {
        "id": "RU3QyTDZzAnL"
      },
      "source": [
        "# Dict. format: {'product_name': {\"eu\": (number) equivalent units, \"forecast\": (list) forecast demand in prod. units}, }\n",
        "forecast_dem = {\"desk_A\": {'eu': 1, \"forecast\":[119,  89, 111, 106, 153, 193, 173,  91, 143, 121, 170,  92]},\n",
        "                \"desk_B\": {'eu': 1.5, \"forecast\":[59,  80,  57, 116, 118,  78,  51,  69,  76,  90, 109,  54]},\n",
        "                \"desk_C\": {'eu': 3, \"forecast\":[47, 63, 47, 61, 66, 56, 41, 67, 73, 74, 73, 78]}}\n",
        "                                  \n",
        "### start your code here ####\n",
        "\n",
        "### end your code here ####\n",
        "\n",
        "print(\"Aggregated forecast is: \" , agg_forecast)                          \n"
      ],
      "execution_count": null,
      "outputs": []
    },
    {
      "cell_type": "markdown",
      "metadata": {
        "id": "smfUNx1lzAnM"
      },
      "source": [
        "### Exercise 2.1: Strategies for Aggregate planning\n",
        "\n",
        "In general, a company attempts to use its capacity and inventory to best meet demand. Therefore, the fundamental trade-offs relevant for a planner include:\n",
        "\n",
        "* Capacity (regular time, overtime, subcontracted)\n",
        "* Inventory\n",
        "* Backlog/lost sales because of delay.\n",
        "\n",
        "Methods for aggregate planning can be based on the empirical knowledge of the planners or on mathematical models. Classical strategies for aggregate production planning include the *chase demand strategy*, the *production level strategy* and *mixed strategies*.  \n",
        "\n",
        "* **Production Level strategy** is based on using inventory as a lever. With the help of this strategy, a stable workforce and machine capacity are maintained with a **constant output rate**. While daily production is steady, we use inventory as buffer. Stable production tends to lead to better quality and productivity in practice.\n",
        "\n",
        "* **Chase demand strategy** In this strategy, **we match output rates to the demand forecast** for each period. Thus, we have to vary workforce levels or production rate with an attempt to minimize inventory. Such a strategy is also common in service organizations. \n",
        "\n",
        "In this exercise, you will start develop a simplified aggreated plan based on both strategies. You are required to populate the following dictionary which will include all relevant information of the plan. Note that each element of dictionary is initiated with an empty list.\n"
      ]
    },
    {
      "cell_type": "code",
      "metadata": {
        "id": "vgZ4aolSzAnN"
      },
      "source": [
        "output = {'demand': [], \n",
        "       'production': [],\n",
        "       'inventory': [],\n",
        "       'employees': []}\n",
        "\n",
        "print(output)"
      ],
      "execution_count": null,
      "outputs": []
    },
    {
      "cell_type": "markdown",
      "metadata": {
        "id": "CwN9tG8xzAnN"
      },
      "source": [
        "Each key of the dictionary represent an element of the aggregated plan. You must complete each item of the dictionary according the following instructions:\n",
        "\n",
        "* `'demand': list of 12 elements`. This represents the demand over the planning horizon. It includes the aggregate forecast in EU for period indexes 0 to 11. This item is already complete.\n",
        "* `'production': list of 12 elements`. This represent the quantity (in EU) to be produced in each period. As for the production level strategy, we set the quantity to be produced to the average demand of the subsequent 12 periods. For the case demand strategy, we then set the production quantity equal to the estimated demand in each period.\n",
        "* `'inventory': list of 12 elements`. This corresponds to the inventory on hand at the end of each period. The initial inventory is assumed to be zero. For each period $t$, the inventory on hand can be calculated as the inventory at the end of period $t-1$, plus the production at period $t$, minus demand in period $t$ ($Inv_t = Inv_{t-1}+Prod_t-Dem_t$). The inventory value **can be negative** which indicates the case of `backlogging` which incurs backlogging cost in practice (the cost calculation is omitted here). \n",
        "* `employees: list of 12 elements`. This corresponds to the number of employees required per time period. The company has 5 employees currently, each of them capable of producing **50 EU per period**.\n",
        "\n",
        "\n",
        "Please write a function which takes a list of aggregate demand and a list of production levels (number of EUs to be produced) in each period and return the resulting dictionary. Note that all the numbers should be rounded to one decimal using `round(x,1)` where `x` is the number so that they can be easier to read."
      ]
    },
    {
      "cell_type": "code",
      "metadata": {
        "id": "X4hN_zuhADWP"
      },
      "source": [
        "def productionProjection(agg_forecast, production_plan):\r\n",
        "\r\n",
        "    output = {'demand': agg_forecast, \r\n",
        "            'production': production_plan,\r\n",
        "            'inventory': [],\r\n",
        "            'employees': []}\r\n",
        "    \r\n",
        "    ### start your code here ####\r\n",
        "    \r\n",
        "\r\n",
        "    ### end your code here ####   \r\n",
        "    return output \r\n",
        "\r\n",
        "average_demand =  round(sum(agg_forecast)/12,1) # calculate the average demand to be used in production plan the number of rounded to 1 digit\r\n",
        "production_plan = [average_demand]*12\r\n",
        "\r\n",
        "print('Production level strategy: ', productionProjection(agg_forecast, production_plan))\r\n",
        "print('Chase demand strategy: ', productionProjection(agg_forecast, agg_forecast)) # production plan matches the agg_forecast"
      ],
      "execution_count": null,
      "outputs": []
    }
  ]
}