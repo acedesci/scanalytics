{
 "cells": [
  {
   "cell_type": "markdown",
   "metadata": {
    "colab_type": "text",
    "id": "view-in-github"
   },
   "source": [
    "<a href=\"https://colab.research.google.com/github/acedesci/scanalytics/blob/master/S03_Data_Structures_1/03_Lecture_Example1_Intro_Structures.ipynb\" target=\"_parent\"><img src=\"https://colab.research.google.com/assets/colab-badge.svg\" alt=\"Open In Colab\"/></a>"
   ]
  },
  {
   "cell_type": "markdown",
   "metadata": {
    "id": "0JBJMPk1jzTm"
   },
   "source": [
    "# S3 - Python Data Structures I\n",
    "\n",
    "Programming topics covered in this section:\n",
    "- Strings/Charts\n",
    "- Lists/Tuples\n",
    "- Dictionaries\n",
    "\n"
   ]
  },
  {
   "cell_type": "markdown",
   "metadata": {
    "id": "V-SIg01DjzTs"
   },
   "source": [
    "---\n",
    "## 1. String\n",
    "A string is an immutable sequence of characters. There are a large number of functions methods to manipulate them. You can look at  [this page](https://www.w3schools.com/python/python_strings.asp) and [this page](https://docs.python.org/3.7/library/stdtypes.html#string-methods) for more information.\n",
    " \n",
    "Each element of a string (and other sequences) can be accessed with an index between square brackets. All indexes in Python starts at 0.\n",
    "\n",
    "**Useful functions for a string (and other sequences):**\n",
    "- `len()`: get the length of a string (i.e., the number of characters)\n",
    "- `in` keyword: check if a certain phrase or character is present in a string\n",
    "- `not in` keyword: check if a certain phrase or character is NOT present in a string\n",
    "\n",
    "**Useful string methods:**\n",
    "- `.capitalize()`: return a copy of the string with its first character capitalized and the rest lowercased\n",
    "- `.lower()`: returns a string where all characters are in upper case\n",
    "- `.upper()`: returns a string where all characters are in lower case\n",
    "- `.split(sep)`: return a list of the words in the string, using `sep` as the delimiter string\n",
    "\n",
    "**String operations:**\n",
    "- `+`: performs string concatenation\n",
    "- `*`: performs repetition of the string \n",
    "\n",
    "\n"
   ]
  },
  {
   "cell_type": "markdown",
   "metadata": {
    "id": "hHL-CnUUjzTs"
   },
   "source": [
    "### Example 1.1: Using common string methods and functions\n",
    "Using common string methods, functions and operations."
   ]
  },
  {
   "cell_type": "code",
   "execution_count": null,
   "metadata": {
    "id": "acJTuaDyjzTt",
    "scrolled": true
   },
   "outputs": [],
   "source": [
    "# defining a variable of type string\n",
    "province = \"Alberta-AB\"\n",
    "print('Structure type', type(province))\n",
    "\n",
    "# Using some commom functions\n",
    "print('Number of characters: ', len(province))\n",
    "print('First letter/character: ', province[0])   # you can access to the n-th character in a similar way (e.g., province[n])\n",
    "print('Last letter/character: ', province[-1])   \n",
    "print('Last 3 characters (string slices): ', province[-3:])\n",
    "print('First 3 characters (string slices): ', province[:3])\n",
    "print('Upper case the string: ', province.upper())\n",
    "print('Lower case the string: ', province.lower())\n",
    "print(\"Is it 'A' in the string?:\",\"A\" in province)\n",
    "print(\"Is not 'A' in the string?:\",\"A\" not in province)"
   ]
  },
  {
   "cell_type": "code",
   "execution_count": null,
   "metadata": {
    "id": "ZZMUFnigjzTu"
   },
   "outputs": [],
   "source": [
    "# Using the split method\n",
    "province_split = province.split('-')\n",
    "print(\"Splitting the string considering the separator'-' (it returns a list of strings): \", province_split)\n",
    "print(\"The province's name (first element): \", province_split[0])\n",
    "print(\"Abbreviation of the province's name (second element): \", province_split[1])"
   ]
  },
  {
   "cell_type": "markdown",
   "metadata": {
    "id": "troO4HU0jzTv"
   },
   "source": [
    "### Example 1.2: Extracting information from the product's reference\n",
    "Define a function which returns the following information using the reference code of a product.\n",
    "\n",
    "- The product reference (number)\n",
    "- The day, month and year in which the product was produced\n",
    "- The supplier reference (number)\n",
    "- The full name of the province from which the product was delivered. The reference code use the following convention:\n",
    "    * QC: Quebec\n",
    "    * ON: Ontario\n",
    "    * BC: British Columbia\n",
    "    * SK: Saskatchewan\n",
    "    * MB: Manitoba\n",
    "    * AB: Alberta\n",
    "    \n",
    "The format of the product's reference is as follows:\n",
    "\n",
    "<div>\n",
    "  <img src=\"attachment:ProductRef-2.png\" width=\"500\">\n",
    "</div>"
   ]
  },
  {
   "cell_type": "code",
   "execution_count": null,
   "metadata": {
    "id": "Iz-SfD3OjzTv"
   },
   "outputs": [],
   "source": [
    "# defining a function which provide products info based on its reference\n",
    "def ProductInfo(reference):\n",
    "    \"\"\"\n",
    "    Return information based on the product's reference\n",
    "    Parameters:\n",
    "        reference: (string) list of characters for the \n",
    "    Return:\n",
    "        prod_ref: (number) product's reference\n",
    "        day: (number) production day\n",
    "        month: (number) production month\n",
    "        year: (number) production year\n",
    "        sup_province: (string) name of the province from which the product was delivered\n",
    "        sup_ref: (number) supplier's reference     \n",
    "        \n",
    "    \"\"\"\n",
    "    prod_ref = int(reference.split('-')[-1])   # last item (converted to int) after splitting the input string using the '-' sep\n",
    "    date = reference.split('-')[1]   # second element after splitting the input string using the '-' separator\n",
    "    supply_info = reference.split('-')[0]  # first element after splitting the input string using the '-' separator\n",
    "    \n",
    "    return  prod_ref, int(date[:2]), int(date[2:4]), int(date[4:]), supply_info[:2], supply_info[2:]\n",
    "\n",
    "# Determining the production year of the product based on its reference\n",
    "prod_ref = 'ON41-12012012-56'\n",
    "print('Production year of the product with reference number ', prod_ref,' : ', ProductInfo(prod_ref)[3])\n"
   ]
  },
  {
   "cell_type": "markdown",
   "metadata": {
    "id": "Wk_nwv5yjzTv"
   },
   "source": [
    "---\n",
    "## 2. Lists and Tuples\n",
    "\n",
    "### Lists\n",
    "Like a string, a **list** is a sequence of values. In a string, the values are characters; in a list, they can be any type. The values in a list are called **elements** or sometimes **items**.\n",
    "\n",
    "There are several ways to create a new list; the simplest is to enclose the elements in square brackets (`[` and `]`):\n",
    "- `[10, 20, 30, 40]`\n",
    "- `['Quebec', 'Ontario', 'Alberta']`\n",
    "\n",
    "Lists can contain strings, floats, and another lists. A list within another list is **nested**. A list with no elements is an **empty** list, which is created with empty brackets `[]`.\n",
    "- `nested = [[5, 10], [12, 21], [10, 20]]`\n",
    "- `empty = []`\n",
    "\n",
    "For more information, check [this page](https://www.w3schools.com/python/python_lists.asp).\n",
    "\n",
    "Code example:"
   ]
  },
  {
   "cell_type": "code",
   "execution_count": null,
   "metadata": {
    "id": "F4DsRTJiSOoK"
   },
   "outputs": [],
   "source": [
    "prices = [12.5, 12.4, 12.0, 13.0, 12.6, 13.5, 12.8, 11.7]\n",
    "\n",
    "# function \"len(x)\" gives the number of elements in the list\n",
    "print(len(prices))\n",
    "\n",
    "# Manupulating lists\n",
    "# note that the index of the list always starts at zero, and then 1, 2, 3,...\n",
    "print(prices[0])\n",
    "print(prices[1])"
   ]
  },
  {
   "cell_type": "code",
   "execution_count": null,
   "metadata": {
    "id": "uUVVN3_cUKXh"
   },
   "outputs": [],
   "source": [
    "# if you want to get the number of the last index, you can also use -1. The second ast is -2, -3 and so on\n",
    "print(prices[-1])\n",
    "print(prices[-2])"
   ]
  },
  {
   "cell_type": "code",
   "execution_count": null,
   "metadata": {
    "id": "i4tRSzxlUL3q"
   },
   "outputs": [],
   "source": [
    "# if you write sales[a:b] where a and b are the starting and ending index, respectively, \n",
    "# this will give the \"slice\" of list from a to b-1\n",
    "print(prices[2:5])\n",
    "print(prices[2:-1])"
   ]
  },
  {
   "cell_type": "code",
   "execution_count": null,
   "metadata": {
    "id": "u8QinsuU2Nfv"
   },
   "outputs": [],
   "source": [
    "# you can add an element to the list\n",
    "province = ['Quebec', 'Ontario', 'Alberta']\n",
    "province.append('British Columbia')\n",
    "print(province)\n",
    "\n",
    "# or remove an element from the list\n",
    "province.remove('British Columbia')\n",
    "print(province)\n",
    "\n",
    "# or combine list\n",
    "province_2 = ['Prince Edward Island','Saskatchewan']\n",
    "print(province + province_2)"
   ]
  },
  {
   "cell_type": "markdown",
   "metadata": {
    "id": "t95VDj8F5-1M"
   },
   "source": [
    "Python list offers the use of list comprehension which can be used in conjunction with for and conditional statements (see [this link](https://www.w3schools.com/python/python_lists_comprehension.asp) for more detail) "
   ]
  },
  {
   "cell_type": "code",
   "execution_count": null,
   "metadata": {
    "id": "aXUs5j9p5-Op"
   },
   "outputs": [],
   "source": [
    "product_price = [1.5, 2.4, 2.0, 3.0]\n",
    "product_demand = [100, 200, 150, 400]\n",
    "\n",
    "n_elements = len(product_price) # get the length of the list\n",
    "revenue = [product_price[i]*product_demand[i] for i in range(n_elements)] # total revenue for each product\n",
    "print(revenue)"
   ]
  },
  {
   "cell_type": "code",
   "execution_count": null,
   "metadata": {
    "id": "kBvZ1gxD7qVi"
   },
   "outputs": [],
   "source": [
    "# calculate the revenue only for the product with the price of more than $2"
   ]
  },
  {
   "cell_type": "code",
   "execution_count": null,
   "metadata": {
    "id": "S5V_jNQV73Jf"
   },
   "outputs": [],
   "source": [
    "# total revenue for each product for price > 2\n",
    "revenue_p2 = [product_price[i]*product_demand[i] for i in range(n_elements) if product_price[i] > 2] \n",
    "print(revenue_p2)"
   ]
  },
  {
   "cell_type": "code",
   "execution_count": null,
   "metadata": {
    "id": "-m5ZdEW48Sph"
   },
   "outputs": [],
   "source": [
    "# which is the same as using the for and if statement as follows\n",
    "revenue_p2_loop = []\n",
    "for i in range(n_elements):\n",
    "  if product_price[i] > 2:\n",
    "    revenue_p2_loop.append(product_price[i]*product_demand[i])\n",
    "\n",
    "print(revenue_p2_loop)"
   ]
  },
  {
   "cell_type": "markdown",
   "metadata": {
    "id": "CDATsnH62tG5"
   },
   "source": [
    "----\n",
    "### Tuples\n",
    "A tuple is a sequence of values. The values can be of any type. Tuples are immutable or unchangeable. Because tuples are immutable, their values cannot be modified (different from lists). You can see [this page](https://www.w3schools.com/python/python_tuples.asp) for more information.\n",
    "\n",
    "Syntactically, a tuple is a comma-separated list of values. It is common to enclose tuples in parentheses:\n",
    "`t = ('a', 'b', 'c', 'd', 'e')`\n",
    "\n",
    "*NOTE:* you can basically think about a tuple as a list which cannot be modified/changed. Thus. the use of tuple is when any maniputation is not allowed.\n",
    "\n",
    "To create a tuple with a single element, you have to include a final comma:\n",
    "\n",
    "` t1 = 'a',\n",
    "type(t1)\n",
    "<class 'tuple'>`\n",
    "\n",
    "A value in parentheses is not a tuple:\n",
    "\n",
    "`t2 = ('a')\n",
    "type(t2)\n",
    "<class 'str'>`\n"
   ]
  },
  {
   "cell_type": "code",
   "execution_count": null,
   "metadata": {
    "id": "MzZyU3KN3zaN"
   },
   "outputs": [],
   "source": [
    "province_tuple = ('Quebec', 'Ontario', 'Alberta')\n",
    "print(type(province_tuple))\n",
    "\n",
    "# we cannot make any change to the tuple\n",
    "province_tuple.append('British Columbia')\n"
   ]
  },
  {
   "cell_type": "code",
   "execution_count": null,
   "metadata": {
    "id": "p5uws1B74bE0"
   },
   "outputs": [],
   "source": [
    "# but we can copy it to list and make modification to the list instead\n",
    "province_list = list(province_tuple)\n",
    "print(province_list)\n",
    "province_list.append('British Columbia')\n",
    "print(province_list)"
   ]
  },
  {
   "cell_type": "markdown",
   "metadata": {
    "id": "CHkST7Y-jzTz"
   },
   "source": [
    "---\n",
    "## 3. Dictionaries\n",
    "A **dictionary** is like a list, but more general. In a list, the indices have to be integers; in a dictionary they can be (almost) any type.\n",
    "\n",
    "A dictionary contains a collection of indices, which are called **keys**, and a collection of values. Each key is associated with a single value. The association of a key and a value is called a **key-value pair** or sometimes an **item**.\n",
    "\n",
    "In mathematical language, a dictionary represents a **mapping** from keys to values, so you can also say that each key \"maps to\" a value. For more information,  see [this page](https://www.w3schools.com/python/python_dictionaries.asp).\n",
    "### Example: Shipment Rates\n",
    "An online retailer determines its shipment rates (in $) based on the location of the customer as follows.\n",
    "\n",
    "\n",
    "\n",
    "|Alberta (AB)| British Columbia (BC) | Manitoba (MB)| New Brunswick (NB) | Newfoundland and Labrador (NL) | Nova Scotia (NS) | Ontario  (ON)  | Prince Edward Island (PE)|  Quebec (QC) |Saskatchewan (SK)| Yokon (YT)|\n",
    "| :- | :- | :- | :- | :- | :- | :- | :- | :- | :- | :- |\n",
    "|10 | 15 | 12.5 | NA | 30.5 | 25 | 8 | NA | 8 | 16 | 18.5 |\n",
    "\n",
    "We would like to define a function which returns the shipment rate to charge to a customer based on its province location. First, we create a dictionary to save the information about the shipment rates adopted by the retailer.\n",
    "\n"
   ]
  },
  {
   "cell_type": "code",
   "execution_count": null,
   "metadata": {
    "id": "5BWqG2w3jzTz"
   },
   "outputs": [],
   "source": [
    "# Format of the dictionary: {'province_abv': shipment rate}\n",
    "# keys: abbreviation of the province\n",
    "# values:  float - shipment rate if applicable\n",
    "\n",
    "ship_rates = {'AB':  10,\n",
    "             'BC':  15,\n",
    "             'MB': 12.5,\n",
    "             'NL': 30.5,\n",
    "             'NS': 25,\n",
    "             'ON':  8,\n",
    "             'QC':  8,\n",
    "             'SK':  16,\n",
    "             'YT':  18.5} \n",
    "# Note that NB and PE are not included in the dictionary, as shipment is not available to these provinces\n",
    "print(ship_rates)"
   ]
  },
  {
   "cell_type": "code",
   "execution_count": null,
   "metadata": {
    "id": "ibQJkqoxjzT0"
   },
   "outputs": [],
   "source": [
    "cust_loc = 'QC'\n",
    "print(\"The shipment rate for a customer in\", cust_loc,\" is: \", ship_rates[cust_loc])\n",
    "cust_loc = 'PE'\n",
    "print(\"The shipment rate for a customer in\", cust_loc,\" is: \", ship_rates[cust_loc])\n",
    "    "
   ]
  },
  {
   "cell_type": "markdown",
   "metadata": {
    "id": "VH74fv_dxqxW"
   },
   "source": [
    "We can also access the dictionary to known the shipment rate given the abbreviated name of the customer's province. In case that there is no shipment available, we can create a message that indicates the exception. The method `.get()` might be useful in this case (check [this page](https://www.w3schools.com/python/ref_dictionary_get.asp) for more information). "
   ]
  },
  {
   "cell_type": "code",
   "execution_count": null,
   "metadata": {
    "id": "_aRY-BarxvZp"
   },
   "outputs": [],
   "source": [
    "cust_loc = 'QC'\n",
    "print(\"The shipment rate for a customer in\", cust_loc,\" is: \", ship_rates.get(cust_loc))\n",
    "cust_loc = 'PE'\n",
    "print(\"The shipment rate for a customer in\", cust_loc,\" is: \", ship_rates.get(cust_loc))"
   ]
  }
 ],
 "metadata": {
  "colab": {
   "include_colab_link": true,
   "name": "03_Lecture_Example1_Intro_Structures.ipynb",
   "provenance": []
  },
  "kernelspec": {
   "display_name": "Python 3 (ipykernel)",
   "language": "python",
   "name": "python3"
  },
  "language_info": {
   "codemirror_mode": {
    "name": "ipython",
    "version": 3
   },
   "file_extension": ".py",
   "mimetype": "text/x-python",
   "name": "python",
   "nbconvert_exporter": "python",
   "pygments_lexer": "ipython3",
   "version": "3.8.8"
  },
  "toc": {
   "base_numbering": 1,
   "nav_menu": {},
   "number_sections": true,
   "sideBar": true,
   "skip_h1_title": false,
   "title_cell": "Table of Contents",
   "title_sidebar": "Contents",
   "toc_cell": false,
   "toc_position": {},
   "toc_section_display": true,
   "toc_window_display": true
  }
 },
 "nbformat": 4,
 "nbformat_minor": 1
}
