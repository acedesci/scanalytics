{
  "nbformat": 4,
  "nbformat_minor": 0,
  "metadata": {
    "kernelspec": {
      "display_name": "Python 3",
      "language": "python",
      "name": "python3"
    },
    "language_info": {
      "codemirror_mode": {
        "name": "ipython",
        "version": 3
      },
      "file_extension": ".py",
      "mimetype": "text/x-python",
      "name": "python",
      "nbconvert_exporter": "python",
      "pygments_lexer": "ipython3",
      "version": "3.7.6"
    },
    "colab": {
      "name": "03_Lecture_Example2_SC_examples.ipynb",
      "provenance": [],
      "include_colab_link": true
    }
  },
  "cells": [
    {
      "cell_type": "markdown",
      "metadata": {
        "id": "view-in-github",
        "colab_type": "text"
      },
      "source": [
        "<a href=\"https://colab.research.google.com/github/acedesci/scanalytics/blob/master/S03_Data_Structures_1/03_Lecture_Example2_SC_examples.ipynb\" target=\"_parent\"><img src=\"https://colab.research.google.com/assets/colab-badge.svg\" alt=\"Open In Colab\"/></a>"
      ]
    },
    {
      "cell_type": "markdown",
      "metadata": {
        "id": "0JBJMPk1jzTm"
      },
      "source": [
        "# S3 - Python Data Structures I - SC examples\n",
        "\n",
        "Supply chain examples include:\n",
        "1. Forecasting methods\n",
        " - Naive (random walk and seasonal)\n",
        " - Moving Average\n",
        " - Simple exponential smoothing\n",
        "2. Forecasting error measures: mean squared error (MSE), mean absolute percentage error (MAPE)\n",
        "3. Optimal parameter search for forecasting methods using Python\n",
        "\n",
        "*NOTE:* the examples are used to show the applications of data structures covered in Session 3. It is also possible to use a more advanced data structure (in particular DataFrame) for this as well (which will be covered in Session 4)."
      ]
    },
    {
      "cell_type": "markdown",
      "metadata": {
        "id": "nnds9X0IL3GW"
      },
      "source": [
        "### Example 1: Naive Forecasting Method\r\n",
        "In the simple naive forecasting method, we simply use the observed demand of the previous period $t$ as the forecast for period $t+1$. Formally, we have\r\n",
        "\r\n",
        "> $$F_{t+1}=D_{t}$$\r\n",
        "> Where:\r\n",
        "> - $F_{t+1}$: forecast for the period $t+1$\r\n",
        "> - $D_t$: demand for period $t$\r\n",
        "\r\n",
        "This method is referred to as \"random walk\" forecasts which work surprisingly well in predicting some financial time series (e.g., stock prices).\r\n",
        "\r\n",
        "Given the historical sales below of the past 12 months\r\n",
        "- Historical sales = `[125, 142, 120, 153, 156, 135, 128, 117, 140, 134, 132, 126]`\r\n",
        "\r\n",
        "We can write a function to calculate the naive forecast of a given period $t$."
      ]
    },
    {
      "cell_type": "code",
      "metadata": {
        "id": "rsG2dQMVPWF3"
      },
      "source": [
        "# first we prepare the list for historical demands (sales)\r\n",
        "sales = [125, 142, 120, 153, 156, 135, 128, 117, 140, 134, 132, 126]\r\n"
      ],
      "execution_count": null,
      "outputs": []
    },
    {
      "cell_type": "code",
      "metadata": {
        "id": "c_n-luE1P8qO"
      },
      "source": [
        "# defining the naive forecast function\r\n",
        "def naiveForecast(historical_sales, t):\r\n",
        "  \"\"\"\r\n",
        "  Return the predicted demand for the next period using the naive forecast\r\n",
        "  parameters:\r\n",
        "      historical_sales: (list) real sales in the previous periods\r\n",
        "      t: (int number) period to forecast\r\n",
        "  return:\r\n",
        "      forecast for period t\r\n",
        "  \"\"\"\r\n",
        "  return historical_sales[t-1]\r\n"
      ],
      "execution_count": null,
      "outputs": []
    },
    {
      "cell_type": "code",
      "metadata": {
        "id": "SgrSh2DdQos5"
      },
      "source": [
        "t = 12 # this is period 13 as the first index starts at zero. We cannot go beyond this as we have only 12 elements in the list (indexed 0 -> 11)\r\n",
        "print(\"Naive forecast for t = \", t, \" is \", \"{:.2f}\".format(naiveForecast(sales, t))) #the use of \"{:.2f}\".format(x) is to print out exactly 2 digits"
      ],
      "execution_count": null,
      "outputs": []
    },
    {
      "cell_type": "markdown",
      "metadata": {
        "id": "G_n1EXhxU2U9"
      },
      "source": [
        "Alternatively, in the **seasonal** naive forecast, we can look back to the same period in the previous seasonality cycle and take that value as the forecast (e.g., using sales in Jan 2021 as the forecast for Jan 2022). We can extend the previous function for this case."
      ]
    },
    {
      "cell_type": "code",
      "metadata": {
        "id": "vdEPrjq9U09I"
      },
      "source": [
        "# defining the naive forecast function\r\n",
        "def seasonalNaiveForecast(historical_sales, t, s):\r\n",
        "  \"\"\"\r\n",
        "    Return the predicted demand for the next period using the seasonal naive forecast\r\n",
        "    parameters:\r\n",
        "        historical_sales: (list) real sales in the previous periods\r\n",
        "        t: (int number) period to forecast\r\n",
        "        s: (int number) length of seasonality cycle\r\n",
        "    return:\r\n",
        "        forecast for period t\r\n",
        "  \"\"\"\r\n",
        "  return historical_sales[t-s]"
      ],
      "execution_count": null,
      "outputs": []
    },
    {
      "cell_type": "code",
      "metadata": {
        "id": "SDbvZHcbQd0N"
      },
      "source": [
        "t = 12 # period to forecast\r\n",
        "s = 6 # seasonality cycle\r\n",
        "print(\"Seasonal Naive forecast for t = \", t, \"and s =\", s,\" is \", \"{:.2f}\".format(seasonalNaiveForecast(sales, t,s)))"
      ],
      "execution_count": null,
      "outputs": []
    },
    {
      "cell_type": "markdown",
      "metadata": {
        "id": "pPpTnVRjjzTw"
      },
      "source": [
        "### Example 2: Moving Average Forecasting Method\n",
        "\n",
        "The moving average is a time series method which uses data on past demand to predict future demand. As other time series methods, moving average is based on the assumption that history repeats itself and, therefore, they ignore changes in the environment than can affect future demand.\n",
        "\n",
        "> **Brief description of the model:** this method involves computing average demand for the $k$ most recent periods and using it as the forecast of demand. This method can be represented using the following equation:\n",
        ">\n",
        "> $$F_{t+1}=\\frac{D_t+D_{t-1}+D_{t-2}+...+D_{(t-k)+1}}{k}$$\n",
        "> Where:\n",
        "> - $k$: number of observations used in the calculation\n",
        ">\n",
        "> For example, if k = 3, the forecast of period $21$ can be calculated by: $F_{21}=\\frac{D_{20}+D_{19}+D_{18}}{3}$.\n",
        "> The choice of the number of periods ($k$) to consider in order to make the demand forecast is important:\n",
        "> - If $k$ is small, the forecast will react quickly to real changes (i.e., variations in demand that are not random), but they will also be influenced to a greater extent by random variations;\n",
        ">- if $k$ is large, forecast will be less affected by random variations in demand, but also slower to react to real changes.\n",
        "\n",
        "Given a list with historical sales and the value of $k$, we want to predict the sales volume for the next time period.\n",
        "- Predict future sales using $k=2$\n",
        "- Predict future sales using $k=3$\n",
        "\n"
      ]
    },
    {
      "cell_type": "code",
      "metadata": {
        "id": "UbJjgfeBjzTx"
      },
      "source": [
        "# defining the moving average function\n",
        "def movingAvg(historical_sales, t, k):\n",
        "    \"\"\"\n",
        "    Return the predicted demand for the next period\n",
        "    parameters:\n",
        "        historical_sales: (list) real sales in the previous periods\n",
        "        t: (int number) period to forecast\n",
        "        k: (int number) parameter of the moving avg method\n",
        "    return:\n",
        "        forecast for period t\n",
        "    \"\"\"\n",
        "    return sum(historical_sales[t-k:t]) / k\n",
        "\n",
        "t = 12 # period to forecast\n",
        "\n",
        "print(\"Moving average forecast (k = 2) for t = \", t, \" is \", \"{:.2f}\".format(movingAvg(sales, t, 2)))\n",
        "print(\"Moving average forecast (k = 3) for t = \", t, \" is \", \"{:.2f}\".format(movingAvg(sales, t, 3)))"
      ],
      "execution_count": null,
      "outputs": []
    },
    {
      "cell_type": "markdown",
      "metadata": {
        "id": "26aa70Z9ainp"
      },
      "source": [
        "### Example 3: Exponential Smoothing Forecasting Method\r\n",
        "\r\n",
        "Using an initial demand forecast, a smoothing factor $0 \\leq \\alpha \\leq 1$, we can calculate the forecast using the smoothing parameter as follows.\r\n",
        "\r\n",
        "$$ F_{t+1}=\\alpha D_t + (1-\\alpha) F_t $$\r\n",
        "\r\n",
        "Where:    \r\n",
        "- $\\alpha$ = choice of smoothing parameter.\r\n",
        "\r\n",
        "Consequently, we first need to calculate $F_t$ which is basically equal to \r\n",
        "$ F_{t}=\\alpha D_{t-1} + (1-\\alpha) F_{t-1}$.\r\n",
        "\r\n",
        "\r\n",
        "Thus, we will need to calculate the first forecast (forecast period 2 from period 1) and *iteratively* calculate the forecast from period 2 until $t + 1$.  \r\n",
        "\r\n",
        "Given a list with historical sales and the value of $\\alpha$, we can create a function which uses the simple exponential smoothing method to calculate the forecast demand for a given period.\r\n",
        "- Predict future sales using $\\alpha= 0.2$\r\n",
        "- Predict future sales using $\\alpha= 0.5$"
      ]
    },
    {
      "cell_type": "code",
      "metadata": {
        "id": "P2ScREySbu5s"
      },
      "source": [
        "# defining the exponential smooting function\r\n",
        "def exponentialSmoothing(historical_sales, t, alpha):\r\n",
        "    \"\"\"\r\n",
        "    Return the predicted demand for the next period\r\n",
        "    parameters:\r\n",
        "        historical_sales: (list) real sales in the previous periods\r\n",
        "        t: (int number) period to forecast\r\n",
        "        alpha: smoothing parameter\r\n",
        "    return:\r\n",
        "        forecast for period t\r\n",
        "    \"\"\"\r\n",
        "    exp_forecast = [] # start with an empty list\r\n",
        "\r\n",
        "    # We can use list.append() to add an element to the list\r\n",
        "    exp_forecast.append(historical_sales[0]) # assume the initial forecast (index 0) = actual demand in the same period\r\n",
        "    # calculate forecast for period 1 until t iteratively\r\n",
        "    for i in range(1, t+1):\r\n",
        "      exp_forecast.append(alpha*historical_sales[i-1]+(1-alpha)*exp_forecast[i-1])\r\n",
        "\r\n",
        "    # print(\"exp_forecast list: \", exp_forecast) # you can outcomment this to show the produced list\r\n",
        "    return  exp_forecast[t]\r\n",
        "\r\n",
        "t = 12 # period to forecast\r\n",
        "print(\"Exponential smoothing forecast (alpha = 0.2) for t = \", t, \" is \", \"{:.2f}\".format(exponentialSmoothing(sales, t, 0.2)))\r\n",
        "print(\"Exponential smoothing forecast (alpha = 0.5) for t = \", t, \" is \", \"{:.2f}\".format(exponentialSmoothing(sales, t, 0.5)))"
      ],
      "execution_count": null,
      "outputs": []
    },
    {
      "cell_type": "markdown",
      "metadata": {
        "id": "XV2TaQRrjzTx"
      },
      "source": [
        "### Example 4: Forecasting measures\n",
        "\n",
        "**Mean Squared Error (MSE)**\n",
        "\n",
        "Different forecasting methods can provide a different forecast quality. In order to estimate the quality of a forecast, some measures are used in practice, including the mean squared error (MSE).\n",
        "\n",
        "MSE measures the quadratic deviation of forecast and actual data according to the following equation.\n",
        "\n",
        "$$ MSE = \\frac{1}{T}\\sum_{t=1}^{T}(D_t-F_t)^2$$\n",
        "\n",
        "Given two inputs: (i) a list of demand forecast and (ii) a list of demand realizations, create a function which returns the MSE. First, we define the function."
      ]
    },
    {
      "cell_type": "code",
      "metadata": {
        "id": "U4JAxwRqjzTx"
      },
      "source": [
        "# define a function which computes MSE\n",
        "def MSE(forecast, real_demand):\n",
        "    \"\"\"\n",
        "    Compute the MSE \n",
        "    parameters:\n",
        "        forecast: (list) demand forecast for a given planning horizon\n",
        "        real_demand: (list) real demand over a given planning horizon\n",
        "        Attention: the lists of real_demand and forecast must be of the same size\n",
        "    return:\n",
        "        MSE: (number) mean squared error\n",
        "    \"\"\"\n",
        "    sum_mse = 0\n",
        "    n_periods = len(forecast) # get the number of periods from the list\n",
        "    for t in range(n_periods):\n",
        "        sum_mse += (real_demand[t] - forecast[t]) ** 2\n",
        "    return sum_mse/n_periods"
      ],
      "execution_count": null,
      "outputs": []
    },
    {
      "cell_type": "markdown",
      "metadata": {
        "id": "1FAghGKAjzTy"
      },
      "source": [
        "Next, we call the function to know the MSE of our forecast."
      ]
    },
    {
      "cell_type": "code",
      "metadata": {
        "id": "vpz3ltIMjzTy"
      },
      "source": [
        "# Consider a list of real sales and predictions\n",
        "real_sales = [125, 142, 120, 153, 156, 135, 128, 117, 140, 134, 132, 126]\n",
        "predictions = [121, 132, 110, 133, 146, 132, 128, 115, 136, 132, 130, 125]\n",
        "\n",
        "print(\"The MSE of our predictions is: \", \"{:.2f}\".format(MSE(predictions, real_sales)))"
      ],
      "execution_count": null,
      "outputs": []
    },
    {
      "cell_type": "markdown",
      "metadata": {
        "id": "Yok6lE9KkZUF"
      },
      "source": [
        "Alternatively, we can also use *list comprehension* instead of *for* loop"
      ]
    },
    {
      "cell_type": "code",
      "metadata": {
        "id": "3adXl9YYkl-i"
      },
      "source": [
        "# define a function which computes MSE using list comprehension\r\n",
        "def MSE(forecast, real_demand):\r\n",
        "    n_periods = len(forecast)\r\n",
        "    mse_t = [(real_demand[t] - forecast[t]) ** 2 for t in range(n_periods)] # MSE for each time period t \r\n",
        "    return sum(mse_t)/n_periods # we use the function sum() to calculate the sum of mse_t\r\n",
        "\r\n",
        "# Consider a list of real sales and predictions\r\n",
        "real_sales = [125, 142, 120, 153, 156, 135, 128, 117, 140, 134, 132, 126]\r\n",
        "predictions = [121, 132, 110, 133, 146, 132, 128, 115, 136, 132, 130, 125]\r\n",
        "\r\n",
        "print(\"The MSE of our predictions is: \", \"{:.2f}\".format(MSE(predictions, real_sales)))"
      ],
      "execution_count": null,
      "outputs": []
    },
    {
      "cell_type": "markdown",
      "metadata": {
        "id": "NpXPi7fCl78t"
      },
      "source": [
        "\r\n",
        "**Mean absolute percentage errors (MAPE)**\r\n",
        "\r\n",
        "Another commonly used forecasting measure is the MAPE which can be calculated as follows.\r\n",
        "\r\n",
        "$$ MAPE = \\frac{1}{T}\\sum_{t=1}^{T}\\left|\\frac{D_t-F_t}{D_t}\\right|$$\r\n",
        "\r\n",
        "which can be implemented as follows:"
      ]
    },
    {
      "cell_type": "code",
      "metadata": {
        "id": "68wsMY1woIkS"
      },
      "source": [
        "# define a function which computes MAPE using list comprehension\r\n",
        "def MAPE(forecast, real_demand):\r\n",
        "    \"\"\"\r\n",
        "    Compute the MAPE \r\n",
        "    parameters:\r\n",
        "        forecast: (list) demand forecast for a given planning horizon\r\n",
        "        real_demand: (list) real demand over a given planning horizon\r\n",
        "        Attention: the lists of real_demand and forecast must be of the same size\r\n",
        "    return:\r\n",
        "        Mean absolute percentage errors (MAPE)\r\n",
        "    \"\"\"\r\n",
        "    n_periods = len(forecast)\r\n",
        "    mape_t = [abs(real_demand[t] - forecast[t])/real_demand[t] for t in range(n_periods)] \r\n",
        "    return sum(mape_t)/n_periods # we use the function sum() to calculate the sum of mape_t\r\n",
        "\r\n",
        "# Consider a list of real sales and predictions\r\n",
        "real_sales = [125, 142, 120, 153, 156, 135, 128, 117, 140, 134, 132, 126]\r\n",
        "predictions = [121, 132, 110, 133, 146, 132, 128, 115, 136, 132, 130, 125]\r\n",
        "\r\n",
        "print(\"The MAPE of our predictions is: \", \"{:.2f}\".format(MAPE(predictions, real_sales)*100),\"%\")"
      ],
      "execution_count": null,
      "outputs": []
    },
    {
      "cell_type": "markdown",
      "metadata": {
        "id": "kz87c0L2p6hy"
      },
      "source": [
        "## Example 5: Forecasting and measuring performances\r\n",
        "\r\n",
        "We are putting them all together here. We will try different forecasting models with different configurations and measure their performances. The results will be stored in a (nested) dictionary.\r\n",
        "\r\n",
        "We will use the methods defined earlier and find the best configuration for each method when predicting the prices of United States Oil Fund (USO) which tracks the price of West Texas Intermediate Light Sweet Crude in 2019. The forecasts and errors will be calculated for the second half of 2019 (i.e., elements with index 6-11) to be measured against the actual values).\r\n",
        "\r\n"
      ]
    },
    {
      "cell_type": "code",
      "metadata": {
        "id": "x_zKdv3C8Uew"
      },
      "source": [
        "uso_2019 = [90.80, 95.60, 100.00, 106.32, 88.80, 96.32, 96.31, 91.68, 90.72, 90.40, 92.96, 102.48]"
      ],
      "execution_count": null,
      "outputs": []
    },
    {
      "cell_type": "markdown",
      "metadata": {
        "id": "TFQTCRI58WJ9"
      },
      "source": [
        "First, one-step Naive method as a baseline model"
      ]
    },
    {
      "cell_type": "code",
      "metadata": {
        "id": "j8tlWgtV8Tnn"
      },
      "source": [
        "uso_fcst_naive = [naiveForecast(uso_2019, t) for t in range(6, 12)]\r\n",
        "print(uso_fcst_naive)\r\n",
        "\r\n",
        "uso_fcst_naive_mse = MSE(uso_fcst_naive, uso_2019[6:])\r\n",
        "print(\"MSE = \", uso_fcst_naive_mse)\r\n",
        "\r\n",
        "uso_fcst_naive_mape = MAPE(uso_fcst_naive, uso_2019[6:])\r\n",
        "print(\"MAPE = \", uso_fcst_naive_mape)\r\n",
        "\r\n",
        "# We can then keep the results as a dictionary \r\n",
        "fcst_results = {} # first create an empty dictionary\r\n",
        "fcst_names = ['Naive', 'SeasonNaive', 'MovingAvg', 'Exp.Smooth'] # list of forecasting methods\r\n",
        "print(\"add results to the dictionary for the method: \", fcst_names[0])\r\n",
        "fcst_results[fcst_names[0]] = {'Forecast':uso_fcst_naive, 'MSE':uso_fcst_naive_mse, 'MAPE':uso_fcst_naive_mape}\r\n",
        "print(fcst_results)"
      ],
      "execution_count": null,
      "outputs": []
    },
    {
      "cell_type": "markdown",
      "metadata": {
        "id": "e7U-2uVGEPlp"
      },
      "source": [
        "Then, we apply the seasonal Naive forecast and search for the best seasonnality length $s$ between 2, 4 and 6 based on MAPE."
      ]
    },
    {
      "cell_type": "code",
      "metadata": {
        "id": "llZYS6VZAoln"
      },
      "source": [
        "best_s = 0 # initialize the initial value of best s\r\n",
        "best_mape = 1.0 # initialize the initial value of MAPE (at the maximum 100%)\r\n",
        "\r\n",
        "for s in range(2,7,2): # here we can use range(start, finish, stepsize) to create an increment of 2, or, alternatively, use the list [2,4,6]\r\n",
        "  print(\"s = \", s)\r\n",
        "  uso_fcst_seasonnaive = [seasonalNaiveForecast(uso_2019, t, s) for t in range(6, 12)]\r\n",
        "  uso_fcst_seasonnaive_mape = MAPE(uso_fcst_seasonnaive, uso_2019[6:])\r\n",
        "  print(\"MAPE :\", uso_fcst_seasonnaive_mape)\r\n",
        "  if uso_fcst_seasonnaive_mape < best_mape: # keep track of the best s\r\n",
        "    best_s = s # set the new best_s\r\n",
        "    best_mape = uso_fcst_seasonnaive_mape # set the new best_mape\r\n",
        "\r\n",
        "print(\"best seasonality length s = \", best_s)\r\n",
        "# we compute again the corresponding forecasts and results based on best_s\r\n",
        "uso_fcst_seasonnaive = [seasonalNaiveForecast(uso_2019, t, best_s) for t in range(6, 12)]\r\n",
        "uso_fcst_seasonnaive_mse = MSE(uso_fcst_seasonnaive, uso_2019[6:])\r\n",
        "uso_fcst_seasonnaive_mape = MAPE(uso_fcst_seasonnaive, uso_2019[6:])\r\n",
        "\r\n",
        "print(\"add results to the dictionary for the method: \", fcst_names[1])\r\n",
        "fcst_results[fcst_names[1]] = {'Forecast':uso_fcst_seasonnaive, 'MSE':uso_fcst_seasonnaive_mse, 'MAPE':uso_fcst_seasonnaive_mape}\r\n",
        "print(fcst_results)"
      ],
      "execution_count": null,
      "outputs": []
    },
    {
      "cell_type": "markdown",
      "metadata": {
        "id": "aQ86CRBrGvQ3"
      },
      "source": [
        "Now we apply the moving average forecast and search for the best lookback period $k$ between 2 to 5 based on MAPE."
      ]
    },
    {
      "cell_type": "code",
      "metadata": {
        "id": "4_3HAluvGus5"
      },
      "source": [
        "best_k = 0 # initialize the initial value of best k\r\n",
        "best_mape = 1.0 # initialize the initial value of MAPE (at the maximum 100%)\r\n",
        "\r\n",
        "for k in range(2,6):\r\n",
        "  print(\"k = \", k)\r\n",
        "  uso_fcst_movingavg = [movingAvg(uso_2019, t, k) for t in range(6, 12)]\r\n",
        "  uso_fcst_movingavg_mape = MAPE(uso_fcst_movingavg, uso_2019[6:])\r\n",
        "  print(\"MAPE :\", uso_fcst_movingavg_mape)\r\n",
        "  if uso_fcst_movingavg_mape < best_mape: # keep track of the best parameter\r\n",
        "    best_k = k # set the new best_k\r\n",
        "    best_mape = uso_fcst_movingavg_mape # set the new best_mape\r\n",
        "\r\n",
        "print(\"best lookback length k = \", best_k)\r\n",
        "# we compute again the corresponding forecasts and results based on best_s\r\n",
        "uso_fcst_movingavg = [movingAvg(uso_2019, t, best_k) for t in range(6, 12)]\r\n",
        "uso_fcst_movingavg_mse = MSE(uso_fcst_movingavg, uso_2019[6:])\r\n",
        "uso_fcst_movingavg_mape = MAPE(uso_fcst_movingavg, uso_2019[6:])\r\n",
        "\r\n",
        "print(\"add results to the dictionary for the method: \", fcst_names[2])\r\n",
        "fcst_results[fcst_names[2]] = {'Forecast':uso_fcst_movingavg, 'MSE':uso_fcst_movingavg_mse, 'MAPE':uso_fcst_movingavg_mape}\r\n",
        "print(fcst_results)"
      ],
      "execution_count": null,
      "outputs": []
    },
    {
      "cell_type": "markdown",
      "metadata": {
        "id": "L4NFbCEMHvxC"
      },
      "source": [
        "Lastly, we apply the exponential smoothing forecast and search for the best $\\alpha$ between 0.1 to 0.9 with a stepsize of 0.1 based on MAPE."
      ]
    },
    {
      "cell_type": "code",
      "metadata": {
        "id": "R7ztDQp5H99s"
      },
      "source": [
        "best_alpha = 0 # initialize the initial value of best alpha\r\n",
        "best_mape = 1.0 # initialize the initial value of MAPE (at the maximum 100%)\r\n",
        "\r\n",
        "for alpha in [0.1*i for i in range(1,10)]: # create a list of [0.1,...,0.8] using list comprehension\r\n",
        "  print(\"alpha = \", \"{:.1f}\".format(alpha))\r\n",
        "  uso_fcst_expsmooth = [exponentialSmoothing(uso_2019, t, alpha) for t in range(6, 12)]\r\n",
        "  uso_fcst_expsmooth_mape = MAPE(uso_fcst_expsmooth, uso_2019[6:])\r\n",
        "  print(\"MAPE :\", uso_fcst_expsmooth_mape)\r\n",
        "  if uso_fcst_expsmooth_mape < best_mape: # keep track of the best parameter\r\n",
        "    best_alpha = alpha # set the new best parameter\r\n",
        "    best_mape = uso_fcst_expsmooth_mape # set the new best_mape\r\n",
        "\r\n",
        "print(\"best alpha = \", best_alpha)\r\n",
        "# we compute again the corresponding forecasts and results based on best_s\r\n",
        "uso_fcst_expsmooth = [exponentialSmoothing(uso_2019, t, best_alpha) for t in range(6, 12)]\r\n",
        "uso_fcst_expsmooth_mse = MSE(uso_fcst_expsmooth, uso_2019[6:])\r\n",
        "uso_fcst_expsmooth_mape = MAPE(uso_fcst_expsmooth, uso_2019[6:])\r\n",
        "\r\n",
        "print(\"add results to the dictionary for the method: \", fcst_names[3])\r\n",
        "fcst_results[fcst_names[3]] = {'Forecast':uso_fcst_expsmooth, 'MSE':uso_fcst_expsmooth_mse, 'MAPE':uso_fcst_expsmooth_mape}\r\n",
        "print(fcst_results)"
      ],
      "execution_count": null,
      "outputs": []
    },
    {
      "cell_type": "markdown",
      "metadata": {
        "id": "BYCnt37KKUOO"
      },
      "source": [
        "We can then print out all the results in multiple lines for MSE and MAPE. (Un)surprisingly, the naive method turns out to be the best for this time-series, followed by the exponential smoothing with $\\alpha = 0.9$:"
      ]
    },
    {
      "cell_type": "code",
      "metadata": {
        "id": "lj-AmgwsKTL_"
      },
      "source": [
        "for method in fcst_names:\r\n",
        "  print(\"Method:\", method, \", MSE = \", \"{:.2f}\".format(fcst_results[method]['MSE']), #if the code is too long, you can also split at ,\r\n",
        "        \", MAPE = \", \"{:.2f}\".format(fcst_results[method]['MAPE']*100),\"%\")"
      ],
      "execution_count": null,
      "outputs": []
    },
    {
      "cell_type": "markdown",
      "metadata": {
        "id": "f_-4145zOFmB"
      },
      "source": [
        "**Supplement:** we can also use a similar process to \"combine\" two (or even more) forecasts using the weight $0 \\leq w \\leq 1$ which can be optimized. For example, we can combine the best SeasonNaive and MovingAvg, i.e., $w\\times SeasonNaive + (1-w)\\times MovingAvg$ as follows:"
      ]
    },
    {
      "cell_type": "code",
      "metadata": {
        "id": "Qhh1fjebLU54"
      },
      "source": [
        "best_w = 0 # initialize the initial value of best w\r\n",
        "best_mape = 1.0 # initialize the initial value of MAPE (at the maximum 100%)\r\n",
        "\r\n",
        "for w in [0.1*i for i in range(10)]: # create a list of [0.0,...,1.0] using list comprehension\r\n",
        "  print(\"aggregation weight w = \", \"{:.1f}\".format(w))\r\n",
        "  uso_fcst_combined = [w* fcst_results['SeasonNaive']['Forecast'][t] + \r\n",
        "                       (1-w)*fcst_results['MovingAvg']['Forecast'][t] for t in range(6)]\r\n",
        "  # print(uso_fcst_combined)\r\n",
        "  uso_fcst_combined_mape = MAPE(uso_fcst_combined, uso_2019[6:])\r\n",
        "\r\n",
        "  print(\"MAPE :\", uso_fcst_combined_mape)\r\n",
        "  if uso_fcst_combined_mape < best_mape: # keep track of the best parameter\r\n",
        "    best_w = w # set the new best parameter\r\n",
        "    best_mape = uso_fcst_combined_mape # set the new best_mape"
      ],
      "execution_count": null,
      "outputs": []
    },
    {
      "cell_type": "markdown",
      "metadata": {
        "id": "9hyhV3VbQtF2"
      },
      "source": [
        "You can see that the best MAPE (3.8%) with $w = 0.1$ is actually better than the best of either method (either $w=0.0$ or $w=1.0$) in this case."
      ]
    }
  ]
}