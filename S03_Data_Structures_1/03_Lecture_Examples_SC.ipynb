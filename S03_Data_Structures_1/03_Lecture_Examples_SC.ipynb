{
 "cells": [
  {
   "cell_type": "markdown",
   "metadata": {
    "id": "0JBJMPk1jzTm"
   },
   "source": [
    "# S03 - Python Data Structures I - SC Examples\n",
    "\n",
    "Supply chain examples include:\n",
    "1. Forecasting methods\n",
    " - Naive (random walk and seasonal)\n",
    " - Moving Average\n",
    " - Simple exponential smoothing\n",
    "2. Forecasting error measures: mean squared error (MSE), mean absolute percentage error (MAPE)\n",
    "3. Optimal parameter search for forecasting methods using Python\n",
    "\n",
    "*NOTE:* the examples are used to show the applications of data structures covered in Session 3. It is also possible to use a more advanced data structure (in particular DataFrame) for this as well (which will be covered in Session 4)."
   ]
  },
  {
   "cell_type": "markdown",
   "metadata": {
    "id": "nnds9X0IL3GW"
   },
   "source": [
    "## Example 1: Naive Forecasting Method\n",
    "In the simple naive forecasting method, we simply use the observed demand of the previous period $t$ as the forecast for period $t+1$. Formally, we have\n",
    "\n",
    "> $$F_{t+1}=D_{t}$$\n",
    "> Where:\n",
    "> - $F_{t+1}$: forecast for the period $t+1$\n",
    "> - $D_t$: demand for period $t$\n",
    "\n",
    "This method is referred to as \"random walk\" forecasts which work surprisingly well in predicting some financial time series (e.g., stock prices).\n",
    "\n",
    "Given the historical sales below of the past 12 months\n",
    "- Historical sales = `[125, 142, 120, 153, 156, 135, 128, 117, 140, 134, 132, 126]`\n",
    "\n",
    "We can write a function to calculate the naive forecast of a given period $t$."
   ]
  },
  {
   "cell_type": "code",
   "execution_count": 2,
   "metadata": {
    "id": "rsG2dQMVPWF3"
   },
   "outputs": [],
   "source": [
    "# first we prepare the list for historical demands (sales)\n",
    "sales = [125, 142, 120, 153, 156, 135, 128, 117, 140, 134, 132, 126]"
   ]
  },
  {
   "cell_type": "code",
   "execution_count": 3,
   "metadata": {
    "id": "c_n-luE1P8qO"
   },
   "outputs": [],
   "source": [
    "# defining the naive forecast function\n",
    "def naiveForecast(historical_sales, t):\n",
    "    \"\"\"\n",
    "    Return the predicted demand for the next period using the naive forecast\n",
    "    parameters:\n",
    "        historical_sales: (list) real sales in the previous periods\n",
    "        t: (int number) period to forecast\n",
    "    return:\n",
    "        forecast for period t\n",
    "    \"\"\"\n",
    "    return historical_sales[t-1]"
   ]
  },
  {
   "cell_type": "code",
   "execution_count": 4,
   "metadata": {
    "id": "SgrSh2DdQos5"
   },
   "outputs": [
    {
     "name": "stdout",
     "output_type": "stream",
     "text": [
      "Naive forecast for t =  12  is  126.00\n"
     ]
    }
   ],
   "source": [
    "t = 12 # this is period 13 as the first index starts at zero. We cannot go beyond this as we have only 12 elements in the list (indexed 0 -> 11)\n",
    "print(\"Naive forecast for t = \", t, \" is \", \"{:.2f}\".format(naiveForecast(sales, t)))  # the use of \"{:.2f}\".format(x) is to print out exactly 2 digits"
   ]
  },
  {
   "cell_type": "markdown",
   "metadata": {
    "id": "G_n1EXhxU2U9"
   },
   "source": [
    "Alternatively, in the **seasonal** naive forecast, we can look back to the same period in the previous seasonality cycle and take that value as the forecast (e.g., using sales in Jan 2021 as the forecast for Jan 2022). We can extend the previous function for this case."
   ]
  },
  {
   "cell_type": "code",
   "execution_count": 5,
   "metadata": {
    "id": "vdEPrjq9U09I"
   },
   "outputs": [],
   "source": [
    "# defining the naive forecast function\n",
    "def seasonalNaiveForecast(historical_sales, t, s):\n",
    "    \"\"\"\n",
    "    Return the predicted demand for the next period using the seasonal naive forecast\n",
    "    parameters:\n",
    "        historical_sales: (list) real sales in the previous periods\n",
    "        t: (int number) period to forecast\n",
    "        s: (int number) length of seasonality cycle\n",
    "    return:\n",
    "        forecast for period t\n",
    "    \"\"\"\n",
    "    return historical_sales[t-s]"
   ]
  },
  {
   "cell_type": "code",
   "execution_count": 6,
   "metadata": {
    "id": "SDbvZHcbQd0N"
   },
   "outputs": [
    {
     "name": "stdout",
     "output_type": "stream",
     "text": [
      "Seasonal Naive forecast for t =  12 and s = 6  is  128.00\n"
     ]
    }
   ],
   "source": [
    "t = 12 # period to forecast\n",
    "s = 6 # seasonality cycle\n",
    "print(\"Seasonal Naive forecast for t = \", t, \"and s =\", s,\" is \", \"{:.2f}\".format(seasonalNaiveForecast(sales, t,s)))"
   ]
  },
  {
   "cell_type": "markdown",
   "metadata": {
    "id": "pPpTnVRjjzTw"
   },
   "source": [
    "## Example 2: Moving Average Forecasting Method\n",
    "\n",
    "The moving average is a time-series method which uses data on past demand to predict future demand. As other time series methods, moving average is based on the assumption that history repeats itself and, therefore, they ignore changes in the environment than can affect future demand.\n",
    "\n",
    "> **Brief description of the model:** this method involves computing average demand for the $k$ most recent periods and using it as the forecast of demand. This method can be represented using the following equation:\n",
    ">\n",
    "> $$F_{t+1}=\\frac{D_t+D_{t-1}+D_{t-2}+...+D_{(t-k)+1}}{k}$$\n",
    "> Where:\n",
    "> - $k$: number of observations used in the calculation\n",
    ">\n",
    "> For example, if k = 3, the forecast of period $21$ can be calculated by: $F_{21}=\\frac{D_{20}+D_{19}+D_{18}}{3}$.\n",
    "> The choice of the number of periods ($k$) to consider in order to make the demand forecast is important:\n",
    "> - If $k$ is small, the forecast will react quickly to real changes (i.e., variations in demand that are not random), but they will also be influenced to a greater extent by random variations;\n",
    ">- if $k$ is large, forecast will be less affected by random variations in demand, but also slower to react to real changes.\n",
    "\n",
    "Given a list with historical sales and the value of $k$, we want to predict the sales volume for the next time period.\n",
    "- Predict future sales using $k=2$\n",
    "- Predict future sales using $k=3$\n",
    "\n"
   ]
  },
  {
   "cell_type": "code",
   "execution_count": 7,
   "metadata": {
    "id": "UbJjgfeBjzTx"
   },
   "outputs": [
    {
     "name": "stdout",
     "output_type": "stream",
     "text": [
      "Moving average forecast (k = 2) for t =  12  is  129.00\n",
      "Moving average forecast (k = 3) for t =  12  is  130.67\n"
     ]
    }
   ],
   "source": [
    "# defining the moving average function\n",
    "def movingAvg(historical_sales, t, k):\n",
    "    \"\"\"\n",
    "    Return the predicted demand for the next period\n",
    "    parameters:\n",
    "        historical_sales: (list) real sales in the previous periods\n",
    "        t: (int number) period to forecast\n",
    "        k: (int number) parameter of the moving avg method\n",
    "    return:\n",
    "        forecast for period t\n",
    "    \"\"\"\n",
    "    return sum(historical_sales[t-k:t]) / k\n",
    "\n",
    "t = 12 # period to forecast\n",
    "\n",
    "print(\"Moving average forecast (k = 2) for t = \", t, \" is \", \"{:.2f}\".format(movingAvg(sales, t, 2)))\n",
    "print(\"Moving average forecast (k = 3) for t = \", t, \" is \", \"{:.2f}\".format(movingAvg(sales, t, 3)))"
   ]
  },
  {
   "cell_type": "markdown",
   "metadata": {
    "id": "26aa70Z9ainp"
   },
   "source": [
    "## Example 3: Exponential Smoothing Forecasting Method\n",
    "\n",
    "Using an initial demand forecast, a smoothing factor $0 \\leq \\alpha \\leq 1$, we can calculate the forecast using the smoothing parameter as follows.\n",
    "\n",
    "$$ F_{t+1}=\\alpha D_t + (1-\\alpha) F_t $$\n",
    "\n",
    "Where:    \n",
    "- $\\alpha$ = choice of smoothing parameter.\n",
    "\n",
    "Consequently, we first need to calculate $F_t$ which is basically equal to \n",
    "$ F_{t}=\\alpha D_{t-1} + (1-\\alpha) F_{t-1}$.\n",
    "\n",
    "\n",
    "Thus, we will need to calculate the first forecast (forecast period 2 from period 1) and *iteratively* calculate the forecast from period 2 until $t + 1$.  \n",
    "\n",
    "Given a list with historical sales and the value of $\\alpha$, we can create a function which uses the simple exponential smoothing method to calculate the forecast demand for a given period.\n",
    "- Predict future sales using $\\alpha= 0.2$\n",
    "- Predict future sales using $\\alpha= 0.5$"
   ]
  },
  {
   "cell_type": "code",
   "execution_count": null,
   "metadata": {
    "id": "P2ScREySbu5s"
   },
   "outputs": [],
   "source": [
    "# defining the exponential smooting function\n",
    "def exponentialSmoothing(historical_sales, t, alpha):\n",
    "    \"\"\"\n",
    "    Return the predicted demand for the next period\n",
    "    parameters:\n",
    "        historical_sales: (list) real sales in the previous periods\n",
    "        t: (int number) period to forecast\n",
    "        alpha: smoothing parameter\n",
    "    return:\n",
    "        forecast for period t\n",
    "    \"\"\"\n",
    "    exp_forecast = [] # start with an empty list\n",
    "\n",
    "    # We can use list.append() to add an element to the list\n",
    "    exp_forecast.append(historical_sales[0]) # assume the initial forecast (index 0) = actual demand in the same period\n",
    "    # calculate forecast for period 1 until t iteratively\n",
    "    for i in range(1, t+1):\n",
    "      exp_forecast.append(alpha*historical_sales[i-1]+(1-alpha)*exp_forecast[i-1])\n",
    "\n",
    "    # print(\"exp_forecast list: \", exp_forecast) # you can outcomment this to show the produced list\n",
    "    return  exp_forecast[t]\n",
    "\n",
    "t = 12 # period to forecast\n",
    "print(\"Exponential smoothing forecast (alpha = 0.2) for t = \", t, \" is \", \"{:.2f}\".format(exponentialSmoothing(sales, t, 0.2)))\n",
    "print(\"Exponential smoothing forecast (alpha = 0.5) for t = \", t, \" is \", \"{:.2f}\".format(exponentialSmoothing(sales, t, 0.5)))"
   ]
  },
  {
   "cell_type": "markdown",
   "metadata": {
    "id": "XV2TaQRrjzTx"
   },
   "source": [
    "## Example 4: Forecasting Measures\n",
    "\n",
    "**Mean Squared Error (MSE)**\n",
    "\n",
    "Different forecasting methods can provide a different forecast quality. In order to estimate the quality of a forecast, some measures are used in practice, including the mean squared error (MSE).\n",
    "\n",
    "MSE measures the quadratic deviation of forecast and actual data according to the following equation.\n",
    "\n",
    "$$ MSE = \\frac{1}{T}\\sum_{t=1}^{T}(D_t-F_t)^2$$\n",
    "\n",
    "Given two inputs: (i) a list of demand forecast and (ii) a list of demand realizations, create a function which returns the MSE. First, we define the function."
   ]
  },
  {
   "cell_type": "code",
   "execution_count": null,
   "metadata": {
    "id": "U4JAxwRqjzTx"
   },
   "outputs": [],
   "source": [
    "# define a function which computes MSE\n",
    "def MSE(forecast, real_demand):\n",
    "    \"\"\"\n",
    "    Compute the MSE \n",
    "    parameters:\n",
    "        forecast: (list) demand forecast for a given planning horizon\n",
    "        real_demand: (list) real demand over a given planning horizon\n",
    "        Attention: the lists of real_demand and forecast must be of the same size\n",
    "    return:\n",
    "        MSE: (number) mean squared error\n",
    "    \"\"\"\n",
    "    sum_mse = 0\n",
    "    n_periods = len(forecast) # get the number of periods from the list\n",
    "    for t in range(n_periods):\n",
    "        sum_mse += (real_demand[t] - forecast[t]) ** 2\n",
    "    return sum_mse/n_periods"
   ]
  },
  {
   "cell_type": "markdown",
   "metadata": {
    "id": "1FAghGKAjzTy"
   },
   "source": [
    "Next, we call the function to know the MSE of our forecast."
   ]
  },
  {
   "cell_type": "code",
   "execution_count": null,
   "metadata": {
    "id": "vpz3ltIMjzTy"
   },
   "outputs": [],
   "source": [
    "# Consider a list of real sales and predictions\n",
    "real_sales = [125, 142, 120, 153, 156, 135, 128, 117, 140, 134, 132, 126]\n",
    "predictions = [121, 132, 110, 133, 146, 132, 128, 115, 136, 132, 130, 125]\n",
    "\n",
    "print(\"The MSE of our predictions is: \", \"{:.2f}\".format(MSE(predictions, real_sales)))"
   ]
  },
  {
   "cell_type": "markdown",
   "metadata": {
    "id": "Yok6lE9KkZUF"
   },
   "source": [
    "Alternatively, we can also use *list comprehension* instead of *for* loop"
   ]
  },
  {
   "cell_type": "code",
   "execution_count": null,
   "metadata": {
    "id": "3adXl9YYkl-i"
   },
   "outputs": [],
   "source": [
    "# define a function which computes MSE using list comprehension\n",
    "def MSE(forecast, real_demand):\n",
    "    n_periods = len(forecast)\n",
    "    mse_t = [(real_demand[t] - forecast[t]) ** 2 for t in range(n_periods)] # MSE for each time period t \n",
    "    return sum(mse_t)/n_periods # we use the function sum() to calculate the sum of mse_t\n",
    "\n",
    "# Consider a list of real sales and predictions\n",
    "real_sales = [125, 142, 120, 153, 156, 135, 128, 117, 140, 134, 132, 126]\n",
    "predictions = [121, 132, 110, 133, 146, 132, 128, 115, 136, 132, 130, 125]\n",
    "\n",
    "print(\"The MSE of our predictions is: \", \"{:.2f}\".format(MSE(predictions, real_sales)))"
   ]
  },
  {
   "cell_type": "markdown",
   "metadata": {
    "id": "NpXPi7fCl78t"
   },
   "source": [
    "\n",
    "**Mean absolute percentage errors (MAPE)**\n",
    "\n",
    "Another commonly used forecasting measure is the MAPE which can be calculated as follows.\n",
    "\n",
    "$$ MAPE = \\frac{1}{T}\\sum_{t=1}^{T}\\left|\\frac{D_t-F_t}{D_t}\\right|$$\n",
    "\n",
    "which can be implemented as follows:"
   ]
  },
  {
   "cell_type": "code",
   "execution_count": null,
   "metadata": {
    "id": "68wsMY1woIkS"
   },
   "outputs": [],
   "source": [
    "# define a function which computes MAPE using list comprehension\n",
    "def MAPE(forecast, real_demand):\n",
    "    \"\"\"\n",
    "    Compute the MAPE \n",
    "    parameters:\n",
    "        forecast: (list) demand forecast for a given planning horizon\n",
    "        real_demand: (list) real demand over a given planning horizon\n",
    "        Attention: the lists of real_demand and forecast must be of the same size\n",
    "    return:\n",
    "        Mean absolute percentage errors (MAPE)\n",
    "    \"\"\"\n",
    "    n_periods = len(forecast)\n",
    "    mape_t = [abs(real_demand[t] - forecast[t])/real_demand[t] for t in range(n_periods)] \n",
    "    return sum(mape_t)/n_periods # we use the function sum() to calculate the sum of mape_t\n",
    "\n",
    "# Consider a list of real sales and predictions\n",
    "real_sales = [125, 142, 120, 153, 156, 135, 128, 117, 140, 134, 132, 126]\n",
    "predictions = [121, 132, 110, 133, 146, 132, 128, 115, 136, 132, 130, 125]\n",
    "\n",
    "print(\"The MAPE of our predictions is: \", \"{:.2f}\".format(MAPE(predictions, real_sales)*100),\"%\")"
   ]
  },
  {
   "cell_type": "markdown",
   "metadata": {
    "id": "kz87c0L2p6hy"
   },
   "source": [
    "## Example 5: Forecasting and Measuring Performances\n",
    "\n",
    "We are putting them all together here. We will try different forecasting models with different configurations and measure their performances. The results will be stored in a (nested) dictionary.\n",
    "\n",
    "We will use the methods defined earlier and find the best configuration for each method when predicting the prices of United States Oil Fund (USO) which tracks the price of West Texas Intermediate Light Sweet Crude in 2019. The forecasts and errors will be calculated for the second half of 2019 (i.e., elements with index 6-11) to be measured against the actual values).\n",
    "\n"
   ]
  },
  {
   "cell_type": "code",
   "execution_count": null,
   "metadata": {
    "id": "x_zKdv3C8Uew"
   },
   "outputs": [],
   "source": [
    "uso_2019 = [90.80, 95.60, 100.00, 106.32, 88.80, 96.32, 96.31, 91.68, 90.72, 90.40, 92.96, 102.48]"
   ]
  },
  {
   "cell_type": "markdown",
   "metadata": {
    "id": "TFQTCRI58WJ9"
   },
   "source": [
    "First, one-step Naive method as a baseline model"
   ]
  },
  {
   "cell_type": "code",
   "execution_count": null,
   "metadata": {
    "id": "j8tlWgtV8Tnn"
   },
   "outputs": [],
   "source": [
    "uso_fcst_naive = [naiveForecast(uso_2019, t) for t in range(6, 12)]\n",
    "print(uso_fcst_naive)\n",
    "\n",
    "uso_fcst_naive_mse = MSE(uso_fcst_naive, uso_2019[6:])\n",
    "print(\"MSE = \", uso_fcst_naive_mse)\n",
    "\n",
    "uso_fcst_naive_mape = MAPE(uso_fcst_naive, uso_2019[6:])\n",
    "print(\"MAPE = \", uso_fcst_naive_mape)\n",
    "\n",
    "# We can then keep the results as a dictionary \n",
    "fcst_results = {} # first create an empty dictionary\n",
    "fcst_names = ['Naive', 'SeasonNaive', 'MovingAvg', 'Exp.Smooth'] # list of forecasting methods\n",
    "print(\"add results to the dictionary for the method: \", fcst_names[0])\n",
    "fcst_results[fcst_names[0]] = {'Forecast':uso_fcst_naive, 'MSE':uso_fcst_naive_mse, 'MAPE':uso_fcst_naive_mape}\n",
    "print(fcst_results)"
   ]
  },
  {
   "cell_type": "markdown",
   "metadata": {
    "id": "e7U-2uVGEPlp"
   },
   "source": [
    "Then, we apply the seasonal Naive forecast and search for the best seasonnality length $s$ between 2, 4 and 6 based on MAPE."
   ]
  },
  {
   "cell_type": "code",
   "execution_count": null,
   "metadata": {
    "id": "llZYS6VZAoln"
   },
   "outputs": [],
   "source": [
    "best_s = 0 # initialize the initial value of best s\n",
    "best_mape = 1.0 # initialize the initial value of MAPE (at the maximum 100%)\n",
    "\n",
    "for s in range(2,7,2): # here we can use range(start, finish, stepsize) to create an increment of 2, or, alternatively, use the list [2,4,6]\n",
    "  print(\"s = \", s)\n",
    "  uso_fcst_seasonnaive = [seasonalNaiveForecast(uso_2019, t, s) for t in range(6, 12)]\n",
    "  uso_fcst_seasonnaive_mape = MAPE(uso_fcst_seasonnaive, uso_2019[6:])\n",
    "  print(\"MAPE :\", uso_fcst_seasonnaive_mape)\n",
    "  if uso_fcst_seasonnaive_mape < best_mape: # keep track of the best s\n",
    "    best_s = s # set the new best_s\n",
    "    best_mape = uso_fcst_seasonnaive_mape # set the new best_mape\n",
    "\n",
    "# we compute again the corresponding forecasts and results based on the best parameter\n",
    "print(\"best seasonality length s = \", best_s)\n",
    "uso_fcst_seasonnaive = [seasonalNaiveForecast(uso_2019, t, best_s) for t in range(6, 12)]\n",
    "uso_fcst_seasonnaive_mse = MSE(uso_fcst_seasonnaive, uso_2019[6:])\n",
    "uso_fcst_seasonnaive_mape = MAPE(uso_fcst_seasonnaive, uso_2019[6:])\n",
    "\n",
    "print(\"add results to the dictionary for the method: \", fcst_names[1])\n",
    "fcst_results[fcst_names[1]] = {'Forecast':uso_fcst_seasonnaive, 'MSE':uso_fcst_seasonnaive_mse, 'MAPE':uso_fcst_seasonnaive_mape}\n",
    "print(fcst_results)"
   ]
  },
  {
   "cell_type": "markdown",
   "metadata": {
    "id": "aQ86CRBrGvQ3"
   },
   "source": [
    "Now we apply the moving average forecast and search for the best lookback period $k$ between 2 to 5 based on MAPE."
   ]
  },
  {
   "cell_type": "code",
   "execution_count": null,
   "metadata": {
    "id": "4_3HAluvGus5"
   },
   "outputs": [],
   "source": [
    "best_k = 0 # initialize the initial value of best k\n",
    "best_mape = 1.0 # initialize the initial value of MAPE (at the maximum 100%)\n",
    "\n",
    "for k in range(2,6):\n",
    "  print(\"k = \", k)\n",
    "  uso_fcst_movingavg = [movingAvg(uso_2019, t, k) for t in range(6, 12)]\n",
    "  uso_fcst_movingavg_mape = MAPE(uso_fcst_movingavg, uso_2019[6:])\n",
    "  print(\"MAPE :\", uso_fcst_movingavg_mape)\n",
    "  if uso_fcst_movingavg_mape < best_mape: # keep track of the best parameter\n",
    "    best_k = k # set the new best_k\n",
    "    best_mape = uso_fcst_movingavg_mape # set the new best_mape\n",
    "\n",
    "# we compute again the corresponding forecasts and results based on the best parameter\n",
    "print(\"best lookback length k = \", best_k)\n",
    "uso_fcst_movingavg = [movingAvg(uso_2019, t, best_k) for t in range(6, 12)]\n",
    "uso_fcst_movingavg_mse = MSE(uso_fcst_movingavg, uso_2019[6:])\n",
    "uso_fcst_movingavg_mape = MAPE(uso_fcst_movingavg, uso_2019[6:])\n",
    "\n",
    "print(\"add results to the dictionary for the method: \", fcst_names[2])\n",
    "fcst_results[fcst_names[2]] = {'Forecast':uso_fcst_movingavg, 'MSE':uso_fcst_movingavg_mse, 'MAPE':uso_fcst_movingavg_mape}\n",
    "print(fcst_results)"
   ]
  },
  {
   "cell_type": "markdown",
   "metadata": {
    "id": "L4NFbCEMHvxC"
   },
   "source": [
    "Lastly, we apply the exponential smoothing forecast and search for the best $\\alpha$ between 0.1 to 0.9 with a stepsize of 0.1 based on MAPE."
   ]
  },
  {
   "cell_type": "code",
   "execution_count": null,
   "metadata": {
    "id": "R7ztDQp5H99s"
   },
   "outputs": [],
   "source": [
    "best_alpha = 0 # initialize the initial value of best alpha\n",
    "best_mape = 1.0 # initialize the initial value of MAPE (at the maximum 100%)\n",
    "\n",
    "for alpha in [0.1*i for i in range(1,10)]: # create a list of [0.1,...,0.8] using list comprehension\n",
    "  print(\"alpha = \", \"{:.1f}\".format(alpha))\n",
    "  uso_fcst_expsmooth = [exponentialSmoothing(uso_2019, t, alpha) for t in range(6, 12)]\n",
    "  uso_fcst_expsmooth_mape = MAPE(uso_fcst_expsmooth, uso_2019[6:])\n",
    "  print(\"MAPE :\", uso_fcst_expsmooth_mape)\n",
    "  if uso_fcst_expsmooth_mape < best_mape: # keep track of the best parameter\n",
    "    best_alpha = alpha # set the new best parameter\n",
    "    best_mape = uso_fcst_expsmooth_mape # set the new best_mape\n",
    "\n",
    "# we compute again the corresponding forecasts and results based on the best parameter\n",
    "print(\"best alpha = \", best_alpha)\n",
    "uso_fcst_expsmooth = [exponentialSmoothing(uso_2019, t, best_alpha) for t in range(6, 12)]\n",
    "uso_fcst_expsmooth_mse = MSE(uso_fcst_expsmooth, uso_2019[6:])\n",
    "uso_fcst_expsmooth_mape = MAPE(uso_fcst_expsmooth, uso_2019[6:])\n",
    "\n",
    "print(\"add results to the dictionary for the method: \", fcst_names[3])\n",
    "fcst_results[fcst_names[3]] = {'Forecast':uso_fcst_expsmooth, 'MSE':uso_fcst_expsmooth_mse, 'MAPE':uso_fcst_expsmooth_mape}\n",
    "print(fcst_results)"
   ]
  },
  {
   "cell_type": "markdown",
   "metadata": {
    "id": "BYCnt37KKUOO"
   },
   "source": [
    "We can then print out all the results in multiple lines for MSE and MAPE. (Un)surprisingly, the naive method turns out to be the best for this time-series, followed by the exponential smoothing with $\\alpha = 0.9$:"
   ]
  },
  {
   "cell_type": "code",
   "execution_count": null,
   "metadata": {
    "id": "lj-AmgwsKTL_"
   },
   "outputs": [],
   "source": [
    "for method in fcst_names:\n",
    "  print(\"Method:\", method, \", MSE = \", \"{:.2f}\".format(fcst_results[method]['MSE']), #if the code is too long, you can also split at ,\n",
    "        \", MAPE = \", \"{:.2f}\".format(fcst_results[method]['MAPE']*100),\"%\")"
   ]
  },
  {
   "cell_type": "markdown",
   "metadata": {
    "id": "f_-4145zOFmB"
   },
   "source": [
    "**Supplement:** we can also use a similar process to \"combine\" two (or even more) forecasts using the weight $0 \\leq w \\leq 1$ which can be optimized. For example, we can combine the best SeasonNaive and MovingAvg, i.e., $w\\times SeasonNaive + (1-w)\\times MovingAvg$ as follows:"
   ]
  },
  {
   "cell_type": "code",
   "execution_count": null,
   "metadata": {
    "id": "Qhh1fjebLU54"
   },
   "outputs": [],
   "source": [
    "best_w = 0 # initialize the initial value of best w\n",
    "best_mape = 1.0 # initialize the initial value of MAPE (at the maximum 100%)\n",
    "\n",
    "for w in [0.1*i for i in range(10)]: # create a list of [0.0,...,1.0] using list comprehension\n",
    "  print(\"aggregation weight w = \", \"{:.1f}\".format(w))\n",
    "  uso_fcst_combined = [w* fcst_results['SeasonNaive']['Forecast'][t] + \n",
    "                       (1-w)*fcst_results['MovingAvg']['Forecast'][t] for t in range(6)]\n",
    "  # print(uso_fcst_combined)\n",
    "  uso_fcst_combined_mape = MAPE(uso_fcst_combined, uso_2019[6:])\n",
    "\n",
    "  print(\"MAPE :\", uso_fcst_combined_mape)\n",
    "  if uso_fcst_combined_mape < best_mape: # keep track of the best parameter\n",
    "    best_w = w # set the new best parameter\n",
    "    best_mape = uso_fcst_combined_mape # set the new best_mape"
   ]
  },
  {
   "cell_type": "markdown",
   "metadata": {
    "id": "9hyhV3VbQtF2"
   },
   "source": [
    "You can see that the best MAPE (3.8%) with $w = 0.1$ is actually better than the best of either method (either $w=0.0$ or $w=1.0$) in this case."
   ]
  }
 ],
 "metadata": {
  "colab": {
   "include_colab_link": true,
   "name": "03_Lecture_Example2_SC_examples.ipynb",
   "provenance": []
  },
  "kernelspec": {
   "display_name": "Python 3 (ipykernel)",
   "language": "python",
   "name": "python3"
  },
  "language_info": {
   "codemirror_mode": {
    "name": "ipython",
    "version": 3
   },
   "file_extension": ".py",
   "mimetype": "text/x-python",
   "name": "python",
   "nbconvert_exporter": "python",
   "pygments_lexer": "ipython3",
   "version": "3.8.8"
  },
  "toc": {
   "base_numbering": 1,
   "nav_menu": {},
   "number_sections": true,
   "sideBar": true,
   "skip_h1_title": false,
   "title_cell": "Table of Contents",
   "title_sidebar": "Contents",
   "toc_cell": false,
   "toc_position": {},
   "toc_section_display": true,
   "toc_window_display": true
  }
 },
 "nbformat": 4,
 "nbformat_minor": 1
}
