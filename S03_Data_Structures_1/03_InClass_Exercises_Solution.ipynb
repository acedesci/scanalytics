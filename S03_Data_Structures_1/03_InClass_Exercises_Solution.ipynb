{
  "nbformat": 4,
  "nbformat_minor": 0,
  "metadata": {
    "kernelspec": {
      "display_name": "Python 3",
      "language": "python",
      "name": "python3"
    },
    "language_info": {
      "codemirror_mode": {
        "name": "ipython",
        "version": 3
      },
      "file_extension": ".py",
      "mimetype": "text/x-python",
      "name": "python",
      "nbconvert_exporter": "python",
      "pygments_lexer": "ipython3",
      "version": "3.7.6"
    },
    "colab": {
      "name": "03_InClass_Exercises_Solution.ipynb",
      "provenance": [],
      "include_colab_link": true
    }
  },
  "cells": [
    {
      "cell_type": "markdown",
      "metadata": {
        "id": "view-in-github",
        "colab_type": "text"
      },
      "source": [
        "<a href=\"https://colab.research.google.com/github/acedesci/scanalytics/blob/master/S03_Data_Structures_1/03_InClass_Exercises_Solution.ipynb\" target=\"_parent\"><img src=\"https://colab.research.google.com/assets/colab-badge.svg\" alt=\"Open In Colab\"/></a>"
      ]
    },
    {
      "cell_type": "markdown",
      "metadata": {
        "id": "iDrdErof6Vsz"
      },
      "source": [
        "# S3 - In-class Exercises: Python Basics and Supply chain Examples - Part II (Solution)\n",
        "\n",
        "---\n",
        "## Instructions:\n",
        "Most of the exercises presented here allows you to practice basic Python programming for some applications in Operations Management and Logistics.\n",
        "\n",
        "For each exercise, you have a code cell for the response underneath it, where you should write your answer between the lines containing `### start your code here ###` and `### end your code here ###`. Your code can contain one or more lines and you can execute this cell in order to complete the exercise. To execute the cell, you can type `Shift+Enter` or press the play button in the toolbar above. Your results will appear right below this response cell.\n",
        "\n",
        "NOTE: Please pay attention to the variable name of the output you would need to provide under each question. You must use the same variable name for the output so that the result can be printed out correctly."
      ]
    },
    {
      "cell_type": "markdown",
      "metadata": {
        "id": "jQ4-er1B6Vs1"
      },
      "source": [
        "---\n",
        "## 1. String\n",
        "### Exercise 1.1: Generating reference codes for new orders\n",
        "A small business would like to create its own purchase order template and assign an informative code to each new order. Create a function with the name `OrderRef`, which returns a new code in the format specified below given the following information: \n",
        "\n",
        "* client ID  (3 characters)\n",
        "* date when the order is placed (in the format `DD/MM/YYYY`, e.g., 13/06/2020)\n",
        "* time at which the order was placed (in the format `HH:MM`, e.g., 14:05)\n",
        "\n",
        "The desired format of the code for each order is:\n",
        "\n",
        "\n",
        "<div>\n",
        "  <img src=\"https://raw.githubusercontent.com/acedesci/scanalytics/master/S03_Data_Structures_1/OrderRev_V2.png\" width=\"500\">\n",
        "</div>\n",
        "\n",
        "**Hint:** you can use the `.split()` method and the operator `+` to perform string concatenation."
      ]
    },
    {
      "cell_type": "code",
      "metadata": {
        "id": "0HLX3cPI6Vs2",
        "outputId": "1e3e5e34-ac1a-4d8e-d70c-afaaf635feae",
        "colab": {
          "base_uri": "https://localhost:8080/"
        }
      },
      "source": [
        "### start your code here ####\n",
        "\n",
        "# defining a function which create a reference code for each order\n",
        "def OrderRef(client_id, plac_date, plac_time):\n",
        "    \"\"\"\n",
        "    Return an order code\n",
        "    Parameters:\n",
        "        client_id: (string) client identification number of 3 characters AAA\n",
        "        plac_date: (string) date in which the order was placed in the format DD/MM/YYYY\n",
        "        plac_time: (string) time at which the order was placed in the format HH:MM\n",
        "    return:\n",
        "        code (string) in the format AAA.YYYY-MM-DD.HHMM \n",
        "        \n",
        "    \"\"\"    \n",
        "    split_plac_date = plac_date.split('/')\n",
        "    split_plac_time = plac_time.split(':')\n",
        "    code =  client_id + '.' + split_plac_date[2] + '-' + split_plac_date[1] + '-' + split_plac_date[0] + \".\" \\\n",
        "            + split_plac_time[0]+split_plac_time[1]\n",
        "    return code\n",
        "\n",
        "### end your code here ####\n",
        "\n",
        "# Generating a new code for a new order\n",
        "placement_date = '13/01/2021'\n",
        "placement_time = '18:20'\n",
        "client = 'CA1'\n",
        "print(\"The code of the order placed on\", placement_date, \"at \", placement_time,\"by client\", client,\"is: \", \n",
        "      OrderRef(client, placement_date, placement_time))\n",
        "# The code should be 'CA1.2021-01-13.1820'"
      ],
      "execution_count": 3,
      "outputs": [
        {
          "output_type": "stream",
          "text": [
            "The code of the order placed on 13/01/2021 at  18:20 by client CA1 is:  CA1.2021-01-13.1820\n"
          ],
          "name": "stdout"
        }
      ]
    },
    {
      "cell_type": "markdown",
      "metadata": {
        "id": "jMAd5urW6Vs3"
      },
      "source": [
        "---\n",
        "## 2. Lists"
      ]
    },
    {
      "cell_type": "markdown",
      "metadata": {
        "id": "W_bxe3it6Vs3"
      },
      "source": [
        "### Exercise 2.1: Weighted Moving Average\n",
        "\n",
        "The **simple moving average** assumes that the last $k$ observations are of equal importance on determining the forecast.  However, in some cases, more recent data may be more representative of current demand than older data. In such cases, we may opt to use the **weighted moving average method**, where historical data can be weighted to give greater importance to data from the most recent periods. \n",
        "\n",
        "> **Brief description of the model:** this method computes the forecast as the weighted average demand considering the $k$ most recent periods as follows:\n",
        ">\n",
        "> $$F_{t+1}=w_1D_t+w_2D_{t-1}+w_3D_{t-2}+...+w_kD_{(t-k)+1}$$\n",
        "> Where:\n",
        "> - $F_t$: forecast for the period $t$\n",
        "> - $k$: number of observations used in the calculation\n",
        "> - $w_t$: weighting factor given to each one of the $k$ periods considered in the calculations.  \n",
        "> - $D_t$: demand for period $t$\n",
        ">\n",
        "> As an example, consider that the sales in January, February, March and April were 125 units, 142 units, 120 units, and 153 units, respectively. We want to forecast the demand for May using the weighted exponential method with weighting factors $50\\%$, $30\\%$ and $20\\%$. The forecast is computed as $F_{May}=50\\%D_{April}+30\\%D_{March}+20\\%D_{Feb}=141$\n",
        ">\n",
        ">The advantage of weighted moving average method is that it reflects upward or downward trends more quickly (because recent data have more weight).\n",
        "\n",
        "Create a function which computes the forecast for the next period using the weighted moving average method, given a list of historical data and weighting factors. This function has the following requirements. \n",
        "* It must return the message `'not enough data'` in case that the number of observations in the historical data is less than the number of weighting factors. **Hint:** you can use the `'len()` function.\n",
        "* It must return the message `'ATTENTION: the sum of the weighting factors must be equal to 1'` in case that the sum of the weighting factors is different than 1. **Hint:** you can use the `'sum()` function.\n",
        "* The function should make the right prediction even if the weighting factors have a differing ordering within the list. this means that, the function should always compute the forecast by giving greater importance to the most recent periods. **Hint:** you can use the `.sort()` method. Check [this page](https://www.w3schools.com/python/python_lists_sort.asp) for more information.\n",
        "* Make use of list comprehensions to compute the forecast.\n",
        "* The forecast should be rounded (i.e., an integer value) **Hint:** you can use the `round()` function."
      ]
    },
    {
      "cell_type": "code",
      "metadata": {
        "id": "AvBmwY3Y6Vs4",
        "outputId": "740f2e67-20bb-40e6-aff2-454be4898fc8"
      },
      "source": [
        "### start your code here ####\n",
        "\n",
        "# defining a function for the weighted moving average method\n",
        "def WeigMovingAvg(historical_sales, weights):\n",
        "    \"\"\"\n",
        "    Return the predicted demand for the next period\n",
        "    parameters:\n",
        "        historical_sales: (list) real sales in the previous periods\n",
        "        weights: (list) weighting factors for the weighted moving avg method\n",
        "    return:\n",
        "        forecast_sales: (number) forecast for next period\n",
        "    \"\"\"\n",
        "    # checking if there is enough data to make predictions\n",
        "    if len(historical_sales) < len(weights):\n",
        "        return 'not enough data'\n",
        "    \n",
        "    #checking if the weight sum is equal to 1\n",
        "    if sum(weights) != 1:\n",
        "        return 'ATTENTION: the sum of the weighting factors must be equal to 1'\n",
        "    \n",
        "    # making sure that the weights are correctly ordered \n",
        "    weights.sort()\n",
        "    k_obs = len(weights)              # number of observations to consider\n",
        "    data = historical_sales[-k_obs:]  # slicing  and separating the data of interest to make predictions  \n",
        "    weighted_elem = [weights[k] * data[k] for k in range(k_obs)]  # creating a list with the weighted terms\n",
        "        \n",
        "    return sum(weighted_elem)\n",
        "\n",
        "# Test if your function is correct using the following data \n",
        "sales = [125, 142, 120, 153, 156, 135, 128, 117, 140, 134, 132, 126]\n",
        "weig_factors1 = [0.5, 0.15, 0.25, 0.1]\n",
        "weig_factors2 = [0.35, 0.55, 0.1]\n",
        "weig_factors3 = [0.6, 0.2, 0.3]\n",
        "\n",
        "print('Forecast sales for the next period weig_factor1 is: ', WeigMovingAvg(sales, weig_factors1))\n",
        "print('Forecast sales for the next period weig_factor2 is: ', WeigMovingAvg(sales, weig_factors2))\n",
        "print('Forecast sales for the next period weig_factor3 is: ', WeigMovingAvg(sales, weig_factors3))\n",
        "### end your code here ####\n"
      ],
      "execution_count": null,
      "outputs": [
        {
          "output_type": "stream",
          "text": [
            "Forecast sales for the next period weig_factor1 is:  130.1\n",
            "Forecast sales for the next period weig_factor2 is:  128.9\n",
            "Forecast sales for the next period weig_factor3 is:  ATTENTION: the sume of the weighting factors must be equal to 1\n"
          ],
          "name": "stdout"
        }
      ]
    },
    {
      "cell_type": "markdown",
      "metadata": {
        "id": "6C2y6rfA6Vs5"
      },
      "source": [
        "---\n",
        "## 3. Lists, Dictionaries and Tuples\n",
        "\n",
        "### Exercise 3.1: Forecasting methods using dictionaries\n",
        "\n",
        "Consider the historical data in the dictionary `sales_2020` about the vehicle sales in Canada during 2020.\n",
        "\n",
        "(*Note: we forecast demand for future periods. In this particular exercise, you are required to forecast demand for some periods where real sales data is already available. This is just an illustration for the purpose of the exercise, so try to picture yourself at the end of May 2020 tying to make predictions for the next month, once at a time, until December 2020*)"
      ]
    },
    {
      "cell_type": "code",
      "metadata": {
        "id": "1Q6C5S4d6Vs5",
        "outputId": "84e67023-0c75-4ebc-92c7-a9fea417c218"
      },
      "source": [
        "# Format of the dictionary: {'month': sale volume in units}\n",
        "sales_2020 = {'January':  83512,\n",
        "             'February':  101788,\n",
        "             'March': 148052,\n",
        "             'April': 152187,\n",
        "             'May': 157082,\n",
        "             'June':  156891,\n",
        "             'July':  150800,\n",
        "             'August':  138210,\n",
        "             'September': 137349,\n",
        "             'October': 125731,\n",
        "             'November': 118521,\n",
        "             'December': 114376} \n",
        "print(sales_2020)"
      ],
      "execution_count": null,
      "outputs": [
        {
          "output_type": "stream",
          "text": [
            "{'January': 83512, 'February': 101788, 'March': 148052, 'April': 152187, 'May': 157082, 'June': 156891, 'July': 150800, 'August': 138210, 'September': 137349, 'October': 125731, 'November': 118521, 'December': 114376}\n"
          ],
          "name": "stdout"
        }
      ]
    },
    {
      "cell_type": "markdown",
      "metadata": {
        "id": "DWpTxQ3W6Vs6"
      },
      "source": [
        "Using the historical data in `sales_2020` and the function created in Exercise 2.1, forecast sales for April 2020 to December 2020 using the Weighted Moving Average method with different weighting parameters, as indicated in the next code cell. You are required to save your forecast in a nested dictionary in the following format (WMA: Weighted Moving Average):\n",
        "\n",
        "`forecast_dic =  {'April': {'WMA_w1': XX, 'WMA_w2': XX, 'WMA_w3': XX},     \n",
        "                   'May': {'WMA_w1': XX, 'WMA_w2': XX, 'WMA_w3': XX},      \n",
        "                   'June': {'WMA_w1': XX, 'WMA_w2': XX, 'WMA_w3': XX},     \n",
        "                   ... ,                                                   \n",
        "                   'December': {'WMA_w1': XX, 'WMA_w2': XX, 'WMA_w3': XX}}`\n",
        "\n",
        "\n",
        "**Hint:** you can use `for` loops, list comprehension, the constructor `.list()`, and useful dictionary methods such as `keys()`"
      ]
    },
    {
      "cell_type": "code",
      "metadata": {
        "scrolled": true,
        "id": "OlFHgmtW6Vs6",
        "outputId": "b88aefbf-cf13-4659-c298-545590342c23"
      },
      "source": [
        "# Different weightening parameters to test\n",
        "w1 = [0.5, 0.2, 0.3]\n",
        "w2 = [0.7, 0.1, 0.2]\n",
        "w3 = [0.4, 0.3, 0.3]\n",
        "\n",
        "### start your code here ####\n",
        "\n",
        "# initialize the forecast_dict\n",
        "forecast_dic ={'April': {},\n",
        "               'May': {},\n",
        "               'June':  {},\n",
        "               'July':  {},\n",
        "               'August':  {},\n",
        "               'September': {},\n",
        "               'October': {},\n",
        "               'November': {},\n",
        "               'December': {}} \n",
        "list_months = list(sales_2020.keys())\n",
        "\n",
        "for t in range(3,12):  # compute preductions from the 4th month until the 2th\n",
        "    \n",
        "    # forcasting using w1\n",
        "    f1 = WeigMovingAvg([sales_2020[list_months[tt]] for tt in range(t)], w1)\n",
        "    forecast_dic[list_months[t]]['WMA_w1']= f1\n",
        "    \n",
        "    # forcasting using w2\n",
        "    f2 = WeigMovingAvg([sales_2020[list_months[tt]] for tt in range(t)], w2)\n",
        "    forecast_dic[list_months[t]]['WMA_w2']= f2\n",
        "    \n",
        "    # forcasting using w3\n",
        "    f3 = WeigMovingAvg([sales_2020[list_months[tt]] for tt in range(t)], w3)\n",
        "    forecast_dic[list_months[t]]['WMA_w3']= f3\n",
        "\n",
        "### end your code here ####\n",
        "\n",
        "print('Forecasting using three different methods', forecast_dic)"
      ],
      "execution_count": null,
      "outputs": [
        {
          "output_type": "stream",
          "text": [
            "Forecasting using three different methods {'April': {'WMA_w1': 121264.8, 'WMA_w2': 132345.2, 'WMA_w3': 114810.8}, 'May': {'WMA_w1': 140866.7, 'WMA_w2': 146320.1, 'WMA_w3': 135826.8}, 'June': {'WMA_w1': 153807.5, 'WMA_w2': 155200.0, 'WMA_w3': 152904.5}, 'July': {'WMA_w1': 156007.5, 'WMA_w2': 156458.8, 'WMA_w3': 155537.1}, 'August': {'WMA_w1': 153883.7, 'WMA_w2': 152646.4, 'WMA_w3': 154511.9}, 'September': {'WMA_w1': 145723.2, 'WMA_w2': 142596.1, 'WMA_w3': 147591.3}, 'October': {'WMA_w1': 140297.5, 'WMA_w2': 138866.3, 'WMA_w3': 141642.6}, 'November': {'WMA_w1': 131712.2, 'WMA_w2': 129302.5, 'WMA_w3': 132960.1}, 'December': {'WMA_w1': 124449.6, 'WMA_w2': 121845.8, 'WMA_w3': 126332.4}}\n"
          ],
          "name": "stdout"
        }
      ]
    },
    {
      "cell_type": "markdown",
      "metadata": {
        "id": "Bj06DE0W6Vs7"
      },
      "source": [
        "### Exercise 3.2: Selecting the most precise method\n",
        "\n",
        "Here you will select the most precise method among the ones you used for forecasting sales in the previous exercise. The choice of the most precise value is based on the Mean Squared Error (MSE). MSE measures the quadratic deviation of forecast and actual data according to the following equation.\n",
        "\n",
        "$$ MSE = \\frac{1}{T}\\sum_{t=1}^{T}(D_t-F_t)^2$$\n",
        "\n",
        "* $D_t$: demand realization at period $t$\n",
        "* $F_t$: demand forecast at period $t$\n",
        "* $T$: number of periods in the planning horizon. \n",
        "\n",
        "Create a function with the name `BestMethod` which returns the name of the most precise forecasting method and the MSE value as a tuple. This function should take two arguments: dictionary `sales_2020`, which contains real demand; and dictionary `forecast_dic`, which contains forecasted data (the dictionary you populated in the previous exercise). "
      ]
    },
    {
      "cell_type": "code",
      "metadata": {
        "id": "sVNveY0Y6Vs8",
        "outputId": "7a17f27c-0cb8-4328-b7f5-aa55e72f65ad"
      },
      "source": [
        "### start your code here ####\n",
        "def BestMethod(real_sales, forecast):\n",
        "    \"\"\"\n",
        "    Determines the most precise method\n",
        "    parameters:\n",
        "        real_sales: (dictionary) contains real sales\n",
        "        forecast: (nested dictionary) contains forecast sales using different methods in the format: \n",
        "                  forecast = {'period_name': {'method1_name': forecast_method1, 'method2_name': forecast ,...},...}\n",
        "    return:\n",
        "        (tuple): (name of the best method, MSE)\n",
        "    \"\"\"\n",
        "    # save the list of months with forescast\n",
        "    list_months = list(forecast.keys())\n",
        "    \n",
        "    #save the list of methods tested\n",
        "    list_methods = list(forecast[list_months[0]].keys())\n",
        "    \n",
        "    MSE = []   # initializing a list to save the MSE of each method\n",
        "    for i in list_methods:\n",
        "        squared_error = [(real_sales[j]-forecast[j][i]) ** 2 for j in list_months]  # comput. the individual squared errors\n",
        "        print(i)\n",
        "        print(squared_error)\n",
        "        MSE.append(sum(squared_error)/len(squared_error))   #saving the MSE in the list\n",
        "    print('The MSE for all method is ', MSE) \n",
        "    \n",
        "    return (list_methods[MSE.index( min(MSE))], min(MSE))\n",
        "\n",
        "### end your code here ####\n",
        "\n",
        "print(\"The most precise method and the corresponding MSE value is: \", BestMethod(sales_2020, forecast_dic))"
      ],
      "execution_count": null,
      "outputs": [
        {
          "output_type": "stream",
          "text": [
            "WMA_w1\n",
            "[956182452.8399998, 262935954.08999962, 9507972.25, 27118056.25, 245664871.69000036, 70127225.6400002, 212182922.25, 174007757.4400003, 101477416.96000011]\n",
            "WMA_w2\n",
            "[393697027.23999953, 115818491.60999988, 2859481.0, 32022017.439999867, 208409644.95999983, 27532058.41000006, 172536106.0899997, 116240742.25, 55797912.040000044]\n",
            "WMA_w3\n",
            "[1396980326.4399998, 451783527.0400005, 15892182.25, 22440116.410000056, 265751943.6099998, 104904709.28999977, 253179014.56000018, 208487608.81000018, 142955500.95999986]\n",
            "The MSE for all method is  [228800514.3788889, 124990386.78222209, 318041658.81888896]\n",
            "('WMA_w2', 124990386.78222209)\n"
          ],
          "name": "stdout"
        }
      ]
    },
    {
      "cell_type": "code",
      "metadata": {
        "id": "-LdfYT5X6Vs8"
      },
      "source": [
        ""
      ],
      "execution_count": null,
      "outputs": []
    }
  ]
}