{
 "cells": [
  {
   "cell_type": "markdown",
   "metadata": {
    "id": "iDrdErof6Vsz"
   },
   "source": [
    "# S03 - In-class Exercises: Python Data Structures - Part I\n",
    "\n",
    "---\n",
    "## Instructions\n",
    "\n",
    "Most of the exercises presented here allows you to practice basic Python programming for some applications in Operations Management and Logistics. \n",
    "\n",
    "For each exercise, you have a code cell for the response underneath it, where you should write your answer between the lines containing `### start your code here ###`  and `### end your code here ###`. Your code can contain one or more lines and you can execute this cell in order to complete the exercise. To execute the cell, you can type `Shift+Enter` or press the play button in the toolbar above. Your results will appear right below this response cell.\n",
    "\n",
    "**NOTE:** Please pay attention to the variable name of the output you need to provide under each question. You must use the same variable name for the output so that the result can be printed out correctly."
   ]
  },
  {
   "cell_type": "markdown",
   "metadata": {
    "id": "jQ4-er1B6Vs1"
   },
   "source": [
    "---\n",
    "## String\n",
    "### Exercise 1: Generating Reference Codes for New Orders\n",
    "A small business would like to create its own purchase order template and assign an informative code to each new order. Create a function with the name `OrderRef`, which returns a new code in the format specified below given the following information: \n",
    "\n",
    "* client ID  (3 characters)\n",
    "* date when the order is placed (in the format `DD/MM/YYYY`, e.g., 13/06/2020)\n",
    "* time at which the order was placed (in the format `HH:MM`, e.g., 14:05)\n",
    "\n",
    "The desired format of the code for each order is:\n",
    "\n",
    "\n",
    "<div>\n",
    "  <img src=\"https://raw.githubusercontent.com/acedesci/scanalytics/master/S03_Data_Structures_1/_static/OrderRev_V2.png\" width=\"500\">\n",
    "</div>\n",
    "\n",
    "**Hint:** you can use the `.split('character')` method and the operator `+` to perform string concatenation."
   ]
  },
  {
   "cell_type": "code",
   "execution_count": null,
   "metadata": {
    "id": "0HLX3cPI6Vs2"
   },
   "outputs": [],
   "source": [
    "# defining a function which create a reference code for each order\n",
    "def OrderRef(client_id, plac_date, plac_time):\n",
    "    \"\"\"\n",
    "    Return an order code\n",
    "    Parameters:\n",
    "        client_id: (string) client identification number of 3 characters AAA\n",
    "        plac_date: (string) date in which the order was placed in the format DD/MM/YYYY\n",
    "        plac_time: (string) time at which the order was placed in the format HH:MM\n",
    "    return:\n",
    "        code (string) in the format AAA.YYYY-MM-DD.HHMM \n",
    "        \n",
    "    \"\"\"  \n",
    "    ### start your code here ####  \n",
    "    \n",
    "    ### end your code here ####\n",
    "\n",
    "# Generating a new code for a new order\n",
    "placement_date = '13/01/2021'\n",
    "placement_time = '18:20'\n",
    "client = 'CA1'\n",
    "print(\"The code of the order placed on\", placement_date, \"at \", placement_time,\"by client\", client,\"is: \", \n",
    "      OrderRef(client, placement_date, placement_time))\n",
    "# The code should be 'CA1.2021-01-13.1820'"
   ]
  },
  {
   "cell_type": "markdown",
   "metadata": {
    "id": "W_bxe3it6Vs3"
   },
   "source": [
    "### Exercise 2: Weighted Moving Average (WMA)\n",
    "\n",
    "The simple moving average assumes that the last $k$ observations are of equal importance on determining the forecast.  However, in some cases, more recent data may be more representative of current demand than older data. In such cases, we may opt to use the **weighted moving average method (WMA)**, which is also another commonly used method in technical analysis where historical data can be weighted to give greater importance to data from the most recent periods. This [link](https://en.wikipedia.org/wiki/Moving_average#Weighted_moving_average) provides more details on this method.\n",
    "\n",
    "> **Brief description of the model:** this method computes the forecast as the weighted average demand considering the $k$ most recent periods as follows:\n",
    ">\n",
    "> $$F_{t+1}=\\frac{kD_t+(k-1)D_{t-1}+(k-2)D_{t-2}+...+2D_{(t-k)+2}+D_{(t-k)+1}}{k+(k-1)+(k-2)+...+2+1}$$\n",
    "> Where:\n",
    "> - $F_t$: forecast for the period $t$\n",
    "> - $k$: number of recent observations used in the calculation\n",
    "> - $D_t$: demand for period $t$\n",
    "> \n",
    "> We can also see that the denominator is equal to $k(k+1)/2$. Thus, we can also write:\n",
    "> $$F_{t+1}=\\frac{kD_t+(k-1)D_{t-1}+(k-2)D_{t-2}+...+2D_{(t-k)+2}+D_{(t-k)+1}}{k(k+1)/2}$$\n",
    "> As an example, consider that the sales in January, February, March and April were 125 units, 142 units, 120 units, and 153 units, respectively. We want to forecast the demand for May using the weighted exponential method with $k=3$. Then the denominator will be $=3(3+1)/2 = 6$  (or $3 + 2 +1 = 6$). The forecast is computed as $F_{May}=\\frac{3D_{April}+2D_{March}+1D_{Feb}}{6}=140.167 \\approx 140$\n",
    ">\n",
    ">The advantage of weighted moving average method is that it reflects upward or downward trends more quickly (because recent data have more weight).\n",
    "\n",
    "Create a function which computes the forecast for the next period using the weighted moving average method, given a list of historical data and the number of lookback periods. This function must also include the following components:\n",
    "* **Error checking**: It must return the message `'Error: not enough data'` in case that the number of observations in the historical data is less than the number of lookback periods $k$. **Hint:** you can use the `'len()` function.\n",
    "* **Forecasting calculation**: If there is no issue above, then the function performs the calculation of forecast and return the forecasting value for $t$.\n",
    "\n",
    "   * You can make use of list comprehensions to compute the forecast. \n",
    "   * The forecast should be rounded (i.e., an integer value) **Hint:** you can use the `round()` function."
   ]
  },
  {
   "cell_type": "code",
   "execution_count": null,
   "metadata": {
    "id": "AvBmwY3Y6Vs4"
   },
   "outputs": [],
   "source": [
    "# defining a function for the weighted moving average method\n",
    "def weightedMovingAvg(historical_sales, t, k):\n",
    "    \"\"\"\n",
    "    Return the predicted demand for the next period\n",
    "    parameters:\n",
    "        historical_sales: (list) real sales in the previous periods\n",
    "        t: (int number) period to forecast\n",
    "        k: (int number) parameter of the weighted moving avg method\n",
    "    return:\n",
    "        forecast for period t\n",
    "    \"\"\"\n",
    "    ### start your code here ####\n",
    "    \n",
    "    ### end your code here ####\n",
    "\n",
    "# Test if your function is correct using the following data \n",
    "sales = [125, 142, 120, 153, 156, 135, 128, 117, 140, 134, 132, 126] # here we have index 0->11\n",
    "\n",
    "print('Forecast sales for the next period with k = 2 is: ', weightedMovingAvg(sales, 12, 2))\n",
    "print('Forecast sales for the next period with k = 5 is: ', weightedMovingAvg(sales, 12, 5))\n",
    "print('Forecast sales for the next period with k = 15 is: ', weightedMovingAvg(sales, 12, 15))"
   ]
  },
  {
   "cell_type": "markdown",
   "metadata": {
    "id": "6C2y6rfA6Vs5"
   },
   "source": [
    "---\n",
    "## Dictionaries\n",
    "\n",
    "### Exercise 3: Forecasting Methods using Dictionaries\n",
    "\n",
    "Consider the historical data in the dictionary `sales_2020` about the vehicle sales in Canada during 2020.\n",
    "\n",
    "(*Note: we forecast demand for future periods. In this particular exercise, you are required to forecast demand for some periods where real sales data is already available. This is just an illustration for the purpose of the exercise, so try to picture yourself at the end of October 2020 tying to make predictions for the next month, once at a time, until December 2020*)"
   ]
  },
  {
   "cell_type": "code",
   "execution_count": null,
   "metadata": {
    "id": "1Q6C5S4d6Vs5"
   },
   "outputs": [],
   "source": [
    "# Format of the dictionary: {'month': sale volume in units}\n",
    "sales_2020 = {'January': 83512,\n",
    "             'February': 101788,\n",
    "             'March': 148052,\n",
    "             'April': 152187,\n",
    "             'May': 157082,\n",
    "             'June': 156891,\n",
    "             'July': 150800,\n",
    "             'August': 138210,\n",
    "             'September': 137349,\n",
    "             'October': 125731,\n",
    "             'November': 118521,\n",
    "             'December': 114376} \n",
    "print(\"dict:\", sales_2020)\n",
    "print(\"keys:\", list(sales_2020.keys()))\n",
    "print(\"values:\", list(sales_2020.values()))   "
   ]
  },
  {
   "cell_type": "markdown",
   "metadata": {
    "id": "DWpTxQ3W6Vs6"
   },
   "source": [
    "We want to perform a backtesting to see the quality of the forecasts versus the actual sales during the last two months (November and December) of 2020. Using the historical data in `sales_2020` and the function created in Exercise 2, forecast sales for the months indicated in the dictionary `forecast_wma` below using the Weighted Moving Average (WMA) method. \n",
    "\n",
    "You are required to save your forecast in a nested dictionary of `forecast_wma` which has the following structure.\n",
    "\n",
    "`forecast_wma =  {'k=3': {'November', WMA_November, 'December': WMA_December}, \n",
    "                  'k=4': {'November', WMA_November, 'December': WMA_December}}`\n",
    "\n",
    "\n",
    "**Hint:** you can indeed use `list(sales_2020.values())` to obtain the values in the dictionary and pass it to the function.  You can use `for` loops, list comprehension, the constructor `list()`, and useful dictionary methods such as `.keys()`."
   ]
  },
  {
   "cell_type": "code",
   "execution_count": null,
   "metadata": {
    "id": "OlFHgmtW6Vs6",
    "scrolled": true
   },
   "outputs": [],
   "source": [
    "forecast_wma ={'k=3':{'November': {}, 'December': {}},\n",
    "               'k=4':{'November': {}, 'December': {}}}\n",
    "\n",
    "### start your code here ####\n",
    "\n",
    "### end your code here ####\n",
    "\n",
    "print('Forecasting based on WMA', forecast_wma)"
   ]
  }
 ],
 "metadata": {
  "kernelspec": {
   "display_name": "Python 3 (ipykernel)",
   "language": "python",
   "name": "python3"
  },
  "language_info": {
   "codemirror_mode": {
    "name": "ipython",
    "version": 3
   },
   "file_extension": ".py",
   "mimetype": "text/x-python",
   "name": "python",
   "nbconvert_exporter": "python",
   "pygments_lexer": "ipython3",
   "version": "3.8.8"
  },
  "toc": {
   "base_numbering": 1,
   "nav_menu": {},
   "number_sections": true,
   "sideBar": true,
   "skip_h1_title": false,
   "title_cell": "Table of Contents",
   "title_sidebar": "Contents",
   "toc_cell": false,
   "toc_position": {},
   "toc_section_display": true,
   "toc_window_display": true
  }
 },
 "nbformat": 4,
 "nbformat_minor": 1
}
