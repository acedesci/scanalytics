{
  "nbformat": 4,
  "nbformat_minor": 0,
  "metadata": {
    "colab": {
      "name": "S9_Module2A_Retail_Price_Optimization.ipynb",
      "provenance": [],
      "collapsed_sections": [],
      "authorship_tag": "ABX9TyPiqbnGlu18YTUhjogk32iQ",
      "include_colab_link": true
    },
    "kernelspec": {
      "name": "python3",
      "display_name": "Python 3"
    }
  },
  "cells": [
    {
      "cell_type": "markdown",
      "metadata": {
        "id": "view-in-github",
        "colab_type": "text"
      },
      "source": [
        "<a href=\"https://colab.research.google.com/github/acedesci/scanalytics/blob/master/S8_9_retail_analytics/DT_S9_Module2A_Retail_Price_Optimization.ipynb\" target=\"_parent\"><img src=\"https://colab.research.google.com/assets/colab-badge.svg\" alt=\"Open In Colab\"/></a>"
      ]
    },
    {
      "cell_type": "markdown",
      "metadata": {
        "id": "pHCo2OUyeYib",
        "colab_type": "text"
      },
      "source": [
        "For this session, we begin by installing the Pyomo package and its utils (GLPK -- GNU Linear Programming Kit). Installing Pyomo and its utils in Colab is straightforward as shown below. If you wish to install them in Anaconda or in a different distribution package, please consult this page http://www.pyomo.org/installation."
      ]
    },
    {
      "cell_type": "code",
      "metadata": {
        "id": "zdvWKIywwi4_",
        "colab_type": "code",
        "colab": {
          "base_uri": "https://localhost:8080/",
          "height": 510
        },
        "outputId": "f80af315-25b7-4d6d-e502-ffc31a1df190"
      },
      "source": [
        "# Install Pyomo and GLPK\n",
        "!pip install -q pyomo\n",
        "!apt-get install -y -qq glpk-utils"
      ],
      "execution_count": 1,
      "outputs": [
        {
          "output_type": "stream",
          "text": [
            "\u001b[K     |████████████████████████████████| 2.4MB 4.9MB/s \n",
            "\u001b[K     |████████████████████████████████| 51kB 8.0MB/s \n",
            "\u001b[K     |████████████████████████████████| 256kB 55.9MB/s \n",
            "\u001b[K     |████████████████████████████████| 163kB 55.9MB/s \n",
            "\u001b[?25hSelecting previously unselected package libsuitesparseconfig5:amd64.\n",
            "(Reading database ... 134443 files and directories currently installed.)\n",
            "Preparing to unpack .../libsuitesparseconfig5_1%3a5.1.2-2_amd64.deb ...\n",
            "Unpacking libsuitesparseconfig5:amd64 (1:5.1.2-2) ...\n",
            "Selecting previously unselected package libamd2:amd64.\n",
            "Preparing to unpack .../libamd2_1%3a5.1.2-2_amd64.deb ...\n",
            "Unpacking libamd2:amd64 (1:5.1.2-2) ...\n",
            "Selecting previously unselected package libcolamd2:amd64.\n",
            "Preparing to unpack .../libcolamd2_1%3a5.1.2-2_amd64.deb ...\n",
            "Unpacking libcolamd2:amd64 (1:5.1.2-2) ...\n",
            "Selecting previously unselected package libglpk40:amd64.\n",
            "Preparing to unpack .../libglpk40_4.65-1_amd64.deb ...\n",
            "Unpacking libglpk40:amd64 (4.65-1) ...\n",
            "Selecting previously unselected package glpk-utils.\n",
            "Preparing to unpack .../glpk-utils_4.65-1_amd64.deb ...\n",
            "Unpacking glpk-utils (4.65-1) ...\n",
            "Setting up libsuitesparseconfig5:amd64 (1:5.1.2-2) ...\n",
            "Setting up libcolamd2:amd64 (1:5.1.2-2) ...\n",
            "Setting up libamd2:amd64 (1:5.1.2-2) ...\n",
            "Setting up libglpk40:amd64 (4.65-1) ...\n",
            "Setting up glpk-utils (4.65-1) ...\n",
            "Processing triggers for libc-bin (2.27-3ubuntu1) ...\n",
            "/sbin/ldconfig.real: /usr/local/lib/python3.6/dist-packages/ideep4py/lib/libmkldnn.so.0 is not a symbolic link\n",
            "\n",
            "Processing triggers for man-db (2.8.3-2ubuntu0.1) ...\n"
          ],
          "name": "stdout"
        }
      ]
    },
    {
      "cell_type": "markdown",
      "metadata": {
        "id": "9cS5YfcZHddR",
        "colab_type": "text"
      },
      "source": [
        "# Block 1: Data input"
      ]
    },
    {
      "cell_type": "markdown",
      "metadata": {
        "id": "6EUEaDy8emFA",
        "colab_type": "text"
      },
      "source": [
        "We have been working on this dataset during the past few weeks. The product list below is just simply a subset of those products. In this session, we would like to work on price optimization for the items on that list. In particular, each product can be priced at $2.5, $3.0 or $3.5 and we wish to decide the prices at which these products are offered so that our total revenue is maximized. As we have learned from last week's analysis that the relative price of competing/substitution products is a factor affecting sales, we must optimize the pricing of all these products together to reach the global optimum."
      ]
    },
    {
      "cell_type": "code",
      "metadata": {
        "id": "scZFGWSlDi3L",
        "colab_type": "code",
        "colab": {}
      },
      "source": [
        "from pyomo.environ import *\n",
        "\n",
        "productList = ['1600027528', '1600027564', '3000006340', '3800031829']\n",
        "priceList = [2.5, 3.0, 3.5]\n",
        "avgPriceValue = 3.0\n",
        "\n",
        "iIndexList = list(range(len(productList)))\n",
        "jIndexList = list(range(len(priceList)))"
      ],
      "execution_count": 0,
      "outputs": []
    },
    {
      "cell_type": "markdown",
      "metadata": {
        "id": "9cS5YfcZHddR",
        "colab_type": "text"
      },
      "source": [
        "# Block 2: Variable declarations"
      ]
    },
    {
      "cell_type": "markdown",
      "metadata": {
        "id": "mDQYDKCYfGO7",
        "colab_type": "text"
      },
      "source": [
        "We use model.x to define the decision variable of our optimization model, which is $x_{ij} \\in \\{0,1\\}$ with $i$ being the product index and $j$ being the price index. Please note that in Python (and many other programming languages), the starting index is 0. By setting $x_{01}=1$, we sell product '1600027528' (product at position 0 on the product list) at price $3.0 (price at position 1 on the price list). Given that the data values for price and predicted sales will be explicitly defined (instantiated) in our model, we call the ConcreteModel class. Please feel free to refer to this page (https://pyomo.readthedocs.io/en/stable/pyomo_overview/abstract_concrete.html) for comparisons between concrete and abstract models."
      ]
    },
    {
      "cell_type": "code",
      "metadata": {
        "id": "H0KtDkEikJOM",
        "colab_type": "code",
        "outputId": "012b8ec8-3aca-4e99-8bf6-bc06b98a607a",
        "colab": {
          "base_uri": "https://localhost:8080/",
          "height": 442
        }
      },
      "source": [
        "model = ConcreteModel()\n",
        "# Variables\n",
        "model.x = Var(iIndexList, jIndexList, within = Binary)\n",
        "model.pprint()"
      ],
      "execution_count": 3,
      "outputs": [
        {
          "output_type": "stream",
          "text": [
            "3 Set Declarations\n",
            "    x_index : Dim=0, Dimen=2, Size=12, Domain=None, Ordered=False, Bounds=None\n",
            "        Virtual\n",
            "    x_index_0 : Dim=0, Dimen=1, Size=4, Domain=None, Ordered=False, Bounds=(0, 3)\n",
            "        [0, 1, 2, 3]\n",
            "    x_index_1 : Dim=0, Dimen=1, Size=3, Domain=None, Ordered=False, Bounds=(0, 2)\n",
            "        [0, 1, 2]\n",
            "\n",
            "1 Var Declarations\n",
            "    x : Size=12, Index=x_index\n",
            "        Key    : Lower : Value : Upper : Fixed : Stale : Domain\n",
            "        (0, 0) :     0 :  None :     1 : False :  True : Binary\n",
            "        (0, 1) :     0 :  None :     1 : False :  True : Binary\n",
            "        (0, 2) :     0 :  None :     1 : False :  True : Binary\n",
            "        (1, 0) :     0 :  None :     1 : False :  True : Binary\n",
            "        (1, 1) :     0 :  None :     1 : False :  True : Binary\n",
            "        (1, 2) :     0 :  None :     1 : False :  True : Binary\n",
            "        (2, 0) :     0 :  None :     1 : False :  True : Binary\n",
            "        (2, 1) :     0 :  None :     1 : False :  True : Binary\n",
            "        (2, 2) :     0 :  None :     1 : False :  True : Binary\n",
            "        (3, 0) :     0 :  None :     1 : False :  True : Binary\n",
            "        (3, 1) :     0 :  None :     1 : False :  True : Binary\n",
            "        (3, 2) :     0 :  None :     1 : False :  True : Binary\n",
            "\n",
            "4 Declarations: x_index_0 x_index_1 x_index x\n"
          ],
          "name": "stdout"
        }
      ]
    },
    {
      "cell_type": "markdown",
      "metadata": {
        "id": "9cS5YfcZHddR",
        "colab_type": "text"
      },
      "source": [
        "# Block 3: Modeling (obj function and constraints)"
      ]
    },
    {
      "cell_type": "markdown",
      "metadata": {
        "id": "78xTZBA-hfTO",
        "colab_type": "text"
      },
      "source": [
        "The general form of the objective function is $\\sum_{i=0}^3 \\sum_{j=0}^2 p_{ij} \\cdot \\tilde{D}_{ijk} \\cdot x_{ij}$, where $p_{ij}$ is the $j$th price of product $i$, e.g. $p_{i1}$ denotes the price at position 1 on the price list of product $i$. Looking at the price list, we can easily see that $p_{i1}=3.0$. As we defined above, $x_{ij}=1$ when product $i$ is sold at price $j$, 0 otherwise. $\\tilde{D}_{ijk}$ is the predicted sales of product $i$ when this product is sold at price $j$ while the average price of all competing products, including product $i$, is equal to $k$. In our optimization model, $k$ is preset to 3.0 (avgPriceValue). By inputting price $p_{ij}$ and average price $k$ into the predictive model we trained and saved last week, we can attain the corresponding predicted sales $\\left( \\tilde{D}_{ijk} \\right)$. We use Objective($\\cdot$) to define the objective function and 'sense = maximize' to indicate that the objective is for maximization."
      ]
    },
    {
      "cell_type": "code",
      "metadata": {
        "id": "RY6Vi1TE5ztC",
        "colab_type": "code",
        "colab": {}
      },
      "source": [
        "# Objective function\n",
        "\n",
        "model.OBJ = Objective(sense = maximize, expr = 2.5*95.0*model.x[0,0] + 3.0*67.0*model.x[0,1] + 3.5*46.0*model.x[0,2] \n",
        "                      + 2.5*24.0*model.x[1,0] + 3.0*23.0*model.x[1,1] + 3.5*20.0*model.x[1,2]  \n",
        "                      + 2.5*6.0*model.x[2,0] + 3.0*4.0*model.x[2,1] + 3.5*3.0*model.x[2,2]  \n",
        "                      + 2.5*33.0*model.x[3,0] + 3.0*24.0*model.x[3,1] + 3.5*20.0*model.x[3,2])"
      ],
      "execution_count": 0,
      "outputs": []
    },
    {
      "cell_type": "markdown",
      "metadata": {
        "id": "OpJo3pzmmAyU",
        "colab_type": "text"
      },
      "source": [
        "As regards the first set of constraints, we wish to make sure that each product is sold at one price only. Therefore, the general form of this constraint set is $\\sum_{j=0}^2 x_{ij} = 1,\\forall i\\in\\{0,1,2,3\\}$. We use Constraint($\\cdot$) to define the constraints."
      ]
    },
    {
      "cell_type": "code",
      "metadata": {
        "id": "_-J1E9CayDY-",
        "colab_type": "code",
        "colab": {}
      },
      "source": [
        "# Constraints #1\n",
        "model.PriceChoiceUPC1 = Constraint(expr = model.x[0,0] + model.x[0,1] + model.x[0,2] == 1)\n",
        "model.PriceChoiceUPC2 = Constraint(expr = model.x[1,0] + model.x[1,1] + model.x[1,2] == 1)\n",
        "model.PriceChoiceUPC3 = Constraint(expr = model.x[2,0] + model.x[2,1] + model.x[2,2] == 1)\n",
        "model.PriceChoiceUPC4 = Constraint(expr = model.x[3,0] + model.x[3,1] + model.x[3,2] == 1)"
      ],
      "execution_count": 0,
      "outputs": []
    },
    {
      "cell_type": "markdown",
      "metadata": {
        "id": "pzr4Kj3Yvcnk",
        "colab_type": "text"
      },
      "source": [
        "The second set of constraints ensures that the average price of all the **4** products considered in our optimization model equals the predefined average price, which is $k=\\$3.0$ (avgPriceValue) in our model. The general form is"
      ]
    },
    {
      "cell_type": "markdown",
      "metadata": {
        "id": "9cS5YfcZHddR",
        "colab_type": "text"
      },
      "source": [
        "$ \\frac{ \\sum_{i=0}^3 \\sum_{j=0}^2 p_{ij} \\cdot x_{ij} }{4} =k \\iff \\sum_{i=0}^3 \\sum_{j=0}^2 p_{ij} \\cdot x_{ij} = k\\cdot 4$"
      ]
    },
    {
      "cell_type": "code",
      "metadata": {
        "id": "prKy0fAE6hTd",
        "colab_type": "code",
        "outputId": "4e5a231e-a2ec-4a81-87f7-465ba8d13a10",
        "colab": {
          "base_uri": "https://localhost:8080/",
          "height": 836
        }
      },
      "source": [
        "# Constraints #2\n",
        "\n",
        "model.sumPrice = Constraint(expr = 2.5*model.x[0,0] + 3.0*model.x[0,1] + 3.5*model.x[0,2] \n",
        "                      + 2.5*model.x[1,0] + 3.0*model.x[1,1] + 3.5*model.x[1,2]  \n",
        "                      + 2.5*model.x[2,0] + 3.0*model.x[2,1] + 3.5*model.x[2,2]  \n",
        "                      + 2.5*model.x[3,0] + 3.0*model.x[3,1] + 3.5*model.x[3,2] == avgPriceValue*4)\n",
        "\n",
        "model.pprint()"
      ],
      "execution_count": 6,
      "outputs": [
        {
          "output_type": "stream",
          "text": [
            "3 Set Declarations\n",
            "    x_index : Dim=0, Dimen=2, Size=12, Domain=None, Ordered=False, Bounds=None\n",
            "        Virtual\n",
            "    x_index_0 : Dim=0, Dimen=1, Size=4, Domain=None, Ordered=False, Bounds=(0, 3)\n",
            "        [0, 1, 2, 3]\n",
            "    x_index_1 : Dim=0, Dimen=1, Size=3, Domain=None, Ordered=False, Bounds=(0, 2)\n",
            "        [0, 1, 2]\n",
            "\n",
            "1 Var Declarations\n",
            "    x : Size=12, Index=x_index\n",
            "        Key    : Lower : Value : Upper : Fixed : Stale : Domain\n",
            "        (0, 0) :     0 :  None :     1 : False :  True : Binary\n",
            "        (0, 1) :     0 :  None :     1 : False :  True : Binary\n",
            "        (0, 2) :     0 :  None :     1 : False :  True : Binary\n",
            "        (1, 0) :     0 :  None :     1 : False :  True : Binary\n",
            "        (1, 1) :     0 :  None :     1 : False :  True : Binary\n",
            "        (1, 2) :     0 :  None :     1 : False :  True : Binary\n",
            "        (2, 0) :     0 :  None :     1 : False :  True : Binary\n",
            "        (2, 1) :     0 :  None :     1 : False :  True : Binary\n",
            "        (2, 2) :     0 :  None :     1 : False :  True : Binary\n",
            "        (3, 0) :     0 :  None :     1 : False :  True : Binary\n",
            "        (3, 1) :     0 :  None :     1 : False :  True : Binary\n",
            "        (3, 2) :     0 :  None :     1 : False :  True : Binary\n",
            "\n",
            "1 Objective Declarations\n",
            "    OBJ : Size=1, Index=None, Active=True\n",
            "        Key  : Active : Sense    : Expression\n",
            "        None :   True : maximize : 237.5*x[0,0] + 201.0*x[0,1] + 161.0*x[0,2] + 60.0*x[1,0] + 69.0*x[1,1] + 70.0*x[1,2] + 15.0*x[2,0] + 12.0*x[2,1] + 10.5*x[2,2] + 82.5*x[3,0] + 72.0*x[3,1] + 70.0*x[3,2]\n",
            "\n",
            "5 Constraint Declarations\n",
            "    PriceChoiceUPC1 : Size=1, Index=None, Active=True\n",
            "        Key  : Lower : Body                     : Upper : Active\n",
            "        None :   1.0 : x[0,0] + x[0,1] + x[0,2] :   1.0 :   True\n",
            "    PriceChoiceUPC2 : Size=1, Index=None, Active=True\n",
            "        Key  : Lower : Body                     : Upper : Active\n",
            "        None :   1.0 : x[1,0] + x[1,1] + x[1,2] :   1.0 :   True\n",
            "    PriceChoiceUPC3 : Size=1, Index=None, Active=True\n",
            "        Key  : Lower : Body                     : Upper : Active\n",
            "        None :   1.0 : x[2,0] + x[2,1] + x[2,2] :   1.0 :   True\n",
            "    PriceChoiceUPC4 : Size=1, Index=None, Active=True\n",
            "        Key  : Lower : Body                     : Upper : Active\n",
            "        None :   1.0 : x[3,0] + x[3,1] + x[3,2] :   1.0 :   True\n",
            "    sumPrice : Size=1, Index=None, Active=True\n",
            "        Key  : Lower : Body                                                                                                                                                      : Upper : Active\n",
            "        None :  12.0 : 2.5*x[0,0] + 3.0*x[0,1] + 3.5*x[0,2] + 2.5*x[1,0] + 3.0*x[1,1] + 3.5*x[1,2] + 2.5*x[2,0] + 3.0*x[2,1] + 3.5*x[2,2] + 2.5*x[3,0] + 3.0*x[3,1] + 3.5*x[3,2] :  12.0 :   True\n",
            "\n",
            "10 Declarations: x_index_0 x_index_1 x_index x OBJ PriceChoiceUPC1 PriceChoiceUPC2 PriceChoiceUPC3 PriceChoiceUPC4 sumPrice\n"
          ],
          "name": "stdout"
        }
      ]
    },
    {
      "cell_type": "markdown",
      "metadata": {
        "id": "9cS5YfcZHddR",
        "colab_type": "text"
      },
      "source": [
        "# Block 4: Solution and results"
      ]
    },
    {
      "cell_type": "markdown",
      "metadata": {
        "id": "dM_7d4YhyxKS",
        "colab_type": "text"
      },
      "source": [
        "Finally, we call for the solver and obtain the solution. We can see that $x_{00} = x_{12} = x_{22} = x_{30} = 1$ and the optimal objective value is $\\$400.5$. In other words, we achieve the optimal revenue of $\\$400.5$ when product '1600027528' is sold at price $\\$2.5$, products '1600027564' and '3000006340' both  at price $\\$3.5$ and product '3800031829' at price $\\$2.5$. We can easily double-check that all the constraints are satisfied as shown in the results below."
      ]
    },
    {
      "cell_type": "code",
      "metadata": {
        "id": "a0KA-DNX8RqA",
        "colab_type": "code",
        "outputId": "a6cfbf67-fe37-413f-8f96-99ac70a9a24a",
        "colab": {
          "base_uri": "https://localhost:8080/",
          "height": 680
        }
      },
      "source": [
        "# Solve the model\n",
        "\n",
        "opt = SolverFactory('glpk')\n",
        "opt.solve(model) \n",
        "\n",
        "model.display()"
      ],
      "execution_count": 7,
      "outputs": [
        {
          "output_type": "stream",
          "text": [
            "Model unknown\n",
            "\n",
            "  Variables:\n",
            "    x : Size=12, Index=x_index\n",
            "        Key    : Lower : Value : Upper : Fixed : Stale : Domain\n",
            "        (0, 0) :     0 :   1.0 :     1 : False : False : Binary\n",
            "        (0, 1) :     0 :   0.0 :     1 : False : False : Binary\n",
            "        (0, 2) :     0 :   0.0 :     1 : False : False : Binary\n",
            "        (1, 0) :     0 :   0.0 :     1 : False : False : Binary\n",
            "        (1, 1) :     0 :   0.0 :     1 : False : False : Binary\n",
            "        (1, 2) :     0 :   1.0 :     1 : False : False : Binary\n",
            "        (2, 0) :     0 :   0.0 :     1 : False : False : Binary\n",
            "        (2, 1) :     0 :   0.0 :     1 : False : False : Binary\n",
            "        (2, 2) :     0 :   1.0 :     1 : False : False : Binary\n",
            "        (3, 0) :     0 :   1.0 :     1 : False : False : Binary\n",
            "        (3, 1) :     0 :   0.0 :     1 : False : False : Binary\n",
            "        (3, 2) :     0 :   0.0 :     1 : False : False : Binary\n",
            "\n",
            "  Objectives:\n",
            "    OBJ : Size=1, Index=None, Active=True\n",
            "        Key  : Active : Value\n",
            "        None :   True : 400.5\n",
            "\n",
            "  Constraints:\n",
            "    PriceChoiceUPC1 : Size=1\n",
            "        Key  : Lower : Body : Upper\n",
            "        None :   1.0 :  1.0 :   1.0\n",
            "    PriceChoiceUPC2 : Size=1\n",
            "        Key  : Lower : Body : Upper\n",
            "        None :   1.0 :  1.0 :   1.0\n",
            "    PriceChoiceUPC3 : Size=1\n",
            "        Key  : Lower : Body : Upper\n",
            "        None :   1.0 :  1.0 :   1.0\n",
            "    PriceChoiceUPC4 : Size=1\n",
            "        Key  : Lower : Body : Upper\n",
            "        None :   1.0 :  1.0 :   1.0\n",
            "    sumPrice : Size=1\n",
            "        Key  : Lower : Body : Upper\n",
            "        None :  12.0 : 12.0 :  12.0\n"
          ],
          "name": "stdout"
        }
      ]
    }
  ]
}
