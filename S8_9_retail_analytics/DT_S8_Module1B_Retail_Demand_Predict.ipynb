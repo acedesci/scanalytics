{
  "nbformat": 4,
  "nbformat_minor": 0,
  "metadata": {
    "colab": {
      "name": "S8_Module1B_Retail_Demand_Predict.ipynb",
      "provenance": [],
      "collapsed_sections": [],
      "include_colab_link": true
    },
    "kernelspec": {
      "name": "python3",
      "display_name": "Python 3"
    }
  },
  "cells": [
    {
      "cell_type": "markdown",
      "metadata": {
        "id": "view-in-github",
        "colab_type": "text"
      },
      "source": [
        "<a href=\"https://colab.research.google.com/github/acedesci/scanalytics/blob/master/S8_9_retail_analytics/DT_S8_Module1B_Retail_Demand_Predict.ipynb\" target=\"_parent\"><img src=\"https://colab.research.google.com/assets/colab-badge.svg\" alt=\"Open In Colab\"/></a>"
      ]
    },
    {
      "cell_type": "code",
      "metadata": {
        "id": "I2Sn0n-ZUc_E",
        "colab_type": "code",
        "colab": {}
      },
      "source": [
        "import pandas\n",
        "import sklearn\n",
        "from sklearn import *"
      ],
      "execution_count": 0,
      "outputs": []
    },
    {
      "cell_type": "markdown",
      "metadata": {
        "id": "9cS5YfcZHddR",
        "colab_type": "text"
      },
      "source": [
        "# Block 1: Data input"
      ]
    },
    {
      "cell_type": "markdown",
      "metadata": {
        "id": "Ke5yJeXbatY2",
        "colab_type": "text"
      },
      "source": [
        "In the first part of today's session, we designed our model on a predetermined subset of regressor variables and trained it by UPC. Now, for the 'new' data that we are going to see, we also organize that information by each UPC and its regressor variables."
      ]
    },
    {
      "cell_type": "code",
      "metadata": {
        "id": "nllChVoSUtNy",
        "colab_type": "code",
        "outputId": "7d32141d-08ec-4dbc-9f44-3b88a1228f5c",
        "colab": {
          "base_uri": "https://localhost:8080/",
          "height": 272
        }
      },
      "source": [
        "# small example\n",
        "url1 = 'https://raw.githubusercontent.com/acedesci/scanalytics/master/S8_9_retail_analytics/predictionInput_Prob1.csv'\n",
        "\n",
        "# large example\n",
        "url2 = 'https://raw.githubusercontent.com/acedesci/scanalytics/master/S8_9_retail_analytics/predictionInput_Prob2.csv'\n",
        "\n",
        "predDemand = pandas.read_csv(url1)\n",
        "print(predDemand)\n",
        "\n",
        "feature_list = ['PRICE', 'PRICE_p2', 'FEATURE', 'DISPLAY','TPR_ONLY','RELPRICE']\n",
        "productList = predDemand['UPC'].unique()\n"
      ],
      "execution_count": 7,
      "outputs": [
        {
          "output_type": "stream",
          "text": [
            "    Unnamed: 0  avgPriceChoice         UPC  ...  DISPLAY  TPR_ONLY  RELPRICE\n",
            "0            0             3.0  1600027528  ...        0         0  0.833333\n",
            "1            1             3.0  1600027528  ...        0         0  1.000000\n",
            "2            2             3.0  1600027528  ...        0         0  1.166667\n",
            "3            3             3.0  1600027564  ...        0         0  0.833333\n",
            "4            4             3.0  1600027564  ...        0         0  1.000000\n",
            "5            5             3.0  1600027564  ...        0         0  1.166667\n",
            "6            6             3.0  3000006340  ...        0         0  0.833333\n",
            "7            7             3.0  3000006340  ...        0         0  1.000000\n",
            "8            8             3.0  3000006340  ...        0         0  1.166667\n",
            "9            9             3.0  3800031829  ...        0         0  0.833333\n",
            "10          10             3.0  3800031829  ...        0         0  1.000000\n",
            "11          11             3.0  3800031829  ...        0         0  1.166667\n",
            "\n",
            "[12 rows x 9 columns]\n"
          ],
          "name": "stdout"
        }
      ]
    },
    {
      "cell_type": "markdown",
      "metadata": {
        "id": "9cS5YfcZHddR",
        "colab_type": "text"
      },
      "source": [
        "# Block 2: Model retrieval"
      ]
    },
    {
      "cell_type": "markdown",
      "metadata": {
        "id": "9cS5YfcZHddR",
        "colab_type": "text"
      },
      "source": [
        "In the next two cells, we retrieve the best model that we previously trained and saved on Google Drive."
      ]
    },
    {
      "cell_type": "code",
      "metadata": {
        "id": "CSRXAt-Nnx8M",
        "colab_type": "code",
        "colab": {
          "base_uri": "https://localhost:8080/",
          "height": 122
        },
        "outputId": "197d7b8d-dfa6-4389-998d-1cc38948cad6"
      },
      "source": [
        "# we need to remount Google Drive in order to load the data from it\n",
        "import pickle\n",
        "\n",
        "from google.colab import drive\n",
        "drive.mount('/content/drive')\n",
        "cwd = '/content/drive/My Drive/'"
      ],
      "execution_count": 3,
      "outputs": [
        {
          "output_type": "stream",
          "text": [
            "Go to this URL in a browser: https://accounts.google.com/o/oauth2/auth?client_id=947318989803-6bn6qk8qdgf4n4g3pfee6491hc0brc4i.apps.googleusercontent.com&redirect_uri=urn%3aietf%3awg%3aoauth%3a2.0%3aoob&response_type=code&scope=email%20https%3a%2f%2fwww.googleapis.com%2fauth%2fdocs.test%20https%3a%2f%2fwww.googleapis.com%2fauth%2fdrive%20https%3a%2f%2fwww.googleapis.com%2fauth%2fdrive.photos.readonly%20https%3a%2f%2fwww.googleapis.com%2fauth%2fpeopleapi.readonly\n",
            "\n",
            "Enter your authorization code:\n",
            "··········\n",
            "Mounted at /content/drive\n"
          ],
          "name": "stdout"
        }
      ]
    },
    {
      "cell_type": "markdown",
      "metadata": {
        "id": "Ke5yJeXbatY2",
        "colab_type": "text"
      },
      "source": [
        "We load the model that we previously trained and saved for each UPC."
      ]
    },
    {
      "cell_type": "code",
      "metadata": {
        "id": "AZu3qyoMn1WV",
        "colab_type": "code",
        "colab": {}
      },
      "source": [
        "regr = {}\n",
        "for upc in productList:\n",
        "    filename = cwd+str(upc)+'_demand_model.sav'\n",
        "    # save the model to disk\n",
        "    regr[upc] = pickle.load(open(filename, 'rb'))"
      ],
      "execution_count": 0,
      "outputs": []
    },
    {
      "cell_type": "markdown",
      "metadata": {
        "id": "9cS5YfcZHddR",
        "colab_type": "text"
      },
      "source": [
        "# Block 3: Demand forecasting"
      ]
    },
    {
      "cell_type": "markdown",
      "metadata": {
        "id": "Ke5yJeXbatY2",
        "colab_type": "text"
      },
      "source": [
        "In this cell, we also create a loop **for** each UPC. The first line in the **for** loop loads the data on the explanatory variables (features) for each UPC and the 4th line uses the previously trained and saved model corresponding to that UPC to predict its sales. Don't forget to retrieve the data index (3rd line) so that we can record the predicted sales in the right order and that we can later double-check whether there is any index mismatch. The second last line of the cell is to add the predicted sales to the data table. We will see how this information comes in handy in Week 9. Don't forget to save this result."
      ]
    },
    {
      "cell_type": "code",
      "metadata": {
        "id": "2iMU7G0yVeWk",
        "colab_type": "code",
        "outputId": "547017ca-7815-4c01-e9c0-9bbd99f5d799",
        "colab": {
          "base_uri": "https://localhost:8080/",
          "height": 646
        }
      },
      "source": [
        "X = {}\n",
        "y_pred = {}\n",
        "predictedValueSeries = pandas.Series()\n",
        "\n",
        "\n",
        "for upc in productList:\n",
        "  X[upc] = predDemand.loc[predDemand['UPC']==upc][feature_list] \n",
        "  print(X[upc])\n",
        "  upcIndex = predDemand.loc[predDemand['UPC']==upc].index\n",
        "  y_pred[upc] = regr[upc].predict(X[upc]).clip(0.0).round(1)\n",
        "  print(regr[upc].coef_)\n",
        "  predictedValueSeries = predictedValueSeries.append(pandas.Series(y_pred[upc], index = upcIndex))\n",
        "\n",
        "predDemand['predictSales'] = predictedValueSeries\n",
        "print(predDemand.to_string())"
      ],
      "execution_count": 8,
      "outputs": [
        {
          "output_type": "stream",
          "text": [
            "   PRICE  PRICE_p2  FEATURE  DISPLAY  TPR_ONLY  RELPRICE\n",
            "0    2.5      6.25        0        0         0  0.833333\n",
            "1    3.0      9.00        0        0         0  1.000000\n",
            "2    3.5     12.25        0        0         0  1.166667\n",
            "[-129.46228233   14.43342214    9.52236578   -2.52536055    0.\n",
            "  -16.82157611]\n",
            "   PRICE  PRICE_p2  FEATURE  DISPLAY  TPR_ONLY  RELPRICE\n",
            "3    2.5      6.25        0        0         0  0.833333\n",
            "4    3.0      9.00        0        0         0  1.000000\n",
            "5    3.5     12.25        0        0         0  1.166667\n",
            "[ 16.04399076  -2.65376672  16.70332847  15.12123867  -0.82767342\n",
            " -13.12215795]\n",
            "   PRICE  PRICE_p2  FEATURE  DISPLAY  TPR_ONLY  RELPRICE\n",
            "6    2.5      6.25        0        0         0  0.833333\n",
            "7    3.0      9.00        0        0         0  1.000000\n",
            "8    3.5     12.25        0        0         0  1.166667\n",
            "[-21.6503457    2.45638246   8.99183479   2.55943835   0.4011117\n",
            "  11.19664927]\n",
            "    PRICE  PRICE_p2  FEATURE  DISPLAY  TPR_ONLY  RELPRICE\n",
            "9     2.5      6.25        0        0         0  0.833333\n",
            "10    3.0      9.00        0        0         0  1.000000\n",
            "11    3.5     12.25        0        0         0  1.166667\n",
            "[-70.13380616   9.6299413    1.02832058  19.97256769   8.10436136\n",
            "  -0.25583623]\n",
            "    Unnamed: 0  avgPriceChoice         UPC  PRICE  PRICE_p2  FEATURE  DISPLAY  TPR_ONLY  RELPRICE  predictSales\n",
            "0            0             3.0  1600027528    2.5      6.25        0        0         0  0.833333          94.9\n",
            "1            1             3.0  1600027528    3.0      9.00        0        0         0  1.000000          67.0\n",
            "2            2             3.0  1600027528    3.5     12.25        0        0         0  1.166667          46.4\n",
            "3            3             3.0  1600027564    2.5      6.25        0        0         0  0.833333          24.1\n",
            "4            4             3.0  1600027564    3.0      9.00        0        0         0  1.000000          22.6\n",
            "5            5             3.0  1600027564    3.5     12.25        0        0         0  1.166667          19.8\n",
            "6            6             3.0  3000006340    2.5      6.25        0        0         0  0.833333           6.2\n",
            "7            7             3.0  3000006340    3.0      9.00        0        0         0  1.000000           4.0\n",
            "8            8             3.0  3000006340    3.5     12.25        0        0         0  1.166667           3.0\n",
            "9            9             3.0  3800031829    2.5      6.25        0        0         0  0.833333          32.9\n",
            "10          10             3.0  3800031829    3.0      9.00        0        0         0  1.000000          24.3\n",
            "11          11             3.0  3800031829    3.5     12.25        0        0         0  1.166667          20.4\n"
          ],
          "name": "stdout"
        }
      ]
    },
    {
      "cell_type": "code",
      "metadata": {
        "id": "0QmdVdfaX_jK",
        "colab_type": "code",
        "colab": {}
      },
      "source": [
        "predDemand.to_csv(cwd +'predictedSales_Prob1.csv')"
      ],
      "execution_count": 0,
      "outputs": []
    },
    {
      "cell_type": "code",
      "metadata": {
        "id": "W63NWnxCuD8_",
        "colab_type": "code",
        "colab": {}
      },
      "source": [
        ""
      ],
      "execution_count": 0,
      "outputs": []
    }
  ]
}
