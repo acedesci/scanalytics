{
  "nbformat": 4,
  "nbformat_minor": 0,
  "metadata": {
    "colab": {
      "name": "S9_Module2A_Retail_Price_Optimization.ipynb",
      "provenance": [],
      "collapsed_sections": [],
      "include_colab_link": true
    },
    "kernelspec": {
      "name": "python3",
      "display_name": "Python 3"
    }
  },
  "cells": [
    {
      "cell_type": "markdown",
      "metadata": {
        "id": "view-in-github",
        "colab_type": "text"
      },
      "source": [
        "<a href=\"https://colab.research.google.com/github/acedesci/scanalytics/blob/master/S8_9_retail_analytics/S9_Module2A_Retail_Price_Optimization.ipynb\" target=\"_parent\"><img src=\"https://colab.research.google.com/assets/colab-badge.svg\" alt=\"Open In Colab\"/></a>"
      ]
    },
    {
      "cell_type": "markdown",
      "metadata": {
        "id": "pHCo2OUyeYib",
        "colab_type": "text"
      },
      "source": [
        "In this session, we begin by installing the (i) Pyomo package and (ii) the linear programming solver GLPK (GNU Linear Programming Kit). Installing Pyomo and its utils in Colab is straightforward as shown below. If you wish to install them in Anaconda or in a different distribution package, please consult this page http://www.pyomo.org/installation.\n",
        "\n",
        "Pyomo is a modeling language which can be used in conjunction with a number of solvers. For more information on Pyomo, you can also review: http://www.pyomo.org/documentation\n",
        "\n",
        "The following block will take some time to process. Please wait until all the tools are sucessfully installed. This option on Colab is recommended but if you want to use an office notebook version, you can review the steps here: https://nbviewer.jupyter.org/github/jckantor/ND-Pyomo-Cookbook/blob/master/notebooks/01.01-Installing-Pyomo.ipynb#Step-3.-Install-solvers"
      ]
    },
    {
      "cell_type": "code",
      "metadata": {
        "id": "zdvWKIywwi4_",
        "colab_type": "code",
        "outputId": "99bb50a6-5eba-46d9-f64f-23bd4f1525d9",
        "colab": {
          "base_uri": "https://localhost:8080/",
          "height": 510
        }
      },
      "source": [
        "# Install Pyomo and GLPK\n",
        "!pip install -q pyomo\n",
        "!apt-get install -y -qq glpk-utils"
      ],
      "execution_count": 0,
      "outputs": [
        {
          "output_type": "stream",
          "text": [
            "\u001b[K     |████████████████████████████████| 2.4MB 4.8MB/s \n",
            "\u001b[K     |████████████████████████████████| 256kB 52.9MB/s \n",
            "\u001b[K     |████████████████████████████████| 51kB 8.4MB/s \n",
            "\u001b[K     |████████████████████████████████| 163kB 47.0MB/s \n",
            "\u001b[?25hSelecting previously unselected package libsuitesparseconfig5:amd64.\n",
            "(Reading database ... 134448 files and directories currently installed.)\n",
            "Preparing to unpack .../libsuitesparseconfig5_1%3a5.1.2-2_amd64.deb ...\n",
            "Unpacking libsuitesparseconfig5:amd64 (1:5.1.2-2) ...\n",
            "Selecting previously unselected package libamd2:amd64.\n",
            "Preparing to unpack .../libamd2_1%3a5.1.2-2_amd64.deb ...\n",
            "Unpacking libamd2:amd64 (1:5.1.2-2) ...\n",
            "Selecting previously unselected package libcolamd2:amd64.\n",
            "Preparing to unpack .../libcolamd2_1%3a5.1.2-2_amd64.deb ...\n",
            "Unpacking libcolamd2:amd64 (1:5.1.2-2) ...\n",
            "Selecting previously unselected package libglpk40:amd64.\n",
            "Preparing to unpack .../libglpk40_4.65-1_amd64.deb ...\n",
            "Unpacking libglpk40:amd64 (4.65-1) ...\n",
            "Selecting previously unselected package glpk-utils.\n",
            "Preparing to unpack .../glpk-utils_4.65-1_amd64.deb ...\n",
            "Unpacking glpk-utils (4.65-1) ...\n",
            "Setting up libsuitesparseconfig5:amd64 (1:5.1.2-2) ...\n",
            "Setting up libcolamd2:amd64 (1:5.1.2-2) ...\n",
            "Setting up libamd2:amd64 (1:5.1.2-2) ...\n",
            "Setting up libglpk40:amd64 (4.65-1) ...\n",
            "Setting up glpk-utils (4.65-1) ...\n",
            "Processing triggers for libc-bin (2.27-3ubuntu1) ...\n",
            "/sbin/ldconfig.real: /usr/local/lib/python3.6/dist-packages/ideep4py/lib/libmkldnn.so.0 is not a symbolic link\n",
            "\n",
            "Processing triggers for man-db (2.8.3-2ubuntu0.1) ...\n"
          ],
          "name": "stdout"
        }
      ]
    },
    {
      "cell_type": "markdown",
      "metadata": {
        "id": "9cS5YfcZHddR",
        "colab_type": "text"
      },
      "source": [
        "# Blocks 1 & 2: Data input & input parameters"
      ]
    },
    {
      "cell_type": "markdown",
      "metadata": {
        "id": "6EUEaDy8emFA",
        "colab_type": "text"
      },
      "source": [
        "We have been working on this dataset during the past few weeks. The product list below is just simply a subset of those products. In this session, we would like to work on price optimization for the items on that list. In particular, each product can be priced at 2.5, 3.0 or 3.5 dollar and we wish to decide the prices at which these products are offered so that our total revenue is maximized. As we have learned from last week's analysis that the relative price of competing/substitution products is a factor affecting sales, we must optimize the pricing of all these products together to reach the global optimum.\n",
        "\n",
        "We need to prepare lists of index for products (*iIndexList*) and price options (*jIndexList*) to be used in the optimization model."
      ]
    },
    {
      "cell_type": "code",
      "metadata": {
        "id": "scZFGWSlDi3L",
        "colab_type": "code",
        "colab": {}
      },
      "source": [
        "from pyomo.environ import *\n",
        "\n",
        "productList = ['1600027528', '1600027564', '3000006340', '3800031829']\n",
        "priceList = [2.5, 3.0, 3.5]\n",
        "avgPriceValue = 3.0\n",
        "\n",
        "iIndexList = list(range(len(productList)))\n",
        "jIndexList = list(range(len(priceList)))"
      ],
      "execution_count": 0,
      "outputs": []
    },
    {
      "cell_type": "markdown",
      "metadata": {
        "colab_type": "text",
        "id": "7-xsg-k95pwj"
      },
      "source": [
        "# Block 3: Create an optimization model\n",
        "\n",
        "Now we will create an optimization model for the prescriptive pricing model of Rue La La. An optimization model consists of (i) decision variables, (ii) objective function, and (iii) constraints. You can review this page [[link]](https://nbviewer.jupyter.org/github/jckantor/ND-Pyomo-Cookbook/blob/master/notebooks/02.01-Production-Models-with-Linear-Constraints.ipynb) for a simple example of an optimization model using Pyomo."
      ]
    },
    {
      "cell_type": "markdown",
      "metadata": {
        "id": "mDQYDKCYfGO7",
        "colab_type": "text"
      },
      "source": [
        "### Block 3.1: Variable declarations\n",
        "\n",
        "We use *model.x* to define the decision variable of our optimization model. We will a binary variable $x_{ij}$ which takes either the value 1 or 0 (yes/no). In other words, $x_{ij} \\in \\{0,1\\}$ with $i$ being the product index and $j$ being the price index. We can formally define this variable as: \n",
        "\n",
        "\n",
        "*   $x_{ij}$ equals 1 if the price choice $j$ is chosen for product $i$, 0 otherwise.\n",
        "\n",
        "Please note that in Python (and many other programming languages), the starting index is 0. By setting $x_{01}=1$, we sell product '1600027528' (product index 0 in the product list) at price $3.0 (price index 1 on the price list). \n",
        "\n",
        "In this block of codes, we create an object of the model (using the *ConcreteModel* class) and declare the variable x (using *Var(iIndexList, jIndexList, within = Binary)*). The line *model.pprint()* print out the details of the entire model in the object we created. Since we only created the variables, we only see the variables in here without other components. You can visit this page [[Link]](https://pyomo.readthedocs.io/en/stable/pyomo_overview/abstract_concrete.html) for more details on the ConcreteModel class."
      ]
    },
    {
      "cell_type": "code",
      "metadata": {
        "id": "H0KtDkEikJOM",
        "colab_type": "code",
        "outputId": "371eb439-48c6-42f9-97ca-f75ef97eec7b",
        "colab": {
          "base_uri": "https://localhost:8080/",
          "height": 442
        }
      },
      "source": [
        "model = ConcreteModel()\n",
        "# Variables\n",
        "model.x = Var(iIndexList, jIndexList, within = Binary)\n",
        "model.pprint()"
      ],
      "execution_count": 0,
      "outputs": [
        {
          "output_type": "stream",
          "text": [
            "3 Set Declarations\n",
            "    x_index : Dim=0, Dimen=2, Size=12, Domain=None, Ordered=False, Bounds=None\n",
            "        Virtual\n",
            "    x_index_0 : Dim=0, Dimen=1, Size=4, Domain=None, Ordered=False, Bounds=(0, 3)\n",
            "        [0, 1, 2, 3]\n",
            "    x_index_1 : Dim=0, Dimen=1, Size=3, Domain=None, Ordered=False, Bounds=(0, 2)\n",
            "        [0, 1, 2]\n",
            "\n",
            "1 Var Declarations\n",
            "    x : Size=12, Index=x_index\n",
            "        Key    : Lower : Value : Upper : Fixed : Stale : Domain\n",
            "        (0, 0) :     0 :  None :     1 : False :  True : Binary\n",
            "        (0, 1) :     0 :  None :     1 : False :  True : Binary\n",
            "        (0, 2) :     0 :  None :     1 : False :  True : Binary\n",
            "        (1, 0) :     0 :  None :     1 : False :  True : Binary\n",
            "        (1, 1) :     0 :  None :     1 : False :  True : Binary\n",
            "        (1, 2) :     0 :  None :     1 : False :  True : Binary\n",
            "        (2, 0) :     0 :  None :     1 : False :  True : Binary\n",
            "        (2, 1) :     0 :  None :     1 : False :  True : Binary\n",
            "        (2, 2) :     0 :  None :     1 : False :  True : Binary\n",
            "        (3, 0) :     0 :  None :     1 : False :  True : Binary\n",
            "        (3, 1) :     0 :  None :     1 : False :  True : Binary\n",
            "        (3, 2) :     0 :  None :     1 : False :  True : Binary\n",
            "\n",
            "4 Declarations: x_index_0 x_index_1 x_index x\n"
          ],
          "name": "stdout"
        }
      ]
    },
    {
      "cell_type": "markdown",
      "metadata": {
        "id": "78xTZBA-hfTO",
        "colab_type": "text"
      },
      "source": [
        "### Block 3.2: Adding an objective function\n",
        "\n",
        "The general form of the objective function is $\\sum_{i=0}^3 \\sum_{j=0}^2 p_{j} \\cdot \\tilde{D}_{ijk} \\cdot x_{ij}$, where $p_{j}$ is the $j$th price of each product, e.g. $p_{j=0}$ denotes the price at position 1 on the price list of a product ($\\$2.5$ in this case). Looking at the price list, we can easily see that $p_{j=1}=3.0$. As we defined above, $x_{ij}=1$ when product $i$ is sold at price $j$, 0 otherwise. $\\tilde{D}_{ijk}$ is the predicted sales of product $i$ when this product is sold at price $j$ while the average price of all competing products, including product $i$, is equal to $k$. In our optimization model, $k$ is preset to 3.0 (avgPriceValue). By inputting price $p_{j}$ and average price $k$ into the predictive model we trained and saved last week, we can attain the corresponding predicted sales $\\left( \\tilde{D}_{ijk} \\right)$. We use Objective($\\cdot$) to define the objective function and 'sense = maximize' to indicate that the objective is for maximization."
      ]
    },
    {
      "cell_type": "code",
      "metadata": {
        "id": "RY6Vi1TE5ztC",
        "colab_type": "code",
        "colab": {}
      },
      "source": [
        "# Objective function\n",
        "\n",
        "model.OBJ = Objective(sense = maximize, expr = 2.5*95.0*model.x[0,0] + 3.0*67.0*model.x[0,1] + 3.5*46.0*model.x[0,2] \n",
        "                      + 2.5*24.0*model.x[1,0] + 3.0*23.0*model.x[1,1] + 3.5*20.0*model.x[1,2]  \n",
        "                      + 2.5*6.0*model.x[2,0] + 3.0*4.0*model.x[2,1] + 3.5*3.0*model.x[2,2]  \n",
        "                      + 2.5*33.0*model.x[3,0] + 3.0*24.0*model.x[3,1] + 3.5*20.0*model.x[3,2])"
      ],
      "execution_count": 0,
      "outputs": []
    },
    {
      "cell_type": "markdown",
      "metadata": {
        "id": "OpJo3pzmmAyU",
        "colab_type": "text"
      },
      "source": [
        "### Block 3.2: Adding constraints\n",
        "\n",
        "**Constraint 1: One price choice must be selected for each product**\n",
        "\n",
        "As regards the first set of constraints, we wish to make sure that each product is sold at one price only. Therefore, the general form of this constraint set is $\\sum_{j=0}^2 x_{ij} = 1,\\forall i\\in\\{0,1,2,3\\}$. We use Constraint($\\cdot$) to define the constraints."
      ]
    },
    {
      "cell_type": "code",
      "metadata": {
        "id": "_-J1E9CayDY-",
        "colab_type": "code",
        "colab": {}
      },
      "source": [
        "# Constraints #1\n",
        "model.PriceChoiceUPC1 = Constraint(expr = model.x[0,0] + model.x[0,1] + model.x[0,2] == 1)\n",
        "model.PriceChoiceUPC2 = Constraint(expr = model.x[1,0] + model.x[1,1] + model.x[1,2] == 1)\n",
        "model.PriceChoiceUPC3 = Constraint(expr = model.x[2,0] + model.x[2,1] + model.x[2,2] == 1)\n",
        "model.PriceChoiceUPC4 = Constraint(expr = model.x[3,0] + model.x[3,1] + model.x[3,2] == 1)"
      ],
      "execution_count": 0,
      "outputs": []
    },
    {
      "cell_type": "markdown",
      "metadata": {
        "id": "pzr4Kj3Yvcnk",
        "colab_type": "text"
      },
      "source": [
        "**Constraint 2: The sum of the prices of all products must equal $k$**\n",
        "\n",
        "The second set of constraints ensures that the average price of all the **4** products considered in our optimization model equals the predefined average price, which is $k=\\$3.0\\times4$ (avgPriceValue x no. of products) in our model. The general form is\n",
        "\n",
        "$ \\frac{ \\sum_{i=0}^3 \\sum_{j=0}^2 p_{j} \\cdot x_{ij} }{4} =k \\iff \\sum_{i=0}^3 \\sum_{j=0}^2 p_{j} \\cdot x_{ij} = k\\cdot 4$\n",
        "\n",
        "This can be done using the following block."
      ]
    },
    {
      "cell_type": "code",
      "metadata": {
        "id": "prKy0fAE6hTd",
        "colab_type": "code",
        "colab": {}
      },
      "source": [
        "# Constraints #2\n",
        "\n",
        "model.sumPrice = Constraint(expr = 2.5*model.x[0,0] + 3.0*model.x[0,1] + 3.5*model.x[0,2] \n",
        "                      + 2.5*model.x[1,0] + 3.0*model.x[1,1] + 3.5*model.x[1,2]  \n",
        "                      + 2.5*model.x[2,0] + 3.0*model.x[2,1] + 3.5*model.x[2,2]  \n",
        "                      + 2.5*model.x[3,0] + 3.0*model.x[3,1] + 3.5*model.x[3,2] == avgPriceValue*4)\n",
        "\n"
      ],
      "execution_count": 0,
      "outputs": []
    },
    {
      "cell_type": "markdown",
      "metadata": {
        "id": "XJLWwaLy_LOw",
        "colab_type": "text"
      },
      "source": [
        "Now we can print the model again to see all the components that were created."
      ]
    },
    {
      "cell_type": "code",
      "metadata": {
        "id": "YOUrtAEz_RWQ",
        "colab_type": "code",
        "outputId": "8633bbc2-a921-4e76-c0d9-caae05431ce9",
        "colab": {
          "base_uri": "https://localhost:8080/",
          "height": 836
        }
      },
      "source": [
        "model.pprint()"
      ],
      "execution_count": 0,
      "outputs": [
        {
          "output_type": "stream",
          "text": [
            "3 Set Declarations\n",
            "    x_index : Dim=0, Dimen=2, Size=12, Domain=None, Ordered=False, Bounds=None\n",
            "        Virtual\n",
            "    x_index_0 : Dim=0, Dimen=1, Size=4, Domain=None, Ordered=False, Bounds=(0, 3)\n",
            "        [0, 1, 2, 3]\n",
            "    x_index_1 : Dim=0, Dimen=1, Size=3, Domain=None, Ordered=False, Bounds=(0, 2)\n",
            "        [0, 1, 2]\n",
            "\n",
            "1 Var Declarations\n",
            "    x : Size=12, Index=x_index\n",
            "        Key    : Lower : Value : Upper : Fixed : Stale : Domain\n",
            "        (0, 0) :     0 :  None :     1 : False :  True : Binary\n",
            "        (0, 1) :     0 :  None :     1 : False :  True : Binary\n",
            "        (0, 2) :     0 :  None :     1 : False :  True : Binary\n",
            "        (1, 0) :     0 :  None :     1 : False :  True : Binary\n",
            "        (1, 1) :     0 :  None :     1 : False :  True : Binary\n",
            "        (1, 2) :     0 :  None :     1 : False :  True : Binary\n",
            "        (2, 0) :     0 :  None :     1 : False :  True : Binary\n",
            "        (2, 1) :     0 :  None :     1 : False :  True : Binary\n",
            "        (2, 2) :     0 :  None :     1 : False :  True : Binary\n",
            "        (3, 0) :     0 :  None :     1 : False :  True : Binary\n",
            "        (3, 1) :     0 :  None :     1 : False :  True : Binary\n",
            "        (3, 2) :     0 :  None :     1 : False :  True : Binary\n",
            "\n",
            "1 Objective Declarations\n",
            "    OBJ : Size=1, Index=None, Active=True\n",
            "        Key  : Active : Sense    : Expression\n",
            "        None :   True : maximize : 237.5*x[0,0] + 201.0*x[0,1] + 161.0*x[0,2] + 60.0*x[1,0] + 69.0*x[1,1] + 70.0*x[1,2] + 15.0*x[2,0] + 12.0*x[2,1] + 10.5*x[2,2] + 82.5*x[3,0] + 72.0*x[3,1] + 70.0*x[3,2]\n",
            "\n",
            "5 Constraint Declarations\n",
            "    PriceChoiceUPC1 : Size=1, Index=None, Active=True\n",
            "        Key  : Lower : Body                     : Upper : Active\n",
            "        None :   1.0 : x[0,0] + x[0,1] + x[0,2] :   1.0 :   True\n",
            "    PriceChoiceUPC2 : Size=1, Index=None, Active=True\n",
            "        Key  : Lower : Body                     : Upper : Active\n",
            "        None :   1.0 : x[1,0] + x[1,1] + x[1,2] :   1.0 :   True\n",
            "    PriceChoiceUPC3 : Size=1, Index=None, Active=True\n",
            "        Key  : Lower : Body                     : Upper : Active\n",
            "        None :   1.0 : x[2,0] + x[2,1] + x[2,2] :   1.0 :   True\n",
            "    PriceChoiceUPC4 : Size=1, Index=None, Active=True\n",
            "        Key  : Lower : Body                     : Upper : Active\n",
            "        None :   1.0 : x[3,0] + x[3,1] + x[3,2] :   1.0 :   True\n",
            "    sumPrice : Size=1, Index=None, Active=True\n",
            "        Key  : Lower : Body                                                                                                                                                      : Upper : Active\n",
            "        None :  12.0 : 2.5*x[0,0] + 3.0*x[0,1] + 3.5*x[0,2] + 2.5*x[1,0] + 3.0*x[1,1] + 3.5*x[1,2] + 2.5*x[2,0] + 3.0*x[2,1] + 3.5*x[2,2] + 2.5*x[3,0] + 3.0*x[3,1] + 3.5*x[3,2] :  12.0 :   True\n",
            "\n",
            "10 Declarations: x_index_0 x_index_1 x_index x OBJ PriceChoiceUPC1 PriceChoiceUPC2 PriceChoiceUPC3 PriceChoiceUPC4 sumPrice\n"
          ],
          "name": "stdout"
        }
      ]
    },
    {
      "cell_type": "markdown",
      "metadata": {
        "colab_type": "text",
        "id": "47HscW575pxD"
      },
      "source": [
        "# Block 4: Solution and results"
      ]
    },
    {
      "cell_type": "markdown",
      "metadata": {
        "id": "dM_7d4YhyxKS",
        "colab_type": "text"
      },
      "source": [
        "Finally, we call for the solver and obtain the solution. The first line indicates which solver we want to use and the second line solve the model (this is equivalent to *fit()* in sklearn)."
      ]
    },
    {
      "cell_type": "code",
      "metadata": {
        "id": "a0KA-DNX8RqA",
        "colab_type": "code",
        "outputId": "31a2b411-e8b7-451a-a3dd-153c77ee33e3",
        "colab": {
          "base_uri": "https://localhost:8080/",
          "height": 54
        }
      },
      "source": [
        "# Solve the model\n",
        "opt = SolverFactory('glpk')\n",
        "opt.solve(model) "
      ],
      "execution_count": 0,
      "outputs": [
        {
          "output_type": "execute_result",
          "data": {
            "text/plain": [
              "{'Problem': [{'Name': 'unknown', 'Lower bound': 400.5, 'Upper bound': 400.5, 'Number of objectives': 1, 'Number of constraints': 6, 'Number of variables': 13, 'Number of nonzeros': 25, 'Sense': 'maximize'}], 'Solver': [{'Status': 'ok', 'Termination condition': 'optimal', 'Statistics': {'Branch and bound': {'Number of bounded subproblems': '1', 'Number of created subproblems': '1'}}, 'Error rc': 0, 'Time': 0.01271510124206543}], 'Solution': [OrderedDict([('number of solutions', 0), ('number of solutions displayed', 0)])]}"
            ]
          },
          "metadata": {
            "tags": []
          },
          "execution_count": 8
        }
      ]
    },
    {
      "cell_type": "markdown",
      "metadata": {
        "id": "NmVO_jEd_YJb",
        "colab_type": "text"
      },
      "source": [
        "Now you can print out the solution to review using the function *model.display()* below. We can see that $x_{00} = 1, x_{12} = 1, x_{22} = 1, x_{30} = 1$ and the optimal objective value is $\\$400.5$. In other words, we achieve the optimal revenue of $\\$400.5$ when product '1600027528' is sold at price $\\$2.5$, products '1600027564' and '3000006340' both  at price $\\$3.5$ and product '3800031829' at price $\\$2.5$. We can easily double-check that all the constraints are satisfied as shown in the results below."
      ]
    },
    {
      "cell_type": "code",
      "metadata": {
        "id": "yG6M2Ipf_qzA",
        "colab_type": "code",
        "outputId": "cf4ca8c1-330e-4224-8091-6a11f397ee18",
        "colab": {
          "base_uri": "https://localhost:8080/",
          "height": 680
        }
      },
      "source": [
        "model.display()"
      ],
      "execution_count": 0,
      "outputs": [
        {
          "output_type": "stream",
          "text": [
            "Model unknown\n",
            "\n",
            "  Variables:\n",
            "    x : Size=12, Index=x_index\n",
            "        Key    : Lower : Value : Upper : Fixed : Stale : Domain\n",
            "        (0, 0) :     0 :   1.0 :     1 : False : False : Binary\n",
            "        (0, 1) :     0 :   0.0 :     1 : False : False : Binary\n",
            "        (0, 2) :     0 :   0.0 :     1 : False : False : Binary\n",
            "        (1, 0) :     0 :   0.0 :     1 : False : False : Binary\n",
            "        (1, 1) :     0 :   0.0 :     1 : False : False : Binary\n",
            "        (1, 2) :     0 :   1.0 :     1 : False : False : Binary\n",
            "        (2, 0) :     0 :   0.0 :     1 : False : False : Binary\n",
            "        (2, 1) :     0 :   0.0 :     1 : False : False : Binary\n",
            "        (2, 2) :     0 :   1.0 :     1 : False : False : Binary\n",
            "        (3, 0) :     0 :   1.0 :     1 : False : False : Binary\n",
            "        (3, 1) :     0 :   0.0 :     1 : False : False : Binary\n",
            "        (3, 2) :     0 :   0.0 :     1 : False : False : Binary\n",
            "\n",
            "  Objectives:\n",
            "    OBJ : Size=1, Index=None, Active=True\n",
            "        Key  : Active : Value\n",
            "        None :   True : 400.5\n",
            "\n",
            "  Constraints:\n",
            "    PriceChoiceUPC1 : Size=1\n",
            "        Key  : Lower : Body : Upper\n",
            "        None :   1.0 :  1.0 :   1.0\n",
            "    PriceChoiceUPC2 : Size=1\n",
            "        Key  : Lower : Body : Upper\n",
            "        None :   1.0 :  1.0 :   1.0\n",
            "    PriceChoiceUPC3 : Size=1\n",
            "        Key  : Lower : Body : Upper\n",
            "        None :   1.0 :  1.0 :   1.0\n",
            "    PriceChoiceUPC4 : Size=1\n",
            "        Key  : Lower : Body : Upper\n",
            "        None :   1.0 :  1.0 :   1.0\n",
            "    sumPrice : Size=1\n",
            "        Key  : Lower : Body : Upper\n",
            "        None :  12.0 : 12.0 :  12.0\n"
          ],
          "name": "stdout"
        }
      ]
    }
  ]
}
