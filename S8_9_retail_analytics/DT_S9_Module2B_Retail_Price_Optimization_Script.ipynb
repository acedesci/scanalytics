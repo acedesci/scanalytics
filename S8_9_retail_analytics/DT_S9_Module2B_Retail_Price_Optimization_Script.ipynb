{
  "nbformat": 4,
  "nbformat_minor": 0,
  "metadata": {
    "colab": {
      "name": "S9_Module2B_Retail_Price_Optimization_Script.ipynb",
      "provenance": [],
      "collapsed_sections": [],
      "authorship_tag": "ABX9TyMqKXRQo7P5W8jCfdo6VqLj",
      "include_colab_link": true
    },
    "kernelspec": {
      "name": "python3",
      "display_name": "Python 3"
    }
  },
  "cells": [
    {
      "cell_type": "markdown",
      "metadata": {
        "id": "view-in-github",
        "colab_type": "text"
      },
      "source": [
        "<a href=\"https://colab.research.google.com/github/acedesci/scanalytics/blob/master/S8_9_retail_analytics/DT_S9_Module2B_Retail_Price_Optimization_Script.ipynb\" target=\"_parent\"><img src=\"https://colab.research.google.com/assets/colab-badge.svg\" alt=\"Open In Colab\"/></a>"
      ]
    },
    {
      "cell_type": "markdown",
      "metadata": {
        "id": "t2xpoCA56e-f",
        "colab_type": "text"
      },
      "source": [
        "Cbc (COIN-OR branch and cut) is an open-source mixed integer programming solver. Those who wish to have an overview of how the branch-and-cut algorithm works can consult Chapter 9, Section 9.6 of Wolsey's Integer Programming book (Wolsey, L. A. (1998). *Integer programming*. New York: J. Wiley & Sons.). Nonetheless, we need not use that package for this session."
      ]
    },
    {
      "cell_type": "code",
      "metadata": {
        "id": "zdvWKIywwi4_",
        "colab_type": "code",
        "outputId": "9bfb69d3-8b67-4593-eecf-39dc3a97e275",
        "colab": {
          "base_uri": "https://localhost:8080/",
          "height": 510
        }
      },
      "source": [
        "# Install Pyomo and GLPK\n",
        "!pip install -q pyomo\n",
        "!apt-get install -y -qq glpk-utils #if GLPK is used\n",
        "# !apt-get install -y -qq coinor-cbc #if cbc is used"
      ],
      "execution_count": 1,
      "outputs": [
        {
          "output_type": "stream",
          "text": [
            "\u001b[K     |████████████████████████████████| 2.4MB 2.8MB/s \n",
            "\u001b[K     |████████████████████████████████| 256kB 59.7MB/s \n",
            "\u001b[K     |████████████████████████████████| 51kB 7.2MB/s \n",
            "\u001b[K     |████████████████████████████████| 163kB 54.4MB/s \n",
            "\u001b[?25hSelecting previously unselected package libsuitesparseconfig5:amd64.\n",
            "(Reading database ... 134443 files and directories currently installed.)\n",
            "Preparing to unpack .../libsuitesparseconfig5_1%3a5.1.2-2_amd64.deb ...\n",
            "Unpacking libsuitesparseconfig5:amd64 (1:5.1.2-2) ...\n",
            "Selecting previously unselected package libamd2:amd64.\n",
            "Preparing to unpack .../libamd2_1%3a5.1.2-2_amd64.deb ...\n",
            "Unpacking libamd2:amd64 (1:5.1.2-2) ...\n",
            "Selecting previously unselected package libcolamd2:amd64.\n",
            "Preparing to unpack .../libcolamd2_1%3a5.1.2-2_amd64.deb ...\n",
            "Unpacking libcolamd2:amd64 (1:5.1.2-2) ...\n",
            "Selecting previously unselected package libglpk40:amd64.\n",
            "Preparing to unpack .../libglpk40_4.65-1_amd64.deb ...\n",
            "Unpacking libglpk40:amd64 (4.65-1) ...\n",
            "Selecting previously unselected package glpk-utils.\n",
            "Preparing to unpack .../glpk-utils_4.65-1_amd64.deb ...\n",
            "Unpacking glpk-utils (4.65-1) ...\n",
            "Setting up libsuitesparseconfig5:amd64 (1:5.1.2-2) ...\n",
            "Setting up libcolamd2:amd64 (1:5.1.2-2) ...\n",
            "Setting up libamd2:amd64 (1:5.1.2-2) ...\n",
            "Setting up libglpk40:amd64 (4.65-1) ...\n",
            "Setting up glpk-utils (4.65-1) ...\n",
            "Processing triggers for libc-bin (2.27-3ubuntu1) ...\n",
            "/sbin/ldconfig.real: /usr/local/lib/python3.6/dist-packages/ideep4py/lib/libmkldnn.so.0 is not a symbolic link\n",
            "\n",
            "Processing triggers for man-db (2.8.3-2ubuntu0.1) ...\n"
          ],
          "name": "stdout"
        }
      ]
    },
     {
      "cell_type": "markdown",
      "metadata": {
        "id": "9cS5YfcZHddR",
        "colab_type": "text"
      },
      "source": [
        "# Block 1: Data input"
      ]
    },
    {
      "cell_type": "code",
      "metadata": {
        "id": "vxk0SKB7eM70",
        "colab_type": "code",
        "outputId": "d145df3e-83d2-454c-ff8c-91555f97756e",
        "colab": {
          "base_uri": "https://localhost:8080/",
          "height": 122
        }
      },
      "source": [
        "from google.colab import drive\n",
        "drive.mount('/content/drive')\n",
        "cwd = '/content/drive/My Drive/'\n"
      ],
      "execution_count": 2,
      "outputs": [
        {
          "output_type": "stream",
          "text": [
            "Go to this URL in a browser: https://accounts.google.com/o/oauth2/auth?client_id=947318989803-6bn6qk8qdgf4n4g3pfee6491hc0brc4i.apps.googleusercontent.com&redirect_uri=urn%3aietf%3awg%3aoauth%3a2.0%3aoob&response_type=code&scope=email%20https%3a%2f%2fwww.googleapis.com%2fauth%2fdocs.test%20https%3a%2f%2fwww.googleapis.com%2fauth%2fdrive%20https%3a%2f%2fwww.googleapis.com%2fauth%2fdrive.photos.readonly%20https%3a%2f%2fwww.googleapis.com%2fauth%2fpeopleapi.readonly\n",
            "\n",
            "Enter your authorization code:\n",
            "··········\n",
            "Mounted at /content/drive\n"
          ],
          "name": "stdout"
        }
      ]
    },
    {
      "cell_type": "markdown",
      "metadata": {
        "id": "XXitxH0IAipU",
        "colab_type": "text"
      },
      "source": [
        "With the new dataset, we first need to check how many average price values are there because we need to run the optimization model for each value of the average price."
      ]
    },
    {
      "cell_type": "code",
      "metadata": {
        "id": "scZFGWSlDi3L",
        "colab_type": "code",
        "outputId": "722cc5de-0816-42bc-a962-f61ba18bdb8c",
        "colab": {
          "base_uri": "https://localhost:8080/",
          "height": 34
        }
      },
      "source": [
        "import pandas\n",
        "predDemand = pandas.read_csv(cwd +'predictedSales_Prob2.csv')\n",
        "avgPriceList = predDemand['avgPriceChoice'].unique()\n",
        "inputColumns = ['avgPriceChoice', 'UPC', 'PRICE','predictSales']\n",
        "print(\"Possible average price choices (k):\"+str(avgPriceList))\n"
      ],
      "execution_count": 4,
      "outputs": [
        {
          "output_type": "stream",
          "text": [
            "Possible average price choices (k):[3.]\n"
          ],
          "name": "stdout"
        }
      ]
    },
    {
      "cell_type": "markdown",
      "metadata": {
        "id": "eoePE7clILkZ",
        "colab_type": "text"
      },
      "source": [
        "The data output by this cell's code is for the first average price on the average price list (avgPriceList) compiled above. But in this case, the average price list has only one item, so it's all the data we need to work on for this dataset. Otherwise, we would need to repeat this procedure for each average price value and record the corresponding optimal solution to decide how each product should be priced and at which average price level to generate the optimal revenue."
      ]
    },
    {
      "cell_type": "code",
      "metadata": {
        "id": "gl0TFiFZ8usK",
        "colab_type": "code",
        "colab": {
          "base_uri": "https://localhost:8080/",
          "height": 292
        },
        "outputId": "684da550-8ca3-45a6-b16f-8b761a4f9fb7"
      },
      "source": [
        "avgPriceValue =  avgPriceList[0]\n",
        "predDemand_k = predDemand.loc[predDemand['avgPriceChoice'] == avgPriceValue][inputColumns]\n",
        "print(predDemand_k)\n",
        "productList = predDemand['UPC'].unique()\n",
        "priceList = predDemand['PRICE'].unique()\n",
        "\n",
        "p = {}\n",
        "D = {}\n",
        "\n",
        "for upc in productList:\n",
        "  for price in priceList:\n",
        "    p[(upc,price)] = price\n",
        "    D[(upc,price)] = predDemand_k.loc[(predDemand['UPC'] == upc) & (predDemand_k['PRICE'] == price)]['predictSales'].values[0]\n",
        "\n",
        "print(p)\n",
        "print(D)"
      ],
      "execution_count": 5,
      "outputs": [
        {
          "output_type": "stream",
          "text": [
            "    avgPriceChoice         UPC  PRICE  predictSales\n",
            "0              3.0  1600027528    2.5          94.9\n",
            "1              3.0  1600027528    3.0          67.0\n",
            "2              3.0  1600027528    3.5          46.4\n",
            "3              3.0  1600027564    2.5          24.1\n",
            "4              3.0  1600027564    3.0          22.6\n",
            "5              3.0  1600027564    3.5          19.8\n",
            "6              3.0  3000006340    2.5           6.2\n",
            "7              3.0  3000006340    3.0           4.0\n",
            "8              3.0  3000006340    3.5           3.0\n",
            "9              3.0  3800031829    2.5          32.9\n",
            "10             3.0  3800031829    3.0          24.3\n",
            "11             3.0  3800031829    3.5          20.4\n",
            "{(1600027528, 2.5): 2.5, (1600027528, 3.0): 3.0, (1600027528, 3.5): 3.5, (1600027564, 2.5): 2.5, (1600027564, 3.0): 3.0, (1600027564, 3.5): 3.5, (3000006340, 2.5): 2.5, (3000006340, 3.0): 3.0, (3000006340, 3.5): 3.5, (3800031829, 2.5): 2.5, (3800031829, 3.0): 3.0, (3800031829, 3.5): 3.5}\n",
            "{(1600027528, 2.5): 94.9, (1600027528, 3.0): 67.0, (1600027528, 3.5): 46.4, (1600027564, 2.5): 24.1, (1600027564, 3.0): 22.6, (1600027564, 3.5): 19.8, (3000006340, 2.5): 6.2, (3000006340, 3.0): 4.0, (3000006340, 3.5): 3.0, (3800031829, 2.5): 32.9, (3800031829, 3.0): 24.3, (3800031829, 3.5): 20.4}\n"
          ],
          "name": "stdout"
        }
      ]
    },
    {
      "cell_type": "code",
      "metadata": {
        "id": "-C837Vv0ivth",
        "colab_type": "code",
        "colab": {}
      },
      "source": [
        "from pyomo.environ import *\n",
        "\n",
        "iIndexList = list(range(len(productList)))\n",
        "jIndexList = list(range(len(priceList)))\n"
      ],
      "execution_count": 0,
      "outputs": []
    },
    {
      "cell_type": "markdown",
      "metadata": {
        "id": "9cS5YfcZHddR",
        "colab_type": "text"
      },
      "source": [
        "# Block 2: Variable declarations"
      ]
    },
    {
      "cell_type": "markdown",
      "metadata": {
        "id": "6HzvgED5Ltkk",
        "colab_type": "text"
      },
      "source": [
        "Unlike the first part of today's session, we index the decision variables and demand parameters by the product and the price themselves rather than their index. Indeed, we previously denoted $x_{01}=1$ if product at position 0 on the product list is sold at price at position 1 on the price list. Now, our variable is denoted by $x_{1600027528,\\ 3.0}=1$, which means that product '1600027528' is sold for 3.0 dollars. The same notational remark applies to predicted demand ($D_{ij}$) and price ($p_{ij}$) parameters. The average price subscript $k$ of $D_{ijk}$ can be dropped because we only have one average price value here. We can declare the constraint sets first (model.PriceChoiceUPC, model.sumPrice) and then **add** the constraint functions later."
      ]
    },
    {
      "cell_type": "code",
      "metadata": {
        "id": "AeKxRrnufnyo",
        "colab_type": "code",
        "outputId": "dcf2753a-8bc4-4053-e273-5001aa3d6bc7",
        "colab": {
          "base_uri": "https://localhost:8080/",
          "height": 612
        }
      },
      "source": [
        "model = ConcreteModel()\n",
        "# Variables\n",
        "model.x = Var(productList, priceList, within = Binary)\n",
        "model.PriceChoiceUPC = ConstraintList()\n",
        "model.sumPrice = ConstraintList()\n",
        "model.pprint()"
      ],
      "execution_count": 7,
      "outputs": [
        {
          "output_type": "stream",
          "text": [
            "5 Set Declarations\n",
            "    PriceChoiceUPC_index : Dim=0, Dimen=1, Size=0, Domain=None, Ordered=False, Bounds=None\n",
            "        []\n",
            "    sumPrice_index : Dim=0, Dimen=1, Size=0, Domain=None, Ordered=False, Bounds=None\n",
            "        []\n",
            "    x_index : Dim=0, Dimen=2, Size=12, Domain=None, Ordered=False, Bounds=None\n",
            "        Virtual\n",
            "    x_index_0 : Dim=0, Dimen=1, Size=4, Domain=None, Ordered=False, Bounds=(1600027528, 3800031829)\n",
            "        [1600027528, 1600027564, 3000006340, 3800031829]\n",
            "    x_index_1 : Dim=0, Dimen=1, Size=3, Domain=None, Ordered=False, Bounds=(2.5, 3.5)\n",
            "        [2.5, 3.0, 3.5]\n",
            "\n",
            "1 Var Declarations\n",
            "    x : Size=12, Index=x_index\n",
            "        Key               : Lower : Value : Upper : Fixed : Stale : Domain\n",
            "        (1600027528, 2.5) :     0 :  None :     1 : False :  True : Binary\n",
            "        (1600027528, 3.0) :     0 :  None :     1 : False :  True : Binary\n",
            "        (1600027528, 3.5) :     0 :  None :     1 : False :  True : Binary\n",
            "        (1600027564, 2.5) :     0 :  None :     1 : False :  True : Binary\n",
            "        (1600027564, 3.0) :     0 :  None :     1 : False :  True : Binary\n",
            "        (1600027564, 3.5) :     0 :  None :     1 : False :  True : Binary\n",
            "        (3000006340, 2.5) :     0 :  None :     1 : False :  True : Binary\n",
            "        (3000006340, 3.0) :     0 :  None :     1 : False :  True : Binary\n",
            "        (3000006340, 3.5) :     0 :  None :     1 : False :  True : Binary\n",
            "        (3800031829, 2.5) :     0 :  None :     1 : False :  True : Binary\n",
            "        (3800031829, 3.0) :     0 :  None :     1 : False :  True : Binary\n",
            "        (3800031829, 3.5) :     0 :  None :     1 : False :  True : Binary\n",
            "\n",
            "2 Constraint Declarations\n",
            "    PriceChoiceUPC : Size=0, Index=PriceChoiceUPC_index, Active=True\n",
            "        Key : Lower : Body : Upper : Active\n",
            "    sumPrice : Size=0, Index=sumPrice_index, Active=True\n",
            "        Key : Lower : Body : Upper : Active\n",
            "\n",
            "8 Declarations: x_index_0 x_index_1 x_index x PriceChoiceUPC_index PriceChoiceUPC sumPrice_index sumPrice\n"
          ],
          "name": "stdout"
        }
      ]
    },
    {
      "cell_type": "markdown",
      "metadata": {
        "id": "9cS5YfcZHddR",
        "colab_type": "text"
      },
      "source": [
        "# Block 3: Modeling (obj function and constraints)"
      ]
    },
    {
      "cell_type": "markdown",
      "metadata": {
        "id": "0IdAKFZzPbOJ",
        "colab_type": "text"
      },
      "source": [
        "Instead of iteratively entering the value for each price and predicted sales, we can simply create a loop **for** each product and a loop **for** each price. The code now looks very much like the general equation $\\sum_{i} \\sum_{j} p_{ij} \\cdot D_{ij} \\cdot x_{ij}$ we saw in the first part of today's session with some minor changes for notational simplification."
      ]
    },
    {
      "cell_type": "code",
      "metadata": {
        "id": "RY6Vi1TE5ztC",
        "colab_type": "code",
        "outputId": "176902a3-94a2-4c51-ece4-3cce551a4f50",
        "colab": {
          "base_uri": "https://localhost:8080/",
          "height": 54
        }
      },
      "source": [
        "# Objective function\n",
        "\n",
        "obj_expr = sum(p[(i,j)]*D[(i,j)]*model.x[i,j] for i in productList for j in priceList) \n",
        "print(obj_expr)\n",
        "model.OBJ = Objective(expr = obj_expr, sense = maximize)"
      ],
      "execution_count": 8,
      "outputs": [
        {
          "output_type": "stream",
          "text": [
            "237.25*x[1600027528,2.5] + 201.0*x[1600027528,3.0] + 162.4*x[1600027528,3.5] + 60.25*x[1600027564,2.5] + 67.80000000000001*x[1600027564,3.0] + 69.3*x[1600027564,3.5] + 15.5*x[3000006340,2.5] + 12.0*x[3000006340,3.0] + 10.5*x[3000006340,3.5] + 82.25*x[3800031829,2.5] + 72.9*x[3800031829,3.0] + 71.39999999999999*x[3800031829,3.5]\n"
          ],
          "name": "stdout"
        }
      ]
    },
    {
      "cell_type": "markdown",
      "metadata": {
        "id": "y2TOnlIlQfNq",
        "colab_type": "text"
      },
      "source": [
        "Similarly, we can create a loop to **add** constraint functions to the constraint set **for** each product to ensure that only one price on the list is selected for that product. Unlike the first part of today's session, we need not iteratively type each constraint."
      ]
    },
    {
      "cell_type": "code",
      "metadata": {
        "id": "_-J1E9CayDY-",
        "colab_type": "code",
        "outputId": "4da1d7f5-4c8d-46f5-9c18-76e866f67537",
        "colab": {
          "base_uri": "https://localhost:8080/",
          "height": 85
        }
      },
      "source": [
        "# Constraints #1\n",
        "for i in productList:\n",
        "  const1_expr = sum(model.x[i,j] for j in priceList) == 1 \n",
        "  print(const1_expr)\n",
        "  model.PriceChoiceUPC.add(expr = const1_expr)\n"
      ],
      "execution_count": 9,
      "outputs": [
        {
          "output_type": "stream",
          "text": [
            "x[1600027528,2.5] + x[1600027528,3.0] + x[1600027528,3.5]  ==  1.0\n",
            "x[1600027564,2.5] + x[1600027564,3.0] + x[1600027564,3.5]  ==  1.0\n",
            "x[3000006340,2.5] + x[3000006340,3.0] + x[3000006340,3.5]  ==  1.0\n",
            "x[3800031829,2.5] + x[3800031829,3.0] + x[3800031829,3.5]  ==  1.0\n"
          ],
          "name": "stdout"
        }
      ]
    },
    {
      "cell_type": "markdown",
      "metadata": {
        "id": "gpCWig8MUBAZ",
        "colab_type": "text"
      },
      "source": [
        "Similar **for** loops apply to the average price constraint. Please refer to the first part of today's session for detailed elaboration."
      ]
    },
    {
      "cell_type": "code",
      "metadata": {
        "id": "prKy0fAE6hTd",
        "colab_type": "code",
        "outputId": "b5e8e939-344e-4972-b875-822d34bb3393",
        "colab": {
          "base_uri": "https://localhost:8080/",
          "height": 819
        }
      },
      "source": [
        "# Constraints #2\n",
        "const2_expr = sum(p[i,j]*model.x[i,j] for i in productList for j in priceList) == avgPriceValue*len(productList) \n",
        "print(const2_expr)\n",
        "model.sumPrice.add(expr = const2_expr)\n",
        "\n",
        "model.pprint()"
      ],
      "execution_count": 10,
      "outputs": [
        {
          "output_type": "stream",
          "text": [
            "2.5*x[1600027528,2.5] + 3.0*x[1600027528,3.0] + 3.5*x[1600027528,3.5] + 2.5*x[1600027564,2.5] + 3.0*x[1600027564,3.0] + 3.5*x[1600027564,3.5] + 2.5*x[3000006340,2.5] + 3.0*x[3000006340,3.0] + 3.5*x[3000006340,3.5] + 2.5*x[3800031829,2.5] + 3.0*x[3800031829,3.0] + 3.5*x[3800031829,3.5]  ==  12.0\n",
            "5 Set Declarations\n",
            "    PriceChoiceUPC_index : Dim=0, Dimen=1, Size=4, Domain=None, Ordered=False, Bounds=None\n",
            "        [1, 2, 3, 4]\n",
            "    sumPrice_index : Dim=0, Dimen=1, Size=1, Domain=None, Ordered=False, Bounds=None\n",
            "        [1]\n",
            "    x_index : Dim=0, Dimen=2, Size=12, Domain=None, Ordered=False, Bounds=None\n",
            "        Virtual\n",
            "    x_index_0 : Dim=0, Dimen=1, Size=4, Domain=None, Ordered=False, Bounds=(1600027528, 3800031829)\n",
            "        [1600027528, 1600027564, 3000006340, 3800031829]\n",
            "    x_index_1 : Dim=0, Dimen=1, Size=3, Domain=None, Ordered=False, Bounds=(2.5, 3.5)\n",
            "        [2.5, 3.0, 3.5]\n",
            "\n",
            "1 Var Declarations\n",
            "    x : Size=12, Index=x_index\n",
            "        Key               : Lower : Value : Upper : Fixed : Stale : Domain\n",
            "        (1600027528, 2.5) :     0 :  None :     1 : False :  True : Binary\n",
            "        (1600027528, 3.0) :     0 :  None :     1 : False :  True : Binary\n",
            "        (1600027528, 3.5) :     0 :  None :     1 : False :  True : Binary\n",
            "        (1600027564, 2.5) :     0 :  None :     1 : False :  True : Binary\n",
            "        (1600027564, 3.0) :     0 :  None :     1 : False :  True : Binary\n",
            "        (1600027564, 3.5) :     0 :  None :     1 : False :  True : Binary\n",
            "        (3000006340, 2.5) :     0 :  None :     1 : False :  True : Binary\n",
            "        (3000006340, 3.0) :     0 :  None :     1 : False :  True : Binary\n",
            "        (3000006340, 3.5) :     0 :  None :     1 : False :  True : Binary\n",
            "        (3800031829, 2.5) :     0 :  None :     1 : False :  True : Binary\n",
            "        (3800031829, 3.0) :     0 :  None :     1 : False :  True : Binary\n",
            "        (3800031829, 3.5) :     0 :  None :     1 : False :  True : Binary\n",
            "\n",
            "1 Objective Declarations\n",
            "    OBJ : Size=1, Index=None, Active=True\n",
            "        Key  : Active : Sense    : Expression\n",
            "        None :   True : maximize : 237.25*x[1600027528,2.5] + 201.0*x[1600027528,3.0] + 162.4*x[1600027528,3.5] + 60.25*x[1600027564,2.5] + 67.80000000000001*x[1600027564,3.0] + 69.3*x[1600027564,3.5] + 15.5*x[3000006340,2.5] + 12.0*x[3000006340,3.0] + 10.5*x[3000006340,3.5] + 82.25*x[3800031829,2.5] + 72.9*x[3800031829,3.0] + 71.39999999999999*x[3800031829,3.5]\n",
            "\n",
            "2 Constraint Declarations\n",
            "    PriceChoiceUPC : Size=4, Index=PriceChoiceUPC_index, Active=True\n",
            "        Key : Lower : Body                                                      : Upper : Active\n",
            "          1 :   1.0 : x[1600027528,2.5] + x[1600027528,3.0] + x[1600027528,3.5] :   1.0 :   True\n",
            "          2 :   1.0 : x[1600027564,2.5] + x[1600027564,3.0] + x[1600027564,3.5] :   1.0 :   True\n",
            "          3 :   1.0 : x[3000006340,2.5] + x[3000006340,3.0] + x[3000006340,3.5] :   1.0 :   True\n",
            "          4 :   1.0 : x[3800031829,2.5] + x[3800031829,3.0] + x[3800031829,3.5] :   1.0 :   True\n",
            "    sumPrice : Size=1, Index=sumPrice_index, Active=True\n",
            "        Key : Lower : Body                                                                                                                                                                                                                                                                                          : Upper : Active\n",
            "          1 :  12.0 : 2.5*x[1600027528,2.5] + 3.0*x[1600027528,3.0] + 3.5*x[1600027528,3.5] + 2.5*x[1600027564,2.5] + 3.0*x[1600027564,3.0] + 3.5*x[1600027564,3.5] + 2.5*x[3000006340,2.5] + 3.0*x[3000006340,3.0] + 3.5*x[3000006340,3.5] + 2.5*x[3800031829,2.5] + 3.0*x[3800031829,3.0] + 3.5*x[3800031829,3.5] :  12.0 :   True\n",
            "\n",
            "9 Declarations: x_index_0 x_index_1 x_index x PriceChoiceUPC_index PriceChoiceUPC sumPrice_index sumPrice OBJ\n"
          ],
          "name": "stdout"
        }
      ]
    },
    {
      "cell_type": "markdown",
      "metadata": {
        "id": "9cS5YfcZHddR",
        "colab_type": "text"
      },
      "source": [
        "# Block 4: Solution and results"
      ]
    },
    {
      "cell_type": "markdown",
      "metadata": {
        "id": "fB0r8jsxciFN",
        "colab_type": "text"
      },
      "source": [
        "Finally, we call the solver and obtain the optimal solution. We can see that product '1600027528' is also sold at price $\\$2.5$, products '1600027564' and '3000006340' both  at price $\\$3.5$ and product '3800031829' at price $\\$2.5$, but the optimal objective value is now $\\$399.3$. Don't panic. Just check the demand parameters in the objective function and you will notice the reason for this difference. Then, could you please try to explain why the demand parameters changed?"
      ]
    },
    {
      "cell_type": "code",
      "metadata": {
        "id": "a0KA-DNX8RqA",
        "colab_type": "code",
        "outputId": "da96c12b-8ca5-4a8b-d46f-647762a7a2f7",
        "colab": {
          "base_uri": "https://localhost:8080/",
          "height": 578
        }
      },
      "source": [
        "# Solve the model\n",
        "opt = SolverFactory('glpk')\n",
        "opt.solve(model) \n",
        "\n",
        "model.display()"
      ],
      "execution_count": 11,
      "outputs": [
        {
          "output_type": "stream",
          "text": [
            "Model unknown\n",
            "\n",
            "  Variables:\n",
            "    x : Size=12, Index=x_index\n",
            "        Key               : Lower : Value : Upper : Fixed : Stale : Domain\n",
            "        (1600027528, 2.5) :     0 :   1.0 :     1 : False : False : Binary\n",
            "        (1600027528, 3.0) :     0 :   0.0 :     1 : False : False : Binary\n",
            "        (1600027528, 3.5) :     0 :   0.0 :     1 : False : False : Binary\n",
            "        (1600027564, 2.5) :     0 :   0.0 :     1 : False : False : Binary\n",
            "        (1600027564, 3.0) :     0 :   0.0 :     1 : False : False : Binary\n",
            "        (1600027564, 3.5) :     0 :   1.0 :     1 : False : False : Binary\n",
            "        (3000006340, 2.5) :     0 :   0.0 :     1 : False : False : Binary\n",
            "        (3000006340, 3.0) :     0 :   0.0 :     1 : False : False : Binary\n",
            "        (3000006340, 3.5) :     0 :   1.0 :     1 : False : False : Binary\n",
            "        (3800031829, 2.5) :     0 :   1.0 :     1 : False : False : Binary\n",
            "        (3800031829, 3.0) :     0 :   0.0 :     1 : False : False : Binary\n",
            "        (3800031829, 3.5) :     0 :   0.0 :     1 : False : False : Binary\n",
            "\n",
            "  Objectives:\n",
            "    OBJ : Size=1, Index=None, Active=True\n",
            "        Key  : Active : Value\n",
            "        None :   True : 399.3\n",
            "\n",
            "  Constraints:\n",
            "    PriceChoiceUPC : Size=4\n",
            "        Key : Lower : Body : Upper\n",
            "          1 :   1.0 :  1.0 :   1.0\n",
            "          2 :   1.0 :  1.0 :   1.0\n",
            "          3 :   1.0 :  1.0 :   1.0\n",
            "          4 :   1.0 :  1.0 :   1.0\n",
            "    sumPrice : Size=1\n",
            "        Key : Lower : Body : Upper\n",
            "          1 :  12.0 : 12.0 :  12.0\n"
          ],
          "name": "stdout"
        }
      ]
    }
  ]
}
