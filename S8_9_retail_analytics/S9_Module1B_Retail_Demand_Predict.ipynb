{
  "nbformat": 4,
  "nbformat_minor": 0,
  "metadata": {
    "colab": {
      "name": "S9_Module1B_Retail_Demand_Predict.ipynb",
      "provenance": [],
      "collapsed_sections": [],
      "include_colab_link": true
    },
    "kernelspec": {
      "name": "python3",
      "display_name": "Python 3"
    }
  },
  "cells": [
    {
      "cell_type": "markdown",
      "metadata": {
        "id": "view-in-github",
        "colab_type": "text"
      },
      "source": [
        "<a href=\"https://colab.research.google.com/github/acedesci/scanalytics/blob/master/S8_9_retail_analytics/S9_Module1B_Retail_Demand_Predict.ipynb\" target=\"_parent\"><img src=\"https://colab.research.google.com/assets/colab-badge.svg\" alt=\"Open In Colab\"/></a>"
      ]
    },
    {
      "cell_type": "markdown",
      "metadata": {
        "id": "1iy3AoJtPXoV",
        "colab_type": "text"
      },
      "source": [
        "# Predicting demands for optimization models\n",
        "\n",
        "In the first part of today's session, we designed our model on a predetermined subset of regressor variables and trained it by UPC. Now in this notebook, we will prepare our inputs for the optimization model by predicting the demands based on different price points."
      ]
    },
    {
      "cell_type": "code",
      "metadata": {
        "id": "I2Sn0n-ZUc_E",
        "colab_type": "code",
        "colab": {}
      },
      "source": [
        "import pandas\n",
        "import sklearn\n",
        "from sklearn import *"
      ],
      "execution_count": 0,
      "outputs": []
    },
    {
      "cell_type": "markdown",
      "metadata": {
        "id": "9cS5YfcZHddR",
        "colab_type": "text"
      },
      "source": [
        "# 1. Data input\n",
        "\n",
        "We have prepared the input files which contain the features to be predicted. The first file shows a small dataset whereas the second file consists of a large dataset. "
      ]
    },
    {
      "cell_type": "code",
      "metadata": {
        "id": "nllChVoSUtNy",
        "colab_type": "code",
        "colab": {}
      },
      "source": [
        "# small example\n",
        "url1 = 'https://raw.githubusercontent.com/acedesci/scanalytics/master/S8_9_retail_analytics/predictionInput_Prob1.csv'\n",
        "\n",
        "# large example\n",
        "url2 = 'https://raw.githubusercontent.com/acedesci/scanalytics/master/S8_9_retail_analytics/predictionInput_Prob2.csv'\n",
        "\n",
        "predDemand = pandas.read_csv(url1)\n",
        "print(predDemand)\n",
        "\n",
        "feature_list = ['PRICE', 'PRICE_p2', 'FEATURE', 'DISPLAY','TPR_ONLY','RELPRICE']\n",
        "productList = predDemand['UPC'].unique()\n"
      ],
      "execution_count": 0,
      "outputs": []
    },
    {
      "cell_type": "markdown",
      "metadata": {
        "colab_type": "text",
        "id": "MO-xut7aO8kg"
      },
      "source": [
        "# 2. Model retrieval"
      ]
    },
    {
      "cell_type": "markdown",
      "metadata": {
        "colab_type": "text",
        "id": "vdW-CiGPO8kh"
      },
      "source": [
        "In the next two cells, we retrieve the best model that we previously trained and saved on Google Drive."
      ]
    },
    {
      "cell_type": "code",
      "metadata": {
        "id": "CSRXAt-Nnx8M",
        "colab_type": "code",
        "colab": {}
      },
      "source": [
        "# we need to remount Google Drive in order to load the data from it\n",
        "import pickle\n",
        "\n",
        "from google.colab import drive\n",
        "drive.mount('/content/drive')\n",
        "cwd = '/content/drive/My Drive/'"
      ],
      "execution_count": 0,
      "outputs": []
    },
    {
      "cell_type": "markdown",
      "metadata": {
        "colab_type": "text",
        "id": "KnEKiWSyO8km"
      },
      "source": [
        "We load the model that we previously trained and saved for each UPC."
      ]
    },
    {
      "cell_type": "code",
      "metadata": {
        "id": "AZu3qyoMn1WV",
        "colab_type": "code",
        "colab": {}
      },
      "source": [
        "regr = {}\n",
        "for upc in productList:\n",
        "    filename = cwd+str(upc)+'_demand_model.sav'\n",
        "    # save the model to disk\n",
        "    regr[upc] = pickle.load(open(filename, 'rb'))"
      ],
      "execution_count": 0,
      "outputs": []
    },
    {
      "cell_type": "markdown",
      "metadata": {
        "colab_type": "text",
        "id": "_7K3cDLOO8kq"
      },
      "source": [
        "# 3. Demand forecasting"
      ]
    },
    {
      "cell_type": "markdown",
      "metadata": {
        "colab_type": "text",
        "id": "fFY7TznuO8ks"
      },
      "source": [
        "In this cell, we also create a loop **for** each UPC. The first line in the **for** loop loads the data on the explanatory variables (features) for each UPC and the 4th line uses the previously trained and saved model corresponding to that UPC to predict its sales. Don't forget to retrieve the data index (3rd line) so that we can record the predicted sales in the right order and that we can later double-check whether there is any index mismatch. The second last line of the cell is to add the predicted sales to the data table. We will see how this information comes in handy in Week 9. Don't forget to save this result."
      ]
    },
    {
      "cell_type": "code",
      "metadata": {
        "id": "2iMU7G0yVeWk",
        "colab_type": "code",
        "colab": {}
      },
      "source": [
        "X = {}\n",
        "y_pred = {}\n",
        "predictedValueSeries = pandas.Series()\n",
        "\n",
        "for upc in productList:\n",
        "  X[upc] = predDemand.loc[predDemand['UPC']==upc][feature_list] \n",
        "  upcIndex = predDemand.loc[predDemand['UPC']==upc].index\n",
        "  y_pred[upc] = regr[upc].predict(X[upc]).clip(0.0).round(1) # we need to make sure the predicted values cannot be negative\n",
        "  predictedValueSeries = predictedValueSeries.append(pandas.Series(y_pred[upc], index = upcIndex))\n",
        "\n",
        "predDemand['predictSales'] = predictedValueSeries\n",
        "print(predDemand.to_string())"
      ],
      "execution_count": 0,
      "outputs": []
    },
    {
      "cell_type": "markdown",
      "metadata": {
        "id": "vypThqGJQd_K",
        "colab_type": "text"
      },
      "source": [
        "Now we save the predicted sales into csv file to be used in the optimization model later on."
      ]
    },
    {
      "cell_type": "code",
      "metadata": {
        "id": "0QmdVdfaX_jK",
        "colab_type": "code",
        "colab": {}
      },
      "source": [
        "predDemand.to_csv(cwd +'predictedSales_Prob1.csv')"
      ],
      "execution_count": 0,
      "outputs": []
    }
  ]
}