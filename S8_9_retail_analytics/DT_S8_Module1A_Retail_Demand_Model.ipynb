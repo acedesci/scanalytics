{
  "nbformat": 4,
  "nbformat_minor": 0,
  "metadata": {
    "colab": {
      "name": "S8_Module1A_Retail_Demand_Model.ipynb",
      "provenance": [],
      "collapsed_sections": [],
      "include_colab_link": true
    },
    "kernelspec": {
      "name": "python3",
      "display_name": "Python 3"
    }
  },
  "cells": [
    {
      "cell_type": "markdown",
      "metadata": {
        "id": "view-in-github",
        "colab_type": "text"
      },
      "source": [
        "<a href=\"https://colab.research.google.com/github/acedesci/scanalytics/blob/master/S8_9_retail_analytics/DT_S8_Module1A_Retail_Demand_Model.ipynb\" target=\"_parent\"><img src=\"https://colab.research.google.com/assets/colab-badge.svg\" alt=\"Open In Colab\"/></a>"
      ]
    },
    {
      "cell_type": "markdown",
      "metadata": {
        "id": "9cS5YfcZHddR",
        "colab_type": "text"
      },
      "source": [
        "As we did in Week 7, we begin by loading the sklearn packages needed."
      ]
    },
    {
      "cell_type": "code",
      "metadata": {
        "id": "I2Sn0n-ZUc_E",
        "colab_type": "code",
        "colab": {}
      },
      "source": [
        "import pandas\n",
        "import sklearn\n",
        "import numpy\n",
        "from sklearn import *"
      ],
      "execution_count": 0,
      "outputs": []
    },
    {
      "cell_type": "markdown",
      "metadata": {
        "id": "9cS5YfcZHddR",
        "colab_type": "text"
      },
      "source": [
        "# Block 1: Data input"
      ]
    },
    {
      "cell_type": "markdown",
      "metadata": {
        "id": "9cS5YfcZHddR",
        "colab_type": "text"
      },
      "source": [
        "In addition to the original data, we add a new variable, which is the squared price ('PRICE_p2')."
      ]
    },
    {
      "cell_type": "code",
      "metadata": {
        "id": "nllChVoSUtNy",
        "colab_type": "code",
        "outputId": "60e1eb89-49e4-4529-da32-fe0d63435d67",
        "colab": {
          "base_uri": "https://localhost:8080/",
          "height": 462
        }
      },
      "source": [
        "url = 'https://raw.githubusercontent.com/acedesci/scanalytics/master/S8_9_retail_analytics/salesCereals.csv'\n",
        "\n",
        "salesCereals = pandas.read_csv(url)\n",
        "salesCereals['PRICE_p2'] = salesCereals['PRICE']**2\n",
        "salesCereals.head()"
      ],
      "execution_count": 2,
      "outputs": [
        {
          "output_type": "execute_result",
          "data": {
            "text/html": [
              "<div>\n",
              "<style scoped>\n",
              "    .dataframe tbody tr th:only-of-type {\n",
              "        vertical-align: middle;\n",
              "    }\n",
              "\n",
              "    .dataframe tbody tr th {\n",
              "        vertical-align: top;\n",
              "    }\n",
              "\n",
              "    .dataframe thead th {\n",
              "        text-align: right;\n",
              "    }\n",
              "</style>\n",
              "<table border=\"1\" class=\"dataframe\">\n",
              "  <thead>\n",
              "    <tr style=\"text-align: right;\">\n",
              "      <th></th>\n",
              "      <th>Unnamed: 0</th>\n",
              "      <th>WEEK_END_DATE</th>\n",
              "      <th>STORE_NUM</th>\n",
              "      <th>UPC</th>\n",
              "      <th>UNITS</th>\n",
              "      <th>VISITS</th>\n",
              "      <th>HHS</th>\n",
              "      <th>SPEND</th>\n",
              "      <th>PRICE</th>\n",
              "      <th>BASE_PRICE</th>\n",
              "      <th>FEATURE</th>\n",
              "      <th>DISPLAY</th>\n",
              "      <th>TPR_ONLY</th>\n",
              "      <th>Desc</th>\n",
              "      <th>Category</th>\n",
              "      <th>Sub-Category</th>\n",
              "      <th>SUMPRICE</th>\n",
              "      <th>COUNTPRICE</th>\n",
              "      <th>AVGPRICE</th>\n",
              "      <th>RELPRICE</th>\n",
              "      <th>PRICE_p2</th>\n",
              "    </tr>\n",
              "  </thead>\n",
              "  <tbody>\n",
              "    <tr>\n",
              "      <th>0</th>\n",
              "      <td>6</td>\n",
              "      <td>2009-01-14</td>\n",
              "      <td>367.0</td>\n",
              "      <td>1111085319</td>\n",
              "      <td>14.0</td>\n",
              "      <td>13.0</td>\n",
              "      <td>13.0</td>\n",
              "      <td>26.32</td>\n",
              "      <td>1.88</td>\n",
              "      <td>1.88</td>\n",
              "      <td>0.0</td>\n",
              "      <td>0.0</td>\n",
              "      <td>0.0</td>\n",
              "      <td>PL HONEY NUT TOASTD OATS</td>\n",
              "      <td>COLD CEREAL</td>\n",
              "      <td>ALL FAMILY CEREAL</td>\n",
              "      <td>19.54</td>\n",
              "      <td>7</td>\n",
              "      <td>2.791429</td>\n",
              "      <td>0.673490</td>\n",
              "      <td>3.5344</td>\n",
              "    </tr>\n",
              "    <tr>\n",
              "      <th>1</th>\n",
              "      <td>8</td>\n",
              "      <td>2009-01-14</td>\n",
              "      <td>367.0</td>\n",
              "      <td>1111085350</td>\n",
              "      <td>35.0</td>\n",
              "      <td>27.0</td>\n",
              "      <td>25.0</td>\n",
              "      <td>69.30</td>\n",
              "      <td>1.98</td>\n",
              "      <td>1.98</td>\n",
              "      <td>0.0</td>\n",
              "      <td>0.0</td>\n",
              "      <td>0.0</td>\n",
              "      <td>PL BT SZ FRSTD SHRD WHT</td>\n",
              "      <td>COLD CEREAL</td>\n",
              "      <td>ALL FAMILY CEREAL</td>\n",
              "      <td>19.54</td>\n",
              "      <td>7</td>\n",
              "      <td>2.791429</td>\n",
              "      <td>0.709314</td>\n",
              "      <td>3.9204</td>\n",
              "    </tr>\n",
              "    <tr>\n",
              "      <th>2</th>\n",
              "      <td>12</td>\n",
              "      <td>2009-01-14</td>\n",
              "      <td>367.0</td>\n",
              "      <td>1600027527</td>\n",
              "      <td>12.0</td>\n",
              "      <td>10.0</td>\n",
              "      <td>10.0</td>\n",
              "      <td>38.28</td>\n",
              "      <td>3.19</td>\n",
              "      <td>3.19</td>\n",
              "      <td>0.0</td>\n",
              "      <td>0.0</td>\n",
              "      <td>0.0</td>\n",
              "      <td>GM HONEY NUT CHEERIOS</td>\n",
              "      <td>COLD CEREAL</td>\n",
              "      <td>ALL FAMILY CEREAL</td>\n",
              "      <td>19.54</td>\n",
              "      <td>7</td>\n",
              "      <td>2.791429</td>\n",
              "      <td>1.142784</td>\n",
              "      <td>10.1761</td>\n",
              "    </tr>\n",
              "    <tr>\n",
              "      <th>3</th>\n",
              "      <td>13</td>\n",
              "      <td>2009-01-14</td>\n",
              "      <td>367.0</td>\n",
              "      <td>1600027528</td>\n",
              "      <td>31.0</td>\n",
              "      <td>26.0</td>\n",
              "      <td>19.0</td>\n",
              "      <td>142.29</td>\n",
              "      <td>4.59</td>\n",
              "      <td>4.59</td>\n",
              "      <td>0.0</td>\n",
              "      <td>0.0</td>\n",
              "      <td>0.0</td>\n",
              "      <td>GM CHEERIOS</td>\n",
              "      <td>COLD CEREAL</td>\n",
              "      <td>ALL FAMILY CEREAL</td>\n",
              "      <td>19.54</td>\n",
              "      <td>7</td>\n",
              "      <td>2.791429</td>\n",
              "      <td>1.644319</td>\n",
              "      <td>21.0681</td>\n",
              "    </tr>\n",
              "    <tr>\n",
              "      <th>4</th>\n",
              "      <td>14</td>\n",
              "      <td>2009-01-14</td>\n",
              "      <td>367.0</td>\n",
              "      <td>1600027564</td>\n",
              "      <td>56.0</td>\n",
              "      <td>48.0</td>\n",
              "      <td>42.0</td>\n",
              "      <td>152.32</td>\n",
              "      <td>2.72</td>\n",
              "      <td>3.07</td>\n",
              "      <td>1.0</td>\n",
              "      <td>0.0</td>\n",
              "      <td>0.0</td>\n",
              "      <td>GM CHEERIOS</td>\n",
              "      <td>COLD CEREAL</td>\n",
              "      <td>ALL FAMILY CEREAL</td>\n",
              "      <td>19.54</td>\n",
              "      <td>7</td>\n",
              "      <td>2.791429</td>\n",
              "      <td>0.974411</td>\n",
              "      <td>7.3984</td>\n",
              "    </tr>\n",
              "  </tbody>\n",
              "</table>\n",
              "</div>"
            ],
            "text/plain": [
              "   Unnamed: 0 WEEK_END_DATE  STORE_NUM  ...  AVGPRICE  RELPRICE  PRICE_p2\n",
              "0           6    2009-01-14      367.0  ...  2.791429  0.673490    3.5344\n",
              "1           8    2009-01-14      367.0  ...  2.791429  0.709314    3.9204\n",
              "2          12    2009-01-14      367.0  ...  2.791429  1.142784   10.1761\n",
              "3          13    2009-01-14      367.0  ...  2.791429  1.644319   21.0681\n",
              "4          14    2009-01-14      367.0  ...  2.791429  0.974411    7.3984\n",
              "\n",
              "[5 rows x 21 columns]"
            ]
          },
          "metadata": {
            "tags": []
          },
          "execution_count": 2
        }
      ]
    },
    {
      "cell_type": "markdown",
      "metadata": {
        "id": "9cS5YfcZHddR",
        "colab_type": "text"
      },
      "source": [
        "'UPC' stands for Unique Product Code, which can be understood as one SKU in this case and in our SCM terms in general. The code below helps us identify the SKUs by which we want to forecast and their corresponding data size (number of data instances). We can see that the number of instances for each UPC is similar and that there is no UPC with only a few data points. This is important because training a model on a small dataset may limit its generalization."
      ]
    },
    {
      "cell_type": "code",
      "metadata": {
        "id": "2iMU7G0yVeWk",
        "colab_type": "code",
        "outputId": "ee33b1a0-ebe1-4360-81de-68c0ac81c24b",
        "colab": {
          "base_uri": "https://localhost:8080/",
          "height": 204
        }
      },
      "source": [
        "print(salesCereals.groupby('UPC').count())"
      ],
      "execution_count": 5,
      "outputs": [
        {
          "output_type": "stream",
          "text": [
            "            Unnamed: 0  WEEK_END_DATE  STORE_NUM  ...  AVGPRICE  RELPRICE  PRICE_p2\n",
            "UPC                                               ...                              \n",
            "1111085319         156            156        156  ...       156       156       156\n",
            "1111085350         156            156        156  ...       156       156       156\n",
            "1600027527         156            156        156  ...       156       156       156\n",
            "1600027528         156            156        156  ...       156       156       156\n",
            "1600027564         155            155        155  ...       155       155       155\n",
            "3000006340         133            133        133  ...       133       133       133\n",
            "3800031829         155            155        155  ...       155       155       155\n",
            "\n",
            "[7 rows x 20 columns]\n"
          ],
          "name": "stdout"
        }
      ]
    },
    {
      "cell_type": "markdown",
      "metadata": {
        "id": "9cS5YfcZHddR",
        "colab_type": "text"
      },
      "source": [
        "# Block 2: Feature engineering & preparation"
      ]
    },
    {
      "cell_type": "markdown",
      "metadata": {
        "id": "9cS5YfcZHddR",
        "colab_type": "text"
      },
      "source": [
        "We then organize the data by 'UPC.' The model presented here only runs on a predetermined subset of variables in the data. You can add or remove these explanatory variables based on your judgemental call. The last 3 lines print the data for the last item on the product list we have compiled before."
      ]
    },
    {
      "cell_type": "code",
      "metadata": {
        "id": "0QmdVdfaX_jK",
        "colab_type": "code",
        "outputId": "14c41ad0-8a3e-444b-aa07-a1f5f7a0cdfa",
        "colab": {
          "base_uri": "https://localhost:8080/",
          "height": 510
        }
      },
      "source": [
        "feature_list = ['PRICE', 'PRICE_p2', 'FEATURE', 'DISPLAY','TPR_ONLY','RELPRICE']\n",
        "\n",
        "productList = salesCereals['UPC'].unique()\n",
        "print(productList)\n",
        "\n",
        "X, X_train, X_test = {}, {}, {}\n",
        "y, y_train, y_test, y_pred = {}, {}, {}, {}\n",
        "\n",
        "for upc in productList:\n",
        "  \n",
        "  X[upc] = salesCereals.loc[salesCereals['UPC']==upc][feature_list]\n",
        "  y[upc] = salesCereals.loc[salesCereals['UPC']==upc]['UNITS']\n",
        "  # Split into training and testing data\n",
        "  X_train[upc], X_test[upc], y_train[upc], y_test[upc] = sklearn.model_selection.train_test_split(X[upc], y[upc], test_size=0.25, random_state=0)\n",
        "\n",
        "print(upc)\n",
        "print(X[upc])\n",
        "print(y[upc])"
      ],
      "execution_count": 6,
      "outputs": [
        {
          "output_type": "stream",
          "text": [
            "[1111085319 1111085350 1600027527 1600027528 1600027564 3000006340\n",
            " 3800031829]\n",
            "3800031829\n",
            "      PRICE  PRICE_p2  FEATURE  DISPLAY  TPR_ONLY  RELPRICE\n",
            "6      3.14    9.8596      0.0      0.0       0.0  1.124872\n",
            "13     3.14    9.8596      0.0      0.0       0.0  1.095167\n",
            "20     3.14    9.8596      0.0      0.0       0.0  1.060299\n",
            "27     3.14    9.8596      0.0      0.0       0.0  1.060811\n",
            "34     3.14    9.8596      0.0      0.0       0.0  1.377193\n",
            "...     ...       ...      ...      ...       ...       ...\n",
            "1042   3.89   15.1321      0.0      0.0       0.0  1.269859\n",
            "1048   3.89   15.1321      0.0      0.0       0.0  1.225197\n",
            "1054   3.89   15.1321      0.0      0.0       0.0  1.323129\n",
            "1060   3.89   15.1321      0.0      0.0       0.0  1.294509\n",
            "1066   3.89   15.1321      0.0      0.0       0.0  1.300279\n",
            "\n",
            "[155 rows x 6 columns]\n",
            "6       14.0\n",
            "13      17.0\n",
            "20      23.0\n",
            "27      25.0\n",
            "34      23.0\n",
            "        ... \n",
            "1042    10.0\n",
            "1048    13.0\n",
            "1054    18.0\n",
            "1060    29.0\n",
            "1066    27.0\n",
            "Name: UNITS, Length: 155, dtype: float64\n"
          ],
          "name": "stdout"
        }
      ]
    },
    {
      "cell_type": "markdown",
      "metadata": {
        "id": "9cS5YfcZHddR",
        "colab_type": "text"
      },
      "source": [
        "# Block 3: Model & algorithm (training & testing)"
      ]
    },
    {
      "cell_type": "markdown",
      "metadata": {
        "id": "9cS5YfcZHddR",
        "colab_type": "text"
      },
      "source": [
        "In the next two cells, we train and test two different models, namely Linear Regression and Decision Tree Regression. In each cell, we create a loop **for** each UPC on the product list. The first line in each loop is to train the model and the second line is for testing the model's performance on unseen data. The next three lines compute the performance metrics we would like to measure."
      ]
    },
    {
      "cell_type": "markdown",
      "metadata": {
        "id": "9cS5YfcZHddR",
        "colab_type": "text"
      },
      "source": [
        "We organize the linear regression result by 'UPC' (row) and performance metrics (columns). Don't forget to put the computed metric in the corresponding column (the last line in each loop)."
      ]
    },
    {
      "cell_type": "code",
      "metadata": {
        "id": "THvq_pEyerzL",
        "colab_type": "code",
        "outputId": "e41a87f4-92f3-481f-fb01-e025fbad7b0a",
        "colab": {
          "base_uri": "https://localhost:8080/",
          "height": 221
        }
      },
      "source": [
        "#Linear model\n",
        "regr = {}\n",
        "regrSummary = pandas.DataFrame(columns=['MAE','MAPE', 'RMSE'], index = productList)\n",
        "\n",
        "for upc in productList:\n",
        "    regr[upc] = sklearn.linear_model.LinearRegression().fit(X_train[upc],y_train[upc])\n",
        "    y_pred[upc] = regr[upc].predict(X_test[upc])\n",
        "    testMAE = sklearn.metrics.mean_absolute_error(y_test[upc], y_pred[upc])\n",
        "    testMAPE = numpy.mean(numpy.abs((y_test[upc] - y_pred[upc]) / y_test[upc]))\n",
        "    testRMSE = numpy.sqrt(sklearn.metrics.mean_squared_error(y_test[upc], y_pred[upc]))\n",
        "    regrSummary.loc[upc] =  [testMAE, testMAPE, testRMSE]\n",
        "\n",
        "print('Linear Regression Summary')\n",
        "print(regrSummary)\n",
        "print('average MAE:' + str(round(regrSummary['MAE'].mean(),2)))\n",
        "print('average MAPE:' + str(round(regrSummary['MAPE'].mean(),2)))\n",
        "print('average RMSE:' + str(round(regrSummary['RMSE'].mean(),2)))\n"
      ],
      "execution_count": 7,
      "outputs": [
        {
          "output_type": "stream",
          "text": [
            "Linear Regression Summary\n",
            "                MAE      MAPE     RMSE\n",
            "1111085319  6.56893  0.838554    8.233\n",
            "1111085350  6.13527  0.748932  7.69617\n",
            "1600027527  13.5468  0.547776  23.5199\n",
            "1600027528  8.08809  0.251657  14.0652\n",
            "1600027564  5.23954   0.27655  6.79671\n",
            "3000006340  2.88635  0.720298   3.8743\n",
            "3800031829  6.57475  0.379121  8.51852\n",
            "average MAE:7.01\n",
            "average MAPE:0.54\n",
            "average RMSE:10.39\n"
          ],
          "name": "stdout"
        }
      ]
    },
    {
      "cell_type": "markdown",
      "metadata": {
        "id": "9cS5YfcZHddR",
        "colab_type": "text"
      },
      "source": [
        "Likewise, we obtain the decision tree regression results by simply changing the function name and the result table name."
      ]
    },
    {
      "cell_type": "code",
      "metadata": {
        "id": "m0wTwOc5eZxD",
        "colab_type": "code",
        "outputId": "fd532ca7-dcd1-43c7-a7a8-c8ed877b4ba6",
        "colab": {
          "base_uri": "https://localhost:8080/",
          "height": 221
        }
      },
      "source": [
        "#Tree model\n",
        "regr = {}\n",
        "regrSummary = pandas.DataFrame(columns=['MAE','MAPE', 'RMSE'], index = productList)\n",
        "\n",
        "for upc in productList:\n",
        "      \n",
        "    regr[upc] = tree.DecisionTreeRegressor(random_state = 0).fit(X_train[upc],y_train[upc])\n",
        "    y_pred[upc] = regr[upc].predict(X_test[upc])\n",
        "\n",
        "    testMAE = sklearn.metrics.mean_absolute_error(y_test[upc], y_pred[upc])\n",
        "    testMAPE = numpy.mean(numpy.abs((y_test[upc] - y_pred[upc]) / y_test[upc]))\n",
        "    testRMSE = numpy.sqrt(sklearn.metrics.mean_squared_error(y_test[upc], y_pred[upc]))\n",
        "    regrSummary.loc[upc] =  [testMAE, testMAPE, testRMSE]\n",
        "\n",
        "print('Regression Tree Summary')\n",
        "print(regrSummary)\n",
        "print('average MAE:' + str(round(regrSummary['MAE'].mean(),2)))\n",
        "print('average MAPE:' + str(round(regrSummary['MAPE'].mean(),2)))\n",
        "print('average RMSE:' + str(round(regrSummary['RMSE'].mean(),2)))"
      ],
      "execution_count": 8,
      "outputs": [
        {
          "output_type": "stream",
          "text": [
            "Regression Tree Summary\n",
            "                MAE      MAPE     RMSE\n",
            "1111085319  7.10256  0.841491  10.7596\n",
            "1111085350  5.92308  0.625815  7.47131\n",
            "1600027527  15.5641  0.520292  30.3302\n",
            "1600027528  8.64103  0.286716   13.221\n",
            "1600027564  7.89744   0.38854  10.4538\n",
            "3000006340      4.5  0.992923  7.76209\n",
            "3800031829  7.48718  0.421318  9.13152\n",
            "average MAE:8.16\n",
            "average MAPE:0.58\n",
            "average RMSE:12.73\n"
          ],
          "name": "stdout"
        }
      ]
    },
    {
      "cell_type": "markdown",
      "metadata": {
        "id": "9cS5YfcZHddR",
        "colab_type": "text"
      },
      "source": [
        "# Block 4: Model Selection"
      ]
    },
    {
      "cell_type": "markdown",
      "metadata": {
        "id": "9cS5YfcZHddR",
        "colab_type": "text"
      },
      "source": [
        "By comparing the average result, we can see that the linear regression model outperformed the decision tree regression. Therefore, we proceed with the linear regression model for the whole dataset by replacing 'X_train' with 'X'. Given that the model has 'seen' the whole dataset, its forecast errors normally decrease. Therefore, to further check whether the model generalizes well into unseen data points, we will save the trained model and use it for the new data to be seen in the second part of today's session."
      ]
    },
    {
      "cell_type": "code",
      "metadata": {
        "id": "IYJ4WZyW2O6I",
        "colab_type": "code",
        "outputId": "e8a01736-7f4e-4fd2-8e5c-b612e7c66090",
        "colab": {
          "base_uri": "https://localhost:8080/",
          "height": 221
        }
      },
      "source": [
        "# Best model\n",
        "regr = {}\n",
        "regrSummary = pandas.DataFrame(columns=['MAE','MAPE', 'RMSE'], index = productList)\n",
        "\n",
        "for upc in productList:\n",
        "    regr[upc] = sklearn.linear_model.LinearRegression().fit(X[upc],y[upc])\n",
        "    y_pred[upc] = regr[upc].predict(X[upc])\n",
        "    testMAE = sklearn.metrics.mean_absolute_error(y[upc], y_pred[upc])\n",
        "    testMAPE = numpy.mean(numpy.abs((y[upc] - y_pred[upc]) / y[upc]))\n",
        "    testRMSE = numpy.sqrt(sklearn.metrics.mean_squared_error(y[upc], y_pred[upc]))\n",
        "    regrSummary.loc[upc] =  [testMAE, testMAPE, testRMSE]\n",
        "\n",
        "print('Best Model Summary')\n",
        "print(regrSummary)\n",
        "print('average MAE:' + str(round(regrSummary['MAE'].mean(),2)))\n",
        "print('average MAPE:' + str(round(regrSummary['MAPE'].mean(),2)))\n",
        "print('average RMSE:' + str(round(regrSummary['RMSE'].mean(),2)))"
      ],
      "execution_count": 10,
      "outputs": [
        {
          "output_type": "stream",
          "text": [
            "Best Model Summary\n",
            "                MAE      MAPE     RMSE\n",
            "1111085319  6.08166  0.643456  7.75673\n",
            "1111085350  5.80448      0.64  7.31238\n",
            "1600027527  9.77341  0.611309  16.9264\n",
            "1600027528  7.05949  0.302731  10.4261\n",
            "1600027564  5.99011  0.296792  8.30306\n",
            "3000006340  2.86525  0.699564  4.11992\n",
            "3800031829  6.16428  0.336052  7.81023\n",
            "average MAE:6.25\n",
            "average MAPE:0.5\n",
            "average RMSE:8.95\n"
          ],
          "name": "stdout"
        }
      ]
    },
    {
      "cell_type": "code",
      "metadata": {
        "id": "wsJ0pDjnrnKv",
        "colab_type": "code",
        "outputId": "01303690-7e12-49d4-c4de-8d519e4b749f",
        "colab": {
          "base_uri": "https://localhost:8080/",
          "height": 122
        }
      },
      "source": [
        "# we need to remount Google Drive in order to save into it\n",
        "import pickle\n",
        "\n",
        "from google.colab import drive\n",
        "drive.mount('/content/drive')\n",
        "cwd = '/content/drive/My Drive/'"
      ],
      "execution_count": 11,
      "outputs": [
        {
          "output_type": "stream",
          "text": [
            "Go to this URL in a browser: https://accounts.google.com/o/oauth2/auth?client_id=947318989803-6bn6qk8qdgf4n4g3pfee6491hc0brc4i.apps.googleusercontent.com&redirect_uri=urn%3aietf%3awg%3aoauth%3a2.0%3aoob&response_type=code&scope=email%20https%3a%2f%2fwww.googleapis.com%2fauth%2fdocs.test%20https%3a%2f%2fwww.googleapis.com%2fauth%2fdrive%20https%3a%2f%2fwww.googleapis.com%2fauth%2fdrive.photos.readonly%20https%3a%2f%2fwww.googleapis.com%2fauth%2fpeopleapi.readonly\n",
            "\n",
            "Enter your authorization code:\n",
            "··········\n",
            "Mounted at /content/drive\n"
          ],
          "name": "stdout"
        }
      ]
    },
    {
      "cell_type": "code",
      "metadata": {
        "id": "oF5XjbHAmVYG",
        "colab_type": "code",
        "colab": {}
      },
      "source": [
        "# save the models to drive\n",
        "for upc in productList:\n",
        "    filename = cwd+str(upc)+'_demand_model.sav'\n",
        "    # save the model to disk\n",
        "    pickle.dump(regr[upc], open(filename, 'wb'))"
      ],
      "execution_count": 0,
      "outputs": []
    },
    {
      "cell_type": "code",
      "metadata": {
        "id": "W63NWnxCuD8_",
        "colab_type": "code",
        "colab": {}
      },
      "source": [
        ""
      ],
      "execution_count": 0,
      "outputs": []
    }
  ]
}
