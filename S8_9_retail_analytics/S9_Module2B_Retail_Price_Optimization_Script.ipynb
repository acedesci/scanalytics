{
  "nbformat": 4,
  "nbformat_minor": 0,
  "metadata": {
    "colab": {
      "name": "S9_Module2B_Retail_Price_Optimization_Script.ipynb",
      "provenance": [],
      "collapsed_sections": [],
      "include_colab_link": true
    },
    "kernelspec": {
      "name": "python3",
      "display_name": "Python 3"
    }
  },
  "cells": [
    {
      "cell_type": "markdown",
      "metadata": {
        "id": "view-in-github",
        "colab_type": "text"
      },
      "source": [
        "<a href=\"https://colab.research.google.com/github/acedesci/scanalytics/blob/master/S8_9_retail_analytics/S9_Module2B_Retail_Price_Optimization_Script.ipynb\" target=\"_parent\"><img src=\"https://colab.research.google.com/assets/colab-badge.svg\" alt=\"Open In Colab\"/></a>"
      ]
    },
    {
      "cell_type": "markdown",
      "metadata": {
        "id": "t2xpoCA56e-f",
        "colab_type": "text"
      },
      "source": [
        "# Session 9: Notebook 2B - Implicit (compact) model of Rue La La \n",
        "\n",
        "This notebook is the script version of the notebook S9_Module2A (explicit model). Unlike the explicit model in which we need to explicitly add each complete equation one by one, we can automate the model generation process by using a script version of it. For this one, we do not expect that you understand in detail how to generate the script but simply understand what each block does. Creating the script would require some experience. The main purpose of this is to provide an example of real-life mathematical programming workflow which automate the prescriptive analytics process.\n",
        "\n",
        "More particularly, we want to create an **implicit (or compact) model** of the following prescriptive pricing model of Rue La La.\n",
        "\n",
        "![alt text](https://github.com/acedesci/scanalytics/blob/master/S8_9_retail_analytics/implicit_model.png?raw=true)\n",
        "\n",
        "The following blocks install Pyomo and solver. We also provide an option to use a more powerful solver *CBC* in addition to GLPK we used earlier. You can outcomment it if you want to switch to CBC."
      ]
    },
    {
      "cell_type": "code",
      "metadata": {
        "id": "zdvWKIywwi4_",
        "colab_type": "code",
        "colab": {}
      },
      "source": [
        "# Install Pyomo and GLPK\n",
        "!pip install -q pyomo\n",
        "!apt-get install -y -qq glpk-utils #if GLPK is used\n",
        "# !apt-get install -y -qq coinor-cbc #if cbc is used"
      ],
      "execution_count": 0,
      "outputs": []
    },
    {
      "cell_type": "markdown",
      "metadata": {
        "id": "9cS5YfcZHddR",
        "colab_type": "text"
      },
      "source": [
        "# Block 1: Data input\n",
        "\n",
        "We prepared the data inputs in two files, i.e., \n",
        "\n",
        "\n",
        "1.   **'predictedSales_Prob1.csv'**. This is a small scale problem. It is identical to the problem you see in the Module 2A (explicit model).\n",
        "2.   **'predictedSales_Prob2.csv'**. This is a large-scale problem. This one contains a much higher number of variables and constraints to reflect real-life setting.\n",
        "\n",
        "Please mainly focus on the file *'predictedSales_Prob1.csv'* since you will get to see the same model as Module_1A. You can also try *'predictedSales_Prob2.csv'* if you are interested to see the large-scale model.\n",
        "\n",
        "In order to read the input, we provide two options here. Please run only either option 1 or option 2 (not both).\n",
        "\n",
        "**Option 1: Google Drive (recommended)**. You can read the file you have previously generated directly from there. \n",
        "\n",
        "If for some reason, it does not work (in particular if you haven't generated that output file yet). You can choose to do option 2 or replace the line \n",
        "\n",
        "*predDemand = pandas.read_csv(cwd +'predictedSales_Prob1.csv')*\n",
        "\n",
        "by the line below it (see the comment in the cell below).\n",
        "\n"
      ]
    },
    {
      "cell_type": "code",
      "metadata": {
        "id": "vxk0SKB7eM70",
        "colab_type": "code",
        "outputId": "eba7ca10-f380-49f1-d2a1-67797da3931e",
        "colab": {
          "base_uri": "https://localhost:8080/",
          "height": 438
        }
      },
      "source": [
        "from google.colab import drive\n",
        "drive.mount('/content/drive')\n",
        "cwd = '/content/drive/My Drive/'\n",
        "\n",
        "import pandas\n",
        "predDemand = pandas.read_csv(cwd +'predictedSales_Prob1.csv')\n",
        "\n",
        "# If the line above does not work, it could be because you haven't sucessfully generted the file using the predictive model. \n",
        "# In that case, you can replace the line above using the one below.\n",
        "# predDemand = pandas.read_csv(https://raw.githubusercontent.com/acedesci/scanalytics/master/S8_9_retail_analytics/predictedSales_Prob1.csv)\n",
        "\n",
        "# Dataset is now stored in a Pandas Dataframe predDemand\n",
        "predDemand"
      ],
      "execution_count": 2,
      "outputs": [
        {
          "output_type": "stream",
          "text": [
            "Drive already mounted at /content/drive; to attempt to forcibly remount, call drive.mount(\"/content/drive\", force_remount=True).\n"
          ],
          "name": "stdout"
        },
        {
          "output_type": "execute_result",
          "data": {
            "text/html": [
              "<div>\n",
              "<style scoped>\n",
              "    .dataframe tbody tr th:only-of-type {\n",
              "        vertical-align: middle;\n",
              "    }\n",
              "\n",
              "    .dataframe tbody tr th {\n",
              "        vertical-align: top;\n",
              "    }\n",
              "\n",
              "    .dataframe thead th {\n",
              "        text-align: right;\n",
              "    }\n",
              "</style>\n",
              "<table border=\"1\" class=\"dataframe\">\n",
              "  <thead>\n",
              "    <tr style=\"text-align: right;\">\n",
              "      <th></th>\n",
              "      <th>Unnamed: 0</th>\n",
              "      <th>Unnamed: 0.1</th>\n",
              "      <th>avgPriceChoice</th>\n",
              "      <th>UPC</th>\n",
              "      <th>PRICE</th>\n",
              "      <th>PRICE_p2</th>\n",
              "      <th>FEATURE</th>\n",
              "      <th>DISPLAY</th>\n",
              "      <th>TPR_ONLY</th>\n",
              "      <th>RELPRICE</th>\n",
              "      <th>predictSales</th>\n",
              "    </tr>\n",
              "  </thead>\n",
              "  <tbody>\n",
              "    <tr>\n",
              "      <th>0</th>\n",
              "      <td>0</td>\n",
              "      <td>0</td>\n",
              "      <td>3.0</td>\n",
              "      <td>1600027528</td>\n",
              "      <td>2.5</td>\n",
              "      <td>6.25</td>\n",
              "      <td>0</td>\n",
              "      <td>0</td>\n",
              "      <td>0</td>\n",
              "      <td>0.833333</td>\n",
              "      <td>94.9</td>\n",
              "    </tr>\n",
              "    <tr>\n",
              "      <th>1</th>\n",
              "      <td>1</td>\n",
              "      <td>1</td>\n",
              "      <td>3.0</td>\n",
              "      <td>1600027528</td>\n",
              "      <td>3.0</td>\n",
              "      <td>9.00</td>\n",
              "      <td>0</td>\n",
              "      <td>0</td>\n",
              "      <td>0</td>\n",
              "      <td>1.000000</td>\n",
              "      <td>67.0</td>\n",
              "    </tr>\n",
              "    <tr>\n",
              "      <th>2</th>\n",
              "      <td>2</td>\n",
              "      <td>2</td>\n",
              "      <td>3.0</td>\n",
              "      <td>1600027528</td>\n",
              "      <td>3.5</td>\n",
              "      <td>12.25</td>\n",
              "      <td>0</td>\n",
              "      <td>0</td>\n",
              "      <td>0</td>\n",
              "      <td>1.166667</td>\n",
              "      <td>46.4</td>\n",
              "    </tr>\n",
              "    <tr>\n",
              "      <th>3</th>\n",
              "      <td>3</td>\n",
              "      <td>3</td>\n",
              "      <td>3.0</td>\n",
              "      <td>1600027564</td>\n",
              "      <td>2.5</td>\n",
              "      <td>6.25</td>\n",
              "      <td>0</td>\n",
              "      <td>0</td>\n",
              "      <td>0</td>\n",
              "      <td>0.833333</td>\n",
              "      <td>24.1</td>\n",
              "    </tr>\n",
              "    <tr>\n",
              "      <th>4</th>\n",
              "      <td>4</td>\n",
              "      <td>4</td>\n",
              "      <td>3.0</td>\n",
              "      <td>1600027564</td>\n",
              "      <td>3.0</td>\n",
              "      <td>9.00</td>\n",
              "      <td>0</td>\n",
              "      <td>0</td>\n",
              "      <td>0</td>\n",
              "      <td>1.000000</td>\n",
              "      <td>22.6</td>\n",
              "    </tr>\n",
              "    <tr>\n",
              "      <th>5</th>\n",
              "      <td>5</td>\n",
              "      <td>5</td>\n",
              "      <td>3.0</td>\n",
              "      <td>1600027564</td>\n",
              "      <td>3.5</td>\n",
              "      <td>12.25</td>\n",
              "      <td>0</td>\n",
              "      <td>0</td>\n",
              "      <td>0</td>\n",
              "      <td>1.166667</td>\n",
              "      <td>19.8</td>\n",
              "    </tr>\n",
              "    <tr>\n",
              "      <th>6</th>\n",
              "      <td>6</td>\n",
              "      <td>6</td>\n",
              "      <td>3.0</td>\n",
              "      <td>3000006340</td>\n",
              "      <td>2.5</td>\n",
              "      <td>6.25</td>\n",
              "      <td>0</td>\n",
              "      <td>0</td>\n",
              "      <td>0</td>\n",
              "      <td>0.833333</td>\n",
              "      <td>6.2</td>\n",
              "    </tr>\n",
              "    <tr>\n",
              "      <th>7</th>\n",
              "      <td>7</td>\n",
              "      <td>7</td>\n",
              "      <td>3.0</td>\n",
              "      <td>3000006340</td>\n",
              "      <td>3.0</td>\n",
              "      <td>9.00</td>\n",
              "      <td>0</td>\n",
              "      <td>0</td>\n",
              "      <td>0</td>\n",
              "      <td>1.000000</td>\n",
              "      <td>4.0</td>\n",
              "    </tr>\n",
              "    <tr>\n",
              "      <th>8</th>\n",
              "      <td>8</td>\n",
              "      <td>8</td>\n",
              "      <td>3.0</td>\n",
              "      <td>3000006340</td>\n",
              "      <td>3.5</td>\n",
              "      <td>12.25</td>\n",
              "      <td>0</td>\n",
              "      <td>0</td>\n",
              "      <td>0</td>\n",
              "      <td>1.166667</td>\n",
              "      <td>3.0</td>\n",
              "    </tr>\n",
              "    <tr>\n",
              "      <th>9</th>\n",
              "      <td>9</td>\n",
              "      <td>9</td>\n",
              "      <td>3.0</td>\n",
              "      <td>3800031829</td>\n",
              "      <td>2.5</td>\n",
              "      <td>6.25</td>\n",
              "      <td>0</td>\n",
              "      <td>0</td>\n",
              "      <td>0</td>\n",
              "      <td>0.833333</td>\n",
              "      <td>32.9</td>\n",
              "    </tr>\n",
              "    <tr>\n",
              "      <th>10</th>\n",
              "      <td>10</td>\n",
              "      <td>10</td>\n",
              "      <td>3.0</td>\n",
              "      <td>3800031829</td>\n",
              "      <td>3.0</td>\n",
              "      <td>9.00</td>\n",
              "      <td>0</td>\n",
              "      <td>0</td>\n",
              "      <td>0</td>\n",
              "      <td>1.000000</td>\n",
              "      <td>24.3</td>\n",
              "    </tr>\n",
              "    <tr>\n",
              "      <th>11</th>\n",
              "      <td>11</td>\n",
              "      <td>11</td>\n",
              "      <td>3.0</td>\n",
              "      <td>3800031829</td>\n",
              "      <td>3.5</td>\n",
              "      <td>12.25</td>\n",
              "      <td>0</td>\n",
              "      <td>0</td>\n",
              "      <td>0</td>\n",
              "      <td>1.166667</td>\n",
              "      <td>20.4</td>\n",
              "    </tr>\n",
              "  </tbody>\n",
              "</table>\n",
              "</div>"
            ],
            "text/plain": [
              "    Unnamed: 0  Unnamed: 0.1  avgPriceChoice  ...  TPR_ONLY  RELPRICE  predictSales\n",
              "0            0             0             3.0  ...         0  0.833333          94.9\n",
              "1            1             1             3.0  ...         0  1.000000          67.0\n",
              "2            2             2             3.0  ...         0  1.166667          46.4\n",
              "3            3             3             3.0  ...         0  0.833333          24.1\n",
              "4            4             4             3.0  ...         0  1.000000          22.6\n",
              "5            5             5             3.0  ...         0  1.166667          19.8\n",
              "6            6             6             3.0  ...         0  0.833333           6.2\n",
              "7            7             7             3.0  ...         0  1.000000           4.0\n",
              "8            8             8             3.0  ...         0  1.166667           3.0\n",
              "9            9             9             3.0  ...         0  0.833333          32.9\n",
              "10          10            10             3.0  ...         0  1.000000          24.3\n",
              "11          11            11             3.0  ...         0  1.166667          20.4\n",
              "\n",
              "[12 rows x 11 columns]"
            ]
          },
          "metadata": {
            "tags": []
          },
          "execution_count": 2
        }
      ]
    },
    {
      "cell_type": "markdown",
      "metadata": {
        "id": "AQ_g94JzHxGt",
        "colab_type": "text"
      },
      "source": [
        "**Option 2: Read the file directly from your drive.** You can upload the file from you PC. In this option, you must already download the file *predictedSales_Prob1.csv* from Zonecours and save to your PC. Then you can upload it using the codes in the block below. After running the cell, click on \"Choose Files\" to upload it."
      ]
    },
    {
      "cell_type": "code",
      "metadata": {
        "id": "GEC1DsIQI5Ob",
        "colab_type": "code",
        "colab": {
          "resources": {
            "http://localhost:8080/nbextensions/google.colab/files.js": {
              "data": "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",
              "ok": true,
              "headers": [
                [
                  "content-type",
                  "application/javascript"
                ]
              ],
              "status": 200,
              "status_text": ""
            }
          },
          "base_uri": "https://localhost:8080/",
          "height": 255
        },
        "outputId": "725dd208-a76c-4016-9009-83be7f97272e"
      },
      "source": [
        "from google.colab import files\n",
        "uploaded = files.upload()\n",
        "\n",
        "import io\n",
        "import pandas\n",
        "predDemand = pandas.read_csv(io.BytesIO(uploaded['predictedSales_Prob1.csv']))\n",
        "\n",
        "# Dataset is now stored in a Pandas Dataframe predDemand\n",
        "predDemand"
      ],
      "execution_count": 3,
      "outputs": [
        {
          "output_type": "display_data",
          "data": {
            "text/html": [
              "\n",
              "     <input type=\"file\" id=\"files-699d092f-1c16-4900-a6c7-9f58ec251b8f\" name=\"files[]\" multiple disabled />\n",
              "     <output id=\"result-699d092f-1c16-4900-a6c7-9f58ec251b8f\">\n",
              "      Upload widget is only available when the cell has been executed in the\n",
              "      current browser session. Please rerun this cell to enable.\n",
              "      </output>\n",
              "      <script src=\"/nbextensions/google.colab/files.js\"></script> "
            ],
            "text/plain": [
              "<IPython.core.display.HTML object>"
            ]
          },
          "metadata": {
            "tags": []
          }
        },
        {
          "output_type": "error",
          "ename": "KeyError",
          "evalue": "ignored",
          "traceback": [
            "\u001b[0;31m---------------------------------------------------------------------------\u001b[0m",
            "\u001b[0;31mKeyError\u001b[0m                                  Traceback (most recent call last)",
            "\u001b[0;32m<ipython-input-3-3aaeea0aff96>\u001b[0m in \u001b[0;36m<module>\u001b[0;34m()\u001b[0m\n\u001b[1;32m      4\u001b[0m \u001b[0;32mimport\u001b[0m \u001b[0mio\u001b[0m\u001b[0;34m\u001b[0m\u001b[0;34m\u001b[0m\u001b[0m\n\u001b[1;32m      5\u001b[0m \u001b[0;32mimport\u001b[0m \u001b[0mpandas\u001b[0m\u001b[0;34m\u001b[0m\u001b[0;34m\u001b[0m\u001b[0m\n\u001b[0;32m----> 6\u001b[0;31m \u001b[0mpredDemand\u001b[0m \u001b[0;34m=\u001b[0m \u001b[0mpandas\u001b[0m\u001b[0;34m.\u001b[0m\u001b[0mread_csv\u001b[0m\u001b[0;34m(\u001b[0m\u001b[0mio\u001b[0m\u001b[0;34m.\u001b[0m\u001b[0mBytesIO\u001b[0m\u001b[0;34m(\u001b[0m\u001b[0muploaded\u001b[0m\u001b[0;34m[\u001b[0m\u001b[0;34m'predictedSales_Prob1.csv'\u001b[0m\u001b[0;34m]\u001b[0m\u001b[0;34m)\u001b[0m\u001b[0;34m)\u001b[0m\u001b[0;34m\u001b[0m\u001b[0;34m\u001b[0m\u001b[0m\n\u001b[0m\u001b[1;32m      7\u001b[0m \u001b[0;34m\u001b[0m\u001b[0m\n\u001b[1;32m      8\u001b[0m \u001b[0;31m# Dataset is now stored in a Pandas Dataframe predDemand\u001b[0m\u001b[0;34m\u001b[0m\u001b[0;34m\u001b[0m\u001b[0;34m\u001b[0m\u001b[0m\n",
            "\u001b[0;31mKeyError\u001b[0m: 'predictedSales_Prob1.csv'"
          ]
        }
      ]
    },
    {
      "cell_type": "markdown",
      "metadata": {
        "id": "XXitxH0IAipU",
        "colab_type": "text"
      },
      "source": [
        "With the new dataset, we first need to check how many average price values are there because we need to run the optimization model for each value of the average price."
      ]
    },
    {
      "cell_type": "code",
      "metadata": {
        "id": "scZFGWSlDi3L",
        "colab_type": "code",
        "outputId": "3ac9291c-4c02-408a-97b3-60785732ff74",
        "colab": {
          "base_uri": "https://localhost:8080/",
          "height": 34
        }
      },
      "source": [
        "avgPriceList = predDemand['avgPriceChoice'].unique()\n",
        "inputColumns = ['avgPriceChoice', 'UPC', 'PRICE','predictSales']\n",
        "print(\"Possible average price choices (k/N.Product):\"+str(avgPriceList))\n"
      ],
      "execution_count": 4,
      "outputs": [
        {
          "output_type": "stream",
          "text": [
            "Possible average price choices (k/N.Product):[3.]\n"
          ],
          "name": "stdout"
        }
      ]
    },
    {
      "cell_type": "markdown",
      "metadata": {
        "id": "eoePE7clILkZ",
        "colab_type": "text"
      },
      "source": [
        "We can choose which value of $k$ we want to use in the optimization model from the *avgPriceChoice* we have in the dataset. In *'predictedSales_Prob1.csv'*, there is only one average prince choice at $3.0 whereas in *'predictedSales_Prob2.csv'* there are 4 different price choices you can choose form. \n",
        "\n",
        "If you want to try different average price choices, we would need to repeat this procedure for each average price value and record the corresponding optimal solution to decide how each product should be priced and at which average price level to generate the optimal revenue."
      ]
    },
    {
      "cell_type": "code",
      "metadata": {
        "id": "gl0TFiFZ8usK",
        "colab_type": "code",
        "outputId": "b3225427-6089-4168-80cc-d27a3722c126",
        "colab": {
          "base_uri": "https://localhost:8080/",
          "height": 292
        }
      },
      "source": [
        "# Nere we choose which value of k (avgPriceValue x N. of products) we would like to use in the model \n",
        "# Note that k must be among the choices where the prediction has been prepared\n",
        "avgPriceValue =  avgPriceList[0] \n",
        "\n",
        "# Now we select only the row which corresponds to the previously chosen value of avgPriceValue (again k = avgPriceValue x N. of products)\n",
        "predDemand_k = predDemand.loc[predDemand['avgPriceChoice'] == avgPriceValue][inputColumns]\n",
        "print(predDemand_k)\n",
        "productList = predDemand['UPC'].unique()\n",
        "priceList = predDemand['PRICE'].unique()\n",
        "\n",
        "# Here we prepare the dictionary to be used in the optimization model\n",
        "p = {}\n",
        "D = {}\n",
        "\n",
        "for upc in productList:\n",
        "  for price in priceList:\n",
        "    p[(upc,price)] = price\n",
        "    D[(upc,price)] = predDemand_k.loc[(predDemand['UPC'] == upc) & (predDemand_k['PRICE'] == price)]['predictSales'].values[0]\n",
        "\n",
        "print(p)\n",
        "print(D)"
      ],
      "execution_count": 5,
      "outputs": [
        {
          "output_type": "stream",
          "text": [
            "    avgPriceChoice         UPC  PRICE  predictSales\n",
            "0              3.0  1600027528    2.5          94.9\n",
            "1              3.0  1600027528    3.0          67.0\n",
            "2              3.0  1600027528    3.5          46.4\n",
            "3              3.0  1600027564    2.5          24.1\n",
            "4              3.0  1600027564    3.0          22.6\n",
            "5              3.0  1600027564    3.5          19.8\n",
            "6              3.0  3000006340    2.5           6.2\n",
            "7              3.0  3000006340    3.0           4.0\n",
            "8              3.0  3000006340    3.5           3.0\n",
            "9              3.0  3800031829    2.5          32.9\n",
            "10             3.0  3800031829    3.0          24.3\n",
            "11             3.0  3800031829    3.5          20.4\n",
            "{(1600027528, 2.5): 2.5, (1600027528, 3.0): 3.0, (1600027528, 3.5): 3.5, (1600027564, 2.5): 2.5, (1600027564, 3.0): 3.0, (1600027564, 3.5): 3.5, (3000006340, 2.5): 2.5, (3000006340, 3.0): 3.0, (3000006340, 3.5): 3.5, (3800031829, 2.5): 2.5, (3800031829, 3.0): 3.0, (3800031829, 3.5): 3.5}\n",
            "{(1600027528, 2.5): 94.9, (1600027528, 3.0): 67.0, (1600027528, 3.5): 46.4, (1600027564, 2.5): 24.1, (1600027564, 3.0): 22.6, (1600027564, 3.5): 19.8, (3000006340, 2.5): 6.2, (3000006340, 3.0): 4.0, (3000006340, 3.5): 3.0, (3800031829, 2.5): 32.9, (3800031829, 3.0): 24.3, (3800031829, 3.5): 20.4}\n"
          ],
          "name": "stdout"
        }
      ]
    },
    {
      "cell_type": "markdown",
      "metadata": {
        "id": "6HzvgED5Ltkk",
        "colab_type": "text"
      },
      "source": [
        "# Block 2: Create an optimization model\n",
        "\n",
        "### Block 2.1: Variable declarations\n",
        "\n",
        "Unlike the first part of today's session, we index the decision variables and demand parameters by the product and the price themselves rather than their index. Indeed, we previously denoted $x_{ij}=1$ if the price option $j$ is chosen for product $i$, and 0 otherwise. Now, our variable is denoted by $x_{1600027528,\\ 3.0}=1$, which means that product UPC '1600027528' will be sold at 3.0 dollars. The same notational remark applies to predicted demand ($D_{ijk}$) for the sum of prices $k$ and price ($p_{ij}$) parameters. We can declare the constraint sets first (model.PriceChoiceUPC, model.sumPrice) and then **add** the constraint functions later."
      ]
    },
    {
      "cell_type": "code",
      "metadata": {
        "id": "AeKxRrnufnyo",
        "colab_type": "code",
        "outputId": "71e24c51-56e1-4c4c-f8c6-15b5a0a80c80",
        "colab": {
          "base_uri": "https://localhost:8080/",
          "height": 612
        }
      },
      "source": [
        "from pyomo.environ import *\n",
        "\n",
        "iIndexList = list(range(len(productList)))\n",
        "jIndexList = list(range(len(priceList)))\n",
        "\n",
        "model = ConcreteModel()\n",
        "# Variables\n",
        "model.x = Var(productList, priceList, within = Binary)\n",
        "\n",
        "# Constraints\n",
        "model.PriceChoiceUPC = ConstraintList()\n",
        "model.sumPrice = ConstraintList()\n",
        "\n",
        "# Print to review the model (equations are still not included)\n",
        "model.pprint()"
      ],
      "execution_count": 6,
      "outputs": [
        {
          "output_type": "stream",
          "text": [
            "5 Set Declarations\n",
            "    PriceChoiceUPC_index : Dim=0, Dimen=1, Size=0, Domain=None, Ordered=False, Bounds=None\n",
            "        []\n",
            "    sumPrice_index : Dim=0, Dimen=1, Size=0, Domain=None, Ordered=False, Bounds=None\n",
            "        []\n",
            "    x_index : Dim=0, Dimen=2, Size=12, Domain=None, Ordered=False, Bounds=None\n",
            "        Virtual\n",
            "    x_index_0 : Dim=0, Dimen=1, Size=4, Domain=None, Ordered=False, Bounds=(1600027528, 3800031829)\n",
            "        [1600027528, 1600027564, 3000006340, 3800031829]\n",
            "    x_index_1 : Dim=0, Dimen=1, Size=3, Domain=None, Ordered=False, Bounds=(2.5, 3.5)\n",
            "        [2.5, 3.0, 3.5]\n",
            "\n",
            "1 Var Declarations\n",
            "    x : Size=12, Index=x_index\n",
            "        Key               : Lower : Value : Upper : Fixed : Stale : Domain\n",
            "        (1600027528, 2.5) :     0 :  None :     1 : False :  True : Binary\n",
            "        (1600027528, 3.0) :     0 :  None :     1 : False :  True : Binary\n",
            "        (1600027528, 3.5) :     0 :  None :     1 : False :  True : Binary\n",
            "        (1600027564, 2.5) :     0 :  None :     1 : False :  True : Binary\n",
            "        (1600027564, 3.0) :     0 :  None :     1 : False :  True : Binary\n",
            "        (1600027564, 3.5) :     0 :  None :     1 : False :  True : Binary\n",
            "        (3000006340, 2.5) :     0 :  None :     1 : False :  True : Binary\n",
            "        (3000006340, 3.0) :     0 :  None :     1 : False :  True : Binary\n",
            "        (3000006340, 3.5) :     0 :  None :     1 : False :  True : Binary\n",
            "        (3800031829, 2.5) :     0 :  None :     1 : False :  True : Binary\n",
            "        (3800031829, 3.0) :     0 :  None :     1 : False :  True : Binary\n",
            "        (3800031829, 3.5) :     0 :  None :     1 : False :  True : Binary\n",
            "\n",
            "2 Constraint Declarations\n",
            "    PriceChoiceUPC : Size=0, Index=PriceChoiceUPC_index, Active=True\n",
            "        Key : Lower : Body : Upper : Active\n",
            "    sumPrice : Size=0, Index=sumPrice_index, Active=True\n",
            "        Key : Lower : Body : Upper : Active\n",
            "\n",
            "8 Declarations: x_index_0 x_index_1 x_index x PriceChoiceUPC_index PriceChoiceUPC sumPrice_index sumPrice\n"
          ],
          "name": "stdout"
        }
      ]
    },
    {
      "cell_type": "markdown",
      "metadata": {
        "id": "0IdAKFZzPbOJ",
        "colab_type": "text"
      },
      "source": [
        "### Block 2.2: Adding the objective function\n",
        "\n",
        "Instead of iteratively entering the value for each price and predicted sales, we can simply create a loop **for** each product and a loop **for** each price. The code now looks very much like the general equation $\\sum_{i} \\sum_{j} p_{ij} \\cdot D_{ijk} \\cdot x_{ij}$ we saw in the first part of today's session with some minor changes for notational simplification."
      ]
    },
    {
      "cell_type": "code",
      "metadata": {
        "id": "RY6Vi1TE5ztC",
        "colab_type": "code",
        "outputId": "83f109aa-fb57-4bd5-dd2a-fcc37a26e3e7",
        "colab": {
          "base_uri": "https://localhost:8080/",
          "height": 54
        }
      },
      "source": [
        "# Objective function\n",
        "\n",
        "obj_expr = sum(p[(i,j)]*D[(i,j)]*model.x[i,j] for i in productList for j in priceList) \n",
        "print(obj_expr)\n",
        "model.OBJ = Objective(expr = obj_expr, sense = maximize)"
      ],
      "execution_count": 7,
      "outputs": [
        {
          "output_type": "stream",
          "text": [
            "237.25*x[1600027528,2.5] + 201.0*x[1600027528,3.0] + 162.4*x[1600027528,3.5] + 60.25*x[1600027564,2.5] + 67.80000000000001*x[1600027564,3.0] + 69.3*x[1600027564,3.5] + 15.5*x[3000006340,2.5] + 12.0*x[3000006340,3.0] + 10.5*x[3000006340,3.5] + 82.25*x[3800031829,2.5] + 72.9*x[3800031829,3.0] + 71.39999999999999*x[3800031829,3.5]\n"
          ],
          "name": "stdout"
        }
      ]
    },
    {
      "cell_type": "markdown",
      "metadata": {
        "id": "y2TOnlIlQfNq",
        "colab_type": "text"
      },
      "source": [
        "### Block 2.3: Adding constraints\n",
        "\n",
        "**Constraint 1: One price choice must be selected for each product**\n",
        "\n",
        "Similarly, we can create a loop to **add** constraint functions to the constraint set **for** each product to ensure that only one price on the list is selected for that product. Unlike the first part of today's session, we need not iteratively type each constraint."
      ]
    },
    {
      "cell_type": "code",
      "metadata": {
        "id": "_-J1E9CayDY-",
        "colab_type": "code",
        "outputId": "b4813a60-8315-4381-d5f3-afeca485cbc1",
        "colab": {
          "base_uri": "https://localhost:8080/",
          "height": 85
        }
      },
      "source": [
        "# Constraints #1\n",
        "for i in productList:\n",
        "  const1_expr = sum(model.x[i,j] for j in priceList) == 1 \n",
        "  print(const1_expr)\n",
        "  model.PriceChoiceUPC.add(expr = const1_expr)\n"
      ],
      "execution_count": 8,
      "outputs": [
        {
          "output_type": "stream",
          "text": [
            "x[1600027528,2.5] + x[1600027528,3.0] + x[1600027528,3.5]  ==  1.0\n",
            "x[1600027564,2.5] + x[1600027564,3.0] + x[1600027564,3.5]  ==  1.0\n",
            "x[3000006340,2.5] + x[3000006340,3.0] + x[3000006340,3.5]  ==  1.0\n",
            "x[3800031829,2.5] + x[3800031829,3.0] + x[3800031829,3.5]  ==  1.0\n"
          ],
          "name": "stdout"
        }
      ]
    },
    {
      "cell_type": "markdown",
      "metadata": {
        "id": "gpCWig8MUBAZ",
        "colab_type": "text"
      },
      "source": [
        "**Constraint 2: The sum of the prices of all products must equal $k$**\n",
        "\n",
        "Similar **for** loops apply to the average price constraint. Please refer to the first part of today's session for detailed elaboration."
      ]
    },
    {
      "cell_type": "code",
      "metadata": {
        "id": "prKy0fAE6hTd",
        "colab_type": "code",
        "outputId": "2d3270fa-7c0e-44c7-c56e-c9d0c1879bf4",
        "colab": {
          "base_uri": "https://localhost:8080/",
          "height": 71
        }
      },
      "source": [
        "# Constraints #2\n",
        "const2_expr = sum(p[i,j]*model.x[i,j] for i in productList for j in priceList) == avgPriceValue*len(productList) \n",
        "print(const2_expr)\n",
        "model.sumPrice.add(expr = const2_expr)\n",
        "\n"
      ],
      "execution_count": 9,
      "outputs": [
        {
          "output_type": "stream",
          "text": [
            "2.5*x[1600027528,2.5] + 3.0*x[1600027528,3.0] + 3.5*x[1600027528,3.5] + 2.5*x[1600027564,2.5] + 3.0*x[1600027564,3.0] + 3.5*x[1600027564,3.5] + 2.5*x[3000006340,2.5] + 3.0*x[3000006340,3.0] + 3.5*x[3000006340,3.5] + 2.5*x[3800031829,2.5] + 3.0*x[3800031829,3.0] + 3.5*x[3800031829,3.5]  ==  12.0\n"
          ],
          "name": "stdout"
        },
        {
          "output_type": "execute_result",
          "data": {
            "text/plain": [
              "<pyomo.core.base.constraint._GeneralConstraintData at 0x7f6fcf6c1be8>"
            ]
          },
          "metadata": {
            "tags": []
          },
          "execution_count": 9
        }
      ]
    },
    {
      "cell_type": "markdown",
      "metadata": {
        "id": "s_rfW16pVt4d",
        "colab_type": "text"
      },
      "source": [
        "We can print the model to review prior to solving it."
      ]
    },
    {
      "cell_type": "code",
      "metadata": {
        "id": "K_z-vhR_VtJ2",
        "colab_type": "code",
        "colab": {
          "base_uri": "https://localhost:8080/",
          "height": 802
        },
        "outputId": "964abdf5-1847-4177-e8dc-4bf612131b24"
      },
      "source": [
        "model.pprint()"
      ],
      "execution_count": 10,
      "outputs": [
        {
          "output_type": "stream",
          "text": [
            "5 Set Declarations\n",
            "    PriceChoiceUPC_index : Dim=0, Dimen=1, Size=4, Domain=None, Ordered=False, Bounds=None\n",
            "        [1, 2, 3, 4]\n",
            "    sumPrice_index : Dim=0, Dimen=1, Size=1, Domain=None, Ordered=False, Bounds=None\n",
            "        [1]\n",
            "    x_index : Dim=0, Dimen=2, Size=12, Domain=None, Ordered=False, Bounds=None\n",
            "        Virtual\n",
            "    x_index_0 : Dim=0, Dimen=1, Size=4, Domain=None, Ordered=False, Bounds=(1600027528, 3800031829)\n",
            "        [1600027528, 1600027564, 3000006340, 3800031829]\n",
            "    x_index_1 : Dim=0, Dimen=1, Size=3, Domain=None, Ordered=False, Bounds=(2.5, 3.5)\n",
            "        [2.5, 3.0, 3.5]\n",
            "\n",
            "1 Var Declarations\n",
            "    x : Size=12, Index=x_index\n",
            "        Key               : Lower : Value : Upper : Fixed : Stale : Domain\n",
            "        (1600027528, 2.5) :     0 :  None :     1 : False :  True : Binary\n",
            "        (1600027528, 3.0) :     0 :  None :     1 : False :  True : Binary\n",
            "        (1600027528, 3.5) :     0 :  None :     1 : False :  True : Binary\n",
            "        (1600027564, 2.5) :     0 :  None :     1 : False :  True : Binary\n",
            "        (1600027564, 3.0) :     0 :  None :     1 : False :  True : Binary\n",
            "        (1600027564, 3.5) :     0 :  None :     1 : False :  True : Binary\n",
            "        (3000006340, 2.5) :     0 :  None :     1 : False :  True : Binary\n",
            "        (3000006340, 3.0) :     0 :  None :     1 : False :  True : Binary\n",
            "        (3000006340, 3.5) :     0 :  None :     1 : False :  True : Binary\n",
            "        (3800031829, 2.5) :     0 :  None :     1 : False :  True : Binary\n",
            "        (3800031829, 3.0) :     0 :  None :     1 : False :  True : Binary\n",
            "        (3800031829, 3.5) :     0 :  None :     1 : False :  True : Binary\n",
            "\n",
            "1 Objective Declarations\n",
            "    OBJ : Size=1, Index=None, Active=True\n",
            "        Key  : Active : Sense    : Expression\n",
            "        None :   True : maximize : 237.25*x[1600027528,2.5] + 201.0*x[1600027528,3.0] + 162.4*x[1600027528,3.5] + 60.25*x[1600027564,2.5] + 67.80000000000001*x[1600027564,3.0] + 69.3*x[1600027564,3.5] + 15.5*x[3000006340,2.5] + 12.0*x[3000006340,3.0] + 10.5*x[3000006340,3.5] + 82.25*x[3800031829,2.5] + 72.9*x[3800031829,3.0] + 71.39999999999999*x[3800031829,3.5]\n",
            "\n",
            "2 Constraint Declarations\n",
            "    PriceChoiceUPC : Size=4, Index=PriceChoiceUPC_index, Active=True\n",
            "        Key : Lower : Body                                                      : Upper : Active\n",
            "          1 :   1.0 : x[1600027528,2.5] + x[1600027528,3.0] + x[1600027528,3.5] :   1.0 :   True\n",
            "          2 :   1.0 : x[1600027564,2.5] + x[1600027564,3.0] + x[1600027564,3.5] :   1.0 :   True\n",
            "          3 :   1.0 : x[3000006340,2.5] + x[3000006340,3.0] + x[3000006340,3.5] :   1.0 :   True\n",
            "          4 :   1.0 : x[3800031829,2.5] + x[3800031829,3.0] + x[3800031829,3.5] :   1.0 :   True\n",
            "    sumPrice : Size=1, Index=sumPrice_index, Active=True\n",
            "        Key : Lower : Body                                                                                                                                                                                                                                                                                          : Upper : Active\n",
            "          1 :  12.0 : 2.5*x[1600027528,2.5] + 3.0*x[1600027528,3.0] + 3.5*x[1600027528,3.5] + 2.5*x[1600027564,2.5] + 3.0*x[1600027564,3.0] + 3.5*x[1600027564,3.5] + 2.5*x[3000006340,2.5] + 3.0*x[3000006340,3.0] + 3.5*x[3000006340,3.5] + 2.5*x[3800031829,2.5] + 3.0*x[3800031829,3.0] + 3.5*x[3800031829,3.5] :  12.0 :   True\n",
            "\n",
            "9 Declarations: x_index_0 x_index_1 x_index x PriceChoiceUPC_index PriceChoiceUPC sumPrice_index sumPrice OBJ\n"
          ],
          "name": "stdout"
        }
      ]
    },
    {
      "cell_type": "markdown",
      "metadata": {
        "colab_type": "text",
        "id": "nUyWYe7wCj8q"
      },
      "source": [
        "# Block 4: Solution and results"
      ]
    },
    {
      "cell_type": "markdown",
      "metadata": {
        "id": "fB0r8jsxciFN",
        "colab_type": "text"
      },
      "source": [
        "Finally, we call the solver and obtain the optimal solution. We can see that product '1600027528' is also sold at price $\\$2.5$, products '1600027564' and '3000006340' both  at price $\\$3.5$ and product '3800031829' at price $\\$2.5$, but the optimal objective value is now $\\$399.3$. The objective function value is slightly different from the Module_2A but the solution (values of $x$) is the same. This is due to the fact that we keep more digits in this example."
      ]
    },
    {
      "cell_type": "code",
      "metadata": {
        "id": "a0KA-DNX8RqA",
        "colab_type": "code",
        "outputId": "7f4ceaa7-255f-4fc8-fc78-578e080010c5",
        "colab": {
          "base_uri": "https://localhost:8080/",
          "height": 578
        }
      },
      "source": [
        "# Solve the model\n",
        "opt = SolverFactory('glpk')\n",
        "opt.solve(model) \n",
        "\n",
        "model.display()"
      ],
      "execution_count": 11,
      "outputs": [
        {
          "output_type": "stream",
          "text": [
            "Model unknown\n",
            "\n",
            "  Variables:\n",
            "    x : Size=12, Index=x_index\n",
            "        Key               : Lower : Value : Upper : Fixed : Stale : Domain\n",
            "        (1600027528, 2.5) :     0 :   1.0 :     1 : False : False : Binary\n",
            "        (1600027528, 3.0) :     0 :   0.0 :     1 : False : False : Binary\n",
            "        (1600027528, 3.5) :     0 :   0.0 :     1 : False : False : Binary\n",
            "        (1600027564, 2.5) :     0 :   0.0 :     1 : False : False : Binary\n",
            "        (1600027564, 3.0) :     0 :   0.0 :     1 : False : False : Binary\n",
            "        (1600027564, 3.5) :     0 :   1.0 :     1 : False : False : Binary\n",
            "        (3000006340, 2.5) :     0 :   0.0 :     1 : False : False : Binary\n",
            "        (3000006340, 3.0) :     0 :   0.0 :     1 : False : False : Binary\n",
            "        (3000006340, 3.5) :     0 :   1.0 :     1 : False : False : Binary\n",
            "        (3800031829, 2.5) :     0 :   1.0 :     1 : False : False : Binary\n",
            "        (3800031829, 3.0) :     0 :   0.0 :     1 : False : False : Binary\n",
            "        (3800031829, 3.5) :     0 :   0.0 :     1 : False : False : Binary\n",
            "\n",
            "  Objectives:\n",
            "    OBJ : Size=1, Index=None, Active=True\n",
            "        Key  : Active : Value\n",
            "        None :   True : 399.3\n",
            "\n",
            "  Constraints:\n",
            "    PriceChoiceUPC : Size=4\n",
            "        Key : Lower : Body : Upper\n",
            "          1 :   1.0 :  1.0 :   1.0\n",
            "          2 :   1.0 :  1.0 :   1.0\n",
            "          3 :   1.0 :  1.0 :   1.0\n",
            "          4 :   1.0 :  1.0 :   1.0\n",
            "    sumPrice : Size=1\n",
            "        Key : Lower : Body : Upper\n",
            "          1 :  12.0 : 12.0 :  12.0\n"
          ],
          "name": "stdout"
        }
      ]
    }
  ]
}