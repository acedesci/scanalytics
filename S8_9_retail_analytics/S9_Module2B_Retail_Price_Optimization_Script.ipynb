{
  "nbformat": 4,
  "nbformat_minor": 0,
  "metadata": {
    "colab": {
      "name": "S9_Module2B_Retail_Price_Optimization_Script.ipynb",
      "provenance": [],
      "collapsed_sections": [],
      "include_colab_link": true
    },
    "kernelspec": {
      "name": "python3",
      "display_name": "Python 3"
    }
  },
  "cells": [
    {
      "cell_type": "markdown",
      "metadata": {
        "id": "view-in-github",
        "colab_type": "text"
      },
      "source": [
        "<a href=\"https://colab.research.google.com/github/acedesci/scanalytics/blob/master/S8_9_retail_analytics/S9_Module2B_Retail_Price_Optimization_Script.ipynb\" target=\"_parent\"><img src=\"https://colab.research.google.com/assets/colab-badge.svg\" alt=\"Open In Colab\"/></a>"
      ]
    },
    {
      "cell_type": "markdown",
      "metadata": {
        "id": "t2xpoCA56e-f",
        "colab_type": "text"
      },
      "source": [
        "# Session 9: Notebook 2B - Implicit (compact) model of Rue La La \n",
        "\n",
        "This notebook is the script version of the notebook S9_Module2A (explicit model). Unlike the explicit model in which we need to explicitly add each complete equation one by one, we can automate the model generation process by using a script version of it. For this one, we do not expect that you understand in detail how to generate the script but simply understand what each block does. Creating the script would require some experience. The main purpose of this is to provide an example of real-life mathematical programming workflow which automate the prescriptive analytics process.\n",
        "\n",
        "More particularly, we want to create an **implicit (or compact) model** of the following prescriptive pricing model of Rue La La.\n",
        "\n",
        "![alt text](https://github.com/acedesci/scanalytics/blob/master/S8_9_retail_analytics/implicit_model.png?raw=true)\n",
        "\n",
        "The following blocks install Pyomo and solver. We also provide an option to use a more powerful solver *CBC* in addition to GLPK we used earlier. You can outcomment it if you want to switch to CBC."
      ]
    },
    {
      "cell_type": "code",
      "metadata": {
        "id": "zdvWKIywwi4_",
        "colab_type": "code",
        "colab": {}
      },
      "source": [
        "# Install Pyomo and GLPK\n",
        "!pip install -q pyomo\n",
        "!apt-get install -y -qq glpk-utils #if GLPK is used\n",
        "# !apt-get install -y -qq coinor-cbc #if cbc is used"
      ],
      "execution_count": 0,
      "outputs": []
    },
    {
      "cell_type": "markdown",
      "metadata": {
        "id": "9cS5YfcZHddR",
        "colab_type": "text"
      },
      "source": [
        "# Block 1: Data input\n",
        "\n",
        "We prepared the data inputs in two files, i.e., \n",
        "\n",
        "\n",
        "1.   **'predictedSales_Prob1.csv'**. This is a small scale problem. It is identical to the problem you see in the Module 2A (explicit model).\n",
        "2.   **'predictedSales_Prob2.csv'**. This is a large-scale problem. This one contains a much higher number of variables and constraints to reflect real-life setting.\n",
        "\n",
        "Please mainly focus on the file *'predictedSales_Prob1.csv'* since you will get to see the same model as Module_1A. You can also try *'predictedSales_Prob2.csv'* if you are interested to see the large-scale model.\n",
        "\n",
        "In order to read the input, we take the file from the URL. This is the same file that you would obtain if you run the module 1B. If you want, you can change this block so that you can upload it from your PC or load it from Google Drive (see also Module 1B how these two options can be done).\n",
        "\n"
      ]
    },
    {
      "cell_type": "code",
      "metadata": {
        "id": "vxk0SKB7eM70",
        "colab_type": "code",
        "outputId": "4d838107-712a-4851-fd7e-ba1077bde641",
        "colab": {
          "base_uri": "https://localhost:8080/",
          "height": 438
        }
      },
      "source": [
        "import pandas\n",
        "\n",
        "# Prob1 is the same problem as Module 2A\n",
        "predDemand = pandas.read_csv(https://raw.githubusercontent.com/acedesci/scanalytics/master/S8_9_retail_analytics/predictedSales_Prob1.csv)\n",
        "\n",
        "# Prob2 is the large-scale problem\n",
        "# predDemand = pandas.read_csv(https://raw.githubusercontent.com/acedesci/scanalytics/master/S8_9_retail_analytics/predictedSales_Prob2.csv)\n",
        "\n",
        "# Dataset is now stored in a Pandas Dataframe predDemand\n",
        "predDemand"
      ],
      "execution_count": 0,
      "outputs": [
        {
          "output_type": "stream",
          "text": [
            "Drive already mounted at /content/drive; to attempt to forcibly remount, call drive.mount(\"/content/drive\", force_remount=True).\n"
          ],
          "name": "stdout"
        },
        {
          "output_type": "execute_result",
          "data": {
            "text/html": [
              "<div>\n",
              "<style scoped>\n",
              "    .dataframe tbody tr th:only-of-type {\n",
              "        vertical-align: middle;\n",
              "    }\n",
              "\n",
              "    .dataframe tbody tr th {\n",
              "        vertical-align: top;\n",
              "    }\n",
              "\n",
              "    .dataframe thead th {\n",
              "        text-align: right;\n",
              "    }\n",
              "</style>\n",
              "<table border=\"1\" class=\"dataframe\">\n",
              "  <thead>\n",
              "    <tr style=\"text-align: right;\">\n",
              "      <th></th>\n",
              "      <th>Unnamed: 0</th>\n",
              "      <th>Unnamed: 0.1</th>\n",
              "      <th>avgPriceChoice</th>\n",
              "      <th>UPC</th>\n",
              "      <th>PRICE</th>\n",
              "      <th>PRICE_p2</th>\n",
              "      <th>FEATURE</th>\n",
              "      <th>DISPLAY</th>\n",
              "      <th>TPR_ONLY</th>\n",
              "      <th>RELPRICE</th>\n",
              "      <th>predictSales</th>\n",
              "    </tr>\n",
              "  </thead>\n",
              "  <tbody>\n",
              "    <tr>\n",
              "      <th>0</th>\n",
              "      <td>0</td>\n",
              "      <td>0</td>\n",
              "      <td>3.0</td>\n",
              "      <td>1600027528</td>\n",
              "      <td>2.5</td>\n",
              "      <td>6.25</td>\n",
              "      <td>0</td>\n",
              "      <td>0</td>\n",
              "      <td>0</td>\n",
              "      <td>0.833333</td>\n",
              "      <td>94.9</td>\n",
              "    </tr>\n",
              "    <tr>\n",
              "      <th>1</th>\n",
              "      <td>1</td>\n",
              "      <td>1</td>\n",
              "      <td>3.0</td>\n",
              "      <td>1600027528</td>\n",
              "      <td>3.0</td>\n",
              "      <td>9.00</td>\n",
              "      <td>0</td>\n",
              "      <td>0</td>\n",
              "      <td>0</td>\n",
              "      <td>1.000000</td>\n",
              "      <td>67.0</td>\n",
              "    </tr>\n",
              "    <tr>\n",
              "      <th>2</th>\n",
              "      <td>2</td>\n",
              "      <td>2</td>\n",
              "      <td>3.0</td>\n",
              "      <td>1600027528</td>\n",
              "      <td>3.5</td>\n",
              "      <td>12.25</td>\n",
              "      <td>0</td>\n",
              "      <td>0</td>\n",
              "      <td>0</td>\n",
              "      <td>1.166667</td>\n",
              "      <td>46.4</td>\n",
              "    </tr>\n",
              "    <tr>\n",
              "      <th>3</th>\n",
              "      <td>3</td>\n",
              "      <td>3</td>\n",
              "      <td>3.0</td>\n",
              "      <td>1600027564</td>\n",
              "      <td>2.5</td>\n",
              "      <td>6.25</td>\n",
              "      <td>0</td>\n",
              "      <td>0</td>\n",
              "      <td>0</td>\n",
              "      <td>0.833333</td>\n",
              "      <td>24.1</td>\n",
              "    </tr>\n",
              "    <tr>\n",
              "      <th>4</th>\n",
              "      <td>4</td>\n",
              "      <td>4</td>\n",
              "      <td>3.0</td>\n",
              "      <td>1600027564</td>\n",
              "      <td>3.0</td>\n",
              "      <td>9.00</td>\n",
              "      <td>0</td>\n",
              "      <td>0</td>\n",
              "      <td>0</td>\n",
              "      <td>1.000000</td>\n",
              "      <td>22.6</td>\n",
              "    </tr>\n",
              "    <tr>\n",
              "      <th>5</th>\n",
              "      <td>5</td>\n",
              "      <td>5</td>\n",
              "      <td>3.0</td>\n",
              "      <td>1600027564</td>\n",
              "      <td>3.5</td>\n",
              "      <td>12.25</td>\n",
              "      <td>0</td>\n",
              "      <td>0</td>\n",
              "      <td>0</td>\n",
              "      <td>1.166667</td>\n",
              "      <td>19.8</td>\n",
              "    </tr>\n",
              "    <tr>\n",
              "      <th>6</th>\n",
              "      <td>6</td>\n",
              "      <td>6</td>\n",
              "      <td>3.0</td>\n",
              "      <td>3000006340</td>\n",
              "      <td>2.5</td>\n",
              "      <td>6.25</td>\n",
              "      <td>0</td>\n",
              "      <td>0</td>\n",
              "      <td>0</td>\n",
              "      <td>0.833333</td>\n",
              "      <td>6.2</td>\n",
              "    </tr>\n",
              "    <tr>\n",
              "      <th>7</th>\n",
              "      <td>7</td>\n",
              "      <td>7</td>\n",
              "      <td>3.0</td>\n",
              "      <td>3000006340</td>\n",
              "      <td>3.0</td>\n",
              "      <td>9.00</td>\n",
              "      <td>0</td>\n",
              "      <td>0</td>\n",
              "      <td>0</td>\n",
              "      <td>1.000000</td>\n",
              "      <td>4.0</td>\n",
              "    </tr>\n",
              "    <tr>\n",
              "      <th>8</th>\n",
              "      <td>8</td>\n",
              "      <td>8</td>\n",
              "      <td>3.0</td>\n",
              "      <td>3000006340</td>\n",
              "      <td>3.5</td>\n",
              "      <td>12.25</td>\n",
              "      <td>0</td>\n",
              "      <td>0</td>\n",
              "      <td>0</td>\n",
              "      <td>1.166667</td>\n",
              "      <td>3.0</td>\n",
              "    </tr>\n",
              "    <tr>\n",
              "      <th>9</th>\n",
              "      <td>9</td>\n",
              "      <td>9</td>\n",
              "      <td>3.0</td>\n",
              "      <td>3800031829</td>\n",
              "      <td>2.5</td>\n",
              "      <td>6.25</td>\n",
              "      <td>0</td>\n",
              "      <td>0</td>\n",
              "      <td>0</td>\n",
              "      <td>0.833333</td>\n",
              "      <td>32.9</td>\n",
              "    </tr>\n",
              "    <tr>\n",
              "      <th>10</th>\n",
              "      <td>10</td>\n",
              "      <td>10</td>\n",
              "      <td>3.0</td>\n",
              "      <td>3800031829</td>\n",
              "      <td>3.0</td>\n",
              "      <td>9.00</td>\n",
              "      <td>0</td>\n",
              "      <td>0</td>\n",
              "      <td>0</td>\n",
              "      <td>1.000000</td>\n",
              "      <td>24.3</td>\n",
              "    </tr>\n",
              "    <tr>\n",
              "      <th>11</th>\n",
              "      <td>11</td>\n",
              "      <td>11</td>\n",
              "      <td>3.0</td>\n",
              "      <td>3800031829</td>\n",
              "      <td>3.5</td>\n",
              "      <td>12.25</td>\n",
              "      <td>0</td>\n",
              "      <td>0</td>\n",
              "      <td>0</td>\n",
              "      <td>1.166667</td>\n",
              "      <td>20.4</td>\n",
              "    </tr>\n",
              "  </tbody>\n",
              "</table>\n",
              "</div>"
            ],
            "text/plain": [
              "    Unnamed: 0  Unnamed: 0.1  avgPriceChoice  ...  TPR_ONLY  RELPRICE  predictSales\n",
              "0            0             0             3.0  ...         0  0.833333          94.9\n",
              "1            1             1             3.0  ...         0  1.000000          67.0\n",
              "2            2             2             3.0  ...         0  1.166667          46.4\n",
              "3            3             3             3.0  ...         0  0.833333          24.1\n",
              "4            4             4             3.0  ...         0  1.000000          22.6\n",
              "5            5             5             3.0  ...         0  1.166667          19.8\n",
              "6            6             6             3.0  ...         0  0.833333           6.2\n",
              "7            7             7             3.0  ...         0  1.000000           4.0\n",
              "8            8             8             3.0  ...         0  1.166667           3.0\n",
              "9            9             9             3.0  ...         0  0.833333          32.9\n",
              "10          10            10             3.0  ...         0  1.000000          24.3\n",
              "11          11            11             3.0  ...         0  1.166667          20.4\n",
              "\n",
              "[12 rows x 11 columns]"
            ]
          },
          "metadata": {
            "tags": []
          },
          "execution_count": 2
        }
      ]
    },
    {
      "cell_type": "markdown",
      "metadata": {
        "id": "XXitxH0IAipU",
        "colab_type": "text"
      },
      "source": [
        "With the new dataset, we first need to check how many average price values are there because we need to run the optimization model for each value of the average price."
      ]
    },
    {
      "cell_type": "code",
      "metadata": {
        "id": "scZFGWSlDi3L",
        "colab_type": "code",
        "outputId": "34ec880c-c46f-4d05-80c6-cd841f518975",
        "colab": {
          "base_uri": "https://localhost:8080/",
          "height": 34
        }
      },
      "source": [
        "avgPriceList = predDemand['avgPriceChoice'].unique()\n",
        "inputColumns = ['avgPriceChoice', 'UPC', 'PRICE','predictSales']\n",
        "print(\"Possible average price choices (k/N.Product):\"+str(avgPriceList))\n"
      ],
      "execution_count": 0,
      "outputs": [
        {
          "output_type": "stream",
          "text": [
            "Possible average price choices (k/N.Product):[3.]\n"
          ],
          "name": "stdout"
        }
      ]
    },
    {
      "cell_type": "markdown",
      "metadata": {
        "id": "eoePE7clILkZ",
        "colab_type": "text"
      },
      "source": [
        "# Block 2: Prepare input parameters for the model\n",
        "\n",
        "We can choose which value of $k$ we want to use in the optimization model from the *avgPriceChoice* we have in the dataset. In *'predictedSales_Prob1.csv'*, there is only one average prince choice at $3.0 whereas in *'predictedSales_Prob2.csv'* there are 4 different price choices you can choose form. \n",
        "\n",
        "If you want to try different average price choices, we would need to repeat this procedure for each average price value and record the corresponding optimal solution to decide how each product should be priced and at which average price level to generate the optimal revenue.\n",
        "\n",
        "Note that in this demo, we use $p_{ij}$ instead of $p_{j}$ since it is easier to prepare but the model remains identical to the Module 2A."
      ]
    },
    {
      "cell_type": "code",
      "metadata": {
        "id": "gl0TFiFZ8usK",
        "colab_type": "code",
        "outputId": "d47e584b-aae2-4195-f213-dee9e76949f9",
        "colab": {
          "base_uri": "https://localhost:8080/",
          "height": 292
        }
      },
      "source": [
        "# Nere we choose which value of k (avgPriceValue x N. of products) we would like to use in the model \n",
        "# Note that k must be among the choices where the prediction has been prepared\n",
        "avgPriceValue =  avgPriceList[0] \n",
        "\n",
        "# Now we select only the row which corresponds to the previously chosen value of avgPriceValue (again k = avgPriceValue x N. of products)\n",
        "predDemand_k = predDemand.loc[predDemand['avgPriceChoice'] == avgPriceValue][inputColumns]\n",
        "print(predDemand_k)\n",
        "productList = predDemand['UPC'].unique()\n",
        "priceList = predDemand['PRICE'].unique()\n",
        "\n",
        "# Here we prepare the dictionary to be used in the optimization model\n",
        "p = {}\n",
        "D = {}\n",
        "\n",
        "for upc in productList:\n",
        "  for price in priceList:\n",
        "    p[(upc,price)] = price\n",
        "    D[(upc,price)] = predDemand_k.loc[(predDemand['UPC'] == upc) & (predDemand_k['PRICE'] == price)]['predictSales'].values[0]\n",
        "\n",
        "print(p)\n",
        "print(D)"
      ],
      "execution_count": 0,
      "outputs": [
        {
          "output_type": "stream",
          "text": [
            "    avgPriceChoice         UPC  PRICE  predictSales\n",
            "0              3.0  1600027528    2.5          95.0\n",
            "1              3.0  1600027528    3.0          67.0\n",
            "2              3.0  1600027528    3.5          46.0\n",
            "3              3.0  1600027564    2.5          24.0\n",
            "4              3.0  1600027564    3.0          23.0\n",
            "5              3.0  1600027564    3.5          20.0\n",
            "6              3.0  3000006340    2.5           6.0\n",
            "7              3.0  3000006340    3.0           4.0\n",
            "8              3.0  3000006340    3.5           3.0\n",
            "9              3.0  3800031829    2.5          33.0\n",
            "10             3.0  3800031829    3.0          24.0\n",
            "11             3.0  3800031829    3.5          20.0\n",
            "{(1600027528, 2.5): 2.5, (1600027528, 3.0): 3.0, (1600027528, 3.5): 3.5, (1600027564, 2.5): 2.5, (1600027564, 3.0): 3.0, (1600027564, 3.5): 3.5, (3000006340, 2.5): 2.5, (3000006340, 3.0): 3.0, (3000006340, 3.5): 3.5, (3800031829, 2.5): 2.5, (3800031829, 3.0): 3.0, (3800031829, 3.5): 3.5}\n",
            "{(1600027528, 2.5): 95.0, (1600027528, 3.0): 67.0, (1600027528, 3.5): 46.0, (1600027564, 2.5): 24.0, (1600027564, 3.0): 23.0, (1600027564, 3.5): 20.0, (3000006340, 2.5): 6.0, (3000006340, 3.0): 4.0, (3000006340, 3.5): 3.0, (3800031829, 2.5): 33.0, (3800031829, 3.0): 24.0, (3800031829, 3.5): 20.0}\n"
          ],
          "name": "stdout"
        }
      ]
    },
    {
      "cell_type": "markdown",
      "metadata": {
        "id": "6HzvgED5Ltkk",
        "colab_type": "text"
      },
      "source": [
        "# Block 3: Create an optimization model\n",
        "\n",
        "### Block 3.1: Variable declarations\n",
        "\n",
        "Unlike the first part of today's session, we index the decision variables and demand parameters by the product and the price themselves rather than their index. Indeed, we previously denoted $x_{ij}=1$ if the price option $j$ is chosen for product $i$, and 0 otherwise. Now, our variable is denoted by $x_{1600027528,\\ 3.0}=1$, which means that product UPC '1600027528' will be sold at 3.0 dollars. The same notational remark applies to predicted demand ($D_{ijk}$) for the sum of prices $k$ and price ($p_{ij}$) parameters. We can declare the constraint sets first (model.PriceChoiceUPC, model.sumPrice) and then **add** the constraint functions later."
      ]
    },
    {
      "cell_type": "code",
      "metadata": {
        "id": "AeKxRrnufnyo",
        "colab_type": "code",
        "outputId": "1e1f97cb-6092-4b7a-b0f5-7cc2cecfb717",
        "colab": {
          "base_uri": "https://localhost:8080/",
          "height": 612
        }
      },
      "source": [
        "from pyomo.environ import *\n",
        "\n",
        "iIndexList = list(range(len(productList)))\n",
        "jIndexList = list(range(len(priceList)))\n",
        "\n",
        "model = ConcreteModel()\n",
        "# Variables\n",
        "model.x = Var(productList, priceList, within = Binary)\n",
        "\n",
        "# Constraints\n",
        "model.PriceChoiceUPC = ConstraintList()\n",
        "model.sumPrice = ConstraintList()\n",
        "\n",
        "# Print to review the model (equations are still not included)\n",
        "model.pprint()"
      ],
      "execution_count": 0,
      "outputs": [
        {
          "output_type": "stream",
          "text": [
            "5 Set Declarations\n",
            "    PriceChoiceUPC_index : Dim=0, Dimen=1, Size=0, Domain=None, Ordered=False, Bounds=None\n",
            "        []\n",
            "    sumPrice_index : Dim=0, Dimen=1, Size=0, Domain=None, Ordered=False, Bounds=None\n",
            "        []\n",
            "    x_index : Dim=0, Dimen=2, Size=12, Domain=None, Ordered=False, Bounds=None\n",
            "        Virtual\n",
            "    x_index_0 : Dim=0, Dimen=1, Size=4, Domain=None, Ordered=False, Bounds=(1600027528, 3800031829)\n",
            "        [1600027528, 1600027564, 3000006340, 3800031829]\n",
            "    x_index_1 : Dim=0, Dimen=1, Size=3, Domain=None, Ordered=False, Bounds=(2.5, 3.5)\n",
            "        [2.5, 3.0, 3.5]\n",
            "\n",
            "1 Var Declarations\n",
            "    x : Size=12, Index=x_index\n",
            "        Key               : Lower : Value : Upper : Fixed : Stale : Domain\n",
            "        (1600027528, 2.5) :     0 :  None :     1 : False :  True : Binary\n",
            "        (1600027528, 3.0) :     0 :  None :     1 : False :  True : Binary\n",
            "        (1600027528, 3.5) :     0 :  None :     1 : False :  True : Binary\n",
            "        (1600027564, 2.5) :     0 :  None :     1 : False :  True : Binary\n",
            "        (1600027564, 3.0) :     0 :  None :     1 : False :  True : Binary\n",
            "        (1600027564, 3.5) :     0 :  None :     1 : False :  True : Binary\n",
            "        (3000006340, 2.5) :     0 :  None :     1 : False :  True : Binary\n",
            "        (3000006340, 3.0) :     0 :  None :     1 : False :  True : Binary\n",
            "        (3000006340, 3.5) :     0 :  None :     1 : False :  True : Binary\n",
            "        (3800031829, 2.5) :     0 :  None :     1 : False :  True : Binary\n",
            "        (3800031829, 3.0) :     0 :  None :     1 : False :  True : Binary\n",
            "        (3800031829, 3.5) :     0 :  None :     1 : False :  True : Binary\n",
            "\n",
            "2 Constraint Declarations\n",
            "    PriceChoiceUPC : Size=0, Index=PriceChoiceUPC_index, Active=True\n",
            "        Key : Lower : Body : Upper : Active\n",
            "    sumPrice : Size=0, Index=sumPrice_index, Active=True\n",
            "        Key : Lower : Body : Upper : Active\n",
            "\n",
            "8 Declarations: x_index_0 x_index_1 x_index x PriceChoiceUPC_index PriceChoiceUPC sumPrice_index sumPrice\n"
          ],
          "name": "stdout"
        }
      ]
    },
    {
      "cell_type": "markdown",
      "metadata": {
        "id": "0IdAKFZzPbOJ",
        "colab_type": "text"
      },
      "source": [
        "### Block 3.2: Adding an objective function\n",
        "\n",
        "Instead of iteratively entering the value for each price and predicted sales, we can simply create a loop **for** each product and a loop **for** each price. The code now looks very much like the general equation $\\sum_{i} \\sum_{j} p_{j} \\cdot D_{ijk} \\cdot x_{ij}$ we saw in the first part of today's session with some minor changes for notational simplification."
      ]
    },
    {
      "cell_type": "code",
      "metadata": {
        "id": "RY6Vi1TE5ztC",
        "colab_type": "code",
        "outputId": "614ebf02-4990-461e-c7eb-bae814ad6b94",
        "colab": {
          "base_uri": "https://localhost:8080/",
          "height": 54
        }
      },
      "source": [
        "# Objective function\n",
        "\n",
        "obj_expr = sum(p[(i,j)]*D[(i,j)]*model.x[i,j] for i in productList for j in priceList) \n",
        "print(obj_expr)\n",
        "model.OBJ = Objective(expr = obj_expr, sense = maximize)"
      ],
      "execution_count": 0,
      "outputs": [
        {
          "output_type": "stream",
          "text": [
            "237.5*x[1600027528,2.5] + 201.0*x[1600027528,3.0] + 161.0*x[1600027528,3.5] + 60.0*x[1600027564,2.5] + 69.0*x[1600027564,3.0] + 70.0*x[1600027564,3.5] + 15.0*x[3000006340,2.5] + 12.0*x[3000006340,3.0] + 10.5*x[3000006340,3.5] + 82.5*x[3800031829,2.5] + 72.0*x[3800031829,3.0] + 70.0*x[3800031829,3.5]\n"
          ],
          "name": "stdout"
        }
      ]
    },
    {
      "cell_type": "markdown",
      "metadata": {
        "id": "y2TOnlIlQfNq",
        "colab_type": "text"
      },
      "source": [
        "### Block 3.3: Adding constraints\n",
        "\n",
        "**Constraint 1: One price choice must be selected for each product**\n",
        "\n",
        "Similarly, we can create a loop to **add** constraint functions to the constraint set **for** each product to ensure that only one price on the list is selected for that product. Unlike the first part of today's session, we need not iteratively type each constraint."
      ]
    },
    {
      "cell_type": "code",
      "metadata": {
        "id": "_-J1E9CayDY-",
        "colab_type": "code",
        "outputId": "e5ea4de3-b5be-4b3e-8e28-6b8459e85613",
        "colab": {
          "base_uri": "https://localhost:8080/",
          "height": 85
        }
      },
      "source": [
        "# Constraints #1\n",
        "for i in productList:\n",
        "  const1_expr = sum(model.x[i,j] for j in priceList) == 1 \n",
        "  print(const1_expr)\n",
        "  model.PriceChoiceUPC.add(expr = const1_expr)\n"
      ],
      "execution_count": 0,
      "outputs": [
        {
          "output_type": "stream",
          "text": [
            "x[1600027528,2.5] + x[1600027528,3.0] + x[1600027528,3.5]  ==  1.0\n",
            "x[1600027564,2.5] + x[1600027564,3.0] + x[1600027564,3.5]  ==  1.0\n",
            "x[3000006340,2.5] + x[3000006340,3.0] + x[3000006340,3.5]  ==  1.0\n",
            "x[3800031829,2.5] + x[3800031829,3.0] + x[3800031829,3.5]  ==  1.0\n"
          ],
          "name": "stdout"
        }
      ]
    },
    {
      "cell_type": "markdown",
      "metadata": {
        "id": "gpCWig8MUBAZ",
        "colab_type": "text"
      },
      "source": [
        "**Constraint 2: The sum of the prices of all products must equal $k$**\n",
        "\n",
        "Similar **for** loops apply to the average price constraint. Please refer to the first part of today's session for detailed elaboration."
      ]
    },
    {
      "cell_type": "code",
      "metadata": {
        "id": "prKy0fAE6hTd",
        "colab_type": "code",
        "outputId": "02943d8a-f6fa-4e5f-8840-5cf047ec189f",
        "colab": {
          "base_uri": "https://localhost:8080/",
          "height": 71
        }
      },
      "source": [
        "# Constraints #2\n",
        "const2_expr = sum(p[i,j]*model.x[i,j] for i in productList for j in priceList) == avgPriceValue*len(productList) \n",
        "print(const2_expr)\n",
        "model.sumPrice.add(expr = const2_expr)\n",
        "\n"
      ],
      "execution_count": 0,
      "outputs": [
        {
          "output_type": "stream",
          "text": [
            "2.5*x[1600027528,2.5] + 3.0*x[1600027528,3.0] + 3.5*x[1600027528,3.5] + 2.5*x[1600027564,2.5] + 3.0*x[1600027564,3.0] + 3.5*x[1600027564,3.5] + 2.5*x[3000006340,2.5] + 3.0*x[3000006340,3.0] + 3.5*x[3000006340,3.5] + 2.5*x[3800031829,2.5] + 3.0*x[3800031829,3.0] + 3.5*x[3800031829,3.5]  ==  12.0\n"
          ],
          "name": "stdout"
        },
        {
          "output_type": "execute_result",
          "data": {
            "text/plain": [
              "<pyomo.core.base.constraint._GeneralConstraintData at 0x7fc256b7fb28>"
            ]
          },
          "metadata": {
            "tags": []
          },
          "execution_count": 9
        }
      ]
    },
    {
      "cell_type": "markdown",
      "metadata": {
        "id": "s_rfW16pVt4d",
        "colab_type": "text"
      },
      "source": [
        "We can print the model to review prior to solving it."
      ]
    },
    {
      "cell_type": "code",
      "metadata": {
        "id": "K_z-vhR_VtJ2",
        "colab_type": "code",
        "outputId": "84178057-0df6-4938-b307-2030bfb457a0",
        "colab": {
          "base_uri": "https://localhost:8080/",
          "height": 802
        }
      },
      "source": [
        "model.pprint()"
      ],
      "execution_count": 0,
      "outputs": [
        {
          "output_type": "stream",
          "text": [
            "5 Set Declarations\n",
            "    PriceChoiceUPC_index : Dim=0, Dimen=1, Size=4, Domain=None, Ordered=False, Bounds=None\n",
            "        [1, 2, 3, 4]\n",
            "    sumPrice_index : Dim=0, Dimen=1, Size=1, Domain=None, Ordered=False, Bounds=None\n",
            "        [1]\n",
            "    x_index : Dim=0, Dimen=2, Size=12, Domain=None, Ordered=False, Bounds=None\n",
            "        Virtual\n",
            "    x_index_0 : Dim=0, Dimen=1, Size=4, Domain=None, Ordered=False, Bounds=(1600027528, 3800031829)\n",
            "        [1600027528, 1600027564, 3000006340, 3800031829]\n",
            "    x_index_1 : Dim=0, Dimen=1, Size=3, Domain=None, Ordered=False, Bounds=(2.5, 3.5)\n",
            "        [2.5, 3.0, 3.5]\n",
            "\n",
            "1 Var Declarations\n",
            "    x : Size=12, Index=x_index\n",
            "        Key               : Lower : Value : Upper : Fixed : Stale : Domain\n",
            "        (1600027528, 2.5) :     0 :  None :     1 : False :  True : Binary\n",
            "        (1600027528, 3.0) :     0 :  None :     1 : False :  True : Binary\n",
            "        (1600027528, 3.5) :     0 :  None :     1 : False :  True : Binary\n",
            "        (1600027564, 2.5) :     0 :  None :     1 : False :  True : Binary\n",
            "        (1600027564, 3.0) :     0 :  None :     1 : False :  True : Binary\n",
            "        (1600027564, 3.5) :     0 :  None :     1 : False :  True : Binary\n",
            "        (3000006340, 2.5) :     0 :  None :     1 : False :  True : Binary\n",
            "        (3000006340, 3.0) :     0 :  None :     1 : False :  True : Binary\n",
            "        (3000006340, 3.5) :     0 :  None :     1 : False :  True : Binary\n",
            "        (3800031829, 2.5) :     0 :  None :     1 : False :  True : Binary\n",
            "        (3800031829, 3.0) :     0 :  None :     1 : False :  True : Binary\n",
            "        (3800031829, 3.5) :     0 :  None :     1 : False :  True : Binary\n",
            "\n",
            "1 Objective Declarations\n",
            "    OBJ : Size=1, Index=None, Active=True\n",
            "        Key  : Active : Sense    : Expression\n",
            "        None :   True : maximize : 237.5*x[1600027528,2.5] + 201.0*x[1600027528,3.0] + 161.0*x[1600027528,3.5] + 60.0*x[1600027564,2.5] + 69.0*x[1600027564,3.0] + 70.0*x[1600027564,3.5] + 15.0*x[3000006340,2.5] + 12.0*x[3000006340,3.0] + 10.5*x[3000006340,3.5] + 82.5*x[3800031829,2.5] + 72.0*x[3800031829,3.0] + 70.0*x[3800031829,3.5]\n",
            "\n",
            "2 Constraint Declarations\n",
            "    PriceChoiceUPC : Size=4, Index=PriceChoiceUPC_index, Active=True\n",
            "        Key : Lower : Body                                                      : Upper : Active\n",
            "          1 :   1.0 : x[1600027528,2.5] + x[1600027528,3.0] + x[1600027528,3.5] :   1.0 :   True\n",
            "          2 :   1.0 : x[1600027564,2.5] + x[1600027564,3.0] + x[1600027564,3.5] :   1.0 :   True\n",
            "          3 :   1.0 : x[3000006340,2.5] + x[3000006340,3.0] + x[3000006340,3.5] :   1.0 :   True\n",
            "          4 :   1.0 : x[3800031829,2.5] + x[3800031829,3.0] + x[3800031829,3.5] :   1.0 :   True\n",
            "    sumPrice : Size=1, Index=sumPrice_index, Active=True\n",
            "        Key : Lower : Body                                                                                                                                                                                                                                                                                          : Upper : Active\n",
            "          1 :  12.0 : 2.5*x[1600027528,2.5] + 3.0*x[1600027528,3.0] + 3.5*x[1600027528,3.5] + 2.5*x[1600027564,2.5] + 3.0*x[1600027564,3.0] + 3.5*x[1600027564,3.5] + 2.5*x[3000006340,2.5] + 3.0*x[3000006340,3.0] + 3.5*x[3000006340,3.5] + 2.5*x[3800031829,2.5] + 3.0*x[3800031829,3.0] + 3.5*x[3800031829,3.5] :  12.0 :   True\n",
            "\n",
            "9 Declarations: x_index_0 x_index_1 x_index x PriceChoiceUPC_index PriceChoiceUPC sumPrice_index sumPrice OBJ\n"
          ],
          "name": "stdout"
        }
      ]
    },
    {
      "cell_type": "markdown",
      "metadata": {
        "colab_type": "text",
        "id": "nUyWYe7wCj8q"
      },
      "source": [
        "# Block 4: Solution and results"
      ]
    },
    {
      "cell_type": "markdown",
      "metadata": {
        "id": "fB0r8jsxciFN",
        "colab_type": "text"
      },
      "source": [
        "Finally, we call the solver and obtain the optimal solution. We can see that product '1600027528' is also sold at price $\\$2.5$, products '1600027564' and '3000006340' both  at price $\\$3.5$ and product '3800031829' at price $\\$2.5$, but the optimal objective value is now $\\$399.3$. The objective function value is slightly different from the Module_2A but the solution (values of $x$) is the same. This is due to the fact that we keep more digits in this example."
      ]
    },
    {
      "cell_type": "code",
      "metadata": {
        "id": "a0KA-DNX8RqA",
        "colab_type": "code",
        "outputId": "51a61978-9915-4a33-91de-79425d79fc95",
        "colab": {
          "base_uri": "https://localhost:8080/",
          "height": 578
        }
      },
      "source": [
        "# Solve the model\n",
        "opt = SolverFactory('glpk')\n",
        "opt.solve(model) \n",
        "\n",
        "model.display()"
      ],
      "execution_count": 0,
      "outputs": [
        {
          "output_type": "stream",
          "text": [
            "Model unknown\n",
            "\n",
            "  Variables:\n",
            "    x : Size=12, Index=x_index\n",
            "        Key               : Lower : Value : Upper : Fixed : Stale : Domain\n",
            "        (1600027528, 2.5) :     0 :   1.0 :     1 : False : False : Binary\n",
            "        (1600027528, 3.0) :     0 :   0.0 :     1 : False : False : Binary\n",
            "        (1600027528, 3.5) :     0 :   0.0 :     1 : False : False : Binary\n",
            "        (1600027564, 2.5) :     0 :   0.0 :     1 : False : False : Binary\n",
            "        (1600027564, 3.0) :     0 :   0.0 :     1 : False : False : Binary\n",
            "        (1600027564, 3.5) :     0 :   1.0 :     1 : False : False : Binary\n",
            "        (3000006340, 2.5) :     0 :   0.0 :     1 : False : False : Binary\n",
            "        (3000006340, 3.0) :     0 :   0.0 :     1 : False : False : Binary\n",
            "        (3000006340, 3.5) :     0 :   1.0 :     1 : False : False : Binary\n",
            "        (3800031829, 2.5) :     0 :   1.0 :     1 : False : False : Binary\n",
            "        (3800031829, 3.0) :     0 :   0.0 :     1 : False : False : Binary\n",
            "        (3800031829, 3.5) :     0 :   0.0 :     1 : False : False : Binary\n",
            "\n",
            "  Objectives:\n",
            "    OBJ : Size=1, Index=None, Active=True\n",
            "        Key  : Active : Value\n",
            "        None :   True : 400.5\n",
            "\n",
            "  Constraints:\n",
            "    PriceChoiceUPC : Size=4\n",
            "        Key : Lower : Body : Upper\n",
            "          1 :   1.0 :  1.0 :   1.0\n",
            "          2 :   1.0 :  1.0 :   1.0\n",
            "          3 :   1.0 :  1.0 :   1.0\n",
            "          4 :   1.0 :  1.0 :   1.0\n",
            "    sumPrice : Size=1\n",
            "        Key : Lower : Body : Upper\n",
            "          1 :  12.0 : 12.0 :  12.0\n"
          ],
          "name": "stdout"
        }
      ]
    }
  ]
}