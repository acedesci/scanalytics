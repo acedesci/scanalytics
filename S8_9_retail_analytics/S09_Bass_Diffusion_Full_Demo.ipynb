{
  "nbformat": 4,
  "nbformat_minor": 0,
  "metadata": {
    "colab": {
      "name": "S09_Bass_diffusion_full_demo.ipynb",
      "provenance": [],
      "authorship_tag": "ABX9TyOoWJNkyK3R+cuV8uKxEaWh",
      "include_colab_link": true
    },
    "kernelspec": {
      "name": "python3",
      "display_name": "Python 3"
    }
  },
  "cells": [
    {
      "cell_type": "markdown",
      "metadata": {
        "id": "view-in-github",
        "colab_type": "text"
      },
      "source": [
        "<a href=\"https://colab.research.google.com/github/acedesci/scanalytics/blob/master/S8_9_retail_analytics/S09_Bass_Diffusion_Full_Demo.ipynb\" target=\"_parent\"><img src=\"https://colab.research.google.com/assets/colab-badge.svg\" alt=\"Open In Colab\"/></a>"
      ]
    },
    {
      "cell_type": "markdown",
      "metadata": {
        "id": "baCCKjGsTSa3"
      },
      "source": [
        "# S9 - Bass Diffusion - full demo\n",
        "\n",
        "---"
      ]
    },
    {
      "cell_type": "markdown",
      "metadata": {
        "id": "lljX7N2kk-kC"
      },
      "source": [
        "In session 2, we have defined the following two functions for Bass diffusion model:\n",
        "\n",
        "<blockquote>\n",
        "The cumulative number of adoptors (people who bought/adopted the product) $S(t)$ from the beginning (time 0) to time $t$ is described by $S(t) = m\\times F(t)$ where $m$ is the market size (the estimated total number of potential customers) and $F(t)$ is the <i>cumulative</i> probability that an individual (potential customer) has already adopted the product by time $t$ (which needs to be calculated). \n",
        "We can obtain $F(t)$ as a function of $p$ and $q$ as follows:\n",
        "\n",
        "$$F(t) = \\frac{1-e^{-(p+q)t}}{1+\\frac{q}{p}e^{-(p+q)t}} $$\n",
        "\n",
        "where \n",
        "<br /> \n",
        "* $p$ is the coefficiant of innovation\n",
        "<br /> \n",
        "* $q$ is the coefficient of imitation\n",
        "<br /> \n",
        "\n",
        "In addition, the probability of adoption by an individual at time $t$ which is represented by $f(t)$ (recall that $f(t) = \\frac{d}{dt}F(t)$) can be calculated as follows: \n",
        "\n",
        "$$f(t) = \\frac{d}{dt}F(t) = \\frac{e^{((p+q)t)}p(p+q)^2}{[pe^{((p+q)t)}+q]^2} $$.\n",
        "\n",
        "Consequently, the estimated number of adoptions in each period can be calculated as  $s(t) = m\\times f(t)$\n",
        "\n",
        "</blockquote>\n",
        "\n",
        "We have then prepared the following two functions to calculate $F(t)$ and $f(t)$."
      ]
    },
    {
      "cell_type": "code",
      "metadata": {
        "id": "WCZ1wOa7Rcye"
      },
      "source": [
        "import math\n",
        "def Bass_cumulative_probability_Ft(p, q, t):\n",
        "    return (1-math.exp(-(p+q)*t))/(1+(q/p)*math.exp(-(p+q)*t))\n",
        "\n",
        "def Bass_probability_ft(p, q, t):\n",
        "    return (math.exp((p+q)*t)*p*(p+q)**2)/(p*math.exp((p+q)*t)+q)**2"
      ],
      "execution_count": null,
      "outputs": []
    },
    {
      "cell_type": "markdown",
      "metadata": {
        "id": "l6zE6dpvs-u2"
      },
      "source": [
        "Based on the values of $p$, $q$ and $m$ of the quarterly sales of iPhone provided in the code cell below, please compute the values of the estimated probability of adoption $f(t)$, cumulative probability of adoption $F(t)$, the number of adoptions $s(t) = m\\times f(t)$, and cumulative number of adoptions $S(t) = m\\times F(t)$ for each quarter, which is indexed by $t$. Note that the first column below is an index whereas the subsequent four columns contain the corresponding values of the estimations based on Bass diffusion model.\n",
        "\n",
        "\n",
        "|Quarter_Index| ft | Ft| st | St | \n",
        "| :- | :- | :- | :- | :- | \n",
        "|...| ... |...| ... |...|\n",
        "\n",
        "\n"
      ]
    },
    {
      "cell_type": "markdown",
      "metadata": {
        "id": "z3pM6QsjWsUn"
      },
      "source": [
        "### Regression for Bass parameters estimation (this is the additional part to the original notebook in S4)\n",
        "**Estimating Bass diffusion model parameters**\n",
        "\n",
        "We can now complete the Bass diffusion model pipeline by first estimating the parameters $p$, $q$ and $m$ from the data prior to performing prediction. First we load the modules which are required as well as the actual data of sales of iPhone. The regression model for parameters estimation is presented in the paper below (Section \"Discrete Analogue\").\n",
        "\n",
        "<b>Reference</b>: Bass, F. M. (1969). A new product growth for model consumer durables. Management science, 15(5), 215-227.\n"
      ]
    },
    {
      "cell_type": "code",
      "metadata": {
        "id": "aibWFKVpW23s"
      },
      "source": [
        "import pandas as pd\n",
        "import numpy as np\n",
        "import sklearn\n",
        "from sklearn import *\n",
        "\n",
        "url = 'https://raw.githubusercontent.com/acedesci/scanalytics/master/S04_Data_Structures_2/iphone_quarter_sales.csv'\n",
        "actual_sales = pd.read_csv(url, index_col='Quarter')\n",
        "actual_sales.head()"
      ],
      "execution_count": null,
      "outputs": []
    },
    {
      "cell_type": "markdown",
      "metadata": {
        "id": "M27Oe_7td12O"
      },
      "source": [
        "We would first determine the coefficients for the Bass diffusion model in order to perform the prediction as seen in the previous session. The Bass model in a basic form, can be written as:\n",
        "\n",
        "$s(t) = pm + (q-p)S(t) - \\frac{q}{m}S(t)^2$\n",
        "\n",
        "which can be solved by a regression function. Here we will use the following equation (note that we do not shift one period like in the paper since the period is a bit long).\n",
        "\n",
        "$s(t) = a + bS(t) + cS(t)^2$\n",
        "\n",
        "Correspondingly, we can obtain $m = \\frac{-b \\pm \\sqrt{b^2-4ac}}{2c}$ ($m$ must be positive), $p = a/m$ and $q = -mc$ (for the detailed proof, you can review the Section \"Discrete Analogue\" in the paper).\n",
        "\n",
        "In the steps below, we demonstrate how this can be done using the linear regression model."
      ]
    },
    {
      "cell_type": "code",
      "metadata": {
        "id": "mAPWiVadXZBn"
      },
      "source": [
        "input = pd.DataFrame()\n",
        "# we need to prepare the Y inputs from sales by taking the cumulative sum up until period T - 1\n",
        "\n",
        "input[\"sales\"] = actual_sales[\"Sales\"]\n",
        "input[\"cumulative_sales\"] = np.cumsum(actual_sales[\"Sales\"])\n",
        "input[\"cumulative_sales_sq\"] = [x**2 for x in input[\"cumulative_sales\"]]\n",
        "input.head()"
      ],
      "execution_count": null,
      "outputs": []
    },
    {
      "cell_type": "markdown",
      "metadata": {
        "id": "2ke0DAxznBcC"
      },
      "source": [
        "Now we can use linear regression to determine $a$, $b$ and $c$ of the regression function above."
      ]
    },
    {
      "cell_type": "code",
      "metadata": {
        "id": "TofO-8yaY4Y_"
      },
      "source": [
        "X = input[[\"cumulative_sales\",\"cumulative_sales_sq\"]]\n",
        "y = input[\"sales\"]\n",
        "reg = sklearn.linear_model.LinearRegression().fit(X,y)\n",
        "print(\"intercept: \"+str(reg.intercept_))\n",
        "print(\"coefficients: \"+str(reg.coef_))\n",
        "\n",
        "a = reg.intercept_\n",
        "b = reg.coef_[0]\n",
        "c = reg.coef_[1]"
      ],
      "execution_count": null,
      "outputs": []
    },
    {
      "cell_type": "markdown",
      "metadata": {
        "id": "gr3GleeGnM-z"
      },
      "source": [
        "Following the results, we can obtain\n",
        "\n",
        "$m = \\frac{-b \\pm \\sqrt{b^2-4ac}}{2c}$\n",
        "\n",
        "and $m$ (the size of potential customer base) must be positive."
      ]
    },
    {
      "cell_type": "code",
      "metadata": {
        "id": "eGmAdh_WabL7"
      },
      "source": [
        "# determine m\n",
        "m1 = (-b+math.sqrt(b**2-4*a*c))/(2*c)\n",
        "m2 = (-b-math.sqrt(b**2-4*a*c))/(2*c)\n",
        "m = max(m1,m2)\n",
        "print(\"m1 = \", m1, \", m2 = \", m2, \"m = \", m)"
      ],
      "execution_count": null,
      "outputs": []
    },
    {
      "cell_type": "markdown",
      "metadata": {
        "id": "Y9NagL99n4f4"
      },
      "source": [
        "Then, we can directly obtain $p = a/m$ and $q = -mc$ for the Bass diffusion model."
      ]
    },
    {
      "cell_type": "code",
      "metadata": {
        "id": "7shbI52Ub3FK"
      },
      "source": [
        "p = a/m\n",
        "q = -m*c\n",
        "print(\"m = \", m, \", p = \", p, \"q = \", q)"
      ],
      "execution_count": null,
      "outputs": []
    },
    {
      "cell_type": "markdown",
      "metadata": {
        "id": "XTXzFcg3c-X_"
      },
      "source": [
        "### The following codes are from Session 4 (Bass diffusion prediction from the given parameters)"
      ]
    },
    {
      "cell_type": "markdown",
      "metadata": {
        "id": "BNk0pTBJWux1"
      },
      "source": [
        "**Question 1**: Please compute the values as indicated in the table above for the first 40 quarters of the sales (i.e., 10 years) using the parameters provided. The index of the quarter must be from $0 \\rightarrow 39$ (i.e., the first quarter is considered period $t=0$)."
      ]
    },
    {
      "cell_type": "code",
      "metadata": {
        "id": "vk7Qfr38mtko"
      },
      "source": [
        "import pandas as pd\n",
        "column_names = ['ft','Ft','st','St']\n",
        "quarter_index = list(range(40))\n",
        "bass_df = pd.DataFrame(index = quarter_index, columns = column_names)\n",
        "bass_df.index.name = 'Quarter'\n",
        "\n",
        "### start your code here ###\n",
        "bass_df['ft'] = [Bass_probability_ft(p, q, t) for t in bass_df.index]\n",
        "bass_df['Ft'] = [Bass_cumulative_probability_Ft(p, q, t) for t in bass_df.index]\n",
        "bass_df['st'] = [m*bass_df.at[t,'ft'] for t in bass_df.index]\n",
        "bass_df['St'] = [m*bass_df.at[t,'Ft'] for t in bass_df.index]\n",
        "### end your code here ###\n",
        "\n",
        "bass_df"
      ],
      "execution_count": null,
      "outputs": []
    },
    {
      "cell_type": "markdown",
      "metadata": {
        "id": "wqXtek3HTVNc"
      },
      "source": [
        "\n",
        "**Question 2**: Please (i) plot the columns `['ft','Ft']` in a single plot using line plot (parameter `kind='line'`) and (ii) plot the columns `['st','St']` in a single plot using bar plot (parameter `kind='bar'`). You can also indicate the plot size using the parameter `figsize = (12,4)`."
      ]
    },
    {
      "cell_type": "code",
      "metadata": {
        "id": "qLljeugk0Kw-"
      },
      "source": [
        "### start your code here ###\n",
        "bass_df[['ft','Ft']].plot(figsize = (12,4))\n",
        "bass_df[['st','St']].plot(kind = 'bar', figsize = (12,4))\n",
        "### end your code here ###"
      ],
      "execution_count": null,
      "outputs": []
    },
    {
      "cell_type": "markdown",
      "metadata": {
        "id": "EV0EufpdbPJD"
      },
      "source": [
        "Now we can compare the results with the actual quarterly sales of iPhone for the first 40 quarters (starting from Q2 2007 which the product was first introduced). "
      ]
    },
    {
      "cell_type": "markdown",
      "metadata": {
        "id": "c2G43F9gaHiS"
      },
      "source": [
        "**Question 3**: Please add the following columns and their corresponding values to the `bass_df` DataFrame\n",
        "\n",
        "\n",
        "*   Column `'Actual'`: which contains the actual sales from the DataFrame `actual_sales`\n",
        "*   Column `'CumulativeActual'`: which calculates the sum from the first quarter up until each quater in the index\n",
        "*   Column `'PError'`: which calculates the percentage error of each corresponding quarter from column `'Actual'` and column `'st'` (estimated sales in each quarter), i.e., `PError = (Actual-st)/st`\n",
        "\n"
      ]
    },
    {
      "cell_type": "code",
      "metadata": {
        "id": "FaoMpo_TaFYl"
      },
      "source": [
        "### start your code here ###\n",
        "bass_df['Actual'] = actual_sales['Sales']\n",
        "bass_df['CumulativeActual'] = [sum(actual_sales.loc[:t,'Sales']) for t in actual_sales['Sales'].index]\n",
        "bass_df['PError'] = (bass_df['Actual'] - bass_df['st'])/bass_df['Actual']\n",
        "### end your code here ###\n",
        "bass_df"
      ],
      "execution_count": null,
      "outputs": []
    },
    {
      "cell_type": "markdown",
      "metadata": {
        "id": "s4qiBovTtobr"
      },
      "source": [
        "We can also generate the date of the last day of each quarter using the code below. This list will be later used as new indexes."
      ]
    },
    {
      "cell_type": "code",
      "metadata": {
        "id": "eJnh5ARpm8D0"
      },
      "source": [
        "quarter_index_date = pd.date_range('4/1/2007', periods=40, freq='Q')\n",
        "quarter_index_date\n"
      ],
      "execution_count": null,
      "outputs": []
    },
    {
      "cell_type": "markdown",
      "metadata": {
        "id": "7GEww6Fph65y"
      },
      "source": [
        "**Question 4**: Please (i) replace the original indexes using the newly created list `quarter_index_date` and (ii) then create the following plots from the DataFrame `bass_df` using the size `figsize=(12,4)`:\n",
        "\n",
        "\n",
        "*   Columns `['St','CumulativeActual']` using a line plot\n",
        "*   Columns `['st','Actual']` using a line plot\n",
        "*   Column `['PError']` using a bar plot\n",
        "\n",
        "**Hint**: you can use the method `.set_index(...)` by calling `bass_df =  bass_df.set_index(new_index_list, index_name)` to set the index (see [link](https://www.w3resource.com/pandas/dataframe/dataframe-set_index.php))\n",
        "\n"
      ]
    },
    {
      "cell_type": "code",
      "metadata": {
        "id": "f5tkpswYh5uO"
      },
      "source": [
        "### start your code here ###\n",
        "bass_df = bass_df.set_index(quarter_index_date, 'Quarter')\n",
        "bass_df[['St','CumulativeActual']].plot(figsize=(12,4))\n",
        "bass_df[['st','Actual']].plot(figsize=(12,4))\n",
        "bass_df[['PError']].plot(kind='bar',figsize=(12,4))\n",
        "### end your code here ###"
      ],
      "execution_count": null,
      "outputs": []
    }
  ]
}