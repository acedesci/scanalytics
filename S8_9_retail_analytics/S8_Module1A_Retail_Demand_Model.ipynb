{
  "nbformat": 4,
  "nbformat_minor": 0,
  "metadata": {
    "colab": {
      "name": "S8_Module1A_Retail_Demand_Model.ipynb",
      "provenance": [],
      "collapsed_sections": [],
      "include_colab_link": true
    },
    "kernelspec": {
      "name": "python3",
      "display_name": "Python 3"
    }
  },
  "cells": [
    {
      "cell_type": "markdown",
      "metadata": {
        "id": "view-in-github",
        "colab_type": "text"
      },
      "source": [
        "<a href=\"https://colab.research.google.com/github/acedesci/scanalytics/blob/master/S8_9_retail_analytics/S8_Module1A_Retail_Demand_Model.ipynb\" target=\"_parent\"><img src=\"https://colab.research.google.com/assets/colab-badge.svg\" alt=\"Open In Colab\"/></a>"
      ]
    },
    {
      "cell_type": "markdown",
      "metadata": {
        "id": "9cS5YfcZHddR"
      },
      "source": [
        "We begin by loading the required packages."
      ]
    },
    {
      "cell_type": "code",
      "metadata": {
        "id": "I2Sn0n-ZUc_E"
      },
      "source": [
        "import pandas\n",
        "import numpy\n",
        "import sklearn\n",
        "from sklearn import *"
      ],
      "execution_count": null,
      "outputs": []
    },
    {
      "cell_type": "markdown",
      "metadata": {
        "id": "g2GH_grXDkFD"
      },
      "source": [
        "## *Supplement - Plot functions (this is a pre-built plot function)*\n",
        "\n",
        "*They will be used later on for visualizations. There is no need to go through them. You only need to run the codes.*"
      ]
    },
    {
      "cell_type": "code",
      "metadata": {
        "id": "kFbj2EDsDr3I"
      },
      "source": [
        "import matplotlib.pyplot as plt\n",
        "\n",
        "#See https://matplotlib.org/devdocs/gallery/subplots_axes_and_figures/subplots_demo.html\n",
        "\n",
        "def plot_data_scatter(data_x, data_y, X_test, y_pred, feature_list):\n",
        "    # Plot the results\n",
        "\n",
        "    n_row_plot = int((len(feature_list)+1)/2) # 2 plots per row\n",
        "    n_col_plot = 2\n",
        "    fig, ax = plt.subplots(n_row_plot, n_col_plot, figsize=(12, 12))\n",
        "    \n",
        "    i = 0 # column index of the plot\n",
        "    j = 0 # row index of the plot\n",
        "        \n",
        "    for count in range(len(feature_list)):\n",
        "        #print(data_x[:,i])\n",
        "        ax[j, i].scatter(data_x[:,min(count,len(feature_list))], data_y, s=20, edgecolor=\"black\",\n",
        "                    c=\"darkorange\", label=\"data\")\n",
        "        ax[j, i].scatter(X_test.values[:,min(count,len(feature_list))], y_pred, s=30, marker=\"X\", \n",
        "                    c=\"royalblue\", label=\"prediction\")\n",
        "        ax[j, i].set(title=feature_list[count])\n",
        "        \n",
        "        ax[j, i].set(ylabel='UNITS')\n",
        "            \n",
        "        i = min(i+1,len(feature_list)) % n_col_plot\n",
        "        if i == 0: j += 1\n",
        "\n",
        "    plt.show()"
      ],
      "execution_count": null,
      "outputs": []
    },
    {
      "cell_type": "markdown",
      "metadata": {
        "id": "HHEG7lxh_2ft"
      },
      "source": [
        "# Block 1: Data input"
      ]
    },
    {
      "cell_type": "markdown",
      "metadata": {
        "id": "NLFF9nhH_2fu"
      },
      "source": [
        "In addition to the original data, we add a new variable, which is the squared price ('PRICE_p2')."
      ]
    },
    {
      "cell_type": "code",
      "metadata": {
        "id": "nllChVoSUtNy"
      },
      "source": [
        "url = 'https://raw.githubusercontent.com/acedesci/scanalytics/master/S8_9_retail_analytics/salesCereals.csv'\n",
        "\n",
        "salesCereals = pandas.read_csv(url)\n",
        "salesCereals['PRICE_p2'] = salesCereals['PRICE']**2\n",
        "salesCereals.head()"
      ],
      "execution_count": null,
      "outputs": []
    },
    {
      "cell_type": "markdown",
      "metadata": {
        "id": "Dx07EKzc_2f-"
      },
      "source": [
        "'UPC' stands for Universal Product Code, which can be understood as one SKU in this case and in our SCM terms in general. The code below helps us identify the SKUs by which we want to forecast and their corresponding data size (number of data instances). We can see that the number of instances for each UPC is similar and that there is no UPC with only a few data points. This is important because training a model on a small dataset may limit its generalization."
      ]
    },
    {
      "cell_type": "code",
      "metadata": {
        "id": "2iMU7G0yVeWk"
      },
      "source": [
        "print(salesCereals.groupby('UPC').count())"
      ],
      "execution_count": null,
      "outputs": []
    },
    {
      "cell_type": "markdown",
      "metadata": {
        "id": "TQ_aCZWP_2gD"
      },
      "source": [
        "# Block 2: Feature engineering & preparation"
      ]
    },
    {
      "cell_type": "markdown",
      "metadata": {
        "id": "0F79zzD1_2gE"
      },
      "source": [
        "We then organize the data by 'UPC.' The model presented here only runs on a predetermined subset of variables in the data. You can add or remove these explanatory variables based on your judgemental call. "
      ]
    },
    {
      "cell_type": "code",
      "metadata": {
        "id": "0QmdVdfaX_jK"
      },
      "source": [
        "feature_list = ['PRICE', 'PRICE_p2', 'FEATURE', 'DISPLAY','TPR_ONLY','RELPRICE']\n",
        "\n",
        "productList = salesCereals['UPC'].unique()\n",
        "print(productList)\n",
        "\n",
        "X, X_train, X_test = {}, {}, {}\n",
        "y, y_train, y_test, y_pred = {}, {}, {}, {}\n",
        "\n",
        "for upc in productList:\n",
        "  \n",
        "  X[upc] = salesCereals.loc[salesCereals['UPC']==upc][feature_list]\n",
        "  y[upc] = salesCereals.loc[salesCereals['UPC']==upc]['UNITS']\n",
        "  # Split into training and testing data\n",
        "  X_train[upc], X_test[upc], y_train[upc], y_test[upc] = sklearn.model_selection.train_test_split(X[upc], y[upc], test_size=0.25, random_state=0)\n"
      ],
      "execution_count": null,
      "outputs": []
    },
    {
      "cell_type": "markdown",
      "metadata": {
        "id": "NJad8yq0_2gS"
      },
      "source": [
        "# Block 3: Model & algorithm (training & testing)"
      ]
    },
    {
      "cell_type": "markdown",
      "metadata": {
        "id": "f4D_uOPk_2gX"
      },
      "source": [
        "In the next two cells, we train and test two different types of models, namely Linear Regression and Tree Regression. In each cell, we create a loop **for** each UPC on the product list. The first line in each loop is to train the model and the second line is for testing the model's performance on unseen data. The next three lines compute the performance metrics we would like to measure.\n",
        "\n",
        "We organize the linear regression result by 'UPC' (row) and performance metrics (columns). Then we create a dataframe and put the computed metric in the corresponding column (the last line in each loop)."
      ]
    },
    {
      "cell_type": "code",
      "metadata": {
        "id": "THvq_pEyerzL"
      },
      "source": [
        "#Linear model\n",
        "regr = {}\n",
        "regrSummary = pandas.DataFrame(columns=['trainRMSE', 'testRMSE','testMAE','testMAPE'], index = productList)\n",
        "\n",
        "for upc in productList:\n",
        "    regr[upc] = sklearn.linear_model.LinearRegression().fit(X_train[upc],y_train[upc])\n",
        "    trainRMSE = numpy.sqrt(sklearn.metrics.mean_squared_error(y_train[upc], regr[upc].predict(X_train[upc])))\n",
        "    y_pred[upc] = regr[upc].predict(X_test[upc])\n",
        "\n",
        "    testMAE = sklearn.metrics.mean_absolute_error(y_test[upc], y_pred[upc])\n",
        "    testMAPE = numpy.mean(numpy.abs((y_test[upc] - y_pred[upc]) / y_test[upc]))\n",
        "    testRMSE = numpy.sqrt(sklearn.metrics.mean_squared_error(y_test[upc], y_pred[upc]))\n",
        "    regrSummary.loc[upc] =  [trainRMSE, testRMSE, testMAE, testMAPE]\n",
        "\n",
        "print('Linear regression Summary')\n",
        "print(regrSummary)\n",
        "print('average training RMSE:' + str(round(regrSummary['trainRMSE'].mean(),2)))\n",
        "print('average testing RMSE:' + str(round(regrSummary['testRMSE'].mean(),2)))\n",
        "print('average testing MAE:' + str(round(regrSummary['testMAE'].mean(),2)))\n",
        "print('average testing MAPE:' + str(round(regrSummary['testMAPE'].mean(),2)))\n"
      ],
      "execution_count": null,
      "outputs": []
    },
    {
      "cell_type": "markdown",
      "metadata": {
        "id": "pMtJCC1oJ3Gy"
      },
      "source": [
        "Here we visualize the data points and the predictions using the previously defined plot function."
      ]
    },
    {
      "cell_type": "code",
      "metadata": {
        "id": "H-nYM7TvEBMl"
      },
      "source": [
        "# Plot prediction results for a product (UPC)\n",
        "upc = productList[1]\n",
        "data_y = salesCereals.loc[salesCereals['UPC']==upc]['UNITS'].values\n",
        "data_x = salesCereals.loc[salesCereals['UPC']==upc][feature_list].values\n",
        "plot_data_scatter(data_x, data_y, X_test[upc], y_pred[upc], feature_list)"
      ],
      "execution_count": null,
      "outputs": []
    },
    {
      "cell_type": "markdown",
      "metadata": {
        "id": "dtxnVPUfJi6x"
      },
      "source": [
        "In order to see the impact of the price on the demand, we use a simple plot function below from mathplotlib to see how the demand would change when the price changes.\n",
        "\n",
        "For more details of the plot function, please see: https://matplotlib.org/api/_as_gen/matplotlib.pyplot.plot.html"
      ]
    },
    {
      "cell_type": "code",
      "metadata": {
        "id": "OXtyo4WkHzvQ"
      },
      "source": [
        "upc = productList[1]\n",
        "input_x = []\n",
        "prices = [2.0, 2.25, 2.5, 2.75, 3.0, 3.25, 3.5, 3.75, 4.0]\n",
        "\n",
        "# generate inputs for the plot using simple feature values and varying price points\n",
        "for p in prices:\n",
        "  input_x.append([p, p**2, 0,0,0, 1.0])\n",
        "  \n",
        "# obtain the predicted demands\n",
        "predict_y = regr[upc].predict(input_x)\n",
        "plt.plot(prices, predict_y, marker='o')\n",
        "plt.xlabel('Price')\n",
        "plt.ylabel('Demand') \n",
        "plt.show()"
      ],
      "execution_count": null,
      "outputs": []
    },
    {
      "cell_type": "markdown",
      "metadata": {
        "id": "p7t24jaI_2gm"
      },
      "source": [
        "Likewise, we obtain the tree regression results by simply changing the function name and the result table name."
      ]
    },
    {
      "cell_type": "code",
      "metadata": {
        "id": "m0wTwOc5eZxD"
      },
      "source": [
        "#Tree models\n",
        "regr = {}\n",
        "regrSummary = pandas.DataFrame(columns=['trainRMSE', 'testRMSE','testMAE','testMAPE'], index = productList)\n",
        "\n",
        "for upc in productList:\n",
        "      \n",
        "    regr[upc] = sklearn.tree.DecisionTreeRegressor(random_state = 0).fit(X_train[upc],y_train[upc]) # standard regression tree\n",
        "    # regr[upc] = sklearn.ensemble.RandomForestRegressor(random_state = 0).fit(X_train[upc],y_train[upc]) # random forest tree\n",
        "    trainRMSE = numpy.sqrt(sklearn.metrics.mean_squared_error(y_train[upc], regr[upc].predict(X_train[upc])))\n",
        "    y_pred[upc] = regr[upc].predict(X_test[upc])\n",
        "\n",
        "    testMAE = sklearn.metrics.mean_absolute_error(y_test[upc], y_pred[upc])\n",
        "    testMAPE = numpy.mean(numpy.abs((y_test[upc] - y_pred[upc]) / y_test[upc]))\n",
        "    testRMSE = numpy.sqrt(sklearn.metrics.mean_squared_error(y_test[upc], y_pred[upc]))\n",
        "    regrSummary.loc[upc] =  [trainRMSE, testRMSE, testMAE, testMAPE]\n",
        "\n",
        "print('Regression Tree Summary')\n",
        "print(regrSummary)\n",
        "print('average training RMSE:' + str(round(regrSummary['trainRMSE'].mean(),2)))\n",
        "print('average testing RMSE:' + str(round(regrSummary['testRMSE'].mean(),2)))\n",
        "print('average testing MAE:' + str(round(regrSummary['testMAE'].mean(),2)))\n",
        "print('average testing MAPE:' + str(round(regrSummary['testMAPE'].mean(),2)))\n"
      ],
      "execution_count": null,
      "outputs": []
    },
    {
      "cell_type": "code",
      "metadata": {
        "id": "iopMpaOzG3DG"
      },
      "source": [
        "# Plot prediction results for a product (UPC)\n",
        "upc = productList[1]\n",
        "data_y = salesCereals.loc[salesCereals['UPC']==upc]['UNITS'].values\n",
        "data_x = salesCereals.loc[salesCereals['UPC']==upc][feature_list].values\n",
        "plot_data_scatter(data_x, data_y, X_test[upc], y_pred[upc], feature_list)"
      ],
      "execution_count": null,
      "outputs": []
    },
    {
      "cell_type": "code",
      "metadata": {
        "id": "NCn-K6OOKex6"
      },
      "source": [
        "upc = productList[1]\n",
        "input_x = []\n",
        "prices = [2.0, 2.25, 2.5, 2.75, 3.0, 3.25, 3.5, 3.75, 4.0]\n",
        "\n",
        "# generate inputs for the plot using simple feature values and varying price points\n",
        "for p in prices:\n",
        "  input_x.append([p, p**2, 0,0,0, 1.0])\n",
        "  \n",
        "# obtain the predicted demands\n",
        "predict_y = regr[upc].predict(input_x)\n",
        "plt.plot(prices, predict_y, marker='o')\n",
        "plt.xlabel('Price')\n",
        "plt.ylabel('Demand') \n",
        "plt.show()"
      ],
      "execution_count": null,
      "outputs": []
    },
    {
      "cell_type": "markdown",
      "metadata": {
        "id": "pUIT5AIn_2gy"
      },
      "source": [
        "# Block 4: Model selection"
      ]
    },
    {
      "cell_type": "markdown",
      "metadata": {
        "id": "-1CjAbsg_2gz"
      },
      "source": [
        "By comparing the average result, we can see that the linear regression model generally outperformed the decision tree regression and did not overfit the data. Therefore, we proceed with the linear regression model for the whole dataset by replacing 'X_train' with 'X'. Given that the model has 'seen' the whole dataset, its forecast errors normally decrease. Therefore, we will save the trained model and use it for the new data which will be used in the optimization models in the next session."
      ]
    },
    {
      "cell_type": "code",
      "metadata": {
        "id": "IYJ4WZyW2O6I"
      },
      "source": [
        "# Best model\n",
        "regr = {}\n",
        "regrSummary = pandas.DataFrame(columns=['totalMAE','totalMAPE', 'totalRMSE'], index = productList)\n",
        "\n",
        "for upc in productList:\n",
        "    regr[upc] = sklearn.linear_model.LinearRegression().fit(X[upc],y[upc])\n",
        "    y_pred[upc] = regr[upc].predict(X[upc])\n",
        "    testMAE = sklearn.metrics.mean_absolute_error(y[upc], y_pred[upc])\n",
        "    testMAPE = numpy.mean(numpy.abs((y[upc] - y_pred[upc]) / y[upc]))\n",
        "    testRMSE = numpy.sqrt(sklearn.metrics.mean_squared_error(y[upc], y_pred[upc]))\n",
        "    regrSummary.loc[upc] =  [testMAE, testMAPE, testRMSE]\n",
        "\n",
        "print('Best Model Summary')\n",
        "print(regrSummary)\n",
        "print('average overall MAE:' + str(round(regrSummary['totalMAE'].mean(),2)))\n",
        "print('average overall MAPE:' + str(round(regrSummary['totalMAPE'].mean(),2)))\n",
        "print('average overall RMSE:' + str(round(regrSummary['totalRMSE'].mean(),2)))"
      ],
      "execution_count": null,
      "outputs": []
    },
    {
      "cell_type": "markdown",
      "metadata": {
        "id": "jaiSKdhGdmF8"
      },
      "source": [
        "## Save trained models\r\n",
        "\r\n",
        "### **Colab**: In addition to downloading the results as we did in the previous session (not shown here), you can also save to your Google Drive."
      ]
    },
    {
      "cell_type": "code",
      "metadata": {
        "id": "wsJ0pDjnrnKv"
      },
      "source": [
        "# we need to remount Google Drive in order to save into it\n",
        "import pickle\n",
        "\n",
        "from google.colab import drive\n",
        "drive.mount('/content/drive')\n",
        "cwd = '/content/drive/My Drive/'\n",
        "\n",
        "# save to drive\n",
        "for upc in productList:\n",
        "    filename = cwd+str(upc)+'_demand_model.sav'\n",
        "    # save the model to disk\n",
        "    pickle.dump(regr[upc], open(filename, 'wb'))"
      ],
      "execution_count": null,
      "outputs": []
    },
    {
      "cell_type": "markdown",
      "metadata": {
        "id": "mQAL9Yibd1Gh"
      },
      "source": [
        "## **Jupyter**: Save to local folder"
      ]
    },
    {
      "cell_type": "code",
      "metadata": {
        "id": "oF5XjbHAmVYG"
      },
      "source": [
        "import pickle\n",
        "cwd = './'\n",
        "\n",
        "# save to \n",
        "for upc in productList:\n",
        "    filename = cwd+str(upc)+'_demand_model.sav'\n",
        "    # save the model to disk\n",
        "    pickle.dump(regr[upc], open(filename, 'wb'))"
      ],
      "execution_count": null,
      "outputs": []
    }
  ]
}