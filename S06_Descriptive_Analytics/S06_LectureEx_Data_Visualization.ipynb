{
  "nbformat": 4,
  "nbformat_minor": 0,
  "metadata": {
    "kernelspec": {
      "display_name": "Python 3",
      "language": "python",
      "name": "python3"
    },
    "language_info": {
      "codemirror_mode": {
        "name": "ipython",
        "version": 3
      },
      "file_extension": ".py",
      "mimetype": "text/x-python",
      "name": "python",
      "nbconvert_exporter": "python",
      "pygments_lexer": "ipython3",
      "version": "3.7.6"
    },
    "colab": {
      "name": "S6_LectureEx_Data_Visualization.ipynb",
      "provenance": [],
      "include_colab_link": true
    }
  },
  "cells": [
    {
      "cell_type": "markdown",
      "metadata": {
        "id": "view-in-github",
        "colab_type": "text"
      },
      "source": [
        "<a href=\"https://colab.research.google.com/github/acedesci/scanalytics/blob/master/S06_Descriptive_Analytics/S06_LectureEx_Data_Visualization.ipynb\" target=\"_parent\"><img src=\"https://colab.research.google.com/assets/colab-badge.svg\" alt=\"Open In Colab\"/></a>"
      ]
    },
    {
      "cell_type": "markdown",
      "metadata": {
        "id": "QWGQlbUezKuA"
      },
      "source": [
        "# S6 - Data Visualization\n",
        "Programming topics covered in this section:\n",
        "* `seaborn` library (Overview). Tutorial and guide to `seaborn` can be found here: [seaborn link](https://seaborn.pydata.org/tutorial.html)\n",
        "\n",
        "Examples include:\n",
        "* Analyzing Cereal sales\n",
        "\n",
        "---\n",
        "\n",
        "# `seaborn`\n",
        "\n",
        "`seaborn` is a Python data visualization library based on `matplotlib`. It provides a high-level interface for drawing attractive and informative statistical graphics.\n"
      ]
    },
    {
      "cell_type": "markdown",
      "metadata": {
        "id": "VptLReYUzKuI"
      },
      "source": [
        "## 1. Importing libraries and Data\n",
        "To use `seaborn`, we need to import it first. Another library commonly imported with `seaborn` is the `matplotlib.pyplot` library, which is commonly aliased as `plt`. This library is useful for adjusting graphics beyond the simple parameters allowed in the `seaborn` library. Note that `seaborn` is actually built on top of the `matplotlib` library.\n",
        "\n",
        "Let's import `pandas` since we use this library to manipulate our data."
      ]
    },
    {
      "cell_type": "code",
      "metadata": {
        "id": "Ruta9kYFzKuJ"
      },
      "source": [
        "import pandas as pd\n",
        "import matplotlib.pyplot as plt\n",
        "import seaborn as sns\n",
        "%matplotlib inline"
      ],
      "execution_count": null,
      "outputs": []
    },
    {
      "cell_type": "markdown",
      "metadata": {
        "id": "QfcJCj3DzKuK"
      },
      "source": [
        "Let's re-load the `salesCerealsOriginal.csv` data that we used in Session 4 when introducing `pandas`, and select the column `WEEK_END_DATE` as the index of the `DataFrame`. \n",
        "Here are the descriptions of the variables in this DataFrame. \n",
        "\n",
        "| VARIABLE NAME | DESCRIPTION | \n",
        "|:----|:----|\n",
        "|WEEK_END_DATE|week ending date|\n",
        "|STORE_NUM|store number|\n",
        "|UPC|(Universal Product Code) product specific identifier|\n",
        "|UNITS|units sold|\n",
        "|VISITS|number of unique purchases (baskets) that included the product|\n",
        "|HHS|# of purchasing households|\n",
        "|SPEND|total spend (i.e., $ sales)|\n",
        "|PRICE|actual amount charged for the product at shelf|\n",
        "|BASE_PRICE|base price of item|\n",
        "|FEATURE|product was in in-store circular|\n",
        "|DISPLAY|product was a part of in-store promotional display|\n",
        "|TPR_ONLY|temporary price reduction only (i.e., shelf tag only, product was reduced in price but not on display or in an advertisement)|\n",
        "|DESCRIPTION|product description|\n",
        "|CATEGORY|category of product|\n",
        "|SUB_CATEGORY|sub-category of product|\n",
        "\n",
        "\n",
        "To avoid an issue when using the `UPC` column which contains product numbers (`seaborn might consider them to be numeric in some plots`). We also add another column to keep the product code `UPC` in the string format. "
      ]
    },
    {
      "cell_type": "code",
      "metadata": {
        "id": "-7krBlP3zKuL"
      },
      "source": [
        "url = 'https://raw.githubusercontent.com/acedesci/scanalytics/master/S06_Descriptive_Analytics/salesCerealsOriginal.csv'\n",
        "df_cereal = pd.read_csv(url, parse_dates=['WEEK_END_DATE'])\n",
        "\n",
        "# Since seaborn may consider the column with numerical value such as UPC as numeric type,\n",
        "# we create a new column to reformat this column into string by adding \"UPC\" into it\n",
        "df_cereal['UPC_string'] = [\"UPC\"+str(x) for x in df_cereal['UPC']]\n",
        "df_cereal.head()\n"
      ],
      "execution_count": null,
      "outputs": []
    },
    {
      "cell_type": "markdown",
      "metadata": {
        "id": "KVuua3QuzKuN"
      },
      "source": [
        "## 2. Line Plots\n",
        "The `seaborn` library is able to generate a wide variety of figures. We first explore how to generate line plots using this library.\n",
        "\n",
        "The function `seaborn.lineplot()` draws a line plot with possibility of several semantic groupings. \n",
        "\n",
        "Let's visualize the number of units sold each week for each UPC using line plots."
      ]
    },
    {
      "cell_type": "code",
      "metadata": {
        "id": "JUfRVRPBzKuO"
      },
      "source": [
        "plt.figure(figsize=(14, 6))                                # setting the size of the graph\n",
        "plt.title('Number of units sold each week')              # Giving a title to the graph\n",
        "sns.lineplot(data=df_cereal, x='WEEK_END_DATE', y='UNITS')"
      ],
      "execution_count": null,
      "outputs": []
    },
    {
      "cell_type": "markdown",
      "metadata": {
        "id": "uy0hEGjwzKuO"
      },
      "source": [
        "Note that passing the entire dataset in long-form mode will aggregate over repeated values (each `WEEEK_END_DATE`) to show the mean and 95% confidence interval. It means,  the solid line shows the average sold units among the different types of products (`UPC`). This plot is only useful if the unit size is relatively homogeneous since it will mainly shows the average unit.\n",
        "\n",
        "If we want to make a plot where each line is the units sold of a UPC over time, we can draw these lines using the parameters `hue`, `size` or `style`. \n",
        "\n",
        "* `hue`: differentiates each line with a different color shade\n",
        "* `size`: differentiates each line with a different weight (e.g., 1pt, 1/4 pt, 1/2 pt)\n",
        "* `style`: differentiates each line with a different style (e.g., solid, dashed, dot)\n",
        "\n",
        "The graph below is rather confusing but it gives an idea how the previous graph was created."
      ]
    },
    {
      "cell_type": "code",
      "metadata": {
        "id": "fxSw4DjPzKuP"
      },
      "source": [
        "plt.figure(figsize=(14, 6))                                # setting the size of the graph\n",
        "plt.title('Number of units sold each week per UPC')        # Giving a title to the graph\n",
        "sns.lineplot(data=df_cereal, x='WEEK_END_DATE', y='UNITS', hue='UPC_string')\n"
      ],
      "execution_count": null,
      "outputs": []
    },
    {
      "cell_type": "markdown",
      "metadata": {
        "id": "AboQcrKdzKuR"
      },
      "source": [
        "Let's take a closer look at the line plot of `UPC` 1600027527, to better see the different peaks it has. We can set this line color to green for consistency. To do this, we slice only the row which contains the product of our interest."
      ]
    },
    {
      "cell_type": "code",
      "metadata": {
        "id": "TH7sNU_pzKuR"
      },
      "source": [
        "plt.figure(figsize=(14, 6))\n",
        "plt.title('Number of units sold each week for UPC 1600027527')\n",
        "df_one_UPC = df_cereal[df_cereal['UPC_string']=='UPC1600027527']\n",
        "sns.lineplot(data = df_one_UPC, x='WEEK_END_DATE', y='UNITS', color='green')\n"
      ],
      "execution_count": null,
      "outputs": []
    },
    {
      "cell_type": "code",
      "metadata": {
        "id": "9Vr83JSozKuS"
      },
      "source": [
        "# computed aggregated sales per UPC and sorted by this value\n",
        "agg_units = pd.DataFrame(df_cereal.groupby('UPC_string').UNITS.sum())\n",
        "# we also sort the values by unit\n",
        "agg_units.sort_values(by='UNITS', ascending=False, inplace=True)\n",
        "agg_units"
      ],
      "execution_count": null,
      "outputs": []
    },
    {
      "cell_type": "markdown",
      "metadata": {
        "id": "kDXCLZ6MzKuS"
      },
      "source": [
        "Now let's put these numbers in a bar graph using the `sns.barplot()` function. Note that here we specify the values in the `x` and `y` axes."
      ]
    },
    {
      "cell_type": "code",
      "metadata": {
        "id": "DOU_I8HWzKuS"
      },
      "source": [
        "plt.figure(figsize=(14, 6))\n",
        "plt.title('Total number of units sold per UPC')\n",
        "sns.barplot(y=agg_units.index, x=agg_units[\"UNITS\"], color = 'grey')"
      ],
      "execution_count": null,
      "outputs": []
    },
    {
      "cell_type": "markdown",
      "metadata": {
        "id": "Qz06E3GLzKuU"
      },
      "source": [
        "## 3. Scatter Plots\n",
        "Other popular charts are point clouds (i.e., `scatterplots`). Several of them are offered in `seaborn`.\n",
        "\n",
        "In this section we will look at the association of discounts with sales (in units). To do this, we first calculate the percent reduction as $ 100 \\times \\frac{BASE\\_PRICE - PRICE}{BASE\\_PRICE}$ and add this value as the `MARKDOWN` column in our original dataframe `df_cereal`."
      ]
    },
    {
      "cell_type": "code",
      "metadata": {
        "id": "XZe3y5kbzKuV"
      },
      "source": [
        "df_cereal['MARKDOWN'] = (df_cereal['BASE_PRICE'] - df_cereal['PRICE']) / df_cereal['BASE_PRICE'] * 100\n",
        "df_cereal.head()"
      ],
      "execution_count": null,
      "outputs": []
    },
    {
      "cell_type": "markdown",
      "metadata": {
        "id": "wCTT8zbvzKuV"
      },
      "source": [
        "Let's create our scatter plot:"
      ]
    },
    {
      "cell_type": "code",
      "metadata": {
        "id": "ScXdKK87zKuW"
      },
      "source": [
        "plt.figure(figsize=(12,4))\n",
        "plt.title('Number of units sold and markdown in percentage')\n",
        "sns.scatterplot(data=df_cereal, x='MARKDOWN', y='UNITS')"
      ],
      "execution_count": null,
      "outputs": []
    },
    {
      "cell_type": "markdown",
      "metadata": {
        "id": "EwJaU-HhzKuX"
      },
      "source": [
        "Now let's identify the discounts that match the elements of the flyer and other types of discounts, and see if the associations between `MARKDOWN` and `UNITS` are different.\n",
        "\n",
        "We can do this by setting `hue = 'FEATURE'`. Remember that `FEATURE` indicates whether the element is in the circular or not."
      ]
    },
    {
      "cell_type": "code",
      "metadata": {
        "id": "mjxkNU3yzKuX"
      },
      "source": [
        "plt.figure(figsize=(12,4))\n",
        "plt.title('Number of units sold and markdown in percentage\\n (with indication of whether'\n",
        "         ' the item is featured in the circular)')\n",
        "sns.scatterplot(data=df_cereal, x='MARKDOWN', y='UNITS', hue='FEATURE')"
      ],
      "execution_count": null,
      "outputs": []
    },
    {
      "cell_type": "markdown",
      "metadata": {
        "id": "5MUt0gzCzKuY"
      },
      "source": [
        "## 4. Heatmaps\n",
        "Now let's move on to heatmaps. This is useful for representing values on two dimensions (which are often categories).\n",
        "\n",
        "Let's say we want to check the total sales (in units) on each month for each UPC.\n",
        "\n",
        "To do this, we must first organize the data. In particular, we need to aggregate the data by month (i.e., we need to calculate the total sales per month for each UPC)."
      ]
    },
    {
      "cell_type": "code",
      "metadata": {
        "id": "WfjeOvJpzKuZ"
      },
      "source": [
        "# lets add a new column to the original dataframe wich indicate the month in which each sale was made\n",
        "# since the value is in `datetime` format. We can obtain it by using the attribute `.month`\n",
        "# we can also use the string operation (e.g., slice only the month index from WEEK_END_DATE if needed)\n",
        "df_cereal['SALE_MONTH'] = [i.month for i in df_cereal['WEEK_END_DATE']]\n",
        "df_cereal"
      ],
      "execution_count": null,
      "outputs": []
    },
    {
      "cell_type": "markdown",
      "metadata": {
        "id": "Ptsm-FhH8iER"
      },
      "source": [
        "Now we create a separate dataframe with each UPC value as one column. We also indicate `as_index=False` since by default groupby will create index based on the columns we use to group. Since we use two columns `['SALE_MONTH', 'UPC']`, this will create a muli-index which is difficult to use. Thus, we will not use them as indexes."
      ]
    },
    {
      "cell_type": "code",
      "metadata": {
        "id": "IR3sZZZYzKuZ"
      },
      "source": [
        "df_cereal_summary = pd.DataFrame(df_cereal.groupby(['SALE_MONTH', 'UPC_string'], as_index=False).UNITS.sum())\n",
        "df_cereal_summary"
      ],
      "execution_count": null,
      "outputs": []
    },
    {
      "cell_type": "markdown",
      "metadata": {
        "id": "CBd43RyZzKuZ"
      },
      "source": [
        "Let's manipulate the table using the `.pivot()` function to visualize the data as a matrix. Check [this page](https://pandas.pydata.org/pandas-docs/stable/reference/api/pandas.DataFrame.pivot.html) to know more about pivot tables."
      ]
    },
    {
      "cell_type": "code",
      "metadata": {
        "scrolled": false,
        "id": "DhKGg2WmzKua"
      },
      "source": [
        "#converting the dataframe into a pivot table\n",
        "df_cereal_pivot = df_cereal_summary.pivot(index='SALE_MONTH', columns='UPC_string', values='UNITS')   \n",
        "df_cereal_pivot"
      ],
      "execution_count": null,
      "outputs": []
    },
    {
      "cell_type": "markdown",
      "metadata": {
        "id": "Lzcvel6ezKua"
      },
      "source": [
        "We can now draw a heatmap. The parameter `annot=True` indicates that we also want to display the values and `fmt='d'` indicates that the displayed value is in the integer format (also see [heatmap function link](https://seaborn.pydata.org/generated/seaborn.heatmap.html)). You can also indicate the color map (`cmap`). The list of available cmap can be found here [cmap link](https://matplotlib.org/3.1.0/tutorials/colors/colormaps.html)."
      ]
    },
    {
      "cell_type": "code",
      "metadata": {
        "id": "CCzQevhVzKua"
      },
      "source": [
        "plt.figure(figsize = (12,9))\n",
        "plt.title('Number of units sold per month for each UPC')\n",
        "plt.ylabel('Month')\n",
        "sns.heatmap(data=df_cereal_pivot, annot=True, fmt='d', cmap='Oranges')\n"
      ],
      "execution_count": null,
      "outputs": []
    },
    {
      "cell_type": "markdown",
      "metadata": {
        "id": "pnc8QDLMzKub"
      },
      "source": [
        "The `sns.heatmap()` function can also be used to check the correlation between different variables of a `DataFrame`.  This may be useful to explore the data before training a machine learning model (this is the same as the correlation you can see in the pandas-profiling report).\n",
        "\n",
        "We are using a diverging color palette here because we want values greater than 0 to be a different color than values less than 0. You can also specify the number the colors in the palette by setting the parameter `n` in the `sns.diverging_palette()` function. Check [this page](https://seaborn.pydata.org/tutorial/color_palettes.html#custom-diverging-palettes) and [this page](https://seaborn.pydata.org/generated/seaborn.diverging_palette.html) for more information on how  to create a custom `colormap` for diverging data."
      ]
    },
    {
      "cell_type": "code",
      "metadata": {
        "id": "C7lsVrOdzKub"
      },
      "source": [
        "df_cereal.corr()"
      ],
      "execution_count": null,
      "outputs": []
    },
    {
      "cell_type": "code",
      "metadata": {
        "id": "ImQ66tOMkwOu"
      },
      "source": [
        "# first we can try with the standard heatmap (with a specified cmap)\n",
        "plt.figure(figsize = (12,9))\n",
        "plt.title('Correlation')\n",
        "sns.heatmap(data=df_cereal.corr(), cmap='Oranges')\n"
      ],
      "execution_count": null,
      "outputs": []
    },
    {
      "cell_type": "code",
      "metadata": {
        "id": "O8jn2I6MzKuc"
      },
      "source": [
        "plt.figure(figsize=(14,6))\n",
        "\n",
        "# Creating a customized palette with 7 colors\n",
        "custom_cmap = sns.diverging_palette(220, 20, n=7, as_cmap=True)\n",
        "\n",
        "# Creating the plot \n",
        "# https://seaborn.pydata.org/examples/many_pairwise_correlations.html\n",
        "sns.heatmap(df_cereal.corr(),   # specifying the matrix correlation ( pairwise correlation of columns) as the data to plot \n",
        "            cmap=custom_cmap,   # specifying our customized palette of colors\n",
        "            square=True,        # True to set the Axes aspect to “equal” so each cell will be square-shaped.\n",
        "            vmin=-1., vmax=1., center=0,  # providing the values min/max/center Values to anchor the colormap \n",
        "            linewidths=.5,      # creating the white separating lines in the plot\n",
        "            cbar_kws={\"shrink\": .5})  # Reduce the size of the color bar"
      ],
      "execution_count": null,
      "outputs": []
    },
    {
      "cell_type": "markdown",
      "metadata": {
        "id": "PW50e0RvzKuc"
      },
      "source": [
        "## 5. Distribution Plots\n",
        "Finally, we present different functions for viewing distributions: **histograms** and **density** plots. \n",
        "Let's analyze our data with respect to `MARKDOWN`. "
      ]
    },
    {
      "cell_type": "markdown",
      "metadata": {
        "id": "-zhJq7iEzKud"
      },
      "source": [
        "A first option is to use `sns.distplot()`. Here we use `kde = False` (Kernel Density Estimate); using `kde = True` shows a smooth distribution instead of the raw distribution."
      ]
    },
    {
      "cell_type": "code",
      "metadata": {
        "id": "gY8RBuXPzKud"
      },
      "source": [
        "plt.title('Distribution of markdowns')\n",
        "sns.distplot(a=df_cereal['MARKDOWN'])\n"
      ],
      "execution_count": null,
      "outputs": []
    },
    {
      "cell_type": "markdown",
      "metadata": {
        "id": "RGGDpb1DzKue"
      },
      "source": [
        "It is also possible to show several distributions on the same figure. It can be done as below.\n",
        "\n",
        "Note that in every call to `sns.distplot()`, we specify the label to indicate the variable corresponding to the distribution. Then, on the last line, we force the caption to appear."
      ]
    },
    {
      "cell_type": "code",
      "metadata": {
        "id": "Mf1IBVOqzKue"
      },
      "source": [
        "sns.distplot(a=df_cereal['MARKDOWN'][df_cereal['FEATURE'] == 0], label='Not in circular')\n",
        "sns.distplot(a=df_cereal['MARKDOWN'][df_cereal['FEATURE'] == 1], label='In circular')\n",
        "\n",
        "plt.title('Distribution of markdowns')  # specify the title\n",
        "plt.legend()  # add labels of data"
      ],
      "execution_count": null,
      "outputs": []
    },
    {
      "cell_type": "markdown",
      "metadata": {
        "id": "6ve2gR0mzKue"
      },
      "source": [
        "Finally, it is possible to show the joint distribution of two variables with `sns.jointplot()`.\n",
        "\n",
        "Here the first distribution is for `MARKDOWN` while the second distribution is for `BASE_PRICE`."
      ]
    },
    {
      "cell_type": "code",
      "metadata": {
        "id": "Ph8muWFszKue"
      },
      "source": [
        "plt.figure(figsize=(14,6))\n",
        "sns.jointplot(y=df_cereal['SPEND'], x=df_cereal['MARKDOWN'], hue = df_cereal['FEATURE'], kind='kde')\n",
        "plt.show()"
      ],
      "execution_count": null,
      "outputs": []
    },
    {
      "cell_type": "markdown",
      "metadata": {
        "id": "XtsPF0egAYOa"
      },
      "source": [
        "## 6. Displaying multiple plots.\n",
        "\n",
        "In some cases, we may want to display multiple plots. This can be done by creating subplots (either in 1 or 2 dimensions) and assign each plot to a subplot. \n",
        "\n"
      ]
    },
    {
      "cell_type": "code",
      "metadata": {
        "id": "9HZDOpCJzKuf"
      },
      "source": [
        "fig, axes = plt.subplots(nrows = 2, ncols = 2, figsize=(10, 10),sharey=True)\n",
        "fig.suptitle('Multiple plots')\n",
        "\n",
        "# first subplot in position [0,0]\n",
        "df_one_UPC = df_cereal[df_cereal['UPC_string']=='UPC1600027528']\n",
        "sns.scatterplot(ax=axes[0,0], y=df_one_UPC[\"UNITS\"], x=df_one_UPC[\"PRICE\"], hue = df_one_UPC['FEATURE'])\n",
        "axes[0,0].set_title('UPC1600027528')\n",
        "\n",
        "# first subplot in position [0,1]\n",
        "df_one_UPC = df_cereal[df_cereal['UPC_string']=='UPC1600027564']\n",
        "sns.scatterplot(ax=axes[0,1], y=df_one_UPC[\"UNITS\"], x=df_one_UPC[\"PRICE\"], hue = df_one_UPC['FEATURE'])\n",
        "axes[0,1].set_title('UPC1600027564')\n",
        "\n",
        "# first subplot in position [1,0]\n",
        "df_one_UPC = df_cereal[df_cereal['UPC_string']=='UPC3800031829']\n",
        "sns.scatterplot(ax=axes[1,0], y=df_one_UPC[\"UNITS\"], x=df_one_UPC[\"PRICE\"], hue = df_one_UPC['FEATURE'])\n",
        "axes[1,0].set_title('UPC3800031829')\n",
        "\n",
        "# first subplot in position [1,1]\n",
        "df_one_UPC = df_cereal[df_cereal['UPC_string']=='UPC1600027527']\n",
        "sns.scatterplot(ax=axes[1,1], y=df_one_UPC[\"UNITS\"], x=df_one_UPC[\"PRICE\"], hue = df_one_UPC['FEATURE'])\n",
        "axes[1,1].set_title('UPC1600027527')"
      ],
      "execution_count": null,
      "outputs": []
    }
  ]
}