{
  "nbformat": 4,
  "nbformat_minor": 0,
  "metadata": {
    "kernelspec": {
      "display_name": "Python 3",
      "language": "python",
      "name": "python3"
    },
    "language_info": {
      "codemirror_mode": {
        "name": "ipython",
        "version": 3
      },
      "file_extension": ".py",
      "mimetype": "text/x-python",
      "name": "python",
      "nbconvert_exporter": "python",
      "pygments_lexer": "ipython3",
      "version": "3.7.6"
    },
    "colab": {
      "name": "S05_LectureEx_1_Notebook_Processing.ipynb",
      "provenance": [],
      "collapsed_sections": [],
      "include_colab_link": true
    }
  },
  "cells": [
    {
      "cell_type": "markdown",
      "metadata": {
        "id": "view-in-github",
        "colab_type": "text"
      },
      "source": [
        "<a href=\"https://colab.research.google.com/github/acedesci/scanalytics/blob/master/S06_Descriptive_Analytics/S06_LectureEx_Data_Analytics.ipynb\" target=\"_parent\"><img src=\"https://colab.research.google.com/assets/colab-badge.svg\" alt=\"Open In Colab\"/></a>"
      ]
    },
    {
      "cell_type": "markdown",
      "metadata": {
        "id": "xpcq0W5adVgo"
      },
      "source": [
        "# S6 - Descriptive Analytics - Clustering Models\n",
        "Programming topics covered in this section:\n",
        "* Data transformation for descriptive analytics\n",
        "* Clustering and segmentation models\n",
        "  *   K-Means clustering and optimization\n",
        "  *   Hierarchical clustering\n",
        "\n",
        "\n",
        "\n",
        "Examples include:\n",
        "* Transportation shipment clustering analysis"
      ]
    },
    {
      "cell_type": "code",
      "metadata": {
        "id": "CWUOy93mdlkW"
      },
      "source": [
        "import pandas as pd"
      ],
      "execution_count": 1,
      "outputs": []
    },
    {
      "cell_type": "markdown",
      "metadata": {
        "id": "3o-4MMzmdVg0"
      },
      "source": [
        "## 1. Importing data and creating a report\n",
        "In this exercise, we make use of supply chain health commodity shipment and pricing data.The data set provides the commodity pricing and associated supply chain expenses necessary to move the commodities to countries for use. The original data are provided by the US Agency for International Development and can be accessed at [this page](https://catalog.data.gov/dataset/supply-chain-shipment-pricing-data).\n",
        "\n",
        "This is a description of our adapted data in the file `SCMS_Delivery_History_Dataset.csv`.\n",
        "\n",
        "| VARIABLE NAME | DESCRIPTION | \n",
        "|:----|:----|\n",
        "|id| identification number|\n",
        "|project code|identification of the project|\n",
        "|country|country to which the items are shipped|\n",
        "|vendor|identification of the vendor of the item|\n",
        "|manufacturing site|name of the manufacturer of the item|\n",
        "|shipment mode|transportation mode (e.g., air, truck)|\n",
        "|scheduled delivery date|programmed date for delivery|\n",
        "|delivered to client date|real date of delivery|\n",
        "|delivery recorded date|registered date of delivery|\n",
        "|product group|main category of the item|\n",
        "|product subgroup|subcategory of the item (e.g., HIV test, pediatric, Adult) |\n",
        "|molecule type|description of the composition of the item (e.g., Nevirapine, HIV 1/2, Didanosine)|\n",
        "|brand| item brand (e.g, generic or any other commercial brand)|\n",
        "|dosage| specifications about the dosage of each item (e.g.,10mg/ml, 200mg)|\n",
        "|dosage form|instructions for consumption (e.g., capsule, tablet, oral solution) |\n",
        "|units per pack| number of units in each package|\n",
        "|quantity pack sold| number of packages shipped to the specified country|\n",
        "|value sold| total value in $\\$$ USD of the shipment (i.e., pack_price * quantity pack sold|\n",
        "|pack price| price in $\\$$ USD per package|\n",
        "|unit price| price in $\\$$ USD per unit|\n",
        "|weight (kilograms)| total weight in kilograms of the shipment|\n",
        "|freight cost (usd)| value in $\\$$USD paid for transportation|\n",
        "|insurance (usd)|value in $\\$$USD paid for insurance|\n",
        "\n",
        "Similar to session 5, we will import the data, transform the columns which contain dates and numerical values to their corresponding format. "
      ]
    },
    {
      "cell_type": "code",
      "metadata": {
        "scrolled": true,
        "id": "8cvKdP0cdVg0",
        "colab": {
          "base_uri": "https://localhost:8080/"
        },
        "outputId": "4b37b936-41c9-4671-da21-c48dd685ebad"
      },
      "source": [
        "url = 'https://raw.githubusercontent.com/acedesci/scanalytics/master/S05_Data_Preprocessing/Supply_Chain_Shipment_Pricing_Data.csv'\n",
        "df_SC = pd.read_csv(url)  # reading data file into a DataFrame\n",
        "\n",
        "df_SC.columns = df_SC.columns.str.replace(' ', '_')\n",
        "df_SC.columns = df_SC.columns.str.replace('(', '')\n",
        "df_SC.columns = df_SC.columns.str.replace(')', '')\n",
        "df_SC.columns = df_SC.columns.str.replace('#', '')\n",
        "df_SC.columns = df_SC.columns.str.replace('/', '')\n",
        "\n",
        "# transform date and numerical data\n",
        "df_SC['pq_first_sent_to_client_date'] = pd.to_datetime(df_SC['pq_first_sent_to_client_date'], errors='coerce')\n",
        "df_SC['scheduled_delivery_date'] = pd.to_datetime(df_SC['scheduled_delivery_date'], errors='coerce')\n",
        "df_SC['delivered_to_client_date'] = pd.to_datetime(df_SC['delivered_to_client_date'], errors='coerce')\n",
        "df_SC['weight_kilograms'] = pd.to_numeric(df_SC['weight_kilograms'], errors='coerce')\n",
        "df_SC['freight_cost_usd'] = pd.to_numeric(df_SC['freight_cost_usd'], errors='coerce')\n",
        "\n",
        "\n"
      ],
      "execution_count": 104,
      "outputs": [
        {
          "output_type": "stream",
          "text": [
            "id                                0\n",
            "project_code                      0\n",
            "pq_                               0\n",
            "po__so_                           0\n",
            "asndn_                            0\n",
            "country                           0\n",
            "managed_by                        0\n",
            "fulfill_via                       0\n",
            "vendor_inco_term                  0\n",
            "shipment_mode                     0\n",
            "pq_first_sent_to_client_date      5\n",
            "po_sent_to_vendor_date            0\n",
            "scheduled_delivery_date           0\n",
            "delivered_to_client_date          0\n",
            "delivery_recorded_date            0\n",
            "product_group                     0\n",
            "sub_classification                0\n",
            "vendor                            0\n",
            "item_description                  0\n",
            "moleculetest_type                 0\n",
            "brand                             0\n",
            "dosage                          906\n",
            "dosage_form                       0\n",
            "unit_of_measure_per_pack          0\n",
            "line_item_quantity                0\n",
            "line_item_value                   0\n",
            "pack_price                        0\n",
            "unit_price                        0\n",
            "manufacturing_site                0\n",
            "first_line_designation            0\n",
            "weight_kilograms                  0\n",
            "freight_cost_usd                  0\n",
            "line_item_insurance_usd           0\n",
            "dtype: int64\n"
          ],
          "name": "stdout"
        }
      ]
    },
    {
      "cell_type": "markdown",
      "metadata": {
        "id": "sdNM0u4RK7AB"
      },
      "source": [
        "For this analysis, we will also choose only data after 2010 and non-missing ones for the analysis. The only data will will use are the columns ` ['country', 'line_item_value','weight_kilograms','freight_cost_usd']`"
      ]
    },
    {
      "cell_type": "code",
      "metadata": {
        "id": "iyi30djgK7NA"
      },
      "source": [
        "# choose only non-missing data and data after 2010\r\n",
        "df_SC = df_SC[(df_SC['freight_cost_usd'].notna()) & df_SC['weight_kilograms'] & (df_SC['delivered_to_client_date'] >= '2010-01-01')]\r\n",
        "\r\n",
        "selected_columns = ['country', 'line_item_value','weight_kilograms','freight_cost_usd']\r\n",
        "print(df_SC.isna().sum())"
      ],
      "execution_count": null,
      "outputs": []
    },
    {
      "cell_type": "markdown",
      "metadata": {
        "id": "efTwqVwELSgV"
      },
      "source": [
        "Since the clustering analysis will be perform at the country level, we will use the function groupby to prepare the input. The function `df.groupby(...).agg(...)` allows us to aggregate each column differently based on what specified in the dictionary. You can review more details here: [link1](https://pandas.pydata.org/pandas-docs/version/0.23/generated/pandas.core.groupby.DataFrameGroupBy.agg.html) and here [link2](https://pbpython.com/groupby-agg.html)."
      ]
    },
    {
      "cell_type": "code",
      "metadata": {
        "id": "y8slfTYMLSsP"
      },
      "source": [
        "df_SC_selected = df_SC[selected_columns].groupby(['country']).agg({'line_item_value':'sum','weight_kilograms':'mean','freight_cost_usd':'mean'})\r\n"
      ],
      "execution_count": null,
      "outputs": []
    },
    {
      "cell_type": "markdown",
      "metadata": {
        "id": "A5fUv07LM4lI"
      },
      "source": [
        "Since clustering algorithms are typically highly influenced by scale (e.g. not scale-invariant), one common practice is to normalize the data before use. We opt for `z-score` normalization. We also keep the list of column names containing normal values and normalized values to make it easier when making a reference."
      ]
    },
    {
      "cell_type": "code",
      "metadata": {
        "id": "GYcFyIYOM47l"
      },
      "source": [
        "for col in df_SC_selected.columns:\r\n",
        "    df_SC_selected['z_'+col] = (df_SC_selected[col] - df_SC_selected[col].mean())/df_SC_selected[col].std()\r\n",
        "\r\n",
        "normal_columns = list(df_SC_selected.columns[:3])\r\n",
        "z_columns = list(df_SC_selected.columns[3:])"
      ],
      "execution_count": null,
      "outputs": []
    },
    {
      "cell_type": "code",
      "metadata": {
        "id": "mQsYBuwLPfIU"
      },
      "source": [
        "Now we can explore the data using the pairwise plot in seaborn.  "
      ],
      "execution_count": null,
      "outputs": []
    },
    {
      "cell_type": "code",
      "metadata": {
        "colab": {
          "base_uri": "https://localhost:8080/",
          "height": 622
        },
        "id": "ziCgge_P5HmC",
        "outputId": "24b64c80-2dfc-4e83-badf-2fb2f1b6ad19"
      },
      "source": [
        "import seaborn as sns\r\n",
        "sns.pairplot(data=df_SC_selected[normal_columns], size=2.5, palette = 'deep')"
      ],
      "execution_count": 110,
      "outputs": [
        {
          "output_type": "stream",
          "text": [
            "/usr/local/lib/python3.6/dist-packages/seaborn/axisgrid.py:1969: UserWarning: The `size` parameter has been renamed to `height`; please update your code.\n",
            "  warnings.warn(msg, UserWarning)\n"
          ],
          "name": "stderr"
        },
        {
          "output_type": "execute_result",
          "data": {
            "text/plain": [
              "<seaborn.axisgrid.PairGrid at 0x7f71f98bb940>"
            ]
          },
          "metadata": {
            "tags": []
          },
          "execution_count": 110
        },
        {
          "output_type": "display_data",
          "data": {
            "image/png": "[encoded data removed]",
            "text/plain": [
              "<Figure size 540x540 with 12 Axes>"
            ]
          },
          "metadata": {
            "tags": [],
            "needs_background": "light"
          }
        }
      ]
    },
    {
      "cell_type": "markdown",
      "metadata": {
        "id": "U6TH8BJPQLoj"
      },
      "source": [
        "## Model 1: K-Means clustering\r\n",
        "\r\n",
        "We first apply K-Means clutering algorithm using the commonly used package `scikit-learn`. The function `sklearn.cluster.KMeans(...)` return an object which gives multiple outputs (link provided below). The main output is `.labels_` (note that this is a specific attribute name provided by the method) which returns the list containing the cluster label of all the data points. In order to learn/determine the labels from the data, we also need to call `.fit(X)` to pass the input variables `X` (our z-score normalized variables) to the method.\r\n",
        "\r\n",
        "[link to description](https://scikit-learn.org/stable/modules/clustering.html#k-means) and [link to KMeans function](https://scikit-learn.org/stable/modules/generated/sklearn.cluster.KMeans.html#sklearn.cluster.KMeans)\r\n"
      ]
    },
    {
      "cell_type": "code",
      "metadata": {
        "colab": {
          "base_uri": "https://localhost:8080/",
          "height": 235
        },
        "id": "Alu2ANCL3Ixp",
        "outputId": "860f5aff-5d1e-421c-e088-d406d1d6a239"
      },
      "source": [
        "import matplotlib.pyplot as plt\r\n",
        "from sklearn.cluster import KMeans, AgglomerativeClustering\r\n",
        "\r\n",
        "# K-Means clustering\r\n",
        "\r\n",
        "# first select only the variables which we want to use for clustering\r\n",
        "X = df_SC_selected[z_columns]\r\n",
        "\r\n",
        "# create a K-Means object using the number of clusters = 3 and fit to the data\r\n",
        "# note that K-Means algorithm is initiated using a randomized process, \r\n",
        "# thus we indicate `random_state=0` to fix the random seed to make sure the same result is returned every time we run\r\n",
        "kmeans_object = sklearn.cluster.KMeans(n_clusters=3, random_state=0).fit(X)\r\n",
        "\r\n",
        "# now we obtain the list of cluster labels and add it to the original DataFrame\r\n",
        "# note that the label ID can change in a different run but the cluster remains the same if the seed is the same  \r\n",
        "# (e.g., data point 1 has label 0 in the first time we run but then label 2 in another run but still belongs to the same data cluster)  \r\n",
        "df_SC_selected['K3_cluster'] = kmeans_object.labels_\r\n",
        "df_SC_selected.tail()\r\n"
      ],
      "execution_count": 1,
      "outputs": [
        {
          "output_type": "error",
          "ename": "NameError",
          "evalue": "ignored",
          "traceback": [
            "\u001b[0;31m---------------------------------------------------------------------------\u001b[0m",
            "\u001b[0;31mNameError\u001b[0m                                 Traceback (most recent call last)",
            "\u001b[0;32m<ipython-input-1-9b8829d8313c>\u001b[0m in \u001b[0;36m<module>\u001b[0;34m()\u001b[0m\n\u001b[1;32m      5\u001b[0m \u001b[0;34m\u001b[0m\u001b[0m\n\u001b[1;32m      6\u001b[0m \u001b[0;31m# first extract the\u001b[0m\u001b[0;34m\u001b[0m\u001b[0;34m\u001b[0m\u001b[0;34m\u001b[0m\u001b[0m\n\u001b[0;32m----> 7\u001b[0;31m \u001b[0mX\u001b[0m \u001b[0;34m=\u001b[0m \u001b[0mdf_SC_selected\u001b[0m\u001b[0;34m[\u001b[0m\u001b[0mz_columns\u001b[0m\u001b[0;34m]\u001b[0m\u001b[0;34m\u001b[0m\u001b[0;34m\u001b[0m\u001b[0m\n\u001b[0m\u001b[1;32m      8\u001b[0m \u001b[0mkmeans_object\u001b[0m \u001b[0;34m=\u001b[0m \u001b[0msklearn\u001b[0m\u001b[0;34m.\u001b[0m\u001b[0mcluster\u001b[0m\u001b[0;34m.\u001b[0m\u001b[0mKMeans\u001b[0m\u001b[0;34m(\u001b[0m\u001b[0mn_clusters\u001b[0m\u001b[0;34m=\u001b[0m\u001b[0;36m3\u001b[0m\u001b[0;34m,\u001b[0m \u001b[0mrandom_state\u001b[0m\u001b[0;34m=\u001b[0m\u001b[0;36m0\u001b[0m\u001b[0;34m)\u001b[0m\u001b[0;34m.\u001b[0m\u001b[0mfit\u001b[0m\u001b[0;34m(\u001b[0m\u001b[0mX\u001b[0m\u001b[0;34m)\u001b[0m\u001b[0;34m\u001b[0m\u001b[0;34m\u001b[0m\u001b[0m\n\u001b[1;32m      9\u001b[0m \u001b[0mdf_SC_selected\u001b[0m\u001b[0;34m[\u001b[0m\u001b[0;34m'K3_cluster'\u001b[0m\u001b[0;34m]\u001b[0m \u001b[0;34m=\u001b[0m \u001b[0mkmeans_object\u001b[0m\u001b[0;34m.\u001b[0m\u001b[0mlabels_\u001b[0m\u001b[0;34m\u001b[0m\u001b[0;34m\u001b[0m\u001b[0m\n",
            "\u001b[0;31mNameError\u001b[0m: name 'df_SC_selected' is not defined"
          ]
        }
      ]
    },
    {
      "cell_type": "code",
      "metadata": {
        "colab": {
          "base_uri": "https://localhost:8080/",
          "height": 622
        },
        "id": "FuZlzVyrAFY-",
        "outputId": "70d7f6bb-21e6-47fe-b9b8-0018703f4aa5"
      },
      "source": [
        "import seaborn as sns\r\n",
        "\r\n",
        "sns.pairplot(data=df_SC_selected[normal_columns+[\"K3_cluster\"]], hue='K3_cluster', size=2.5, palette = 'deep')\r\n"
      ],
      "execution_count": 128,
      "outputs": [
        {
          "output_type": "stream",
          "text": [
            "/usr/local/lib/python3.6/dist-packages/seaborn/axisgrid.py:1969: UserWarning: The `size` parameter has been renamed to `height`; please update your code.\n",
            "  warnings.warn(msg, UserWarning)\n"
          ],
          "name": "stderr"
        },
        {
          "output_type": "execute_result",
          "data": {
            "text/plain": [
              "<seaborn.axisgrid.PairGrid at 0x7f71f97834a8>"
            ]
          },
          "metadata": {
            "tags": []
          },
          "execution_count": 128
        },
        {
          "output_type": "display_data",
          "data": {
            "image/png": "[encoded data removed]",
            "text/plain": [
              "<Figure size 599.875x540 with 12 Axes>"
            ]
          },
          "metadata": {
            "tags": [],
            "needs_background": "light"
          }
        }
      ]
    },
    {
      "cell_type": "markdown",
      "metadata": {
        "id": "i1GprXA_Yt5k"
      },
      "source": [
        "\r\n",
        "In order to choose the optimal number of clusters (in case it is not predefined), we can compare the results based on a different number of \r\n",
        "\r\n",
        "\r\n",
        "*   **Inertia** or sum-of-square (SSE) within the cluster: This one measure the compactness of each cluster. It is the objective function that the standard K-Means algorithm optimizes. See [link](https://scikit-learn.org/stable/modules/clustering.html)\r\n",
        "*   **Silhouette** value: This one represents how well the clusters are separated from each others. See [link](https://scikit-learn.org/stable/modules/clustering.html#silhouette-coefficient). \r\n"
      ]
    },
    {
      "cell_type": "code",
      "metadata": {
        "id": "jmUaUZ0UYuTC",
        "outputId": "21713685-141e-4ac3-b055-8901ba2160b0",
        "colab": {
          "base_uri": "https://localhost:8080/",
          "height": 408
        }
      },
      "source": [
        "from sklearn.metrics import silhouette_score\r\n",
        "\r\n",
        "kmeans_range = list(range(2,11))\r\n",
        "\r\n",
        "silhouette_list = []\r\n",
        "inertia_list = []\r\n",
        "\r\n",
        "for k in kmeans_range:\r\n",
        "  # fit the clustering algorithm\r\n",
        "  kmeans_object = sklearn.cluster.KMeans(n_clusters=k, random_state=0).fit(X)\r\n",
        "\r\n",
        "  # calculate the silhouette score and add the result to the list\r\n",
        "  silhouette_val = silhouette_score(X, kmeans_object.labels_)\r\n",
        "  silhouette_list.append(silhouette_val)\r\n",
        "\r\n",
        "  # obtain the inertia and add the result to the list\r\n",
        "  inertia_list.append(kmeans_object.inertia_)\r\n",
        "\r\n",
        "# calculate the marginal difference of silhouette for each step of k\r\n",
        "diff_silhouette = [silhouette_list[i] - silhouette_list[max(0,i-1)] for i in range(len(kmeans_range))]\r\n",
        "# calculate the marginal difference of inertia for each step of k\r\n",
        "diff_inertia = [inertia_list[i] - inertia_list[max(0,i-1)] for i in range(len(kmeans_range))]\r\n",
        "\r\n",
        "fig, axes = plt.subplots(2, 2, figsize=(15, 5))\r\n",
        "fig.suptitle('K-means clustering')\r\n",
        "\r\n",
        "print(len(silhouette_list))\r\n",
        "print(len(diff_silhouette))\r\n",
        "\r\n",
        "sns.lineplot(ax=axes[0,0], x=kmeans_range, y=silhouette_list).set_title('Average silhouette value')\r\n",
        "sns.lineplot(ax=axes[0,1], x=kmeans_range, y=inertia_list).set_title('Average SSE value')\r\n",
        "sns.barplot(ax=axes[1,0], x=kmeans_range, y=diff_silhouette, alpha=0.5)\r\n",
        "sns.barplot(ax=axes[1,1], x=kmeans_range, y=diff_inertia, alpha=0.5)\r\n"
      ],
      "execution_count": 183,
      "outputs": [
        {
          "output_type": "stream",
          "text": [
            "9\n",
            "9\n"
          ],
          "name": "stdout"
        },
        {
          "output_type": "execute_result",
          "data": {
            "text/plain": [
              "<matplotlib.axes._subplots.AxesSubplot at 0x7f71e788f240>"
            ]
          },
          "metadata": {
            "tags": []
          },
          "execution_count": 183
        },
        {
          "output_type": "display_data",
          "data": {
            "image/png": "[encoded data removed]",
            "text/plain": [
              "<Figure size 1080x360 with 4 Axes>"
            ]
          },
          "metadata": {
            "tags": []
          }
        }
      ]
    },
    {
      "cell_type": "code",
      "metadata": {
        "colab": {
          "base_uri": "https://localhost:8080/",
          "height": 1000
        },
        "id": "higKBcfeWQXb",
        "outputId": "754692c2-316e-4296-9ce5-824dc2c5b9c6"
      },
      "source": [
        "# Hierarchical clustering\r\n",
        "hcluster2 = sklearn.cluster.AgglomerativeClustering(n_clusters=2).fit(X)\r\n",
        "df_SC_selected['A2_cluster'] = hcluster2.labels_\r\n",
        "print(df_SC_selected['A2_cluster'].value_counts())\r\n",
        "\r\n",
        "hcluster3 = sklearn.cluster.AgglomerativeClustering(n_clusters=3).fit(X)\r\n",
        "df_SC_selected['A3_cluster'] = hcluster3.labels_\r\n",
        "print(df_SC_selected['A3_cluster'].value_counts())\r\n",
        "\r\n",
        "hcluster4 = sklearn.cluster.AgglomerativeClustering(n_clusters=4).fit(X)\r\n",
        "df_SC_selected['A4_cluster'] = hcluster4.labels_\r\n",
        "print(df_SC_selected['A4_cluster'].value_counts())\r\n",
        "\r\n",
        "df_SC_selected"
      ],
      "execution_count": 204,
      "outputs": [
        {
          "output_type": "stream",
          "text": [
            "0    33\n",
            "1     5\n",
            "Name: A2_cluster, dtype: int64\n",
            "2    17\n",
            "0    16\n",
            "1     5\n",
            "Name: A3_cluster, dtype: int64\n",
            "2    17\n",
            "1    11\n",
            "3     5\n",
            "0     5\n",
            "Name: A4_cluster, dtype: int64\n"
          ],
          "name": "stdout"
        },
        {
          "output_type": "execute_result",
          "data": {
            "text/html": [
              "<div>\n",
              "<style scoped>\n",
              "    .dataframe tbody tr th:only-of-type {\n",
              "        vertical-align: middle;\n",
              "    }\n",
              "\n",
              "    .dataframe tbody tr th {\n",
              "        vertical-align: top;\n",
              "    }\n",
              "\n",
              "    .dataframe thead th {\n",
              "        text-align: right;\n",
              "    }\n",
              "</style>\n",
              "<table border=\"1\" class=\"dataframe\">\n",
              "  <thead>\n",
              "    <tr style=\"text-align: right;\">\n",
              "      <th></th>\n",
              "      <th>line_item_value</th>\n",
              "      <th>weight_kilograms</th>\n",
              "      <th>freight_cost_usd</th>\n",
              "      <th>z_line_item_value</th>\n",
              "      <th>z_weight_kilograms</th>\n",
              "      <th>z_freight_cost_usd</th>\n",
              "      <th>K3_cluster</th>\n",
              "      <th>A2_cluster</th>\n",
              "      <th>A3_cluster</th>\n",
              "      <th>A4_cluster</th>\n",
              "    </tr>\n",
              "    <tr>\n",
              "      <th>country</th>\n",
              "      <th></th>\n",
              "      <th></th>\n",
              "      <th></th>\n",
              "      <th></th>\n",
              "      <th></th>\n",
              "      <th></th>\n",
              "      <th></th>\n",
              "      <th></th>\n",
              "      <th></th>\n",
              "      <th></th>\n",
              "    </tr>\n",
              "  </thead>\n",
              "  <tbody>\n",
              "    <tr>\n",
              "      <th>Afghanistan</th>\n",
              "      <td>1.736000e+03</td>\n",
              "      <td>44.500000</td>\n",
              "      <td>540.525000</td>\n",
              "      <td>-0.561087</td>\n",
              "      <td>-0.957141</td>\n",
              "      <td>-1.250145</td>\n",
              "      <td>1</td>\n",
              "      <td>0</td>\n",
              "      <td>2</td>\n",
              "      <td>2</td>\n",
              "    </tr>\n",
              "    <tr>\n",
              "      <th>Angola</th>\n",
              "      <td>1.816000e+05</td>\n",
              "      <td>362.200000</td>\n",
              "      <td>6166.414000</td>\n",
              "      <td>-0.557071</td>\n",
              "      <td>-0.808260</td>\n",
              "      <td>-0.499620</td>\n",
              "      <td>1</td>\n",
              "      <td>0</td>\n",
              "      <td>2</td>\n",
              "      <td>2</td>\n",
              "    </tr>\n",
              "    <tr>\n",
              "      <th>Benin</th>\n",
              "      <td>5.454805e+05</td>\n",
              "      <td>2323.600000</td>\n",
              "      <td>11638.258000</td>\n",
              "      <td>-0.548946</td>\n",
              "      <td>0.110891</td>\n",
              "      <td>0.230354</td>\n",
              "      <td>1</td>\n",
              "      <td>0</td>\n",
              "      <td>0</td>\n",
              "      <td>1</td>\n",
              "    </tr>\n",
              "    <tr>\n",
              "      <th>Botswana</th>\n",
              "      <td>1.303711e+06</td>\n",
              "      <td>525.766667</td>\n",
              "      <td>3451.025333</td>\n",
              "      <td>-0.532016</td>\n",
              "      <td>-0.731610</td>\n",
              "      <td>-0.861868</td>\n",
              "      <td>1</td>\n",
              "      <td>0</td>\n",
              "      <td>2</td>\n",
              "      <td>2</td>\n",
              "    </tr>\n",
              "    <tr>\n",
              "      <th>Burundi</th>\n",
              "      <td>2.277174e+06</td>\n",
              "      <td>512.750000</td>\n",
              "      <td>5572.184286</td>\n",
              "      <td>-0.510279</td>\n",
              "      <td>-0.737710</td>\n",
              "      <td>-0.578894</td>\n",
              "      <td>1</td>\n",
              "      <td>0</td>\n",
              "      <td>2</td>\n",
              "      <td>2</td>\n",
              "    </tr>\n",
              "    <tr>\n",
              "      <th>Cameroon</th>\n",
              "      <td>1.234366e+07</td>\n",
              "      <td>3977.666667</td>\n",
              "      <td>33026.949815</td>\n",
              "      <td>-0.285504</td>\n",
              "      <td>0.886021</td>\n",
              "      <td>3.083723</td>\n",
              "      <td>2</td>\n",
              "      <td>0</td>\n",
              "      <td>0</td>\n",
              "      <td>3</td>\n",
              "    </tr>\n",
              "    <tr>\n",
              "      <th>Congo, DRC</th>\n",
              "      <td>2.777920e+06</td>\n",
              "      <td>592.355769</td>\n",
              "      <td>6721.951058</td>\n",
              "      <td>-0.499098</td>\n",
              "      <td>-0.700405</td>\n",
              "      <td>-0.425509</td>\n",
              "      <td>1</td>\n",
              "      <td>0</td>\n",
              "      <td>2</td>\n",
              "      <td>2</td>\n",
              "    </tr>\n",
              "    <tr>\n",
              "      <th>Côte d'Ivoire</th>\n",
              "      <td>6.147014e+07</td>\n",
              "      <td>2699.873118</td>\n",
              "      <td>10091.968387</td>\n",
              "      <td>0.811442</td>\n",
              "      <td>0.287221</td>\n",
              "      <td>0.024070</td>\n",
              "      <td>2</td>\n",
              "      <td>0</td>\n",
              "      <td>0</td>\n",
              "      <td>1</td>\n",
              "    </tr>\n",
              "    <tr>\n",
              "      <th>Dominican Republic</th>\n",
              "      <td>1.558134e+06</td>\n",
              "      <td>824.892857</td>\n",
              "      <td>8780.877857</td>\n",
              "      <td>-0.526335</td>\n",
              "      <td>-0.591433</td>\n",
              "      <td>-0.150836</td>\n",
              "      <td>1</td>\n",
              "      <td>0</td>\n",
              "      <td>2</td>\n",
              "      <td>2</td>\n",
              "    </tr>\n",
              "    <tr>\n",
              "      <th>Ethiopia</th>\n",
              "      <td>6.039086e+06</td>\n",
              "      <td>1341.707317</td>\n",
              "      <td>9928.891951</td>\n",
              "      <td>-0.426279</td>\n",
              "      <td>-0.349243</td>\n",
              "      <td>0.002315</td>\n",
              "      <td>1</td>\n",
              "      <td>0</td>\n",
              "      <td>0</td>\n",
              "      <td>1</td>\n",
              "    </tr>\n",
              "    <tr>\n",
              "      <th>Ghana</th>\n",
              "      <td>5.546729e+06</td>\n",
              "      <td>2840.785714</td>\n",
              "      <td>13162.594762</td>\n",
              "      <td>-0.437273</td>\n",
              "      <td>0.353255</td>\n",
              "      <td>0.433709</td>\n",
              "      <td>2</td>\n",
              "      <td>0</td>\n",
              "      <td>0</td>\n",
              "      <td>1</td>\n",
              "    </tr>\n",
              "    <tr>\n",
              "      <th>Guatemala</th>\n",
              "      <td>1.593092e+05</td>\n",
              "      <td>832.400000</td>\n",
              "      <td>7698.996000</td>\n",
              "      <td>-0.557569</td>\n",
              "      <td>-0.587915</td>\n",
              "      <td>-0.295165</td>\n",
              "      <td>1</td>\n",
              "      <td>0</td>\n",
              "      <td>2</td>\n",
              "      <td>2</td>\n",
              "    </tr>\n",
              "    <tr>\n",
              "      <th>Guinea</th>\n",
              "      <td>3.600000e+03</td>\n",
              "      <td>32.000000</td>\n",
              "      <td>1804.200000</td>\n",
              "      <td>-0.561046</td>\n",
              "      <td>-0.962999</td>\n",
              "      <td>-1.081564</td>\n",
              "      <td>1</td>\n",
              "      <td>0</td>\n",
              "      <td>2</td>\n",
              "      <td>2</td>\n",
              "    </tr>\n",
              "    <tr>\n",
              "      <th>Guyana</th>\n",
              "      <td>2.002910e+06</td>\n",
              "      <td>229.699029</td>\n",
              "      <td>3380.134660</td>\n",
              "      <td>-0.516403</td>\n",
              "      <td>-0.870353</td>\n",
              "      <td>-0.871325</td>\n",
              "      <td>1</td>\n",
              "      <td>0</td>\n",
              "      <td>2</td>\n",
              "      <td>2</td>\n",
              "    </tr>\n",
              "    <tr>\n",
              "      <th>Haiti</th>\n",
              "      <td>2.142368e+07</td>\n",
              "      <td>1702.851711</td>\n",
              "      <td>10379.793118</td>\n",
              "      <td>-0.082756</td>\n",
              "      <td>-0.180004</td>\n",
              "      <td>0.062468</td>\n",
              "      <td>1</td>\n",
              "      <td>0</td>\n",
              "      <td>0</td>\n",
              "      <td>1</td>\n",
              "    </tr>\n",
              "    <tr>\n",
              "      <th>Kenya</th>\n",
              "      <td>2.485069e+07</td>\n",
              "      <td>1953.609375</td>\n",
              "      <td>19067.189531</td>\n",
              "      <td>-0.006234</td>\n",
              "      <td>-0.062494</td>\n",
              "      <td>1.221414</td>\n",
              "      <td>2</td>\n",
              "      <td>0</td>\n",
              "      <td>0</td>\n",
              "      <td>3</td>\n",
              "    </tr>\n",
              "    <tr>\n",
              "      <th>Lesotho</th>\n",
              "      <td>1.683200e+05</td>\n",
              "      <td>856.000000</td>\n",
              "      <td>11063.780000</td>\n",
              "      <td>-0.557368</td>\n",
              "      <td>-0.576856</td>\n",
              "      <td>0.153715</td>\n",
              "      <td>1</td>\n",
              "      <td>0</td>\n",
              "      <td>0</td>\n",
              "      <td>1</td>\n",
              "    </tr>\n",
              "    <tr>\n",
              "      <th>Liberia</th>\n",
              "      <td>1.028400e+05</td>\n",
              "      <td>111.166667</td>\n",
              "      <td>3325.141667</td>\n",
              "      <td>-0.558830</td>\n",
              "      <td>-0.925900</td>\n",
              "      <td>-0.878662</td>\n",
              "      <td>1</td>\n",
              "      <td>0</td>\n",
              "      <td>2</td>\n",
              "      <td>2</td>\n",
              "    </tr>\n",
              "    <tr>\n",
              "      <th>Libya</th>\n",
              "      <td>1.128535e+05</td>\n",
              "      <td>445.750000</td>\n",
              "      <td>2090.292500</td>\n",
              "      <td>-0.558606</td>\n",
              "      <td>-0.769107</td>\n",
              "      <td>-1.043397</td>\n",
              "      <td>1</td>\n",
              "      <td>0</td>\n",
              "      <td>2</td>\n",
              "      <td>2</td>\n",
              "    </tr>\n",
              "    <tr>\n",
              "      <th>Malawi</th>\n",
              "      <td>5.854456e+06</td>\n",
              "      <td>4084.285714</td>\n",
              "      <td>7172.866429</td>\n",
              "      <td>-0.430402</td>\n",
              "      <td>0.935984</td>\n",
              "      <td>-0.365354</td>\n",
              "      <td>1</td>\n",
              "      <td>0</td>\n",
              "      <td>0</td>\n",
              "      <td>1</td>\n",
              "    </tr>\n",
              "    <tr>\n",
              "      <th>Mali</th>\n",
              "      <td>1.436500e+05</td>\n",
              "      <td>62.333333</td>\n",
              "      <td>2305.325000</td>\n",
              "      <td>-0.557919</td>\n",
              "      <td>-0.948784</td>\n",
              "      <td>-1.014711</td>\n",
              "      <td>1</td>\n",
              "      <td>0</td>\n",
              "      <td>2</td>\n",
              "      <td>2</td>\n",
              "    </tr>\n",
              "    <tr>\n",
              "      <th>Mozambique</th>\n",
              "      <td>9.370365e+07</td>\n",
              "      <td>8124.228346</td>\n",
              "      <td>10346.696299</td>\n",
              "      <td>1.531185</td>\n",
              "      <td>2.829183</td>\n",
              "      <td>0.058052</td>\n",
              "      <td>0</td>\n",
              "      <td>1</td>\n",
              "      <td>1</td>\n",
              "      <td>0</td>\n",
              "    </tr>\n",
              "    <tr>\n",
              "      <th>Namibia</th>\n",
              "      <td>3.490399e+06</td>\n",
              "      <td>1857.580645</td>\n",
              "      <td>10137.547419</td>\n",
              "      <td>-0.483189</td>\n",
              "      <td>-0.107495</td>\n",
              "      <td>0.030151</td>\n",
              "      <td>1</td>\n",
              "      <td>0</td>\n",
              "      <td>0</td>\n",
              "      <td>1</td>\n",
              "    </tr>\n",
              "    <tr>\n",
              "      <th>Nigeria</th>\n",
              "      <td>2.137995e+08</td>\n",
              "      <td>6829.041176</td>\n",
              "      <td>23221.512902</td>\n",
              "      <td>4.212809</td>\n",
              "      <td>2.222232</td>\n",
              "      <td>1.775624</td>\n",
              "      <td>0</td>\n",
              "      <td>1</td>\n",
              "      <td>1</td>\n",
              "      <td>0</td>\n",
              "    </tr>\n",
              "    <tr>\n",
              "      <th>Pakistan</th>\n",
              "      <td>1.434880e+06</td>\n",
              "      <td>1592.000000</td>\n",
              "      <td>20674.178000</td>\n",
              "      <td>-0.529087</td>\n",
              "      <td>-0.231951</td>\n",
              "      <td>1.435796</td>\n",
              "      <td>2</td>\n",
              "      <td>0</td>\n",
              "      <td>0</td>\n",
              "      <td>3</td>\n",
              "    </tr>\n",
              "    <tr>\n",
              "      <th>Rwanda</th>\n",
              "      <td>4.567397e+07</td>\n",
              "      <td>2904.588679</td>\n",
              "      <td>18107.341660</td>\n",
              "      <td>0.458729</td>\n",
              "      <td>0.383154</td>\n",
              "      <td>1.093365</td>\n",
              "      <td>2</td>\n",
              "      <td>0</td>\n",
              "      <td>0</td>\n",
              "      <td>3</td>\n",
              "    </tr>\n",
              "    <tr>\n",
              "      <th>Senegal</th>\n",
              "      <td>1.864000e+03</td>\n",
              "      <td>21.000000</td>\n",
              "      <td>632.630000</td>\n",
              "      <td>-0.561085</td>\n",
              "      <td>-0.968154</td>\n",
              "      <td>-1.237858</td>\n",
              "      <td>1</td>\n",
              "      <td>0</td>\n",
              "      <td>2</td>\n",
              "      <td>2</td>\n",
              "    </tr>\n",
              "    <tr>\n",
              "      <th>Sierra Leone</th>\n",
              "      <td>3.200000e+05</td>\n",
              "      <td>1556.000000</td>\n",
              "      <td>28703.530000</td>\n",
              "      <td>-0.553981</td>\n",
              "      <td>-0.248821</td>\n",
              "      <td>2.506955</td>\n",
              "      <td>2</td>\n",
              "      <td>0</td>\n",
              "      <td>0</td>\n",
              "      <td>3</td>\n",
              "    </tr>\n",
              "    <tr>\n",
              "      <th>South Africa</th>\n",
              "      <td>8.685259e+07</td>\n",
              "      <td>6020.439716</td>\n",
              "      <td>8683.827624</td>\n",
              "      <td>1.378208</td>\n",
              "      <td>1.843305</td>\n",
              "      <td>-0.163783</td>\n",
              "      <td>0</td>\n",
              "      <td>1</td>\n",
              "      <td>1</td>\n",
              "      <td>0</td>\n",
              "    </tr>\n",
              "    <tr>\n",
              "      <th>South Sudan</th>\n",
              "      <td>6.998661e+05</td>\n",
              "      <td>300.915254</td>\n",
              "      <td>4234.216271</td>\n",
              "      <td>-0.545499</td>\n",
              "      <td>-0.836980</td>\n",
              "      <td>-0.757386</td>\n",
              "      <td>1</td>\n",
              "      <td>0</td>\n",
              "      <td>2</td>\n",
              "      <td>2</td>\n",
              "    </tr>\n",
              "    <tr>\n",
              "      <th>Sudan</th>\n",
              "      <td>2.293064e+05</td>\n",
              "      <td>63.714286</td>\n",
              "      <td>1507.975476</td>\n",
              "      <td>-0.556006</td>\n",
              "      <td>-0.948137</td>\n",
              "      <td>-1.121082</td>\n",
              "      <td>1</td>\n",
              "      <td>0</td>\n",
              "      <td>2</td>\n",
              "      <td>2</td>\n",
              "    </tr>\n",
              "    <tr>\n",
              "      <th>Swaziland</th>\n",
              "      <td>5.618971e+06</td>\n",
              "      <td>2683.739130</td>\n",
              "      <td>8030.255652</td>\n",
              "      <td>-0.435660</td>\n",
              "      <td>0.279660</td>\n",
              "      <td>-0.250974</td>\n",
              "      <td>1</td>\n",
              "      <td>0</td>\n",
              "      <td>0</td>\n",
              "      <td>1</td>\n",
              "    </tr>\n",
              "    <tr>\n",
              "      <th>Tanzania</th>\n",
              "      <td>7.348999e+07</td>\n",
              "      <td>3455.674419</td>\n",
              "      <td>11983.843223</td>\n",
              "      <td>1.079834</td>\n",
              "      <td>0.641404</td>\n",
              "      <td>0.276457</td>\n",
              "      <td>2</td>\n",
              "      <td>0</td>\n",
              "      <td>0</td>\n",
              "      <td>1</td>\n",
              "    </tr>\n",
              "    <tr>\n",
              "      <th>Togo</th>\n",
              "      <td>1.532580e+05</td>\n",
              "      <td>1162.500000</td>\n",
              "      <td>6272.360000</td>\n",
              "      <td>-0.557704</td>\n",
              "      <td>-0.433224</td>\n",
              "      <td>-0.485487</td>\n",
              "      <td>1</td>\n",
              "      <td>0</td>\n",
              "      <td>2</td>\n",
              "      <td>2</td>\n",
              "    </tr>\n",
              "    <tr>\n",
              "      <th>Uganda</th>\n",
              "      <td>6.803387e+07</td>\n",
              "      <td>2682.802273</td>\n",
              "      <td>11508.059523</td>\n",
              "      <td>0.958004</td>\n",
              "      <td>0.279221</td>\n",
              "      <td>0.212985</td>\n",
              "      <td>2</td>\n",
              "      <td>0</td>\n",
              "      <td>0</td>\n",
              "      <td>1</td>\n",
              "    </tr>\n",
              "    <tr>\n",
              "      <th>Vietnam</th>\n",
              "      <td>3.503135e+07</td>\n",
              "      <td>1652.715190</td>\n",
              "      <td>5915.752468</td>\n",
              "      <td>0.221090</td>\n",
              "      <td>-0.203499</td>\n",
              "      <td>-0.533060</td>\n",
              "      <td>1</td>\n",
              "      <td>0</td>\n",
              "      <td>2</td>\n",
              "      <td>2</td>\n",
              "    </tr>\n",
              "    <tr>\n",
              "      <th>Zambia</th>\n",
              "      <td>1.195445e+08</td>\n",
              "      <td>6204.486755</td>\n",
              "      <td>14856.484636</td>\n",
              "      <td>2.108185</td>\n",
              "      <td>1.929554</td>\n",
              "      <td>0.659683</td>\n",
              "      <td>0</td>\n",
              "      <td>1</td>\n",
              "      <td>1</td>\n",
              "      <td>0</td>\n",
              "    </tr>\n",
              "    <tr>\n",
              "      <th>Zimbabwe</th>\n",
              "      <td>5.799046e+07</td>\n",
              "      <td>5837.093023</td>\n",
              "      <td>14452.896240</td>\n",
              "      <td>0.733744</td>\n",
              "      <td>1.757385</td>\n",
              "      <td>0.605842</td>\n",
              "      <td>0</td>\n",
              "      <td>1</td>\n",
              "      <td>1</td>\n",
              "      <td>0</td>\n",
              "    </tr>\n",
              "  </tbody>\n",
              "</table>\n",
              "</div>"
            ],
            "text/plain": [
              "                    line_item_value  weight_kilograms  ...  A3_cluster  A4_cluster\n",
              "country                                                ...                        \n",
              "Afghanistan            1.736000e+03         44.500000  ...           2           2\n",
              "Angola                 1.816000e+05        362.200000  ...           2           2\n",
              "Benin                  5.454805e+05       2323.600000  ...           0           1\n",
              "Botswana               1.303711e+06        525.766667  ...           2           2\n",
              "Burundi                2.277174e+06        512.750000  ...           2           2\n",
              "Cameroon               1.234366e+07       3977.666667  ...           0           3\n",
              "Congo, DRC             2.777920e+06        592.355769  ...           2           2\n",
              "Côte d'Ivoire          6.147014e+07       2699.873118  ...           0           1\n",
              "Dominican Republic     1.558134e+06        824.892857  ...           2           2\n",
              "Ethiopia               6.039086e+06       1341.707317  ...           0           1\n",
              "Ghana                  5.546729e+06       2840.785714  ...           0           1\n",
              "Guatemala              1.593092e+05        832.400000  ...           2           2\n",
              "Guinea                 3.600000e+03         32.000000  ...           2           2\n",
              "Guyana                 2.002910e+06        229.699029  ...           2           2\n",
              "Haiti                  2.142368e+07       1702.851711  ...           0           1\n",
              "Kenya                  2.485069e+07       1953.609375  ...           0           3\n",
              "Lesotho                1.683200e+05        856.000000  ...           0           1\n",
              "Liberia                1.028400e+05        111.166667  ...           2           2\n",
              "Libya                  1.128535e+05        445.750000  ...           2           2\n",
              "Malawi                 5.854456e+06       4084.285714  ...           0           1\n",
              "Mali                   1.436500e+05         62.333333  ...           2           2\n",
              "Mozambique             9.370365e+07       8124.228346  ...           1           0\n",
              "Namibia                3.490399e+06       1857.580645  ...           0           1\n",
              "Nigeria                2.137995e+08       6829.041176  ...           1           0\n",
              "Pakistan               1.434880e+06       1592.000000  ...           0           3\n",
              "Rwanda                 4.567397e+07       2904.588679  ...           0           3\n",
              "Senegal                1.864000e+03         21.000000  ...           2           2\n",
              "Sierra Leone           3.200000e+05       1556.000000  ...           0           3\n",
              "South Africa           8.685259e+07       6020.439716  ...           1           0\n",
              "South Sudan            6.998661e+05        300.915254  ...           2           2\n",
              "Sudan                  2.293064e+05         63.714286  ...           2           2\n",
              "Swaziland              5.618971e+06       2683.739130  ...           0           1\n",
              "Tanzania               7.348999e+07       3455.674419  ...           0           1\n",
              "Togo                   1.532580e+05       1162.500000  ...           2           2\n",
              "Uganda                 6.803387e+07       2682.802273  ...           0           1\n",
              "Vietnam                3.503135e+07       1652.715190  ...           2           2\n",
              "Zambia                 1.195445e+08       6204.486755  ...           1           0\n",
              "Zimbabwe               5.799046e+07       5837.093023  ...           1           0\n",
              "\n",
              "[38 rows x 10 columns]"
            ]
          },
          "metadata": {
            "tags": []
          },
          "execution_count": 204
        }
      ]
    },
    {
      "cell_type": "code",
      "metadata": {
        "colab": {
          "base_uri": "https://localhost:8080/",
          "height": 388
        },
        "id": "w_9pGRrGPduH",
        "outputId": "c708d233-0caa-4f1d-8e17-b29bbba9ac60"
      },
      "source": [
        "from matplotlib import pyplot as plt\r\n",
        "\r\n",
        "fig, axes = plt.subplots(1, 3, figsize=(15, 5),sharey=True)\r\n",
        "fig.suptitle('Hierarchical clustering')\r\n",
        "\r\n",
        "# 2 clusters\r\n",
        "sns.scatterplot(data = df_SC_selected, ax=axes[0], x=normal_columns[1], y=normal_columns[2], hue='A2_cluster', style='A2_cluster', palette='dark')\r\n",
        "axes[0].set_title('A2_cluster')\r\n",
        "\r\n",
        "# 3 clusters\r\n",
        "sns.scatterplot(data = df_SC_selected, ax=axes[1], x=normal_columns[1], y=normal_columns[2], hue='A3_cluster', style='A3_cluster', palette='dark')\r\n",
        "axes[1].set_title('A3_cluster')\r\n",
        "\r\n",
        "# 4 clusters\r\n",
        "sns.scatterplot(data = df_SC_selected, ax=axes[2], x=normal_columns[1], y=normal_columns[2], hue='A4_cluster', style='A4_cluster', palette='dark')\r\n",
        "axes[2].set_title('A4_cluster')"
      ],
      "execution_count": 203,
      "outputs": [
        {
          "output_type": "execute_result",
          "data": {
            "text/plain": [
              "Text(0.5, 1.0, 'A4_cluster')"
            ]
          },
          "metadata": {
            "tags": []
          },
          "execution_count": 203
        },
        {
          "output_type": "display_data",
          "data": {
            "image/png": "[encoded data removed]",
            "text/plain": [
              "<Figure size 1080x360 with 3 Axes>"
            ]
          },
          "metadata": {
            "tags": []
          }
        }
      ]
    }
  ]
}