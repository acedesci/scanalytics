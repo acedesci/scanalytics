{
 "cells": [
  {
   "cell_type": "markdown",
   "metadata": {},
   "source": [
    "# Atelier - séance 6\n",
    "L'objectif de l'atelier est d'utiliser des données réelles afin d'en extraire des informations sous forme de tableaux ou de visualisations. Ces données traitent de la livraison de différents produits, entre des ports d'origine et des ports de destination. De plus, certaines informations additionnelles sont fournies avec ces livraisons, tel que le coût et la quantité. Ces données réelles sont une version modifiée du [*Supply Chain Logistics Problem Dataset*](https://brunel.figshare.com/articles/Supply_Chain_Logistics_Problem_Dataset/7558679). Vous pouvez consulter ce site web pour des informations additionnelles (limitées) concernant les différentes variables.\n",
    "\n",
    "Pour faire ces analyses et visualisations, vous utiliserez les librairies `pandas` et `seaborn` comme à l'habitude. Au besoin, vous pouvez aussi importer des librairies additionnelles."
   ]
  },
  {
   "cell_type": "code",
   "execution_count": null,
   "metadata": {},
   "outputs": [],
   "source": []
  },
  {
   "cell_type": "markdown",
   "metadata": {},
   "source": [
    "# Chargement des données\n",
    "Toutes les données sont contenues dans différentes feuilles du fichier Excel `OrdersData.xlsx` ci-joint, en particulier:\n",
    "* la feuille *OrderList* contient la liste des commandes;\n",
    "* la feuille *FreightRates* fait le lien entre un transporteur, le poids de la marchandise et le prix de transport;\n",
    "* la feuille *WhCosts* fait le lien entre une usine et le coût d'importation depuis cette usine;\n",
    "* la feuille *WhCapacities* fait le lien entre une usine et la capacité journalière de production de cette usine;\n",
    "* la feuille *ProductsPerPlant* fait le lien entre un produit et son usine de fabrication;\n",
    "* la feuille *VmiCustomers* fait le lien entre une usine de fabrication et le client associé; et\n",
    "* la feuille *PlantPorts* fait le lien entre une usine de fabrication et le port d'origine associé.\n",
    "\n",
    "Dans un premier temps, vous devez charger les feuilles de calculs Excel nécessaires dans des `DataFrame`. Pour ce faire, vous pouvez consulter la [documentation](https://pandas.pydata.org/pandas-docs/stable/reference/api/pandas.read_excel.html) de la fonction à utiliser. Après avoir chargé les données, vous pouvez vérifier que les données ont été importées correctement. Au besoin, vous pouvez ajouter des cellules de code dans cette section."
   ]
  },
  {
   "cell_type": "code",
   "execution_count": null,
   "metadata": {},
   "outputs": [],
   "source": []
  },
  {
   "cell_type": "markdown",
   "metadata": {},
   "source": [
    "# Nettoyage et transformation des données\n",
    "Le nettoyage et la transformation des données est un élément clé permettant de s'assurer de l'intégrité des données qui seront utilisées par la suite. Bien que cette étape soit nécessaire, elle peut s'avérer frustrante et demander beaucoup de temps. Voici quelques questions à vous poser durant cette étape:\n",
    "\n",
    "* Est-ce que vos dates sont correctement formatées?\n",
    "* Est-ce que vos champs de texte sont déformés?\n",
    "* Est-ce qu'il y a des valeurs manquantes? Si oui, comment devraient-elles être traitées?\n",
    "* Est-ce qu'il y a des données incohérentes?\n",
    "\n",
    "Dans cette partie du Jupyter Notebook, vous devez seulement nettoyer et transformer les données de la feuille *OrderList*. Rappelez-vous qu'il existe deux types de valeurs manquantes: celles manquantes de façon aléatoire (*MAR*) et celles manquantes de façon non-aléatoire (*MNAR*). Pour cet atelier, les lignes possédant des données manquantes de façon aléatoire (*MAR*) seront supprimées alors que les lignes possédant des données manquantes de façon non-aléatoire (*MNAR*) seront remplacées. \n",
    "\n",
    "Après différentes discussions avec les personnes s'occupant de l'entrée de données, vous apprenez qu'il y a souvent des valeurs manquantes dans les colonnes `Plant Code` et `Origin Port`, car ces personnes n'entrent pas ces valeurs lorsqu'il est possible de les déduire respectivement des feuilles *ProductsPerPlant* et *PlantPorts*. Ces valeurs sont donc manquantes de façon non-aléatoire (*MNAR*). Pour ces données manquantes, vous pouvez assumer qu'il n'y a qu'un seul `Plant Code` par `Product ID` dans la feuille *ProductsPerPlant* et qu'un seul `Origin Port` par `Plant Code` dans la feuille *PlantPorts*.\n",
    "\n",
    "De plus, vous apprenez que les valeurs manquantes dans les autres colonnes manquent de façon aléatoire (*MAR*) et qu'il n'est pas possible de déduire les valeurs manquantes pour ces colonnes avec les autres feuilles.\n",
    "\n",
    "Finalement, vous aprenez qu'il est nécessaire de supprimer les lignes possédant un transporteur `Carrier` non répertorié dans la feuille `FreightRates`. Ces lignes correspondent à des tests effectués sur le système et non pas à des vrais données; ces lignes doivent donc être supprimées avant les prochaines étapes."
   ]
  },
  {
   "cell_type": "code",
   "execution_count": null,
   "metadata": {},
   "outputs": [],
   "source": []
  },
  {
   "cell_type": "markdown",
   "metadata": {},
   "source": [
    "# Analyse des données\n",
    "Maintenant que les données sont nettoyées, vous pouvez les utiliser en sachant qu'il n'y aura pas d'incohérences. Vous pouvez donc effectuer des analyses sur ces données. En particulier, vous devez obtenir les informations suivantes:\n",
    "1. le produit commandé ayant le plus petit ratio `Weight`/`Unit Quantity`, en utilisant les informations de la feuille *OrderList*;\n",
    "2. le coût d'importation associé à chaque commande, en utilisant les informations des feuilles *OrderList* et *WhCosts*;\n",
    "3. le coût de transport quotidien pour chaque transporteur, en utilisant les informations des feuilles *OrderList* et *FreightRates* (veuillez noter que `minimum cost` correspond aux frais fixes de transport, et que `rate` doit être multiplié avec `Weight`); et\n",
    "4. la date à laquelle chaque transporteur a transporté le plus de produits (en poids), en utilisant les informations de la feuille *OrderList*."
   ]
  },
  {
   "cell_type": "code",
   "execution_count": null,
   "metadata": {},
   "outputs": [],
   "source": []
  },
  {
   "cell_type": "markdown",
   "metadata": {},
   "source": [
    "# Visualisation des données\n",
    "Une fois les données nettoyées, vous pouvez aussi les utiliser pour faire des visualisations. En particulier, vous devez maintenant faire les visualisations suivantes:\n",
    "1. évolution du coût de transport quotidien pour chaque transporteur à travers le temps;\n",
    "2. quantité envoyée par chaque usine le 28 mai 2013; et\n",
    "3. répartition des paires de valeurs `Unit quantity` (en $x$) et `Weight` (en $y$) pour chaque commande et mode de transport associé (le mode de transport est donné par la colonne `mode_dsc` de la feuille *FreightRates*).\n",
    "\n",
    "Si le temps vous le permet, vous pouvez améliorer ces visualisations en suivant les bonnes pratiques vues dans le cours."
   ]
  },
  {
   "cell_type": "code",
   "execution_count": null,
   "metadata": {},
   "outputs": [],
   "source": []
  }
 ],
 "metadata": {
  "kernelspec": {
   "display_name": "Python 3",
   "language": "python",
   "name": "python3"
  },
  "language_info": {
   "codemirror_mode": {
    "name": "ipython",
    "version": 3
   },
   "file_extension": ".py",
   "mimetype": "text/x-python",
   "name": "python",
   "nbconvert_exporter": "python",
   "pygments_lexer": "ipython3",
   "version": "3.7.3"
  },
  "toc": {
   "base_numbering": 1,
   "nav_menu": {},
   "number_sections": true,
   "sideBar": true,
   "skip_h1_title": false,
   "title_cell": "Table of Contents",
   "title_sidebar": "Contents",
   "toc_cell": false,
   "toc_position": {},
   "toc_section_display": true,
   "toc_window_display": true
  }
 },
 "nbformat": 4,
 "nbformat_minor": 4
}
