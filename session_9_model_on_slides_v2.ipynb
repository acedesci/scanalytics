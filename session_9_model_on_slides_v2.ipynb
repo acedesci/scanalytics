{
  "nbformat": 4,
  "nbformat_minor": 0,
  "metadata": {
    "colab": {
      "provenance": [],
      "authorship_tag": "ABX9TyMEEDztcHITSF34cJMPOMLe",
      "include_colab_link": true
    },
    "kernelspec": {
      "name": "python3",
      "display_name": "Python 3"
    },
    "language_info": {
      "name": "python"
    }
  },
  "cells": [
    {
      "cell_type": "markdown",
      "metadata": {
        "id": "view-in-github",
        "colab_type": "text"
      },
      "source": [
        "<a href=\"https://colab.research.google.com/github/acedesci/scanalytics/blob/master/session_9_model_on_slides_v2.ipynb\" target=\"_parent\"><img src=\"https://colab.research.google.com/assets/colab-badge.svg\" alt=\"Open In Colab\"/></a>"
      ]
    },
    {
      "cell_type": "code",
      "execution_count": 1,
      "metadata": {
        "colab": {
          "base_uri": "https://localhost:8080/"
        },
        "id": "rvhYqh1fzFzw",
        "outputId": "342d0944-300d-4a9d-bf03-1e0b5b228e7d"
      },
      "outputs": [
        {
          "output_type": "stream",
          "name": "stdout",
          "text": [
            "\u001b[2K     \u001b[90m━━━━━━━━━━━━━━━━━━━━━━━━━━━━━━━━━━━━━━━━\u001b[0m \u001b[32m11.0/11.0 MB\u001b[0m \u001b[31m47.2 MB/s\u001b[0m eta \u001b[36m0:00:00\u001b[0m\n",
            "\u001b[2K     \u001b[90m━━━━━━━━━━━━━━━━━━━━━━━━━━━━━━━━━━━━━━━━\u001b[0m \u001b[32m49.6/49.6 KB\u001b[0m \u001b[31m2.8 MB/s\u001b[0m eta \u001b[36m0:00:00\u001b[0m\n",
            "\u001b[?25hSelecting previously unselected package libsuitesparseconfig5:amd64.\n",
            "(Reading database ... 128276 files and directories currently installed.)\n",
            "Preparing to unpack .../libsuitesparseconfig5_1%3a5.7.1+dfsg-2_amd64.deb ...\n",
            "Unpacking libsuitesparseconfig5:amd64 (1:5.7.1+dfsg-2) ...\n",
            "Selecting previously unselected package libamd2:amd64.\n",
            "Preparing to unpack .../libamd2_1%3a5.7.1+dfsg-2_amd64.deb ...\n",
            "Unpacking libamd2:amd64 (1:5.7.1+dfsg-2) ...\n",
            "Selecting previously unselected package libcolamd2:amd64.\n",
            "Preparing to unpack .../libcolamd2_1%3a5.7.1+dfsg-2_amd64.deb ...\n",
            "Unpacking libcolamd2:amd64 (1:5.7.1+dfsg-2) ...\n",
            "Selecting previously unselected package libglpk40:amd64.\n",
            "Preparing to unpack .../libglpk40_4.65-2_amd64.deb ...\n",
            "Unpacking libglpk40:amd64 (4.65-2) ...\n",
            "Selecting previously unselected package glpk-utils.\n",
            "Preparing to unpack .../glpk-utils_4.65-2_amd64.deb ...\n",
            "Unpacking glpk-utils (4.65-2) ...\n",
            "Setting up libsuitesparseconfig5:amd64 (1:5.7.1+dfsg-2) ...\n",
            "Setting up libamd2:amd64 (1:5.7.1+dfsg-2) ...\n",
            "Setting up libcolamd2:amd64 (1:5.7.1+dfsg-2) ...\n",
            "Setting up libglpk40:amd64 (4.65-2) ...\n",
            "Setting up glpk-utils (4.65-2) ...\n",
            "Processing triggers for man-db (2.9.1-1) ...\n",
            "Processing triggers for libc-bin (2.31-0ubuntu9.9) ...\n"
          ]
        }
      ],
      "source": [
        "!pip install -q pyomo\n",
        "!apt-get install -y -qq glpk-utils"
      ]
    },
    {
      "cell_type": "code",
      "source": [
        "from pyomo.environ import *\n",
        "\n",
        "productList = ['X1', 'X2', 'X3']\n",
        "priceList = [24.99, 29.99, 34.99]\n",
        "avgPriceValue = 29.99\n",
        "\n",
        "model = ConcreteModel()\n",
        "# Variables\n",
        "model.x = Var(productList, priceList, within = Binary)\n",
        "model.pprint()"
      ],
      "metadata": {
        "colab": {
          "base_uri": "https://localhost:8080/"
        },
        "id": "G7vXP9IDzJNs",
        "outputId": "3ecf839b-2b0d-4383-dd9e-ccb04262569e"
      },
      "execution_count": 2,
      "outputs": [
        {
          "output_type": "stream",
          "name": "stdout",
          "text": [
            "3 Set Declarations\n",
            "    x_index : Size=1, Index=None, Ordered=True\n",
            "        Key  : Dimen : Domain              : Size : Members\n",
            "        None :     2 : x_index_0*x_index_1 :    9 : {('X1', 24.99), ('X1', 29.99), ('X1', 34.99), ('X2', 24.99), ('X2', 29.99), ('X2', 34.99), ('X3', 24.99), ('X3', 29.99), ('X3', 34.99)}\n",
            "    x_index_0 : Size=1, Index=None, Ordered=Insertion\n",
            "        Key  : Dimen : Domain : Size : Members\n",
            "        None :     1 :    Any :    3 : {'X1', 'X2', 'X3'}\n",
            "    x_index_1 : Size=1, Index=None, Ordered=Insertion\n",
            "        Key  : Dimen : Domain : Size : Members\n",
            "        None :     1 :    Any :    3 : {24.99, 29.99, 34.99}\n",
            "\n",
            "1 Var Declarations\n",
            "    x : Size=9, Index=x_index\n",
            "        Key           : Lower : Value : Upper : Fixed : Stale : Domain\n",
            "        ('X1', 24.99) :     0 :  None :     1 : False :  True : Binary\n",
            "        ('X1', 29.99) :     0 :  None :     1 : False :  True : Binary\n",
            "        ('X1', 34.99) :     0 :  None :     1 : False :  True : Binary\n",
            "        ('X2', 24.99) :     0 :  None :     1 : False :  True : Binary\n",
            "        ('X2', 29.99) :     0 :  None :     1 : False :  True : Binary\n",
            "        ('X2', 34.99) :     0 :  None :     1 : False :  True : Binary\n",
            "        ('X3', 24.99) :     0 :  None :     1 : False :  True : Binary\n",
            "        ('X3', 29.99) :     0 :  None :     1 : False :  True : Binary\n",
            "        ('X3', 34.99) :     0 :  None :     1 : False :  True : Binary\n",
            "\n",
            "4 Declarations: x_index_0 x_index_1 x_index x\n"
          ]
        }
      ]
    },
    {
      "cell_type": "code",
      "source": [
        "# Objective function\n",
        "\n",
        "model.OBJ = Objective(sense = maximize, expr = 2799*model.x[('X1', 24.99)] + 2399*model.x[('X1', 29.99)] + 1680*model.x[('X1', 34.99)] \n",
        "                      + 4573*model.x[('X2', 24.99)] + 4199*model.x[('X2', 29.99)] + 3394*model.x[('X2', 34.99)] \n",
        "                      + 0*model.x[('X3', 24.99)] + 2399*model.x[('X3', 29.99)] + 1225*model.x[('X3', 34.99)])\n",
        "\n",
        "model.pprint()"
      ],
      "metadata": {
        "colab": {
          "base_uri": "https://localhost:8080/"
        },
        "id": "mT4oDWBPz2lv",
        "outputId": "c75b16fe-634d-4075-8a89-c2aa7a46b1a7"
      },
      "execution_count": 5,
      "outputs": [
        {
          "output_type": "stream",
          "name": "stderr",
          "text": [
            "WARNING:pyomo.core:Implicitly replacing the Component attribute OBJ (type=<class 'pyomo.core.base.objective.ScalarObjective'>) on block unknown with a new Component (type=<class 'pyomo.core.base.objective.ScalarObjective'>).\n",
            "This is usually indicative of a modelling error.\n",
            "To avoid this warning, use block.del_component() and block.add_component().\n"
          ]
        },
        {
          "output_type": "stream",
          "name": "stdout",
          "text": [
            "3 Set Declarations\n",
            "    x_index : Size=1, Index=None, Ordered=True\n",
            "        Key  : Dimen : Domain              : Size : Members\n",
            "        None :     2 : x_index_0*x_index_1 :    9 : {('X1', 24.99), ('X1', 29.99), ('X1', 34.99), ('X2', 24.99), ('X2', 29.99), ('X2', 34.99), ('X3', 24.99), ('X3', 29.99), ('X3', 34.99)}\n",
            "    x_index_0 : Size=1, Index=None, Ordered=Insertion\n",
            "        Key  : Dimen : Domain : Size : Members\n",
            "        None :     1 :    Any :    3 : {'X1', 'X2', 'X3'}\n",
            "    x_index_1 : Size=1, Index=None, Ordered=Insertion\n",
            "        Key  : Dimen : Domain : Size : Members\n",
            "        None :     1 :    Any :    3 : {24.99, 29.99, 34.99}\n",
            "\n",
            "1 Var Declarations\n",
            "    x : Size=9, Index=x_index\n",
            "        Key           : Lower : Value : Upper : Fixed : Stale : Domain\n",
            "        ('X1', 24.99) :     0 :  None :     1 : False :  True : Binary\n",
            "        ('X1', 29.99) :     0 :  None :     1 : False :  True : Binary\n",
            "        ('X1', 34.99) :     0 :  None :     1 : False :  True : Binary\n",
            "        ('X2', 24.99) :     0 :  None :     1 : False :  True : Binary\n",
            "        ('X2', 29.99) :     0 :  None :     1 : False :  True : Binary\n",
            "        ('X2', 34.99) :     0 :  None :     1 : False :  True : Binary\n",
            "        ('X3', 24.99) :     0 :  None :     1 : False :  True : Binary\n",
            "        ('X3', 29.99) :     0 :  None :     1 : False :  True : Binary\n",
            "        ('X3', 34.99) :     0 :  None :     1 : False :  True : Binary\n",
            "\n",
            "1 Objective Declarations\n",
            "    OBJ : Size=1, Index=None, Active=True\n",
            "        Key  : Active : Sense    : Expression\n",
            "        None :   True : maximize : 2799*x[X1,24.99] + 2399*x[X1,29.99] + 1680*x[X1,34.99] + 4573*x[X2,24.99] + 4199*x[X2,29.99] + 3394*x[X2,34.99] + 2399*x[X3,29.99] + 1225*x[X3,34.99]\n",
            "\n",
            "5 Declarations: x_index_0 x_index_1 x_index x OBJ\n"
          ]
        }
      ]
    },
    {
      "cell_type": "code",
      "source": [
        "# Constraints #1\n",
        "model.PriceChoiceUPC1 = Constraint(expr = model.x[('X1', 24.99)] + model.x[('X1', 29.99)] + model.x[('X1', 34.99)] == 1)\n",
        "model.PriceChoiceUPC2 = Constraint(expr = model.x[('X2', 24.99)] + model.x[('X2', 29.99)] + model.x[('X2', 34.99)] == 1)\n",
        "model.PriceChoiceUPC3 = Constraint(expr = model.x[('X3', 24.99)] + model.x[('X3', 29.99)] + model.x[('X3', 34.99)] == 1)\n",
        "model.pprint()"
      ],
      "metadata": {
        "colab": {
          "base_uri": "https://localhost:8080/"
        },
        "id": "eCs8WIqB0pEP",
        "outputId": "d4af3fe6-81da-46a3-9d35-ca9e75b6116c"
      },
      "execution_count": 6,
      "outputs": [
        {
          "output_type": "stream",
          "name": "stdout",
          "text": [
            "3 Set Declarations\n",
            "    x_index : Size=1, Index=None, Ordered=True\n",
            "        Key  : Dimen : Domain              : Size : Members\n",
            "        None :     2 : x_index_0*x_index_1 :    9 : {('X1', 24.99), ('X1', 29.99), ('X1', 34.99), ('X2', 24.99), ('X2', 29.99), ('X2', 34.99), ('X3', 24.99), ('X3', 29.99), ('X3', 34.99)}\n",
            "    x_index_0 : Size=1, Index=None, Ordered=Insertion\n",
            "        Key  : Dimen : Domain : Size : Members\n",
            "        None :     1 :    Any :    3 : {'X1', 'X2', 'X3'}\n",
            "    x_index_1 : Size=1, Index=None, Ordered=Insertion\n",
            "        Key  : Dimen : Domain : Size : Members\n",
            "        None :     1 :    Any :    3 : {24.99, 29.99, 34.99}\n",
            "\n",
            "1 Var Declarations\n",
            "    x : Size=9, Index=x_index\n",
            "        Key           : Lower : Value : Upper : Fixed : Stale : Domain\n",
            "        ('X1', 24.99) :     0 :  None :     1 : False :  True : Binary\n",
            "        ('X1', 29.99) :     0 :  None :     1 : False :  True : Binary\n",
            "        ('X1', 34.99) :     0 :  None :     1 : False :  True : Binary\n",
            "        ('X2', 24.99) :     0 :  None :     1 : False :  True : Binary\n",
            "        ('X2', 29.99) :     0 :  None :     1 : False :  True : Binary\n",
            "        ('X2', 34.99) :     0 :  None :     1 : False :  True : Binary\n",
            "        ('X3', 24.99) :     0 :  None :     1 : False :  True : Binary\n",
            "        ('X3', 29.99) :     0 :  None :     1 : False :  True : Binary\n",
            "        ('X3', 34.99) :     0 :  None :     1 : False :  True : Binary\n",
            "\n",
            "1 Objective Declarations\n",
            "    OBJ : Size=1, Index=None, Active=True\n",
            "        Key  : Active : Sense    : Expression\n",
            "        None :   True : maximize : 2799*x[X1,24.99] + 2399*x[X1,29.99] + 1680*x[X1,34.99] + 4573*x[X2,24.99] + 4199*x[X2,29.99] + 3394*x[X2,34.99] + 2399*x[X3,29.99] + 1225*x[X3,34.99]\n",
            "\n",
            "3 Constraint Declarations\n",
            "    PriceChoiceUPC1 : Size=1, Index=None, Active=True\n",
            "        Key  : Lower : Body                                    : Upper : Active\n",
            "        None :   1.0 : x[X1,24.99] + x[X1,29.99] + x[X1,34.99] :   1.0 :   True\n",
            "    PriceChoiceUPC2 : Size=1, Index=None, Active=True\n",
            "        Key  : Lower : Body                                    : Upper : Active\n",
            "        None :   1.0 : x[X2,24.99] + x[X2,29.99] + x[X2,34.99] :   1.0 :   True\n",
            "    PriceChoiceUPC3 : Size=1, Index=None, Active=True\n",
            "        Key  : Lower : Body                                    : Upper : Active\n",
            "        None :   1.0 : x[X3,24.99] + x[X3,29.99] + x[X3,34.99] :   1.0 :   True\n",
            "\n",
            "8 Declarations: x_index_0 x_index_1 x_index x OBJ PriceChoiceUPC1 PriceChoiceUPC2 PriceChoiceUPC3\n"
          ]
        }
      ]
    },
    {
      "cell_type": "code",
      "source": [
        "# Constraints #2\n",
        "model.sumPrice = Constraint(expr = 24.99*model.x[('X1', 24.99)] + 29.99*model.x[('X1', 29.99)] + 34.99*model.x[('X1', 34.99)] \n",
        "                            + 24.99*model.x[('X2', 24.99)] + 29.99*model.x[('X2', 29.99)] + 34.99*model.x[('X2', 34.99)]\n",
        "                            + 24.99*model.x[('X3', 24.99)] + 29.99*model.x[('X3', 29.99)] + 34.99*model.x[('X3', 34.99)] == avgPriceValue*3)\n",
        "\n",
        "model.pprint()"
      ],
      "metadata": {
        "colab": {
          "base_uri": "https://localhost:8080/"
        },
        "id": "_UVGIT0305fo",
        "outputId": "a5213312-008c-40b6-ec44-9328c5194d1d"
      },
      "execution_count": 7,
      "outputs": [
        {
          "output_type": "stream",
          "name": "stdout",
          "text": [
            "3 Set Declarations\n",
            "    x_index : Size=1, Index=None, Ordered=True\n",
            "        Key  : Dimen : Domain              : Size : Members\n",
            "        None :     2 : x_index_0*x_index_1 :    9 : {('X1', 24.99), ('X1', 29.99), ('X1', 34.99), ('X2', 24.99), ('X2', 29.99), ('X2', 34.99), ('X3', 24.99), ('X3', 29.99), ('X3', 34.99)}\n",
            "    x_index_0 : Size=1, Index=None, Ordered=Insertion\n",
            "        Key  : Dimen : Domain : Size : Members\n",
            "        None :     1 :    Any :    3 : {'X1', 'X2', 'X3'}\n",
            "    x_index_1 : Size=1, Index=None, Ordered=Insertion\n",
            "        Key  : Dimen : Domain : Size : Members\n",
            "        None :     1 :    Any :    3 : {24.99, 29.99, 34.99}\n",
            "\n",
            "1 Var Declarations\n",
            "    x : Size=9, Index=x_index\n",
            "        Key           : Lower : Value : Upper : Fixed : Stale : Domain\n",
            "        ('X1', 24.99) :     0 :  None :     1 : False :  True : Binary\n",
            "        ('X1', 29.99) :     0 :  None :     1 : False :  True : Binary\n",
            "        ('X1', 34.99) :     0 :  None :     1 : False :  True : Binary\n",
            "        ('X2', 24.99) :     0 :  None :     1 : False :  True : Binary\n",
            "        ('X2', 29.99) :     0 :  None :     1 : False :  True : Binary\n",
            "        ('X2', 34.99) :     0 :  None :     1 : False :  True : Binary\n",
            "        ('X3', 24.99) :     0 :  None :     1 : False :  True : Binary\n",
            "        ('X3', 29.99) :     0 :  None :     1 : False :  True : Binary\n",
            "        ('X3', 34.99) :     0 :  None :     1 : False :  True : Binary\n",
            "\n",
            "1 Objective Declarations\n",
            "    OBJ : Size=1, Index=None, Active=True\n",
            "        Key  : Active : Sense    : Expression\n",
            "        None :   True : maximize : 2799*x[X1,24.99] + 2399*x[X1,29.99] + 1680*x[X1,34.99] + 4573*x[X2,24.99] + 4199*x[X2,29.99] + 3394*x[X2,34.99] + 2399*x[X3,29.99] + 1225*x[X3,34.99]\n",
            "\n",
            "4 Constraint Declarations\n",
            "    PriceChoiceUPC1 : Size=1, Index=None, Active=True\n",
            "        Key  : Lower : Body                                    : Upper : Active\n",
            "        None :   1.0 : x[X1,24.99] + x[X1,29.99] + x[X1,34.99] :   1.0 :   True\n",
            "    PriceChoiceUPC2 : Size=1, Index=None, Active=True\n",
            "        Key  : Lower : Body                                    : Upper : Active\n",
            "        None :   1.0 : x[X2,24.99] + x[X2,29.99] + x[X2,34.99] :   1.0 :   True\n",
            "    PriceChoiceUPC3 : Size=1, Index=None, Active=True\n",
            "        Key  : Lower : Body                                    : Upper : Active\n",
            "        None :   1.0 : x[X3,24.99] + x[X3,29.99] + x[X3,34.99] :   1.0 :   True\n",
            "    sumPrice : Size=1, Index=None, Active=True\n",
            "        Key  : Lower : Body                                                                                                                                                                              : Upper : Active\n",
            "        None : 89.97 : 24.99*x[X1,24.99] + 29.99*x[X1,29.99] + 34.99*x[X1,34.99] + 24.99*x[X2,24.99] + 29.99*x[X2,29.99] + 34.99*x[X2,34.99] + 24.99*x[X3,24.99] + 29.99*x[X3,29.99] + 34.99*x[X3,34.99] : 89.97 :   True\n",
            "\n",
            "9 Declarations: x_index_0 x_index_1 x_index x OBJ PriceChoiceUPC1 PriceChoiceUPC2 PriceChoiceUPC3 sumPrice\n"
          ]
        }
      ]
    },
    {
      "cell_type": "code",
      "source": [
        "opt = SolverFactory('glpk')\n",
        "opt.solve(model) \n",
        "\n",
        "model.display()"
      ],
      "metadata": {
        "colab": {
          "base_uri": "https://localhost:8080/"
        },
        "id": "vfgSBGq41VYe",
        "outputId": "044c5826-b5e8-44f2-eca0-651d3ee8931d"
      },
      "execution_count": 8,
      "outputs": [
        {
          "output_type": "stream",
          "name": "stdout",
          "text": [
            "Model unknown\n",
            "\n",
            "  Variables:\n",
            "    x : Size=9, Index=x_index\n",
            "        Key           : Lower : Value : Upper : Fixed : Stale : Domain\n",
            "        ('X1', 24.99) :     0 :   0.0 :     1 : False : False : Binary\n",
            "        ('X1', 29.99) :     0 :   1.0 :     1 : False : False : Binary\n",
            "        ('X1', 34.99) :     0 :   0.0 :     1 : False : False : Binary\n",
            "        ('X2', 24.99) :     0 :   0.0 :     1 : False : False : Binary\n",
            "        ('X2', 29.99) :     0 :   1.0 :     1 : False : False : Binary\n",
            "        ('X2', 34.99) :     0 :   0.0 :     1 : False : False : Binary\n",
            "        ('X3', 24.99) :     0 :   0.0 :     1 : False : False : Binary\n",
            "        ('X3', 29.99) :     0 :   1.0 :     1 : False : False : Binary\n",
            "        ('X3', 34.99) :     0 :   0.0 :     1 : False : False : Binary\n",
            "\n",
            "  Objectives:\n",
            "    OBJ : Size=1, Index=None, Active=True\n",
            "        Key  : Active : Value\n",
            "        None :   True : 8997.0\n",
            "\n",
            "  Constraints:\n",
            "    PriceChoiceUPC1 : Size=1\n",
            "        Key  : Lower : Body : Upper\n",
            "        None :   1.0 :  1.0 :   1.0\n",
            "    PriceChoiceUPC2 : Size=1\n",
            "        Key  : Lower : Body : Upper\n",
            "        None :   1.0 :  1.0 :   1.0\n",
            "    PriceChoiceUPC3 : Size=1\n",
            "        Key  : Lower : Body : Upper\n",
            "        None :   1.0 :  1.0 :   1.0\n",
            "    sumPrice : Size=1\n",
            "        Key  : Lower : Body  : Upper\n",
            "        None : 89.97 : 89.97 : 89.97\n"
          ]
        }
      ]
    },
    {
      "cell_type": "code",
      "source": [
        "import pandas as pd\n",
        "# Here we prepare the dictionary to be used in the optimization model\n",
        "\n",
        "p = [[24.99, 29.99, 34.99], [24.99, 29.99, 34.99], [24.99, 29.99, 34.99]]\n",
        "D = [[112, 80, 48], [183, 140, 97], [0, 80, 35]]\n",
        "\n",
        "print(p)\n",
        "print(D)\n",
        "\n",
        "iIndexList = list(range(3))\n",
        "jIndexList = list(range(3))\n",
        "\n",
        "print(iIndexList)\n",
        "print(jIndexList)\n",
        "\n",
        "print(p[2][1])"
      ],
      "metadata": {
        "colab": {
          "base_uri": "https://localhost:8080/"
        },
        "id": "X5RnOm3w2HjE",
        "outputId": "e4172f78-7e06-4e2e-b67d-51a8076b232b"
      },
      "execution_count": 21,
      "outputs": [
        {
          "output_type": "stream",
          "name": "stdout",
          "text": [
            "[[24.99, 29.99, 34.99], [24.99, 29.99, 34.99], [24.99, 29.99, 34.99]]\n",
            "[[112, 80, 48], [183, 140, 97], [0, 80, 35]]\n",
            "[0, 1, 2]\n",
            "[0, 1, 2]\n",
            "29.99\n"
          ]
        }
      ]
    },
    {
      "cell_type": "code",
      "source": [
        "model = ConcreteModel()\n",
        "# Variables\n",
        "model.x = Var(iIndexList, jIndexList, within = Binary)\n",
        "\n",
        "# Constraints\n",
        "model.PriceChoiceUPC = ConstraintList()\n",
        "model.sumPrice = ConstraintList()\n",
        "\n",
        "# Print to review the model (equations are still not included)\n",
        "model.pprint()"
      ],
      "metadata": {
        "colab": {
          "base_uri": "https://localhost:8080/"
        },
        "id": "udST69_l1611",
        "outputId": "5354756f-3d28-43e8-edba-f8232ebe367a"
      },
      "execution_count": 15,
      "outputs": [
        {
          "output_type": "stream",
          "name": "stdout",
          "text": [
            "5 Set Declarations\n",
            "    PriceChoiceUPC_index : Size=1, Index=None, Ordered=Insertion\n",
            "        Key  : Dimen : Domain : Size : Members\n",
            "        None :     1 :    Any :    0 :      {}\n",
            "    sumPrice_index : Size=1, Index=None, Ordered=Insertion\n",
            "        Key  : Dimen : Domain : Size : Members\n",
            "        None :     1 :    Any :    0 :      {}\n",
            "    x_index : Size=1, Index=None, Ordered=True\n",
            "        Key  : Dimen : Domain              : Size : Members\n",
            "        None :     2 : x_index_0*x_index_1 :    9 : {(0, 0), (0, 1), (0, 2), (1, 0), (1, 1), (1, 2), (2, 0), (2, 1), (2, 2)}\n",
            "    x_index_0 : Size=1, Index=None, Ordered=Insertion\n",
            "        Key  : Dimen : Domain : Size : Members\n",
            "        None :     1 :    Any :    3 : {0, 1, 2}\n",
            "    x_index_1 : Size=1, Index=None, Ordered=Insertion\n",
            "        Key  : Dimen : Domain : Size : Members\n",
            "        None :     1 :    Any :    3 : {0, 1, 2}\n",
            "\n",
            "1 Var Declarations\n",
            "    x : Size=9, Index=x_index\n",
            "        Key    : Lower : Value : Upper : Fixed : Stale : Domain\n",
            "        (0, 0) :     0 :  None :     1 : False :  True : Binary\n",
            "        (0, 1) :     0 :  None :     1 : False :  True : Binary\n",
            "        (0, 2) :     0 :  None :     1 : False :  True : Binary\n",
            "        (1, 0) :     0 :  None :     1 : False :  True : Binary\n",
            "        (1, 1) :     0 :  None :     1 : False :  True : Binary\n",
            "        (1, 2) :     0 :  None :     1 : False :  True : Binary\n",
            "        (2, 0) :     0 :  None :     1 : False :  True : Binary\n",
            "        (2, 1) :     0 :  None :     1 : False :  True : Binary\n",
            "        (2, 2) :     0 :  None :     1 : False :  True : Binary\n",
            "\n",
            "2 Constraint Declarations\n",
            "    PriceChoiceUPC : Size=0, Index=PriceChoiceUPC_index, Active=True\n",
            "        Key : Lower : Body : Upper : Active\n",
            "    sumPrice : Size=0, Index=sumPrice_index, Active=True\n",
            "        Key : Lower : Body : Upper : Active\n",
            "\n",
            "8 Declarations: x_index_0 x_index_1 x_index x PriceChoiceUPC_index PriceChoiceUPC sumPrice_index sumPrice\n"
          ]
        }
      ]
    },
    {
      "cell_type": "code",
      "source": [
        "# Objective function\n",
        "\n",
        "obj_expr = sum(p[i][j]*D[i][j]*model.x[i,j] for i in iIndexList for j in jIndexList) \n",
        "print(obj_expr)\n",
        "model.OBJ = Objective(expr = obj_expr, sense = maximize)"
      ],
      "metadata": {
        "colab": {
          "base_uri": "https://localhost:8080/"
        },
        "id": "3RQjzqeJ19YV",
        "outputId": "7b53ccef-c0d2-4b24-c978-d0a05841de39"
      },
      "execution_count": 22,
      "outputs": [
        {
          "output_type": "stream",
          "name": "stdout",
          "text": [
            "2798.8799999999997*x[0,0] + 2399.2*x[0,1] + 1679.52*x[0,2] + 4573.17*x[1,0] + 4198.599999999999*x[1,1] + 3394.03*x[1,2] + 2399.2*x[2,1] + 1224.65*x[2,2]\n"
          ]
        }
      ]
    },
    {
      "cell_type": "code",
      "source": [
        "# Constraints #1\n",
        "for i in iIndexList:\n",
        "  const1_expr = sum(model.x[i,j] for j in jIndexList) == 1 \n",
        "  print(const1_expr)\n",
        "  model.PriceChoiceUPC.add(expr = const1_expr)\n"
      ],
      "metadata": {
        "colab": {
          "base_uri": "https://localhost:8080/"
        },
        "id": "k9Cac3fA4YWZ",
        "outputId": "21d60777-0671-45a7-b077-8d5d63edbc33"
      },
      "execution_count": 26,
      "outputs": [
        {
          "output_type": "stream",
          "name": "stdout",
          "text": [
            "x[0,0] + x[0,1] + x[0,2]  ==  1\n",
            "x[1,0] + x[1,1] + x[1,2]  ==  1\n",
            "x[2,0] + x[2,1] + x[2,2]  ==  1\n"
          ]
        }
      ]
    },
    {
      "cell_type": "code",
      "source": [
        "# Constraints #2\n",
        "const2_expr = sum(p[i][j]*model.x[i,j] for i in iIndexList for j in jIndexList) == avgPriceValue*3 \n",
        "print(const2_expr)\n",
        "model.sumPrice.add(expr = const2_expr)"
      ],
      "metadata": {
        "colab": {
          "base_uri": "https://localhost:8080/"
        },
        "id": "348QVxbTT-08",
        "outputId": "472468f2-64a7-4b70-9ab9-a0c5f1870685"
      },
      "execution_count": 27,
      "outputs": [
        {
          "output_type": "stream",
          "name": "stdout",
          "text": [
            "24.99*x[0,0] + 29.99*x[0,1] + 34.99*x[0,2] + 24.99*x[1,0] + 29.99*x[1,1] + 34.99*x[1,2] + 24.99*x[2,0] + 29.99*x[2,1] + 34.99*x[2,2]  ==  89.97\n"
          ]
        },
        {
          "output_type": "execute_result",
          "data": {
            "text/plain": [
              "<pyomo.core.base.constraint._GeneralConstraintData at 0x7f266b9c3fa0>"
            ]
          },
          "metadata": {},
          "execution_count": 27
        }
      ]
    },
    {
      "cell_type": "code",
      "source": [
        "# Solve the model\n",
        "opt = SolverFactory('glpk')\n",
        "opt.solve(model) \n",
        "\n",
        "model.display()"
      ],
      "metadata": {
        "colab": {
          "base_uri": "https://localhost:8080/"
        },
        "id": "UxkUMk1JUKoS",
        "outputId": "55bc65e4-6d08-4332-c145-6b9b9ceedd16"
      },
      "execution_count": 28,
      "outputs": [
        {
          "output_type": "stream",
          "name": "stdout",
          "text": [
            "Model unknown\n",
            "\n",
            "  Variables:\n",
            "    x : Size=9, Index=x_index\n",
            "        Key    : Lower : Value : Upper : Fixed : Stale : Domain\n",
            "        (0, 0) :     0 :   0.0 :     1 : False : False : Binary\n",
            "        (0, 1) :     0 :   1.0 :     1 : False : False : Binary\n",
            "        (0, 2) :     0 :   0.0 :     1 : False : False : Binary\n",
            "        (1, 0) :     0 :   0.0 :     1 : False : False : Binary\n",
            "        (1, 1) :     0 :   1.0 :     1 : False : False : Binary\n",
            "        (1, 2) :     0 :   0.0 :     1 : False : False : Binary\n",
            "        (2, 0) :     0 :   0.0 :     1 : False : False : Binary\n",
            "        (2, 1) :     0 :   1.0 :     1 : False : False : Binary\n",
            "        (2, 2) :     0 :   0.0 :     1 : False : False : Binary\n",
            "\n",
            "  Objectives:\n",
            "    OBJ : Size=1, Index=None, Active=True\n",
            "        Key  : Active : Value\n",
            "        None :   True : 8997.0\n",
            "\n",
            "  Constraints:\n",
            "    PriceChoiceUPC : Size=3\n",
            "        Key : Lower : Body : Upper\n",
            "          1 :   1.0 :  1.0 :   1.0\n",
            "          2 :   1.0 :  1.0 :   1.0\n",
            "          3 :   1.0 :  1.0 :   1.0\n",
            "    sumPrice : Size=1\n",
            "        Key : Lower : Body  : Upper\n",
            "          1 : 89.97 : 89.97 : 89.97\n"
          ]
        }
      ]
    },
    {
      "cell_type": "code",
      "source": [],
      "metadata": {
        "id": "TweSxuBZ2AWd"
      },
      "execution_count": null,
      "outputs": []
    }
  ]
}