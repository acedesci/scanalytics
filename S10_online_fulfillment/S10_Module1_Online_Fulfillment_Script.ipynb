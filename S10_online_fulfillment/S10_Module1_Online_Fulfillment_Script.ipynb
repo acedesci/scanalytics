{
  "nbformat": 4,
  "nbformat_minor": 0,
  "metadata": {
    "colab": {
      "name": "S10_Module1_Online_Fulfillment_Script.ipynb",
      "provenance": [],
      "collapsed_sections": [],
      "include_colab_link": true
    },
    "kernelspec": {
      "name": "python3",
      "display_name": "Python 3"
    }
  },
  "cells": [
    {
      "cell_type": "markdown",
      "metadata": {
        "id": "view-in-github",
        "colab_type": "text"
      },
      "source": [
        "<a href=\"https://colab.research.google.com/github/acedesci/scanalytics/blob/master/S10_online_fulfillment/S10_Module1_Online_Fulfillment_Script.ipynb\" target=\"_parent\"><img src=\"https://colab.research.google.com/assets/colab-badge.svg\" alt=\"Open In Colab\"/></a>"
      ]
    },
    {
      "cell_type": "markdown",
      "metadata": {
        "id": "pHCo2OUyeYib",
        "colab_type": "text"
      },
      "source": [
        "In this session, we also begin by installing the (i) Pyomo package and (ii) the linear programming solver GLPK (GNU Linear Programming Kit). Please feel free to revisit [Session 9](https://github.com/acedesci/scanalytics/blob/master/S8_9_retail_analytics/S9_Module2A_Retail_Price_Optimization.ipynb) for further information. "
      ]
    },
    {
      "cell_type": "code",
      "metadata": {
        "id": "zdvWKIywwi4_",
        "colab_type": "code",
        "outputId": "35b0ec51-3e5c-4adb-a541-554c48231d25",
        "colab": {
          "base_uri": "https://localhost:8080/",
          "height": 510
        }
      },
      "source": [
        "# Install Pyomo and GLPK\n",
        "!pip install -q pyomo\n",
        "!apt-get install -y -qq glpk-utils #if GLPK is used"
      ],
      "execution_count": 1,
      "outputs": [
        {
          "output_type": "stream",
          "text": [
            "\u001b[K     |████████████████████████████████| 2.5MB 2.8MB/s \n",
            "\u001b[K     |████████████████████████████████| 266kB 20.0MB/s \n",
            "\u001b[K     |████████████████████████████████| 51kB 6.8MB/s \n",
            "\u001b[K     |████████████████████████████████| 163kB 20.6MB/s \n",
            "\u001b[?25hSelecting previously unselected package libsuitesparseconfig5:amd64.\n",
            "(Reading database ... 133872 files and directories currently installed.)\n",
            "Preparing to unpack .../libsuitesparseconfig5_1%3a5.1.2-2_amd64.deb ...\n",
            "Unpacking libsuitesparseconfig5:amd64 (1:5.1.2-2) ...\n",
            "Selecting previously unselected package libamd2:amd64.\n",
            "Preparing to unpack .../libamd2_1%3a5.1.2-2_amd64.deb ...\n",
            "Unpacking libamd2:amd64 (1:5.1.2-2) ...\n",
            "Selecting previously unselected package libcolamd2:amd64.\n",
            "Preparing to unpack .../libcolamd2_1%3a5.1.2-2_amd64.deb ...\n",
            "Unpacking libcolamd2:amd64 (1:5.1.2-2) ...\n",
            "Selecting previously unselected package libglpk40:amd64.\n",
            "Preparing to unpack .../libglpk40_4.65-1_amd64.deb ...\n",
            "Unpacking libglpk40:amd64 (4.65-1) ...\n",
            "Selecting previously unselected package glpk-utils.\n",
            "Preparing to unpack .../glpk-utils_4.65-1_amd64.deb ...\n",
            "Unpacking glpk-utils (4.65-1) ...\n",
            "Setting up libsuitesparseconfig5:amd64 (1:5.1.2-2) ...\n",
            "Setting up libcolamd2:amd64 (1:5.1.2-2) ...\n",
            "Setting up libamd2:amd64 (1:5.1.2-2) ...\n",
            "Setting up libglpk40:amd64 (4.65-1) ...\n",
            "Setting up glpk-utils (4.65-1) ...\n",
            "Processing triggers for libc-bin (2.27-3ubuntu1) ...\n",
            "/sbin/ldconfig.real: /usr/local/lib/python3.6/dist-packages/ideep4py/lib/libmkldnn.so.0 is not a symbolic link\n",
            "\n",
            "Processing triggers for man-db (2.8.3-2ubuntu0.1) ...\n"
          ],
          "name": "stdout"
        }
      ]
    },
    {
      "cell_type": "markdown",
      "metadata": {
        "colab_type": "text",
        "id": "7-xsg-k95pwj"
      },
      "source": [
        "# Blocks 1&2: Data input and parameters\n",
        "\n",
        "We have two different datasets, but their structures are the same. The dataset 1 is the same as in the paper whereas the dataset 2 is a larger dataset to demonstrate how data can be adapted.\n",
        "\n",
        "1.   **Fulfillment center (FC) data**: each dataset contains a set of fulfillment centers $FC$ (*listFC*), each of which has a given level of inventory ${\\bf X}$ (*inventoryFC*). Customers can place an order for either a single item or multiple items, but if no fulfillment center has all the items available, the retailer has to resort to split deliveries, which obviously affect the shipping expenses. Therefore, our optimization model has to take account of the probability that the fulfillment center has 'other items in order' (*probMultiAvailability*).\n",
        "2.   **Customer region data**: each customer zone (*listRegion*) has to be associated with a certain demand over the next $\\tau$ days (*demandValue*) for customer $j$ and the proportion of orders that are for multiple items (*probMultiItem*). \n",
        "2.   **Shipment cost data**: *costSingle$[i,j]$* denotes the cost of a single delivery from Fulfillment Center (FC) *i* to Customer Zone *j* or $c_{ij}$. Please note that for Data 1, since there is only one customer zone (Kansas), there is only one cost from each origin (i.e., from FC *i* to Kansas). *avgNoMultiItem* stands for the *average number of items in a multi-item order*. This will help us compute the average shipping cost per item for multi-item orders. More specifically $\\omega = 1/\\mbox{avgNoMultiItem}$. \n",
        "\n",
        "\n",
        "\n",
        "\n",
        "\n",
        "\n",
        "\n"
      ]
    },
    {
      "cell_type": "code",
      "metadata": {
        "colab_type": "code",
        "id": "fHWImO45lwgd",
        "colab": {
          "base_uri": "https://localhost:8080/",
          "height": 119
        },
        "outputId": "3a665778-3e36-4385-e145-00ef9d7c6f0c"
      },
      "source": [
        "# Data 1 (same as in the paper)\n",
        "\n",
        "# Fulfillment center (FC) data\n",
        "listFC = ['Utah', 'Nevada']\n",
        "inventoryFC = dict(zip(listFC, [5, 20]))\n",
        "print(inventoryFC)\n",
        "probMultiAvailability = dict(zip(listFC, [0.5, 0.2]))\n",
        "print(probMultiAvailability)\n",
        "\n",
        "# Customer region data\n",
        "listRegion = ['Kansas']\n",
        "demandValue = dict(zip(listRegion, [2*10]))\n",
        "print(demandValue)\n",
        "probMultiItem = dict(zip(listRegion, [0.75]))\n",
        "print(probMultiItem)\n",
        "\n",
        "# Shipment cost data\n",
        "costSingle = [[9], [12]]\n",
        "print(costSingle)\n",
        "\n",
        "# average number of items in a multi-item order\n",
        "avgNoMultiItem = 3.0\n",
        "# we can calculate the multi-item shipping discount $\\omega$\n",
        "shippingDiscount = 1/avgNoMultiItem\n",
        "\n",
        "# Prepare shipment cost above in dictionary format\n",
        "costSingleDict = {}\n",
        "for i in range(len(listFC)):\n",
        "  for j in range(len(listRegion)):\n",
        "    costSingleDict[(listFC[i],listRegion[j])] = costSingle[i][j]\n",
        "\n",
        "print(costSingleDict)  "
      ],
      "execution_count": 2,
      "outputs": [
        {
          "output_type": "stream",
          "text": [
            "{'Utah': 5, 'Nevada': 20}\n",
            "{'Utah': 0.5, 'Nevada': 0.2}\n",
            "{'Kansas': 20}\n",
            "{'Kansas': 0.75}\n",
            "[[9], [12]]\n",
            "{('Utah', 'Kansas'): 9, ('Nevada', 'Kansas'): 12}\n"
          ],
          "name": "stdout"
        }
      ]
    },
    {
      "cell_type": "code",
      "metadata": {
        "colab_type": "code",
        "id": "1fKI_a0MiKOM",
        "colab": {}
      },
      "source": [
        "# Data 2\n",
        "\n",
        "# Fulfillment center (FC) data\n",
        "listFC = ['Delta-BC', 'Brampton-ON', 'Ottawa-ON']\n",
        "inventoryFC = dict(zip(listFC, [37, 85, 25]))\n",
        "print(inventoryFC)\n",
        "probMultiAvailability = dict(zip(listFC, [0.32, 0.45, 0.17]))\n",
        "print(probMultiAvailability)\n",
        "\n",
        "# Customer region data\n",
        "listRegion = ['Toronto', 'Montreal', 'Calgary', 'Vancouver']\n",
        "demandValue = dict(zip(listRegion, [45, 27, 15, 33]))\n",
        "print(demandValue)\n",
        "probMultiItem = dict(zip(listRegion, [0.73, 0.68, 0.54, 0.64]))\n",
        "print(probMultiItem)\n",
        "\n",
        "# Shipment cost data\n",
        "costSingle = [[24.5, 25.5, 18.1, 12.3],\n",
        "        [13.6, 17.5, 22.8, 23.6],\n",
        "        [18.1, 14.1, 21.1, 22.8]]\n",
        "\n",
        "# average number of items in a multi-item order\n",
        "avgNoMultiItem = 2.5\n",
        "# we can calculate the multi-item shipping discount $\\omega$\n",
        "shippingDiscount = 1/avgNoMultiItem\n",
        "\n",
        "# Prepare shipment cost above in dictionary format\n",
        "costSingleDict = {}\n",
        "for i in range(len(listFC)):\n",
        "  for j in range(len(listRegion)):\n",
        "    costSingleDict[(listFC[i],listRegion[j])] = costSingle[i][j]\n",
        "\n",
        "print(costSingleDict)  "
      ],
      "execution_count": 0,
      "outputs": []
    },
    {
      "cell_type": "markdown",
      "metadata": {
        "colab_type": "text",
        "id": "N8aZG5UzeUE0"
      },
      "source": [
        "# Block 3: Create an optimization model\n",
        "\n",
        "### Block 3.1: Variable declarations\n",
        "\n",
        "As we all learned in [Session 9](https://github.com/acedesci/scanalytics/blob/master/S8_9_retail_analytics/S9_Module2A_Retail_Price_Optimization.ipynb), an optimization model consists of (i) decision variables, (ii) objective function, and (iii) constraints.\n",
        "\n",
        "Our decision variables include model.x, model.y and model.w, which are all nonnegative, denoting the flow from FC *i* to customer region *j*. In particular,\n",
        "\n",
        "model.**x**$[i, j]$ (or $x_{ij}$) denotes the decision variable for **unsplit** flow from FC *i* to **multi-item** customer *j*. The unit cost of this flow is $\\omega c_{ij}$;\n",
        "\n",
        "model.**y**$[i, j]$ (or $y_{ij}$) denotes the decision variable for **split** flow from FC *i* to **multi-item** customer *j*. The unit cost of this flow is $2\\omega c_{ij}$ (two shipments are used if the order cannot be shipped in one shipment);\n",
        "\n",
        "model.**w**$[i, j]$ (or $w_{ij}$) denotes the decision variable for flow from FC *i* to **single-item** customer *j*.  The unit cost of this flow is $c_{ij}$.\n",
        "\n",
        "On the last line, we also create an object to store the shadow prices (dual variables). This is used if we don't want to solve the LP multiple times."
      ]
    },
    {
      "cell_type": "code",
      "metadata": {
        "id": "AeKxRrnufnyo",
        "colab_type": "code",
        "colab": {}
      },
      "source": [
        "from pyomo.environ import *\n",
        "\n",
        "model = ConcreteModel()\n",
        "# Variables\n",
        "model.x = Var(listFC, listRegion, within = NonNegativeReals)\n",
        "model.y = Var(listFC, listRegion, within = NonNegativeReals)\n",
        "model.w = Var(listFC, listRegion, within = NonNegativeReals)\n",
        "\n",
        "model.inventoryOnHand = ConstraintList()\n",
        "model.demandSingle = ConstraintList()\n",
        "model.demandMulitiple = ConstraintList()\n",
        "model.maxMultiShipment = ConstraintList()\n",
        "\n",
        "# create an object to access to shadow prices. Please note that the codes must be exactly written as \n",
        "# model.dual = Suffix(direction=Suffix.IMPORT_EXPORT) in order for it to work because it was hard coded in pyomo.\n",
        "model.dual = Suffix(direction=Suffix.IMPORT_EXPORT)"
      ],
      "execution_count": 0,
      "outputs": []
    },
    {
      "cell_type": "markdown",
      "metadata": {
        "colab_type": "text",
        "id": "t8AfQC35eUFC"
      },
      "source": [
        "### Block 3.2: Objective function\n",
        "\n",
        "For notational simplication, let\n",
        "\n",
        "$c_{ij}=$ costSingle$[i,j]$, the cost of a single delivery from Fulfillment Center (FC) *i* to Customer Zone *j*;\n",
        "\n",
        "$\\omega=1$ / avgNoMultiItem, expected discount of sending multi-item order in one package.\n",
        "\n",
        "Then, we have the general form of the objective function as follows\n",
        "\n",
        "$$\\min\\limits_{x,y,w} \\left\\{ \\sum_{i\\in\\mathcal{FC}} \\sum_{j\\in\\mathcal{J}}\\left(  c_{ij}\\cdot w_{ij} + \\omega \\cdot c_{ij}\\cdot x_{ij} + 2\\omega \\cdot c_{ij}\\cdot y_{ij} \\right) \\right\\}$$"
      ]
    },
    {
      "cell_type": "code",
      "metadata": {
        "id": "RY6Vi1TE5ztC",
        "colab_type": "code",
        "outputId": "80705a89-9070-4964-865b-7b6837de83ef",
        "colab": {
          "base_uri": "https://localhost:8080/",
          "height": 34
        }
      },
      "source": [
        "# Objective function\n",
        "\n",
        "obj_expr = sum(costSingleDict[(i,j)]*model.w[(i,j)] + shippingDiscount*costSingleDict[(i,j)]*model.x[(i,j)] \\\n",
        "               + (2*shippingDiscount)*costSingleDict[(i,j)]*model.y[(i,j)] for i in listFC for j in listRegion)\n",
        "print(obj_expr)\n",
        "model.OBJ = Objective(expr = obj_expr, sense = minimize)"
      ],
      "execution_count": 4,
      "outputs": [
        {
          "output_type": "stream",
          "text": [
            "9*w[Utah,Kansas] + 3.0*x[Utah,Kansas] + 6.0*y[Utah,Kansas] + 12*w[Nevada,Kansas] + 4.0*x[Nevada,Kansas] + 8.0*y[Nevada,Kansas]\n"
          ],
          "name": "stdout"
        }
      ]
    },
    {
      "cell_type": "markdown",
      "metadata": {
        "colab_type": "text",
        "id": "GJwQt1XEeUFM"
      },
      "source": [
        "### Block 3.3: Constraints functions\n",
        "\n",
        "**Constraint Set 1**: Inventory availability at FC *i*\n",
        "\n",
        "This set of constraints ensures that the total demand (orders) assigned to FC *i* is less than or equal to the inventory at FC *i*.\n",
        "\n",
        "Let $X_i$ denote the inventory level at FC *i* and $\\mathcal{FC}$ denote the list of all FCs.\n",
        "$$\\sum_{j\\in\\mathcal{J}} \\left( w_{ij} + x_{ij} + y_{ij} \\right) \\leq X_i, \\forall i\\in \\mathcal{FC} $$"
      ]
    },
    {
      "cell_type": "code",
      "metadata": {
        "id": "_-J1E9CayDY-",
        "colab_type": "code",
        "outputId": "1b7c1453-cdb7-49bf-d5f9-29c1eeb0f873",
        "colab": {
          "base_uri": "https://localhost:8080/",
          "height": 51
        }
      },
      "source": [
        "# Constraints 1 Inventory availability at FC i\n",
        "\n",
        "for i in listFC:\n",
        "  const_expr = sum(model.w[(i,j)] + model.x[(i,j)] + model.y[(i,j)] for j in listRegion) <= inventoryFC[i] \n",
        "  print(const_expr)\n",
        "  model.inventoryOnHand.add(expr = const_expr)\n"
      ],
      "execution_count": 5,
      "outputs": [
        {
          "output_type": "stream",
          "text": [
            "w[Utah,Kansas] + x[Utah,Kansas] + y[Utah,Kansas]  <=  5.0\n",
            "w[Nevada,Kansas] + x[Nevada,Kansas] + y[Nevada,Kansas]  <=  20.0\n"
          ],
          "name": "stdout"
        }
      ]
    },
    {
      "cell_type": "markdown",
      "metadata": {
        "colab_type": "text",
        "id": "iyOwKc5PeUFW"
      },
      "source": [
        "**Constraint Set 2**: Future demand for single-item order in region *j*\n",
        "\n",
        "This set of constraints ensures that the single-item demand at Customer (Demand) Zone *j* is satisfied.\n",
        "\n",
        "Let $D_j$ denote the demand at Customer Zone *j*, $\\mathcal{J}$ denote the list of all Customer (Demand) Zones and $\\lambda_j$ denote the proportion of orders that are for multiple items (probMultiItem) $\\Rightarrow\\left(1-\\lambda_j\\right)$ equals the proportion of orders that are for a single item.\n",
        "$$\\sum_{i \\in \\mathcal{FC}} w_{ij} = D_j \\cdot \\left( 1-\\lambda_j \\right), \\forall j\\in \\mathcal{J} $$"
      ]
    },
    {
      "cell_type": "code",
      "metadata": {
        "id": "prKy0fAE6hTd",
        "colab_type": "code",
        "outputId": "8123c988-da97-431c-d4a1-b68d8a7bf61d",
        "colab": {
          "base_uri": "https://localhost:8080/",
          "height": 34
        }
      },
      "source": [
        "# Constraints 2 Future demand for single-item order in region j \n",
        "\n",
        "for j in listRegion:\n",
        "  const_expr = sum(model.w[(i,j)] for i in listFC) == demandValue[j]*(1-probMultiItem[j])\n",
        "  print(const_expr)\n",
        "  model.demandSingle.add(expr = const_expr)"
      ],
      "execution_count": 6,
      "outputs": [
        {
          "output_type": "stream",
          "text": [
            "w[Utah,Kansas] + w[Nevada,Kansas]  ==  5.0\n"
          ],
          "name": "stdout"
        }
      ]
    },
    {
      "cell_type": "markdown",
      "metadata": {
        "colab_type": "text",
        "id": "i1SNTK5_eUFh"
      },
      "source": [
        "**Constraint Set 3**: Future demand for multi-item order in region *j*\n",
        "\n",
        "This set of constraints ensures that the multi-item demand at Customer (Demand) Zone *j* is satisfied.\n",
        "\n",
        "Using the similar notations as in *Constraint set 2*, we attain\n",
        "$$\\sum_{i \\in \\mathcal{FC}}  \\left( x_{ij} + y_{ij} \\right) = D_j \\cdot \\lambda_j, \\forall j\\in \\mathcal{J} $$"
      ]
    },
    {
      "cell_type": "code",
      "metadata": {
        "id": "NZR8hsnq-rNe",
        "colab_type": "code",
        "outputId": "a7954823-e4f3-4ff0-d7ce-e8a775232134",
        "colab": {
          "base_uri": "https://localhost:8080/",
          "height": 34
        }
      },
      "source": [
        "# Constraints 3 Future demand for multi-item order in region j \n",
        "\n",
        "for j in listRegion:\n",
        "  const_expr = sum(model.x[(i,j)] + model.y[(i,j)] for i in listFC) == demandValue[j]*probMultiItem[j]\n",
        "  print(const_expr)\n",
        "  model.demandMulitiple.add(expr = const_expr)"
      ],
      "execution_count": 7,
      "outputs": [
        {
          "output_type": "stream",
          "text": [
            "x[Utah,Kansas] + y[Utah,Kansas] + x[Nevada,Kansas] + y[Nevada,Kansas]  ==  15.0\n"
          ],
          "name": "stdout"
        }
      ]
    },
    {
      "cell_type": "markdown",
      "metadata": {
        "colab_type": "text",
        "id": "Cno-OFqueUFs"
      },
      "source": [
        "**Constraint Set 4**: Estimated maximum number multi-item shipments from FC *i* to customer region *j*\n",
        "\n",
        "It should be noted that unsplit delivery for a multi-item order from FC *i* to Customer Region *j* is effected only when FC *i* has 'other items in order'. Let $\\rho_i$ denote the probability that FC *i* has 'other items in order' (probMultiAvailability). Then, we impose the following constraints. \n",
        "\n",
        "$$ x_{ij} \\leq D_j \\cdot \\lambda_j \\cdot \\rho_i, \\forall i\\in\\mathcal{FC}, j\\in \\mathcal{J} $$"
      ]
    },
    {
      "cell_type": "code",
      "metadata": {
        "id": "2a98wmcR-yV5",
        "colab_type": "code",
        "outputId": "dbe15545-261e-44b9-d392-ce50a2a89534",
        "colab": {
          "base_uri": "https://localhost:8080/",
          "height": 51
        }
      },
      "source": [
        "# Constraints #4 Estimated maximum number multi-item shipments from FC i to customer regions j \n",
        "\n",
        "for i in listFC:\n",
        "  for j in listRegion:\n",
        "    const_expr = model.x[(i,j)] <= demandValue[j]*probMultiItem[j]*probMultiAvailability[i]\n",
        "    print(const_expr)\n",
        "    model.maxMultiShipment.add(expr = const_expr)"
      ],
      "execution_count": 8,
      "outputs": [
        {
          "output_type": "stream",
          "text": [
            "x[Utah,Kansas]  <=  7.5\n",
            "x[Nevada,Kansas]  <=  3.0\n"
          ],
          "name": "stdout"
        }
      ]
    },
    {
      "cell_type": "markdown",
      "metadata": {
        "id": "186r2t7CmjtZ",
        "colab_type": "text"
      },
      "source": [
        "You can print the entire model to check if you want"
      ]
    },
    {
      "cell_type": "code",
      "metadata": {
        "id": "qRpGXUdEmbDT",
        "colab_type": "code",
        "colab": {}
      },
      "source": [
        "# This is commented so that we won't print out unless necessary. You can outcomment to print it.\n",
        "# model.pprint()"
      ],
      "execution_count": 0,
      "outputs": []
    },
    {
      "cell_type": "markdown",
      "metadata": {
        "colab_type": "text",
        "id": "47HscW575pxD"
      },
      "source": [
        "# Block 4: Solution and results"
      ]
    },
    {
      "cell_type": "markdown",
      "metadata": {
        "id": "dM_7d4YhyxKS",
        "colab_type": "text"
      },
      "source": [
        "Finally, we call for the solver and obtain the solution. The first line indicates which solver we want to use and the second line solves the model (this is equivalent to *fit()* in sklearn). The last line *displays* the solution."
      ]
    },
    {
      "cell_type": "code",
      "metadata": {
        "id": "a0KA-DNX8RqA",
        "colab_type": "code",
        "outputId": "4b5220cb-12d8-471a-83ec-dec9397d8c73",
        "colab": {
          "base_uri": "https://localhost:8080/",
          "height": 629
        }
      },
      "source": [
        "# Solve the model\n",
        "opt = SolverFactory('glpk')\n",
        "opt.solve(model) \n",
        "\n",
        "model.display()"
      ],
      "execution_count": 10,
      "outputs": [
        {
          "output_type": "stream",
          "text": [
            "Model unknown\n",
            "\n",
            "  Variables:\n",
            "    x : Size=2, Index=x_index\n",
            "        Key                  : Lower : Value : Upper : Fixed : Stale : Domain\n",
            "        ('Nevada', 'Kansas') :     0 :   3.0 :  None : False : False : NonNegativeReals\n",
            "          ('Utah', 'Kansas') :     0 :   5.0 :  None : False : False : NonNegativeReals\n",
            "    y : Size=2, Index=y_index\n",
            "        Key                  : Lower : Value : Upper : Fixed : Stale : Domain\n",
            "        ('Nevada', 'Kansas') :     0 :   7.0 :  None : False : False : NonNegativeReals\n",
            "          ('Utah', 'Kansas') :     0 :   0.0 :  None : False : False : NonNegativeReals\n",
            "    w : Size=2, Index=w_index\n",
            "        Key                  : Lower : Value : Upper : Fixed : Stale : Domain\n",
            "        ('Nevada', 'Kansas') :     0 :   5.0 :  None : False : False : NonNegativeReals\n",
            "          ('Utah', 'Kansas') :     0 :   0.0 :  None : False : False : NonNegativeReals\n",
            "\n",
            "  Objectives:\n",
            "    OBJ : Size=1, Index=None, Active=True\n",
            "        Key  : Active : Value\n",
            "        None :   True : 143.0\n",
            "\n",
            "  Constraints:\n",
            "    inventoryOnHand : Size=2\n",
            "        Key : Lower : Body : Upper\n",
            "          1 :  None :  5.0 :   5.0\n",
            "          2 :  None : 15.0 :  20.0\n",
            "    demandSingle : Size=1\n",
            "        Key : Lower : Body : Upper\n",
            "          1 :   5.0 :  5.0 :   5.0\n",
            "    demandMulitiple : Size=1\n",
            "        Key : Lower : Body : Upper\n",
            "          1 :  15.0 : 15.0 :  15.0\n",
            "    maxMultiShipment : Size=2\n",
            "        Key : Lower : Body : Upper\n",
            "          1 :  None :  5.0 :   7.5\n",
            "          2 :  None :  3.0 :   3.0\n"
          ],
          "name": "stdout"
        }
      ]
    },
    {
      "cell_type": "markdown",
      "metadata": {
        "id": "cxbf4nIETWbt",
        "colab_type": "text"
      },
      "source": [
        "In order to quickly determine the approximate cost-to-go without solving multiple times the LP model above, we can also make use of the shadow price. The codes below print out the shadow prices of all the constraints. Only the shadow prices of the constraint *inventoryOnHand* are used to calculate the approximate cost-to-go, i.e., $$C_{k}({\\bf X_k})=\\min_{i\\in \\mathcal{FC}}\\left({c_{ik}+C_{k+1}({\\bf X_{k+1}})}\\right)=\\min_{i\\in \\mathcal{FC}}\\left({c_{ik}+C_{k+1}({\\bf X_{k}})-\\pi_{i}}\\right).$$"
      ]
    },
    {
      "cell_type": "code",
      "metadata": {
        "id": "ZI2YY1sZlYSq",
        "colab_type": "code",
        "outputId": "40eb1eb9-f83c-4bc7-ee28-edf2391253c9",
        "colab": {
          "base_uri": "https://localhost:8080/",
          "height": 153
        }
      },
      "source": [
        "# Obtain reduced cost for each constraint\n",
        "model.dual.display()"
      ],
      "execution_count": 11,
      "outputs": [
        {
          "output_type": "stream",
          "text": [
            "dual : Direction=Suffix.IMPORT_EXPORT, Datatype=Suffix.FLOAT\n",
            "    Key                 : Value\n",
            "     demandMulitiple[1] :   8.0\n",
            "        demandSingle[1] :  12.0\n",
            "     inventoryOnHand[1] :  -5.0\n",
            "     inventoryOnHand[2] :   0.0\n",
            "    maxMultiShipment[1] :   0.0\n",
            "    maxMultiShipment[2] :  -4.0\n"
          ],
          "name": "stdout"
        }
      ]
    }
  ]
}
