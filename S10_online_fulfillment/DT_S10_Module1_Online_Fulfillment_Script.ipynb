{
  "nbformat": 4,
  "nbformat_minor": 0,
  "metadata": {
    "colab": {
      "name": "Copy of S10_Module1_Online_Fulfillment_Script.ipynb",
      "provenance": [],
      "collapsed_sections": [],
      "authorship_tag": "ABX9TyNpV7ioJcjEyreUEHpfz3GZ",
      "include_colab_link": true
    },
    "kernelspec": {
      "name": "python3",
      "display_name": "Python 3"
    }
  },
  "cells": [
    {
      "cell_type": "markdown",
      "metadata": {
        "id": "view-in-github",
        "colab_type": "text"
      },
      "source": [
        "<a href=\"https://colab.research.google.com/github/acedesci/scanalytics/blob/master/S10_online_fulfillment/DT_S10_Module1_Online_Fulfillment_Script.ipynb\" target=\"_parent\"><img src=\"https://colab.research.google.com/assets/colab-badge.svg\" alt=\"Open In Colab\"/></a>"
      ]
    },
    {
      "cell_type": "markdown",
      "metadata": {
        "id": "pHCo2OUyeYib",
        "colab_type": "text"
      },
      "source": [
        "In this session, we also begin by installing the (i) Pyomo package and (ii) the linear programming solver GLPK (GNU Linear Programming Kit). Please feel free to revisit [[Session 9]](https://github.com/acedesci/scanalytics/blob/master/S8_9_retail_analytics/S9_Module2A_Retail_Price_Optimization.ipynb) for further information. "
      ]
    },
    {
      "cell_type": "code",
      "metadata": {
        "id": "zdvWKIywwi4_",
        "colab_type": "code",
        "outputId": "12e662e4-7560-4494-c30a-67b947840c2d",
        "colab": {
          "base_uri": "https://localhost:8080/",
          "height": 510
        }
      },
      "source": [
        "# Install Pyomo and GLPK\n",
        "!pip install -q pyomo\n",
        "!apt-get install -y -qq glpk-utils #if GLPK is used\n",
        "# !apt-get install -y -qq coinor-cbc #if cbc is used"
      ],
      "execution_count": 0,
      "outputs": [
        {
          "output_type": "stream",
          "text": [
            "\u001b[K     |████████████████████████████████| 2.4MB 3.0MB/s \n",
            "\u001b[K     |████████████████████████████████| 51kB 7.8MB/s \n",
            "\u001b[K     |████████████████████████████████| 256kB 22.6MB/s \n",
            "\u001b[K     |████████████████████████████████| 163kB 26.9MB/s \n",
            "\u001b[?25hSelecting previously unselected package libsuitesparseconfig5:amd64.\n",
            "(Reading database ... 134443 files and directories currently installed.)\n",
            "Preparing to unpack .../libsuitesparseconfig5_1%3a5.1.2-2_amd64.deb ...\n",
            "Unpacking libsuitesparseconfig5:amd64 (1:5.1.2-2) ...\n",
            "Selecting previously unselected package libamd2:amd64.\n",
            "Preparing to unpack .../libamd2_1%3a5.1.2-2_amd64.deb ...\n",
            "Unpacking libamd2:amd64 (1:5.1.2-2) ...\n",
            "Selecting previously unselected package libcolamd2:amd64.\n",
            "Preparing to unpack .../libcolamd2_1%3a5.1.2-2_amd64.deb ...\n",
            "Unpacking libcolamd2:amd64 (1:5.1.2-2) ...\n",
            "Selecting previously unselected package libglpk40:amd64.\n",
            "Preparing to unpack .../libglpk40_4.65-1_amd64.deb ...\n",
            "Unpacking libglpk40:amd64 (4.65-1) ...\n",
            "Selecting previously unselected package glpk-utils.\n",
            "Preparing to unpack .../glpk-utils_4.65-1_amd64.deb ...\n",
            "Unpacking glpk-utils (4.65-1) ...\n",
            "Setting up libsuitesparseconfig5:amd64 (1:5.1.2-2) ...\n",
            "Setting up libcolamd2:amd64 (1:5.1.2-2) ...\n",
            "Setting up libamd2:amd64 (1:5.1.2-2) ...\n",
            "Setting up libglpk40:amd64 (4.65-1) ...\n",
            "Setting up glpk-utils (4.65-1) ...\n",
            "Processing triggers for libc-bin (2.27-3ubuntu1) ...\n",
            "/sbin/ldconfig.real: /usr/local/lib/python3.6/dist-packages/ideep4py/lib/libmkldnn.so.0 is not a symbolic link\n",
            "\n",
            "Processing triggers for man-db (2.8.3-2ubuntu0.1) ...\n"
          ],
          "name": "stdout"
        }
      ]
    },
    {
      "cell_type": "markdown",
      "metadata": {
        "colab_type": "text",
        "id": "7-xsg-k95pwj"
      },
      "source": [
        "# Blocks 1&2: Data input and parameters\n",
        "\n",
        "We have two different datasets, but their structures are similar.",
        "\n",
        "Indeed, each dataset contains a set of fulfillment centers (listFC), each of which has a given level of inventory (inventoryFC). Customers can place an order for either a single item or multiple items, but if no fulfillment center has all the items available, the retailer has to resort to split deliveries, which obviously affect the shipping expenses. Therefore, our optimization model has to take account of the probability that the fulfillment center has 'other items in order' (probMultiAvailability).",
        "\n",
        "Likewise, each *customer zone* (listRegion) has to be associated with a certain *demand level* (demandRegion) and the probability that an order is for multiple items (probMultiItem).",
        "\n",
        "avgNoMultiItem stands for the *average number of items in a multi-item order*. This will help us compute the average shipping cost per item for multi-item orders.",
        "\n",
        "costSingle[i,j] denotes the cost of a single delivery from Fulfillment Center (FC) *i* to Customer Zone *j*. Please note that all vectors in Python are column vectors, e.g. the dimensionality of $\\overset{\\rightarrow}{\\mathbf{v}}\\left(v_1, v_2\\right)$ is $2\\times 1$. So, if the dataset has only one dimension as in costSingle of Data 1, costSingle[i] denotes the shipping cost from FC *i* to Kansas, which is the only customer zone in Data 1."
      ]
    },
    {
      "cell_type": "code",
      "metadata": {
        "id": "srNxZV2csU4W",
        "colab_type": "code",
        "colab": {}
      },
      "source": [
        "# Data 1 (same as in the paper)\n",
        "listFC = ['Utah', 'Nevada']\n",
        "inventoryFC = dict(zip(listFC, [4, 20]))\n",
        "print(inventoryFC)\n",
        "probMultiAvailability = dict(zip(listFC, [0.5, 0.2]))\n",
        "print(probMultiAvailability)\n",
        "\n",
        "listRegion = ['Kansas']\n",
        "demandRegion = dict(zip(listRegion, [2*10]))\n",
        "print(demandRegion)\n",
        "probMultiItem = dict(zip(listRegion, [0.75]))\n",
        "print(probMultiItem)\n",
        "\n",
        "avgNoMultiItem = 3.0 \n",
        "\n",
        "costSingle = [[9], [12]]\n",
        "print(costSingle)\n",
        "\n",
        "costSingleDict = {}\n",
        "for i in range(len(listFC)):\n",
        "  for j in range(len(listRegion)):\n",
        "    costSingleDict[(listFC[i],listRegion[j])] = costSingle[i][j]\n",
        "\n",
        "print(costSingleDict)  "
      ],
      "execution_count": 0,
      "outputs": []
    },
    {
      "cell_type": "code",
      "metadata": {
        "colab_type": "code",
        "outputId": "732773c5-e554-40e7-c8eb-2fc5ed1a5aea",
        "id": "1fKI_a0MiKOM",
        "colab": {
          "base_uri": "https://localhost:8080/",
          "height": 122
        }
      },
      "source": [
        "# Data 2\n",
        "listFC = ['Delta-BC', 'Brampton-ON', 'Ottawa-ON']\n",
        "inventoryFC = dict(zip(listFC, [37, 85, 25]))\n",
        "print(inventoryFC)\n",
        "probMultiAvailability = dict(zip(listFC, [0.32, 0.45, 0.17]))\n",
        "print(probMultiAvailability)\n",
        "\n",
        "listRegion = ['Toronto', 'Montreal', 'Calgary', 'Vancouver']\n",
        "demandRegion = dict(zip(listRegion, [45, 27, 15, 33]))\n",
        "print(demandRegion)\n",
        "probMultiItem = dict(zip(listRegion, [0.73, 0.68, 0.54, 0.64]))\n",
        "print(probMultiItem)\n",
        "\n",
        "avgNoMultiItem = 2.5 \n",
        "\n",
        "costSingle = [[24.5, 25.5, 18.1, 12.3],\n",
        "        [13.6, 17.5, 22.8, 23.6],\n",
        "        [18.1, 14.1, 21.1, 22.8]]\n",
        "\n",
        "costSingleDict = {}\n",
        "for i in range(len(listFC)):\n",
        "  for j in range(len(listRegion)):\n",
        "    costSingleDict[(listFC[i],listRegion[j])] = costSingle[i][j]\n",
        "\n",
        "print(costSingleDict)  "
      ],
      "execution_count": 0,
      "outputs": [
        {
          "output_type": "stream",
          "text": [
            "{'Delta-BC': 37, 'Brampton-ON': 85, 'Ottawa-ON': 25}\n",
            "{'Delta-BC': 0.32, 'Brampton-ON': 0.45, 'Ottawa-ON': 0.17}\n",
            "{'Toronto': 45, 'Montreal': 27, 'Calgary': 15, 'Vancouver': 33}\n",
            "{'Toronto': 0.73, 'Montreal': 0.68, 'Calgary': 0.54, 'Vancouver': 0.64}\n",
            "{('Delta-BC', 'Toronto'): 24.5, ('Delta-BC', 'Montreal'): 25.5, ('Delta-BC', 'Calgary'): 18.1, ('Delta-BC', 'Vancouver'): 12.3, ('Brampton-ON', 'Toronto'): 13.6, ('Brampton-ON', 'Montreal'): 17.5, ('Brampton-ON', 'Calgary'): 22.8, ('Brampton-ON', 'Vancouver'): 23.6, ('Ottawa-ON', 'Toronto'): 18.1, ('Ottawa-ON', 'Montreal'): 14.1, ('Ottawa-ON', 'Calgary'): 21.1, ('Ottawa-ON', 'Vancouver'): 22.8}\n"
          ],
          "name": "stdout"
        }
      ]
    },
    {
      "cell_type": "markdown",
      "metadata": {
        "colab_type": "text",
        "id": "7-xsg-k95pwj"
      },
      "source": [
        "# Block 3: Create an optimization model\n",
        "\n",
        "### Block 3.1: Variable declarations"
        "\n",
        "As we all learned in [[Session 9]](https://github.com/acedesci/scanalytics/blob/master/S8_9_retail_analytics/S9_Module2A_Retail_Price_Optimization.ipynb), an optimization model consists of (i) decision variables, (ii) objective function, and (iii) constraints.",
        "\n",
        "Our decision variables include model.x, model.y and model.w, which are all nonnegative, denoting the flow from FC *i* to Customer Zone *j*. In particular,", 
        "\n",
        "model.**x**[i, j] denotes the decision variable for **unsplit** flow from FC *i* to **multi-item** customer *j*;",
        "\n",
        "model.**y**[i, j] denotes the decision variable for **split** flow from FC *i* to **multi-item** customer *j*;",
        "\n",
        "model.**w**[i, j] denotes the decision variable for flow from FC *i* to **single-item** customer *j*."
      ]
    },
    {
      "cell_type": "code",
      "metadata": {
        "id": "AeKxRrnufnyo",
        "colab_type": "code",
        "colab": {}
      },
      "source": [
        "from pyomo.environ import *\n",
        "\n",
        "model = ConcreteModel()\n",
        "# Variables\n",
        "model.x = Var(listFC, listRegion, within = NonNegativeReals)\n",
        "model.y = Var(listFC, listRegion, within = NonNegativeReals)\n",
        "model.w = Var(listFC, listRegion, within = NonNegativeReals)\n",
        "\n",
        "model.inventoryOnHand = ConstraintList()\n",
        "model.demandSingle = ConstraintList()\n",
        "model.demandMulitiple = ConstraintList()\n",
        "model.maxMultiShipment = ConstraintList()"
      ],
      "execution_count": 0,
      "outputs": []
    },
    {
      "cell_type": "code",
      "metadata": {
        "id": "RY6Vi1TE5ztC",
        "colab_type": "code",
        "outputId": "cfb9fa79-4219-462c-9289-6c0fea0f78d5",
        "colab": {
          "base_uri": "https://localhost:8080/",
          "height": 54
        }
      },
      "source": [
        "# Objective function\n",
        "\n",
        "obj_expr = sum(costSingleDict[(i,j)]*model.w[(i,j)] for i in listFC for j in listRegion)\n",
        "obj_expr = obj_expr + sum(costSingleDict[(i,j)]*(1/avgNoMultiItem)*model.x[(i,j)] for i in listFC for j in listRegion) \n",
        "obj_expr = obj_expr + sum(costSingleDict[(i,j)]*(2/avgNoMultiItem)*model.y[(i,j)] for i in listFC for j in listRegion) \n",
        "print(obj_expr)\n",
        "model.OBJ = Objective(expr = obj_expr, sense = minimize)"
      ],
      "execution_count": 0,
      "outputs": [
        {
          "output_type": "stream",
          "text": [
            "24.5*w[Delta-BC,Toronto] + 25.5*w[Delta-BC,Montreal] + 18.1*w[Delta-BC,Calgary] + 12.3*w[Delta-BC,Vancouver] + 13.6*w[Brampton-ON,Toronto] + 17.5*w[Brampton-ON,Montreal] + 22.8*w[Brampton-ON,Calgary] + 23.6*w[Brampton-ON,Vancouver] + 18.1*w[Ottawa-ON,Toronto] + 14.1*w[Ottawa-ON,Montreal] + 21.1*w[Ottawa-ON,Calgary] + 22.8*w[Ottawa-ON,Vancouver] + 9.8*x[Delta-BC,Toronto] + 10.200000000000001*x[Delta-BC,Montreal] + 7.240000000000001*x[Delta-BC,Calgary] + 4.920000000000001*x[Delta-BC,Vancouver] + 5.44*x[Brampton-ON,Toronto] + 7.0*x[Brampton-ON,Montreal] + 9.120000000000001*x[Brampton-ON,Calgary] + 9.440000000000001*x[Brampton-ON,Vancouver] + 7.240000000000001*x[Ottawa-ON,Toronto] + 5.640000000000001*x[Ottawa-ON,Montreal] + 8.440000000000001*x[Ottawa-ON,Calgary] + 9.120000000000001*x[Ottawa-ON,Vancouver] + 19.6*y[Delta-BC,Toronto] + 20.400000000000002*y[Delta-BC,Montreal] + 14.480000000000002*y[Delta-BC,Calgary] + 9.840000000000002*y[Delta-BC,Vancouver] + 10.88*y[Brampton-ON,Toronto] + 14.0*y[Brampton-ON,Montreal] + 18.240000000000002*y[Brampton-ON,Calgary] + 18.880000000000003*y[Brampton-ON,Vancouver] + 14.480000000000002*y[Ottawa-ON,Toronto] + 11.280000000000001*y[Ottawa-ON,Montreal] + 16.880000000000003*y[Ottawa-ON,Calgary] + 18.240000000000002*y[Ottawa-ON,Vancouver]\n"
          ],
          "name": "stdout"
        }
      ]
    },
    {
      "cell_type": "code",
      "metadata": {
        "id": "_-J1E9CayDY-",
        "colab_type": "code",
        "outputId": "99e4176e-b03e-4ccc-ade2-b3703ecb3b13",
        "colab": {
          "base_uri": "https://localhost:8080/",
          "height": 88
        }
      },
      "source": [
        "# Constraints 1 Inventory availability at FC i\n",
        "\n",
        "for i in listFC:\n",
        "  const_expr = sum(model.w[(i,j)] + model.x[(i,j)] + model.y[(i,j)] for j in listRegion) <= inventoryFC[i] \n",
        "  print(const_expr)\n",
        "  model.inventoryOnHand.add(expr = const_expr)\n"
      ],
      "execution_count": 0,
      "outputs": [
        {
          "output_type": "stream",
          "text": [
            "w[Delta-BC,Toronto] + x[Delta-BC,Toronto] + y[Delta-BC,Toronto] + w[Delta-BC,Montreal] + x[Delta-BC,Montreal] + y[Delta-BC,Montreal] + w[Delta-BC,Calgary] + x[Delta-BC,Calgary] + y[Delta-BC,Calgary] + w[Delta-BC,Vancouver] + x[Delta-BC,Vancouver] + y[Delta-BC,Vancouver]  <=  37.0\n",
            "w[Brampton-ON,Toronto] + x[Brampton-ON,Toronto] + y[Brampton-ON,Toronto] + w[Brampton-ON,Montreal] + x[Brampton-ON,Montreal] + y[Brampton-ON,Montreal] + w[Brampton-ON,Calgary] + x[Brampton-ON,Calgary] + y[Brampton-ON,Calgary] + w[Brampton-ON,Vancouver] + x[Brampton-ON,Vancouver] + y[Brampton-ON,Vancouver]  <=  85.0\n",
            "w[Ottawa-ON,Toronto] + x[Ottawa-ON,Toronto] + y[Ottawa-ON,Toronto] + w[Ottawa-ON,Montreal] + x[Ottawa-ON,Montreal] + y[Ottawa-ON,Montreal] + w[Ottawa-ON,Calgary] + x[Ottawa-ON,Calgary] + y[Ottawa-ON,Calgary] + w[Ottawa-ON,Vancouver] + x[Ottawa-ON,Vancouver] + y[Ottawa-ON,Vancouver]  <=  25.0\n"
          ],
          "name": "stdout"
        }
      ]
    },
    {
      "cell_type": "code",
      "metadata": {
        "id": "prKy0fAE6hTd",
        "colab_type": "code",
        "outputId": "b4bf4c2f-c150-44f1-d952-166eb0a92517",
        "colab": {
          "base_uri": "https://localhost:8080/",
          "height": 85
        }
      },
      "source": [
        "# Constraints 2 Demand for single-item order in region j \n",
        "\n",
        "for j in listRegion:\n",
        "  const_expr = sum(model.w[(i,j)] for i in listFC) == demandRegion[j]*(1-probMultiItem[j])\n",
        "  print(const_expr)\n",
        "  model.demandSingle.add(expr = const_expr)"
      ],
      "execution_count": 0,
      "outputs": [
        {
          "output_type": "stream",
          "text": [
            "w[Delta-BC,Toronto] + w[Brampton-ON,Toronto] + w[Ottawa-ON,Toronto]  ==  12.15\n",
            "w[Delta-BC,Montreal] + w[Brampton-ON,Montreal] + w[Ottawa-ON,Montreal]  ==  8.639999999999999\n",
            "w[Delta-BC,Calgary] + w[Brampton-ON,Calgary] + w[Ottawa-ON,Calgary]  ==  6.8999999999999995\n",
            "w[Delta-BC,Vancouver] + w[Brampton-ON,Vancouver] + w[Ottawa-ON,Vancouver]  ==  11.879999999999999\n"
          ],
          "name": "stdout"
        }
      ]
    },
    {
      "cell_type": "code",
      "metadata": {
        "id": "NZR8hsnq-rNe",
        "colab_type": "code",
        "outputId": "7fb3b6fd-0db8-4cd6-cf70-eb88a93c7e64",
        "colab": {
          "base_uri": "https://localhost:8080/",
          "height": 85
        }
      },
      "source": [
        "# Constraints 3 Demand for multi-item order in region j \n",
        "\n",
        "for j in listRegion:\n",
        "  const_expr = sum(model.x[(i,j)] + model.y[(i,j)] for i in listFC) == demandRegion[j]*probMultiItem[j]\n",
        "  print(const_expr)\n",
        "  model.demandMulitiple.add(expr = const_expr)"
      ],
      "execution_count": 0,
      "outputs": [
        {
          "output_type": "stream",
          "text": [
            "x[Delta-BC,Toronto] + y[Delta-BC,Toronto] + x[Brampton-ON,Toronto] + y[Brampton-ON,Toronto] + x[Ottawa-ON,Toronto] + y[Ottawa-ON,Toronto]  ==  32.85\n",
            "x[Delta-BC,Montreal] + y[Delta-BC,Montreal] + x[Brampton-ON,Montreal] + y[Brampton-ON,Montreal] + x[Ottawa-ON,Montreal] + y[Ottawa-ON,Montreal]  ==  18.360000000000003\n",
            "x[Delta-BC,Calgary] + y[Delta-BC,Calgary] + x[Brampton-ON,Calgary] + y[Brampton-ON,Calgary] + x[Ottawa-ON,Calgary] + y[Ottawa-ON,Calgary]  ==  8.100000000000001\n",
            "x[Delta-BC,Vancouver] + y[Delta-BC,Vancouver] + x[Brampton-ON,Vancouver] + y[Brampton-ON,Vancouver] + x[Ottawa-ON,Vancouver] + y[Ottawa-ON,Vancouver]  ==  21.12\n"
          ],
          "name": "stdout"
        }
      ]
    },
    {
      "cell_type": "code",
      "metadata": {
        "id": "2a98wmcR-yV5",
        "colab_type": "code",
        "outputId": "ac7f02bb-3bb2-4341-ba32-63afe20eec0d",
        "colab": {
          "base_uri": "https://localhost:8080/",
          "height": 1000
        }
      },
      "source": [
        "# Constraints #4 Estimated maximum number multi-item shipments from FC i to customer regions j \n",
        "\n",
        "for i in listFC:\n",
        "  for j in listRegion:\n",
        "    const_expr = model.x[(i,j)] <= demandRegion[j]*probMultiItem[j]*probMultiAvailability[i]\n",
        "    print(const_expr)\n",
        "    model.maxMultiShipment.add(expr = const_expr)\n",
        "\n",
        "model.pprint()"
      ],
      "execution_count": 0,
      "outputs": [
        {
          "output_type": "stream",
          "text": [
            "x[Delta-BC,Toronto]  <=  10.512\n",
            "x[Delta-BC,Montreal]  <=  5.875200000000001\n",
            "x[Delta-BC,Calgary]  <=  2.5920000000000005\n",
            "x[Delta-BC,Vancouver]  <=  6.758400000000001\n",
            "x[Brampton-ON,Toronto]  <=  14.7825\n",
            "x[Brampton-ON,Montreal]  <=  8.262000000000002\n",
            "x[Brampton-ON,Calgary]  <=  3.645000000000001\n",
            "x[Brampton-ON,Vancouver]  <=  9.504000000000001\n",
            "x[Ottawa-ON,Toronto]  <=  5.5845\n",
            "x[Ottawa-ON,Montreal]  <=  3.121200000000001\n",
            "x[Ottawa-ON,Calgary]  <=  1.3770000000000004\n",
            "x[Ottawa-ON,Vancouver]  <=  3.5904000000000003\n",
            "13 Set Declarations\n",
            "    demandMulitiple_index : Dim=0, Dimen=1, Size=4, Domain=None, Ordered=False, Bounds=None\n",
            "        [1, 2, 3, 4]\n",
            "    demandSingle_index : Dim=0, Dimen=1, Size=4, Domain=None, Ordered=False, Bounds=None\n",
            "        [1, 2, 3, 4]\n",
            "    inventoryOnHand_index : Dim=0, Dimen=1, Size=3, Domain=None, Ordered=False, Bounds=None\n",
            "        [1, 2, 3]\n",
            "    maxMultiShipment_index : Dim=0, Dimen=1, Size=12, Domain=None, Ordered=False, Bounds=None\n",
            "        [1, 2, 3, 4, 5, 6, 7, 8, 9, 10, 11, 12]\n",
            "    w_index : Dim=0, Dimen=2, Size=12, Domain=None, Ordered=False, Bounds=None\n",
            "        Virtual\n",
            "    w_index_0 : Dim=0, Dimen=1, Size=3, Domain=None, Ordered=False, Bounds=None\n",
            "        ['Brampton-ON', 'Delta-BC', 'Ottawa-ON']\n",
            "    w_index_1 : Dim=0, Dimen=1, Size=4, Domain=None, Ordered=False, Bounds=None\n",
            "        ['Calgary', 'Montreal', 'Toronto', 'Vancouver']\n",
            "    x_index : Dim=0, Dimen=2, Size=12, Domain=None, Ordered=False, Bounds=None\n",
            "        Virtual\n",
            "    x_index_0 : Dim=0, Dimen=1, Size=3, Domain=None, Ordered=False, Bounds=None\n",
            "        ['Brampton-ON', 'Delta-BC', 'Ottawa-ON']\n",
            "    x_index_1 : Dim=0, Dimen=1, Size=4, Domain=None, Ordered=False, Bounds=None\n",
            "        ['Calgary', 'Montreal', 'Toronto', 'Vancouver']\n",
            "    y_index : Dim=0, Dimen=2, Size=12, Domain=None, Ordered=False, Bounds=None\n",
            "        Virtual\n",
            "    y_index_0 : Dim=0, Dimen=1, Size=3, Domain=None, Ordered=False, Bounds=None\n",
            "        ['Brampton-ON', 'Delta-BC', 'Ottawa-ON']\n",
            "    y_index_1 : Dim=0, Dimen=1, Size=4, Domain=None, Ordered=False, Bounds=None\n",
            "        ['Calgary', 'Montreal', 'Toronto', 'Vancouver']\n",
            "\n",
            "3 Var Declarations\n",
            "    w : Size=12, Index=w_index\n",
            "        Key                          : Lower : Value : Upper : Fixed : Stale : Domain\n",
            "          ('Brampton-ON', 'Calgary') :     0 :  None :  None : False :  True : NonNegativeReals\n",
            "         ('Brampton-ON', 'Montreal') :     0 :  None :  None : False :  True : NonNegativeReals\n",
            "          ('Brampton-ON', 'Toronto') :     0 :  None :  None : False :  True : NonNegativeReals\n",
            "        ('Brampton-ON', 'Vancouver') :     0 :  None :  None : False :  True : NonNegativeReals\n",
            "             ('Delta-BC', 'Calgary') :     0 :  None :  None : False :  True : NonNegativeReals\n",
            "            ('Delta-BC', 'Montreal') :     0 :  None :  None : False :  True : NonNegativeReals\n",
            "             ('Delta-BC', 'Toronto') :     0 :  None :  None : False :  True : NonNegativeReals\n",
            "           ('Delta-BC', 'Vancouver') :     0 :  None :  None : False :  True : NonNegativeReals\n",
            "            ('Ottawa-ON', 'Calgary') :     0 :  None :  None : False :  True : NonNegativeReals\n",
            "           ('Ottawa-ON', 'Montreal') :     0 :  None :  None : False :  True : NonNegativeReals\n",
            "            ('Ottawa-ON', 'Toronto') :     0 :  None :  None : False :  True : NonNegativeReals\n",
            "          ('Ottawa-ON', 'Vancouver') :     0 :  None :  None : False :  True : NonNegativeReals\n",
            "    x : Size=12, Index=x_index\n",
            "        Key                          : Lower : Value : Upper : Fixed : Stale : Domain\n",
            "          ('Brampton-ON', 'Calgary') :     0 :  None :  None : False :  True : NonNegativeReals\n",
            "         ('Brampton-ON', 'Montreal') :     0 :  None :  None : False :  True : NonNegativeReals\n",
            "          ('Brampton-ON', 'Toronto') :     0 :  None :  None : False :  True : NonNegativeReals\n",
            "        ('Brampton-ON', 'Vancouver') :     0 :  None :  None : False :  True : NonNegativeReals\n",
            "             ('Delta-BC', 'Calgary') :     0 :  None :  None : False :  True : NonNegativeReals\n",
            "            ('Delta-BC', 'Montreal') :     0 :  None :  None : False :  True : NonNegativeReals\n",
            "             ('Delta-BC', 'Toronto') :     0 :  None :  None : False :  True : NonNegativeReals\n",
            "           ('Delta-BC', 'Vancouver') :     0 :  None :  None : False :  True : NonNegativeReals\n",
            "            ('Ottawa-ON', 'Calgary') :     0 :  None :  None : False :  True : NonNegativeReals\n",
            "           ('Ottawa-ON', 'Montreal') :     0 :  None :  None : False :  True : NonNegativeReals\n",
            "            ('Ottawa-ON', 'Toronto') :     0 :  None :  None : False :  True : NonNegativeReals\n",
            "          ('Ottawa-ON', 'Vancouver') :     0 :  None :  None : False :  True : NonNegativeReals\n",
            "    y : Size=12, Index=y_index\n",
            "        Key                          : Lower : Value : Upper : Fixed : Stale : Domain\n",
            "          ('Brampton-ON', 'Calgary') :     0 :  None :  None : False :  True : NonNegativeReals\n",
            "         ('Brampton-ON', 'Montreal') :     0 :  None :  None : False :  True : NonNegativeReals\n",
            "          ('Brampton-ON', 'Toronto') :     0 :  None :  None : False :  True : NonNegativeReals\n",
            "        ('Brampton-ON', 'Vancouver') :     0 :  None :  None : False :  True : NonNegativeReals\n",
            "             ('Delta-BC', 'Calgary') :     0 :  None :  None : False :  True : NonNegativeReals\n",
            "            ('Delta-BC', 'Montreal') :     0 :  None :  None : False :  True : NonNegativeReals\n",
            "             ('Delta-BC', 'Toronto') :     0 :  None :  None : False :  True : NonNegativeReals\n",
            "           ('Delta-BC', 'Vancouver') :     0 :  None :  None : False :  True : NonNegativeReals\n",
            "            ('Ottawa-ON', 'Calgary') :     0 :  None :  None : False :  True : NonNegativeReals\n",
            "           ('Ottawa-ON', 'Montreal') :     0 :  None :  None : False :  True : NonNegativeReals\n",
            "            ('Ottawa-ON', 'Toronto') :     0 :  None :  None : False :  True : NonNegativeReals\n",
            "          ('Ottawa-ON', 'Vancouver') :     0 :  None :  None : False :  True : NonNegativeReals\n",
            "\n",
            "1 Objective Declarations\n",
            "    OBJ : Size=1, Index=None, Active=True\n",
            "        Key  : Active : Sense    : Expression\n",
            "        None :   True : minimize : 24.5*w[Delta-BC,Toronto] + 25.5*w[Delta-BC,Montreal] + 18.1*w[Delta-BC,Calgary] + 12.3*w[Delta-BC,Vancouver] + 13.6*w[Brampton-ON,Toronto] + 17.5*w[Brampton-ON,Montreal] + 22.8*w[Brampton-ON,Calgary] + 23.6*w[Brampton-ON,Vancouver] + 18.1*w[Ottawa-ON,Toronto] + 14.1*w[Ottawa-ON,Montreal] + 21.1*w[Ottawa-ON,Calgary] + 22.8*w[Ottawa-ON,Vancouver] + 9.8*x[Delta-BC,Toronto] + 10.200000000000001*x[Delta-BC,Montreal] + 7.240000000000001*x[Delta-BC,Calgary] + 4.920000000000001*x[Delta-BC,Vancouver] + 5.44*x[Brampton-ON,Toronto] + 7.0*x[Brampton-ON,Montreal] + 9.120000000000001*x[Brampton-ON,Calgary] + 9.440000000000001*x[Brampton-ON,Vancouver] + 7.240000000000001*x[Ottawa-ON,Toronto] + 5.640000000000001*x[Ottawa-ON,Montreal] + 8.440000000000001*x[Ottawa-ON,Calgary] + 9.120000000000001*x[Ottawa-ON,Vancouver] + 19.6*y[Delta-BC,Toronto] + 20.400000000000002*y[Delta-BC,Montreal] + 14.480000000000002*y[Delta-BC,Calgary] + 9.840000000000002*y[Delta-BC,Vancouver] + 10.88*y[Brampton-ON,Toronto] + 14.0*y[Brampton-ON,Montreal] + 18.240000000000002*y[Brampton-ON,Calgary] + 18.880000000000003*y[Brampton-ON,Vancouver] + 14.480000000000002*y[Ottawa-ON,Toronto] + 11.280000000000001*y[Ottawa-ON,Montreal] + 16.880000000000003*y[Ottawa-ON,Calgary] + 18.240000000000002*y[Ottawa-ON,Vancouver]\n",
            "\n",
            "4 Constraint Declarations\n",
            "    demandMulitiple : Size=4, Index=demandMulitiple_index, Active=True\n",
            "        Key : Lower              : Body                                                                                                                                                  : Upper              : Active\n",
            "          1 :              32.85 :             x[Delta-BC,Toronto] + y[Delta-BC,Toronto] + x[Brampton-ON,Toronto] + y[Brampton-ON,Toronto] + x[Ottawa-ON,Toronto] + y[Ottawa-ON,Toronto] :              32.85 :   True\n",
            "          2 : 18.360000000000003 :       x[Delta-BC,Montreal] + y[Delta-BC,Montreal] + x[Brampton-ON,Montreal] + y[Brampton-ON,Montreal] + x[Ottawa-ON,Montreal] + y[Ottawa-ON,Montreal] : 18.360000000000003 :   True\n",
            "          3 :  8.100000000000001 :             x[Delta-BC,Calgary] + y[Delta-BC,Calgary] + x[Brampton-ON,Calgary] + y[Brampton-ON,Calgary] + x[Ottawa-ON,Calgary] + y[Ottawa-ON,Calgary] :  8.100000000000001 :   True\n",
            "          4 :              21.12 : x[Delta-BC,Vancouver] + y[Delta-BC,Vancouver] + x[Brampton-ON,Vancouver] + y[Brampton-ON,Vancouver] + x[Ottawa-ON,Vancouver] + y[Ottawa-ON,Vancouver] :              21.12 :   True\n",
            "    demandSingle : Size=4, Index=demandSingle_index, Active=True\n",
            "        Key : Lower              : Body                                                                      : Upper              : Active\n",
            "          1 :              12.15 :       w[Delta-BC,Toronto] + w[Brampton-ON,Toronto] + w[Ottawa-ON,Toronto] :              12.15 :   True\n",
            "          2 :  8.639999999999999 :    w[Delta-BC,Montreal] + w[Brampton-ON,Montreal] + w[Ottawa-ON,Montreal] :  8.639999999999999 :   True\n",
            "          3 : 6.8999999999999995 :       w[Delta-BC,Calgary] + w[Brampton-ON,Calgary] + w[Ottawa-ON,Calgary] : 6.8999999999999995 :   True\n",
            "          4 : 11.879999999999999 : w[Delta-BC,Vancouver] + w[Brampton-ON,Vancouver] + w[Ottawa-ON,Vancouver] : 11.879999999999999 :   True\n",
            "    inventoryOnHand : Size=3, Index=inventoryOnHand_index, Active=True\n",
            "        Key : Lower : Body                                                                                                                                                                                                                                                                                                               : Upper : Active\n",
            "          1 :  -Inf :                                     w[Delta-BC,Toronto] + x[Delta-BC,Toronto] + y[Delta-BC,Toronto] + w[Delta-BC,Montreal] + x[Delta-BC,Montreal] + y[Delta-BC,Montreal] + w[Delta-BC,Calgary] + x[Delta-BC,Calgary] + y[Delta-BC,Calgary] + w[Delta-BC,Vancouver] + x[Delta-BC,Vancouver] + y[Delta-BC,Vancouver] :  37.0 :   True\n",
            "          2 :  -Inf : w[Brampton-ON,Toronto] + x[Brampton-ON,Toronto] + y[Brampton-ON,Toronto] + w[Brampton-ON,Montreal] + x[Brampton-ON,Montreal] + y[Brampton-ON,Montreal] + w[Brampton-ON,Calgary] + x[Brampton-ON,Calgary] + y[Brampton-ON,Calgary] + w[Brampton-ON,Vancouver] + x[Brampton-ON,Vancouver] + y[Brampton-ON,Vancouver] :  85.0 :   True\n",
            "          3 :  -Inf :                         w[Ottawa-ON,Toronto] + x[Ottawa-ON,Toronto] + y[Ottawa-ON,Toronto] + w[Ottawa-ON,Montreal] + x[Ottawa-ON,Montreal] + y[Ottawa-ON,Montreal] + w[Ottawa-ON,Calgary] + x[Ottawa-ON,Calgary] + y[Ottawa-ON,Calgary] + w[Ottawa-ON,Vancouver] + x[Ottawa-ON,Vancouver] + y[Ottawa-ON,Vancouver] :  25.0 :   True\n",
            "    maxMultiShipment : Size=12, Index=maxMultiShipment_index, Active=True\n",
            "        Key : Lower : Body                     : Upper              : Active\n",
            "          1 :  -Inf :      x[Delta-BC,Toronto] :             10.512 :   True\n",
            "          2 :  -Inf :     x[Delta-BC,Montreal] :  5.875200000000001 :   True\n",
            "          3 :  -Inf :      x[Delta-BC,Calgary] : 2.5920000000000005 :   True\n",
            "          4 :  -Inf :    x[Delta-BC,Vancouver] :  6.758400000000001 :   True\n",
            "          5 :  -Inf :   x[Brampton-ON,Toronto] :            14.7825 :   True\n",
            "          6 :  -Inf :  x[Brampton-ON,Montreal] :  8.262000000000002 :   True\n",
            "          7 :  -Inf :   x[Brampton-ON,Calgary] :  3.645000000000001 :   True\n",
            "          8 :  -Inf : x[Brampton-ON,Vancouver] :  9.504000000000001 :   True\n",
            "          9 :  -Inf :     x[Ottawa-ON,Toronto] :             5.5845 :   True\n",
            "         10 :  -Inf :    x[Ottawa-ON,Montreal] :  3.121200000000001 :   True\n",
            "         11 :  -Inf :     x[Ottawa-ON,Calgary] : 1.3770000000000004 :   True\n",
            "         12 :  -Inf :   x[Ottawa-ON,Vancouver] : 3.5904000000000003 :   True\n",
            "\n",
            "21 Declarations: x_index_0 x_index_1 x_index x y_index_0 y_index_1 y_index y w_index_0 w_index_1 w_index w inventoryOnHand_index inventoryOnHand demandSingle_index demandSingle demandMulitiple_index demandMulitiple maxMultiShipment_index maxMultiShipment OBJ\n"
          ],
          "name": "stdout"
        }
      ]
    },
    {
      "cell_type": "code",
      "metadata": {
        "id": "a0KA-DNX8RqA",
        "colab_type": "code",
        "outputId": "9eefa8b2-b630-40c2-b7c7-e92395c79113",
        "colab": {
          "base_uri": "https://localhost:8080/",
          "height": 1000
        }
      },
      "source": [
        "# Solve the model\n",
        "opt = SolverFactory('glpk')\n",
        "opt.solve(model) \n",
        "\n",
        "model.display()"
      ],
      "execution_count": 0,
      "outputs": [
        {
          "output_type": "stream",
          "text": [
            "Model unknown\n",
            "\n",
            "  Variables:\n",
            "    x : Size=12, Index=x_index\n",
            "        Key                          : Lower : Value   : Upper : Fixed : Stale : Domain\n",
            "          ('Brampton-ON', 'Calgary') :     0 :   3.645 :  None : False : False : NonNegativeReals\n",
            "         ('Brampton-ON', 'Montreal') :     0 :   8.262 :  None : False : False : NonNegativeReals\n",
            "          ('Brampton-ON', 'Toronto') :     0 : 14.7825 :  None : False : False : NonNegativeReals\n",
            "        ('Brampton-ON', 'Vancouver') :     0 :   9.504 :  None : False : False : NonNegativeReals\n",
            "             ('Delta-BC', 'Calgary') :     0 :   2.592 :  None : False : False : NonNegativeReals\n",
            "            ('Delta-BC', 'Montreal') :     0 :  5.8752 :  None : False : False : NonNegativeReals\n",
            "             ('Delta-BC', 'Toronto') :     0 :  1.2412 :  None : False : False : NonNegativeReals\n",
            "           ('Delta-BC', 'Vancouver') :     0 :  6.7584 :  None : False : False : NonNegativeReals\n",
            "            ('Ottawa-ON', 'Calgary') :     0 :   1.377 :  None : False : False : NonNegativeReals\n",
            "           ('Ottawa-ON', 'Montreal') :     0 :  3.1212 :  None : False : False : NonNegativeReals\n",
            "            ('Ottawa-ON', 'Toronto') :     0 :  5.5845 :  None : False : False : NonNegativeReals\n",
            "          ('Ottawa-ON', 'Vancouver') :     0 :  3.5904 :  None : False : False : NonNegativeReals\n",
            "    y : Size=12, Index=y_index\n",
            "        Key                          : Lower : Value             : Upper : Fixed : Stale : Domain\n",
            "          ('Brampton-ON', 'Calgary') :     0 :               0.0 :  None : False : False : NonNegativeReals\n",
            "         ('Brampton-ON', 'Montreal') :     0 :               0.0 :  None : False : False : NonNegativeReals\n",
            "          ('Brampton-ON', 'Toronto') :     0 :           11.2418 :  None : False : False : NonNegativeReals\n",
            "        ('Brampton-ON', 'Vancouver') :     0 :               0.0 :  None : False : False : NonNegativeReals\n",
            "             ('Delta-BC', 'Calgary') :     0 : 0.485999999999999 :  None : False : False : NonNegativeReals\n",
            "            ('Delta-BC', 'Montreal') :     0 :               0.0 :  None : False : False : NonNegativeReals\n",
            "             ('Delta-BC', 'Toronto') :     0 :               0.0 :  None : False : False : NonNegativeReals\n",
            "           ('Delta-BC', 'Vancouver') :     0 :            1.2672 :  None : False : False : NonNegativeReals\n",
            "            ('Ottawa-ON', 'Calgary') :     0 :               0.0 :  None : False : False : NonNegativeReals\n",
            "           ('Ottawa-ON', 'Montreal') :     0 :            1.1016 :  None : False : False : NonNegativeReals\n",
            "            ('Ottawa-ON', 'Toronto') :     0 :               0.0 :  None : False : False : NonNegativeReals\n",
            "          ('Ottawa-ON', 'Vancouver') :     0 :               0.0 :  None : False : False : NonNegativeReals\n",
            "    w : Size=12, Index=w_index\n",
            "        Key                          : Lower : Value : Upper : Fixed : Stale : Domain\n",
            "          ('Brampton-ON', 'Calgary') :     0 :   0.0 :  None : False : False : NonNegativeReals\n",
            "         ('Brampton-ON', 'Montreal') :     0 :   0.0 :  None : False : False : NonNegativeReals\n",
            "          ('Brampton-ON', 'Toronto') :     0 : 12.15 :  None : False : False : NonNegativeReals\n",
            "        ('Brampton-ON', 'Vancouver') :     0 :   0.0 :  None : False : False : NonNegativeReals\n",
            "             ('Delta-BC', 'Calgary') :     0 :   6.9 :  None : False : False : NonNegativeReals\n",
            "            ('Delta-BC', 'Montreal') :     0 :   0.0 :  None : False : False : NonNegativeReals\n",
            "             ('Delta-BC', 'Toronto') :     0 :   0.0 :  None : False : False : NonNegativeReals\n",
            "           ('Delta-BC', 'Vancouver') :     0 : 11.88 :  None : False : False : NonNegativeReals\n",
            "            ('Ottawa-ON', 'Calgary') :     0 :   0.0 :  None : False : False : NonNegativeReals\n",
            "           ('Ottawa-ON', 'Montreal') :     0 :  8.64 :  None : False : False : NonNegativeReals\n",
            "            ('Ottawa-ON', 'Toronto') :     0 :   0.0 :  None : False : False : NonNegativeReals\n",
            "          ('Ottawa-ON', 'Vancouver') :     0 :   0.0 :  None : False : False : NonNegativeReals\n",
            "\n",
            "  Objectives:\n",
            "    OBJ : Size=1, Index=None, Active=True\n",
            "        Key  : Active : Value\n",
            "        None :   True : 1200.0422040000003\n",
            "\n",
            "  Constraints:\n",
            "    inventoryOnHand : Size=3\n",
            "        Key : Lower : Body               : Upper\n",
            "          1 :  None :  37.00000000000001 :  37.0\n",
            "          2 :  None : 59.585300000000004 :  85.0\n",
            "          3 :  None :            23.4147 :  25.0\n",
            "    demandSingle : Size=4\n",
            "        Key : Lower              : Body  : Upper\n",
            "          1 :              12.15 : 12.15 :              12.15\n",
            "          2 :  8.639999999999999 :  8.64 :  8.639999999999999\n",
            "          3 : 6.8999999999999995 :   6.9 : 6.8999999999999995\n",
            "          4 : 11.879999999999999 : 11.88 : 11.879999999999999\n",
            "    demandMulitiple : Size=4\n",
            "        Key : Lower              : Body               : Upper\n",
            "          1 :              32.85 :              32.85 :              32.85\n",
            "          2 : 18.360000000000003 : 18.360000000000003 : 18.360000000000003\n",
            "          3 :  8.100000000000001 :                8.1 :  8.100000000000001\n",
            "          4 :              21.12 :              21.12 :              21.12\n",
            "    maxMultiShipment : Size=12\n",
            "        Key : Lower : Body    : Upper\n",
            "          1 :  None :  1.2412 :             10.512\n",
            "          2 :  None :  5.8752 :  5.875200000000001\n",
            "          3 :  None :   2.592 : 2.5920000000000005\n",
            "          4 :  None :  6.7584 :  6.758400000000001\n",
            "          5 :  None : 14.7825 :            14.7825\n",
            "          6 :  None :   8.262 :  8.262000000000002\n",
            "          7 :  None :   3.645 :  3.645000000000001\n",
            "          8 :  None :   9.504 :  9.504000000000001\n",
            "          9 :  None :  5.5845 :             5.5845\n",
            "         10 :  None :  3.1212 :  3.121200000000001\n",
            "         11 :  None :   1.377 : 1.3770000000000004\n",
            "         12 :  None :  3.5904 : 3.5904000000000003\n"
          ],
          "name": "stdout"
        }
      ]
    }
  ]
}
