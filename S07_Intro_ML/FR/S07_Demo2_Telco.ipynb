{
 "cells": [
  {
   "cell_type": "markdown",
   "metadata": {
    "colab_type": "text",
    "id": "H797invmatYz"
   },
   "source": [
    "# S07 - Démonstration 2: Telco\n",
    "Classification avec [les données de désabonnement du service client](https://www.kaggle.com/blastchar/telco-customer-churn)."
   ]
  },
  {
   "cell_type": "code",
   "execution_count": 1,
   "metadata": {
    "colab": {
     "base_uri": "https://localhost:8080/",
     "height": 34
    },
    "colab_type": "code",
    "executionInfo": {
     "elapsed": 433,
     "status": "ok",
     "timestamp": 1581773529343,
     "user": {
      "displayName": "Yossiri Adulyasak",
      "photoUrl": "https://lh3.googleusercontent.com/a-/AAuE7mA2jbXyEVCog3mJJJZLctn8E1-7ex1IaiubBOVw=s64",
      "userId": "09639675876948086242"
     },
     "user_tz": 300
    },
    "id": "NC0hkjqkatY3",
    "outputId": "6332041a-01bb-430d-c372-1a12df80ccb1"
   },
   "outputs": [],
   "source": [
    "import matplotlib.pyplot as plt\n",
    "%matplotlib inline\n",
    "import numpy as np\n",
    "import pandas as pd\n",
    "from sklearn.linear_model import LogisticRegression\n",
    "from sklearn.metrics import (average_precision_score, confusion_matrix,\n",
    "                             precision_recall_curve, precision_score,\n",
    "                             recall_score)\n",
    "from sklearn.model_selection import (train_test_split, cross_val_score,\n",
    "                                     GridSearchCV)\n",
    "from sklearn.tree import DecisionTreeClassifier, plot_tree"
   ]
  },
  {
   "cell_type": "markdown",
   "metadata": {},
   "source": [
    "## Bloc 1: chargement des données"
   ]
  },
  {
   "cell_type": "code",
   "execution_count": 2,
   "metadata": {
    "colab": {
     "base_uri": "https://localhost:8080/",
     "height": 377
    },
    "colab_type": "code",
    "executionInfo": {
     "elapsed": 701,
     "status": "ok",
     "timestamp": 1581773529680,
     "user": {
      "displayName": "Yossiri Adulyasak",
      "photoUrl": "https://lh3.googleusercontent.com/a-/AAuE7mA2jbXyEVCog3mJJJZLctn8E1-7ex1IaiubBOVw=s64",
      "userId": "09639675876948086242"
     },
     "user_tz": 300
    },
    "id": "HZPBpYfIatY_",
    "outputId": "7a0bf8da-925e-47f4-93d2-a39174514e64"
   },
   "outputs": [
    {
     "data": {
      "text/html": [
       "<div>\n",
       "<style scoped>\n",
       "    .dataframe tbody tr th:only-of-type {\n",
       "        vertical-align: middle;\n",
       "    }\n",
       "\n",
       "    .dataframe tbody tr th {\n",
       "        vertical-align: top;\n",
       "    }\n",
       "\n",
       "    .dataframe thead th {\n",
       "        text-align: right;\n",
       "    }\n",
       "</style>\n",
       "<table border=\"1\" class=\"dataframe\">\n",
       "  <thead>\n",
       "    <tr style=\"text-align: right;\">\n",
       "      <th></th>\n",
       "      <th>SeniorCitizen</th>\n",
       "      <th>tenure</th>\n",
       "      <th>MonthlyCharges</th>\n",
       "      <th>TotalCharges</th>\n",
       "      <th>gender_Male</th>\n",
       "      <th>Partner_Yes</th>\n",
       "      <th>Dependents_Yes</th>\n",
       "      <th>PhoneService_Yes</th>\n",
       "      <th>MultipleLines_Yes</th>\n",
       "      <th>InternetService_Fiber optic</th>\n",
       "      <th>...</th>\n",
       "      <th>TechSupport_Yes</th>\n",
       "      <th>StreamingTV_Yes</th>\n",
       "      <th>StreamingMovies_Yes</th>\n",
       "      <th>Contract_One year</th>\n",
       "      <th>Contract_Two year</th>\n",
       "      <th>PaperlessBilling_Yes</th>\n",
       "      <th>PaymentMethod_Credit card (automatic)</th>\n",
       "      <th>PaymentMethod_Electronic check</th>\n",
       "      <th>PaymentMethod_Mailed check</th>\n",
       "      <th>Churn_Yes</th>\n",
       "    </tr>\n",
       "  </thead>\n",
       "  <tbody>\n",
       "    <tr>\n",
       "      <th>0</th>\n",
       "      <td>0</td>\n",
       "      <td>1</td>\n",
       "      <td>29.85</td>\n",
       "      <td>29.85</td>\n",
       "      <td>0</td>\n",
       "      <td>1</td>\n",
       "      <td>0</td>\n",
       "      <td>0</td>\n",
       "      <td>0</td>\n",
       "      <td>0</td>\n",
       "      <td>...</td>\n",
       "      <td>0</td>\n",
       "      <td>0</td>\n",
       "      <td>0</td>\n",
       "      <td>0</td>\n",
       "      <td>0</td>\n",
       "      <td>1</td>\n",
       "      <td>0</td>\n",
       "      <td>1</td>\n",
       "      <td>0</td>\n",
       "      <td>0</td>\n",
       "    </tr>\n",
       "    <tr>\n",
       "      <th>1</th>\n",
       "      <td>0</td>\n",
       "      <td>34</td>\n",
       "      <td>56.95</td>\n",
       "      <td>1889.50</td>\n",
       "      <td>1</td>\n",
       "      <td>0</td>\n",
       "      <td>0</td>\n",
       "      <td>1</td>\n",
       "      <td>0</td>\n",
       "      <td>0</td>\n",
       "      <td>...</td>\n",
       "      <td>0</td>\n",
       "      <td>0</td>\n",
       "      <td>0</td>\n",
       "      <td>1</td>\n",
       "      <td>0</td>\n",
       "      <td>0</td>\n",
       "      <td>0</td>\n",
       "      <td>0</td>\n",
       "      <td>1</td>\n",
       "      <td>0</td>\n",
       "    </tr>\n",
       "    <tr>\n",
       "      <th>2</th>\n",
       "      <td>0</td>\n",
       "      <td>2</td>\n",
       "      <td>53.85</td>\n",
       "      <td>108.15</td>\n",
       "      <td>1</td>\n",
       "      <td>0</td>\n",
       "      <td>0</td>\n",
       "      <td>1</td>\n",
       "      <td>0</td>\n",
       "      <td>0</td>\n",
       "      <td>...</td>\n",
       "      <td>0</td>\n",
       "      <td>0</td>\n",
       "      <td>0</td>\n",
       "      <td>0</td>\n",
       "      <td>0</td>\n",
       "      <td>1</td>\n",
       "      <td>0</td>\n",
       "      <td>0</td>\n",
       "      <td>1</td>\n",
       "      <td>1</td>\n",
       "    </tr>\n",
       "    <tr>\n",
       "      <th>3</th>\n",
       "      <td>0</td>\n",
       "      <td>45</td>\n",
       "      <td>42.30</td>\n",
       "      <td>1840.75</td>\n",
       "      <td>1</td>\n",
       "      <td>0</td>\n",
       "      <td>0</td>\n",
       "      <td>0</td>\n",
       "      <td>0</td>\n",
       "      <td>0</td>\n",
       "      <td>...</td>\n",
       "      <td>1</td>\n",
       "      <td>0</td>\n",
       "      <td>0</td>\n",
       "      <td>1</td>\n",
       "      <td>0</td>\n",
       "      <td>0</td>\n",
       "      <td>0</td>\n",
       "      <td>0</td>\n",
       "      <td>0</td>\n",
       "      <td>0</td>\n",
       "    </tr>\n",
       "    <tr>\n",
       "      <th>4</th>\n",
       "      <td>0</td>\n",
       "      <td>2</td>\n",
       "      <td>70.70</td>\n",
       "      <td>151.65</td>\n",
       "      <td>0</td>\n",
       "      <td>0</td>\n",
       "      <td>0</td>\n",
       "      <td>1</td>\n",
       "      <td>0</td>\n",
       "      <td>1</td>\n",
       "      <td>...</td>\n",
       "      <td>0</td>\n",
       "      <td>0</td>\n",
       "      <td>0</td>\n",
       "      <td>0</td>\n",
       "      <td>0</td>\n",
       "      <td>1</td>\n",
       "      <td>0</td>\n",
       "      <td>1</td>\n",
       "      <td>0</td>\n",
       "      <td>1</td>\n",
       "    </tr>\n",
       "  </tbody>\n",
       "</table>\n",
       "<p>5 rows × 24 columns</p>\n",
       "</div>"
      ],
      "text/plain": [
       "   SeniorCitizen  tenure  MonthlyCharges  TotalCharges  gender_Male  \\\n",
       "0              0       1           29.85         29.85            0   \n",
       "1              0      34           56.95       1889.50            1   \n",
       "2              0       2           53.85        108.15            1   \n",
       "3              0      45           42.30       1840.75            1   \n",
       "4              0       2           70.70        151.65            0   \n",
       "\n",
       "   Partner_Yes  Dependents_Yes  PhoneService_Yes  MultipleLines_Yes  \\\n",
       "0            1               0                 0                  0   \n",
       "1            0               0                 1                  0   \n",
       "2            0               0                 1                  0   \n",
       "3            0               0                 0                  0   \n",
       "4            0               0                 1                  0   \n",
       "\n",
       "   InternetService_Fiber optic  ...  TechSupport_Yes  StreamingTV_Yes  \\\n",
       "0                            0  ...                0                0   \n",
       "1                            0  ...                0                0   \n",
       "2                            0  ...                0                0   \n",
       "3                            0  ...                1                0   \n",
       "4                            1  ...                0                0   \n",
       "\n",
       "   StreamingMovies_Yes  Contract_One year  Contract_Two year  \\\n",
       "0                    0                  0                  0   \n",
       "1                    0                  1                  0   \n",
       "2                    0                  0                  0   \n",
       "3                    0                  1                  0   \n",
       "4                    0                  0                  0   \n",
       "\n",
       "   PaperlessBilling_Yes  PaymentMethod_Credit card (automatic)  \\\n",
       "0                     1                                      0   \n",
       "1                     0                                      0   \n",
       "2                     1                                      0   \n",
       "3                     0                                      0   \n",
       "4                     1                                      0   \n",
       "\n",
       "   PaymentMethod_Electronic check  PaymentMethod_Mailed check  Churn_Yes  \n",
       "0                               1                           0          0  \n",
       "1                               0                           1          0  \n",
       "2                               0                           1          1  \n",
       "3                               0                           0          0  \n",
       "4                               1                           0          1  \n",
       "\n",
       "[5 rows x 24 columns]"
      ]
     },
     "execution_count": 2,
     "metadata": {},
     "output_type": "execute_result"
    }
   ],
   "source": [
    "# Chargement des données\n",
    "url = 'https://raw.githubusercontent.com/acedesci/scanalytics/master/data/Telco-Customer-Churn_dummies.csv'\n",
    "customer_data = pd.read_csv(url)\n",
    "customer_data.head(5)"
   ]
  },
  {
   "cell_type": "markdown",
   "metadata": {},
   "source": [
    "## Bloc 2: extraction des caractéristiques\n",
    "Voir le fichier complément pour le détail de l'extraction des caractéristiques."
   ]
  },
  {
   "cell_type": "code",
   "execution_count": 3,
   "metadata": {},
   "outputs": [
    {
     "name": "stdout",
     "output_type": "stream",
     "text": [
      "X: [[0.00000e+00 1.00000e+00 2.98500e+01 2.98500e+01 0.00000e+00 1.00000e+00\n",
      "  0.00000e+00 0.00000e+00 0.00000e+00 0.00000e+00 0.00000e+00 0.00000e+00\n",
      "  1.00000e+00 0.00000e+00 0.00000e+00 0.00000e+00 0.00000e+00 0.00000e+00\n",
      "  0.00000e+00 1.00000e+00 0.00000e+00 1.00000e+00 0.00000e+00]\n",
      " [0.00000e+00 3.40000e+01 5.69500e+01 1.88950e+03 1.00000e+00 0.00000e+00\n",
      "  0.00000e+00 1.00000e+00 0.00000e+00 0.00000e+00 0.00000e+00 1.00000e+00\n",
      "  0.00000e+00 1.00000e+00 0.00000e+00 0.00000e+00 0.00000e+00 1.00000e+00\n",
      "  0.00000e+00 0.00000e+00 0.00000e+00 0.00000e+00 1.00000e+00]\n",
      " [0.00000e+00 2.00000e+00 5.38500e+01 1.08150e+02 1.00000e+00 0.00000e+00\n",
      "  0.00000e+00 1.00000e+00 0.00000e+00 0.00000e+00 0.00000e+00 1.00000e+00\n",
      "  1.00000e+00 0.00000e+00 0.00000e+00 0.00000e+00 0.00000e+00 0.00000e+00\n",
      "  0.00000e+00 1.00000e+00 0.00000e+00 0.00000e+00 1.00000e+00]\n",
      " [0.00000e+00 4.50000e+01 4.23000e+01 1.84075e+03 1.00000e+00 0.00000e+00\n",
      "  0.00000e+00 0.00000e+00 0.00000e+00 0.00000e+00 0.00000e+00 1.00000e+00\n",
      "  0.00000e+00 1.00000e+00 1.00000e+00 0.00000e+00 0.00000e+00 1.00000e+00\n",
      "  0.00000e+00 0.00000e+00 0.00000e+00 0.00000e+00 0.00000e+00]\n",
      " [0.00000e+00 2.00000e+00 7.07000e+01 1.51650e+02 0.00000e+00 0.00000e+00\n",
      "  0.00000e+00 1.00000e+00 0.00000e+00 1.00000e+00 0.00000e+00 0.00000e+00\n",
      "  0.00000e+00 0.00000e+00 0.00000e+00 0.00000e+00 0.00000e+00 0.00000e+00\n",
      "  0.00000e+00 1.00000e+00 0.00000e+00 1.00000e+00 0.00000e+00]]\n",
      "y: [0 0 1 0 1]\n"
     ]
    }
   ],
   "source": [
    "# Prendre toutes les colonnes sauf la dernière\n",
    "# La dernière colonne est la valeur cible\n",
    "selected_features = customer_data.columns[:-1].values\n",
    "X = customer_data[selected_features].values\n",
    "y = customer_data['Churn_Yes'].values\n",
    "print(f\"X: {X[:5]}\")\n",
    "print(f\"y: {y[:5]}\")"
   ]
  },
  {
   "cell_type": "markdown",
   "metadata": {},
   "source": [
    "## Bloc 3: modèles et entraînement"
   ]
  },
  {
   "cell_type": "code",
   "execution_count": 4,
   "metadata": {
    "colab": {},
    "colab_type": "code",
    "id": "KslAXQcRatZD"
   },
   "outputs": [
    {
     "name": "stdout",
     "output_type": "stream",
     "text": [
      "Nombre d'observations pour l'entraînement: 5274\n",
      "Nombre d'observations pour l'évaluation: 1758\n"
     ]
    }
   ],
   "source": [
    "# Séparation des données pour l'entraînement et l'évaluation (75%/25% par défaut)\n",
    "X_train, X_test, y_train, y_test = train_test_split(X, y, random_state=0)\n",
    "print(f\"Nombre d'observations pour l'entraînement: {X_train.shape[0]}\")\n",
    "print(f\"Nombre d'observations pour l'évaluation: {X_test.shape[0]}\")"
   ]
  },
  {
   "cell_type": "markdown",
   "metadata": {
    "colab_type": "text",
    "id": "OurT10YPatZH"
   },
   "source": [
    "### Modèle de régression logistique"
   ]
  },
  {
   "cell_type": "code",
   "execution_count": 5,
   "metadata": {
    "colab": {
     "base_uri": "https://localhost:8080/",
     "height": 187
    },
    "colab_type": "code",
    "executionInfo": {
     "elapsed": 835,
     "status": "ok",
     "timestamp": 1581773529889,
     "user": {
      "displayName": "Yossiri Adulyasak",
      "photoUrl": "https://lh3.googleusercontent.com/a-/AAuE7mA2jbXyEVCog3mJJJZLctn8E1-7ex1IaiubBOVw=s64",
      "userId": "09639675876948086242"
     },
     "user_tz": 300
    },
    "id": "hB2O6pxeatZI",
    "outputId": "24dc685a-630f-4402-e02c-f0cebcbec0f7"
   },
   "outputs": [
    {
     "data": {
      "text/html": [
       "<style>#sk-container-id-1 {color: black;background-color: white;}#sk-container-id-1 pre{padding: 0;}#sk-container-id-1 div.sk-toggleable {background-color: white;}#sk-container-id-1 label.sk-toggleable__label {cursor: pointer;display: block;width: 100%;margin-bottom: 0;padding: 0.3em;box-sizing: border-box;text-align: center;}#sk-container-id-1 label.sk-toggleable__label-arrow:before {content: \"▸\";float: left;margin-right: 0.25em;color: #696969;}#sk-container-id-1 label.sk-toggleable__label-arrow:hover:before {color: black;}#sk-container-id-1 div.sk-estimator:hover label.sk-toggleable__label-arrow:before {color: black;}#sk-container-id-1 div.sk-toggleable__content {max-height: 0;max-width: 0;overflow: hidden;text-align: left;background-color: #f0f8ff;}#sk-container-id-1 div.sk-toggleable__content pre {margin: 0.2em;color: black;border-radius: 0.25em;background-color: #f0f8ff;}#sk-container-id-1 input.sk-toggleable__control:checked~div.sk-toggleable__content {max-height: 200px;max-width: 100%;overflow: auto;}#sk-container-id-1 input.sk-toggleable__control:checked~label.sk-toggleable__label-arrow:before {content: \"▾\";}#sk-container-id-1 div.sk-estimator input.sk-toggleable__control:checked~label.sk-toggleable__label {background-color: #d4ebff;}#sk-container-id-1 div.sk-label input.sk-toggleable__control:checked~label.sk-toggleable__label {background-color: #d4ebff;}#sk-container-id-1 input.sk-hidden--visually {border: 0;clip: rect(1px 1px 1px 1px);clip: rect(1px, 1px, 1px, 1px);height: 1px;margin: -1px;overflow: hidden;padding: 0;position: absolute;width: 1px;}#sk-container-id-1 div.sk-estimator {font-family: monospace;background-color: #f0f8ff;border: 1px dotted black;border-radius: 0.25em;box-sizing: border-box;margin-bottom: 0.5em;}#sk-container-id-1 div.sk-estimator:hover {background-color: #d4ebff;}#sk-container-id-1 div.sk-parallel-item::after {content: \"\";width: 100%;border-bottom: 1px solid gray;flex-grow: 1;}#sk-container-id-1 div.sk-label:hover label.sk-toggleable__label {background-color: #d4ebff;}#sk-container-id-1 div.sk-serial::before {content: \"\";position: absolute;border-left: 1px solid gray;box-sizing: border-box;top: 0;bottom: 0;left: 50%;z-index: 0;}#sk-container-id-1 div.sk-serial {display: flex;flex-direction: column;align-items: center;background-color: white;padding-right: 0.2em;padding-left: 0.2em;position: relative;}#sk-container-id-1 div.sk-item {position: relative;z-index: 1;}#sk-container-id-1 div.sk-parallel {display: flex;align-items: stretch;justify-content: center;background-color: white;position: relative;}#sk-container-id-1 div.sk-item::before, #sk-container-id-1 div.sk-parallel-item::before {content: \"\";position: absolute;border-left: 1px solid gray;box-sizing: border-box;top: 0;bottom: 0;left: 50%;z-index: -1;}#sk-container-id-1 div.sk-parallel-item {display: flex;flex-direction: column;z-index: 1;position: relative;background-color: white;}#sk-container-id-1 div.sk-parallel-item:first-child::after {align-self: flex-end;width: 50%;}#sk-container-id-1 div.sk-parallel-item:last-child::after {align-self: flex-start;width: 50%;}#sk-container-id-1 div.sk-parallel-item:only-child::after {width: 0;}#sk-container-id-1 div.sk-dashed-wrapped {border: 1px dashed gray;margin: 0 0.4em 0.5em 0.4em;box-sizing: border-box;padding-bottom: 0.4em;background-color: white;}#sk-container-id-1 div.sk-label label {font-family: monospace;font-weight: bold;display: inline-block;line-height: 1.2em;}#sk-container-id-1 div.sk-label-container {text-align: center;}#sk-container-id-1 div.sk-container {/* jupyter's `normalize.less` sets `[hidden] { display: none; }` but bootstrap.min.css set `[hidden] { display: none !important; }` so we also need the `!important` here to be able to override the default hidden behavior on the sphinx rendered scikit-learn.org. See: https://github.com/scikit-learn/scikit-learn/issues/21755 */display: inline-block !important;position: relative;}#sk-container-id-1 div.sk-text-repr-fallback {display: none;}</style><div id=\"sk-container-id-1\" class=\"sk-top-container\"><div class=\"sk-text-repr-fallback\"><pre>LogisticRegression(C=100, max_iter=10000, random_state=0)</pre><b>In a Jupyter environment, please rerun this cell to show the HTML representation or trust the notebook. <br />On GitHub, the HTML representation is unable to render, please try loading this page with nbviewer.org.</b></div><div class=\"sk-container\" hidden><div class=\"sk-item\"><div class=\"sk-estimator sk-toggleable\"><input class=\"sk-toggleable__control sk-hidden--visually\" id=\"sk-estimator-id-1\" type=\"checkbox\" checked><label for=\"sk-estimator-id-1\" class=\"sk-toggleable__label sk-toggleable__label-arrow\">LogisticRegression</label><div class=\"sk-toggleable__content\"><pre>LogisticRegression(C=100, max_iter=10000, random_state=0)</pre></div></div></div></div></div>"
      ],
      "text/plain": [
       "LogisticRegression(C=100, max_iter=10000, random_state=0)"
      ]
     },
     "execution_count": 5,
     "metadata": {},
     "output_type": "execute_result"
    }
   ],
   "source": [
    "# Entraînement de la régression logistique\n",
    "# avec une recherche d'hyperparamètre avec une grille (grid search)\n",
    "# et une validation croisée\n",
    "best_score = 0\n",
    "for C in [0.001, 0.01, 1, 10, 100, 1000]:\n",
    "    # on crée le modèle\n",
    "    logreg = LogisticRegression(max_iter=10000, random_state=0, C=C)\n",
    "    # on fait la validation croisée\n",
    "    scores = cross_val_score(logreg, X_train, y_train, cv=5)\n",
    "    # on calcule la justesse moyenne\n",
    "    score = np.mean(scores)\n",
    "    #print(scores, score)\n",
    "    # si le score est meilleur, on le conserve (avec le paramètre C)\n",
    "    if score > best_score:\n",
    "        best_score = score\n",
    "        best_C = C\n",
    "# réentraîner le meilleur modèle sur toutes les données d'entraînement\n",
    "logreg = LogisticRegression(max_iter=10000, random_state=0, C=best_C)\n",
    "logreg.fit(X_train, y_train)  "
   ]
  },
  {
   "cell_type": "markdown",
   "metadata": {
    "colab_type": "text",
    "id": "iNyGfq19atZM"
   },
   "source": [
    "### Modèle d'arbre de décision"
   ]
  },
  {
   "cell_type": "code",
   "execution_count": 6,
   "metadata": {
    "colab": {
     "base_uri": "https://localhost:8080/",
     "height": 51
    },
    "colab_type": "code",
    "executionInfo": {
     "elapsed": 1035,
     "status": "ok",
     "timestamp": 1581773530113,
     "user": {
      "displayName": "Yossiri Adulyasak",
      "photoUrl": "https://lh3.googleusercontent.com/a-/AAuE7mA2jbXyEVCog3mJJJZLctn8E1-7ex1IaiubBOVw=s64",
      "userId": "09639675876948086242"
     },
     "user_tz": 300
    },
    "id": "CT4g8l9datZN",
    "outputId": "609901ed-527a-47de-b811-2768e83429ca"
   },
   "outputs": [
    {
     "data": {
      "text/html": [
       "<style>#sk-container-id-2 {color: black;background-color: white;}#sk-container-id-2 pre{padding: 0;}#sk-container-id-2 div.sk-toggleable {background-color: white;}#sk-container-id-2 label.sk-toggleable__label {cursor: pointer;display: block;width: 100%;margin-bottom: 0;padding: 0.3em;box-sizing: border-box;text-align: center;}#sk-container-id-2 label.sk-toggleable__label-arrow:before {content: \"▸\";float: left;margin-right: 0.25em;color: #696969;}#sk-container-id-2 label.sk-toggleable__label-arrow:hover:before {color: black;}#sk-container-id-2 div.sk-estimator:hover label.sk-toggleable__label-arrow:before {color: black;}#sk-container-id-2 div.sk-toggleable__content {max-height: 0;max-width: 0;overflow: hidden;text-align: left;background-color: #f0f8ff;}#sk-container-id-2 div.sk-toggleable__content pre {margin: 0.2em;color: black;border-radius: 0.25em;background-color: #f0f8ff;}#sk-container-id-2 input.sk-toggleable__control:checked~div.sk-toggleable__content {max-height: 200px;max-width: 100%;overflow: auto;}#sk-container-id-2 input.sk-toggleable__control:checked~label.sk-toggleable__label-arrow:before {content: \"▾\";}#sk-container-id-2 div.sk-estimator input.sk-toggleable__control:checked~label.sk-toggleable__label {background-color: #d4ebff;}#sk-container-id-2 div.sk-label input.sk-toggleable__control:checked~label.sk-toggleable__label {background-color: #d4ebff;}#sk-container-id-2 input.sk-hidden--visually {border: 0;clip: rect(1px 1px 1px 1px);clip: rect(1px, 1px, 1px, 1px);height: 1px;margin: -1px;overflow: hidden;padding: 0;position: absolute;width: 1px;}#sk-container-id-2 div.sk-estimator {font-family: monospace;background-color: #f0f8ff;border: 1px dotted black;border-radius: 0.25em;box-sizing: border-box;margin-bottom: 0.5em;}#sk-container-id-2 div.sk-estimator:hover {background-color: #d4ebff;}#sk-container-id-2 div.sk-parallel-item::after {content: \"\";width: 100%;border-bottom: 1px solid gray;flex-grow: 1;}#sk-container-id-2 div.sk-label:hover label.sk-toggleable__label {background-color: #d4ebff;}#sk-container-id-2 div.sk-serial::before {content: \"\";position: absolute;border-left: 1px solid gray;box-sizing: border-box;top: 0;bottom: 0;left: 50%;z-index: 0;}#sk-container-id-2 div.sk-serial {display: flex;flex-direction: column;align-items: center;background-color: white;padding-right: 0.2em;padding-left: 0.2em;position: relative;}#sk-container-id-2 div.sk-item {position: relative;z-index: 1;}#sk-container-id-2 div.sk-parallel {display: flex;align-items: stretch;justify-content: center;background-color: white;position: relative;}#sk-container-id-2 div.sk-item::before, #sk-container-id-2 div.sk-parallel-item::before {content: \"\";position: absolute;border-left: 1px solid gray;box-sizing: border-box;top: 0;bottom: 0;left: 50%;z-index: -1;}#sk-container-id-2 div.sk-parallel-item {display: flex;flex-direction: column;z-index: 1;position: relative;background-color: white;}#sk-container-id-2 div.sk-parallel-item:first-child::after {align-self: flex-end;width: 50%;}#sk-container-id-2 div.sk-parallel-item:last-child::after {align-self: flex-start;width: 50%;}#sk-container-id-2 div.sk-parallel-item:only-child::after {width: 0;}#sk-container-id-2 div.sk-dashed-wrapped {border: 1px dashed gray;margin: 0 0.4em 0.5em 0.4em;box-sizing: border-box;padding-bottom: 0.4em;background-color: white;}#sk-container-id-2 div.sk-label label {font-family: monospace;font-weight: bold;display: inline-block;line-height: 1.2em;}#sk-container-id-2 div.sk-label-container {text-align: center;}#sk-container-id-2 div.sk-container {/* jupyter's `normalize.less` sets `[hidden] { display: none; }` but bootstrap.min.css set `[hidden] { display: none !important; }` so we also need the `!important` here to be able to override the default hidden behavior on the sphinx rendered scikit-learn.org. See: https://github.com/scikit-learn/scikit-learn/issues/21755 */display: inline-block !important;position: relative;}#sk-container-id-2 div.sk-text-repr-fallback {display: none;}</style><div id=\"sk-container-id-2\" class=\"sk-top-container\"><div class=\"sk-text-repr-fallback\"><pre>GridSearchCV(cv=5, estimator=DecisionTreeClassifier(),\n",
       "             param_grid={&#x27;max_leaf_nodes&#x27;: [10, 20, 28, 30, 40],\n",
       "                         &#x27;random_state&#x27;: [0]},\n",
       "             return_train_score=True)</pre><b>In a Jupyter environment, please rerun this cell to show the HTML representation or trust the notebook. <br />On GitHub, the HTML representation is unable to render, please try loading this page with nbviewer.org.</b></div><div class=\"sk-container\" hidden><div class=\"sk-item sk-dashed-wrapped\"><div class=\"sk-label-container\"><div class=\"sk-label sk-toggleable\"><input class=\"sk-toggleable__control sk-hidden--visually\" id=\"sk-estimator-id-2\" type=\"checkbox\" ><label for=\"sk-estimator-id-2\" class=\"sk-toggleable__label sk-toggleable__label-arrow\">GridSearchCV</label><div class=\"sk-toggleable__content\"><pre>GridSearchCV(cv=5, estimator=DecisionTreeClassifier(),\n",
       "             param_grid={&#x27;max_leaf_nodes&#x27;: [10, 20, 28, 30, 40],\n",
       "                         &#x27;random_state&#x27;: [0]},\n",
       "             return_train_score=True)</pre></div></div></div><div class=\"sk-parallel\"><div class=\"sk-parallel-item\"><div class=\"sk-item\"><div class=\"sk-label-container\"><div class=\"sk-label sk-toggleable\"><input class=\"sk-toggleable__control sk-hidden--visually\" id=\"sk-estimator-id-3\" type=\"checkbox\" ><label for=\"sk-estimator-id-3\" class=\"sk-toggleable__label sk-toggleable__label-arrow\">estimator: DecisionTreeClassifier</label><div class=\"sk-toggleable__content\"><pre>DecisionTreeClassifier()</pre></div></div></div><div class=\"sk-serial\"><div class=\"sk-item\"><div class=\"sk-estimator sk-toggleable\"><input class=\"sk-toggleable__control sk-hidden--visually\" id=\"sk-estimator-id-4\" type=\"checkbox\" ><label for=\"sk-estimator-id-4\" class=\"sk-toggleable__label sk-toggleable__label-arrow\">DecisionTreeClassifier</label><div class=\"sk-toggleable__content\"><pre>DecisionTreeClassifier()</pre></div></div></div></div></div></div></div></div></div></div>"
      ],
      "text/plain": [
       "GridSearchCV(cv=5, estimator=DecisionTreeClassifier(),\n",
       "             param_grid={'max_leaf_nodes': [10, 20, 28, 30, 40],\n",
       "                         'random_state': [0]},\n",
       "             return_train_score=True)"
      ]
     },
     "execution_count": 6,
     "metadata": {},
     "output_type": "execute_result"
    }
   ],
   "source": [
    "# Entraînement de l'arbre de décision\n",
    "# Ce code est similaire au précédent, mais il utilise la fonction GridSearchCV\n",
    "# Voir la section 5.2.3 du livre \"Intro to ML with Python\" pour plus d'information\n",
    "param_grid = {'max_leaf_nodes': [10, 20, 28, 30, 40],\n",
    "              'random_state': [0]}\n",
    "tree = GridSearchCV(DecisionTreeClassifier(), param_grid, cv=5,\n",
    "                    return_train_score=True)\n",
    "tree.fit(X_train, y_train)  # ceci retourne automatiquement le meilleur estimateur entraîné sur toutes les données train"
   ]
  },
  {
   "cell_type": "code",
   "execution_count": 7,
   "metadata": {},
   "outputs": [
    {
     "data": {
      "text/html": [
       "<div>\n",
       "<style scoped>\n",
       "    .dataframe tbody tr th:only-of-type {\n",
       "        vertical-align: middle;\n",
       "    }\n",
       "\n",
       "    .dataframe tbody tr th {\n",
       "        vertical-align: top;\n",
       "    }\n",
       "\n",
       "    .dataframe thead th {\n",
       "        text-align: right;\n",
       "    }\n",
       "</style>\n",
       "<table border=\"1\" class=\"dataframe\">\n",
       "  <thead>\n",
       "    <tr style=\"text-align: right;\">\n",
       "      <th></th>\n",
       "      <th>mean_fit_time</th>\n",
       "      <th>std_fit_time</th>\n",
       "      <th>mean_score_time</th>\n",
       "      <th>std_score_time</th>\n",
       "      <th>param_max_leaf_nodes</th>\n",
       "      <th>param_random_state</th>\n",
       "      <th>params</th>\n",
       "      <th>split0_test_score</th>\n",
       "      <th>split1_test_score</th>\n",
       "      <th>split2_test_score</th>\n",
       "      <th>...</th>\n",
       "      <th>mean_test_score</th>\n",
       "      <th>std_test_score</th>\n",
       "      <th>rank_test_score</th>\n",
       "      <th>split0_train_score</th>\n",
       "      <th>split1_train_score</th>\n",
       "      <th>split2_train_score</th>\n",
       "      <th>split3_train_score</th>\n",
       "      <th>split4_train_score</th>\n",
       "      <th>mean_train_score</th>\n",
       "      <th>std_train_score</th>\n",
       "    </tr>\n",
       "  </thead>\n",
       "  <tbody>\n",
       "    <tr>\n",
       "      <th>0</th>\n",
       "      <td>0.008579</td>\n",
       "      <td>0.002325</td>\n",
       "      <td>0.000399</td>\n",
       "      <td>0.000489</td>\n",
       "      <td>10</td>\n",
       "      <td>0</td>\n",
       "      <td>{'max_leaf_nodes': 10, 'random_state': 0}</td>\n",
       "      <td>0.790521</td>\n",
       "      <td>0.777251</td>\n",
       "      <td>0.781043</td>\n",
       "      <td>...</td>\n",
       "      <td>0.782708</td>\n",
       "      <td>0.004412</td>\n",
       "      <td>5</td>\n",
       "      <td>0.785731</td>\n",
       "      <td>0.796871</td>\n",
       "      <td>0.791183</td>\n",
       "      <td>0.789050</td>\n",
       "      <td>0.795024</td>\n",
       "      <td>0.791572</td>\n",
       "      <td>0.004016</td>\n",
       "    </tr>\n",
       "    <tr>\n",
       "      <th>1</th>\n",
       "      <td>0.008035</td>\n",
       "      <td>0.002215</td>\n",
       "      <td>0.001809</td>\n",
       "      <td>0.003143</td>\n",
       "      <td>20</td>\n",
       "      <td>0</td>\n",
       "      <td>{'max_leaf_nodes': 20, 'random_state': 0}</td>\n",
       "      <td>0.789573</td>\n",
       "      <td>0.779147</td>\n",
       "      <td>0.787678</td>\n",
       "      <td>...</td>\n",
       "      <td>0.785171</td>\n",
       "      <td>0.006010</td>\n",
       "      <td>4</td>\n",
       "      <td>0.806826</td>\n",
       "      <td>0.801375</td>\n",
       "      <td>0.800901</td>\n",
       "      <td>0.803745</td>\n",
       "      <td>0.800237</td>\n",
       "      <td>0.802617</td>\n",
       "      <td>0.002414</td>\n",
       "    </tr>\n",
       "    <tr>\n",
       "      <th>2</th>\n",
       "      <td>0.010067</td>\n",
       "      <td>0.000033</td>\n",
       "      <td>0.000402</td>\n",
       "      <td>0.000804</td>\n",
       "      <td>28</td>\n",
       "      <td>0</td>\n",
       "      <td>{'max_leaf_nodes': 28, 'random_state': 0}</td>\n",
       "      <td>0.798104</td>\n",
       "      <td>0.794313</td>\n",
       "      <td>0.786730</td>\n",
       "      <td>...</td>\n",
       "      <td>0.790669</td>\n",
       "      <td>0.006968</td>\n",
       "      <td>2</td>\n",
       "      <td>0.814648</td>\n",
       "      <td>0.813463</td>\n",
       "      <td>0.812515</td>\n",
       "      <td>0.808959</td>\n",
       "      <td>0.802607</td>\n",
       "      <td>0.810438</td>\n",
       "      <td>0.004352</td>\n",
       "    </tr>\n",
       "    <tr>\n",
       "      <th>3</th>\n",
       "      <td>0.009627</td>\n",
       "      <td>0.000535</td>\n",
       "      <td>0.000000</td>\n",
       "      <td>0.000000</td>\n",
       "      <td>30</td>\n",
       "      <td>0</td>\n",
       "      <td>{'max_leaf_nodes': 30, 'random_state': 0}</td>\n",
       "      <td>0.800948</td>\n",
       "      <td>0.794313</td>\n",
       "      <td>0.785782</td>\n",
       "      <td>...</td>\n",
       "      <td>0.793135</td>\n",
       "      <td>0.005199</td>\n",
       "      <td>1</td>\n",
       "      <td>0.816070</td>\n",
       "      <td>0.813463</td>\n",
       "      <td>0.814648</td>\n",
       "      <td>0.811567</td>\n",
       "      <td>0.807346</td>\n",
       "      <td>0.812619</td>\n",
       "      <td>0.003022</td>\n",
       "    </tr>\n",
       "    <tr>\n",
       "      <th>4</th>\n",
       "      <td>0.008272</td>\n",
       "      <td>0.003132</td>\n",
       "      <td>0.001618</td>\n",
       "      <td>0.003236</td>\n",
       "      <td>40</td>\n",
       "      <td>0</td>\n",
       "      <td>{'max_leaf_nodes': 40, 'random_state': 0}</td>\n",
       "      <td>0.798104</td>\n",
       "      <td>0.787678</td>\n",
       "      <td>0.786730</td>\n",
       "      <td>...</td>\n",
       "      <td>0.790481</td>\n",
       "      <td>0.004309</td>\n",
       "      <td>3</td>\n",
       "      <td>0.821759</td>\n",
       "      <td>0.819626</td>\n",
       "      <td>0.819626</td>\n",
       "      <td>0.815596</td>\n",
       "      <td>0.819905</td>\n",
       "      <td>0.819302</td>\n",
       "      <td>0.002017</td>\n",
       "    </tr>\n",
       "  </tbody>\n",
       "</table>\n",
       "<p>5 rows × 22 columns</p>\n",
       "</div>"
      ],
      "text/plain": [
       "   mean_fit_time  std_fit_time  mean_score_time  std_score_time  \\\n",
       "0       0.008579      0.002325         0.000399        0.000489   \n",
       "1       0.008035      0.002215         0.001809        0.003143   \n",
       "2       0.010067      0.000033         0.000402        0.000804   \n",
       "3       0.009627      0.000535         0.000000        0.000000   \n",
       "4       0.008272      0.003132         0.001618        0.003236   \n",
       "\n",
       "  param_max_leaf_nodes param_random_state  \\\n",
       "0                   10                  0   \n",
       "1                   20                  0   \n",
       "2                   28                  0   \n",
       "3                   30                  0   \n",
       "4                   40                  0   \n",
       "\n",
       "                                      params  split0_test_score  \\\n",
       "0  {'max_leaf_nodes': 10, 'random_state': 0}           0.790521   \n",
       "1  {'max_leaf_nodes': 20, 'random_state': 0}           0.789573   \n",
       "2  {'max_leaf_nodes': 28, 'random_state': 0}           0.798104   \n",
       "3  {'max_leaf_nodes': 30, 'random_state': 0}           0.800948   \n",
       "4  {'max_leaf_nodes': 40, 'random_state': 0}           0.798104   \n",
       "\n",
       "   split1_test_score  split2_test_score  ...  mean_test_score  std_test_score  \\\n",
       "0           0.777251           0.781043  ...         0.782708        0.004412   \n",
       "1           0.779147           0.787678  ...         0.785171        0.006010   \n",
       "2           0.794313           0.786730  ...         0.790669        0.006968   \n",
       "3           0.794313           0.785782  ...         0.793135        0.005199   \n",
       "4           0.787678           0.786730  ...         0.790481        0.004309   \n",
       "\n",
       "   rank_test_score  split0_train_score  split1_train_score  \\\n",
       "0                5            0.785731            0.796871   \n",
       "1                4            0.806826            0.801375   \n",
       "2                2            0.814648            0.813463   \n",
       "3                1            0.816070            0.813463   \n",
       "4                3            0.821759            0.819626   \n",
       "\n",
       "   split2_train_score  split3_train_score  split4_train_score  \\\n",
       "0            0.791183            0.789050            0.795024   \n",
       "1            0.800901            0.803745            0.800237   \n",
       "2            0.812515            0.808959            0.802607   \n",
       "3            0.814648            0.811567            0.807346   \n",
       "4            0.819626            0.815596            0.819905   \n",
       "\n",
       "   mean_train_score  std_train_score  \n",
       "0          0.791572         0.004016  \n",
       "1          0.802617         0.002414  \n",
       "2          0.810438         0.004352  \n",
       "3          0.812619         0.003022  \n",
       "4          0.819302         0.002017  \n",
       "\n",
       "[5 rows x 22 columns]"
      ]
     },
     "metadata": {},
     "output_type": "display_data"
    },
    {
     "name": "stdout",
     "output_type": "stream",
     "text": [
      "DecisionTreeClassifier(max_leaf_nodes=30, random_state=0)\n"
     ]
    }
   ],
   "source": [
    "# Analyse des résultats de la validation croisée\n",
    "cv_results = pd.DataFrame(tree.cv_results_)\n",
    "display(cv_results)\n",
    "print(tree.best_estimator_)"
   ]
  },
  {
   "cell_type": "markdown",
   "metadata": {
    "colab_type": "text",
    "id": "TiV1Pm6SatZj"
   },
   "source": [
    "## Évaluation\n",
    "Calcul de la précision et du rappel du modèle récemment ajusté (régression logistique ou arbre de décision)"
   ]
  },
  {
   "cell_type": "code",
   "execution_count": 8,
   "metadata": {
    "colab": {
     "base_uri": "https://localhost:8080/",
     "height": 51
    },
    "colab_type": "code",
    "executionInfo": {
     "elapsed": 1629,
     "status": "ok",
     "timestamp": 1581773530752,
     "user": {
      "displayName": "Yossiri Adulyasak",
      "photoUrl": "https://lh3.googleusercontent.com/a-/AAuE7mA2jbXyEVCog3mJJJZLctn8E1-7ex1IaiubBOVw=s64",
      "userId": "09639675876948086242"
     },
     "user_tz": 300
    },
    "id": "mbnNL7GpatZk",
    "outputId": "37fd5b6f-21fa-46f3-e4cf-e21783f2cd84"
   },
   "outputs": [
    {
     "name": "stdout",
     "output_type": "stream",
     "text": [
      "**Régression logistique**\n",
      "Justesse (entraînement): 0.805\n",
      "Justesse (test): 0.803\n",
      "Précision (test): 0.643\n",
      "Rappel (test): 0.508\n",
      "Matrice de confusion (test):\n",
      "[[1185  126]\n",
      " [ 220  227]]\n",
      "\n",
      "**Arbre de décision**\n",
      "Justesse (entraînement): 0.811\n",
      "Justesse (test): 0.796\n",
      "Précision (test): 0.641\n",
      "Rappel (test): 0.452\n",
      "Matrice de confusion (test):\n",
      "[[1198  113]\n",
      " [ 245  202]]\n"
     ]
    }
   ],
   "source": [
    "# Affichage des résultats\n",
    "y_predict = logreg.predict(X_test) # à utiliser pour la régression logistique\n",
    "print(\"**Régression logistique**\")\n",
    "print(f\"Justesse (entraînement): {logreg.score(X_train, y_train):.3f}\")  # accuracy\n",
    "print(f\"Justesse (test): {logreg.score(X_test, y_test):.3f}\")  # accuracy\n",
    "print(f\"Précision (test): {precision_score(y_test, y_predict):.3f}\")\n",
    "print(f\"Rappel (test): {recall_score(y_test, y_predict):.3f}\")\n",
    "print(f\"Matrice de confusion (test):\\n{confusion_matrix(y_test, y_predict)}\")\n",
    "\n",
    "y_predict = tree.predict(X_test)\n",
    "print(\"\\n**Arbre de décision**\")\n",
    "print(f\"Justesse (entraînement): {tree.score(X_train, y_train):.3f}\")  # accuracy\n",
    "print(f\"Justesse (test): {tree.score(X_test, y_test):.3f}\")  # accuracy\n",
    "print(f\"Précision (test): {precision_score(y_test, y_predict):.3f}\")\n",
    "print(f\"Rappel (test): {recall_score(y_test, y_predict):.3f}\")\n",
    "print(f\"Matrice de confusion (test):\\n{confusion_matrix(y_test, y_predict)}\")"
   ]
  },
  {
   "cell_type": "markdown",
   "metadata": {
    "colab_type": "text",
    "id": "QLhjpn4matZn"
   },
   "source": [
    "Voici le code pour tracer [la courbe de précision-rappel ](https://scikit-learn.org/stable/auto_examples/model_selection/plot_precision_recall.html#sphx-glr-auto-examples-model-selection-plot-precision-recall-py).\n",
    "\n",
    "*La courbe précision-rappel est généralement utilisée pour analyser un modèle de régression logistique pour toutes les valeurs de seuils possibles, mais vous trouverez également le code pour l'arbre de décision dans la prochaine cellule*"
   ]
  },
  {
   "cell_type": "code",
   "execution_count": 9,
   "metadata": {
    "colab": {
     "base_uri": "https://localhost:8080/",
     "height": 312
    },
    "colab_type": "code",
    "executionInfo": {
     "elapsed": 1765,
     "status": "ok",
     "timestamp": 1581773530897,
     "user": {
      "displayName": "Yossiri Adulyasak",
      "photoUrl": "https://lh3.googleusercontent.com/a-/AAuE7mA2jbXyEVCog3mJJJZLctn8E1-7ex1IaiubBOVw=s64",
      "userId": "09639675876948086242"
     },
     "user_tz": 300
    },
    "id": "xm-LMn2KatZo",
    "outputId": "a29cd5c1-dd2f-47bb-d36e-4c640c8b29e2"
   },
   "outputs": [
    {
     "data": {
      "text/plain": [
       "Text(0.5, 1.0, 'Précision moyenne=0.63')"
      ]
     },
     "execution_count": 9,
     "metadata": {},
     "output_type": "execute_result"
    },
    {
     "data": {
      "image/png": "[encoded data removed]",
      "text/plain": [
       "<Figure size 432x288 with 1 Axes>"
      ]
     },
     "metadata": {
      "needs_background": "light"
     },
     "output_type": "display_data"
    }
   ],
   "source": [
    "# Régression logistique\n",
    "y_prob = logreg.predict_proba(X_test)[:, 1]\n",
    "\n",
    "precision, recall, thresholds = precision_recall_curve(y_test, y_prob)\n",
    "\n",
    "plt.figure()\n",
    "plt.step(recall, precision)\n",
    "average_precision = average_precision_score(y_test, y_prob)\n",
    "\n",
    "plt.xlabel('Rappel')\n",
    "plt.ylabel('Précision')\n",
    "plt.ylim([0.0, 1.05])\n",
    "plt.xlim([0.0, 1.0])\n",
    "plt.title(f'Précision moyenne={average_precision:0.2f}')"
   ]
  },
  {
   "cell_type": "code",
   "execution_count": 10,
   "metadata": {
    "colab": {},
    "colab_type": "code",
    "id": "6A6XX4OsatZr"
   },
   "outputs": [
    {
     "data": {
      "text/plain": [
       "Text(0.5, 1.0, 'Précision moyenne=0.59')"
      ]
     },
     "execution_count": 10,
     "metadata": {},
     "output_type": "execute_result"
    },
    {
     "data": {
      "image/png": "[encoded data removed]",
      "text/plain": [
       "<Figure size 432x288 with 1 Axes>"
      ]
     },
     "metadata": {
      "needs_background": "light"
     },
     "output_type": "display_data"
    }
   ],
   "source": [
    "# Arbre de décision\n",
    "y_prob = tree.predict_proba(X_test)[:, 1]\n",
    "\n",
    "precision, recall, thresholds = precision_recall_curve(y_test, y_prob)\n",
    "\n",
    "plt.figure()\n",
    "plt.step(recall, precision)\n",
    "average_precision = average_precision_score(y_test, y_prob)\n",
    "\n",
    "plt.xlabel('Rappel')\n",
    "plt.ylabel('Précision')\n",
    "plt.ylim([0.0, 1.05])\n",
    "plt.xlim([0.0, 1.0])\n",
    "plt.title(f'Précision moyenne={average_precision:0.2f}')"
   ]
  },
  {
   "cell_type": "code",
   "execution_count": null,
   "metadata": {},
   "outputs": [],
   "source": []
  }
 ],
 "metadata": {
  "colab": {
   "collapsed_sections": [],
   "name": "S7-Demo3_Telco.ipynb",
   "provenance": []
  },
  "kernelspec": {
   "display_name": "Python 3 (ipykernel)",
   "language": "python",
   "name": "python3"
  },
  "language_info": {
   "codemirror_mode": {
    "name": "ipython",
    "version": 3
   },
   "file_extension": ".py",
   "mimetype": "text/x-python",
   "name": "python",
   "nbconvert_exporter": "python",
   "pygments_lexer": "ipython3",
   "version": "3.8.8"
  },
  "toc": {
   "base_numbering": 1,
   "nav_menu": {},
   "number_sections": true,
   "sideBar": true,
   "skip_h1_title": false,
   "title_cell": "Table of Contents",
   "title_sidebar": "Contents",
   "toc_cell": false,
   "toc_position": {},
   "toc_section_display": true,
   "toc_window_display": false
  },
  "varInspector": {
   "cols": {
    "lenName": 16,
    "lenType": 16,
    "lenVar": 40
   },
   "kernels_config": {
    "python": {
     "delete_cmd_postfix": "",
     "delete_cmd_prefix": "del ",
     "library": "var_list.py",
     "varRefreshCmd": "print(var_dic_list())"
    },
    "r": {
     "delete_cmd_postfix": ") ",
     "delete_cmd_prefix": "rm(",
     "library": "var_list.r",
     "varRefreshCmd": "cat(var_dic_list()) "
    }
   },
   "types_to_exclude": [
    "module",
    "function",
    "builtin_function_or_method",
    "instance",
    "_Feature"
   ],
   "window_display": false
  }
 },
 "nbformat": 4,
 "nbformat_minor": 1
}
