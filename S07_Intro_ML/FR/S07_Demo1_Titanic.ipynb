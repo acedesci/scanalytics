{
 "cells": [
  {
   "cell_type": "markdown",
   "metadata": {
    "colab_type": "text",
    "id": "yYWkiajyT7dy"
   },
   "source": [
    "# Démonstration 1: Titanic\n",
    "\n",
    "Classification avec [les données du Titanic de Kaggle](https://www.kaggle.com/c/titanic/data)."
   ]
  },
  {
   "cell_type": "code",
   "execution_count": 1,
   "metadata": {
    "colab": {},
    "colab_type": "code",
    "id": "pLD9AVYPT7d3"
   },
   "outputs": [],
   "source": [
    "import matplotlib.pyplot as plt\n",
    "%matplotlib inline\n",
    "import numpy as np\n",
    "import pandas as pd\n",
    "from sklearn.linear_model import LogisticRegression\n",
    "from sklearn.model_selection import train_test_split\n",
    "from sklearn.preprocessing import LabelEncoder\n",
    "from sklearn.tree import DecisionTreeClassifier, plot_tree"
   ]
  },
  {
   "cell_type": "markdown",
   "metadata": {},
   "source": [
    "## Bloc 1: chargement des données"
   ]
  },
  {
   "cell_type": "code",
   "execution_count": 2,
   "metadata": {
    "colab": {},
    "colab_type": "code",
    "id": "wMjSEQBkT7d9"
   },
   "outputs": [
    {
     "data": {
      "text/html": [
       "<div>\n",
       "<style scoped>\n",
       "    .dataframe tbody tr th:only-of-type {\n",
       "        vertical-align: middle;\n",
       "    }\n",
       "\n",
       "    .dataframe tbody tr th {\n",
       "        vertical-align: top;\n",
       "    }\n",
       "\n",
       "    .dataframe thead th {\n",
       "        text-align: right;\n",
       "    }\n",
       "</style>\n",
       "<table border=\"1\" class=\"dataframe\">\n",
       "  <thead>\n",
       "    <tr style=\"text-align: right;\">\n",
       "      <th></th>\n",
       "      <th>PassengerId</th>\n",
       "      <th>Survived</th>\n",
       "      <th>Pclass</th>\n",
       "      <th>Name</th>\n",
       "      <th>Sex</th>\n",
       "      <th>Age</th>\n",
       "      <th>SibSp</th>\n",
       "      <th>Parch</th>\n",
       "      <th>Ticket</th>\n",
       "      <th>Fare</th>\n",
       "      <th>Cabin</th>\n",
       "      <th>Embarked</th>\n",
       "    </tr>\n",
       "  </thead>\n",
       "  <tbody>\n",
       "    <tr>\n",
       "      <th>0</th>\n",
       "      <td>1</td>\n",
       "      <td>0</td>\n",
       "      <td>3</td>\n",
       "      <td>Braund, Mr. Owen Harris</td>\n",
       "      <td>male</td>\n",
       "      <td>22.0</td>\n",
       "      <td>1</td>\n",
       "      <td>0</td>\n",
       "      <td>A/5 21171</td>\n",
       "      <td>7.2500</td>\n",
       "      <td>NaN</td>\n",
       "      <td>S</td>\n",
       "    </tr>\n",
       "    <tr>\n",
       "      <th>1</th>\n",
       "      <td>2</td>\n",
       "      <td>1</td>\n",
       "      <td>1</td>\n",
       "      <td>Cumings, Mrs. John Bradley (Florence Briggs Th...</td>\n",
       "      <td>female</td>\n",
       "      <td>38.0</td>\n",
       "      <td>1</td>\n",
       "      <td>0</td>\n",
       "      <td>PC 17599</td>\n",
       "      <td>71.2833</td>\n",
       "      <td>C85</td>\n",
       "      <td>C</td>\n",
       "    </tr>\n",
       "    <tr>\n",
       "      <th>2</th>\n",
       "      <td>3</td>\n",
       "      <td>1</td>\n",
       "      <td>3</td>\n",
       "      <td>Heikkinen, Miss. Laina</td>\n",
       "      <td>female</td>\n",
       "      <td>26.0</td>\n",
       "      <td>0</td>\n",
       "      <td>0</td>\n",
       "      <td>STON/O2. 3101282</td>\n",
       "      <td>7.9250</td>\n",
       "      <td>NaN</td>\n",
       "      <td>S</td>\n",
       "    </tr>\n",
       "    <tr>\n",
       "      <th>3</th>\n",
       "      <td>4</td>\n",
       "      <td>1</td>\n",
       "      <td>1</td>\n",
       "      <td>Futrelle, Mrs. Jacques Heath (Lily May Peel)</td>\n",
       "      <td>female</td>\n",
       "      <td>35.0</td>\n",
       "      <td>1</td>\n",
       "      <td>0</td>\n",
       "      <td>113803</td>\n",
       "      <td>53.1000</td>\n",
       "      <td>C123</td>\n",
       "      <td>S</td>\n",
       "    </tr>\n",
       "    <tr>\n",
       "      <th>4</th>\n",
       "      <td>5</td>\n",
       "      <td>0</td>\n",
       "      <td>3</td>\n",
       "      <td>Allen, Mr. William Henry</td>\n",
       "      <td>male</td>\n",
       "      <td>35.0</td>\n",
       "      <td>0</td>\n",
       "      <td>0</td>\n",
       "      <td>373450</td>\n",
       "      <td>8.0500</td>\n",
       "      <td>NaN</td>\n",
       "      <td>S</td>\n",
       "    </tr>\n",
       "  </tbody>\n",
       "</table>\n",
       "</div>"
      ],
      "text/plain": [
       "   PassengerId  Survived  Pclass  \\\n",
       "0            1         0       3   \n",
       "1            2         1       1   \n",
       "2            3         1       3   \n",
       "3            4         1       1   \n",
       "4            5         0       3   \n",
       "\n",
       "                                                Name     Sex   Age  SibSp  \\\n",
       "0                            Braund, Mr. Owen Harris    male  22.0      1   \n",
       "1  Cumings, Mrs. John Bradley (Florence Briggs Th...  female  38.0      1   \n",
       "2                             Heikkinen, Miss. Laina  female  26.0      0   \n",
       "3       Futrelle, Mrs. Jacques Heath (Lily May Peel)  female  35.0      1   \n",
       "4                           Allen, Mr. William Henry    male  35.0      0   \n",
       "\n",
       "   Parch            Ticket     Fare Cabin Embarked  \n",
       "0      0         A/5 21171   7.2500   NaN        S  \n",
       "1      0          PC 17599  71.2833   C85        C  \n",
       "2      0  STON/O2. 3101282   7.9250   NaN        S  \n",
       "3      0            113803  53.1000  C123        S  \n",
       "4      0            373450   8.0500   NaN        S  "
      ]
     },
     "execution_count": 2,
     "metadata": {},
     "output_type": "execute_result"
    }
   ],
   "source": [
    "# Chargement des données\n",
    "data = pd.read_csv('data/titanic_train.csv')\n",
    "data.head(5)"
   ]
  },
  {
   "cell_type": "markdown",
   "metadata": {},
   "source": [
    "## Bloc 2: extraction des caractéristiques"
   ]
  },
  {
   "cell_type": "code",
   "execution_count": 3,
   "metadata": {
    "colab": {},
    "colab_type": "code",
    "id": "9_VpPqSjT7eB"
   },
   "outputs": [
    {
     "data": {
      "text/html": [
       "<div>\n",
       "<style scoped>\n",
       "    .dataframe tbody tr th:only-of-type {\n",
       "        vertical-align: middle;\n",
       "    }\n",
       "\n",
       "    .dataframe tbody tr th {\n",
       "        vertical-align: top;\n",
       "    }\n",
       "\n",
       "    .dataframe thead th {\n",
       "        text-align: right;\n",
       "    }\n",
       "</style>\n",
       "<table border=\"1\" class=\"dataframe\">\n",
       "  <thead>\n",
       "    <tr style=\"text-align: right;\">\n",
       "      <th></th>\n",
       "      <th>PassengerId</th>\n",
       "      <th>Survived</th>\n",
       "      <th>Pclass</th>\n",
       "      <th>Name</th>\n",
       "      <th>Sex</th>\n",
       "      <th>Age</th>\n",
       "      <th>SibSp</th>\n",
       "      <th>Parch</th>\n",
       "      <th>Ticket</th>\n",
       "      <th>Fare</th>\n",
       "      <th>Cabin</th>\n",
       "      <th>Embarked</th>\n",
       "      <th>binary_gender</th>\n",
       "    </tr>\n",
       "  </thead>\n",
       "  <tbody>\n",
       "    <tr>\n",
       "      <th>0</th>\n",
       "      <td>1</td>\n",
       "      <td>0</td>\n",
       "      <td>3</td>\n",
       "      <td>Braund, Mr. Owen Harris</td>\n",
       "      <td>male</td>\n",
       "      <td>22.0</td>\n",
       "      <td>1</td>\n",
       "      <td>0</td>\n",
       "      <td>A/5 21171</td>\n",
       "      <td>7.2500</td>\n",
       "      <td>NaN</td>\n",
       "      <td>S</td>\n",
       "      <td>1</td>\n",
       "    </tr>\n",
       "    <tr>\n",
       "      <th>1</th>\n",
       "      <td>2</td>\n",
       "      <td>1</td>\n",
       "      <td>1</td>\n",
       "      <td>Cumings, Mrs. John Bradley (Florence Briggs Th...</td>\n",
       "      <td>female</td>\n",
       "      <td>38.0</td>\n",
       "      <td>1</td>\n",
       "      <td>0</td>\n",
       "      <td>PC 17599</td>\n",
       "      <td>71.2833</td>\n",
       "      <td>C85</td>\n",
       "      <td>C</td>\n",
       "      <td>0</td>\n",
       "    </tr>\n",
       "    <tr>\n",
       "      <th>2</th>\n",
       "      <td>3</td>\n",
       "      <td>1</td>\n",
       "      <td>3</td>\n",
       "      <td>Heikkinen, Miss. Laina</td>\n",
       "      <td>female</td>\n",
       "      <td>26.0</td>\n",
       "      <td>0</td>\n",
       "      <td>0</td>\n",
       "      <td>STON/O2. 3101282</td>\n",
       "      <td>7.9250</td>\n",
       "      <td>NaN</td>\n",
       "      <td>S</td>\n",
       "      <td>0</td>\n",
       "    </tr>\n",
       "    <tr>\n",
       "      <th>3</th>\n",
       "      <td>4</td>\n",
       "      <td>1</td>\n",
       "      <td>1</td>\n",
       "      <td>Futrelle, Mrs. Jacques Heath (Lily May Peel)</td>\n",
       "      <td>female</td>\n",
       "      <td>35.0</td>\n",
       "      <td>1</td>\n",
       "      <td>0</td>\n",
       "      <td>113803</td>\n",
       "      <td>53.1000</td>\n",
       "      <td>C123</td>\n",
       "      <td>S</td>\n",
       "      <td>0</td>\n",
       "    </tr>\n",
       "    <tr>\n",
       "      <th>4</th>\n",
       "      <td>5</td>\n",
       "      <td>0</td>\n",
       "      <td>3</td>\n",
       "      <td>Allen, Mr. William Henry</td>\n",
       "      <td>male</td>\n",
       "      <td>35.0</td>\n",
       "      <td>0</td>\n",
       "      <td>0</td>\n",
       "      <td>373450</td>\n",
       "      <td>8.0500</td>\n",
       "      <td>NaN</td>\n",
       "      <td>S</td>\n",
       "      <td>1</td>\n",
       "    </tr>\n",
       "  </tbody>\n",
       "</table>\n",
       "</div>"
      ],
      "text/plain": [
       "   PassengerId  Survived  Pclass  \\\n",
       "0            1         0       3   \n",
       "1            2         1       1   \n",
       "2            3         1       3   \n",
       "3            4         1       1   \n",
       "4            5         0       3   \n",
       "\n",
       "                                                Name     Sex   Age  SibSp  \\\n",
       "0                            Braund, Mr. Owen Harris    male  22.0      1   \n",
       "1  Cumings, Mrs. John Bradley (Florence Briggs Th...  female  38.0      1   \n",
       "2                             Heikkinen, Miss. Laina  female  26.0      0   \n",
       "3       Futrelle, Mrs. Jacques Heath (Lily May Peel)  female  35.0      1   \n",
       "4                           Allen, Mr. William Henry    male  35.0      0   \n",
       "\n",
       "   Parch            Ticket     Fare Cabin Embarked  binary_gender  \n",
       "0      0         A/5 21171   7.2500   NaN        S              1  \n",
       "1      0          PC 17599  71.2833   C85        C              0  \n",
       "2      0  STON/O2. 3101282   7.9250   NaN        S              0  \n",
       "3      0            113803  53.1000  C123        S              0  \n",
       "4      0            373450   8.0500   NaN        S              1  "
      ]
     },
     "execution_count": 3,
     "metadata": {},
     "output_type": "execute_result"
    }
   ],
   "source": [
    "# Encodage de la variable catégorique Sex\n",
    "le_gender = LabelEncoder()\n",
    "data['binary_gender'] = le_gender.fit_transform(data['Sex'])\n",
    "data.head(5)"
   ]
  },
  {
   "cell_type": "code",
   "execution_count": 4,
   "metadata": {
    "scrolled": true
   },
   "outputs": [
    {
     "name": "stdout",
     "output_type": "stream",
     "text": [
      "X: [[ 3.     22.      1.      0.      7.25    1.    ]\n",
      " [ 1.     38.      1.      0.     71.2833  0.    ]\n",
      " [ 3.     26.      0.      0.      7.925   0.    ]\n",
      " [ 1.     35.      1.      0.     53.1     0.    ]\n",
      " [ 3.     35.      0.      0.      8.05    1.    ]]\n",
      "y: [0 1 1 1 0]\n"
     ]
    }
   ],
   "source": [
    "# Création de la la matrice X et du vecteur y\n",
    "selected_features = ['Pclass', 'Age', 'SibSp', 'Parch', 'Fare', 'binary_gender']\n",
    "X = data[selected_features].fillna(0).values  # les valeurs nulles sont remplacées par 0\n",
    "y = data['Survived'].values\n",
    "print(f\"X: {X[:5]}\")\n",
    "print(f\"y: {y[:5]}\")"
   ]
  },
  {
   "cell_type": "markdown",
   "metadata": {},
   "source": [
    "## Bloc 3: modèles et entraînement"
   ]
  },
  {
   "cell_type": "code",
   "execution_count": 5,
   "metadata": {
    "colab": {},
    "colab_type": "code",
    "id": "CPjR8_ixT7eE"
   },
   "outputs": [
    {
     "name": "stdout",
     "output_type": "stream",
     "text": [
      "Nombre d'observations pour l'entraînement: 668\n",
      "Nombre d'observations pour l'évaluation: 223\n"
     ]
    }
   ],
   "source": [
    "# Séparation des données pour l'entraînement et la validation (75%/25% par défaut)\n",
    "X_train, X_test, y_train, y_test = train_test_split(X, y, random_state=0)\n",
    "print(f\"Nombre d'observations pour l'entraînement: {X_train.shape[0]}\")\n",
    "print(f\"Nombre d'observations pour l'évaluation: {X_test.shape[0]}\")"
   ]
  },
  {
   "cell_type": "markdown",
   "metadata": {
    "colab_type": "text",
    "id": "nW4EUgJwT7eK"
   },
   "source": [
    "### Modèle de régression logistique"
   ]
  },
  {
   "cell_type": "code",
   "execution_count": 6,
   "metadata": {
    "colab": {},
    "colab_type": "code",
    "id": "tdgpQ-FpT7eM"
   },
   "outputs": [],
   "source": [
    "# Entraînement de la régression logistique\n",
    "logreg = LogisticRegression(random_state=0).fit(X_train, y_train)"
   ]
  },
  {
   "cell_type": "markdown",
   "metadata": {},
   "source": [
    "#### Description du modèle"
   ]
  },
  {
   "cell_type": "code",
   "execution_count": 7,
   "metadata": {},
   "outputs": [
    {
     "name": "stdout",
     "output_type": "stream",
     "text": [
      "Biais: 3.601\n",
      "Coefficients: {'Pclass': '-0.882', 'Age': '-0.016', 'SibSp': '-0.316', 'Parch': '0.001', 'Fare': '0.002', 'binary_gender': '-2.594'}\n"
     ]
    }
   ],
   "source": [
    "print(f\"Biais: {logreg.intercept_[0]:.3f}\")\n",
    "coefs = {k: f\"{v:.3f}\" for k, v in zip(selected_features, logreg.coef_[0])}\n",
    "print(f\"Coefficients: {coefs}\")"
   ]
  },
  {
   "cell_type": "markdown",
   "metadata": {
    "colab_type": "text",
    "id": "BmPRTLlhT7eP"
   },
   "source": [
    "### Modèle d'arbre de décision"
   ]
  },
  {
   "cell_type": "code",
   "execution_count": 8,
   "metadata": {
    "colab": {},
    "colab_type": "code",
    "id": "uzn50yghT7eQ"
   },
   "outputs": [],
   "source": [
    "# Entraînement de l'arbre de décision\n",
    "tree = DecisionTreeClassifier(random_state=0).fit(X_train, y_train)"
   ]
  },
  {
   "cell_type": "markdown",
   "metadata": {
    "colab_type": "text",
    "id": "roIZWtfFT7eT"
   },
   "source": [
    "#### Exploration de l'arbre et de l'importance des caractéristiques"
   ]
  },
  {
   "cell_type": "code",
   "execution_count": 9,
   "metadata": {
    "colab": {},
    "colab_type": "code",
    "id": "Zz7DBcXOT7eY"
   },
   "outputs": [
    {
     "name": "stdout",
     "output_type": "stream",
     "text": [
      "Nombre de feuilles: 162\n"
     ]
    },
    {
     "data": {
      "image/png": "[encoded data removed]",
      "text/plain": [
       "<Figure size 864x864 with 1 Axes>"
      ]
     },
     "metadata": {
      "needs_background": "light"
     },
     "output_type": "display_data"
    }
   ],
   "source": [
    "plt.figure(figsize=(12,12))\n",
    "plot_tree(tree, feature_names=selected_features, fontsize=10, max_depth=2)\n",
    "print(f\"Nombre de feuilles: {tree.get_n_leaves()}\")\n",
    "# Pour d'autres visualisation d'arbres, je vous conseille de regarder la librairie dtreeviz\n",
    "# https://github.com/parrt/dtreeviz"
   ]
  },
  {
   "cell_type": "code",
   "execution_count": 10,
   "metadata": {},
   "outputs": [
    {
     "name": "stdout",
     "output_type": "stream",
     "text": [
      "{'Pclass': '0.084', 'Age': '0.221', 'SibSp': '0.027', 'Parch': '0.045', 'Fare': '0.307', 'binary_gender': '0.315'}\n"
     ]
    }
   ],
   "source": [
    "print({k: f\"{v:.3f}\" for k, v in zip(selected_features, tree.feature_importances_)})"
   ]
  },
  {
   "cell_type": "markdown",
   "metadata": {
    "colab_type": "text",
    "id": "eL46LUDZT7eh"
   },
   "source": [
    "## Bloc 4: évaluation\n",
    "Calcul de la justesse des modèles (régression logistique ou arbre de décision)"
   ]
  },
  {
   "cell_type": "code",
   "execution_count": 11,
   "metadata": {
    "colab": {},
    "colab_type": "code",
    "id": "BMWABCrCT7ej"
   },
   "outputs": [
    {
     "name": "stdout",
     "output_type": "stream",
     "text": [
      "**Régression logistique**\n",
      "Justesse (entraînement): 0.786\n",
      "Justesse (test): 0.789\n",
      "\n",
      "**Arbre de décision**\n",
      "Justesse (entraînement): 0.981\n",
      "Justesse (test): 0.803\n"
     ]
    }
   ],
   "source": [
    "# Affichage des résultats\n",
    "print(\"**Régression logistique**\")\n",
    "print(f\"Justesse (entraînement): {logreg.score(X_train, y_train):.3f}\")  # accuracy\n",
    "print(f\"Justesse (test): {logreg.score(X_test, y_test):.3f}\")  # accuracy\n",
    "\n",
    "print(\"\\n**Arbre de décision**\")\n",
    "print(f\"Justesse (entraînement): {tree.score(X_train, y_train):.3f}\")  # accuracy\n",
    "print(f\"Justesse (test): {tree.score(X_test, y_test):.3f}\")  # accuracy\n"
   ]
  },
  {
   "cell_type": "markdown",
   "metadata": {},
   "source": [
    "Il est aussi possible de tester différentes configurations de modèles avec une boucle. On remarque ici que le meilleur modèle de régression logistique utilise `C=10` et que le meilleur modèle d'arbre de décision utilise `max_depth=5`."
   ]
  },
  {
   "cell_type": "code",
   "execution_count": 12,
   "metadata": {},
   "outputs": [
    {
     "name": "stdout",
     "output_type": "stream",
     "text": [
      "\n",
      "**Régression logistique (C=0.001)**\n",
      "Justesse (entraînement): 0.672\n",
      "Justesse (test): 0.700\n",
      "\n",
      "**Régression logistique (C=0.01)**\n",
      "Justesse (entraînement): 0.720\n",
      "Justesse (test): 0.749\n",
      "\n",
      "**Régression logistique (C=1)**\n",
      "Justesse (entraînement): 0.786\n",
      "Justesse (test): 0.789\n",
      "\n",
      "**Régression logistique (C=10)**\n",
      "Justesse (entraînement): 0.786\n",
      "Justesse (test): 0.794\n"
     ]
    }
   ],
   "source": [
    "for C in [0.001, 0.01, 1, 10]:\n",
    "    logreg_new = LogisticRegression(random_state=0, C=C).fit(X_train, y_train)\n",
    "    print(f\"\\n**Régression logistique (C={C})**\")\n",
    "    print(f\"Justesse (entraînement): {logreg_new.score(X_train, y_train):.3f}\")  # accuracy\n",
    "    print(f\"Justesse (test): {logreg_new.score(X_test, y_test):.3f}\")  # accuracy"
   ]
  },
  {
   "cell_type": "code",
   "execution_count": 13,
   "metadata": {},
   "outputs": [
    {
     "name": "stdout",
     "output_type": "stream",
     "text": [
      "\n",
      "**Arbre de décision (max_leaf_nodes=10)**\n",
      "Nombre de feuilles: 10\n",
      "Justesse (entraînement): 0.844\n",
      "Justesse (test): 0.830\n",
      "\n",
      "**Arbre de décision (max_leaf_nodes=20)**\n",
      "Nombre de feuilles: 20\n",
      "Justesse (entraînement): 0.853\n",
      "Justesse (test): 0.825\n",
      "\n",
      "**Arbre de décision (max_leaf_nodes=28)**\n",
      "Nombre de feuilles: 28\n",
      "Justesse (entraînement): 0.879\n",
      "Justesse (test): 0.852\n",
      "\n",
      "**Arbre de décision (max_leaf_nodes=30)**\n",
      "Nombre de feuilles: 30\n",
      "Justesse (entraînement): 0.882\n",
      "Justesse (test): 0.848\n",
      "\n",
      "**Arbre de décision (max_leaf_nodes=40)**\n",
      "Nombre de feuilles: 40\n",
      "Justesse (entraînement): 0.900\n",
      "Justesse (test): 0.843\n"
     ]
    }
   ],
   "source": [
    "for max_leaf_nodes in [10, 20, 28, 30, 40]:\n",
    "    tree_new = DecisionTreeClassifier(random_state=0, max_leaf_nodes=max_leaf_nodes).fit(\n",
    "        X_train, y_train)\n",
    "    print(f\"\\n**Arbre de décision (max_leaf_nodes={max_leaf_nodes})**\")\n",
    "    print(f\"Nombre de feuilles: {tree_new.get_n_leaves()}\")\n",
    "    print(f\"Justesse (entraînement): {tree_new.score(X_train, y_train):.3f}\")  # accuracy\n",
    "    print(f\"Justesse (test): {tree_new.score(X_test, y_test):.3f}\")  # accuracy"
   ]
  },
  {
   "cell_type": "markdown",
   "metadata": {},
   "source": [
    "## Bloc 5: prédiction sur des nouvelles données"
   ]
  },
  {
   "cell_type": "code",
   "execution_count": 14,
   "metadata": {},
   "outputs": [
    {
     "name": "stdout",
     "output_type": "stream",
     "text": [
      "**Régression logistique**\n",
      "Justesse (entraînement): 0.787\n",
      "Justesse (test): 0.794\n",
      "Justesse (tout): 0.789\n",
      "\n",
      "**Arbre de décision**\n",
      "Justesse (entraînement): 0.871\n",
      "Justesse (test): 0.883\n",
      "Justesse (tout): 0.874\n",
      "\n",
      "**Nouvelles données**\n",
      "Jack: [3.0, 19.0, 0.0, 0.0, 5.0, 1.0]\n",
      "Rose: [1.0, 17.0, 1.0, 2.0, 100.0, 0.0]\n",
      "\n",
      "**Prédiction de la survie avec la régression logistique**\n",
      "Jack: probabilité de survie=0.108; classe prédite=0\n",
      "Rose: probabilité de survie=0.926; classe prédite=1\n",
      "\n",
      "**Prédiction de la survie avec l'arbre de décision**\n",
      "Jack: probabilité de survie=0.103; classe prédite=0\n",
      "Rose: probabilité de survie=0.947; classe prédite=1\n"
     ]
    }
   ],
   "source": [
    "# Réentraînement avec toutes les données\n",
    "logreg = LogisticRegression(random_state=0, C=10).fit(X, y)\n",
    "print(\"**Régression logistique**\")\n",
    "print(f\"Justesse (entraînement): {logreg.score(X_train, y_train):.3f}\")  # accuracy\n",
    "print(f\"Justesse (test): {logreg.score(X_test, y_test):.3f}\")  # accuracy\n",
    "print(f\"Justesse (tout): {logreg.score(X, y):.3f}\")  # accuracy\n",
    "\n",
    "tree = DecisionTreeClassifier(random_state=0, max_leaf_nodes=28).fit(X, y)\n",
    "print(\"\\n**Arbre de décision**\")\n",
    "print(f\"Justesse (entraînement): {tree.score(X_train, y_train):.3f}\")  # accuracy\n",
    "print(f\"Justesse (test): {tree.score(X_test, y_test):.3f}\")  # accuracy\n",
    "print(f\"Justesse (tout): {tree.score(X, y):.3f}\")  # accuracy\n",
    "\n",
    "#Note: caractéristiques = ['Pclass','Age', 'SibSp', 'Parch', 'Fare','binary_gender']\n",
    "jack = [3., 19., 0., 0., 5.0, 1.0]\n",
    "rose = [1., 17., 1., 2., 100.0, 0.0]\n",
    "\n",
    "print(\"\\n**Nouvelles données**\")\n",
    "print(f\"Jack: {jack}\")\n",
    "print(f\"Rose: {rose}\")\n",
    "\n",
    "# Prédiction de la survie avec la régression logistique\n",
    "survivor_proba = logreg.predict_proba([jack, rose])\n",
    "survivor_predict = logreg.predict([jack, rose])\n",
    "print(\"\\n**Prédiction de la survie avec la régression logistique**\")\n",
    "print(f\"Jack: probabilité de survie={survivor_proba[0][1]:.3f}; classe prédite={survivor_predict[0]}\")\n",
    "print(f\"Rose: probabilité de survie={survivor_proba[1][1]:.3f}; classe prédite={survivor_predict[1]}\")\n",
    "\n",
    "# Prédiction de la survie avec l'arbre de décision\n",
    "survivor_proba = tree.predict_proba([jack, rose])\n",
    "survivor_predict = tree.predict([jack, rose])\n",
    "print(\"\\n**Prédiction de la survie avec l'arbre de décision**\")\n",
    "print(f\"Jack: probabilité de survie={survivor_proba[0][1]:.3f}; classe prédite={survivor_predict[0]}\")\n",
    "print(f\"Rose: probabilité de survie={survivor_proba[1][1]:.3f}; classe prédite={survivor_predict[1]}\")"
   ]
  },
  {
   "cell_type": "code",
   "execution_count": null,
   "metadata": {},
   "outputs": [],
   "source": []
  }
 ],
 "metadata": {
  "colab": {
   "collapsed_sections": [],
   "name": "S7_Demo2_Titanic.ipynb",
   "provenance": []
  },
  "kernelspec": {
   "display_name": "Python 3 (ipykernel)",
   "language": "python",
   "name": "python3"
  },
  "language_info": {
   "codemirror_mode": {
    "name": "ipython",
    "version": 3
   },
   "file_extension": ".py",
   "mimetype": "text/x-python",
   "name": "python",
   "nbconvert_exporter": "python",
   "pygments_lexer": "ipython3",
   "version": "3.8.8"
  },
  "toc": {
   "base_numbering": 1,
   "nav_menu": {},
   "number_sections": true,
   "sideBar": true,
   "skip_h1_title": false,
   "title_cell": "Table of Contents",
   "title_sidebar": "Contents",
   "toc_cell": false,
   "toc_position": {},
   "toc_section_display": true,
   "toc_window_display": false
  },
  "varInspector": {
   "cols": {
    "lenName": 16,
    "lenType": 16,
    "lenVar": 40
   },
   "kernels_config": {
    "python": {
     "delete_cmd_postfix": "",
     "delete_cmd_prefix": "del ",
     "library": "var_list.py",
     "varRefreshCmd": "print(var_dic_list())"
    },
    "r": {
     "delete_cmd_postfix": ") ",
     "delete_cmd_prefix": "rm(",
     "library": "var_list.r",
     "varRefreshCmd": "cat(var_dic_list()) "
    }
   },
   "types_to_exclude": [
    "module",
    "function",
    "builtin_function_or_method",
    "instance",
    "_Feature"
   ],
   "window_display": false
  }
 },
 "nbformat": 4,
 "nbformat_minor": 1
}
