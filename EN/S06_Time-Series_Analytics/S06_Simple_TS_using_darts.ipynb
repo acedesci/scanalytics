{
  "nbformat": 4,
  "nbformat_minor": 0,
  "metadata": {
    "colab": {
      "provenance": [],
      "authorship_tag": "ABX9TyMmfXtL/wRmyHwF3b/TLNv4",
      "include_colab_link": true
    },
    "kernelspec": {
      "name": "python3",
      "display_name": "Python 3"
    },
    "language_info": {
      "name": "python"
    }
  },
  "cells": [
    {
      "cell_type": "markdown",
      "metadata": {
        "id": "view-in-github",
        "colab_type": "text"
      },
      "source": [
        "<a href=\"https://colab.research.google.com/github/acedesci/scanalytics/blob/master/EN/S06_Time-Series_Analytics/S06_Simple_TS_using_darts.ipynb\" target=\"_parent\"><img src=\"https://colab.research.google.com/assets/colab-badge.svg\" alt=\"Open In Colab\"/></a>"
      ]
    },
    {
      "cell_type": "markdown",
      "source": [
        "# S06 Simple time-series forecast and evaluation using darts"
      ],
      "metadata": {
        "id": "nk1RQH9ZoLMS"
      }
    },
    {
      "cell_type": "markdown",
      "source": [
        "### Introduction\n",
        "\n",
        "Time series demand forecasting is crucial for effective supply chain management. With accurate demand forecasts, businesses can optimize inventory, improve demand planning, enhance sales forecasting, and mitigate supply chain risks.\n",
        "\n",
        "With recent development in Python and opensources, there are many simple-to-use packages such as [statsmodels](https://www.statsmodels.org/stable/index.html) (mainly for statistical techniques), [Prophet (by Facebook)](https://facebook.github.io/prophet/), [GluonTS (by Amazon)] (https://ts.gluon.ai/stable/), and many other libraries. Most libraries require a specific (but similar) data input format and processes. Thus, the most important step to use such packages is to prepare the data in the right format.\n",
        "\n",
        "There are also opensource libaries that are built upon many time-series forecasting packages and provide interfaces to many time-series algorithms such as [sktime](https://www.sktime.net/en/latest/index.html) and [darts](https://unit8co.github.io/darts/). These time-series forecasting interfaces greatly simplify forecasting with its intuitive API and diverse range of models, including classical statistical methods and modern machine learning approaches including deep-learning-based models.\n",
        "\n",
        "In this notebook, we will provide a simple walkthrough to the time-series analysis using darts. There is also a demo that provides more comprehensive pipelines of the forecasting processes."
      ],
      "metadata": {
        "id": "5YfdPZHsh0_I"
      }
    },
    {
      "cell_type": "markdown",
      "source": [
        "First of all, an installation of `dart` is mandatory since it is not included in Colab by default."
      ],
      "metadata": {
        "id": "Kw2VhJBniX9k"
      }
    },
    {
      "cell_type": "code",
      "source": [
        "!pip install darts"
      ],
      "metadata": {
        "id": "tHBIRFGLiV15"
      },
      "execution_count": null,
      "outputs": []
    },
    {
      "cell_type": "markdown",
      "source": [
        "### **Step 1**: Load data\n",
        "\n",
        "In order to use `darts`, it requires a specific object called `TimeSeries`. This is basically very similar to `DataFrame` in the time-series format and we can simply pass the time-series in the Series or DataFrame format to create the `TimeSeries` object for `darts`. **IMPORTANT**: The index of the Series or DataFrame prior to conversion must be in `datetime` format (i.e., using the function `pd.to_datetime(...)`)"
      ],
      "metadata": {
        "id": "yacXcJKQjYKp"
      }
    },
    {
      "cell_type": "code",
      "execution_count": 2,
      "metadata": {
        "id": "8eXSlmoYhhmF"
      },
      "outputs": [],
      "source": [
        "# simple Python code for time-series using darts\n",
        "\n",
        "import pandas as pd\n",
        "import darts\n",
        "\n",
        "data = pd.read_csv('https://bit.ly/m5simple', index_col='ds')\n",
        "data.index = pd.to_datetime(data.index)\n",
        "\n",
        "y_timeseries = darts.TimeSeries.from_series(data['y'])"
      ]
    },
    {
      "cell_type": "markdown",
      "source": [
        "### **Step 2**: Train/test split\n",
        "\n",
        "We then split the time-series data into the training set and test set. The test set contains the last 52 data points whereas the training set contains all the data from the beginning until the period preceeding the test set."
      ],
      "metadata": {
        "id": "JpfEC3l2jHvU"
      }
    },
    {
      "cell_type": "code",
      "source": [
        "test_n_points = 52\n",
        "\n",
        "start = len(data)-test_n_points\n",
        "train, test = y_timeseries.split_before(start)"
      ],
      "metadata": {
        "id": "Gpjx1GpxjE1M"
      },
      "execution_count": 3,
      "outputs": []
    },
    {
      "cell_type": "markdown",
      "source": [
        "### **Step 3**: Train the model\n",
        "\n",
        "Similar to `sklearn`, we can simply create a model object and fit the data to the model. In the following block, we provide examples of different time-series models and you can choose one to try. Then the function `.fit(...)` is used to fit the data to the model (training).\n",
        "\n",
        "The list of the models supported by `darts` is available here:\n",
        "https://unit8co.github.io/darts/generated_api/darts.models.forecasting.html"
      ],
      "metadata": {
        "id": "hbaMYfRsj9SM"
      }
    },
    {
      "cell_type": "code",
      "source": [
        "from darts.models import ExponentialSmoothing, AutoARIMA, Theta, Prophet, Croston, NBEATSModel\n",
        "\n",
        "model = ExponentialSmoothing()\n",
        "# model = AutoARIMA()\n",
        "# model = Theta()\n",
        "# model = Prophet()\n",
        "# model = Croston()\n",
        "# model = NBEATSModel(input_chunk_length=52, output_chunk_length=52, n_epochs=50)\n",
        "\n",
        "model.fit(train)"
      ],
      "metadata": {
        "id": "wFXdvYOPituc",
        "outputId": "05532cd8-01be-4297-c874-b496a410e116",
        "colab": {
          "base_uri": "https://localhost:8080/"
        }
      },
      "execution_count": 4,
      "outputs": [
        {
          "output_type": "stream",
          "name": "stderr",
          "text": [
            "/usr/local/lib/python3.11/dist-packages/dask/dataframe/__init__.py:42: FutureWarning: \n",
            "Dask dataframe query planning is disabled because dask-expr is not installed.\n",
            "\n",
            "You can install it with `pip install dask[dataframe]` or `conda install dask`.\n",
            "This will raise in a future version.\n",
            "\n",
            "  warnings.warn(msg, FutureWarning)\n"
          ]
        },
        {
          "output_type": "execute_result",
          "data": {
            "text/plain": [
              "ExponentialSmoothing(trend=ModelMode.ADDITIVE, damped=False, seasonal=SeasonalityMode.ADDITIVE, seasonal_periods=None, random_state=0, kwargs=None)"
            ]
          },
          "metadata": {},
          "execution_count": 4
        }
      ]
    },
    {
      "cell_type": "markdown",
      "source": [
        "### **Step 4**: Create predictions for the period of the test set.\n",
        "\n",
        "We can then generate the prediction of the following 52 periods, which corresponds to the period in the test set in order to measure the quality of the forecasts on an out-of-sample basis (using test data that has not been included in the training set). We can also convert the output into series (by using `.pd_series()`) or dataframe (by using `.pd_dataframe()`)."
      ],
      "metadata": {
        "id": "bCXiEnVUkfOM"
      }
    },
    {
      "cell_type": "code",
      "source": [
        "forecast = model.predict(len(test))\n",
        "\n",
        "forecast.pd_series()"
      ],
      "metadata": {
        "id": "91hJcvpyka8y",
        "outputId": "f80ab438-bed3-453e-f653-40a217dd37c8",
        "colab": {
          "base_uri": "https://localhost:8080/",
          "height": 1000
        }
      },
      "execution_count": 5,
      "outputs": [
        {
          "output_type": "execute_result",
          "data": {
            "text/plain": [
              "ds\n",
              "2015-05-31    4181.942086\n",
              "2015-06-07    4277.531954\n",
              "2015-06-14    3937.006498\n",
              "2015-06-21    4111.489256\n",
              "2015-06-28    4039.845800\n",
              "2015-07-05    4237.092872\n",
              "2015-07-12    3902.429786\n",
              "2015-07-19    4165.645873\n",
              "2015-07-26    3739.859053\n",
              "2015-08-02    4431.630828\n",
              "2015-08-09    4164.111940\n",
              "2015-08-16    3967.980666\n",
              "2015-08-23    3998.460530\n",
              "2015-08-30    3982.479920\n",
              "2015-09-06    3573.314689\n",
              "2015-09-13    4192.845232\n",
              "2015-09-20    4045.260320\n",
              "2015-09-27    4071.431218\n",
              "2015-10-04    4556.720573\n",
              "2015-10-11    4321.733712\n",
              "2015-10-18    4470.025600\n",
              "2015-10-25    4307.460313\n",
              "2015-11-01    4694.075525\n",
              "2015-11-08    4500.738729\n",
              "2015-11-15    4558.385833\n",
              "2015-11-22    4481.762144\n",
              "2015-11-29    4051.732917\n",
              "2015-12-06    5006.045786\n",
              "2015-12-13    4674.115927\n",
              "2015-12-20    4776.380012\n",
              "2015-12-27    3737.635064\n",
              "2016-01-03    4215.604461\n",
              "2016-01-10    4117.538085\n",
              "2016-01-17    3981.888010\n",
              "2016-01-24    4288.055595\n",
              "2016-01-31    4540.521469\n",
              "2016-02-07    4185.111807\n",
              "2016-02-14    4593.472573\n",
              "2016-02-21    4404.983746\n",
              "2016-02-28    4696.826690\n",
              "2016-03-06    4206.791102\n",
              "2016-03-13    4306.385123\n",
              "2016-03-20    4371.687143\n",
              "2016-03-27    3965.437137\n",
              "2016-04-03    4834.912734\n",
              "2016-04-10    4560.753130\n",
              "2016-04-17    4358.528439\n",
              "2016-04-24    4543.275791\n",
              "2016-05-01    4076.604115\n",
              "2016-05-08    4462.313602\n",
              "2016-05-15    4449.306031\n",
              "2016-05-22    4634.509497\n",
              "Freq: W-SUN, Name: y, dtype: float64"
            ],
            "text/html": [
              "<div>\n",
              "<style scoped>\n",
              "    .dataframe tbody tr th:only-of-type {\n",
              "        vertical-align: middle;\n",
              "    }\n",
              "\n",
              "    .dataframe tbody tr th {\n",
              "        vertical-align: top;\n",
              "    }\n",
              "\n",
              "    .dataframe thead th {\n",
              "        text-align: right;\n",
              "    }\n",
              "</style>\n",
              "<table border=\"1\" class=\"dataframe\">\n",
              "  <thead>\n",
              "    <tr style=\"text-align: right;\">\n",
              "      <th></th>\n",
              "      <th>y</th>\n",
              "    </tr>\n",
              "    <tr>\n",
              "      <th>ds</th>\n",
              "      <th></th>\n",
              "    </tr>\n",
              "  </thead>\n",
              "  <tbody>\n",
              "    <tr>\n",
              "      <th>2015-05-31</th>\n",
              "      <td>4181.942086</td>\n",
              "    </tr>\n",
              "    <tr>\n",
              "      <th>2015-06-07</th>\n",
              "      <td>4277.531954</td>\n",
              "    </tr>\n",
              "    <tr>\n",
              "      <th>2015-06-14</th>\n",
              "      <td>3937.006498</td>\n",
              "    </tr>\n",
              "    <tr>\n",
              "      <th>2015-06-21</th>\n",
              "      <td>4111.489256</td>\n",
              "    </tr>\n",
              "    <tr>\n",
              "      <th>2015-06-28</th>\n",
              "      <td>4039.845800</td>\n",
              "    </tr>\n",
              "    <tr>\n",
              "      <th>2015-07-05</th>\n",
              "      <td>4237.092872</td>\n",
              "    </tr>\n",
              "    <tr>\n",
              "      <th>2015-07-12</th>\n",
              "      <td>3902.429786</td>\n",
              "    </tr>\n",
              "    <tr>\n",
              "      <th>2015-07-19</th>\n",
              "      <td>4165.645873</td>\n",
              "    </tr>\n",
              "    <tr>\n",
              "      <th>2015-07-26</th>\n",
              "      <td>3739.859053</td>\n",
              "    </tr>\n",
              "    <tr>\n",
              "      <th>2015-08-02</th>\n",
              "      <td>4431.630828</td>\n",
              "    </tr>\n",
              "    <tr>\n",
              "      <th>2015-08-09</th>\n",
              "      <td>4164.111940</td>\n",
              "    </tr>\n",
              "    <tr>\n",
              "      <th>2015-08-16</th>\n",
              "      <td>3967.980666</td>\n",
              "    </tr>\n",
              "    <tr>\n",
              "      <th>2015-08-23</th>\n",
              "      <td>3998.460530</td>\n",
              "    </tr>\n",
              "    <tr>\n",
              "      <th>2015-08-30</th>\n",
              "      <td>3982.479920</td>\n",
              "    </tr>\n",
              "    <tr>\n",
              "      <th>2015-09-06</th>\n",
              "      <td>3573.314689</td>\n",
              "    </tr>\n",
              "    <tr>\n",
              "      <th>2015-09-13</th>\n",
              "      <td>4192.845232</td>\n",
              "    </tr>\n",
              "    <tr>\n",
              "      <th>2015-09-20</th>\n",
              "      <td>4045.260320</td>\n",
              "    </tr>\n",
              "    <tr>\n",
              "      <th>2015-09-27</th>\n",
              "      <td>4071.431218</td>\n",
              "    </tr>\n",
              "    <tr>\n",
              "      <th>2015-10-04</th>\n",
              "      <td>4556.720573</td>\n",
              "    </tr>\n",
              "    <tr>\n",
              "      <th>2015-10-11</th>\n",
              "      <td>4321.733712</td>\n",
              "    </tr>\n",
              "    <tr>\n",
              "      <th>2015-10-18</th>\n",
              "      <td>4470.025600</td>\n",
              "    </tr>\n",
              "    <tr>\n",
              "      <th>2015-10-25</th>\n",
              "      <td>4307.460313</td>\n",
              "    </tr>\n",
              "    <tr>\n",
              "      <th>2015-11-01</th>\n",
              "      <td>4694.075525</td>\n",
              "    </tr>\n",
              "    <tr>\n",
              "      <th>2015-11-08</th>\n",
              "      <td>4500.738729</td>\n",
              "    </tr>\n",
              "    <tr>\n",
              "      <th>2015-11-15</th>\n",
              "      <td>4558.385833</td>\n",
              "    </tr>\n",
              "    <tr>\n",
              "      <th>2015-11-22</th>\n",
              "      <td>4481.762144</td>\n",
              "    </tr>\n",
              "    <tr>\n",
              "      <th>2015-11-29</th>\n",
              "      <td>4051.732917</td>\n",
              "    </tr>\n",
              "    <tr>\n",
              "      <th>2015-12-06</th>\n",
              "      <td>5006.045786</td>\n",
              "    </tr>\n",
              "    <tr>\n",
              "      <th>2015-12-13</th>\n",
              "      <td>4674.115927</td>\n",
              "    </tr>\n",
              "    <tr>\n",
              "      <th>2015-12-20</th>\n",
              "      <td>4776.380012</td>\n",
              "    </tr>\n",
              "    <tr>\n",
              "      <th>2015-12-27</th>\n",
              "      <td>3737.635064</td>\n",
              "    </tr>\n",
              "    <tr>\n",
              "      <th>2016-01-03</th>\n",
              "      <td>4215.604461</td>\n",
              "    </tr>\n",
              "    <tr>\n",
              "      <th>2016-01-10</th>\n",
              "      <td>4117.538085</td>\n",
              "    </tr>\n",
              "    <tr>\n",
              "      <th>2016-01-17</th>\n",
              "      <td>3981.888010</td>\n",
              "    </tr>\n",
              "    <tr>\n",
              "      <th>2016-01-24</th>\n",
              "      <td>4288.055595</td>\n",
              "    </tr>\n",
              "    <tr>\n",
              "      <th>2016-01-31</th>\n",
              "      <td>4540.521469</td>\n",
              "    </tr>\n",
              "    <tr>\n",
              "      <th>2016-02-07</th>\n",
              "      <td>4185.111807</td>\n",
              "    </tr>\n",
              "    <tr>\n",
              "      <th>2016-02-14</th>\n",
              "      <td>4593.472573</td>\n",
              "    </tr>\n",
              "    <tr>\n",
              "      <th>2016-02-21</th>\n",
              "      <td>4404.983746</td>\n",
              "    </tr>\n",
              "    <tr>\n",
              "      <th>2016-02-28</th>\n",
              "      <td>4696.826690</td>\n",
              "    </tr>\n",
              "    <tr>\n",
              "      <th>2016-03-06</th>\n",
              "      <td>4206.791102</td>\n",
              "    </tr>\n",
              "    <tr>\n",
              "      <th>2016-03-13</th>\n",
              "      <td>4306.385123</td>\n",
              "    </tr>\n",
              "    <tr>\n",
              "      <th>2016-03-20</th>\n",
              "      <td>4371.687143</td>\n",
              "    </tr>\n",
              "    <tr>\n",
              "      <th>2016-03-27</th>\n",
              "      <td>3965.437137</td>\n",
              "    </tr>\n",
              "    <tr>\n",
              "      <th>2016-04-03</th>\n",
              "      <td>4834.912734</td>\n",
              "    </tr>\n",
              "    <tr>\n",
              "      <th>2016-04-10</th>\n",
              "      <td>4560.753130</td>\n",
              "    </tr>\n",
              "    <tr>\n",
              "      <th>2016-04-17</th>\n",
              "      <td>4358.528439</td>\n",
              "    </tr>\n",
              "    <tr>\n",
              "      <th>2016-04-24</th>\n",
              "      <td>4543.275791</td>\n",
              "    </tr>\n",
              "    <tr>\n",
              "      <th>2016-05-01</th>\n",
              "      <td>4076.604115</td>\n",
              "    </tr>\n",
              "    <tr>\n",
              "      <th>2016-05-08</th>\n",
              "      <td>4462.313602</td>\n",
              "    </tr>\n",
              "    <tr>\n",
              "      <th>2016-05-15</th>\n",
              "      <td>4449.306031</td>\n",
              "    </tr>\n",
              "    <tr>\n",
              "      <th>2016-05-22</th>\n",
              "      <td>4634.509497</td>\n",
              "    </tr>\n",
              "  </tbody>\n",
              "</table>\n",
              "</div><br><label><b>dtype:</b> float64</label>"
            ]
          },
          "metadata": {},
          "execution_count": 5
        }
      ]
    },
    {
      "cell_type": "markdown",
      "source": [
        "### **Step 5**: Measure the forecasting errors.\n",
        "\n",
        "We measure the results using five different error measures, i.e., Mean Absolute Percentage Error (MAPE) using the function `mape()`, Symmetric Mean Absolute Percentage Error (sMAPE)using the function `smape()`, Root Mean Squared Scaled Error (RMSSE) using the function `rmsse()`, Root Mean Squared Error (RMSE) using the function `rmse()`, and Mean Error (ME) using the function `merr()`."
      ],
      "metadata": {
        "id": "wkR3gtsDlQEV"
      }
    },
    {
      "cell_type": "code",
      "source": [
        "m_mape = darts.metrics.mape(test, forecast)\n",
        "m_smape = darts.metrics.smape(test, forecast)\n",
        "m_rmsse = darts.metrics.rmsse(test, forecast, insample = train)\n",
        "m_rmse = darts.metrics.rmse(test, forecast)\n",
        "m_merr = darts.metrics.merr(test, forecast)\n",
        "\n",
        "\n",
        "print(f\"The model obtains Mean Absolute Percentage Error: {m_mape:.2f}%\")\n",
        "print(f\"The model obtains Symmetric Mean Absolute Percentage Error: {m_smape:.2f}%\")\n",
        "print(f\"The model obtains Root Mean Squared Scaled Error: {m_rmsse:.2f}\")\n",
        "print(f\"The model obtains Root Mean Squared Error: {m_rmse:.2f}\")\n",
        "print(f\"The model obtains Mean Error: {m_merr:.2f}\")"
      ],
      "metadata": {
        "id": "4pXPWk6_lPeB",
        "outputId": "3bd8a39e-2951-43cf-bdec-fc59b37eb2ec",
        "colab": {
          "base_uri": "https://localhost:8080/"
        }
      },
      "execution_count": 6,
      "outputs": [
        {
          "output_type": "stream",
          "name": "stdout",
          "text": [
            "The model obtains Mean Absolute Percentage Error: 13.55%\n",
            "The model obtains Symmetric Mean Absolute Percentage Error: 12.45%\n",
            "The model obtains Root Mean Squared Scaled Error: 1.27\n",
            "The model obtains Root Mean Squared Error: 576.45\n",
            "The model obtains Mean Error: -478.49\n"
          ]
        }
      ]
    },
    {
      "cell_type": "markdown",
      "source": [
        "You can also plot the results using `seaborn`"
      ],
      "metadata": {
        "id": "YMiMzrzsnben"
      }
    },
    {
      "cell_type": "code",
      "source": [
        "import seaborn as sns\n",
        "import matplotlib.pyplot as plt\n",
        "\n",
        "plt.figure(figsize=(18,6))\n",
        "\n",
        "sns.scatterplot(x = data[-104:].index, y = data['y'][-104:].values, label = 'true')\n",
        "sns.lineplot(data = forecast.pd_series(), label = 'Forecast')"
      ],
      "metadata": {
        "id": "1U5FitiUnXCR",
        "outputId": "3f02f39a-1c20-4d35-b5a7-5129a075187e",
        "colab": {
          "base_uri": "https://localhost:8080/",
          "height": 503
        }
      },
      "execution_count": 7,
      "outputs": [
        {
          "output_type": "execute_result",
          "data": {
            "text/plain": [
              "<Axes: xlabel='ds', ylabel='y'>"
            ]
          },
          "metadata": {},
          "execution_count": 7
        },
        {
          "output_type": "display_data",
          "data": {
            "text/plain": [
              "<Figure size 1800x600 with 1 Axes>"
            ],
            "image/png": "[encoded data removed]"
          },
          "metadata": {}
        }
      ]
    }
  ]
}