{
  "nbformat": 4,
  "nbformat_minor": 0,
  "metadata": {
    "kernelspec": {
      "display_name": "Python 3",
      "language": "python",
      "name": "python3"
    },
    "language_info": {
      "codemirror_mode": {
        "name": "ipython",
        "version": 3
      },
      "file_extension": ".py",
      "mimetype": "text/x-python",
      "name": "python",
      "nbconvert_exporter": "python",
      "pygments_lexer": "ipython3",
      "version": "3.7.6"
    },
    "colab": {
      "name": "S4_InClass_Exercises_Data_Structures_II.ipynb",
      "provenance": [],
      "include_colab_link": true
    }
  },
  "cells": [
    {
      "cell_type": "markdown",
      "metadata": {
        "id": "view-in-github",
        "colab_type": "text"
      },
      "source": [
        "<a href=\"https://colab.research.google.com/github/acedesci/scanalytics/blob/master/S04_Data_Structures_2/S4_InClass_Exercises_Data_Structures_II.ipynb\" target=\"_parent\"><img src=\"https://colab.research.google.com/assets/colab-badge.svg\" alt=\"Open In Colab\"/></a>"
      ]
    },
    {
      "cell_type": "markdown",
      "metadata": {
        "id": "orA_0s_Vpo62"
      },
      "source": [
        "# S4 - In-class Exercises: Python Data Structures II and SCM examples\n",
        "\n",
        "---\n",
        "## Instructions:\n",
        "Most of the exercises presented here allows you to practice basic Python programming for some applications in Operations Management and Logistics.\n",
        "\n",
        "For each exercise, you have a code cell for the response underneath it, where you should write your answer between the lines containing `### start your code here ###` and `### end your code here ###`. Your code can contain one or more lines and you can execute this cell in order to complete the exercise. To execute the cell, you can type `Shift+Enter` or press the play button in the toolbar above. Your results will appear right below this response cell.\n",
        "\n",
        "NOTE: Please pay attention to the variable name of the output you would need to provide under each question. You must use the same variable name for the output so that the result can be printed out correctly."
      ]
    },
    {
      "cell_type": "markdown",
      "metadata": {
        "id": "S6TfdlB1po7D"
      },
      "source": [
        "---\n",
        "## Computing total costs and analyzing different inventory policies\n",
        "In this exercise, you will use pandas library to compare two different inventory policies, compute the their corresponding total costs and selecting the most economical policy.\n",
        "\n",
        "\n",
        "### Prerequisite: Reading data\n",
        "Import the pandas library under the alias `pd`. Import the csv file `InvPolicies.csv` into a `DataFrame`, and select the first column named `'Period'` as the index of the `DataFrame`. Then display the first 10 rows of your `DataFrame`.\n",
        "\n",
        "**Hint:** you can define the index column of the `DataFrame` using the `index_col` parameter of the `.read_csv()` function. Check [this page](https://pandas.pydata.org/pandas-docs/stable/reference/api/pandas.read_csv.html) for more information."
      ]
    },
    {
      "cell_type": "code",
      "metadata": {
        "id": "w22RdAshpo7E"
      },
      "source": [
        "import pandas as pd\n",
        "url = 'https://raw.githubusercontent.com/acedesci/scanalytics/master/S04_Data_Structures_2/InvPolicy.csv'\n",
        "df_inv = pd.read_csv(url, index_col='Week')\n",
        "df_inv.head(10)"
      ],
      "execution_count": null,
      "outputs": []
    },
    {
      "cell_type": "markdown",
      "metadata": {
        "id": "y4pRAR0gpo7F"
      },
      "source": [
        "You can see that, similar to the exercise in class, the imported data present a demand scenario for the next 52 weeks, and the following data for two different inventory policies: the inventory level at the beginning of each period, the amount received at the beginning of each period, the inventory level at the end of each period and the ordered quantity at each period. "
      ]
    },
    {
      "cell_type": "markdown",
      "metadata": {
        "id": "G5KhAZ9spo7G"
      },
      "source": [
        "---\n",
        "### Exercise 1: Descriptive analysis\n",
        "Let's analyse a bit our data. As an exploratory analysis, for each of the two inventory policies `P1` and `P2`, please compute the following values and print the results. If the number is fractional, please print it in two-digit format.\n",
        "\n",
        "* *Average physical inventory*. This is an average ending inventory but consider the minimum inventory is at zero. The inventory when a backlog occurs which is represented by a negative inventory is considered zero.\n",
        "* *Number of periods with shortage/backlog*\n",
        "* *Number of orders under each policy*\n",
        "* *Average order quantity under each policy* when an order is placed\n",
        "\n",
        "**Hint:** If you want to set a lower/upper bound for the values in a column or DataFrame. You can consider using `df.clip(...)` function to assign a minimum or maximum value to the column. See [link](https://www.w3resource.com/pandas/dataframe/dataframe-clip.php)"
      ]
    },
    {
      "cell_type": "code",
      "metadata": {
        "id": "dXZYCK_rKI-i"
      },
      "source": [
        "### start your code here ###\r\n",
        "\r\n",
        "### start your code here ###\r\n"
      ],
      "execution_count": null,
      "outputs": []
    },
    {
      "cell_type": "markdown",
      "metadata": {
        "id": "hrZW9L1spo7J"
      },
      "source": [
        "---\n",
        "### Exercise 2: Visualizing inventory levels\n",
        "Create graphs to visualize the ending inventory levels (columns `['P1_Ending_Inv', 'P2_Ending_Inv']` of the first 36 weeks under each policy using (i) a bar plot with the size `figsize = (12,4)`, (ii) a box plot (`kind = 'box'`), and (iii) Probability density plot (`kind = 'density'`). See [link](https://pandas.pydata.org/pandas-docs/stable/reference/api/pandas.DataFrame.plot.html)"
      ]
    },
    {
      "cell_type": "code",
      "metadata": {
        "id": "R2YtOjaupo7J"
      },
      "source": [
        "### start your code here ###\n",
        "\n",
        "### end your code here ###"
      ],
      "execution_count": null,
      "outputs": []
    },
    {
      "cell_type": "markdown",
      "metadata": {
        "id": "cVlpLsg1po7K"
      },
      "source": [
        "---\n",
        "### Exercise 4: Computing inventory management cost for each period\n",
        "In this exercise you will compute the inventory management cost for each inventory policy at each period. The inventory management cost is computed as the sum of the holding cost, shortage cost and ordering cost. The following costs parameters are given:\n",
        "\n",
        "*   `holding_cost`: unit inventory holding cost (\\$ per unit per period)\n",
        "*   `shortage_cost`: unit shortage cost (\\$ per unit of shortage)\n",
        "*   `ordering_cost`: ordering cost (\\$ per order - regardless of the number of units ordered in a order)\n",
        "\n",
        "\n",
        "Please compute the inventory management cost for each period under each policy `P1` and `P2`. Add this new information as new columns of the `DataFrame` named as `P1_Cost` and `P2_Cost`.\n"
      ]
    },
    {
      "cell_type": "code",
      "metadata": {
        "id": "OqGJN4Hw8yTD"
      },
      "source": [
        "holding_cost = 5\r\n",
        "shortage_cost = 15\r\n",
        "ordering_cost = 150"
      ],
      "execution_count": null,
      "outputs": []
    },
    {
      "cell_type": "code",
      "metadata": {
        "id": "2IpphMni8zcJ"
      },
      "source": [
        "### start your code here ###\r\n",
        "\r\n",
        "### end your code here ###\r\n",
        "\r\n",
        "print(\"Total IM cost for P1:$\", df_inv['P1_TotalCost'].sum(),\", Total IM cost for P2:$\", df_inv['P2_TotalCost'].sum())\r\n",
        "df_inv.tail(10)"
      ],
      "execution_count": null,
      "outputs": []
    },
    {
      "cell_type": "code",
      "metadata": {
        "id": "K28siAi-po7M"
      },
      "source": [
        ""
      ],
      "execution_count": null,
      "outputs": []
    }
  ]
}