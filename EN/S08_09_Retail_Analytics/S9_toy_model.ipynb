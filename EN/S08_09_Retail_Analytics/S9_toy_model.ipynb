{
  "nbformat": 4,
  "nbformat_minor": 0,
  "metadata": {
    "colab": {
      "provenance": [],
      "authorship_tag": "ABX9TyNnLqDICWdc1HQH2LL5tF1y",
      "include_colab_link": true
    },
    "kernelspec": {
      "name": "python3",
      "display_name": "Python 3"
    },
    "language_info": {
      "name": "python"
    }
  },
  "cells": [
    {
      "cell_type": "markdown",
      "metadata": {
        "id": "view-in-github",
        "colab_type": "text"
      },
      "source": [
        "<a href=\"https://colab.research.google.com/github/acedesci/scanalytics/blob/master/EN/S08_09_Retail_Analytics/S9_toy_model.ipynb\" target=\"_parent\"><img src=\"https://colab.research.google.com/assets/colab-badge.svg\" alt=\"Open In Colab\"/></a>"
      ]
    },
    {
      "cell_type": "code",
      "execution_count": 1,
      "metadata": {
        "colab": {
          "base_uri": "https://localhost:8080/"
        },
        "id": "rvhYqh1fzFzw",
        "outputId": "5e3424f6-95ed-4ac2-f836-7482eac7affb"
      },
      "outputs": [
        {
          "output_type": "stream",
          "name": "stdout",
          "text": [
            "\u001b[2K     \u001b[90m━━━━━━━━━━━━━━━━━━━━━━━━━━━━━━━━━━━━━━━━\u001b[0m \u001b[32m12.7/12.7 MB\u001b[0m \u001b[31m34.2 MB/s\u001b[0m eta \u001b[36m0:00:00\u001b[0m\n",
            "\u001b[2K     \u001b[90m━━━━━━━━━━━━━━━━━━━━━━━━━━━━━━━━━━━━━━━━\u001b[0m \u001b[32m49.6/49.6 kB\u001b[0m \u001b[31m2.1 MB/s\u001b[0m eta \u001b[36m0:00:00\u001b[0m\n",
            "\u001b[?25hSelecting previously unselected package libsuitesparseconfig5:amd64.\n",
            "(Reading database ... 121752 files and directories currently installed.)\n",
            "Preparing to unpack .../libsuitesparseconfig5_1%3a5.10.1+dfsg-4build1_amd64.deb ...\n",
            "Unpacking libsuitesparseconfig5:amd64 (1:5.10.1+dfsg-4build1) ...\n",
            "Selecting previously unselected package libamd2:amd64.\n",
            "Preparing to unpack .../libamd2_1%3a5.10.1+dfsg-4build1_amd64.deb ...\n",
            "Unpacking libamd2:amd64 (1:5.10.1+dfsg-4build1) ...\n",
            "Selecting previously unselected package libcolamd2:amd64.\n",
            "Preparing to unpack .../libcolamd2_1%3a5.10.1+dfsg-4build1_amd64.deb ...\n",
            "Unpacking libcolamd2:amd64 (1:5.10.1+dfsg-4build1) ...\n",
            "Selecting previously unselected package libglpk40:amd64.\n",
            "Preparing to unpack .../libglpk40_5.0-1_amd64.deb ...\n",
            "Unpacking libglpk40:amd64 (5.0-1) ...\n",
            "Selecting previously unselected package glpk-utils.\n",
            "Preparing to unpack .../glpk-utils_5.0-1_amd64.deb ...\n",
            "Unpacking glpk-utils (5.0-1) ...\n",
            "Setting up libsuitesparseconfig5:amd64 (1:5.10.1+dfsg-4build1) ...\n",
            "Setting up libamd2:amd64 (1:5.10.1+dfsg-4build1) ...\n",
            "Setting up libcolamd2:amd64 (1:5.10.1+dfsg-4build1) ...\n",
            "Setting up libglpk40:amd64 (5.0-1) ...\n",
            "Setting up glpk-utils (5.0-1) ...\n",
            "Processing triggers for man-db (2.10.2-1) ...\n",
            "Processing triggers for libc-bin (2.35-0ubuntu3.4) ...\n",
            "/sbin/ldconfig.real: /usr/local/lib/libtbbbind_2_5.so.3 is not a symbolic link\n",
            "\n",
            "/sbin/ldconfig.real: /usr/local/lib/libtbbbind.so.3 is not a symbolic link\n",
            "\n",
            "/sbin/ldconfig.real: /usr/local/lib/libtbb.so.12 is not a symbolic link\n",
            "\n",
            "/sbin/ldconfig.real: /usr/local/lib/libtbbmalloc_proxy.so.2 is not a symbolic link\n",
            "\n",
            "/sbin/ldconfig.real: /usr/local/lib/libtbbbind_2_0.so.3 is not a symbolic link\n",
            "\n",
            "/sbin/ldconfig.real: /usr/local/lib/libtbbmalloc.so.2 is not a symbolic link\n",
            "\n"
          ]
        }
      ],
      "source": [
        "!pip install -q pyomo\n",
        "!apt-get install -y -qq glpk-utils"
      ]
    },
    {
      "cell_type": "code",
      "source": [
        "from pyomo.environ import *\n",
        "\n",
        "productList = ['X1', 'X2', 'X3']\n",
        "priceList = [24.99, 29.99, 34.99]\n",
        "avgPriceValue = 29.99\n",
        "\n",
        "model = ConcreteModel()\n",
        "# Variables\n",
        "model.x = Var(productList, priceList, within = Binary)\n",
        "model.pprint()"
      ],
      "metadata": {
        "colab": {
          "base_uri": "https://localhost:8080/"
        },
        "id": "G7vXP9IDzJNs",
        "outputId": "8cf93b22-c60a-4f47-92d9-d57d47115840"
      },
      "execution_count": 2,
      "outputs": [
        {
          "output_type": "stream",
          "name": "stdout",
          "text": [
            "1 Var Declarations\n",
            "    x : Size=9, Index={X1, X2, X3}*{24.99, 29.99, 34.99}\n",
            "        Key           : Lower : Value : Upper : Fixed : Stale : Domain\n",
            "        ('X1', 24.99) :     0 :  None :     1 : False :  True : Binary\n",
            "        ('X1', 29.99) :     0 :  None :     1 : False :  True : Binary\n",
            "        ('X1', 34.99) :     0 :  None :     1 : False :  True : Binary\n",
            "        ('X2', 24.99) :     0 :  None :     1 : False :  True : Binary\n",
            "        ('X2', 29.99) :     0 :  None :     1 : False :  True : Binary\n",
            "        ('X2', 34.99) :     0 :  None :     1 : False :  True : Binary\n",
            "        ('X3', 24.99) :     0 :  None :     1 : False :  True : Binary\n",
            "        ('X3', 29.99) :     0 :  None :     1 : False :  True : Binary\n",
            "        ('X3', 34.99) :     0 :  None :     1 : False :  True : Binary\n",
            "\n",
            "1 Declarations: x\n"
          ]
        }
      ]
    },
    {
      "cell_type": "code",
      "source": [
        "# Objective function\n",
        "\n",
        "model.OBJ = Objective(sense = maximize, expr = 2799*model.x[('X1', 24.99)] + 2399*model.x[('X1', 29.99)] + 1680*model.x[('X1', 34.99)]\n",
        "                      + 4573*model.x[('X2', 24.99)] + 4199*model.x[('X2', 29.99)] + 3394*model.x[('X2', 34.99)]\n",
        "                      + 0*model.x[('X3', 24.99)] + 2399*model.x[('X3', 29.99)] + 1225*model.x[('X3', 34.99)])\n",
        "\n",
        "model.pprint()"
      ],
      "metadata": {
        "colab": {
          "base_uri": "https://localhost:8080/"
        },
        "id": "mT4oDWBPz2lv",
        "outputId": "433f2c74-9992-4297-8595-2c4cb9812785"
      },
      "execution_count": 3,
      "outputs": [
        {
          "output_type": "stream",
          "name": "stdout",
          "text": [
            "1 Var Declarations\n",
            "    x : Size=9, Index={X1, X2, X3}*{24.99, 29.99, 34.99}\n",
            "        Key           : Lower : Value : Upper : Fixed : Stale : Domain\n",
            "        ('X1', 24.99) :     0 :  None :     1 : False :  True : Binary\n",
            "        ('X1', 29.99) :     0 :  None :     1 : False :  True : Binary\n",
            "        ('X1', 34.99) :     0 :  None :     1 : False :  True : Binary\n",
            "        ('X2', 24.99) :     0 :  None :     1 : False :  True : Binary\n",
            "        ('X2', 29.99) :     0 :  None :     1 : False :  True : Binary\n",
            "        ('X2', 34.99) :     0 :  None :     1 : False :  True : Binary\n",
            "        ('X3', 24.99) :     0 :  None :     1 : False :  True : Binary\n",
            "        ('X3', 29.99) :     0 :  None :     1 : False :  True : Binary\n",
            "        ('X3', 34.99) :     0 :  None :     1 : False :  True : Binary\n",
            "\n",
            "1 Objective Declarations\n",
            "    OBJ : Size=1, Index=None, Active=True\n",
            "        Key  : Active : Sense    : Expression\n",
            "        None :   True : maximize : 2799*x[X1,24.99] + 2399*x[X1,29.99] + 1680*x[X1,34.99] + 4573*x[X2,24.99] + 4199*x[X2,29.99] + 3394*x[X2,34.99] + 0*x[X3,24.99] + 2399*x[X3,29.99] + 1225*x[X3,34.99]\n",
            "\n",
            "2 Declarations: x OBJ\n"
          ]
        }
      ]
    },
    {
      "cell_type": "code",
      "source": [
        "# Constraints #1\n",
        "model.PriceChoiceUPC1 = Constraint(expr = model.x[('X1', 24.99)] + model.x[('X1', 29.99)] + model.x[('X1', 34.99)] == 1)\n",
        "model.PriceChoiceUPC2 = Constraint(expr = model.x[('X2', 24.99)] + model.x[('X2', 29.99)] + model.x[('X2', 34.99)] == 1)\n",
        "model.PriceChoiceUPC3 = Constraint(expr = model.x[('X3', 24.99)] + model.x[('X3', 29.99)] + model.x[('X3', 34.99)] == 1)\n",
        "model.X3NoPrice = Constraint(expr = model.x[('X3', 24.99)] == 0)\n",
        "\n",
        "model.pprint()"
      ],
      "metadata": {
        "colab": {
          "base_uri": "https://localhost:8080/"
        },
        "id": "eCs8WIqB0pEP",
        "outputId": "585a0c02-c94e-4b90-d414-1531096517c7"
      },
      "execution_count": 4,
      "outputs": [
        {
          "output_type": "stream",
          "name": "stdout",
          "text": [
            "1 Var Declarations\n",
            "    x : Size=9, Index={X1, X2, X3}*{24.99, 29.99, 34.99}\n",
            "        Key           : Lower : Value : Upper : Fixed : Stale : Domain\n",
            "        ('X1', 24.99) :     0 :  None :     1 : False :  True : Binary\n",
            "        ('X1', 29.99) :     0 :  None :     1 : False :  True : Binary\n",
            "        ('X1', 34.99) :     0 :  None :     1 : False :  True : Binary\n",
            "        ('X2', 24.99) :     0 :  None :     1 : False :  True : Binary\n",
            "        ('X2', 29.99) :     0 :  None :     1 : False :  True : Binary\n",
            "        ('X2', 34.99) :     0 :  None :     1 : False :  True : Binary\n",
            "        ('X3', 24.99) :     0 :  None :     1 : False :  True : Binary\n",
            "        ('X3', 29.99) :     0 :  None :     1 : False :  True : Binary\n",
            "        ('X3', 34.99) :     0 :  None :     1 : False :  True : Binary\n",
            "\n",
            "1 Objective Declarations\n",
            "    OBJ : Size=1, Index=None, Active=True\n",
            "        Key  : Active : Sense    : Expression\n",
            "        None :   True : maximize : 2799*x[X1,24.99] + 2399*x[X1,29.99] + 1680*x[X1,34.99] + 4573*x[X2,24.99] + 4199*x[X2,29.99] + 3394*x[X2,34.99] + 0*x[X3,24.99] + 2399*x[X3,29.99] + 1225*x[X3,34.99]\n",
            "\n",
            "4 Constraint Declarations\n",
            "    PriceChoiceUPC1 : Size=1, Index=None, Active=True\n",
            "        Key  : Lower : Body                                    : Upper : Active\n",
            "        None :   1.0 : x[X1,24.99] + x[X1,29.99] + x[X1,34.99] :   1.0 :   True\n",
            "    PriceChoiceUPC2 : Size=1, Index=None, Active=True\n",
            "        Key  : Lower : Body                                    : Upper : Active\n",
            "        None :   1.0 : x[X2,24.99] + x[X2,29.99] + x[X2,34.99] :   1.0 :   True\n",
            "    PriceChoiceUPC3 : Size=1, Index=None, Active=True\n",
            "        Key  : Lower : Body                                    : Upper : Active\n",
            "        None :   1.0 : x[X3,24.99] + x[X3,29.99] + x[X3,34.99] :   1.0 :   True\n",
            "    X3NoPrice : Size=1, Index=None, Active=True\n",
            "        Key  : Lower : Body        : Upper : Active\n",
            "        None :   0.0 : x[X3,24.99] :   0.0 :   True\n",
            "\n",
            "6 Declarations: x OBJ PriceChoiceUPC1 PriceChoiceUPC2 PriceChoiceUPC3 X3NoPrice\n"
          ]
        }
      ]
    },
    {
      "cell_type": "code",
      "source": [
        "# Constraints #2\n",
        "model.sumPrice = Constraint(expr = 24.99*model.x[('X1', 24.99)] + 29.99*model.x[('X1', 29.99)] + 34.99*model.x[('X1', 34.99)]\n",
        "                            + 24.99*model.x[('X2', 24.99)] + 29.99*model.x[('X2', 29.99)] + 34.99*model.x[('X2', 34.99)]\n",
        "                            + 24.99*model.x[('X3', 24.99)] + 29.99*model.x[('X3', 29.99)] + 34.99*model.x[('X3', 34.99)] == avgPriceValue*3)\n",
        "\n",
        "model.pprint()"
      ],
      "metadata": {
        "colab": {
          "base_uri": "https://localhost:8080/"
        },
        "id": "_UVGIT0305fo",
        "outputId": "4cd43259-cd8a-4f4c-d11a-7ab026470bd8"
      },
      "execution_count": 5,
      "outputs": [
        {
          "output_type": "stream",
          "name": "stdout",
          "text": [
            "1 Var Declarations\n",
            "    x : Size=9, Index={X1, X2, X3}*{24.99, 29.99, 34.99}\n",
            "        Key           : Lower : Value : Upper : Fixed : Stale : Domain\n",
            "        ('X1', 24.99) :     0 :  None :     1 : False :  True : Binary\n",
            "        ('X1', 29.99) :     0 :  None :     1 : False :  True : Binary\n",
            "        ('X1', 34.99) :     0 :  None :     1 : False :  True : Binary\n",
            "        ('X2', 24.99) :     0 :  None :     1 : False :  True : Binary\n",
            "        ('X2', 29.99) :     0 :  None :     1 : False :  True : Binary\n",
            "        ('X2', 34.99) :     0 :  None :     1 : False :  True : Binary\n",
            "        ('X3', 24.99) :     0 :  None :     1 : False :  True : Binary\n",
            "        ('X3', 29.99) :     0 :  None :     1 : False :  True : Binary\n",
            "        ('X3', 34.99) :     0 :  None :     1 : False :  True : Binary\n",
            "\n",
            "1 Objective Declarations\n",
            "    OBJ : Size=1, Index=None, Active=True\n",
            "        Key  : Active : Sense    : Expression\n",
            "        None :   True : maximize : 2799*x[X1,24.99] + 2399*x[X1,29.99] + 1680*x[X1,34.99] + 4573*x[X2,24.99] + 4199*x[X2,29.99] + 3394*x[X2,34.99] + 0*x[X3,24.99] + 2399*x[X3,29.99] + 1225*x[X3,34.99]\n",
            "\n",
            "5 Constraint Declarations\n",
            "    PriceChoiceUPC1 : Size=1, Index=None, Active=True\n",
            "        Key  : Lower : Body                                    : Upper : Active\n",
            "        None :   1.0 : x[X1,24.99] + x[X1,29.99] + x[X1,34.99] :   1.0 :   True\n",
            "    PriceChoiceUPC2 : Size=1, Index=None, Active=True\n",
            "        Key  : Lower : Body                                    : Upper : Active\n",
            "        None :   1.0 : x[X2,24.99] + x[X2,29.99] + x[X2,34.99] :   1.0 :   True\n",
            "    PriceChoiceUPC3 : Size=1, Index=None, Active=True\n",
            "        Key  : Lower : Body                                    : Upper : Active\n",
            "        None :   1.0 : x[X3,24.99] + x[X3,29.99] + x[X3,34.99] :   1.0 :   True\n",
            "    X3NoPrice : Size=1, Index=None, Active=True\n",
            "        Key  : Lower : Body        : Upper : Active\n",
            "        None :   0.0 : x[X3,24.99] :   0.0 :   True\n",
            "    sumPrice : Size=1, Index=None, Active=True\n",
            "        Key  : Lower : Body                                                                                                                                                                              : Upper : Active\n",
            "        None : 89.97 : 24.99*x[X1,24.99] + 29.99*x[X1,29.99] + 34.99*x[X1,34.99] + 24.99*x[X2,24.99] + 29.99*x[X2,29.99] + 34.99*x[X2,34.99] + 24.99*x[X3,24.99] + 29.99*x[X3,29.99] + 34.99*x[X3,34.99] : 89.97 :   True\n",
            "\n",
            "7 Declarations: x OBJ PriceChoiceUPC1 PriceChoiceUPC2 PriceChoiceUPC3 X3NoPrice sumPrice\n"
          ]
        }
      ]
    },
    {
      "cell_type": "code",
      "source": [
        "opt = SolverFactory('glpk')\n",
        "opt.solve(model)\n",
        "\n",
        "model.display()\n",
        "print(model.x.extract_values())\n",
        "print(model.OBJ())"
      ],
      "metadata": {
        "colab": {
          "base_uri": "https://localhost:8080/"
        },
        "id": "vfgSBGq41VYe",
        "outputId": "0d4f8ac9-056c-4059-a437-8ff0b98cc8da"
      },
      "execution_count": 11,
      "outputs": [
        {
          "output_type": "stream",
          "name": "stdout",
          "text": [
            "Model unknown\n",
            "\n",
            "  Variables:\n",
            "    x : Size=9, Index={X1, X2, X3}*{24.99, 29.99, 34.99}\n",
            "        Key           : Lower : Value : Upper : Fixed : Stale : Domain\n",
            "        ('X1', 24.99) :     0 :   0.0 :     1 : False : False : Binary\n",
            "        ('X1', 29.99) :     0 :   1.0 :     1 : False : False : Binary\n",
            "        ('X1', 34.99) :     0 :   0.0 :     1 : False : False : Binary\n",
            "        ('X2', 24.99) :     0 :   0.0 :     1 : False : False : Binary\n",
            "        ('X2', 29.99) :     0 :   1.0 :     1 : False : False : Binary\n",
            "        ('X2', 34.99) :     0 :   0.0 :     1 : False : False : Binary\n",
            "        ('X3', 24.99) :     0 :   0.0 :     1 : False : False : Binary\n",
            "        ('X3', 29.99) :     0 :   1.0 :     1 : False : False : Binary\n",
            "        ('X3', 34.99) :     0 :   0.0 :     1 : False : False : Binary\n",
            "\n",
            "  Objectives:\n",
            "    OBJ : Size=1, Index=None, Active=True\n",
            "        Key  : Active : Value\n",
            "        None :   True : 8997.0\n",
            "\n",
            "  Constraints:\n",
            "    PriceChoiceUPC1 : Size=1\n",
            "        Key  : Lower : Body : Upper\n",
            "        None :   1.0 :  1.0 :   1.0\n",
            "    PriceChoiceUPC2 : Size=1\n",
            "        Key  : Lower : Body : Upper\n",
            "        None :   1.0 :  1.0 :   1.0\n",
            "    PriceChoiceUPC3 : Size=1\n",
            "        Key  : Lower : Body : Upper\n",
            "        None :   1.0 :  1.0 :   1.0\n",
            "    X3NoPrice : Size=1\n",
            "        Key  : Lower : Body : Upper\n",
            "        None :   0.0 :  0.0 :   0.0\n",
            "    sumPrice : Size=1\n",
            "        Key  : Lower : Body  : Upper\n",
            "        None : 89.97 : 89.97 : 89.97\n",
            "{('X1', 24.99): 0.0, ('X1', 29.99): 1.0, ('X1', 34.99): 0.0, ('X2', 24.99): 0.0, ('X2', 29.99): 1.0, ('X2', 34.99): 0.0, ('X3', 24.99): 0.0, ('X3', 29.99): 1.0, ('X3', 34.99): 0.0}\n",
            "8997.0\n"
          ]
        }
      ]
    }
  ]
}