{
  "nbformat": 4,
  "nbformat_minor": 0,
  "metadata": {
    "colab": {
      "provenance": [],
      "authorship_tag": "ABX9TyOS/VQH51JaQE0MhwVtA+dT",
      "include_colab_link": true
    },
    "kernelspec": {
      "name": "python3",
      "display_name": "Python 3"
    },
    "language_info": {
      "name": "python"
    }
  },
  "cells": [
    {
      "cell_type": "markdown",
      "metadata": {
        "id": "view-in-github",
        "colab_type": "text"
      },
      "source": [
        "<a href=\"https://colab.research.google.com/github/acedesci/scanalytics/blob/master/EN/S08_09_Retail_Analytics/S9_toy_model.ipynb\" target=\"_parent\"><img src=\"https://colab.research.google.com/assets/colab-badge.svg\" alt=\"Open In Colab\"/></a>"
      ]
    },
    {
      "cell_type": "code",
      "execution_count": 1,
      "metadata": {
        "colab": {
          "base_uri": "https://localhost:8080/"
        },
        "id": "rvhYqh1fzFzw",
        "outputId": "342d0944-300d-4a9d-bf03-1e0b5b228e7d"
      },
      "outputs": [
        {
          "output_type": "stream",
          "name": "stdout",
          "text": [
            "\u001b[2K     \u001b[90m━━━━━━━━━━━━━━━━━━━━━━━━━━━━━━━━━━━━━━━━\u001b[0m \u001b[32m11.0/11.0 MB\u001b[0m \u001b[31m47.2 MB/s\u001b[0m eta \u001b[36m0:00:00\u001b[0m\n",
            "\u001b[2K     \u001b[90m━━━━━━━━━━━━━━━━━━━━━━━━━━━━━━━━━━━━━━━━\u001b[0m \u001b[32m49.6/49.6 KB\u001b[0m \u001b[31m2.8 MB/s\u001b[0m eta \u001b[36m0:00:00\u001b[0m\n",
            "\u001b[?25hSelecting previously unselected package libsuitesparseconfig5:amd64.\n",
            "(Reading database ... 128276 files and directories currently installed.)\n",
            "Preparing to unpack .../libsuitesparseconfig5_1%3a5.7.1+dfsg-2_amd64.deb ...\n",
            "Unpacking libsuitesparseconfig5:amd64 (1:5.7.1+dfsg-2) ...\n",
            "Selecting previously unselected package libamd2:amd64.\n",
            "Preparing to unpack .../libamd2_1%3a5.7.1+dfsg-2_amd64.deb ...\n",
            "Unpacking libamd2:amd64 (1:5.7.1+dfsg-2) ...\n",
            "Selecting previously unselected package libcolamd2:amd64.\n",
            "Preparing to unpack .../libcolamd2_1%3a5.7.1+dfsg-2_amd64.deb ...\n",
            "Unpacking libcolamd2:amd64 (1:5.7.1+dfsg-2) ...\n",
            "Selecting previously unselected package libglpk40:amd64.\n",
            "Preparing to unpack .../libglpk40_4.65-2_amd64.deb ...\n",
            "Unpacking libglpk40:amd64 (4.65-2) ...\n",
            "Selecting previously unselected package glpk-utils.\n",
            "Preparing to unpack .../glpk-utils_4.65-2_amd64.deb ...\n",
            "Unpacking glpk-utils (4.65-2) ...\n",
            "Setting up libsuitesparseconfig5:amd64 (1:5.7.1+dfsg-2) ...\n",
            "Setting up libamd2:amd64 (1:5.7.1+dfsg-2) ...\n",
            "Setting up libcolamd2:amd64 (1:5.7.1+dfsg-2) ...\n",
            "Setting up libglpk40:amd64 (4.65-2) ...\n",
            "Setting up glpk-utils (4.65-2) ...\n",
            "Processing triggers for man-db (2.9.1-1) ...\n",
            "Processing triggers for libc-bin (2.31-0ubuntu9.9) ...\n"
          ]
        }
      ],
      "source": [
        "!pip install -q pyomo\n",
        "!apt-get install -y -qq glpk-utils"
      ]
    },
    {
      "cell_type": "code",
      "source": [
        "from pyomo.environ import *\n",
        "\n",
        "productList = ['X1', 'X2', 'X3']\n",
        "priceList = [24.99, 29.99, 34.99]\n",
        "avgPriceValue = 29.99\n",
        "\n",
        "model = ConcreteModel()\n",
        "# Variables\n",
        "model.x = Var(productList, priceList, within = Binary)\n",
        "model.pprint()"
      ],
      "metadata": {
        "colab": {
          "base_uri": "https://localhost:8080/"
        },
        "id": "G7vXP9IDzJNs",
        "outputId": "3ecf839b-2b0d-4383-dd9e-ccb04262569e"
      },
      "execution_count": 2,
      "outputs": [
        {
          "output_type": "stream",
          "name": "stdout",
          "text": [
            "3 Set Declarations\n",
            "    x_index : Size=1, Index=None, Ordered=True\n",
            "        Key  : Dimen : Domain              : Size : Members\n",
            "        None :     2 : x_index_0*x_index_1 :    9 : {('X1', 24.99), ('X1', 29.99), ('X1', 34.99), ('X2', 24.99), ('X2', 29.99), ('X2', 34.99), ('X3', 24.99), ('X3', 29.99), ('X3', 34.99)}\n",
            "    x_index_0 : Size=1, Index=None, Ordered=Insertion\n",
            "        Key  : Dimen : Domain : Size : Members\n",
            "        None :     1 :    Any :    3 : {'X1', 'X2', 'X3'}\n",
            "    x_index_1 : Size=1, Index=None, Ordered=Insertion\n",
            "        Key  : Dimen : Domain : Size : Members\n",
            "        None :     1 :    Any :    3 : {24.99, 29.99, 34.99}\n",
            "\n",
            "1 Var Declarations\n",
            "    x : Size=9, Index=x_index\n",
            "        Key           : Lower : Value : Upper : Fixed : Stale : Domain\n",
            "        ('X1', 24.99) :     0 :  None :     1 : False :  True : Binary\n",
            "        ('X1', 29.99) :     0 :  None :     1 : False :  True : Binary\n",
            "        ('X1', 34.99) :     0 :  None :     1 : False :  True : Binary\n",
            "        ('X2', 24.99) :     0 :  None :     1 : False :  True : Binary\n",
            "        ('X2', 29.99) :     0 :  None :     1 : False :  True : Binary\n",
            "        ('X2', 34.99) :     0 :  None :     1 : False :  True : Binary\n",
            "        ('X3', 24.99) :     0 :  None :     1 : False :  True : Binary\n",
            "        ('X3', 29.99) :     0 :  None :     1 : False :  True : Binary\n",
            "        ('X3', 34.99) :     0 :  None :     1 : False :  True : Binary\n",
            "\n",
            "4 Declarations: x_index_0 x_index_1 x_index x\n"
          ]
        }
      ]
    },
    {
      "cell_type": "code",
      "source": [
        "# Objective function\n",
        "\n",
        "model.OBJ = Objective(sense = maximize, expr = 2799*model.x[('X1', 24.99)] + 2399*model.x[('X1', 29.99)] + 1680*model.x[('X1', 34.99)] \n",
        "                      + 4573*model.x[('X2', 24.99)] + 4199*model.x[('X2', 29.99)] + 3394*model.x[('X2', 34.99)] \n",
        "                      + 0*model.x[('X3', 24.99)] + 2399*model.x[('X3', 29.99)] + 1225*model.x[('X3', 34.99)])\n",
        "\n",
        "model.pprint()"
      ],
      "metadata": {
        "colab": {
          "base_uri": "https://localhost:8080/"
        },
        "id": "mT4oDWBPz2lv",
        "outputId": "c75b16fe-634d-4075-8a89-c2aa7a46b1a7"
      },
      "execution_count": 5,
      "outputs": [
        {
          "output_type": "stream",
          "name": "stderr",
          "text": [
            "WARNING:pyomo.core:Implicitly replacing the Component attribute OBJ (type=<class 'pyomo.core.base.objective.ScalarObjective'>) on block unknown with a new Component (type=<class 'pyomo.core.base.objective.ScalarObjective'>).\n",
            "This is usually indicative of a modelling error.\n",
            "To avoid this warning, use block.del_component() and block.add_component().\n"
          ]
        },
        {
          "output_type": "stream",
          "name": "stdout",
          "text": [
            "3 Set Declarations\n",
            "    x_index : Size=1, Index=None, Ordered=True\n",
            "        Key  : Dimen : Domain              : Size : Members\n",
            "        None :     2 : x_index_0*x_index_1 :    9 : {('X1', 24.99), ('X1', 29.99), ('X1', 34.99), ('X2', 24.99), ('X2', 29.99), ('X2', 34.99), ('X3', 24.99), ('X3', 29.99), ('X3', 34.99)}\n",
            "    x_index_0 : Size=1, Index=None, Ordered=Insertion\n",
            "        Key  : Dimen : Domain : Size : Members\n",
            "        None :     1 :    Any :    3 : {'X1', 'X2', 'X3'}\n",
            "    x_index_1 : Size=1, Index=None, Ordered=Insertion\n",
            "        Key  : Dimen : Domain : Size : Members\n",
            "        None :     1 :    Any :    3 : {24.99, 29.99, 34.99}\n",
            "\n",
            "1 Var Declarations\n",
            "    x : Size=9, Index=x_index\n",
            "        Key           : Lower : Value : Upper : Fixed : Stale : Domain\n",
            "        ('X1', 24.99) :     0 :  None :     1 : False :  True : Binary\n",
            "        ('X1', 29.99) :     0 :  None :     1 : False :  True : Binary\n",
            "        ('X1', 34.99) :     0 :  None :     1 : False :  True : Binary\n",
            "        ('X2', 24.99) :     0 :  None :     1 : False :  True : Binary\n",
            "        ('X2', 29.99) :     0 :  None :     1 : False :  True : Binary\n",
            "        ('X2', 34.99) :     0 :  None :     1 : False :  True : Binary\n",
            "        ('X3', 24.99) :     0 :  None :     1 : False :  True : Binary\n",
            "        ('X3', 29.99) :     0 :  None :     1 : False :  True : Binary\n",
            "        ('X3', 34.99) :     0 :  None :     1 : False :  True : Binary\n",
            "\n",
            "1 Objective Declarations\n",
            "    OBJ : Size=1, Index=None, Active=True\n",
            "        Key  : Active : Sense    : Expression\n",
            "        None :   True : maximize : 2799*x[X1,24.99] + 2399*x[X1,29.99] + 1680*x[X1,34.99] + 4573*x[X2,24.99] + 4199*x[X2,29.99] + 3394*x[X2,34.99] + 2399*x[X3,29.99] + 1225*x[X3,34.99]\n",
            "\n",
            "5 Declarations: x_index_0 x_index_1 x_index x OBJ\n"
          ]
        }
      ]
    },
    {
      "cell_type": "code",
      "source": [
        "# Constraints #1\n",
        "model.PriceChoiceUPC1 = Constraint(expr = model.x[('X1', 24.99)] + model.x[('X1', 29.99)] + model.x[('X1', 34.99)] == 1)\n",
        "model.PriceChoiceUPC2 = Constraint(expr = model.x[('X2', 24.99)] + model.x[('X2', 29.99)] + model.x[('X2', 34.99)] == 1)\n",
        "model.PriceChoiceUPC3 = Constraint(expr = model.x[('X3', 24.99)] + model.x[('X3', 29.99)] + model.x[('X3', 34.99)] == 1)\n",
        "model.pprint()"
      ],
      "metadata": {
        "colab": {
          "base_uri": "https://localhost:8080/"
        },
        "id": "eCs8WIqB0pEP",
        "outputId": "d4af3fe6-81da-46a3-9d35-ca9e75b6116c"
      },
      "execution_count": 6,
      "outputs": [
        {
          "output_type": "stream",
          "name": "stdout",
          "text": [
            "3 Set Declarations\n",
            "    x_index : Size=1, Index=None, Ordered=True\n",
            "        Key  : Dimen : Domain              : Size : Members\n",
            "        None :     2 : x_index_0*x_index_1 :    9 : {('X1', 24.99), ('X1', 29.99), ('X1', 34.99), ('X2', 24.99), ('X2', 29.99), ('X2', 34.99), ('X3', 24.99), ('X3', 29.99), ('X3', 34.99)}\n",
            "    x_index_0 : Size=1, Index=None, Ordered=Insertion\n",
            "        Key  : Dimen : Domain : Size : Members\n",
            "        None :     1 :    Any :    3 : {'X1', 'X2', 'X3'}\n",
            "    x_index_1 : Size=1, Index=None, Ordered=Insertion\n",
            "        Key  : Dimen : Domain : Size : Members\n",
            "        None :     1 :    Any :    3 : {24.99, 29.99, 34.99}\n",
            "\n",
            "1 Var Declarations\n",
            "    x : Size=9, Index=x_index\n",
            "        Key           : Lower : Value : Upper : Fixed : Stale : Domain\n",
            "        ('X1', 24.99) :     0 :  None :     1 : False :  True : Binary\n",
            "        ('X1', 29.99) :     0 :  None :     1 : False :  True : Binary\n",
            "        ('X1', 34.99) :     0 :  None :     1 : False :  True : Binary\n",
            "        ('X2', 24.99) :     0 :  None :     1 : False :  True : Binary\n",
            "        ('X2', 29.99) :     0 :  None :     1 : False :  True : Binary\n",
            "        ('X2', 34.99) :     0 :  None :     1 : False :  True : Binary\n",
            "        ('X3', 24.99) :     0 :  None :     1 : False :  True : Binary\n",
            "        ('X3', 29.99) :     0 :  None :     1 : False :  True : Binary\n",
            "        ('X3', 34.99) :     0 :  None :     1 : False :  True : Binary\n",
            "\n",
            "1 Objective Declarations\n",
            "    OBJ : Size=1, Index=None, Active=True\n",
            "        Key  : Active : Sense    : Expression\n",
            "        None :   True : maximize : 2799*x[X1,24.99] + 2399*x[X1,29.99] + 1680*x[X1,34.99] + 4573*x[X2,24.99] + 4199*x[X2,29.99] + 3394*x[X2,34.99] + 2399*x[X3,29.99] + 1225*x[X3,34.99]\n",
            "\n",
            "3 Constraint Declarations\n",
            "    PriceChoiceUPC1 : Size=1, Index=None, Active=True\n",
            "        Key  : Lower : Body                                    : Upper : Active\n",
            "        None :   1.0 : x[X1,24.99] + x[X1,29.99] + x[X1,34.99] :   1.0 :   True\n",
            "    PriceChoiceUPC2 : Size=1, Index=None, Active=True\n",
            "        Key  : Lower : Body                                    : Upper : Active\n",
            "        None :   1.0 : x[X2,24.99] + x[X2,29.99] + x[X2,34.99] :   1.0 :   True\n",
            "    PriceChoiceUPC3 : Size=1, Index=None, Active=True\n",
            "        Key  : Lower : Body                                    : Upper : Active\n",
            "        None :   1.0 : x[X3,24.99] + x[X3,29.99] + x[X3,34.99] :   1.0 :   True\n",
            "\n",
            "8 Declarations: x_index_0 x_index_1 x_index x OBJ PriceChoiceUPC1 PriceChoiceUPC2 PriceChoiceUPC3\n"
          ]
        }
      ]
    },
    {
      "cell_type": "code",
      "source": [
        "# Constraints #2\n",
        "model.sumPrice = Constraint(expr = 24.99*model.x[('X1', 24.99)] + 29.99*model.x[('X1', 29.99)] + 34.99*model.x[('X1', 34.99)] \n",
        "                            + 24.99*model.x[('X2', 24.99)] + 29.99*model.x[('X2', 29.99)] + 34.99*model.x[('X2', 34.99)]\n",
        "                            + 24.99*model.x[('X3', 24.99)] + 29.99*model.x[('X3', 29.99)] + 34.99*model.x[('X3', 34.99)] == avgPriceValue*3)\n",
        "\n",
        "model.pprint()"
      ],
      "metadata": {
        "colab": {
          "base_uri": "https://localhost:8080/"
        },
        "id": "_UVGIT0305fo",
        "outputId": "a5213312-008c-40b6-ec44-9328c5194d1d"
      },
      "execution_count": 7,
      "outputs": [
        {
          "output_type": "stream",
          "name": "stdout",
          "text": [
            "3 Set Declarations\n",
            "    x_index : Size=1, Index=None, Ordered=True\n",
            "        Key  : Dimen : Domain              : Size : Members\n",
            "        None :     2 : x_index_0*x_index_1 :    9 : {('X1', 24.99), ('X1', 29.99), ('X1', 34.99), ('X2', 24.99), ('X2', 29.99), ('X2', 34.99), ('X3', 24.99), ('X3', 29.99), ('X3', 34.99)}\n",
            "    x_index_0 : Size=1, Index=None, Ordered=Insertion\n",
            "        Key  : Dimen : Domain : Size : Members\n",
            "        None :     1 :    Any :    3 : {'X1', 'X2', 'X3'}\n",
            "    x_index_1 : Size=1, Index=None, Ordered=Insertion\n",
            "        Key  : Dimen : Domain : Size : Members\n",
            "        None :     1 :    Any :    3 : {24.99, 29.99, 34.99}\n",
            "\n",
            "1 Var Declarations\n",
            "    x : Size=9, Index=x_index\n",
            "        Key           : Lower : Value : Upper : Fixed : Stale : Domain\n",
            "        ('X1', 24.99) :     0 :  None :     1 : False :  True : Binary\n",
            "        ('X1', 29.99) :     0 :  None :     1 : False :  True : Binary\n",
            "        ('X1', 34.99) :     0 :  None :     1 : False :  True : Binary\n",
            "        ('X2', 24.99) :     0 :  None :     1 : False :  True : Binary\n",
            "        ('X2', 29.99) :     0 :  None :     1 : False :  True : Binary\n",
            "        ('X2', 34.99) :     0 :  None :     1 : False :  True : Binary\n",
            "        ('X3', 24.99) :     0 :  None :     1 : False :  True : Binary\n",
            "        ('X3', 29.99) :     0 :  None :     1 : False :  True : Binary\n",
            "        ('X3', 34.99) :     0 :  None :     1 : False :  True : Binary\n",
            "\n",
            "1 Objective Declarations\n",
            "    OBJ : Size=1, Index=None, Active=True\n",
            "        Key  : Active : Sense    : Expression\n",
            "        None :   True : maximize : 2799*x[X1,24.99] + 2399*x[X1,29.99] + 1680*x[X1,34.99] + 4573*x[X2,24.99] + 4199*x[X2,29.99] + 3394*x[X2,34.99] + 2399*x[X3,29.99] + 1225*x[X3,34.99]\n",
            "\n",
            "4 Constraint Declarations\n",
            "    PriceChoiceUPC1 : Size=1, Index=None, Active=True\n",
            "        Key  : Lower : Body                                    : Upper : Active\n",
            "        None :   1.0 : x[X1,24.99] + x[X1,29.99] + x[X1,34.99] :   1.0 :   True\n",
            "    PriceChoiceUPC2 : Size=1, Index=None, Active=True\n",
            "        Key  : Lower : Body                                    : Upper : Active\n",
            "        None :   1.0 : x[X2,24.99] + x[X2,29.99] + x[X2,34.99] :   1.0 :   True\n",
            "    PriceChoiceUPC3 : Size=1, Index=None, Active=True\n",
            "        Key  : Lower : Body                                    : Upper : Active\n",
            "        None :   1.0 : x[X3,24.99] + x[X3,29.99] + x[X3,34.99] :   1.0 :   True\n",
            "    sumPrice : Size=1, Index=None, Active=True\n",
            "        Key  : Lower : Body                                                                                                                                                                              : Upper : Active\n",
            "        None : 89.97 : 24.99*x[X1,24.99] + 29.99*x[X1,29.99] + 34.99*x[X1,34.99] + 24.99*x[X2,24.99] + 29.99*x[X2,29.99] + 34.99*x[X2,34.99] + 24.99*x[X3,24.99] + 29.99*x[X3,29.99] + 34.99*x[X3,34.99] : 89.97 :   True\n",
            "\n",
            "9 Declarations: x_index_0 x_index_1 x_index x OBJ PriceChoiceUPC1 PriceChoiceUPC2 PriceChoiceUPC3 sumPrice\n"
          ]
        }
      ]
    },
    {
      "cell_type": "code",
      "source": [
        "opt = SolverFactory('glpk')\n",
        "opt.solve(model) \n",
        "\n",
        "model.display()"
      ],
      "metadata": {
        "colab": {
          "base_uri": "https://localhost:8080/"
        },
        "id": "vfgSBGq41VYe",
        "outputId": "044c5826-b5e8-44f2-eca0-651d3ee8931d"
      },
      "execution_count": 8,
      "outputs": [
        {
          "output_type": "stream",
          "name": "stdout",
          "text": [
            "Model unknown\n",
            "\n",
            "  Variables:\n",
            "    x : Size=9, Index=x_index\n",
            "        Key           : Lower : Value : Upper : Fixed : Stale : Domain\n",
            "        ('X1', 24.99) :     0 :   0.0 :     1 : False : False : Binary\n",
            "        ('X1', 29.99) :     0 :   1.0 :     1 : False : False : Binary\n",
            "        ('X1', 34.99) :     0 :   0.0 :     1 : False : False : Binary\n",
            "        ('X2', 24.99) :     0 :   0.0 :     1 : False : False : Binary\n",
            "        ('X2', 29.99) :     0 :   1.0 :     1 : False : False : Binary\n",
            "        ('X2', 34.99) :     0 :   0.0 :     1 : False : False : Binary\n",
            "        ('X3', 24.99) :     0 :   0.0 :     1 : False : False : Binary\n",
            "        ('X3', 29.99) :     0 :   1.0 :     1 : False : False : Binary\n",
            "        ('X3', 34.99) :     0 :   0.0 :     1 : False : False : Binary\n",
            "\n",
            "  Objectives:\n",
            "    OBJ : Size=1, Index=None, Active=True\n",
            "        Key  : Active : Value\n",
            "        None :   True : 8997.0\n",
            "\n",
            "  Constraints:\n",
            "    PriceChoiceUPC1 : Size=1\n",
            "        Key  : Lower : Body : Upper\n",
            "        None :   1.0 :  1.0 :   1.0\n",
            "    PriceChoiceUPC2 : Size=1\n",
            "        Key  : Lower : Body : Upper\n",
            "        None :   1.0 :  1.0 :   1.0\n",
            "    PriceChoiceUPC3 : Size=1\n",
            "        Key  : Lower : Body : Upper\n",
            "        None :   1.0 :  1.0 :   1.0\n",
            "    sumPrice : Size=1\n",
            "        Key  : Lower : Body  : Upper\n",
            "        None : 89.97 : 89.97 : 89.97\n"
          ]
        }
      ]
    }
  ]
}