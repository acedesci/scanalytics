{
  "nbformat": 4,
  "nbformat_minor": 0,
  "metadata": {
    "colab": {
      "provenance": [],
      "authorship_tag": "ABX9TyNBYjNIo6thw+TnqUNJhmsc",
      "include_colab_link": true
    },
    "kernelspec": {
      "name": "python3",
      "display_name": "Python 3"
    },
    "language_info": {
      "name": "python"
    }
  },
  "cells": [
    {
      "cell_type": "markdown",
      "metadata": {
        "id": "view-in-github",
        "colab_type": "text"
      },
      "source": [
        "<a href=\"https://colab.research.google.com/github/acedesci/scanalytics/blob/master/EN/S08_09_Retail_Analytics/S9_explicit_model_inclass.ipynb\" target=\"_parent\"><img src=\"https://colab.research.google.com/assets/colab-badge.svg\" alt=\"Open In Colab\"/></a>"
      ]
    },
    {
      "cell_type": "code",
      "execution_count": null,
      "metadata": {
        "id": "pEktOUkk18UU"
      },
      "outputs": [],
      "source": [
        "# Install Pyomo and GLPK\n",
        "!pip install -q pyomo\n",
        "!apt-get install -y -qq glpk-utils"
      ]
    },
    {
      "cell_type": "code",
      "source": [
        "from pyomo.environ import *"
      ],
      "metadata": {
        "id": "2rxFl2km7Xl1"
      },
      "execution_count": null,
      "outputs": []
    },
    {
      "cell_type": "code",
      "source": [
        "productList = ['X1', 'X2', 'X3']\n",
        "priceList = ['C1', 'C2', 'C3']\n",
        "avgPrice = 89.97/3"
      ],
      "metadata": {
        "id": "4CB7nmgw7hdk"
      },
      "execution_count": null,
      "outputs": []
    },
    {
      "cell_type": "code",
      "source": [
        "model = ConcreteModel()\n",
        "\n",
        "# define variables\n",
        "model.x = Var(productList,priceList, within = Binary)\n",
        "model.pprint()"
      ],
      "metadata": {
        "id": "wncGg4Mj78sD"
      },
      "execution_count": null,
      "outputs": []
    },
    {
      "cell_type": "code",
      "source": [
        "obj_expr = 2799*model.x[('X1', 'C1')] + 2399*model.x[('X1', 'C2')] + 1680*model.x[('X1', 'C3')]\n",
        "+ 4573*model.x[('X2', 'C1')] + 4199*model.x[('X2', 'C2')] + 3394*model.x[('X2', 'C3')]\n",
        "+ 0*model.x[('X3', 'C1')] + 2399*model.x[('X3', 'C2')]+1225*model.x[('X3', 'C3')]\n",
        "\n",
        "model.OBJ = Objective(sense = maximize, expr = obj_expr)\n",
        "model.pprint()"
      ],
      "metadata": {
        "id": "GPAuPZVR8_wN"
      },
      "execution_count": null,
      "outputs": []
    },
    {
      "cell_type": "code",
      "source": [
        "# Constraint 1\n",
        "model.PricechoiceProd1 = Constraint(expr = model.x[('X1', 'C1')]+model.x[('X1', 'C2')]+model.x[('X1', 'C3')] == 1)\n",
        "model.PricechoiceProd2 = Constraint(expr = model.x[('X2', 'C1')]+model.x[('X2', 'C2')]+model.x[('X2', 'C3')] == 1)\n",
        "model.PricechoiceProd3 = Constraint(expr = model.x[('X3', 'C1')]+model.x[('X3', 'C2')]+model.x[('X3', 'C3')] == 1)\n",
        "model.pprint()"
      ],
      "metadata": {
        "id": "9--qTa68990C"
      },
      "execution_count": null,
      "outputs": []
    },
    {
      "cell_type": "code",
      "source": [
        "model.sumPrice = Constraint(expr = 24.99*model.x[('X1', 'C1')] + 29.99*model.x[('X1', 'C2')] + 34.99*model.x[('X1', 'C3')] + 24.99*model.x[('X2', 'C1')] + 29.99*model.x[('X2', 'C2')] + 34.99*model.x[('X2', 'C3')] + 24.99*model.x[('X3', 'C1')] + 29.99*model.x[('X3', 'C2')]+34.99*model.x[('X3', 'C3')] == 89.97)\n",
        "model.pprint()"
      ],
      "metadata": {
        "id": "BT4FA7wI_5bh"
      },
      "execution_count": null,
      "outputs": []
    },
    {
      "cell_type": "code",
      "source": [
        "opt = SolverFactory('glpk')\n",
        "opt.solve(model)"
      ],
      "metadata": {
        "id": "WTlqOUTc91TY"
      },
      "execution_count": null,
      "outputs": []
    },
    {
      "cell_type": "code",
      "source": [
        "model.display()\n",
        "model.x.extract_values()\n",
        "model.OBJ()"
      ],
      "metadata": {
        "id": "M0dBdShS90qs"
      },
      "execution_count": null,
      "outputs": []
    }
  ]
}