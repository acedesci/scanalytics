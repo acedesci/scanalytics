{
  "nbformat": 4,
  "nbformat_minor": 0,
  "metadata": {
    "colab": {
      "provenance": [],
      "authorship_tag": "ABX9TyOJzRldpOjTiF87JqvgrLG/",
      "include_colab_link": true
    },
    "kernelspec": {
      "name": "python3",
      "display_name": "Python 3"
    },
    "language_info": {
      "name": "python"
    }
  },
  "cells": [
    {
      "cell_type": "markdown",
      "metadata": {
        "id": "view-in-github",
        "colab_type": "text"
      },
      "source": [
        "<a href=\"https://colab.research.google.com/github/acedesci/scanalytics/blob/master/EN/S08_09_Retail_Analytics/S9_explicit_model_inclass.ipynb\" target=\"_parent\"><img src=\"https://colab.research.google.com/assets/colab-badge.svg\" alt=\"Open In Colab\"/></a>"
      ]
    },
    {
      "cell_type": "code",
      "execution_count": 1,
      "metadata": {
        "id": "pEktOUkk18UU",
        "outputId": "9de6bd79-4023-4365-ffb2-88d8e40b74d2",
        "colab": {
          "base_uri": "https://localhost:8080/"
        }
      },
      "outputs": [
        {
          "output_type": "stream",
          "name": "stdout",
          "text": [
            "Selecting previously unselected package libsuitesparseconfig5:amd64.\n",
            "(Reading database ... 125044 files and directories currently installed.)\n",
            "Preparing to unpack .../libsuitesparseconfig5_1%3a5.10.1+dfsg-4build1_amd64.deb ...\n",
            "Unpacking libsuitesparseconfig5:amd64 (1:5.10.1+dfsg-4build1) ...\n",
            "Selecting previously unselected package libamd2:amd64.\n",
            "Preparing to unpack .../libamd2_1%3a5.10.1+dfsg-4build1_amd64.deb ...\n",
            "Unpacking libamd2:amd64 (1:5.10.1+dfsg-4build1) ...\n",
            "Selecting previously unselected package libcolamd2:amd64.\n",
            "Preparing to unpack .../libcolamd2_1%3a5.10.1+dfsg-4build1_amd64.deb ...\n",
            "Unpacking libcolamd2:amd64 (1:5.10.1+dfsg-4build1) ...\n",
            "Selecting previously unselected package libglpk40:amd64.\n",
            "Preparing to unpack .../libglpk40_5.0-1_amd64.deb ...\n",
            "Unpacking libglpk40:amd64 (5.0-1) ...\n",
            "Selecting previously unselected package glpk-utils.\n",
            "Preparing to unpack .../glpk-utils_5.0-1_amd64.deb ...\n",
            "Unpacking glpk-utils (5.0-1) ...\n",
            "Setting up libsuitesparseconfig5:amd64 (1:5.10.1+dfsg-4build1) ...\n",
            "Setting up libamd2:amd64 (1:5.10.1+dfsg-4build1) ...\n",
            "Setting up libcolamd2:amd64 (1:5.10.1+dfsg-4build1) ...\n",
            "Setting up libglpk40:amd64 (5.0-1) ...\n",
            "Setting up glpk-utils (5.0-1) ...\n",
            "Processing triggers for man-db (2.10.2-1) ...\n",
            "Processing triggers for libc-bin (2.35-0ubuntu3.8) ...\n",
            "/sbin/ldconfig.real: /usr/local/lib/libtbb.so.12 is not a symbolic link\n",
            "\n",
            "/sbin/ldconfig.real: /usr/local/lib/libtbbbind_2_5.so.3 is not a symbolic link\n",
            "\n",
            "/sbin/ldconfig.real: /usr/local/lib/libtbbbind.so.3 is not a symbolic link\n",
            "\n",
            "/sbin/ldconfig.real: /usr/local/lib/libur_adapter_opencl.so.0 is not a symbolic link\n",
            "\n",
            "/sbin/ldconfig.real: /usr/local/lib/libtbbbind_2_0.so.3 is not a symbolic link\n",
            "\n",
            "/sbin/ldconfig.real: /usr/local/lib/libtbbmalloc.so.2 is not a symbolic link\n",
            "\n",
            "/sbin/ldconfig.real: /usr/local/lib/libumf.so.0 is not a symbolic link\n",
            "\n",
            "/sbin/ldconfig.real: /usr/local/lib/libur_loader.so.0 is not a symbolic link\n",
            "\n",
            "/sbin/ldconfig.real: /usr/local/lib/libtcm.so.1 is not a symbolic link\n",
            "\n",
            "/sbin/ldconfig.real: /usr/local/lib/libhwloc.so.15 is not a symbolic link\n",
            "\n",
            "/sbin/ldconfig.real: /usr/local/lib/libtcm_debug.so.1 is not a symbolic link\n",
            "\n",
            "/sbin/ldconfig.real: /usr/local/lib/libtbbmalloc_proxy.so.2 is not a symbolic link\n",
            "\n",
            "/sbin/ldconfig.real: /usr/local/lib/libur_adapter_level_zero.so.0 is not a symbolic link\n",
            "\n"
          ]
        }
      ],
      "source": [
        "# Install Pyomo and GLPK\n",
        "!pip install -q pyomo\n",
        "!apt-get install -y -qq glpk-utils"
      ]
    },
    {
      "cell_type": "code",
      "source": [
        "from pyomo.environ import *"
      ],
      "metadata": {
        "id": "2rxFl2km7Xl1"
      },
      "execution_count": 2,
      "outputs": []
    },
    {
      "cell_type": "code",
      "source": [
        "productList = ['X1', 'X2', 'X3']\n",
        "priceList = ['C1', 'C2', 'C3']\n",
        "avgPrice = 89.97/3"
      ],
      "metadata": {
        "id": "4CB7nmgw7hdk"
      },
      "execution_count": 3,
      "outputs": []
    },
    {
      "cell_type": "code",
      "source": [
        "model = ConcreteModel()\n",
        "\n",
        "# define variables\n",
        "model.x = Var(productList,priceList, within = Binary)\n",
        "model.pprint()"
      ],
      "metadata": {
        "id": "wncGg4Mj78sD",
        "outputId": "669a3164-0477-48ed-aba4-21ea25f3146e",
        "colab": {
          "base_uri": "https://localhost:8080/"
        }
      },
      "execution_count": 4,
      "outputs": [
        {
          "output_type": "stream",
          "name": "stdout",
          "text": [
            "1 Var Declarations\n",
            "    x : Size=9, Index={X1, X2, X3}*{C1, C2, C3}\n",
            "        Key          : Lower : Value : Upper : Fixed : Stale : Domain\n",
            "        ('X1', 'C1') :     0 :  None :     1 : False :  True : Binary\n",
            "        ('X1', 'C2') :     0 :  None :     1 : False :  True : Binary\n",
            "        ('X1', 'C3') :     0 :  None :     1 : False :  True : Binary\n",
            "        ('X2', 'C1') :     0 :  None :     1 : False :  True : Binary\n",
            "        ('X2', 'C2') :     0 :  None :     1 : False :  True : Binary\n",
            "        ('X2', 'C3') :     0 :  None :     1 : False :  True : Binary\n",
            "        ('X3', 'C1') :     0 :  None :     1 : False :  True : Binary\n",
            "        ('X3', 'C2') :     0 :  None :     1 : False :  True : Binary\n",
            "        ('X3', 'C3') :     0 :  None :     1 : False :  True : Binary\n",
            "\n",
            "1 Declarations: x\n"
          ]
        }
      ]
    },
    {
      "cell_type": "code",
      "source": [
        "obj_expr = 2799*model.x[('X1', 'C1')] + 2399*model.x[('X1', 'C2')] + 1680*model.x[('X1', 'C3')] \\\n",
        "+ 4573*model.x[('X2', 'C1')] + 4199*model.x[('X2', 'C2')] + 3394*model.x[('X2', 'C3')] \\\n",
        "+ 0*model.x[('X3', 'C1')] + 2399*model.x[('X3', 'C2')]+1225*model.x[('X3', 'C3')]\n",
        "\n",
        "model.OBJ = Objective(sense = maximize, expr = obj_expr)\n",
        "model.pprint()"
      ],
      "metadata": {
        "id": "GPAuPZVR8_wN",
        "outputId": "57588d68-1222-4329-bd88-b1236f01e645",
        "colab": {
          "base_uri": "https://localhost:8080/"
        }
      },
      "execution_count": 10,
      "outputs": [
        {
          "output_type": "stream",
          "name": "stderr",
          "text": [
            "WARNING:pyomo.core:Implicitly replacing the Component attribute OBJ (type=<class 'pyomo.core.base.objective.ScalarObjective'>) on block unknown with a new Component (type=<class 'pyomo.core.base.objective.ScalarObjective'>).\n",
            "This is usually indicative of a modelling error.\n",
            "To avoid this warning, use block.del_component() and block.add_component().\n"
          ]
        },
        {
          "output_type": "stream",
          "name": "stdout",
          "text": [
            "1 Var Declarations\n",
            "    x : Size=9, Index={X1, X2, X3}*{C1, C2, C3}\n",
            "        Key          : Lower : Value : Upper : Fixed : Stale : Domain\n",
            "        ('X1', 'C1') :     0 :   1.0 :     1 : False : False : Binary\n",
            "        ('X1', 'C2') :     0 :   0.0 :     1 : False : False : Binary\n",
            "        ('X1', 'C3') :     0 :   0.0 :     1 : False : False : Binary\n",
            "        ('X2', 'C1') :     0 :   0.0 :     1 : False : False : Binary\n",
            "        ('X2', 'C2') :     0 :   1.0 :     1 : False : False : Binary\n",
            "        ('X2', 'C3') :     0 :   0.0 :     1 : False : False : Binary\n",
            "        ('X3', 'C1') :     0 :   0.0 :     1 : False : False : Binary\n",
            "        ('X3', 'C2') :     0 :   0.0 :     1 : False : False : Binary\n",
            "        ('X3', 'C3') :     0 :   1.0 :     1 : False : False : Binary\n",
            "\n",
            "1 Objective Declarations\n",
            "    OBJ : Size=1, Index=None, Active=True\n",
            "        Key  : Active : Sense    : Expression\n",
            "        None :   True : maximize : 2799*x[X1,C1] + 2399*x[X1,C2] + 1680*x[X1,C3] + 4573*x[X2,C1] + 4199*x[X2,C2] + 3394*x[X2,C3] + 0*x[X3,C1] + 2399*x[X3,C2] + 1225*x[X3,C3]\n",
            "\n",
            "4 Constraint Declarations\n",
            "    PricechoiceProd1 : Size=1, Index=None, Active=True\n",
            "        Key  : Lower : Body                           : Upper : Active\n",
            "        None :   1.0 : x[X1,C1] + x[X1,C2] + x[X1,C3] :   1.0 :   True\n",
            "    PricechoiceProd2 : Size=1, Index=None, Active=True\n",
            "        Key  : Lower : Body                           : Upper : Active\n",
            "        None :   1.0 : x[X2,C1] + x[X2,C2] + x[X2,C3] :   1.0 :   True\n",
            "    PricechoiceProd3 : Size=1, Index=None, Active=True\n",
            "        Key  : Lower : Body                           : Upper : Active\n",
            "        None :   1.0 : x[X3,C1] + x[X3,C2] + x[X3,C3] :   1.0 :   True\n",
            "    sumPrice : Size=1, Index=None, Active=True\n",
            "        Key  : Lower : Body                                                                                                                                                   : Upper : Active\n",
            "        None : 89.97 : 24.99*x[X1,C1] + 29.99*x[X1,C2] + 34.99*x[X1,C3] + 24.99*x[X2,C1] + 29.99*x[X2,C2] + 34.99*x[X2,C3] + 24.99*x[X3,C1] + 29.99*x[X3,C2] + 34.99*x[X3,C3] : 89.97 :   True\n",
            "\n",
            "6 Declarations: x PricechoiceProd1 PricechoiceProd2 PricechoiceProd3 sumPrice OBJ\n"
          ]
        }
      ]
    },
    {
      "cell_type": "code",
      "source": [
        "# Constraint 1\n",
        "model.PricechoiceProd1 = Constraint(expr = model.x[('X1', 'C1')]+model.x[('X1', 'C2')]+model.x[('X1', 'C3')] == 1)\n",
        "model.PricechoiceProd2 = Constraint(expr = model.x[('X2', 'C1')]+model.x[('X2', 'C2')]+model.x[('X2', 'C3')] == 1)\n",
        "model.PricechoiceProd3 = Constraint(expr = model.x[('X3', 'C1')]+model.x[('X3', 'C2')]+model.x[('X3', 'C3')] == 1)\n",
        "model.pprint()"
      ],
      "metadata": {
        "id": "9--qTa68990C",
        "outputId": "b639c246-3207-44a0-92fe-2b1ef99c66fb",
        "colab": {
          "base_uri": "https://localhost:8080/"
        }
      },
      "execution_count": 11,
      "outputs": [
        {
          "output_type": "stream",
          "name": "stderr",
          "text": [
            "WARNING:pyomo.core:Implicitly replacing the Component attribute PricechoiceProd1 (type=<class 'pyomo.core.base.constraint.ScalarConstraint'>) on block unknown with a new Component (type=<class 'pyomo.core.base.constraint.AbstractScalarConstraint'>).\n",
            "This is usually indicative of a modelling error.\n",
            "To avoid this warning, use block.del_component() and block.add_component().\n",
            "WARNING:pyomo.core:Implicitly replacing the Component attribute PricechoiceProd2 (type=<class 'pyomo.core.base.constraint.ScalarConstraint'>) on block unknown with a new Component (type=<class 'pyomo.core.base.constraint.AbstractScalarConstraint'>).\n",
            "This is usually indicative of a modelling error.\n",
            "To avoid this warning, use block.del_component() and block.add_component().\n",
            "WARNING:pyomo.core:Implicitly replacing the Component attribute PricechoiceProd3 (type=<class 'pyomo.core.base.constraint.ScalarConstraint'>) on block unknown with a new Component (type=<class 'pyomo.core.base.constraint.AbstractScalarConstraint'>).\n",
            "This is usually indicative of a modelling error.\n",
            "To avoid this warning, use block.del_component() and block.add_component().\n"
          ]
        },
        {
          "output_type": "stream",
          "name": "stdout",
          "text": [
            "1 Var Declarations\n",
            "    x : Size=9, Index={X1, X2, X3}*{C1, C2, C3}\n",
            "        Key          : Lower : Value : Upper : Fixed : Stale : Domain\n",
            "        ('X1', 'C1') :     0 :   1.0 :     1 : False : False : Binary\n",
            "        ('X1', 'C2') :     0 :   0.0 :     1 : False : False : Binary\n",
            "        ('X1', 'C3') :     0 :   0.0 :     1 : False : False : Binary\n",
            "        ('X2', 'C1') :     0 :   0.0 :     1 : False : False : Binary\n",
            "        ('X2', 'C2') :     0 :   1.0 :     1 : False : False : Binary\n",
            "        ('X2', 'C3') :     0 :   0.0 :     1 : False : False : Binary\n",
            "        ('X3', 'C1') :     0 :   0.0 :     1 : False : False : Binary\n",
            "        ('X3', 'C2') :     0 :   0.0 :     1 : False : False : Binary\n",
            "        ('X3', 'C3') :     0 :   1.0 :     1 : False : False : Binary\n",
            "\n",
            "1 Objective Declarations\n",
            "    OBJ : Size=1, Index=None, Active=True\n",
            "        Key  : Active : Sense    : Expression\n",
            "        None :   True : maximize : 2799*x[X1,C1] + 2399*x[X1,C2] + 1680*x[X1,C3] + 4573*x[X2,C1] + 4199*x[X2,C2] + 3394*x[X2,C3] + 0*x[X3,C1] + 2399*x[X3,C2] + 1225*x[X3,C3]\n",
            "\n",
            "4 Constraint Declarations\n",
            "    PricechoiceProd1 : Size=1, Index=None, Active=True\n",
            "        Key  : Lower : Body                           : Upper : Active\n",
            "        None :   1.0 : x[X1,C1] + x[X1,C2] + x[X1,C3] :   1.0 :   True\n",
            "    PricechoiceProd2 : Size=1, Index=None, Active=True\n",
            "        Key  : Lower : Body                           : Upper : Active\n",
            "        None :   1.0 : x[X2,C1] + x[X2,C2] + x[X2,C3] :   1.0 :   True\n",
            "    PricechoiceProd3 : Size=1, Index=None, Active=True\n",
            "        Key  : Lower : Body                           : Upper : Active\n",
            "        None :   1.0 : x[X3,C1] + x[X3,C2] + x[X3,C3] :   1.0 :   True\n",
            "    sumPrice : Size=1, Index=None, Active=True\n",
            "        Key  : Lower : Body                                                                                                                                                   : Upper : Active\n",
            "        None : 89.97 : 24.99*x[X1,C1] + 29.99*x[X1,C2] + 34.99*x[X1,C3] + 24.99*x[X2,C1] + 29.99*x[X2,C2] + 34.99*x[X2,C3] + 24.99*x[X3,C1] + 29.99*x[X3,C2] + 34.99*x[X3,C3] : 89.97 :   True\n",
            "\n",
            "6 Declarations: x sumPrice OBJ PricechoiceProd1 PricechoiceProd2 PricechoiceProd3\n"
          ]
        }
      ]
    },
    {
      "cell_type": "code",
      "source": [
        "model.sumPrice = Constraint(expr = 24.99*model.x[('X1', 'C1')] + 29.99*model.x[('X1', 'C2')] + 34.99*model.x[('X1', 'C3')] + 24.99*model.x[('X2', 'C1')] + 29.99*model.x[('X2', 'C2')] + 34.99*model.x[('X2', 'C3')] + 24.99*model.x[('X3', 'C1')] + 29.99*model.x[('X3', 'C2')]+34.99*model.x[('X3', 'C3')] == 89.97)\n",
        "model.pprint()"
      ],
      "metadata": {
        "id": "BT4FA7wI_5bh",
        "outputId": "5c8a3c82-b8d3-4938-af44-19d49014e7b0",
        "colab": {
          "base_uri": "https://localhost:8080/"
        }
      },
      "execution_count": 12,
      "outputs": [
        {
          "output_type": "stream",
          "name": "stderr",
          "text": [
            "WARNING:pyomo.core:Implicitly replacing the Component attribute sumPrice (type=<class 'pyomo.core.base.constraint.ScalarConstraint'>) on block unknown with a new Component (type=<class 'pyomo.core.base.constraint.AbstractScalarConstraint'>).\n",
            "This is usually indicative of a modelling error.\n",
            "To avoid this warning, use block.del_component() and block.add_component().\n"
          ]
        },
        {
          "output_type": "stream",
          "name": "stdout",
          "text": [
            "1 Var Declarations\n",
            "    x : Size=9, Index={X1, X2, X3}*{C1, C2, C3}\n",
            "        Key          : Lower : Value : Upper : Fixed : Stale : Domain\n",
            "        ('X1', 'C1') :     0 :   1.0 :     1 : False : False : Binary\n",
            "        ('X1', 'C2') :     0 :   0.0 :     1 : False : False : Binary\n",
            "        ('X1', 'C3') :     0 :   0.0 :     1 : False : False : Binary\n",
            "        ('X2', 'C1') :     0 :   0.0 :     1 : False : False : Binary\n",
            "        ('X2', 'C2') :     0 :   1.0 :     1 : False : False : Binary\n",
            "        ('X2', 'C3') :     0 :   0.0 :     1 : False : False : Binary\n",
            "        ('X3', 'C1') :     0 :   0.0 :     1 : False : False : Binary\n",
            "        ('X3', 'C2') :     0 :   0.0 :     1 : False : False : Binary\n",
            "        ('X3', 'C3') :     0 :   1.0 :     1 : False : False : Binary\n",
            "\n",
            "1 Objective Declarations\n",
            "    OBJ : Size=1, Index=None, Active=True\n",
            "        Key  : Active : Sense    : Expression\n",
            "        None :   True : maximize : 2799*x[X1,C1] + 2399*x[X1,C2] + 1680*x[X1,C3] + 4573*x[X2,C1] + 4199*x[X2,C2] + 3394*x[X2,C3] + 0*x[X3,C1] + 2399*x[X3,C2] + 1225*x[X3,C3]\n",
            "\n",
            "4 Constraint Declarations\n",
            "    PricechoiceProd1 : Size=1, Index=None, Active=True\n",
            "        Key  : Lower : Body                           : Upper : Active\n",
            "        None :   1.0 : x[X1,C1] + x[X1,C2] + x[X1,C3] :   1.0 :   True\n",
            "    PricechoiceProd2 : Size=1, Index=None, Active=True\n",
            "        Key  : Lower : Body                           : Upper : Active\n",
            "        None :   1.0 : x[X2,C1] + x[X2,C2] + x[X2,C3] :   1.0 :   True\n",
            "    PricechoiceProd3 : Size=1, Index=None, Active=True\n",
            "        Key  : Lower : Body                           : Upper : Active\n",
            "        None :   1.0 : x[X3,C1] + x[X3,C2] + x[X3,C3] :   1.0 :   True\n",
            "    sumPrice : Size=1, Index=None, Active=True\n",
            "        Key  : Lower : Body                                                                                                                                                   : Upper : Active\n",
            "        None : 89.97 : 24.99*x[X1,C1] + 29.99*x[X1,C2] + 34.99*x[X1,C3] + 24.99*x[X2,C1] + 29.99*x[X2,C2] + 34.99*x[X2,C3] + 24.99*x[X3,C1] + 29.99*x[X3,C2] + 34.99*x[X3,C3] : 89.97 :   True\n",
            "\n",
            "6 Declarations: x OBJ PricechoiceProd1 PricechoiceProd2 PricechoiceProd3 sumPrice\n"
          ]
        }
      ]
    },
    {
      "cell_type": "code",
      "source": [
        "opt = SolverFactory('glpk')\n",
        "opt.solve(model)"
      ],
      "metadata": {
        "id": "WTlqOUTc91TY",
        "outputId": "a94a7725-4a24-43da-f267-182ca31b0540",
        "colab": {
          "base_uri": "https://localhost:8080/"
        }
      },
      "execution_count": 13,
      "outputs": [
        {
          "output_type": "execute_result",
          "data": {
            "text/plain": [
              "{'Problem': [{'Name': 'unknown', 'Lower bound': 8997.0, 'Upper bound': 8997.0, 'Number of objectives': 1, 'Number of constraints': 4, 'Number of variables': 9, 'Number of nonzeros': 18, 'Sense': 'maximize'}], 'Solver': [{'Status': 'ok', 'Termination condition': 'optimal', 'Statistics': {'Branch and bound': {'Number of bounded subproblems': '1', 'Number of created subproblems': '1'}}, 'Error rc': 0, 'Time': 0.004415750503540039}], 'Solution': [OrderedDict([('number of solutions', 0), ('number of solutions displayed', 0)])]}"
            ]
          },
          "metadata": {},
          "execution_count": 13
        }
      ]
    },
    {
      "cell_type": "code",
      "source": [
        "model.display()\n",
        "model.x.extract_values()\n",
        "model.OBJ()"
      ],
      "metadata": {
        "id": "M0dBdShS90qs",
        "outputId": "b1200680-1164-43a3-fefd-451010f997f7",
        "colab": {
          "base_uri": "https://localhost:8080/"
        }
      },
      "execution_count": 14,
      "outputs": [
        {
          "output_type": "stream",
          "name": "stdout",
          "text": [
            "Model unknown\n",
            "\n",
            "  Variables:\n",
            "    x : Size=9, Index={X1, X2, X3}*{C1, C2, C3}\n",
            "        Key          : Lower : Value : Upper : Fixed : Stale : Domain\n",
            "        ('X1', 'C1') :     0 :   0.0 :     1 : False : False : Binary\n",
            "        ('X1', 'C2') :     0 :   1.0 :     1 : False : False : Binary\n",
            "        ('X1', 'C3') :     0 :   0.0 :     1 : False : False : Binary\n",
            "        ('X2', 'C1') :     0 :   0.0 :     1 : False : False : Binary\n",
            "        ('X2', 'C2') :     0 :   1.0 :     1 : False : False : Binary\n",
            "        ('X2', 'C3') :     0 :   0.0 :     1 : False : False : Binary\n",
            "        ('X3', 'C1') :     0 :   0.0 :     1 : False : False : Binary\n",
            "        ('X3', 'C2') :     0 :   1.0 :     1 : False : False : Binary\n",
            "        ('X3', 'C3') :     0 :   0.0 :     1 : False : False : Binary\n",
            "\n",
            "  Objectives:\n",
            "    OBJ : Size=1, Index=None, Active=True\n",
            "        Key  : Active : Value\n",
            "        None :   True : 8997.0\n",
            "\n",
            "  Constraints:\n",
            "    PricechoiceProd1 : Size=1\n",
            "        Key  : Lower : Body : Upper\n",
            "        None :   1.0 :  1.0 :   1.0\n",
            "    PricechoiceProd2 : Size=1\n",
            "        Key  : Lower : Body : Upper\n",
            "        None :   1.0 :  1.0 :   1.0\n",
            "    PricechoiceProd3 : Size=1\n",
            "        Key  : Lower : Body : Upper\n",
            "        None :   1.0 :  1.0 :   1.0\n",
            "    sumPrice : Size=1\n",
            "        Key  : Lower : Body  : Upper\n",
            "        None : 89.97 : 89.97 : 89.97\n"
          ]
        },
        {
          "output_type": "execute_result",
          "data": {
            "text/plain": [
              "8997.0"
            ]
          },
          "metadata": {},
          "execution_count": 14
        }
      ]
    }
  ]
}