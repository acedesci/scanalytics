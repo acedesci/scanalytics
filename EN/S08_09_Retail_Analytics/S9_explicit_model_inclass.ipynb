{
  "nbformat": 4,
  "nbformat_minor": 0,
  "metadata": {
    "colab": {
      "provenance": [],
      "authorship_tag": "ABX9TyNBYjNIo6thw+TnqUNJhmsc",
      "include_colab_link": true
    },
    "kernelspec": {
      "name": "python3",
      "display_name": "Python 3"
    },
    "language_info": {
      "name": "python"
    }
  },
  "cells": [
    {
      "cell_type": "markdown",
      "metadata": {
        "id": "view-in-github",
        "colab_type": "text"
      },
      "source": [
        "<a href=\"https://colab.research.google.com/github/acedesci/scanalytics/blob/master/EN/S08_09_Retail_Analytics/S9_explicit_model_inclass.ipynb\" target=\"_parent\"><img src=\"https://colab.research.google.com/assets/colab-badge.svg\" alt=\"Open In Colab\"/></a>"
      ]
    },
    {
      "cell_type": "code",
      "execution_count": 2,
      "metadata": {
        "colab": {
          "base_uri": "https://localhost:8080/"
        },
        "id": "pEktOUkk18UU",
        "outputId": "c560ab14-32ca-4361-c6d4-cd03d7029da4"
      },
      "outputs": [
        {
          "output_type": "stream",
          "name": "stdout",
          "text": [
            "\u001b[2K     \u001b[90m━━━━━━━━━━━━━━━━━━━━━━━━━━━━━━━━━━━━━━━━\u001b[0m \u001b[32m12.7/12.7 MB\u001b[0m \u001b[31m24.9 MB/s\u001b[0m eta \u001b[36m0:00:00\u001b[0m\n",
            "\u001b[2K     \u001b[90m━━━━━━━━━━━━━━━━━━━━━━━━━━━━━━━━━━━━━━━━\u001b[0m \u001b[32m49.6/49.6 kB\u001b[0m \u001b[31m3.8 MB/s\u001b[0m eta \u001b[36m0:00:00\u001b[0m\n",
            "\u001b[?25hSelecting previously unselected package libsuitesparseconfig5:amd64.\n",
            "(Reading database ... 121752 files and directories currently installed.)\n",
            "Preparing to unpack .../libsuitesparseconfig5_1%3a5.10.1+dfsg-4build1_amd64.deb ...\n",
            "Unpacking libsuitesparseconfig5:amd64 (1:5.10.1+dfsg-4build1) ...\n",
            "Selecting previously unselected package libamd2:amd64.\n",
            "Preparing to unpack .../libamd2_1%3a5.10.1+dfsg-4build1_amd64.deb ...\n",
            "Unpacking libamd2:amd64 (1:5.10.1+dfsg-4build1) ...\n",
            "Selecting previously unselected package libcolamd2:amd64.\n",
            "Preparing to unpack .../libcolamd2_1%3a5.10.1+dfsg-4build1_amd64.deb ...\n",
            "Unpacking libcolamd2:amd64 (1:5.10.1+dfsg-4build1) ...\n",
            "Selecting previously unselected package libglpk40:amd64.\n",
            "Preparing to unpack .../libglpk40_5.0-1_amd64.deb ...\n",
            "Unpacking libglpk40:amd64 (5.0-1) ...\n",
            "Selecting previously unselected package glpk-utils.\n",
            "Preparing to unpack .../glpk-utils_5.0-1_amd64.deb ...\n",
            "Unpacking glpk-utils (5.0-1) ...\n",
            "Setting up libsuitesparseconfig5:amd64 (1:5.10.1+dfsg-4build1) ...\n",
            "Setting up libamd2:amd64 (1:5.10.1+dfsg-4build1) ...\n",
            "Setting up libcolamd2:amd64 (1:5.10.1+dfsg-4build1) ...\n",
            "Setting up libglpk40:amd64 (5.0-1) ...\n",
            "Setting up glpk-utils (5.0-1) ...\n",
            "Processing triggers for man-db (2.10.2-1) ...\n",
            "Processing triggers for libc-bin (2.35-0ubuntu3.4) ...\n",
            "/sbin/ldconfig.real: /usr/local/lib/libtbbbind_2_0.so.3 is not a symbolic link\n",
            "\n",
            "/sbin/ldconfig.real: /usr/local/lib/libtbbmalloc_proxy.so.2 is not a symbolic link\n",
            "\n",
            "/sbin/ldconfig.real: /usr/local/lib/libtbbbind_2_5.so.3 is not a symbolic link\n",
            "\n",
            "/sbin/ldconfig.real: /usr/local/lib/libtbbmalloc.so.2 is not a symbolic link\n",
            "\n",
            "/sbin/ldconfig.real: /usr/local/lib/libtbb.so.12 is not a symbolic link\n",
            "\n",
            "/sbin/ldconfig.real: /usr/local/lib/libtbbbind.so.3 is not a symbolic link\n",
            "\n"
          ]
        }
      ],
      "source": [
        "# Install Pyomo and GLPK\n",
        "!pip install -q pyomo\n",
        "!apt-get install -y -qq glpk-utils"
      ]
    },
    {
      "cell_type": "code",
      "source": [
        "from pyomo.environ import *"
      ],
      "metadata": {
        "id": "2rxFl2km7Xl1"
      },
      "execution_count": 3,
      "outputs": []
    },
    {
      "cell_type": "code",
      "source": [
        "productList = ['X1', 'X2', 'X3']\n",
        "priceList = ['C1', 'C2', 'C3']\n",
        "avgPrice = 89.97/3"
      ],
      "metadata": {
        "id": "4CB7nmgw7hdk"
      },
      "execution_count": 4,
      "outputs": []
    },
    {
      "cell_type": "code",
      "source": [
        "model = ConcreteModel()\n",
        "\n",
        "# define variables\n",
        "model.x = Var(productList,priceList, within = Binary)\n",
        "model.pprint()"
      ],
      "metadata": {
        "colab": {
          "base_uri": "https://localhost:8080/"
        },
        "id": "wncGg4Mj78sD",
        "outputId": "6a64ba5e-f6b6-4395-a48d-0ec1b5fe5823"
      },
      "execution_count": 5,
      "outputs": [
        {
          "output_type": "stream",
          "name": "stdout",
          "text": [
            "1 Var Declarations\n",
            "    x : Size=9, Index={X1, X2, X3}*{C1, C2, C3}\n",
            "        Key          : Lower : Value : Upper : Fixed : Stale : Domain\n",
            "        ('X1', 'C1') :     0 :  None :     1 : False :  True : Binary\n",
            "        ('X1', 'C2') :     0 :  None :     1 : False :  True : Binary\n",
            "        ('X1', 'C3') :     0 :  None :     1 : False :  True : Binary\n",
            "        ('X2', 'C1') :     0 :  None :     1 : False :  True : Binary\n",
            "        ('X2', 'C2') :     0 :  None :     1 : False :  True : Binary\n",
            "        ('X2', 'C3') :     0 :  None :     1 : False :  True : Binary\n",
            "        ('X3', 'C1') :     0 :  None :     1 : False :  True : Binary\n",
            "        ('X3', 'C2') :     0 :  None :     1 : False :  True : Binary\n",
            "        ('X3', 'C3') :     0 :  None :     1 : False :  True : Binary\n",
            "\n",
            "1 Declarations: x\n"
          ]
        }
      ]
    },
    {
      "cell_type": "code",
      "source": [
        "obj_expr = 2799*model.x[('X1', 'C1')] + 2399*model.x[('X1', 'C2')] + 1680*model.x[('X1', 'C3')]\n",
        "+ 4573*model.x[('X2', 'C1')] + 4199*model.x[('X2', 'C2')] + 3394*model.x[('X2', 'C3')]\n",
        "+ 0*model.x[('X3', 'C1')] + 2399*model.x[('X3', 'C2')]+1225*model.x[('X3', 'C3')]\n",
        "\n",
        "model.OBJ = Objective(sense = maximize, expr = obj_expr)\n",
        "model.pprint()"
      ],
      "metadata": {
        "colab": {
          "base_uri": "https://localhost:8080/"
        },
        "id": "GPAuPZVR8_wN",
        "outputId": "d4b93901-9013-4867-aa36-c7d7e8605aaf"
      },
      "execution_count": 6,
      "outputs": [
        {
          "output_type": "stream",
          "name": "stdout",
          "text": [
            "1 Var Declarations\n",
            "    x : Size=9, Index={X1, X2, X3}*{C1, C2, C3}\n",
            "        Key          : Lower : Value : Upper : Fixed : Stale : Domain\n",
            "        ('X1', 'C1') :     0 :  None :     1 : False :  True : Binary\n",
            "        ('X1', 'C2') :     0 :  None :     1 : False :  True : Binary\n",
            "        ('X1', 'C3') :     0 :  None :     1 : False :  True : Binary\n",
            "        ('X2', 'C1') :     0 :  None :     1 : False :  True : Binary\n",
            "        ('X2', 'C2') :     0 :  None :     1 : False :  True : Binary\n",
            "        ('X2', 'C3') :     0 :  None :     1 : False :  True : Binary\n",
            "        ('X3', 'C1') :     0 :  None :     1 : False :  True : Binary\n",
            "        ('X3', 'C2') :     0 :  None :     1 : False :  True : Binary\n",
            "        ('X3', 'C3') :     0 :  None :     1 : False :  True : Binary\n",
            "\n",
            "1 Objective Declarations\n",
            "    OBJ : Size=1, Index=None, Active=True\n",
            "        Key  : Active : Sense    : Expression\n",
            "        None :   True : maximize : 2799*x[X1,C1] + 2399*x[X1,C2] + 1680*x[X1,C3]\n",
            "\n",
            "2 Declarations: x OBJ\n"
          ]
        }
      ]
    },
    {
      "cell_type": "code",
      "source": [
        "# Constraint 1\n",
        "model.PricechoiceProd1 = Constraint(expr = model.x[('X1', 'C1')]+model.x[('X1', 'C2')]+model.x[('X1', 'C3')] == 1)\n",
        "model.PricechoiceProd2 = Constraint(expr = model.x[('X2', 'C1')]+model.x[('X2', 'C2')]+model.x[('X2', 'C3')] == 1)\n",
        "model.PricechoiceProd3 = Constraint(expr = model.x[('X3', 'C1')]+model.x[('X3', 'C2')]+model.x[('X3', 'C3')] == 1)\n",
        "model.pprint()"
      ],
      "metadata": {
        "colab": {
          "base_uri": "https://localhost:8080/"
        },
        "id": "9--qTa68990C",
        "outputId": "84395a36-79fd-42b2-8e30-34da0248471f"
      },
      "execution_count": 7,
      "outputs": [
        {
          "output_type": "stream",
          "name": "stdout",
          "text": [
            "1 Var Declarations\n",
            "    x : Size=9, Index={X1, X2, X3}*{C1, C2, C3}\n",
            "        Key          : Lower : Value : Upper : Fixed : Stale : Domain\n",
            "        ('X1', 'C1') :     0 :  None :     1 : False :  True : Binary\n",
            "        ('X1', 'C2') :     0 :  None :     1 : False :  True : Binary\n",
            "        ('X1', 'C3') :     0 :  None :     1 : False :  True : Binary\n",
            "        ('X2', 'C1') :     0 :  None :     1 : False :  True : Binary\n",
            "        ('X2', 'C2') :     0 :  None :     1 : False :  True : Binary\n",
            "        ('X2', 'C3') :     0 :  None :     1 : False :  True : Binary\n",
            "        ('X3', 'C1') :     0 :  None :     1 : False :  True : Binary\n",
            "        ('X3', 'C2') :     0 :  None :     1 : False :  True : Binary\n",
            "        ('X3', 'C3') :     0 :  None :     1 : False :  True : Binary\n",
            "\n",
            "1 Objective Declarations\n",
            "    OBJ : Size=1, Index=None, Active=True\n",
            "        Key  : Active : Sense    : Expression\n",
            "        None :   True : maximize : 2799*x[X1,C1] + 2399*x[X1,C2] + 1680*x[X1,C3]\n",
            "\n",
            "3 Constraint Declarations\n",
            "    PricechoiceProd1 : Size=1, Index=None, Active=True\n",
            "        Key  : Lower : Body                           : Upper : Active\n",
            "        None :   1.0 : x[X1,C1] + x[X1,C2] + x[X1,C3] :   1.0 :   True\n",
            "    PricechoiceProd2 : Size=1, Index=None, Active=True\n",
            "        Key  : Lower : Body                           : Upper : Active\n",
            "        None :   1.0 : x[X2,C1] + x[X2,C2] + x[X2,C3] :   1.0 :   True\n",
            "    PricechoiceProd3 : Size=1, Index=None, Active=True\n",
            "        Key  : Lower : Body                           : Upper : Active\n",
            "        None :   1.0 : x[X3,C1] + x[X3,C2] + x[X3,C3] :   1.0 :   True\n",
            "\n",
            "5 Declarations: x OBJ PricechoiceProd1 PricechoiceProd2 PricechoiceProd3\n"
          ]
        }
      ]
    },
    {
      "cell_type": "code",
      "source": [
        "model.sumPrice = Constraint(expr = 24.99*model.x[('X1', 'C1')] + 29.99*model.x[('X1', 'C2')] + 34.99*model.x[('X1', 'C3')] + 24.99*model.x[('X2', 'C1')] + 29.99*model.x[('X2', 'C2')] + 34.99*model.x[('X2', 'C3')] + 24.99*model.x[('X3', 'C1')] + 29.99*model.x[('X3', 'C2')]+34.99*model.x[('X3', 'C3')] == 89.97)\n",
        "model.pprint()"
      ],
      "metadata": {
        "colab": {
          "base_uri": "https://localhost:8080/"
        },
        "id": "BT4FA7wI_5bh",
        "outputId": "45c7564c-5393-4365-b454-3cac957676b0"
      },
      "execution_count": 8,
      "outputs": [
        {
          "output_type": "stream",
          "name": "stdout",
          "text": [
            "1 Var Declarations\n",
            "    x : Size=9, Index={X1, X2, X3}*{C1, C2, C3}\n",
            "        Key          : Lower : Value : Upper : Fixed : Stale : Domain\n",
            "        ('X1', 'C1') :     0 :  None :     1 : False :  True : Binary\n",
            "        ('X1', 'C2') :     0 :  None :     1 : False :  True : Binary\n",
            "        ('X1', 'C3') :     0 :  None :     1 : False :  True : Binary\n",
            "        ('X2', 'C1') :     0 :  None :     1 : False :  True : Binary\n",
            "        ('X2', 'C2') :     0 :  None :     1 : False :  True : Binary\n",
            "        ('X2', 'C3') :     0 :  None :     1 : False :  True : Binary\n",
            "        ('X3', 'C1') :     0 :  None :     1 : False :  True : Binary\n",
            "        ('X3', 'C2') :     0 :  None :     1 : False :  True : Binary\n",
            "        ('X3', 'C3') :     0 :  None :     1 : False :  True : Binary\n",
            "\n",
            "1 Objective Declarations\n",
            "    OBJ : Size=1, Index=None, Active=True\n",
            "        Key  : Active : Sense    : Expression\n",
            "        None :   True : maximize : 2799*x[X1,C1] + 2399*x[X1,C2] + 1680*x[X1,C3]\n",
            "\n",
            "4 Constraint Declarations\n",
            "    PricechoiceProd1 : Size=1, Index=None, Active=True\n",
            "        Key  : Lower : Body                           : Upper : Active\n",
            "        None :   1.0 : x[X1,C1] + x[X1,C2] + x[X1,C3] :   1.0 :   True\n",
            "    PricechoiceProd2 : Size=1, Index=None, Active=True\n",
            "        Key  : Lower : Body                           : Upper : Active\n",
            "        None :   1.0 : x[X2,C1] + x[X2,C2] + x[X2,C3] :   1.0 :   True\n",
            "    PricechoiceProd3 : Size=1, Index=None, Active=True\n",
            "        Key  : Lower : Body                           : Upper : Active\n",
            "        None :   1.0 : x[X3,C1] + x[X3,C2] + x[X3,C3] :   1.0 :   True\n",
            "    sumPrice : Size=1, Index=None, Active=True\n",
            "        Key  : Lower : Body                                                                                                                                                   : Upper : Active\n",
            "        None : 89.97 : 24.99*x[X1,C1] + 29.99*x[X1,C2] + 34.99*x[X1,C3] + 24.99*x[X2,C1] + 29.99*x[X2,C2] + 34.99*x[X2,C3] + 24.99*x[X3,C1] + 29.99*x[X3,C2] + 34.99*x[X3,C3] : 89.97 :   True\n",
            "\n",
            "6 Declarations: x OBJ PricechoiceProd1 PricechoiceProd2 PricechoiceProd3 sumPrice\n"
          ]
        }
      ]
    },
    {
      "cell_type": "code",
      "source": [
        "opt = SolverFactory('glpk')\n",
        "opt.solve(model)"
      ],
      "metadata": {
        "colab": {
          "base_uri": "https://localhost:8080/"
        },
        "id": "WTlqOUTc91TY",
        "outputId": "c47978a3-0563-427f-889f-d01ff566fba2"
      },
      "execution_count": 9,
      "outputs": [
        {
          "output_type": "execute_result",
          "data": {
            "text/plain": [
              "{'Problem': [{'Name': 'unknown', 'Lower bound': 2799.0, 'Upper bound': 2799.0, 'Number of objectives': 1, 'Number of constraints': 4, 'Number of variables': 9, 'Number of nonzeros': 18, 'Sense': 'maximize'}], 'Solver': [{'Status': 'ok', 'Termination condition': 'optimal', 'Statistics': {'Branch and bound': {'Number of bounded subproblems': '5', 'Number of created subproblems': '5'}}, 'Error rc': 0, 'Time': 0.0040607452392578125}], 'Solution': [OrderedDict([('number of solutions', 0), ('number of solutions displayed', 0)])]}"
            ]
          },
          "metadata": {},
          "execution_count": 9
        }
      ]
    },
    {
      "cell_type": "code",
      "source": [
        "model.display()\n",
        "model.x.extract_values()\n",
        "model.OBJ()"
      ],
      "metadata": {
        "colab": {
          "base_uri": "https://localhost:8080/"
        },
        "id": "M0dBdShS90qs",
        "outputId": "9a8ae5b3-5b8f-496d-afa1-b2548469519b"
      },
      "execution_count": 10,
      "outputs": [
        {
          "output_type": "stream",
          "name": "stdout",
          "text": [
            "Model unknown\n",
            "\n",
            "  Variables:\n",
            "    x : Size=9, Index={X1, X2, X3}*{C1, C2, C3}\n",
            "        Key          : Lower : Value : Upper : Fixed : Stale : Domain\n",
            "        ('X1', 'C1') :     0 :   1.0 :     1 : False : False : Binary\n",
            "        ('X1', 'C2') :     0 :   0.0 :     1 : False : False : Binary\n",
            "        ('X1', 'C3') :     0 :   0.0 :     1 : False : False : Binary\n",
            "        ('X2', 'C1') :     0 :   0.0 :     1 : False : False : Binary\n",
            "        ('X2', 'C2') :     0 :   1.0 :     1 : False : False : Binary\n",
            "        ('X2', 'C3') :     0 :   0.0 :     1 : False : False : Binary\n",
            "        ('X3', 'C1') :     0 :   0.0 :     1 : False : False : Binary\n",
            "        ('X3', 'C2') :     0 :   0.0 :     1 : False : False : Binary\n",
            "        ('X3', 'C3') :     0 :   1.0 :     1 : False : False : Binary\n",
            "\n",
            "  Objectives:\n",
            "    OBJ : Size=1, Index=None, Active=True\n",
            "        Key  : Active : Value\n",
            "        None :   True : 2799.0\n",
            "\n",
            "  Constraints:\n",
            "    PricechoiceProd1 : Size=1\n",
            "        Key  : Lower : Body : Upper\n",
            "        None :   1.0 :  1.0 :   1.0\n",
            "    PricechoiceProd2 : Size=1\n",
            "        Key  : Lower : Body : Upper\n",
            "        None :   1.0 :  1.0 :   1.0\n",
            "    PricechoiceProd3 : Size=1\n",
            "        Key  : Lower : Body : Upper\n",
            "        None :   1.0 :  1.0 :   1.0\n",
            "    sumPrice : Size=1\n",
            "        Key  : Lower : Body  : Upper\n",
            "        None : 89.97 : 89.97 : 89.97\n"
          ]
        },
        {
          "output_type": "execute_result",
          "data": {
            "text/plain": [
              "2799.0"
            ]
          },
          "metadata": {},
          "execution_count": 10
        }
      ]
    }
  ]
}