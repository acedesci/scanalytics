{
  "nbformat": 4,
  "nbformat_minor": 0,
  "metadata": {
    "colab": {
      "provenance": [],
      "authorship_tag": "ABX9TyMTHOud0fK4mNZTruca/BcA",
      "include_colab_link": true
    },
    "kernelspec": {
      "name": "python3",
      "display_name": "Python 3"
    },
    "language_info": {
      "name": "python"
    }
  },
  "cells": [
    {
      "cell_type": "markdown",
      "metadata": {
        "id": "view-in-github",
        "colab_type": "text"
      },
      "source": [
        "<a href=\"https://colab.research.google.com/github/acedesci/scanalytics/blob/master/EN/S08_09_Retail_Analytics/S8_9_ML_toy_prediction_model.ipynb\" target=\"_parent\"><img src=\"https://colab.research.google.com/assets/colab-badge.svg\" alt=\"Open In Colab\"/></a>"
      ]
    },
    {
      "cell_type": "code",
      "execution_count": null,
      "metadata": {
        "id": "EbITSK-c3ZVr"
      },
      "outputs": [],
      "source": [
        "import pandas\n",
        "import numpy\n",
        "import sklearn\n",
        "from sklearn import *"
      ]
    },
    {
      "cell_type": "code",
      "source": [
        "url = 'https://raw.githubusercontent.com/acedesci/scanalytics/master/EN/S08_09_Retail_Analytics/salesCereals.csv'\n",
        "salesCereals = pandas.read_csv(url)\n",
        "\n",
        "\n",
        "salesCereals['DISCOUNT'] = (salesCereals['BASE_PRICE']-salesCereals['PRICE'])/salesCereals['BASE_PRICE']\n",
        "print(salesCereals.columns)\n",
        "salesCereals"
      ],
      "metadata": {
        "id": "YyIrJIAw3dgC"
      },
      "execution_count": null,
      "outputs": []
    },
    {
      "cell_type": "code",
      "source": [
        "print(salesCereals.UPC.unique())\n",
        "\n",
        "upc = 3800031829\n",
        "df_oneUPC = salesCereals[salesCereals['UPC']==upc]\n",
        "df_oneUPC"
      ],
      "metadata": {
        "id": "JMY09IyW3lBf"
      },
      "execution_count": null,
      "outputs": []
    },
    {
      "cell_type": "code",
      "source": [
        "feature_list = ['PRICE','DISCOUNT','FEATURE', 'DISPLAY', 'TPR_ONLY','RELPRICE']\n",
        "X = df_oneUPC[feature_list]\n",
        "y = df_oneUPC['UNITS']\n",
        "  # Split into training and testing data\n",
        "X_train, X_test, y_train, y_test = sklearn.model_selection.train_test_split(X, y, random_state=0)"
      ],
      "metadata": {
        "id": "X04EUKW033qh"
      },
      "execution_count": null,
      "outputs": []
    },
    {
      "cell_type": "code",
      "source": [
        "#Linear model\n",
        "regr = sklearn.linear_model.LinearRegression()\n",
        "regr.fit(X_train,y_train)\n",
        "\n",
        "# Prediction on the test set\n",
        "y_pred = regr.predict(X_test)\n",
        "\n",
        "# Measure the prediction performances on the test set\n",
        "testMAE = sklearn.metrics.mean_absolute_error(y_test, y_pred)\n",
        "testMAPE = numpy.mean(numpy.abs((y_test - y_pred) / y_test))\n",
        "testRMSE = numpy.sqrt(sklearn.metrics.mean_squared_error(y_test, y_pred))\n",
        "\n",
        "print('Test MAE:' + str(round(testMAE,2)))\n",
        "print('Test MAPE:' + str(round(testMAPE,2)))\n",
        "print('Test RMSE:' + str(round(testRMSE,2)))"
      ],
      "metadata": {
        "id": "tg7CXSC94LKB"
      },
      "execution_count": null,
      "outputs": []
    },
    {
      "cell_type": "code",
      "source": [
        "X_test['y_actual'] = y_test\n",
        "X_test['y_predict'] = y_pred\n",
        "X_test\n",
        "\n",
        "X_test.to_csv('prediction.csv')"
      ],
      "metadata": {
        "id": "mggoVw5a-Buv"
      },
      "execution_count": null,
      "outputs": []
    },
    {
      "cell_type": "code",
      "source": [
        "from google.colab import files\n",
        "files.download('prediction.csv')"
      ],
      "metadata": {
        "id": "P6sxXl9T-iI3"
      },
      "execution_count": null,
      "outputs": []
    },
    {
      "cell_type": "code",
      "source": [
        "#Random Forest\n",
        "regr = sklearn.ensemble.RandomForestRegressor(random_state = 0)\n",
        "\n",
        "regr.fit(X_train,y_train)\n",
        "\n",
        "# Prediction on the test set\n",
        "y_pred = regr.predict(X_test)\n",
        "\n",
        "# Measure the prediction performances on the test set\n",
        "testMAE = sklearn.metrics.mean_absolute_error(y_test, y_pred)\n",
        "testMAPE = numpy.mean(numpy.abs((y_test - y_pred) / y_test))\n",
        "testRMSE = numpy.sqrt(sklearn.metrics.mean_squared_error(y_test, y_pred))\n",
        "\n",
        "print('Test MAE:' + str(round(testMAE,2)))\n",
        "print('Test MAPE:' + str(round(testMAPE,2)))\n",
        "print('Test RMSE:' + str(round(testRMSE,2)))"
      ],
      "metadata": {
        "id": "CUDtYQSf4zY5"
      },
      "execution_count": null,
      "outputs": []
    },
    {
      "cell_type": "code",
      "source": [
        "!pip install lightgbm"
      ],
      "metadata": {
        "id": "kDcof3W_5D2h"
      },
      "execution_count": null,
      "outputs": []
    },
    {
      "cell_type": "code",
      "source": [
        "import lightgbm"
      ],
      "metadata": {
        "id": "eQnTmX9e5qh4"
      },
      "execution_count": null,
      "outputs": []
    },
    {
      "cell_type": "code",
      "source": [
        "regr = lightgbm.LGBMRegressor()\n",
        "\n",
        "regr.fit(X_train,y_train)\n",
        "\n",
        "# Prediction on the test set\n",
        "y_pred = regr.predict(X_test)\n",
        "\n",
        "# Measure the prediction performances on the test set\n",
        "testMAE = sklearn.metrics.mean_absolute_error(y_test, y_pred)\n",
        "testMAPE = numpy.mean(numpy.abs((y_test - y_pred) / y_test))\n",
        "testRMSE = numpy.sqrt(sklearn.metrics.mean_squared_error(y_test, y_pred))\n",
        "\n",
        "print('Test MAE:' + str(round(testMAE,2)))\n",
        "print('Test MAPE:' + str(round(testMAPE,2)))\n",
        "print('Test RMSE:' + str(round(testRMSE,2)))"
      ],
      "metadata": {
        "id": "SXYFLMKc5tgP"
      },
      "execution_count": null,
      "outputs": []
    }
  ]
}