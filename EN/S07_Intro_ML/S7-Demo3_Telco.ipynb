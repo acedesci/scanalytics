{
  "nbformat": 4,
  "nbformat_minor": 0,
  "metadata": {
    "kernelspec": {
      "display_name": "Python 3",
      "language": "python",
      "name": "python3"
    },
    "language_info": {
      "codemirror_mode": {
        "name": "ipython",
        "version": 3
      },
      "file_extension": ".py",
      "mimetype": "text/x-python",
      "name": "python",
      "nbconvert_exporter": "python",
      "pygments_lexer": "ipython3",
      "version": "3.6.10"
    },
    "varInspector": {
      "cols": {
        "lenName": 16,
        "lenType": 16,
        "lenVar": 40
      },
      "kernels_config": {
        "python": {
          "delete_cmd_postfix": "",
          "delete_cmd_prefix": "del ",
          "library": "var_list.py",
          "varRefreshCmd": "print(var_dic_list())"
        },
        "r": {
          "delete_cmd_postfix": ") ",
          "delete_cmd_prefix": "rm(",
          "library": "var_list.r",
          "varRefreshCmd": "cat(var_dic_list()) "
        }
      },
      "types_to_exclude": [
        "module",
        "function",
        "builtin_function_or_method",
        "instance",
        "_Feature"
      ],
      "window_display": false
    },
    "colab": {
      "name": "S7-Demo3_Telco.ipynb",
      "provenance": [],
      "collapsed_sections": [],
      "include_colab_link": true
    }
  },
  "cells": [
    {
      "cell_type": "markdown",
      "metadata": {
        "id": "view-in-github",
        "colab_type": "text"
      },
      "source": [
        "<a href=\"https://colab.research.google.com/github/acedesci/scanalytics/blob/master/S7_intro_ML/S7-Demo3_Telco.ipynb\" target=\"_parent\"><img src=\"https://colab.research.google.com/assets/colab-badge.svg\" alt=\"Open In Colab\"/></a>"
      ]
    },
    {
      "cell_type": "markdown",
      "metadata": {
        "id": "H797invmatYz",
        "colab_type": "text"
      },
      "source": [
        "# Session 7: Introduction to ML - Classification"
      ]
    },
    {
      "cell_type": "markdown",
      "metadata": {
        "id": "qyTCwtrpatY1",
        "colab_type": "text"
      },
      "source": [
        "## Demo 3: Classification on Customer Churn Dataset"
      ]
    },
    {
      "cell_type": "markdown",
      "metadata": {
        "id": "Ke5yJeXbatY2",
        "colab_type": "text"
      },
      "source": [
        "Classification using customer service churn dataset (https://www.kaggle.com/blastchar/telco-customer-churn)"
      ]
    },
    {
      "cell_type": "code",
      "metadata": {
        "id": "NC0hkjqkatY3",
        "colab_type": "code",
        "outputId": "e29760c8-9ea1-4156-9c69-17cc9cd97678",
        "colab": {
          "base_uri": "https://localhost:8080/",
          "height": 34
        }
      },
      "source": [
        "import sklearn\n",
        "from sklearn import *\n",
        "sklearn.__version__"
      ],
      "execution_count": 1,
      "outputs": [
        {
          "output_type": "execute_result",
          "data": {
            "text/plain": [
              "'0.22.1'"
            ]
          },
          "metadata": {
            "tags": []
          },
          "execution_count": 1
        }
      ]
    },
    {
      "cell_type": "code",
      "metadata": {
        "id": "HZPBpYfIatY_",
        "colab_type": "code",
        "outputId": "444b3d3b-cbad-4448-dabb-526a737a25af",
        "colab": {
          "base_uri": "https://localhost:8080/",
          "height": 377
        }
      },
      "source": [
        "import pandas as pd\n",
        "# Load transformed dataset\n",
        "url = 'https://raw.githubusercontent.com/acedesci/scanalytics/master/S7_intro_ML/data/Telco-Customer-Churn_dummies.csv'\n",
        "customer_data = pd.read_csv(url)\n",
        "\n",
        "selected_features = customer_data.columns[1:-1].values #take only column 2 until the column prior to the predicted value (the last column is the label)\n",
        "print(selected_features)\n",
        "X = customer_data[selected_features].values\n",
        "y = customer_data['Churn_Yes'].values\n",
        "customer_data.head(5)"
      ],
      "execution_count": 11,
      "outputs": [
        {
          "output_type": "stream",
          "text": [
            "['SeniorCitizen' 'tenure' 'MonthlyCharges' 'TotalCharges' 'gender_Male'\n",
            " 'Partner_Yes' 'Dependents_Yes' 'PhoneService_Yes' 'MultipleLines_Yes'\n",
            " 'InternetService_Fiber optic' 'InternetService_No' 'OnlineSecurity_Yes'\n",
            " 'OnlineBackup_Yes' 'DeviceProtection_Yes' 'TechSupport_Yes'\n",
            " 'StreamingTV_Yes' 'StreamingMovies_Yes' 'Contract_One year'\n",
            " 'Contract_Two year' 'PaperlessBilling_Yes'\n",
            " 'PaymentMethod_Credit card (automatic)' 'PaymentMethod_Electronic check'\n",
            " 'PaymentMethod_Mailed check']\n"
          ],
          "name": "stdout"
        },
        {
          "output_type": "execute_result",
          "data": {
            "text/html": [
              "<div>\n",
              "<style scoped>\n",
              "    .dataframe tbody tr th:only-of-type {\n",
              "        vertical-align: middle;\n",
              "    }\n",
              "\n",
              "    .dataframe tbody tr th {\n",
              "        vertical-align: top;\n",
              "    }\n",
              "\n",
              "    .dataframe thead th {\n",
              "        text-align: right;\n",
              "    }\n",
              "</style>\n",
              "<table border=\"1\" class=\"dataframe\">\n",
              "  <thead>\n",
              "    <tr style=\"text-align: right;\">\n",
              "      <th></th>\n",
              "      <th>Unnamed: 0</th>\n",
              "      <th>SeniorCitizen</th>\n",
              "      <th>tenure</th>\n",
              "      <th>MonthlyCharges</th>\n",
              "      <th>TotalCharges</th>\n",
              "      <th>gender_Male</th>\n",
              "      <th>Partner_Yes</th>\n",
              "      <th>Dependents_Yes</th>\n",
              "      <th>PhoneService_Yes</th>\n",
              "      <th>MultipleLines_Yes</th>\n",
              "      <th>InternetService_Fiber optic</th>\n",
              "      <th>InternetService_No</th>\n",
              "      <th>OnlineSecurity_Yes</th>\n",
              "      <th>OnlineBackup_Yes</th>\n",
              "      <th>DeviceProtection_Yes</th>\n",
              "      <th>TechSupport_Yes</th>\n",
              "      <th>StreamingTV_Yes</th>\n",
              "      <th>StreamingMovies_Yes</th>\n",
              "      <th>Contract_One year</th>\n",
              "      <th>Contract_Two year</th>\n",
              "      <th>PaperlessBilling_Yes</th>\n",
              "      <th>PaymentMethod_Credit card (automatic)</th>\n",
              "      <th>PaymentMethod_Electronic check</th>\n",
              "      <th>PaymentMethod_Mailed check</th>\n",
              "      <th>Churn_Yes</th>\n",
              "    </tr>\n",
              "  </thead>\n",
              "  <tbody>\n",
              "    <tr>\n",
              "      <th>0</th>\n",
              "      <td>0</td>\n",
              "      <td>0</td>\n",
              "      <td>1</td>\n",
              "      <td>29.85</td>\n",
              "      <td>29.85</td>\n",
              "      <td>0</td>\n",
              "      <td>1</td>\n",
              "      <td>0</td>\n",
              "      <td>0</td>\n",
              "      <td>0</td>\n",
              "      <td>0</td>\n",
              "      <td>0</td>\n",
              "      <td>0</td>\n",
              "      <td>1</td>\n",
              "      <td>0</td>\n",
              "      <td>0</td>\n",
              "      <td>0</td>\n",
              "      <td>0</td>\n",
              "      <td>0</td>\n",
              "      <td>0</td>\n",
              "      <td>1</td>\n",
              "      <td>0</td>\n",
              "      <td>1</td>\n",
              "      <td>0</td>\n",
              "      <td>0</td>\n",
              "    </tr>\n",
              "    <tr>\n",
              "      <th>1</th>\n",
              "      <td>1</td>\n",
              "      <td>0</td>\n",
              "      <td>34</td>\n",
              "      <td>56.95</td>\n",
              "      <td>1889.50</td>\n",
              "      <td>1</td>\n",
              "      <td>0</td>\n",
              "      <td>0</td>\n",
              "      <td>1</td>\n",
              "      <td>0</td>\n",
              "      <td>0</td>\n",
              "      <td>0</td>\n",
              "      <td>1</td>\n",
              "      <td>0</td>\n",
              "      <td>1</td>\n",
              "      <td>0</td>\n",
              "      <td>0</td>\n",
              "      <td>0</td>\n",
              "      <td>1</td>\n",
              "      <td>0</td>\n",
              "      <td>0</td>\n",
              "      <td>0</td>\n",
              "      <td>0</td>\n",
              "      <td>1</td>\n",
              "      <td>0</td>\n",
              "    </tr>\n",
              "    <tr>\n",
              "      <th>2</th>\n",
              "      <td>2</td>\n",
              "      <td>0</td>\n",
              "      <td>2</td>\n",
              "      <td>53.85</td>\n",
              "      <td>108.15</td>\n",
              "      <td>1</td>\n",
              "      <td>0</td>\n",
              "      <td>0</td>\n",
              "      <td>1</td>\n",
              "      <td>0</td>\n",
              "      <td>0</td>\n",
              "      <td>0</td>\n",
              "      <td>1</td>\n",
              "      <td>1</td>\n",
              "      <td>0</td>\n",
              "      <td>0</td>\n",
              "      <td>0</td>\n",
              "      <td>0</td>\n",
              "      <td>0</td>\n",
              "      <td>0</td>\n",
              "      <td>1</td>\n",
              "      <td>0</td>\n",
              "      <td>0</td>\n",
              "      <td>1</td>\n",
              "      <td>1</td>\n",
              "    </tr>\n",
              "    <tr>\n",
              "      <th>3</th>\n",
              "      <td>3</td>\n",
              "      <td>0</td>\n",
              "      <td>45</td>\n",
              "      <td>42.30</td>\n",
              "      <td>1840.75</td>\n",
              "      <td>1</td>\n",
              "      <td>0</td>\n",
              "      <td>0</td>\n",
              "      <td>0</td>\n",
              "      <td>0</td>\n",
              "      <td>0</td>\n",
              "      <td>0</td>\n",
              "      <td>1</td>\n",
              "      <td>0</td>\n",
              "      <td>1</td>\n",
              "      <td>1</td>\n",
              "      <td>0</td>\n",
              "      <td>0</td>\n",
              "      <td>1</td>\n",
              "      <td>0</td>\n",
              "      <td>0</td>\n",
              "      <td>0</td>\n",
              "      <td>0</td>\n",
              "      <td>0</td>\n",
              "      <td>0</td>\n",
              "    </tr>\n",
              "    <tr>\n",
              "      <th>4</th>\n",
              "      <td>4</td>\n",
              "      <td>0</td>\n",
              "      <td>2</td>\n",
              "      <td>70.70</td>\n",
              "      <td>151.65</td>\n",
              "      <td>0</td>\n",
              "      <td>0</td>\n",
              "      <td>0</td>\n",
              "      <td>1</td>\n",
              "      <td>0</td>\n",
              "      <td>1</td>\n",
              "      <td>0</td>\n",
              "      <td>0</td>\n",
              "      <td>0</td>\n",
              "      <td>0</td>\n",
              "      <td>0</td>\n",
              "      <td>0</td>\n",
              "      <td>0</td>\n",
              "      <td>0</td>\n",
              "      <td>0</td>\n",
              "      <td>1</td>\n",
              "      <td>0</td>\n",
              "      <td>1</td>\n",
              "      <td>0</td>\n",
              "      <td>1</td>\n",
              "    </tr>\n",
              "  </tbody>\n",
              "</table>\n",
              "</div>"
            ],
            "text/plain": [
              "   Unnamed: 0  SeniorCitizen  ...  PaymentMethod_Mailed check  Churn_Yes\n",
              "0           0              0  ...                           0          0\n",
              "1           1              0  ...                           1          0\n",
              "2           2              0  ...                           1          1\n",
              "3           3              0  ...                           0          0\n",
              "4           4              0  ...                           0          1\n",
              "\n",
              "[5 rows x 25 columns]"
            ]
          },
          "metadata": {
            "tags": []
          },
          "execution_count": 11
        }
      ]
    },
    {
      "cell_type": "code",
      "metadata": {
        "id": "KslAXQcRatZD",
        "colab_type": "code",
        "colab": {}
      },
      "source": [
        "# Split into training and testing data (72/25 by default)\n",
        "X_train, X_test, y_train, y_test = sklearn.model_selection.train_test_split(X, y, random_state=0)"
      ],
      "execution_count": 0,
      "outputs": []
    },
    {
      "cell_type": "markdown",
      "metadata": {
        "id": "OurT10YPatZH",
        "colab_type": "text"
      },
      "source": [
        "### 1. Logistic regression model"
      ]
    },
    {
      "cell_type": "code",
      "metadata": {
        "id": "hB2O6pxeatZI",
        "colab_type": "code",
        "outputId": "1d795671-d75e-46c2-f4a6-53493044cef4",
        "colab": {
          "base_uri": "https://localhost:8080/",
          "height": 187
        }
      },
      "source": [
        "# Run Logistic regression\n",
        "logreg = sklearn.linear_model.LogisticRegression().fit(X_train, y_train)\n",
        "\n",
        "# Print the results\n",
        "print(\"Logistic Regression: Training accuracy: {:.3f}\".format(logreg.score(X_train, y_train)))\n",
        "print(\"Logistic Regression: Testing accuracy: {:.3f}\".format(logreg.score(X_test, y_test)))"
      ],
      "execution_count": 4,
      "outputs": [
        {
          "output_type": "stream",
          "text": [
            "Logistic Regression: Training accuracy: 0.804\n",
            "Logistic Regression: Testing accuracy: 0.803\n"
          ],
          "name": "stdout"
        },
        {
          "output_type": "stream",
          "text": [
            "/usr/local/lib/python3.6/dist-packages/sklearn/linear_model/_logistic.py:940: ConvergenceWarning: lbfgs failed to converge (status=1):\n",
            "STOP: TOTAL NO. of ITERATIONS REACHED LIMIT.\n",
            "\n",
            "Increase the number of iterations (max_iter) or scale the data as shown in:\n",
            "    https://scikit-learn.org/stable/modules/preprocessing.html\n",
            "Please also refer to the documentation for alternative solver options:\n",
            "    https://scikit-learn.org/stable/modules/linear_model.html#logistic-regression\n",
            "  extra_warning_msg=_LOGISTIC_SOLVER_CONVERGENCE_MSG)\n"
          ],
          "name": "stderr"
        }
      ]
    },
    {
      "cell_type": "markdown",
      "metadata": {
        "id": "iNyGfq19atZM",
        "colab_type": "text"
      },
      "source": [
        "### 2. Decision tree model"
      ]
    },
    {
      "cell_type": "code",
      "metadata": {
        "id": "CT4g8l9datZN",
        "colab_type": "code",
        "outputId": "b5097e58-ba58-498f-d7cd-2bfe1d2f6b1e",
        "colab": {
          "base_uri": "https://localhost:8080/",
          "height": 51
        }
      },
      "source": [
        "# Run decision tree\n",
        "tree = sklearn.tree.DecisionTreeClassifier(random_state=0).fit(X_train, y_train)\n",
        "print(\"Decision Tree: Training accuracy: {:.3f}\".format(tree.score(X_train, y_train)))\n",
        "print(\"Decision Tree: Testing accuracy: {:.3f}\".format(tree.score(X_test, y_test)))"
      ],
      "execution_count": 5,
      "outputs": [
        {
          "output_type": "stream",
          "text": [
            "Decision Tree: Training accuracy: 0.998\n",
            "Decision Tree: Testing accuracy: 0.728\n"
          ],
          "name": "stdout"
        }
      ]
    },
    {
      "cell_type": "markdown",
      "metadata": {
        "id": "QL3zoNdbbab5",
        "colab_type": "text"
      },
      "source": [
        "#### Explore feature importance and tree"
      ]
    },
    {
      "cell_type": "code",
      "metadata": {
        "id": "k_GEslOgatZY",
        "colab_type": "code",
        "outputId": "41a9ab54-8115-4a07-cd64-87a6c281b940",
        "colab": {
          "base_uri": "https://localhost:8080/",
          "height": 221
        }
      },
      "source": [
        "print(selected_features)\n",
        "print(tree.feature_importances_)"
      ],
      "execution_count": 6,
      "outputs": [
        {
          "output_type": "stream",
          "text": [
            "['SeniorCitizen' 'tenure' 'MonthlyCharges' 'TotalCharges' 'gender_Male'\n",
            " 'Partner_Yes' 'Dependents_Yes' 'PhoneService_Yes' 'MultipleLines_Yes'\n",
            " 'InternetService_Fiber optic' 'InternetService_No' 'OnlineSecurity_Yes'\n",
            " 'OnlineBackup_Yes' 'DeviceProtection_Yes' 'TechSupport_Yes'\n",
            " 'StreamingTV_Yes' 'StreamingMovies_Yes' 'Contract_One year'\n",
            " 'Contract_Two year' 'PaperlessBilling_Yes'\n",
            " 'PaymentMethod_Credit card (automatic)' 'PaymentMethod_Electronic check'\n",
            " 'PaymentMethod_Mailed check']\n",
            "[0.02016947 0.20541234 0.20192093 0.20033532 0.01785826 0.02301442\n",
            " 0.02093878 0.00614344 0.01771242 0.10620989 0.0081558  0.02129966\n",
            " 0.01264798 0.01281799 0.01333978 0.00940799 0.01384085 0.01021719\n",
            " 0.01269879 0.01527732 0.01159024 0.02668053 0.01231063]\n"
          ],
          "name": "stdout"
        }
      ]
    },
    {
      "cell_type": "code",
      "metadata": {
        "id": "NS4jHtuOatZf",
        "colab_type": "code",
        "outputId": "3580919e-7b0f-46d3-86f1-0f0273153f4c",
        "colab": {
          "base_uri": "https://localhost:8080/",
          "height": 683
        }
      },
      "source": [
        "import matplotlib.pyplot as plt\n",
        "plt.figure(figsize=(12,12))\n",
        "sklearn.tree.plot_tree(tree, feature_names=selected_features, fontsize=10, max_depth=2)\n",
        "plt.show()"
      ],
      "execution_count": 7,
      "outputs": [
        {
          "output_type": "display_data",
          "data": {
            "image/png": "[encoded data removed]",
            "text/plain": [
              "<Figure size 864x864 with 1 Axes>"
            ]
          },
          "metadata": {
            "tags": []
          }
        }
      ]
    },
    {
      "cell_type": "markdown",
      "metadata": {
        "id": "TiV1Pm6SatZj",
        "colab_type": "text"
      },
      "source": [
        "### 3. Evaluation - calculate precision and recall"
      ]
    },
    {
      "cell_type": "markdown",
      "metadata": {
        "id": "lY8BzUCdatZk",
        "colab_type": "text"
      },
      "source": [
        "Calculate precision and recall for the model recently fitted (either logistic regression or decision tree)"
      ]
    },
    {
      "cell_type": "code",
      "metadata": {
        "id": "mbnNL7GpatZk",
        "colab_type": "code",
        "outputId": "2b654ea0-f6b0-4cc8-a13c-69d638c352bd",
        "colab": {
          "base_uri": "https://localhost:8080/",
          "height": 51
        }
      },
      "source": [
        "# calculate precision and recall\n",
        "\n",
        "y_predict = logreg.predict(X_test) #use this for logistic regression \n",
        "# y_predict = tree.predict(X_test) #use this for decision tree\n",
        "\n",
        "print(\"Precision score: {:.3f}\".format(sklearn.metrics.precision_score(y_test, y_predict)))\n",
        "print(\"Recall score: {:.3f}\".format(sklearn.metrics.recall_score(y_test, y_predict)))"
      ],
      "execution_count": 8,
      "outputs": [
        {
          "output_type": "stream",
          "text": [
            "Precision score: 0.643\n",
            "Recall score: 0.508\n"
          ],
          "name": "stdout"
        }
      ]
    },
    {
      "cell_type": "markdown",
      "metadata": {
        "id": "QLhjpn4matZn",
        "colab_type": "text"
      },
      "source": [
        "Plot precision-recall curve (see https://scikit-learn.org/stable/auto_examples/model_selection/plot_precision_recall.html#sphx-glr-auto-examples-model-selection-plot-precision-recall-py)"
      ]
    },
    {
      "cell_type": "code",
      "metadata": {
        "id": "xm-LMn2KatZo",
        "colab_type": "code",
        "outputId": "27d89311-ec6d-4e35-8019-8bb3efb890b0",
        "colab": {
          "base_uri": "https://localhost:8080/",
          "height": 312
        }
      },
      "source": [
        "import matplotlib.pyplot as plt\n",
        "\n",
        "y_prob = logreg.decision_function(X_test) #use this for logistic regression\n",
        "# y_prob = tree.predict_proba(X_test)[:,1]  #use this for decision tree\n",
        "\n",
        "precision, recall, thresholds = sklearn.metrics.precision_recall_curve(y_test, y_prob)\n",
        "\n",
        "plt.figure()\n",
        "plt.step(recall, precision)\n",
        "average_precision = sklearn.metrics.average_precision_score(y_test, y_prob)\n",
        "\n",
        "plt.xlabel('Recall')\n",
        "plt.ylabel('Precision')\n",
        "plt.ylim([0.0, 1.05])\n",
        "plt.xlim([0.0, 1.0])\n",
        "plt.title('Average precision score: AP={0:0.2f}'.format(average_precision))"
      ],
      "execution_count": 9,
      "outputs": [
        {
          "output_type": "execute_result",
          "data": {
            "text/plain": [
              "Text(0.5, 1.0, 'Average precision score: AP=0.63')"
            ]
          },
          "metadata": {
            "tags": []
          },
          "execution_count": 9
        },
        {
          "output_type": "display_data",
          "data": {
            "image/png": "[encoded data removed]",
            "text/plain": [
              "<Figure size 432x288 with 1 Axes>"
            ]
          },
          "metadata": {
            "tags": []
          }
        }
      ]
    },
    {
      "cell_type": "code",
      "metadata": {
        "id": "6A6XX4OsatZr",
        "colab_type": "code",
        "colab": {}
      },
      "source": [
        ""
      ],
      "execution_count": 0,
      "outputs": []
    }
  ]
}