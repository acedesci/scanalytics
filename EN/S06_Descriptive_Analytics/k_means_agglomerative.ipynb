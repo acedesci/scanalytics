{
  "nbformat": 4,
  "nbformat_minor": 0,
  "metadata": {
    "colab": {
      "provenance": [],
      "authorship_tag": "ABX9TyOmVSjr0C2lWX8X+kvimoPf",
      "include_colab_link": true
    },
    "kernelspec": {
      "name": "python3",
      "display_name": "Python 3"
    },
    "language_info": {
      "name": "python"
    }
  },
  "cells": [
    {
      "cell_type": "markdown",
      "metadata": {
        "id": "view-in-github",
        "colab_type": "text"
      },
      "source": [
        "<a href=\"https://colab.research.google.com/github/acedesci/scanalytics/blob/master/EN/S06_Descriptive_Analytics/k_means_agglomerative.ipynb\" target=\"_parent\"><img src=\"https://colab.research.google.com/assets/colab-badge.svg\" alt=\"Open In Colab\"/></a>"
      ]
    },
    {
      "cell_type": "code",
      "execution_count": null,
      "metadata": {
        "id": "6OgUq4XU4eXe"
      },
      "outputs": [],
      "source": [
        "import pandas as pd\n",
        "import sklearn\n",
        "from sklearn.cluster import KMeans, AgglomerativeClustering\n",
        "\n",
        "from google.colab import files\n",
        "import io \n",
        "\n",
        "uploaded = files.upload()\n",
        "df_inputs = pd.read_csv(io.BytesIO(uploaded['inputs_normalized.csv']),index_col='country') \n",
        "X = df_inputs[:]"
      ]
    },
    {
      "cell_type": "code",
      "source": [
        "X"
      ],
      "metadata": {
        "id": "L1PVBHLP5Gbs"
      },
      "execution_count": null,
      "outputs": []
    },
    {
      "cell_type": "code",
      "source": [
        "kmeans_object = sklearn.cluster.KMeans(n_clusters=2, random_state=0).fit(X)\n",
        "df_inputs['cluster_kmeans_2'] = kmeans_object.labels_\n",
        "df_inputs"
      ],
      "metadata": {
        "id": "LVSM4bZu5-FB"
      },
      "execution_count": null,
      "outputs": []
    },
    {
      "cell_type": "code",
      "source": [
        "print(sklearn.metrics.silhouette_score(X, kmeans_object.labels_))\n",
        "print(kmeans_object.inertia_)"
      ],
      "metadata": {
        "id": "1O70_uuR6iGD"
      },
      "execution_count": null,
      "outputs": []
    },
    {
      "cell_type": "code",
      "source": [
        "agglo_object = sklearn.cluster.AgglomerativeClustering(n_clusters=2).fit(X)\n",
        "df_inputs['cluster_Agglo_2'] = agglo_object.labels_\n",
        "df_inputs"
      ],
      "metadata": {
        "id": "LlcsA4U48Vxc"
      },
      "execution_count": null,
      "outputs": []
    },
    {
      "cell_type": "code",
      "source": [
        "print(sklearn.metrics.silhouette_score(X, agglo_object.labels_))\n"
      ],
      "metadata": {
        "id": "bDOlWBx484BC"
      },
      "execution_count": null,
      "outputs": []
    }
  ]
}