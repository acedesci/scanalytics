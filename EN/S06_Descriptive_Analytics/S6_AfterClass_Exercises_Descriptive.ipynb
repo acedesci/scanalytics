{
  "nbformat": 4,
  "nbformat_minor": 0,
  "metadata": {
    "kernelspec": {
      "display_name": "Python 3",
      "language": "python",
      "name": "python3"
    },
    "language_info": {
      "codemirror_mode": {
        "name": "ipython",
        "version": 3
      },
      "file_extension": ".py",
      "mimetype": "text/x-python",
      "name": "python",
      "nbconvert_exporter": "python",
      "pygments_lexer": "ipython3",
      "version": "3.7.6"
    },
    "colab": {
      "name": "S6_AfterClass_Exercises_Descriptive.ipynb",
      "provenance": [],
      "include_colab_link": true
    }
  },
  "cells": [
    {
      "cell_type": "markdown",
      "metadata": {
        "id": "view-in-github",
        "colab_type": "text"
      },
      "source": [
        "<a href=\"https://colab.research.google.com/github/acedesci/scanalytics/blob/master/EN/S06_Descriptive_Analytics/S6_AfterClass_Exercises_Descriptive.ipynb\" target=\"_parent\"><img src=\"https://colab.research.google.com/assets/colab-badge.svg\" alt=\"Open In Colab\"/></a>"
      ]
    },
    {
      "cell_type": "markdown",
      "metadata": {
        "id": "PdRRhLQSBimf"
      },
      "source": [
        "# S6 - AfterClass Exercise: Descriptive Analytics and  Visualization \n",
        "---\n",
        "## Instructions:\n",
        "Most of the exercises presented here allows you to practice basic Python programming for some applications in Operations Management and Logistics.\n",
        "\n",
        "For each exercise, you have a code cell for the response underneath it, where you should write your answer between the lines containing `### start your code here ###` and `### end your code here ###`. Your code can contain one or more lines and you can execute this cell in order to complete the exercise. To execute the cell, you can type `Shift+Enter` or press the play button in the toolbar above. Your results will appear right below this response cell.\n",
        "\n",
        "NOTE: Please pay attention to the variable name of the output you would need to provide under each question. You must use the same variable name for the output so that the result can be printed out correctly."
      ]
    },
    {
      "cell_type": "markdown",
      "metadata": {
        "id": "_1wW6TfIBimi"
      },
      "source": [
        "# Analyzing and Visualizing Crops Statistics in the Americas\n",
        "In this notebook, you will implement some visualization of the data about crop statistics in the Americas. This data is available at the file `Production_Crops_E_Americas.csv`, adapted from data provided by the Food and Agriculture Organization of the United Nations (FAO). The original files can be found at [this page](https://data.world/agriculture/crop-production).\n",
        "\n",
        "This is a description of the columns of our adapted data:\n",
        "\n",
        "| VARIABLE NAME | DESCRIPTION | \n",
        "|:----|:----|\n",
        "|area_code| numeric value representing the area|\n",
        "|area| name of the area (e.g., Argentina, Canada, Chile, Colombia)|\n",
        "|item_code| numeric value representing the item |\n",
        "|item| name of the product (e.g, Bananas, Beans, Cassava)|\n",
        "|element_code|numeric value representing the element|\n",
        "|element|specification of the data (e.g., Area Harvested, Yield, Production)|\n",
        "|unit| measure unit (e.g., ha - *hectare* -, hg/ha - *hectogram per hectare* -,and tonnes |\n",
        "|Y2000| crop of the year 2000|\n",
        "|...|...|\n",
        "|Y2014| crop of the year 2014|"
      ]
    },
    {
      "cell_type": "markdown",
      "metadata": {
        "id": "plhfGNSZBimj"
      },
      "source": [
        "## Data preparation:  Importing libraries and Data Set\n",
        "\n",
        "In the code cell below, import the `pandas` library under the alias `pd`; the library `seaborn` under the alias `sns`; and the `matplotlib.pyplot` library under the alias `plt`. \n",
        "\n",
        "Note that we will be using the `% matplotlib inline` magic command to make sure our graphics are displayed in our Jupyter Notebook. \n",
        "\n",
        "**IMPORTANT:** You simply need to execute the codes below to preprocess data until the DataFrame `df_transformed` is generated (prior to Exercise 1)"
      ]
    },
    {
      "cell_type": "code",
      "metadata": {
        "id": "xrObjeR4Bimj"
      },
      "source": [
        "import pandas as pd\n",
        "import matplotlib.pyplot as plt\n",
        "import seaborn as sns\n",
        "\n",
        "%matplotlib inline"
      ],
      "execution_count": null,
      "outputs": []
    },
    {
      "cell_type": "markdown",
      "metadata": {
        "id": "xhHWioaABimk"
      },
      "source": [
        "Import the data file `'Production_Crops_E_Americas.csv'` into a `DataFrame` named `df_crops`. \n",
        "\n",
        "**Note:** you can use the `pandas.read_csv()` function and parameter `encoding` set as `'latin-1'` to avoid errors due to special characters in the data file."
      ]
    },
    {
      "cell_type": "code",
      "metadata": {
        "scrolled": true,
        "id": "Tf6dXR0fBiml"
      },
      "source": [
        "url = 'https://raw.githubusercontent.com/acedesci/scanalytics/master/EN/S06_Descriptive_Analytics/Production_Crops_E_Americas.csv'\n",
        "df_crops = pd.read_csv(url, encoding='latin-1')  # reading data file into a DataFrame\n",
        "df_crops.head()\n",
        "    \n",
        "# replacing missing values with 0\n",
        "df_crops.fillna(0, inplace=True)  "
      ],
      "execution_count": null,
      "outputs": []
    },
    {
      "cell_type": "markdown",
      "metadata": {
        "id": "a-o3bEg9QKpO"
      },
      "source": [
        "Since the data is in a pivot structure, we transform it using the function `pd.melt(...)` to unpivot it and rearrange the years into one column. See [link](https://pandas.pydata.org/docs/reference/api/pandas.melt.html)."
      ]
    },
    {
      "cell_type": "code",
      "metadata": {
        "id": "wpDtlArYQJoH"
      },
      "source": [
        "df_unpivot = pd.melt(df_crops, id_vars=['item', 'area', 'element'], value_vars=['Y20%02d'%(i) for i in range(15)], \n",
        "        var_name='year', value_name='value') \n",
        "df_unpivot"
      ],
      "execution_count": null,
      "outputs": []
    },
    {
      "cell_type": "markdown",
      "metadata": {
        "id": "YJ-zd-fQnUpG"
      },
      "source": [
        "We then transform the data and put the values in separate columns for variables. "
      ]
    },
    {
      "cell_type": "code",
      "metadata": {
        "id": "qFXH5tEuQxaK"
      },
      "source": [
        "df_transformed = df_unpivot.pivot(index=[\"item\", \"area\", \"year\"], columns='element', values='value').reset_index()\n",
        "df_transformed"
      ],
      "execution_count": null,
      "outputs": []
    },
    {
      "cell_type": "markdown",
      "metadata": {
        "id": "qQIAim-HBimn"
      },
      "source": [
        "## Exercise 1:  Visualizations\n",
        "Let's explore the production of some products in Canada from 2000 to 2014. For that, we first separate the data of interest. More specifically, we are intested only the data from `df_transformed` based on the following conditions \n",
        "\n",
        "*   `area = 'Canada'` \n",
        "*   list of items (products) to analyze: `'Blueberries'`, `'Raspberries'`, and `'Strawberries'`\n",
        "\n",
        "Please put the resulting DataFrame into a new DataFrame object `df_canada`"
      ]
    },
    {
      "cell_type": "code",
      "metadata": {
        "id": "HjiJKiLrBimn"
      },
      "source": [
        "### start your code here ###\n",
        "\n",
        "### end your code here ###"
      ],
      "execution_count": null,
      "outputs": []
    },
    {
      "cell_type": "markdown",
      "metadata": {
        "id": "F5e0_SrGBimp"
      },
      "source": [
        "**b)** Create a line graph from the DataFrame `df_canada` to show the  production of `'Blueberries'`, `'Raspberries'` and `'Strawberries'` in Canada. Configure the aesthetics of your graph as follows.\n",
        "\n",
        "* Set the size of the figure to `12, 6`\n",
        "* Give the title `Annual Production in Canada` to the graph\n",
        "* Set the labels of the `x`-axis and `y`-axis as `Years` and  `Tonnes`, respectively\n",
        "* Each item should appear as a separate line in the graph using arguments `hue = \"item\"`,  `style = \"item\"` and `markers = True`\n",
        "    \n",
        "**Hint**:  \n",
        "\n",
        "*   Use the function `seaborn.lineplot()` to draw a line plot with several semantic groupings (e.g., to differentiate items). Check [this page](https://seaborn.pydata.org/generated/seaborn.lineplot.html) for more information abut this function. \n",
        "*   Use functions `plt.title()` and `plt.figure()` to set the title and size of the graph, respectively. \n",
        " \n"
      ]
    },
    {
      "cell_type": "code",
      "metadata": {
        "scrolled": false,
        "id": "CtV2P1BlBimp"
      },
      "source": [
        "### start your code here ###\n",
        "\n",
        "### end your code here ###"
      ],
      "execution_count": null,
      "outputs": []
    },
    {
      "cell_type": "markdown",
      "metadata": {
        "id": "P344fqFdBims"
      },
      "source": [
        "**c.)** Create a scatter plot from the DataFrame `df_canada` to show the relations between the harvested area and the production of the selected products in Canada. Configure the aesthetics of your graph as follow.\n",
        "\n",
        "* Set the size of the figure to `12, 6`\n",
        "* Give a meaningful title to the graph\n",
        "* Use the style `'white'`\n",
        "* Set the labels of the `x`-axis and `y`-axis as `Tonnes` and  `Hectares`, respectively\n",
        "* Each product should be differentiated using the argument `hue='item'`\n",
        "    \n",
        "**Hint:** \n",
        "* Use the function `seaborn.scatterplot()` to draw a line plot with several semantic groupings (e.g., to differentiate items). Check [this page](https://seaborn.pydata.org/generated/seaborn.scatterplot.html) for more information abut this function.  "
      ]
    },
    {
      "cell_type": "code",
      "metadata": {
        "id": "cMdfTmPpBims"
      },
      "source": [
        "### start your code here ### \n",
        "\n",
        "### end your code here ####"
      ],
      "execution_count": null,
      "outputs": []
    },
    {
      "cell_type": "markdown",
      "metadata": {
        "id": "FC1_L-NcTeKW"
      },
      "source": [
        "## Exercise 2: Clustering algorithms\n",
        "\n",
        "**a)** Please filter and transform the data from the transformed DataFrame `df_transformed` (which contains the data of all the countries) using the following steps\n",
        "\n",
        "* Step 1: Filter only the item: `'Grapes'`\n",
        "* Step 2: Use the function `groupby` to summarize the statistics by country (`area`) for the following variables:\n",
        "  *   Average 'Production' per year\n",
        "  *   Average 'Yield' per year\n",
        "* Step 3: Remove rows with `NaN` (Hint: you can use `df = df.dropna(axis='rows')`. See [link](https://pandas.pydata.org/pandas-docs/stable/reference/api/pandas.DataFrame.dropna.html).\n",
        "* Step 4: Normalize the two columns above using z-score transformation and put them in the new columns with prefix `z_`\n",
        "\n",
        "\n",
        "\n"
      ]
    },
    {
      "cell_type": "code",
      "metadata": {
        "id": "MSpYrN3cWHbQ"
      },
      "source": [
        "### start your code here ### \n",
        "\n",
        "### end your code here ####"
      ],
      "execution_count": null,
      "outputs": []
    },
    {
      "cell_type": "markdown",
      "metadata": {
        "id": "saoHxhPLZ6iZ"
      },
      "source": [
        "**Note:** For the following two questions, you can make use of the codes for clustering in the lecture and adapt for this data.\n",
        "\n",
        "**b)** Apply K-Means method to cluster the countries based on the recenly created DataFrame using the normalized variables ['Production', 'Yield']. Please compare the results based on `K = 2, 3, ..., 9` and recommend the best number of clusters. "
      ]
    },
    {
      "cell_type": "code",
      "metadata": {
        "id": "RbKRRSa2amNI"
      },
      "source": [
        "### start your code here ### \n",
        "\n",
        "### end your code here ####"
      ],
      "execution_count": null,
      "outputs": []
    },
    {
      "cell_type": "markdown",
      "metadata": {
        "id": "RTDjsQEhalZc"
      },
      "source": [
        "**c)** Apply (hierarchical) alglomorative clustering method to cluster the countries based on the recenly created DataFrame using the normalized variables `['Production', 'Yield']` using `K = 2, 3, 4`. Please then explain how the resulting hierarchy of the clusters looks like. More specifically, what clusters are aggregated and combined into one cluster starting from `K = 4`?"
      ]
    },
    {
      "cell_type": "code",
      "metadata": {
        "id": "52tfCrfdbOMK"
      },
      "source": [
        "### start your code here ### \n",
        "\n",
        "### end your code here ####"
      ],
      "execution_count": null,
      "outputs": []
    },
    {
      "cell_type": "code",
      "metadata": {
        "id": "McFmeDkndjW4"
      },
      "source": [],
      "execution_count": null,
      "outputs": []
    }
  ]
}