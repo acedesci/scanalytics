{
  "nbformat": 4,
  "nbformat_minor": 0,
  "metadata": {
    "colab": {
      "provenance": [],
      "authorship_tag": "ABX9TyOkAO8DXURJBgEmpkCw9ER7",
      "include_colab_link": true
    },
    "kernelspec": {
      "name": "python3",
      "display_name": "Python 3"
    },
    "language_info": {
      "name": "python"
    }
  },
  "cells": [
    {
      "cell_type": "markdown",
      "metadata": {
        "id": "view-in-github",
        "colab_type": "text"
      },
      "source": [
        "<a href=\"https://colab.research.google.com/github/acedesci/scanalytics/blob/master/EN/S01_Intro/S1_simple_TS_prophet.ipynb\" target=\"_parent\"><img src=\"https://colab.research.google.com/assets/colab-badge.svg\" alt=\"Open In Colab\"/></a>"
      ]
    },
    {
      "cell_type": "code",
      "execution_count": null,
      "metadata": {
        "id": "p0d94XIjQ_H9"
      },
      "outputs": [],
      "source": [
        "# simple Python code for time-series (using Prophet)\n",
        "\n",
        "import pandas as pd\n",
        "from prophet import Prophet\n",
        "\n",
        "data = pd.read_csv('https://bit.ly/m5simple')\n",
        "\n",
        "m = Prophet().fit(data)\n",
        "\n",
        "future = m.make_future_dataframe(periods=52)\n",
        "forecast = m.predict(future)\n",
        "\n",
        "fig1 = m.plot(forecast)\n",
        "fig2 = m.plot_components(forecast)"
      ]
    }
  ]
}