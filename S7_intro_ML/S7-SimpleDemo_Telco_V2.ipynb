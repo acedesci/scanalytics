{
  "nbformat": 4,
  "nbformat_minor": 0,
  "metadata": {
    "kernelspec": {
      "display_name": "Python 3",
      "language": "python",
      "name": "python3"
    },
    "language_info": {
      "codemirror_mode": {
        "name": "ipython",
        "version": 3
      },
      "file_extension": ".py",
      "mimetype": "text/x-python",
      "name": "python",
      "nbconvert_exporter": "python",
      "pygments_lexer": "ipython3",
      "version": "3.6.10"
    },
    "varInspector": {
      "cols": {
        "lenName": 16,
        "lenType": 16,
        "lenVar": 40
      },
      "kernels_config": {
        "python": {
          "delete_cmd_postfix": "",
          "delete_cmd_prefix": "del ",
          "library": "var_list.py",
          "varRefreshCmd": "print(var_dic_list())"
        },
        "r": {
          "delete_cmd_postfix": ") ",
          "delete_cmd_prefix": "rm(",
          "library": "var_list.r",
          "varRefreshCmd": "cat(var_dic_list()) "
        }
      },
      "types_to_exclude": [
        "module",
        "function",
        "builtin_function_or_method",
        "instance",
        "_Feature"
      ],
      "window_display": false
    },
    "colab": {
      "name": "S7-SimpleDemo_Telco.ipynb",
      "provenance": [],
      "collapsed_sections": [],
      "include_colab_link": true
    }
  },
  "cells": [
    {
      "cell_type": "markdown",
      "metadata": {
        "id": "view-in-github",
        "colab_type": "text"
      },
      "source": [
        "<a href=\"https://colab.research.google.com/github/acedesci/scanalytics/blob/master/S7_intro_ML/S7-SimpleDemo_Telco_V2.ipynb\" target=\"_parent\"><img src=\"https://colab.research.google.com/assets/colab-badge.svg\" alt=\"Open In Colab\"/></a>"
      ]
    },
    {
      "cell_type": "markdown",
      "metadata": {
        "id": "H797invmatYz"
      },
      "source": [
        "# Session 7: Introduction to ML - Classification"
      ]
    },
    {
      "cell_type": "markdown",
      "metadata": {
        "id": "qyTCwtrpatY1"
      },
      "source": [
        "## Step-by-step simple demo based on Classification on Customer Churn Dataset"
      ]
    },
    {
      "cell_type": "markdown",
      "metadata": {
        "id": "9cS5YfcZHddR"
      },
      "source": [
        "Classification using customer service churn dataset (https://www.kaggle.com/blastchar/telco-customer-churn). This dataset has been preprocessed to create dummy variables. We will only use part of the variables and datapoints in this example. **This simple demo shows a step-by-step analysis of a sliced dataset which can be easily reviewed with detailed markdown comments for this case.** For the full-scale run, you can modify the code to allow the models to train on the full dataset.\r\n",
        "\r\n",
        "In this first step, we will load sklearn library, which is a common library used in machine learning. Please see: https://scikit-learn.org/stable/getting_started.html for reference. The code \"sklearn.__version__\" simply shows the version of sklearn we are using."
      ]
    },
    {
      "cell_type": "code",
      "metadata": {
        "id": "NC0hkjqkatY3",
        "outputId": "31bb5bf4-c6ee-4f81-d8b7-857decdb3f38",
        "colab": {
          "base_uri": "https://localhost:8080/",
          "height": 35
        }
      },
      "source": [
        "import sklearn\n",
        "from sklearn import *\n",
        "sklearn.__version__"
      ],
      "execution_count": 1,
      "outputs": [
        {
          "output_type": "execute_result",
          "data": {
            "application/vnd.google.colaboratory.intrinsic+json": {
              "type": "string"
            },
            "text/plain": [
              "'0.22.2.post1'"
            ]
          },
          "metadata": {
            "tags": []
          },
          "execution_count": 1
        }
      ]
    },
    {
      "cell_type": "markdown",
      "metadata": {
        "id": "nYyh9qxZIE13"
      },
      "source": [
        "### **Block 1**: data input\n",
        "\n",
        "First, we will load the data input which is in the csv format. This data input is available on the URL indicated in the codes (there is no need to download it to your machine but you can follow the link to download it if you want to). We will print out the first 5 rows to review. \n",
        "\n",
        "In this dataset, the first column is the ID of the customer whereas the subsequent columns, except the last one, describe the input data which are associated with each customer (e.g., for the first customer, he is not a *SeniorCitizen*, has a *tenure* of 1 month, and his *MonthlyCharges* is $29.85, etc.). The last column is the label indicating if his customer has not churned (*Churn_Yes* = 0)."
      ]
    },
    {
      "cell_type": "code",
      "metadata": {
        "id": "HZPBpYfIatY_",
        "outputId": "a97eb10e-3e72-403c-db0b-3088c07a44ab",
        "colab": {
          "base_uri": "https://localhost:8080/",
          "height": 460
        }
      },
      "source": [
        "import pandas as pd\n",
        "# Load transformed dataset\n",
        "url = 'https://raw.githubusercontent.com/acedesci/scanalytics/master/S7_intro_ML/data/Telco-Customer-Churn_dummies.csv'\n",
        "customer_data = pd.read_csv(url)\n",
        "customer_data"
      ],
      "execution_count": 2,
      "outputs": [
        {
          "output_type": "execute_result",
          "data": {
            "text/html": [
              "<div>\n",
              "<style scoped>\n",
              "    .dataframe tbody tr th:only-of-type {\n",
              "        vertical-align: middle;\n",
              "    }\n",
              "\n",
              "    .dataframe tbody tr th {\n",
              "        vertical-align: top;\n",
              "    }\n",
              "\n",
              "    .dataframe thead th {\n",
              "        text-align: right;\n",
              "    }\n",
              "</style>\n",
              "<table border=\"1\" class=\"dataframe\">\n",
              "  <thead>\n",
              "    <tr style=\"text-align: right;\">\n",
              "      <th></th>\n",
              "      <th>ID</th>\n",
              "      <th>SeniorCitizen</th>\n",
              "      <th>tenure</th>\n",
              "      <th>MonthlyCharges</th>\n",
              "      <th>TotalCharges</th>\n",
              "      <th>gender_Male</th>\n",
              "      <th>Partner_Yes</th>\n",
              "      <th>Dependents_Yes</th>\n",
              "      <th>PhoneService_Yes</th>\n",
              "      <th>MultipleLines_Yes</th>\n",
              "      <th>InternetService_Fiber optic</th>\n",
              "      <th>InternetService_No</th>\n",
              "      <th>OnlineSecurity_Yes</th>\n",
              "      <th>OnlineBackup_Yes</th>\n",
              "      <th>DeviceProtection_Yes</th>\n",
              "      <th>TechSupport_Yes</th>\n",
              "      <th>StreamingTV_Yes</th>\n",
              "      <th>StreamingMovies_Yes</th>\n",
              "      <th>Contract_One year</th>\n",
              "      <th>Contract_Two year</th>\n",
              "      <th>PaperlessBilling_Yes</th>\n",
              "      <th>PaymentMethod_Credit card (automatic)</th>\n",
              "      <th>PaymentMethod_Electronic check</th>\n",
              "      <th>PaymentMethod_Mailed check</th>\n",
              "      <th>Churn_Yes</th>\n",
              "    </tr>\n",
              "  </thead>\n",
              "  <tbody>\n",
              "    <tr>\n",
              "      <th>0</th>\n",
              "      <td>0</td>\n",
              "      <td>0</td>\n",
              "      <td>1</td>\n",
              "      <td>29.85</td>\n",
              "      <td>29.85</td>\n",
              "      <td>0</td>\n",
              "      <td>1</td>\n",
              "      <td>0</td>\n",
              "      <td>0</td>\n",
              "      <td>0</td>\n",
              "      <td>0</td>\n",
              "      <td>0</td>\n",
              "      <td>0</td>\n",
              "      <td>1</td>\n",
              "      <td>0</td>\n",
              "      <td>0</td>\n",
              "      <td>0</td>\n",
              "      <td>0</td>\n",
              "      <td>0</td>\n",
              "      <td>0</td>\n",
              "      <td>1</td>\n",
              "      <td>0</td>\n",
              "      <td>1</td>\n",
              "      <td>0</td>\n",
              "      <td>0</td>\n",
              "    </tr>\n",
              "    <tr>\n",
              "      <th>1</th>\n",
              "      <td>1</td>\n",
              "      <td>0</td>\n",
              "      <td>34</td>\n",
              "      <td>56.95</td>\n",
              "      <td>1889.50</td>\n",
              "      <td>1</td>\n",
              "      <td>0</td>\n",
              "      <td>0</td>\n",
              "      <td>1</td>\n",
              "      <td>0</td>\n",
              "      <td>0</td>\n",
              "      <td>0</td>\n",
              "      <td>1</td>\n",
              "      <td>0</td>\n",
              "      <td>1</td>\n",
              "      <td>0</td>\n",
              "      <td>0</td>\n",
              "      <td>0</td>\n",
              "      <td>1</td>\n",
              "      <td>0</td>\n",
              "      <td>0</td>\n",
              "      <td>0</td>\n",
              "      <td>0</td>\n",
              "      <td>1</td>\n",
              "      <td>0</td>\n",
              "    </tr>\n",
              "    <tr>\n",
              "      <th>2</th>\n",
              "      <td>2</td>\n",
              "      <td>0</td>\n",
              "      <td>2</td>\n",
              "      <td>53.85</td>\n",
              "      <td>108.15</td>\n",
              "      <td>1</td>\n",
              "      <td>0</td>\n",
              "      <td>0</td>\n",
              "      <td>1</td>\n",
              "      <td>0</td>\n",
              "      <td>0</td>\n",
              "      <td>0</td>\n",
              "      <td>1</td>\n",
              "      <td>1</td>\n",
              "      <td>0</td>\n",
              "      <td>0</td>\n",
              "      <td>0</td>\n",
              "      <td>0</td>\n",
              "      <td>0</td>\n",
              "      <td>0</td>\n",
              "      <td>1</td>\n",
              "      <td>0</td>\n",
              "      <td>0</td>\n",
              "      <td>1</td>\n",
              "      <td>1</td>\n",
              "    </tr>\n",
              "    <tr>\n",
              "      <th>3</th>\n",
              "      <td>3</td>\n",
              "      <td>0</td>\n",
              "      <td>45</td>\n",
              "      <td>42.30</td>\n",
              "      <td>1840.75</td>\n",
              "      <td>1</td>\n",
              "      <td>0</td>\n",
              "      <td>0</td>\n",
              "      <td>0</td>\n",
              "      <td>0</td>\n",
              "      <td>0</td>\n",
              "      <td>0</td>\n",
              "      <td>1</td>\n",
              "      <td>0</td>\n",
              "      <td>1</td>\n",
              "      <td>1</td>\n",
              "      <td>0</td>\n",
              "      <td>0</td>\n",
              "      <td>1</td>\n",
              "      <td>0</td>\n",
              "      <td>0</td>\n",
              "      <td>0</td>\n",
              "      <td>0</td>\n",
              "      <td>0</td>\n",
              "      <td>0</td>\n",
              "    </tr>\n",
              "    <tr>\n",
              "      <th>4</th>\n",
              "      <td>4</td>\n",
              "      <td>0</td>\n",
              "      <td>2</td>\n",
              "      <td>70.70</td>\n",
              "      <td>151.65</td>\n",
              "      <td>0</td>\n",
              "      <td>0</td>\n",
              "      <td>0</td>\n",
              "      <td>1</td>\n",
              "      <td>0</td>\n",
              "      <td>1</td>\n",
              "      <td>0</td>\n",
              "      <td>0</td>\n",
              "      <td>0</td>\n",
              "      <td>0</td>\n",
              "      <td>0</td>\n",
              "      <td>0</td>\n",
              "      <td>0</td>\n",
              "      <td>0</td>\n",
              "      <td>0</td>\n",
              "      <td>1</td>\n",
              "      <td>0</td>\n",
              "      <td>1</td>\n",
              "      <td>0</td>\n",
              "      <td>1</td>\n",
              "    </tr>\n",
              "    <tr>\n",
              "      <th>...</th>\n",
              "      <td>...</td>\n",
              "      <td>...</td>\n",
              "      <td>...</td>\n",
              "      <td>...</td>\n",
              "      <td>...</td>\n",
              "      <td>...</td>\n",
              "      <td>...</td>\n",
              "      <td>...</td>\n",
              "      <td>...</td>\n",
              "      <td>...</td>\n",
              "      <td>...</td>\n",
              "      <td>...</td>\n",
              "      <td>...</td>\n",
              "      <td>...</td>\n",
              "      <td>...</td>\n",
              "      <td>...</td>\n",
              "      <td>...</td>\n",
              "      <td>...</td>\n",
              "      <td>...</td>\n",
              "      <td>...</td>\n",
              "      <td>...</td>\n",
              "      <td>...</td>\n",
              "      <td>...</td>\n",
              "      <td>...</td>\n",
              "      <td>...</td>\n",
              "    </tr>\n",
              "    <tr>\n",
              "      <th>7027</th>\n",
              "      <td>7038</td>\n",
              "      <td>0</td>\n",
              "      <td>24</td>\n",
              "      <td>84.80</td>\n",
              "      <td>1990.50</td>\n",
              "      <td>1</td>\n",
              "      <td>1</td>\n",
              "      <td>1</td>\n",
              "      <td>1</td>\n",
              "      <td>1</td>\n",
              "      <td>0</td>\n",
              "      <td>0</td>\n",
              "      <td>1</td>\n",
              "      <td>0</td>\n",
              "      <td>1</td>\n",
              "      <td>1</td>\n",
              "      <td>1</td>\n",
              "      <td>1</td>\n",
              "      <td>1</td>\n",
              "      <td>0</td>\n",
              "      <td>1</td>\n",
              "      <td>0</td>\n",
              "      <td>0</td>\n",
              "      <td>1</td>\n",
              "      <td>0</td>\n",
              "    </tr>\n",
              "    <tr>\n",
              "      <th>7028</th>\n",
              "      <td>7039</td>\n",
              "      <td>0</td>\n",
              "      <td>72</td>\n",
              "      <td>103.20</td>\n",
              "      <td>7362.90</td>\n",
              "      <td>0</td>\n",
              "      <td>1</td>\n",
              "      <td>1</td>\n",
              "      <td>1</td>\n",
              "      <td>1</td>\n",
              "      <td>1</td>\n",
              "      <td>0</td>\n",
              "      <td>0</td>\n",
              "      <td>1</td>\n",
              "      <td>1</td>\n",
              "      <td>0</td>\n",
              "      <td>1</td>\n",
              "      <td>1</td>\n",
              "      <td>1</td>\n",
              "      <td>0</td>\n",
              "      <td>1</td>\n",
              "      <td>1</td>\n",
              "      <td>0</td>\n",
              "      <td>0</td>\n",
              "      <td>0</td>\n",
              "    </tr>\n",
              "    <tr>\n",
              "      <th>7029</th>\n",
              "      <td>7040</td>\n",
              "      <td>0</td>\n",
              "      <td>11</td>\n",
              "      <td>29.60</td>\n",
              "      <td>346.45</td>\n",
              "      <td>0</td>\n",
              "      <td>1</td>\n",
              "      <td>1</td>\n",
              "      <td>0</td>\n",
              "      <td>0</td>\n",
              "      <td>0</td>\n",
              "      <td>0</td>\n",
              "      <td>1</td>\n",
              "      <td>0</td>\n",
              "      <td>0</td>\n",
              "      <td>0</td>\n",
              "      <td>0</td>\n",
              "      <td>0</td>\n",
              "      <td>0</td>\n",
              "      <td>0</td>\n",
              "      <td>1</td>\n",
              "      <td>0</td>\n",
              "      <td>1</td>\n",
              "      <td>0</td>\n",
              "      <td>0</td>\n",
              "    </tr>\n",
              "    <tr>\n",
              "      <th>7030</th>\n",
              "      <td>7041</td>\n",
              "      <td>1</td>\n",
              "      <td>4</td>\n",
              "      <td>74.40</td>\n",
              "      <td>306.60</td>\n",
              "      <td>1</td>\n",
              "      <td>1</td>\n",
              "      <td>0</td>\n",
              "      <td>1</td>\n",
              "      <td>1</td>\n",
              "      <td>1</td>\n",
              "      <td>0</td>\n",
              "      <td>0</td>\n",
              "      <td>0</td>\n",
              "      <td>0</td>\n",
              "      <td>0</td>\n",
              "      <td>0</td>\n",
              "      <td>0</td>\n",
              "      <td>0</td>\n",
              "      <td>0</td>\n",
              "      <td>1</td>\n",
              "      <td>0</td>\n",
              "      <td>0</td>\n",
              "      <td>1</td>\n",
              "      <td>1</td>\n",
              "    </tr>\n",
              "    <tr>\n",
              "      <th>7031</th>\n",
              "      <td>7042</td>\n",
              "      <td>0</td>\n",
              "      <td>66</td>\n",
              "      <td>105.65</td>\n",
              "      <td>6844.50</td>\n",
              "      <td>1</td>\n",
              "      <td>0</td>\n",
              "      <td>0</td>\n",
              "      <td>1</td>\n",
              "      <td>0</td>\n",
              "      <td>1</td>\n",
              "      <td>0</td>\n",
              "      <td>1</td>\n",
              "      <td>0</td>\n",
              "      <td>1</td>\n",
              "      <td>1</td>\n",
              "      <td>1</td>\n",
              "      <td>1</td>\n",
              "      <td>0</td>\n",
              "      <td>1</td>\n",
              "      <td>1</td>\n",
              "      <td>0</td>\n",
              "      <td>0</td>\n",
              "      <td>0</td>\n",
              "      <td>0</td>\n",
              "    </tr>\n",
              "  </tbody>\n",
              "</table>\n",
              "<p>7032 rows × 25 columns</p>\n",
              "</div>"
            ],
            "text/plain": [
              "        ID  SeniorCitizen  ...  PaymentMethod_Mailed check  Churn_Yes\n",
              "0        0              0  ...                           0          0\n",
              "1        1              0  ...                           1          0\n",
              "2        2              0  ...                           1          1\n",
              "3        3              0  ...                           0          0\n",
              "4        4              0  ...                           0          1\n",
              "...    ...            ...  ...                         ...        ...\n",
              "7027  7038              0  ...                           1          0\n",
              "7028  7039              0  ...                           0          0\n",
              "7029  7040              0  ...                           0          0\n",
              "7030  7041              1  ...                           1          1\n",
              "7031  7042              0  ...                           0          0\n",
              "\n",
              "[7032 rows x 25 columns]"
            ]
          },
          "metadata": {
            "tags": []
          },
          "execution_count": 2
        }
      ]
    },
    {
      "cell_type": "markdown",
      "metadata": {
        "id": "FVglUK-QKnG0"
      },
      "source": [
        "For simplicity, we will cut only the first 20 customer IDs for our demo. This is only for the sake of presentation and you should run the analysis in the full dataset in practice."
      ]
    },
    {
      "cell_type": "code",
      "metadata": {
        "id": "b028tdVXK44j",
        "outputId": "c3a4e0e7-6bc6-4dc3-d753-b0229a512fb4",
        "colab": {
          "base_uri": "https://localhost:8080/",
          "height": 744
        }
      },
      "source": [
        "customer_data = customer_data.loc[:20]\n",
        "customer_data"
      ],
      "execution_count": 3,
      "outputs": [
        {
          "output_type": "execute_result",
          "data": {
            "text/html": [
              "<div>\n",
              "<style scoped>\n",
              "    .dataframe tbody tr th:only-of-type {\n",
              "        vertical-align: middle;\n",
              "    }\n",
              "\n",
              "    .dataframe tbody tr th {\n",
              "        vertical-align: top;\n",
              "    }\n",
              "\n",
              "    .dataframe thead th {\n",
              "        text-align: right;\n",
              "    }\n",
              "</style>\n",
              "<table border=\"1\" class=\"dataframe\">\n",
              "  <thead>\n",
              "    <tr style=\"text-align: right;\">\n",
              "      <th></th>\n",
              "      <th>ID</th>\n",
              "      <th>SeniorCitizen</th>\n",
              "      <th>tenure</th>\n",
              "      <th>MonthlyCharges</th>\n",
              "      <th>TotalCharges</th>\n",
              "      <th>gender_Male</th>\n",
              "      <th>Partner_Yes</th>\n",
              "      <th>Dependents_Yes</th>\n",
              "      <th>PhoneService_Yes</th>\n",
              "      <th>MultipleLines_Yes</th>\n",
              "      <th>InternetService_Fiber optic</th>\n",
              "      <th>InternetService_No</th>\n",
              "      <th>OnlineSecurity_Yes</th>\n",
              "      <th>OnlineBackup_Yes</th>\n",
              "      <th>DeviceProtection_Yes</th>\n",
              "      <th>TechSupport_Yes</th>\n",
              "      <th>StreamingTV_Yes</th>\n",
              "      <th>StreamingMovies_Yes</th>\n",
              "      <th>Contract_One year</th>\n",
              "      <th>Contract_Two year</th>\n",
              "      <th>PaperlessBilling_Yes</th>\n",
              "      <th>PaymentMethod_Credit card (automatic)</th>\n",
              "      <th>PaymentMethod_Electronic check</th>\n",
              "      <th>PaymentMethod_Mailed check</th>\n",
              "      <th>Churn_Yes</th>\n",
              "    </tr>\n",
              "  </thead>\n",
              "  <tbody>\n",
              "    <tr>\n",
              "      <th>0</th>\n",
              "      <td>0</td>\n",
              "      <td>0</td>\n",
              "      <td>1</td>\n",
              "      <td>29.85</td>\n",
              "      <td>29.85</td>\n",
              "      <td>0</td>\n",
              "      <td>1</td>\n",
              "      <td>0</td>\n",
              "      <td>0</td>\n",
              "      <td>0</td>\n",
              "      <td>0</td>\n",
              "      <td>0</td>\n",
              "      <td>0</td>\n",
              "      <td>1</td>\n",
              "      <td>0</td>\n",
              "      <td>0</td>\n",
              "      <td>0</td>\n",
              "      <td>0</td>\n",
              "      <td>0</td>\n",
              "      <td>0</td>\n",
              "      <td>1</td>\n",
              "      <td>0</td>\n",
              "      <td>1</td>\n",
              "      <td>0</td>\n",
              "      <td>0</td>\n",
              "    </tr>\n",
              "    <tr>\n",
              "      <th>1</th>\n",
              "      <td>1</td>\n",
              "      <td>0</td>\n",
              "      <td>34</td>\n",
              "      <td>56.95</td>\n",
              "      <td>1889.50</td>\n",
              "      <td>1</td>\n",
              "      <td>0</td>\n",
              "      <td>0</td>\n",
              "      <td>1</td>\n",
              "      <td>0</td>\n",
              "      <td>0</td>\n",
              "      <td>0</td>\n",
              "      <td>1</td>\n",
              "      <td>0</td>\n",
              "      <td>1</td>\n",
              "      <td>0</td>\n",
              "      <td>0</td>\n",
              "      <td>0</td>\n",
              "      <td>1</td>\n",
              "      <td>0</td>\n",
              "      <td>0</td>\n",
              "      <td>0</td>\n",
              "      <td>0</td>\n",
              "      <td>1</td>\n",
              "      <td>0</td>\n",
              "    </tr>\n",
              "    <tr>\n",
              "      <th>2</th>\n",
              "      <td>2</td>\n",
              "      <td>0</td>\n",
              "      <td>2</td>\n",
              "      <td>53.85</td>\n",
              "      <td>108.15</td>\n",
              "      <td>1</td>\n",
              "      <td>0</td>\n",
              "      <td>0</td>\n",
              "      <td>1</td>\n",
              "      <td>0</td>\n",
              "      <td>0</td>\n",
              "      <td>0</td>\n",
              "      <td>1</td>\n",
              "      <td>1</td>\n",
              "      <td>0</td>\n",
              "      <td>0</td>\n",
              "      <td>0</td>\n",
              "      <td>0</td>\n",
              "      <td>0</td>\n",
              "      <td>0</td>\n",
              "      <td>1</td>\n",
              "      <td>0</td>\n",
              "      <td>0</td>\n",
              "      <td>1</td>\n",
              "      <td>1</td>\n",
              "    </tr>\n",
              "    <tr>\n",
              "      <th>3</th>\n",
              "      <td>3</td>\n",
              "      <td>0</td>\n",
              "      <td>45</td>\n",
              "      <td>42.30</td>\n",
              "      <td>1840.75</td>\n",
              "      <td>1</td>\n",
              "      <td>0</td>\n",
              "      <td>0</td>\n",
              "      <td>0</td>\n",
              "      <td>0</td>\n",
              "      <td>0</td>\n",
              "      <td>0</td>\n",
              "      <td>1</td>\n",
              "      <td>0</td>\n",
              "      <td>1</td>\n",
              "      <td>1</td>\n",
              "      <td>0</td>\n",
              "      <td>0</td>\n",
              "      <td>1</td>\n",
              "      <td>0</td>\n",
              "      <td>0</td>\n",
              "      <td>0</td>\n",
              "      <td>0</td>\n",
              "      <td>0</td>\n",
              "      <td>0</td>\n",
              "    </tr>\n",
              "    <tr>\n",
              "      <th>4</th>\n",
              "      <td>4</td>\n",
              "      <td>0</td>\n",
              "      <td>2</td>\n",
              "      <td>70.70</td>\n",
              "      <td>151.65</td>\n",
              "      <td>0</td>\n",
              "      <td>0</td>\n",
              "      <td>0</td>\n",
              "      <td>1</td>\n",
              "      <td>0</td>\n",
              "      <td>1</td>\n",
              "      <td>0</td>\n",
              "      <td>0</td>\n",
              "      <td>0</td>\n",
              "      <td>0</td>\n",
              "      <td>0</td>\n",
              "      <td>0</td>\n",
              "      <td>0</td>\n",
              "      <td>0</td>\n",
              "      <td>0</td>\n",
              "      <td>1</td>\n",
              "      <td>0</td>\n",
              "      <td>1</td>\n",
              "      <td>0</td>\n",
              "      <td>1</td>\n",
              "    </tr>\n",
              "    <tr>\n",
              "      <th>5</th>\n",
              "      <td>5</td>\n",
              "      <td>0</td>\n",
              "      <td>8</td>\n",
              "      <td>99.65</td>\n",
              "      <td>820.50</td>\n",
              "      <td>0</td>\n",
              "      <td>0</td>\n",
              "      <td>0</td>\n",
              "      <td>1</td>\n",
              "      <td>1</td>\n",
              "      <td>1</td>\n",
              "      <td>0</td>\n",
              "      <td>0</td>\n",
              "      <td>0</td>\n",
              "      <td>1</td>\n",
              "      <td>0</td>\n",
              "      <td>1</td>\n",
              "      <td>1</td>\n",
              "      <td>0</td>\n",
              "      <td>0</td>\n",
              "      <td>1</td>\n",
              "      <td>0</td>\n",
              "      <td>1</td>\n",
              "      <td>0</td>\n",
              "      <td>1</td>\n",
              "    </tr>\n",
              "    <tr>\n",
              "      <th>6</th>\n",
              "      <td>6</td>\n",
              "      <td>0</td>\n",
              "      <td>22</td>\n",
              "      <td>89.10</td>\n",
              "      <td>1949.40</td>\n",
              "      <td>1</td>\n",
              "      <td>0</td>\n",
              "      <td>1</td>\n",
              "      <td>1</td>\n",
              "      <td>1</td>\n",
              "      <td>1</td>\n",
              "      <td>0</td>\n",
              "      <td>0</td>\n",
              "      <td>1</td>\n",
              "      <td>0</td>\n",
              "      <td>0</td>\n",
              "      <td>1</td>\n",
              "      <td>0</td>\n",
              "      <td>0</td>\n",
              "      <td>0</td>\n",
              "      <td>1</td>\n",
              "      <td>1</td>\n",
              "      <td>0</td>\n",
              "      <td>0</td>\n",
              "      <td>0</td>\n",
              "    </tr>\n",
              "    <tr>\n",
              "      <th>7</th>\n",
              "      <td>7</td>\n",
              "      <td>0</td>\n",
              "      <td>10</td>\n",
              "      <td>29.75</td>\n",
              "      <td>301.90</td>\n",
              "      <td>0</td>\n",
              "      <td>0</td>\n",
              "      <td>0</td>\n",
              "      <td>0</td>\n",
              "      <td>0</td>\n",
              "      <td>0</td>\n",
              "      <td>0</td>\n",
              "      <td>1</td>\n",
              "      <td>0</td>\n",
              "      <td>0</td>\n",
              "      <td>0</td>\n",
              "      <td>0</td>\n",
              "      <td>0</td>\n",
              "      <td>0</td>\n",
              "      <td>0</td>\n",
              "      <td>0</td>\n",
              "      <td>0</td>\n",
              "      <td>0</td>\n",
              "      <td>1</td>\n",
              "      <td>0</td>\n",
              "    </tr>\n",
              "    <tr>\n",
              "      <th>8</th>\n",
              "      <td>8</td>\n",
              "      <td>0</td>\n",
              "      <td>28</td>\n",
              "      <td>104.80</td>\n",
              "      <td>3046.05</td>\n",
              "      <td>0</td>\n",
              "      <td>1</td>\n",
              "      <td>0</td>\n",
              "      <td>1</td>\n",
              "      <td>1</td>\n",
              "      <td>1</td>\n",
              "      <td>0</td>\n",
              "      <td>0</td>\n",
              "      <td>0</td>\n",
              "      <td>1</td>\n",
              "      <td>1</td>\n",
              "      <td>1</td>\n",
              "      <td>1</td>\n",
              "      <td>0</td>\n",
              "      <td>0</td>\n",
              "      <td>1</td>\n",
              "      <td>0</td>\n",
              "      <td>1</td>\n",
              "      <td>0</td>\n",
              "      <td>1</td>\n",
              "    </tr>\n",
              "    <tr>\n",
              "      <th>9</th>\n",
              "      <td>9</td>\n",
              "      <td>0</td>\n",
              "      <td>62</td>\n",
              "      <td>56.15</td>\n",
              "      <td>3487.95</td>\n",
              "      <td>1</td>\n",
              "      <td>0</td>\n",
              "      <td>1</td>\n",
              "      <td>1</td>\n",
              "      <td>0</td>\n",
              "      <td>0</td>\n",
              "      <td>0</td>\n",
              "      <td>1</td>\n",
              "      <td>1</td>\n",
              "      <td>0</td>\n",
              "      <td>0</td>\n",
              "      <td>0</td>\n",
              "      <td>0</td>\n",
              "      <td>1</td>\n",
              "      <td>0</td>\n",
              "      <td>0</td>\n",
              "      <td>0</td>\n",
              "      <td>0</td>\n",
              "      <td>0</td>\n",
              "      <td>0</td>\n",
              "    </tr>\n",
              "    <tr>\n",
              "      <th>10</th>\n",
              "      <td>10</td>\n",
              "      <td>0</td>\n",
              "      <td>13</td>\n",
              "      <td>49.95</td>\n",
              "      <td>587.45</td>\n",
              "      <td>1</td>\n",
              "      <td>1</td>\n",
              "      <td>1</td>\n",
              "      <td>1</td>\n",
              "      <td>0</td>\n",
              "      <td>0</td>\n",
              "      <td>0</td>\n",
              "      <td>1</td>\n",
              "      <td>0</td>\n",
              "      <td>0</td>\n",
              "      <td>0</td>\n",
              "      <td>0</td>\n",
              "      <td>0</td>\n",
              "      <td>0</td>\n",
              "      <td>0</td>\n",
              "      <td>1</td>\n",
              "      <td>0</td>\n",
              "      <td>0</td>\n",
              "      <td>1</td>\n",
              "      <td>0</td>\n",
              "    </tr>\n",
              "    <tr>\n",
              "      <th>11</th>\n",
              "      <td>11</td>\n",
              "      <td>0</td>\n",
              "      <td>16</td>\n",
              "      <td>18.95</td>\n",
              "      <td>326.80</td>\n",
              "      <td>1</td>\n",
              "      <td>0</td>\n",
              "      <td>0</td>\n",
              "      <td>1</td>\n",
              "      <td>0</td>\n",
              "      <td>0</td>\n",
              "      <td>1</td>\n",
              "      <td>0</td>\n",
              "      <td>0</td>\n",
              "      <td>0</td>\n",
              "      <td>0</td>\n",
              "      <td>0</td>\n",
              "      <td>0</td>\n",
              "      <td>0</td>\n",
              "      <td>1</td>\n",
              "      <td>0</td>\n",
              "      <td>1</td>\n",
              "      <td>0</td>\n",
              "      <td>0</td>\n",
              "      <td>0</td>\n",
              "    </tr>\n",
              "    <tr>\n",
              "      <th>12</th>\n",
              "      <td>12</td>\n",
              "      <td>0</td>\n",
              "      <td>58</td>\n",
              "      <td>100.35</td>\n",
              "      <td>5681.10</td>\n",
              "      <td>1</td>\n",
              "      <td>1</td>\n",
              "      <td>0</td>\n",
              "      <td>1</td>\n",
              "      <td>1</td>\n",
              "      <td>1</td>\n",
              "      <td>0</td>\n",
              "      <td>0</td>\n",
              "      <td>0</td>\n",
              "      <td>1</td>\n",
              "      <td>0</td>\n",
              "      <td>1</td>\n",
              "      <td>1</td>\n",
              "      <td>1</td>\n",
              "      <td>0</td>\n",
              "      <td>0</td>\n",
              "      <td>1</td>\n",
              "      <td>0</td>\n",
              "      <td>0</td>\n",
              "      <td>0</td>\n",
              "    </tr>\n",
              "    <tr>\n",
              "      <th>13</th>\n",
              "      <td>13</td>\n",
              "      <td>0</td>\n",
              "      <td>49</td>\n",
              "      <td>103.70</td>\n",
              "      <td>5036.30</td>\n",
              "      <td>1</td>\n",
              "      <td>0</td>\n",
              "      <td>0</td>\n",
              "      <td>1</td>\n",
              "      <td>1</td>\n",
              "      <td>1</td>\n",
              "      <td>0</td>\n",
              "      <td>0</td>\n",
              "      <td>1</td>\n",
              "      <td>1</td>\n",
              "      <td>0</td>\n",
              "      <td>1</td>\n",
              "      <td>1</td>\n",
              "      <td>0</td>\n",
              "      <td>0</td>\n",
              "      <td>1</td>\n",
              "      <td>0</td>\n",
              "      <td>0</td>\n",
              "      <td>0</td>\n",
              "      <td>1</td>\n",
              "    </tr>\n",
              "    <tr>\n",
              "      <th>14</th>\n",
              "      <td>14</td>\n",
              "      <td>0</td>\n",
              "      <td>25</td>\n",
              "      <td>105.50</td>\n",
              "      <td>2686.05</td>\n",
              "      <td>1</td>\n",
              "      <td>0</td>\n",
              "      <td>0</td>\n",
              "      <td>1</td>\n",
              "      <td>0</td>\n",
              "      <td>1</td>\n",
              "      <td>0</td>\n",
              "      <td>1</td>\n",
              "      <td>0</td>\n",
              "      <td>1</td>\n",
              "      <td>1</td>\n",
              "      <td>1</td>\n",
              "      <td>1</td>\n",
              "      <td>0</td>\n",
              "      <td>0</td>\n",
              "      <td>1</td>\n",
              "      <td>0</td>\n",
              "      <td>1</td>\n",
              "      <td>0</td>\n",
              "      <td>0</td>\n",
              "    </tr>\n",
              "    <tr>\n",
              "      <th>15</th>\n",
              "      <td>15</td>\n",
              "      <td>0</td>\n",
              "      <td>69</td>\n",
              "      <td>113.25</td>\n",
              "      <td>7895.15</td>\n",
              "      <td>0</td>\n",
              "      <td>1</td>\n",
              "      <td>1</td>\n",
              "      <td>1</td>\n",
              "      <td>1</td>\n",
              "      <td>1</td>\n",
              "      <td>0</td>\n",
              "      <td>1</td>\n",
              "      <td>1</td>\n",
              "      <td>1</td>\n",
              "      <td>1</td>\n",
              "      <td>1</td>\n",
              "      <td>1</td>\n",
              "      <td>0</td>\n",
              "      <td>1</td>\n",
              "      <td>0</td>\n",
              "      <td>1</td>\n",
              "      <td>0</td>\n",
              "      <td>0</td>\n",
              "      <td>0</td>\n",
              "    </tr>\n",
              "    <tr>\n",
              "      <th>16</th>\n",
              "      <td>16</td>\n",
              "      <td>0</td>\n",
              "      <td>52</td>\n",
              "      <td>20.65</td>\n",
              "      <td>1022.95</td>\n",
              "      <td>0</td>\n",
              "      <td>0</td>\n",
              "      <td>0</td>\n",
              "      <td>1</td>\n",
              "      <td>0</td>\n",
              "      <td>0</td>\n",
              "      <td>1</td>\n",
              "      <td>0</td>\n",
              "      <td>0</td>\n",
              "      <td>0</td>\n",
              "      <td>0</td>\n",
              "      <td>0</td>\n",
              "      <td>0</td>\n",
              "      <td>1</td>\n",
              "      <td>0</td>\n",
              "      <td>0</td>\n",
              "      <td>0</td>\n",
              "      <td>0</td>\n",
              "      <td>1</td>\n",
              "      <td>0</td>\n",
              "    </tr>\n",
              "    <tr>\n",
              "      <th>17</th>\n",
              "      <td>17</td>\n",
              "      <td>0</td>\n",
              "      <td>71</td>\n",
              "      <td>106.70</td>\n",
              "      <td>7382.25</td>\n",
              "      <td>1</td>\n",
              "      <td>0</td>\n",
              "      <td>1</td>\n",
              "      <td>1</td>\n",
              "      <td>1</td>\n",
              "      <td>1</td>\n",
              "      <td>0</td>\n",
              "      <td>1</td>\n",
              "      <td>0</td>\n",
              "      <td>1</td>\n",
              "      <td>0</td>\n",
              "      <td>1</td>\n",
              "      <td>1</td>\n",
              "      <td>0</td>\n",
              "      <td>1</td>\n",
              "      <td>0</td>\n",
              "      <td>0</td>\n",
              "      <td>0</td>\n",
              "      <td>0</td>\n",
              "      <td>0</td>\n",
              "    </tr>\n",
              "    <tr>\n",
              "      <th>18</th>\n",
              "      <td>18</td>\n",
              "      <td>0</td>\n",
              "      <td>10</td>\n",
              "      <td>55.20</td>\n",
              "      <td>528.35</td>\n",
              "      <td>0</td>\n",
              "      <td>1</td>\n",
              "      <td>1</td>\n",
              "      <td>1</td>\n",
              "      <td>0</td>\n",
              "      <td>0</td>\n",
              "      <td>0</td>\n",
              "      <td>0</td>\n",
              "      <td>0</td>\n",
              "      <td>1</td>\n",
              "      <td>1</td>\n",
              "      <td>0</td>\n",
              "      <td>0</td>\n",
              "      <td>0</td>\n",
              "      <td>0</td>\n",
              "      <td>0</td>\n",
              "      <td>1</td>\n",
              "      <td>0</td>\n",
              "      <td>0</td>\n",
              "      <td>1</td>\n",
              "    </tr>\n",
              "    <tr>\n",
              "      <th>19</th>\n",
              "      <td>19</td>\n",
              "      <td>0</td>\n",
              "      <td>21</td>\n",
              "      <td>90.05</td>\n",
              "      <td>1862.90</td>\n",
              "      <td>0</td>\n",
              "      <td>0</td>\n",
              "      <td>0</td>\n",
              "      <td>1</td>\n",
              "      <td>0</td>\n",
              "      <td>1</td>\n",
              "      <td>0</td>\n",
              "      <td>0</td>\n",
              "      <td>1</td>\n",
              "      <td>1</td>\n",
              "      <td>0</td>\n",
              "      <td>0</td>\n",
              "      <td>1</td>\n",
              "      <td>0</td>\n",
              "      <td>0</td>\n",
              "      <td>1</td>\n",
              "      <td>0</td>\n",
              "      <td>1</td>\n",
              "      <td>0</td>\n",
              "      <td>0</td>\n",
              "    </tr>\n",
              "    <tr>\n",
              "      <th>20</th>\n",
              "      <td>20</td>\n",
              "      <td>1</td>\n",
              "      <td>1</td>\n",
              "      <td>39.65</td>\n",
              "      <td>39.65</td>\n",
              "      <td>1</td>\n",
              "      <td>0</td>\n",
              "      <td>0</td>\n",
              "      <td>0</td>\n",
              "      <td>0</td>\n",
              "      <td>0</td>\n",
              "      <td>0</td>\n",
              "      <td>0</td>\n",
              "      <td>0</td>\n",
              "      <td>1</td>\n",
              "      <td>0</td>\n",
              "      <td>0</td>\n",
              "      <td>1</td>\n",
              "      <td>0</td>\n",
              "      <td>0</td>\n",
              "      <td>1</td>\n",
              "      <td>0</td>\n",
              "      <td>1</td>\n",
              "      <td>0</td>\n",
              "      <td>1</td>\n",
              "    </tr>\n",
              "  </tbody>\n",
              "</table>\n",
              "</div>"
            ],
            "text/plain": [
              "    ID  SeniorCitizen  ...  PaymentMethod_Mailed check  Churn_Yes\n",
              "0    0              0  ...                           0          0\n",
              "1    1              0  ...                           1          0\n",
              "2    2              0  ...                           1          1\n",
              "3    3              0  ...                           0          0\n",
              "4    4              0  ...                           0          1\n",
              "5    5              0  ...                           0          1\n",
              "6    6              0  ...                           0          0\n",
              "7    7              0  ...                           1          0\n",
              "8    8              0  ...                           0          1\n",
              "9    9              0  ...                           0          0\n",
              "10  10              0  ...                           1          0\n",
              "11  11              0  ...                           0          0\n",
              "12  12              0  ...                           0          0\n",
              "13  13              0  ...                           0          1\n",
              "14  14              0  ...                           0          0\n",
              "15  15              0  ...                           0          0\n",
              "16  16              0  ...                           1          0\n",
              "17  17              0  ...                           0          0\n",
              "18  18              0  ...                           0          1\n",
              "19  19              0  ...                           0          0\n",
              "20  20              1  ...                           0          1\n",
              "\n",
              "[21 rows x 25 columns]"
            ]
          },
          "metadata": {
            "tags": []
          },
          "execution_count": 3
        }
      ]
    },
    {
      "cell_type": "markdown",
      "metadata": {
        "id": "7Is4-vR1J6zu"
      },
      "source": [
        "### **Block 2**: Feature preparation\n",
        "\n",
        "This block is supposed to be for feature engineering. Since all the features are already prepared and are in numerical format, we will not do the feature engineering/transformation here. We will only take 3 input variables to be used in our model in this case (see \"selected_features\" below).\n",
        "\n",
        "The input variables are then assigned to *X* and the target variable (column 'Churn_Yes') is then assigned to *y*."
      ]
    },
    {
      "cell_type": "code",
      "metadata": {
        "id": "G8vwOYsAKCrZ",
        "outputId": "c15c8269-d181-4b4d-d642-13539ae0c96f",
        "colab": {
          "base_uri": "https://localhost:8080/"
        }
      },
      "source": [
        "selected_features = ['tenure', 'TotalCharges', 'InternetService_Fiber optic']\n",
        "print(selected_features)\n",
        "X = customer_data[selected_features]\n",
        "y = customer_data['Churn_Yes']\n",
        "\n",
        "print(\"Input variables (X):\\n\"+str(X))\n",
        "print(\"Predicted variable (y):\"+str(y))"
      ],
      "execution_count": 4,
      "outputs": [
        {
          "output_type": "stream",
          "text": [
            "['tenure', 'TotalCharges', 'InternetService_Fiber optic']\n",
            "Input variables (X):\n",
            "    tenure  TotalCharges  InternetService_Fiber optic\n",
            "0        1         29.85                            0\n",
            "1       34       1889.50                            0\n",
            "2        2        108.15                            0\n",
            "3       45       1840.75                            0\n",
            "4        2        151.65                            1\n",
            "5        8        820.50                            1\n",
            "6       22       1949.40                            1\n",
            "7       10        301.90                            0\n",
            "8       28       3046.05                            1\n",
            "9       62       3487.95                            0\n",
            "10      13        587.45                            0\n",
            "11      16        326.80                            0\n",
            "12      58       5681.10                            1\n",
            "13      49       5036.30                            1\n",
            "14      25       2686.05                            1\n",
            "15      69       7895.15                            1\n",
            "16      52       1022.95                            0\n",
            "17      71       7382.25                            1\n",
            "18      10        528.35                            0\n",
            "19      21       1862.90                            1\n",
            "20       1         39.65                            0\n",
            "Predicted variable (y):0     0\n",
            "1     0\n",
            "2     1\n",
            "3     0\n",
            "4     1\n",
            "5     1\n",
            "6     0\n",
            "7     0\n",
            "8     1\n",
            "9     0\n",
            "10    0\n",
            "11    0\n",
            "12    0\n",
            "13    1\n",
            "14    0\n",
            "15    0\n",
            "16    0\n",
            "17    0\n",
            "18    1\n",
            "19    0\n",
            "20    1\n",
            "Name: Churn_Yes, dtype: int64\n"
          ],
          "name": "stdout"
        }
      ]
    },
    {
      "cell_type": "markdown",
      "metadata": {
        "id": "Cricffn8MH0m"
      },
      "source": [
        "You can see from the above results that the first data point \"[1.00000e+00 2.98500e+01 0.00000e+00]\" corresponds to the first customer (ID 0), and the second one corresponds to the second customer and so on. The first predicted value is the 'label' which corresponds to the first data point and indicates that the first customer did not churn (y = 0). There are 20 data points in total (since we take only the first 20 data points)."
      ]
    },
    {
      "cell_type": "markdown",
      "metadata": {
        "id": "ncv1sPmcOCXV"
      },
      "source": [
        "### Splitting data for training and testing process ###\n",
        "\n",
        "Since we want to measure the performance of the model for prediction task, we must perform a cross-validation process in order to evaluate how the model performs on the data it has not seen in the training (or model parameter fitting) process. This will allow us to see how the model would perform once we use it in prediction which predicts the results based on the new data points where the labels (prediced values) are still not available.\n",
        "\n",
        "The codes below will randomly split the data into 75% for training and 25% in testing. We also print out the split data to review which data points below to the training set, and which data points belong to the testing set.\n",
        "\n",
        "In order to do this, we use sklearn function *model_selection.train_test_split(X, y)* (see https://scikit-learn.org/stable/modules/generated/sklearn.model_selection.train_test_split.html) which takes the input data X and label y. Since this function will split the data points randomly, we also indicate \"random_state=0\" so that we can reproduce the same result (in practice, this would not be necessary)."
      ]
    },
    {
      "cell_type": "code",
      "metadata": {
        "id": "KslAXQcRatZD",
        "outputId": "4434f91f-fc83-4c4f-d1fe-b46dcad3ae13",
        "colab": {
          "base_uri": "https://localhost:8080/"
        }
      },
      "source": [
        "# Split into training and testing data (75/25 by default)\n",
        "X_train, X_test, y_train, y_test = sklearn.model_selection.train_test_split(X, y, random_state=0)\n",
        "\n",
        "print(X_train)\n",
        "print(X_test)"
      ],
      "execution_count": 5,
      "outputs": [
        {
          "output_type": "stream",
          "text": [
            "    tenure  TotalCharges  InternetService_Fiber optic\n",
            "14      25       2686.05                            1\n",
            "18      10        528.35                            0\n",
            "6       22       1949.40                            1\n",
            "19      21       1862.90                            1\n",
            "4        2        151.65                            1\n",
            "2        2        108.15                            0\n",
            "5        8        820.50                            1\n",
            "16      52       1022.95                            0\n",
            "9       62       3487.95                            0\n",
            "7       10        301.90                            0\n",
            "17      71       7382.25                            1\n",
            "3       45       1840.75                            0\n",
            "0        1         29.85                            0\n",
            "15      69       7895.15                            1\n",
            "12      58       5681.10                            1\n",
            "    tenure  TotalCharges  InternetService_Fiber optic\n",
            "8       28       3046.05                            1\n",
            "13      49       5036.30                            1\n",
            "20       1         39.65                            0\n",
            "1       34       1889.50                            0\n",
            "11      16        326.80                            0\n",
            "10      13        587.45                            0\n"
          ],
          "name": "stdout"
        }
      ]
    },
    {
      "cell_type": "code",
      "metadata": {
        "id": "wwgWEWR4P9Id",
        "outputId": "0ca0c30e-f4f8-4bea-c2fe-24f06e160ca3",
        "colab": {
          "base_uri": "https://localhost:8080/"
        }
      },
      "source": [
        "# Here is the training set:\n",
        "print(\"Number of data points in training set: \"+str(len(y_train)))\n",
        "print(\"Training X:\\n\"+str(X_train))\n",
        "print(\"Training y:\"+str(y_train))"
      ],
      "execution_count": 6,
      "outputs": [
        {
          "output_type": "stream",
          "text": [
            "Number of data points in training set: 15\n",
            "Training X:\n",
            "    tenure  TotalCharges  InternetService_Fiber optic\n",
            "14      25       2686.05                            1\n",
            "18      10        528.35                            0\n",
            "6       22       1949.40                            1\n",
            "19      21       1862.90                            1\n",
            "4        2        151.65                            1\n",
            "2        2        108.15                            0\n",
            "5        8        820.50                            1\n",
            "16      52       1022.95                            0\n",
            "9       62       3487.95                            0\n",
            "7       10        301.90                            0\n",
            "17      71       7382.25                            1\n",
            "3       45       1840.75                            0\n",
            "0        1         29.85                            0\n",
            "15      69       7895.15                            1\n",
            "12      58       5681.10                            1\n",
            "Training y:14    0\n",
            "18    1\n",
            "6     0\n",
            "19    0\n",
            "4     1\n",
            "2     1\n",
            "5     1\n",
            "16    0\n",
            "9     0\n",
            "7     0\n",
            "17    0\n",
            "3     0\n",
            "0     0\n",
            "15    0\n",
            "12    0\n",
            "Name: Churn_Yes, dtype: int64\n"
          ],
          "name": "stdout"
        }
      ]
    },
    {
      "cell_type": "code",
      "metadata": {
        "id": "d6u6I01eQBEn",
        "outputId": "ef56a204-f695-40c6-efa2-dd247533bc5e",
        "colab": {
          "base_uri": "https://localhost:8080/"
        }
      },
      "source": [
        "# Here is the testing set:\n",
        "print(\"Number of data points in testing set: \"+str(len(y_test)))\n",
        "print(\"Testing X:\\n\"+str(X_test))\n",
        "print(\"Testing y:\"+str(y_test))"
      ],
      "execution_count": 7,
      "outputs": [
        {
          "output_type": "stream",
          "text": [
            "Number of data points in testing set: 6\n",
            "Testing X:\n",
            "    tenure  TotalCharges  InternetService_Fiber optic\n",
            "8       28       3046.05                            1\n",
            "13      49       5036.30                            1\n",
            "20       1         39.65                            0\n",
            "1       34       1889.50                            0\n",
            "11      16        326.80                            0\n",
            "10      13        587.45                            0\n",
            "Testing y:8     1\n",
            "13    1\n",
            "20    1\n",
            "1     0\n",
            "11    0\n",
            "10    0\n",
            "Name: Churn_Yes, dtype: int64\n"
          ],
          "name": "stdout"
        }
      ]
    },
    {
      "cell_type": "markdown",
      "metadata": {
        "id": "OurT10YPatZH"
      },
      "source": [
        "### **Block 3**: Model\n",
        "\n",
        "In this block, we will choose the models to be used for prediction. Only the training set will be used in this step (and the testing set will be used in cross-validation). We will consider two models, i.e., logistic regression and decision tree."
      ]
    },
    {
      "cell_type": "markdown",
      "metadata": {
        "id": "aLZhNt44RVie"
      },
      "source": [
        "### 3.1 Logistic regression model\n",
        "\n",
        "Here we will prepare the object of the model by calling the function which corresponds to the model we choose. You can simply call the code below *sklearn.linear_model.LogisticRegression()* to create an object of logistic regression which we name as *logreg*\n",
        "\n",
        "See https://scikit-learn.org/stable/modules/generated/sklearn.linear_model.LogisticRegression.html for more information about this function."
      ]
    },
    {
      "cell_type": "code",
      "metadata": {
        "id": "cY73boV1RUDM"
      },
      "source": [
        "logreg = sklearn.linear_model.LogisticRegression()"
      ],
      "execution_count": 8,
      "outputs": []
    },
    {
      "cell_type": "markdown",
      "metadata": {
        "id": "z4tPR7JERS7l"
      },
      "source": [
        "### 3.2 Classification tree model\n",
        "\n",
        "Now we also prepare an object for classification tree using *sklearn.tree.DecisionTreeClassifier()* to create an object of logistic regression which we name as *tree*. Note that the algorithm uses a random initialization so we also put *random_state=0* to ensure that we can reproduce the result.\n",
        "\n",
        "See https://scikit-learn.org/stable/modules/generated/sklearn.tree.DecisionTreeClassifier.html for more information about this function."
      ]
    },
    {
      "cell_type": "code",
      "metadata": {
        "id": "MOmUXypsSkX2"
      },
      "source": [
        "tree = sklearn.tree.DecisionTreeClassifier(random_state=0)"
      ],
      "execution_count": 9,
      "outputs": []
    },
    {
      "cell_type": "markdown",
      "metadata": {
        "id": "TNSzsYI6Sm2f"
      },
      "source": [
        "### Running ML algorithm to fit the model\n",
        "\n",
        "Now we need to fit the models (both logistic regression and classification tree) by using the training dataset. This step can be done by calling the method *model_object.fit(X,y)* on the object of the model we already created. The model will estimate the parameters from the input variables X and label y in the training set (75% of data points).\n",
        "\n",
        "First we train the logistic regression model using the training set. We also print out the accuracy level from the model for the training set to see how the model performs in this training set (note: this is NOT cross-validation).\n",
        "\n",
        "The method *model_object.score(X, y)* will take the data input X to perform a prediction (or estimation) and then it will compare the result of the preduction to the known label *y*. You can review the documentation of the model (the links under 3.1 and 3.2) for more information about the methods fit(), score(), and other methods of the model."
      ]
    },
    {
      "cell_type": "code",
      "metadata": {
        "id": "vDIbKoZATHa_",
        "outputId": "e08a36e8-76de-4dd0-e47d-4e211d6b8894",
        "colab": {
          "base_uri": "https://localhost:8080/"
        }
      },
      "source": [
        "# Train Logistic regression\n",
        "logreg.fit(X_train, y_train)\n",
        "print(\"Logistic Regression: Training accuracy: {:.3f}\".format(logreg.score(X_train, y_train)))"
      ],
      "execution_count": 10,
      "outputs": [
        {
          "output_type": "stream",
          "text": [
            "Logistic Regression: Training accuracy: 0.867\n"
          ],
          "name": "stdout"
        }
      ]
    },
    {
      "cell_type": "markdown",
      "metadata": {
        "id": "LgqsFTKUTKII"
      },
      "source": [
        "The results indicated the accuracy on this set = 86.7%.\n",
        "\n",
        "If you want to see the predicted result for each customer (in the training set), you can call the method *predict()* and compare it with the labels to see which customers (again, in the training set) were predicted correctly."
      ]
    },
    {
      "cell_type": "code",
      "metadata": {
        "id": "H_pFWQkJW0Pn",
        "outputId": "18067dfe-70ab-437c-cafb-165e4e4b12dd",
        "colab": {
          "base_uri": "https://localhost:8080/"
        }
      },
      "source": [
        "print(\"Predicted X_train:\\n\"+str(logreg.predict(X_train)))\n",
        "print(\"Actual y_train:\\n\"+str(y_train.values))"
      ],
      "execution_count": 11,
      "outputs": [
        {
          "output_type": "stream",
          "text": [
            "Predicted X_train:\n",
            "[0 0 0 0 1 1 1 0 0 0 0 0 1 0 0]\n",
            "Actual y_train:\n",
            "[0 1 0 0 1 1 1 0 0 0 0 0 0 0 0]\n"
          ],
          "name": "stdout"
        }
      ]
    },
    {
      "cell_type": "markdown",
      "metadata": {
        "id": "YtASv9ZBXpdv"
      },
      "source": [
        "We do the same for classification tree."
      ]
    },
    {
      "cell_type": "code",
      "metadata": {
        "id": "XaiuoTxITJh_",
        "outputId": "348ef066-79b1-4a3e-bda9-a9c085e98db3",
        "colab": {
          "base_uri": "https://localhost:8080/"
        }
      },
      "source": [
        "# Train classification tree\n",
        "tree.fit(X_train, y_train)\n",
        "print(\"Classification tree: Training accuracy: {:.3f}\".format(tree.score(X_train, y_train)))\n",
        "\n",
        "print(\"Predicted X_train:\\n\"+str(tree.predict(X_train)))\n",
        "print(\"Actual y_train:\\n\"+str(y_train.values))"
      ],
      "execution_count": 12,
      "outputs": [
        {
          "output_type": "stream",
          "text": [
            "Classification tree: Training accuracy: 1.000\n",
            "Predicted X_train:\n",
            "[0 1 0 0 1 1 1 0 0 0 0 0 0 0 0]\n",
            "Actual y_train:\n",
            "[0 1 0 0 1 1 1 0 0 0 0 0 0 0 0]\n"
          ],
          "name": "stdout"
        }
      ]
    },
    {
      "cell_type": "markdown",
      "metadata": {
        "id": "KRSmzagETejB"
      },
      "source": [
        "### **Block 4**: Validation\n",
        "\n",
        "Now we have trained the two models using the training sets. The cross-validation is the key step to evaluate if the models will still perform well on the data points they haven't seen before. In order to do this, we can simply call the *score()* method but using the test set instead of the training set. In addition, we also calculate precision and recall. The details of *score()*,* precision()* and *recall()* methods are in the corresponding documentation page of the model."
      ]
    },
    {
      "cell_type": "code",
      "metadata": {
        "id": "hB2O6pxeatZI",
        "outputId": "9876614d-9ce9-407c-8dd8-e355672f02c2",
        "colab": {
          "base_uri": "https://localhost:8080/"
        }
      },
      "source": [
        "# Measure the out-of-sample performance of the logistic regression model\n",
        "\n",
        "y_predict = logreg.predict(X_test)\n",
        "print(\"Logistic Regression:\")\n",
        "print(\"   Predicted X_train:\"+str(y_predict))\n",
        "print(\"   Actual y_train:\"+str(y_test.values))\n",
        "print(\"   Testing accuracy: {:.3f}\".format(logreg.score(X_test, y_test)))\n",
        "print(\"   Precision score: {:.3f}\".format(sklearn.metrics.precision_score(y_test, y_predict)))\n",
        "print(\"   Recall score: {:.3f}\".format(sklearn.metrics.recall_score(y_test, y_predict)))"
      ],
      "execution_count": 13,
      "outputs": [
        {
          "output_type": "stream",
          "text": [
            "Logistic Regression:\n",
            "   Predicted X_train:[0 0 1 0 0 0]\n",
            "   Actual y_train:[1 1 1 0 0 0]\n",
            "   Testing accuracy: 0.667\n",
            "   Precision score: 1.000\n",
            "   Recall score: 0.333\n"
          ],
          "name": "stdout"
        }
      ]
    },
    {
      "cell_type": "markdown",
      "metadata": {
        "id": "AGIROYsJkY6Z"
      },
      "source": [
        "You can see that the model does not generalize well when testing against the data is hasn't seen before. The testing accuracy is 66.7% whereas recall is only 33.3%.\n",
        "\n",
        "Now we test the classification tree model."
      ]
    },
    {
      "cell_type": "code",
      "metadata": {
        "id": "JNFPV_wbklO6",
        "outputId": "ac113399-52c8-49c2-8040-90eb19455ab0",
        "colab": {
          "base_uri": "https://localhost:8080/"
        }
      },
      "source": [
        "y_predict = tree.predict(X_test)\n",
        "print(\"Classification Tree:\")\n",
        "print(\"   Predicted X_train:\"+str(y_predict))\n",
        "print(\"   Actual y_train:\"+str(y_test.values))\n",
        "print(\"   Testing accuracy: {:.3f}\".format(tree.score(X_test, y_test)))\n",
        "print(\"   Precision score: {:.3f}\".format(sklearn.metrics.precision_score(y_test, y_predict)))\n",
        "print(\"   Recall score: {:.3f}\".format(sklearn.metrics.recall_score(y_test, y_predict)))"
      ],
      "execution_count": 14,
      "outputs": [
        {
          "output_type": "stream",
          "text": [
            "Classification Tree:\n",
            "   Predicted X_train:[0 0 0 0 0 1]\n",
            "   Actual y_train:[1 1 1 0 0 0]\n",
            "   Testing accuracy: 0.333\n",
            "   Precision score: 0.000\n",
            "   Recall score: 0.000\n"
          ],
          "name": "stdout"
        }
      ]
    },
    {
      "cell_type": "markdown",
      "metadata": {
        "id": "G0KEuKJskukC"
      },
      "source": [
        "which gives even worse results, and only 33.3% of accuracy is achieved. However, please keep in mind that this model was trained and tested on very small data set. You can run Demo 3 to review the results on the full data set."
      ]
    },
    {
      "cell_type": "markdown",
      "metadata": {
        "id": "iNyGfq19atZM"
      },
      "source": [
        "### Getting the insights in the models."
      ]
    },
    {
      "cell_type": "markdown",
      "metadata": {
        "id": "hNIrV0iwllBa"
      },
      "source": [
        "The logistic regression model can provide you the coefficeints of the linear function of the fitted model. You can obtain those attributes from the trained model (object). This is also described in the documentation page of the model. The codes below show how such outputs can be obtained."
      ]
    },
    {
      "cell_type": "code",
      "metadata": {
        "id": "CT4g8l9datZN",
        "outputId": "32160b4c-8a64-4215-baad-2d5b6d098e3a",
        "colab": {
          "base_uri": "https://localhost:8080/"
        }
      },
      "source": [
        "# Obtain the coefficients of the logistic regression model\n",
        "print(\"intercept\"+str(logreg.intercept_))\n",
        "print(\"coefficients:\"+str(logreg.coef_))"
      ],
      "execution_count": 15,
      "outputs": [
        {
          "output_type": "stream",
          "text": [
            "intercept[1.61349632]\n",
            "coefficients:[[-0.23916044  0.00054421  0.29943228]]\n"
          ],
          "name": "stdout"
        }
      ]
    },
    {
      "cell_type": "markdown",
      "metadata": {
        "id": "QL3zoNdbbab5"
      },
      "source": [
        "For the classification tree model, the main output is *feature_importances_* which indicate the relative importance score of each feature used in the model. We can explore feature importance using the codes below."
      ]
    },
    {
      "cell_type": "code",
      "metadata": {
        "id": "k_GEslOgatZY",
        "outputId": "7e72483c-9c60-4dbf-8621-6681217da19a",
        "colab": {
          "base_uri": "https://localhost:8080/"
        }
      },
      "source": [
        "print(\"List of features: \"+ str(selected_features))\n",
        "print(\"Feature importance: \"+ str(tree.feature_importances_))"
      ],
      "execution_count": 16,
      "outputs": [
        {
          "output_type": "stream",
          "text": [
            "List of features: ['tenure', 'TotalCharges', 'InternetService_Fiber optic']\n",
            "Feature importance: [0.28409091 0.71590909 0.        ]\n"
          ],
          "name": "stdout"
        }
      ]
    },
    {
      "cell_type": "markdown",
      "metadata": {
        "id": "yStpfBAinc8X"
      },
      "source": [
        "We can also vitualize the classification tree using the codes below (note: the *max_depth* parameter will control the size of the displayed tree. We would not be able to visualize a very big tree so you can change the depth to display only a certain number of layers of the tree)."
      ]
    },
    {
      "cell_type": "code",
      "metadata": {
        "id": "NS4jHtuOatZf",
        "outputId": "89e3b357-92e9-4fde-c7d1-8470dd1a31b4",
        "colab": {
          "base_uri": "https://localhost:8080/",
          "height": 683
        }
      },
      "source": [
        "import matplotlib.pyplot as plt\n",
        "plt.figure(figsize=(12,12))\n",
        "sklearn.tree.plot_tree(tree, feature_names=selected_features, fontsize=10, max_depth=4)\n",
        "plt.show()"
      ],
      "execution_count": 17,
      "outputs": [
        {
          "output_type": "display_data",
          "data": {
            "image/png": "[encoded data removed]",
            "text/plain": [
              "<Figure size 864x864 with 1 Axes>"
            ]
          },
          "metadata": {
            "tags": [],
            "needs_background": "light"
          }
        }
      ]
    },
    {
      "cell_type": "markdown",
      "metadata": {
        "id": "QLhjpn4matZn"
      },
      "source": [
        "### Precision-recall curve\n",
        "\n",
        "Since logistic regression uses a threshold (by default = 0.5) to indicate if the predicted probability implies the label 1 (when probability >= 0.5) or label 0 (when probability < 0.5). Changing this threshold will also change the result. In particular, when we lower the probability, the model will predict more positive case (label = 1) and thus this will increase the recall score (as we successfully capture more positive labels). However, at the same time, we will generally lower the precision score (as more false positive can occur). \n",
        "\n",
        "\n",
        "You can obtain the probabilities associated with each label (0 or 1) for each data point by calling the function `.predict_proba(X)` [link](https://scikit-learn.org/stable/modules/generated/sklearn.linear_model.LogisticRegression.html#sklearn.linear_model.LogisticRegression.predict_proba). The precision-recall curve will show the trade-off between these two measures. For more information on the plot of the precision-recall curve, you can review https://scikit-learn.org/stable/auto_examples/model_selection/plot_precision_recall.html. The output `thresholds` provides the set of new different thesholds of the probability used to determine the positive level.\n",
        "\n",
        "The codes below provide the plot for the precision-recall of the logistic regression model. I would encourage you to try it on the full data set to better see the results."
      ]
    },
    {
      "cell_type": "code",
      "metadata": {
        "id": "xm-LMn2KatZo",
        "outputId": "4e4ead8e-fbaf-43e1-d2f2-f504ecb19b67",
        "colab": {
          "base_uri": "https://localhost:8080/",
          "height": 564
        }
      },
      "source": [
        "import matplotlib.pyplot as plt\n",
        "\n",
        "# obtain the probability associated with label 1\n",
        "# since predict_proba return the probabilities for both classes, \n",
        "# we only take the second one (probability for label 1) by adding [:, 1] to slice them \n",
        "y_prob = logreg.predict_proba(X_test)[:, 1] # use this for logistic regression\n",
        "# y_prob = tree.predict_proba(X_test)[:, 1] # use this for tree (the result on the test is bad for this one)\n",
        "\n",
        "\n",
        "precision, recall, thresholds = sklearn.metrics.precision_recall_curve(y_test, y_prob)\n",
        "pred_recal_df = pd.DataFrame()\n",
        "pred_recal_df['Threshold'] = [0] + list(thresholds) # the first threshold is zero but we need to add manually\n",
        "pred_recal_df['Precision'] = precision\n",
        "pred_recal_df['Recall'] = recall\n",
        "display(pred_recal_df)\n",
        "\n",
        "plt.figure()\n",
        "plt.step(recall, precision)\n",
        "average_precision = sklearn.metrics.average_precision_score(y_test, y_prob)\n",
        "\n",
        "plt.xlabel('Recall')\n",
        "plt.ylabel('Precision')\n",
        "plt.ylim([0.0, 1.05])\n",
        "plt.xlim([0.0, 1.0])\n",
        "plt.title('Average precision score: AP={0:0.2f}'.format(average_precision))"
      ],
      "execution_count": 34,
      "outputs": [
        {
          "output_type": "display_data",
          "data": {
            "text/html": [
              "<div>\n",
              "<style scoped>\n",
              "    .dataframe tbody tr th:only-of-type {\n",
              "        vertical-align: middle;\n",
              "    }\n",
              "\n",
              "    .dataframe tbody tr th {\n",
              "        vertical-align: top;\n",
              "    }\n",
              "\n",
              "    .dataframe thead th {\n",
              "        text-align: right;\n",
              "    }\n",
              "</style>\n",
              "<table border=\"1\" class=\"dataframe\">\n",
              "  <thead>\n",
              "    <tr style=\"text-align: right;\">\n",
              "      <th></th>\n",
              "      <th>Threshold</th>\n",
              "      <th>Precision</th>\n",
              "      <th>Recall</th>\n",
              "    </tr>\n",
              "  </thead>\n",
              "  <tbody>\n",
              "    <tr>\n",
              "      <th>0</th>\n",
              "      <td>0.000000</td>\n",
              "      <td>0.500000</td>\n",
              "      <td>1.000000</td>\n",
              "    </tr>\n",
              "    <tr>\n",
              "      <th>1</th>\n",
              "      <td>0.000854</td>\n",
              "      <td>0.400000</td>\n",
              "      <td>0.666667</td>\n",
              "    </tr>\n",
              "    <tr>\n",
              "      <th>2</th>\n",
              "      <td>0.004112</td>\n",
              "      <td>0.500000</td>\n",
              "      <td>0.666667</td>\n",
              "    </tr>\n",
              "    <tr>\n",
              "      <th>3</th>\n",
              "      <td>0.042053</td>\n",
              "      <td>0.333333</td>\n",
              "      <td>0.333333</td>\n",
              "    </tr>\n",
              "    <tr>\n",
              "      <th>4</th>\n",
              "      <td>0.115554</td>\n",
              "      <td>0.500000</td>\n",
              "      <td>0.333333</td>\n",
              "    </tr>\n",
              "    <tr>\n",
              "      <th>5</th>\n",
              "      <td>0.235792</td>\n",
              "      <td>1.000000</td>\n",
              "      <td>0.333333</td>\n",
              "    </tr>\n",
              "    <tr>\n",
              "      <th>6</th>\n",
              "      <td>0.801535</td>\n",
              "      <td>1.000000</td>\n",
              "      <td>0.000000</td>\n",
              "    </tr>\n",
              "  </tbody>\n",
              "</table>\n",
              "</div>"
            ],
            "text/plain": [
              "   Threshold  Precision    Recall\n",
              "0   0.000000   0.500000  1.000000\n",
              "1   0.000854   0.400000  0.666667\n",
              "2   0.004112   0.500000  0.666667\n",
              "3   0.042053   0.333333  0.333333\n",
              "4   0.115554   0.500000  0.333333\n",
              "5   0.235792   1.000000  0.333333\n",
              "6   0.801535   1.000000  0.000000"
            ]
          },
          "metadata": {
            "tags": []
          }
        },
        {
          "output_type": "execute_result",
          "data": {
            "text/plain": [
              "Text(0.5, 1.0, 'Average precision score: AP=0.67')"
            ]
          },
          "metadata": {
            "tags": []
          },
          "execution_count": 34
        },
        {
          "output_type": "display_data",
          "data": {
            "image/png": "[encoded data removed]",
            "text/plain": [
              "<Figure size 432x288 with 1 Axes>"
            ]
          },
          "metadata": {
            "tags": [],
            "needs_background": "light"
          }
        }
      ]
    }
  ]
}