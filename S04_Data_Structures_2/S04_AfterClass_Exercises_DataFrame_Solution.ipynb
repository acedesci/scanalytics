{
  "nbformat": 4,
  "nbformat_minor": 0,
  "metadata": {
    "colab": {
      "name": "S04_AfterClass_Exercises_DataFrame_Solution.ipynb",
      "provenance": [],
      "authorship_tag": "ABX9TyMj8xrWaQyM+pbV6lGpYUeb",
      "include_colab_link": true
    },
    "kernelspec": {
      "name": "python3",
      "display_name": "Python 3"
    }
  },
  "cells": [
    {
      "cell_type": "markdown",
      "metadata": {
        "id": "view-in-github",
        "colab_type": "text"
      },
      "source": [
        "<a href=\"https://colab.research.google.com/github/acedesci/scanalytics/blob/master/S04_Data_Structures_2/S04_AfterClass_Exercises_DataFrame_Solution.ipynb\" target=\"_parent\"><img src=\"https://colab.research.google.com/assets/colab-badge.svg\" alt=\"Open In Colab\"/></a>"
      ]
    },
    {
      "cell_type": "markdown",
      "metadata": {
        "id": "baCCKjGsTSa3"
      },
      "source": [
        "# S4 - After-class Exercises: Python Data Structures II and SCM examples (Solution)\r\n",
        "\r\n",
        "---\r\n",
        "## Instructions:\r\n",
        "Most of the exercises presented here allows you to practice basic Python programming for some applications in Operations Management and Logistics.\r\n",
        "\r\n",
        "For each exercise, you have a code cell for the response underneath it, where you should write your answer between the lines containing `### start your code here ###` and `### end your code here ###`. Your code can contain one or more lines and you can execute this cell in order to complete the exercise. To execute the cell, you can type `Shift+Enter` or press the play button in the toolbar above. Your results will appear right below this response cell.\r\n",
        "\r\n",
        "NOTE: Please pay attention to the variable name of the output you would need to provide under each question. You must use the same variable name for the output so that the result can be printed out correctly."
      ]
    },
    {
      "cell_type": "markdown",
      "metadata": {
        "id": "lljX7N2kk-kC"
      },
      "source": [
        "In session 2, we have defined the following two functions for Bass diffusion model:\r\n",
        "\r\n",
        "<blockquote>\r\n",
        "The cumulative number of adoptors (people who bought/adopted the product) $S(t)$ from the beginning (time 0) to time $t$ is described by $S(t) = m\\times F(t)$ where $m$ is the market size (the estimated total number of potential customers) and $F(t)$ is the <i>cumulative</i> probability that an individual (potential customer) has already adopted the product by time $t$ (which needs to be calculated). \r\n",
        "We can obtain $F(t)$ as a function of $p$ and $q$ as follows:\r\n",
        "\r\n",
        "$$F(t) = \\frac{1-e^{-(p+q)t}}{1+\\frac{q}{p}e^{-(p+q)t}} $$\r\n",
        "\r\n",
        "where \r\n",
        "<br /> \r\n",
        "* $p$ is the coefficiant of innovation\r\n",
        "<br /> \r\n",
        "* $q$ is the coefficient of imitation\r\n",
        "<br /> \r\n",
        "\r\n",
        "In addition, the probability of adoption by an individual at time $t$ which is represented by $f(t)$ (recall that $f(t) = \\frac{d}{dt}F(t)$) can be calculated as follows: \r\n",
        "\r\n",
        "$$f(t) = \\frac{d}{dt}F(t) = \\frac{e^{((p+q)t)}p(p+q)^2}{[pe^{((p+q)t)}+q]^2} $$.\r\n",
        "\r\n",
        "</blockquote>\r\n",
        "\r\n",
        "We have then prepared the following two functions to calculate $F(t)$ and $f(t)$."
      ]
    },
    {
      "cell_type": "code",
      "metadata": {
        "id": "WCZ1wOa7Rcye"
      },
      "source": [
        "import math\r\n",
        "def Bass_cumulative_probability_Ft(p, q, t):\r\n",
        "    return (1-math.exp(-(p+q)*t))/(1+(q/p)*math.exp(-(p+q)*t))\r\n",
        "\r\n",
        "def Bass_probability_ft(p, q, t):\r\n",
        "    return (math.exp((p+q)*t)*p*(p+q)**2)/(p*math.exp((p+q)*t)+q)**2"
      ],
      "execution_count": null,
      "outputs": []
    },
    {
      "cell_type": "markdown",
      "metadata": {
        "id": "l6zE6dpvs-u2"
      },
      "source": [
        "Based on the values of $p$, $q$ and $m$ of the quarterly sales of iPhone provided in the code cell below, please compute the values of the estimated probability of adoption $f(t)$, cumulative probability of adoption $F(t)$, the number of adoptions $s(t)$, and cumulative number of adoptions $S(t)$ for each quarter, which is indexed by $t$. Note that the first column below is an index whereas the subsequent four columns contain the corresponding values of the estimations based on Bass diffusion model.\r\n",
        "\r\n",
        "\r\n",
        "|Quarter_Index| ft | Ft| st | St | \r\n",
        "| :- | :- | :- | :- | :- | \r\n",
        "|...| ... |...| ... |...|\r\n",
        "\r\n",
        "The parameters $m$, $p$ and $q$ of the Bass model for iPhone were obtained from the paper below (note that we will also review how we can obtain such parameters using the regression later in the course).\r\n",
        "> Ashokan, R., Zenarosa, G. L., & He, X. (2018). Diffusion model for the adoption of smartphone brands under competitive pricing. Int. J. Trade Econ. Finan, 9(3), 96-99.\r\n",
        "\r\n",
        "**Question 1**: Please compute the values as indicated in the table above for the first 40 quarters of the sales (i.e., 10 years) using the parameters provided. The index of the quarter must be from $0 \\rightarrow 39$ (i.e., the first quarter is considered period $t=0$)."
      ]
    },
    {
      "cell_type": "code",
      "metadata": {
        "id": "weo_MguSwfeq"
      },
      "source": [
        "m = 1650.041 # this corresponds to the value 1650.041×10^6, i.e., the market size is 1.65 billion\r\n",
        "p = 0.002493\r\n",
        "q = 0.132501"
      ],
      "execution_count": null,
      "outputs": []
    },
    {
      "cell_type": "code",
      "metadata": {
        "id": "vk7Qfr38mtko"
      },
      "source": [
        "import pandas as pd\r\n",
        "column_names = ['ft','Ft','st','St']\r\n",
        "quarter_index = list(range(40))\r\n",
        "bass_df = pd.DataFrame(index = quarter_index, columns = column_names)\r\n",
        "bass_df.index.name = 'Quarter'\r\n",
        "\r\n",
        "### start your code here ###\r\n",
        "bass_df['ft'] = [Bass_probability_ft(p, q, t) for t in bass_df.index]\r\n",
        "bass_df['Ft'] = [Bass_cumulative_probability_Ft(p, q, t) for t in bass_df.index]\r\n",
        "bass_df['st'] = [m*bass_df.at[t,'ft'] for t in bass_df.index]\r\n",
        "bass_df['St'] = [m*bass_df.at[t,'Ft'] for t in bass_df.index]\r\n",
        "### end your code here ###\r\n",
        "\r\n",
        "bass_df"
      ],
      "execution_count": null,
      "outputs": []
    },
    {
      "cell_type": "markdown",
      "metadata": {
        "id": "wqXtek3HTVNc"
      },
      "source": [
        "\r\n",
        "**Question 2**: Please (i) plot the columns `['ft','Ft']` in a single plot using line plot (parameter `kind='line'`) and (ii) plot the columns `['st','St']` in a single plot using bar plot (parameter `kind='bar'`). You can also indicate the plot size using the parameter `figsize = (12,4)`."
      ]
    },
    {
      "cell_type": "code",
      "metadata": {
        "id": "qLljeugk0Kw-"
      },
      "source": [
        "### start your code here ###\r\n",
        "bass_df[['ft','Ft']].plot(figsize = (12,4))\r\n",
        "bass_df[['st','St']].plot(kind = 'bar', figsize = (12,4))\r\n",
        "### end your code here ###"
      ],
      "execution_count": null,
      "outputs": []
    },
    {
      "cell_type": "markdown",
      "metadata": {
        "id": "EV0EufpdbPJD"
      },
      "source": [
        "Now we can compare the results with the actual quarterly sales of iPhone for the first 40 quarters (starting from Q2 2007 which the product was first introduced). The data has been made available in the URL below (in csv format) which we can download to DataFrame."
      ]
    },
    {
      "cell_type": "code",
      "metadata": {
        "id": "tJYUt2zf2hwW"
      },
      "source": [
        "url = 'https://raw.githubusercontent.com/acedesci/scanalytics/master/S04_Data_Structures_2/iphone_quarter_sales.csv'\r\n",
        "actual_sales = pd.read_csv(url, index_col='Quarter')\r\n",
        "actual_sales.head()\r\n",
        "\r\n"
      ],
      "execution_count": null,
      "outputs": []
    },
    {
      "cell_type": "markdown",
      "metadata": {
        "id": "c2G43F9gaHiS"
      },
      "source": [
        "**Question 3**: Please add the following columns and their corresponding values to the `bass_df` DataFrame\r\n",
        "\r\n",
        "\r\n",
        "*   Column `'Actual'`: which contains the actual sales from the DataFrame `actual_sales`\r\n",
        "*   Column `'CumulativeActual'`: which calculates the sum from the first quarter up until each quater in the index\r\n",
        "*   Column `'PError'`: which calculates the percentage error of each corresponding quarter from column `'Actual'` and column `'st'` (estimated sales in each quarter), i.e., `PError = (Actual-st)/st`\r\n",
        "\r\n"
      ]
    },
    {
      "cell_type": "code",
      "metadata": {
        "id": "FaoMpo_TaFYl"
      },
      "source": [
        "### start your code here ###\r\n",
        "bass_df['Actual'] = actual_sales['Sales']\r\n",
        "bass_df['CumulativeActual'] = [sum(actual_sales.loc[:t,'Sales']) for t in actual_sales['Sales'].index]\r\n",
        "bass_df['PError'] = (bass_df['Actual'] - bass_df['st'])/bass_df['Actual']\r\n",
        "### end your code here ###\r\n",
        "bass_df"
      ],
      "execution_count": null,
      "outputs": []
    },
    {
      "cell_type": "markdown",
      "metadata": {
        "id": "s4qiBovTtobr"
      },
      "source": [
        "We can also generate the date of the last day of each quarter using the code below. This list will be later used as new indexes."
      ]
    },
    {
      "cell_type": "code",
      "metadata": {
        "id": "eJnh5ARpm8D0"
      },
      "source": [
        "quarter_index_date = pd.date_range('4/1/2007', periods=40, freq='Q')\r\n",
        "quarter_index_date\r\n"
      ],
      "execution_count": null,
      "outputs": []
    },
    {
      "cell_type": "markdown",
      "metadata": {
        "id": "7GEww6Fph65y"
      },
      "source": [
        "**Question 4**: Please (i) replace the original indexes using the newly created list 'quarter_index_date' and (ii) then create the following plots from the DataFrame `bass_df` using the size `figsize=(12,4)`:\r\n",
        "\r\n",
        "\r\n",
        "*   Columns `['St','CumulativeActual']` using a line plot\r\n",
        "*   Columns `['st','Actual']` using a line plot\r\n",
        "*   Column `['PError']` using a bar plot\r\n",
        "\r\n",
        "**Hint**: you can use the method `.set_index(...)` by calling `bass_df =  bass_df.set_index(new_index_list, index_name)` to set the index (see [link](https://www.w3resource.com/pandas/dataframe/dataframe-set_index.php))\r\n",
        "\r\n"
      ]
    },
    {
      "cell_type": "code",
      "metadata": {
        "id": "f5tkpswYh5uO"
      },
      "source": [
        "### start your code here ###\r\n",
        "bass_df = bass_df.set_index(quarter_index_date, 'Quarter')\r\n",
        "bass_df[['St','CumulativeActual']].plot(figsize=(12,4))\r\n",
        "bass_df[['st','Actual']].plot(figsize=(12,4))\r\n",
        "bass_df[['PError']].plot(kind='bar',figsize=(12,4))\r\n",
        "### end your code here ###"
      ],
      "execution_count": null,
      "outputs": []
    }
  ]
}