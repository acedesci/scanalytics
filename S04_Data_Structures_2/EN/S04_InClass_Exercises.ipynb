{
 "cells": [
  {
   "cell_type": "markdown",
   "metadata": {
    "id": "orA_0s_Vpo62"
   },
   "source": [
    "# S04 - In-class Exercises: Python Data Structures II and SCM Examples (Solution)\n",
    "\n",
    "---\n",
    "## Instructions\n",
    "\n",
    "Most of the exercises presented here allows you to practice basic Python programming for some applications in Operations Management and Logistics. \n",
    "\n",
    "For each exercise, you have a code cell for the response underneath it, where you should write your answer between the lines containing `### start your code here ###`  and `### end your code here ###`. Your code can contain one or more lines and you can execute this cell in order to complete the exercise. To execute the cell, you can type `Shift+Enter` or press the play button in the toolbar above. Your results will appear right below this response cell.\n",
    "\n",
    "**NOTE:** Please pay attention to the variable name of the output you need to provide under each question. You must use the same variable name for the output so that the result can be printed out correctly."
   ]
  },
  {
   "cell_type": "markdown",
   "metadata": {
    "id": "S6TfdlB1po7D"
   },
   "source": [
    "---\n",
    "## Computing Total Costs and Analyzing Different Inventory Policies\n",
    "In this exercise, you will use the pandas library to compare two different inventory policies, compute their corresponding total costs and select the most economical policy.\n",
    "\n",
    "\n",
    "### Prerequisite: Reading data\n",
    "Import the pandas library under the alias `pd`. Import the csv file `InvPolicies.csv` into a `DataFrame`, and select the first column named `'Period'` as the index of the `DataFrame`. Then display the first 10 rows of your `DataFrame`.\n",
    "\n",
    "**Hint:** you can define the index column of the `DataFrame` using the `index_col` parameter of the `.read_csv()` method. Check [this page](https://pandas.pydata.org/pandas-docs/stable/reference/api/pandas.read_csv.html) for more information."
   ]
  },
  {
   "cell_type": "code",
   "execution_count": 1,
   "metadata": {
    "id": "w22RdAshpo7E"
   },
   "outputs": [
    {
     "data": {
      "text/html": [
       "<div>\n",
       "<style scoped>\n",
       "    .dataframe tbody tr th:only-of-type {\n",
       "        vertical-align: middle;\n",
       "    }\n",
       "\n",
       "    .dataframe tbody tr th {\n",
       "        vertical-align: top;\n",
       "    }\n",
       "\n",
       "    .dataframe thead th {\n",
       "        text-align: right;\n",
       "    }\n",
       "</style>\n",
       "<table border=\"1\" class=\"dataframe\">\n",
       "  <thead>\n",
       "    <tr style=\"text-align: right;\">\n",
       "      <th></th>\n",
       "      <th>P1_Ending_Inv</th>\n",
       "      <th>P1_Order</th>\n",
       "      <th>P2_Ending_Inv</th>\n",
       "      <th>P2_Order</th>\n",
       "    </tr>\n",
       "    <tr>\n",
       "      <th>Week</th>\n",
       "      <th></th>\n",
       "      <th></th>\n",
       "      <th></th>\n",
       "      <th></th>\n",
       "    </tr>\n",
       "  </thead>\n",
       "  <tbody>\n",
       "    <tr>\n",
       "      <th>1</th>\n",
       "      <td>29</td>\n",
       "      <td>51</td>\n",
       "      <td>29</td>\n",
       "      <td>41</td>\n",
       "    </tr>\n",
       "    <tr>\n",
       "      <th>2</th>\n",
       "      <td>13</td>\n",
       "      <td>0</td>\n",
       "      <td>13</td>\n",
       "      <td>0</td>\n",
       "    </tr>\n",
       "    <tr>\n",
       "      <th>3</th>\n",
       "      <td>0</td>\n",
       "      <td>0</td>\n",
       "      <td>0</td>\n",
       "      <td>29</td>\n",
       "    </tr>\n",
       "    <tr>\n",
       "      <th>4</th>\n",
       "      <td>34</td>\n",
       "      <td>0</td>\n",
       "      <td>24</td>\n",
       "      <td>0</td>\n",
       "    </tr>\n",
       "    <tr>\n",
       "      <th>5</th>\n",
       "      <td>23</td>\n",
       "      <td>57</td>\n",
       "      <td>13</td>\n",
       "      <td>28</td>\n",
       "    </tr>\n",
       "    <tr>\n",
       "      <th>6</th>\n",
       "      <td>0</td>\n",
       "      <td>0</td>\n",
       "      <td>19</td>\n",
       "      <td>0</td>\n",
       "    </tr>\n",
       "    <tr>\n",
       "      <th>7</th>\n",
       "      <td>-17</td>\n",
       "      <td>0</td>\n",
       "      <td>2</td>\n",
       "      <td>40</td>\n",
       "    </tr>\n",
       "    <tr>\n",
       "      <th>8</th>\n",
       "      <td>20</td>\n",
       "      <td>60</td>\n",
       "      <td>10</td>\n",
       "      <td>0</td>\n",
       "    </tr>\n",
       "    <tr>\n",
       "      <th>9</th>\n",
       "      <td>4</td>\n",
       "      <td>0</td>\n",
       "      <td>-6</td>\n",
       "      <td>36</td>\n",
       "    </tr>\n",
       "    <tr>\n",
       "      <th>10</th>\n",
       "      <td>-6</td>\n",
       "      <td>0</td>\n",
       "      <td>24</td>\n",
       "      <td>0</td>\n",
       "    </tr>\n",
       "  </tbody>\n",
       "</table>\n",
       "</div>"
      ],
      "text/plain": [
       "      P1_Ending_Inv  P1_Order  P2_Ending_Inv  P2_Order\n",
       "Week                                                  \n",
       "1                29        51             29        41\n",
       "2                13         0             13         0\n",
       "3                 0         0              0        29\n",
       "4                34         0             24         0\n",
       "5                23        57             13        28\n",
       "6                 0         0             19         0\n",
       "7               -17         0              2        40\n",
       "8                20        60             10         0\n",
       "9                 4         0             -6        36\n",
       "10               -6         0             24         0"
      ]
     },
     "execution_count": 1,
     "metadata": {},
     "output_type": "execute_result"
    }
   ],
   "source": [
    "import pandas as pd\n",
    "url = 'https://raw.githubusercontent.com/acedesci/scanalytics/master/data/InvPolicy.csv'\n",
    "df_inv = pd.read_csv(url, index_col='Week')\n",
    "df_inv.head(10)"
   ]
  },
  {
   "cell_type": "markdown",
   "metadata": {
    "id": "y4pRAR0gpo7F"
   },
   "source": [
    "You can see that, similar to the example in class, the imported data present a scenario for the next 52 weeks, and the following data for two different inventory policies: the inventory level at the end of each period and the ordered quantity at each period. "
   ]
  },
  {
   "cell_type": "markdown",
   "metadata": {
    "id": "G5KhAZ9spo7G"
   },
   "source": [
    "---\n",
    "### Exercise 1: Descriptive Analysis\n",
    "Let's analyze a bit our data. As an exploratory analysis, for each of the two inventory policies `P1` and `P2`, compute the following values and print the results. If the number is fractional, print it in a two-digit format.\n",
    "\n",
    "* *Average physical inventory*. This is an average ending inventory but considers that the minimum inventory is at zero. The inventory when a backlog occurs which is represented by a negative inventory is considered zero.\n",
    "* *Number of periods with a shortage/backlog*\n",
    "* *Number of orders under each policy*\n",
    "* *Average order quantity under each policy* when an order is placed\n",
    "\n",
    "**Hint:** If you want to set a lower/upper bound for the values in a column or DataFrame. You can consider using the `df.clip()` method to assign a minimum or maximum value to the column. See [link](https://www.w3resource.com/pandas/dataframe/dataframe-clip.php) for more info."
   ]
  },
  {
   "cell_type": "code",
   "execution_count": null,
   "metadata": {
    "id": "dXZYCK_rKI-i"
   },
   "outputs": [],
   "source": [
    "### start your code here ###\n",
    "\n",
    "### start your code here ###"
   ]
  },
  {
   "cell_type": "markdown",
   "metadata": {
    "id": "hrZW9L1spo7J"
   },
   "source": [
    "---\n",
    "### Exercise 2: Visualizing Inventory Levels\n",
    "Create graphs to visualize the ending inventory levels (columns `['P1_Ending_Inv', 'P2_Ending_Inv']` of the first 36 weeks under each policy using:\n",
    "- (i) a bar plot with the size `figsize = (12, 4)`, \n",
    "- (ii) a box plot (`kind='box'`), and \n",
    "- (iii) a probability density plot (`kind='density'`). \n",
    "\n",
    "See this [link](https://pandas.pydata.org/pandas-docs/stable/reference/api/pandas.DataFrame.plot.html) for more info."
   ]
  },
  {
   "cell_type": "code",
   "execution_count": null,
   "metadata": {
    "id": "R2YtOjaupo7J"
   },
   "outputs": [],
   "source": [
    "### start your code here ###\n",
    "\n",
    "### end your code here ###"
   ]
  },
  {
   "cell_type": "markdown",
   "metadata": {
    "id": "cVlpLsg1po7K"
   },
   "source": [
    "---\n",
    "### Exercise 3: Computing Inventory Management Cost for Each Period\n",
    "In this exercise, you will compute the inventory management cost for each inventory policy at each period. The inventory management cost is computed as the sum of the holding cost, shortage cost and ordering cost. The following cost parameters are given:\n",
    "\n",
    "*   `holding_cost`: unit inventory holding cost charged at the end of each period (\\$ per unit per period)\n",
    "*   `shortage_cost`: unit shortage cost charged at the end of each period (\\$ per unit of shortage)\n",
    "*   `ordering_cost`: ordering cost (\\$ per order - regardless of the number of units ordered in a order)\n",
    "\n",
    "Compute the inventory management cost for each period under each policy `P1` and `P2`. Add this new information as new columns of the `DataFrame` named as `P1_Cost` and `P2_Cost`."
   ]
  },
  {
   "cell_type": "code",
   "execution_count": null,
   "metadata": {
    "id": "OqGJN4Hw8yTD"
   },
   "outputs": [],
   "source": [
    "holding_cost = 5\n",
    "shortage_cost = 15\n",
    "ordering_cost = 150"
   ]
  },
  {
   "cell_type": "code",
   "execution_count": null,
   "metadata": {
    "id": "2IpphMni8zcJ"
   },
   "outputs": [],
   "source": [
    "### start your code here ###\n",
    "\n",
    "### end your code here ###\n",
    "\n",
    "print(\"Total IM cost for P1:$\", df_inv['P1_TotalCost'].sum(),\", Total IM cost for P2:$\", df_inv['P2_TotalCost'].sum())\n",
    "df_inv.tail(10)"
   ]
  },
  {
   "cell_type": "code",
   "execution_count": null,
   "metadata": {
    "id": "K28siAi-po7M"
   },
   "outputs": [],
   "source": []
  }
 ],
 "metadata": {
  "kernelspec": {
   "display_name": "Python 3 (ipykernel)",
   "language": "python",
   "name": "python3"
  },
  "language_info": {
   "codemirror_mode": {
    "name": "ipython",
    "version": 3
   },
   "file_extension": ".py",
   "mimetype": "text/x-python",
   "name": "python",
   "nbconvert_exporter": "python",
   "pygments_lexer": "ipython3",
   "version": "3.8.8"
  },
  "toc": {
   "base_numbering": 1,
   "nav_menu": {},
   "number_sections": true,
   "sideBar": true,
   "skip_h1_title": false,
   "title_cell": "Table of Contents",
   "title_sidebar": "Contents",
   "toc_cell": false,
   "toc_position": {},
   "toc_section_display": true,
   "toc_window_display": true
  }
 },
 "nbformat": 4,
 "nbformat_minor": 1
}
