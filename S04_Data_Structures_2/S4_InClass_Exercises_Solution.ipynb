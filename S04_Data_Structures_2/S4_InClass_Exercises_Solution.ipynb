{
  "nbformat": 4,
  "nbformat_minor": 0,
  "metadata": {
    "kernelspec": {
      "display_name": "Python 3",
      "language": "python",
      "name": "python3"
    },
    "language_info": {
      "codemirror_mode": {
        "name": "ipython",
        "version": 3
      },
      "file_extension": ".py",
      "mimetype": "text/x-python",
      "name": "python",
      "nbconvert_exporter": "python",
      "pygments_lexer": "ipython3",
      "version": "3.7.6"
    },
    "colab": {
      "name": "S4_AfterClass_Exercises_Solution.ipynb",
      "provenance": [],
      "include_colab_link": true
    }
  },
  "cells": [
    {
      "cell_type": "markdown",
      "metadata": {
        "id": "view-in-github",
        "colab_type": "text"
      },
      "source": [
        "<a href=\"https://colab.research.google.com/github/acedesci/scanalytics/blob/master/S04_Data_Structures_2/S4_InClass_Exercises_Solution.ipynb\" target=\"_parent\"><img src=\"https://colab.research.google.com/assets/colab-badge.svg\" alt=\"Open In Colab\"/></a>"
      ]
    },
    {
      "cell_type": "markdown",
      "metadata": {
        "id": "orA_0s_Vpo62"
      },
      "source": [
        "# S4 - After-class Exercises: Python Data Structures II and SCM examples (Solution)\n",
        "\n",
        "---\n",
        "## Instructions:\n",
        "Most of the exercises presented here allows you to practice basic Python programming for some applications in Operations Management and Logistics.\n",
        "\n",
        "For each exercise, you have a code cell for the response underneath it, where you should write your answer between the lines containing `### start your code here ###` and `### end your code here ###`. Your code can contain one or more lines and you can execute this cell in order to complete the exercise. To execute the cell, you can type `Shift+Enter` or press the play button in the toolbar above. Your results will appear right below this response cell.\n",
        "\n",
        "NOTE: Please pay attention to the variable name of the output you would need to provide under each question. You must use the same variable name for the output so that the result can be printed out correctly."
      ]
    },
    {
      "cell_type": "markdown",
      "metadata": {
        "id": "S6TfdlB1po7D"
      },
      "source": [
        "---\n",
        "## Computing total costs and analyzing different inventory policies\n",
        "In this exercise, you will use pandas library to compare two different inventory policies, compute the their corresponding total costs and selecting the most economical policy.\n",
        "\n",
        "\n",
        "### Exercise 1: Reading data\n",
        "Import the pandas library under the alias `pd`. Import the csv file `InvPolicies.csv` into a `DataFrame`, and select the first column named `'Period'` as the index of the `DataFrame`. Then display the first 10 rows of your `DataFrame`.\n",
        "\n",
        "**$\\color{blue}{\\textbf{Hint:}}$** you can define the index column of the `DataFrame` using the `index_col` parameter of the `.read_csv()` function. Check [this page](https://pandas.pydata.org/pandas-docs/stable/reference/api/pandas.read_csv.html) for more information."
      ]
    },
    {
      "cell_type": "code",
      "metadata": {
        "id": "w22RdAshpo7E",
        "outputId": "70c2f704-3500-47db-86c8-817128880a8a",
        "colab": {
          "base_uri": "https://localhost:8080/",
          "height": 394
        }
      },
      "source": [
        "import pandas as pd\n",
        "url = 'https://raw.githubusercontent.com/acedesci/scanalytics/master/S04_Data_Structures_2/InvPolicy.csv'\n",
        "df_inv = pd.read_csv(url, index_col='Week')\n",
        "df_inv.head(10)"
      ],
      "execution_count": 1,
      "outputs": [
        {
          "output_type": "execute_result",
          "data": {
            "text/html": [
              "<div>\n",
              "<style scoped>\n",
              "    .dataframe tbody tr th:only-of-type {\n",
              "        vertical-align: middle;\n",
              "    }\n",
              "\n",
              "    .dataframe tbody tr th {\n",
              "        vertical-align: top;\n",
              "    }\n",
              "\n",
              "    .dataframe thead th {\n",
              "        text-align: right;\n",
              "    }\n",
              "</style>\n",
              "<table border=\"1\" class=\"dataframe\">\n",
              "  <thead>\n",
              "    <tr style=\"text-align: right;\">\n",
              "      <th></th>\n",
              "      <th>P1_Ending_Inv</th>\n",
              "      <th>P1_Order</th>\n",
              "      <th>P2_Ending_Inv</th>\n",
              "      <th>P2_Order</th>\n",
              "    </tr>\n",
              "    <tr>\n",
              "      <th>Week</th>\n",
              "      <th></th>\n",
              "      <th></th>\n",
              "      <th></th>\n",
              "      <th></th>\n",
              "    </tr>\n",
              "  </thead>\n",
              "  <tbody>\n",
              "    <tr>\n",
              "      <th>1</th>\n",
              "      <td>29</td>\n",
              "      <td>51</td>\n",
              "      <td>29</td>\n",
              "      <td>41</td>\n",
              "    </tr>\n",
              "    <tr>\n",
              "      <th>2</th>\n",
              "      <td>13</td>\n",
              "      <td>0</td>\n",
              "      <td>13</td>\n",
              "      <td>0</td>\n",
              "    </tr>\n",
              "    <tr>\n",
              "      <th>3</th>\n",
              "      <td>0</td>\n",
              "      <td>0</td>\n",
              "      <td>0</td>\n",
              "      <td>29</td>\n",
              "    </tr>\n",
              "    <tr>\n",
              "      <th>4</th>\n",
              "      <td>34</td>\n",
              "      <td>0</td>\n",
              "      <td>24</td>\n",
              "      <td>0</td>\n",
              "    </tr>\n",
              "    <tr>\n",
              "      <th>5</th>\n",
              "      <td>23</td>\n",
              "      <td>57</td>\n",
              "      <td>13</td>\n",
              "      <td>28</td>\n",
              "    </tr>\n",
              "    <tr>\n",
              "      <th>6</th>\n",
              "      <td>0</td>\n",
              "      <td>0</td>\n",
              "      <td>19</td>\n",
              "      <td>0</td>\n",
              "    </tr>\n",
              "    <tr>\n",
              "      <th>7</th>\n",
              "      <td>-17</td>\n",
              "      <td>0</td>\n",
              "      <td>2</td>\n",
              "      <td>40</td>\n",
              "    </tr>\n",
              "    <tr>\n",
              "      <th>8</th>\n",
              "      <td>20</td>\n",
              "      <td>60</td>\n",
              "      <td>10</td>\n",
              "      <td>0</td>\n",
              "    </tr>\n",
              "    <tr>\n",
              "      <th>9</th>\n",
              "      <td>4</td>\n",
              "      <td>0</td>\n",
              "      <td>-6</td>\n",
              "      <td>36</td>\n",
              "    </tr>\n",
              "    <tr>\n",
              "      <th>10</th>\n",
              "      <td>-6</td>\n",
              "      <td>0</td>\n",
              "      <td>24</td>\n",
              "      <td>0</td>\n",
              "    </tr>\n",
              "  </tbody>\n",
              "</table>\n",
              "</div>"
            ],
            "text/plain": [
              "      P1_Ending_Inv  P1_Order  P2_Ending_Inv  P2_Order\n",
              "Week                                                  \n",
              "1                29        51             29        41\n",
              "2                13         0             13         0\n",
              "3                 0         0              0        29\n",
              "4                34         0             24         0\n",
              "5                23        57             13        28\n",
              "6                 0         0             19         0\n",
              "7               -17         0              2        40\n",
              "8                20        60             10         0\n",
              "9                 4         0             -6        36\n",
              "10               -6         0             24         0"
            ]
          },
          "metadata": {
            "tags": []
          },
          "execution_count": 1
        }
      ]
    },
    {
      "cell_type": "markdown",
      "metadata": {
        "id": "y4pRAR0gpo7F"
      },
      "source": [
        "You can see that, similar to the exercise in class, the imported data present a demand scenario for the next 52 weeks, and the following data for two different inventory policies: the inventory level at the beginning of each period, the amount received at the beginning of each period, the inventory level at the end of each period and the ordered quantity at each period. "
      ]
    },
    {
      "cell_type": "markdown",
      "metadata": {
        "id": "G5KhAZ9spo7G"
      },
      "source": [
        "---\n",
        "### Exercise 2: Descriptive analysis\n",
        "Let's analyse a bit our data. As an exploratory analysis, for each of the two inventory policies `P1` and `P2`, answer the following questions and print the results.\n",
        "\n",
        "* For how many periods (out of the 52 considered) there is shortage of product (hence created a backlog)?\n",
        "* What is the average inventory quantity under each policy? \n",
        "* How many orders are placed in total under each policy?\n",
        "* What is the average order quantity under each policy? "
      ]
    },
    {
      "cell_type": "code",
      "metadata": {
        "scrolled": false,
        "id": "BjRG_B9Wpo7G",
        "outputId": "b4d42c33-717e-45f1-dc93-6527221fc391",
        "colab": {
          "base_uri": "https://localhost:8080/"
        }
      },
      "source": [
        "### start your code here ###\n",
        "\n",
        "print('Periods with shortage under P1:', df_inv.loc[df_inv['P1_Ending_Inv'] < 0].shape[0])\n",
        "print('Periods with shortage under P2:',df_inv.loc[df_inv['P2_Ending_Inv'] < 0].shape[0])\n",
        "\n",
        "print('Number of orders under P1:', df_inv.loc[df_inv['P1_Order'] > 0 ].shape[0])\n",
        "print('Number of orders under P2:',df_inv.loc[df_inv['P2_Order'] > 0].shape[0])\n",
        "\n",
        "print('Average order quantity under P1:', df_inv['P1_Order'].loc[df_inv['P1_Order'] > 0 ].mean())\n",
        "print('Average order quantity under P2:',df_inv['P1_Order'].loc[df_inv['P2_Order'] > 0].mean())\n",
        "\n",
        "### start your code here ###"
      ],
      "execution_count": 3,
      "outputs": [
        {
          "output_type": "stream",
          "text": [
            "Periods with shortage under P1: 14\n",
            "Periods with shortage under P2: 7\n",
            "Number of orders under P1: 16\n",
            "Number of orders under P2: 27\n",
            "Average order quantity under P1: 60.1875\n",
            "Average order quantity under P2: 22.296296296296298\n"
          ],
          "name": "stdout"
        }
      ]
    },
    {
      "cell_type": "markdown",
      "metadata": {
        "id": "hrZW9L1spo7J"
      },
      "source": [
        "---\n",
        "### Exercise 3: Visualizing inventory levels\n",
        "Create one graph to visualize the inventory levels under each policy for the first $30$ periods of the planning horizon."
      ]
    },
    {
      "cell_type": "code",
      "metadata": {
        "id": "R2YtOjaupo7J",
        "outputId": "5c257cc0-f973-42f6-ebca-e977e46fd211"
      },
      "source": [
        "### start your code here ###\n",
        "\n",
        "df_inv[:30][[\"P1_EndInv\", \"P2_EndInv\"]].plot(kind='bar')   # plotting inv levels\n",
        "\n",
        "\n",
        "### end your code here ###"
      ],
      "execution_count": null,
      "outputs": [
        {
          "output_type": "execute_result",
          "data": {
            "text/plain": [
              "<AxesSubplot:xlabel='Period'>"
            ]
          },
          "metadata": {
            "tags": []
          },
          "execution_count": 3
        },
        {
          "output_type": "display_data",
          "data": {
            "image/png": "[encoded data removed]",
            "text/plain": [
              "<Figure size 432x288 with 1 Axes>"
            ]
          },
          "metadata": {
            "tags": [],
            "needs_background": "light"
          }
        }
      ]
    },
    {
      "cell_type": "markdown",
      "metadata": {
        "id": "cVlpLsg1po7K"
      },
      "source": [
        "---\n",
        "### Exercise 4: Computing inventory management cost for each period\n",
        "In this exercise you will compute the inventory management cost for each inventory policy at each period. The inventory management cost is computed as the sum of the holding cost, shortage cost and ordering cost. The following costs parameters are given:\n",
        "\n",
        "*   `holding_cost`: unit inventory holding cost (\\$ per unit per period)\n",
        "*   `shortage_cost`: unit shortage cost (\\$ per unit of shortage)\n",
        "*   `ordering_cost`: ordering cost (\\$ per order - regardless of the number of units ordered in a order)\n",
        "\n",
        "\n",
        "Please compute the inventory management cost for each period under each policy `P1` and `P2`. Add this new information as new columns of the `DataFrame` named as `P1_Cost` and `P2_Cost`.\n"
      ]
    },
    {
      "cell_type": "code",
      "metadata": {
        "id": "OqGJN4Hw8yTD"
      },
      "source": [
        "holding_cost = 0.5\r\n",
        "shortage_cost = 1.3\r\n",
        "ordering_cost = 15"
      ],
      "execution_count": null,
      "outputs": []
    },
    {
      "cell_type": "code",
      "metadata": {
        "id": "2IpphMni8zcJ"
      },
      "source": [
        "### start your code here ###\r\n",
        "\r\n",
        "df_inv['P1_TotalCost'] = [ for ]\r\n",
        "\r\n",
        "### end your code here ###\r\n",
        "\r\n",
        "df_inv.head(10)"
      ],
      "execution_count": null,
      "outputs": []
    },
    {
      "cell_type": "code",
      "metadata": {
        "scrolled": true,
        "id": "zx3o71rZpo7L",
        "outputId": "9c4bccbf-e885-4e08-c3ad-df9999d82160"
      },
      "source": [
        "\n",
        "\n",
        "### start your code here ###\n",
        "def total_cost_P1(row):\n",
        "    total_cost = 0\n",
        "    if row.P1_EndInv >= 0:\n",
        "        total_cost += holding_cost * row.P1_EndInv\n",
        "    else:\n",
        "        total_cost += shortage_cost * row.P1_EndInv * - 1\n",
        "    if row.P1_Order > 0:\n",
        "        total_cost += ordering_cost      \n",
        "    return total_cost\n",
        "\n",
        "def total_cost_P2(row):\n",
        "    total_cost = 0\n",
        "    if row.P2_EndInv >= 0:\n",
        "        total_cost += holding_cost * row.P2_EndInv\n",
        "    else:\n",
        "        total_cost += shortage_cost * row.P2_EndInv * - 1\n",
        "    if row.P2_Order > 0:\n",
        "        total_cost += ordering_cost      \n",
        "    return total_cost\n",
        "\n",
        "df_inv['P1_TotalCost'] = df_inv.apply(total_cost_P1, axis='columns')\n",
        "df_inv['P2_TotalCost'] = df_inv.apply(total_cost_P2, axis='columns')\n",
        "\n",
        "### end your code here ###\n",
        "\n",
        "df_inv.head(10)"
      ],
      "execution_count": null,
      "outputs": [
        {
          "output_type": "execute_result",
          "data": {
            "text/html": [
              "<div>\n",
              "<style scoped>\n",
              "    .dataframe tbody tr th:only-of-type {\n",
              "        vertical-align: middle;\n",
              "    }\n",
              "\n",
              "    .dataframe tbody tr th {\n",
              "        vertical-align: top;\n",
              "    }\n",
              "\n",
              "    .dataframe thead th {\n",
              "        text-align: right;\n",
              "    }\n",
              "</style>\n",
              "<table border=\"1\" class=\"dataframe\">\n",
              "  <thead>\n",
              "    <tr style=\"text-align: right;\">\n",
              "      <th></th>\n",
              "      <th>Demand</th>\n",
              "      <th>P1_InitInv</th>\n",
              "      <th>P1_Receipt</th>\n",
              "      <th>P1_EndInv</th>\n",
              "      <th>P1_Order</th>\n",
              "      <th>P2_InitInv</th>\n",
              "      <th>P2_Receipt</th>\n",
              "      <th>P2_EndInv</th>\n",
              "      <th>P2_Order</th>\n",
              "      <th>P1_TotalCost</th>\n",
              "      <th>P2_TotalCost</th>\n",
              "    </tr>\n",
              "    <tr>\n",
              "      <th>Period</th>\n",
              "      <th></th>\n",
              "      <th></th>\n",
              "      <th></th>\n",
              "      <th></th>\n",
              "      <th></th>\n",
              "      <th></th>\n",
              "      <th></th>\n",
              "      <th></th>\n",
              "      <th></th>\n",
              "      <th></th>\n",
              "      <th></th>\n",
              "    </tr>\n",
              "  </thead>\n",
              "  <tbody>\n",
              "    <tr>\n",
              "      <th>1</th>\n",
              "      <td>61</td>\n",
              "      <td>100</td>\n",
              "      <td>0</td>\n",
              "      <td>39</td>\n",
              "      <td>111</td>\n",
              "      <td>100</td>\n",
              "      <td>0</td>\n",
              "      <td>39</td>\n",
              "      <td>61</td>\n",
              "      <td>34.5</td>\n",
              "      <td>34.5</td>\n",
              "    </tr>\n",
              "    <tr>\n",
              "      <th>2</th>\n",
              "      <td>93</td>\n",
              "      <td>39</td>\n",
              "      <td>0</td>\n",
              "      <td>-54</td>\n",
              "      <td>204</td>\n",
              "      <td>39</td>\n",
              "      <td>0</td>\n",
              "      <td>-54</td>\n",
              "      <td>154</td>\n",
              "      <td>85.2</td>\n",
              "      <td>85.2</td>\n",
              "    </tr>\n",
              "    <tr>\n",
              "      <th>3</th>\n",
              "      <td>90</td>\n",
              "      <td>-54</td>\n",
              "      <td>0</td>\n",
              "      <td>-144</td>\n",
              "      <td>294</td>\n",
              "      <td>-54</td>\n",
              "      <td>0</td>\n",
              "      <td>-144</td>\n",
              "      <td>244</td>\n",
              "      <td>202.2</td>\n",
              "      <td>202.2</td>\n",
              "    </tr>\n",
              "    <tr>\n",
              "      <th>4</th>\n",
              "      <td>82</td>\n",
              "      <td>-144</td>\n",
              "      <td>111</td>\n",
              "      <td>-115</td>\n",
              "      <td>265</td>\n",
              "      <td>-144</td>\n",
              "      <td>61</td>\n",
              "      <td>-165</td>\n",
              "      <td>265</td>\n",
              "      <td>164.5</td>\n",
              "      <td>229.5</td>\n",
              "    </tr>\n",
              "    <tr>\n",
              "      <th>5</th>\n",
              "      <td>65</td>\n",
              "      <td>-115</td>\n",
              "      <td>204</td>\n",
              "      <td>24</td>\n",
              "      <td>126</td>\n",
              "      <td>-165</td>\n",
              "      <td>154</td>\n",
              "      <td>-76</td>\n",
              "      <td>176</td>\n",
              "      <td>27.0</td>\n",
              "      <td>113.8</td>\n",
              "    </tr>\n",
              "  </tbody>\n",
              "</table>\n",
              "</div>"
            ],
            "text/plain": [
              "        Demand  P1_InitInv  P1_Receipt  P1_EndInv  P1_Order  P2_InitInv  \\\n",
              "Period                                                                    \n",
              "1           61         100           0         39       111         100   \n",
              "2           93          39           0        -54       204          39   \n",
              "3           90         -54           0       -144       294         -54   \n",
              "4           82        -144         111       -115       265        -144   \n",
              "5           65        -115         204         24       126        -165   \n",
              "\n",
              "        P2_Receipt  P2_EndInv  P2_Order  P1_TotalCost  P2_TotalCost  \n",
              "Period                                                               \n",
              "1                0         39        61          34.5          34.5  \n",
              "2                0        -54       154          85.2          85.2  \n",
              "3                0       -144       244         202.2         202.2  \n",
              "4               61       -165       265         164.5         229.5  \n",
              "5              154        -76       176          27.0         113.8  "
            ]
          },
          "metadata": {
            "tags": []
          },
          "execution_count": 4
        }
      ]
    },
    {
      "cell_type": "markdown",
      "metadata": {
        "id": "W3_jiOaDpo7L"
      },
      "source": [
        "Compute the total cost of each policy considering the whole planning horizon to determine the most economical option."
      ]
    },
    {
      "cell_type": "code",
      "metadata": {
        "id": "Gqoka6Enpo7M",
        "outputId": "49e3a4c4-c3f7-4ba9-97a6-8f77a7c99beb"
      },
      "source": [
        "### start your code here ###\n",
        "\n",
        "print('Total costs of P1 is:', df_inv['P1_TotalCost'].sum())\n",
        "print('Total costs of P2 is:', df_inv['P2_TotalCost'].sum())\n",
        "\n",
        "### end your code here ###"
      ],
      "execution_count": null,
      "outputs": [
        {
          "output_type": "stream",
          "text": [
            "Total costs of P1 is: 6604.7\n",
            "Total costs of P2 is: 5686.0\n"
          ],
          "name": "stdout"
        }
      ]
    },
    {
      "cell_type": "code",
      "metadata": {
        "id": "K28siAi-po7M"
      },
      "source": [
        ""
      ],
      "execution_count": null,
      "outputs": []
    }
  ]
}