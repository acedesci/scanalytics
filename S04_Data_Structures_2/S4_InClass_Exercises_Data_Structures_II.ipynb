{
  "nbformat": 4,
  "nbformat_minor": 0,
  "metadata": {
    "kernelspec": {
      "display_name": "Python 3",
      "language": "python",
      "name": "python3"
    },
    "language_info": {
      "codemirror_mode": {
        "name": "ipython",
        "version": 3
      },
      "file_extension": ".py",
      "mimetype": "text/x-python",
      "name": "python",
      "nbconvert_exporter": "python",
      "pygments_lexer": "ipython3",
      "version": "3.7.6"
    },
    "colab": {
      "name": "S4_InClass_Exercises_Data_Structures_II.ipynb",
      "provenance": [],
      "include_colab_link": true
    }
  },
  "cells": [
    {
      "cell_type": "markdown",
      "metadata": {
        "id": "view-in-github",
        "colab_type": "text"
      },
      "source": [
        "<a href=\"https://colab.research.google.com/github/acedesci/scanalytics/blob/master/S04_Data_Structures_2/S4_InClass_Exercises_Data_Structures_II.ipynb\" target=\"_parent\"><img src=\"https://colab.research.google.com/assets/colab-badge.svg\" alt=\"Open In Colab\"/></a>"
      ]
    },
    {
      "cell_type": "markdown",
      "metadata": {
        "id": "orA_0s_Vpo62"
      },
      "source": [
        "# S4 - In-class Exercises: Python Data Structures II and SCM examples (Solution)\n",
        "\n",
        "---\n",
        "## Instructions:\n",
        "Most of the exercises presented here allows you to practice basic Python programming for some applications in Operations Management and Logistics.\n",
        "\n",
        "For each exercise, you have a code cell for the response underneath it, where you should write your answer between the lines containing `### start your code here ###` and `### end your code here ###`. Your code can contain one or more lines and you can execute this cell in order to complete the exercise. To execute the cell, you can type `Shift+Enter` or press the play button in the toolbar above. Your results will appear right below this response cell.\n",
        "\n",
        "NOTE: Please pay attention to the variable name of the output you would need to provide under each question. You must use the same variable name for the output so that the result can be printed out correctly."
      ]
    },
    {
      "cell_type": "markdown",
      "metadata": {
        "id": "S6TfdlB1po7D"
      },
      "source": [
        "---\n",
        "## Computing total costs and analyzing different inventory policies\n",
        "In this exercise, you will use pandas library to compare two different inventory policies, compute the their corresponding total costs and selecting the most economical policy.\n",
        "\n",
        "\n",
        "### Prerequisite: Reading data\n",
        "Import the pandas library under the alias `pd`. Import the csv file `InvPolicies.csv` into a `DataFrame`, and select the first column named `'Period'` as the index of the `DataFrame`. Then display the first 10 rows of your `DataFrame`.\n",
        "\n",
        "**Hint:** you can define the index column of the `DataFrame` using the `index_col` parameter of the `.read_csv()` function. Check [this page](https://pandas.pydata.org/pandas-docs/stable/reference/api/pandas.read_csv.html) for more information."
      ]
    },
    {
      "cell_type": "code",
      "metadata": {
        "id": "w22RdAshpo7E",
        "colab": {
          "base_uri": "https://localhost:8080/",
          "height": 394
        },
        "outputId": "c312d97c-1d62-42bf-88b6-7c3838dcf5ac"
      },
      "source": [
        "import pandas as pd\n",
        "url = 'https://raw.githubusercontent.com/acedesci/scanalytics/master/S04_Data_Structures_2/InvPolicy.csv'\n",
        "df_inv = pd.read_csv(url, index_col='Week')\n",
        "df_inv.head(10)"
      ],
      "execution_count": 2,
      "outputs": [
        {
          "output_type": "execute_result",
          "data": {
            "text/html": [
              "<div>\n",
              "<style scoped>\n",
              "    .dataframe tbody tr th:only-of-type {\n",
              "        vertical-align: middle;\n",
              "    }\n",
              "\n",
              "    .dataframe tbody tr th {\n",
              "        vertical-align: top;\n",
              "    }\n",
              "\n",
              "    .dataframe thead th {\n",
              "        text-align: right;\n",
              "    }\n",
              "</style>\n",
              "<table border=\"1\" class=\"dataframe\">\n",
              "  <thead>\n",
              "    <tr style=\"text-align: right;\">\n",
              "      <th></th>\n",
              "      <th>P1_Ending_Inv</th>\n",
              "      <th>P1_Order</th>\n",
              "      <th>P2_Ending_Inv</th>\n",
              "      <th>P2_Order</th>\n",
              "    </tr>\n",
              "    <tr>\n",
              "      <th>Week</th>\n",
              "      <th></th>\n",
              "      <th></th>\n",
              "      <th></th>\n",
              "      <th></th>\n",
              "    </tr>\n",
              "  </thead>\n",
              "  <tbody>\n",
              "    <tr>\n",
              "      <th>1</th>\n",
              "      <td>29</td>\n",
              "      <td>51</td>\n",
              "      <td>29</td>\n",
              "      <td>41</td>\n",
              "    </tr>\n",
              "    <tr>\n",
              "      <th>2</th>\n",
              "      <td>13</td>\n",
              "      <td>0</td>\n",
              "      <td>13</td>\n",
              "      <td>0</td>\n",
              "    </tr>\n",
              "    <tr>\n",
              "      <th>3</th>\n",
              "      <td>0</td>\n",
              "      <td>0</td>\n",
              "      <td>0</td>\n",
              "      <td>29</td>\n",
              "    </tr>\n",
              "    <tr>\n",
              "      <th>4</th>\n",
              "      <td>34</td>\n",
              "      <td>0</td>\n",
              "      <td>24</td>\n",
              "      <td>0</td>\n",
              "    </tr>\n",
              "    <tr>\n",
              "      <th>5</th>\n",
              "      <td>23</td>\n",
              "      <td>57</td>\n",
              "      <td>13</td>\n",
              "      <td>28</td>\n",
              "    </tr>\n",
              "    <tr>\n",
              "      <th>6</th>\n",
              "      <td>0</td>\n",
              "      <td>0</td>\n",
              "      <td>19</td>\n",
              "      <td>0</td>\n",
              "    </tr>\n",
              "    <tr>\n",
              "      <th>7</th>\n",
              "      <td>-17</td>\n",
              "      <td>0</td>\n",
              "      <td>2</td>\n",
              "      <td>40</td>\n",
              "    </tr>\n",
              "    <tr>\n",
              "      <th>8</th>\n",
              "      <td>20</td>\n",
              "      <td>60</td>\n",
              "      <td>10</td>\n",
              "      <td>0</td>\n",
              "    </tr>\n",
              "    <tr>\n",
              "      <th>9</th>\n",
              "      <td>4</td>\n",
              "      <td>0</td>\n",
              "      <td>-6</td>\n",
              "      <td>36</td>\n",
              "    </tr>\n",
              "    <tr>\n",
              "      <th>10</th>\n",
              "      <td>-6</td>\n",
              "      <td>0</td>\n",
              "      <td>24</td>\n",
              "      <td>0</td>\n",
              "    </tr>\n",
              "  </tbody>\n",
              "</table>\n",
              "</div>"
            ],
            "text/plain": [
              "      P1_Ending_Inv  P1_Order  P2_Ending_Inv  P2_Order\n",
              "Week                                                  \n",
              "1                29        51             29        41\n",
              "2                13         0             13         0\n",
              "3                 0         0              0        29\n",
              "4                34         0             24         0\n",
              "5                23        57             13        28\n",
              "6                 0         0             19         0\n",
              "7               -17         0              2        40\n",
              "8                20        60             10         0\n",
              "9                 4         0             -6        36\n",
              "10               -6         0             24         0"
            ]
          },
          "metadata": {
            "tags": []
          },
          "execution_count": 2
        }
      ]
    },
    {
      "cell_type": "markdown",
      "metadata": {
        "id": "y4pRAR0gpo7F"
      },
      "source": [
        "You can see that, similar to the exercise in class, the imported data present a demand scenario for the next 52 weeks, and the following data for two different inventory policies: the inventory level at the beginning of each period, the amount received at the beginning of each period, the inventory level at the end of each period and the ordered quantity at each period. "
      ]
    },
    {
      "cell_type": "markdown",
      "metadata": {
        "id": "G5KhAZ9spo7G"
      },
      "source": [
        "---\n",
        "### Exercise 1: Descriptive analysis\n",
        "Let's analyse a bit our data. As an exploratory analysis, for each of the two inventory policies `P1` and `P2`, please compute the following values and print the results. If the number is fractional, please print it in two-digit format.\n",
        "\n",
        "* *Average physical inventory*. This is an average ending inventory but consider the minimum inventory is at zero. The inventory when a backlog occurs which is represented by a negative inventory is considered zero.\n",
        "* *Number of periods with shortage/backlog*\n",
        "* *Number of orders under each policy*\n",
        "* *Average order quantity under each policy* when an order is placed\n",
        "\n",
        "**Hint:** If you want to set a lower/upper bound for the values in a column or DataFrame. You can consider using `df.clip(...)` function to assign a minimum or maximum value to the column. See [link](https://www.w3resource.com/pandas/dataframe/dataframe-clip.php)"
      ]
    },
    {
      "cell_type": "code",
      "metadata": {
        "colab": {
          "base_uri": "https://localhost:8080/",
          "height": 438
        },
        "id": "dXZYCK_rKI-i",
        "outputId": "569856b5-a98c-41bd-ffff-539d12f03837"
      },
      "source": [
        "### start your code here ###\r\n",
        "print('Average physical inventory under P1:', '{:.2f}'.format(df_inv['P1_Ending_Inv'].clip(lower=0).mean()))\r\n",
        "print('Average physical inventory under P2:', '{:.2f}'.format(df_inv['P2_Ending_Inv'].clip(lower=0).mean()))\r\n",
        "\r\n",
        "print('N.Periods with shortage under P1:', sum(df_inv['P1_Ending_Inv'] < 0))\r\n",
        "print('N.Periods with shortage under P2:', sum(df_inv['P2_Ending_Inv'] < 0))\r\n",
        "\r\n",
        "print('Number of orders under P1:', sum(df_inv['P1_Order'] > 0))\r\n",
        "print('Number of orders under P2:', sum(df_inv['P2_Order'] > 0))\r\n",
        "\r\n",
        "print('Average order quantity under P1:', '{:.2f}'.format(df_inv['P1_Order'].loc[df_inv['P1_Order'] > 0].mean()))\r\n",
        "print('Average order quantity under P2:', '{:.2f}'.format(df_inv['P2_Order'].loc[df_inv['P2_Order'] > 0].mean()))\r\n",
        "### start your code here ###\r\n"
      ],
      "execution_count": 23,
      "outputs": [
        {
          "output_type": "stream",
          "text": [
            "Average physical inventory under P1: 12.60\n",
            "Average physical inventory under P2: 11.96\n",
            "N.Periods with shortage under P1: 14\n",
            "N.Periods with shortage under P2: 7\n",
            "Number of orders under P1: 16\n",
            "Number of orders under P2: 27\n",
            "Average order quantity under P1: 60.19\n",
            "Average order quantity under P2: 36.63\n"
          ],
          "name": "stdout"
        },
        {
          "output_type": "execute_result",
          "data": {
            "text/html": [
              "<div>\n",
              "<style scoped>\n",
              "    .dataframe tbody tr th:only-of-type {\n",
              "        vertical-align: middle;\n",
              "    }\n",
              "\n",
              "    .dataframe tbody tr th {\n",
              "        vertical-align: top;\n",
              "    }\n",
              "\n",
              "    .dataframe thead th {\n",
              "        text-align: right;\n",
              "    }\n",
              "</style>\n",
              "<table border=\"1\" class=\"dataframe\">\n",
              "  <thead>\n",
              "    <tr style=\"text-align: right;\">\n",
              "      <th></th>\n",
              "      <th>P1_Ending_Inv</th>\n",
              "      <th>P1_Order</th>\n",
              "      <th>P2_Ending_Inv</th>\n",
              "      <th>P2_Order</th>\n",
              "    </tr>\n",
              "  </thead>\n",
              "  <tbody>\n",
              "    <tr>\n",
              "      <th>count</th>\n",
              "      <td>52.000000</td>\n",
              "      <td>52.000000</td>\n",
              "      <td>52.000000</td>\n",
              "      <td>52.000000</td>\n",
              "    </tr>\n",
              "    <tr>\n",
              "      <th>mean</th>\n",
              "      <td>9.153846</td>\n",
              "      <td>18.519231</td>\n",
              "      <td>11.192308</td>\n",
              "      <td>19.019231</td>\n",
              "    </tr>\n",
              "    <tr>\n",
              "      <th>std</th>\n",
              "      <td>17.254024</td>\n",
              "      <td>28.290850</td>\n",
              "      <td>10.678985</td>\n",
              "      <td>19.792542</td>\n",
              "    </tr>\n",
              "    <tr>\n",
              "      <th>min</th>\n",
              "      <td>-26.000000</td>\n",
              "      <td>0.000000</td>\n",
              "      <td>-11.000000</td>\n",
              "      <td>0.000000</td>\n",
              "    </tr>\n",
              "    <tr>\n",
              "      <th>25%</th>\n",
              "      <td>-3.500000</td>\n",
              "      <td>0.000000</td>\n",
              "      <td>2.750000</td>\n",
              "      <td>0.000000</td>\n",
              "    </tr>\n",
              "    <tr>\n",
              "      <th>50%</th>\n",
              "      <td>10.000000</td>\n",
              "      <td>0.000000</td>\n",
              "      <td>12.500000</td>\n",
              "      <td>27.500000</td>\n",
              "    </tr>\n",
              "    <tr>\n",
              "      <th>75%</th>\n",
              "      <td>23.500000</td>\n",
              "      <td>53.500000</td>\n",
              "      <td>20.250000</td>\n",
              "      <td>35.250000</td>\n",
              "    </tr>\n",
              "    <tr>\n",
              "      <th>max</th>\n",
              "      <td>38.000000</td>\n",
              "      <td>77.000000</td>\n",
              "      <td>35.000000</td>\n",
              "      <td>77.000000</td>\n",
              "    </tr>\n",
              "  </tbody>\n",
              "</table>\n",
              "</div>"
            ],
            "text/plain": [
              "       P1_Ending_Inv   P1_Order  P2_Ending_Inv   P2_Order\n",
              "count      52.000000  52.000000      52.000000  52.000000\n",
              "mean        9.153846  18.519231      11.192308  19.019231\n",
              "std        17.254024  28.290850      10.678985  19.792542\n",
              "min       -26.000000   0.000000     -11.000000   0.000000\n",
              "25%        -3.500000   0.000000       2.750000   0.000000\n",
              "50%        10.000000   0.000000      12.500000  27.500000\n",
              "75%        23.500000  53.500000      20.250000  35.250000\n",
              "max        38.000000  77.000000      35.000000  77.000000"
            ]
          },
          "metadata": {
            "tags": []
          },
          "execution_count": 23
        }
      ]
    },
    {
      "cell_type": "markdown",
      "metadata": {
        "id": "hrZW9L1spo7J"
      },
      "source": [
        "---\n",
        "### Exercise 2: Visualizing inventory levels\n",
        "Create graphs to visualize the ending inventory levels (columns `['P1_Ending_Inv', 'P2_Ending_Inv']` of the first 36 weeks under each policy using (i) a bar plot with the size `figsize = (12,4)`, (ii) a box plot (`kind = 'box'`), and (iii) Probability density plot (`kind = 'density'`). See [link](https://pandas.pydata.org/pandas-docs/stable/reference/api/pandas.DataFrame.plot.html)"
      ]
    },
    {
      "cell_type": "code",
      "metadata": {
        "id": "R2YtOjaupo7J",
        "colab": {
          "base_uri": "https://localhost:8080/",
          "height": 797
        },
        "outputId": "571a7e31-13c6-4072-a18d-8eedd2ea6447"
      },
      "source": [
        "### start your code here ###\n",
        "df_inv[:36][['P1_Ending_Inv', 'P2_Ending_Inv']].plot(kind = 'bar',figsize=(12,4))   # plotting inv levels\n",
        "df_inv[:36][['P1_Ending_Inv', 'P2_Ending_Inv']].plot(kind = 'box')   # plotting inv levels\n",
        "df_inv[:36][['P1_Ending_Inv', 'P2_Ending_Inv']].plot(kind = 'density')   # plotting inv levels\n",
        "### end your code here ###"
      ],
      "execution_count": 47,
      "outputs": [
        {
          "output_type": "execute_result",
          "data": {
            "text/plain": [
              "<matplotlib.axes._subplots.AxesSubplot at 0x7fa55d5874a8>"
            ]
          },
          "metadata": {
            "tags": []
          },
          "execution_count": 47
        },
        {
          "output_type": "display_data",
          "data": {
            "image/png": "[encoded data removed]",
            "text/plain": [
              "<Figure size 864x288 with 1 Axes>"
            ]
          },
          "metadata": {
            "tags": [],
            "needs_background": "light"
          }
        },
        {
          "output_type": "display_data",
          "data": {
            "image/png": "[encoded data removed]",
            "text/plain": [
              "<Figure size 432x288 with 1 Axes>"
            ]
          },
          "metadata": {
            "tags": [],
            "needs_background": "light"
          }
        },
        {
          "output_type": "display_data",
          "data": {
            "image/png": "[encoded data removed]",
            "text/plain": [
              "<Figure size 432x288 with 1 Axes>"
            ]
          },
          "metadata": {
            "tags": [],
            "needs_background": "light"
          }
        }
      ]
    },
    {
      "cell_type": "markdown",
      "metadata": {
        "id": "cVlpLsg1po7K"
      },
      "source": [
        "---\n",
        "### Exercise 4: Computing inventory management cost for each period\n",
        "In this exercise you will compute the inventory management cost for each inventory policy at each period. The inventory management cost is computed as the sum of the holding cost, shortage cost and ordering cost. The following costs parameters are given:\n",
        "\n",
        "*   `holding_cost`: unit inventory holding cost (\\$ per unit per period)\n",
        "*   `shortage_cost`: unit shortage cost (\\$ per unit of shortage)\n",
        "*   `ordering_cost`: ordering cost (\\$ per order - regardless of the number of units ordered in a order)\n",
        "\n",
        "\n",
        "Please compute the inventory management cost for each period under each policy `P1` and `P2`. Add this new information as new columns of the `DataFrame` named as `P1_Cost` and `P2_Cost`.\n"
      ]
    },
    {
      "cell_type": "code",
      "metadata": {
        "id": "OqGJN4Hw8yTD"
      },
      "source": [
        "holding_cost = 5\r\n",
        "shortage_cost = 15\r\n",
        "ordering_cost = 150"
      ],
      "execution_count": 39,
      "outputs": []
    },
    {
      "cell_type": "code",
      "metadata": {
        "id": "2IpphMni8zcJ",
        "colab": {
          "base_uri": "https://localhost:8080/",
          "height": 411
        },
        "outputId": "89066292-4525-436f-ad09-29f42d671f8c"
      },
      "source": [
        "### start your code here ###\r\n",
        "\r\n",
        "def inventory_cost(end_inv, order_qty, holding_cost, shortage_cost, ordering_cost):\r\n",
        "  if order_qty > 0:\r\n",
        "    return ordering_cost + max(end_inv, 0)*holding_cost + min(end_inv,0)*shortage_cost*(-1)\r\n",
        "  else:\r\n",
        "    return max(end_inv, 0)*holding_cost + min(end_inv,0)*shortage_cost*(-1)\r\n",
        "  \r\n",
        "df_inv['P1_TotalCost'] = [inventory_cost(df_inv.at[t, 'P1_Ending_Inv'], df_inv.at[t, 'P1_Order'], \\\r\n",
        "                                         holding_cost, shortage_cost, ordering_cost) for t in df_inv.index]\r\n",
        "\r\n",
        "df_inv['P2_TotalCost'] = [inventory_cost(df_inv.at[t, 'P2_Ending_Inv'], df_inv.at[t, 'P2_Order'], \\\r\n",
        "                                         holding_cost, shortage_cost, ordering_cost) for t in df_inv.index]\r\n",
        "\r\n",
        "### end your code here ###\r\n",
        "\r\n",
        "print(\"Total IM cost for P1:$\", df_inv['P1_TotalCost'].sum(),\", Total IM cost for P2:$\", df_inv['P2_TotalCost'].sum())\r\n",
        "df_inv.tail(10)"
      ],
      "execution_count": 45,
      "outputs": [
        {
          "output_type": "stream",
          "text": [
            "Total IM cost for P1:$ 8360 , Total IM cost for P2:$ 7760\n"
          ],
          "name": "stdout"
        },
        {
          "output_type": "execute_result",
          "data": {
            "text/html": [
              "<div>\n",
              "<style scoped>\n",
              "    .dataframe tbody tr th:only-of-type {\n",
              "        vertical-align: middle;\n",
              "    }\n",
              "\n",
              "    .dataframe tbody tr th {\n",
              "        vertical-align: top;\n",
              "    }\n",
              "\n",
              "    .dataframe thead th {\n",
              "        text-align: right;\n",
              "    }\n",
              "</style>\n",
              "<table border=\"1\" class=\"dataframe\">\n",
              "  <thead>\n",
              "    <tr style=\"text-align: right;\">\n",
              "      <th></th>\n",
              "      <th>P1_Ending_Inv</th>\n",
              "      <th>P1_Order</th>\n",
              "      <th>P2_Ending_Inv</th>\n",
              "      <th>P2_Order</th>\n",
              "      <th>P1_TotalCost</th>\n",
              "      <th>P2_TotalCost</th>\n",
              "    </tr>\n",
              "    <tr>\n",
              "      <th>Week</th>\n",
              "      <th></th>\n",
              "      <th></th>\n",
              "      <th></th>\n",
              "      <th></th>\n",
              "      <th></th>\n",
              "      <th></th>\n",
              "    </tr>\n",
              "  </thead>\n",
              "  <tbody>\n",
              "    <tr>\n",
              "      <th>43</th>\n",
              "      <td>-8</td>\n",
              "      <td>0</td>\n",
              "      <td>19</td>\n",
              "      <td>0</td>\n",
              "      <td>120</td>\n",
              "      <td>95</td>\n",
              "    </tr>\n",
              "    <tr>\n",
              "      <th>44</th>\n",
              "      <td>38</td>\n",
              "      <td>0</td>\n",
              "      <td>4</td>\n",
              "      <td>31</td>\n",
              "      <td>190</td>\n",
              "      <td>170</td>\n",
              "    </tr>\n",
              "    <tr>\n",
              "      <th>45</th>\n",
              "      <td>20</td>\n",
              "      <td>60</td>\n",
              "      <td>21</td>\n",
              "      <td>0</td>\n",
              "      <td>250</td>\n",
              "      <td>105</td>\n",
              "    </tr>\n",
              "    <tr>\n",
              "      <th>46</th>\n",
              "      <td>6</td>\n",
              "      <td>0</td>\n",
              "      <td>7</td>\n",
              "      <td>32</td>\n",
              "      <td>30</td>\n",
              "      <td>185</td>\n",
              "    </tr>\n",
              "    <tr>\n",
              "      <th>47</th>\n",
              "      <td>-13</td>\n",
              "      <td>0</td>\n",
              "      <td>19</td>\n",
              "      <td>0</td>\n",
              "      <td>195</td>\n",
              "      <td>95</td>\n",
              "    </tr>\n",
              "    <tr>\n",
              "      <th>48</th>\n",
              "      <td>28</td>\n",
              "      <td>52</td>\n",
              "      <td>0</td>\n",
              "      <td>38</td>\n",
              "      <td>290</td>\n",
              "      <td>150</td>\n",
              "    </tr>\n",
              "    <tr>\n",
              "      <th>49</th>\n",
              "      <td>12</td>\n",
              "      <td>0</td>\n",
              "      <td>16</td>\n",
              "      <td>0</td>\n",
              "      <td>60</td>\n",
              "      <td>80</td>\n",
              "    </tr>\n",
              "    <tr>\n",
              "      <th>50</th>\n",
              "      <td>-8</td>\n",
              "      <td>0</td>\n",
              "      <td>-4</td>\n",
              "      <td>36</td>\n",
              "      <td>120</td>\n",
              "      <td>210</td>\n",
              "    </tr>\n",
              "    <tr>\n",
              "      <th>51</th>\n",
              "      <td>25</td>\n",
              "      <td>55</td>\n",
              "      <td>15</td>\n",
              "      <td>55</td>\n",
              "      <td>275</td>\n",
              "      <td>225</td>\n",
              "    </tr>\n",
              "    <tr>\n",
              "      <th>52</th>\n",
              "      <td>3</td>\n",
              "      <td>77</td>\n",
              "      <td>-7</td>\n",
              "      <td>77</td>\n",
              "      <td>165</td>\n",
              "      <td>255</td>\n",
              "    </tr>\n",
              "  </tbody>\n",
              "</table>\n",
              "</div>"
            ],
            "text/plain": [
              "      P1_Ending_Inv  P1_Order  ...  P1_TotalCost  P2_TotalCost\n",
              "Week                           ...                            \n",
              "43               -8         0  ...           120            95\n",
              "44               38         0  ...           190           170\n",
              "45               20        60  ...           250           105\n",
              "46                6         0  ...            30           185\n",
              "47              -13         0  ...           195            95\n",
              "48               28        52  ...           290           150\n",
              "49               12         0  ...            60            80\n",
              "50               -8         0  ...           120           210\n",
              "51               25        55  ...           275           225\n",
              "52                3        77  ...           165           255\n",
              "\n",
              "[10 rows x 6 columns]"
            ]
          },
          "metadata": {
            "tags": []
          },
          "execution_count": 45
        }
      ]
    },
    {
      "cell_type": "code",
      "metadata": {
        "id": "K28siAi-po7M"
      },
      "source": [
        ""
      ],
      "execution_count": null,
      "outputs": []
    }
  ]
}
