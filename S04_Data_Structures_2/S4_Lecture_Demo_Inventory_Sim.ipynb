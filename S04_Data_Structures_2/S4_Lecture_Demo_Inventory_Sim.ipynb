{
  "nbformat": 4,
  "nbformat_minor": 0,
  "metadata": {
    "kernelspec": {
      "display_name": "Python 3",
      "language": "python",
      "name": "python3"
    },
    "language_info": {
      "codemirror_mode": {
        "name": "ipython",
        "version": 3
      },
      "file_extension": ".py",
      "mimetype": "text/x-python",
      "name": "python",
      "nbconvert_exporter": "python",
      "pygments_lexer": "ipython3",
      "version": "3.7.6"
    },
    "colab": {
      "name": "S4_Lecture_Demo_Inventory_Sim.ipynb",
      "provenance": [],
      "include_colab_link": true
    }
  },
  "cells": [
    {
      "cell_type": "markdown",
      "metadata": {
        "id": "view-in-github",
        "colab_type": "text"
      },
      "source": [
        "<a href=\"https://colab.research.google.com/github/acedesci/scanalytics/blob/master/S04_Data_Structures_2/S4_Lecture_Demo_Inventory_Sim.ipynb\" target=\"_parent\"><img src=\"https://colab.research.google.com/assets/colab-badge.svg\" alt=\"Open In Colab\"/></a>"
      ]
    },
    {
      "cell_type": "markdown",
      "metadata": {
        "id": "0H7ZwGI3pfkV"
      },
      "source": [
        "# S4 - Notebook 2: (s, S) Inventory Simulation\n",
        "\n",
        "---\n",
        "This notebook provides an example of the use of `DataFrame` to calculate the inventory performance based on estimated demand. The objective for you to review this is to *understand* what each block of codes does. Developing it by yourself requires time and experience but if you generally understand the process and codes, that would suffice."
      ]
    },
    {
      "cell_type": "markdown",
      "metadata": {
        "id": "EdSKSaLCpfkg"
      },
      "source": [
        "---\n",
        "## Inventory simulation using pandas\n",
        "In this exercise, you will use pandas library to simulate different inventory policies for a planning horizon of one year.\n",
        "\n",
        "### Step 1: Reading data\n",
        "Import the pandas library under the alias `pd`. Import the csv file `DemandSimulation.csv` into a `DataFrame`, and select the first column named `'Week'` as the index of the `DataFrame`.\n",
        "\n",
        "**$\\color{blue}{\\textbf{Hint:}}$** you can define the index column of the `DataFrame` using the `index_col` parameter of the `.read_csv()` function. Check [this page](https://pandas.pydata.org/pandas-docs/stable/reference/api/pandas.read_csv.html) for more information."
      ]
    },
    {
      "cell_type": "code",
      "metadata": {
        "id": "jPCtkkxPpfkg"
      },
      "source": [
        "import pandas as pd\n",
        "\n",
        "# There is a csv file which I put in online. You can also download but we will load directly from the link.\n",
        "url = 'https://raw.githubusercontent.com/acedesci/scanalytics/master/S04_Data_Structures_2/DemandScenarios.csv'\n",
        "demand_scenario_df = pd.read_csv(url, index_col='Week')\n"
      ],
      "execution_count": null,
      "outputs": []
    },
    {
      "cell_type": "markdown",
      "metadata": {
        "id": "fZrwSQdlpfkh"
      },
      "source": [
        "Now display the first 10 rows of your `DataFrame`. You can see that the file contains first column as indexes (weeks) and each of the subsequent column contains a list of estimated demands for each scenario."
      ]
    },
    {
      "cell_type": "code",
      "metadata": {
        "scrolled": true,
        "id": "uZwPh1eDpfkh",
        "colab": {
          "base_uri": "https://localhost:8080/",
          "height": 394
        },
        "outputId": "5863c4f7-8108-49aa-afd6-c16d473ebfd2"
      },
      "source": [
        "demand_scenario_df.head(10)"
      ],
      "execution_count": null,
      "outputs": [
        {
          "output_type": "execute_result",
          "data": {
            "text/html": [
              "<div>\n",
              "<style scoped>\n",
              "    .dataframe tbody tr th:only-of-type {\n",
              "        vertical-align: middle;\n",
              "    }\n",
              "\n",
              "    .dataframe tbody tr th {\n",
              "        vertical-align: top;\n",
              "    }\n",
              "\n",
              "    .dataframe thead th {\n",
              "        text-align: right;\n",
              "    }\n",
              "</style>\n",
              "<table border=\"1\" class=\"dataframe\">\n",
              "  <thead>\n",
              "    <tr style=\"text-align: right;\">\n",
              "      <th></th>\n",
              "      <th>Scenario1</th>\n",
              "      <th>Scenario2</th>\n",
              "      <th>Scenario3</th>\n",
              "    </tr>\n",
              "    <tr>\n",
              "      <th>Week</th>\n",
              "      <th></th>\n",
              "      <th></th>\n",
              "      <th></th>\n",
              "    </tr>\n",
              "  </thead>\n",
              "  <tbody>\n",
              "    <tr>\n",
              "      <th>1</th>\n",
              "      <td>18</td>\n",
              "      <td>21</td>\n",
              "      <td>17</td>\n",
              "    </tr>\n",
              "    <tr>\n",
              "      <th>2</th>\n",
              "      <td>16</td>\n",
              "      <td>16</td>\n",
              "      <td>15</td>\n",
              "    </tr>\n",
              "    <tr>\n",
              "      <th>3</th>\n",
              "      <td>13</td>\n",
              "      <td>13</td>\n",
              "      <td>11</td>\n",
              "    </tr>\n",
              "    <tr>\n",
              "      <th>4</th>\n",
              "      <td>17</td>\n",
              "      <td>17</td>\n",
              "      <td>16</td>\n",
              "    </tr>\n",
              "    <tr>\n",
              "      <th>5</th>\n",
              "      <td>11</td>\n",
              "      <td>11</td>\n",
              "      <td>10</td>\n",
              "    </tr>\n",
              "    <tr>\n",
              "      <th>6</th>\n",
              "      <td>20</td>\n",
              "      <td>23</td>\n",
              "      <td>18</td>\n",
              "    </tr>\n",
              "    <tr>\n",
              "      <th>7</th>\n",
              "      <td>15</td>\n",
              "      <td>17</td>\n",
              "      <td>13</td>\n",
              "    </tr>\n",
              "    <tr>\n",
              "      <th>8</th>\n",
              "      <td>20</td>\n",
              "      <td>20</td>\n",
              "      <td>17</td>\n",
              "    </tr>\n",
              "    <tr>\n",
              "      <th>9</th>\n",
              "      <td>15</td>\n",
              "      <td>16</td>\n",
              "      <td>13</td>\n",
              "    </tr>\n",
              "    <tr>\n",
              "      <th>10</th>\n",
              "      <td>10</td>\n",
              "      <td>10</td>\n",
              "      <td>9</td>\n",
              "    </tr>\n",
              "  </tbody>\n",
              "</table>\n",
              "</div>"
            ],
            "text/plain": [
              "      Scenario1  Scenario2  Scenario3\n",
              "Week                                 \n",
              "1            18         21         17\n",
              "2            16         16         15\n",
              "3            13         13         11\n",
              "4            17         17         16\n",
              "5            11         11         10\n",
              "6            20         23         18\n",
              "7            15         17         13\n",
              "8            20         20         17\n",
              "9            15         16         13\n",
              "10           10         10          9"
            ]
          },
          "metadata": {
            "tags": []
          },
          "execution_count": 2
        }
      ]
    },
    {
      "cell_type": "markdown",
      "metadata": {
        "id": "1-oQ3jDxpfkj"
      },
      "source": [
        "---\n",
        "### Step 2: Simulation and output a `DataFrame` object\n",
        "Now, we will simulate different inventory policies based on the inventory model $(s,S)$ for a specific demand scenario and analyze/visualize the performance based on a given policy based on that specific demand scenario.\n",
        "\n",
        "> The inventory model min-max or $(s,S)$ is one of the most commonly used inventory system in practice. Here are the details of the inventory system. In this one, the min/max is applied to periodic system where the inventory is checked periodically every period (e.g., once a day or once a week) (Note that this sytem can also be applied in a real-time ordering system but in practice orders would be placed periodically).\n",
        "> *   There are two parameters that must be determined to control the inventory replenishment: $s$ which represents the minimum inventory level (or reorder point), and $S$ which represents the desired target inventory level. \n",
        "> *   **At the beginning of each period**, this system constantly checks the inventory position (current inventory + in-transit inventory) for the product. \n",
        "> *   If the inventory position drops below the min level $s$, the systems create an order refill inventory to raise the inventory position to the max level $S$. The order quantity Q is then Q = S - inventory_position (recall that inventory position = current + in-transit). This order quantity arrives after the lead time. \n",
        "\n",
        "In this exercise you will create a function which simulates your inventory performance for a given $(s,S)$ policy. This function should return a `DataFrame` object containing inventory levels (at the begining and at the end of each period), orders to place and order to receive at each time period (week) of the simulated planning horizon. Here there are some instructions.\n",
        "\n",
        "The function will require the following input parameters:\n",
        "* The `Series` from of one scenario from the DataFrame, which contains the simulated demand data for that specific scenario\n",
        "* (number) initial inventory level at the begining of the planning horizon\n",
        "* (number) lead time in weeks\n",
        "* (number) $s$ value, i.e., minimum inventory level \n",
        "* (number) $S$ value, i.e., maximun inventory level \n",
        "\n",
        "The output of your function should be a `DataFrame` with 52 rows (52 weeks) and  four columns as follows:\n",
        "* `'Start_Inv'`: inventory level at the beginning of each week\n",
        "* `'Receipt'`: units receipt at each week\n",
        "* `'Ending_Inv'`: inventory level at the end of each week \n",
        "* `'Order'`: order quantity in units\n",
        "\n",
        "Note that the inventory level can be negative if you have a backlog (demand is more than available quantity). In that case, the negative value is carried forward to a subsequent period to be satistied. \n",
        "\n",
        "**$\\color{blue}{\\textbf{Hints:}}$** \n",
        "* *We use the method `df.index` to access the list of indexes of the `DataFrame` you created in the previous exercises.*\n",
        "* *We initialize the first row of the `'Start_Inv'` column as the initial inventory level given as input. You can also initialize the `'Receipt'` entries as $0$ from the beginning of the planning horizon until the time period equals to the lead time.*\n",
        "* *We then use a `for` loop to iterate over the planning horizon and compute the corresponding values for `'Start_Inv'`, `'Receipt'`, `'Ending_Inv'`, `'Order'`.*\n",
        "\n",
        "Here we provide the remaining inputs required for the simulation"
      ]
    },
    {
      "cell_type": "code",
      "metadata": {
        "colab": {
          "base_uri": "https://localhost:8080/"
        },
        "id": "o-C3_iu-xHcm",
        "outputId": "ee62b7cd-84e0-4899-fce1-4fd964ef2955"
      },
      "source": [
        "# Parameters for the model\r\n",
        "init_inv = 27  # initial inventory level\r\n",
        "lead_time = 2  # leadtime \r\n",
        "\r\n",
        "# Parameters to set (s,S) policy\r\n",
        "s_min =  25 # this is the small s\r\n",
        "s_max =  70 # this is the big s\r\n",
        "\r\n",
        "demand_series = demand_scenario_df['Scenario1'] # we are taking the first scenario here\r\n",
        "demand_series.head()"
      ],
      "execution_count": null,
      "outputs": [
        {
          "output_type": "execute_result",
          "data": {
            "text/plain": [
              "Week\n",
              "1    18\n",
              "2    16\n",
              "3    13\n",
              "4    17\n",
              "5    11\n",
              "Name: Scenario1, dtype: int64"
            ]
          },
          "metadata": {
            "tags": []
          },
          "execution_count": 3
        }
      ]
    },
    {
      "cell_type": "markdown",
      "metadata": {
        "id": "qOtiGoSAxcYf"
      },
      "source": [
        "We can create an empty DataFrame to store the results"
      ]
    },
    {
      "cell_type": "code",
      "metadata": {
        "colab": {
          "base_uri": "https://localhost:8080/",
          "height": 237
        },
        "id": "LFH4OpvexhAm",
        "outputId": "06c81316-a887-48cf-c08f-bad9029f8436"
      },
      "source": [
        "# creating an (empty) dataframe to keep the results\r\n",
        "column_names = ['Start_Inv', 'Receipt', 'Demand', 'Ending_Inv', 'Order']\r\n",
        "n_weeks = len(demand_series.index)\r\n",
        "inv_dataframe = pd.DataFrame(index = range(1, n_weeks+1), columns=column_names)\r\n",
        "inv_dataframe.index.name ='Week' # give the index name to the output dataframe\r\n",
        "inv_dataframe.head()"
      ],
      "execution_count": null,
      "outputs": [
        {
          "output_type": "execute_result",
          "data": {
            "text/html": [
              "<div>\n",
              "<style scoped>\n",
              "    .dataframe tbody tr th:only-of-type {\n",
              "        vertical-align: middle;\n",
              "    }\n",
              "\n",
              "    .dataframe tbody tr th {\n",
              "        vertical-align: top;\n",
              "    }\n",
              "\n",
              "    .dataframe thead th {\n",
              "        text-align: right;\n",
              "    }\n",
              "</style>\n",
              "<table border=\"1\" class=\"dataframe\">\n",
              "  <thead>\n",
              "    <tr style=\"text-align: right;\">\n",
              "      <th></th>\n",
              "      <th>Start_Inv</th>\n",
              "      <th>Receipt</th>\n",
              "      <th>Demand</th>\n",
              "      <th>Ending_Inv</th>\n",
              "      <th>Order</th>\n",
              "    </tr>\n",
              "    <tr>\n",
              "      <th>Week</th>\n",
              "      <th></th>\n",
              "      <th></th>\n",
              "      <th></th>\n",
              "      <th></th>\n",
              "      <th></th>\n",
              "    </tr>\n",
              "  </thead>\n",
              "  <tbody>\n",
              "    <tr>\n",
              "      <th>1</th>\n",
              "      <td>NaN</td>\n",
              "      <td>NaN</td>\n",
              "      <td>NaN</td>\n",
              "      <td>NaN</td>\n",
              "      <td>NaN</td>\n",
              "    </tr>\n",
              "    <tr>\n",
              "      <th>2</th>\n",
              "      <td>NaN</td>\n",
              "      <td>NaN</td>\n",
              "      <td>NaN</td>\n",
              "      <td>NaN</td>\n",
              "      <td>NaN</td>\n",
              "    </tr>\n",
              "    <tr>\n",
              "      <th>3</th>\n",
              "      <td>NaN</td>\n",
              "      <td>NaN</td>\n",
              "      <td>NaN</td>\n",
              "      <td>NaN</td>\n",
              "      <td>NaN</td>\n",
              "    </tr>\n",
              "    <tr>\n",
              "      <th>4</th>\n",
              "      <td>NaN</td>\n",
              "      <td>NaN</td>\n",
              "      <td>NaN</td>\n",
              "      <td>NaN</td>\n",
              "      <td>NaN</td>\n",
              "    </tr>\n",
              "    <tr>\n",
              "      <th>5</th>\n",
              "      <td>NaN</td>\n",
              "      <td>NaN</td>\n",
              "      <td>NaN</td>\n",
              "      <td>NaN</td>\n",
              "      <td>NaN</td>\n",
              "    </tr>\n",
              "  </tbody>\n",
              "</table>\n",
              "</div>"
            ],
            "text/plain": [
              "     Start_Inv Receipt Demand Ending_Inv Order\n",
              "Week                                          \n",
              "1          NaN     NaN    NaN        NaN   NaN\n",
              "2          NaN     NaN    NaN        NaN   NaN\n",
              "3          NaN     NaN    NaN        NaN   NaN\n",
              "4          NaN     NaN    NaN        NaN   NaN\n",
              "5          NaN     NaN    NaN        NaN   NaN"
            ]
          },
          "metadata": {
            "tags": []
          },
          "execution_count": 4
        }
      ]
    },
    {
      "cell_type": "markdown",
      "metadata": {
        "id": "EPskZMqexhWu"
      },
      "source": [
        "You can first initialize the initial inventory and also set the order receipts of the period < lead time to be zero (if we order now, the earliest arrival will be after the leadtime). You can also set the demand column too."
      ]
    },
    {
      "cell_type": "code",
      "metadata": {
        "colab": {
          "base_uri": "https://localhost:8080/",
          "height": 237
        },
        "id": "A_TzLOUsxdQR",
        "outputId": "bb82c68c-2abb-43b1-922c-e2470bf7638b"
      },
      "source": [
        "# initializing current inventory levels and order receipt up to t=lead_time\r\n",
        "inv_dataframe.loc[1, 'Start_Inv'] = init_inv \r\n",
        "for t in range(1, lead_time+1): \r\n",
        "    inv_dataframe.loc[t,'Receipt']=0\r\n",
        "\r\n",
        "# add the values to demand column from the series\r\n",
        "inv_dataframe['Demand'] = demand_series\r\n",
        "inv_dataframe.head() # review the result"
      ],
      "execution_count": null,
      "outputs": [
        {
          "output_type": "execute_result",
          "data": {
            "text/html": [
              "<div>\n",
              "<style scoped>\n",
              "    .dataframe tbody tr th:only-of-type {\n",
              "        vertical-align: middle;\n",
              "    }\n",
              "\n",
              "    .dataframe tbody tr th {\n",
              "        vertical-align: top;\n",
              "    }\n",
              "\n",
              "    .dataframe thead th {\n",
              "        text-align: right;\n",
              "    }\n",
              "</style>\n",
              "<table border=\"1\" class=\"dataframe\">\n",
              "  <thead>\n",
              "    <tr style=\"text-align: right;\">\n",
              "      <th></th>\n",
              "      <th>Start_Inv</th>\n",
              "      <th>Receipt</th>\n",
              "      <th>Demand</th>\n",
              "      <th>Ending_Inv</th>\n",
              "      <th>Order</th>\n",
              "    </tr>\n",
              "    <tr>\n",
              "      <th>Week</th>\n",
              "      <th></th>\n",
              "      <th></th>\n",
              "      <th></th>\n",
              "      <th></th>\n",
              "      <th></th>\n",
              "    </tr>\n",
              "  </thead>\n",
              "  <tbody>\n",
              "    <tr>\n",
              "      <th>1</th>\n",
              "      <td>27</td>\n",
              "      <td>0</td>\n",
              "      <td>18</td>\n",
              "      <td>NaN</td>\n",
              "      <td>NaN</td>\n",
              "    </tr>\n",
              "    <tr>\n",
              "      <th>2</th>\n",
              "      <td>NaN</td>\n",
              "      <td>0</td>\n",
              "      <td>16</td>\n",
              "      <td>NaN</td>\n",
              "      <td>NaN</td>\n",
              "    </tr>\n",
              "    <tr>\n",
              "      <th>3</th>\n",
              "      <td>NaN</td>\n",
              "      <td>NaN</td>\n",
              "      <td>13</td>\n",
              "      <td>NaN</td>\n",
              "      <td>NaN</td>\n",
              "    </tr>\n",
              "    <tr>\n",
              "      <th>4</th>\n",
              "      <td>NaN</td>\n",
              "      <td>NaN</td>\n",
              "      <td>17</td>\n",
              "      <td>NaN</td>\n",
              "      <td>NaN</td>\n",
              "    </tr>\n",
              "    <tr>\n",
              "      <th>5</th>\n",
              "      <td>NaN</td>\n",
              "      <td>NaN</td>\n",
              "      <td>11</td>\n",
              "      <td>NaN</td>\n",
              "      <td>NaN</td>\n",
              "    </tr>\n",
              "  </tbody>\n",
              "</table>\n",
              "</div>"
            ],
            "text/plain": [
              "     Start_Inv Receipt  Demand Ending_Inv Order\n",
              "Week                                           \n",
              "1           27       0      18        NaN   NaN\n",
              "2          NaN       0      16        NaN   NaN\n",
              "3          NaN     NaN      13        NaN   NaN\n",
              "4          NaN     NaN      17        NaN   NaN\n",
              "5          NaN     NaN      11        NaN   NaN"
            ]
          },
          "metadata": {
            "tags": []
          },
          "execution_count": 5
        }
      ]
    },
    {
      "cell_type": "markdown",
      "metadata": {
        "id": "MYcuGxFZ1sfq"
      },
      "source": [
        "Now at each iteration, we need to calculate the ending inventory at $Inv_t$ from the starting inventory from the previous period $Inv_{t-1}$, quantity received and demand using the following flow conservation.\r\n",
        "\r\n",
        "$Inv_{t}$ = $Inv_{t-1} + Receipt_{t} - Demand_{t}$\r\n",
        "\r\n",
        "Again, inventory can be negative if you have a backlog.\r\n",
        "\r\n",
        "**Note:** please examine the following code to understand the process. It is fine if you cannot develop it from scratch. The objective of this is to show how the process/code looks like. We try to put the comments to be as explicit as possible."
      ]
    },
    {
      "cell_type": "code",
      "metadata": {
        "id": "LfcnRBpj1s2c"
      },
      "source": [
        "# assign values to the entries of the dataframe\r\n",
        "for t in range(1, n_weeks+1):\r\n",
        "    # computing inventory levels at the begining and end of each period\r\n",
        "    if t > 1: # set the Start_Inv equals the inv level at the end of the previous period (Ending_Inv)\r\n",
        "        inv_dataframe.loc[t, 'Start_Inv'] = inv_dataframe.loc[t-1, 'Ending_Inv']\r\n",
        "    \r\n",
        "    # Calculate inventory flow for Ending_Inv of the current period\r\n",
        "    inv_dataframe.loc[t, 'Ending_Inv'] = inv_dataframe.loc[t, 'Start_Inv'] + inv_dataframe.loc[t,'Receipt'] - inv_dataframe.loc[t, 'Demand']\r\n",
        "        \r\n",
        "    # Calculating orders and receipts for period t\r\n",
        "    intransit_quantity = sum(inv_dataframe.loc[t+1:t+lead_time-1,'Receipt']) # check the intransit (outstanding) order within the leadtime\r\n",
        "    \r\n",
        "    if inv_dataframe.loc[t,'Ending_Inv'] + intransit_quantity < s_min: # if 'Ending_Inv' + intransit < s_min in this case an order must be placed\r\n",
        "        # create an order Q = s_max - current inventory position\r\n",
        "        inv_dataframe.loc[t,'Order'] = s_max - (inv_dataframe.loc[t,'Ending_Inv']+ intransit_quantity) \r\n",
        "        # check if we reach the end of dataframe, if not, we add the order receipt after the leadtime \r\n",
        "        if t + lead_time <= max(inv_dataframe.index):    \r\n",
        "            inv_dataframe.loc[t+lead_time,'Receipt'] = inv_dataframe.loc[t,'Order']\r\n",
        "    else:\r\n",
        "        inv_dataframe.loc[t,'Order'] = 0   # no order is placed if 'Ending_Inv' >= s_min\r\n",
        "        if t + lead_time <= max(inv_dataframe.index):\r\n",
        "            inv_dataframe.loc[t+lead_time,'Receipt'] = 0  # no orders receipt in t+leadtime periods"
      ],
      "execution_count": null,
      "outputs": []
    },
    {
      "cell_type": "markdown",
      "metadata": {
        "id": "q8HWH_bw30Q9"
      },
      "source": [
        "Now you can examine the results."
      ]
    },
    {
      "cell_type": "code",
      "metadata": {
        "colab": {
          "base_uri": "https://localhost:8080/",
          "height": 1000
        },
        "id": "hbfwaqR63yi9",
        "outputId": "2b8064de-23e1-4c4c-aa7d-dd57e5a4885d"
      },
      "source": [
        "print(\"(s,S) = (\",s_min,\",\",s_max,\")\")\r\n",
        "inv_dataframe"
      ],
      "execution_count": null,
      "outputs": [
        {
          "output_type": "stream",
          "text": [
            "(s,S) = ( 25 , 70 )\n"
          ],
          "name": "stdout"
        },
        {
          "output_type": "execute_result",
          "data": {
            "text/html": [
              "<div>\n",
              "<style scoped>\n",
              "    .dataframe tbody tr th:only-of-type {\n",
              "        vertical-align: middle;\n",
              "    }\n",
              "\n",
              "    .dataframe tbody tr th {\n",
              "        vertical-align: top;\n",
              "    }\n",
              "\n",
              "    .dataframe thead th {\n",
              "        text-align: right;\n",
              "    }\n",
              "</style>\n",
              "<table border=\"1\" class=\"dataframe\">\n",
              "  <thead>\n",
              "    <tr style=\"text-align: right;\">\n",
              "      <th></th>\n",
              "      <th>Start_Inv</th>\n",
              "      <th>Receipt</th>\n",
              "      <th>Demand</th>\n",
              "      <th>Ending_Inv</th>\n",
              "      <th>Order</th>\n",
              "    </tr>\n",
              "    <tr>\n",
              "      <th>Week</th>\n",
              "      <th></th>\n",
              "      <th></th>\n",
              "      <th></th>\n",
              "      <th></th>\n",
              "      <th></th>\n",
              "    </tr>\n",
              "  </thead>\n",
              "  <tbody>\n",
              "    <tr>\n",
              "      <th>1</th>\n",
              "      <td>27</td>\n",
              "      <td>0</td>\n",
              "      <td>18</td>\n",
              "      <td>9</td>\n",
              "      <td>61</td>\n",
              "    </tr>\n",
              "    <tr>\n",
              "      <th>2</th>\n",
              "      <td>9</td>\n",
              "      <td>0</td>\n",
              "      <td>16</td>\n",
              "      <td>-7</td>\n",
              "      <td>0</td>\n",
              "    </tr>\n",
              "    <tr>\n",
              "      <th>3</th>\n",
              "      <td>-7</td>\n",
              "      <td>61</td>\n",
              "      <td>13</td>\n",
              "      <td>41</td>\n",
              "      <td>0</td>\n",
              "    </tr>\n",
              "    <tr>\n",
              "      <th>4</th>\n",
              "      <td>41</td>\n",
              "      <td>0</td>\n",
              "      <td>17</td>\n",
              "      <td>24</td>\n",
              "      <td>46</td>\n",
              "    </tr>\n",
              "    <tr>\n",
              "      <th>5</th>\n",
              "      <td>24</td>\n",
              "      <td>0</td>\n",
              "      <td>11</td>\n",
              "      <td>13</td>\n",
              "      <td>0</td>\n",
              "    </tr>\n",
              "    <tr>\n",
              "      <th>6</th>\n",
              "      <td>13</td>\n",
              "      <td>46</td>\n",
              "      <td>20</td>\n",
              "      <td>39</td>\n",
              "      <td>0</td>\n",
              "    </tr>\n",
              "    <tr>\n",
              "      <th>7</th>\n",
              "      <td>39</td>\n",
              "      <td>0</td>\n",
              "      <td>15</td>\n",
              "      <td>24</td>\n",
              "      <td>46</td>\n",
              "    </tr>\n",
              "    <tr>\n",
              "      <th>8</th>\n",
              "      <td>24</td>\n",
              "      <td>0</td>\n",
              "      <td>20</td>\n",
              "      <td>4</td>\n",
              "      <td>0</td>\n",
              "    </tr>\n",
              "    <tr>\n",
              "      <th>9</th>\n",
              "      <td>4</td>\n",
              "      <td>46</td>\n",
              "      <td>15</td>\n",
              "      <td>35</td>\n",
              "      <td>0</td>\n",
              "    </tr>\n",
              "    <tr>\n",
              "      <th>10</th>\n",
              "      <td>35</td>\n",
              "      <td>0</td>\n",
              "      <td>10</td>\n",
              "      <td>25</td>\n",
              "      <td>0</td>\n",
              "    </tr>\n",
              "    <tr>\n",
              "      <th>11</th>\n",
              "      <td>25</td>\n",
              "      <td>0</td>\n",
              "      <td>19</td>\n",
              "      <td>6</td>\n",
              "      <td>64</td>\n",
              "    </tr>\n",
              "    <tr>\n",
              "      <th>12</th>\n",
              "      <td>6</td>\n",
              "      <td>0</td>\n",
              "      <td>18</td>\n",
              "      <td>-12</td>\n",
              "      <td>0</td>\n",
              "    </tr>\n",
              "    <tr>\n",
              "      <th>13</th>\n",
              "      <td>-12</td>\n",
              "      <td>64</td>\n",
              "      <td>12</td>\n",
              "      <td>40</td>\n",
              "      <td>0</td>\n",
              "    </tr>\n",
              "    <tr>\n",
              "      <th>14</th>\n",
              "      <td>40</td>\n",
              "      <td>0</td>\n",
              "      <td>13</td>\n",
              "      <td>27</td>\n",
              "      <td>0</td>\n",
              "    </tr>\n",
              "    <tr>\n",
              "      <th>15</th>\n",
              "      <td>27</td>\n",
              "      <td>0</td>\n",
              "      <td>13</td>\n",
              "      <td>14</td>\n",
              "      <td>56</td>\n",
              "    </tr>\n",
              "    <tr>\n",
              "      <th>16</th>\n",
              "      <td>14</td>\n",
              "      <td>0</td>\n",
              "      <td>14</td>\n",
              "      <td>0</td>\n",
              "      <td>0</td>\n",
              "    </tr>\n",
              "    <tr>\n",
              "      <th>17</th>\n",
              "      <td>0</td>\n",
              "      <td>56</td>\n",
              "      <td>19</td>\n",
              "      <td>37</td>\n",
              "      <td>0</td>\n",
              "    </tr>\n",
              "    <tr>\n",
              "      <th>18</th>\n",
              "      <td>37</td>\n",
              "      <td>0</td>\n",
              "      <td>19</td>\n",
              "      <td>18</td>\n",
              "      <td>52</td>\n",
              "    </tr>\n",
              "    <tr>\n",
              "      <th>19</th>\n",
              "      <td>18</td>\n",
              "      <td>0</td>\n",
              "      <td>20</td>\n",
              "      <td>-2</td>\n",
              "      <td>0</td>\n",
              "    </tr>\n",
              "    <tr>\n",
              "      <th>20</th>\n",
              "      <td>-2</td>\n",
              "      <td>52</td>\n",
              "      <td>12</td>\n",
              "      <td>38</td>\n",
              "      <td>0</td>\n",
              "    </tr>\n",
              "    <tr>\n",
              "      <th>21</th>\n",
              "      <td>38</td>\n",
              "      <td>0</td>\n",
              "      <td>15</td>\n",
              "      <td>23</td>\n",
              "      <td>47</td>\n",
              "    </tr>\n",
              "    <tr>\n",
              "      <th>22</th>\n",
              "      <td>23</td>\n",
              "      <td>0</td>\n",
              "      <td>20</td>\n",
              "      <td>3</td>\n",
              "      <td>0</td>\n",
              "    </tr>\n",
              "    <tr>\n",
              "      <th>23</th>\n",
              "      <td>3</td>\n",
              "      <td>47</td>\n",
              "      <td>12</td>\n",
              "      <td>38</td>\n",
              "      <td>0</td>\n",
              "    </tr>\n",
              "    <tr>\n",
              "      <th>24</th>\n",
              "      <td>38</td>\n",
              "      <td>0</td>\n",
              "      <td>13</td>\n",
              "      <td>25</td>\n",
              "      <td>0</td>\n",
              "    </tr>\n",
              "    <tr>\n",
              "      <th>25</th>\n",
              "      <td>25</td>\n",
              "      <td>0</td>\n",
              "      <td>16</td>\n",
              "      <td>9</td>\n",
              "      <td>61</td>\n",
              "    </tr>\n",
              "    <tr>\n",
              "      <th>26</th>\n",
              "      <td>9</td>\n",
              "      <td>0</td>\n",
              "      <td>15</td>\n",
              "      <td>-6</td>\n",
              "      <td>0</td>\n",
              "    </tr>\n",
              "    <tr>\n",
              "      <th>27</th>\n",
              "      <td>-6</td>\n",
              "      <td>61</td>\n",
              "      <td>17</td>\n",
              "      <td>38</td>\n",
              "      <td>0</td>\n",
              "    </tr>\n",
              "    <tr>\n",
              "      <th>28</th>\n",
              "      <td>38</td>\n",
              "      <td>0</td>\n",
              "      <td>17</td>\n",
              "      <td>21</td>\n",
              "      <td>49</td>\n",
              "    </tr>\n",
              "    <tr>\n",
              "      <th>29</th>\n",
              "      <td>21</td>\n",
              "      <td>0</td>\n",
              "      <td>20</td>\n",
              "      <td>1</td>\n",
              "      <td>0</td>\n",
              "    </tr>\n",
              "    <tr>\n",
              "      <th>30</th>\n",
              "      <td>1</td>\n",
              "      <td>49</td>\n",
              "      <td>15</td>\n",
              "      <td>35</td>\n",
              "      <td>0</td>\n",
              "    </tr>\n",
              "    <tr>\n",
              "      <th>31</th>\n",
              "      <td>35</td>\n",
              "      <td>0</td>\n",
              "      <td>19</td>\n",
              "      <td>16</td>\n",
              "      <td>54</td>\n",
              "    </tr>\n",
              "    <tr>\n",
              "      <th>32</th>\n",
              "      <td>16</td>\n",
              "      <td>0</td>\n",
              "      <td>15</td>\n",
              "      <td>1</td>\n",
              "      <td>0</td>\n",
              "    </tr>\n",
              "    <tr>\n",
              "      <th>33</th>\n",
              "      <td>1</td>\n",
              "      <td>54</td>\n",
              "      <td>13</td>\n",
              "      <td>42</td>\n",
              "      <td>0</td>\n",
              "    </tr>\n",
              "    <tr>\n",
              "      <th>34</th>\n",
              "      <td>42</td>\n",
              "      <td>0</td>\n",
              "      <td>13</td>\n",
              "      <td>29</td>\n",
              "      <td>0</td>\n",
              "    </tr>\n",
              "    <tr>\n",
              "      <th>35</th>\n",
              "      <td>29</td>\n",
              "      <td>0</td>\n",
              "      <td>14</td>\n",
              "      <td>15</td>\n",
              "      <td>55</td>\n",
              "    </tr>\n",
              "    <tr>\n",
              "      <th>36</th>\n",
              "      <td>15</td>\n",
              "      <td>0</td>\n",
              "      <td>16</td>\n",
              "      <td>-1</td>\n",
              "      <td>0</td>\n",
              "    </tr>\n",
              "    <tr>\n",
              "      <th>37</th>\n",
              "      <td>-1</td>\n",
              "      <td>55</td>\n",
              "      <td>13</td>\n",
              "      <td>41</td>\n",
              "      <td>0</td>\n",
              "    </tr>\n",
              "    <tr>\n",
              "      <th>38</th>\n",
              "      <td>41</td>\n",
              "      <td>0</td>\n",
              "      <td>15</td>\n",
              "      <td>26</td>\n",
              "      <td>0</td>\n",
              "    </tr>\n",
              "    <tr>\n",
              "      <th>39</th>\n",
              "      <td>26</td>\n",
              "      <td>0</td>\n",
              "      <td>18</td>\n",
              "      <td>8</td>\n",
              "      <td>62</td>\n",
              "    </tr>\n",
              "    <tr>\n",
              "      <th>40</th>\n",
              "      <td>8</td>\n",
              "      <td>0</td>\n",
              "      <td>11</td>\n",
              "      <td>-3</td>\n",
              "      <td>0</td>\n",
              "    </tr>\n",
              "    <tr>\n",
              "      <th>41</th>\n",
              "      <td>-3</td>\n",
              "      <td>62</td>\n",
              "      <td>13</td>\n",
              "      <td>46</td>\n",
              "      <td>0</td>\n",
              "    </tr>\n",
              "    <tr>\n",
              "      <th>42</th>\n",
              "      <td>46</td>\n",
              "      <td>0</td>\n",
              "      <td>11</td>\n",
              "      <td>35</td>\n",
              "      <td>0</td>\n",
              "    </tr>\n",
              "    <tr>\n",
              "      <th>43</th>\n",
              "      <td>35</td>\n",
              "      <td>0</td>\n",
              "      <td>15</td>\n",
              "      <td>20</td>\n",
              "      <td>50</td>\n",
              "    </tr>\n",
              "    <tr>\n",
              "      <th>44</th>\n",
              "      <td>20</td>\n",
              "      <td>0</td>\n",
              "      <td>15</td>\n",
              "      <td>5</td>\n",
              "      <td>0</td>\n",
              "    </tr>\n",
              "    <tr>\n",
              "      <th>45</th>\n",
              "      <td>5</td>\n",
              "      <td>50</td>\n",
              "      <td>18</td>\n",
              "      <td>37</td>\n",
              "      <td>0</td>\n",
              "    </tr>\n",
              "    <tr>\n",
              "      <th>46</th>\n",
              "      <td>37</td>\n",
              "      <td>0</td>\n",
              "      <td>12</td>\n",
              "      <td>25</td>\n",
              "      <td>0</td>\n",
              "    </tr>\n",
              "    <tr>\n",
              "      <th>47</th>\n",
              "      <td>25</td>\n",
              "      <td>0</td>\n",
              "      <td>16</td>\n",
              "      <td>9</td>\n",
              "      <td>61</td>\n",
              "    </tr>\n",
              "    <tr>\n",
              "      <th>48</th>\n",
              "      <td>9</td>\n",
              "      <td>0</td>\n",
              "      <td>17</td>\n",
              "      <td>-8</td>\n",
              "      <td>0</td>\n",
              "    </tr>\n",
              "    <tr>\n",
              "      <th>49</th>\n",
              "      <td>-8</td>\n",
              "      <td>61</td>\n",
              "      <td>15</td>\n",
              "      <td>38</td>\n",
              "      <td>0</td>\n",
              "    </tr>\n",
              "    <tr>\n",
              "      <th>50</th>\n",
              "      <td>38</td>\n",
              "      <td>0</td>\n",
              "      <td>17</td>\n",
              "      <td>21</td>\n",
              "      <td>49</td>\n",
              "    </tr>\n",
              "    <tr>\n",
              "      <th>51</th>\n",
              "      <td>21</td>\n",
              "      <td>0</td>\n",
              "      <td>17</td>\n",
              "      <td>4</td>\n",
              "      <td>0</td>\n",
              "    </tr>\n",
              "    <tr>\n",
              "      <th>52</th>\n",
              "      <td>4</td>\n",
              "      <td>49</td>\n",
              "      <td>22</td>\n",
              "      <td>31</td>\n",
              "      <td>0</td>\n",
              "    </tr>\n",
              "  </tbody>\n",
              "</table>\n",
              "</div>"
            ],
            "text/plain": [
              "     Start_Inv Receipt  Demand Ending_Inv Order\n",
              "Week                                           \n",
              "1           27       0      18          9    61\n",
              "2            9       0      16         -7     0\n",
              "3           -7      61      13         41     0\n",
              "4           41       0      17         24    46\n",
              "5           24       0      11         13     0\n",
              "6           13      46      20         39     0\n",
              "7           39       0      15         24    46\n",
              "8           24       0      20          4     0\n",
              "9            4      46      15         35     0\n",
              "10          35       0      10         25     0\n",
              "11          25       0      19          6    64\n",
              "12           6       0      18        -12     0\n",
              "13         -12      64      12         40     0\n",
              "14          40       0      13         27     0\n",
              "15          27       0      13         14    56\n",
              "16          14       0      14          0     0\n",
              "17           0      56      19         37     0\n",
              "18          37       0      19         18    52\n",
              "19          18       0      20         -2     0\n",
              "20          -2      52      12         38     0\n",
              "21          38       0      15         23    47\n",
              "22          23       0      20          3     0\n",
              "23           3      47      12         38     0\n",
              "24          38       0      13         25     0\n",
              "25          25       0      16          9    61\n",
              "26           9       0      15         -6     0\n",
              "27          -6      61      17         38     0\n",
              "28          38       0      17         21    49\n",
              "29          21       0      20          1     0\n",
              "30           1      49      15         35     0\n",
              "31          35       0      19         16    54\n",
              "32          16       0      15          1     0\n",
              "33           1      54      13         42     0\n",
              "34          42       0      13         29     0\n",
              "35          29       0      14         15    55\n",
              "36          15       0      16         -1     0\n",
              "37          -1      55      13         41     0\n",
              "38          41       0      15         26     0\n",
              "39          26       0      18          8    62\n",
              "40           8       0      11         -3     0\n",
              "41          -3      62      13         46     0\n",
              "42          46       0      11         35     0\n",
              "43          35       0      15         20    50\n",
              "44          20       0      15          5     0\n",
              "45           5      50      18         37     0\n",
              "46          37       0      12         25     0\n",
              "47          25       0      16          9    61\n",
              "48           9       0      17         -8     0\n",
              "49          -8      61      15         38     0\n",
              "50          38       0      17         21    49\n",
              "51          21       0      17          4     0\n",
              "52           4      49      22         31     0"
            ]
          },
          "metadata": {
            "tags": []
          },
          "execution_count": 7
        }
      ]
    },
    {
      "cell_type": "markdown",
      "metadata": {
        "id": "DAYNaHszpfkl"
      },
      "source": [
        "---\n",
        "### Step 3: Plotting data\n",
        "\n",
        "We can also visualize the data directly from the dataframe by taking on column."
      ]
    },
    {
      "cell_type": "code",
      "metadata": {
        "id": "dc8cUaHupfkm",
        "colab": {
          "base_uri": "https://localhost:8080/",
          "height": 299
        },
        "outputId": "2488b9e1-e829-43dd-9666-5f395151f859"
      },
      "source": [
        "inv_dataframe[[\"Ending_Inv\"]].plot(kind='bar')   # plotting inv levels"
      ],
      "execution_count": null,
      "outputs": [
        {
          "output_type": "execute_result",
          "data": {
            "text/plain": [
              "<matplotlib.axes._subplots.AxesSubplot at 0x7f739e667fd0>"
            ]
          },
          "metadata": {
            "tags": []
          },
          "execution_count": 8
        },
        {
          "output_type": "display_data",
          "data": {
            "image/png": "[encoded data removed]",
            "text/plain": [
              "<Figure size 432x288 with 1 Axes>"
            ]
          },
          "metadata": {
            "tags": [],
            "needs_background": "light"
          }
        }
      ]
    },
    {
      "cell_type": "markdown",
      "metadata": {
        "id": "1wuINvx7FboV"
      },
      "source": [
        "This can be done even for more than two columns. "
      ]
    },
    {
      "cell_type": "code",
      "metadata": {
        "colab": {
          "base_uri": "https://localhost:8080/",
          "height": 245
        },
        "id": "1gjgWeut8jRz",
        "outputId": "be4a38ca-4a72-4866-efed-4e7f1f4ff59f"
      },
      "source": [
        "inv_dataframe[[\"Receipt\",\"Ending_Inv\"]].plot(kind='bar', figsize=(15,3))   # plotting inv and receipts and resize the plot"
      ],
      "execution_count": null,
      "outputs": [
        {
          "output_type": "execute_result",
          "data": {
            "text/plain": [
              "<matplotlib.axes._subplots.AxesSubplot at 0x7f739e5cdf60>"
            ]
          },
          "metadata": {
            "tags": []
          },
          "execution_count": 9
        },
        {
          "output_type": "display_data",
          "data": {
            "image/png": "[encoded data removed]",
            "text/plain": [
              "<Figure size 1080x216 with 1 Axes>"
            ]
          },
          "metadata": {
            "tags": [],
            "needs_background": "light"
          }
        }
      ]
    },
    {
      "cell_type": "markdown",
      "metadata": {
        "id": "AA1cap9qFjdv"
      },
      "source": [
        "or histogram"
      ]
    },
    {
      "cell_type": "code",
      "metadata": {
        "colab": {
          "base_uri": "https://localhost:8080/",
          "height": 282
        },
        "id": "JLi0tQ6r8gq5",
        "outputId": "3a845e4d-e576-440e-aefe-7060bef6e35f"
      },
      "source": [
        "inv_dataframe[['Ending_Inv']].plot.hist()"
      ],
      "execution_count": null,
      "outputs": [
        {
          "output_type": "execute_result",
          "data": {
            "text/plain": [
              "<matplotlib.axes._subplots.AxesSubplot at 0x7f739de13358>"
            ]
          },
          "metadata": {
            "tags": []
          },
          "execution_count": 10
        },
        {
          "output_type": "display_data",
          "data": {
            "image/png": "[encoded data removed]",
            "text/plain": [
              "<Figure size 432x288 with 1 Axes>"
            ]
          },
          "metadata": {
            "tags": [],
            "needs_background": "light"
          }
        }
      ]
    },
    {
      "cell_type": "markdown",
      "metadata": {
        "id": "8FWEsDYepfkm"
      },
      "source": [
        "### Step 4: Summarizing the results \n",
        "We can also use the functions in DataFrame to summarize the results. \n",
        "See https://pandas.pydata.org/pandas-docs/stable/reference/api/pandas.DataFrame.lt.html for more details."
      ]
    },
    {
      "cell_type": "code",
      "metadata": {
        "scrolled": true,
        "id": "qtrskPRFpfkm",
        "colab": {
          "base_uri": "https://localhost:8080/"
        },
        "outputId": "be3a37c2-366d-4b6d-f405-822fa8ed4d45"
      },
      "source": [
        "backlog_num = inv_dataframe['Ending_Inv'].lt(0).sum()\n",
        "backlog_total_units = inv_dataframe['Ending_Inv'].loc[inv_dataframe['Ending_Inv'] < 0].sum() #this number is negative\n",
        "demand_total = inv_dataframe['Demand'].sum()\n",
        "order_total = inv_dataframe['Order'].sum()\n",
        "order_num = inv_dataframe['Order'].gt(0).sum()\n",
        "inv_total_units = inv_dataframe['Ending_Inv'].loc[inv_dataframe['Ending_Inv'] > 0].sum()\n",
        "\n",
        "print(\"Performance of (s,S) = (\",s_min,\",\",s_max,\") under demand scenartio:\",demand_series.name)\n",
        "print(\"Total number of orders =\",order_num,\", Average order quantity =\",\"{:.2f}\".format(order_total/n_weeks))\n",
        "print(\"Average inventory per week =\", \"{:.2f}\".format(inv_total_units/n_weeks))\n",
        "print(\"Average number of backlogged units per week =\", \"{:.2f}\".format(backlog_total_units/n_weeks))\n",
        "print(\"N. backlog incidents =\", inv_dataframe['Ending_Inv'].lt(0).sum())\n",
        "print(\"Service Level =\", \"{:.2f}\".format(( 1 - backlog_num/n_weeks)*100),\"%\") # % of times the demand is completely fulfilled\n",
        "print(\"Fill rate =\", \"{:.2f}\".format(((demand_total + backlog_total_units)/demand_total)*100),\"%\")  # % of quantity fulfilled on-time\n",
        "\n",
        "\n"
      ],
      "execution_count": null,
      "outputs": [
        {
          "output_type": "stream",
          "text": [
            "Performance of (s,S) = ( 25 , 70 ) under demand scenartio: Scenario1\n",
            "Total number of orders = 15 , Average order quantity = 15.63\n",
            "Average inventory per week = 19.92\n",
            "Average number of backlogged units per week = -0.75\n",
            "N. backlog incidents = 7\n",
            "Service Level = 86.54 %\n",
            "Fill rate = 95.18 %\n"
          ],
          "name": "stdout"
        }
      ]
    },
    {
      "cell_type": "markdown",
      "metadata": {
        "id": "DHgq2VQOBgUF"
      },
      "source": [
        "### Playing with the code:\r\n",
        "You can now repeat the process above with a different demand scenario (e.g., choosing the 'Scenario2' or 'Scenario2' and vary the inventory control parameters `s_min` and `s_max` and explore the results."
      ]
    }
  ]
}
