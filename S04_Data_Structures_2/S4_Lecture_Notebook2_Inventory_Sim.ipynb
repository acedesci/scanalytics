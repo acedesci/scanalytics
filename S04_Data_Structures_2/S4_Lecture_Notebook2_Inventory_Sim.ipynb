{
  "nbformat": 4,
  "nbformat_minor": 0,
  "metadata": {
    "kernelspec": {
      "display_name": "Python 3",
      "language": "python",
      "name": "python3"
    },
    "language_info": {
      "codemirror_mode": {
        "name": "ipython",
        "version": 3
      },
      "file_extension": ".py",
      "mimetype": "text/x-python",
      "name": "python",
      "nbconvert_exporter": "python",
      "pygments_lexer": "ipython3",
      "version": "3.7.6"
    },
    "colab": {
      "name": "S4_InClass_Exercises_Solution.ipynb",
      "provenance": [],
      "include_colab_link": true
    }
  },
  "cells": [
    {
      "cell_type": "markdown",
      "metadata": {
        "id": "view-in-github",
        "colab_type": "text"
      },
      "source": [
        "<a href=\"https://colab.research.google.com/github/acedesci/scanalytics/blob/master/S04_Data_Structures_2/S4_Lecture_Notebook2_Inventory_Sim.ipynb\" target=\"_parent\"><img src=\"https://colab.research.google.com/assets/colab-badge.svg\" alt=\"Open In Colab\"/></a>"
      ]
    },
    {
      "cell_type": "markdown",
      "metadata": {
        "id": "0H7ZwGI3pfkV"
      },
      "source": [
        "# S4 - In-class Exercises: Python Data Structures II and SCM examples (Solution)\n",
        "\n",
        "---\n",
        "## Instructions:\n",
        "Most of the exercises presented here allows you to practice basic Python programming for some applications in Operations Management and Logistics.\n",
        "\n",
        "For each exercise, you have a code cell for the response underneath it, where you should write your answer between the lines containing `### start your code here ###` and `### end your code here ###`. Your code can contain one or more lines and you can execute this cell in order to complete the exercise. To execute the cell, you can type `Shift+Enter` or press the play button in the toolbar above. Your results will appear right below this response cell.\n",
        "\n",
        "NOTE: Please pay attention to the variable name of the output you would need to provide under each question. You must use the same variable name for the output so that the result can be printed out correctly."
      ]
    },
    {
      "cell_type": "markdown",
      "metadata": {
        "id": "EdSKSaLCpfkg"
      },
      "source": [
        "---\n",
        "## Inventory simulation using pandas\n",
        "In this exercise, you will use pandas library to simulate different inventory policies for a planning horizon of one year.\n",
        "\n",
        "### Exercise 1: Reading data\n",
        "Import the pandas library under the alias `pd`. Import the csv file `DemandSimulation.csv` into a `DataFrame`, and select the first column named `'Week'` as the index of the `DataFrame`.\n",
        "\n",
        "**$\\color{blue}{\\textbf{Hint:}}$** you can define the index column of the `DataFrame` using the `index_col` parameter of the `.read_csv()` function. Check [this page](https://pandas.pydata.org/pandas-docs/stable/reference/api/pandas.read_csv.html) for more information."
      ]
    },
    {
      "cell_type": "code",
      "metadata": {
        "id": "jPCtkkxPpfkg"
      },
      "source": [
        "### start your code here ###\n",
        "\n",
        "import pandas as pd\n",
        "df_inv = pd.read_csv('DemandSimulation.csv', index_col='Week')\n",
        "\n",
        "### end your code here ###"
      ],
      "execution_count": null,
      "outputs": []
    },
    {
      "cell_type": "markdown",
      "metadata": {
        "id": "fZrwSQdlpfkh"
      },
      "source": [
        "Now display the first 10 rows of your `DataFrame`."
      ]
    },
    {
      "cell_type": "code",
      "metadata": {
        "scrolled": true,
        "id": "uZwPh1eDpfkh",
        "outputId": "8da6dc7d-4e25-4053-af47-1dd50c63dc43"
      },
      "source": [
        "### start your code here ###\n",
        "\n",
        "df_inv.head(10)\n",
        "\n",
        "###  end  your code here ###"
      ],
      "execution_count": null,
      "outputs": [
        {
          "output_type": "execute_result",
          "data": {
            "text/html": [
              "<div>\n",
              "<style scoped>\n",
              "    .dataframe tbody tr th:only-of-type {\n",
              "        vertical-align: middle;\n",
              "    }\n",
              "\n",
              "    .dataframe tbody tr th {\n",
              "        vertical-align: top;\n",
              "    }\n",
              "\n",
              "    .dataframe thead th {\n",
              "        text-align: right;\n",
              "    }\n",
              "</style>\n",
              "<table border=\"1\" class=\"dataframe\">\n",
              "  <thead>\n",
              "    <tr style=\"text-align: right;\">\n",
              "      <th></th>\n",
              "      <th>Dem_Scen</th>\n",
              "    </tr>\n",
              "    <tr>\n",
              "      <th>Week</th>\n",
              "      <th></th>\n",
              "    </tr>\n",
              "  </thead>\n",
              "  <tbody>\n",
              "    <tr>\n",
              "      <th>1</th>\n",
              "      <td>18</td>\n",
              "    </tr>\n",
              "    <tr>\n",
              "      <th>2</th>\n",
              "      <td>16</td>\n",
              "    </tr>\n",
              "    <tr>\n",
              "      <th>3</th>\n",
              "      <td>13</td>\n",
              "    </tr>\n",
              "    <tr>\n",
              "      <th>4</th>\n",
              "      <td>17</td>\n",
              "    </tr>\n",
              "    <tr>\n",
              "      <th>5</th>\n",
              "      <td>11</td>\n",
              "    </tr>\n",
              "    <tr>\n",
              "      <th>6</th>\n",
              "      <td>20</td>\n",
              "    </tr>\n",
              "    <tr>\n",
              "      <th>7</th>\n",
              "      <td>15</td>\n",
              "    </tr>\n",
              "    <tr>\n",
              "      <th>8</th>\n",
              "      <td>20</td>\n",
              "    </tr>\n",
              "    <tr>\n",
              "      <th>9</th>\n",
              "      <td>15</td>\n",
              "    </tr>\n",
              "    <tr>\n",
              "      <th>10</th>\n",
              "      <td>10</td>\n",
              "    </tr>\n",
              "  </tbody>\n",
              "</table>\n",
              "</div>"
            ],
            "text/plain": [
              "      Dem_Scen\n",
              "Week          \n",
              "1           18\n",
              "2           16\n",
              "3           13\n",
              "4           17\n",
              "5           11\n",
              "6           20\n",
              "7           15\n",
              "8           20\n",
              "9           15\n",
              "10          10"
            ]
          },
          "metadata": {
            "tags": []
          },
          "execution_count": 2
        }
      ]
    },
    {
      "cell_type": "markdown",
      "metadata": {
        "id": "yYg9XS54pfkj"
      },
      "source": [
        "---\n",
        "### Exercise 2: Indexing, selecting and assigning\n",
        "Display the rows (weeks) of your `DataFrame` where the demand scenario is greater than 18 units.\n",
        "\n",
        "**$\\color{blue}{\\textbf{Hint:}}$** *you can use the `.loc[]` method with boolean masks to select the data of interest.*"
      ]
    },
    {
      "cell_type": "code",
      "metadata": {
        "scrolled": false,
        "id": "uzqBSAU5pfkj",
        "outputId": "fddb51b7-87a5-4e82-962a-07b389254326"
      },
      "source": [
        "### start your code here ###\n",
        "\n",
        "df_inv.loc[df_inv['Dem_Scen'] >= 18]\n",
        "\n",
        "### start your code here ###"
      ],
      "execution_count": null,
      "outputs": [
        {
          "output_type": "execute_result",
          "data": {
            "text/html": [
              "<div>\n",
              "<style scoped>\n",
              "    .dataframe tbody tr th:only-of-type {\n",
              "        vertical-align: middle;\n",
              "    }\n",
              "\n",
              "    .dataframe tbody tr th {\n",
              "        vertical-align: top;\n",
              "    }\n",
              "\n",
              "    .dataframe thead th {\n",
              "        text-align: right;\n",
              "    }\n",
              "</style>\n",
              "<table border=\"1\" class=\"dataframe\">\n",
              "  <thead>\n",
              "    <tr style=\"text-align: right;\">\n",
              "      <th></th>\n",
              "      <th>Dem_Scen</th>\n",
              "    </tr>\n",
              "    <tr>\n",
              "      <th>Week</th>\n",
              "      <th></th>\n",
              "    </tr>\n",
              "  </thead>\n",
              "  <tbody>\n",
              "    <tr>\n",
              "      <th>1</th>\n",
              "      <td>18</td>\n",
              "    </tr>\n",
              "    <tr>\n",
              "      <th>6</th>\n",
              "      <td>20</td>\n",
              "    </tr>\n",
              "    <tr>\n",
              "      <th>8</th>\n",
              "      <td>20</td>\n",
              "    </tr>\n",
              "    <tr>\n",
              "      <th>11</th>\n",
              "      <td>19</td>\n",
              "    </tr>\n",
              "    <tr>\n",
              "      <th>12</th>\n",
              "      <td>18</td>\n",
              "    </tr>\n",
              "    <tr>\n",
              "      <th>17</th>\n",
              "      <td>19</td>\n",
              "    </tr>\n",
              "    <tr>\n",
              "      <th>18</th>\n",
              "      <td>19</td>\n",
              "    </tr>\n",
              "    <tr>\n",
              "      <th>19</th>\n",
              "      <td>20</td>\n",
              "    </tr>\n",
              "    <tr>\n",
              "      <th>22</th>\n",
              "      <td>20</td>\n",
              "    </tr>\n",
              "    <tr>\n",
              "      <th>29</th>\n",
              "      <td>20</td>\n",
              "    </tr>\n",
              "    <tr>\n",
              "      <th>31</th>\n",
              "      <td>19</td>\n",
              "    </tr>\n",
              "    <tr>\n",
              "      <th>39</th>\n",
              "      <td>18</td>\n",
              "    </tr>\n",
              "    <tr>\n",
              "      <th>45</th>\n",
              "      <td>18</td>\n",
              "    </tr>\n",
              "  </tbody>\n",
              "</table>\n",
              "</div>"
            ],
            "text/plain": [
              "      Dem_Scen\n",
              "Week          \n",
              "1           18\n",
              "6           20\n",
              "8           20\n",
              "11          19\n",
              "12          18\n",
              "17          19\n",
              "18          19\n",
              "19          20\n",
              "22          20\n",
              "29          20\n",
              "31          19\n",
              "39          18\n",
              "45          18"
            ]
          },
          "metadata": {
            "tags": []
          },
          "execution_count": 3
        }
      ]
    },
    {
      "cell_type": "markdown",
      "metadata": {
        "id": "1-oQ3jDxpfkj"
      },
      "source": [
        "---\n",
        "### Exercise 3: Creating `DataFrame` objects\n",
        "Now, we will simulate different inventory policies based on the inventory model $(s,S)$, analyse and compare these policies considering the simulated demand data you imported from file `DemandSimulation.csv`.\n",
        "\n",
        "> The inventory model $(s,S)$ is a continuos review system for inventory management. There are two parameters that must be determined to control the inventory replenishment: $s$ which represents the reorder point, and $S$ which represents the desired maximun inventory level order quantity $(S)$. This system constantly checks the actual level of the inventory for the product. Every time when the inventory level reaches the level $s$, a manager should refill inventory to raise the\n",
        "inventory position to the level $S$. This order quantity arrives after the lead time. Therefore, both order quantity and the time interval between orders is variable.\n",
        "\n",
        "In this exercise you will create a function which determines order to place and inventory levels given a specific $(s,S)$ policy. This function should return a `DataFrame` object containing inventory levels (at the begining and at the end of each period), orders to place and order to receive at each time period (week) of the simulated planning horizon. Here there are some instructions.\n",
        "\n",
        "Your function will require the following parameters:\n",
        "* The `DataFrame` created in the previous exercises, which contains the simulated demand data\n",
        "* (number) inventory level at the begining of the planning horizon\n",
        "* (number) lead time in weeks\n",
        "* (number) $s$ value, i.e., reorder point\n",
        "* (number) $S$ value, i.e., maximun inventory level \n",
        "\n",
        "The output of your function should be a `DataFrame` with 52 rows (52 weeks) and  four columns as follows:\n",
        "* `'Start_Inv'`: inventory level at the beginning of each week\n",
        "* `'Receipt'`: units receipt at each week\n",
        "* `'Ending_Inv'`: inventory level at the end of each week \n",
        "* `'Order'`: order quantity in units\n",
        "\n",
        "**$\\color{blue}{\\textbf{Hints:}}$** \n",
        "* *You can use the method `.shape[0]` to access the number of weeks of the planning horizon in function of the `DataFrame` you created in the previous exercises.*\n",
        "* *You can initialize the first row of the `'Start_Inv'` column as the initial inventory level given as input. You can also initialize the `'Receipt'` entries as $0$ from the beginning of the planning horizon until the time period equals to the lead time.*\n",
        "* *Then you can use a `for` loop to iterate over the planning horizon and compute the corresponding values for `'Start_Inv'`, `'Receipt'`, `'Ending_Inv'`, `'Order'`.*"
      ]
    },
    {
      "cell_type": "code",
      "metadata": {
        "id": "W-eCyNzIpfkk"
      },
      "source": [
        "### start your code here ###\n",
        "\n",
        "def inv_policy(df_demand, init_inv, lead_time, min_level, max_level):\n",
        "    \n",
        "    # creating an (empty) dataframe to keep the results\n",
        "    column_names = ['Start_Inv', 'Receipt', 'Ending_Inv', 'Order']\n",
        "    n_weeks = df_demand.shape[0]\n",
        "    inv_dataframe = pd.DataFrame(index = range(1, n_weeks+1), columns=column_names)\n",
        "    inv_dataframe.index.name ='Week'\n",
        "    \n",
        "    # initializing current inventory levels and orders receipt up to t=lead_time\n",
        "    inv_dataframe.loc[1, 'Start_Inv'] = init_inv \n",
        "    for t in range(1, lead_time+1): \n",
        "        inv_dataframe.loc[t,'Receipt']=0\n",
        "    \n",
        "    # assign values to the entries of the dataframe\n",
        "    for t in range(1, n_weeks+1): \n",
        "        \n",
        "        # computing inventory levels at the begining and end of each period\n",
        "        if t > 1: # start inv equals the inv level at the end of the previous period\n",
        "            inv_dataframe.loc[t, 'Start_Inv'] = inv_dataframe.loc[t-1, 'Ending_Inv']\n",
        "        inv_dataframe.loc[t, 'Ending_Inv'] = inv_dataframe.loc[t, 'Start_Inv'] + inv_dataframe.loc[t,'Receipt'] - df_demand.loc[t, 'Dem_Scen']\n",
        "            \n",
        "        # Calculating orders and receipts for period t\n",
        "        if inv_dataframe.loc[t,'Ending_Inv'] < min_level:    # in this case an order must be placed\n",
        "            inv_dataframe.loc[t,'Order'] = max_level - inv_dataframe.loc[t,'Ending_Inv']\n",
        "            if t + lead_time < max(inv_dataframe.index)+1:    # update the orders receipt \n",
        "                inv_dataframe.loc[t+lead_time,'Receipt'] = inv_dataframe.loc[t,'Order']\n",
        "        else:\n",
        "            inv_dataframe.loc[t,'Order'] = 0   # no order is placed if inv level >= min level\n",
        "            if t + lead_time < max(inv_dataframe.index)+1:\n",
        "                inv_dataframe.loc[t+lead_time,'Receipt'] = 0  # no orders receipt in t+leadtime periods\n",
        "    \n",
        "    return inv_dataframe\n",
        "### end your code here ###"
      ],
      "execution_count": null,
      "outputs": []
    },
    {
      "cell_type": "markdown",
      "metadata": {
        "id": "p7Ld7rPypfkk"
      },
      "source": [
        "Test your function for the inventory policy $(s,S)$ defined above, and display the 5 first rows of the returned `DataFrame`."
      ]
    },
    {
      "cell_type": "code",
      "metadata": {
        "id": "xSkma4mApfkl",
        "outputId": "c140308c-96bd-4ff2-ec53-7e5a5eef9904"
      },
      "source": [
        "init_inv = 27  # initial inventory level\n",
        "lead_time = 2  # leadtime \n",
        "\n",
        "# parameters to set (s,S) policy\n",
        "P1_min =  12       \n",
        "P1_max =  30 \n",
        "\n",
        "\n",
        "### start your code here ###\n",
        "\n",
        "inv_pol1 = inv_policy(df_inv, init_inv, lead_time, P1_min, P1_max)\n",
        "inv_pol1.head()\n",
        "\n",
        "### end your code here ###"
      ],
      "execution_count": null,
      "outputs": [
        {
          "output_type": "execute_result",
          "data": {
            "text/html": [
              "<div>\n",
              "<style scoped>\n",
              "    .dataframe tbody tr th:only-of-type {\n",
              "        vertical-align: middle;\n",
              "    }\n",
              "\n",
              "    .dataframe tbody tr th {\n",
              "        vertical-align: top;\n",
              "    }\n",
              "\n",
              "    .dataframe thead th {\n",
              "        text-align: right;\n",
              "    }\n",
              "</style>\n",
              "<table border=\"1\" class=\"dataframe\">\n",
              "  <thead>\n",
              "    <tr style=\"text-align: right;\">\n",
              "      <th></th>\n",
              "      <th>Start_Inv</th>\n",
              "      <th>Receipt</th>\n",
              "      <th>Ending_Inv</th>\n",
              "      <th>Order</th>\n",
              "    </tr>\n",
              "    <tr>\n",
              "      <th>Week</th>\n",
              "      <th></th>\n",
              "      <th></th>\n",
              "      <th></th>\n",
              "      <th></th>\n",
              "    </tr>\n",
              "  </thead>\n",
              "  <tbody>\n",
              "    <tr>\n",
              "      <th>1</th>\n",
              "      <td>27</td>\n",
              "      <td>0</td>\n",
              "      <td>9</td>\n",
              "      <td>21</td>\n",
              "    </tr>\n",
              "    <tr>\n",
              "      <th>2</th>\n",
              "      <td>9</td>\n",
              "      <td>0</td>\n",
              "      <td>-7</td>\n",
              "      <td>37</td>\n",
              "    </tr>\n",
              "    <tr>\n",
              "      <th>3</th>\n",
              "      <td>-7</td>\n",
              "      <td>21</td>\n",
              "      <td>1</td>\n",
              "      <td>29</td>\n",
              "    </tr>\n",
              "    <tr>\n",
              "      <th>4</th>\n",
              "      <td>1</td>\n",
              "      <td>37</td>\n",
              "      <td>21</td>\n",
              "      <td>0</td>\n",
              "    </tr>\n",
              "    <tr>\n",
              "      <th>5</th>\n",
              "      <td>21</td>\n",
              "      <td>29</td>\n",
              "      <td>39</td>\n",
              "      <td>0</td>\n",
              "    </tr>\n",
              "  </tbody>\n",
              "</table>\n",
              "</div>"
            ],
            "text/plain": [
              "     Start_Inv Receipt Ending_Inv Order\n",
              "Week                                   \n",
              "1           27       0          9    21\n",
              "2            9       0         -7    37\n",
              "3           -7      21          1    29\n",
              "4            1      37         21     0\n",
              "5           21      29         39     0"
            ]
          },
          "metadata": {
            "tags": []
          },
          "execution_count": 5
        }
      ]
    },
    {
      "cell_type": "markdown",
      "metadata": {
        "id": "DAYNaHszpfkl"
      },
      "source": [
        "---\n",
        "### Exercise 4: Combining `DataFrame` objects and plotting data\n",
        "\n",
        "Make a bar graph to visualize the inventory level at the end of each week over the planning horizon. \n",
        "\n",
        "Then, join the two `DataFrame` objects obtained the previous exercises into a single `DataFrame` named `df_inv_policies` and display its first 10 rows. Note that `df_inv_policies` should have 7 columns: `Week` (index column), `'Dem_Scen'`, `'Start_Inv'`, `'Receipt'`, `'Ending_Inv'`, and `'Order'`."
      ]
    },
    {
      "cell_type": "code",
      "metadata": {
        "id": "dc8cUaHupfkm",
        "outputId": "781a36dd-93c8-4fd7-f955-cdf325350252"
      },
      "source": [
        "### start your code here ###\n",
        "\n",
        "inv_pol1[[\"Ending_Inv\"]].plot(kind='bar')   # plotting inv levels\n",
        "\n",
        "df_inv_policies = df_inv.join(inv_pol1)     # joining dataframes\n",
        "df_inv_policies.head()\n",
        "\n",
        "### end your code here ###"
      ],
      "execution_count": null,
      "outputs": [
        {
          "output_type": "execute_result",
          "data": {
            "text/html": [
              "<div>\n",
              "<style scoped>\n",
              "    .dataframe tbody tr th:only-of-type {\n",
              "        vertical-align: middle;\n",
              "    }\n",
              "\n",
              "    .dataframe tbody tr th {\n",
              "        vertical-align: top;\n",
              "    }\n",
              "\n",
              "    .dataframe thead th {\n",
              "        text-align: right;\n",
              "    }\n",
              "</style>\n",
              "<table border=\"1\" class=\"dataframe\">\n",
              "  <thead>\n",
              "    <tr style=\"text-align: right;\">\n",
              "      <th></th>\n",
              "      <th>Dem_Scen</th>\n",
              "      <th>Start_Inv</th>\n",
              "      <th>Receipt</th>\n",
              "      <th>Ending_Inv</th>\n",
              "      <th>Order</th>\n",
              "    </tr>\n",
              "    <tr>\n",
              "      <th>Week</th>\n",
              "      <th></th>\n",
              "      <th></th>\n",
              "      <th></th>\n",
              "      <th></th>\n",
              "      <th></th>\n",
              "    </tr>\n",
              "  </thead>\n",
              "  <tbody>\n",
              "    <tr>\n",
              "      <th>1</th>\n",
              "      <td>18</td>\n",
              "      <td>27</td>\n",
              "      <td>0</td>\n",
              "      <td>9</td>\n",
              "      <td>21</td>\n",
              "    </tr>\n",
              "    <tr>\n",
              "      <th>2</th>\n",
              "      <td>16</td>\n",
              "      <td>9</td>\n",
              "      <td>0</td>\n",
              "      <td>-7</td>\n",
              "      <td>37</td>\n",
              "    </tr>\n",
              "    <tr>\n",
              "      <th>3</th>\n",
              "      <td>13</td>\n",
              "      <td>-7</td>\n",
              "      <td>21</td>\n",
              "      <td>1</td>\n",
              "      <td>29</td>\n",
              "    </tr>\n",
              "    <tr>\n",
              "      <th>4</th>\n",
              "      <td>17</td>\n",
              "      <td>1</td>\n",
              "      <td>37</td>\n",
              "      <td>21</td>\n",
              "      <td>0</td>\n",
              "    </tr>\n",
              "    <tr>\n",
              "      <th>5</th>\n",
              "      <td>11</td>\n",
              "      <td>21</td>\n",
              "      <td>29</td>\n",
              "      <td>39</td>\n",
              "      <td>0</td>\n",
              "    </tr>\n",
              "  </tbody>\n",
              "</table>\n",
              "</div>"
            ],
            "text/plain": [
              "      Dem_Scen Start_Inv Receipt Ending_Inv Order\n",
              "Week                                             \n",
              "1           18        27       0          9    21\n",
              "2           16         9       0         -7    37\n",
              "3           13        -7      21          1    29\n",
              "4           17         1      37         21     0\n",
              "5           11        21      29         39     0"
            ]
          },
          "metadata": {
            "tags": []
          },
          "execution_count": 6
        },
        {
          "output_type": "display_data",
          "data": {
            "image/png": "[encoded data removed]",
            "text/plain": [
              "<Figure size 432x288 with 1 Axes>"
            ]
          },
          "metadata": {
            "tags": [],
            "needs_background": "light"
          }
        }
      ]
    },
    {
      "cell_type": "markdown",
      "metadata": {
        "id": "8FWEsDYepfkm"
      },
      "source": [
        "### Exercise 5: Renaming and combining `DataFrame` objects\n",
        "Use the function created in Exercise 3 to simulate alternative inventory policies. You should implement the three alternative policies indicated in the dictionary `alt_inv_policies` below. The keys of this dictionary are the names given to the policies. The values are lists of two elements, where the first element is $s$ and the second value is $S$. \n",
        "\n",
        "Rename the columns of the `DataFrame` resulting from implementing each alternative policy according to its corresponding name (for example, rename the columns of the `DataFrame` of `P2` as `'P2_Start_Inv'`, `'P2_Receipt'`, `'P2_Ending_Inv'`, and `'P2_Order'`. ). Then, join all these dataframes to your main object `df_inv_policies` created in the previous exercise. "
      ]
    },
    {
      "cell_type": "code",
      "metadata": {
        "scrolled": true,
        "id": "qtrskPRFpfkm",
        "outputId": "f8553d4d-551a-4200-ddca-c2c06cac5b8d"
      },
      "source": [
        "alt_inv_policies = {'P2': [10, 25],\n",
        "                    'P3': [12, 40],\n",
        "                    'P4': [16, 35]}\n",
        "\n",
        "### start your code here ###\n",
        "\n",
        "for i in list(alt_inv_policies.keys()):\n",
        "    new_pol = inv_policy(df_inv, init_inv, lead_time, alt_inv_policies[i][0], alt_inv_policies[i][1])\n",
        "    new_pol.columns = [i+'-'+name for name in new_pol.columns]\n",
        "    df_inv_policies = df_inv_policies.join(new_pol)\n",
        "\n",
        "df_inv_policies.head()\n",
        "### end your code here ###"
      ],
      "execution_count": null,
      "outputs": [
        {
          "output_type": "execute_result",
          "data": {
            "text/html": [
              "<div>\n",
              "<style scoped>\n",
              "    .dataframe tbody tr th:only-of-type {\n",
              "        vertical-align: middle;\n",
              "    }\n",
              "\n",
              "    .dataframe tbody tr th {\n",
              "        vertical-align: top;\n",
              "    }\n",
              "\n",
              "    .dataframe thead th {\n",
              "        text-align: right;\n",
              "    }\n",
              "</style>\n",
              "<table border=\"1\" class=\"dataframe\">\n",
              "  <thead>\n",
              "    <tr style=\"text-align: right;\">\n",
              "      <th></th>\n",
              "      <th>Dem_Scen</th>\n",
              "      <th>Start_Inv</th>\n",
              "      <th>Receipt</th>\n",
              "      <th>Ending_Inv</th>\n",
              "      <th>Order</th>\n",
              "      <th>P2-Start_Inv</th>\n",
              "      <th>P2-Receipt</th>\n",
              "      <th>P2-Ending_Inv</th>\n",
              "      <th>P2-Order</th>\n",
              "      <th>P3-Start_Inv</th>\n",
              "      <th>P3-Receipt</th>\n",
              "      <th>P3-Ending_Inv</th>\n",
              "      <th>P3-Order</th>\n",
              "      <th>P4-Start_Inv</th>\n",
              "      <th>P4-Receipt</th>\n",
              "      <th>P4-Ending_Inv</th>\n",
              "      <th>P4-Order</th>\n",
              "    </tr>\n",
              "    <tr>\n",
              "      <th>Week</th>\n",
              "      <th></th>\n",
              "      <th></th>\n",
              "      <th></th>\n",
              "      <th></th>\n",
              "      <th></th>\n",
              "      <th></th>\n",
              "      <th></th>\n",
              "      <th></th>\n",
              "      <th></th>\n",
              "      <th></th>\n",
              "      <th></th>\n",
              "      <th></th>\n",
              "      <th></th>\n",
              "      <th></th>\n",
              "      <th></th>\n",
              "      <th></th>\n",
              "      <th></th>\n",
              "    </tr>\n",
              "  </thead>\n",
              "  <tbody>\n",
              "    <tr>\n",
              "      <th>1</th>\n",
              "      <td>18</td>\n",
              "      <td>27</td>\n",
              "      <td>0</td>\n",
              "      <td>9</td>\n",
              "      <td>21</td>\n",
              "      <td>27</td>\n",
              "      <td>0</td>\n",
              "      <td>9</td>\n",
              "      <td>16</td>\n",
              "      <td>27</td>\n",
              "      <td>0</td>\n",
              "      <td>9</td>\n",
              "      <td>31</td>\n",
              "      <td>27</td>\n",
              "      <td>0</td>\n",
              "      <td>9</td>\n",
              "      <td>26</td>\n",
              "    </tr>\n",
              "    <tr>\n",
              "      <th>2</th>\n",
              "      <td>16</td>\n",
              "      <td>9</td>\n",
              "      <td>0</td>\n",
              "      <td>-7</td>\n",
              "      <td>37</td>\n",
              "      <td>9</td>\n",
              "      <td>0</td>\n",
              "      <td>-7</td>\n",
              "      <td>32</td>\n",
              "      <td>9</td>\n",
              "      <td>0</td>\n",
              "      <td>-7</td>\n",
              "      <td>47</td>\n",
              "      <td>9</td>\n",
              "      <td>0</td>\n",
              "      <td>-7</td>\n",
              "      <td>42</td>\n",
              "    </tr>\n",
              "    <tr>\n",
              "      <th>3</th>\n",
              "      <td>13</td>\n",
              "      <td>-7</td>\n",
              "      <td>21</td>\n",
              "      <td>1</td>\n",
              "      <td>29</td>\n",
              "      <td>-7</td>\n",
              "      <td>16</td>\n",
              "      <td>-4</td>\n",
              "      <td>29</td>\n",
              "      <td>-7</td>\n",
              "      <td>31</td>\n",
              "      <td>11</td>\n",
              "      <td>29</td>\n",
              "      <td>-7</td>\n",
              "      <td>26</td>\n",
              "      <td>6</td>\n",
              "      <td>29</td>\n",
              "    </tr>\n",
              "    <tr>\n",
              "      <th>4</th>\n",
              "      <td>17</td>\n",
              "      <td>1</td>\n",
              "      <td>37</td>\n",
              "      <td>21</td>\n",
              "      <td>0</td>\n",
              "      <td>-4</td>\n",
              "      <td>32</td>\n",
              "      <td>11</td>\n",
              "      <td>0</td>\n",
              "      <td>11</td>\n",
              "      <td>47</td>\n",
              "      <td>41</td>\n",
              "      <td>0</td>\n",
              "      <td>6</td>\n",
              "      <td>42</td>\n",
              "      <td>31</td>\n",
              "      <td>0</td>\n",
              "    </tr>\n",
              "    <tr>\n",
              "      <th>5</th>\n",
              "      <td>11</td>\n",
              "      <td>21</td>\n",
              "      <td>29</td>\n",
              "      <td>39</td>\n",
              "      <td>0</td>\n",
              "      <td>11</td>\n",
              "      <td>29</td>\n",
              "      <td>29</td>\n",
              "      <td>0</td>\n",
              "      <td>41</td>\n",
              "      <td>29</td>\n",
              "      <td>59</td>\n",
              "      <td>0</td>\n",
              "      <td>31</td>\n",
              "      <td>29</td>\n",
              "      <td>49</td>\n",
              "      <td>0</td>\n",
              "    </tr>\n",
              "  </tbody>\n",
              "</table>\n",
              "</div>"
            ],
            "text/plain": [
              "      Dem_Scen Start_Inv Receipt Ending_Inv Order P2-Start_Inv P2-Receipt  \\\n",
              "Week                                                                        \n",
              "1           18        27       0          9    21           27          0   \n",
              "2           16         9       0         -7    37            9          0   \n",
              "3           13        -7      21          1    29           -7         16   \n",
              "4           17         1      37         21     0           -4         32   \n",
              "5           11        21      29         39     0           11         29   \n",
              "\n",
              "     P2-Ending_Inv P2-Order P3-Start_Inv P3-Receipt P3-Ending_Inv P3-Order  \\\n",
              "Week                                                                         \n",
              "1                9       16           27          0             9       31   \n",
              "2               -7       32            9          0            -7       47   \n",
              "3               -4       29           -7         31            11       29   \n",
              "4               11        0           11         47            41        0   \n",
              "5               29        0           41         29            59        0   \n",
              "\n",
              "     P4-Start_Inv P4-Receipt P4-Ending_Inv P4-Order  \n",
              "Week                                                 \n",
              "1              27          0             9       26  \n",
              "2               9          0            -7       42  \n",
              "3              -7         26             6       29  \n",
              "4               6         42            31        0  \n",
              "5              31         29            49        0  "
            ]
          },
          "metadata": {
            "tags": []
          },
          "execution_count": 7
        }
      ]
    },
    {
      "cell_type": "markdown",
      "metadata": {
        "id": "15JyKQp2pfkn"
      },
      "source": [
        "Create one bar graph to visualize the inventory level of `P2`and `P3` at the end of each week over the planning horizon. What can you conclude about these two policies based on this data visualization?"
      ]
    },
    {
      "cell_type": "code",
      "metadata": {
        "id": "7274yjEupfko",
        "outputId": "97222e52-22bc-4eb9-85bf-419b8e266fa7"
      },
      "source": [
        "### start your code here ###\n",
        "df_inv_policies[['P2-Ending_Inv','P3-Ending_Inv']].plot(kind='bar')\n",
        "### end your code here ###"
      ],
      "execution_count": null,
      "outputs": [
        {
          "output_type": "execute_result",
          "data": {
            "text/plain": [
              "<AxesSubplot:xlabel='Week'>"
            ]
          },
          "metadata": {
            "tags": []
          },
          "execution_count": 8
        },
        {
          "output_type": "display_data",
          "data": {
            "image/png": "[encoded data removed]",
            "text/plain": [
              "<Figure size 432x288 with 1 Axes>"
            ]
          },
          "metadata": {
            "tags": [],
            "needs_background": "light"
          }
        }
      ]
    },
    {
      "cell_type": "code",
      "metadata": {
        "id": "tzVLZIcMpfkp"
      },
      "source": [
        ""
      ],
      "execution_count": null,
      "outputs": []
    }
  ]
}