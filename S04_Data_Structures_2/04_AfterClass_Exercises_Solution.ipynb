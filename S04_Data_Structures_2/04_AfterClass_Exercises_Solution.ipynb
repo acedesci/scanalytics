{
 "cells": [
  {
   "cell_type": "markdown",
   "metadata": {
    "id": "baCCKjGsTSa3"
   },
   "source": [
    "# S04 - After-class Exercises: Python Data Structures II and SCM examples (Solution)\n",
    "\n",
    "---\n",
    "## Instructions\n",
    "\n",
    "Most of the exercises presented here allows you to practice basic Python programming for some applications in Operations Management and Logistics. \n",
    "\n",
    "For each exercise, you have a code cell for the response underneath it, where you should write your answer between the lines containing `### start your code here ###`  and `### end your code here ###`. Your code can contain one or more lines and you can execute this cell in order to complete the exercise. To execute the cell, you can type `Shift+Enter` or press the play button in the toolbar above. Your results will appear right below this response cell.\n",
    "\n",
    "**NOTE:** Please pay attention to the variable name of the output you need to provide under each question. You must use the same variable name for the output so that the result can be printed out correctly."
   ]
  },
  {
   "cell_type": "markdown",
   "metadata": {
    "id": "lljX7N2kk-kC"
   },
   "source": [
    "In session 2, we have defined the following two functions for Bass diffusion model:\n",
    "\n",
    "<blockquote>\n",
    "The cumulative number of adoptors (people who bought/adopted the product) $S(t)$ from the beginning (time 0) to time $t$ is described by $S(t) = m\\times F(t)$ where $m$ is the market size (the estimated total number of potential customers) and $F(t)$ is the <i>cumulative</i> probability that an individual (potential customer) has already adopted the product by time $t$ (which needs to be calculated). \n",
    "We can obtain $F(t)$ as a function of $p$ and $q$ as follows:\n",
    "\n",
    "$$F(t) = \\frac{1-e^{-(p+q)t}}{1+\\frac{q}{p}e^{-(p+q)t}} $$\n",
    "\n",
    "where \n",
    "<br /> \n",
    "* $p$ is the coefficiant of innovation\n",
    "<br /> \n",
    "* $q$ is the coefficient of imitation\n",
    "<br /> \n",
    "\n",
    "In addition, the probability of adoption by an individual at time $t$ which is represented by $f(t)$ (recall that $f(t) = \\frac{d}{dt}F(t)$) can be calculated as follows: \n",
    "\n",
    "$$f(t) = \\frac{d}{dt}F(t) = \\frac{e^{((p+q)t)}p(p+q)^2}{[pe^{((p+q)t)}+q]^2} $$.\n",
    "\n",
    "Consequently, the estimated number of adoptions in each period can be calculated as  $s(t) = m\\times f(t)$\n",
    "\n",
    "</blockquote>\n",
    "\n",
    "We have then prepared the following two functions to calculate $F(t)$ and $f(t)$."
   ]
  },
  {
   "cell_type": "code",
   "execution_count": null,
   "metadata": {
    "id": "WCZ1wOa7Rcye"
   },
   "outputs": [],
   "source": [
    "import math\n",
    "def Bass_cumulative_probability_Ft(p, q, t):\n",
    "    return (1-math.exp(-(p+q)*t))/(1+(q/p)*math.exp(-(p+q)*t))\n",
    "\n",
    "def Bass_probability_ft(p, q, t):\n",
    "    return (math.exp((p+q)*t)*p*(p+q)**2)/(p*math.exp((p+q)*t)+q)**2"
   ]
  },
  {
   "cell_type": "markdown",
   "metadata": {
    "id": "l6zE6dpvs-u2"
   },
   "source": [
    "Based on the values of $p$, $q$ and $m$ of the quarterly sales of iPhone provided in the code cell below, please compute the values of the estimated probability of adoption $f(t)$, cumulative probability of adoption $F(t)$, the number of adoptions $s(t) = m\\times f(t)$, and cumulative number of adoptions $S(t) = m\\times F(t)$ for each quarter, which is indexed by $t$. Note that the first column below is an index whereas the subsequent four columns contain the corresponding values of the estimations based on Bass diffusion model.\n",
    "\n",
    "\n",
    "|Quarter_Index| ft | Ft| st | St | \n",
    "| :- | :- | :- | :- | :- | \n",
    "|...| ... |...| ... |...|\n",
    "\n",
    "The parameters $m$, $p$ and $q$ of the Bass model for iPhone were obtained from the paper below (note that we will also review how we can obtain such parameters using the regression later in the course).\n",
    "> Ashokan, R., Zenarosa, G. L., & He, X. (2018). Diffusion model for the adoption of smartphone brands under competitive pricing. Int. J. Trade Econ. Finan, 9(3), 96-99.\n",
    "\n",
    "**Question 1**: Please compute the values as indicated in the table above for the first 40 quarters of the sales (i.e., 10 years) using the parameters provided. The index of the quarter must be from $0 \\rightarrow 39$ (i.e., the first quarter is considered period $t=0$)."
   ]
  },
  {
   "cell_type": "code",
   "execution_count": null,
   "metadata": {
    "id": "weo_MguSwfeq"
   },
   "outputs": [],
   "source": [
    "m = 1650.041 # this corresponds to the value 1650.041×10^6, i.e., the market size is 1.65 billion\n",
    "p = 0.002493\n",
    "q = 0.132501"
   ]
  },
  {
   "cell_type": "code",
   "execution_count": null,
   "metadata": {
    "id": "vk7Qfr38mtko"
   },
   "outputs": [],
   "source": [
    "import pandas as pd\n",
    "column_names = ['ft','Ft','st','St']\n",
    "quarter_index = list(range(40))\n",
    "bass_df = pd.DataFrame(index = quarter_index, columns = column_names)\n",
    "bass_df.index.name = 'Quarter'\n",
    "\n",
    "### start your code here ###\n",
    "bass_df['ft'] = [Bass_probability_ft(p, q, t) for t in bass_df.index]\n",
    "bass_df['Ft'] = [Bass_cumulative_probability_Ft(p, q, t) for t in bass_df.index]\n",
    "bass_df['st'] = [m*bass_df.at[t,'ft'] for t in bass_df.index]\n",
    "bass_df['St'] = [m*bass_df.at[t,'Ft'] for t in bass_df.index]\n",
    "### end your code here ###\n",
    "\n",
    "bass_df"
   ]
  },
  {
   "cell_type": "markdown",
   "metadata": {
    "id": "wqXtek3HTVNc"
   },
   "source": [
    "\n",
    "**Question 2**: Please (i) plot the columns `['ft','Ft']` in a single plot using line plot (parameter `kind='line'`) and (ii) plot the columns `['st','St']` in a single plot using bar plot (parameter `kind='bar'`). You can also indicate the plot size using the parameter `figsize = (12,4)`."
   ]
  },
  {
   "cell_type": "code",
   "execution_count": null,
   "metadata": {
    "id": "qLljeugk0Kw-"
   },
   "outputs": [],
   "source": [
    "### start your code here ###\n",
    "bass_df[['ft','Ft']].plot(figsize = (12,4))\n",
    "bass_df[['st','St']].plot(kind = 'bar', figsize = (12,4))\n",
    "### end your code here ###"
   ]
  },
  {
   "cell_type": "markdown",
   "metadata": {
    "id": "EV0EufpdbPJD"
   },
   "source": [
    "Now we can compare the results with the actual quarterly sales of iPhone for the first 40 quarters (starting from Q2 2007 which the product was first introduced). The data has been made available in the URL below (in csv format) which we can download to DataFrame."
   ]
  },
  {
   "cell_type": "code",
   "execution_count": null,
   "metadata": {
    "id": "tJYUt2zf2hwW"
   },
   "outputs": [],
   "source": [
    "url = 'https://raw.githubusercontent.com/acedesci/scanalytics/master/S04_Data_Structures_2/iphone_quarter_sales.csv'\n",
    "actual_sales = pd.read_csv(url, index_col='Quarter')\n",
    "actual_sales.head()\n",
    "\n"
   ]
  },
  {
   "cell_type": "markdown",
   "metadata": {
    "id": "c2G43F9gaHiS"
   },
   "source": [
    "**Question 3**: Please add the following columns and their corresponding values to the `bass_df` DataFrame\n",
    "\n",
    "\n",
    "*   Column `'Actual'`: which contains the actual sales from the DataFrame `actual_sales`\n",
    "*   Column `'CumulativeActual'`: which calculates the sum from the first quarter up until each quater in the index\n",
    "*   Column `'PError'`: which calculates the percentage error of each corresponding quarter from column `'Actual'` and column `'st'` (estimated sales in each quarter), i.e., `PError = (Actual-st)/st`\n",
    "\n"
   ]
  },
  {
   "cell_type": "code",
   "execution_count": null,
   "metadata": {
    "id": "FaoMpo_TaFYl"
   },
   "outputs": [],
   "source": [
    "### start your code here ###\n",
    "bass_df['Actual'] = actual_sales['Sales']\n",
    "bass_df['CumulativeActual'] = [sum(actual_sales.loc[:t,'Sales']) for t in actual_sales['Sales'].index]\n",
    "bass_df['PError'] = (bass_df['Actual'] - bass_df['st'])/bass_df['Actual']\n",
    "### end your code here ###\n",
    "bass_df"
   ]
  },
  {
   "cell_type": "markdown",
   "metadata": {
    "id": "s4qiBovTtobr"
   },
   "source": [
    "We can also generate the date of the last day of each quarter using the code below. This list will be later used as new indexes."
   ]
  },
  {
   "cell_type": "code",
   "execution_count": null,
   "metadata": {
    "id": "eJnh5ARpm8D0"
   },
   "outputs": [],
   "source": [
    "quarter_index_date = pd.date_range('4/1/2007', periods=40, freq='Q')\n",
    "quarter_index_date\n"
   ]
  },
  {
   "cell_type": "markdown",
   "metadata": {
    "id": "7GEww6Fph65y"
   },
   "source": [
    "**Question 4**: Please (i) replace the original indexes using the newly created list `quarter_index_date` and (ii) then create the following plots from the DataFrame `bass_df` using the size `figsize=(12,4)`:\n",
    "\n",
    "\n",
    "*   Columns `['St','CumulativeActual']` using a line plot\n",
    "*   Columns `['st','Actual']` using a line plot\n",
    "*   Column `['PError']` using a bar plot\n",
    "\n",
    "**Hint**: you can use the method `.set_index(...)` by calling `bass_df =  bass_df.set_index(new_index_list, index_name)` to set the index (see [link](https://www.w3resource.com/pandas/dataframe/dataframe-set_index.php))\n",
    "\n"
   ]
  },
  {
   "cell_type": "code",
   "execution_count": null,
   "metadata": {
    "id": "f5tkpswYh5uO"
   },
   "outputs": [],
   "source": [
    "### start your code here ###\n",
    "bass_df = bass_df.set_index(quarter_index_date, 'Quarter')\n",
    "bass_df[['St','CumulativeActual']].plot(figsize=(12,4))\n",
    "bass_df[['st','Actual']].plot(figsize=(12,4))\n",
    "bass_df[['PError']].plot(kind='bar',figsize=(12,4))\n",
    "### end your code here ###"
   ]
  }
 ],
 "metadata": {
  "colab": {
   "authorship_tag": "ABX9TyMEq55tbYPmbAB8bHi/IENn",
   "include_colab_link": true,
   "name": "S04_AfterClass_Exercises_DataFrame_Solution.ipynb",
   "provenance": []
  },
  "kernelspec": {
   "display_name": "Python 3 (ipykernel)",
   "language": "python",
   "name": "python3"
  },
  "language_info": {
   "codemirror_mode": {
    "name": "ipython",
    "version": 3
   },
   "file_extension": ".py",
   "mimetype": "text/x-python",
   "name": "python",
   "nbconvert_exporter": "python",
   "pygments_lexer": "ipython3",
   "version": "3.8.8"
  },
  "toc": {
   "base_numbering": 1,
   "nav_menu": {},
   "number_sections": true,
   "sideBar": true,
   "skip_h1_title": false,
   "title_cell": "Table of Contents",
   "title_sidebar": "Contents",
   "toc_cell": false,
   "toc_position": {},
   "toc_section_display": true,
   "toc_window_display": true
  }
 },
 "nbformat": 4,
 "nbformat_minor": 1
}
