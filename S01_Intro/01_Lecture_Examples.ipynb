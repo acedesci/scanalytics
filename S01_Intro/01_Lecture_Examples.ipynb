{
  "nbformat": 4,
  "nbformat_minor": 0,
  "metadata": {
    "kernelspec": {
      "display_name": "Python 3",
      "language": "python",
      "name": "python3"
    },
    "language_info": {
      "codemirror_mode": {
        "name": "ipython",
        "version": 3
      },
      "file_extension": ".py",
      "mimetype": "text/x-python",
      "name": "python",
      "nbconvert_exporter": "python",
      "pygments_lexer": "ipython3",
      "version": "3.7.6"
    },
    "colab": {
      "name": "01_Lecture_Examples.ipynb",
      "provenance": [],
      "include_colab_link": true
    }
  },
  "cells": [
    {
      "cell_type": "markdown",
      "metadata": {
        "id": "view-in-github",
        "colab_type": "text"
      },
      "source": [
        "<a href=\"https://colab.research.google.com/github/acedesci/scanalytics/blob/master/S01_Intro/01_Lecture_Examples.ipynb\" target=\"_parent\"><img src=\"https://colab.research.google.com/assets/colab-badge.svg\" alt=\"Open In Colab\"/></a>"
      ]
    },
    {
      "cell_type": "markdown",
      "metadata": {
        "id": "S2Q5y_D6ULI8"
      },
      "source": [
        "# S1 Python Basics "
      ]
    },
    {
      "cell_type": "markdown",
      "metadata": {
        "id": "dOPDbmdOULJB"
      },
      "source": [
        "## Variable Declaration and Operations"
      ]
    },
    {
      "cell_type": "markdown",
      "metadata": {
        "id": "ju_uLGptULJC"
      },
      "source": [
        "### Example 1: Variables Declaration"
      ]
    },
    {
      "cell_type": "markdown",
      "metadata": {
        "id": "7ulKW6ogULJC"
      },
      "source": [
        "Use a variable of type integer (`int`), a variable of type float (`float`), and a variable of type string (`str`)."
      ]
    },
    {
      "cell_type": "code",
      "metadata": {
        "id": "TTuQKK3bULJD"
      },
      "source": [
        "# declaring variables\n",
        "int_var = 552\n",
        "float_var = 3.141592\n",
        "str_var = 'Supply Chain Analytics'\n",
        "\n",
        "print(\"Value of variable 'int_var':\", int_var, \", Type: \", type(int_var))\n",
        "print(\"Value of variable 'float_var':\", float_var, \", Type: \", type(float_var))\n",
        "print(\"Value of variable 'str_var':\", str_var, \", Type: \", type(str_var))"
      ],
      "execution_count": null,
      "outputs": []
    },
    {
      "cell_type": "markdown",
      "metadata": {
        "id": "iFnhHHE5ULJE"
      },
      "source": [
        "### Example 2:  Unit Production Cost"
      ]
    },
    {
      "cell_type": "markdown",
      "metadata": {
        "id": "6_pg7C7uULJE"
      },
      "source": [
        "Unit cost is determined by combining the variable costs and fixed costs and dividing by the total number of units produced. Assuming total fixed cost is $\\$40,000$, the total variable cost is $\\$20,000$ and you produced $30,000$ units, please calculate the unit production cost."
      ]
    },
    {
      "cell_type": "code",
      "metadata": {
        "id": "xgDSvP7nULJF"
      },
      "source": [
        "# declaring variables\n",
        "fixed_cost = 40000\n",
        "variable_cost = 2000\n",
        "total_prod = 30000\n",
        "\n",
        "# computing unit cost\n",
        "unit_cost = (fixed_cost +  variable_cost)/total_prod\n",
        "\n",
        "print('Unit production cost is: ', unit_cost)"
      ],
      "execution_count": null,
      "outputs": []
    },
    {
      "cell_type": "markdown",
      "metadata": {
        "id": "SoSJPAjNULJF"
      },
      "source": [
        "### Example 3:  EOQ"
      ]
    },
    {
      "cell_type": "markdown",
      "metadata": {
        "id": "nikAsR7-ULJG"
      },
      "source": [
        "Economic order quantity (EOQ) is the ideal order quantity a company should purchase to minimize inventory costs such as holding costs, shortage costs, and order costs."
      ]
    },
    {
      "cell_type": "markdown",
      "metadata": {
        "id": "r3x6Uf68ULJG"
      },
      "source": [
        "<img src=\"https://raw.githubusercontent.com/acedesci/scanalytics/master/S01_Intro/EOQ-4.png\"  width=\"600\"/>"
      ]
    },
    {
      "cell_type": "markdown",
      "metadata": {
        "id": "Zr0bJDMHULJH"
      },
      "source": [
        "The EOQ is computed as follows:\n",
        "$$ EOQ=\\sqrt{\\frac{2DO}{H}}$$\n",
        "\n",
        "- $D$: total annual demand, i.e., the quantity of the product that is used each year;\n",
        "- $H$: holding cost per unit, i.e., the cost of carrying one unit of the product per year;\n",
        "- $O$: fixed cost per order, i.e., the cost of placing an order."
      ]
    },
    {
      "cell_type": "code",
      "metadata": {
        "id": "QC30694kULJH"
      },
      "source": [
        "# declaring variables\n",
        "D = 20000   # annual demand\n",
        "H = 5       # unit holding cost\n",
        "O = 30      # fixed ordering cost\n",
        "\n",
        "# computing EOQ\n",
        "EOQ = ((2 * D * O) / H)**(1/2)\n",
        "print('The economic order quantity is: ', EOQ)"
      ],
      "execution_count": null,
      "outputs": []
    },
    {
      "cell_type": "code",
      "metadata": {
        "id": "XFy-sUdlULJH"
      },
      "source": [
        ""
      ],
      "execution_count": null,
      "outputs": []
    }
  ]
}