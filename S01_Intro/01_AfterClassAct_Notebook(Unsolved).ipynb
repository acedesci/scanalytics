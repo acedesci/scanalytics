{
 "cells": [
  {
   "cell_type": "markdown",
   "metadata": {},
   "source": [
    "# S1 After-class Exercises: Python Basics "
   ]
  },
  {
   "cell_type": "markdown",
   "metadata": {},
   "source": [
    "---\n",
    "## Instructions:\n",
    "<div class=\"alert alert-block alert-warning\">\n",
    "\n",
    "> Most of the exercises presented here allows you to practice notions applied to Operations Management and Logistics. \n",
    ">\n",
    "> For each exercise, you have a response cell, where you should write your answer between the lines containing `### start your code here ###`  and `### end your code here ###`. You should write a piece of code in the response cell, which can consist of one or more lines, and execute this cell in order to complete the exercise. To execute the cell, you can type `Shift+Enter` or press the play button in the toolbar above. Your results will appear right below this response cell."
   ]
  },
  {
   "cell_type": "markdown",
   "metadata": {},
   "source": [
    "---\n",
    "##  Variable Declaration and Operations"
   ]
  },
  {
   "cell_type": "markdown",
   "metadata": {},
   "source": [
    "> Values and variables can be manipulated using operators. Operators are symbols that perform operations on values. You can look at [this page](https://www.w3schools.com/python/python_operators.asp) for more information about operators in general.\n",
    "> \n",
    "> The arithmetic operators are the most common type of operators, so we will see how to use them to manipulate numbers. In these exercises you will use arithmetic operators with numeric values to perform common mathematical operations.\n",
    "> \n",
    "> For each exercise, use the arithmetic operators (`+`, `-`,` * `,` / `)."
   ]
  },
  {
   "cell_type": "markdown",
   "metadata": {},
   "source": [
    "---\n",
    "## Computing EOQ and Total Costs\n",
    "\n",
    "Last year, a supermarket sold $150000$ packages of $5$ Kg brown rice, and it is forecast that sales of this product will increase $10\\%$ this year. The current price of the $5$ Kg package of brown rice is $\\$14.65$. The acquisition cost of this product is $\\$5.3$. The supermarket has calculated that the ordering cost is $\\$45$ per order and that the unit inventory cost is $22\\%$ of the acquisition cost."
   ]
  },
  {
   "cell_type": "markdown",
   "metadata": {},
   "source": [
    "### Exercise 1: Annual Demand\n",
    "Compute the annual demand for this year and assign this value to variable `annual_dem`."
   ]
  },
  {
   "cell_type": "code",
   "execution_count": null,
   "metadata": {},
   "outputs": [],
   "source": [
    "### start your code here ###\n",
    "\n",
    "\n",
    "### end your code here ####\n",
    "\n",
    "print('The annual demand for this year is: ', annual_demand)"
   ]
  },
  {
   "cell_type": "markdown",
   "metadata": {},
   "source": [
    "### Exercise 2: Unit Inventory Cost\n",
    "Compute the unit inventory holding cost and assign this value to variable `inv_cost`."
   ]
  },
  {
   "cell_type": "code",
   "execution_count": null,
   "metadata": {},
   "outputs": [],
   "source": [
    "### start your code here ###\n",
    "\n",
    "\n",
    "### end your code here ####\n",
    "print('The unit inventory holding cost is: ', inv_cost)"
   ]
  },
  {
   "cell_type": "markdown",
   "metadata": {},
   "source": [
    "### Exercise 3: EOQ\n",
    "Compute the economic order quantity ($EOQ$) for $5$ Kg packages of brown rice and assign this value to the variable `eoq_rice`. \n",
    "\n",
    "<div class=\"alert alert-block alert-info\">\n",
    "Recall that the $EOQ$ is computed as follows:\n",
    "\n",
    "$$ EOQ=\\sqrt{\\frac{2DS}{H}}$$\n",
    "\n",
    "- $D$: total annual demand, i.e., the quantity of the product that is used each year;\n",
    "- $H$: holding cost per unit, i.e., the cost of carrying one unit of the product per year;\n",
    "- $S$: fixed cost per order, i.e., the cost of placing an order."
   ]
  },
  {
   "cell_type": "code",
   "execution_count": null,
   "metadata": {},
   "outputs": [],
   "source": [
    "### start your code here ###\n",
    "\n",
    "\n",
    "\n",
    "### end your code here ####\n",
    "print('The EOQ for 5 Kg packages of brown rice is: ', eoq_rice)"
   ]
  },
  {
   "cell_type": "markdown",
   "metadata": {},
   "source": [
    "### Exercise 4: Total Ordering Costs\n",
    "Compute the number of orders to place over this year using the variables `annual_demand` and  `eoq_rice` from the previous exercises and assign this value to variable `n_orders`. Use `n_orders` to compute the the total ordering costs and assign this value to variable `total_ord_costs`.\n",
    "\n",
    "<div class=\"alert alert-block alert-info\">\n",
    "Recall that the total ordering cost is computed as below, where $Q$ is the order quantity and  $D/Q$ is the number of orders to place over the year.\n",
    "\n",
    "$$ Total\\, ordering\\, costs= S\\left(\\frac{D}{Q}\\right)$$"
   ]
  },
  {
   "cell_type": "code",
   "execution_count": null,
   "metadata": {},
   "outputs": [],
   "source": [
    "### start your code here ###\n",
    "\n",
    "\n",
    "\n",
    "### end your code here ####\n",
    "\n",
    "print('The number of order to place is: ', n_orders)\n",
    "print('The total ordering cost is : ', total_ord_costs)"
   ]
  },
  {
   "cell_type": "markdown",
   "metadata": {},
   "source": [
    "### Exercise 5: Total Costs\n",
    "\n",
    "Compute the total costs assuming that the order quantity is `eoq_rice` and there is no safety stock. Assign this value to variable `total_costs`.\n",
    "\n",
    "<div class=\"alert alert-block alert-info\">\n",
    "Recall that total costs are computed as follows:\n",
    "\n",
    "$$TC=PD + S\\left(\\frac{D}{Q}\\right) + H\\left(\\frac{Q}{2}+ss\\right)$$\n",
    "\n",
    "- $TC$: total annual cost;\n",
    "- $P$: purchase unit price;\n",
    "- $D$: annual demand;\n",
    "- $S$: fixed cost per order;\n",
    "- $Q$:  order quantity;\n",
    "- $H$: unit inventory holding cost;\n",
    "- $ss$: safety stock."
   ]
  },
  {
   "cell_type": "code",
   "execution_count": null,
   "metadata": {},
   "outputs": [],
   "source": [
    "### start your code here ###\n",
    "\n",
    "\n",
    "\n",
    "### end your code here ####\n",
    "\n",
    "print('Total costs : ', total_costs)"
   ]
  },
  {
   "cell_type": "code",
   "execution_count": null,
   "metadata": {},
   "outputs": [],
   "source": []
  }
 ],
 "metadata": {
  "kernelspec": {
   "display_name": "Python 3",
   "language": "python",
   "name": "python3"
  },
  "language_info": {
   "codemirror_mode": {
    "name": "ipython",
    "version": 3
   },
   "file_extension": ".py",
   "mimetype": "text/x-python",
   "name": "python",
   "nbconvert_exporter": "python",
   "pygments_lexer": "ipython3",
   "version": "3.7.6"
  }
 },
 "nbformat": 4,
 "nbformat_minor": 4
}
