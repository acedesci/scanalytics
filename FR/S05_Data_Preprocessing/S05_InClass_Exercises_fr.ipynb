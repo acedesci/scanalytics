{
  "cells": [
    {
      "cell_type": "markdown",
      "metadata": {
        "id": "jIkMaeo-963Z"
      },
      "source": [
        "# S05 - Exercices en classe/après-classe : Prétraitement et exploration des données\n",
        "\n",
        "## Instructions\n",
        "Pour chaque exercice, vous avez une cellule de code pour la réponse en dessous, où vous devez écrire votre réponse entre les lignes contenant `### commencez votre code ici ###` et `### terminez votre code ici ###`. Votre code peut contenir une ou plusieurs lignes et vous pouvez exécuter cette cellule afin de terminer l'exercice. Pour exécuter la cellule, vous pouvez taper `Shift+Enter` ou appuyer sur le bouton de lecture dans la barre d'outils ci-dessus. Vos résultats apparaîtront juste en dessous de cette cellule de réponse."
      ]
    },
    {
      "cell_type": "code",
      "execution_count": null,
      "metadata": {},
      "outputs": [],
      "source": [
        "import math\n",
        "\n",
        "import numpy as np\n",
        "import pandas as pd"
      ]
    },
    {
      "cell_type": "markdown",
      "metadata": {
        "id": "Cdi17eV1963h"
      },
      "source": [
        "## Importation de données\n",
        "Dans cet exercice, nous allons explorer un ensemble adapté de données qui fournit des informations sur le nombre de patients en attente et la durée d'attente à la fin de chaque trimestre, pour les admissions en hospitalisation et en hôpital de jour chez *Health and Social Care (HSC) Trusts* en Irlande du Nord. Les données sont présentées par centre de soins, spécialité, programme de soins et tranche horaire. Les données originales sont accessibles à [cette page](https://data.world/datagov-uk/a593a0b3-29ef-48f2-b2b2-ceb83d841a3c).\n",
        "\n",
        "Ceci est une description des colonnes de nos données adaptées dans le fichier CSV `day-case-waiting-times.csv`.\n",
        "\n",
        "| NOM DE LA VARIABLE | DESCRIPTION |  \n",
        "|:----|:----|  \n",
        "|quarter_ending| date de rapport pour chaque trimestre |  \n",
        "|HSC_trust| Health and Social Care (HSC) Trusts |  \n",
        "|specialty| spécialité du HSC (par exemple, urologie, chirurgie générale, chirurgie plastique) |  \n",
        "|program| programme de soins (par exemple, santé mentale, services aigus) |  \n",
        "|0-6_weeks| nombre de patients qui attendent entre (0, 6] semaines durant le trimestre correspondant |  \n",
        "|>6-13_weeks| nombre de patients qui attendent entre (6, 13] semaines durant le trimestre correspondant |  \n",
        "|>13-21_weeks| nombre de patients qui attendent entre (13, 21] semaines durant le trimestre correspondant |  \n",
        "|>21-26_weeks| nombre de patients qui attendent entre (21, 26] semaines durant le trimestre correspondant |  \n",
        "|>26-52_weeks| nombre de patients qui attendent entre (26, 52] semaines durant le trimestre correspondant |  \n",
        "|>52_weeks| nombre de patients qui attendent plus de 52 semaines durant le trimestre correspondant |  \n",
        "|>26-30_weeks| nombre de patients qui attendent entre (26, 30] semaines durant le trimestre correspondant |\n",
        "\n",
        "Importez le fichier de données  `day-case-waiting-times.csv` dans un `DataFrame` nommé `df_WT`. Affichez les 5 premières lignes de votre `DataFrame`.\n",
        "\n",
        "**Astuce** : vous pouvez utiliser la fonction `pd.read_csv()`."
      ]
    },
    {
      "cell_type": "code",
      "execution_count": null,
      "metadata": {
        "colab": {
          "base_uri": "https://localhost:8080/",
          "height": 206
        },
        "id": "_fF7rQuT963h",
        "outputId": "b19aa9c4-ec5e-4df4-c8f9-07edde9851aa",
        "scrolled": true
      },
      "outputs": [],
      "source": [
        "url = 'https://raw.githubusercontent.com/acedesci/scanalytics/master/data/day-case-waiting-times.csv'\n",
        "\n",
        "### commencez votre code ici ###\n",
        "\n",
        "### terminez votre code ici ###\n",
        "\n",
        "df_WT.head()"
      ]
    },
    {
      "cell_type": "markdown",
      "metadata": {
        "id": "NS4j2zxB963q"
      },
      "source": [
        "## Prétraitement des données et valeurs manquantes\n",
        "### Exercice 1 : Modification des types de données des colonnes\n",
        "Jetez un œil au type de données dans votre `DataFrame`. La colonne `quarter_ending` doit être de type `datetime64`, et toutes les colonnes de `0-6_weeks` à `>26-30_weeks` doivent être numériques (float ou int), car elles représentent le nombre de patients dont les temps d'attente se situaient dans les intervalles correspondants. Dans ce cas, le nombre flottant est requis si la colonne contient la valeur `NaN`.\n",
        "\n",
        "Vos colonnes sont-elles du bon type ? Si ce n'est pas le cas, convertissez les données au bon format.\n",
        "\n",
        "**Astuce 1 :** Vous pouvez utiliser les fonctions `pd.to_numeric()`, `pd.to_datetime()` et/ou la méthode `.astype()`.\n",
        "\n",
        "**Astuce 2 :** Nous pouvons nous assurer que (i) une valeur non numérique sera définie comme `NaN` en utilisant l'argument `errors='coerce'`, et (ii) le type numérique est float en utilisant le paramètre `downcast='float'` dans `pd.to_numeric(column_series, errors='coerce', downcast='float')`.\n",
        "\n",
        "Plus de détails peuvent être trouvés sur [cette page](https://pandas.pydata.org/pandas-docs/stable/reference/api/pandas.to_numeric.html)."
      ]
    },
    {
      "cell_type": "code",
      "execution_count": null,
      "metadata": {
        "colab": {
          "base_uri": "https://localhost:8080/"
        },
        "id": "WPC59qjd963r",
        "outputId": "e0f5716b-e854-410b-be72-c7072bcf1508",
        "scrolled": true
      },
      "outputs": [],
      "source": [
        "df_WT.dtypes"
      ]
    },
    {
      "cell_type": "code",
      "execution_count": null,
      "metadata": {
        "colab": {
          "base_uri": "https://localhost:8080/"
        },
        "id": "ooEtfnHy963r",
        "outputId": "196eea5d-cc95-4871-860f-b88d60ae497f",
        "scrolled": true
      },
      "outputs": [],
      "source": [
        "### commencez votre code ici ###\n",
        "\n",
        "### terminez votre code ici ###\n",
        "\n",
        "df_WT.dtypes"
      ]
    },
    {
      "cell_type": "markdown",
      "metadata": {
        "id": "sdN2z8IY963r"
      },
      "source": [
        "### Exercice 2 : Valeurs manquantes\n",
        "Jetez un œil aux valeurs manquantes dans votre `DataFrame`. Implémentez une ligne de code qui affiche le nombre total de valeurs manquantes dans chaque colonne."
      ]
    },
    {
      "cell_type": "code",
      "execution_count": null,
      "metadata": {
        "colab": {
          "base_uri": "https://localhost:8080/"
        },
        "id": "BT3f20sr963r",
        "outputId": "fd05356f-1cc5-438b-ae5e-638ec438c1d8"
      },
      "outputs": [],
      "source": [
        "### commencez votre code ici ###\n",
        "\n",
        "### terminez votre code ici ###"
      ]
    },
    {
      "cell_type": "markdown",
      "metadata": {
        "id": "0ve7iOhV963s"
      },
      "source": [
        "Supposons que les valeurs manquantes peuvent apparaître lorsque les données ne sont pas disponibles. Ainsi, dans ce cas de valeurs manquantes, le nombre de patients avec des temps d'attente dans l'un des intervalles spécifiés par les colonnes de notre `DataFrame` est égal à 0. Nous pouvons remplacer les valeurs numériques manquantes par 0.\n",
        "\n",
        "**Astuce :** vous pouvez utiliser la méthode `.fillna()` pour remplacer les valeurs manquantes des 7 dernières colonnes. Assurez-vous que les modifications sont appliquées/enregistrées dans votre `DataFrame`."
      ]
    },
    {
      "cell_type": "code",
      "execution_count": null,
      "metadata": {
        "colab": {
          "base_uri": "https://localhost:8080/",
          "height": 614
        },
        "id": "wvg-gmW9963s",
        "outputId": "50c686e4-e0ff-4e35-932d-a92a50551a8d"
      },
      "outputs": [],
      "source": [
        "### commencez votre code ici ###\n",
        "\n",
        "### terminez votre code ici ###\n",
        "\n",
        "df_WT.isna().sum()"
      ]
    },
    {
      "cell_type": "markdown",
      "metadata": {
        "id": "O6DGWJfD963w"
      },
      "source": [
        "### Exercice 3 : Agrégation des données 1\n",
        "Exécutez la cellule de code ci-dessous. Comme vous pouvez le voir, le `DataFrame` comporte une colonne avec le nom `>26-52_weeks` et une autre colonne nommée `>26-30_weeks`. Comme certaines données ont été enregistrées dans l'une ou l'autre de ces colonnes,\n",
        "\n",
        "1. nous n'utiliserons que la valeur maximale de ces deux colonnes,\n",
        "2. placez la valeur résultante dans la colonne `>26-52_weeks`, et\n",
        "3. supprimez la colonne `>26-30_weeks`.\n",
        "\n",
        "**Astuce :** vous pouvez utiliser la méthode `DataFrame.drop(columns='...')` pour supprimer la colonne sélectionnée. Voir [ce lien](https://pandas.pydata.org/pandas-docs/stable/reference/api/pandas.DataFrame.drop.html)."
      ]
    },
    {
      "cell_type": "code",
      "execution_count": null,
      "metadata": {
        "colab": {
          "base_uri": "https://localhost:8080/",
          "height": 423
        },
        "id": "6IEa1lxb963x",
        "outputId": "c263fe1f-23f9-42f8-df7f-0dbb97a841e7"
      },
      "outputs": [],
      "source": [
        "### commencez votre code ici ###\n",
        "\n",
        "### terminez votre code ici ###\n",
        "\n",
        "df_WT.head()"
      ]
    },
    {
      "cell_type": "markdown",
      "metadata": {
        "id": "QbDFnGnn963x"
      },
      "source": [
        "### Exercice 4 : Agrégation de données 2\n",
        "Calculez le **nombre total de patients** et ajoutez cette nouvelle information en tant que nouvelle colonne dans le `DataFrame` et attribuez-lui le nom `'total_patients'`. Vous pouvez utiliser la méthode `DataFrame.sum(axis=1)` pour effectuer la somme en fonction des colonnes. Assurez-vous de n'additionner que les six dernières colonnes contenant le nombre de patients dans cette nouvelle colonne et de **tracer un histogramme** de cette colonne."
      ]
    },
    {
      "cell_type": "code",
      "execution_count": null,
      "metadata": {
        "colab": {
          "base_uri": "https://localhost:8080/",
          "height": 282
        },
        "id": "8siCgY3C963y",
        "outputId": "27a43ffa-3230-4a0b-ccf6-36c94268d538"
      },
      "outputs": [],
      "source": [
        "### commencez votre code ici ###\n",
        "\n",
        "### terminez votre code ici ###"
      ]
    },
    {
      "cell_type": "markdown",
      "metadata": {
        "id": "_CuOFFGT963y"
      },
      "source": [
        "## Transformation des données\n",
        "\n",
        "### Exercice 5 : Asymétrie\n",
        "Veuillez calculer l'asymétrie de cette nouvelle colonne `total_patients` où :\n",
        "$\\mathit{Skewness} = \\frac{3(X_{mean}-X_{median})}{\\sigma_X}$\n",
        "\n",
        "**Astuce :** vous pouvez utiliser les méthodes `DataFrame.mean()`, `DataFrame.median()` et `DataFrame.std()` pour vos calculs."
      ]
    },
    {
      "cell_type": "code",
      "execution_count": null,
      "metadata": {
        "colab": {
          "base_uri": "https://localhost:8080/"
        },
        "id": "D-EArt34963y",
        "outputId": "90d12943-4008-41aa-d547-b5e7c4854ef4"
      },
      "outputs": [],
      "source": [
        "### commencez votre code ici ###\n",
        "\n",
        "### terminez votre code ici ###\n",
        "\n",
        "print(\"skewness:\", skew)"
      ]
    },
    {
      "cell_type": "markdown",
      "metadata": {
        "id": "yV2Ygta3neIQ"
      },
      "source": [
        "### Exercice 6 : transformation logarithmique\n",
        "Veuillez (i) transformer cette colonne `total_patients` à l'aide d'une transformation logarithmique `log(x + 1)` et l'affecter à une nouvelle colonne `log_total_patients`, et (ii) tracer un histogramme de cette nouvelle colonne."
      ]
    },
    {
      "cell_type": "code",
      "execution_count": null,
      "metadata": {
        "colab": {
          "base_uri": "https://localhost:8080/",
          "height": 286
        },
        "id": "VVtFdBZAne4a",
        "outputId": "cb5063b1-f861-4c44-a023-110a9c775fb1"
      },
      "outputs": [],
      "source": [
        "### commencez votre code ici ###\n",
        "\n",
        "### terminez votre code ici ###"
      ]
    },
    {
      "cell_type": "markdown",
      "metadata": {
        "id": "VW-R24Dl963y"
      },
      "source": [
        "### Exercice 7 : Variables dummy\n",
        "Une variable qualitative doit généralement être codée avec des **variables binaires** (également appelées variables indicatrices), chacune ne prenant qu'une seule de deux valeurs (0 ou 1 ; `False` ou `True`) avant d'être utilisée dans l'analyse prédictive.\n",
        "\n",
        "Veuillez créer $k-1$ variables binaires.\n",
        "\n",
        "Cela implique que vous obtenez $k-1 = 3$ variables binaires correspondant aux valeurs de la variable `program`. Vous pouvez vérifier les valeurs de la variable qualitiative d'origine en exécutant la cellule ci-dessous."
      ]
    },
    {
      "cell_type": "code",
      "execution_count": null,
      "metadata": {
        "colab": {
          "base_uri": "https://localhost:8080/"
        },
        "id": "f6I_19Ke963z",
        "outputId": "a5bf72fc-5a1b-4ea5-c095-988d66e39d24",
        "scrolled": true
      },
      "outputs": [],
      "source": [
        "df_WT['program'].unique()"
      ]
    },
    {
      "cell_type": "markdown",
      "metadata": {
        "id": "Dsy-hlGf9630"
      },
      "source": [
        "Créez d’abord un nouvel ensemble de colonnes en utilisant `pd.get_dummies(...)` et attribuez le nouvel ensemble de colonnes au nouvel objet `df_dummies`.\n",
        "\n",
        "**Astuce :** vous pouvez utiliser la fonction `pd.get_dummies()`, qui convertit automatiquement les variables catégorielles en variables binaires. Pour effectuer un codage avec $k-1$ variables, nous pouvons indiquer le paramètre `drop_first=True`. Vous pouvez consulter [cette page](https://pandas.pydata.org/pandas-docs/stable/reference/api/pandas.get_dummies.html) pour plus d'informations."
      ]
    },
    {
      "cell_type": "code",
      "execution_count": null,
      "metadata": {
        "colab": {
          "base_uri": "https://localhost:8080/",
          "height": 300
        },
        "id": "BHg1eBqM9630",
        "outputId": "7d1e5069-2feb-4c9d-ea52-6acb0313c909"
      },
      "outputs": [],
      "source": [
        "### commencez votre code ici ###\n",
        "\n",
        "### terminez votre code ici ###\n",
        "\n",
        "df_dummies.describe()"
      ]
    },
    {
      "cell_type": "markdown",
      "metadata": {
        "id": "Os2SKG7nwGeI"
      },
      "source": [
        "Pour ajouter l'ensemble de nouvelles colonnes, nous pouvons utiliser la fonction df1 = df1.join(df2). Voir ce [lien](https://pandas.pydata.org/pandas-docs/stable/reference/api/pandas.DataFrame.join.html) pour plus de détails."
      ]
    },
    {
      "cell_type": "code",
      "execution_count": null,
      "metadata": {
        "colab": {
          "base_uri": "https://localhost:8080/",
          "height": 651
        },
        "id": "hsAh6eHGwHqB",
        "outputId": "21e03b05-3c10-46c9-e431-5cb9c3c1762e"
      },
      "outputs": [],
      "source": [
        "### commencez votre code ici ###\n",
        "\n",
        "### terminez votre code ici ###\n",
        "\n",
        "df_WT"
      ]
    },
    {
      "cell_type": "code",
      "execution_count": null,
      "metadata": {},
      "outputs": [],
      "source": []
    }
  ],
  "metadata": {
    "kernelspec": {
      "display_name": "Python 3 (ipykernel)",
      "language": "python",
      "name": "python3"
    },
    "language_info": {
      "codemirror_mode": {
        "name": "ipython",
        "version": 3
      },
      "file_extension": ".py",
      "mimetype": "text/x-python",
      "name": "python",
      "nbconvert_exporter": "python",
      "pygments_lexer": "ipython3",
      "version": "3.11.5"
    },
    "toc": {
      "base_numbering": 1,
      "nav_menu": {},
      "number_sections": true,
      "sideBar": true,
      "skip_h1_title": false,
      "title_cell": "Table of Contents",
      "title_sidebar": "Contents",
      "toc_cell": false,
      "toc_position": {
        "height": "calc(100% - 180px)",
        "left": "10px",
        "top": "150px",
        "width": "165px"
      },
      "toc_section_display": true,
      "toc_window_display": true
    }
  },
  "nbformat": 4,
  "nbformat_minor": 1
}
