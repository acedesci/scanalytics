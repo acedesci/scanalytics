{
 "cells": [
  {
   "cell_type": "markdown",
   "metadata": {
    "colab_type": "text",
    "id": "view-in-github"
   },
   "source": [
    "<a href=\"https://colab.research.google.com/github/acedesci/scanalytics/blob/master/S05_Data_Preprocessing/S05_LectureEx_Pandas_Profiling_V2.ipynb\" target=\"_parent\"><img src=\"https://colab.research.google.com/assets/colab-badge.svg\" alt=\"Open In Colab\"/></a>"
   ]
  },
  {
   "cell_type": "markdown",
   "metadata": {
    "id": "5ylip6ddNV5q"
   },
   "source": [
    "# S5 - Exploratory Data Analysis (EDA) using pandas profiling\n",
    "Programming topics covered in this section:\n",
    "* pandas_profiling\n",
    "\n",
    "Examples include:\n",
    "* Exploring Supply Chain health commodity shipment and pricing data"
   ]
  },
  {
   "cell_type": "markdown",
   "metadata": {
    "id": "qzWWH2vSNV5y"
   },
   "source": [
    "---\n",
    "# `pandas_profiling`\n",
    "`pandas_profiling` is an interesting library for exploring your data. However, **it is not installed by default in Anaconda**. In this notebook we will do a brief overview of `pandas_profiling`; for more information, refer to this [documentation](https://pandas-profiling.github.io/pandas-profiling/docs/master/rtd/pages/introduction.html)."
   ]
  },
  {
   "cell_type": "markdown",
   "metadata": {
    "id": "Jf93Vbh-NV5y"
   },
   "source": [
    "## 1. Installing pandas_profiling\n",
    "\n",
    "### Using conda\n",
    "You can install using the conda package manager by running\n",
    "To install `pandas_profiling` using the conda package manager, you need to open an *Anaconda Prompt*. In this console, you then write\n",
    "\n",
    "```python\n",
    "conda install -c conda-forge pandas-profiling\n",
    "```\n",
    "    \n",
    "and press `Enter`.\n",
    "\n",
    "After a while, text will be displayed in your console and it will ask you if you want to continue. Just press enter to continue.\n",
    "\n",
    "###  In a notebook/Colab\n",
    "**IMPORTANT NOTE:** Here you can run the following code to make sure that we have the latest version of pandas-profiling. This may take a while until it is installed. Please run this if you use Colab or, if you use Jupyter but you haven't installed the `pandas-profiling` library yet.\n"
   ]
  },
  {
   "cell_type": "code",
   "execution_count": null,
   "metadata": {
    "id": "qWrBRePZN8L-"
   },
   "outputs": [],
   "source": [
    "!pip install https://github.com/pandas-profiling/pandas-profiling/archive/master.zip \n",
    "!pip3 install markupsafe==2.0.1"
   ]
  },
  {
   "cell_type": "markdown",
   "metadata": {
    "id": "Nl3TzFmENV5z"
   },
   "source": [
    "### Importing libraires"
   ]
  },
  {
   "cell_type": "code",
   "execution_count": null,
   "metadata": {
    "id": "Y_ibodpGNV5z"
   },
   "outputs": [],
   "source": [
    "import pandas as pd\n",
    "import pandas_profiling"
   ]
  },
  {
   "cell_type": "markdown",
   "metadata": {
    "id": "KSMzujTBNV50"
   },
   "source": [
    "## 1. Importing data and creating a report\n",
    "In this exercise, we will explore some adapted data set which provides supply chain health commodity shipment and pricing data. Specifically, the data set identifies Antiretroviral (ARV) and HIV lab shipments to supported countries. In addition, the data set provides the commodity pricing and associated supply chain expenses necessary to move the commodities to countries for use. The original data are provided by the US Agency for International Development and can be accessed at [this page](https://catalog.data.gov/dataset/supply-chain-shipment-pricing-data).\n",
    "\n",
    "This is a description of our adapted data in the file `SCMS_Delivery_History_Dataset.csv`.\n",
    "\n",
    "| VARIABLE NAME | DESCRIPTION | \n",
    "|:----|:----|\n",
    "|id| identification number|\n",
    "|project code|identification of the project|\n",
    "|country|country to which the items are shipped|\n",
    "|vendor|identification of the vendor of the item|\n",
    "|manufacturing site|name of the manufacturer of the item|\n",
    "|shipment mode|transportation mode (e.g., air, truck)|\n",
    "|scheduled delivery date|programmed date for delivery|\n",
    "|delivered to client date|real date of delivery|\n",
    "|delivery recorded date|registered date of delivery|\n",
    "|product group|main category of the item|\n",
    "|product subgroup|subcategory of the item (e.g., HIV test, pediatric, Adult) |\n",
    "|molecule type|description of the composition of the item (e.g., Nevirapine, HIV 1/2, Didanosine)|\n",
    "|brand| item brand (e.g, generic or any other commercial brand)|\n",
    "|dosage| specifications about the dosage of each item (e.g.,10mg/ml, 200mg)|\n",
    "|dosage form|instructions for consumption (e.g., capsule, tablet, oral solution) |\n",
    "|units per pack| number of units in each package|\n",
    "|quantity pack sold| number of packages shipped to the specified country|\n",
    "|value sold| total value in $\\$$ USD of the shipment (i.e., pack_price * quantity pack sold|\n",
    "|pack price| price in $\\$$ USD per package|\n",
    "|unit price| price in $\\$$ USD per unit|\n",
    "|weight (kilograms)| total weight in kilograms of the shipment|\n",
    "|freight cost (usd)| value in $\\$$USD paid for transportation|\n",
    "|insurance (usd)|value in $\\$$USD paid for insurance|\n",
    "\n",
    "\n",
    "\n",
    "Let's import our data."
   ]
  },
  {
   "cell_type": "code",
   "execution_count": null,
   "metadata": {
    "id": "GV_T7kwqNV51",
    "scrolled": true
   },
   "outputs": [],
   "source": [
    "url = 'https://raw.githubusercontent.com/acedesci/scanalytics/master/data/Supply_Chain_Shipment_Pricing_Data.csv'\n",
    "df_SC = pd.read_csv(url)  # reading data file into a DataFrame\n",
    "df_SC.head()"
   ]
  },
  {
   "cell_type": "markdown",
   "metadata": {
    "id": "MYgPPLM8NV52"
   },
   "source": [
    "We now generate the profile report using `pandas_profiling`."
   ]
  },
  {
   "cell_type": "code",
   "execution_count": null,
   "metadata": {
    "id": "O2mv9JsENV52"
   },
   "outputs": [],
   "source": [
    "profile = pandas_profiling.ProfileReport(df_SC)"
   ]
  },
  {
   "cell_type": "markdown",
   "metadata": {
    "id": "544B-LXFNV52"
   },
   "source": [
    "We can access this report in two ways: through widgets and through a HTML report. If you simply call this object `profile` (see blow), it will embed the report here. This option is practical only if the report is not too large. Otherwise it is better to export to a local file (see next block). You can skip this one."
   ]
  },
  {
   "cell_type": "code",
   "execution_count": null,
   "metadata": {
    "id": "DYMt9eKjNV53",
    "scrolled": true
   },
   "outputs": [],
   "source": [
    "# profile"
   ]
  },
  {
   "cell_type": "markdown",
   "metadata": {
    "id": "rClxoZOWNV6L"
   },
   "source": [
    "## 3. Saving the report\n",
    "If you want to generate a HTML report file, save the `ProfileReport` to an object and use the `to_file()` function, as follows.\n"
   ]
  },
  {
   "cell_type": "code",
   "execution_count": null,
   "metadata": {
    "id": "zlwhVOnANV6L",
    "scrolled": true
   },
   "outputs": [],
   "source": [
    "file_name = \"pandas_profiling_report.html\"\n",
    "profile.to_file(file_name) # saving the report"
   ]
  },
  {
   "cell_type": "markdown",
   "metadata": {
    "id": "UeKObrHoNV6L"
   },
   "source": [
    "**Colab**: For Colab, you would need to download this file to save it using the code below."
   ]
  },
  {
   "cell_type": "code",
   "execution_count": null,
   "metadata": {
    "id": "XkaGHZQyNV6Y"
   },
   "outputs": [],
   "source": [
    "from google.colab import files\n",
    "\n",
    "files.download(file_name)"
   ]
  }
 ],
 "metadata": {
  "colab": {
   "include_colab_link": true,
   "name": "S05_LectureEx_Pandas_Profiling.ipynb",
   "provenance": []
  },
  "kernelspec": {
   "display_name": "Python 3 (ipykernel)",
   "language": "python",
   "name": "python3"
  },
  "language_info": {
   "codemirror_mode": {
    "name": "ipython",
    "version": 3
   },
   "file_extension": ".py",
   "mimetype": "text/x-python",
   "name": "python",
   "nbconvert_exporter": "python",
   "pygments_lexer": "ipython3",
   "version": "3.8.8"
  },
  "toc": {
   "base_numbering": 1,
   "nav_menu": {},
   "number_sections": true,
   "sideBar": true,
   "skip_h1_title": false,
   "title_cell": "Table of Contents",
   "title_sidebar": "Contents",
   "toc_cell": false,
   "toc_position": {},
   "toc_section_display": true,
   "toc_window_display": true
  }
 },
 "nbformat": 4,
 "nbformat_minor": 1
}
