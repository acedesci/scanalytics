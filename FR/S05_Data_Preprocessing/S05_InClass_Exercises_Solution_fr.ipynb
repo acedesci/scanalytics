{
  "cells": [
    {
      "cell_type": "markdown",
      "metadata": {
        "id": "jIkMaeo-963Z"
      },
      "source": [
        "# S05 - Exercices en classe/après-classe : Prétraitement et exploration des données (solution)\n",
        "\n",
        "## Instructions\n",
        "Pour chaque exercice, vous avez une cellule de code pour la réponse en dessous, où vous devez écrire votre réponse entre les lignes contenant `### commencez votre code ici ###` et `### terminez votre code ici ###`. Votre code peut contenir une ou plusieurs lignes et vous pouvez exécuter cette cellule afin de terminer l'exercice. Pour exécuter la cellule, vous pouvez taper `Shift+Enter` ou appuyer sur le bouton de lecture dans la barre d'outils ci-dessus. Vos résultats apparaîtront juste en dessous de cette cellule de réponse."
      ]
    },
    {
      "cell_type": "code",
      "execution_count": 1,
      "metadata": {},
      "outputs": [],
      "source": [
        "import math\n",
        "\n",
        "import numpy as np\n",
        "import pandas as pd"
      ]
    },
    {
      "cell_type": "markdown",
      "metadata": {
        "id": "Cdi17eV1963h"
      },
      "source": [
        "## Importation de données\n",
        "Dans cet exercice, nous allons explorer un ensemble adapté de données qui fournit des informations sur le nombre de patients en attente et la durée d'attente à la fin de chaque trimestre, pour les admissions en hospitalisation et en hôpital de jour chez *Health and Social Care (HSC) Trusts* en Irlande du Nord. Les données sont présentées par centre de soins, spécialité, programme de soins et tranche horaire. Les données originales sont accessibles à [cette page](https://data.world/datagov-uk/a593a0b3-29ef-48f2-b2b2-ceb83d841a3c).\n",
        "\n",
        "Ceci est une description des colonnes de nos données adaptées dans le fichier CSV `day-case-waiting-times.csv`.\n",
        "\n",
        "| NOM DE LA VARIABLE | DESCRIPTION |  \n",
        "|:----|:----|  \n",
        "|quarter_ending| date de rapport pour chaque trimestre |  \n",
        "|HSC_trust| Health and Social Care (HSC) Trusts |  \n",
        "|specialty| spécialité du HSC (par exemple, urologie, chirurgie générale, chirurgie plastique) |  \n",
        "|program| programme de soins (par exemple, santé mentale, services aigus) |  \n",
        "|0-6_weeks| nombre de patients qui attendent entre (0, 6] semaines durant le trimestre correspondant |  \n",
        "|>6-13_weeks| nombre de patients qui attendent entre (6, 13] semaines durant le trimestre correspondant |  \n",
        "|>13-21_weeks| nombre de patients qui attendent entre (13, 21] semaines durant le trimestre correspondant |  \n",
        "|>21-26_weeks| nombre de patients qui attendent entre (21, 26] semaines durant le trimestre correspondant |  \n",
        "|>26-52_weeks| nombre de patients qui attendent entre (26, 52] semaines durant le trimestre correspondant |  \n",
        "|>52_weeks| nombre de patients qui attendent plus de 52 semaines durant le trimestre correspondant |  \n",
        "|>26-30_weeks| nombre de patients qui attendent entre (26, 30] semaines durant le trimestre correspondant |\n",
        "\n",
        "Importez le fichier de données  `day-case-waiting-times.csv` dans un `DataFrame` nommé `df_WT`. Affichez les 5 premières lignes de votre `DataFrame`.\n",
        "\n",
        "**Astuce** : vous pouvez utiliser la fonction `pd.read_csv()`."
      ]
    },
    {
      "cell_type": "code",
      "execution_count": 2,
      "metadata": {
        "colab": {
          "base_uri": "https://localhost:8080/",
          "height": 206
        },
        "id": "_fF7rQuT963h",
        "outputId": "b19aa9c4-ec5e-4df4-c8f9-07edde9851aa",
        "scrolled": true
      },
      "outputs": [
        {
          "data": {
            "text/html": [
              "<div>\n",
              "<style scoped>\n",
              "    .dataframe tbody tr th:only-of-type {\n",
              "        vertical-align: middle;\n",
              "    }\n",
              "\n",
              "    .dataframe tbody tr th {\n",
              "        vertical-align: top;\n",
              "    }\n",
              "\n",
              "    .dataframe thead th {\n",
              "        text-align: right;\n",
              "    }\n",
              "</style>\n",
              "<table border=\"1\" class=\"dataframe\">\n",
              "  <thead>\n",
              "    <tr style=\"text-align: right;\">\n",
              "      <th></th>\n",
              "      <th>quarter_ending</th>\n",
              "      <th>HSC_trust</th>\n",
              "      <th>specialty</th>\n",
              "      <th>program</th>\n",
              "      <th>0-6_weeks</th>\n",
              "      <th>&gt;6-13_weeks</th>\n",
              "      <th>&gt;13-21_weeks</th>\n",
              "      <th>&gt;21-26_weeks</th>\n",
              "      <th>&gt;26-52_weeks</th>\n",
              "      <th>&gt;52_weeks</th>\n",
              "      <th>&gt;26-30_weeks</th>\n",
              "    </tr>\n",
              "  </thead>\n",
              "  <tbody>\n",
              "    <tr>\n",
              "      <th>0</th>\n",
              "      <td>30-Jun-07</td>\n",
              "      <td>Belfast</td>\n",
              "      <td>General Surgery</td>\n",
              "      <td>Acute Services</td>\n",
              "      <td>309</td>\n",
              "      <td>218</td>\n",
              "      <td>138</td>\n",
              "      <td>6</td>\n",
              "      <td>0</td>\n",
              "      <td>NaN</td>\n",
              "      <td>--</td>\n",
              "    </tr>\n",
              "    <tr>\n",
              "      <th>1</th>\n",
              "      <td>30-Jun-07</td>\n",
              "      <td>Belfast</td>\n",
              "      <td>Urology</td>\n",
              "      <td>Acute Services</td>\n",
              "      <td>483</td>\n",
              "      <td>301</td>\n",
              "      <td>116</td>\n",
              "      <td>3</td>\n",
              "      <td>0</td>\n",
              "      <td>NaN</td>\n",
              "      <td>--</td>\n",
              "    </tr>\n",
              "    <tr>\n",
              "      <th>2</th>\n",
              "      <td>30-Jun-07</td>\n",
              "      <td>Belfast</td>\n",
              "      <td>T &amp; O Surgery</td>\n",
              "      <td>Acute Services</td>\n",
              "      <td>158</td>\n",
              "      <td>211</td>\n",
              "      <td>110</td>\n",
              "      <td>36</td>\n",
              "      <td>0</td>\n",
              "      <td>NaN</td>\n",
              "      <td>--</td>\n",
              "    </tr>\n",
              "    <tr>\n",
              "      <th>3</th>\n",
              "      <td>30-Jun-07</td>\n",
              "      <td>Belfast</td>\n",
              "      <td>ENT</td>\n",
              "      <td>Acute Services</td>\n",
              "      <td>121</td>\n",
              "      <td>159</td>\n",
              "      <td>72</td>\n",
              "      <td>1</td>\n",
              "      <td>0</td>\n",
              "      <td>NaN</td>\n",
              "      <td>--</td>\n",
              "    </tr>\n",
              "    <tr>\n",
              "      <th>4</th>\n",
              "      <td>30-Jun-07</td>\n",
              "      <td>Belfast</td>\n",
              "      <td>Ophthalmology</td>\n",
              "      <td>Acute Services</td>\n",
              "      <td>905</td>\n",
              "      <td>846</td>\n",
              "      <td>405</td>\n",
              "      <td>19</td>\n",
              "      <td>0</td>\n",
              "      <td>NaN</td>\n",
              "      <td>--</td>\n",
              "    </tr>\n",
              "  </tbody>\n",
              "</table>\n",
              "</div>"
            ],
            "text/plain": [
              "  quarter_ending HSC_trust        specialty         program 0-6_weeks  \\\n",
              "0      30-Jun-07   Belfast  General Surgery  Acute Services       309   \n",
              "1      30-Jun-07   Belfast          Urology  Acute Services       483   \n",
              "2      30-Jun-07   Belfast    T & O Surgery  Acute Services       158   \n",
              "3      30-Jun-07   Belfast              ENT  Acute Services       121   \n",
              "4      30-Jun-07   Belfast    Ophthalmology  Acute Services       905   \n",
              "\n",
              "  >6-13_weeks >13-21_weeks  >21-26_weeks >26-52_weeks >52_weeks >26-30_weeks  \n",
              "0         218          138             6            0       NaN           --  \n",
              "1         301          116             3            0       NaN           --  \n",
              "2         211          110            36            0       NaN           --  \n",
              "3         159           72             1            0       NaN           --  \n",
              "4         846          405            19            0       NaN           --  "
            ]
          },
          "execution_count": 2,
          "metadata": {},
          "output_type": "execute_result"
        }
      ],
      "source": [
        "url = 'https://raw.githubusercontent.com/acedesci/scanalytics/master/data/day-case-waiting-times.csv'\n",
        "\n",
        "### commencez votre code ici ###\n",
        "df_WT = pd.read_csv(url)  # lecture d'un fichier de données dans un DataFrame\n",
        "### terminez votre code ici ###\n",
        "\n",
        "df_WT.head()"
      ]
    },
    {
      "cell_type": "markdown",
      "metadata": {
        "id": "NS4j2zxB963q"
      },
      "source": [
        "## Prétraitement des données et valeurs manquantes\n",
        "### Exercice 1 : Modification des types de données des colonnes\n",
        "Jetez un œil au type de données dans votre `DataFrame`. La colonne `quarter_ending` doit être de type `datetime64`, et toutes les colonnes de `0-6_weeks` à `>26-30_weeks` doivent être numériques (float ou int), car elles représentent le nombre de patients dont les temps d'attente se situaient dans les intervalles correspondants. Dans ce cas, le nombre flottant est requis si la colonne contient la valeur `NaN`.\n",
        "\n",
        "Vos colonnes sont-elles du bon type ? Si ce n'est pas le cas, convertissez les données au bon format.\n",
        "\n",
        "**Astuce 1 :** Vous pouvez utiliser les fonctions `pd.to_numeric()`, `pd.to_datetime()` et/ou la méthode `.astype()`.\n",
        "\n",
        "**Astuce 2 :** Nous pouvons nous assurer que (i) une valeur non numérique sera définie comme `NaN` en utilisant l'argument `errors='coerce'`, et (ii) le type numérique est float en utilisant le paramètre `downcast='float'` dans `pd.to_numeric(column_series, errors='coerce', downcast='float')`.\n",
        "\n",
        "Plus de détails peuvent être trouvés sur [cette page](https://pandas.pydata.org/pandas-docs/stable/reference/api/pandas.to_numeric.html)."
      ]
    },
    {
      "cell_type": "code",
      "execution_count": 3,
      "metadata": {
        "colab": {
          "base_uri": "https://localhost:8080/"
        },
        "id": "WPC59qjd963r",
        "outputId": "e0f5716b-e854-410b-be72-c7072bcf1508",
        "scrolled": true
      },
      "outputs": [
        {
          "data": {
            "text/plain": [
              "quarter_ending    object\n",
              "HSC_trust         object\n",
              "specialty         object\n",
              "program           object\n",
              "0-6_weeks         object\n",
              ">6-13_weeks       object\n",
              ">13-21_weeks      object\n",
              ">21-26_weeks       int64\n",
              ">26-52_weeks      object\n",
              ">52_weeks         object\n",
              ">26-30_weeks      object\n",
              "dtype: object"
            ]
          },
          "execution_count": 3,
          "metadata": {},
          "output_type": "execute_result"
        }
      ],
      "source": [
        "df_WT.dtypes"
      ]
    },
    {
      "cell_type": "code",
      "execution_count": 4,
      "metadata": {
        "colab": {
          "base_uri": "https://localhost:8080/"
        },
        "id": "ooEtfnHy963r",
        "outputId": "196eea5d-cc95-4871-860f-b88d60ae497f",
        "scrolled": true
      },
      "outputs": [
        {
          "data": {
            "text/plain": [
              "quarter_ending    datetime64[ns]\n",
              "HSC_trust                 object\n",
              "specialty                 object\n",
              "program                   object\n",
              "0-6_weeks                float32\n",
              ">6-13_weeks              float32\n",
              ">13-21_weeks             float32\n",
              ">21-26_weeks             float32\n",
              ">26-52_weeks             float32\n",
              ">52_weeks                float32\n",
              ">26-30_weeks             float32\n",
              "dtype: object"
            ]
          },
          "execution_count": 4,
          "metadata": {},
          "output_type": "execute_result"
        }
      ],
      "source": [
        "### commencez votre code ici ###\n",
        "df_WT['quarter_ending'] = pd.to_datetime(df_WT['quarter_ending'],\n",
        "                                         format=\"%d-%b-%y\")\n",
        "\n",
        "for col in df_WT.columns[4:]:\n",
        "    df_WT[col] = pd.to_numeric(df_WT[col], errors='coerce', downcast='float')\n",
        "### terminez votre code ici ###\n",
        "\n",
        "df_WT.dtypes"
      ]
    },
    {
      "cell_type": "markdown",
      "metadata": {
        "id": "sdN2z8IY963r"
      },
      "source": [
        "### Exercice 2 : Valeurs manquantes\n",
        "Jetez un œil aux valeurs manquantes dans votre `DataFrame`. Implémentez une ligne de code qui affiche le nombre total de valeurs manquantes dans chaque colonne."
      ]
    },
    {
      "cell_type": "code",
      "execution_count": 5,
      "metadata": {
        "colab": {
          "base_uri": "https://localhost:8080/"
        },
        "id": "BT3f20sr963r",
        "outputId": "fd05356f-1cc5-438b-ae5e-638ec438c1d8"
      },
      "outputs": [
        {
          "data": {
            "text/plain": [
              "quarter_ending       0\n",
              "HSC_trust            0\n",
              "specialty            0\n",
              "program              0\n",
              "0-6_weeks           18\n",
              ">6-13_weeks         17\n",
              ">13-21_weeks         5\n",
              ">21-26_weeks         0\n",
              ">26-52_weeks      2574\n",
              ">52_weeks         3194\n",
              ">26-30_weeks      3693\n",
              "dtype: int64"
            ]
          },
          "execution_count": 5,
          "metadata": {},
          "output_type": "execute_result"
        }
      ],
      "source": [
        "### commencez votre code ici ###\n",
        "# peut également utiliser la méthode isna() qui est la même que isnull()\n",
        "df_WT.isnull().sum()  \n",
        "### terminez votre code ici ###"
      ]
    },
    {
      "cell_type": "markdown",
      "metadata": {
        "id": "0ve7iOhV963s"
      },
      "source": [
        "Supposons que les valeurs manquantes peuvent apparaître lorsque les données ne sont pas disponibles. Ainsi, dans ce cas de valeurs manquantes, le nombre de patients avec des temps d'attente dans l'un des intervalles spécifiés par les colonnes de notre `DataFrame` est égal à 0. Nous pouvons remplacer les valeurs numériques manquantes par 0.\n",
        "\n",
        "**Astuce :** vous pouvez utiliser la méthode `.fillna()` pour remplacer les valeurs manquantes des 7 dernières colonnes. Assurez-vous que les modifications sont appliquées/enregistrées dans votre `DataFrame`."
      ]
    },
    {
      "cell_type": "code",
      "execution_count": 6,
      "metadata": {
        "colab": {
          "base_uri": "https://localhost:8080/",
          "height": 614
        },
        "id": "wvg-gmW9963s",
        "outputId": "50c686e4-e0ff-4e35-932d-a92a50551a8d"
      },
      "outputs": [
        {
          "data": {
            "text/plain": [
              "quarter_ending    0\n",
              "HSC_trust         0\n",
              "specialty         0\n",
              "program           0\n",
              "0-6_weeks         0\n",
              ">6-13_weeks       0\n",
              ">13-21_weeks      0\n",
              ">21-26_weeks      0\n",
              ">26-52_weeks      0\n",
              ">52_weeks         0\n",
              ">26-30_weeks      0\n",
              "dtype: int64"
            ]
          },
          "execution_count": 6,
          "metadata": {},
          "output_type": "execute_result"
        }
      ],
      "source": [
        "### commencez votre code ici ###\n",
        "df_WT[df_WT.columns[-7:]] = df_WT[df_WT.columns[-7:]].fillna(0)\n",
        "### terminez votre code ici ###\n",
        "\n",
        "df_WT.isna().sum()"
      ]
    },
    {
      "cell_type": "markdown",
      "metadata": {
        "id": "O6DGWJfD963w"
      },
      "source": [
        "### Exercice 3 : Agrégation des données 1\n",
        "Exécutez la cellule de code ci-dessous. Comme vous pouvez le voir, le `DataFrame` comporte une colonne avec le nom `>26-52_weeks` et une autre colonne nommée `>26-30_weeks`. Comme certaines données ont été enregistrées dans l'une ou l'autre de ces colonnes,\n",
        "\n",
        "1. nous n'utiliserons que la valeur maximale de ces deux colonnes,\n",
        "2. placez la valeur résultante dans la colonne `>26-52_weeks`, et\n",
        "3. supprimez la colonne `>26-30_weeks`.\n",
        "\n",
        "**Astuce :** vous pouvez utiliser la méthode `DataFrame.drop(columns='...')` pour supprimer la colonne sélectionnée. Voir [ce lien](https://pandas.pydata.org/pandas-docs/stable/reference/api/pandas.DataFrame.drop.html)."
      ]
    },
    {
      "cell_type": "code",
      "execution_count": 7,
      "metadata": {
        "colab": {
          "base_uri": "https://localhost:8080/",
          "height": 423
        },
        "id": "6IEa1lxb963x",
        "outputId": "c263fe1f-23f9-42f8-df7f-0dbb97a841e7"
      },
      "outputs": [
        {
          "data": {
            "text/html": [
              "<div>\n",
              "<style scoped>\n",
              "    .dataframe tbody tr th:only-of-type {\n",
              "        vertical-align: middle;\n",
              "    }\n",
              "\n",
              "    .dataframe tbody tr th {\n",
              "        vertical-align: top;\n",
              "    }\n",
              "\n",
              "    .dataframe thead th {\n",
              "        text-align: right;\n",
              "    }\n",
              "</style>\n",
              "<table border=\"1\" class=\"dataframe\">\n",
              "  <thead>\n",
              "    <tr style=\"text-align: right;\">\n",
              "      <th></th>\n",
              "      <th>quarter_ending</th>\n",
              "      <th>HSC_trust</th>\n",
              "      <th>specialty</th>\n",
              "      <th>program</th>\n",
              "      <th>0-6_weeks</th>\n",
              "      <th>&gt;6-13_weeks</th>\n",
              "      <th>&gt;13-21_weeks</th>\n",
              "      <th>&gt;21-26_weeks</th>\n",
              "      <th>&gt;26-52_weeks</th>\n",
              "      <th>&gt;52_weeks</th>\n",
              "    </tr>\n",
              "  </thead>\n",
              "  <tbody>\n",
              "    <tr>\n",
              "      <th>0</th>\n",
              "      <td>2007-06-30</td>\n",
              "      <td>Belfast</td>\n",
              "      <td>General Surgery</td>\n",
              "      <td>Acute Services</td>\n",
              "      <td>309.0</td>\n",
              "      <td>218.0</td>\n",
              "      <td>138.0</td>\n",
              "      <td>6.0</td>\n",
              "      <td>0.0</td>\n",
              "      <td>0.0</td>\n",
              "    </tr>\n",
              "    <tr>\n",
              "      <th>1</th>\n",
              "      <td>2007-06-30</td>\n",
              "      <td>Belfast</td>\n",
              "      <td>Urology</td>\n",
              "      <td>Acute Services</td>\n",
              "      <td>483.0</td>\n",
              "      <td>301.0</td>\n",
              "      <td>116.0</td>\n",
              "      <td>3.0</td>\n",
              "      <td>0.0</td>\n",
              "      <td>0.0</td>\n",
              "    </tr>\n",
              "    <tr>\n",
              "      <th>2</th>\n",
              "      <td>2007-06-30</td>\n",
              "      <td>Belfast</td>\n",
              "      <td>T &amp; O Surgery</td>\n",
              "      <td>Acute Services</td>\n",
              "      <td>158.0</td>\n",
              "      <td>211.0</td>\n",
              "      <td>110.0</td>\n",
              "      <td>36.0</td>\n",
              "      <td>0.0</td>\n",
              "      <td>0.0</td>\n",
              "    </tr>\n",
              "    <tr>\n",
              "      <th>3</th>\n",
              "      <td>2007-06-30</td>\n",
              "      <td>Belfast</td>\n",
              "      <td>ENT</td>\n",
              "      <td>Acute Services</td>\n",
              "      <td>121.0</td>\n",
              "      <td>159.0</td>\n",
              "      <td>72.0</td>\n",
              "      <td>1.0</td>\n",
              "      <td>0.0</td>\n",
              "      <td>0.0</td>\n",
              "    </tr>\n",
              "    <tr>\n",
              "      <th>4</th>\n",
              "      <td>2007-06-30</td>\n",
              "      <td>Belfast</td>\n",
              "      <td>Ophthalmology</td>\n",
              "      <td>Acute Services</td>\n",
              "      <td>905.0</td>\n",
              "      <td>846.0</td>\n",
              "      <td>405.0</td>\n",
              "      <td>19.0</td>\n",
              "      <td>0.0</td>\n",
              "      <td>0.0</td>\n",
              "    </tr>\n",
              "  </tbody>\n",
              "</table>\n",
              "</div>"
            ],
            "text/plain": [
              "  quarter_ending HSC_trust        specialty         program  0-6_weeks  \\\n",
              "0     2007-06-30   Belfast  General Surgery  Acute Services      309.0   \n",
              "1     2007-06-30   Belfast          Urology  Acute Services      483.0   \n",
              "2     2007-06-30   Belfast    T & O Surgery  Acute Services      158.0   \n",
              "3     2007-06-30   Belfast              ENT  Acute Services      121.0   \n",
              "4     2007-06-30   Belfast    Ophthalmology  Acute Services      905.0   \n",
              "\n",
              "   >6-13_weeks  >13-21_weeks  >21-26_weeks  >26-52_weeks  >52_weeks  \n",
              "0        218.0         138.0           6.0           0.0        0.0  \n",
              "1        301.0         116.0           3.0           0.0        0.0  \n",
              "2        211.0         110.0          36.0           0.0        0.0  \n",
              "3        159.0          72.0           1.0           0.0        0.0  \n",
              "4        846.0         405.0          19.0           0.0        0.0  "
            ]
          },
          "execution_count": 7,
          "metadata": {},
          "output_type": "execute_result"
        }
      ],
      "source": [
        "### commencez votre code ici ###\n",
        "df_WT['>26-52_weeks'] = df_WT[['>26-30_weeks', '>26-52_weeks']].max(axis=1)\n",
        "# alternative moins efficace que ci-dessus :\n",
        "# df_WT['>26-52_semaines'] = [\n",
        "#     max(df_WT.at[i, '>26-52_semaines'], df_WT.at[i, '>26-30_semaines']) \n",
        "#     for i in df_WT.index]\n",
        "\n",
        "df_WT = df_WT.drop(columns='>26-30_weeks')   \n",
        "### terminez votre code ici ###\n",
        "\n",
        "df_WT.head()"
      ]
    },
    {
      "cell_type": "markdown",
      "metadata": {
        "id": "QbDFnGnn963x"
      },
      "source": [
        "### Exercice 4 : Agrégation de données 2\n",
        "Calculez le **nombre total de patients** et ajoutez cette nouvelle information en tant que nouvelle colonne dans le `DataFrame` et attribuez-lui le nom `'total_patients'`. Vous pouvez utiliser la méthode `DataFrame.sum(axis=1)` pour effectuer la somme en fonction des colonnes. Assurez-vous de n'additionner que les six dernières colonnes contenant le nombre de patients dans cette nouvelle colonne et de **tracer un histogramme** de cette colonne."
      ]
    },
    {
      "cell_type": "code",
      "execution_count": 8,
      "metadata": {
        "colab": {
          "base_uri": "https://localhost:8080/",
          "height": 282
        },
        "id": "8siCgY3C963y",
        "outputId": "27a43ffa-3230-4a0b-ccf6-36c94268d538"
      },
      "outputs": [
        {
          "data": {
            "text/plain": [
              "<Axes: ylabel='Frequency'>"
            ]
          },
          "execution_count": 8,
          "metadata": {},
          "output_type": "execute_result"
        },
        {
          "data": {
            "image/png": "[encoded data removed]",
            "text/plain": [
              "<Figure size 640x480 with 1 Axes>"
            ]
          },
          "metadata": {},
          "output_type": "display_data"
        }
      ],
      "source": [
        "### commencez votre code ici ###\n",
        "df_WT['total_patients'] = df_WT[df_WT.columns[-6:]].sum(axis=1)\n",
        "df_WT['total_patients'].plot(kind='hist')\n",
        "### terminez votre code ici ###"
      ]
    },
    {
      "cell_type": "markdown",
      "metadata": {
        "id": "_CuOFFGT963y"
      },
      "source": [
        "## Transformation des données\n",
        "\n",
        "### Exercice 5 : Asymétrie\n",
        "Veuillez calculer l'asymétrie de cette nouvelle colonne `total_patients` où :\n",
        "$\\mathit{Skewness} = \\frac{3(X_{mean}-X_{median})}{\\sigma_X}$\n",
        "\n",
        "**Astuce :** vous pouvez utiliser les méthodes `DataFrame.mean()`, `DataFrame.median()` et `DataFrame.std()` pour vos calculs."
      ]
    },
    {
      "cell_type": "code",
      "execution_count": 9,
      "metadata": {
        "colab": {
          "base_uri": "https://localhost:8080/"
        },
        "id": "D-EArt34963y",
        "outputId": "90d12943-4008-41aa-d547-b5e7c4854ef4"
      },
      "outputs": [
        {
          "name": "stdout",
          "output_type": "stream",
          "text": [
            "skewness: 1.1503191292793218\n"
          ]
        }
      ],
      "source": [
        "### commencez votre code ici ###\n",
        "skew = 3 * (df_WT['total_patients'].mean() - df_WT['total_patients'].median()) / df_WT['total_patients'].std()\n",
        "### terminez votre code ici ###\n",
        "\n",
        "print(\"skewness:\", skew)"
      ]
    },
    {
      "cell_type": "markdown",
      "metadata": {
        "id": "yV2Ygta3neIQ"
      },
      "source": [
        "### Exercice 6 : transformation logarithmique\n",
        "Veuillez (i) transformer cette colonne `total_patients` à l'aide d'une transformation logarithmique `log(x + 1)` et l'affecter à une nouvelle colonne `log_total_patients`, et (ii) tracer un histogramme de cette nouvelle colonne."
      ]
    },
    {
      "cell_type": "code",
      "execution_count": 10,
      "metadata": {
        "colab": {
          "base_uri": "https://localhost:8080/",
          "height": 286
        },
        "id": "VVtFdBZAne4a",
        "outputId": "cb5063b1-f861-4c44-a023-110a9c775fb1"
      },
      "outputs": [
        {
          "data": {
            "text/plain": [
              "<Axes: ylabel='Frequency'>"
            ]
          },
          "execution_count": 10,
          "metadata": {},
          "output_type": "execute_result"
        },
        {
          "data": {
            "image/png": "[encoded data removed]",
            "text/plain": [
              "<Figure size 640x480 with 1 Axes>"
            ]
          },
          "metadata": {},
          "output_type": "display_data"
        }
      ],
      "source": [
        "### commencez votre code ici ###\n",
        "df_WT['log_total_patients'] = np.log(df_WT['total_patients'] + 1)\n",
        "# une alternative moins efficace est la suivante\n",
        "#df_WT['log_total_patients'] = [math.log(x + 1) for x in df_WT['total_patients']]\n",
        "\n",
        "df_WT['log_total_patients'].plot(kind='hist')\n",
        "### terminez votre code ici ###"
      ]
    },
    {
      "cell_type": "markdown",
      "metadata": {
        "id": "VW-R24Dl963y"
      },
      "source": [
        "### Exercice 7 : Variables dummy\n",
        "Une variable qualitative doit généralement être codée avec des **variables binaires** (également appelées variables indicatrices), chacune ne prenant qu'une seule de deux valeurs (0 ou 1 ; `False` ou `True`) avant d'être utilisée dans l'analyse prédictive.\n",
        "\n",
        "Veuillez créer $k-1$ variables binaires.\n",
        "\n",
        "Cela implique que vous obtenez $k-1 = 3$ variables binaires correspondant aux valeurs de la variable `program`. Vous pouvez vérifier les valeurs de la variable qualitiative d'origine en exécutant la cellule ci-dessous."
      ]
    },
    {
      "cell_type": "code",
      "execution_count": 11,
      "metadata": {
        "colab": {
          "base_uri": "https://localhost:8080/"
        },
        "id": "f6I_19Ke963z",
        "outputId": "a5bf72fc-5a1b-4ea5-c095-988d66e39d24",
        "scrolled": true
      },
      "outputs": [
        {
          "data": {
            "text/plain": [
              "array(['Acute Services', 'Mental Health', 'Elderly Care',\n",
              "       'Maternity & Child Health'], dtype=object)"
            ]
          },
          "execution_count": 11,
          "metadata": {},
          "output_type": "execute_result"
        }
      ],
      "source": [
        "df_WT['program'].unique()"
      ]
    },
    {
      "cell_type": "markdown",
      "metadata": {
        "id": "Dsy-hlGf9630"
      },
      "source": [
        "Créez d’abord un nouvel ensemble de colonnes en utilisant `pd.get_dummies(...)` et attribuez le nouvel ensemble de colonnes au nouvel objet `df_dummies`.\n",
        "\n",
        "**Astuce :** vous pouvez utiliser la fonction `pd.get_dummies()`, qui convertit automatiquement les variables catégorielles en variables binaires. Pour effectuer un codage avec $k-1$ variables, nous pouvons indiquer le paramètre `drop_first=True`. Vous pouvez consulter [cette page](https://pandas.pydata.org/pandas-docs/stable/reference/api/pandas.get_dummies.html) pour plus d'informations."
      ]
    },
    {
      "cell_type": "code",
      "execution_count": 12,
      "metadata": {
        "colab": {
          "base_uri": "https://localhost:8080/",
          "height": 300
        },
        "id": "BHg1eBqM9630",
        "outputId": "7d1e5069-2feb-4c9d-ea52-6acb0313c909"
      },
      "outputs": [
        {
          "data": {
            "text/html": [
              "<div>\n",
              "<style scoped>\n",
              "    .dataframe tbody tr th:only-of-type {\n",
              "        vertical-align: middle;\n",
              "    }\n",
              "\n",
              "    .dataframe tbody tr th {\n",
              "        vertical-align: top;\n",
              "    }\n",
              "\n",
              "    .dataframe thead th {\n",
              "        text-align: right;\n",
              "    }\n",
              "</style>\n",
              "<table border=\"1\" class=\"dataframe\">\n",
              "  <thead>\n",
              "    <tr style=\"text-align: right;\">\n",
              "      <th></th>\n",
              "      <th>program_Elderly Care</th>\n",
              "      <th>program_Maternity &amp; Child Health</th>\n",
              "      <th>program_Mental Health</th>\n",
              "    </tr>\n",
              "  </thead>\n",
              "  <tbody>\n",
              "    <tr>\n",
              "      <th>count</th>\n",
              "      <td>4399</td>\n",
              "      <td>4399</td>\n",
              "      <td>4399</td>\n",
              "    </tr>\n",
              "    <tr>\n",
              "      <th>unique</th>\n",
              "      <td>2</td>\n",
              "      <td>2</td>\n",
              "      <td>2</td>\n",
              "    </tr>\n",
              "    <tr>\n",
              "      <th>top</th>\n",
              "      <td>False</td>\n",
              "      <td>False</td>\n",
              "      <td>False</td>\n",
              "    </tr>\n",
              "    <tr>\n",
              "      <th>freq</th>\n",
              "      <td>4351</td>\n",
              "      <td>4398</td>\n",
              "      <td>4395</td>\n",
              "    </tr>\n",
              "  </tbody>\n",
              "</table>\n",
              "</div>"
            ],
            "text/plain": [
              "       program_Elderly Care program_Maternity & Child Health  \\\n",
              "count                  4399                             4399   \n",
              "unique                    2                                2   \n",
              "top                   False                            False   \n",
              "freq                   4351                             4398   \n",
              "\n",
              "       program_Mental Health  \n",
              "count                   4399  \n",
              "unique                     2  \n",
              "top                    False  \n",
              "freq                    4395  "
            ]
          },
          "execution_count": 12,
          "metadata": {},
          "output_type": "execute_result"
        }
      ],
      "source": [
        "### commencez votre code ici ###\n",
        "df_dummies = pd.get_dummies(df_WT['program'], drop_first=True, prefix='program')\n",
        "### terminez votre code ici ###\n",
        "\n",
        "df_dummies.describe()"
      ]
    },
    {
      "cell_type": "markdown",
      "metadata": {
        "id": "Os2SKG7nwGeI"
      },
      "source": [
        "Pour ajouter l'ensemble de nouvelles colonnes, nous pouvons utiliser la fonction df1 = df1.join(df2). Voir ce [lien](https://pandas.pydata.org/pandas-docs/stable/reference/api/pandas.DataFrame.join.html) pour plus de détails."
      ]
    },
    {
      "cell_type": "code",
      "execution_count": 13,
      "metadata": {
        "colab": {
          "base_uri": "https://localhost:8080/",
          "height": 651
        },
        "id": "hsAh6eHGwHqB",
        "outputId": "21e03b05-3c10-46c9-e431-5cb9c3c1762e"
      },
      "outputs": [
        {
          "data": {
            "text/html": [
              "<div>\n",
              "<style scoped>\n",
              "    .dataframe tbody tr th:only-of-type {\n",
              "        vertical-align: middle;\n",
              "    }\n",
              "\n",
              "    .dataframe tbody tr th {\n",
              "        vertical-align: top;\n",
              "    }\n",
              "\n",
              "    .dataframe thead th {\n",
              "        text-align: right;\n",
              "    }\n",
              "</style>\n",
              "<table border=\"1\" class=\"dataframe\">\n",
              "  <thead>\n",
              "    <tr style=\"text-align: right;\">\n",
              "      <th></th>\n",
              "      <th>quarter_ending</th>\n",
              "      <th>HSC_trust</th>\n",
              "      <th>specialty</th>\n",
              "      <th>program</th>\n",
              "      <th>0-6_weeks</th>\n",
              "      <th>&gt;6-13_weeks</th>\n",
              "      <th>&gt;13-21_weeks</th>\n",
              "      <th>&gt;21-26_weeks</th>\n",
              "      <th>&gt;26-52_weeks</th>\n",
              "      <th>&gt;52_weeks</th>\n",
              "      <th>total_patients</th>\n",
              "      <th>log_total_patients</th>\n",
              "      <th>program_Elderly Care</th>\n",
              "      <th>program_Maternity &amp; Child Health</th>\n",
              "      <th>program_Mental Health</th>\n",
              "    </tr>\n",
              "  </thead>\n",
              "  <tbody>\n",
              "    <tr>\n",
              "      <th>0</th>\n",
              "      <td>2007-06-30</td>\n",
              "      <td>Belfast</td>\n",
              "      <td>General Surgery</td>\n",
              "      <td>Acute Services</td>\n",
              "      <td>309.0</td>\n",
              "      <td>218.0</td>\n",
              "      <td>138.0</td>\n",
              "      <td>6.0</td>\n",
              "      <td>0.0</td>\n",
              "      <td>0.0</td>\n",
              "      <td>671.0</td>\n",
              "      <td>6.510258</td>\n",
              "      <td>False</td>\n",
              "      <td>False</td>\n",
              "      <td>False</td>\n",
              "    </tr>\n",
              "    <tr>\n",
              "      <th>1</th>\n",
              "      <td>2007-06-30</td>\n",
              "      <td>Belfast</td>\n",
              "      <td>Urology</td>\n",
              "      <td>Acute Services</td>\n",
              "      <td>483.0</td>\n",
              "      <td>301.0</td>\n",
              "      <td>116.0</td>\n",
              "      <td>3.0</td>\n",
              "      <td>0.0</td>\n",
              "      <td>0.0</td>\n",
              "      <td>903.0</td>\n",
              "      <td>6.806829</td>\n",
              "      <td>False</td>\n",
              "      <td>False</td>\n",
              "      <td>False</td>\n",
              "    </tr>\n",
              "    <tr>\n",
              "      <th>2</th>\n",
              "      <td>2007-06-30</td>\n",
              "      <td>Belfast</td>\n",
              "      <td>T &amp; O Surgery</td>\n",
              "      <td>Acute Services</td>\n",
              "      <td>158.0</td>\n",
              "      <td>211.0</td>\n",
              "      <td>110.0</td>\n",
              "      <td>36.0</td>\n",
              "      <td>0.0</td>\n",
              "      <td>0.0</td>\n",
              "      <td>515.0</td>\n",
              "      <td>6.246107</td>\n",
              "      <td>False</td>\n",
              "      <td>False</td>\n",
              "      <td>False</td>\n",
              "    </tr>\n",
              "    <tr>\n",
              "      <th>3</th>\n",
              "      <td>2007-06-30</td>\n",
              "      <td>Belfast</td>\n",
              "      <td>ENT</td>\n",
              "      <td>Acute Services</td>\n",
              "      <td>121.0</td>\n",
              "      <td>159.0</td>\n",
              "      <td>72.0</td>\n",
              "      <td>1.0</td>\n",
              "      <td>0.0</td>\n",
              "      <td>0.0</td>\n",
              "      <td>353.0</td>\n",
              "      <td>5.869297</td>\n",
              "      <td>False</td>\n",
              "      <td>False</td>\n",
              "      <td>False</td>\n",
              "    </tr>\n",
              "    <tr>\n",
              "      <th>4</th>\n",
              "      <td>2007-06-30</td>\n",
              "      <td>Belfast</td>\n",
              "      <td>Ophthalmology</td>\n",
              "      <td>Acute Services</td>\n",
              "      <td>905.0</td>\n",
              "      <td>846.0</td>\n",
              "      <td>405.0</td>\n",
              "      <td>19.0</td>\n",
              "      <td>0.0</td>\n",
              "      <td>0.0</td>\n",
              "      <td>2175.0</td>\n",
              "      <td>7.685244</td>\n",
              "      <td>False</td>\n",
              "      <td>False</td>\n",
              "      <td>False</td>\n",
              "    </tr>\n",
              "    <tr>\n",
              "      <th>...</th>\n",
              "      <td>...</td>\n",
              "      <td>...</td>\n",
              "      <td>...</td>\n",
              "      <td>...</td>\n",
              "      <td>...</td>\n",
              "      <td>...</td>\n",
              "      <td>...</td>\n",
              "      <td>...</td>\n",
              "      <td>...</td>\n",
              "      <td>...</td>\n",
              "      <td>...</td>\n",
              "      <td>...</td>\n",
              "      <td>...</td>\n",
              "      <td>...</td>\n",
              "      <td>...</td>\n",
              "    </tr>\n",
              "    <tr>\n",
              "      <th>4394</th>\n",
              "      <td>2019-09-30</td>\n",
              "      <td>Western</td>\n",
              "      <td>Ophthalmology</td>\n",
              "      <td>Acute Services</td>\n",
              "      <td>418.0</td>\n",
              "      <td>392.0</td>\n",
              "      <td>438.0</td>\n",
              "      <td>246.0</td>\n",
              "      <td>1437.0</td>\n",
              "      <td>212.0</td>\n",
              "      <td>3143.0</td>\n",
              "      <td>8.053251</td>\n",
              "      <td>False</td>\n",
              "      <td>False</td>\n",
              "      <td>False</td>\n",
              "    </tr>\n",
              "    <tr>\n",
              "      <th>4395</th>\n",
              "      <td>2019-09-30</td>\n",
              "      <td>Western</td>\n",
              "      <td>Oral Surgery</td>\n",
              "      <td>Acute Services</td>\n",
              "      <td>116.0</td>\n",
              "      <td>60.0</td>\n",
              "      <td>58.0</td>\n",
              "      <td>19.0</td>\n",
              "      <td>151.0</td>\n",
              "      <td>94.0</td>\n",
              "      <td>498.0</td>\n",
              "      <td>6.212606</td>\n",
              "      <td>False</td>\n",
              "      <td>False</td>\n",
              "      <td>False</td>\n",
              "    </tr>\n",
              "    <tr>\n",
              "      <th>4396</th>\n",
              "      <td>2019-09-30</td>\n",
              "      <td>Western</td>\n",
              "      <td>Pain Management</td>\n",
              "      <td>Acute Services</td>\n",
              "      <td>59.0</td>\n",
              "      <td>38.0</td>\n",
              "      <td>38.0</td>\n",
              "      <td>21.0</td>\n",
              "      <td>213.0</td>\n",
              "      <td>92.0</td>\n",
              "      <td>461.0</td>\n",
              "      <td>6.135565</td>\n",
              "      <td>False</td>\n",
              "      <td>False</td>\n",
              "      <td>False</td>\n",
              "    </tr>\n",
              "    <tr>\n",
              "      <th>4397</th>\n",
              "      <td>2019-09-30</td>\n",
              "      <td>Western</td>\n",
              "      <td>T &amp; O Surgery</td>\n",
              "      <td>Acute Services</td>\n",
              "      <td>164.0</td>\n",
              "      <td>92.0</td>\n",
              "      <td>90.0</td>\n",
              "      <td>67.0</td>\n",
              "      <td>986.0</td>\n",
              "      <td>693.0</td>\n",
              "      <td>2092.0</td>\n",
              "      <td>7.646354</td>\n",
              "      <td>False</td>\n",
              "      <td>False</td>\n",
              "      <td>False</td>\n",
              "    </tr>\n",
              "    <tr>\n",
              "      <th>4398</th>\n",
              "      <td>2019-09-30</td>\n",
              "      <td>Western</td>\n",
              "      <td>Urology</td>\n",
              "      <td>Acute Services</td>\n",
              "      <td>252.0</td>\n",
              "      <td>100.0</td>\n",
              "      <td>73.0</td>\n",
              "      <td>60.0</td>\n",
              "      <td>337.0</td>\n",
              "      <td>13.0</td>\n",
              "      <td>835.0</td>\n",
              "      <td>6.728629</td>\n",
              "      <td>False</td>\n",
              "      <td>False</td>\n",
              "      <td>False</td>\n",
              "    </tr>\n",
              "  </tbody>\n",
              "</table>\n",
              "<p>4399 rows × 15 columns</p>\n",
              "</div>"
            ],
            "text/plain": [
              "     quarter_ending HSC_trust        specialty         program  0-6_weeks  \\\n",
              "0        2007-06-30   Belfast  General Surgery  Acute Services      309.0   \n",
              "1        2007-06-30   Belfast          Urology  Acute Services      483.0   \n",
              "2        2007-06-30   Belfast    T & O Surgery  Acute Services      158.0   \n",
              "3        2007-06-30   Belfast              ENT  Acute Services      121.0   \n",
              "4        2007-06-30   Belfast    Ophthalmology  Acute Services      905.0   \n",
              "...             ...       ...              ...             ...        ...   \n",
              "4394     2019-09-30   Western    Ophthalmology  Acute Services      418.0   \n",
              "4395     2019-09-30   Western     Oral Surgery  Acute Services      116.0   \n",
              "4396     2019-09-30   Western  Pain Management  Acute Services       59.0   \n",
              "4397     2019-09-30   Western    T & O Surgery  Acute Services      164.0   \n",
              "4398     2019-09-30   Western          Urology  Acute Services      252.0   \n",
              "\n",
              "      >6-13_weeks  >13-21_weeks  >21-26_weeks  >26-52_weeks  >52_weeks  \\\n",
              "0           218.0         138.0           6.0           0.0        0.0   \n",
              "1           301.0         116.0           3.0           0.0        0.0   \n",
              "2           211.0         110.0          36.0           0.0        0.0   \n",
              "3           159.0          72.0           1.0           0.0        0.0   \n",
              "4           846.0         405.0          19.0           0.0        0.0   \n",
              "...           ...           ...           ...           ...        ...   \n",
              "4394        392.0         438.0         246.0        1437.0      212.0   \n",
              "4395         60.0          58.0          19.0         151.0       94.0   \n",
              "4396         38.0          38.0          21.0         213.0       92.0   \n",
              "4397         92.0          90.0          67.0         986.0      693.0   \n",
              "4398        100.0          73.0          60.0         337.0       13.0   \n",
              "\n",
              "      total_patients  log_total_patients  program_Elderly Care  \\\n",
              "0              671.0            6.510258                 False   \n",
              "1              903.0            6.806829                 False   \n",
              "2              515.0            6.246107                 False   \n",
              "3              353.0            5.869297                 False   \n",
              "4             2175.0            7.685244                 False   \n",
              "...              ...                 ...                   ...   \n",
              "4394          3143.0            8.053251                 False   \n",
              "4395           498.0            6.212606                 False   \n",
              "4396           461.0            6.135565                 False   \n",
              "4397          2092.0            7.646354                 False   \n",
              "4398           835.0            6.728629                 False   \n",
              "\n",
              "      program_Maternity & Child Health  program_Mental Health  \n",
              "0                                False                  False  \n",
              "1                                False                  False  \n",
              "2                                False                  False  \n",
              "3                                False                  False  \n",
              "4                                False                  False  \n",
              "...                                ...                    ...  \n",
              "4394                             False                  False  \n",
              "4395                             False                  False  \n",
              "4396                             False                  False  \n",
              "4397                             False                  False  \n",
              "4398                             False                  False  \n",
              "\n",
              "[4399 rows x 15 columns]"
            ]
          },
          "execution_count": 13,
          "metadata": {},
          "output_type": "execute_result"
        }
      ],
      "source": [
        "### commencez votre code ici ###\n",
        "# joindre df_WT avec df_dummies\n",
        "# vous verrez une erreur si vous exécutez cette cellule deux fois car les colonnes auraient déjà été jointes la première fois\n",
        "df_WT = df_WT.join(df_dummies)\n",
        "### terminez votre code ici ###\n",
        "\n",
        "df_WT"
      ]
    },
    {
      "cell_type": "code",
      "execution_count": null,
      "metadata": {},
      "outputs": [],
      "source": []
    }
  ],
  "metadata": {
    "kernelspec": {
      "display_name": "Python 3 (ipykernel)",
      "language": "python",
      "name": "python3"
    },
    "language_info": {
      "codemirror_mode": {
        "name": "ipython",
        "version": 3
      },
      "file_extension": ".py",
      "mimetype": "text/x-python",
      "name": "python",
      "nbconvert_exporter": "python",
      "pygments_lexer": "ipython3",
      "version": "3.11.5"
    },
    "toc": {
      "base_numbering": 1,
      "nav_menu": {},
      "number_sections": true,
      "sideBar": true,
      "skip_h1_title": false,
      "title_cell": "Table of Contents",
      "title_sidebar": "Contents",
      "toc_cell": false,
      "toc_position": {
        "height": "calc(100% - 180px)",
        "left": "10px",
        "top": "150px",
        "width": "165px"
      },
      "toc_section_display": true,
      "toc_window_display": true
    }
  },
  "nbformat": 4,
  "nbformat_minor": 1
}
