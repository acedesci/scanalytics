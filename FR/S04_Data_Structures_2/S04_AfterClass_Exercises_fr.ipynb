{
  "cells": [
    {
      "cell_type": "markdown",
      "metadata": {
        "id": "baCCKjGsTSa3"
      },
      "source": [
        "# S04 - Exercices après le cours : Structures de données Python II et exemples logistique\n",
        "\n",
        "## Instructions\n",
        "\n",
        "La plupart des exercices présentés ici vous permettent de pratiquer la programmation Python de base pour certaines applications en gestion des opérations et de la logistique.\n",
        "\n",
        "Pour chaque exercice, vous avez une cellule de code pour la réponse en dessous, où vous devez écrire votre réponse entre les lignes contenant `### commencez votre code ici ###` et `### terminez votre code ici ###`. Votre code peut contenir une ou plusieurs lignes et vous pouvez exécuter cette cellule afin de terminer l'exercice. Pour exécuter la cellule, vous pouvez taper `Shift+Enter` ou appuyer sur le bouton de lecture dans la barre d'outils ci-dessus. Vos résultats apparaîtront juste en dessous de cette cellule de réponse.\n",
        "\n",
        "**REMARQUE :** Veuillez prêter attention au nom de la variable de sortie que vous devez fournir sous chaque question. Vous devez utiliser le même nom de variable pour la sortie afin que le résultat puisse être imprimé correctement."
      ]
    },
    {
      "cell_type": "markdown",
      "metadata": {
        "id": "lljX7N2kk-kC"
      },
      "source": [
        "## Modèle de diffusion de Bass\n",
        "\n",
        "Dans la séance 2, nous avons défini les deux fonctions suivantes pour le modèle de diffusion de Bass :\n",
        "\n",
        "Le nombre cumulé d'adoptants (personnes qui ont acheté/adopté le produit) $S(t)$ depuis le début (temps 0) jusqu'au temps $t$ est décrit par $S(t) = m\\times F(t)$ où $m$ est la taille du marché (le nombre total estimé de clients potentiels) et $F(t)$ est la probabilité <i>cumulative</i> qu'un individu (client potentiel) ait déjà adopté le produit au temps $t$ (qui doit être calculée).\n",
        "Nous pouvons obtenir $F(t)$ en fonction de $p$ et $q$ comme suit :\n",
        "\n",
        "$$F(t) = \\frac{1-e^{-(p+q)t}}{1+\\frac{q}{p}e^{-(p+q)t}} $$\n",
        "\n",
        "où\n",
        "* $p$ est le coefficient d'innovation\n",
        "* $q$ est le coefficient d'imitation\n",
        "\n",
        "De plus, la probabilité d'adoption par un individu à l'instant $t$ qui est représentée par $f(t)$ (rappelons que $f(t) = \\frac{d}{dt}F(t)$) peut être calculée comme suit :\n",
        "\n",
        "$$f(t) = \\frac{d}{dt}F(t) = \\frac{e^{(p+q)t}p(p+q)^2}{[p e^{(p+q)t} + q]^2} \\text{.}$$\n",
        "\n",
        "Par conséquent, le nombre estimé d'adoptions dans chaque période peut être calculé comme $s(t) = m\\times f(t)$\n",
        "\n",
        "Nous avons ensuite préparé les deux fonctions suivantes pour calculer $F(t)$ et $f(t)$."
      ]
    },
    {
      "cell_type": "code",
      "execution_count": null,
      "metadata": {
        "id": "WCZ1wOa7Rcye"
      },
      "outputs": [],
      "source": [
        "import math\n",
        "\n",
        "def Bass_cumulative_probability_Ft(p, q, t):\n",
        "    return (1 - math.exp(-(p + q) * t)) / (1 + (q / p) * math.exp(-(p + q) * t))\n",
        "\n",
        "def Bass_probability_ft(p, q, t):\n",
        "    return (math.exp((p + q) * t) * p * (p + q)**2) / (p * math.exp((p + q) * t) + q)**2"
      ]
    },
    {
      "cell_type": "markdown",
      "metadata": {
        "id": "l6zE6dpvs-u2"
      },
      "source": [
        "Sur la base des valeurs de $p$, $q$ et $m$ des ventes trimestrielles d'iPhone fournies dans la cellule de code ci-dessous, veuillez calculer les valeurs de la probabilité estimée d'adoption $f(t)$, de la probabilité cumulée d'adoption $F(t)$, du nombre d'adoptions $s(t) = m\\times f(t)$ et du nombre cumulé d'adoptions $S(t) = m\\times F(t)$ pour chaque trimestre, qui est indexé par $t$. Notez que la première colonne ci-dessous est un index tandis que les quatre colonnes suivantes contiennent les valeurs correspondantes des estimations basées sur le modèle de diffusion de Bass.\n",
        "\n",
        "|Quarter| ft | Ft| st | St | \n",
        "| :- | :- | :- | :- | :- | \n",
        "|...| ... |...| ... |...|\n",
        "\n",
        "Les paramètres $m$, $p$ et $q$ du modèle Bass pour iPhone ont été obtenus à partir de l'article ci-dessous (notez que nous verrons également comment nous pouvons obtenir de tels paramètres en utilisant une régression plus tard dans le cours).\n",
        "> Ashokan, R., Zenarosa, G. L., & He, X. (2018). Modèle de diffusion pour l'adoption de marques de smartphones dans des conditions de prix concurrentiels. Int. J. Trade Econ. Finan, 9(3), 96-99.\n",
        "\n",
        "### Question 1\n",
        "Calculez les valeurs comme indiqué dans le tableau ci-dessus pour les 40 premiers trimestres de ventes (soit 10 ans) en utilisant les paramètres fournis. L'indice du trimestre doit être compris entre 0 et 39 (c'est-à-dire que le premier trimestre est considéré comme la période $t=0$)."
      ]
    },
    {
      "cell_type": "code",
      "execution_count": null,
      "metadata": {
        "id": "weo_MguSwfeq"
      },
      "outputs": [],
      "source": [
        "m = 1650.041  # cela correspond à la valeur 1650.041×10^6, c'est-à-dire que la taille du marché est de 1,65 milliard\n",
        "p = 0.002493\n",
        "q = 0.132501"
      ]
    },
    {
      "cell_type": "code",
      "execution_count": null,
      "metadata": {
        "id": "vk7Qfr38mtko"
      },
      "outputs": [],
      "source": [
        "import pandas as pd\n",
        "\n",
        "column_names = ['ft', 'Ft', 'st', 'St']\n",
        "quarter_index = list(range(40))\n",
        "bass_df = pd.DataFrame(index=quarter_index, columns=column_names)\n",
        "bass_df.index.name = 'Quarter'\n",
        "\n",
        "### commencez votre code ici ###\n",
        "\n",
        "### terminez votre code ici ###\n",
        "\n",
        "bass_df.head()"
      ]
    },
    {
      "cell_type": "markdown",
      "metadata": {
        "id": "wqXtek3HTVNc"
      },
      "source": [
        "### Question 2\n",
        "Faire les tâches suivantes:\n",
        "- (i) tracer les colonnes `['ft','Ft']` dans un graphique linéaire (paramètre `kind='line'`) et\n",
        "- (ii) tracer les colonnes `['st','St']` dans un graphique à barres (paramètre `kind='bar'`).\n",
        "\n",
        "Vous pouvez également indiquer la taille des figures en utilisant le paramètre `figsize=(12,4)`."
      ]
    },
    {
      "cell_type": "code",
      "execution_count": null,
      "metadata": {
        "id": "qLljeugk0Kw-"
      },
      "outputs": [],
      "source": [
        "### commencez votre code ici ###\n",
        "\n",
        "### terminez votre code ici ###"
      ]
    },
    {
      "cell_type": "markdown",
      "metadata": {
        "id": "c2G43F9gaHiS"
      },
      "source": [
        "### Question 3\n",
        "Nous pouvons maintenant comparer les résultats avec les ventes trimestrielles réelles d'iPhone pour les 40 premiers trimestres (à partir du deuxième trimestre 2007, lorsque le produit a été lancé pour la première fois). Les données sont disponibles dans l'URL ci-dessous (au format csv) que nous pouvons télécharger dans un `DataFrame`."
      ]
    },
    {
      "cell_type": "code",
      "execution_count": null,
      "metadata": {},
      "outputs": [],
      "source": [
        "url = 'https://raw.githubusercontent.com/acedesci/scanalytics/master/data/iphone_quarter_sales.csv'\n",
        "actual_sales = pd.read_csv(url, index_col='Quarter')\n",
        "actual_sales.head()"
      ]
    },
    {
      "cell_type": "markdown",
      "metadata": {},
      "source": [
        "Ajoutez les colonnes suivantes et leurs valeurs correspondantes au DataFrame `bass_df`:\n",
        "\n",
        "* Colonne `'Actual'` : qui contient les ventes réelles du DataFrame `actual_sales`\n",
        "* Colonne `'CumulativeActual'` : qui calcule la somme du premier trimestre jusqu'à chaque trimestre de l'index\n",
        "* Colonne `'PError'` : qui calcule le pourcentage d'erreur de chaque trimestre correspondant à partir de la colonne `'Actual'` et de la colonne `st` (ventes estimées pour chaque trimestre), c'est-à-dire `PError = (Actual - st) / Actual`"
      ]
    },
    {
      "cell_type": "code",
      "execution_count": null,
      "metadata": {
        "id": "FaoMpo_TaFYl"
      },
      "outputs": [],
      "source": [
        "### commencez votre code ici ###\n",
        "\n",
        "### terminez votre code ici ###\n",
        "bass_df"
      ]
    },
    {
      "cell_type": "markdown",
      "metadata": {
        "id": "s4qiBovTtobr"
      },
      "source": [
        "### Question 4\n",
        "Nous pouvons également générer la date du dernier jour de chaque trimestre en utilisant le code ci-dessous."
      ]
    },
    {
      "cell_type": "code",
      "execution_count": null,
      "metadata": {
        "id": "eJnh5ARpm8D0"
      },
      "outputs": [],
      "source": [
        "quarter_index_date = pd.date_range('4/1/2007', periods=40, freq='Q')\n",
        "quarter_index_date"
      ]
    },
    {
      "cell_type": "markdown",
      "metadata": {
        "id": "7GEww6Fph65y"
      },
      "source": [
        "Veuillez (i) remplacer les index d'origine en utilisant la liste nouvellement créée `quarter_index_date` et (ii) créer ensuite les tracés suivants à partir du DataFrame `bass_df` en utilisant la taille `figsize=(12,4)` :\n",
        "\n",
        "* Colonnes `['St','CumulativeActual']` utilisant un tracé linéaire\n",
        "* Colonnes `['st','Actual']` utilisant un tracé linéaire\n",
        "* Colonne `['PError']` utilisant un graphique à barres\n",
        "\n",
        "**Astuce** : vous pouvez utiliser la méthode `set_index()` en appelant `bass_df = bass_df.set_index(new_index_list)` pour définir l'index (voir [ce lien](https://pandas.pydata.org/docs/reference/api/pandas.DataFrame.set_index.html))"
      ]
    },
    {
      "cell_type": "code",
      "execution_count": null,
      "metadata": {
        "id": "f5tkpswYh5uO"
      },
      "outputs": [],
      "source": [
        "### commencez votre code ici ###\n",
        "\n",
        "### terminez votre code ici ###"
      ]
    },
    {
      "cell_type": "code",
      "execution_count": null,
      "metadata": {},
      "outputs": [],
      "source": []
    }
  ],
  "metadata": {
    "colab": {
      "authorship_tag": "ABX9TyMEq55tbYPmbAB8bHi/IENn",
      "include_colab_link": true,
      "name": "S04_AfterClass_Exercises_DataFrame_Solution.ipynb",
      "provenance": []
    },
    "kernelspec": {
      "display_name": "Python 3 (ipykernel)",
      "language": "python",
      "name": "python3"
    },
    "language_info": {
      "codemirror_mode": {
        "name": "ipython",
        "version": 3
      },
      "file_extension": ".py",
      "mimetype": "text/x-python",
      "name": "python",
      "nbconvert_exporter": "python",
      "pygments_lexer": "ipython3",
      "version": "3.11.5"
    },
    "toc": {
      "base_numbering": 1,
      "nav_menu": {},
      "number_sections": true,
      "sideBar": true,
      "skip_h1_title": false,
      "title_cell": "Table of Contents",
      "title_sidebar": "Contents",
      "toc_cell": false,
      "toc_position": {},
      "toc_section_display": true,
      "toc_window_display": true
    }
  },
  "nbformat": 4,
  "nbformat_minor": 1
}
