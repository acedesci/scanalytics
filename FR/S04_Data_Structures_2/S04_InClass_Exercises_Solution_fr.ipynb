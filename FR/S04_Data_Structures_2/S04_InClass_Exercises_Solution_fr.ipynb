{
  "cells": [
    {
      "cell_type": "markdown",
      "metadata": {
        "id": "orA_0s_Vpo62"
      },
      "source": [
        "# S04 - Exercices en classe : Structures de données Python II et exemples logistique (solution)\n",
        "\n",
        "## Instructions\n",
        "\n",
        "La plupart des exercices présentés ici vous permettent de pratiquer la programmation Python de base pour certaines applications en gestion des opérations et de la logistique.\n",
        "\n",
        "Pour chaque exercice, vous avez une cellule de code pour la réponse en dessous, où vous devez écrire votre réponse entre les lignes contenant `### commencez votre code ici ###` et `### terminez votre code ici ###`. Votre code peut contenir une ou plusieurs lignes et vous pouvez exécuter cette cellule afin de terminer l'exercice. Pour exécuter la cellule, vous pouvez taper `Shift+Enter` ou appuyer sur le bouton de lecture dans la barre d'outils ci-dessus. Vos résultats apparaîtront juste en dessous de cette cellule de réponse.\n",
        "\n",
        "**REMARQUE :** Veuillez prêter attention au nom de la variable de sortie que vous devez fournir sous chaque question. Vous devez utiliser le même nom de variable pour la sortie afin que le résultat puisse être imprimé correctement."
      ]
    },
    {
      "cell_type": "markdown",
      "metadata": {
        "id": "S6TfdlB1po7D"
      },
      "source": [
        "## Calcul des coûts totaux et analyse des différentes politiques de gestion des stocks\n",
        "Dans cet exercice, vous utiliserez la librairie pandas pour comparer deux politiques de gestion des stocks différentes, calculer leurs coûts totaux correspondants et sélectionner la politique la plus économique.\n",
        "\n",
        "### Prérequis : Lecture de données\n",
        "Importez la librairie pandas sous l'alias `pd`. Importez le fichier CSV `InvPolicies.csv` dans un `DataFrame`, et sélectionnez la première colonne nommée `'Period'` comme index du `DataFrame`. Affichez ensuite les 10 premières lignes de votre `DataFrame`.\n",
        "\n",
        "**Astuce :** vous pouvez définir la colonne d'index du `DataFrame` en utilisant le paramètre `index_col` de la méthode `read_csv()`. Consultez [cette page](https://pandas.pydata.org/pandas-docs/stable/reference/api/pandas.read_csv.html) pour plus d'informations."
      ]
    },
    {
      "cell_type": "code",
      "execution_count": 1,
      "metadata": {
        "colab": {
          "base_uri": "https://localhost:8080/",
          "height": 394
        },
        "id": "w22RdAshpo7E",
        "outputId": "c312d97c-1d62-42bf-88b6-7c3838dcf5ac"
      },
      "outputs": [
        {
          "data": {
            "text/html": [
              "<div>\n",
              "<style scoped>\n",
              "    .dataframe tbody tr th:only-of-type {\n",
              "        vertical-align: middle;\n",
              "    }\n",
              "\n",
              "    .dataframe tbody tr th {\n",
              "        vertical-align: top;\n",
              "    }\n",
              "\n",
              "    .dataframe thead th {\n",
              "        text-align: right;\n",
              "    }\n",
              "</style>\n",
              "<table border=\"1\" class=\"dataframe\">\n",
              "  <thead>\n",
              "    <tr style=\"text-align: right;\">\n",
              "      <th></th>\n",
              "      <th>P1_Ending_Inv</th>\n",
              "      <th>P1_Order</th>\n",
              "      <th>P2_Ending_Inv</th>\n",
              "      <th>P2_Order</th>\n",
              "    </tr>\n",
              "    <tr>\n",
              "      <th>Week</th>\n",
              "      <th></th>\n",
              "      <th></th>\n",
              "      <th></th>\n",
              "      <th></th>\n",
              "    </tr>\n",
              "  </thead>\n",
              "  <tbody>\n",
              "    <tr>\n",
              "      <th>1</th>\n",
              "      <td>29</td>\n",
              "      <td>51</td>\n",
              "      <td>29</td>\n",
              "      <td>41</td>\n",
              "    </tr>\n",
              "    <tr>\n",
              "      <th>2</th>\n",
              "      <td>13</td>\n",
              "      <td>0</td>\n",
              "      <td>13</td>\n",
              "      <td>0</td>\n",
              "    </tr>\n",
              "    <tr>\n",
              "      <th>3</th>\n",
              "      <td>0</td>\n",
              "      <td>0</td>\n",
              "      <td>0</td>\n",
              "      <td>29</td>\n",
              "    </tr>\n",
              "    <tr>\n",
              "      <th>4</th>\n",
              "      <td>34</td>\n",
              "      <td>0</td>\n",
              "      <td>24</td>\n",
              "      <td>0</td>\n",
              "    </tr>\n",
              "    <tr>\n",
              "      <th>5</th>\n",
              "      <td>23</td>\n",
              "      <td>57</td>\n",
              "      <td>13</td>\n",
              "      <td>28</td>\n",
              "    </tr>\n",
              "    <tr>\n",
              "      <th>6</th>\n",
              "      <td>0</td>\n",
              "      <td>0</td>\n",
              "      <td>19</td>\n",
              "      <td>0</td>\n",
              "    </tr>\n",
              "    <tr>\n",
              "      <th>7</th>\n",
              "      <td>-17</td>\n",
              "      <td>0</td>\n",
              "      <td>2</td>\n",
              "      <td>40</td>\n",
              "    </tr>\n",
              "    <tr>\n",
              "      <th>8</th>\n",
              "      <td>20</td>\n",
              "      <td>60</td>\n",
              "      <td>10</td>\n",
              "      <td>0</td>\n",
              "    </tr>\n",
              "    <tr>\n",
              "      <th>9</th>\n",
              "      <td>4</td>\n",
              "      <td>0</td>\n",
              "      <td>-6</td>\n",
              "      <td>36</td>\n",
              "    </tr>\n",
              "    <tr>\n",
              "      <th>10</th>\n",
              "      <td>-6</td>\n",
              "      <td>0</td>\n",
              "      <td>24</td>\n",
              "      <td>0</td>\n",
              "    </tr>\n",
              "  </tbody>\n",
              "</table>\n",
              "</div>"
            ],
            "text/plain": [
              "      P1_Ending_Inv  P1_Order  P2_Ending_Inv  P2_Order\n",
              "Week                                                  \n",
              "1                29        51             29        41\n",
              "2                13         0             13         0\n",
              "3                 0         0              0        29\n",
              "4                34         0             24         0\n",
              "5                23        57             13        28\n",
              "6                 0         0             19         0\n",
              "7               -17         0              2        40\n",
              "8                20        60             10         0\n",
              "9                 4         0             -6        36\n",
              "10               -6         0             24         0"
            ]
          },
          "execution_count": 1,
          "metadata": {},
          "output_type": "execute_result"
        }
      ],
      "source": [
        "import pandas as pd\n",
        "url = 'https://raw.githubusercontent.com/acedesci/scanalytics/master/data/InvPolicy.csv'\n",
        "df_inv = pd.read_csv(url, index_col='Week')\n",
        "df_inv.head(10)"
      ]
    },
    {
      "cell_type": "markdown",
      "metadata": {
        "id": "y4pRAR0gpo7F"
      },
      "source": [
        "Vous pouvez voir que, comme dans l'exemple en classe, les données importées présentent un scénario pour les 52 prochaines semaines et les données suivantes pour deux politiques de stock différentes : le niveau de stock à la fin de chaque période et la quantité commandée à chaque période."
      ]
    },
    {
      "cell_type": "markdown",
      "metadata": {
        "id": "G5KhAZ9spo7G"
      },
      "source": [
        "### Exercice 1 : Analyse descriptive\n",
        "Analysons un peu nos données. À titre d'analyse exploratoire, pour chacune des deux politiques de stock « P1 » et « P2 », calculez les valeurs suivantes et imprimez les résultats. Si le nombre est fractionnaire, imprimez-le dans un format à deux chiffres.\n",
        "\n",
        "* *Stock physique moyen*. Il s'agit de la quantité de stock moyenne, mais qui considère que le stock minimum est à zéro. Le stock lorsqu'un arriéré se produit, représenté par un stock négatif, est considéré comme nul.\n",
        "* *Nombre de périodes avec pénurie/arriéré*\n",
        "* *Nombre de commandes sous chaque politique*\n",
        "* *Quantité moyenne commandée en vertu de chaque politique* lorsqu'une commande est passée\n",
        "\n",
        "**Astuce :** Si vous souhaitez définir une limite inférieure/supérieure pour les valeurs d'une colonne ou d'un `DataFrame`. Vous pouvez envisager d'utiliser la méthode `clip()` pour attribuer une valeur minimale ou maximale à la colonne. Voir [ce lien](https://www.w3resource.com/pandas/dataframe/dataframe-clip.php) pour plus d'informations."
      ]
    },
    {
      "cell_type": "code",
      "execution_count": 2,
      "metadata": {
        "colab": {
          "base_uri": "https://localhost:8080/",
          "height": 438
        },
        "id": "dXZYCK_rKI-i",
        "outputId": "569856b5-a98c-41bd-ffff-539d12f03837"
      },
      "outputs": [
        {
          "name": "stdout",
          "output_type": "stream",
          "text": [
            "Average physical inventory under P1: 12.60\n",
            "Average physical inventory under P2: 11.96\n",
            "Number of periods with shortage under P1: 14\n",
            "Number of periods with shortage under P2: 7\n",
            "Number of orders under P1: 16\n",
            "Number of orders under P2: 27\n",
            "Average order quantity under P1: 60.19\n",
            "Average order quantity under P2: 36.63\n"
          ]
        }
      ],
      "source": [
        "### commencez votre code ici ###\n",
        "print('Average physical inventory under P1:', '{:.2f}'.format(df_inv['P1_Ending_Inv'].clip(lower=0).mean()))\n",
        "print('Average physical inventory under P2:', '{:.2f}'.format(df_inv['P2_Ending_Inv'].clip(lower=0).mean()))\n",
        "\n",
        "print('Number of periods with shortage under P1:', sum(df_inv['P1_Ending_Inv'] < 0))\n",
        "print('Number of periods with shortage under P2:', sum(df_inv['P2_Ending_Inv'] < 0))\n",
        "\n",
        "print('Number of orders under P1:', sum(df_inv['P1_Order'] > 0))\n",
        "print('Number of orders under P2:', sum(df_inv['P2_Order'] > 0))\n",
        "\n",
        "print('Average order quantity under P1:', '{:.2f}'.format(df_inv['P1_Order'].loc[df_inv['P1_Order'] > 0].mean()))\n",
        "print('Average order quantity under P2:', '{:.2f}'.format(df_inv['P2_Order'].loc[df_inv['P2_Order'] > 0].mean()))\n",
        "### terminez votre code ici ###"
      ]
    },
    {
      "cell_type": "markdown",
      "metadata": {
        "id": "hrZW9L1spo7J"
      },
      "source": [
        "### Exercice 2 : Visualisation des niveaux de stock\n",
        "Créez des graphiques pour visualiser les niveaux de stock finaux (colonnes `['P1_Ending_Inv', 'P2_Ending_Inv']` des 36 premières semaines sous chaque politique en utilisant :\n",
        "- (i) un graphique à barres avec la taille `figsize = (12, 4)`,\n",
        "- (ii) un boîte à moustaches (`kind='box'`), et\n",
        "- (iii) un graphique de densité de probabilité (`kind='density'`).\n",
        "\n",
        "Voir ce [ce lien](https://pandas.pydata.org/pandas-docs/stable/reference/api/pandas.DataFrame.plot.html) pour plus d'informations."
      ]
    },
    {
      "cell_type": "code",
      "execution_count": 3,
      "metadata": {
        "colab": {
          "base_uri": "https://localhost:8080/",
          "height": 797
        },
        "id": "R2YtOjaupo7J",
        "outputId": "571a7e31-13c6-4072-a18d-8eedd2ea6447"
      },
      "outputs": [
        {
          "data": {
            "text/plain": [
              "<Axes: ylabel='Density'>"
            ]
          },
          "execution_count": 3,
          "metadata": {},
          "output_type": "execute_result"
        },
        {
          "data": {
            "image/png": "[encoded data removed]",
            "text/plain": [
              "<Figure size 1200x400 with 1 Axes>"
            ]
          },
          "metadata": {},
          "output_type": "display_data"
        },
        {
          "data": {
            "image/png": "[encoded data removed]",
            "text/plain": [
              "<Figure size 640x480 with 1 Axes>"
            ]
          },
          "metadata": {},
          "output_type": "display_data"
        },
        {
          "data": {
            "image/png": "[encoded data removed]",
            "text/plain": [
              "<Figure size 640x480 with 1 Axes>"
            ]
          },
          "metadata": {},
          "output_type": "display_data"
        }
      ],
      "source": [
        "### commencez votre code ici ###\n",
        "df_inv[:36][['P1_Ending_Inv', 'P2_Ending_Inv']].plot(kind='bar', figsize=(12,4))\n",
        "df_inv[:36][['P1_Ending_Inv', 'P2_Ending_Inv']].plot(kind='box')\n",
        "df_inv[:36][['P1_Ending_Inv', 'P2_Ending_Inv']].plot(kind='density')\n",
        "### terminez votre code ici ###"
      ]
    },
    {
      "cell_type": "markdown",
      "metadata": {
        "id": "cVlpLsg1po7K"
      },
      "source": [
        "### Exercice 3 : Calcul du coût de gestion des stocks pour chaque période\n",
        "Dans cet exercice, vous calculerez le coût de gestion des stocks pour chaque politique de stock à chaque période. Le coût de gestion des stocks est calculé comme la somme du coût de stockage, du coût de pénurie et du coût de commande. Les paramètres de coût suivants sont donnés :\n",
        "\n",
        "* `holding_cost` : coût de stockage unitaire facturé à la fin de chaque période (\\$ par unité et par période)\n",
        "* `shortage_cost` : coût unitaire de pénurie facturé à la fin de chaque période (\\$ par unité de pénurie)\n",
        "* `ordering_cost` : coût de la commande (\\$ par commande - quel que soit le nombre d'unités commandées dans une commande)\n",
        "\n",
        "Calculez le coût de gestion des stocks pour chaque période sous chaque politique « P1 » et « P2 ». Ajoutez ces nouvelles informations sous forme de nouvelles colonnes nommées `P1_TotalCost` et `P2_TotalCost` au `DataFrame`."
      ]
    },
    {
      "cell_type": "code",
      "execution_count": 4,
      "metadata": {
        "id": "OqGJN4Hw8yTD"
      },
      "outputs": [],
      "source": [
        "holding_cost = 5\n",
        "shortage_cost = 15\n",
        "ordering_cost = 150"
      ]
    },
    {
      "cell_type": "markdown",
      "metadata": {},
      "source": [
        "**Option 1** : L’approche la plus explicite."
      ]
    },
    {
      "cell_type": "code",
      "execution_count": 5,
      "metadata": {
        "colab": {
          "base_uri": "https://localhost:8080/",
          "height": 411
        },
        "id": "2IpphMni8zcJ",
        "outputId": "89066292-4525-436f-ad09-29f42d671f8c"
      },
      "outputs": [
        {
          "name": "stdout",
          "output_type": "stream",
          "text": [
            "Total IM cost for P1:$ 8360 , Total IM cost for P2:$ 7760\n"
          ]
        },
        {
          "data": {
            "text/html": [
              "<div>\n",
              "<style scoped>\n",
              "    .dataframe tbody tr th:only-of-type {\n",
              "        vertical-align: middle;\n",
              "    }\n",
              "\n",
              "    .dataframe tbody tr th {\n",
              "        vertical-align: top;\n",
              "    }\n",
              "\n",
              "    .dataframe thead th {\n",
              "        text-align: right;\n",
              "    }\n",
              "</style>\n",
              "<table border=\"1\" class=\"dataframe\">\n",
              "  <thead>\n",
              "    <tr style=\"text-align: right;\">\n",
              "      <th></th>\n",
              "      <th>P1_Ending_Inv</th>\n",
              "      <th>P1_Order</th>\n",
              "      <th>P2_Ending_Inv</th>\n",
              "      <th>P2_Order</th>\n",
              "      <th>P1_TotalCost</th>\n",
              "      <th>P2_TotalCost</th>\n",
              "    </tr>\n",
              "    <tr>\n",
              "      <th>Week</th>\n",
              "      <th></th>\n",
              "      <th></th>\n",
              "      <th></th>\n",
              "      <th></th>\n",
              "      <th></th>\n",
              "      <th></th>\n",
              "    </tr>\n",
              "  </thead>\n",
              "  <tbody>\n",
              "    <tr>\n",
              "      <th>1</th>\n",
              "      <td>29</td>\n",
              "      <td>51</td>\n",
              "      <td>29</td>\n",
              "      <td>41</td>\n",
              "      <td>295</td>\n",
              "      <td>295</td>\n",
              "    </tr>\n",
              "    <tr>\n",
              "      <th>2</th>\n",
              "      <td>13</td>\n",
              "      <td>0</td>\n",
              "      <td>13</td>\n",
              "      <td>0</td>\n",
              "      <td>65</td>\n",
              "      <td>65</td>\n",
              "    </tr>\n",
              "    <tr>\n",
              "      <th>3</th>\n",
              "      <td>0</td>\n",
              "      <td>0</td>\n",
              "      <td>0</td>\n",
              "      <td>29</td>\n",
              "      <td>0</td>\n",
              "      <td>150</td>\n",
              "    </tr>\n",
              "    <tr>\n",
              "      <th>4</th>\n",
              "      <td>34</td>\n",
              "      <td>0</td>\n",
              "      <td>24</td>\n",
              "      <td>0</td>\n",
              "      <td>170</td>\n",
              "      <td>120</td>\n",
              "    </tr>\n",
              "    <tr>\n",
              "      <th>5</th>\n",
              "      <td>23</td>\n",
              "      <td>57</td>\n",
              "      <td>13</td>\n",
              "      <td>28</td>\n",
              "      <td>265</td>\n",
              "      <td>215</td>\n",
              "    </tr>\n",
              "    <tr>\n",
              "      <th>6</th>\n",
              "      <td>0</td>\n",
              "      <td>0</td>\n",
              "      <td>19</td>\n",
              "      <td>0</td>\n",
              "      <td>0</td>\n",
              "      <td>95</td>\n",
              "    </tr>\n",
              "    <tr>\n",
              "      <th>7</th>\n",
              "      <td>-17</td>\n",
              "      <td>0</td>\n",
              "      <td>2</td>\n",
              "      <td>40</td>\n",
              "      <td>255</td>\n",
              "      <td>160</td>\n",
              "    </tr>\n",
              "    <tr>\n",
              "      <th>8</th>\n",
              "      <td>20</td>\n",
              "      <td>60</td>\n",
              "      <td>10</td>\n",
              "      <td>0</td>\n",
              "      <td>250</td>\n",
              "      <td>50</td>\n",
              "    </tr>\n",
              "    <tr>\n",
              "      <th>9</th>\n",
              "      <td>4</td>\n",
              "      <td>0</td>\n",
              "      <td>-6</td>\n",
              "      <td>36</td>\n",
              "      <td>20</td>\n",
              "      <td>240</td>\n",
              "    </tr>\n",
              "    <tr>\n",
              "      <th>10</th>\n",
              "      <td>-6</td>\n",
              "      <td>0</td>\n",
              "      <td>24</td>\n",
              "      <td>0</td>\n",
              "      <td>90</td>\n",
              "      <td>120</td>\n",
              "    </tr>\n",
              "  </tbody>\n",
              "</table>\n",
              "</div>"
            ],
            "text/plain": [
              "      P1_Ending_Inv  P1_Order  P2_Ending_Inv  P2_Order  P1_TotalCost  \\\n",
              "Week                                                                   \n",
              "1                29        51             29        41           295   \n",
              "2                13         0             13         0            65   \n",
              "3                 0         0              0        29             0   \n",
              "4                34         0             24         0           170   \n",
              "5                23        57             13        28           265   \n",
              "6                 0         0             19         0             0   \n",
              "7               -17         0              2        40           255   \n",
              "8                20        60             10         0           250   \n",
              "9                 4         0             -6        36            20   \n",
              "10               -6         0             24         0            90   \n",
              "\n",
              "      P2_TotalCost  \n",
              "Week                \n",
              "1              295  \n",
              "2               65  \n",
              "3              150  \n",
              "4              120  \n",
              "5              215  \n",
              "6               95  \n",
              "7              160  \n",
              "8               50  \n",
              "9              240  \n",
              "10             120  "
            ]
          },
          "execution_count": 5,
          "metadata": {},
          "output_type": "execute_result"
        }
      ],
      "source": [
        "### commencez votre code ici ###\n",
        "def inventory_cost(end_inv, order_qty, holding_cost, shortage_cost, ordering_cost):\n",
        "    if order_qty > 0:\n",
        "        return ordering_cost + max(end_inv, 0) * holding_cost + abs(min(end_inv, 0)) * shortage_cost\n",
        "    else:\n",
        "        return max(end_inv, 0) * holding_cost + abs(min(end_inv, 0)) * shortage_cost\n",
        "\n",
        "df_inv['P1_TotalCost'] = [inventory_cost(df_inv.at[t, 'P1_Ending_Inv'], df_inv.at[t, 'P1_Order'],\n",
        "                                         holding_cost, shortage_cost, ordering_cost) for t in df_inv.index]\n",
        "df_inv['P2_TotalCost'] = [inventory_cost(df_inv.at[t, 'P2_Ending_Inv'], df_inv.at[t, 'P2_Order'],\n",
        "                                         holding_cost, shortage_cost, ordering_cost) for t in df_inv.index]\n",
        "### terminez votre code ici ###\n",
        "\n",
        "print(\"Total IM cost for P1:$\", df_inv['P1_TotalCost'].sum(),\", Total IM cost for P2:$\", df_inv['P2_TotalCost'].sum())\n",
        "df_inv.head(10)"
      ]
    },
    {
      "cell_type": "markdown",
      "metadata": {},
      "source": [
        "**Option 2** : Utiliser quelques astuces pour raccourcir le code et le rendre plus rapide."
      ]
    },
    {
      "cell_type": "code",
      "execution_count": 6,
      "metadata": {
        "id": "K28siAi-po7M"
      },
      "outputs": [
        {
          "name": "stdout",
          "output_type": "stream",
          "text": [
            "Total IM cost for P1:$ 8360 , Total IM cost for P2:$ 7760\n"
          ]
        },
        {
          "data": {
            "text/html": [
              "<div>\n",
              "<style scoped>\n",
              "    .dataframe tbody tr th:only-of-type {\n",
              "        vertical-align: middle;\n",
              "    }\n",
              "\n",
              "    .dataframe tbody tr th {\n",
              "        vertical-align: top;\n",
              "    }\n",
              "\n",
              "    .dataframe thead th {\n",
              "        text-align: right;\n",
              "    }\n",
              "</style>\n",
              "<table border=\"1\" class=\"dataframe\">\n",
              "  <thead>\n",
              "    <tr style=\"text-align: right;\">\n",
              "      <th></th>\n",
              "      <th>P1_Ending_Inv</th>\n",
              "      <th>P1_Order</th>\n",
              "      <th>P2_Ending_Inv</th>\n",
              "      <th>P2_Order</th>\n",
              "      <th>P1_TotalCost</th>\n",
              "      <th>P2_TotalCost</th>\n",
              "    </tr>\n",
              "    <tr>\n",
              "      <th>Week</th>\n",
              "      <th></th>\n",
              "      <th></th>\n",
              "      <th></th>\n",
              "      <th></th>\n",
              "      <th></th>\n",
              "      <th></th>\n",
              "    </tr>\n",
              "  </thead>\n",
              "  <tbody>\n",
              "    <tr>\n",
              "      <th>1</th>\n",
              "      <td>29</td>\n",
              "      <td>51</td>\n",
              "      <td>29</td>\n",
              "      <td>41</td>\n",
              "      <td>295</td>\n",
              "      <td>295</td>\n",
              "    </tr>\n",
              "    <tr>\n",
              "      <th>2</th>\n",
              "      <td>13</td>\n",
              "      <td>0</td>\n",
              "      <td>13</td>\n",
              "      <td>0</td>\n",
              "      <td>65</td>\n",
              "      <td>65</td>\n",
              "    </tr>\n",
              "    <tr>\n",
              "      <th>3</th>\n",
              "      <td>0</td>\n",
              "      <td>0</td>\n",
              "      <td>0</td>\n",
              "      <td>29</td>\n",
              "      <td>0</td>\n",
              "      <td>150</td>\n",
              "    </tr>\n",
              "    <tr>\n",
              "      <th>4</th>\n",
              "      <td>34</td>\n",
              "      <td>0</td>\n",
              "      <td>24</td>\n",
              "      <td>0</td>\n",
              "      <td>170</td>\n",
              "      <td>120</td>\n",
              "    </tr>\n",
              "    <tr>\n",
              "      <th>5</th>\n",
              "      <td>23</td>\n",
              "      <td>57</td>\n",
              "      <td>13</td>\n",
              "      <td>28</td>\n",
              "      <td>265</td>\n",
              "      <td>215</td>\n",
              "    </tr>\n",
              "    <tr>\n",
              "      <th>6</th>\n",
              "      <td>0</td>\n",
              "      <td>0</td>\n",
              "      <td>19</td>\n",
              "      <td>0</td>\n",
              "      <td>0</td>\n",
              "      <td>95</td>\n",
              "    </tr>\n",
              "    <tr>\n",
              "      <th>7</th>\n",
              "      <td>-17</td>\n",
              "      <td>0</td>\n",
              "      <td>2</td>\n",
              "      <td>40</td>\n",
              "      <td>255</td>\n",
              "      <td>160</td>\n",
              "    </tr>\n",
              "    <tr>\n",
              "      <th>8</th>\n",
              "      <td>20</td>\n",
              "      <td>60</td>\n",
              "      <td>10</td>\n",
              "      <td>0</td>\n",
              "      <td>250</td>\n",
              "      <td>50</td>\n",
              "    </tr>\n",
              "    <tr>\n",
              "      <th>9</th>\n",
              "      <td>4</td>\n",
              "      <td>0</td>\n",
              "      <td>-6</td>\n",
              "      <td>36</td>\n",
              "      <td>20</td>\n",
              "      <td>240</td>\n",
              "    </tr>\n",
              "    <tr>\n",
              "      <th>10</th>\n",
              "      <td>-6</td>\n",
              "      <td>0</td>\n",
              "      <td>24</td>\n",
              "      <td>0</td>\n",
              "      <td>90</td>\n",
              "      <td>120</td>\n",
              "    </tr>\n",
              "  </tbody>\n",
              "</table>\n",
              "</div>"
            ],
            "text/plain": [
              "      P1_Ending_Inv  P1_Order  P2_Ending_Inv  P2_Order  P1_TotalCost  \\\n",
              "Week                                                                   \n",
              "1                29        51             29        41           295   \n",
              "2                13         0             13         0            65   \n",
              "3                 0         0              0        29             0   \n",
              "4                34         0             24         0           170   \n",
              "5                23        57             13        28           265   \n",
              "6                 0         0             19         0             0   \n",
              "7               -17         0              2        40           255   \n",
              "8                20        60             10         0           250   \n",
              "9                 4         0             -6        36            20   \n",
              "10               -6         0             24         0            90   \n",
              "\n",
              "      P2_TotalCost  \n",
              "Week                \n",
              "1              295  \n",
              "2               65  \n",
              "3              150  \n",
              "4              120  \n",
              "5              215  \n",
              "6               95  \n",
              "7              160  \n",
              "8               50  \n",
              "9              240  \n",
              "10             120  "
            ]
          },
          "execution_count": 6,
          "metadata": {},
          "output_type": "execute_result"
        }
      ],
      "source": [
        "### commencez votre code ici ###\n",
        "df_inv['P1_TotalCost'] = (df_inv['P1_Order'].gt(0) * ordering_cost\n",
        "                          + df_inv['P1_Ending_Inv'].gt(0) * df_inv['P1_Ending_Inv'] * holding_cost\n",
        "                          + df_inv['P1_Ending_Inv'].lt(0) * df_inv['P1_Ending_Inv'].abs() * shortage_cost)\n",
        "df_inv['P2_TotalCost'] = (df_inv['P2_Order'].gt(0) * ordering_cost\n",
        "                          + df_inv['P2_Ending_Inv'].gt(0) * df_inv['P2_Ending_Inv'] * holding_cost\n",
        "                          + df_inv['P2_Ending_Inv'].lt(0) * df_inv['P2_Ending_Inv'].abs() * shortage_cost)\n",
        "### terminez votre code ici ###\n",
        "\n",
        "print(\"Total IM cost for P1:$\", df_inv['P1_TotalCost'].sum(),\", Total IM cost for P2:$\", df_inv['P2_TotalCost'].sum())\n",
        "df_inv.head(10)"
      ]
    },
    {
      "cell_type": "code",
      "execution_count": null,
      "metadata": {},
      "outputs": [],
      "source": []
    }
  ],
  "metadata": {
    "kernelspec": {
      "display_name": "Python 3 (ipykernel)",
      "language": "python",
      "name": "python3"
    },
    "language_info": {
      "codemirror_mode": {
        "name": "ipython",
        "version": 3
      },
      "file_extension": ".py",
      "mimetype": "text/x-python",
      "name": "python",
      "nbconvert_exporter": "python",
      "pygments_lexer": "ipython3",
      "version": "3.11.5"
    },
    "toc": {
      "base_numbering": 1,
      "nav_menu": {},
      "number_sections": true,
      "sideBar": true,
      "skip_h1_title": false,
      "title_cell": "Table of Contents",
      "title_sidebar": "Contents",
      "toc_cell": false,
      "toc_position": {},
      "toc_section_display": true,
      "toc_window_display": true
    }
  },
  "nbformat": 4,
  "nbformat_minor": 1
}
