{
  "cells": [
    {
      "cell_type": "markdown",
      "metadata": {
        "id": "orA_0s_Vpo62"
      },
      "source": [
        "# S04 - Exercices en classe : Structures de données Python II et exemples logistique\n",
        "\n",
        "## Instructions\n",
        "\n",
        "La plupart des exercices présentés ici vous permettent de pratiquer la programmation Python de base pour certaines applications en gestion des opérations et de la logistique.\n",
        "\n",
        "Pour chaque exercice, vous avez une cellule de code pour la réponse en dessous, où vous devez écrire votre réponse entre les lignes contenant `### commencez votre code ici ###` et `### terminez votre code ici ###`. Votre code peut contenir une ou plusieurs lignes et vous pouvez exécuter cette cellule afin de terminer l'exercice. Pour exécuter la cellule, vous pouvez taper `Shift+Enter` ou appuyer sur le bouton de lecture dans la barre d'outils ci-dessus. Vos résultats apparaîtront juste en dessous de cette cellule de réponse.\n",
        "\n",
        "**REMARQUE :** Veuillez prêter attention au nom de la variable de sortie que vous devez fournir sous chaque question. Vous devez utiliser le même nom de variable pour la sortie afin que le résultat puisse être imprimé correctement."
      ]
    },
    {
      "cell_type": "markdown",
      "metadata": {
        "id": "S6TfdlB1po7D"
      },
      "source": [
        "## Calcul des coûts totaux et analyse des différentes politiques de gestion des stocks\n",
        "Dans cet exercice, vous utiliserez la librairie pandas pour comparer deux politiques de gestion des stocks différentes, calculer leurs coûts totaux correspondants et sélectionner la politique la plus économique.\n",
        "\n",
        "### Prérequis : Lecture de données\n",
        "Importez la librairie pandas sous l'alias `pd`. Importez le fichier CSV `InvPolicies.csv` dans un `DataFrame`, et sélectionnez la première colonne nommée `'Period'` comme index du `DataFrame`. Affichez ensuite les 10 premières lignes de votre `DataFrame`.\n",
        "\n",
        "**Astuce :** vous pouvez définir la colonne d'index du `DataFrame` en utilisant le paramètre `index_col` de la méthode `read_csv()`. Consultez [cette page](https://pandas.pydata.org/pandas-docs/stable/reference/api/pandas.read_csv.html) pour plus d'informations."
      ]
    },
    {
      "cell_type": "code",
      "execution_count": null,
      "metadata": {
        "colab": {
          "base_uri": "https://localhost:8080/",
          "height": 394
        },
        "id": "w22RdAshpo7E",
        "outputId": "c312d97c-1d62-42bf-88b6-7c3838dcf5ac"
      },
      "outputs": [],
      "source": [
        "import pandas as pd\n",
        "url = 'https://raw.githubusercontent.com/acedesci/scanalytics/master/data/InvPolicy.csv'\n",
        "df_inv = pd.read_csv(url, index_col='Week')\n",
        "df_inv.head(10)"
      ]
    },
    {
      "cell_type": "markdown",
      "metadata": {
        "id": "y4pRAR0gpo7F"
      },
      "source": [
        "Vous pouvez voir que, comme dans l'exemple en classe, les données importées présentent un scénario pour les 52 prochaines semaines et les données suivantes pour deux politiques de stock différentes : le niveau de stock à la fin de chaque période et la quantité commandée à chaque période."
      ]
    },
    {
      "cell_type": "markdown",
      "metadata": {
        "id": "G5KhAZ9spo7G"
      },
      "source": [
        "### Exercice 1 : Analyse descriptive\n",
        "Analysons un peu nos données. À titre d'analyse exploratoire, pour chacune des deux politiques de stock « P1 » et « P2 », calculez les valeurs suivantes et imprimez les résultats. Si le nombre est fractionnaire, imprimez-le dans un format à deux chiffres.\n",
        "\n",
        "* *Stock physique moyen*. Il s'agit de la quantité de stock moyenne, mais qui considère que le stock minimum est à zéro. Le stock lorsqu'un arriéré se produit, représenté par un stock négatif, est considéré comme nul.\n",
        "* *Nombre de périodes avec pénurie/arriéré*\n",
        "* *Nombre de commandes sous chaque politique*\n",
        "* *Quantité moyenne commandée en vertu de chaque politique* lorsqu'une commande est passée\n",
        "\n",
        "**Astuce :** Si vous souhaitez définir une limite inférieure/supérieure pour les valeurs d'une colonne ou d'un `DataFrame`. Vous pouvez envisager d'utiliser la méthode `clip()` pour attribuer une valeur minimale ou maximale à la colonne. Voir [ce lien](https://www.w3resource.com/pandas/dataframe/dataframe-clip.php) pour plus d'informations."
      ]
    },
    {
      "cell_type": "code",
      "execution_count": null,
      "metadata": {
        "colab": {
          "base_uri": "https://localhost:8080/",
          "height": 438
        },
        "id": "dXZYCK_rKI-i",
        "outputId": "569856b5-a98c-41bd-ffff-539d12f03837"
      },
      "outputs": [],
      "source": [
        "### commencez votre code ici ###\n",
        "\n",
        "### terminez votre code ici ###"
      ]
    },
    {
      "cell_type": "markdown",
      "metadata": {
        "id": "hrZW9L1spo7J"
      },
      "source": [
        "### Exercice 2 : Visualisation des niveaux de stock\n",
        "Créez des graphiques pour visualiser les niveaux de stock finaux (colonnes `['P1_Ending_Inv', 'P2_Ending_Inv']` des 36 premières semaines sous chaque politique en utilisant :\n",
        "- (i) un graphique à barres avec la taille `figsize = (12, 4)`,\n",
        "- (ii) un boîte à moustaches (`kind='box'`), et\n",
        "- (iii) un graphique de densité de probabilité (`kind='density'`).\n",
        "\n",
        "Voir ce [ce lien](https://pandas.pydata.org/pandas-docs/stable/reference/api/pandas.DataFrame.plot.html) pour plus d'informations."
      ]
    },
    {
      "cell_type": "code",
      "execution_count": null,
      "metadata": {
        "colab": {
          "base_uri": "https://localhost:8080/",
          "height": 797
        },
        "id": "R2YtOjaupo7J",
        "outputId": "571a7e31-13c6-4072-a18d-8eedd2ea6447"
      },
      "outputs": [],
      "source": [
        "### commencez votre code ici ###\n",
        "\n",
        "### terminez votre code ici ###"
      ]
    },
    {
      "cell_type": "markdown",
      "metadata": {
        "id": "cVlpLsg1po7K"
      },
      "source": [
        "### Exercice 3 : Calcul du coût de gestion des stocks pour chaque période\n",
        "Dans cet exercice, vous calculerez le coût de gestion des stocks pour chaque politique de stock à chaque période. Le coût de gestion des stocks est calculé comme la somme du coût de stockage, du coût de pénurie et du coût de commande. Les paramètres de coût suivants sont donnés :\n",
        "\n",
        "* `holding_cost` : coût de stockage unitaire facturé à la fin de chaque période (\\$ par unité et par période)\n",
        "* `shortage_cost` : coût unitaire de pénurie facturé à la fin de chaque période (\\$ par unité de pénurie)\n",
        "* `ordering_cost` : coût de la commande (\\$ par commande - quel que soit le nombre d'unités commandées dans une commande)\n",
        "\n",
        "Calculez le coût de gestion des stocks pour chaque période sous chaque politique « P1 » et « P2 ». Ajoutez ces nouvelles informations sous forme de nouvelles colonnes nommées `P1_TotalCost` et `P2_TotalCost` au `DataFrame`."
      ]
    },
    {
      "cell_type": "code",
      "execution_count": null,
      "metadata": {
        "id": "OqGJN4Hw8yTD"
      },
      "outputs": [],
      "source": [
        "holding_cost = 5\n",
        "shortage_cost = 15\n",
        "ordering_cost = 150"
      ]
    },
    {
      "cell_type": "code",
      "execution_count": null,
      "metadata": {
        "colab": {
          "base_uri": "https://localhost:8080/",
          "height": 411
        },
        "id": "2IpphMni8zcJ",
        "outputId": "89066292-4525-436f-ad09-29f42d671f8c"
      },
      "outputs": [],
      "source": [
        "### commencez votre code ici ###\n",
        "\n",
        "### terminez votre code ici ###\n",
        "\n",
        "print(\"Total IM cost for P1:$\", df_inv['P1_TotalCost'].sum(),\", Total IM cost for P2:$\", df_inv['P2_TotalCost'].sum())\n",
        "df_inv.head(10)"
      ]
    }
  ],
  "metadata": {
    "kernelspec": {
      "display_name": "Python 3 (ipykernel)",
      "language": "python",
      "name": "python3"
    },
    "language_info": {
      "codemirror_mode": {
        "name": "ipython",
        "version": 3
      },
      "file_extension": ".py",
      "mimetype": "text/x-python",
      "name": "python",
      "nbconvert_exporter": "python",
      "pygments_lexer": "ipython3",
      "version": "3.11.5"
    },
    "toc": {
      "base_numbering": 1,
      "nav_menu": {},
      "number_sections": true,
      "sideBar": true,
      "skip_h1_title": false,
      "title_cell": "Table of Contents",
      "title_sidebar": "Contents",
      "toc_cell": false,
      "toc_position": {},
      "toc_section_display": true,
      "toc_window_display": true
    }
  },
  "nbformat": 4,
  "nbformat_minor": 1
}
