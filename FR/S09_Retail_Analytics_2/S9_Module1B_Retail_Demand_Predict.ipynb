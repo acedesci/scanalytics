{
 "cells": [
  {
   "cell_type": "markdown",
   "metadata": {
    "colab_type": "text",
    "id": "view-in-github"
   },
   "source": [
    "<a href=\"https://colab.research.google.com/github/acedesci/scanalytics/blob/master/EN/S08_09_Retail_Analytics/S9_Module1B_Retail_Demand_Predict.ipynb\" target=\"_parent\"><img src=\"https://colab.research.google.com/assets/colab-badge.svg\" alt=\"Open In Colab\"/></a>"
   ]
  },
  {
   "cell_type": "markdown",
   "metadata": {
    "id": "8ERJ1nA4bXHZ"
   },
   "source": [
    "# Session 8: Retail analytics - Prediction from trained models"
   ]
  },
  {
   "cell_type": "markdown",
   "metadata": {
    "id": "789YRSDLbjPQ"
   },
   "source": [
    "## Module 1B: Predicting demands from trained models for decision models"
   ]
  },
  {
   "cell_type": "markdown",
   "metadata": {
    "id": "1iy3AoJtPXoV"
   },
   "source": [
    "In Module 1A in session 8, we designed our model on a predetermined subset of regressor variables and trained it by UPC. Now in this notebook, we will prepare our inputs for the optimization model by predicting the demands based on different price points."
   ]
  },
  {
   "cell_type": "code",
   "execution_count": 1,
   "metadata": {
    "id": "I2Sn0n-ZUc_E"
   },
   "outputs": [],
   "source": [
    "import pandas\n",
    "import sklearn\n",
    "from sklearn import *"
   ]
  },
  {
   "cell_type": "markdown",
   "metadata": {
    "id": "9cS5YfcZHddR"
   },
   "source": [
    "# 1. Data input\n",
    "\n",
    "We have prepared the input files which contain the features to be predicted. The first file shows a small dataset whereas the second file consists of a large dataset, i.e.,\n",
    "\n",
    "1.   **'InputFeatures_Prob1.csv'**. This is a small scale problem. The output of this will be used in the optimization model which you will see in Modules 2A (explicit model) and 2B (compact model).\n",
    "2.   **'InputFeatures_Prob2.csv'**. This is a large-scale problem. This one contains a much higher number of variables and constraints to reflect real-life setting. We will use the output of this in the Module 2B.\n",
    "\n",
    "In order to read the input, we provide two options here. Please run only either option 1 or option 2 (***not both***).\n",
    "\n",
    "**Option 1: download from the URLs**. You can you can get it directly from the URLs as usual using the codes below to download 'InputFeatures_Prob1.csv' and save it in DataFrame\n"
   ]
  },
  {
   "cell_type": "code",
   "execution_count": 2,
   "metadata": {
    "id": "AxK_p7tEka4y"
   },
   "outputs": [
    {
     "data": {
      "text/html": [
       "<div>\n",
       "<style scoped>\n",
       "    .dataframe tbody tr th:only-of-type {\n",
       "        vertical-align: middle;\n",
       "    }\n",
       "\n",
       "    .dataframe tbody tr th {\n",
       "        vertical-align: top;\n",
       "    }\n",
       "\n",
       "    .dataframe thead th {\n",
       "        text-align: right;\n",
       "    }\n",
       "</style>\n",
       "<table border=\"1\" class=\"dataframe\">\n",
       "  <thead>\n",
       "    <tr style=\"text-align: right;\">\n",
       "      <th></th>\n",
       "      <th>Unnamed: 0</th>\n",
       "      <th>avgPriceChoice</th>\n",
       "      <th>UPC</th>\n",
       "      <th>PRICE</th>\n",
       "      <th>PRICE_p2</th>\n",
       "      <th>FEATURE</th>\n",
       "      <th>DISPLAY</th>\n",
       "      <th>TPR_ONLY</th>\n",
       "      <th>RELPRICE</th>\n",
       "    </tr>\n",
       "  </thead>\n",
       "  <tbody>\n",
       "    <tr>\n",
       "      <th>0</th>\n",
       "      <td>0</td>\n",
       "      <td>3.0</td>\n",
       "      <td>1600027528</td>\n",
       "      <td>2.5</td>\n",
       "      <td>6.25</td>\n",
       "      <td>0</td>\n",
       "      <td>0</td>\n",
       "      <td>0</td>\n",
       "      <td>0.833333</td>\n",
       "    </tr>\n",
       "    <tr>\n",
       "      <th>1</th>\n",
       "      <td>1</td>\n",
       "      <td>3.0</td>\n",
       "      <td>1600027528</td>\n",
       "      <td>3.0</td>\n",
       "      <td>9.00</td>\n",
       "      <td>0</td>\n",
       "      <td>0</td>\n",
       "      <td>0</td>\n",
       "      <td>1.000000</td>\n",
       "    </tr>\n",
       "    <tr>\n",
       "      <th>2</th>\n",
       "      <td>2</td>\n",
       "      <td>3.0</td>\n",
       "      <td>1600027528</td>\n",
       "      <td>3.5</td>\n",
       "      <td>12.25</td>\n",
       "      <td>0</td>\n",
       "      <td>0</td>\n",
       "      <td>0</td>\n",
       "      <td>1.166667</td>\n",
       "    </tr>\n",
       "    <tr>\n",
       "      <th>3</th>\n",
       "      <td>3</td>\n",
       "      <td>3.0</td>\n",
       "      <td>1600027564</td>\n",
       "      <td>2.5</td>\n",
       "      <td>6.25</td>\n",
       "      <td>0</td>\n",
       "      <td>0</td>\n",
       "      <td>0</td>\n",
       "      <td>0.833333</td>\n",
       "    </tr>\n",
       "    <tr>\n",
       "      <th>4</th>\n",
       "      <td>4</td>\n",
       "      <td>3.0</td>\n",
       "      <td>1600027564</td>\n",
       "      <td>3.0</td>\n",
       "      <td>9.00</td>\n",
       "      <td>0</td>\n",
       "      <td>0</td>\n",
       "      <td>0</td>\n",
       "      <td>1.000000</td>\n",
       "    </tr>\n",
       "    <tr>\n",
       "      <th>5</th>\n",
       "      <td>5</td>\n",
       "      <td>3.0</td>\n",
       "      <td>1600027564</td>\n",
       "      <td>3.5</td>\n",
       "      <td>12.25</td>\n",
       "      <td>0</td>\n",
       "      <td>0</td>\n",
       "      <td>0</td>\n",
       "      <td>1.166667</td>\n",
       "    </tr>\n",
       "    <tr>\n",
       "      <th>6</th>\n",
       "      <td>6</td>\n",
       "      <td>3.0</td>\n",
       "      <td>3000006340</td>\n",
       "      <td>2.5</td>\n",
       "      <td>6.25</td>\n",
       "      <td>0</td>\n",
       "      <td>0</td>\n",
       "      <td>0</td>\n",
       "      <td>0.833333</td>\n",
       "    </tr>\n",
       "    <tr>\n",
       "      <th>7</th>\n",
       "      <td>7</td>\n",
       "      <td>3.0</td>\n",
       "      <td>3000006340</td>\n",
       "      <td>3.0</td>\n",
       "      <td>9.00</td>\n",
       "      <td>0</td>\n",
       "      <td>0</td>\n",
       "      <td>0</td>\n",
       "      <td>1.000000</td>\n",
       "    </tr>\n",
       "    <tr>\n",
       "      <th>8</th>\n",
       "      <td>8</td>\n",
       "      <td>3.0</td>\n",
       "      <td>3000006340</td>\n",
       "      <td>3.5</td>\n",
       "      <td>12.25</td>\n",
       "      <td>0</td>\n",
       "      <td>0</td>\n",
       "      <td>0</td>\n",
       "      <td>1.166667</td>\n",
       "    </tr>\n",
       "    <tr>\n",
       "      <th>9</th>\n",
       "      <td>9</td>\n",
       "      <td>3.0</td>\n",
       "      <td>3800031829</td>\n",
       "      <td>2.5</td>\n",
       "      <td>6.25</td>\n",
       "      <td>0</td>\n",
       "      <td>0</td>\n",
       "      <td>0</td>\n",
       "      <td>0.833333</td>\n",
       "    </tr>\n",
       "    <tr>\n",
       "      <th>10</th>\n",
       "      <td>10</td>\n",
       "      <td>3.0</td>\n",
       "      <td>3800031829</td>\n",
       "      <td>3.0</td>\n",
       "      <td>9.00</td>\n",
       "      <td>0</td>\n",
       "      <td>0</td>\n",
       "      <td>0</td>\n",
       "      <td>1.000000</td>\n",
       "    </tr>\n",
       "    <tr>\n",
       "      <th>11</th>\n",
       "      <td>11</td>\n",
       "      <td>3.0</td>\n",
       "      <td>3800031829</td>\n",
       "      <td>3.5</td>\n",
       "      <td>12.25</td>\n",
       "      <td>0</td>\n",
       "      <td>0</td>\n",
       "      <td>0</td>\n",
       "      <td>1.166667</td>\n",
       "    </tr>\n",
       "  </tbody>\n",
       "</table>\n",
       "</div>"
      ],
      "text/plain": [
       "    Unnamed: 0  avgPriceChoice         UPC  PRICE  PRICE_p2  FEATURE  DISPLAY  \\\n",
       "0            0             3.0  1600027528    2.5      6.25        0        0   \n",
       "1            1             3.0  1600027528    3.0      9.00        0        0   \n",
       "2            2             3.0  1600027528    3.5     12.25        0        0   \n",
       "3            3             3.0  1600027564    2.5      6.25        0        0   \n",
       "4            4             3.0  1600027564    3.0      9.00        0        0   \n",
       "5            5             3.0  1600027564    3.5     12.25        0        0   \n",
       "6            6             3.0  3000006340    2.5      6.25        0        0   \n",
       "7            7             3.0  3000006340    3.0      9.00        0        0   \n",
       "8            8             3.0  3000006340    3.5     12.25        0        0   \n",
       "9            9             3.0  3800031829    2.5      6.25        0        0   \n",
       "10          10             3.0  3800031829    3.0      9.00        0        0   \n",
       "11          11             3.0  3800031829    3.5     12.25        0        0   \n",
       "\n",
       "    TPR_ONLY  RELPRICE  \n",
       "0          0  0.833333  \n",
       "1          0  1.000000  \n",
       "2          0  1.166667  \n",
       "3          0  0.833333  \n",
       "4          0  1.000000  \n",
       "5          0  1.166667  \n",
       "6          0  0.833333  \n",
       "7          0  1.000000  \n",
       "8          0  1.166667  \n",
       "9          0  0.833333  \n",
       "10         0  1.000000  \n",
       "11         0  1.166667  "
      ]
     },
     "execution_count": 2,
     "metadata": {},
     "output_type": "execute_result"
    }
   ],
   "source": [
    "# small example\n",
    "url = 'https://raw.githubusercontent.com/acedesci/scanalytics/master/EN/S08_09_Retail_Analytics/InputFeatures_Prob1.csv'\n",
    "# large example, please outcomment if you want to try\n",
    "# url = 'https://raw.githubusercontent.com/acedesci/scanalytics/master/EN/S08_09_Retail_Analytics/InputFeatures_Prob2.csv'\n",
    "\n",
    "predDemand = pandas.read_csv(url)\n",
    "\n",
    "# Dataset is now stored in a Pandas Dataframe predDemand\n",
    "predDemand"
   ]
  },
  {
   "cell_type": "markdown",
   "metadata": {
    "id": "z5dxz97-k7iz"
   },
   "source": [
    "**Option 2: Read the file directly from your drive.** You can upload the file from you PC. In this option, you must already download the file *'InputFeatures_Prob1.csv'* or 'InputFeatures_Prob2.csv' from Zonecours and save to your PC. Then you can upload it using the codes in the block below. After running the cell, click on \"Choose Files\" to upload it."
   ]
  },
  {
   "cell_type": "code",
   "execution_count": null,
   "metadata": {
    "id": "ZAvj7Z31lHOa"
   },
   "outputs": [],
   "source": [
    "from google.colab import files\n",
    "uploaded = files.upload()\n",
    "\n",
    "import io\n",
    "import pandas\n",
    "predDemand = pandas.read_csv(io.BytesIO(uploaded['InputFeatures_Prob1.csv']))\n",
    "\n",
    "# Dataset is now stored in a Pandas Dataframe predDemand\n",
    "predDemand"
   ]
  },
  {
   "cell_type": "markdown",
   "metadata": {
    "id": "MO-xut7aO8kg"
   },
   "source": [
    "# 2. Model retrieval"
   ]
  },
  {
   "cell_type": "markdown",
   "metadata": {
    "id": "vdW-CiGPO8kh"
   },
   "source": [
    "Next, we retrieve the best model that we previously trained and saved from the current working directory (cmd) based on one of the two two options below.\n",
    "\n",
    "**Option 1 Local PC (Jupyter)**: if you model is saved on PC, you need to give the path to the saved models. Here we assume that it is located in the same folder as the notebook."
   ]
  },
  {
   "cell_type": "code",
   "execution_count": 3,
   "metadata": {
    "id": "T4D001GGUMTZ"
   },
   "outputs": [],
   "source": [
    "cwd = './'"
   ]
  },
  {
   "cell_type": "markdown",
   "metadata": {
    "id": "GO4FfNAhUL8g"
   },
   "source": [
    "**Option 2 Google Drive (Colab)**: if you model is saved on Google Drive, you can access the folder by mounting it and authorizing access."
   ]
  },
  {
   "cell_type": "code",
   "execution_count": null,
   "metadata": {
    "id": "CSRXAt-Nnx8M"
   },
   "outputs": [],
   "source": [
    "# we need to remount Google Drive in order to load the data from it\n",
    "from google.colab import drive\n",
    "drive.mount('/content/drive')\n",
    "cwd = '/content/drive/My Drive/'"
   ]
  },
  {
   "cell_type": "markdown",
   "metadata": {
    "id": "KnEKiWSyO8km"
   },
   "source": [
    "Following the block above, we can now load the model that we previously trained and saved for each UPC."
   ]
  },
  {
   "cell_type": "code",
   "execution_count": 4,
   "metadata": {
    "id": "AZu3qyoMn1WV"
   },
   "outputs": [],
   "source": [
    "import pickle\n",
    "\n",
    "productList = predDemand['UPC'].unique()\n",
    "\n",
    "regr = {}\n",
    "for upc in productList:\n",
    "    filename = cwd+str(upc)+'_demand_model.sav'\n",
    "    # load the model to disk\n",
    "    regr[upc] = pickle.load(open(filename, 'rb'))"
   ]
  },
  {
   "cell_type": "markdown",
   "metadata": {
    "id": "_7K3cDLOO8kq"
   },
   "source": [
    "# 3. Demand forecasting"
   ]
  },
  {
   "cell_type": "markdown",
   "metadata": {
    "id": "fFY7TznuO8ks"
   },
   "source": [
    "In this cell, we also create a loop **for** each UPC. Here are the descriptions of each line in the for loop\n",
    "\n",
    "*   The first line in the **for** loop loads the data on the explanatory variables (features) for each UPC.\n",
    "*   The second line retrives the UPC value so that we can call and run the model for that UPC.\n",
    "*   The third line takes the model object for the current UPC (*regr[upc]*) and predicts the demand. We also use the function *clip(0.0)* to make sure that the demand is non-negative (which is possible since the demand is a decreasing function of price and the regression function is unbounded) and function *round(1)* to round the predicted value to one digit.\n",
    "*   The fourth line put the predicted demand into the series which will be added as a new column\n",
    "\n",
    "Once the for loop terminated, we add a new column *'predictSales'* which shows the predicted demand."
   ]
  },
  {
   "cell_type": "code",
   "execution_count": 5,
   "metadata": {
    "id": "2iMU7G0yVeWk"
   },
   "outputs": [
    {
     "name": "stdout",
     "output_type": "stream",
     "text": [
      "    Unnamed: 0  avgPriceChoice         UPC  PRICE  PRICE_p2  FEATURE  DISPLAY  TPR_ONLY  RELPRICE  predictSales\n",
      "0            0             3.0  1600027528    2.5      6.25        0        0         0  0.833333          94.9\n",
      "1            1             3.0  1600027528    3.0      9.00        0        0         0  1.000000          67.0\n",
      "2            2             3.0  1600027528    3.5     12.25        0        0         0  1.166667          46.4\n",
      "3            3             3.0  1600027564    2.5      6.25        0        0         0  0.833333          24.1\n",
      "4            4             3.0  1600027564    3.0      9.00        0        0         0  1.000000          22.6\n",
      "5            5             3.0  1600027564    3.5     12.25        0        0         0  1.166667          19.8\n",
      "6            6             3.0  3000006340    2.5      6.25        0        0         0  0.833333           6.2\n",
      "7            7             3.0  3000006340    3.0      9.00        0        0         0  1.000000           4.0\n",
      "8            8             3.0  3000006340    3.5     12.25        0        0         0  1.166667           3.0\n",
      "9            9             3.0  3800031829    2.5      6.25        0        0         0  0.833333          32.9\n",
      "10          10             3.0  3800031829    3.0      9.00        0        0         0  1.000000          24.3\n",
      "11          11             3.0  3800031829    3.5     12.25        0        0         0  1.166667          20.4\n"
     ]
    },
    {
     "name": "stderr",
     "output_type": "stream",
     "text": [
      "c:\\Users\\11143054\\AppData\\Local\\miniconda3\\envs\\py311\\Lib\\site-packages\\sklearn\\base.py:486: UserWarning: X has feature names, but LinearRegression was fitted without feature names\n",
      "  warnings.warn(\n",
      "C:\\Users\\11143054\\AppData\\Local\\Temp\\ipykernel_31568\\4125285728.py:20: FutureWarning: The behavior of array concatenation with empty entries is deprecated. In a future version, this will no longer exclude empty items when determining the result dtype. To retain the old behavior, exclude the empty entries before the concat operation.\n",
      "  predictedValueSeries = predictedValueSeries._append(pandas.Series(y_pred[upc], index = upcIndex))\n",
      "c:\\Users\\11143054\\AppData\\Local\\miniconda3\\envs\\py311\\Lib\\site-packages\\sklearn\\base.py:486: UserWarning: X has feature names, but LinearRegression was fitted without feature names\n",
      "  warnings.warn(\n",
      "c:\\Users\\11143054\\AppData\\Local\\miniconda3\\envs\\py311\\Lib\\site-packages\\sklearn\\base.py:486: UserWarning: X has feature names, but LinearRegression was fitted without feature names\n",
      "  warnings.warn(\n",
      "c:\\Users\\11143054\\AppData\\Local\\miniconda3\\envs\\py311\\Lib\\site-packages\\sklearn\\base.py:486: UserWarning: X has feature names, but LinearRegression was fitted without feature names\n",
      "  warnings.warn(\n"
     ]
    }
   ],
   "source": [
    "feature_list = ['PRICE', 'PRICE_p2', 'FEATURE', 'DISPLAY','TPR_ONLY','RELPRICE']\n",
    "\n",
    "X = {}\n",
    "y_pred = {}\n",
    "\n",
    "# prepare blank series which will be added as a new column to the DataFrame predDemand\n",
    "predictedValueSeries = pandas.Series()\n",
    "\n",
    "for upc in productList:\n",
    "  # Line 1 of for loop: load the data on the explanatory variable\n",
    "  X[upc] = predDemand.loc[predDemand['UPC']==upc][feature_list]\n",
    "\n",
    "  # Line 2: retrieve the UPC value\n",
    "  upcIndex = predDemand.loc[predDemand['UPC']==upc].index\n",
    "\n",
    "  # Line 3: predice the demands and make sure the demand is non-negative\n",
    "  y_pred[upc] = regr[upc].predict(X[upc]).clip(0.0).round(1)\n",
    "\n",
    "  # Line 4: add the predicted demand to the series\n",
    "  predictedValueSeries = predictedValueSeries._append(pandas.Series(y_pred[upc], index = upcIndex))\n",
    "\n",
    "predDemand['predictSales'] = predictedValueSeries\n",
    "print(predDemand.to_string())"
   ]
  },
  {
   "cell_type": "markdown",
   "metadata": {
    "id": "vypThqGJQd_K"
   },
   "source": [
    "Now we save the predicted sales into csv file to be used in the optimization model later on."
   ]
  },
  {
   "cell_type": "code",
   "execution_count": null,
   "metadata": {
    "id": "0QmdVdfaX_jK"
   },
   "outputs": [],
   "source": [
    "# Please save it as 'predictedSales_Prob1.csv' if 'InputFeatures_Prob1.csv' is used\n",
    "# Otherwise, please save it as 'predictedSales_Prob2.csv' if 'InputFeatures_Prob2.csv' is used\n",
    "predDemand.to_csv(cwd +'predictedSales_Prob1.csv')"
   ]
  }
 ],
 "metadata": {
  "colab": {
   "include_colab_link": true,
   "name": "S9_Module1B_Retail_Demand_Predict.ipynb",
   "provenance": []
  },
  "kernelspec": {
   "display_name": "py311",
   "language": "python",
   "name": "python3"
  },
  "language_info": {
   "codemirror_mode": {
    "name": "ipython",
    "version": 3
   },
   "file_extension": ".py",
   "mimetype": "text/x-python",
   "name": "python",
   "nbconvert_exporter": "python",
   "pygments_lexer": "ipython3",
   "version": "3.11.5"
  }
 },
 "nbformat": 4,
 "nbformat_minor": 0
}
