{
 "cells": [
  {
   "cell_type": "markdown",
   "metadata": {
    "colab_type": "text",
    "id": "pHCo2OUyeYib"
   },
   "source": [
    "**Si ce n'est pas déjà fait, la cellule de code suivante va installer la librairie pyomo ainsi que le solveur glpk sur votre ordinateur (ou Google Colab). Il se peut alors que cette première cellule de code soit plus longue à exécuter.**\n",
    "\n",
    "Pyomo est un langage de modélisation qui peut être utilisé en conjonction avec un certain nombre de solveurs. Pour plus d'informations sur Pyomo, vous pouvez également consulter la [documentation](http://www.pyomo.org/documentation)."
   ]
  },
  {
   "cell_type": "markdown",
   "metadata": {},
   "source": [
    "# Modèle prescriptif de la détermination des prix - version détaillée"
   ]
  },
  {
   "cell_type": "code",
   "execution_count": 1,
   "metadata": {},
   "outputs": [],
   "source": [
    "import pandas as pd\n",
    "\n",
    "import shutil\n",
    "import sys\n",
    "import os.path\n",
    "\n",
    "if not shutil.which(\"pyomo\"):\n",
    "    if \"google.colab\" in sys.modules:\n",
    "        !pip install -q pyomo\n",
    "    else:\n",
    "        !conda install -c conda-forge pyomo\n",
    "    assert(shutil.which(\"pyomo\"))\n",
    "    \n",
    "if not (shutil.which(\"glpsol\") or os.path.isfile(\"glpsol\")):\n",
    "    if \"google.colab\" in sys.modules:\n",
    "        !apt-get install -y -qq glpk-utils\n",
    "    else:\n",
    "        try:\n",
    "            !conda install -c conda-forge glpk \n",
    "        except:\n",
    "            pass\n",
    "    assert(shutil.which(\"glpsol\") or os.path.isfile(\"glpsol\"))\n",
    "\n",
    "import pyomo.environ as pe"
   ]
  },
  {
   "cell_type": "markdown",
   "metadata": {
    "colab_type": "text",
    "id": "9cS5YfcZHddR"
   },
   "source": [
    "# Blocs 1 & 2: données et paramètres d'entrée\n",
    "Nous avons travaillé sur ce jeu de données au cours des dernières semaines. Toutefois, la liste de produits ci-dessous n'est qu'un sous-ensemble de ces produits; ces données correspondent aux données du fichier *predictedSales_Prob1.csv*. "
   ]
  },
  {
   "cell_type": "code",
   "execution_count": 2,
   "metadata": {},
   "outputs": [
    {
     "data": {
      "text/html": [
       "<div>\n",
       "<style scoped>\n",
       "    .dataframe tbody tr th:only-of-type {\n",
       "        vertical-align: middle;\n",
       "    }\n",
       "\n",
       "    .dataframe tbody tr th {\n",
       "        vertical-align: top;\n",
       "    }\n",
       "\n",
       "    .dataframe thead th {\n",
       "        text-align: right;\n",
       "    }\n",
       "</style>\n",
       "<table border=\"1\" class=\"dataframe\">\n",
       "  <thead>\n",
       "    <tr style=\"text-align: right;\">\n",
       "      <th></th>\n",
       "      <th>AVG_PRICE_VALUE</th>\n",
       "      <th>UPC</th>\n",
       "      <th>PRICE</th>\n",
       "      <th>PRICE_p2</th>\n",
       "      <th>FEATURE</th>\n",
       "      <th>DISPLAY</th>\n",
       "      <th>TPR_ONLY</th>\n",
       "      <th>RELPRICE</th>\n",
       "      <th>PRED_SALES</th>\n",
       "    </tr>\n",
       "  </thead>\n",
       "  <tbody>\n",
       "    <tr>\n",
       "      <th>0</th>\n",
       "      <td>3.0</td>\n",
       "      <td>1600027528</td>\n",
       "      <td>2.5</td>\n",
       "      <td>6.25</td>\n",
       "      <td>0</td>\n",
       "      <td>0</td>\n",
       "      <td>0</td>\n",
       "      <td>0.833333</td>\n",
       "      <td>94.9</td>\n",
       "    </tr>\n",
       "    <tr>\n",
       "      <th>1</th>\n",
       "      <td>3.0</td>\n",
       "      <td>1600027528</td>\n",
       "      <td>3.0</td>\n",
       "      <td>9.00</td>\n",
       "      <td>0</td>\n",
       "      <td>0</td>\n",
       "      <td>0</td>\n",
       "      <td>1.000000</td>\n",
       "      <td>67.0</td>\n",
       "    </tr>\n",
       "    <tr>\n",
       "      <th>2</th>\n",
       "      <td>3.0</td>\n",
       "      <td>1600027528</td>\n",
       "      <td>3.5</td>\n",
       "      <td>12.25</td>\n",
       "      <td>0</td>\n",
       "      <td>0</td>\n",
       "      <td>0</td>\n",
       "      <td>1.166667</td>\n",
       "      <td>46.4</td>\n",
       "    </tr>\n",
       "    <tr>\n",
       "      <th>3</th>\n",
       "      <td>3.0</td>\n",
       "      <td>1600027564</td>\n",
       "      <td>2.5</td>\n",
       "      <td>6.25</td>\n",
       "      <td>0</td>\n",
       "      <td>0</td>\n",
       "      <td>0</td>\n",
       "      <td>0.833333</td>\n",
       "      <td>24.1</td>\n",
       "    </tr>\n",
       "    <tr>\n",
       "      <th>4</th>\n",
       "      <td>3.0</td>\n",
       "      <td>1600027564</td>\n",
       "      <td>3.0</td>\n",
       "      <td>9.00</td>\n",
       "      <td>0</td>\n",
       "      <td>0</td>\n",
       "      <td>0</td>\n",
       "      <td>1.000000</td>\n",
       "      <td>22.6</td>\n",
       "    </tr>\n",
       "    <tr>\n",
       "      <th>5</th>\n",
       "      <td>3.0</td>\n",
       "      <td>1600027564</td>\n",
       "      <td>3.5</td>\n",
       "      <td>12.25</td>\n",
       "      <td>0</td>\n",
       "      <td>0</td>\n",
       "      <td>0</td>\n",
       "      <td>1.166667</td>\n",
       "      <td>19.8</td>\n",
       "    </tr>\n",
       "    <tr>\n",
       "      <th>6</th>\n",
       "      <td>3.0</td>\n",
       "      <td>3000006340</td>\n",
       "      <td>2.5</td>\n",
       "      <td>6.25</td>\n",
       "      <td>0</td>\n",
       "      <td>0</td>\n",
       "      <td>0</td>\n",
       "      <td>0.833333</td>\n",
       "      <td>6.2</td>\n",
       "    </tr>\n",
       "    <tr>\n",
       "      <th>7</th>\n",
       "      <td>3.0</td>\n",
       "      <td>3000006340</td>\n",
       "      <td>3.0</td>\n",
       "      <td>9.00</td>\n",
       "      <td>0</td>\n",
       "      <td>0</td>\n",
       "      <td>0</td>\n",
       "      <td>1.000000</td>\n",
       "      <td>4.0</td>\n",
       "    </tr>\n",
       "    <tr>\n",
       "      <th>8</th>\n",
       "      <td>3.0</td>\n",
       "      <td>3000006340</td>\n",
       "      <td>3.5</td>\n",
       "      <td>12.25</td>\n",
       "      <td>0</td>\n",
       "      <td>0</td>\n",
       "      <td>0</td>\n",
       "      <td>1.166667</td>\n",
       "      <td>3.0</td>\n",
       "    </tr>\n",
       "    <tr>\n",
       "      <th>9</th>\n",
       "      <td>3.0</td>\n",
       "      <td>3800031829</td>\n",
       "      <td>2.5</td>\n",
       "      <td>6.25</td>\n",
       "      <td>0</td>\n",
       "      <td>0</td>\n",
       "      <td>0</td>\n",
       "      <td>0.833333</td>\n",
       "      <td>32.9</td>\n",
       "    </tr>\n",
       "    <tr>\n",
       "      <th>10</th>\n",
       "      <td>3.0</td>\n",
       "      <td>3800031829</td>\n",
       "      <td>3.0</td>\n",
       "      <td>9.00</td>\n",
       "      <td>0</td>\n",
       "      <td>0</td>\n",
       "      <td>0</td>\n",
       "      <td>1.000000</td>\n",
       "      <td>24.3</td>\n",
       "    </tr>\n",
       "    <tr>\n",
       "      <th>11</th>\n",
       "      <td>3.0</td>\n",
       "      <td>3800031829</td>\n",
       "      <td>3.5</td>\n",
       "      <td>12.25</td>\n",
       "      <td>0</td>\n",
       "      <td>0</td>\n",
       "      <td>0</td>\n",
       "      <td>1.166667</td>\n",
       "      <td>20.4</td>\n",
       "    </tr>\n",
       "  </tbody>\n",
       "</table>\n",
       "</div>"
      ],
      "text/plain": [
       "    AVG_PRICE_VALUE         UPC  PRICE  PRICE_p2  FEATURE  DISPLAY  TPR_ONLY  \\\n",
       "0               3.0  1600027528    2.5      6.25        0        0         0   \n",
       "1               3.0  1600027528    3.0      9.00        0        0         0   \n",
       "2               3.0  1600027528    3.5     12.25        0        0         0   \n",
       "3               3.0  1600027564    2.5      6.25        0        0         0   \n",
       "4               3.0  1600027564    3.0      9.00        0        0         0   \n",
       "5               3.0  1600027564    3.5     12.25        0        0         0   \n",
       "6               3.0  3000006340    2.5      6.25        0        0         0   \n",
       "7               3.0  3000006340    3.0      9.00        0        0         0   \n",
       "8               3.0  3000006340    3.5     12.25        0        0         0   \n",
       "9               3.0  3800031829    2.5      6.25        0        0         0   \n",
       "10              3.0  3800031829    3.0      9.00        0        0         0   \n",
       "11              3.0  3800031829    3.5     12.25        0        0         0   \n",
       "\n",
       "    RELPRICE  PRED_SALES  \n",
       "0   0.833333        94.9  \n",
       "1   1.000000        67.0  \n",
       "2   1.166667        46.4  \n",
       "3   0.833333        24.1  \n",
       "4   1.000000        22.6  \n",
       "5   1.166667        19.8  \n",
       "6   0.833333         6.2  \n",
       "7   1.000000         4.0  \n",
       "8   1.166667         3.0  \n",
       "9   0.833333        32.9  \n",
       "10  1.000000        24.3  \n",
       "11  1.166667        20.4  "
      ]
     },
     "execution_count": 2,
     "metadata": {},
     "output_type": "execute_result"
    }
   ],
   "source": [
    "url = 'https://raw.githubusercontent.com/acedesci/scanalytics/master/data/predictedSales_Prob1.csv'\n",
    "predDemand = pd.read_csv(url)\n",
    "predDemand"
   ]
  },
  {
   "cell_type": "markdown",
   "metadata": {},
   "source": [
    "Dans ce notebook, nous aimerions travailler sur l'optimisation des prix des produits de cette liste. En particulier, chaque produit peut être vendu au prix de 2.5, 3.0 ou 3.5 dollars et nous souhaitons décider des prix auxquels ces produits sont proposés afin que notre revenu total soit maximisé. Comme nous l'avons appris avec l'analyse de la semaine dernière, le prix moyen des produits concurrents est un facteur affectant les ventes. Nous devons donc optimiser le prix de tous ces produits en parallèle pour atteindre l'optimum global.\n",
    "\n",
    "Dans ce bloc, nous définissons aussi les listes d'index pour les produits (`N`) et pour les choix de prix (`M`)."
   ]
  },
  {
   "cell_type": "code",
   "execution_count": 3,
   "metadata": {
    "colab": {},
    "colab_type": "code",
    "id": "scZFGWSlDi3L"
   },
   "outputs": [],
   "source": [
    "productList = ['1600027528', '1600027564', '3000006340', '3800031829']  # provient de la colonne UPC\n",
    "priceList = [2.5, 3.0, 3.5]  # provient de la colonne PRICE\n",
    "avgPriceValue = 3.0  # provient de la colonne AVG_PRICE_VALUE\n",
    "\n",
    "N = list(range(len(productList)))  # [0, 1, 2, 3]\n",
    "M = list(range(len(priceList)))  # [0, 1, 2]"
   ]
  },
  {
   "cell_type": "markdown",
   "metadata": {
    "colab_type": "text",
    "id": "7-xsg-k95pwj"
   },
   "source": [
    "# Bloc 3: création du modèle d'optimisation\n",
    "Nous allons maintenant créer un modèle d'optimisation de détermination des prix, semblable à celui du cas Rue La La. Un modèle d'optimisation comprend (i) des variables de décision, (ii) une fonction objectif et (iii) des contraintes. Vous pouvez consulter le jupyter notebook *Modèles_production_avec_contraintes_linéaires.ipynb* pour un exemple simple de modèle d'optimisation utilisant Pyomo.\n",
    "\n",
    "## Bloc 3.1: déclarations de variables\n",
    "Nous utilisons `model.x` pour définir les variables de décision de notre modèle d'optimisation. Nous allons utiliser des variables binaires $x_{ij}$ qui prennent la valeur 0 ou 1 (non ou oui). En d'autres termes, $x_{ij} \\in \\{0,1\\}$ où $i$ est l'index du produit et $j$ est l'index du prix. Nous pouvons définir formellement cette variable comme:\n",
    "* $x_{ij}$ vaut 1 si le choix de prix $j$ est choisi pour le produit $i$, 0 sinon.\n",
    "\n",
    "Veuillez noter qu'en Python (et dans de nombreux autres langages de programmation), l'index de départ est 0. La variable $x_{01}=1$ signifie que nous vendons le produit `'1600027528'` (produit à l'index 0 dans la liste de produits) au prix de 3,0\\$ (prix à l'index 1 dans la liste de prix); voir la cellule de code précédente pour les listes de produits et de prix.\n",
    "\n",
    "Dans ce bloc de code, nous créons un modèle (en utilisant la classe `pe.ConcreteModel()`) et déclarons les variables `x` (en utilisant `pe.Var(N, M, within=pe.Binary)`). La ligne `model.pprint()` affiche les détails du modèle que nous avons créé. Puisque nous n'avons créé que les variables, nous ne voyons ici que les variables, sans autres composantes. Vous pouvez visiter la [documentation](https://pyomo.readthedocs.io/en/stable/pyomo_overview/abstract_concrete.html) pour plus de détails sur la classe `ConcreteModel`."
   ]
  },
  {
   "cell_type": "code",
   "execution_count": 4,
   "metadata": {
    "colab": {
     "base_uri": "https://localhost:8080/",
     "height": 442
    },
    "colab_type": "code",
    "id": "H0KtDkEikJOM",
    "outputId": "371eb439-48c6-42f9-97ca-f75ef97eec7b"
   },
   "outputs": [
    {
     "name": "stdout",
     "output_type": "stream",
     "text": [
      "1 Var Declarations\n",
      "    x : Size=12, Index={0, 1, 2, 3}*{0, 1, 2}\n",
      "        Key    : Lower : Value : Upper : Fixed : Stale : Domain\n",
      "        (0, 0) :     0 :  None :     1 : False :  True : Binary\n",
      "        (0, 1) :     0 :  None :     1 : False :  True : Binary\n",
      "        (0, 2) :     0 :  None :     1 : False :  True : Binary\n",
      "        (1, 0) :     0 :  None :     1 : False :  True : Binary\n",
      "        (1, 1) :     0 :  None :     1 : False :  True : Binary\n",
      "        (1, 2) :     0 :  None :     1 : False :  True : Binary\n",
      "        (2, 0) :     0 :  None :     1 : False :  True : Binary\n",
      "        (2, 1) :     0 :  None :     1 : False :  True : Binary\n",
      "        (2, 2) :     0 :  None :     1 : False :  True : Binary\n",
      "        (3, 0) :     0 :  None :     1 : False :  True : Binary\n",
      "        (3, 1) :     0 :  None :     1 : False :  True : Binary\n",
      "        (3, 2) :     0 :  None :     1 : False :  True : Binary\n",
      "\n",
      "1 Declarations: x\n"
     ]
    }
   ],
   "source": [
    "model = pe.ConcreteModel()  # création d'un modèle d'optimisation\n",
    "model.x = pe.Var(N, M, within=pe.Binary)  # création des variables x\n",
    "model.pprint()  # impression du modèle jusqu'à présent"
   ]
  },
  {
   "cell_type": "markdown",
   "metadata": {
    "colab_type": "text",
    "id": "78xTZBA-hfTO"
   },
   "source": [
    "## Bloc 3.2: ajout d'une fonction objectif\n",
    "La forme générale de la fonction objectif est $\\sum_{i=0}^3 \\sum_{j=0}^2 p_{j} \\cdot \\tilde{D}_{ijk} \\cdot x_{ij}$. \n",
    "Le premier terme de cette fonction objectif est $p_{j}$ qui correspond au $j$ème prix de la liste des prix. Par exemple, $p_{0}$ désigne le prix à l'index 0 de la liste de prix (2,5\\$ dans ce cas). \n",
    "\n",
    "Le deuxième terme de cette fonction objectif est $\\tilde{D}_{ijk}$ qui correspond aux ventes prévues du produit $i$ lorsque ce produit est vendu au prix $j$ alors que le prix moyen de tous les produits concurrents, y compris le produit $i$, est égal à $k$. Dans notre modèle d'optimisation, $k$ est prédéfini à 3.0 (la colonne `'AVG_PRICE_VALUE'` de la première démonstration de la séance). Notez que $k$ correspond ici au prix moyen des produits concurrents et non pas à la somme des prix des produits concurrents comme dans le cas Rue La La; il est toutefois assez simple de passer de l'un à l'autre au besoin, il suffit de multiplier ou de diviser par le nombre de produits.\n",
    "\n",
    "Finalement, le troisième et dernier terme correspond à $x_{ij}$ qui a été défini précédement.\n",
    "\n",
    "En entrant le prix $p_{j}$ et le prix moyen $k$ dans le modèle prédictif entraîné, nous pouvons obtenir les ventes prévues correspondantes, soit $\\tilde{D}_{ijk}$; c'est ce qui a été fait dans la première démonstration de cette séance (voir la colonne `'PRED_SALES'`). Nous utilisons `pe.Objective()` pour définir la fonction objectif et `sense=pe.maximize` pour indiquer que l'objectif correspond à une maximisation."
   ]
  },
  {
   "cell_type": "code",
   "execution_count": 5,
   "metadata": {
    "colab": {},
    "colab_type": "code",
    "id": "RY6Vi1TE5ztC"
   },
   "outputs": [],
   "source": [
    "# définition de la fonction objectif\n",
    "# les chiffres de la demande proviennent de 'predictedSales_Prob1.csv'\n",
    "model.obj = pe.Objective(\n",
    "    sense=pe.maximize, \n",
    "    expr=2.5 * 94.9 * model.x[0,0] + 3.0 * 67.0 * model.x[0,1] + 3.5 * 46.4 * model.x[0,2] +\n",
    "         2.5 * 24.1 * model.x[1,0] + 3.0 * 22.6 * model.x[1,1] + 3.5 * 19.8 * model.x[1,2] +\n",
    "         2.5 *  6.2 * model.x[2,0] + 3.0 *  4.0 * model.x[2,1] + 3.5 *  3.0 * model.x[2,2] +\n",
    "         2.5 * 32.9 * model.x[3,0] + 3.0 * 24.3 * model.x[3,1] + 3.5 * 20.4 * model.x[3,2])"
   ]
  },
  {
   "cell_type": "markdown",
   "metadata": {
    "colab_type": "text",
    "id": "OpJo3pzmmAyU"
   },
   "source": [
    "## Bloc 3.3: ajout des contraintes\n",
    "### Contraintes 1: un choix de prix doit être choisi pour chaque produit\n",
    "\n",
    "En ce qui concerne le premier ensemble de contraintes, nous souhaitons nous assurer que chaque produit est vendu à un seul prix. Par conséquent, la forme générale de cet ensemble de contraintes est $\\sum_{j=0}^2 x_{ij} = 1, \\forall i\\in\\{0,1,2,3\\}$. Nous utilisons `pe.Constraint()` pour définir les contraintes."
   ]
  },
  {
   "cell_type": "code",
   "execution_count": 6,
   "metadata": {
    "colab": {},
    "colab_type": "code",
    "id": "_-J1E9CayDY-"
   },
   "outputs": [],
   "source": [
    "# Contraintes #1\n",
    "model.priceChoiceUPC0 = pe.Constraint(expr=model.x[0,0] + model.x[0,1] + model.x[0,2] == 1)\n",
    "model.priceChoiceUPC1 = pe.Constraint(expr=model.x[1,0] + model.x[1,1] + model.x[1,2] == 1)\n",
    "model.priceChoiceUPC2 = pe.Constraint(expr=model.x[2,0] + model.x[2,1] + model.x[2,2] == 1)\n",
    "model.priceChoiceUPC3 = pe.Constraint(expr=model.x[3,0] + model.x[3,1] + model.x[3,2] == 1)"
   ]
  },
  {
   "cell_type": "markdown",
   "metadata": {
    "colab_type": "text",
    "id": "pzr4Kj3Yvcnk"
   },
   "source": [
    "### Contrainte 2: la *moyenne* des prix de tous les produits concurrents doit être égale à $𝑘$\n",
    "\n",
    "La deuxième contrainte garantit que le prix moyen de tous les **4** produits considérés dans notre modèle d'optimisation est égal au prix moyen prédéfini, qui est $k=3.0\\$$. La forme générale est\n",
    "\n",
    "$ \\frac{ \\sum_{i=0}^3 \\sum_{j=0}^2 p_{j} \\cdot x_{ij} }{4} =k \\iff \\sum_{i=0}^3 \\sum_{j=0}^2 p_{j} \\cdot x_{ij} = k\\cdot 4$\n",
    "\n",
    "Cela peut être fait en utilisant le bloc suivant:"
   ]
  },
  {
   "cell_type": "code",
   "execution_count": 7,
   "metadata": {
    "colab": {},
    "colab_type": "code",
    "id": "prKy0fAE6hTd"
   },
   "outputs": [],
   "source": [
    "# Contrainte #2\n",
    "model.sumPrice = pe.Constraint(\n",
    "    expr=2.5 * model.x[0,0] + 3.0 * model.x[0,1] + 3.5 * model.x[0,2] +\n",
    "         2.5 * model.x[1,0] + 3.0 * model.x[1,1] + 3.5 * model.x[1,2] + \n",
    "         2.5 * model.x[2,0] + 3.0 * model.x[2,1] + 3.5 * model.x[2,2] + \n",
    "         2.5 * model.x[3,0] + 3.0 * model.x[3,1] + 3.5 * model.x[3,2] == avgPriceValue * 4)"
   ]
  },
  {
   "cell_type": "markdown",
   "metadata": {
    "colab_type": "text",
    "id": "XJLWwaLy_LOw"
   },
   "source": [
    "Nous pouvons maintenant afficher à nouveau le modèle pour voir toutes les composantes qui ont été créées."
   ]
  },
  {
   "cell_type": "code",
   "execution_count": 8,
   "metadata": {
    "colab": {
     "base_uri": "https://localhost:8080/",
     "height": 836
    },
    "colab_type": "code",
    "id": "YOUrtAEz_RWQ",
    "outputId": "8633bbc2-a921-4e76-c0d9-caae05431ce9"
   },
   "outputs": [
    {
     "name": "stdout",
     "output_type": "stream",
     "text": [
      "1 Var Declarations\n",
      "    x : Size=12, Index={0, 1, 2, 3}*{0, 1, 2}\n",
      "        Key    : Lower : Value : Upper : Fixed : Stale : Domain\n",
      "        (0, 0) :     0 :  None :     1 : False :  True : Binary\n",
      "        (0, 1) :     0 :  None :     1 : False :  True : Binary\n",
      "        (0, 2) :     0 :  None :     1 : False :  True : Binary\n",
      "        (1, 0) :     0 :  None :     1 : False :  True : Binary\n",
      "        (1, 1) :     0 :  None :     1 : False :  True : Binary\n",
      "        (1, 2) :     0 :  None :     1 : False :  True : Binary\n",
      "        (2, 0) :     0 :  None :     1 : False :  True : Binary\n",
      "        (2, 1) :     0 :  None :     1 : False :  True : Binary\n",
      "        (2, 2) :     0 :  None :     1 : False :  True : Binary\n",
      "        (3, 0) :     0 :  None :     1 : False :  True : Binary\n",
      "        (3, 1) :     0 :  None :     1 : False :  True : Binary\n",
      "        (3, 2) :     0 :  None :     1 : False :  True : Binary\n",
      "\n",
      "1 Objective Declarations\n",
      "    obj : Size=1, Index=None, Active=True\n",
      "        Key  : Active : Sense    : Expression\n",
      "        None :   True : maximize : 237.25*x[0,0] + 201.0*x[0,1] + 162.4*x[0,2] + 60.25*x[1,0] + 67.80000000000001*x[1,1] + 69.3*x[1,2] + 15.5*x[2,0] + 12.0*x[2,1] + 10.5*x[2,2] + 82.25*x[3,0] + 72.9*x[3,1] + 71.39999999999999*x[3,2]\n",
      "\n",
      "5 Constraint Declarations\n",
      "    priceChoiceUPC0 : Size=1, Index=None, Active=True\n",
      "        Key  : Lower : Body                     : Upper : Active\n",
      "        None :   1.0 : x[0,0] + x[0,1] + x[0,2] :   1.0 :   True\n",
      "    priceChoiceUPC1 : Size=1, Index=None, Active=True\n",
      "        Key  : Lower : Body                     : Upper : Active\n",
      "        None :   1.0 : x[1,0] + x[1,1] + x[1,2] :   1.0 :   True\n",
      "    priceChoiceUPC2 : Size=1, Index=None, Active=True\n",
      "        Key  : Lower : Body                     : Upper : Active\n",
      "        None :   1.0 : x[2,0] + x[2,1] + x[2,2] :   1.0 :   True\n",
      "    priceChoiceUPC3 : Size=1, Index=None, Active=True\n",
      "        Key  : Lower : Body                     : Upper : Active\n",
      "        None :   1.0 : x[3,0] + x[3,1] + x[3,2] :   1.0 :   True\n",
      "    sumPrice : Size=1, Index=None, Active=True\n",
      "        Key  : Lower : Body                                                                                                                                                      : Upper : Active\n",
      "        None :  12.0 : 2.5*x[0,0] + 3.0*x[0,1] + 3.5*x[0,2] + 2.5*x[1,0] + 3.0*x[1,1] + 3.5*x[1,2] + 2.5*x[2,0] + 3.0*x[2,1] + 3.5*x[2,2] + 2.5*x[3,0] + 3.0*x[3,1] + 3.5*x[3,2] :  12.0 :   True\n",
      "\n",
      "7 Declarations: x obj priceChoiceUPC0 priceChoiceUPC1 priceChoiceUPC2 priceChoiceUPC3 sumPrice\n"
     ]
    }
   ],
   "source": [
    "model.pprint()"
   ]
  },
  {
   "cell_type": "markdown",
   "metadata": {
    "colab_type": "text",
    "id": "47HscW575pxD"
   },
   "source": [
    "# Bloc 4: solution et interprétation\n",
    "Enfin, nous appelons le solveur et obtenons la solution. La première partie indique quel solveur nous voulons utiliser et la deuxième partie résout le modèle."
   ]
  },
  {
   "cell_type": "code",
   "execution_count": 9,
   "metadata": {
    "colab": {
     "base_uri": "https://localhost:8080/",
     "height": 54
    },
    "colab_type": "code",
    "id": "a0KA-DNX8RqA",
    "outputId": "31a2b411-e8b7-451a-a3dd-153c77ee33e3"
   },
   "outputs": [
    {
     "name": "stdout",
     "output_type": "stream",
     "text": [
      "# ==========================================================\n",
      "# = Solver Results                                         =\n",
      "# ==========================================================\n",
      "# ----------------------------------------------------------\n",
      "#   Problem Information\n",
      "# ----------------------------------------------------------\n",
      "Problem: \n",
      "- Name: unknown\n",
      "  Lower bound: 399.3\n",
      "  Upper bound: 399.3\n",
      "  Number of objectives: 1\n",
      "  Number of constraints: 5\n",
      "  Number of variables: 12\n",
      "  Number of nonzeros: 24\n",
      "  Sense: maximize\n",
      "# ----------------------------------------------------------\n",
      "#   Solver Information\n",
      "# ----------------------------------------------------------\n",
      "Solver: \n",
      "- Status: ok\n",
      "  Termination condition: optimal\n",
      "  Statistics: \n",
      "    Branch and bound: \n",
      "      Number of bounded subproblems: 1\n",
      "      Number of created subproblems: 1\n",
      "  Error rc: 0\n",
      "  Time: 0.04875922203063965\n",
      "# ----------------------------------------------------------\n",
      "#   Solution Information\n",
      "# ----------------------------------------------------------\n",
      "Solution: \n",
      "- number of solutions: 0\n",
      "  number of solutions displayed: 0\n"
     ]
    }
   ],
   "source": [
    "# Résolution du modèle\n",
    "pe.SolverFactory('glpk').solve(model).write() "
   ]
  },
  {
   "cell_type": "markdown",
   "metadata": {
    "colab_type": "text",
    "id": "NmVO_jEd_YJb"
   },
   "source": [
    "Vous pouvez maintenant afficher la solution en utilisant la méthode `model.display()` ci-dessous (`model.pprint()` affiche les décisions optimales, mais n'affiche pas la valeur de la solution optimale). Nous pouvons voir que $x_{00} = 1, x_{12} = 1, x_{22} = 1, x_{30} = 1$ (colonne Value) et la valeur optimale de l'objectif est $399.3\\$$ (encore Value). En d'autres termes, nous atteignons le revenu optimal de $399.3\\$$ lorsque:\n",
    "- le produit '1600027528' (le produit à l'index 0) est vendu au prix de $2.5\\$ $ (le prix à l'index 0), \n",
    "- les produits '1600027564' et '3000006340' (les produits aux index 1 et 2) sont vendus au prix de $3.5\\$ $ (le prix à l'index 2), et\n",
    "- le produit '3800031829' (le produit à l'index 3) est vendu au prix de $2.5\\$ $ (le prix à l'index 0). \n",
    "\n",
    "Nous pouvons aussi facilement vérifier que toutes les contraintes sont satisfaites dans cet affichage (Body vs Lower/Upper)."
   ]
  },
  {
   "cell_type": "code",
   "execution_count": 10,
   "metadata": {
    "colab": {
     "base_uri": "https://localhost:8080/",
     "height": 680
    },
    "colab_type": "code",
    "id": "yG6M2Ipf_qzA",
    "outputId": "cf4ca8c1-330e-4224-8091-6a11f397ee18"
   },
   "outputs": [
    {
     "name": "stdout",
     "output_type": "stream",
     "text": [
      "Model unknown\n",
      "\n",
      "  Variables:\n",
      "    x : Size=12, Index={0, 1, 2, 3}*{0, 1, 2}\n",
      "        Key    : Lower : Value : Upper : Fixed : Stale : Domain\n",
      "        (0, 0) :     0 :   1.0 :     1 : False : False : Binary\n",
      "        (0, 1) :     0 :   0.0 :     1 : False : False : Binary\n",
      "        (0, 2) :     0 :   0.0 :     1 : False : False : Binary\n",
      "        (1, 0) :     0 :   0.0 :     1 : False : False : Binary\n",
      "        (1, 1) :     0 :   0.0 :     1 : False : False : Binary\n",
      "        (1, 2) :     0 :   1.0 :     1 : False : False : Binary\n",
      "        (2, 0) :     0 :   0.0 :     1 : False : False : Binary\n",
      "        (2, 1) :     0 :   0.0 :     1 : False : False : Binary\n",
      "        (2, 2) :     0 :   1.0 :     1 : False : False : Binary\n",
      "        (3, 0) :     0 :   1.0 :     1 : False : False : Binary\n",
      "        (3, 1) :     0 :   0.0 :     1 : False : False : Binary\n",
      "        (3, 2) :     0 :   0.0 :     1 : False : False : Binary\n",
      "\n",
      "  Objectives:\n",
      "    obj : Size=1, Index=None, Active=True\n",
      "        Key  : Active : Value\n",
      "        None :   True : 399.3\n",
      "\n",
      "  Constraints:\n",
      "    priceChoiceUPC0 : Size=1\n",
      "        Key  : Lower : Body : Upper\n",
      "        None :   1.0 :  1.0 :   1.0\n",
      "    priceChoiceUPC1 : Size=1\n",
      "        Key  : Lower : Body : Upper\n",
      "        None :   1.0 :  1.0 :   1.0\n",
      "    priceChoiceUPC2 : Size=1\n",
      "        Key  : Lower : Body : Upper\n",
      "        None :   1.0 :  1.0 :   1.0\n",
      "    priceChoiceUPC3 : Size=1\n",
      "        Key  : Lower : Body : Upper\n",
      "        None :   1.0 :  1.0 :   1.0\n",
      "    sumPrice : Size=1\n",
      "        Key  : Lower : Body : Upper\n",
      "        None :  12.0 : 12.0 :  12.0\n"
     ]
    }
   ],
   "source": [
    "model.display()"
   ]
  },
  {
   "cell_type": "markdown",
   "metadata": {},
   "source": [
    "Au besoin, il est aussi possible d'extraire la solution pour la stocker dans une autre structure de donnée. Par exemple, ci-dessous, on extrait les valeurs des variables `x` pour les stocker dans le dictionnaire `solution`."
   ]
  },
  {
   "cell_type": "code",
   "execution_count": 11,
   "metadata": {},
   "outputs": [
    {
     "data": {
      "text/plain": [
       "{(0, 0): 1.0,\n",
       " (0, 1): 0.0,\n",
       " (0, 2): 0.0,\n",
       " (1, 0): 0.0,\n",
       " (1, 1): 0.0,\n",
       " (1, 2): 1.0,\n",
       " (2, 0): 0.0,\n",
       " (2, 1): 0.0,\n",
       " (2, 2): 1.0,\n",
       " (3, 0): 1.0,\n",
       " (3, 1): 0.0,\n",
       " (3, 2): 0.0}"
      ]
     },
     "execution_count": 11,
     "metadata": {},
     "output_type": "execute_result"
    }
   ],
   "source": [
    "solution = {}\n",
    "for i in N:\n",
    "    for j in M:\n",
    "        solution[i,j] = model.x[i,j].value  # ou pe.value(model.x[i,j])\n",
    "solution"
   ]
  },
  {
   "cell_type": "markdown",
   "metadata": {},
   "source": [
    "Par la suite, on extrait aussi aussi la valeur optimale de la fonction objectif et on la stock dans la variable `obj`."
   ]
  },
  {
   "cell_type": "code",
   "execution_count": 12,
   "metadata": {},
   "outputs": [
    {
     "data": {
      "text/plain": [
       "399.3"
      ]
     },
     "execution_count": 12,
     "metadata": {},
     "output_type": "execute_result"
    }
   ],
   "source": [
    "obj = pe.value(model.obj)\n",
    "obj"
   ]
  },
  {
   "cell_type": "code",
   "execution_count": null,
   "metadata": {},
   "outputs": [],
   "source": []
  }
 ],
 "metadata": {
  "kernelspec": {
   "display_name": "py311",
   "language": "python",
   "name": "python3"
  },
  "language_info": {
   "codemirror_mode": {
    "name": "ipython",
    "version": 3
   },
   "file_extension": ".py",
   "mimetype": "text/x-python",
   "name": "python",
   "nbconvert_exporter": "python",
   "pygments_lexer": "ipython3",
   "version": "3.11.10"
  },
  "toc": {
   "base_numbering": 1,
   "nav_menu": {},
   "number_sections": true,
   "sideBar": true,
   "skip_h1_title": false,
   "title_cell": "Table of Contents",
   "title_sidebar": "Contents",
   "toc_cell": false,
   "toc_position": {},
   "toc_section_display": true,
   "toc_window_display": false
  }
 },
 "nbformat": 4,
 "nbformat_minor": 1
}
