{
 "cells": [
  {
   "cell_type": "markdown",
   "metadata": {},
   "source": [
    "<!--NOTEBOOK_HEADER-->\n",
    "*This notebook contains material from the [ND-Pyomo-Cookbook](https://jckantor.github.io/ND-Pyomo-Cookbook) by\n",
    "Jeffrey Kantor (jeff at nd.edu); the content is available [on Github](https://github.com/jckantor/ND-Pyomo-Cookbook.git).\n",
    "*The text is released under the [CC-BY-NC-ND-4.0 license](https://creativecommons.org/licenses/by-nc-nd/4.0/legalcode),\n",
    "and code is released under the [MIT license](https://opensource.org/licenses/MIT).*"
   ]
  },
  {
   "cell_type": "markdown",
   "metadata": {
    "colab_type": "text",
    "id": "SRXossXvecIC",
    "pycharm": {}
   },
   "source": [
    "# S09 - Modèles de production avec contraintes linéaires\n",
    "Ce notebook démontre l'utilisation de la programmation linéaire pour maximiser les profits pour un modèle simple d'une installation de production multi-produits. Ce Jupyter Notebook utilise [Pyomo](http://www.pyomo.org/) pour représenter le modèle avec le solveur [GLPK](https://www.gnu.org/software/glpk/) pour calculer les solutions."
   ]
  },
  {
   "cell_type": "markdown",
   "metadata": {},
   "source": [
    "## Importations"
   ]
  },
  {
   "cell_type": "code",
   "execution_count": 1,
   "metadata": {
    "colab": {},
    "colab_type": "code",
    "id": "2JKaLcN8edkz",
    "pycharm": {}
   },
   "outputs": [],
   "source": [
    "import matplotlib.pyplot as plt\n",
    "%matplotlib inline\n",
    "import numpy as np\n",
    "\n",
    "import shutil\n",
    "import sys\n",
    "import os.path\n",
    "\n",
    "if not shutil.which(\"pyomo\"):\n",
    "    if \"google.colab\" in sys.modules:\n",
    "        !pip install -q pyomo\n",
    "    else:\n",
    "        !conda install -c conda-forge pyomo\n",
    "    assert(shutil.which(\"pyomo\"))\n",
    "    \n",
    "if not (shutil.which(\"glpsol\") or os.path.isfile(\"glpsol\")):\n",
    "    if \"google.colab\" in sys.modules:\n",
    "        !apt-get install -y -qq glpk-utils\n",
    "    else:\n",
    "        try:\n",
    "            !conda install -c conda-forge glpk \n",
    "        except:\n",
    "            pass\n",
    "    assert(shutil.which(\"glpsol\") or os.path.isfile(\"glpsol\"))\n",
    "\n",
    "from pyomo.environ import *"
   ]
  },
  {
   "cell_type": "markdown",
   "metadata": {
    "colab_type": "text",
    "id": "zywBNq7gecII",
    "pycharm": {}
   },
   "source": [
    "## Example: Plan de production pour une usine d'un seul produit\n",
    "Supposons que vous envisagez de créer une entreprise pour produire le produit X. Vous avez déterminé qu'il existe un marché pour X de jusqu'à 40 unités par semaine à un prix de 270 USD chacune. La production de chaque unité nécessite 100 USD de matières premières, 1 heure de travail de type A et 2 heures de travail de type B. Vous disposez d'une quantité illimitée de matières premières à votre disposition, mais seulement 80 heures par semaine de travail A au coût de 50 USD/heure, et 100 heures par semaine de travail B au coût de 40 USD par heure. En ignorant toutes les autres dépenses, quel est le bénéfice hebdomadaire maximal?\n",
    "\n",
    "Pour commencer sur ce problème, nous esquissons un organigramme illustrant le flux de matières premières et de main-d'œuvre à travers l'usine de production.\n",
    "\n",
    "![LP_ProductX.png](https://raw.githubusercontent.com/acedesci/scanalytics/master/S09_Retail_Analytics_2/_static/LP_ProductX.png?raw=true)\n",
    "\n",
    "La décision essentielle que nous devons prendre est le nombre d'unités ou de produit X à produire chaque semaine. C'est notre *variable de décision* que nous désignons par $x$. Les revenus hebdomadaires sont alors\n",
    "\n",
    "$$ \\mbox{Revenue} = \\$270 x $$\n",
    "\n",
    "Les coûts comprennent la valeur des matières premières et chaque forme de travail. Si nous produisons x unités par semaine, le coût total est\n",
    "\n",
    "$$ \\mbox{Cost} = \\underbrace{\\$100 x}_{\\mbox{Raw Material}} \n",
    "    + \\underbrace{\\$50 x}_{\\mbox{Labor A}} + \\underbrace{2\\times\\$40 x}_{\\mbox{Labor B}} = \\$230 x$$\n",
    "    \n",
    "On voit tout de suite que le profit brut est juste\n",
    "\n",
    "$$\\begin{eqnarray*}\\mbox{Profit} & = & \\mbox{Revenue} - \\mbox{Cost} \\\\\n",
    "& = & \\$270x - \\$230x \\\\\n",
    "& = & \\$40 x\n",
    "\\end{eqnarray*}$$\n",
    "\n",
    "ce qui signifie qu'il y a un bénéfice réalisé sur chaque unité de X produite, alors produisons autant que possible.\n",
    "\n",
    "Il existe trois contraintes qui limitent le nombre d'unités pouvant être produites. Le marché ne demande pas plus de 40 unités par semaine. Produire $x = 40$ unités par semaine nécessitera 40 heures par semaine de travail A et 80 heures par semaine de travail B. En vérifiant ces contraintes, nous voyons que nous avons suffisamment de main-d'œuvre de chaque type, donc le profit maximum sera\n",
    "\n",
    "$$\\max \\mbox{Profit} = $40 \\mbox{ per unit} \\times 40 \\mbox{ units per week} = \\$1600 \\mbox{ per week}$$\n",
    "\n",
    "Nous en concluons que la demande du marché est la 'contrainte la plus contraignante'. Une fois que nous avons fait cette déduction, le reste est un problème simple qui peut être résolu par une inspection."
   ]
  },
  {
   "cell_type": "markdown",
   "metadata": {
    "colab_type": "text",
    "id": "6fkeTeNqecIK",
    "pycharm": {}
   },
   "source": [
    "### Modèle Pyomo"
   ]
  },
  {
   "cell_type": "markdown",
   "metadata": {
    "colab_type": "text",
    "id": "oTNbhNemecIM",
    "pycharm": {}
   },
   "source": [
    "Bien que ce problème puisse être résolu par inspection, nous montrons ici un modèle Pyomo qui génère une solution au problème."
   ]
  },
  {
   "cell_type": "code",
   "execution_count": 2,
   "metadata": {
    "colab": {
     "base_uri": "https://localhost:8080/",
     "height": 527
    },
    "colab_type": "code",
    "executionInfo": {
     "elapsed": 1545,
     "status": "ok",
     "timestamp": 1555698907390,
     "user": {
      "displayName": "Jeffrey Kantor",
      "photoUrl": "https://lh5.googleusercontent.com/-8zK5aAW5RMQ/AAAAAAAAAAI/AAAAAAAAKB0/kssUQyz8DTQ/s64/photo.jpg",
      "userId": "09038942003589296665"
     },
     "user_tz": 240
    },
    "id": "FLdRutwhecIN",
    "outputId": "8b984d94-64c1-4917-b56d-96c6ac9a7dbc",
    "pycharm": {}
   },
   "outputs": [
    {
     "name": "stdout",
     "output_type": "stream",
     "text": [
      "# ==========================================================\n",
      "# = Solver Results                                         =\n",
      "# ==========================================================\n",
      "# ----------------------------------------------------------\n",
      "#   Problem Information\n",
      "# ----------------------------------------------------------\n",
      "Problem: \n",
      "- Name: unknown\n",
      "  Lower bound: 1600.0\n",
      "  Upper bound: 1600.0\n",
      "  Number of objectives: 1\n",
      "  Number of constraints: 4\n",
      "  Number of variables: 2\n",
      "  Number of nonzeros: 4\n",
      "  Sense: maximize\n",
      "# ----------------------------------------------------------\n",
      "#   Solver Information\n",
      "# ----------------------------------------------------------\n",
      "Solver: \n",
      "- Status: ok\n",
      "  Termination condition: optimal\n",
      "  Statistics: \n",
      "    Branch and bound: \n",
      "      Number of bounded subproblems: 0\n",
      "      Number of created subproblems: 0\n",
      "  Error rc: 0\n",
      "  Time: 0.037419795989990234\n",
      "# ----------------------------------------------------------\n",
      "#   Solution Information\n",
      "# ----------------------------------------------------------\n",
      "Solution: \n",
      "- number of solutions: 0\n",
      "  number of solutions displayed: 0\n"
     ]
    }
   ],
   "source": [
    "model = ConcreteModel()\n",
    "\n",
    "# déclaration des variables de décision\n",
    "model.x = Var(domain=NonNegativeReals)\n",
    "\n",
    "# déclaraiton de l'objectif\n",
    "model.profit = Objective(\n",
    "    expr = 40*model.x,\n",
    "    sense = maximize)\n",
    "\n",
    "# délaration des contraintes\n",
    "model.demand = Constraint(expr = model.x <= 40)\n",
    "model.laborA = Constraint(expr = model.x <= 80)\n",
    "model.laborB = Constraint(expr = 2*model.x <= 100)\n",
    "\n",
    "# résolution\n",
    "SolverFactory('glpk').solve(model).write()"
   ]
  },
  {
   "cell_type": "markdown",
   "metadata": {
    "colab_type": "text",
    "id": "vvul9a6zecIU",
    "pycharm": {}
   },
   "source": [
    "Les résultats de l'étape de solution montrent que le solveur a convergé vers une solution optimale. Ensuite, nous affichons les composants particuliers du modèle qui nous intéressent."
   ]
  },
  {
   "cell_type": "code",
   "execution_count": 3,
   "metadata": {
    "colab": {
     "base_uri": "https://localhost:8080/",
     "height": 51
    },
    "colab_type": "code",
    "executionInfo": {
     "elapsed": 722,
     "status": "ok",
     "timestamp": 1555698912767,
     "user": {
      "displayName": "Jeffrey Kantor",
      "photoUrl": "https://lh5.googleusercontent.com/-8zK5aAW5RMQ/AAAAAAAAAAI/AAAAAAAAKB0/kssUQyz8DTQ/s64/photo.jpg",
      "userId": "09038942003589296665"
     },
     "user_tz": 240
    },
    "id": "kvGCRiwMecIW",
    "outputId": "90f9e8ed-b4ae-4994-fcb6-e96572f37590",
    "pycharm": {}
   },
   "outputs": [
    {
     "name": "stdout",
     "output_type": "stream",
     "text": [
      "Profit =  1600.0  per week\n",
      "X =  40.0  units per week\n"
     ]
    }
   ],
   "source": [
    "print(\"Profit = \", model.profit(), \" per week\")\n",
    "print(\"X = \", model.x(), \" units per week\")"
   ]
  },
  {
   "cell_type": "markdown",
   "metadata": {
    "colab_type": "text",
    "id": "7R9q6sDcecIa",
    "pycharm": {}
   },
   "source": [
    "## Plan de production: Produit Y"
   ]
  },
  {
   "cell_type": "markdown",
   "metadata": {
    "colab_type": "text",
    "id": "uHrtxXrhecIb",
    "pycharm": {}
   },
   "source": [
    "Votre service marketing a élaboré des plans pour un nouveau produit appelé Y. Le produit se vend au prix de 210 USD/pièce, et ils s'attendent à ce que vous puissiez vendre tout ce que vous pouvez faire. Il est également moins cher à fabriquer, ne nécessitant que 90 USD de matières premières, 1 heure de travail de type A à 50 USD par heure et 1 heure de travail B à 40 USD par heure. Quel est le bénéfice hebdomadaire potentiel?\n",
    "\n",
    "![LP_ProductY.png](https://raw.githubusercontent.com/acedesci/scanalytics/master/S09_Retail_Analytics_2/_static/LP_ProductY.png?raw=true)"
   ]
  },
  {
   "cell_type": "code",
   "execution_count": 4,
   "metadata": {
    "colab": {
     "base_uri": "https://localhost:8080/",
     "height": 527
    },
    "colab_type": "code",
    "executionInfo": {
     "elapsed": 254,
     "status": "ok",
     "timestamp": 1555698921323,
     "user": {
      "displayName": "Jeffrey Kantor",
      "photoUrl": "https://lh5.googleusercontent.com/-8zK5aAW5RMQ/AAAAAAAAAAI/AAAAAAAAKB0/kssUQyz8DTQ/s64/photo.jpg",
      "userId": "09038942003589296665"
     },
     "user_tz": 240
    },
    "id": "rHGr9LwqecId",
    "outputId": "e790827b-02b5-459f-c744-82e383e1051a",
    "pycharm": {}
   },
   "outputs": [
    {
     "name": "stdout",
     "output_type": "stream",
     "text": [
      "# ==========================================================\n",
      "# = Solver Results                                         =\n",
      "# ==========================================================\n",
      "# ----------------------------------------------------------\n",
      "#   Problem Information\n",
      "# ----------------------------------------------------------\n",
      "Problem: \n",
      "- Name: unknown\n",
      "  Lower bound: 2400.0\n",
      "  Upper bound: 2400.0\n",
      "  Number of objectives: 1\n",
      "  Number of constraints: 3\n",
      "  Number of variables: 2\n",
      "  Number of nonzeros: 3\n",
      "  Sense: maximize\n",
      "# ----------------------------------------------------------\n",
      "#   Solver Information\n",
      "# ----------------------------------------------------------\n",
      "Solver: \n",
      "- Status: ok\n",
      "  Termination condition: optimal\n",
      "  Statistics: \n",
      "    Branch and bound: \n",
      "      Number of bounded subproblems: 0\n",
      "      Number of created subproblems: 0\n",
      "  Error rc: 0\n",
      "  Time: 0.04585695266723633\n",
      "# ----------------------------------------------------------\n",
      "#   Solution Information\n",
      "# ----------------------------------------------------------\n",
      "Solution: \n",
      "- number of solutions: 0\n",
      "  number of solutions displayed: 0\n"
     ]
    }
   ],
   "source": [
    "model = ConcreteModel()\n",
    "\n",
    "# déclaration des variables de décision\n",
    "model.y = Var(domain=NonNegativeReals)\n",
    "\n",
    "# déclaraiton de l'objectif\n",
    "model.profit = Objective(\n",
    "    expr = 30*model.y,\n",
    "    sense = maximize)\n",
    "\n",
    "# délaration des contraintes\n",
    "model.laborA = Constraint(expr = model.y <= 80)\n",
    "model.laborB = Constraint(expr = model.y <= 100)\n",
    "\n",
    "# résolution\n",
    "SolverFactory('glpk').solve(model).write()"
   ]
  },
  {
   "cell_type": "code",
   "execution_count": 5,
   "metadata": {
    "colab": {
     "base_uri": "https://localhost:8080/",
     "height": 51
    },
    "colab_type": "code",
    "executionInfo": {
     "elapsed": 257,
     "status": "ok",
     "timestamp": 1555698923529,
     "user": {
      "displayName": "Jeffrey Kantor",
      "photoUrl": "https://lh5.googleusercontent.com/-8zK5aAW5RMQ/AAAAAAAAAAI/AAAAAAAAKB0/kssUQyz8DTQ/s64/photo.jpg",
      "userId": "09038942003589296665"
     },
     "user_tz": 240
    },
    "id": "b9SY8ZPRecIh",
    "outputId": "ad099558-2549-4d70-8f10-2581d78feaa8",
    "pycharm": {}
   },
   "outputs": [
    {
     "name": "stdout",
     "output_type": "stream",
     "text": [
      "Profit =  2400.0\n",
      "Units of Y =  80.0\n"
     ]
    }
   ],
   "source": [
    "print(\"Profit = \", model.profit())\n",
    "print(\"Units of Y = \", model.y())"
   ]
  },
  {
   "cell_type": "markdown",
   "metadata": {
    "colab_type": "text",
    "id": "oEl-VQeyecIk",
    "pycharm": {}
   },
   "source": [
    "Par rapport au produit X, nous pouvons fabriquer et vendre 80 unités par semaine pour un bénéfice total de 2400 $. C'est une très bonne nouvelle."
   ]
  },
  {
   "cell_type": "markdown",
   "metadata": {
    "colab_type": "text",
    "id": "Df2vj9GiecIn",
    "pycharm": {}
   },
   "source": [
    "## Plan de production: stratégie de production mixte"
   ]
  },
  {
   "cell_type": "markdown",
   "metadata": {
    "colab_type": "text",
    "id": "uMh4W-ijecIo",
    "pycharm": {}
   },
   "source": [
    "Jusqu'à présent, nous avons appris que nous pouvons gagner 1600 \\\\$ par semaine en fabriquant le produit X et 2400 \\\\$ par semaine en fabriquant le produit Y. Est-il possible de faire encore mieux?\n",
    "\n",
    "Pour répondre à cette question, nous considérons la possibilité de fabriquer les deux produits dans la même usine. Le département marketing nous assure que le produit Y n'affectera pas les ventes du produit X. Donc, les mêmes contraintes existent qu'auparavant, mais maintenant nous avons deux variables de décision, $x$ et $y$.\n",
    "\n",
    "![LP_ProductXY.png](https://raw.githubusercontent.com/acedesci/scanalytics/master/S09_Retail_Analytics_2/_static/LP_ProductXY.png?raw=true)"
   ]
  },
  {
   "cell_type": "code",
   "execution_count": 6,
   "metadata": {
    "colab": {
     "base_uri": "https://localhost:8080/",
     "height": 527
    },
    "colab_type": "code",
    "executionInfo": {
     "elapsed": 267,
     "status": "ok",
     "timestamp": 1555698938250,
     "user": {
      "displayName": "Jeffrey Kantor",
      "photoUrl": "https://lh5.googleusercontent.com/-8zK5aAW5RMQ/AAAAAAAAAAI/AAAAAAAAKB0/kssUQyz8DTQ/s64/photo.jpg",
      "userId": "09038942003589296665"
     },
     "user_tz": 240
    },
    "id": "RgjGjPrFecIr",
    "outputId": "8b0b6119-171d-4e1c-8ab6-bc95c0f8f1a3",
    "pycharm": {}
   },
   "outputs": [
    {
     "name": "stdout",
     "output_type": "stream",
     "text": [
      "# ==========================================================\n",
      "# = Solver Results                                         =\n",
      "# ==========================================================\n",
      "# ----------------------------------------------------------\n",
      "#   Problem Information\n",
      "# ----------------------------------------------------------\n",
      "Problem: \n",
      "- Name: unknown\n",
      "  Lower bound: 2600.0\n",
      "  Upper bound: 2600.0\n",
      "  Number of objectives: 1\n",
      "  Number of constraints: 4\n",
      "  Number of variables: 3\n",
      "  Number of nonzeros: 6\n",
      "  Sense: maximize\n",
      "# ----------------------------------------------------------\n",
      "#   Solver Information\n",
      "# ----------------------------------------------------------\n",
      "Solver: \n",
      "- Status: ok\n",
      "  Termination condition: optimal\n",
      "  Statistics: \n",
      "    Branch and bound: \n",
      "      Number of bounded subproblems: 0\n",
      "      Number of created subproblems: 0\n",
      "  Error rc: 0\n",
      "  Time: 0.044370174407958984\n",
      "# ----------------------------------------------------------\n",
      "#   Solution Information\n",
      "# ----------------------------------------------------------\n",
      "Solution: \n",
      "- number of solutions: 0\n",
      "  number of solutions displayed: 0\n"
     ]
    }
   ],
   "source": [
    "model = ConcreteModel()\n",
    "\n",
    "# déclaration des variables de décision\n",
    "model.x = Var(domain=NonNegativeReals)\n",
    "model.y = Var(domain=NonNegativeReals)\n",
    "\n",
    "# déclaraiton de l'objectif\n",
    "model.profit = Objective(\n",
    "    expr = 40*model.x + 30*model.y,\n",
    "    sense = maximize)\n",
    "\n",
    "# délaration des contraintes\n",
    "model.demand = Constraint(expr = model.x <= 40)\n",
    "model.laborA = Constraint(expr = model.x + model.y <= 80)\n",
    "model.laborB = Constraint(expr = 2*model.x + model.y <= 100)\n",
    "\n",
    "# résolution\n",
    "SolverFactory('glpk').solve(model).write()"
   ]
  },
  {
   "cell_type": "code",
   "execution_count": 7,
   "metadata": {
    "colab": {
     "base_uri": "https://localhost:8080/",
     "height": 68
    },
    "colab_type": "code",
    "executionInfo": {
     "elapsed": 367,
     "status": "ok",
     "timestamp": 1555698941635,
     "user": {
      "displayName": "Jeffrey Kantor",
      "photoUrl": "https://lh5.googleusercontent.com/-8zK5aAW5RMQ/AAAAAAAAAAI/AAAAAAAAKB0/kssUQyz8DTQ/s64/photo.jpg",
      "userId": "09038942003589296665"
     },
     "user_tz": 240
    },
    "id": "16AtkqK1ecIy",
    "outputId": "56621172-1eec-458b-fd61-e856b70517b0",
    "pycharm": {}
   },
   "outputs": [
    {
     "name": "stdout",
     "output_type": "stream",
     "text": [
      "Profit =  2600.0\n",
      "Units of X =  20.0\n",
      "Units of Y =  60.0\n"
     ]
    }
   ],
   "source": [
    "# affichage de la solution\n",
    "print(\"Profit = \", model.profit())\n",
    "print(\"Units of X = \", model.x())\n",
    "print(\"Units of Y = \", model.y())"
   ]
  },
  {
   "cell_type": "markdown",
   "metadata": {
    "colab_type": "text",
    "id": "x7WugdoxecI1",
    "pycharm": {}
   },
   "source": [
    "La stratégie de production mixte génère plus de bénéfices que l'une ou l'autre des stratégies de produit unique."
   ]
  },
  {
   "cell_type": "markdown",
   "metadata": {},
   "source": [
    "## Quelles sont les contraintes actives?"
   ]
  },
  {
   "cell_type": "code",
   "execution_count": 8,
   "metadata": {
    "scrolled": true
   },
   "outputs": [
    {
     "data": {
      "image/png": "[encoded data removed]",
      "text/plain": [
       "<Figure size 600x600 with 1 Axes>"
      ]
     },
     "metadata": {},
     "output_type": "display_data"
    }
   ],
   "source": [
    "plt.figure(figsize=(6, 6))\n",
    "plt.subplot(111, aspect='equal')\n",
    "plt.axis([0, 100, 0, 100])\n",
    "plt.xlabel('Production Qty X')\n",
    "plt.ylabel('Production Qty Y')\n",
    "\n",
    "# contrainte Labor A\n",
    "x = np.array([0, 80])\n",
    "y = 80 - x\n",
    "plt.plot(x, y, 'r', lw=2)\n",
    "plt.fill_between([0, 80, 100], [80, 0,0 ], [100, 100, 100], color='r', alpha=0.15)\n",
    "\n",
    "# contrainte Labor B\n",
    "x = np.array([0, 50])\n",
    "y = 100 - 2*x\n",
    "plt.plot(x, y, 'b', lw=2)\n",
    "plt.fill_between([0, 50, 100], [100, 0, 0], [100, 100, 100], color='b', alpha=0.15)\n",
    "\n",
    "# contrainte Demand\n",
    "plt.plot([40, 40], [0, 100], 'g', lw=2)\n",
    "plt.fill_between([40, 100], [0, 0], [100, 100], color='g', alpha=0.15)\n",
    "\n",
    "plt.legend(['Labor A Constraint', 'Labor B Constraint', 'Demand Constraint'])\n",
    "\n",
    "# contours du profit constant\n",
    "x = np.array([0, 100])\n",
    "for p in np.linspace(0, 3600, 10):\n",
    "    y = (p - 40*x)/30\n",
    "    plt.plot(x, y, 'y--')\n",
    "\n",
    "# Optimum\n",
    "plt.plot(20, 60, 'r.', ms=20)\n",
    "plt.annotate('Mixed Product Strategy', xy=(20, 60), xytext=(50, 70), \n",
    "             arrowprops=dict(shrink=.1, width=1, headwidth=5))\n",
    "\n",
    "plt.plot(0, 80, 'b.', ms=20)\n",
    "plt.annotate('Y Only', xy=(0, 80), xytext=(20, 90), \n",
    "             arrowprops=dict(shrink=0.1, width=1, headwidth=5))\n",
    "\n",
    "plt.plot(40, 0, 'b.', ms=20)\n",
    "plt.annotate('X Only', xy=(40, 0), xytext=(70, 20), \n",
    "             arrowprops=dict(shrink=0.1, width=1, headwidth=5))\n",
    "\n",
    "plt.text(4, 23, 'Increasing Profit')\n",
    "plt.annotate('', xy=(20,15), xytext=(0,0), \n",
    "             arrowprops=dict(width=0.5,headwidth=5))\n",
    "\n",
    "fname = 'LPprog01.png'\n",
    "plt.savefig(fname, bbox_inches='tight')"
   ]
  }
 ],
 "metadata": {
  "kernelspec": {
   "display_name": "Python 3 (ipykernel)",
   "language": "python",
   "name": "python3"
  },
  "language_info": {
   "codemirror_mode": {
    "name": "ipython",
    "version": 3
   },
   "file_extension": ".py",
   "mimetype": "text/x-python",
   "name": "python",
   "nbconvert_exporter": "python",
   "pygments_lexer": "ipython3",
   "version": "3.8.8"
  },
  "toc": {
   "base_numbering": 1,
   "nav_menu": {},
   "number_sections": true,
   "sideBar": true,
   "skip_h1_title": false,
   "title_cell": "Table of Contents",
   "title_sidebar": "Contents",
   "toc_cell": false,
   "toc_position": {},
   "toc_section_display": true,
   "toc_window_display": false
  }
 },
 "nbformat": 4,
 "nbformat_minor": 4
}
