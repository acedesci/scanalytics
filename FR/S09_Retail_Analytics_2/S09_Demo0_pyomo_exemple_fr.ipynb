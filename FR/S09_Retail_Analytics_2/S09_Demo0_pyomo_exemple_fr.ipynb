{
 "cells": [
  {
   "cell_type": "code",
   "execution_count": null,
   "id": "a396243a",
   "metadata": {},
   "outputs": [],
   "source": [
    "import matplotlib.pyplot as plt\n",
    "import numpy as np\n",
    "\n",
    "import shutil\n",
    "import sys\n",
    "import os.path\n",
    "\n",
    "if not shutil.which(\"pyomo\"):\n",
    "    if \"google.colab\" in sys.modules:\n",
    "        !pip install -q pyomo\n",
    "    else:\n",
    "        !conda install -c conda-forge pyomo\n",
    "    assert(shutil.which(\"pyomo\"))\n",
    "    \n",
    "if not (shutil.which(\"glpsol\") or os.path.isfile(\"glpsol\")):\n",
    "    if \"google.colab\" in sys.modules:\n",
    "        !apt-get install -y -qq glpk-utils\n",
    "    else:\n",
    "        try:\n",
    "            !conda install -c conda-forge glpk \n",
    "        except:\n",
    "            pass\n",
    "    assert(shutil.which(\"glpsol\") or os.path.isfile(\"glpsol\"))\n",
    "\n",
    "import pyomo.environ as pe"
   ]
  },
  {
   "cell_type": "markdown",
   "id": "1d33531e",
   "metadata": {},
   "source": [
    "# Modèle du 2e exemple Pyomo:\n",
    "\n",
    "maximiser $40 x_1 + 30 x_2$ (profit)\n",
    "\n",
    "Sujet à $x_1 \\leq 40$ (demand)\n",
    "\n",
    "$x_1 + x_2 \\leq 80$ (laborA)\n",
    "\n",
    "$2x_1 + x_2 \\leq 100$ (laborB)\n",
    "\n",
    "$x_1, x_2 \\geq 0$"
   ]
  },
  {
   "cell_type": "markdown",
   "id": "faa70fdf",
   "metadata": {},
   "source": [
    "# Option 1"
   ]
  },
  {
   "cell_type": "code",
   "execution_count": null,
   "id": "2b5339a8",
   "metadata": {},
   "outputs": [],
   "source": []
  },
  {
   "cell_type": "code",
   "execution_count": null,
   "id": "e3bcf829",
   "metadata": {},
   "outputs": [],
   "source": []
  },
  {
   "cell_type": "code",
   "execution_count": null,
   "id": "5f22a844",
   "metadata": {},
   "outputs": [],
   "source": []
  },
  {
   "cell_type": "code",
   "execution_count": null,
   "id": "9ddee28d",
   "metadata": {},
   "outputs": [],
   "source": []
  },
  {
   "cell_type": "code",
   "execution_count": null,
   "id": "6431143b",
   "metadata": {},
   "outputs": [],
   "source": []
  },
  {
   "cell_type": "code",
   "execution_count": null,
   "id": "41794724",
   "metadata": {},
   "outputs": [],
   "source": []
  },
  {
   "cell_type": "code",
   "execution_count": null,
   "id": "ed7cbf34",
   "metadata": {},
   "outputs": [],
   "source": []
  },
  {
   "cell_type": "markdown",
   "id": "ef33b6c7",
   "metadata": {},
   "source": [
    "# Option 2\n",
    "$x$ avec liste"
   ]
  },
  {
   "cell_type": "code",
   "execution_count": null,
   "id": "95cbe3ae",
   "metadata": {},
   "outputs": [],
   "source": []
  },
  {
   "cell_type": "code",
   "execution_count": null,
   "id": "648cfe19",
   "metadata": {},
   "outputs": [],
   "source": []
  },
  {
   "cell_type": "markdown",
   "id": "3a4eca73",
   "metadata": {},
   "source": [
    "# Option 3\n",
    "objectif et contraintes avec dictionnaires"
   ]
  },
  {
   "cell_type": "code",
   "execution_count": null,
   "id": "b0d95cff",
   "metadata": {},
   "outputs": [],
   "source": []
  },
  {
   "cell_type": "code",
   "execution_count": null,
   "id": "595cec00",
   "metadata": {},
   "outputs": [],
   "source": []
  },
  {
   "cell_type": "markdown",
   "id": "d00eb347",
   "metadata": {},
   "source": [
    "# Option 4\n",
    "utilisation de *rule*"
   ]
  },
  {
   "cell_type": "code",
   "execution_count": null,
   "id": "76e783b1",
   "metadata": {},
   "outputs": [],
   "source": []
  },
  {
   "cell_type": "code",
   "execution_count": null,
   "id": "f72a3e06",
   "metadata": {},
   "outputs": [],
   "source": []
  },
  {
   "cell_type": "code",
   "execution_count": null,
   "id": "01c0ed09",
   "metadata": {},
   "outputs": [],
   "source": []
  }
 ],
 "metadata": {
  "kernelspec": {
   "display_name": "Python 3 (ipykernel)",
   "language": "python",
   "name": "python3"
  },
  "language_info": {
   "codemirror_mode": {
    "name": "ipython",
    "version": 3
   },
   "file_extension": ".py",
   "mimetype": "text/x-python",
   "name": "python",
   "nbconvert_exporter": "python",
   "pygments_lexer": "ipython3",
   "version": "3.8.8"
  },
  "toc": {
   "base_numbering": 1,
   "nav_menu": {},
   "number_sections": true,
   "sideBar": true,
   "skip_h1_title": false,
   "title_cell": "Table of Contents",
   "title_sidebar": "Contents",
   "toc_cell": false,
   "toc_position": {},
   "toc_section_display": true,
   "toc_window_display": false
  }
 },
 "nbformat": 4,
 "nbformat_minor": 5
}
