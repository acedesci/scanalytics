{
 "cells": [
  {
   "cell_type": "markdown",
   "metadata": {
    "colab_type": "text",
    "id": "t2xpoCA56e-f"
   },
   "source": [
    "# Modèle prescriptif de la détermination des prix - version compacte\n",
    "\n",
    "Ce notebook est la version compacte du modèle d'optimisation. Contrairement à la version détaillée dans laquelle nous avons ajouté explicitement chaque équation, nous allons maintenant automatiser le processus de génération du modèle en utilisant des fonctionnalités de pyomo. Nous ne nous attendons pas à ce que vous soyez en mesure d'écrire tout ce code. Toutefois, vous devriez comprendre ce que fait chaque bloc. \n",
    "\n",
    "Plus particulièrement, nous souhaitons créer un **modèle compact** similaire au modèle de détermination des prix pour le cas Rue La La.\n",
    "\n",
    "![modèle_compact](https://raw.githubusercontent.com/acedesci/scanalytics/master/FR/S09_Retail_Analytics_2/_static/modele_compact.png?raw=true)\n",
    "\n",
    "*Rappelez-vous toutefois que $k$ signifie ici le prix moyen et non pas la somme des prix comme dans le modèle de Rue La La.*"
   ]
  },
  {
   "cell_type": "code",
   "execution_count": 1,
   "metadata": {},
   "outputs": [],
   "source": [
    "import pandas as pd\n",
    "\n",
    "import shutil\n",
    "import sys\n",
    "import os.path\n",
    "\n",
    "if not shutil.which(\"pyomo\"):\n",
    "    if \"google.colab\" in sys.modules:\n",
    "        !pip install -q pyomo\n",
    "    else:\n",
    "        !conda install -c conda-forge pyomo\n",
    "    assert(shutil.which(\"pyomo\"))\n",
    "    \n",
    "if not (shutil.which(\"glpsol\") or os.path.isfile(\"glpsol\")):\n",
    "    if \"google.colab\" in sys.modules:\n",
    "        !apt-get install -y -qq glpk-utils\n",
    "    else:\n",
    "        try:\n",
    "            !conda install -c conda-forge glpk \n",
    "        except:\n",
    "            pass\n",
    "    assert(shutil.which(\"glpsol\") or os.path.isfile(\"glpsol\"))\n",
    "\n",
    "import pyomo.environ as pe"
   ]
  },
  {
   "cell_type": "markdown",
   "metadata": {},
   "source": [
    "# Bloc 1: données d'entrée\n",
    "Nous avons préparé les entrées de données dans deux fichiers, c'est-à-dire,\n",
    "1. **'predictedSales_Prob1.csv'**. C'est un problème à petite échelle. Il est identique au problème de la démonstration avec le modèle détaillé.\n",
    "2. **'predictedSales_Prob2.csv'**. C'est un problème à grande échelle. Celui-ci contient un nombre beaucoup plus élevé de variables et de contraintes pour refléter le contexte réel.\n",
    "\n",
    "Veuillez vous concentrer principalement sur le fichier *'predictedSales_Prob1.csv'* car vous pourrez voir le même modèle que dans la deuxième démonstration. Vous pouvez également essayer *'predictedSales_Prob2.csv'* si vous souhaitez voir le modèle à grande échelle."
   ]
  },
  {
   "cell_type": "code",
   "execution_count": 2,
   "metadata": {
    "colab": {
     "base_uri": "https://localhost:8080/",
     "height": 421
    },
    "colab_type": "code",
    "id": "vxk0SKB7eM70",
    "outputId": "7d0a16f3-9d3b-4db2-8a1f-ad8ea2de746f"
   },
   "outputs": [
    {
     "name": "stdout",
     "output_type": "stream",
     "text": [
      "(12, 9)\n"
     ]
    },
    {
     "data": {
      "text/html": [
       "<div>\n",
       "<style scoped>\n",
       "    .dataframe tbody tr th:only-of-type {\n",
       "        vertical-align: middle;\n",
       "    }\n",
       "\n",
       "    .dataframe tbody tr th {\n",
       "        vertical-align: top;\n",
       "    }\n",
       "\n",
       "    .dataframe thead th {\n",
       "        text-align: right;\n",
       "    }\n",
       "</style>\n",
       "<table border=\"1\" class=\"dataframe\">\n",
       "  <thead>\n",
       "    <tr style=\"text-align: right;\">\n",
       "      <th></th>\n",
       "      <th>AVG_PRICE_VALUE</th>\n",
       "      <th>UPC</th>\n",
       "      <th>PRICE</th>\n",
       "      <th>PRICE_p2</th>\n",
       "      <th>FEATURE</th>\n",
       "      <th>DISPLAY</th>\n",
       "      <th>TPR_ONLY</th>\n",
       "      <th>RELPRICE</th>\n",
       "      <th>PRED_SALES</th>\n",
       "    </tr>\n",
       "  </thead>\n",
       "  <tbody>\n",
       "    <tr>\n",
       "      <th>0</th>\n",
       "      <td>3.0</td>\n",
       "      <td>1600027528</td>\n",
       "      <td>2.5</td>\n",
       "      <td>6.25</td>\n",
       "      <td>0</td>\n",
       "      <td>0</td>\n",
       "      <td>0</td>\n",
       "      <td>0.833333</td>\n",
       "      <td>94.9</td>\n",
       "    </tr>\n",
       "    <tr>\n",
       "      <th>1</th>\n",
       "      <td>3.0</td>\n",
       "      <td>1600027528</td>\n",
       "      <td>3.0</td>\n",
       "      <td>9.00</td>\n",
       "      <td>0</td>\n",
       "      <td>0</td>\n",
       "      <td>0</td>\n",
       "      <td>1.000000</td>\n",
       "      <td>67.0</td>\n",
       "    </tr>\n",
       "    <tr>\n",
       "      <th>2</th>\n",
       "      <td>3.0</td>\n",
       "      <td>1600027528</td>\n",
       "      <td>3.5</td>\n",
       "      <td>12.25</td>\n",
       "      <td>0</td>\n",
       "      <td>0</td>\n",
       "      <td>0</td>\n",
       "      <td>1.166667</td>\n",
       "      <td>46.4</td>\n",
       "    </tr>\n",
       "    <tr>\n",
       "      <th>3</th>\n",
       "      <td>3.0</td>\n",
       "      <td>1600027564</td>\n",
       "      <td>2.5</td>\n",
       "      <td>6.25</td>\n",
       "      <td>0</td>\n",
       "      <td>0</td>\n",
       "      <td>0</td>\n",
       "      <td>0.833333</td>\n",
       "      <td>24.1</td>\n",
       "    </tr>\n",
       "    <tr>\n",
       "      <th>4</th>\n",
       "      <td>3.0</td>\n",
       "      <td>1600027564</td>\n",
       "      <td>3.0</td>\n",
       "      <td>9.00</td>\n",
       "      <td>0</td>\n",
       "      <td>0</td>\n",
       "      <td>0</td>\n",
       "      <td>1.000000</td>\n",
       "      <td>22.6</td>\n",
       "    </tr>\n",
       "  </tbody>\n",
       "</table>\n",
       "</div>"
      ],
      "text/plain": [
       "   AVG_PRICE_VALUE         UPC  PRICE  PRICE_p2  FEATURE  DISPLAY  TPR_ONLY  \\\n",
       "0              3.0  1600027528    2.5      6.25        0        0         0   \n",
       "1              3.0  1600027528    3.0      9.00        0        0         0   \n",
       "2              3.0  1600027528    3.5     12.25        0        0         0   \n",
       "3              3.0  1600027564    2.5      6.25        0        0         0   \n",
       "4              3.0  1600027564    3.0      9.00        0        0         0   \n",
       "\n",
       "   RELPRICE  PRED_SALES  \n",
       "0  0.833333        94.9  \n",
       "1  1.000000        67.0  \n",
       "2  1.166667        46.4  \n",
       "3  0.833333        24.1  \n",
       "4  1.000000        22.6  "
      ]
     },
     "execution_count": 2,
     "metadata": {},
     "output_type": "execute_result"
    }
   ],
   "source": [
    "# Le paramètre SIZE doit être défini à 'small' ou 'large'\n",
    "SIZE = 'small'\n",
    "\n",
    "if SIZE == 'small':\n",
    "    # petit exemple\n",
    "    url = 'https://raw.githubusercontent.com/acedesci/scanalytics/master/data/predictedSales_Prob1.csv'\n",
    "elif SIZE == 'large':\n",
    "    # grand exemple\n",
    "    url = 'https://raw.githubusercontent.com/acedesci/scanalytics/master/data/predictedSales_Prob2.csv'\n",
    "else:\n",
    "    raise ValueError(\"SIZE doit être défini à 'small' ou 'large'\")\n",
    "\n",
    "predDemand = pd.read_csv(url)\n",
    "print(predDemand.shape)\n",
    "predDemand.head()"
   ]
  },
  {
   "cell_type": "markdown",
   "metadata": {
    "colab_type": "text",
    "id": "XXitxH0IAipU"
   },
   "source": [
    "Avec le nouveau jeu de données, nous devons d'abord vérifier le nombre de valeurs de prix moyen, car nous devons exécuter le modèle d'optimisation pour chaque valeur du prix moyen."
   ]
  },
  {
   "cell_type": "code",
   "execution_count": 3,
   "metadata": {
    "colab": {
     "base_uri": "https://localhost:8080/",
     "height": 34
    },
    "colab_type": "code",
    "id": "scZFGWSlDi3L",
    "outputId": "afac4f57-9765-472c-815c-cfcfb25ce53d"
   },
   "outputs": [
    {
     "name": "stdout",
     "output_type": "stream",
     "text": [
      "Liste des produits (i): [1600027528 1600027564 3000006340 3800031829]\n",
      "Liste des prix (j): [2.5 3.  3.5]\n",
      "Liste des prix moyens (k): [3.]\n"
     ]
    }
   ],
   "source": [
    "productList = predDemand['UPC'].unique()\n",
    "priceList = predDemand['PRICE'].unique()\n",
    "avgPriceList = predDemand['AVG_PRICE_VALUE'].unique()\n",
    "inputColumns = ['AVG_PRICE_VALUE', 'UPC', 'PRICE', 'PRED_SALES']\n",
    "\n",
    "print(f\"Liste des produits (i): {productList}\")\n",
    "print(f\"Liste des prix (j): {priceList}\")\n",
    "print(f\"Liste des prix moyens (k): {avgPriceList}\")"
   ]
  },
  {
   "cell_type": "markdown",
   "metadata": {
    "colab_type": "text",
    "id": "eoePE7clILkZ"
   },
   "source": [
    "# Bloc 2: préparation des paramètres d'entrée pour le modèle\n",
    "Nous pouvons choisir la valeur de $k$ que nous voulons utiliser dans le modèle d'optimisation à partir de la colonne `'AVG_PRICE_VALUE'` des données. Dans *'predictedSales_Prob1.csv'*, il n'y a qu'un seul choix de prix moyen (soit 3,0\\\\$), tandis qu'il y a 3 prix moyens différents dans *'predictedSales_Prob2.csv'*.\n",
    "\n",
    "Si vous souhaitez essayer différents choix de prix moyens, vous devez répéter cette procédure pour chaque valeur de prix moyen et enregistrer la solution optimale correspondante pour ensuite décider du prix moyen optimal et du prix optimal de chaque produit."
   ]
  },
  {
   "cell_type": "code",
   "execution_count": 4,
   "metadata": {
    "colab": {
     "base_uri": "https://localhost:8080/",
     "height": 292
    },
    "colab_type": "code",
    "id": "gl0TFiFZ8usK",
    "outputId": "52fe4033-1aed-4111-ca6e-9f9818f4d467"
   },
   "outputs": [
    {
     "data": {
      "text/html": [
       "<div>\n",
       "<style scoped>\n",
       "    .dataframe tbody tr th:only-of-type {\n",
       "        vertical-align: middle;\n",
       "    }\n",
       "\n",
       "    .dataframe tbody tr th {\n",
       "        vertical-align: top;\n",
       "    }\n",
       "\n",
       "    .dataframe thead th {\n",
       "        text-align: right;\n",
       "    }\n",
       "</style>\n",
       "<table border=\"1\" class=\"dataframe\">\n",
       "  <thead>\n",
       "    <tr style=\"text-align: right;\">\n",
       "      <th></th>\n",
       "      <th>AVG_PRICE_VALUE</th>\n",
       "      <th>UPC</th>\n",
       "      <th>PRICE</th>\n",
       "      <th>PRED_SALES</th>\n",
       "    </tr>\n",
       "  </thead>\n",
       "  <tbody>\n",
       "    <tr>\n",
       "      <th>0</th>\n",
       "      <td>3.0</td>\n",
       "      <td>1600027528</td>\n",
       "      <td>2.5</td>\n",
       "      <td>94.9</td>\n",
       "    </tr>\n",
       "    <tr>\n",
       "      <th>1</th>\n",
       "      <td>3.0</td>\n",
       "      <td>1600027528</td>\n",
       "      <td>3.0</td>\n",
       "      <td>67.0</td>\n",
       "    </tr>\n",
       "    <tr>\n",
       "      <th>2</th>\n",
       "      <td>3.0</td>\n",
       "      <td>1600027528</td>\n",
       "      <td>3.5</td>\n",
       "      <td>46.4</td>\n",
       "    </tr>\n",
       "    <tr>\n",
       "      <th>3</th>\n",
       "      <td>3.0</td>\n",
       "      <td>1600027564</td>\n",
       "      <td>2.5</td>\n",
       "      <td>24.1</td>\n",
       "    </tr>\n",
       "    <tr>\n",
       "      <th>4</th>\n",
       "      <td>3.0</td>\n",
       "      <td>1600027564</td>\n",
       "      <td>3.0</td>\n",
       "      <td>22.6</td>\n",
       "    </tr>\n",
       "  </tbody>\n",
       "</table>\n",
       "</div>"
      ],
      "text/plain": [
       "   AVG_PRICE_VALUE         UPC  PRICE  PRED_SALES\n",
       "0              3.0  1600027528    2.5        94.9\n",
       "1              3.0  1600027528    3.0        67.0\n",
       "2              3.0  1600027528    3.5        46.4\n",
       "3              3.0  1600027564    2.5        24.1\n",
       "4              3.0  1600027564    3.0        22.6"
      ]
     },
     "metadata": {},
     "output_type": "display_data"
    },
    {
     "name": "stdout",
     "output_type": "stream",
     "text": [
      "D: {(1600027528, 2.5): 94.9, (1600027564, 2.5): 24.1, (3000006340, 2.5): 6.2, (3800031829, 2.5): 32.9, (1600027528, 3.0): 67.0, (1600027564, 3.0): 22.6, (3000006340, 3.0): 4.0, (3800031829, 3.0): 24.3, (1600027528, 3.5): 46.4, (1600027564, 3.5): 19.8, (3000006340, 3.5): 3.0, (3800031829, 3.5): 20.4}\n"
     ]
    }
   ],
   "source": [
    "# Ici, nous choisissons la valeur de k (soit le prix moyen et non pas la somme des prix)\n",
    "# Notez que k doit être parmi les choix où la prédiction a été faite\n",
    "avgPriceValue =  avgPriceList[0] \n",
    "\n",
    "# Obtention des lignes correspondantes à k\n",
    "predDemand_k = predDemand.loc[predDemand['AVG_PRICE_VALUE'] == avgPriceValue, inputColumns]\n",
    "display(predDemand_k.head())\n",
    "\n",
    "# Création d'un dictionnaire pour le modèle d'optimisation\n",
    "D = {}\n",
    "for price in priceList:  # j correspond ici directement au prix et non à un index\n",
    "    for upc in productList:  # i correspond ici directement à un produit et non à un index\n",
    "        # D_ijk avec k=avgPriceValue\n",
    "        mask = (predDemand_k['UPC'] == upc) & (predDemand_k['PRICE'] == price)\n",
    "        D[upc, price] = predDemand_k.loc[mask, 'PRED_SALES'].values[0]\n",
    "\n",
    "print(f\"D: {D}\")"
   ]
  },
  {
   "cell_type": "markdown",
   "metadata": {
    "colab_type": "text",
    "id": "6HzvgED5Ltkk"
   },
   "source": [
    "# Bloc 3: création du modèle d'optimisation\n",
    "## Bloc 3.1: déclarations des variables\n",
    "Contrairement à la démonstration précédente, nous indexons les variables de décision et les paramètres directement par le produit et le prix plutôt que par leur indice. En effet, nous avons précédemment noté $x_{ij}=1$ si le prix associé à l'index $j$ est choisie pour le produit associé à l'index $i$, et 0 sinon. Maintenant, notre variable est notée $x_{1600027528,\\ 3.0}=1$, ce qui signifie que le produit UPC '1600027528' sera vendu à 3,0\\\\$. La même remarque de notation s'applique à la demande prévue ($D_{ijk}$)."
   ]
  },
  {
   "cell_type": "code",
   "execution_count": 5,
   "metadata": {
    "colab": {
     "base_uri": "https://localhost:8080/",
     "height": 612
    },
    "colab_type": "code",
    "id": "AeKxRrnufnyo",
    "outputId": "3a6e3492-cd1a-4072-8bf7-2a7d276a573a"
   },
   "outputs": [
    {
     "name": "stdout",
     "output_type": "stream",
     "text": [
      "1 Var Declarations\n",
      "    x : Size=12, Index={1600027528, 3000006340, 1600027564, 3800031829}*{3.5, 2.5, 3.0}\n",
      "        Key               : Lower : Value : Upper : Fixed : Stale : Domain\n",
      "        (1600027528, 2.5) :     0 :  None :     1 : False :  True : Binary\n",
      "        (1600027528, 3.0) :     0 :  None :     1 : False :  True : Binary\n",
      "        (1600027528, 3.5) :     0 :  None :     1 : False :  True : Binary\n",
      "        (1600027564, 2.5) :     0 :  None :     1 : False :  True : Binary\n",
      "        (1600027564, 3.0) :     0 :  None :     1 : False :  True : Binary\n",
      "        (1600027564, 3.5) :     0 :  None :     1 : False :  True : Binary\n",
      "        (3000006340, 2.5) :     0 :  None :     1 : False :  True : Binary\n",
      "        (3000006340, 3.0) :     0 :  None :     1 : False :  True : Binary\n",
      "        (3000006340, 3.5) :     0 :  None :     1 : False :  True : Binary\n",
      "        (3800031829, 2.5) :     0 :  None :     1 : False :  True : Binary\n",
      "        (3800031829, 3.0) :     0 :  None :     1 : False :  True : Binary\n",
      "        (3800031829, 3.5) :     0 :  None :     1 : False :  True : Binary\n",
      "\n",
      "1 Declarations: x\n"
     ]
    }
   ],
   "source": [
    "model = pe.ConcreteModel()\n",
    "\n",
    "# Variables\n",
    "model.x = pe.Var(productList, priceList, within=pe.Binary)\n",
    "\n",
    "# Affichage du modèle\n",
    "model.pprint()"
   ]
  },
  {
   "cell_type": "markdown",
   "metadata": {
    "colab_type": "text",
    "id": "0IdAKFZzPbOJ"
   },
   "source": [
    "## Bloc 3.2: ajout de la fonction objectif\n",
    "Au lieu de saisir de manière itérative la valeur de chaque prix et les ventes prévues, nous pouvons simplement créer une boucle **pour** chaque produit et une boucle **pour** chaque prix. Le code ressemble maintenant beaucoup à l'équation générale $\\sum_{i \\in N} \\sum_{j \\in M} p_{j} \\cdot \\tilde{D}_{ijk} \\cdot x_{ij}$ que nous avons vu précédemment.\n",
    "\n",
    "Nous utilisons ici une expression pour définir la fonction objectif. Ce code est équivalent à celui donné en commentaire qui utilise une règle."
   ]
  },
  {
   "cell_type": "code",
   "execution_count": 6,
   "metadata": {
    "colab": {
     "base_uri": "https://localhost:8080/",
     "height": 54
    },
    "colab_type": "code",
    "id": "RY6Vi1TE5ztC",
    "outputId": "f9ec34aa-764c-4e1b-ecf8-ada893274b73"
   },
   "outputs": [],
   "source": [
    "# fonction objectif\n",
    "model.obj = pe.Objective(expr=sum(j * D[i,j] * model.x[i,j]\n",
    "                                  for i in productList\n",
    "                                  for j in priceList),\n",
    "                         sense=pe.maximize)\n",
    "\n",
    "# Code équivalent:\n",
    "# def obj_rule(m):\n",
    "#     # dans l'expression suivante, j correspond directement au prix\n",
    "#     return sum(j * D[i,j] * m.x[i,j] for i in productList for j in priceList) \n",
    "# model.obj = pe.Objective(rule=obj_rule, sense=pe.maximize)"
   ]
  },
  {
   "cell_type": "markdown",
   "metadata": {
    "colab_type": "text",
    "id": "y2TOnlIlQfNq"
   },
   "source": [
    "## Bloc 3.3: ajout des contraintes\n",
    "### Contraintes 1: un choix de prix doit être choisi pour chaque produit\n",
    "\n",
    "Il est possible d'ajouter plusieurs contraintes en utilisant une liste de contraintes.\n",
    "\n",
    "Il est aussi possible d'ajouter plusieurs contraintes en même temps en utilisant des règles (voir le code commenté). Ces règles sont en fait des fonctions qui ont comme premier argument le modèle (ici, qu'on appelle le paramètre `m`) et comme arguments suivants les index nécessaires pour générer chacune des contraintes (ici, `i`). Cette contrainte est ensuite formée en spécifiant le ou les ensembles nécessaires, et la règle dans `pe.Constraint`."
   ]
  },
  {
   "cell_type": "code",
   "execution_count": 7,
   "metadata": {
    "colab": {
     "base_uri": "https://localhost:8080/",
     "height": 85
    },
    "colab_type": "code",
    "id": "_-J1E9CayDY-",
    "outputId": "98b37275-3bc7-4193-b4af-3de25685eea2"
   },
   "outputs": [],
   "source": [
    "# contraintes 1\n",
    "model.priceChoiceUPC = pe.ConstraintList()\n",
    "for i in productList:\n",
    "    model.priceChoiceUPC.add(expr=sum(model.x[i,j] for j in priceList) == 1)\n",
    "\n",
    "# Code équivalent:\n",
    "# def priceChoiceUPC_rule(m, i):\n",
    "#     return sum(m.x[i,j] for j in priceList) == 1 \n",
    "# model.priceChoiceUPC = pe.Constraint(productList, rule=priceChoiceUPC_rule)  # productList fournie les valeurs de i"
   ]
  },
  {
   "cell_type": "markdown",
   "metadata": {
    "colab_type": "text",
    "id": "gpCWig8MUBAZ"
   },
   "source": [
    "### Contrainte 2: la moyenne des prix de tous les styles concurrents doit être égal à $k$\n",
    "\n",
    "On utilise ici une expression, mais il serait encore possible d'utiliser une règle. "
   ]
  },
  {
   "cell_type": "code",
   "execution_count": 8,
   "metadata": {
    "colab": {
     "base_uri": "https://localhost:8080/",
     "height": 71
    },
    "colab_type": "code",
    "id": "prKy0fAE6hTd",
    "outputId": "1b691c97-e903-4a31-bb8a-f3824a9b8d37"
   },
   "outputs": [],
   "source": [
    "# contrainte 2\n",
    "model.sumPrice = pe.Constraint(expr=sum(j * model.x[i,j] \n",
    "                                        for i in productList \n",
    "                                        for j in priceList) == \n",
    "                               avgPriceValue * len(productList))\n",
    "\n",
    "# Code équivalent:\n",
    "# def sumPrice_rule(m):\n",
    "#     return sum(j * m.x[i,j] for i in productList for j in priceList) == avgPriceValue * len(productList) \n",
    "# model.sumPrice = pe.Constraint(rule=sumPrice_rule)"
   ]
  },
  {
   "cell_type": "markdown",
   "metadata": {
    "colab_type": "text",
    "id": "s_rfW16pVt4d"
   },
   "source": [
    "Nous pouvons maintenant afficher le modèle pour l'examiner avant de le résoudre."
   ]
  },
  {
   "cell_type": "code",
   "execution_count": 9,
   "metadata": {
    "colab": {
     "base_uri": "https://localhost:8080/",
     "height": 802
    },
    "colab_type": "code",
    "id": "K_z-vhR_VtJ2",
    "outputId": "8e03ca70-e17f-471a-dded-950eef876e2b"
   },
   "outputs": [
    {
     "name": "stdout",
     "output_type": "stream",
     "text": [
      "1 Var Declarations\n",
      "    x : Size=12, Index={1600027528, 3000006340, 1600027564, 3800031829}*{3.5, 2.5, 3.0}\n",
      "        Key               : Lower : Value : Upper : Fixed : Stale : Domain\n",
      "        (1600027528, 2.5) :     0 :  None :     1 : False :  True : Binary\n",
      "        (1600027528, 3.0) :     0 :  None :     1 : False :  True : Binary\n",
      "        (1600027528, 3.5) :     0 :  None :     1 : False :  True : Binary\n",
      "        (1600027564, 2.5) :     0 :  None :     1 : False :  True : Binary\n",
      "        (1600027564, 3.0) :     0 :  None :     1 : False :  True : Binary\n",
      "        (1600027564, 3.5) :     0 :  None :     1 : False :  True : Binary\n",
      "        (3000006340, 2.5) :     0 :  None :     1 : False :  True : Binary\n",
      "        (3000006340, 3.0) :     0 :  None :     1 : False :  True : Binary\n",
      "        (3000006340, 3.5) :     0 :  None :     1 : False :  True : Binary\n",
      "        (3800031829, 2.5) :     0 :  None :     1 : False :  True : Binary\n",
      "        (3800031829, 3.0) :     0 :  None :     1 : False :  True : Binary\n",
      "        (3800031829, 3.5) :     0 :  None :     1 : False :  True : Binary\n",
      "\n",
      "1 Objective Declarations\n",
      "    obj : Size=1, Index=None, Active=True\n",
      "        Key  : Active : Sense    : Expression\n",
      "        None :   True : maximize : 237.25*x[1600027528,2.5] + 201.0*x[1600027528,3.0] + 162.4*x[1600027528,3.5] + 60.25*x[1600027564,2.5] + 67.80000000000001*x[1600027564,3.0] + 69.3*x[1600027564,3.5] + 15.5*x[3000006340,2.5] + 12.0*x[3000006340,3.0] + 10.5*x[3000006340,3.5] + 82.25*x[3800031829,2.5] + 72.9*x[3800031829,3.0] + 71.39999999999999*x[3800031829,3.5]\n",
      "\n",
      "2 Constraint Declarations\n",
      "    priceChoiceUPC : Size=4, Index={1, 2, 3, 4}, Active=True\n",
      "        Key : Lower : Body                                                      : Upper : Active\n",
      "          1 :   1.0 : x[1600027528,2.5] + x[1600027528,3.0] + x[1600027528,3.5] :   1.0 :   True\n",
      "          2 :   1.0 : x[1600027564,2.5] + x[1600027564,3.0] + x[1600027564,3.5] :   1.0 :   True\n",
      "          3 :   1.0 : x[3000006340,2.5] + x[3000006340,3.0] + x[3000006340,3.5] :   1.0 :   True\n",
      "          4 :   1.0 : x[3800031829,2.5] + x[3800031829,3.0] + x[3800031829,3.5] :   1.0 :   True\n",
      "    sumPrice : Size=1, Index=None, Active=True\n",
      "        Key  : Lower : Body                                                                                                                                                                                                                                                                                          : Upper : Active\n",
      "        None :  12.0 : 2.5*x[1600027528,2.5] + 3.0*x[1600027528,3.0] + 3.5*x[1600027528,3.5] + 2.5*x[1600027564,2.5] + 3.0*x[1600027564,3.0] + 3.5*x[1600027564,3.5] + 2.5*x[3000006340,2.5] + 3.0*x[3000006340,3.0] + 3.5*x[3000006340,3.5] + 2.5*x[3800031829,2.5] + 3.0*x[3800031829,3.0] + 3.5*x[3800031829,3.5] :  12.0 :   True\n",
      "\n",
      "4 Declarations: x obj priceChoiceUPC sumPrice\n"
     ]
    }
   ],
   "source": [
    "model.pprint()"
   ]
  },
  {
   "cell_type": "markdown",
   "metadata": {
    "colab_type": "text",
    "id": "nUyWYe7wCj8q"
   },
   "source": [
    "# Bloc 4: solution et interprétation\n",
    "Enfin, nous appelons le solveur et obtenons la solution optimale. Pour le petit problème, nous pouvons voir que le produit '1600027528' est également vendu au prix de $2.5\\$$, les produits '1600027564' et '3000006340' aussi au prix de $3.5\\$$ et le produit '3800031829' toujours au prix de $2.5\\$$. De plus, la valeur objective optimale est encore $399.3\\$$.\n",
    "\n",
    "Pour le grand problème, on obtient:\n",
    "- $1750.50\\$$ pour $k=2.5\\$$,\n",
    "- $1805.80\\$$ pour $k=3.0\\$$, et\n",
    "- $1859.20\\$$ pour $k=3.5\\$$.\n",
    "\n",
    "Donc, on suivrait la solution optimale de $k=3.5\\$$. Vous pouvez exécuter le modèle du grand problème avec $k=3.5\\$$ pour voir les valeurs de $x$."
   ]
  },
  {
   "cell_type": "code",
   "execution_count": 10,
   "metadata": {
    "colab": {
     "base_uri": "https://localhost:8080/",
     "height": 578
    },
    "colab_type": "code",
    "id": "a0KA-DNX8RqA",
    "outputId": "bce734ed-0f34-487d-ed55-f1787a83183d"
   },
   "outputs": [
    {
     "name": "stdout",
     "output_type": "stream",
     "text": [
      "Model unknown\n",
      "\n",
      "  Variables:\n",
      "    x : Size=12, Index={1600027528, 3000006340, 1600027564, 3800031829}*{3.5, 2.5, 3.0}\n",
      "        Key               : Lower : Value : Upper : Fixed : Stale : Domain\n",
      "        (1600027528, 2.5) :     0 :   1.0 :     1 : False : False : Binary\n",
      "        (1600027528, 3.0) :     0 :   0.0 :     1 : False : False : Binary\n",
      "        (1600027528, 3.5) :     0 :   0.0 :     1 : False : False : Binary\n",
      "        (1600027564, 2.5) :     0 :   0.0 :     1 : False : False : Binary\n",
      "        (1600027564, 3.0) :     0 :   0.0 :     1 : False : False : Binary\n",
      "        (1600027564, 3.5) :     0 :   1.0 :     1 : False : False : Binary\n",
      "        (3000006340, 2.5) :     0 :   0.0 :     1 : False : False : Binary\n",
      "        (3000006340, 3.0) :     0 :   0.0 :     1 : False : False : Binary\n",
      "        (3000006340, 3.5) :     0 :   1.0 :     1 : False : False : Binary\n",
      "        (3800031829, 2.5) :     0 :   1.0 :     1 : False : False : Binary\n",
      "        (3800031829, 3.0) :     0 :   0.0 :     1 : False : False : Binary\n",
      "        (3800031829, 3.5) :     0 :   0.0 :     1 : False : False : Binary\n",
      "\n",
      "  Objectives:\n",
      "    obj : Size=1, Index=None, Active=True\n",
      "        Key  : Active : Value\n",
      "        None :   True : 399.3\n",
      "\n",
      "  Constraints:\n",
      "    priceChoiceUPC : Size=4\n",
      "        Key : Lower : Body : Upper\n",
      "          1 :   1.0 :  1.0 :   1.0\n",
      "          2 :   1.0 :  1.0 :   1.0\n",
      "          3 :   1.0 :  1.0 :   1.0\n",
      "          4 :   1.0 :  1.0 :   1.0\n",
      "    sumPrice : Size=1\n",
      "        Key  : Lower : Body : Upper\n",
      "        None :  12.0 : 12.0 :  12.0\n"
     ]
    }
   ],
   "source": [
    "# Résolution du modèle\n",
    "pe.SolverFactory('glpk').solve(model)\n",
    "model.display()"
   ]
  },
  {
   "cell_type": "code",
   "execution_count": 11,
   "metadata": {},
   "outputs": [
    {
     "name": "stdout",
     "output_type": "stream",
     "text": [
      "1600027528 2.5\n",
      "1600027564 3.5\n",
      "3000006340 3.5\n",
      "3800031829 2.5\n"
     ]
    }
   ],
   "source": [
    "for i in productList:\n",
    "    for j in priceList:\n",
    "        if model.x[i,j].value == 1:\n",
    "            print(i, j)"
   ]
  },
  {
   "cell_type": "code",
   "execution_count": null,
   "metadata": {},
   "outputs": [],
   "source": []
  }
 ],
 "metadata": {
  "kernelspec": {
   "display_name": "py311",
   "language": "python",
   "name": "python3"
  },
  "language_info": {
   "codemirror_mode": {
    "name": "ipython",
    "version": 3
   },
   "file_extension": ".py",
   "mimetype": "text/x-python",
   "name": "python",
   "nbconvert_exporter": "python",
   "pygments_lexer": "ipython3",
   "version": "3.11.10"
  },
  "toc": {
   "base_numbering": 1,
   "nav_menu": {},
   "number_sections": true,
   "sideBar": true,
   "skip_h1_title": false,
   "title_cell": "Table of Contents",
   "title_sidebar": "Contents",
   "toc_cell": false,
   "toc_position": {},
   "toc_section_display": true,
   "toc_window_display": false
  }
 },
 "nbformat": 4,
 "nbformat_minor": 1
}
