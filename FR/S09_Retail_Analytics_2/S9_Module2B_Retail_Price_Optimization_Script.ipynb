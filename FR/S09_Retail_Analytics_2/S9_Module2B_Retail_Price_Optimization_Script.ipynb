{
  "nbformat": 4,
  "nbformat_minor": 0,
  "metadata": {
    "colab": {
      "name": "S9_Module2B_Retail_Price_Optimization_Script.ipynb",
      "provenance": [],
      "include_colab_link": true
    },
    "kernelspec": {
      "name": "python3",
      "display_name": "Python 3"
    }
  },
  "cells": [
    {
      "cell_type": "markdown",
      "metadata": {
        "id": "view-in-github",
        "colab_type": "text"
      },
      "source": [
        "<a href=\"https://colab.research.google.com/github/acedesci/scanalytics/blob/master/EN/S08_09_Retail_Analytics/S9_Module2B_Retail_Price_Optimization_Script.ipynb\" target=\"_parent\"><img src=\"https://colab.research.google.com/assets/colab-badge.svg\" alt=\"Open In Colab\"/></a>"
      ]
    },
    {
      "cell_type": "markdown",
      "metadata": {
        "id": "t2xpoCA56e-f"
      },
      "source": [
        "# Notebook for S9 Module 2B: Implicit (compact) model of Rue La La \n",
        "\n",
        "---\n",
        "*Created by Yossiri Adulyasak*\n",
        "\n",
        "---\n",
        "\n",
        "This notebook is the script version of the notebook S9_Module2A (explicit model). Unlike the explicit model in which we need to explicitly add each complete equation one by one, we can automate the model generation process by using a script version of it. For this one, we do not expect that you understand in detail how to generate the script but simply understand what each block does. Creating the script would require some experience. The main purpose of this is to provide an example of real-life mathematical programming workflow which automate the prescriptive analytics process.\n",
        "\n",
        "More particularly, we want to create an **implicit (or compact) model** of the following prescriptive pricing model of Rue La La.\n",
        "\n",
        "![alt text](https://github.com/acedesci/scanalytics/blob/master/EN/S08_09_Retail_Analytics/implicit_model.png?raw=true)\n",
        "\n",
        "The following blocks install Pyomo and solver. We also provide an option to use a more powerful solver *CBC* in addition to GLPK we used earlier. You can outcomment it if you want to switch to CBC."
      ]
    },
    {
      "cell_type": "code",
      "metadata": {
        "id": "zdvWKIywwi4_"
      },
      "source": [
        "# Install Pyomo and GLPK\n",
        "!pip install -q pyomo\n",
        "!apt-get install -y -qq glpk-utils #if GLPK is used\n",
        "# !apt-get install -y -qq coinor-cbc #if cbc is used"
      ],
      "execution_count": null,
      "outputs": []
    },
    {
      "cell_type": "markdown",
      "metadata": {
        "id": "9cS5YfcZHddR"
      },
      "source": [
        "# Block 1: Data input\n",
        "\n",
        "We prepared the data inputs in two files, i.e., \n",
        "\n",
        "\n",
        "1.   **'predictedSales_Prob1.csv'**. This is a small scale problem. It is identical to the problem you see in the Module 2A (explicit model).\n",
        "2.   **'predictedSales_Prob2.csv'**. This is a large-scale problem. This one contains a much higher number of variables and constraints to reflect real-life setting.\n",
        "\n",
        "Please mainly focus on the file *'predictedSales_Prob1.csv'* since you will get to see the same model as Module_1A. You can also try *'predictedSales_Prob2.csv'* if you are interested to see the large-scale model.\n",
        "\n",
        "In order to read the input, we take the file from the URL. This is the same file that you would obtain if you run the module 1B. If you want, you can change this block so that you can upload it from your PC or load it from Google Drive (see also Module 1B how these two options can be done).\n",
        "\n"
      ]
    },
    {
      "cell_type": "code",
      "metadata": {
        "id": "vxk0SKB7eM70"
      },
      "source": [
        "import pandas\n",
        "\n",
        "# Prob1 is the same problem as Module 2A\n",
        "predDemand = pandas.read_csv('https://raw.githubusercontent.com/acedesci/scanalytics/master/EN/S08_09_Retail_Analytics/predictedSales_Prob1.csv')\n",
        "\n",
        "# Prob2 is the large-scale problem\n",
        "# predDemand = pandas.read_csv('https://raw.githubusercontent.com/acedesci/scanalytics/master/EN/S08_09_Retail_Analytics/predictedSales_Prob2.csv')\n",
        "\n",
        "# Dataset is now stored in a Pandas Dataframe predDemand\n",
        "predDemand"
      ],
      "execution_count": null,
      "outputs": []
    },
    {
      "cell_type": "markdown",
      "metadata": {
        "id": "XXitxH0IAipU"
      },
      "source": [
        "With the new dataset, we first need to check how many average price values are there because we need to run the optimization model for each value of the average price."
      ]
    },
    {
      "cell_type": "code",
      "metadata": {
        "id": "scZFGWSlDi3L"
      },
      "source": [
        "avgPriceList = predDemand['avgPriceChoice'].unique()\n",
        "inputColumns = ['avgPriceChoice', 'UPC', 'PRICE','predictSales']\n",
        "print(\"Possible average price choices (k/N.Product):\"+str(avgPriceList))\n"
      ],
      "execution_count": null,
      "outputs": []
    },
    {
      "cell_type": "markdown",
      "metadata": {
        "id": "eoePE7clILkZ"
      },
      "source": [
        "# Block 2: Prepare input parameters for the model\n",
        "\n",
        "We can choose which value of $k$ we want to use in the optimization model from the *avgPriceChoice* we have in the dataset. In *'predictedSales_Prob1.csv'*, there is only one average price choice at $3.0 whereas in *'predictedSales_Prob2.csv'* there are 4 different price choices you can choose form. \n",
        "\n",
        "If you want to try different average price choices, we would need to repeat this procedure for each average price value and record the corresponding optimal solution to decide how each product should be priced and at which average price level to generate the optimal revenue.\n",
        "\n",
        "Note that in this demo, we use $p_{ij}$ instead of $p_{j}$ since it is easier to prepare the script but the model remains identical to the Module 2A because $p_{ij} = p_{j},i=1,...,n$."
      ]
    },
    {
      "cell_type": "code",
      "metadata": {
        "id": "gl0TFiFZ8usK"
      },
      "source": [
        "# Nere we choose which value of k (avgPriceValue x N. of products) we would like to use in the model \n",
        "# Note that k must be among the choices where the prediction has been prepared\n",
        "avgPriceValue =  avgPriceList[0] \n",
        "\n",
        "# Now we select only the row which corresponds to the previously chosen value of avgPriceValue (again k = avgPriceValue x N. of products)\n",
        "predDemand_k = predDemand.loc[predDemand['avgPriceChoice'] == avgPriceValue][inputColumns]\n",
        "print(predDemand_k)\n",
        "productList = predDemand_k['UPC'].unique()\n",
        "priceList = predDemand_k['PRICE'].unique()\n",
        "\n",
        "# Here we prepare the dictionary to be used in the optimization model\n",
        "p = {}\n",
        "D = {}\n",
        "\n",
        "for upc in productList:\n",
        "  for price in priceList:\n",
        "    p[(upc,price)] = price\n",
        "    D[(upc,price)] = predDemand_k.loc[(predDemand['UPC'] == upc) & (predDemand_k['PRICE'] == price)]['predictSales'].values[0]\n",
        "\n",
        "print(p)\n",
        "print(D)"
      ],
      "execution_count": null,
      "outputs": []
    },
    {
      "cell_type": "markdown",
      "metadata": {
        "id": "6HzvgED5Ltkk"
      },
      "source": [
        "# Block 3: Create an optimization model\n",
        "\n",
        "### Block 3.1: Variable declarations\n",
        "\n",
        "Unlike the first part of today's session, we index the decision variables and demand parameters by the product and the price themselves rather than their index. Indeed, we previously denoted $x_{ij}=1$ if the price option $j$ is chosen for product $i$, and 0 otherwise. Now, our variable is denoted by $x_{1600027528,\\ 3.0}=1$, which means that product UPC '1600027528' will be sold at 3.0 dollars. The same notational remark applies to predicted demand ($D_{ijk}$) for the sum of prices $k$ and price ($p_{ij}$) parameters. We can declare the constraint sets first (model.PriceChoiceUPC, model.sumPrice) and then **add** the constraint functions later."
      ]
    },
    {
      "cell_type": "code",
      "metadata": {
        "id": "AeKxRrnufnyo"
      },
      "source": [
        "from pyomo.environ import *\n",
        "\n",
        "iIndexList = list(range(len(productList)))\n",
        "jIndexList = list(range(len(priceList)))\n",
        "\n",
        "model = ConcreteModel()\n",
        "# Variables\n",
        "model.x = Var(productList, priceList, within = Binary)\n",
        "\n",
        "# Constraints\n",
        "model.PriceChoiceUPC = ConstraintList()\n",
        "model.sumPrice = ConstraintList()\n",
        "\n",
        "# Print to review the model (equations are still not included)\n",
        "model.pprint()"
      ],
      "execution_count": null,
      "outputs": []
    },
    {
      "cell_type": "markdown",
      "metadata": {
        "id": "0IdAKFZzPbOJ"
      },
      "source": [
        "### Block 3.2: Adding an objective function\n",
        "\n",
        "Instead of iteratively entering the value for each price and predicted sales, we can simply create a loop **for** each product and a loop **for** each price. The code now looks very much like the general equation $\\sum_{i} \\sum_{j} p_{ij} \\cdot D_{ijk} \\cdot x_{ij}$ we saw in the first part of today's session with some minor changes for notational simplification."
      ]
    },
    {
      "cell_type": "code",
      "metadata": {
        "id": "RY6Vi1TE5ztC"
      },
      "source": [
        "# Objective function\n",
        "\n",
        "obj_expr = sum(p[(i,j)]*D[(i,j)]*model.x[i,j] for i in productList for j in priceList) \n",
        "print(obj_expr)\n",
        "model.OBJ = Objective(expr = obj_expr, sense = maximize)"
      ],
      "execution_count": null,
      "outputs": []
    },
    {
      "cell_type": "markdown",
      "metadata": {
        "id": "y2TOnlIlQfNq"
      },
      "source": [
        "### Block 3.3: Adding constraints\n",
        "\n",
        "**Constraint 1: One price choice must be selected for each product**\n",
        "\n",
        "Similarly, we can create a loop to **add** constraint functions to the constraint set **for** each product to ensure that only one price on the list is selected for that product. Unlike the first part of today's session, we need not iteratively type each constraint."
      ]
    },
    {
      "cell_type": "code",
      "metadata": {
        "id": "_-J1E9CayDY-"
      },
      "source": [
        "# Constraints #1\n",
        "for i in productList:\n",
        "  const1_expr = sum(model.x[i,j] for j in priceList) == 1 \n",
        "  print(const1_expr)\n",
        "  model.PriceChoiceUPC.add(expr = const1_expr)\n"
      ],
      "execution_count": null,
      "outputs": []
    },
    {
      "cell_type": "markdown",
      "metadata": {
        "id": "gpCWig8MUBAZ"
      },
      "source": [
        "**Constraint 2: The sum of the prices of all products must equal $k$**\n",
        "\n",
        "Similar **for** loops apply to the average price constraint. Please refer to the first part of today's session for detailed elaboration."
      ]
    },
    {
      "cell_type": "code",
      "metadata": {
        "id": "prKy0fAE6hTd"
      },
      "source": [
        "# Constraints #2\n",
        "const2_expr = sum(p[i,j]*model.x[i,j] for i in productList for j in priceList) == avgPriceValue*len(productList) \n",
        "print(const2_expr)\n",
        "model.sumPrice.add(expr = const2_expr)\n",
        "\n"
      ],
      "execution_count": null,
      "outputs": []
    },
    {
      "cell_type": "markdown",
      "metadata": {
        "id": "s_rfW16pVt4d"
      },
      "source": [
        "We can print the model to review prior to solving it."
      ]
    },
    {
      "cell_type": "code",
      "metadata": {
        "id": "K_z-vhR_VtJ2"
      },
      "source": [
        "model.pprint()"
      ],
      "execution_count": null,
      "outputs": []
    },
    {
      "cell_type": "markdown",
      "metadata": {
        "id": "nUyWYe7wCj8q"
      },
      "source": [
        "# Block 4: Solution and results"
      ]
    },
    {
      "cell_type": "markdown",
      "metadata": {
        "id": "fB0r8jsxciFN"
      },
      "source": [
        "Finally, we call the solver and obtain the optimal solution. We can see that product '1600027528' is also sold at price $\\$2.5$, products '1600027564' and '3000006340' both  at price $\\$3.5$ and product '3800031829' at price $\\$2.5$, but the optimal objective value is now $\\$399.3$. The objective function value is slightly different from the Module_2A but the solution (values of $x$) is the same. This is due to the fact that we keep more digits in this example."
      ]
    },
    {
      "cell_type": "code",
      "metadata": {
        "id": "a0KA-DNX8RqA"
      },
      "source": [
        "# Solve the model\n",
        "opt = SolverFactory('glpk')\n",
        "opt.solve(model) \n",
        "\n",
        "model.display()"
      ],
      "execution_count": null,
      "outputs": []
    }
  ]
}