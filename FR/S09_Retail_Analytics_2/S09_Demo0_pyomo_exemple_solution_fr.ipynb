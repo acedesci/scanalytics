{
 "cells": [
  {
   "cell_type": "code",
   "execution_count": 1,
   "id": "a396243a",
   "metadata": {},
   "outputs": [],
   "source": [
    "import matplotlib.pyplot as plt\n",
    "import numpy as np\n",
    "\n",
    "import shutil\n",
    "import sys\n",
    "import os.path\n",
    "\n",
    "if not shutil.which(\"pyomo\"):\n",
    "    if \"google.colab\" in sys.modules:\n",
    "        !pip install -q pyomo\n",
    "    else:\n",
    "        !conda install -c conda-forge pyomo\n",
    "    assert(shutil.which(\"pyomo\"))\n",
    "    \n",
    "if not (shutil.which(\"glpsol\") or os.path.isfile(\"glpsol\")):\n",
    "    if \"google.colab\" in sys.modules:\n",
    "        !apt-get install -y -qq glpk-utils\n",
    "    else:\n",
    "        try:\n",
    "            !conda install -c conda-forge glpk\n",
    "        except:\n",
    "            pass\n",
    "    assert(shutil.which(\"glpsol\") or os.path.isfile(\"glpsol\"))\n",
    "\n",
    "import pyomo.environ as pe"
   ]
  },
  {
   "cell_type": "markdown",
   "id": "1d33531e",
   "metadata": {},
   "source": [
    "# Modèle du 2e exemple Pyomo:\n",
    "\n",
    "maximiser $40 x_1 + 30 x_2$ (profit)\n",
    "\n",
    "Sujet à $x_1 \\leq 40$ (demand)\n",
    "\n",
    "$x_1 + x_2 \\leq 80$ (laborA)\n",
    "\n",
    "$2x_1 + x_2 \\leq 100$ (laborB)\n",
    "\n",
    "$x_1, x_2 \\geq 0$"
   ]
  },
  {
   "cell_type": "markdown",
   "id": "faa70fdf",
   "metadata": {},
   "source": [
    "# Option 1"
   ]
  },
  {
   "cell_type": "code",
   "execution_count": 19,
   "id": "2b5339a8",
   "metadata": {},
   "outputs": [
    {
     "name": "stdout",
     "output_type": "stream",
     "text": [
      "# ==========================================================\n",
      "# = Solver Results                                         =\n",
      "# ==========================================================\n",
      "# ----------------------------------------------------------\n",
      "#   Problem Information\n",
      "# ----------------------------------------------------------\n",
      "Problem: \n",
      "- Name: unknown\n",
      "  Lower bound: 2600.0\n",
      "  Upper bound: 2600.0\n",
      "  Number of objectives: 1\n",
      "  Number of constraints: 3\n",
      "  Number of variables: 2\n",
      "  Number of nonzeros: 5\n",
      "  Sense: maximize\n",
      "# ----------------------------------------------------------\n",
      "#   Solver Information\n",
      "# ----------------------------------------------------------\n",
      "Solver: \n",
      "- Status: ok\n",
      "  Termination condition: optimal\n",
      "  Statistics: \n",
      "    Branch and bound: \n",
      "      Number of bounded subproblems: 0\n",
      "      Number of created subproblems: 0\n",
      "  Error rc: 0\n",
      "  Time: 0.04946017265319824\n",
      "# ----------------------------------------------------------\n",
      "#   Solution Information\n",
      "# ----------------------------------------------------------\n",
      "Solution: \n",
      "- number of solutions: 0\n",
      "  number of solutions displayed: 0\n"
     ]
    }
   ],
   "source": [
    "model = pe.ConcreteModel()\n",
    "\n",
    "# variables\n",
    "model.x1 = pe.Var(domain=pe.NonNegativeReals)  # ou within=\n",
    "model.x2 = pe.Var(domain=pe.NonNegativeReals)\n",
    "\n",
    "# objectif\n",
    "model.profit = pe.Objective(sense=pe.maximize,\n",
    "                            expr=40 * model.x1 + 30 * model.x2)\n",
    "\n",
    "# contraintes\n",
    "model.demand = pe.Constraint(expr=model.x1 <= 40)\n",
    "model.laborA = pe.Constraint(expr=model.x1 + model.x2 <= 80)\n",
    "model.laborB = pe.Constraint(expr=2 * model.x1 + model.x2 <= 100)\n",
    "\n",
    "# résolution\n",
    "pe.SolverFactory('glpk').solve(model).write()"
   ]
  },
  {
   "cell_type": "code",
   "execution_count": 20,
   "id": "e3bcf829",
   "metadata": {},
   "outputs": [
    {
     "name": "stdout",
     "output_type": "stream",
     "text": [
      "2 Var Declarations\n",
      "    x1 : Size=1, Index=None\n",
      "        Key  : Lower : Value : Upper : Fixed : Stale : Domain\n",
      "        None :     0 :  20.0 :  None : False : False : NonNegativeReals\n",
      "    x2 : Size=1, Index=None\n",
      "        Key  : Lower : Value : Upper : Fixed : Stale : Domain\n",
      "        None :     0 :  60.0 :  None : False : False : NonNegativeReals\n",
      "\n",
      "1 Objective Declarations\n",
      "    profit : Size=1, Index=None, Active=True\n",
      "        Key  : Active : Sense    : Expression\n",
      "        None :   True : maximize : 40*x1 + 30*x2\n",
      "\n",
      "3 Constraint Declarations\n",
      "    demand : Size=1, Index=None, Active=True\n",
      "        Key  : Lower : Body : Upper : Active\n",
      "        None :  -Inf :   x1 :  40.0 :   True\n",
      "    laborA : Size=1, Index=None, Active=True\n",
      "        Key  : Lower : Body    : Upper : Active\n",
      "        None :  -Inf : x1 + x2 :  80.0 :   True\n",
      "    laborB : Size=1, Index=None, Active=True\n",
      "        Key  : Lower : Body      : Upper : Active\n",
      "        None :  -Inf : 2*x1 + x2 : 100.0 :   True\n",
      "\n",
      "6 Declarations: x1 x2 profit demand laborA laborB\n"
     ]
    }
   ],
   "source": [
    "model.pprint()"
   ]
  },
  {
   "cell_type": "code",
   "execution_count": 21,
   "id": "5f22a844",
   "metadata": {},
   "outputs": [
    {
     "name": "stdout",
     "output_type": "stream",
     "text": [
      "Model unknown\n",
      "\n",
      "  Variables:\n",
      "    x1 : Size=1, Index=None\n",
      "        Key  : Lower : Value : Upper : Fixed : Stale : Domain\n",
      "        None :     0 :  20.0 :  None : False : False : NonNegativeReals\n",
      "    x2 : Size=1, Index=None\n",
      "        Key  : Lower : Value : Upper : Fixed : Stale : Domain\n",
      "        None :     0 :  60.0 :  None : False : False : NonNegativeReals\n",
      "\n",
      "  Objectives:\n",
      "    profit : Size=1, Index=None, Active=True\n",
      "        Key  : Active : Value\n",
      "        None :   True : 2600.0\n",
      "\n",
      "  Constraints:\n",
      "    demand : Size=1\n",
      "        Key  : Lower : Body : Upper\n",
      "        None :  None : 20.0 :  40.0\n",
      "    laborA : Size=1\n",
      "        Key  : Lower : Body : Upper\n",
      "        None :  None : 80.0 :  80.0\n",
      "    laborB : Size=1\n",
      "        Key  : Lower : Body  : Upper\n",
      "        None :  None : 100.0 : 100.0\n"
     ]
    }
   ],
   "source": [
    "model.display()"
   ]
  },
  {
   "cell_type": "code",
   "execution_count": 23,
   "id": "f4981a08",
   "metadata": {},
   "outputs": [
    {
     "data": {
      "text/plain": [
       "20.0"
      ]
     },
     "execution_count": 23,
     "metadata": {},
     "output_type": "execute_result"
    }
   ],
   "source": [
    "model.x1()"
   ]
  },
  {
   "cell_type": "code",
   "execution_count": 7,
   "id": "9ddee28d",
   "metadata": {},
   "outputs": [
    {
     "data": {
      "text/plain": [
       "20.0"
      ]
     },
     "execution_count": 7,
     "metadata": {},
     "output_type": "execute_result"
    }
   ],
   "source": [
    "model.x1.value  # idem pour x2"
   ]
  },
  {
   "cell_type": "code",
   "execution_count": 8,
   "id": "6431143b",
   "metadata": {},
   "outputs": [
    {
     "data": {
      "text/plain": [
       "20.0"
      ]
     },
     "execution_count": 8,
     "metadata": {},
     "output_type": "execute_result"
    }
   ],
   "source": [
    "pe.value(model.x1)"
   ]
  },
  {
   "cell_type": "code",
   "execution_count": 24,
   "id": "1ac9b8bf",
   "metadata": {},
   "outputs": [
    {
     "data": {
      "text/plain": [
       "2600.0"
      ]
     },
     "execution_count": 24,
     "metadata": {},
     "output_type": "execute_result"
    }
   ],
   "source": [
    "model.profit()"
   ]
  },
  {
   "cell_type": "code",
   "execution_count": 10,
   "id": "ed7cbf34",
   "metadata": {},
   "outputs": [
    {
     "data": {
      "text/plain": [
       "2600.0"
      ]
     },
     "execution_count": 10,
     "metadata": {},
     "output_type": "execute_result"
    }
   ],
   "source": [
    "pe.value(model.profit)"
   ]
  },
  {
   "cell_type": "markdown",
   "id": "ef33b6c7",
   "metadata": {},
   "source": [
    "# Option 2\n",
    "$x$ avec liste"
   ]
  },
  {
   "cell_type": "code",
   "execution_count": 26,
   "id": "95cbe3ae",
   "metadata": {},
   "outputs": [
    {
     "name": "stdout",
     "output_type": "stream",
     "text": [
      "# ==========================================================\n",
      "# = Solver Results                                         =\n",
      "# ==========================================================\n",
      "# ----------------------------------------------------------\n",
      "#   Problem Information\n",
      "# ----------------------------------------------------------\n",
      "Problem: \n",
      "- Name: unknown\n",
      "  Lower bound: 2600.0\n",
      "  Upper bound: 2600.0\n",
      "  Number of objectives: 1\n",
      "  Number of constraints: 3\n",
      "  Number of variables: 2\n",
      "  Number of nonzeros: 5\n",
      "  Sense: maximize\n",
      "# ----------------------------------------------------------\n",
      "#   Solver Information\n",
      "# ----------------------------------------------------------\n",
      "Solver: \n",
      "- Status: ok\n",
      "  Termination condition: optimal\n",
      "  Statistics: \n",
      "    Branch and bound: \n",
      "      Number of bounded subproblems: 0\n",
      "      Number of created subproblems: 0\n",
      "  Error rc: 0\n",
      "  Time: 0.07397270202636719\n",
      "# ----------------------------------------------------------\n",
      "#   Solution Information\n",
      "# ----------------------------------------------------------\n",
      "Solution: \n",
      "- number of solutions: 0\n",
      "  number of solutions displayed: 0\n"
     ]
    }
   ],
   "source": [
    "model = pe.ConcreteModel()\n",
    "\n",
    "# paramètres\n",
    "productList = [1, 2]\n",
    "\n",
    "# variables\n",
    "model.x = pe.Var(productList, domain=pe.NonNegativeReals)  # ou within=\n",
    "\n",
    "# objectif\n",
    "model.profit = pe.Objective(sense=pe.maximize,\n",
    "                            expr=40 * model.x[1] + 30 * model.x[2])\n",
    "\n",
    "# contraintes\n",
    "model.demand = pe.Constraint(expr=model.x[1] <= 40)\n",
    "model.laborA = pe.Constraint(expr=model.x[1] + model.x[2] <= 80)\n",
    "model.laborB = pe.Constraint(expr=2 * model.x[1] + model.x[2] <= 100)\n",
    "\n",
    "# résolution\n",
    "pe.SolverFactory('glpk').solve(model).write()"
   ]
  },
  {
   "cell_type": "code",
   "execution_count": 27,
   "id": "648cfe19",
   "metadata": {},
   "outputs": [
    {
     "name": "stdout",
     "output_type": "stream",
     "text": [
      "1 Var Declarations\n",
      "    x : Size=2, Index={1, 2}\n",
      "        Key : Lower : Value : Upper : Fixed : Stale : Domain\n",
      "          1 :     0 :  20.0 :  None : False : False : NonNegativeReals\n",
      "          2 :     0 :  60.0 :  None : False : False : NonNegativeReals\n",
      "\n",
      "1 Objective Declarations\n",
      "    profit : Size=1, Index=None, Active=True\n",
      "        Key  : Active : Sense    : Expression\n",
      "        None :   True : maximize : 40*x[1] + 30*x[2]\n",
      "\n",
      "3 Constraint Declarations\n",
      "    demand : Size=1, Index=None, Active=True\n",
      "        Key  : Lower : Body : Upper : Active\n",
      "        None :  -Inf : x[1] :  40.0 :   True\n",
      "    laborA : Size=1, Index=None, Active=True\n",
      "        Key  : Lower : Body        : Upper : Active\n",
      "        None :  -Inf : x[1] + x[2] :  80.0 :   True\n",
      "    laborB : Size=1, Index=None, Active=True\n",
      "        Key  : Lower : Body          : Upper : Active\n",
      "        None :  -Inf : 2*x[1] + x[2] : 100.0 :   True\n",
      "\n",
      "5 Declarations: x profit demand laborA laborB\n"
     ]
    }
   ],
   "source": [
    "model.pprint()"
   ]
  },
  {
   "cell_type": "code",
   "execution_count": 31,
   "id": "944f2836",
   "metadata": {},
   "outputs": [
    {
     "data": {
      "text/plain": [
       "20.0"
      ]
     },
     "execution_count": 31,
     "metadata": {},
     "output_type": "execute_result"
    }
   ],
   "source": [
    "model.x[1]()"
   ]
  },
  {
   "cell_type": "code",
   "execution_count": 32,
   "id": "6cbe15a4",
   "metadata": {},
   "outputs": [
    {
     "data": {
      "text/plain": [
       "20.0"
      ]
     },
     "execution_count": 32,
     "metadata": {},
     "output_type": "execute_result"
    }
   ],
   "source": [
    "model.x[1].value"
   ]
  },
  {
   "cell_type": "code",
   "execution_count": 33,
   "id": "a7548082",
   "metadata": {},
   "outputs": [
    {
     "data": {
      "text/plain": [
       "20.0"
      ]
     },
     "execution_count": 33,
     "metadata": {},
     "output_type": "execute_result"
    }
   ],
   "source": [
    "pe.value(model.x[1])"
   ]
  },
  {
   "cell_type": "markdown",
   "id": "3a4eca73",
   "metadata": {},
   "source": [
    "# Option 3\n",
    "objectif et contraintes avec dictionnaires"
   ]
  },
  {
   "cell_type": "code",
   "execution_count": 13,
   "id": "b0d95cff",
   "metadata": {},
   "outputs": [
    {
     "name": "stdout",
     "output_type": "stream",
     "text": [
      "# ==========================================================\n",
      "# = Solver Results                                         =\n",
      "# ==========================================================\n",
      "# ----------------------------------------------------------\n",
      "#   Problem Information\n",
      "# ----------------------------------------------------------\n",
      "Problem: \n",
      "- Name: unknown\n",
      "  Lower bound: 2600.0\n",
      "  Upper bound: 2600.0\n",
      "  Number of objectives: 1\n",
      "  Number of constraints: 3\n",
      "  Number of variables: 2\n",
      "  Number of nonzeros: 5\n",
      "  Sense: maximize\n",
      "# ----------------------------------------------------------\n",
      "#   Solver Information\n",
      "# ----------------------------------------------------------\n",
      "Solver: \n",
      "- Status: ok\n",
      "  Termination condition: optimal\n",
      "  Statistics: \n",
      "    Branch and bound: \n",
      "      Number of bounded subproblems: 0\n",
      "      Number of created subproblems: 0\n",
      "  Error rc: 0\n",
      "  Time: 0.09003710746765137\n",
      "# ----------------------------------------------------------\n",
      "#   Solution Information\n",
      "# ----------------------------------------------------------\n",
      "Solution: \n",
      "- number of solutions: 0\n",
      "  number of solutions displayed: 0\n"
     ]
    }
   ],
   "source": [
    "model = pe.ConcreteModel()\n",
    "\n",
    "# paramètres\n",
    "productList = [1, 2]\n",
    "\n",
    "profit = {1: 40, \n",
    "          2: 30}\n",
    "\n",
    "demand = {1: 40}\n",
    "\n",
    "labor_total = [80, 100]\n",
    "labor = {1: [1, 2],\n",
    "         2: [1, 1]}\n",
    "\n",
    "\n",
    "# variables\n",
    "model.x = pe.Var(productList, domain=pe.NonNegativeReals)  # ou within=\n",
    "\n",
    "# objectif\n",
    "model.profit = pe.Objective(sense=pe.maximize,\n",
    "                            expr=sum(profit[i] * model.x[i] for i in productList))\n",
    "\n",
    "# contraintes\n",
    "model.demand = pe.ConstraintList()\n",
    "for i in demand:\n",
    "    model.demand.add(expr=model.x[i] <= demand[i])\n",
    "\n",
    "model.labor = pe.ConstraintList()\n",
    "for j in range(len(labor_total)):\n",
    "    model.labor.add(expr=sum(labor[i][j] * model.x[i] for i in productList) <= labor_total[j])\n",
    "\n",
    "# résolution\n",
    "pe.SolverFactory('glpk').solve(model).write()"
   ]
  },
  {
   "cell_type": "code",
   "execution_count": 14,
   "id": "595cec00",
   "metadata": {},
   "outputs": [
    {
     "name": "stdout",
     "output_type": "stream",
     "text": [
      "1 Var Declarations\n",
      "    x : Size=2, Index={1, 2}\n",
      "        Key : Lower : Value : Upper : Fixed : Stale : Domain\n",
      "          1 :     0 :  20.0 :  None : False : False : NonNegativeReals\n",
      "          2 :     0 :  60.0 :  None : False : False : NonNegativeReals\n",
      "\n",
      "1 Objective Declarations\n",
      "    profit : Size=1, Index=None, Active=True\n",
      "        Key  : Active : Sense    : Expression\n",
      "        None :   True : maximize : 40*x[1] + 30*x[2]\n",
      "\n",
      "2 Constraint Declarations\n",
      "    demand : Size=1, Index={1}, Active=True\n",
      "        Key : Lower : Body : Upper : Active\n",
      "          1 :  -Inf : x[1] :  40.0 :   True\n",
      "    labor : Size=2, Index={1, 2}, Active=True\n",
      "        Key : Lower : Body          : Upper : Active\n",
      "          1 :  -Inf :   x[1] + x[2] :  80.0 :   True\n",
      "          2 :  -Inf : 2*x[1] + x[2] : 100.0 :   True\n",
      "\n",
      "4 Declarations: x profit demand labor\n"
     ]
    }
   ],
   "source": [
    "model.pprint()"
   ]
  },
  {
   "cell_type": "markdown",
   "id": "d00eb347",
   "metadata": {},
   "source": [
    "# Option 4\n",
    "utilisation de *rule*"
   ]
  },
  {
   "cell_type": "code",
   "execution_count": 38,
   "id": "76e783b1",
   "metadata": {},
   "outputs": [
    {
     "name": "stdout",
     "output_type": "stream",
     "text": [
      "# ==========================================================\n",
      "# = Solver Results                                         =\n",
      "# ==========================================================\n",
      "# ----------------------------------------------------------\n",
      "#   Problem Information\n",
      "# ----------------------------------------------------------\n",
      "Problem: \n",
      "- Name: unknown\n",
      "  Lower bound: 2600.0\n",
      "  Upper bound: 2600.0\n",
      "  Number of objectives: 1\n",
      "  Number of constraints: 3\n",
      "  Number of variables: 2\n",
      "  Number of nonzeros: 5\n",
      "  Sense: maximize\n",
      "# ----------------------------------------------------------\n",
      "#   Solver Information\n",
      "# ----------------------------------------------------------\n",
      "Solver: \n",
      "- Status: ok\n",
      "  Termination condition: optimal\n",
      "  Statistics: \n",
      "    Branch and bound: \n",
      "      Number of bounded subproblems: 0\n",
      "      Number of created subproblems: 0\n",
      "  Error rc: 0\n",
      "  Time: 0.036725759506225586\n",
      "# ----------------------------------------------------------\n",
      "#   Solution Information\n",
      "# ----------------------------------------------------------\n",
      "Solution: \n",
      "- number of solutions: 0\n",
      "  number of solutions displayed: 0\n"
     ]
    }
   ],
   "source": [
    "model = pe.ConcreteModel()\n",
    "\n",
    "# paramètres\n",
    "productList = [1, 2]\n",
    "\n",
    "profit = {1: 40, \n",
    "          2: 30}\n",
    "\n",
    "demand = {1: 40}\n",
    "\n",
    "labor_total = [80, 100]\n",
    "labor = {1: [1, 2],\n",
    "         2: [1, 1]}\n",
    "\n",
    "\n",
    "# variables\n",
    "model.x = pe.Var(productList, domain=pe.NonNegativeReals)  # ou within=\n",
    "\n",
    "# objectif\n",
    "model.profit = pe.Objective(sense=pe.maximize,\n",
    "                            expr=sum(profit[i] * model.x[i] for i in productList))\n",
    "\n",
    "# contraintes\n",
    "model.demand = pe.ConstraintList()\n",
    "for i in demand:\n",
    "    model.demand.add(expr=model.x[i] <= demand[i])\n",
    "\n",
    "def labor_rule(m, j):\n",
    "    return sum(labor[i][j] * m.x[i] for i in productList) <= labor_total[j]\n",
    "model.labor = pe.Constraint([0, 1], rule=labor_rule)    \n",
    "# model.labor = pe.ConstraintList()\n",
    "# for j in range(len(labor_total)):\n",
    "#     model.labor.add(expr=sum(labor[i][j] * model.x[i] for i in productList) <= labor_total[j])\n",
    "\n",
    "# résolution\n",
    "pe.SolverFactory('glpk').solve(model).write()"
   ]
  },
  {
   "cell_type": "code",
   "execution_count": 16,
   "id": "f72a3e06",
   "metadata": {},
   "outputs": [
    {
     "name": "stdout",
     "output_type": "stream",
     "text": [
      "1 Var Declarations\n",
      "    x : Size=2, Index={1, 2}\n",
      "        Key : Lower : Value : Upper : Fixed : Stale : Domain\n",
      "          1 :     0 :  20.0 :  None : False : False : NonNegativeReals\n",
      "          2 :     0 :  60.0 :  None : False : False : NonNegativeReals\n",
      "\n",
      "1 Objective Declarations\n",
      "    profit : Size=1, Index=None, Active=True\n",
      "        Key  : Active : Sense    : Expression\n",
      "        None :   True : maximize : 40*x[1] + 30*x[2]\n",
      "\n",
      "2 Constraint Declarations\n",
      "    demand : Size=1, Index={1}, Active=True\n",
      "        Key : Lower : Body : Upper : Active\n",
      "          1 :  -Inf : x[1] :  40.0 :   True\n",
      "    labor : Size=2, Index={0, 1}, Active=True\n",
      "        Key : Lower : Body          : Upper : Active\n",
      "          0 :  -Inf :   x[1] + x[2] :  80.0 :   True\n",
      "          1 :  -Inf : 2*x[1] + x[2] : 100.0 :   True\n",
      "\n",
      "4 Declarations: x profit demand labor\n"
     ]
    }
   ],
   "source": [
    "model.pprint()"
   ]
  },
  {
   "cell_type": "code",
   "execution_count": null,
   "id": "01c0ed09",
   "metadata": {},
   "outputs": [],
   "source": []
  }
 ],
 "metadata": {
  "kernelspec": {
   "display_name": "py311",
   "language": "python",
   "name": "python3"
  },
  "language_info": {
   "codemirror_mode": {
    "name": "ipython",
    "version": 3
   },
   "file_extension": ".py",
   "mimetype": "text/x-python",
   "name": "python",
   "nbconvert_exporter": "python",
   "pygments_lexer": "ipython3",
   "version": "3.11.5"
  },
  "toc": {
   "base_numbering": 1,
   "nav_menu": {},
   "number_sections": true,
   "sideBar": true,
   "skip_h1_title": false,
   "title_cell": "Table of Contents",
   "title_sidebar": "Contents",
   "toc_cell": false,
   "toc_position": {},
   "toc_section_display": true,
   "toc_window_display": false
  }
 },
 "nbformat": 4,
 "nbformat_minor": 5
}
