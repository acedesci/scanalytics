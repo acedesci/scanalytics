{
 "cells": [
  {
   "cell_type": "code",
   "execution_count": null,
   "id": "a396243a",
   "metadata": {},
   "outputs": [],
   "source": [
    "import matplotlib.pyplot as plt\n",
    "import numpy as np\n",
    "\n",
    "import shutil\n",
    "import sys\n",
    "import os.path\n",
    "\n",
    "if not shutil.which(\"pyomo\"):\n",
    "    if \"google.colab\" in sys.modules:\n",
    "        !pip install -q pyomo\n",
    "    else:\n",
    "        !conda install -c conda-forge pyomo\n",
    "    assert(shutil.which(\"pyomo\"))\n",
    "    \n",
    "if not (shutil.which(\"glpsol\") or os.path.isfile(\"glpsol\")):\n",
    "    if \"google.colab\" in sys.modules:\n",
    "        !apt-get install -y -qq glpk-utils\n",
    "    else:\n",
    "        try:\n",
    "            !conda install -c conda-forge glpk \n",
    "        except:\n",
    "            pass\n",
    "    assert(shutil.which(\"glpsol\") or os.path.isfile(\"glpsol\"))\n",
    "\n",
    "import pyomo.environ as pe"
   ]
  },
  {
   "cell_type": "markdown",
   "id": "1d33531e",
   "metadata": {},
   "source": [
    "# Modèle du 2e exemple Pyomo:\n",
    "\n",
    "maximiser $40 x_1 + 30 x_2$ (profit)\n",
    "\n",
    "Sujet à $x_1 \\leq 40$ (demand)\n",
    "\n",
    "$x_1 + x_2 \\leq 80$ (laborA)\n",
    "\n",
    "$2x_1 + x_2 \\leq 100$ (laborB)\n",
    "\n",
    "$x_1, x_2 \\geq 0$"
   ]
  },
  {
   "cell_type": "markdown",
   "id": "faa70fdf",
   "metadata": {},
   "source": [
    "# Option 1"
   ]
  },
  {
   "cell_type": "code",
   "execution_count": null,
   "id": "2b5339a8",
   "metadata": {},
   "outputs": [],
   "source": [
    "model = pe.ConcreteModel()\n",
    "\n",
    "# variables\n",
    "model.x1 = pe.Var(domain=pe.NonNegativeReals)  # ou within=\n",
    "model.x2 = pe.Var(domain=pe.NonNegativeReals)\n",
    "\n",
    "# objectif\n",
    "model.profit = pe.Objective(sense=pe.maximize,\n",
    "                            expr=40 * model.x1 + 30 * model.x2)\n",
    "\n",
    "# contraintes\n",
    "model.demand = pe.Constraint(expr=model.x1 <= 40)\n",
    "model.laborA = pe.Constraint(expr=model.x1 + model.x2 <= 80)\n",
    "model.laborB = pe.Constraint(expr=2 * model.x1 + model.x2 <= 100)\n",
    "\n",
    "# résolution\n",
    "pe.SolverFactory('glpk').solve(model).write()"
   ]
  },
  {
   "cell_type": "code",
   "execution_count": null,
   "id": "e3bcf829",
   "metadata": {},
   "outputs": [],
   "source": [
    "model.pprint()"
   ]
  },
  {
   "cell_type": "code",
   "execution_count": null,
   "id": "5f22a844",
   "metadata": {},
   "outputs": [],
   "source": [
    "model.display()"
   ]
  },
  {
   "cell_type": "code",
   "execution_count": null,
   "id": "9ddee28d",
   "metadata": {},
   "outputs": [],
   "source": [
    "model.x1.value  # idem pour x2"
   ]
  },
  {
   "cell_type": "code",
   "execution_count": null,
   "id": "6431143b",
   "metadata": {},
   "outputs": [],
   "source": [
    "pe.value(model.x1)"
   ]
  },
  {
   "cell_type": "code",
   "execution_count": null,
   "id": "41794724",
   "metadata": {},
   "outputs": [],
   "source": [
    "model.profit.value"
   ]
  },
  {
   "cell_type": "code",
   "execution_count": null,
   "id": "ed7cbf34",
   "metadata": {},
   "outputs": [],
   "source": [
    "pe.value(model.profit)"
   ]
  },
  {
   "cell_type": "markdown",
   "id": "ef33b6c7",
   "metadata": {},
   "source": [
    "# Option 2\n",
    "$x$ avec liste"
   ]
  },
  {
   "cell_type": "code",
   "execution_count": null,
   "id": "95cbe3ae",
   "metadata": {},
   "outputs": [],
   "source": [
    "model = pe.ConcreteModel()\n",
    "\n",
    "# paramètres\n",
    "productList = [1, 2]\n",
    "\n",
    "# variables\n",
    "model.x = pe.Var(productList, domain=pe.NonNegativeReals)  # ou within=\n",
    "\n",
    "# objectif\n",
    "model.profit = pe.Objective(sense=pe.maximize,\n",
    "                            expr=40 * model.x[1] + 30 * model.x[2])\n",
    "\n",
    "# contraintes\n",
    "model.demand = pe.Constraint(expr=model.x[1] <= 40)\n",
    "model.laborA = pe.Constraint(expr=model.x[1] + model.x[2] <= 80)\n",
    "model.laborB = pe.Constraint(expr=2 * model.x[1] + model.x[2] <= 100)\n",
    "\n",
    "# résolution\n",
    "pe.SolverFactory('glpk').solve(model).write()"
   ]
  },
  {
   "cell_type": "code",
   "execution_count": null,
   "id": "648cfe19",
   "metadata": {},
   "outputs": [],
   "source": [
    "model.pprint()"
   ]
  },
  {
   "cell_type": "markdown",
   "id": "3a4eca73",
   "metadata": {},
   "source": [
    "# Option 3\n",
    "objectif et contraintes avec dictionnaires"
   ]
  },
  {
   "cell_type": "code",
   "execution_count": null,
   "id": "b0d95cff",
   "metadata": {},
   "outputs": [],
   "source": [
    "model = pe.ConcreteModel()\n",
    "\n",
    "# paramètres\n",
    "productList = [1, 2]\n",
    "\n",
    "profit = {1: 40, \n",
    "          2: 30}\n",
    "\n",
    "demand = {1: 40}\n",
    "\n",
    "labor_total = [80, 100]\n",
    "labor = {1: [1, 2],\n",
    "         2: [1, 1]}\n",
    "\n",
    "\n",
    "# variables\n",
    "model.x = pe.Var(productList, domain=pe.NonNegativeReals)  # ou within=\n",
    "\n",
    "# objectif\n",
    "model.profit = pe.Objective(sense=pe.maximize,\n",
    "                            expr=sum(profit[i] * model.x[i] for i in productList))\n",
    "\n",
    "# contraintes\n",
    "model.demand = pe.ConstraintList()\n",
    "for i in demand:\n",
    "    model.demand.add(expr=model.x[i] <= demand[i])\n",
    "\n",
    "model.labor = pe.ConstraintList()\n",
    "for j in range(len(labor_total)):\n",
    "    model.labor.add(expr=sum(labor[i][j] * model.x[i] for i in productList) <= labor_total[j])\n",
    "\n",
    "# résolution\n",
    "pe.SolverFactory('glpk').solve(model).write()"
   ]
  },
  {
   "cell_type": "code",
   "execution_count": null,
   "id": "595cec00",
   "metadata": {},
   "outputs": [],
   "source": [
    "model.pprint()"
   ]
  },
  {
   "cell_type": "markdown",
   "id": "d00eb347",
   "metadata": {},
   "source": [
    "# Option 4\n",
    "utilisation de *rule*"
   ]
  },
  {
   "cell_type": "code",
   "execution_count": null,
   "id": "76e783b1",
   "metadata": {},
   "outputs": [],
   "source": [
    "model = pe.ConcreteModel()\n",
    "\n",
    "# paramètres\n",
    "productList = [1, 2]\n",
    "\n",
    "profit = {1: 40, \n",
    "          2: 30}\n",
    "\n",
    "demand = {1: 40}\n",
    "\n",
    "labor_total = [80, 100]\n",
    "labor = {1: [1, 2],\n",
    "         2: [1, 1]}\n",
    "\n",
    "\n",
    "# variables\n",
    "model.x = pe.Var(productList, domain=pe.NonNegativeReals)  # ou within=\n",
    "\n",
    "# objectif\n",
    "model.profit = pe.Objective(sense=pe.maximize,\n",
    "                            expr=sum(profit[i] * model.x[i] for i in productList))\n",
    "\n",
    "# contraintes\n",
    "model.demand = pe.ConstraintList()\n",
    "for i in demand:\n",
    "    model.demand.add(expr=model.x[i] <= demand[i])\n",
    "\n",
    "def labor_rule(m, j):\n",
    "    return sum(labor[i][j] * m.x[i] for i in productList) <= labor_total[j]\n",
    "model.labor = pe.Constraint([0, 1], rule=labor_rule)    \n",
    "# model.labor = pe.ConstraintList()\n",
    "# for j in range(len(labor_total)):\n",
    "#     model.labor.add(expr=sum(labor[i][j] * model.x[i] for i in productList) <= labor_total[j])\n",
    "\n",
    "# résolution\n",
    "pe.SolverFactory('glpk').solve(model).write()"
   ]
  },
  {
   "cell_type": "code",
   "execution_count": null,
   "id": "f72a3e06",
   "metadata": {},
   "outputs": [],
   "source": [
    "model.pprint()"
   ]
  },
  {
   "cell_type": "code",
   "execution_count": null,
   "id": "01c0ed09",
   "metadata": {},
   "outputs": [],
   "source": []
  }
 ],
 "metadata": {
  "kernelspec": {
   "display_name": "Python 3 (ipykernel)",
   "language": "python",
   "name": "python3"
  },
  "language_info": {
   "codemirror_mode": {
    "name": "ipython",
    "version": 3
   },
   "file_extension": ".py",
   "mimetype": "text/x-python",
   "name": "python",
   "nbconvert_exporter": "python",
   "pygments_lexer": "ipython3",
   "version": "3.8.8"
  },
  "toc": {
   "base_numbering": 1,
   "nav_menu": {},
   "number_sections": true,
   "sideBar": true,
   "skip_h1_title": false,
   "title_cell": "Table of Contents",
   "title_sidebar": "Contents",
   "toc_cell": false,
   "toc_position": {},
   "toc_section_display": true,
   "toc_window_display": false
  }
 },
 "nbformat": 4,
 "nbformat_minor": 5
}
