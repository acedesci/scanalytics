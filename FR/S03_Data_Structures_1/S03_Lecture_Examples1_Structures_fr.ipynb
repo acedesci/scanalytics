{
  "cells": [
    {
      "cell_type": "markdown",
      "metadata": {
        "id": "0JBJMPk1jzTm"
      },
      "source": [
        "# S03 - Structures de données Python I\n",
        "\n",
        "Sujets de programmation abordés dans cette section :\n",
        "- Strings\n",
        "- Listes/Tuples\n",
        "- Dictionnaires"
      ]
    },
    {
      "cell_type": "markdown",
      "metadata": {
        "id": "V-SIg01DjzTs"
      },
      "source": [
        "## String\n",
        "Un string est une séquence immuable de caractères. Il existe un grand nombre de méthodes pour les manipuler. Vous pouvez consulter [cette page](https://www.w3schools.com/python/python_strings.asp) et [cette page](https://www.w3schools.com/python/python_strings.asp) pour plus d'informations.\n",
        "\n",
        "Chaque élément d'un string (et d'autres séquences) est accessible avec un index entre crochets. Tous les index en Python commencent à 0.\n",
        "\n",
        "**Fonctions utiles pour un string (et d’autres séquences) :**\n",
        "- `len()` : récupère la longueur d'un chaîne (c'est-à-dire le nombre de caractères)\n",
        "- mot-clé `in` : vérifier si une certaine phrase ou un certain caractère est présent dans un string\n",
        "- mot-clé `not in` : vérifie si une certaine phrase ou un certain caractère n'est PAS présent dans un string\n",
        "\n",
        "**Méthodes de string utiles :**\n",
        "- `.capitalize()` : renvoie une copie du string avec son premier caractère en majuscule et le reste en minuscules\n",
        "- `.lower()` : renvoie un string où tous les caractères sont en minuscules\n",
        "- `.upper()` : renvoie un string où tous les caractères sont en majuscules\n",
        "- `.split(sep)` : renvoie une liste des mots du string, en utilisant `sep` comme déliminateur\n",
        "\n",
        "**Opérations sur les string :**\n",
        "- `+` : effectue la concaténation de strings\n",
        "- `*`: effectue la répétition de strings"
      ]
    },
    {
      "cell_type": "markdown",
      "metadata": {
        "id": "hHL-CnUUjzTs"
      },
      "source": [
        "### Exemple 1.1 : Utilisation de méthodes et de fonctions de string courantes\n",
        "Utilisation de méthodes, de fonctions et d’opérations de string courantes."
      ]
    },
    {
      "cell_type": "code",
      "execution_count": 1,
      "metadata": {
        "id": "acJTuaDyjzTt",
        "scrolled": true
      },
      "outputs": [
        {
          "name": "stdout",
          "output_type": "stream",
          "text": [
            "Structure type <class 'str'>\n",
            "Number of characters:  10\n",
            "First letter/character:  A\n",
            "Last letter/character:  B\n",
            "Last 3 characters (string slices):  -AB\n",
            "First 3 characters (string slices):  Alb\n",
            "Upper case the string:  ALBERTA-AB\n",
            "Lower case the string:  alberta-ab\n",
            "Is 'A' in the string?: True\n",
            "Is not 'A' in the string?: False\n"
          ]
        }
      ],
      "source": [
        "# définir une variable de type string\n",
        "province = \"Alberta-AB\"\n",
        "print('Structure type', type(province))\n",
        "\n",
        "# Utilisation de certaines fonctions courantes\n",
        "print('Number of characters: ', len(province))\n",
        "print('First letter/character: ', province[0])   # vous pouvez accéder au n-ième caractère de manière similaire (par exemple, province[n])\n",
        "print('Last letter/character: ', province[-1])   \n",
        "print('Last 3 characters (string slices): ', province[-3:])\n",
        "print('First 3 characters (string slices): ', province[:3])\n",
        "print('Upper case the string: ', province.upper())\n",
        "print('Lower case the string: ', province.lower())\n",
        "print(\"Is 'A' in the string?:\",\"A\" in province)\n",
        "print(\"Is not 'A' in the string?:\",\"A\" not in province)"
      ]
    },
    {
      "cell_type": "code",
      "execution_count": 2,
      "metadata": {
        "id": "ZZMUFnigjzTu"
      },
      "outputs": [
        {
          "name": "stdout",
          "output_type": "stream",
          "text": [
            "Splitting the string considering the separator '-' (it returns a list of strings):  ['Alberta', 'AB']\n",
            "The province's name (first element):  Alberta\n",
            "Abbreviation of the province's name (second element):  AB\n"
          ]
        }
      ],
      "source": [
        "# Utilisation de la méthode split\n",
        "province_split = province.split('-')\n",
        "print(\"Splitting the string considering the separator '-' (it returns a list of strings): \", province_split)\n",
        "print(\"The province's name (first element): \", province_split[0])\n",
        "print(\"Abbreviation of the province's name (second element): \", province_split[1])"
      ]
    },
    {
      "cell_type": "markdown",
      "metadata": {
        "id": "troO4HU0jzTv"
      },
      "source": [
        "### Exemple 1.2 : Extraction d'informations à partir de la référence du produit\n",
        "Définissez une fonction qui renvoie les informations suivantes en utilisant le code de référence d'un produit.\n",
        "\n",
        "- La référence du produit (numéro)\n",
        "- Le jour, le mois et l'année où le produit a été fabriqué\n",
        "- La référence fournisseur (numéro)\n",
        "- Le nom complet de la province d'où le produit a été livré. Le code de référence utilise la convention suivante :\n",
        "* QC : Québec\n",
        "* ON : Ontario\n",
        "* BC : Colombie-Britannique\n",
        "* SK : Saskatchewan\n",
        "* MB : Manitoba\n",
        "* AB : Alberta\n",
        "\n",
        "Le format de la référence du produit est le suivant :\n",
        "\n",
        "<div>\n",
        "<img src=\"https://raw.githubusercontent.com/acedesci/scanalytics/master/FR/S03_Data_Structures_1/_static/ProductRef.png\" width=\"500\">\n",
        "</div>"
      ]
    },
    {
      "cell_type": "code",
      "execution_count": 3,
      "metadata": {
        "id": "Iz-SfD3OjzTv"
      },
      "outputs": [
        {
          "name": "stdout",
          "output_type": "stream",
          "text": [
            "Production year of the product with reference number  ON41-12012012-56  :  2012\n"
          ]
        }
      ],
      "source": [
        "# définir une fonction qui fournit des informations sur les produits en fonction de sa référence\n",
        "def product_info(reference):\n",
        "    \"\"\"\n",
        "    Return information based on the product's reference\n",
        "    Parameters:\n",
        "        reference: (string) list of characters for the product\n",
        "    Return:\n",
        "        prod_ref: (number) product's reference\n",
        "        day: (number) production day\n",
        "        month: (number) production month\n",
        "        year: (number) production year\n",
        "        sup_province: (string) name of the province from which the product was delivered\n",
        "        sup_ref: (number) supplier's reference     \n",
        "        \n",
        "    \"\"\"\n",
        "    prod_ref = int(reference.split('-')[-1])  # dernier élément (converti en int) après séparer le string d'entrée avec le séparateur '-' \n",
        "    date = reference.split('-')[1]  # deuxième élément après séparer le string d'entrée avec le séparateur '-' \n",
        "    supply_info = reference.split('-')[0]  # premier élément après séparer le string d'entrée avec le séparateur '-' \n",
        "    \n",
        "    return  prod_ref, int(date[:2]), int(date[2:4]), int(date[4:]), supply_info[:2], int(supply_info[2:])\n",
        "\n",
        "# Déterminer l'année de production du produit en fonction de sa référence\n",
        "prod_ref = 'ON41-12012012-56'\n",
        "print('Production year of the product with reference number ', prod_ref,' : ', product_info(prod_ref)[3])"
      ]
    },
    {
      "cell_type": "markdown",
      "metadata": {
        "id": "Wk_nwv5yjzTv"
      },
      "source": [
        "## Listes\n",
        "Comme un string, une **liste** est une séquence de valeurs. Dans un string, les valeurs sont des caractères ; dans une liste, elles peuvent être de n'importe quel type. Les valeurs d'une liste sont appelées **éléments** ou parfois **items**.\n",
        "\n",
        "Il existe plusieurs façons de créer une nouvelle liste ; la plus simple consiste à placer les éléments entre crochets (`[` et `]`) :\n",
        "- `[10, 20, 30, 40]`\n",
        "- `['Québec', 'Ontario', 'Alberta']`\n",
        "\n",
        "Les listes peuvent contenir des strings, des nombres flottants et d'autres listes. Une liste dans une autre liste est **imbriquée** (*nested*). Une liste sans éléments est une liste **vide**, qui est créée avec des crochets vides `[]`.\n",
        "- `nested = [[5, 10], [12, 21], [10, 20]]`\n",
        "- `empty = []`\n",
        "\n",
        "Pour plus d'informations, consultez [cette page](https://www.w3schools.com/python/python_lists.asp).\n",
        "\n",
        "Exemple de code :"
      ]
    },
    {
      "cell_type": "code",
      "execution_count": 4,
      "metadata": {
        "id": "F4DsRTJiSOoK"
      },
      "outputs": [
        {
          "name": "stdout",
          "output_type": "stream",
          "text": [
            "8\n",
            "12.5\n",
            "12.4\n"
          ]
        }
      ],
      "source": [
        "prices = [12.5, 12.4, 12.0, 13.0, 12.6, 13.5, 12.8, 11.7]\n",
        "\n",
        "# la fonction `len(x)` donne le nombre d'éléments dans la liste\n",
        "print(len(prices))\n",
        "\n",
        "# Manipulation des listes\n",
        "# notez que l'index de la liste commence toujours à zéro, puis 1, 2, 3,...\n",
        "print(prices[0])\n",
        "print(prices[1])"
      ]
    },
    {
      "cell_type": "code",
      "execution_count": 5,
      "metadata": {
        "id": "uUVVN3_cUKXh"
      },
      "outputs": [
        {
          "name": "stdout",
          "output_type": "stream",
          "text": [
            "11.7\n",
            "12.8\n"
          ]
        }
      ],
      "source": [
        "# si vous souhaitez obtenir le numéro du dernier index, vous pouvez également utiliser -1. L'avant-dernier est -2, -3 et ainsi de suite\n",
        "print(prices[-1])\n",
        "print(prices[-2])"
      ]
    },
    {
      "cell_type": "code",
      "execution_count": 6,
      "metadata": {
        "id": "i4tRSzxlUL3q"
      },
      "outputs": [
        {
          "name": "stdout",
          "output_type": "stream",
          "text": [
            "[12.0, 13.0, 12.6]\n",
            "[12.0, 13.0, 12.6, 13.5, 12.8]\n"
          ]
        }
      ],
      "source": [
        "# si vous écrivez sales[a:b] où a et b sont respectivement les index de début et de fin,\n",
        "# cela donnera la \"tranche\" de la liste de a à b-1\n",
        "print(prices[2:5])\n",
        "print(prices[2:-1])"
      ]
    },
    {
      "cell_type": "code",
      "execution_count": 7,
      "metadata": {
        "id": "u8QinsuU2Nfv"
      },
      "outputs": [
        {
          "name": "stdout",
          "output_type": "stream",
          "text": [
            "['Quebec', 'Ontario', 'Alberta', 'British Columbia']\n",
            "['Quebec', 'Ontario', 'Alberta']\n",
            "['Quebec', 'Ontario', 'Alberta', 'Prince Edward Island', 'Saskatchewan']\n"
          ]
        }
      ],
      "source": [
        "# vous pouvez ajouter un élément à la liste\n",
        "province = ['Quebec', 'Ontario', 'Alberta']\n",
        "province.append('British Columbia')\n",
        "print(province)\n",
        "\n",
        "# ou supprimer un élément de la liste\n",
        "province.remove('British Columbia')\n",
        "print(province)\n",
        "\n",
        "# ou combiner la liste\n",
        "province_2 = ['Prince Edward Island','Saskatchewan']\n",
        "print(province + province_2)"
      ]
    },
    {
      "cell_type": "markdown",
      "metadata": {
        "id": "t95VDj8F5-1M"
      },
      "source": [
        "Les listes Python offrent l'utilisation de la compréhension de liste qui peut être utilisée conjointement avec les instructions `for` et conditionnelles (voir [ce lien](https://www.w3schools.com/python/python_lists_comprehension.asp) pour plus de détails)"
      ]
    },
    {
      "cell_type": "code",
      "execution_count": 8,
      "metadata": {
        "id": "aXUs5j9p5-Op"
      },
      "outputs": [
        {
          "name": "stdout",
          "output_type": "stream",
          "text": [
            "[150.0, 480.0, 300.0, 1200.0]\n"
          ]
        }
      ],
      "source": [
        "product_price = [1.5, 2.4, 2.0, 3.0]\n",
        "product_demand = [100, 200, 150, 400]\n",
        "\n",
        "n_elements = len(product_price) # obtenir la longueur de la liste\n",
        "revenue = [product_price[i] * product_demand[i] for i in range(n_elements)] # revenu total pour chaque produit\n",
        "print(revenue)"
      ]
    },
    {
      "cell_type": "code",
      "execution_count": 9,
      "metadata": {
        "id": "S5V_jNQV73Jf"
      },
      "outputs": [
        {
          "name": "stdout",
          "output_type": "stream",
          "text": [
            "[480.0, 1200.0]\n"
          ]
        }
      ],
      "source": [
        "# calculer le revenu uniquement pour le produit dont le prix est supérieur à 2 $\n",
        "# revenu total pour chaque produit pour un prix > 2\n",
        "revenue_p2 = [product_price[i] * product_demand[i] for i in range(n_elements) if product_price[i] > 2] \n",
        "print(revenue_p2)"
      ]
    },
    {
      "cell_type": "code",
      "execution_count": 10,
      "metadata": {
        "id": "-m5ZdEW48Sph"
      },
      "outputs": [
        {
          "name": "stdout",
          "output_type": "stream",
          "text": [
            "[480.0, 1200.0]\n"
          ]
        }
      ],
      "source": [
        "# ce qui revient au même que d'utiliser les instructions for et if comme suit\n",
        "revenue_p2_loop = []\n",
        "for i in range(n_elements):\n",
        "    if product_price[i] > 2:\n",
        "        revenue_p2_loop.append(product_price[i] * product_demand[i])\n",
        "\n",
        "print(revenue_p2_loop)"
      ]
    },
    {
      "cell_type": "markdown",
      "metadata": {
        "id": "CDATsnH62tG5"
      },
      "source": [
        "## Tuples\n",
        "Un tuple est une séquence de valeurs. Les valeurs peuvent être de n'importe quel type, comme une liste. Les tuples sont immuables ou inchangeables. Comme les tuples sont immuables, leurs valeurs ne peuvent pas être modifiées (contrairement aux listes). Vous pouvez consulter [cette page](https://www.w3schools.com/python/python_tuples.asp) pour plus d'informations.\n",
        "\n",
        "Syntactiquement, un tuple est une liste de valeurs séparées par des virgules. Les tuples sont placés entre parenthèses :\n",
        "`t = ('a', 'b', 'c', 'd', 'e')`\n",
        "\n",
        "*REMARQUE :* vous pouvez considérer un tuple comme une liste qui ne peut pas être modifiée. Ainsi, l'utilisation d'un tuple est utile lorsqu'aucune manipulation n'est autorisée.\n",
        "\n",
        "Pour créer un tuple avec un seul élément, vous devez inclure une virgule finale :"
      ]
    },
    {
      "cell_type": "code",
      "execution_count": 11,
      "metadata": {},
      "outputs": [
        {
          "data": {
            "text/plain": [
              "tuple"
            ]
          },
          "execution_count": 11,
          "metadata": {},
          "output_type": "execute_result"
        }
      ],
      "source": [
        "t1 = 'a',\n",
        "type(t1)"
      ]
    },
    {
      "cell_type": "markdown",
      "metadata": {},
      "source": [
        "ou"
      ]
    },
    {
      "cell_type": "code",
      "execution_count": 12,
      "metadata": {},
      "outputs": [
        {
          "data": {
            "text/plain": [
              "tuple"
            ]
          },
          "execution_count": 12,
          "metadata": {},
          "output_type": "execute_result"
        }
      ],
      "source": [
        "t2 = ('a',)\n",
        "type(t2)"
      ]
    },
    {
      "cell_type": "markdown",
      "metadata": {},
      "source": [
        "Une valeur entre parenthèses n'est pas un tuple :"
      ]
    },
    {
      "cell_type": "code",
      "execution_count": 13,
      "metadata": {},
      "outputs": [
        {
          "data": {
            "text/plain": [
              "str"
            ]
          },
          "execution_count": 13,
          "metadata": {},
          "output_type": "execute_result"
        }
      ],
      "source": [
        "t3 = ('a')\n",
        "type(t3)"
      ]
    },
    {
      "cell_type": "markdown",
      "metadata": {},
      "source": [
        "Voici d'autres exemples:"
      ]
    },
    {
      "cell_type": "code",
      "execution_count": 14,
      "metadata": {
        "id": "MzZyU3KN3zaN"
      },
      "outputs": [
        {
          "name": "stdout",
          "output_type": "stream",
          "text": [
            "<class 'tuple'>\n"
          ]
        },
        {
          "ename": "AttributeError",
          "evalue": "'tuple' object has no attribute 'append'",
          "output_type": "error",
          "traceback": [
            "\u001b[1;31m---------------------------------------------------------------------------\u001b[0m",
            "\u001b[1;31mAttributeError\u001b[0m                            Traceback (most recent call last)",
            "Cell \u001b[1;32mIn[14], line 6\u001b[0m\n\u001b[0;32m      2\u001b[0m \u001b[38;5;28mprint\u001b[39m(\u001b[38;5;28mtype\u001b[39m(province_tuple))\n\u001b[0;32m      4\u001b[0m \u001b[38;5;66;03m# nous ne pouvons apporter aucune modification au tuple\u001b[39;00m\n\u001b[0;32m      5\u001b[0m \u001b[38;5;66;03m# l'erreur soulevée est NORMALE\u001b[39;00m\n\u001b[1;32m----> 6\u001b[0m province_tuple\u001b[38;5;241m.\u001b[39mappend(\u001b[38;5;124m'\u001b[39m\u001b[38;5;124mBritish Columbia\u001b[39m\u001b[38;5;124m'\u001b[39m)\n",
            "\u001b[1;31mAttributeError\u001b[0m: 'tuple' object has no attribute 'append'"
          ]
        }
      ],
      "source": [
        "province_tuple = ('Quebec', 'Ontario', 'Alberta')\n",
        "print(type(province_tuple))\n",
        "\n",
        "# nous ne pouvons apporter aucune modification au tuple\n",
        "# l'erreur soulevée est NORMALE\n",
        "province_tuple.append('British Columbia')"
      ]
    },
    {
      "cell_type": "code",
      "execution_count": 15,
      "metadata": {
        "id": "p5uws1B74bE0"
      },
      "outputs": [
        {
          "name": "stdout",
          "output_type": "stream",
          "text": [
            "['Quebec', 'Ontario', 'Alberta']\n",
            "['Quebec', 'Ontario', 'Alberta', 'British Columbia']\n"
          ]
        }
      ],
      "source": [
        "# mais nous pouvons le copier dans la liste et apporter des modifications à la liste à la place\n",
        "province_list = list(province_tuple)\n",
        "print(province_list)\n",
        "province_list.append('British Columbia')\n",
        "print(province_list)"
      ]
    },
    {
      "cell_type": "markdown",
      "metadata": {
        "id": "CHkST7Y-jzTz"
      },
      "source": [
        "## Dictionnaires\n",
        "Un **dictionnaire** est comme une liste, mais plus général. Dans une liste, les indices doivent être des entiers ; dans un dictionnaire, ils peuvent être (presque) de n'importe quel type.\n",
        "\n",
        "Un dictionnaire contient une collection d'indices, appelés **clés**, et une collection de valeurs. Chaque clé est associée à une valeur unique. L'association d'une clé et d'une valeur est appelée **paire clé-valeur** ou parfois **items/éléments**.\n",
        "\n",
        "En langage mathématique, un dictionnaire représente un **mapping** entre des clés et des valeurs, ce qui permet également de dire que chaque clé « correspond » à une valeur. Pour plus d'informations, voir [cette page](https://www.w3schools.com/python/python_dictionaries.asp).\n",
        "\n",
        "### Exemple : tarifs d'expédition\n",
        "Un détaillant en ligne détermine ses tarifs d’expédition (en $) en fonction de l’emplacement du client comme suit.\n",
        "\n",
        "|Alberta (AB)| British Columbia (BC) | Manitoba (MB)| New Brunswick (NB) | Newfoundland and Labrador (NL) | Nova Scotia (NS) | Ontario  (ON)  | Prince Edward Island (PE)|  Quebec (QC) |Saskatchewan (SK)| Yokon (YT)|\n",
        "| :- | :- | :- | :- | :- | :- | :- | :- | :- | :- | :- |\n",
        "|10 | 15 | 12.5 | NA | 30.5 | 25 | 8 | NA | 8 | 16 | 18.5 |\n",
        "\n",
        "Nous souhaitons définir une fonction qui renvoie le tarif d'expédition à facturer à un client en fonction de sa province. Tout d'abord, nous créons un dictionnaire pour enregistrer les informations sur les tarifs d'expédition adoptés par le détaillant."
      ]
    },
    {
      "cell_type": "code",
      "execution_count": 16,
      "metadata": {
        "id": "5BWqG2w3jzTz"
      },
      "outputs": [
        {
          "name": "stdout",
          "output_type": "stream",
          "text": [
            "{'AB': 10, 'BC': 15, 'MB': 12.5, 'NL': 30.5, 'NS': 25, 'ON': 8, 'QC': 8, 'SK': 16, 'YT': 18.5}\n"
          ]
        }
      ],
      "source": [
        "# Format du dictionnaire : {'province_abv': taux d'expédition}\n",
        "# clés : abréviation de la province\n",
        "# valeurs : float - tarif d'expédition le cas échéant\n",
        "\n",
        "ship_rates = {'AB':  10,\n",
        "             'BC':  15,\n",
        "             'MB': 12.5,\n",
        "             'NL': 30.5,\n",
        "             'NS': 25,\n",
        "             'ON':  8,\n",
        "             'QC':  8,\n",
        "             'SK':  16,\n",
        "             'YT':  18.5} \n",
        "# Veuillez noter que le Nouveau-Brunswick et l'Île-du-Prince-Édouard ne sont pas inclus dans le dictionnaire, car l'expédition n'est pas disponible vers ces provinces.\n",
        "print(ship_rates)"
      ]
    },
    {
      "cell_type": "code",
      "execution_count": 17,
      "metadata": {
        "id": "ibQJkqoxjzT0"
      },
      "outputs": [
        {
          "name": "stdout",
          "output_type": "stream",
          "text": [
            "The shipment rate for a customer in QC  is:  8\n"
          ]
        },
        {
          "ename": "KeyError",
          "evalue": "'PE'",
          "output_type": "error",
          "traceback": [
            "\u001b[1;31m---------------------------------------------------------------------------\u001b[0m",
            "\u001b[1;31mKeyError\u001b[0m                                  Traceback (most recent call last)",
            "Cell \u001b[1;32mIn[17], line 4\u001b[0m\n\u001b[0;32m      2\u001b[0m \u001b[38;5;28mprint\u001b[39m(\u001b[38;5;124m\"\u001b[39m\u001b[38;5;124mThe shipment rate for a customer in\u001b[39m\u001b[38;5;124m\"\u001b[39m, cust_loc,\u001b[38;5;124m\"\u001b[39m\u001b[38;5;124m is: \u001b[39m\u001b[38;5;124m\"\u001b[39m, ship_rates[cust_loc])  \u001b[38;5;66;03m# disponible\u001b[39;00m\n\u001b[0;32m      3\u001b[0m cust_loc \u001b[38;5;241m=\u001b[39m \u001b[38;5;124m'\u001b[39m\u001b[38;5;124mPE\u001b[39m\u001b[38;5;124m'\u001b[39m\n\u001b[1;32m----> 4\u001b[0m \u001b[38;5;28mprint\u001b[39m(\u001b[38;5;124m\"\u001b[39m\u001b[38;5;124mThe shipment rate for a customer in\u001b[39m\u001b[38;5;124m\"\u001b[39m, cust_loc,\u001b[38;5;124m\"\u001b[39m\u001b[38;5;124m is: \u001b[39m\u001b[38;5;124m\"\u001b[39m, ship_rates[cust_loc])\n",
            "\u001b[1;31mKeyError\u001b[0m: 'PE'"
          ]
        }
      ],
      "source": [
        "cust_loc = 'QC'\n",
        "print(\"The shipment rate for a customer in\", cust_loc,\" is: \", ship_rates[cust_loc])  # disponible\n",
        "cust_loc = 'PE'\n",
        "print(\"The shipment rate for a customer in\", cust_loc,\" is: \", ship_rates[cust_loc])  # pas disponible"
      ]
    },
    {
      "cell_type": "markdown",
      "metadata": {
        "id": "VH74fv_dxqxW"
      },
      "source": [
        "On peut également accéder au dictionnaire pour connaître le tarif d'expédition étant donné le nom abrégé de la province du client. Dans le cas où aucun envoi n'est disponible, nous pouvons créer un message indiquant l'exception. La méthode `.get()` pourrait être utile dans ce cas (consultez [cette page](https://www.w3schools.com/python/ref_dictionary_get.asp) pour plus d'informations)."
      ]
    },
    {
      "cell_type": "code",
      "execution_count": 18,
      "metadata": {
        "id": "_aRY-BarxvZp"
      },
      "outputs": [
        {
          "name": "stdout",
          "output_type": "stream",
          "text": [
            "The shipment rate for a customer in QC  is:  8\n",
            "The shipment rate for a customer in PE  is:  None\n"
          ]
        }
      ],
      "source": [
        "cust_loc = 'QC'\n",
        "print(\"The shipment rate for a customer in\", cust_loc,\" is: \", ship_rates.get(cust_loc))  # disponible\n",
        "cust_loc = 'PE'\n",
        "print(\"The shipment rate for a customer in\", cust_loc,\" is: \", ship_rates.get(cust_loc))  # pas disponible"
      ]
    }
  ],
  "metadata": {
    "kernelspec": {
      "display_name": "Python 3 (ipykernel)",
      "language": "python",
      "name": "python3"
    },
    "language_info": {
      "codemirror_mode": {
        "name": "ipython",
        "version": 3
      },
      "file_extension": ".py",
      "mimetype": "text/x-python",
      "name": "python",
      "nbconvert_exporter": "python",
      "pygments_lexer": "ipython3",
      "version": "3.11.5"
    },
    "toc": {
      "base_numbering": 1,
      "nav_menu": {},
      "number_sections": true,
      "sideBar": true,
      "skip_h1_title": false,
      "title_cell": "Table of Contents",
      "title_sidebar": "Contents",
      "toc_cell": false,
      "toc_position": {},
      "toc_section_display": true,
      "toc_window_display": true
    }
  },
  "nbformat": 4,
  "nbformat_minor": 1
}
