{
 "cells": [
  {
   "cell_type": "markdown",
   "metadata": {},
   "source": [
    "# Exercices séance 3\n",
    "\n",
    "Chaque exercice vous permet de pratiquer une nouvelle compétence appliquée à la gestion des opérations ou à la logistique (lorsque possible). Pour chaque exercice, vous avez deux types de cellules différentes: une cellule de réponse et une cellule de validation (située juste en dessous de la cellule de réponse).\n",
    "\n",
    "##### Cellule de réponse\n",
    "Afin de compléter les exercices, vous devez remplacer chaque segment `# écrivez votre code ici` par un morceau de code composé d'une seule ou de plusieurs lignes. Vous devez exécuter la cellule contenant votre code pour vérifier si votre réponse est exacte.\n",
    "\n",
    "Si votre réponse est incorrecte, vous verrez des indications sur les paramètres que vous avez testés ainsi que sur le résultat qui est attendu dans la sortie (sous la cellule) afin que vous puissiez comprendre et corriger votre erreur.\n",
    "\n",
    "\n",
    "##### Cellule de validation\n",
    "Vous pouvez obtenir des indices (*hint*) en convertissant le commentaire en ligne de code exécutable (c'est-à-dire en supprimant le `#`). Vous pouvez aussi regarder la solution officielle de la même manière.\n",
    "Gardez à l'esprit qu'il n'y a pas une seule et unique solution en programmation.\n",
    "\n",
    "\n",
    "**Veuillez ne pas changer le nom des fonctions ou des paramètres ni changez le code des lignes check/hint/solution (à l'exception d'ajouter ou retirer le `#` au début) car cela pourrait invalider le processus de vérification.**"
   ]
  },
  {
   "cell_type": "markdown",
   "metadata": {},
   "source": [
    "# Configuration\n",
    "Tout d'abord, exécutez la cellule suivante pour importer et configurer les librairies Python dont vous aurez besoin pour faire les exercices. Si le code s'exécute avec succès, vous verrez `Configuration terminée` dans la sortie sous la cellule."
   ]
  },
  {
   "cell_type": "code",
   "execution_count": null,
   "metadata": {},
   "outputs": [],
   "source": [
    "from Atelier_Python_03_tools import *\n",
    "print('Configuration terminée')"
   ]
  },
  {
   "cell_type": "markdown",
   "metadata": {},
   "source": [
    "# Instruction `while`"
   ]
  },
  {
   "cell_type": "markdown",
   "metadata": {},
   "source": [
    "Les boucles ou itérations sont des moyens élégants de faire répéter des lignes de code. Dans cette section, nous utiliserons l'instruction `while` afin de répéter une partie de code tant et aussi longtemps que la condition énoncée est satisfaite.\n",
    "\n",
    "Notez que les deux types de boucles (`for` et `while`) sont équivalents et il est possible d'utiliser l'une ou l'autre des instructions pour accomplir la même tâche. Cependant, selon la structure utilisée, l'une peut être plus facilement utilisable que l'autre. Vous pouvez regarder [cette page](https://www.w3schools.com/python/python_while_loops.asp) pour plus d'informations.\n",
    "\n",
    "Pour chaque exercice, résolvez la question demandée. Chaque fonction doit maintenant être implémentée avec une boucle `while`."
   ]
  },
  {
   "cell_type": "markdown",
   "metadata": {},
   "source": [
    "## Ex 1:\n",
    "En utilisant une prévision initiale de demande, un facteur de lissage (compris entre 0 et 1) et en supossant une demande constante, utilisez la méthode du lissage exponentiel simple et calculez la demande prévue après plusieurs périodes.\n",
    "\n",
    "(*Note: il ne s'agit pas d'un problème pertinent du point de vue de pratique, mais il sert de mise en contexte afin de pratiquer les boucles `while`.*)"
   ]
  },
  {
   "cell_type": "code",
   "execution_count": null,
   "metadata": {},
   "outputs": [],
   "source": [
    "def forecast(initial_forecast, demand, alpha, nb_period):\n",
    "    \"\"\"\n",
    "    Calcule la demande prévue en utilisant la méthode du lissage exponentiel simple\n",
    "    Paramètres:\n",
    "        initial_forecast: nombre, prévision initiale de la demande\n",
    "        demand: nombre, demande\n",
    "        alpha: nombre entre 0 and 1, paramètre de lissage\n",
    "        nb_period: entier, nombre de périodes dans le futur pour la prévision\n",
    "    Renvoie:\n",
    "        Nombre, demande prévue\n",
    "    \"\"\"\n",
    "    # écrivez votre code ici\n",
    " \n",
    "WhileStatements_Q1.check(forecast)"
   ]
  },
  {
   "cell_type": "code",
   "execution_count": null,
   "metadata": {},
   "outputs": [],
   "source": [
    "#WhileStatements_Q1.hint()\n",
    "#WhileStatements_Q1.solution()"
   ]
  },
  {
   "cell_type": "markdown",
   "metadata": {},
   "source": [
    "## Ex 2:\n",
    "Considérant un montant de départ de 10$, le taux d'intérêt de votre compte de banque et votre salaire (qui est ajouté après les intérêts à chaque début de période), calculez combien d'argent vous avez après *n* périodes de temps."
   ]
  },
  {
   "cell_type": "code",
   "execution_count": null,
   "metadata": {},
   "outputs": [],
   "source": [
    "def bank_account(interest, salary, n):\n",
    "    \"\"\"\n",
    "    Calcule combien d'argent vous avez après n périodes de temps\n",
    "    Paramètres:\n",
    "        interest: nombre entre 0 et 1, taux d'intérêt\n",
    "        salary: nombre, salaire\n",
    "        n: entier, durée\n",
    "    Renvoie:\n",
    "        Nombre, argent dans le compte de banque\n",
    "    \"\"\"\n",
    "    # écrivez votre code ici\n",
    "\n",
    "WhileStatements_Q2.check(bank_account)"
   ]
  },
  {
   "cell_type": "code",
   "execution_count": null,
   "metadata": {},
   "outputs": [],
   "source": [
    "#WhileStatements_Q2.hint()\n",
    "#WhileStatements_Q2.solution()"
   ]
  },
  {
   "cell_type": "markdown",
   "metadata": {},
   "source": [
    "# Chaîne de caractères"
   ]
  },
  {
   "cell_type": "markdown",
   "metadata": {},
   "source": [
    "Une chaîne de caractères est une séquence immuable de caractères. Il existe un grand nombre de fonctions/méthodes permettant de les manipuler. Vous pouvez regarder [cette page](https://www.w3schools.com/python/python_strings.asp) pour plus d'informations.\n",
    "\n",
    "Pour chaque exercice, écrivez la fonction permettant de résoudre la question demandée et renvoyez le résultat."
   ]
  },
  {
   "cell_type": "markdown",
   "metadata": {},
   "source": [
    "## Ex 1:\n",
    "Sur un bordereau de livraison, il y a souvent un code de 10 chiffres/lettres où les 2 lettres de la fin indiquent la provenance. Ces 2 lettres peuvent être:\n",
    "* QC: Québec\n",
    "* ON: Ontario\n",
    "* BC: Colombie-Britannique\n",
    "* SK: Saskatchewan\n",
    "* MB: Manitoba\n",
    "* YT: Yukon\n",
    "\n",
    "En utilisant un code de bordereau de livraison, indiquez de quelle province l'article a été expédié.\n",
    "\n",
    "*(Note: il se peut que ce code contienne des lettres minuscules et majuscules.)*"
   ]
  },
  {
   "cell_type": "code",
   "execution_count": null,
   "metadata": {},
   "outputs": [],
   "source": [
    "def origin_shipment(expedition_code):\n",
    "    \"\"\"\n",
    "    Indique la province d'origine de la livraison\n",
    "    Paramètres:\n",
    "        expedition_code: chaîne de caractères, code du bordereau de livraison\n",
    "    Renvoie:\n",
    "        Chaîne de caractères, origine de la livraison\n",
    "    \"\"\"\n",
    "    # écrivez votre code ici\n",
    "\n",
    "Strings_Q1.check(origin_shipment) "
   ]
  },
  {
   "cell_type": "code",
   "execution_count": null,
   "metadata": {},
   "outputs": [],
   "source": [
    "#Strings_Q1.hint()\n",
    "#Strings_Q1.solution()"
   ]
  },
  {
   "cell_type": "markdown",
   "metadata": {},
   "source": [
    "## Ex 2:\n",
    "La référence d'un produit est une série de 10 chiffres/lettres où les 4 premiers chiffres indiquent l'année de commercialisation du produit dans le format YYYY (p.ex., 2020). Les produits commercialisés avant 2004 sont jugés invendables. En utilisant la référence du produit, indiquez si le produit peut être vendu."
   ]
  },
  {
   "cell_type": "code",
   "execution_count": null,
   "metadata": {},
   "outputs": [],
   "source": [
    "def year_product(reference_product):\n",
    "    \"\"\"\n",
    "    Indique si le produit est jugé valide en fonction de son année de commercialisation\n",
    "    Paramètres:\n",
    "        reference_product: chaîne de caractères, référence du produit\n",
    "    Renvoie:\n",
    "        Booléen, vrai si le produit est valide à la vente\n",
    "    \"\"\"\n",
    "    # écrivez votre code ici\n",
    "    \n",
    "Strings_Q2.check(year_product) "
   ]
  },
  {
   "cell_type": "code",
   "execution_count": null,
   "metadata": {},
   "outputs": [],
   "source": [
    "#Strings_Q2.hint()\n",
    "#Strings_Q2.solution()"
   ]
  },
  {
   "cell_type": "markdown",
   "metadata": {},
   "source": [
    "## Ex 3:\n",
    "Le code de livraison produit est une série de chiffres/lettres, composé de la date de production, de la référence du produit et du code du lieu de livraison, séparés par des tirets `'-'`. En utilisant la date de production, la référence du produit et le lieu de livraison, créez le code de livraison d'un produit.\n",
    "\n",
    "(*Note: la date dans le code de livraison doit être au format 'YYMMDD' (p.ex., 200910 pour 10 septembre 2020) et le code de lieu doit être composé de 2 caractères en majuscule.*)"
   ]
  },
  {
   "cell_type": "code",
   "execution_count": null,
   "metadata": {},
   "outputs": [],
   "source": [
    "def create_code(production_date, reference_product, shipment_location):\n",
    "    \"\"\"\n",
    "    Crée le code de livraison du produit\n",
    "    Paramètres:\n",
    "        production_date: chaîne de caractères, date de production au format 'DDMMYYYY'\n",
    "        reference_product: chaîne de caractères, référence du produit\n",
    "        shipment_location: chaîne de caractères, code du lieu de livraison\n",
    "    Renvoie:\n",
    "        Chaîne de caractères, le code de livraison du produit\n",
    "    \"\"\"\n",
    "    # écrivez votre code ici\n",
    "   \n",
    "Strings_Q3.check(create_code) "
   ]
  },
  {
   "cell_type": "code",
   "execution_count": null,
   "metadata": {},
   "outputs": [],
   "source": [
    "#Strings_Q3.hint()\n",
    "#Strings_Q3.solution()"
   ]
  },
  {
   "cell_type": "markdown",
   "metadata": {},
   "source": [
    "# Listes"
   ]
  },
  {
   "cell_type": "markdown",
   "metadata": {},
   "source": [
    "Une liste est une séquence ordonnée de valeurs modifiables et non uniques. Elle est entourée par des crochets et peut contenir tout type d'élements. Vous pouvez regarder [cette page](https://www.w3schools.com/python/python_lists.asp) pour plus d'informations.\n",
    "\n",
    "Pour chaque exercice, écrivez la fonction permettant de résoudre la question demandée et renvoyez le résultat."
   ]
  },
  {
   "cell_type": "markdown",
   "metadata": {},
   "source": [
    "## Ex 1:\n",
    "En utilisant la demande réalisée aux périodes précédentes, calculer la demande prévue à la prochaine période en utilisant la méthode de la moyenne mobile."
   ]
  },
  {
   "cell_type": "code",
   "execution_count": null,
   "metadata": {},
   "outputs": [],
   "source": [
    "def moving_average_forecast(demand, k):\n",
    "    \"\"\"\n",
    "    Calcule la demande prévue en utilisant la méthode de la moyenne mobile\n",
    "    Paramètres:\n",
    "        demand: liste de nombres, demande des périodes précédentes\n",
    "        k: entier positif, nombre de périodes d'observation pour le calcul de la moyenne\n",
    "    Renvoie:\n",
    "        Nombre, demande prévue\n",
    "    \"\"\"\n",
    "    # écrivez votre code ici\n",
    "    \n",
    "Lists_Q1.check(moving_average_forecast)"
   ]
  },
  {
   "cell_type": "code",
   "execution_count": null,
   "metadata": {
    "scrolled": true
   },
   "outputs": [],
   "source": [
    "#Lists_Q1.hint()\n",
    "#Lists_Q1.solution()"
   ]
  },
  {
   "cell_type": "markdown",
   "metadata": {},
   "source": [
    "## Ex 2:\n",
    "En utilisant les prévisions de ventes et la demande réalisée aux périodes précédentes, calculer l'écart quadratique moyen."
   ]
  },
  {
   "cell_type": "code",
   "execution_count": null,
   "metadata": {},
   "outputs": [],
   "source": [
    "def MSE(demand, forecast):\n",
    "    \"\"\"\n",
    "    Calcule l'écart quadratique moyen en utilisant la demande réalisée et les prévisions associées\n",
    "    Paramètres:\n",
    "        demand: liste de nombres, demande des périodes précédentes\n",
    "        forecast: liste de nombres, prévisions des périodes précédentes\n",
    "    Renvoie:\n",
    "        Nombre, écart quadratique moyen\n",
    "    \"\"\"\n",
    "    # écrivez votre code ici\n",
    "    \n",
    "Lists_Q2.check(MSE)"
   ]
  },
  {
   "cell_type": "code",
   "execution_count": null,
   "metadata": {},
   "outputs": [],
   "source": [
    "#Lists_Q2.hint()\n",
    "#Lists_Q2.solution()"
   ]
  },
  {
   "cell_type": "markdown",
   "metadata": {},
   "source": [
    "## Ex 3:\n",
    "En utilisant la demande des périodes précédentes, calculer l'écart moyen engendré si la méthode de lissage exponentiel simple a été utilisée pour établir la prévision de la demande.\n",
    "\n",
    "*(Note: la prévision initiale doit être utilisée avec la première demande de la liste pour calculer l'erreur.)*"
   ]
  },
  {
   "cell_type": "code",
   "execution_count": null,
   "metadata": {},
   "outputs": [],
   "source": [
    "def mean_error(initial_forecast, demand, alpha):\n",
    "    \"\"\"\n",
    "    Calcule l'écart moyen engendré si la méthode de lissage exponentiel simple a été utilisée pour établir la prévision de la demande\n",
    "    Paramètres:\n",
    "        initial_forecast: nombre, prévision initiale de la demande\n",
    "        demand: liste de nombres, demande réalisée\n",
    "        alpha: nombre entre 0 et 1, paramètre de lissage\n",
    "    Renvoie:\n",
    "        Nombre, écart moyen\n",
    "    \"\"\"\n",
    "    # écrivez votre code ici\n",
    "\n",
    "Lists_Q3.check(mean_error)"
   ]
  },
  {
   "cell_type": "code",
   "execution_count": null,
   "metadata": {},
   "outputs": [],
   "source": [
    "#Lists_Q3.hint()\n",
    "#Lists_Q3.solution()"
   ]
  },
  {
   "cell_type": "markdown",
   "metadata": {},
   "source": [
    "## Ex 4:\n",
    "La référence produit est un code de 10 chiffres/lettres où les 2 lettres à la fin indique la provenance:\n",
    "* QC: Québec\n",
    "* ON: Ontario\n",
    "* BC: Colombie-Britannique\n",
    "* SK: Saskatchewan\n",
    "* MB: Manitoba\n",
    "* YT: Yukon\n",
    "\n",
    "En utilisant la liste des références produits d'une livraison, comptez combien de produits viennent du Manitoba.\n",
    "\n",
    "*(Note: il est possible de réutiliser la fonction `origin_shipment()` définie dans l'exercice 1 des chaînes de caractères. Assurez-vous toutefois que la cellule contenant cette fonction a été exécutée.)*"
   ]
  },
  {
   "cell_type": "code",
   "execution_count": null,
   "metadata": {},
   "outputs": [],
   "source": [
    "def products_from_Manitoba(products):\n",
    "    \"\"\"\n",
    "    Calcule le nombre de produits en provenance du Manitoba\n",
    "    Paramètres:\n",
    "        products: liste de chaînes de caractères, références produits des éléments de la livraison\n",
    "    Renvoie:\n",
    "        Entier, nombre de produits en provenance du Manitoba\n",
    "    \"\"\"\n",
    "    # écrivez votre code ici\n",
    "    \n",
    "Lists_Q4.check(products_from_Manitoba)"
   ]
  },
  {
   "cell_type": "code",
   "execution_count": null,
   "metadata": {},
   "outputs": [],
   "source": [
    "#Lists_Q4.hint()\n",
    "#Lists_Q4.solution()"
   ]
  },
  {
   "cell_type": "markdown",
   "metadata": {},
   "source": [
    "## Ex 5:\n",
    "Le code de produit est une série de chiffres/lettres composé de la manière suivante: `'YYMMDD-XXXXXX-OR'`, où\n",
    "*  YYMMDD est la date de fabrication,\n",
    "* XXXXXX est la référence du produit et\n",
    "* OR est le code du lieu d'origine.\n",
    "\n",
    "Une livraison contenant plusieurs produits différents a été reçue. On vous informe que certains produits reçus sont défaillants; il s'agit de ceux contenant la séquence `'SK'` dans la référence de produit. En utilisant le code du produit, trouver la liste des produits défaillants.\n",
    "\n",
    "*(Note: vous pouvez assumer que que la référence du produit est toujours écrite en majuscules.)*"
   ]
  },
  {
   "cell_type": "code",
   "execution_count": null,
   "metadata": {},
   "outputs": [],
   "source": [
    "def find_defects(products):\n",
    "    \"\"\"\n",
    "    Trouve la liste des produits défaillants\n",
    "    Paramètres:\n",
    "        products: liste de chaîne de caractères, codes des produits\n",
    "    Renvoie:\n",
    "        Liste de chaîne de caractères, codes des produits défaillants\n",
    "    \"\"\"\n",
    "    # écrivez votre code ici\n",
    "    \n",
    "Lists_Q5.check(find_defects)"
   ]
  },
  {
   "cell_type": "code",
   "execution_count": null,
   "metadata": {},
   "outputs": [],
   "source": [
    "#Lists_Q5.hint()\n",
    "#Lists_Q5.solution()"
   ]
  },
  {
   "cell_type": "code",
   "execution_count": null,
   "metadata": {},
   "outputs": [],
   "source": []
  }
 ],
 "metadata": {
  "kernelspec": {
   "display_name": "Python 3",
   "language": "python",
   "name": "python3"
  },
  "language_info": {
   "codemirror_mode": {
    "name": "ipython",
    "version": 3
   },
   "file_extension": ".py",
   "mimetype": "text/x-python",
   "name": "python",
   "nbconvert_exporter": "python",
   "pygments_lexer": "ipython3",
   "version": "3.7.3"
  },
  "toc": {
   "base_numbering": 1,
   "nav_menu": {},
   "number_sections": true,
   "sideBar": true,
   "skip_h1_title": false,
   "title_cell": "Table of Contents",
   "title_sidebar": "Contents",
   "toc_cell": false,
   "toc_position": {},
   "toc_section_display": true,
   "toc_window_display": true
  }
 },
 "nbformat": 4,
 "nbformat_minor": 4
}
