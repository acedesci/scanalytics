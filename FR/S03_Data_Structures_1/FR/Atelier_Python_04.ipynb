{
 "cells": [
  {
   "cell_type": "markdown",
   "metadata": {},
   "source": [
    "# Exercices séance 4\n",
    "\n",
    "Chaque exercice vous permet de pratiquer une nouvelle compétence appliquée à la gestion des opérations ou à la logistique (lorsque possible). Pour chaque exercice, vous avez deux types de cellules différentes: une cellule de réponse et une cellule de validation (située juste en dessous de la cellule de réponse).\n",
    "\n",
    "##### Cellule de réponse\n",
    "Afin de compléter les exercices, vous devez remplacer chaque segment `# écrivez votre code ici` par un morceau de code composé d'une seule ou de plusieurs lignes. Vous devez exécuter la cellule contenant votre code pour vérifier si votre réponse est exacte.\n",
    "\n",
    "Si votre réponse est incorrecte, vous verrez des indications sur les paramètres que vous avez testés ainsi que sur le résultat qui est attendu dans la sortie (sous la cellule) afin que vous puissiez comprendre et corriger votre erreur.\n",
    "\n",
    "\n",
    "##### Cellule de validation\n",
    "Vous pouvez obtenir des indices (*hint*) en convertissant le commentaire en ligne de code exécutable (c'est-à-dire en supprimant le `#`). Vous pouvez aussi regarder la solution officielle de la même manière.\n",
    "Gardez à l'esprit qu'il n'y a pas une seule et unique solution en programmation.\n",
    "\n",
    "\n",
    "**Veuillez ne pas changer le nom des fonctions ou des paramètres ni changez le code des lignes check/hint/solution (à l'exception d'ajouter ou retirer le `#` au début) car cela pourrait invalider le processus de vérification.**"
   ]
  },
  {
   "cell_type": "markdown",
   "metadata": {},
   "source": [
    "# Configuration\n",
    "Tout d'abord, exécutez la cellule suivante pour importer et configurer les librairies Python dont vous aurez besoin pour faire les exercices. Si le code s'exécute avec succès, vous verrez `Configuration terminée` dans la sortie sous la cellule."
   ]
  },
  {
   "cell_type": "code",
   "execution_count": null,
   "metadata": {
    "scrolled": true
   },
   "outputs": [],
   "source": [
    "from Atelier_Python_04_tools import *\n",
    "print('Configuration terminée')"
   ]
  },
  {
   "cell_type": "markdown",
   "metadata": {},
   "source": [
    "# Dictionnaires\n",
    "Un dictionnaire est une collection de paires clé-valeur. Cette collection est non-ordonnée et modifiable, et ses clés sont uniques. Vous pouvez regarder [cette page](https://www.w3schools.com/python/python_dictionaries.asp) pour plus d'informations."
   ]
  },
  {
   "cell_type": "markdown",
   "metadata": {},
   "source": [
    "## Ex 1:\n",
    "En utilisant la liste des provinces d'origine des fournisseurs, déterminez la province dans laquelle se situe le plus grand nombre de fournisseurs. La liste contient uniquement le code des provinces, mais il est demandé de fournir le nom complet de la province. Pour y arriver, vous devez utiliser le dictionnaire fourni associant le code d'une province à son nom complet."
   ]
  },
  {
   "cell_type": "code",
   "execution_count": null,
   "metadata": {
    "scrolled": true
   },
   "outputs": [],
   "source": [
    "def most_common_origin(suppliers, provinces):\n",
    "    \"\"\"\n",
    "    Trouve la province contenant le plus grand nombre de fournisseurs\n",
    "    Paramètres:\n",
    "        suppliers: liste de chaînes de caractères, liste contenant les codes de province d'origine des fournisseurs\n",
    "        provinces: dictionnaire, dictionnaire associant le code d'une province à son nom entier\n",
    "    Renvoie:\n",
    "         Chaîne de caractères, nom entier de la province contenant le plus grand nombre de fournisseurs\n",
    "    \"\"\"\n",
    "    # écrivez votre code ici\n",
    "    \n",
    "Dictionnaries_Q1.check(most_common_origin)"
   ]
  },
  {
   "cell_type": "code",
   "execution_count": null,
   "metadata": {
    "scrolled": true
   },
   "outputs": [],
   "source": [
    "#Dictionnaries_Q1.hint()\n",
    "#Dictionnaries_Q1.solution()"
   ]
  },
  {
   "cell_type": "markdown",
   "metadata": {},
   "source": [
    "## Ex 2:\n",
    "Ayant un nombre limité d'articles à vendre et ne pouvant satisfaire toute la demande, chaque client est libre de proposer son prix d'achat et les articles sont vendus aux clients les plus offrant. En utilisant la liste des clients, trouvez le nom du client qui propose le meilleur prix. Les clients sont donnés sous la forme d'une liste de dictionnaires (un dictionnaire par client). Chaque client est représenté par un dictionnaire comportant les clés `'name'` et `'price'`."
   ]
  },
  {
   "cell_type": "code",
   "execution_count": null,
   "metadata": {
    "scrolled": true
   },
   "outputs": [],
   "source": [
    "def find_client(clients):\n",
    "    \"\"\"\n",
    "    Trouve le client proposant le meilleur prix\n",
    "    Paramètres:\n",
    "        clients: liste de dictionnaires, chaque client est représenté par un dictionnaire comportant les clés 'name' et 'price'\n",
    "    Renvoie:\n",
    "        Chaîne de caractères, nom du client proposant le meilleur prix\n",
    "    \"\"\"\n",
    "    # écrivez votre code ici\n",
    "    \n",
    "Dictionnaries_Q2.check(find_client)"
   ]
  },
  {
   "cell_type": "code",
   "execution_count": null,
   "metadata": {
    "scrolled": true
   },
   "outputs": [],
   "source": [
    "#Dictionnaries_Q2.hint()\n",
    "#Dictionnaries_Q2.solution()"
   ]
  },
  {
   "cell_type": "markdown",
   "metadata": {},
   "source": [
    "## Ex 3:\n",
    "Vous venez d'acquérir une deuxième entreprise dans un même secteur d'activité et désirez avoir une seule base de données regroupant tous les clients. Pour ce faire, vous devez fusionner les deux bases de données clients en une seule. Notez qu'il n'y a pas de client en commun entre les deux bases de données. Une base de donnée est représentée comme un dictionnaire. Chaque client est donné sous la forme d'une entrée du dictionnaire associant l'identifiant du client à son nom."
   ]
  },
  {
   "cell_type": "code",
   "execution_count": null,
   "metadata": {
    "scrolled": true
   },
   "outputs": [],
   "source": [
    "def merge_clients(clients1, clients2):\n",
    "    \"\"\"\n",
    "    Fusionne deux bases de données de clients\n",
    "    Paramètres:\n",
    "        clients1: dictionnaire, chaque client est représenté par une entrée dans le dictionnaire\n",
    "        clients2: dictionnaire, chaque client est représenté par une entrée dans le dictionnaire\n",
    "    Renvoie:\n",
    "        Dictionnaire, base des clients\n",
    "    \"\"\"\n",
    "    # écrivez votre code ici\n",
    "    \n",
    "Dictionnaries_Q3.check(merge_clients)"
   ]
  },
  {
   "cell_type": "code",
   "execution_count": null,
   "metadata": {
    "scrolled": true
   },
   "outputs": [],
   "source": [
    "#Dictionnaries_Q3.hint()\n",
    "#Dictionnaries_Q3.solution()"
   ]
  },
  {
   "cell_type": "markdown",
   "metadata": {},
   "source": [
    "# Tuples\n",
    "Un tuple est une séquence ordonnée de valeurs non-uniques et non-modifiables. Il est très similaire à une liste et les deux types de séquence ont beaucoup d'aspects en commun. Vous pouvez regarder [cette page](https://www.w3schools.com/python/python_tuples.asp) pour plus d'information.    "
   ]
  },
  {
   "cell_type": "markdown",
   "metadata": {},
   "source": [
    "## Ex 1:\n",
    "Sur une chaîne de production, on fait un contrôle statistique afin de vérifier la qualité de la production. Pour ce faire, on prélève un grand nombre d'échantillons de petite taille. Calculez et renvoyez un tuple composé de la limite de contrôle inférieure et supérieure de la moyenne. Les données sont fournies sous la forme d'une liste de listes (le premier niveau de liste contient les échantillons alors que le deuxième niveau de liste contient les observations de chaque échantillon). Chaque échantillon est composé de 5 éléments."
   ]
  },
  {
   "cell_type": "code",
   "execution_count": null,
   "metadata": {
    "scrolled": true
   },
   "outputs": [],
   "source": [
    "def limit_control(samples):\n",
    "    \"\"\"\n",
    "    Calcule la limite de contrôle inférieure et supérieure de la moyenne d'un ensemble d'échantillons\n",
    "    Paramètres:\n",
    "        samples: liste de listes de nombres, ensemble des observations regroupées par échantillons\n",
    "    Renvoie:\n",
    "        Tuple de nombres, (limite de contrôle inférieure, limite de contrôle supérieure)\n",
    "    \"\"\"\n",
    "    # écrivez votre code ici\n",
    "\n",
    "Tuples_Q1.check(limit_control)"
   ]
  },
  {
   "cell_type": "code",
   "execution_count": null,
   "metadata": {
    "scrolled": true
   },
   "outputs": [],
   "source": [
    "#Tuples_Q1.hint()\n",
    "#Tuples_Q1.solution()"
   ]
  },
  {
   "cell_type": "markdown",
   "metadata": {},
   "source": [
    "## Ex 2:\n",
    "En utilisant la liste des clients, trouvez les clients basés en Ontario (`'ON'`). Chaque client est donné sous la forme d'un dictionnaire contenant les clés `'name'` et `'origin'`. L'origine est donnée sous la forme du code de la province. Les clients selectionnés doivent être renvoyés dans un `tuple`."
   ]
  },
  {
   "cell_type": "code",
   "execution_count": null,
   "metadata": {
    "scrolled": true
   },
   "outputs": [],
   "source": [
    "def from_Ontario(clients):\n",
    "    \"\"\"\n",
    "    Trouve les clients basés en Ontario\n",
    "    Paramètres:\n",
    "        clients: liste de dictionnaires, chaque client est représenté par un dictionnaire comportant les clés 'name' et 'origin'\n",
    "    Renvoie:\n",
    "        Tuple de chaînes de caractères, noms des clients basés en Ontario\n",
    "    \"\"\"\n",
    "    # écrivez votre code ici\n",
    "    \n",
    "Tuples_Q2.check(from_Ontario)"
   ]
  },
  {
   "cell_type": "code",
   "execution_count": null,
   "metadata": {
    "scrolled": true
   },
   "outputs": [],
   "source": [
    "#Tuples_Q2.hint()\n",
    "#Tuples_Q2.solution()"
   ]
  },
  {
   "cell_type": "markdown",
   "metadata": {},
   "source": [
    "## Ex 3:\n",
    "En utilisant la liste des fournisseurs, identifiez les fournisseurs proposant un prix de vente strictement inférieur à la moyenne. Chaque fournisseur est donné sous la forme d'un dictionnaire contenant les clés `'name'` et `'price'`. Les noms des fournisseurs doivent être renvoyés dans un `tuple`."
   ]
  },
  {
   "cell_type": "code",
   "execution_count": null,
   "metadata": {
    "scrolled": true
   },
   "outputs": [],
   "source": [
    "def lower_than_average(suppliers):\n",
    "    \"\"\"\n",
    "    Trouve les fournisseurs proposant un prix inférieur à la moyenne\n",
    "    Paramètres:\n",
    "        clients: liste de dictionnaires, chaque client est représenté par un dictionnaire comportant les clés 'name' et 'price'\n",
    "    Renvoie:\n",
    "        Tuple de chaînes de caractères, noms des fournisseurs proposant un prix strictement inférieur à la moyenne\n",
    "    \"\"\"\n",
    "    # écrivez votre code ici\n",
    "\n",
    "Tuples_Q3.check(lower_than_average)"
   ]
  },
  {
   "cell_type": "code",
   "execution_count": null,
   "metadata": {
    "scrolled": true
   },
   "outputs": [],
   "source": [
    "#Tuples_Q3.hint()\n",
    "#Tuples_Q3.solution()"
   ]
  },
  {
   "cell_type": "markdown",
   "metadata": {},
   "source": [
    "## Ex 4:\n",
    "En utilisant les demandes réelles ainsi que la fonction de prévision `average_forecast`, calculez l'écart quadratique moyen produit par cette méthode de prévision pour ces valeurs de demande. Notez que la fonction de prévision `average_forecast` nécessite la demande des 3 périodes précédentes; vous devez donc calculer l'écart quadratique moyen en commençant par la quatrième période."
   ]
  },
  {
   "cell_type": "code",
   "execution_count": null,
   "metadata": {
    "scrolled": true
   },
   "outputs": [],
   "source": [
    "def average_forecast(*demands):\n",
    "    \"\"\"\n",
    "    Calcule la demande prévue en faisant la moyenne des demandes\n",
    "    Paramètres:\n",
    "        demands: tuple de nombres, demande des périodes précédentes\n",
    "    Renvoie:\n",
    "        Nombre, demande prévue\n",
    "    \"\"\"\n",
    "    forecasted_demand = 0    \n",
    "    for demand in demands:\n",
    "        forecasted_demand += demand        \n",
    "    return forecasted_demand / len(demands)\n",
    "\n",
    "\n",
    "def MSE(demands):\n",
    "    \"\"\"\n",
    "    Calcule l'écart quadratique moyen en utilisant les demandes réelles et les prévisions issues de la fonction de prévision\n",
    "    Paramètres:\n",
    "        demands: liste de nombres, demandes\n",
    "    Renvoie:\n",
    "        Nombre, écart quadratique moyen\n",
    "    \"\"\"\n",
    "    # écrivez votre code ici\n",
    "    \n",
    "Tuples_Q4.check(MSE)"
   ]
  },
  {
   "cell_type": "code",
   "execution_count": null,
   "metadata": {
    "scrolled": true
   },
   "outputs": [],
   "source": [
    "#Tuples_Q4.hint()\n",
    "#Tuples_Q4.solution()"
   ]
  },
  {
   "cell_type": "code",
   "execution_count": null,
   "metadata": {},
   "outputs": [],
   "source": []
  }
 ],
 "metadata": {
  "kernelspec": {
   "display_name": "Python 3 (ipykernel)",
   "language": "python",
   "name": "python3"
  },
  "language_info": {
   "codemirror_mode": {
    "name": "ipython",
    "version": 3
   },
   "file_extension": ".py",
   "mimetype": "text/x-python",
   "name": "python",
   "nbconvert_exporter": "python",
   "pygments_lexer": "ipython3",
   "version": "3.8.8"
  },
  "toc": {
   "base_numbering": 1,
   "nav_menu": {},
   "number_sections": true,
   "sideBar": true,
   "skip_h1_title": false,
   "title_cell": "Table of Contents",
   "title_sidebar": "Contents",
   "toc_cell": false,
   "toc_position": {},
   "toc_section_display": true,
   "toc_window_display": true
  }
 },
 "nbformat": 4,
 "nbformat_minor": 4
}
