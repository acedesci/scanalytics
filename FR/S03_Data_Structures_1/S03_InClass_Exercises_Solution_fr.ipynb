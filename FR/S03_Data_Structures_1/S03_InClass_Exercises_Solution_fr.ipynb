{
  "cells": [
    {
      "cell_type": "markdown",
      "metadata": {
        "id": "iDrdErof6Vsz"
      },
      "source": [
        "# S03 - Exercices en classe : Structures de données Python - Partie I (solution)\n",
        "\n",
        "## Instructions\n",
        "\n",
        "La plupart des exercices présentés ici vous permettent de pratiquer la programmation Python de base pour certaines applications en gestion des opérations et de la logistique.\n",
        "\n",
        "Pour chaque exercice, vous avez une cellule de code pour la réponse en dessous, où vous devez écrire votre réponse entre les lignes contenant `### commencez votre code ici ###` et `### terminez votre code ici ###` . Votre code peut contenir une ou plusieurs lignes et vous pouvez exécuter cette cellule afin de terminer l'exercice. Pour exécuter la cellule, vous pouvez taper `Shift+Enter` ou appuyer sur le bouton de lecture dans la barre d'outils ci-dessus. Vos résultats apparaîtront juste en dessous de cette cellule de réponse.\n",
        "\n",
        "**REMARQUE :** Veuillez prêter attention au nom de la variable de sortie que vous devez fournir sous chaque question. Vous devez utiliser le même nom de variable pour la sortie afin que le résultat puisse être imprimé correctement."
      ]
    },
    {
      "cell_type": "markdown",
      "metadata": {
        "id": "jQ4-er1B6Vs1"
      },
      "source": [
        "## String\n",
        "### Exercice 1 : Générer des codes de référence pour les nouvelles commandes\n",
        "Une petite entreprise souhaite créer son propre modèle de bon de commande et attribuer un code informatif à chaque nouvelle commande. Créez une fonction avec le nom `OrderRef`, qui renvoie un nouveau code au format spécifié ci-dessous en fonction des informations suivantes :\n",
        "\n",
        "* ID client (3 caractères)\n",
        "* date à laquelle la commande est passée (au format « JJ/MM/AAAA », par exemple, 13/06/2020)\n",
        "* heure à laquelle la commande a été passée (au format « HH:MM », par exemple, 14:05)\n",
        "\n",
        "Le format souhaité du code pour chaque commande est :\n",
        "\n",
        "\n",
        "<div>\n",
        "<img src=\"https://raw.githubusercontent.com/acedesci/scanalytics/master/FR/S03_Data_Structures_1/_static/OrderRev_V2.png\" width=\"500\">\n",
        "</div>\n",
        "\n",
        "**Astuce :** vous pouvez utiliser la méthode `.split('character')` et l'opérateur `+` pour effectuer la concaténation de strings."
      ]
    },
    {
      "cell_type": "code",
      "execution_count": 6,
      "metadata": {
        "colab": {
          "base_uri": "https://localhost:8080/"
        },
        "id": "0HLX3cPI6Vs2",
        "outputId": "955d7d38-51c8-420b-a5d4-8702dfa65a71"
      },
      "outputs": [
        {
          "name": "stdout",
          "output_type": "stream",
          "text": [
            "The code of the order placed on 13/01/2021 at  18:20 by client CA1 is:  CA1.2021-01-13.1820\n"
          ]
        }
      ],
      "source": [
        "# définir une fonction qui crée un code de référence pour chaque commande\n",
        "def OrderRef(client_id, plac_date, plac_time):\n",
        "    \"\"\"\n",
        "    Return an order code\n",
        "    Parameters:\n",
        "        client_id: (string) client identification number of 3 characters AAA\n",
        "        plac_date: (string) date in which the order was placed in the format DD/MM/YYYY\n",
        "        plac_time: (string) time at which the order was placed in the format HH:MM\n",
        "    return:\n",
        "        code (string) in the format AAA.YYYY-MM-DD.HHMM\n",
        "    \"\"\"  \n",
        "    ### commencez votre code ici ###\n",
        "    split_plac_date = plac_date.split('/')\n",
        "    split_plac_time = plac_time.split(':')\n",
        "    code =  (client_id + '.' \n",
        "             + split_plac_date[2] + '-' + split_plac_date[1] + '-' + split_plac_date[0] + \".\"\n",
        "             + split_plac_time[0] + split_plac_time[1])\n",
        "    return code\n",
        "    ### terminez votre code ici ###\n",
        "\n",
        "# Générer un nouveau code pour une nouvelle commande\n",
        "placement_date = '13/01/2021'\n",
        "placement_time = '18:20'\n",
        "client = 'CA1'\n",
        "print(\"The code of the order placed on\", placement_date, \"at \", placement_time,\"by client\", client,\"is: \", \n",
        "      OrderRef(client, placement_date, placement_time))\n",
        "# Le code doit être 'CA1.2021-01-13.1820'"
      ]
    },
    {
      "cell_type": "markdown",
      "metadata": {
        "id": "jMAd5urW6Vs3"
      },
      "source": [
        "## Listes"
      ]
    },
    {
      "cell_type": "markdown",
      "metadata": {
        "id": "W_bxe3it6Vs3"
      },
      "source": [
        "### Exercice 2 : Moyenne mobile pondérée (WMA)\n",
        "\n",
        "La moyenne mobile simple suppose que les $k$ dernières observations ont la même importance pour déterminer la prévision. Cependant, dans certains cas, des données plus récentes peuvent être plus représentatives de la demande actuelle que des données plus anciennes. Dans de tels cas, nous pouvons choisir d'utiliser la **méthode de la moyenne mobile pondérée (WMA)**, qui est également une autre méthode couramment utilisée. [Ce lien](https://en.wikipedia.org/wiki/Moving_average#Weighted_moving_average) fournit plus de détails sur cette méthode.\n",
        "\n",
        "**Brève description du modèle :** cette méthode calcule la prévision comme la demande moyenne pondérée en considérant les $k$ périodes les plus récentes comme suit :\n",
        "\n",
        "$$F_{t+1}=\\frac{kD_t+(k-1)D_{t-1}+(k-2)D_{t-2}+...+2D_{(t-k)+2}+D_{(t-k)+1}}{k+(k-1)+(k-2)+...+2+1}$$\n",
        "Où:\n",
        "- $F_t$ : prévision pour la période $t$\n",
        "- $k$ : nombre d'observations récentes utilisées dans le calcul\n",
        "- $D_t$ : demande pour la période $t$\n",
        "\n",
        "On voit aussi que le dénominateur est égal à $k(k+1)/2$. On peut donc aussi écrire :\n",
        "$$F_{t+1}=\\frac{kD_t+(k-1)D_{t-1}+(k-2)D_{t-2}+...+2D_{(t-k)+2}+D_{(t-k)+1}}{k(k+1)/2}$$\n",
        "À titre d'exemple, considérons que les ventes en janvier, février, mars et avril étaient respectivement de 125 unités, 142 unités, 120 unités et 153 unités. Nous voulons prévoir la demande pour mai en utilisant la méthode exponentielle pondérée avec $k=3$. Le dénominateur sera alors $=3(3+1)/2 = 6$ (ou $3 + 2 +1 = 6$). La prévision est calculée comme $F_{May}=\\frac{3D_{April}+2D_{March}+1D_{Feb}}{6}=140.167 \\approx 140$\n",
        "\n",
        "L’avantage de la méthode de la moyenne mobile pondérée est qu’elle reflète plus rapidement les tendances à la hausse ou à la baisse (car les données récentes ont plus de poids).\n",
        "\n",
        "Créez une fonction qui calcule la prévision pour la période suivante en utilisant la méthode de la moyenne mobile pondérée, à partir d'une liste de données historiques et du nombre de périodes de rétrospection. Cette fonction doit également inclure les composantes suivantes :\n",
        "* **Vérification d'erreur** : Elle doit renvoyer le message `'Error: not enough data'` dans le cas où le nombre d'observations dans les données historiques est inférieur au nombre de périodes de rétrospection $k$. **Astuce :** vous pouvez utiliser la fonction ``len()`.\n",
        "* **Calcul de prévision** : S'il n'y a pas de problème ci-dessus, la fonction effectue le calcul de prévision et renvoie la valeur de prévision pour $t$.\n",
        "\n",
        "* Vous pouvez utiliser des listes de compréhension pour calculer la prévision.\n",
        "* La prévision doit être arrondie (c'est-à-dire une valeur entière) **Astuce :** vous pouvez utiliser la fonction `round()`."
      ]
    },
    {
      "cell_type": "markdown",
      "metadata": {
        "id": "KI6VhpzeMbOC"
      },
      "source": [
        "**Solution 1** : plus explicite"
      ]
    },
    {
      "cell_type": "code",
      "execution_count": 7,
      "metadata": {
        "colab": {
          "base_uri": "https://localhost:8080/"
        },
        "id": "AvBmwY3Y6Vs4",
        "outputId": "b0d93504-e0b5-4bf6-ee3b-5c6dc26ca697"
      },
      "outputs": [
        {
          "name": "stdout",
          "output_type": "stream",
          "text": [
            "Forecast sales for the next period with k = 2 is:  128\n",
            "Forecast sales for the next period with k = 5 is:  130\n",
            "Forecast sales for the next period with k = 15 is:  Error: not enough data\n"
          ]
        }
      ],
      "source": [
        "# définition d'une fonction pour la méthode de la moyenne mobile pondérée\n",
        "def weightedMovingAvg(historical_sales, t, k):\n",
        "    \"\"\"\n",
        "    Return the predicted demand for the next period\n",
        "    parameters:\n",
        "        historical_sales: (list) real sales in the previous periods\n",
        "        t: (int number) period to forecast\n",
        "        k: (int number) parameter of the weighted moving avg method\n",
        "    return:\n",
        "        forecast for period t\n",
        "    \"\"\"\n",
        "    ### commencez votre code ici ###\n",
        "    # vérifier s'il y a suffisamment de données pour faire des prédictions\n",
        "    if len(historical_sales) < k:\n",
        "        return 'Error: not enough data'\n",
        "    else:\n",
        "        denominator = (k * (k + 1)) / 2  # préparer le dénominateur\n",
        "        # imprimer(dénominateur)\n",
        "        past_k_demand = historical_sales[t-k:t]  # extraire les k points de données les plus récents, vous pouvez les imprimer pour vérifier\n",
        "        # imprimer(past_k_demand)\n",
        "        weights = list(range(1, k+1)) # préparer les poids pour le numérateur, vous pouvez imprimer pour vérifier\n",
        "        # imprimer(poids)\n",
        "        weighted_demand = [weights[i] * past_k_demand[i] / denominator for i in range(k)] # calculer la demande pondérée de chaque point\n",
        "\n",
        "        return round(sum(weighted_demand))\n",
        "    ### terminez votre code ici ###\n",
        "\n",
        "# Tester si votre fonction est correcte en utilisant les données suivantes\n",
        "sales = [125, 142, 120, 153, 156, 135, 128, 117, 140, 134, 132, 126] # ici nous avons l'index 0->11\n",
        "\n",
        "print('Forecast sales for the next period with k = 2 is: ', weightedMovingAvg(sales, 12, 2))\n",
        "print('Forecast sales for the next period with k = 5 is: ', weightedMovingAvg(sales, 12, 5))\n",
        "print('Forecast sales for the next period with k = 15 is: ', weightedMovingAvg(sales, 12, 15))"
      ]
    },
    {
      "cell_type": "markdown",
      "metadata": {
        "id": "MAusKRFuMZwd"
      },
      "source": [
        "**Solution 2** : plus implicite"
      ]
    },
    {
      "cell_type": "code",
      "execution_count": 8,
      "metadata": {
        "colab": {
          "base_uri": "https://localhost:8080/"
        },
        "id": "qHr3D1JaMQ2o",
        "outputId": "5be00483-16e3-4c3b-f812-78a1824fac7a"
      },
      "outputs": [
        {
          "name": "stdout",
          "output_type": "stream",
          "text": [
            "Forecast sales for the next period with k = 2 is:  128\n",
            "Forecast sales for the next period with k = 5 is:  130\n",
            "Forecast sales for the next period with k = 15 is:  Error: not enough data\n"
          ]
        }
      ],
      "source": [
        "# définition d'une fonction pour la méthode de la moyenne mobile pondérée\n",
        "def weightedMovingAvg(historical_sales, t, k):\n",
        "    \"\"\"\n",
        "    Return the predicted demand for the next period\n",
        "    parameters:\n",
        "        historical_sales: (list) real sales in the previous periods\n",
        "        t: (int number) period to forecast\n",
        "        k: (int number) parameter of the weighted moving avg method\n",
        "    return:\n",
        "        forecast for period t\n",
        "    \"\"\"\n",
        "    ### commencez votre code ici ###\n",
        "    # vérifier s'il y a suffisamment de données pour faire des prédictions\n",
        "    if len(historical_sales) < k:\n",
        "        return 'Error: not enough data'\n",
        "    else:\n",
        "        forecast_t = sum([(k-i) * historical_sales[t-i-1] \n",
        "                          for i in range(k)])\n",
        "        forecast_t = round(forecast_t / (k*(k+1)/2))\n",
        "        return forecast_t\n",
        "    ### terminez votre code ici ###\n",
        "\n",
        "# Testez si votre fonction est correcte en utilisant les données suivantes\n",
        "sales = [125, 142, 120, 153, 156, 135, 128, 117, 140, 134, 132, 126] # ici nous avons l'index 0->11\n",
        "\n",
        "print('Forecast sales for the next period with k = 2 is: ', weightedMovingAvg(sales, 12, 2))\n",
        "print('Forecast sales for the next period with k = 5 is: ', weightedMovingAvg(sales, 12, 5))\n",
        "print('Forecast sales for the next period with k = 15 is: ', weightedMovingAvg(sales, 12, 15))"
      ]
    },
    {
      "cell_type": "markdown",
      "metadata": {
        "id": "6C2y6rfA6Vs5"
      },
      "source": [
        "## Dictionnaires\n",
        "\n",
        "### Exercice 3 : Méthodes de prévision à l'aide de dictionnaires\n",
        "\n",
        "Considérez les données historiques du dictionnaire `sales_2020` sur les ventes de véhicules au Canada en 2020.\n",
        "\n",
        "(*Remarque : nous prévoyons la demande pour les périodes futures. Dans cet exercice particulier, vous devez prévoir la demande pour certaines périodes où des données de ventes réelles sont déjà disponibles. Il s'agit simplement d'une illustration pour les besoins de l'exercice, alors essayez de vous imaginer à la fin du mois d'octobre 2020 en train d'essayer de faire des prévisions pour le mois suivant, une fois à la fois, jusqu'en décembre 2020*)"
      ]
    },
    {
      "cell_type": "code",
      "execution_count": 9,
      "metadata": {
        "colab": {
          "base_uri": "https://localhost:8080/"
        },
        "id": "1Q6C5S4d6Vs5",
        "outputId": "7678e07b-44eb-4d81-a0d7-f40bcce0ea0e"
      },
      "outputs": [
        {
          "name": "stdout",
          "output_type": "stream",
          "text": [
            "dict: {'January': 83512, 'February': 101788, 'March': 148052, 'April': 152187, 'May': 157082, 'June': 156891, 'July': 150800, 'August': 138210, 'September': 137349, 'October': 125731, 'November': 118521, 'December': 114376}\n",
            "keys: ['January', 'February', 'March', 'April', 'May', 'June', 'July', 'August', 'September', 'October', 'November', 'December']\n",
            "values: [83512, 101788, 148052, 152187, 157082, 156891, 150800, 138210, 137349, 125731, 118521, 114376]\n"
          ]
        }
      ],
      "source": [
        "# Format du dictionnaire : {'mois' : volume de vente en unités}\n",
        "sales_2020 = {'January': 83512,\n",
        "             'February': 101788,\n",
        "             'March': 148052,\n",
        "             'April': 152187,\n",
        "             'May': 157082,\n",
        "             'June': 156891,\n",
        "             'July': 150800,\n",
        "             'August': 138210,\n",
        "             'September': 137349,\n",
        "             'October': 125731,\n",
        "             'November': 118521,\n",
        "             'December': 114376} \n",
        "print(\"dict:\", sales_2020)\n",
        "print(\"keys:\", list(sales_2020.keys()))\n",
        "print(\"values:\", list(sales_2020.values()))   "
      ]
    },
    {
      "cell_type": "markdown",
      "metadata": {
        "id": "DWpTxQ3W6Vs6"
      },
      "source": [
        "Nous souhaitons effectuer un backtesting pour voir la qualité des prévisions par rapport aux ventes réelles au cours des deux derniers mois (novembre et décembre) de 2020. En utilisant les données historiques de `sales_2020` et la fonction créée dans l'exercice 2, prévoyez les ventes pour les mois indiqués dans le dictionnaire `forecast_wma` ci-dessous en utilisant la méthode de la moyenne mobile pondérée (WMA).\n",
        "\n",
        "Vous devez enregistrer vos prévisions dans un dictionnaire imbriqué de `forecast_wma` qui a la structure suivante.\n",
        "\n",
        "```\n",
        "forecast_wma =  {'k=3': {'November', WMA_November, 'December': WMA_December}, \n",
        "                 'k=4': {'November', WMA_November, 'December': WMA_December}}\n",
        "```\n",
        "\n",
        "**Astuce :** vous pouvez effectivement utiliser `list(sales_2020.values())` pour obtenir les valeurs du dictionnaire et les transmettre à la fonction. Vous pouvez utiliser les boucles `for`, la compréhension de liste, le constructeur `list()` et des méthodes de dictionnaire utiles telles que `.keys()`."
      ]
    },
    {
      "cell_type": "code",
      "execution_count": 10,
      "metadata": {
        "colab": {
          "base_uri": "https://localhost:8080/"
        },
        "id": "OlFHgmtW6Vs6",
        "outputId": "62a8ba21-3f22-426c-c910-281e958a08d4",
        "scrolled": true
      },
      "outputs": [
        {
          "name": "stdout",
          "output_type": "stream",
          "text": [
            "[83512, 101788, 148052, 152187, 157082, 156891, 150800, 138210, 137349, 125731, 118521, 114376]\n",
            "Forecasting based on WMA {'k=3': {'November': 131684, 'December': 124062}, 'k=4': {'November': 134219, 'December': 126418}}\n"
          ]
        }
      ],
      "source": [
        "forecast_wma ={'k=3':{'November': {}, 'December': {}},\n",
        "               'k=4':{'November': {}, 'December': {}}}\n",
        "\n",
        "### commencez votre code ici ###\n",
        "sales_list = list(sales_2020.values())\n",
        "print(sales_list)\n",
        "\n",
        "# initialiser forecast_wma\n",
        "forecast_wma['k=3']['November'] = weightedMovingAvg(sales_list, 10, 3)\n",
        "forecast_wma['k=3']['December'] = weightedMovingAvg(sales_list, 11, 3)\n",
        "\n",
        "forecast_wma['k=4']['November'] = weightedMovingAvg(sales_list, 10, 4) \n",
        "forecast_wma['k=4']['December'] = weightedMovingAvg(sales_list, 11, 4)\n",
        "### terminez votre code ici ###\n",
        "\n",
        "print('Forecasting based on WMA', forecast_wma)"
      ]
    },
    {
      "cell_type": "code",
      "execution_count": null,
      "metadata": {},
      "outputs": [],
      "source": []
    }
  ],
  "metadata": {
    "kernelspec": {
      "display_name": "Python 3 (ipykernel)",
      "language": "python",
      "name": "python3"
    },
    "language_info": {
      "codemirror_mode": {
        "name": "ipython",
        "version": 3
      },
      "file_extension": ".py",
      "mimetype": "text/x-python",
      "name": "python",
      "nbconvert_exporter": "python",
      "pygments_lexer": "ipython3",
      "version": "3.11.5"
    },
    "toc": {
      "base_numbering": 1,
      "nav_menu": {},
      "number_sections": true,
      "sideBar": true,
      "skip_h1_title": false,
      "title_cell": "Table of Contents",
      "title_sidebar": "Contents",
      "toc_cell": false,
      "toc_position": {},
      "toc_section_display": true,
      "toc_window_display": true
    }
  },
  "nbformat": 4,
  "nbformat_minor": 1
}
