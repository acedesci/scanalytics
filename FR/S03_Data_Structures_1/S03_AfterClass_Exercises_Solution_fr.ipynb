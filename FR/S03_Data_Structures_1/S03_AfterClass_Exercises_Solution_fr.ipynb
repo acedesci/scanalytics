{
  "cells": [
    {
      "cell_type": "markdown",
      "metadata": {
        "id": "-__V4rB0zAnI"
      },
      "source": [
        "# S03 - Exercices après le cours : Structures de données Python - Partie I (solution)\n",
        "\n",
        "## Instructions\n",
        "\n",
        "La plupart des exercices présentés ici vous permettent de pratiquer la programmation Python de base pour certaines applications en gestion des opérations et de la logistique.\n",
        "\n",
        "Pour chaque exercice, vous avez une cellule de code pour la réponse en dessous, où vous devez écrire votre réponse entre les lignes contenant `### commencez votre code ici ###` et `### terminez votre code ici ###`. Votre code peut contenir une ou plusieurs lignes et vous pouvez exécuter cette cellule afin de terminer l'exercice. Pour exécuter la cellule, vous pouvez taper `Shift+Enter` ou appuyer sur le bouton de lecture dans la barre d'outils ci-dessus. Vos résultats apparaîtront juste en dessous de cette cellule de réponse.\n",
        "\n",
        "**REMARQUE :** Veuillez faire attention au nom de la variable de sortie que vous devez fournir sous chaque question. Vous devez utiliser le même nom de variable pour la sortie afin que le résultat puisse être imprimé correctement."
      ]
    },
    {
      "cell_type": "markdown",
      "metadata": {
        "id": "5pBSuHQNzAnK"
      },
      "source": [
        "## Planification globale\n",
        "\n",
        "La planification de la production est généralement effectuée au niveau global, tant pour les produits que pour les ressources. L'objectif de la planification globale, ou « planification des ventes et des opérations » (S&OP) est de répondre à la demande prévue tout en minimisant les coûts sur la période de planification.\n",
        "Le concept de planification globale vise à atteindre un équilibre entre l'offre et la demande. Des produits distincts mais similaires sont regroupés dans des familles de produits agrégés qui peuvent être planifiés ensemble afin de réduire la complexité de la planification.\n",
        "\n",
        "En utilisant des informations sur la demande prévue de produits similaires, une unité globale logique mesurant les ventes et la production, une méthode de détermination des coûts, les résultats de la planification de la capacité, entre autres, une entreprise prend les décisions suivantes grâce à la planification globale :\n",
        "\n",
        "* **Quantité de production** à partir du temps régulier, des heures supplémentaires et du temps sous-traité : utilisé pour\n",
        "déterminer le nombre de travailleurs et les niveaux d’achat des fournisseurs ;\n",
        "* **Stock détenu** : utilisé pour déterminer l'espace d'entrepôt et le fonds de roulement\n",
        "requis;\n",
        "* **Quantité en arriéré/en rupture de stock :** utilisée pour déterminer les niveaux de service client ;\n",
        "* **Augmentation/diminution de la capacité des machines** : permet de déterminer si de nouveaux équipements de production doivent être achetés ou mis au repos.\n",
        "\n",
        "Dans cet exercice, vous disposerez d’une situation illustrative et effectuerez plusieurs étapes pour élaborer un plan global.\n",
        "\n",
        "### Exercice 1 : Unités équivalentes et unités de production réelles\n",
        "\n",
        "Les décisions prises lors de l'élaboration des plans globaux étant de nature stratégique, elles ne peuvent pas être prises séparément pour chaque produit d'une entreprise. Elles doivent plutôt inclure tous les produits ou au moins une grande famille de produits. Le **plan global de production (PGP)** doit donc être établi en utilisant des *unités équivalentes* plutôt que les *unités de production* réelles. Les unités équivalentes (UE) sont les unités de référence dans lesquelles tous les produits d'une entreprise sont convertis en unités standard.\n",
        "\n",
        "Prenons l'exemple d'une entreprise qui produit trois types de bureaux différents, comme illustré ci-dessous. On peut reconnaître que la fabrication d'un poste de travail d'angle nécessite davantage de ressources (heures de travail des employés et capacité de la machine) qu'un simple bureau.\n",
        "\n",
        "<div>\n",
        "<img src=\"https://raw.githubusercontent.com/acedesci/scanalytics/master/FR/S03_Data_Structures_1/_static/Desks.png\" width=\"500\">\n",
        "</div>\n",
        "\n",
        "La première étape pour développer notre APP consiste à exprimer notre demande prévisionnelle en unités équivalentes. Dans cet exercice, vous disposez d'un dictionnaire qui contient la demande prévisionnelle en unités de production pour chacun des trois produits (desk A, desk B et desk C) sur un horizon de planification de 12 périodes, ainsi que la conversion de chaque unité de production en UE. À l'aide du dictionnaire `forecast_dem`, créez une liste avec la demande prévisionnelle agrégée en UE. Chaque élément de cette liste est calculé comme suit :\n",
        "\n",
        "$$AF_t=F_{t}^{(Desk A)}* EU^{(Desk A)}+F_{t}^{(Desk B)}* EU^{(Desk B)}+F_{t}^{(Desk B)}* EU^{(Desk B)}$$\n",
        "\n",
        "où:\n",
        "* $AF_t$ : prévision agrégée em UE pour la période $t$ ;\n",
        "* $F_{t}^{(Desk)}$ : prévision de la demande pour la période $t$ du type de produit correspondant ;\n",
        "* $EU^{(Desk)}$ : UE par unité de production du type de produit correspondant."
      ]
    },
    {
      "cell_type": "code",
      "execution_count": 2,
      "metadata": {
        "colab": {
          "base_uri": "https://localhost:8080/"
        },
        "id": "RU3QyTDZzAnL",
        "outputId": "2ffcb8fc-85d3-498f-f102-c5356fdce0fb"
      },
      "outputs": [
        {
          "name": "stdout",
          "output_type": "stream",
          "text": [
            "Aggregated forecast is:  [348.5, 398.0, 337.5, 463.0, 528.0, 478.0, 372.5, 395.5, 476.0, 478.0, 552.5, 407.0]\n"
          ]
        }
      ],
      "source": [
        "# Format de dictionnaire: {'product_name' : {\"eu\": (nombre) unités équivalentes,\n",
        "#                                            \"forecast\" : (liste) prévision de la demande en unités de production}}\n",
        "forecast_dem = {\"desk_A\": {'eu': 1, \n",
        "                           \"forecast\":[119,  89, 111, 106, 153, 193, 173,  91, 143, 121, 170,  92]},\n",
        "                \"desk_B\": {'eu': 1.5, \n",
        "                           \"forecast\":[59,  80,  57, 116, 118,  78,  51,  69,  76,  90, 109,  54]},\n",
        "                \"desk_C\": {'eu': 3, \n",
        "                           \"forecast\":[47, 63, 47, 61, 66, 56, 41, 67, 73, 74, 73, 78]}}\n",
        "                           \n",
        "### commencez votre code ici ###\n",
        "agg_forecast = [(forecast_dem[\"desk_A\"][\"eu\"] * forecast_dem[\"desk_A\"][\"forecast\"][t] + \n",
        "                 forecast_dem[\"desk_B\"][\"eu\"] * forecast_dem[\"desk_B\"][\"forecast\"][t] +\n",
        "                 forecast_dem[\"desk_C\"][\"eu\"] * forecast_dem[\"desk_C\"][\"forecast\"][t]) \n",
        "                for t in range(12)]                        \n",
        "### terminez votre code ici ###\n",
        "\n",
        "print(\"Aggregated forecast is: \", agg_forecast)   "
      ]
    },
    {
      "cell_type": "markdown",
      "metadata": {
        "id": "smfUNx1lzAnM"
      },
      "source": [
        "### Exercice 2 : Stratégies de planification globale\n",
        "\n",
        "En général, une entreprise tente d'utiliser sa capacité et ses stocks pour répondre au mieux à la demande. Par conséquent, les compromis fondamentaux pertinents pour un planificateur incluent :\n",
        "\n",
        "* Capacité (temps régulier, heures supplémentaires, sous-traitance)\n",
        "* Stocks\n",
        "* Carnet de commandes/ventes perdues en raison d'un retard.\n",
        "\n",
        "Les méthodes de planification globale peuvent être basées sur les connaissances empiriques des planificateurs ou sur des modèles mathématiques. Les stratégies classiques de planification de la production globale comprennent la *stratégie synchrone*, la *stratégie nivelée* et les *stratégies hybrides*.\n",
        "\n",
        "* La **stratégie nivelée** repose sur l'utilisation des stocks comme levier. Grâce à cette stratégie, une main-d'œuvre stable et une capacité de machines sont maintenues avec un **taux de production constant**. Alors que la production quotidienne est stable, nous utilisons les stocks comme tampon. Dans la pratique, une production stable tend à conduire à une meilleure qualité et à une meilleure productivité.\n",
        "\n",
        "* Dans cette **stratégie synchrone**, **nous adaptons les taux de production aux prévisions de la demande** pour chaque période. Ainsi, nous devons faire varier le niveau de main-d'œuvre ou le taux de production dans le but de minimiser les stocks. Une telle stratégie est également courante dans les entreprises de services.\n",
        "\n",
        "Dans cet exercice, vous commencerez à développer un plan global simplifié basé sur ces deux stratégies. Vous devez remplir le dictionnaire suivant qui comprendra toutes les informations pertinentes du plan. Notez que chaque élément du dictionnaire est initialisé avec une liste vide."
      ]
    },
    {
      "cell_type": "code",
      "execution_count": 3,
      "metadata": {
        "colab": {
          "base_uri": "https://localhost:8080/"
        },
        "id": "vgZ4aolSzAnN",
        "outputId": "80843a0b-6d9e-47c3-9c80-9a3772772911"
      },
      "outputs": [
        {
          "name": "stdout",
          "output_type": "stream",
          "text": [
            "{'demand': [], 'production': [], 'inventory': [], 'employees': []}\n"
          ]
        }
      ],
      "source": [
        "output = {'demand': [], \n",
        "          'production': [],\n",
        "          'inventory': [],\n",
        "          'employees': []}\n",
        "\n",
        "print(output)"
      ]
    },
    {
      "cell_type": "markdown",
      "metadata": {
        "id": "CwN9tG8xzAnN"
      },
      "source": [
        "Chaque clé du dictionnaire représente un élément du plan global. Vous devez compléter chaque élément du dictionnaire selon les instructions suivantes :\n",
        "\n",
        "* `'demand': liste de 12 éléments`. Ceci représente la demande sur l'horizon de planification. Cet élément comprend les prévisions globales en UE pour les indices de période 0 à 11. Cet élément est déjà complet.\n",
        "* `'production': liste de 12 éléments`. Cela représente la quantité (en UE) à produire au cours de chaque période. Quant à la stratégie nivelée, nous fixons la quantité à produire en fonction de la demande moyenne des 12 périodes suivantes. Pour la stratégie synchrone, nous fixons ensuite la quantité de production égale à la demande estimée pour chaque période.\n",
        "* `'inventory': liste de 12 éléments`. Cela correspond aux stocks disponibles à la fin de chaque période. Le stock initial est supposé nul. Pour chaque période $t$, le stock disponible peut être calculé comme le stock à la fin de la période $t-1$, plus la production à la période $t$, moins la demande dans la période $t$ ($Inv_t = Inv_{ t-1}+Prod_t-Dem_t$). La valeur du stock **peut être négative**, ce qui indique le cas de « backlogging » qui entraîne en pratique un coût de backlogging (le calcul du coût est omis ici).\n",
        "* `'employees' : liste de 12 éléments`. Cela correspond au nombre d'employés requis par période de temps. L'entreprise compte actuellement 5 employés, chacun d'eux étant capable de produire **50 UE par période**.\n",
        "\n",
        "\n",
        "Veuillez écrire une fonction qui prend une liste de la demande globale et une liste des niveaux de production (nombre d'UE à produire) à chaque période et renvoie le dictionnaire résultant. Notez que tous les nombres doivent être arrondis à une décimale en utilisant `round(x,1)` où `x` est le nombre afin qu'ils soient plus faciles à lire."
      ]
    },
    {
      "cell_type": "code",
      "execution_count": 4,
      "metadata": {
        "colab": {
          "base_uri": "https://localhost:8080/"
        },
        "id": "X4hN_zuhADWP",
        "outputId": "7baa6802-d77f-4d3f-87d7-0bcdefbb96e6"
      },
      "outputs": [
        {
          "name": "stdout",
          "output_type": "stream",
          "text": [
            "Production level strategy:  {'demand': [348.5, 398.0, 337.5, 463.0, 528.0, 478.0, 372.5, 395.5, 476.0, 478.0, 552.5, 407.0], 'production': [436.2, 436.2, 436.2, 436.2, 436.2, 436.2, 436.2, 436.2, 436.2, 436.2, 436.2, 436.2], 'inventory': [87.7, 125.9, 224.6, 197.8, 106.0, 64.2, 127.9, 168.6, 128.8, 87.0, -29.3, -0.1], 'employees': [8.7, 8.7, 8.7, 8.7, 8.7, 8.7, 8.7, 8.7, 8.7, 8.7, 8.7, 8.7]}\n",
            "Chase demand strategy:  {'demand': [348.5, 398.0, 337.5, 463.0, 528.0, 478.0, 372.5, 395.5, 476.0, 478.0, 552.5, 407.0], 'production': [348.5, 398.0, 337.5, 463.0, 528.0, 478.0, 372.5, 395.5, 476.0, 478.0, 552.5, 407.0], 'inventory': [0.0, 0.0, 0.0, 0.0, 0.0, 0.0, 0.0, 0.0, 0.0, 0.0, 0.0, 0.0], 'employees': [7.0, 8.0, 6.8, 9.3, 10.6, 9.6, 7.5, 7.9, 9.5, 9.6, 11.1, 8.1]}\n"
          ]
        }
      ],
      "source": [
        "def productionProjection(agg_forecast, production_plan):\n",
        "    output = {'demand': agg_forecast, \n",
        "              'production': production_plan,\n",
        "              'inventory': [],\n",
        "              'employees': []}\n",
        "    \n",
        "    ### commencez votre code ici ###\n",
        "    # calcul des niveaux de stock\n",
        "    for t in range(12):\n",
        "        if t > 0:\n",
        "            inv = output['inventory'][t-1] + output['production'][t] - output['demand'][t]\n",
        "        else:\n",
        "            inv = output['production'][t] - output['demand'][t]\n",
        "        output['inventory'].append(round(inv, 1))\n",
        "    # nombre d'employés requis\n",
        "    for t in range(12):\n",
        "        output['employees'].append(round(output['production'][t] / 50, 1))\n",
        "    ### terminez votre code ici ###\n",
        "    return output \n",
        "\n",
        "average_demand =  round(sum(agg_forecast) / 12, 1) # calculer la demande moyenne à utiliser dans le plan de production\n",
        "production_plan = [average_demand] * 12\n",
        "\n",
        "print('Production level strategy: ', \n",
        "      productionProjection(agg_forecast, production_plan))\n",
        "print('Chase demand strategy: ', \n",
        "      productionProjection(agg_forecast, agg_forecast)) # le plan de production correspond à agg_forecast"
      ]
    },
    {
      "cell_type": "code",
      "execution_count": null,
      "metadata": {},
      "outputs": [],
      "source": []
    }
  ],
  "metadata": {
    "kernelspec": {
      "display_name": "Python 3 (ipykernel)",
      "language": "python",
      "name": "python3"
    },
    "language_info": {
      "codemirror_mode": {
        "name": "ipython",
        "version": 3
      },
      "file_extension": ".py",
      "mimetype": "text/x-python",
      "name": "python",
      "nbconvert_exporter": "python",
      "pygments_lexer": "ipython3",
      "version": "3.11.5"
    },
    "toc": {
      "base_numbering": 1,
      "nav_menu": {},
      "number_sections": true,
      "sideBar": true,
      "skip_h1_title": false,
      "title_cell": "Table of Contents",
      "title_sidebar": "Contents",
      "toc_cell": false,
      "toc_position": {},
      "toc_section_display": true,
      "toc_window_display": true
    }
  },
  "nbformat": 4,
  "nbformat_minor": 1
}
