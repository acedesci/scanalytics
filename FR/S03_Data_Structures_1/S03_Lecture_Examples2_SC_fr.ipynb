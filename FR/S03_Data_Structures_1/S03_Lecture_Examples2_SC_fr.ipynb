{
  "cells": [
    {
      "cell_type": "markdown",
      "metadata": {
        "id": "0JBJMPk1jzTm"
      },
      "source": [
        "# S03 - Structures de données Python I - Exemples logistique\n",
        "\n",
        "Voici quelques exemples de chaîne logistique :\n",
        "1. Méthodes de prévision\n",
        "- Naïve (promenade aléatoire et saisonnière)\n",
        "- Moyenne mobile\n",
        "- Lissage exponentiel simple\n",
        "2. Mesures d'erreur de prévision : erreur quadratique moyenne (MSE), erreur absolue moyenne en pourcentage (MAPE)\n",
        "3. Recherche de paramètres optimaux pour les méthodes de prévision à l'aide de Python\n",
        "\n",
        "*REMARQUE :* les exemples sont utilisés pour montrer des applications de structures de données abordées dans la séance 3. Il est également possible d'utiliser une structure de données plus avancée (en particulier un DataFrame) pour cela (qui sera abordée à la séance 4)."
      ]
    },
    {
      "cell_type": "markdown",
      "metadata": {
        "id": "nnds9X0IL3GW"
      },
      "source": [
        "## Exemple 1 : Méthode de prévision naïve\n",
        "Dans la méthode de prévision naïve simple, nous utilisons simplement la demande observée de la période précédente $t$ comme prévision pour la période $t+1$. Formellement, nous avons\n",
        "\n",
        "> $$F_{t+1}=D_{t}$$\n",
        "> Où :\n",
        "> - $F_{t+1}$ : prévision pour la période $t+1$\n",
        "> - $D_t$ : demande pour la période $t$\n",
        "\n",
        "Cette méthode est appelée prévisions de « marche aléatoire » et fonctionne étonnamment bien pour prédire certaines séries temporelles financières (par exemple, les cours des actions).\n",
        "\n",
        "Compte tenu des ventes historiques ci-dessous des 12 derniers mois\n",
        "- Ventes historiques = `[125, 142, 120, 153, 156, 135, 128, 117, 140, 134, 132, 126]`\n",
        "\n",
        "Nous pouvons écrire une fonction pour calculer la prévision naïve d'une période donnée $t$."
      ]
    },
    {
      "cell_type": "code",
      "execution_count": 1,
      "metadata": {
        "id": "rsG2dQMVPWF3"
      },
      "outputs": [],
      "source": [
        "# nous préparons d'abord la liste des demandes historiques (ventes)\n",
        "sales = [125, 142, 120, 153, 156, 135, 128, 117, 140, 134, 132, 126]"
      ]
    },
    {
      "cell_type": "code",
      "execution_count": 2,
      "metadata": {
        "id": "c_n-luE1P8qO"
      },
      "outputs": [],
      "source": [
        "# définition de la fonction de prévision naïve\n",
        "def naiveForecast(historical_sales, t):\n",
        "    \"\"\"\n",
        "    Return the predicted demand for the next period using the naive forecast\n",
        "    parameters:\n",
        "        historical_sales: (list) real sales in the previous periods\n",
        "        t: (int number) period to forecast\n",
        "    return:\n",
        "        forecast for period t\n",
        "    \"\"\"\n",
        "    \n",
        "    return historical_sales[t-1]"
      ]
    },
    {
      "cell_type": "code",
      "execution_count": 3,
      "metadata": {
        "id": "SgrSh2DdQos5"
      },
      "outputs": [
        {
          "name": "stdout",
          "output_type": "stream",
          "text": [
            "Naive forecast for t =  12  is  126.00\n"
          ]
        }
      ],
      "source": [
        "t = 12 # il s'agit de la période 13 car le premier index commence à zéro. Nous ne pouvons pas aller au-delà car nous n'avons que 12 éléments dans la liste (indexés 0 -> 11)\n",
        "print(\"Naive forecast for t = \", t, \" is \", \"{:.2f}\".format(naiveForecast(sales, t)))  # l'utilisation de \"{:.2f}\".format(x) permet d'imprimer exactement 2 chiffres"
      ]
    },
    {
      "cell_type": "markdown",
      "metadata": {
        "id": "G_n1EXhxU2U9"
      },
      "source": [
        "Alternativement, dans la prévision naïve **saisonnière**, nous pouvons revenir à la même période du cycle de saisonnalité précédent et prendre cette valeur comme prévision (par exemple, en utilisant les ventes de janvier 2021 comme prévision pour janvier 2022). Nous pouvons étendre la fonction précédente pour ce cas."
      ]
    },
    {
      "cell_type": "code",
      "execution_count": 4,
      "metadata": {
        "id": "vdEPrjq9U09I"
      },
      "outputs": [],
      "source": [
        "# définition de la fonction de prévision naïve\n",
        "def seasonalNaiveForecast(historical_sales, t, s):\n",
        "    \"\"\"\n",
        "    Return the predicted demand for the next period using the seasonal naive forecast\n",
        "    parameters:\n",
        "        historical_sales: (list) real sales in the previous periods\n",
        "        t: (int number) period to forecast\n",
        "        s: (int number) length of seasonality cycle\n",
        "    return:\n",
        "        forecast for period t\n",
        "    \"\"\"\n",
        "    \n",
        "    return historical_sales[t-s]"
      ]
    },
    {
      "cell_type": "code",
      "execution_count": 5,
      "metadata": {
        "id": "SDbvZHcbQd0N"
      },
      "outputs": [
        {
          "name": "stdout",
          "output_type": "stream",
          "text": [
            "Seasonal Naive forecast for t =  12 and s = 6  is  128.00\n"
          ]
        }
      ],
      "source": [
        "t = 12 # période de prévision\n",
        "s = 6 # cycle de saisonnalité\n",
        "print(\"Seasonal Naive forecast for t = \", t, \"and s =\", s,\" is \", \"{:.2f}\".format(seasonalNaiveForecast(sales, t,s)))"
      ]
    },
    {
      "cell_type": "markdown",
      "metadata": {
        "id": "pPpTnVRjjzTw"
      },
      "source": [
        "## Exemple 2 : Méthode de prévision par moyenne mobile\n",
        "\n",
        "La moyenne mobile est une méthode de séries chronologiques qui utilise les données sur la demande passée pour prédire la demande future. Comme d'autres méthodes de séries chronologiques, la moyenne mobile repose sur l'hypothèse que l'histoire se répète et, par conséquent, elle ignore les changements de l'environnement qui peuvent affecter la demande future.\n",
        "\n",
        "**Brève description du modèle :** cette méthode consiste à calculer la demande moyenne pour les $k$ périodes les plus récentes et à l'utiliser comme prévision de la demande. Cette méthode peut être représentée à l'aide de l'équation suivante :\n",
        "$$F_{t+1}=\\frac{D_t+D_{t-1}+D_{t-2}+...+D_{(t-k)+1}}{k}$$\n",
        "Où:\n",
        "- $k$ : nombre d'observations utilisées dans le calcul\n",
        "\n",
        "Par exemple, si k = 3, la prévision de la période $21$ peut être calculée par : $F_{21}=\\frac{D_{20}+D_{19}+D_{18}}{3}$.\n",
        "Le choix du nombre de périodes ($k$) à considérer pour réaliser la prévision de la demande est important :\n",
        "- Si $k$ est petit, la prévision réagira rapidement aux changements réels (c'est-à-dire aux variations de la demande qui ne sont pas aléatoires), mais elle sera également davantage influencée par les variations aléatoires ;\n",
        "- si $k$ est grand, les prévisions seront moins affectées par les variations aléatoires de la demande, mais aussi plus lentes à réagir aux changements réels.\n",
        "\n",
        "Étant donné une liste avec des ventes historiques et la valeur de $k$, nous voulons prédire le volume des ventes pour la prochaine période.\n",
        "- Prédire les ventes futures en utilisant $k=2$\n",
        "- Prédire les ventes futures en utilisant $k=3$"
      ]
    },
    {
      "cell_type": "code",
      "execution_count": 6,
      "metadata": {
        "id": "UbJjgfeBjzTx"
      },
      "outputs": [
        {
          "name": "stdout",
          "output_type": "stream",
          "text": [
            "Moving average forecast (k = 2) for t =  12  is  129.00\n",
            "Moving average forecast (k = 3) for t =  12  is  130.67\n"
          ]
        }
      ],
      "source": [
        "# définition de la fonction moyenne mobile\n",
        "def movingAvg(historical_sales, t, k):\n",
        "    \"\"\"\n",
        "    Return the predicted demand for the next period\n",
        "    parameters:\n",
        "        historical_sales: (list) real sales in the previous periods\n",
        "        t: (int number) period to forecast\n",
        "        k: (int number) parameter of the moving avg method\n",
        "    return:\n",
        "        forecast for period t\n",
        "    \"\"\"\n",
        "    return sum(historical_sales[t-k:t]) / k\n",
        "\n",
        "t = 12 # période de prévision\n",
        "\n",
        "print(\"Moving average forecast (k = 2) for t = \", t, \" is \", \"{:.2f}\".format(movingAvg(sales, t, 2)))\n",
        "print(\"Moving average forecast (k = 3) for t = \", t, \" is \", \"{:.2f}\".format(movingAvg(sales, t, 3)))"
      ]
    },
    {
      "cell_type": "markdown",
      "metadata": {
        "id": "26aa70Z9ainp"
      },
      "source": [
        "## Exemple 3 : Méthode de prévision par lissage exponentiel\n",
        "\n",
        "En utilisant une prévision de la demande initiale, un facteur de lissage $0 \\leq \\alpha \\leq 1$, nous pouvons calculer la prévision en utilisant le paramètre de lissage comme\n",
        "\n",
        "$$ F_{t+1}=\\alpha D_t + (1-\\alpha) F_t $$\n",
        "\n",
        "Où:\n",
        "- $\\alpha$ = choix du paramètre de lissage.\n",
        "\n",
        "Par conséquent, nous devons d’abord calculer $F_t$ qui est fondamentalement égal à\n",
        "$ F_{t}=\\alpha D_{t-1} + (1-\\alpha) F_{t-1}$.\n",
        "\n",
        "\n",
        "Ainsi, nous devrons calculer la première prévision (période de prévision 2 à partir de la période 1) et calculer *itérativement* la prévision de la période 2 jusqu'à $t + 1$.\n",
        "\n",
        "Étant donné une liste avec des ventes historiques et la valeur de $\\alpha$, nous pouvons créer une fonction qui utilise la méthode de lissage exponentiel simple pour calculer la demande prévue pour une période donnée.\n",
        "- Prédire les ventes futures en utilisant $\\alpha= 0.2$\n",
        "- Prédire les ventes futures en utilisant $\\alpha= 0.5$"
      ]
    },
    {
      "cell_type": "code",
      "execution_count": 7,
      "metadata": {
        "id": "P2ScREySbu5s"
      },
      "outputs": [
        {
          "name": "stdout",
          "output_type": "stream",
          "text": [
            "Exponential smoothing forecast (alpha = 0.2) for t =  12  is  131.54\n",
            "Exponential smoothing forecast (alpha = 0.5) for t =  12  is  129.37\n"
          ]
        }
      ],
      "source": [
        "# définition de la fonction de lissage exponentiel\n",
        "def exponentialSmoothing(historical_sales, t, alpha):\n",
        "    \"\"\"\n",
        "    Return the predicted demand for the next period\n",
        "    parameters:\n",
        "        historical_sales: (list) real sales in the previous periods\n",
        "        t: (int number) period to forecast\n",
        "        alpha: smoothing parameter\n",
        "    return:\n",
        "        forecast for period t\n",
        "    \"\"\"\n",
        "    exp_forecast = [] # commencer avec une liste vide\n",
        "\n",
        "    # Nous pouvons utiliser list.append() pour ajouter un élément à la liste\n",
        "    exp_forecast.append(historical_sales[0]) # supposons que la prévision initiale (indice 0) = demande réelle sur la même période\n",
        "    # calculer les prévisions pour la période 1 à t de manière itérative\n",
        "    for i in range(1, t+1):\n",
        "        f = alpha * historical_sales[i-1] + (1 - alpha) * exp_forecast[i-1]\n",
        "        exp_forecast.append(f)\n",
        "\n",
        "    # print(\"exp_forecast list: \", exp_forecast) # vous pouvez commenter ceci pour afficher la liste produite\n",
        "    return  exp_forecast[t]\n",
        "\n",
        "t = 12 # période de prévision\n",
        "print(\"Exponential smoothing forecast (alpha = 0.2) for t = \", t, \" is \", \"{:.2f}\".format(exponentialSmoothing(sales, t, 0.2)))\n",
        "print(\"Exponential smoothing forecast (alpha = 0.5) for t = \", t, \" is \", \"{:.2f}\".format(exponentialSmoothing(sales, t, 0.5)))"
      ]
    },
    {
      "cell_type": "markdown",
      "metadata": {
        "id": "XV2TaQRrjzTx"
      },
      "source": [
        "## Exemple 4 : Mesures de prévision\n",
        "\n",
        "**Erreur quadratique moyenne (MSE)**\n",
        "\n",
        "Différentes méthodes de prévision peuvent fournir une qualité de prévision différente. Afin d'estimer la qualité d'une prévision, certaines mesures sont utilisées dans la pratique, notamment l'erreur quadratique moyenne (MSE).\n",
        "\n",
        "Le MSE mesure l'écart quadratique entre les données prévues et réelles selon l'équation suivante.\n",
        "\n",
        "$$ MSE = \\frac{1}{T}\\sum_{t=1}^{T}(D_t-F_t)^2$$\n",
        "\n",
        "Étant donné deux entrées : (i) une liste de prévisions de la demande et (ii) une liste de réalisations de la demande, créez une fonction qui renvoie le MSE. Tout d'abord, nous définissons la fonction."
      ]
    },
    {
      "cell_type": "code",
      "execution_count": 8,
      "metadata": {
        "id": "U4JAxwRqjzTx"
      },
      "outputs": [],
      "source": [
        "# définir une fonction qui calcule le MSE\n",
        "def MSE(forecast, real_demand):\n",
        "    \"\"\"\n",
        "    Compute the mean squared error \n",
        "    parameters:\n",
        "        forecast: (list) demand forecast for a given planning horizon\n",
        "        real_demand: (list) real demand over a given planning horizon\n",
        "        Attention: the lists of real_demand and forecast must be of the same size\n",
        "    return:\n",
        "        MSE: (number) mean squared error\n",
        "    \"\"\"\n",
        "    sum_mse = 0\n",
        "    n_periods = len(forecast)  # obtenir le nombre de périodes de la liste\n",
        "    for t in range(n_periods):\n",
        "        sum_mse += (real_demand[t] - forecast[t]) ** 2\n",
        "    return sum_mse / n_periods"
      ]
    },
    {
      "cell_type": "markdown",
      "metadata": {
        "id": "1FAghGKAjzTy"
      },
      "source": [
        "Ensuite, nous appelons la fonction pour connaître le MSE de notre prévision."
      ]
    },
    {
      "cell_type": "code",
      "execution_count": 9,
      "metadata": {
        "id": "vpz3ltIMjzTy"
      },
      "outputs": [
        {
          "name": "stdout",
          "output_type": "stream",
          "text": [
            "The MSE of our predictions is:  62.83\n"
          ]
        }
      ],
      "source": [
        "# Considérez une liste de ventes réelles et de prévisions\n",
        "real_sales = [125, 142, 120, 153, 156, 135, 128, 117, 140, 134, 132, 126]\n",
        "predictions = [121, 132, 110, 133, 146, 132, 128, 115, 136, 132, 130, 125]\n",
        "\n",
        "print(\"The MSE of our predictions is: \", \"{:.2f}\".format(MSE(predictions, real_sales)))"
      ]
    },
    {
      "cell_type": "markdown",
      "metadata": {
        "id": "Yok6lE9KkZUF"
      },
      "source": [
        "Alternativement, nous pouvons également utiliser la *compréhension de liste* au lieu de la boucle *for*"
      ]
    },
    {
      "cell_type": "code",
      "execution_count": 10,
      "metadata": {
        "id": "3adXl9YYkl-i"
      },
      "outputs": [
        {
          "name": "stdout",
          "output_type": "stream",
          "text": [
            "The MSE of our predictions is:  62.83\n"
          ]
        }
      ],
      "source": [
        "# définir une fonction qui calcule le MSE en utilisant la compréhension de liste\n",
        "def MSE(forecast, real_demand):\n",
        "    n_periods = len(forecast)\n",
        "    mse_t = [(real_demand[t] - forecast[t]) ** 2 \n",
        "             for t in range(n_periods)] # MSE pour chaque période de temps t\n",
        "    return sum(mse_t) / n_periods # on utilise la fonction sum() pour calculer la somme de mse_t\n",
        "\n",
        "# Considérez une liste de ventes réelles et de prévisions\n",
        "real_sales = [125, 142, 120, 153, 156, 135, 128, 117, 140, 134, 132, 126]\n",
        "predictions = [121, 132, 110, 133, 146, 132, 128, 115, 136, 132, 130, 125]\n",
        "\n",
        "print(\"The MSE of our predictions is: \", \"{:.2f}\".format(MSE(predictions, real_sales)))"
      ]
    },
    {
      "cell_type": "markdown",
      "metadata": {
        "id": "NpXPi7fCl78t"
      },
      "source": [
        "**Erreur absolue moyenne en pourcentage (MAPE)**\n",
        "\n",
        "Une autre mesure de prévision couramment utilisée est le MAPE qui peut être calculé comme suit\n",
        "\n",
        "$$ MAPE = \\frac{1}{T}\\sum_{t=1}^{T}\\left|\\frac{D_t-F_t}{D_t}\\right|$$\n",
        "\n",
        "et peut être mis en œuvre comme"
      ]
    },
    {
      "cell_type": "code",
      "execution_count": 11,
      "metadata": {
        "id": "68wsMY1woIkS"
      },
      "outputs": [
        {
          "name": "stdout",
          "output_type": "stream",
          "text": [
            "The MAPE of our predictions is:  4.05 %\n"
          ]
        }
      ],
      "source": [
        "# définir une fonction qui calcule MAPE en utilisant la compréhension de liste\n",
        "def MAPE(forecast, real_demand):\n",
        "    \"\"\"\n",
        "    Compute the mean absolute percentage error \n",
        "    parameters:\n",
        "        forecast: (list) demand forecast for a given planning horizon\n",
        "        real_demand: (list) real demand over a given planning horizon\n",
        "        Attention: the lists of real_demand and forecast must be of the same size\n",
        "    return:\n",
        "        Mean absolute percentage errors (MAPE)\n",
        "    \"\"\"\n",
        "    n_periods = len(forecast)\n",
        "    mape_t = [abs(real_demand[t] - forecast[t]) / real_demand[t] \n",
        "              for t in range(n_periods)] \n",
        "    return sum(mape_t) / n_periods # on utilise la fonction sum() pour calculer la somme de mape_t\n",
        "\n",
        "# Considérez une liste de ventes réelles et de prévisions\n",
        "real_sales = [125, 142, 120, 153, 156, 135, 128, 117, 140, 134, 132, 126]\n",
        "predictions = [121, 132, 110, 133, 146, 132, 128, 115, 136, 132, 130, 125]\n",
        "\n",
        "print(\"The MAPE of our predictions is: \", \"{:.2f}\".format(MAPE(predictions, real_sales) * 100),\"%\")"
      ]
    },
    {
      "cell_type": "markdown",
      "metadata": {
        "id": "kz87c0L2p6hy"
      },
      "source": [
        "## Exemple 5 : Prévision et mesure des performances\n",
        "\n",
        "Nous utilisons ici toutes les méthodes ensemble. Nous allons essayer différents modèles de prévision avec différentes configurations et mesurer leurs performances. Les résultats seront stockés dans un dictionnaire (imbriqué).\n",
        "\n",
        "Nous utiliserons les méthodes définies précédemment et trouverons la meilleure configuration pour chaque méthode lors de la prévision des prix du United States Oil Fund (USO) qui suit le prix du West Texas Intermediate Light Sweet Crude en 2019. Les prévisions et les erreurs seront calculées pour le second semestre 2019 (c'est-à-dire les éléments avec l'indice 6-11) pour être mesurées par rapport aux valeurs réelles."
      ]
    },
    {
      "cell_type": "code",
      "execution_count": 12,
      "metadata": {
        "id": "x_zKdv3C8Uew"
      },
      "outputs": [],
      "source": [
        "uso_2019 = [90.80, 95.60, 100.00, 106.32, 88.80, 96.32, 96.31, 91.68, 90.72, 90.40, 92.96, 102.48]"
      ]
    },
    {
      "cell_type": "markdown",
      "metadata": {
        "id": "TFQTCRI58WJ9"
      },
      "source": [
        "Premièrement, la méthode naïve comme modèle de base"
      ]
    },
    {
      "cell_type": "code",
      "execution_count": 13,
      "metadata": {
        "id": "j8tlWgtV8Tnn"
      },
      "outputs": [
        {
          "name": "stdout",
          "output_type": "stream",
          "text": [
            "[96.32, 96.31, 91.68, 90.72, 90.4, 92.96]\n",
            "MSE =  19.940833333333348\n",
            "MAPE =  0.030860385227782578\n",
            "add results to the dictionary for the method:  Naive\n",
            "{'Naive': {'Forecast': [96.32, 96.31, 91.68, 90.72, 90.4, 92.96], 'MSE': 19.940833333333348, 'MAPE': 0.030860385227782578}}\n"
          ]
        }
      ],
      "source": [
        "uso_fcst_naive = [naiveForecast(uso_2019, t) for t in range(6, 12)]\n",
        "print(uso_fcst_naive)\n",
        "\n",
        "uso_fcst_naive_mse = MSE(uso_fcst_naive, uso_2019[6:])\n",
        "print(\"MSE = \", uso_fcst_naive_mse)\n",
        "\n",
        "uso_fcst_naive_mape = MAPE(uso_fcst_naive, uso_2019[6:])\n",
        "print(\"MAPE = \", uso_fcst_naive_mape)\n",
        "\n",
        "# Nous pouvons ensuite conserver les résultats dans un dictionnaire\n",
        "fcst_results = {}  # créez d'abord un dictionnaire vide\n",
        "fcst_names = ['Naive', 'SeasonNaive', 'MovingAvg', 'ExpSmooth'] # liste des méthodes de prévision\n",
        "print(\"add results to the dictionary for the method: \", fcst_names[0])\n",
        "fcst_results[fcst_names[0]] = {'Forecast': uso_fcst_naive, \n",
        "                               'MSE': uso_fcst_naive_mse, \n",
        "                               'MAPE': uso_fcst_naive_mape}\n",
        "print(fcst_results)"
      ]
    },
    {
      "cell_type": "markdown",
      "metadata": {
        "id": "e7U-2uVGEPlp"
      },
      "source": [
        "Ensuite, nous appliquons la prévision naïve saisonnière et recherchons la meilleure durée de saisonnalité $s$ entre 2, 4 et 6 basée sur le MAPE."
      ]
    },
    {
      "cell_type": "code",
      "execution_count": 14,
      "metadata": {
        "id": "llZYS6VZAoln"
      },
      "outputs": [
        {
          "name": "stdout",
          "output_type": "stream",
          "text": [
            "s =  2\n",
            "MAPE : 0.057723114537770515\n",
            "s =  4\n",
            "MAPE : 0.07101230185854347\n",
            "s =  6\n",
            "MAPE : 0.08053786497565112\n",
            "best seasonality length s =  2\n",
            "add results to the dictionary for the method:  SeasonNaive\n",
            "{'Naive': {'Forecast': [96.32, 96.31, 91.68, 90.72, 90.4, 92.96], 'MSE': 19.940833333333348, 'MAPE': 0.030860385227782578}, 'SeasonNaive': {'Forecast': [88.8, 96.32, 96.31, 91.68, 90.72, 90.4], 'MSE': 43.62669999999999, 'MAPE': 0.057723114537770515}}\n"
          ]
        }
      ],
      "source": [
        "best_s = -1  # initialiser la valeur initiale du meilleur s\n",
        "best_mape = 1.0  # initialiser la valeur initiale de MAPE (au maximum 100%)\n",
        "\n",
        "for s in range(2,7,2):  # ici, nous pouvons utiliser range(start, end, step) pour créer un incrément de 2, ou, alternativement, utiliser la liste [2,4,6]\n",
        "    print(\"s = \", s)\n",
        "    uso_fcst_seasonnaive = [seasonalNaiveForecast(uso_2019, t, s) for t in range(6, 12)]\n",
        "    uso_fcst_seasonnaive_mape = MAPE(uso_fcst_seasonnaive, uso_2019[6:])\n",
        "    print(\"MAPE :\", uso_fcst_seasonnaive_mape)\n",
        "    if uso_fcst_seasonnaive_mape < best_mape:  # garder une trace des meilleurs s\n",
        "        best_s = s  # définir les nouveaux best_s\n",
        "        best_mape = uso_fcst_seasonnaive_mape  # définir le nouveau best_mape\n",
        "\n",
        "# nous calculons à nouveau les prévisions et les résultats correspondants en fonction du meilleur paramètre\n",
        "print(\"best seasonality length s = \", best_s)\n",
        "uso_fcst_seasonnaive = [seasonalNaiveForecast(uso_2019, t, best_s) for t in range(6, 12)]\n",
        "uso_fcst_seasonnaive_mse = MSE(uso_fcst_seasonnaive, uso_2019[6:])\n",
        "uso_fcst_seasonnaive_mape = MAPE(uso_fcst_seasonnaive, uso_2019[6:])\n",
        "\n",
        "print(\"add results to the dictionary for the method: \", fcst_names[1])\n",
        "fcst_results[fcst_names[1]] = {'Forecast': uso_fcst_seasonnaive, \n",
        "                               'MSE': uso_fcst_seasonnaive_mse, \n",
        "                               'MAPE': uso_fcst_seasonnaive_mape}\n",
        "print(fcst_results)"
      ]
    },
    {
      "cell_type": "markdown",
      "metadata": {
        "id": "aQ86CRBrGvQ3"
      },
      "source": [
        "Nous appliquons maintenant la prévision de la moyenne mobile et recherchons la meilleure période de rétrospection $k$ entre 2 et 5 en fonction de MAPE."
      ]
    },
    {
      "cell_type": "code",
      "execution_count": 15,
      "metadata": {
        "id": "4_3HAluvGus5"
      },
      "outputs": [
        {
          "name": "stdout",
          "output_type": "stream",
          "text": [
            "k =  2\n",
            "MAPE : 0.044274444653136145\n",
            "k =  3\n",
            "MAPE : 0.03909421269515928\n",
            "k =  4\n",
            "MAPE : 0.042306982792044284\n",
            "k =  5\n",
            "MAPE : 0.04302070201943891\n",
            "best lookback length k =  3\n",
            "add results to the dictionary for the method:  MovingAvg\n",
            "{'Naive': {'Forecast': [96.32, 96.31, 91.68, 90.72, 90.4, 92.96], 'MSE': 19.940833333333348, 'MAPE': 0.030860385227782578}, 'SeasonNaive': {'Forecast': [88.8, 96.32, 96.31, 91.68, 90.72, 90.4], 'MSE': 43.62669999999999, 'MAPE': 0.057723114537770515}, 'MovingAvg': {'Forecast': [97.14666666666666, 93.81, 94.77, 92.90333333333335, 90.93333333333334, 91.36], 'MSE': 25.944644444444453, 'MAPE': 0.03909421269515928}}\n"
          ]
        }
      ],
      "source": [
        "best_k = 0  # initialiser la valeur initiale du meilleur k\n",
        "best_mape = 1.0  # initialiser la valeur initiale de MAPE (au maximum 100%)\n",
        "\n",
        "for k in range(2,6):\n",
        "    print(\"k = \", k)\n",
        "    uso_fcst_movingavg = [movingAvg(uso_2019, t, k) for t in range(6, 12)]\n",
        "    uso_fcst_movingavg_mape = MAPE(uso_fcst_movingavg, uso_2019[6:])\n",
        "    print(\"MAPE :\", uso_fcst_movingavg_mape)\n",
        "    if uso_fcst_movingavg_mape < best_mape:  # garder une trace du meilleur paramètre\n",
        "        best_k = k  # définir le nouveau best_k\n",
        "        best_mape = uso_fcst_movingavg_mape  # définir le nouveau best_mape\n",
        "\n",
        "# nous calculons à nouveau les prévisions et les résultats correspondants en fonction du meilleur paramètre\n",
        "print(\"best lookback length k = \", best_k)\n",
        "uso_fcst_movingavg = [movingAvg(uso_2019, t, best_k) for t in range(6, 12)]\n",
        "uso_fcst_movingavg_mse = MSE(uso_fcst_movingavg, uso_2019[6:])\n",
        "uso_fcst_movingavg_mape = MAPE(uso_fcst_movingavg, uso_2019[6:])\n",
        "\n",
        "print(\"add results to the dictionary for the method: \", fcst_names[2])\n",
        "fcst_results[fcst_names[2]] = {'Forecast': uso_fcst_movingavg, \n",
        "                               'MSE': uso_fcst_movingavg_mse, \n",
        "                               'MAPE': uso_fcst_movingavg_mape}\n",
        "print(fcst_results)"
      ]
    },
    {
      "cell_type": "markdown",
      "metadata": {
        "id": "L4NFbCEMHvxC"
      },
      "source": [
        "Enfin, nous appliquons la prévision de lissage exponentiel et recherchons le meilleur $\\alpha$ entre 0,1 et 0,9 avec un pas de 0,1 basé sur MAPE."
      ]
    },
    {
      "cell_type": "code",
      "execution_count": 16,
      "metadata": {
        "id": "R7ztDQp5H99s"
      },
      "outputs": [
        {
          "name": "stdout",
          "output_type": "stream",
          "text": [
            "alpha =  0.1\n",
            "MAPE : 0.03455040544430794\n",
            "alpha =  0.2\n",
            "MAPE : 0.03740061515515078\n",
            "alpha =  0.3\n",
            "MAPE : 0.038183022048744\n",
            "alpha =  0.4\n",
            "MAPE : 0.038291632918183605\n",
            "alpha =  0.5\n",
            "MAPE : 0.03781851315454915\n",
            "alpha =  0.6\n",
            "MAPE : 0.03707021866224728\n",
            "alpha =  0.7\n",
            "MAPE : 0.03611894256920158\n",
            "alpha =  0.8\n",
            "MAPE : 0.034869814598145234\n",
            "alpha =  0.9\n",
            "MAPE : 0.03315885402784039\n",
            "best alpha =  0.9\n",
            "add results to the dictionary for the method:  ExpSmooth\n",
            "{'Naive': {'Forecast': [96.32, 96.31, 91.68, 90.72, 90.4, 92.96], 'MSE': 19.940833333333348, 'MAPE': 0.030860385227782578}, 'SeasonNaive': {'Forecast': [88.8, 96.32, 96.31, 91.68, 90.72, 90.4], 'MSE': 43.62669999999999, 'MAPE': 0.057723114537770515}, 'MovingAvg': {'Forecast': [97.14666666666666, 93.81, 94.77, 92.90333333333335, 90.93333333333334, 91.36], 'MSE': 25.944644444444453, 'MAPE': 0.03909421269515928}, 'ExpSmooth': {'Forecast': [95.736392, 96.2526392, 92.13726392000001, 90.861726392, 90.44617263920001, 92.70861726392], 'MSE': 20.876522040985435, 'MAPE': 0.03315885402784039}}\n"
          ]
        }
      ],
      "source": [
        "best_alpha = 0  # initialiser la valeur initiale du meilleur alpha\n",
        "best_mape = 1.0  # initialiser la valeur initiale de MAPE (au maximum 100%)\n",
        "\n",
        "for alpha in [0.1 * i for i in range(1,10)]:  # créer une liste de [0,1,...,0,8] en utilisant la compréhension de liste\n",
        "    print(\"alpha = \", \"{:.1f}\".format(alpha))\n",
        "    uso_fcst_expsmooth = [exponentialSmoothing(uso_2019, t, alpha) for t in range(6, 12)]\n",
        "    uso_fcst_expsmooth_mape = MAPE(uso_fcst_expsmooth, uso_2019[6:])\n",
        "    print(\"MAPE :\", uso_fcst_expsmooth_mape)\n",
        "    if uso_fcst_expsmooth_mape < best_mape:  # garder une trace du meilleur paramètre\n",
        "        best_alpha = alpha  # définir le nouveau meilleur paramètre\n",
        "        best_mape = uso_fcst_expsmooth_mape  # définir le nouveau best_mape\n",
        "\n",
        "# nous calculons à nouveau les prévisions et les résultats correspondants en fonction du meilleur paramètre\n",
        "print(\"best alpha = \", best_alpha)\n",
        "uso_fcst_expsmooth = [exponentialSmoothing(uso_2019, t, best_alpha) for t in range(6, 12)]\n",
        "uso_fcst_expsmooth_mse = MSE(uso_fcst_expsmooth, uso_2019[6:])\n",
        "uso_fcst_expsmooth_mape = MAPE(uso_fcst_expsmooth, uso_2019[6:])\n",
        "\n",
        "print(\"add results to the dictionary for the method: \", fcst_names[3])\n",
        "fcst_results[fcst_names[3]] = {'Forecast': uso_fcst_expsmooth, \n",
        "                               'MSE': uso_fcst_expsmooth_mse, \n",
        "                               'MAPE': uso_fcst_expsmooth_mape}\n",
        "print(fcst_results)"
      ]
    },
    {
      "cell_type": "markdown",
      "metadata": {
        "id": "BYCnt37KKUOO"
      },
      "source": [
        "Nous pouvons ensuite imprimer tous les résultats sur plusieurs lignes pour MSE et MAPE. La méthode naïve s'avère être la meilleure pour cette série temporelle, suivie du lissage exponentiel avec $\\alpha = 0,9$ :"
      ]
    },
    {
      "cell_type": "code",
      "execution_count": 17,
      "metadata": {
        "id": "lj-AmgwsKTL_"
      },
      "outputs": [
        {
          "name": "stdout",
          "output_type": "stream",
          "text": [
            "Method: Naive , MSE =  19.94 , MAPE =  3.09 %\n",
            "Method: SeasonNaive , MSE =  43.63 , MAPE =  5.77 %\n",
            "Method: MovingAvg , MSE =  25.94 , MAPE =  3.91 %\n",
            "Method: ExpSmooth , MSE =  20.88 , MAPE =  3.32 %\n"
          ]
        }
      ],
      "source": [
        "for method in fcst_names:\n",
        "    print(\"Method:\", method, \n",
        "          \", MSE = \", \"{:.2f}\".format(fcst_results[method]['MSE']),\n",
        "          \", MAPE = \", \"{:.2f}\".format(fcst_results[method]['MAPE']*100),\"%\")"
      ]
    },
    {
      "cell_type": "markdown",
      "metadata": {
        "id": "f_-4145zOFmB"
      },
      "source": [
        "**Supplément :** nous pouvons également utiliser un processus similaire pour « combiner » deux (ou même plusieurs) prévisions en utilisant le poids $0 \\leq w \\leq 1$ qui peut être optimisé. Par exemple, nous pouvons combiner les meilleurs SeasonNaive et MovingAvg, c'est-à-dire $w\\times SeasonNaive + (1-w)\\times MovingAvg$ comme suit :"
      ]
    },
    {
      "cell_type": "code",
      "execution_count": 18,
      "metadata": {
        "id": "Qhh1fjebLU54"
      },
      "outputs": [
        {
          "name": "stdout",
          "output_type": "stream",
          "text": [
            "aggregation weight w =  0.0\n",
            "MAPE : 0.03909421269515928\n",
            "aggregation weight w =  0.1\n",
            "MAPE : 0.03835785738743272\n",
            "aggregation weight w =  0.2\n",
            "MAPE : 0.04050339965582033\n",
            "aggregation weight w =  0.3\n",
            "MAPE : 0.04265586401606416\n",
            "aggregation weight w =  0.4\n",
            "MAPE : 0.04480832837630788\n",
            "aggregation weight w =  0.5\n",
            "MAPE : 0.04696079273655168\n",
            "aggregation weight w =  0.6\n",
            "MAPE : 0.049113257096795426\n",
            "aggregation weight w =  0.7\n",
            "MAPE : 0.05126572145703925\n",
            "aggregation weight w =  0.8\n",
            "MAPE : 0.053418185817282936\n",
            "aggregation weight w =  0.9\n",
            "MAPE : 0.05557065017752679\n"
          ]
        }
      ],
      "source": [
        "best_w = -1  # initialiser la valeur initiale du meilleur w\n",
        "best_mape = 1.0  # initialiser la valeur initiale de MAPE (au maximum 100%)\n",
        "\n",
        "for w in [0.1 * i for i in range(10)]:  # créer une liste de [0.0,...,1.0] en utilisant la compréhension de liste\n",
        "    print(\"aggregation weight w = \", \"{:.1f}\".format(w))\n",
        "    uso_fcst_combined = [w * fcst_results['SeasonNaive']['Forecast'][t] + \n",
        "                         (1 - w) * fcst_results['MovingAvg']['Forecast'][t] \n",
        "                         for t in range(6)]\n",
        "    # imprimer(uso_fcst_combined)\n",
        "    uso_fcst_combined_mape = MAPE(uso_fcst_combined, uso_2019[6:])\n",
        "\n",
        "    print(\"MAPE :\", uso_fcst_combined_mape)\n",
        "    if uso_fcst_combined_mape < best_mape:  # garder une trace du meilleur paramètre\n",
        "        best_w = w  # définir le nouveau meilleur paramètre\n",
        "        best_mape = uso_fcst_combined_mape  # définir le nouveau best_mape"
      ]
    },
    {
      "cell_type": "markdown",
      "metadata": {
        "id": "9hyhV3VbQtF2"
      },
      "source": [
        "Vous pouvez voir que le meilleur MAPE (3,8 %) avec $w = 0,1$ est en fait meilleur que le meilleur des deux méthodes (voir $w=0,0$ et $w=1,0$) dans ce cas."
      ]
    },
    {
      "cell_type": "code",
      "execution_count": null,
      "metadata": {},
      "outputs": [],
      "source": []
    }
  ],
  "metadata": {
    "kernelspec": {
      "display_name": "Python 3 (ipykernel)",
      "language": "python",
      "name": "python3"
    },
    "language_info": {
      "codemirror_mode": {
        "name": "ipython",
        "version": 3
      },
      "file_extension": ".py",
      "mimetype": "text/x-python",
      "name": "python",
      "nbconvert_exporter": "python",
      "pygments_lexer": "ipython3",
      "version": "3.11.5"
    },
    "toc": {
      "base_numbering": 1,
      "nav_menu": {},
      "number_sections": true,
      "sideBar": true,
      "skip_h1_title": false,
      "title_cell": "Table of Contents",
      "title_sidebar": "Contents",
      "toc_cell": false,
      "toc_position": {},
      "toc_section_display": true,
      "toc_window_display": true
    }
  },
  "nbformat": 4,
  "nbformat_minor": 1
}
