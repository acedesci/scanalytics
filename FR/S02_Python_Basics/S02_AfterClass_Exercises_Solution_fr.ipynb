{
  "cells": [
    {
      "cell_type": "markdown",
      "metadata": {
        "id": "IKYXKpZ8wY8N"
      },
      "source": [
        "# S02 Exercices après le cours : Principes de base de Python et applications en logistique - Partie I (solution)"
      ]
    },
    {
      "cell_type": "markdown",
      "metadata": {
        "id": "pOrjKD2KwY8V"
      },
      "source": [
        "## Instructions\n",
        "\n",
        "La plupart des exercices présentés ici vous permettent de pratiquer la programmation Python de base pour certaines applications en gestion des opérations et de la logistique.\n",
        "\n",
        "Pour chaque exercice, vous avez une cellule de code pour la réponse en dessous, où vous devez écrire votre réponse entre les lignes contenant `### commencez votre code ici ###` et `### terminez votre code ici ###`. Votre code peut contenir une ou plusieurs lignes et vous pouvez exécuter cette cellule afin de terminer l'exercice. Pour exécuter la cellule, vous pouvez taper `Shift+Enter` ou appuyer sur le bouton de lecture dans la barre d'outils ci-dessus. Vos résultats apparaîtront juste en dessous de cette cellule de réponse.\n",
        "\n",
        "**REMARQUE :** Veuillez faire attention au nom de la variable de sortie que vous devez fournir sous chaque question. Vous devez utiliser le même nom de variable pour la sortie afin que le résultat puisse être imprimé correctement."
      ]
    },
    {
      "cell_type": "markdown",
      "metadata": {
        "id": "X_qLKP1iwY8W"
      },
      "source": [
        "## Exercice 1 : EOQ avec remises\n",
        "L'EOQ minimise généralement le coût total des stocks et le coût des commandes. Cependant, l’EOQ peut ne pas être optimal lorsque les remises sont prises en compte dans le calcul. Pour calculer l'EOQ lorsque des remises sont impliquées, nous devons effectuer les étapes suivantes :\n",
        "\n",
        "1. Pour chaque plage de quantités associée à une remise, calculez la quantité à commander de manière optimale Q* pour cette plage en fonction des paramètres correspondants à l'aide de l'équation EOQ ;\n",
        "2. **Si** Q* ne donne pas droit à une remise, choisissez la taille de commande la plus proche possible pour obtenir la remise et définissez Q* sur cette valeur, **sinon** la valeur Q* reste inchangée ;\n",
        "3. Calculez le coût total pour chaque Q* de l’étape 2 ;\n",
        "4. Sélectionnez le Q* qui donne le coût total le plus bas, qui est calculé par.\n",
        "\n",
        "$$TC=P \\cdot D + O\\left(\\frac{D}{Q}\\right) + H\\left(\\frac{Q}{2}\\right)$$\n",
        "\n",
        "- $TC$ : coût annuel total ;\n",
        "- $P$ : coût d’achat unitaire ;\n",
        "- $D$ : demande annuelle ;\n",
        "- $O$ : coût fixe par commande ;\n",
        "- $Q$ : quantité commandée (quantité $Q^*$ associée à une remise donnée) ;\n",
        "- $H$ : coût de stockage unitaire = $h \\cdot P$ où $h$ est le coût de stockage donné en % de la valeur du produit."
      ]
    },
    {
      "cell_type": "markdown",
      "metadata": {
        "id": "oi_jgQpQwY8W"
      },
      "source": [
        "#### Exercice 1.1 : Fonctions\n",
        "\n",
        "Veuillez créer une fonction `total_cost` qui renvoie le calcul du coût total en fonction des paramètres fournis à la fonction."
      ]
    },
    {
      "cell_type": "code",
      "execution_count": 7,
      "metadata": {
        "id": "cRdqU4jXwY8X"
      },
      "outputs": [],
      "source": [
        "### commencez votre code ici ###\n",
        "# définir une fonction pour calculer les coûts totaux\n",
        "def total_cost(demand, acq_cost, order_cost, holding_cost, order_qty):\n",
        "    \"\"\"\n",
        "    Compute the total costs as the sum of the total adquisition costs, ordering costs and inventory costs.\n",
        "    Parameters:\n",
        "        demand: (number) annual demand,\n",
        "        acq_cost: (number) unit acquisition/purchase cost,\n",
        "        order_cost: (number) fixed ordering cost,\n",
        "        holding_cost: (number) unit inventory holding cost,\n",
        "        order_qty: (number) quantity to order.\n",
        "    Return:\n",
        "        (number) total costs\n",
        "    \"\"\"\n",
        "    return (acq_cost * demand) + order_cost * (demand / order_qty) + holding_cost * (order_qty/2)\n",
        "### terminez votre code ici ###"
      ]
    },
    {
      "cell_type": "markdown",
      "metadata": {
        "id": "-uO4aSa2wY8X"
      },
      "source": [
        "#### Exercice 1.2 : Fonctions\n",
        "\n",
        "Créez une fonction qui calcule l'EOQ en fonction des paramètres suivants : (i) demande annuelle, (ii) coût fixe par commande, (iii) coût de stockage unitaire."
      ]
    },
    {
      "cell_type": "code",
      "execution_count": 8,
      "metadata": {
        "id": "Hlyx4y6YwY8Y"
      },
      "outputs": [],
      "source": [
        "### commencez votre code ici ###\n",
        "# définition de la fonction EOQ\n",
        "def EOQ(demand, order_cost, holding_cost):\n",
        "    \"\"\"\n",
        "    Compute the economic quantity to order in order to minimize the total costs\n",
        "    Parameters:\n",
        "        demand: (number) annual demand\n",
        "        order_cost: (number) unit ordering cost\n",
        "        holding_cost: (number different than 0) unit inventory cost\n",
        "    Return:\n",
        "        (number) optimal quantity to order\n",
        "    \"\"\"\n",
        "    return ((2 * demand * order_cost) / holding_cost) ** (1/2)\n",
        "### terminez votre code ici ###"
      ]
    },
    {
      "cell_type": "markdown",
      "metadata": {
        "id": "fEBxzT3SwY8Y"
      },
      "source": [
        "#### Exercice 1.3 : Instructions conditionnelles\n",
        "Maka Inc. exploite une chocolaterie à Montréal. Le chocolat est commandé auprès d'un fournisseur au Danemark. Normalement, le coût d'une unité de chocolat est de 5,00 $, mais une remise est accordée par le fabricant selon le tableau ci-dessous.\n",
        "\n",
        "| Quantité commandée | Rabais (\\%) | Prix réduit par unité ($\\$$) |\n",
        "| :---------------: | :------: | :--------------: |\n",
        "| 1 - 1000 | 0 | \\$5,00 |\n",
        "| 1001 - 3000 | 4 | \\$4,80 |\n",
        "| 3001 - $\\infty$ | 10 | \\$4,50 |\n",
        "\n",
        "La demande annuelle de Maka Inc. en chocolat est de 10 000 unités et le coût par commande est de 50 \\$. Le coût unitaire des stocks est estimé à 20 % du prix d'achat.\n",
        "\n",
        "Créez un programme qui détermine l'EOQ optimal et les coûts totaux en tenant compte de la politique de remise présentée dans le tableau ci-dessus.\n",
        "\n",
        "**Astuce :** utilisez les instructions conditionnelles et les fonctions créées dans les exercices 1.1 et 1.2 pour calculer l'EOQ et les coûts totaux pour chaque remise."
      ]
    },
    {
      "cell_type": "code",
      "execution_count": 9,
      "metadata": {
        "id": "PoaKWrFXwY8Y"
      },
      "outputs": [
        {
          "name": "stdout",
          "output_type": "stream",
          "text": [
            "The best order quantity with no discount is: 1000.0  and the total cost is : 51000.0\n",
            "The best order quantity with 0.04 discount is: 1020.6207261596576  and the total cost is : 48979.795897113276\n",
            "The best order quantity with 0.10 discount is: 3001  and the total cost is : 46517.06112962346\n",
            "The optimal EOQ with discounts is: 3001  and the total cost is : 46517.06112962346\n"
          ]
        }
      ],
      "source": [
        "### commencez votre code ici ###\n",
        "# initialisation de Q et des coûts en utilisant l'EOQ sans remise\n",
        "bestQ = EOQ(10000, 50, 0.2 * 5)\n",
        "bestCost = total_cost(10000, 5, 50, 0.2 * 5, bestQ)\n",
        "print(\"The best order quantity with no discount is:\", bestQ ,\" and the total cost is :\", bestCost)\n",
        "\n",
        "# Calcul de l'EOQ et des coûts pour une réduction de 4 %\n",
        "eoq = EOQ(10000, 50, 0.2 * 4.8)\n",
        "if 1001 <= eoq:  # vérifier si `eoq` est éligible à la remise de 4 %\n",
        "    order_qty = eoq\n",
        "else:\n",
        "    order_qty = 1001    # envisagez la plus petite taille de commande possible pour obtenir la remise de 4%\n",
        "cost = total_cost(10000, 4.8, 50, 0.2 * 4.8, order_qty)\n",
        "print(\"The best order quantity with 0.04 discount is:\", order_qty ,\" and the total cost is :\", cost)\n",
        "\n",
        "if cost < bestCost: # mettre à jour le meilleur Q et les meilleurs coûts en conséquence\n",
        "    bestQ = order_qty\n",
        "    bestCost = cost\n",
        "    \n",
        "# Calcul de l'EOQ et des coûts pour une remise de 10 %\n",
        "eoq = EOQ(10000, 50, 0.2 * 4.5)\n",
        "if 3001 <= eoq: # vérifier si `eoq` est éligible à la remise de 10 %\n",
        "    order_qty = eoq\n",
        "else:\n",
        "    order_qty = 3001       # envisagez la plus petite taille de commande possible pour obtenir la remise de 10 %\n",
        "cost = total_cost(10000, 4.5, 50, 0.2 * 4.5, order_qty)\n",
        "print(\"The best order quantity with 0.10 discount is:\", order_qty ,\" and the total cost is :\", cost)\n",
        "\n",
        "if cost < bestCost: # mettre à jour le meilleur Q et les meilleurs coûts en conséquence\n",
        "    bestQ = order_qty\n",
        "    bestCost = cost\n",
        "### terminez votre code ici ###\n",
        "   \n",
        "print(\"The optimal EOQ with discounts is:\", bestQ ,\" and the total cost is :\", bestCost)"
      ]
    },
    {
      "cell_type": "markdown",
      "metadata": {
        "id": "A5hY2T2o2yx0"
      },
      "source": [
        "## Exercice 2 : Modèle de diffusion de Bass\n",
        "\n",
        "Veuillez vous référer à nouveau au détail du modèle de diffusion de Bass dans le cours. Nous avons vu le calcul de la probabilité cumulative d'adoption par un individu à l'instant $t$ : $F(t)$. Un autre nombre est la probabilité d'adoption par un individu à l'instant $t$ qui est représentée par $f(t)$ (rappelons que $f(t) = \\frac{d}{dt}F(t)$).\n",
        "\n",
        "Étant donné les paramètres $p$ et $q$, en se basant sur les dérivées, nous pouvons calculer $f(t)$ en utilisant la fonction suivante :\n",
        "\n",
        "$$f(t) = \\frac{d}{dt} F(t) = \\frac{e^{((p+q)t)}p(p+q)^2}{[pe^{((p+q)t)}+q]^2} \\text{.}$$ \n",
        "\n",
        "Ce nombre $f(t)$ peut être utilisé efficacement pour indiquer si le produit est censé être dans une phase de croissance (augmentation de $f(t)$) ou de déclin (diminution de $f(t)$) à un moment donné."
      ]
    },
    {
      "cell_type": "markdown",
      "metadata": {
        "id": "JBnuOyFU9SXx"
      },
      "source": [
        "Étant donnée une valeur de $m$, $p$ et $q$, nous voulons déterminer la probabilité d'adoption par un individu en utilisant le modèle de Bass ci-dessus pour les années 1 à 5 pour les cas suivants :\n",
        "\n",
        "* Produit 1 : $m_1=1000$, $q_1 = 0,40$ et $p_1 = 0,10$\n",
        "* Produit 2 : $m_2=1000$, $q_2 = 0,10$ et $p_2 = 0,40$\n",
        "\n",
        "Veuillez déterminer la fonction permettant de calculer $f(t)$ en utilisant les boucles `for` ou `while`. Veuillez imprimer les résultats avec le format suivant :\n",
        "`\"Year[%t%]: probability of adoption f(t) = %ft%\", change in f(t) = %(ft - previous_ft)%)` où `%text%` représente la variable de sortie correspondante du calcul.\n",
        "\n",
        "\n",
        "<b>Astuce 1 :</b> Vous pouvez également utiliser la fonction `range()` dans la boucle `for`. Consultez [cette page](https://www.w3schools.com/python/ref_func_range.asp) pour en savoir plus sur la fonction `range()`. Par exemple, si vous souhaitez créer une séquence de 1 à 5, nous pouvons utiliser la fonction `range(1, 6)` (voir ci-dessous)."
      ]
    },
    {
      "cell_type": "code",
      "execution_count": 10,
      "metadata": {
        "id": "PmnGsO4XwY8f"
      },
      "outputs": [
        {
          "name": "stdout",
          "output_type": "stream",
          "text": [
            "1\n",
            "2\n",
            "3\n",
            "4\n",
            "5\n"
          ]
        }
      ],
      "source": [
        "for i in range(1,6):\n",
        "  print(i)"
      ]
    },
    {
      "cell_type": "markdown",
      "metadata": {
        "id": "aPZXuK83-xA1"
      },
      "source": [
        "<b>Astuce 2 :</b> Veuillez d'abord définir la fonction pour calculer f(t), puis appeler cette fonction dans la boucle."
      ]
    },
    {
      "cell_type": "code",
      "execution_count": 11,
      "metadata": {
        "id": "ncHUxAKO9u0R"
      },
      "outputs": [],
      "source": [
        "# Fonction pour calculer f(t)\n",
        "\n",
        "### commencez votre code ici ###\n",
        "import math\n",
        "def Bass_probability_ft(p, q, t):\n",
        "    return (math.exp((p+q)*t)*p*(p+q)**2)/(p*math.exp((p+q)*t)+q)**2\n",
        "### terminez votre code ici ###\n"
      ]
    },
    {
      "cell_type": "code",
      "execution_count": 12,
      "metadata": {
        "id": "tm5tBn-t_tzC"
      },
      "outputs": [
        {
          "name": "stdout",
          "output_type": "stream",
          "text": [
            "Year[ 1 ]: probability of adoption f(t) =  0.12917752476765507 , change in f(t) =  0.02917752476765506\n",
            "Year[ 2 ]: probability of adoption f(t) =  0.15056292870810317 , change in f(t) =  0.021385403940448106\n",
            "Year[ 3 ]: probability of adoption f(t) =  0.15574604829943434 , change in f(t) =  0.0051831195913311645\n",
            "Year[ 4 ]: probability of adoption f(t) =  0.14241427003438314 , change in f(t) =  -0.013331778265051192\n",
            "Year[ 5 ]: probability of adoption f(t) =  0.11630149735530057 , change in f(t) =  -0.026112772679082574\n"
          ]
        }
      ],
      "source": [
        "# Calculer f(t) pour le produit 1\n",
        "m_product_1 = 1000\n",
        "q_product_1 = 0.4\n",
        "p_product_1 = 0.1\n",
        "\n",
        "### commencez votre code ici ###\n",
        "for t in range(1,6):\n",
        "  ft_product_1 = Bass_probability_ft(p_product_1, q_product_1, t)\n",
        "  previous_ft_product_1 = Bass_probability_ft(p_product_1, q_product_1, t-1)\n",
        "  print(\"Year[\",t,\"]: probability of adoption f(t) = \", ft_product_1,\", change in f(t) = \", (ft_product_1-previous_ft_product_1))\n",
        "### terminez votre code ici ###"
      ]
    },
    {
      "cell_type": "code",
      "execution_count": 13,
      "metadata": {
        "id": "2EoGaKbV_7Fl"
      },
      "outputs": [
        {
          "name": "stdout",
          "output_type": "stream",
          "text": [
            "Year[ 1 ]: probability of adoption f(t) =  0.28582803718076366 , change in f(t) =  -0.11417196281923636\n",
            "Year[ 2 ]: probability of adoption f(t) =  0.19282539624836575 , change in f(t) =  -0.0930026409323979\n",
            "Year[ 3 ]: probability of adoption f(t) =  0.12510922772856034 , change in f(t) =  -0.06771616851980541\n",
            "Year[ 4 ]: probability of adoption f(t) =  0.07913882218462313 , change in f(t) =  -0.04597040554393721\n",
            "Year[ 5 ]: probability of adoption f(t) =  0.04926060123992242 , change in f(t) =  -0.02987822094470071\n"
          ]
        }
      ],
      "source": [
        "# Calculer f(t) pour le produit 2\n",
        "m_product_2 = 1000\n",
        "q_product_2 = 0.1\n",
        "p_product_2 = 0.4\n",
        "\n",
        "### commencez votre code ici ###\n",
        "for t in range(1,6):\n",
        "  ft_product_2 = Bass_probability_ft(p_product_2, q_product_2, t)\n",
        "  previous_ft_product_2 = Bass_probability_ft(p_product_2, q_product_2, t-1)\n",
        "  print(\"Year[\",t,\"]: probability of adoption f(t) = \", ft_product_2,\", change in f(t) = \", (ft_product_2-previous_ft_product_2))\n",
        "### terminez votre code ici ###"
      ]
    }
  ],
  "metadata": {
    "kernelspec": {
      "display_name": "Python 3 (ipykernel)",
      "language": "python",
      "name": "python3"
    },
    "language_info": {
      "codemirror_mode": {
        "name": "ipython",
        "version": 3
      },
      "file_extension": ".py",
      "mimetype": "text/x-python",
      "name": "python",
      "nbconvert_exporter": "python",
      "pygments_lexer": "ipython3",
      "version": "3.11.5"
    },
    "toc": {
      "base_numbering": 1,
      "nav_menu": {},
      "number_sections": true,
      "sideBar": true,
      "skip_h1_title": false,
      "title_cell": "Table of Contents",
      "title_sidebar": "Contents",
      "toc_cell": false,
      "toc_position": {},
      "toc_section_display": true,
      "toc_window_display": true
    }
  },
  "nbformat": 4,
  "nbformat_minor": 1
}
