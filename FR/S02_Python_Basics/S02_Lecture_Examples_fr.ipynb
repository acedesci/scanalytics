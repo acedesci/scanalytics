{
  "cells": [
    {
      "cell_type": "markdown",
      "metadata": {
        "id": "uFfgGurXPCpB"
      },
      "source": [
        "# S02 - Principes de base de Python et exemples de chaîne logistique - Partie I"
      ]
    },
    {
      "cell_type": "markdown",
      "metadata": {
        "id": "PCLxQfghU9Jv"
      },
      "source": [
        "Sujets de programmation abordés dans cette section :\n",
        "* Fonctions Python\n",
        "* Déclarations conditionnelles\n",
        "* Itérations\n",
        "\n",
        "Voici quelques exemples de chaîne logistique :\n",
        "* EOQ avec remises\n",
        "* Modèle de diffusion de Bass"
      ]
    },
    {
      "cell_type": "markdown",
      "metadata": {
        "id": "W24piI9sPCpD"
      },
      "source": [
        "## Fonctions Python"
      ]
    },
    {
      "cell_type": "markdown",
      "metadata": {
        "id": "dCv87JLZPCpE"
      },
      "source": [
        "Une fonction est un bloc permettant de transformer [paramètres d'entrée] -> [paramètres de sortie]. Nous utilisons souvent une fonction lorsqu'une certaine opération est utilisée plusieurs fois ou utilisée dans plusieurs processus. Une sortie peut également être renvoyée par une fonction.\n",
        "\n",
        "Une fonction comprend généralement les composants suivants :\n",
        "* mot-clé `def`\n",
        "* nom de la fonction\n",
        "* parenthèses\n",
        "* paramètres/arguments séparés par une virgule\n",
        "* deux points\n",
        "* code de la fonction avec indentation\n",
        "* instruction `return`\n",
        "\n",
        "Par exemple, une fonction `square` peut s’écrire comme suit :\n",
        "```\n",
        "def square(x):\n",
        "    y = x ** 2    \n",
        "    return y\n",
        "```\n",
        "\n",
        "\n",
        "L'appel d'une fonction peut être effectué en indiquant le nom de la fonction et en fournissant les arguments requis.\n",
        "\n",
        "Par exemple, pour utiliser la fonction `square` pour calculer la valeur au carré de 10, vous pouvez procéder comme suit (cela doit être appelé strictement après que la fonction a été définie et exécutée dans un notebook). La ligne de code suivante donnera le résultat `squared_value = 100` :\n",
        "```\n",
        "squared_value = square(10)\n",
        "```\n",
        "\n",
        "**REMARQUE :** veuillez également consulter https://www.w3schools.com/python/python_functions.asp pour plus de descriptions et d'exemples.\n",
        "\n",
        "Dans ce cours, nous utiliserons la fonction en particulier lorsque certaines opérations ou processus seront utilisés plusieurs fois ou devront être organisés pour éviter l'encombrement."
      ]
    },
    {
      "cell_type": "markdown",
      "metadata": {
        "id": "kU7-GXNnUFMx"
      },
      "source": [
        "## Module `math`\n",
        "\n",
        "Le module `math` donne accès à plusieurs fonctions mathématiques telles que la permutation (`math.perm()`), la racine carrée (`math.sqrt()`), l'arrondi supérieur et inférieur (`math.ceil()` et `math.floor()`, notez que la fonction d'arrondi normale `round()` peut être appelée directement sans utiliser le module `math`, voir [ce lien](https://www.w3schools.com/python/ref_func_round.asp)). Vous pouvez consulter [ce lien](https://www.w3schools.com/python/ref_func_round.asp) pour plus d'informations sur les fonctions du module `math`.\n",
        "\n",
        "Afin d'utiliser les modules en Python pour pouvoir utiliser les fonctions prédéfinies, nous pouvons simplement « importer » le module en utilisant le nom du module avant de l'utiliser (généralement nous importons au début du code), c'est-à-dire `import math` puis nous pouvons appeler la fonction `math.sqrt()`."
      ]
    },
    {
      "cell_type": "markdown",
      "metadata": {
        "id": "mQeW-Ta_PCpF"
      },
      "source": [
        "### Exemple 1.1 : fonction EOQ\n",
        "En utilisant la demande annuelle $D$, le coût de stockage par unité $H$ et le coût de commande fixe $O$, définissez une fonction qui calcule la quantité économique à commander (EOQ).\n",
        "\n",
        "$$ EOQ=\\sqrt{\\frac{2DO}{H}}$$"
      ]
    },
    {
      "cell_type": "markdown",
      "metadata": {
        "id": "tkc-zSUmPCpF"
      },
      "source": [
        "Ensuite, appelez cette fonction pour calculer l'EOQ en supposant $D=600$ unités par an, $O=\\$15$ par commande et $H=\\$1.2$ par unité détenue en stock.\n",
        "\n",
        "**REMARQUE :** les guillemets triples `\"\"\"...\"\"\"` sont souvent utilisés pour les commentaires sur plusieurs lignes et, en pratique, on ajoute souvent les descriptions des paramètres, des arguments et de la valeur de retour de chaque fonction. C'est ce qu'on appelle un docstring."
      ]
    },
    {
      "cell_type": "code",
      "execution_count": null,
      "metadata": {
        "id": "BIP_x-KOPCpG",
        "scrolled": true
      },
      "outputs": [],
      "source": [
        "# définition de la fonction EOQ\n",
        "\n",
        "### INSÉRER votre code ici ###\n",
        "\n",
        "eoq_value = EOQ(600, 15, 1.2)  \n",
        "\n",
        "print('EOQ = ', eoq_value)"
      ]
    },
    {
      "cell_type": "markdown",
      "metadata": {
        "id": "hyt7OwNrPCpH"
      },
      "source": [
        "### Exemple 1.2 : EOQ arrondi au supérieur\n",
        "Définissez une fonction qui donne l'EOQ sous forme de quantité entière (arrondie à l'unité supérieure). Utilisez les fonctions du module `math` de Python."
      ]
    },
    {
      "cell_type": "code",
      "execution_count": null,
      "metadata": {
        "id": "2wvoINYrPCpH"
      },
      "outputs": [],
      "source": [
        "# définition de la fonction EOQ avec un nombre arrondi\n",
        "\n",
        "### INSÉRER votre code ici ###\n",
        "\n",
        "# appel de la fonction ceil_EOQ\n",
        "ceiling_eoq = ceil_EOQ(demand=600, order_cost=15, holding_cost=1.2)\n",
        "print('Integer EOQ  = ', ceiling_eoq, ',', type(ceiling_eoq))"
      ]
    },
    {
      "cell_type": "markdown",
      "metadata": {
        "id": "uYRC0f3vPCpJ"
      },
      "source": [
        "## Déclarations conditionnelles"
      ]
    },
    {
      "cell_type": "markdown",
      "metadata": {
        "id": "pwVqcLmlPCpK"
      },
      "source": [
        "Les expressions conditionnelles sont des outils permettant de modéliser le comportement d'un programme. L'élément testé est appelé une expression booléenne, c'est-à-dire qu'il peut prendre une valeur vraie (`True`) ou une valeur fausse (`False`). Dans cette expression, plusieurs éléments peuvent être testés à l'aide d'opérateurs de comparaison (`==`,`!=`,`>`, `<`,`>=`, `<=`) et d'opérateurs logiques (`and`, `or`, `not`). Vous pouvez consulter [cette page](https://www.w3schools.com/python/python_conditions.asp) pour plus d'informations.\n",
        "\n",
        "**REMARQUE :** l'instruction conditionnelle est équivalente à une fonction SI dans Excel. Ce sont des instructions très importantes en programmation."
      ]
    },
    {
      "cell_type": "markdown",
      "metadata": {
        "id": "9zV9udWEPCpL"
      },
      "source": [
        "### Exemple 2.1 : EOQ avec remises\n",
        "L'EOQ minimise généralement le coût total des stocks et le coût des commandes. Cependant, l’EOQ peut ne pas être optimal lorsque les remises sont prises en compte dans le calcul. Pour calculer l'EOQ lorsque des remises sont impliquées, nous devons effectuer les étapes suivantes :\n",
        "\n",
        "1. Pour chaque plage de quantités associée à une remise, calculez la quantité à commander de manière optimale Q* pour cette plage en fonction des paramètres correspondants à l'aide de l'équation EOQ ;\n",
        "2. **Si** Q* ne donne pas droit à une remise, choisissez la taille de commande la plus proche possible pour obtenir la remise et définissez Q* sur cette valeur, **sinon** la valeur Q* reste inchangée ;\n",
        "3. Calculez le coût total pour chaque Q* de l’étape 2 ;\n",
        "4. Sélectionnez le Q* qui donne le coût total le plus bas, qui est calculé par.\n",
        "\n",
        "$$TC=P \\cdot D + O\\left(\\frac{D}{Q}\\right) + H\\left(\\frac{Q}{2}\\right)$$\n",
        "\n",
        "- $TC$ : coût annuel total ;\n",
        "- $P$ : coût d’achat unitaire ;\n",
        "- $D$ : demande annuelle ;\n",
        "- $O$ : coût fixe par commande ;\n",
        "- $Q$ : quantité commandée (quantité $Q^*$ associée à une remise donnée) ;\n",
        "- $H$ : coût de stockage unitaire = $h \\cdot P$ où $h$ est le coût de stockage donné en % de la valeur du produit."
      ]
    },
    {
      "cell_type": "markdown",
      "metadata": {
        "id": "nFCzgUvYPCpM"
      },
      "source": [
        "**Exemple :** Déterminez la <u>quantité de commande optimale</u> à partir des informations suivantes. La demande est prévue à 485 unités par an, le coût d'achat est de 31 \\$ par unité, le coût de stockage est de 5 % du prix d'achat et le coût de commande est de 280 \\$. Le fournisseur offre désormais une remise de 5 % sur les commandes supérieures à 500 unités.\n",
        "\n",
        "Veuillez créer une fonction `total_cost` qui renvoie le calcul du coût total en fonction des paramètres fournis à la fonction."
      ]
    },
    {
      "cell_type": "code",
      "execution_count": null,
      "metadata": {
        "id": "9MBbAFCqPCpN"
      },
      "outputs": [],
      "source": [
        "# définir une fonction total_cost(...) pour calculer les coûts totaux\n",
        "\n",
        "### INSÉRER votre code ici ###"
      ]
    },
    {
      "cell_type": "code",
      "execution_count": null,
      "metadata": {
        "id": "_L-y-El3-5TO"
      },
      "outputs": [],
      "source": [
        "# initialiser les paramètres\n",
        "D = 485\n",
        "O = 280\n",
        "h = 0.05\n",
        "P = 31\n",
        "\n",
        "# EOQ 1 : détermination de l'EOQ et des coûts totaux sans remise (remise 0 %)\n",
        "### INSÉRER votre code ici ###\n",
        "\n",
        "print('The order quantity with no discount = ', eoq_no_discount, '; and the corresponding total cost = ', cost_no_discount) "
      ]
    },
    {
      "cell_type": "code",
      "execution_count": null,
      "metadata": {
        "id": "STtI1nh_AFuu"
      },
      "outputs": [],
      "source": [
        "# Définissez la quantité et le coût optimaux (ces valeurs seront mises à jour par la suite en fonction de la valeur optimale)\n",
        "optimal_order_qty = eoq_no_discount\n",
        "optimal_total_cost = cost_no_discount"
      ]
    },
    {
      "cell_type": "code",
      "execution_count": null,
      "metadata": {
        "id": "9oVc_054e2_5"
      },
      "outputs": [],
      "source": [
        "# EOQ 2 : calcul de l'EOQ pour une remise de 5 %\n",
        "### INSÉRER votre code ici ###\n",
        "\n",
        "print('The EOQ using the parameters with 5% discount ', eoq_discount)\n",
        "\n",
        "# vérifier si `eoq_discount` ne donne pas droit à la remise de 5 % et définir eoq_discount sur la quantité la plus faible possible dans ce cas\n",
        "### INSÉRER votre code ici ###\n",
        "\n",
        "# calcul des coûts totaux avec remise de 5%\n",
        "### INSÉRER votre code ici ###\n",
        "\n",
        "print('The order quantity with discount = ', eoq_discount, '; and the corresponding total cost = ', cost_discount)"
      ]
    },
    {
      "cell_type": "code",
      "execution_count": null,
      "metadata": {
        "id": "YLYsX-EVe5wA"
      },
      "outputs": [],
      "source": [
        "# choisir l'option avec le moindre coût\n",
        "### INSÉRER votre code ici ###\n",
        "        \n",
        "print('The optimal order quantity = ', optimal_order_qty, '; and the corresponding total cost = ', optimal_total_cost)   "
      ]
    },
    {
      "cell_type": "markdown",
      "metadata": {
        "id": "jHDcX1-5PCpS"
      },
      "source": [
        "## Boucles `for` et `while`\n",
        "\n",
        "Les boucles `for` et `while` sont également des composantes de programmation essentiels que vous devez exploiter efficacement. Dans ce contexte, les boucles sont utilisées pour calculer ou effectuer des opérations de manière **itérative**.\n",
        "\n",
        "Vous pouvez vous référer à [ce lien](https://www.w3schools.com/python/python_for_loops.asp) pour les boucles `for` et à [ce lien](https://www.w3schools.com/python/python_for_loops.asp) pour les boucles `while` pour plus d'exemples.\n",
        "\n",
        "### Exemple 3.1 : Modèle de diffusion de Bass\n",
        "\n",
        "Le modèle de diffusion de Bass est l'un des modèles les plus largement adoptés pour prédire la demande (ou la clientèle) tout au long du cycle de vie d'un produit. Ce modèle est particulièrement utile lorsqu'un nouveau produit est lancé sur le marché. Le contexte du modèle est fourni ci-dessous.\n",
        "\n",
        "\n",
        "**Brève description du modèle** : Dans ce modèle, le nombre cumulé d'adoptants (personnes ayant acheté/adopté le produit) $S(t)$ depuis le début (temps 0) jusqu'à l'instant $t$ est décrit par $S(t) = m\\times F(t)$ où $m$ est la taille du marché (le nombre total estimé de clients potentiels) et $F(t)$ est la probabilité <i>cumulative</i> qu'un individu (client potentiel) ait déjà adopté le produit à l'instant $t$ (qui doit être calculée). En d'autres termes, $F(t)$ représente la part du marché potentiel $m$ qui a adopté à l'instant $t$. Ainsi, la valeur $1 - F(t)$ représente la part de $m$ qui n'a <i>pas encore</i> adopté le produit à l'instant $t$.\n",
        "\n",
        "Par conséquent, nous pouvons également écrire $f(t) = \\frac{d}{dt}F(t)$ où $f(t)$ est la probabilité qu'un individu adopte le produit à l'instant $t$. Le modèle de Bass, proposé par Frank Bass, est décrit comme suit :\n",
        "$$\\frac{f(t)}{1-F(t)} = \\frac{\\frac{d}{dt}F(t)}{1-F(t)} = p + qF(t)$$\n",
        "où\n",
        "* $p$ est le coefficient d'innovation\n",
        "* $q$ est le coefficient d'imitation\n",
        "\n",
        "Cette équation indique que le taux d'adoption pour ceux qui n'ont pas adopté avant le temps $t$ est égal à $p+qF(t)$. On peut observer que $p$ n'est *pas* associé au statut global du marché (qui est capturé par $F(t)$) et représente le taux d'adoption d'un individu qui est *indépendant* des autres, alors que $q$ est associé au statut du marché $F(t)$ et représente l'adoption influencée par d'autres adoptants (par imitation). Ces valeurs $p$ et $q$ sont utilisées par les spécialistes du marketing/planificateurs pour décrire le comportement de la clientèle pour leur nouveau produit.\n",
        "\n",
        "<i><b>Remarque :</b> En pratique, les valeurs de $p$ et $q$ sont estimées à l'aide d'une technique de régression appliquée aux produits *similaires* déjà vendus sur le marché (où les données sont déjà disponibles). Dans cet exemple, nous supposons que $m$, $p$ et $q$ sont déjà disponibles pour le calcul. Nous reviendrons sur l'estimation des paramètres ($p$, $q$ et $m$) de ce modèle à partir de données de ventes lors d'une séance ultérieure.</i>\n",
        "\n",
        "Sur la base de la dérivée de la fonction de diffusion de Bass ci-dessus (détails omis ici), nous pouvons obtenir $F(t)$ en fonction de $p$ et $q$ comme suit :\n",
        "\n",
        "$$F(t) = \\frac{1-e^{-(p+q)t}}{1+\\frac{q}{p}e^{-(p+q)t}} $$\n",
        "\n",
        "Par conséquent, le total cumulé des adoptants (demande) $S(t)$ jusqu'à $t$ peut être calculé comme $S(t) = m\\times F(t)$. Vous trouverez plus de détails sur le modèle de diffusion de Bass sur [ce lien](https://srdas.github.io/MLBook/productForecastingBassModel.html) et [ce lien](https://srdas.github.io/MLBook/productForecastingBassModel.html).\n",
        "\n",
        "<b>Référence</b> : Bass, F. M. (1969). Une nouvelle croissance de produits pour les biens de consommation durables. Management science, 15(5), 215-227.\n",
        "\n",
        "\n"
      ]
    },
    {
      "cell_type": "markdown",
      "metadata": {
        "id": "1A_UHoYE5VpK"
      },
      "source": [
        "Étant donné une valeur de $m$, $p$ et $q$, nous voulons déterminer le nombre d'adoptions en utilisant le modèle de Bass ci-dessus pour les années 1 à 5 pour les cas suivants :\n",
        "\n",
        "* Produit 1 : $m_1=1000$, $q_1 = 0,40$ et $p_1 = 0,10$\n",
        "* Produit 2 : $m_2=1000$, $q_2 = 0,10$ et $p_2 = 0,40$\n",
        "\n",
        "Tout d'abord, nous déterminons la fonction pour calculer $F(t)$"
      ]
    },
    {
      "cell_type": "code",
      "execution_count": null,
      "metadata": {
        "id": "aOVNNIaRPCpT",
        "scrolled": true
      },
      "outputs": [],
      "source": [
        "import math\n",
        "\n",
        "def Bass_cumulative_probability_Ft(p, q, t):\n",
        "    return ### INSÉRER votre code ici ###"
      ]
    },
    {
      "cell_type": "markdown",
      "metadata": {
        "id": "Jcglfsrw6Tzj"
      },
      "source": [
        "Ensuite, nous effectuons les calculs et imprimons le nombre d'adoptions pour chaque année en utilisant la boucle `for` :\n",
        "\n"
      ]
    },
    {
      "cell_type": "code",
      "execution_count": null,
      "metadata": {
        "id": "mS8rxYW76ks9"
      },
      "outputs": [],
      "source": [
        "m_product_1 = 1000\n",
        "q_product_1 = 0.4\n",
        "p_product_1 = 0.1\n",
        "\n",
        "print(\"Cumulative adoptions (demand) prediction for product 1\")\n",
        "# Notez que [] définit une liste qui contient des valeurs ordonnées\n",
        "# Nous discuterons plus en détail de cette structure de données lors de la prochaine séance\n",
        "### INSÉRER votre code ici ###"
      ]
    },
    {
      "cell_type": "code",
      "execution_count": null,
      "metadata": {
        "id": "zqdvu4ac-XGE"
      },
      "outputs": [],
      "source": [
        "m_product_2 = 1000\n",
        "q_product_2 = 0.1\n",
        "p_product_2 = 0.4\n",
        "\n",
        "print(\"Cumulative adoptions (demand) prediction for product 2\")\n",
        "### INSÉRER votre code ici ###"
      ]
    },
    {
      "cell_type": "markdown",
      "metadata": {
        "id": "70L-TrVsPCpU"
      },
      "source": [
        "### Exemple 3.2 : Diffusion de Bass à l'aide de boucles `while`\n",
        "\n",
        "Une boucle `while` doit être définie avec une condition et la boucle continue jusqu'à ce que la condition ne soit plus remplie.\n",
        "\n",
        "Répétez l'exercice 3.1 en utilisant une boucle `while`."
      ]
    },
    {
      "cell_type": "code",
      "execution_count": null,
      "metadata": {
        "id": "8LpzY2R0PCpV"
      },
      "outputs": [],
      "source": [
        "t = 1 # définir la valeur initiale de t\n",
        "print(\"Cumulative adoptions (demand) prediction for product 1\")\n",
        "### INSÉRER votre code ici ###"
      ]
    },
    {
      "cell_type": "code",
      "execution_count": null,
      "metadata": {
        "id": "VeEYIOJ_BboS"
      },
      "outputs": [],
      "source": [
        "t = 1 # définir la valeur initiale de t\n",
        "print(\"Cumulative adoptions (demand) prediction for product 2\")\n",
        "### INSÉRER votre code ici ###"
      ]
    },
    {
      "cell_type": "code",
      "execution_count": null,
      "metadata": {},
      "outputs": [],
      "source": []
    }
  ],
  "metadata": {
    "kernelspec": {
      "display_name": "Python 3 (ipykernel)",
      "language": "python",
      "name": "python3"
    },
    "language_info": {
      "codemirror_mode": {
        "name": "ipython",
        "version": 3
      },
      "file_extension": ".py",
      "mimetype": "text/x-python",
      "name": "python",
      "nbconvert_exporter": "python",
      "pygments_lexer": "ipython3",
      "version": "3.11.5"
    },
    "toc": {
      "base_numbering": 1,
      "nav_menu": {},
      "number_sections": true,
      "sideBar": true,
      "skip_h1_title": false,
      "title_cell": "Table of Contents",
      "title_sidebar": "Contents",
      "toc_cell": false,
      "toc_position": {
        "height": "calc(100% - 180px)",
        "left": "10px",
        "top": "150px",
        "width": "247.102px"
      },
      "toc_section_display": true,
      "toc_window_display": true
    }
  },
  "nbformat": 4,
  "nbformat_minor": 1
}
