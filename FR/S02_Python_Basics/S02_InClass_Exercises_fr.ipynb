{
  "cells": [
    {
      "cell_type": "markdown",
      "metadata": {
        "id": "dusMrXrrgEQw"
      },
      "source": [
        "# S02 Exercices en classe : Principes de base de Python et applications en logistique - Partie I"
      ]
    },
    {
      "cell_type": "markdown",
      "metadata": {
        "id": "WS5Js8FsgEQ2"
      },
      "source": [
        "## Instructions\n",
        "\n",
        "La plupart des exercices présentés ici vous permettent de pratiquer la programmation Python de base pour certaines applications en gestion des opérations et de la logistique.\n",
        "\n",
        "Pour chaque exercice, vous avez une cellule de code pour la réponse en dessous, où vous devez écrire votre réponse entre les lignes contenant `### commencez votre code ici ###` et `### terminez votre code ici ###`. Votre code peut contenir une ou plusieurs lignes et vous pouvez exécuter cette cellule afin de terminer l'exercice. Pour exécuter la cellule, vous pouvez taper `Shift+Enter` ou appuyer sur le bouton de lecture dans la barre d'outils ci-dessus. Vos résultats apparaîtront juste en dessous de cette cellule de réponse.\n",
        "\n",
        "**REMARQUE :** Veuillez prêter attention au nom de la variable de sortie que vous devez fournir sous chaque question. Vous devez utiliser le même nom de variable pour la sortie afin que le résultat puisse être imprimé correctement."
      ]
    },
    {
      "cell_type": "markdown",
      "metadata": {
        "id": "QbXIY1UDgEQ3"
      },
      "source": [
        "## Fonctions et module `math`"
      ]
    },
    {
      "cell_type": "markdown",
      "metadata": {
        "id": "TRWeE4hKgEQ4"
      },
      "source": [
        "### Exercice 1.1 : Système de points de commande (ROP)\n",
        "Le modèle EOQ répond à la question « combien commander ? ». Le point de réapprovisionnement (ROP) indique « quand » commander. Le ROP est présenté comme le niveau de stock qui signale le moment où il est temps de passer une commande. Par exemple, ROP=1 000 signifie qu’une nouvelle commande doit être passée dès que le stock disponible atteint 1 000 unités.\n",
        "Le ROP est introduit pour prendre en compte le *délai de livraison*, c'est-à-dire le temps entre la passation et la réception d'une commande.\n",
        "\n",
        "En supposant une demande constante et un délai de livraison fixe, le ROP est calculé comme suit :\n",
        "\n",
        "$$ROP=dL,$$\n",
        "\n",
        "où $d$ est la demande quotidienne et $L$ est le délai de livraison (en jours)."
      ]
    },
    {
      "cell_type": "markdown",
      "metadata": {
        "id": "leTuH751gEQ4"
      },
      "source": [
        "\n",
        "<div>\n",
        "<img src=\"attachment:ROP-2.PNG\" width=\"700\">\n",
        "</div>"
      ]
    },
    {
      "cell_type": "markdown",
      "metadata": {
        "id": "FlFz2elDgEQ5"
      },
      "source": [
        "Créez une fonction qui renvoie le ROP à partir de deux arguments : (i) la demande journalière $d$ et (ii) le délai de livraison en jours $L$. Nommez cette fonction `ROP`. Ensuite, appelez cette fonction pour calculer le ROP pour la demande $d=450$ et $L=3$."
      ]
    },
    {
      "cell_type": "code",
      "execution_count": null,
      "metadata": {
        "colab": {
          "base_uri": "https://localhost:8080/"
        },
        "id": "Y4PN7QLSgEQ5",
        "outputId": "8b52b342-09b5-4001-d98a-a1ac84a261f0"
      },
      "outputs": [],
      "source": [
        "### commencez votre code ici ###\n",
        "\n",
        "### terminez votre code ici ###\n",
        "\n",
        "# appel de la fonction ROP en supposant d=450 et leadtime=3\n",
        "print(\"The ROP is: \", ROP(450, 3))"
      ]
    },
    {
      "cell_type": "markdown",
      "metadata": {
        "id": "xRhADX1HgEQ6"
      },
      "source": [
        "### Exercice 1.2 : ROP avec stock de sécurité (SS)\n",
        "\n",
        "Un aspect important à prendre en compte dans le système ROP est la variation de la demande pendant le délai de livraison. Si la demande réelle pendant le délai de livraison est supérieure à $d$, le stock sera épuisé avant l'arrivée de la prochaine commande. Afin de calculer correctement le ROP dans ce cas, le niveau du stock de sécurité doit être pris en compte."
      ]
    },
    {
      "cell_type": "markdown",
      "metadata": {
        "id": "J0DtkYfMgEQ7"
      },
      "source": [
        "Le ROP dans ce cas est calculé comme suit :\n",
        "\n",
        "$$ROP \\,(\\text{avec SS}) = \\bar{d}L + SS,$$\n",
        "\n",
        "où:\n",
        "- $\\bar{d}$ : demande moyenne,\n",
        "- $L$ : délai de livraison,\n",
        "- $SS$ : stock de sécurité.\n",
        "\n",
        "Une façon de calculer le stock de sécurité consiste à déterminer votre niveau de service, la moyenne et l'écart type de la demande. Si l'on suppose que la demande est distribuée normalement pendant le délai de livraison, le stock de sécurité peut être calculé comme suit :\n",
        "\n",
        "$$SS=Z\\sigma\\sqrt{L},$$\n",
        "\n",
        "où:\n",
        "- coefficient $Z$ de la table de distribution normale correspondant au niveau de service souhaité,\n",
        "- $\\sigma$ : écart type de la demande.\n",
        "\n",
        "Créez une fonction nommée `safety_stock` qui calcule le stock de sécurité sous forme d'un montant entier (arrondi au supérieur) à partir de trois arguments : (i) le délai de livraison, (ii) l'écart type de la demande et (iii) la valeur $Z$. Appelez la fonction `safety_stock` et la fonction `ROP` créées dans l'exercice 1.2 pour calculer le ROP avec un stock de sécurité étant donné la situation suivante : $\\bar{d}=450$, $\\sigma=10$, $L=3$ et $Z=1,64$ (ce qui correspond au niveau de service de 95 %).\n"
      ]
    },
    {
      "cell_type": "markdown",
      "metadata": {
        "id": "P4GaKeRYgEQ7"
      },
      "source": [
        "<b>Astuce :</b> vous pouvez utiliser les fonctions `math.sqrt` et `math.ceil` du module `math`."
      ]
    },
    {
      "cell_type": "code",
      "execution_count": null,
      "metadata": {
        "colab": {
          "base_uri": "https://localhost:8080/"
        },
        "id": "KqAMDXvegEQ7",
        "outputId": "ecbab96c-dbab-4ce4-aae4-a9ff84af5876"
      },
      "outputs": [],
      "source": [
        "import math  # importation d'un module mathématique\n",
        "\n",
        "### commencez votre code ici ###\n",
        "\n",
        "### terminez votre code ici ###\n",
        "\n",
        "print('The ROP with safety stock is: ',  ROP(450, 3) + safety_stock(3, 10, 1.64))"
      ]
    },
    {
      "cell_type": "markdown",
      "metadata": {
        "id": "v61syZkhgEQ8"
      },
      "source": [
        "## Instructions conditionnelles\n"
      ]
    },
    {
      "cell_type": "markdown",
      "metadata": {
        "id": "kpuBOID6gEQ8"
      },
      "source": [
        "### Exercice 2.1 : Politique de remise\n",
        "\n",
        "En utilisation des instructions conditionnelles (`if`, `elif`, `else`), des opérations de comparaison (`==`,`!=`,`>`, `<`,`>=`, `<=`) et/ou des opérations logiques (`and`, `or`, `not`), créez une fonction qui prend comme argument la quantité commandée par un client et renvoie la remise à appliquer. Les réductions sont déterminées selon le tableau ci-dessous.\n",
        "\n",
        "| Quantité commandée | Remise à appliquer |\n",
        "| :------------: | :-------------------: |\n",
        "|  1 - 499 |               0 % |\n",
        "| 500 - 999 |               4 % |\n",
        "| 1000 - 1499 |               6 % |\n",
        "| 1500 - 1999 |               9 % |\n",
        "| 2000 - autre | 12 %|\n"
      ]
    },
    {
      "cell_type": "code",
      "execution_count": null,
      "metadata": {
        "colab": {
          "base_uri": "https://localhost:8080/"
        },
        "id": "xTbhsqcPgEQ8",
        "outputId": "d4da8887-5598-467c-b55a-a2cca76a3973"
      },
      "outputs": [],
      "source": [
        "### commencez votre code ici ###\n",
        "\n",
        "### terminez votre code ici ###\n",
        "\n",
        "print('The discount of an order of %d units is: %f percent' %(1365, discount_to_apply(1365)))"
      ]
    },
    {
      "cell_type": "markdown",
      "metadata": {
        "id": "hH_pPW-TgEQ_"
      },
      "source": [
        "## Boucles `for` et `while`\n"
      ]
    },
    {
      "cell_type": "markdown",
      "metadata": {
        "id": "-gvGvBU3gEQ_"
      },
      "source": [
        "### Exercice 3.1 : Demande moyenne\n",
        "Calculez la demande moyenne mensuelle en tenant compte des données ci-dessous.\n",
        "\n",
        "| Mois | Janvier | Février | Mars | Avril | Juin | Juillet | Août | Septembre | Octobre | Novembre | Décembre|\n",
        "| :---: | :---: | :---: | :---: | :---: | :---:| :---: | :---: | :---: | :---: | :---: | :---: |\n",
        "| **Demande** | 12530 | 2100 | 1956 | 1523 | 1896 | 956 | 998 | 1632 | 1563 | 2531 | 2100 |\n",
        "\n",
        "\n",
        "Veuillez calculer la moyenne arithmétique et la moyenne géométrique de ces données de demande en utilisant la boucle `for` ou `while`.\n",
        "\n",
        "**ASTUCE :** La moyenne arithmétique des données $i = 1,...,n$ est égale à $A = \\frac{\\sum_{i=1}^n{x_i}}{n}$ tandis que la moyenne géométrique est égale à $G = \\sqrt[n]{x_1x_2\\cdot\\cdot\\cdot x_n}$\n",
        "\n",
        "**ASTUCE :** La fonction Python `len(...)` (par exemple, `len(demands)`) renvoie le nombre d'éléments dans la liste\n"
      ]
    },
    {
      "cell_type": "code",
      "execution_count": null,
      "metadata": {
        "colab": {
          "base_uri": "https://localhost:8080/"
        },
        "id": "DD4aQUaKgEQ_",
        "outputId": "91e8d08f-8f73-42b4-ef06-a517f7ea04b8"
      },
      "outputs": [],
      "source": [
        "demands = [12530, 2100, 1956, 1523, 1896, 956, 998, 1632, 1563, 2531, 2100]\n",
        "\n",
        "### commencez votre code ici ###\n",
        "\n",
        "### terminez votre code ici ###\n",
        "\n",
        "# résultats d'impression\n",
        "print('Arithmatic mean demand is: ', a_mean)  \n",
        "print('Geomatric mean demand is: ', g_mean) "
      ]
    },
    {
      "cell_type": "markdown",
      "metadata": {
        "id": "KqquM-ozgEQ-"
      },
      "source": [
        "### Exercice 3.2 : Amortissement de la flotte\n",
        "Un camion de livraison est acheté par une entreprise pour un coût de 180 000 \\$, et a une durée de vie utile de 5 ans et une valeur résiduelle de 30 000 \\$. Le taux d'amortissement est de 20 %.\n",
        "\n",
        "Créez une fonction qui renvoie la valeur du camion à la fin d'une année spécifique. Cette fonction doit avoir les paramètres suivants :\n",
        "- `n`: (int nombre) années après l'achat\n",
        "- `truck_cost` : (nombre) valeur payée pour le nouveau camion\n",
        "- `res_val` : (nombre) valeur du camion à la fin de sa vie utile\n",
        "- `depr_rate` : (nombre flottant entre 0 et 1) taux d'amortissement"
      ]
    },
    {
      "cell_type": "code",
      "execution_count": null,
      "metadata": {
        "colab": {
          "base_uri": "https://localhost:8080/"
        },
        "id": "qywuM23WGY-0",
        "outputId": "d6312146-d0e2-4eb0-ae1d-331fef469662"
      },
      "outputs": [],
      "source": [
        "### commencez votre code ici ###\n",
        "\n",
        "### terminez votre code ici ###\n",
        "\n",
        "print(\"The current value of the truck after year\", n_year, \" is $\", current_val)"
      ]
    },
    {
      "cell_type": "code",
      "execution_count": null,
      "metadata": {},
      "outputs": [],
      "source": []
    }
  ],
  "metadata": {
    "kernelspec": {
      "display_name": "Python 3 (ipykernel)",
      "language": "python",
      "name": "python3"
    },
    "language_info": {
      "codemirror_mode": {
        "name": "ipython",
        "version": 3
      },
      "file_extension": ".py",
      "mimetype": "text/x-python",
      "name": "python",
      "nbconvert_exporter": "python",
      "pygments_lexer": "ipython3",
      "version": "3.11.5"
    },
    "toc": {
      "base_numbering": 1,
      "nav_menu": {},
      "number_sections": true,
      "sideBar": true,
      "skip_h1_title": false,
      "title_cell": "Table of Contents",
      "title_sidebar": "Contents",
      "toc_cell": false,
      "toc_position": {},
      "toc_section_display": true,
      "toc_window_display": true
    }
  },
  "nbformat": 4,
  "nbformat_minor": 1
}
