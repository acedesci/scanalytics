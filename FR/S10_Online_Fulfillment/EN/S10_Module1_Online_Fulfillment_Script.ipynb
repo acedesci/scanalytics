{
 "cells": [
  {
   "cell_type": "markdown",
   "metadata": {
    "colab_type": "text",
    "id": "view-in-github"
   },
   "source": [
    "<a href=\"https://colab.research.google.com/github/acedesci/scanalytics/blob/master/S10_online_fulfillment/S10_Module1_Online_Fulfillment_Script.ipynb\" target=\"_parent\"><img src=\"https://colab.research.google.com/assets/colab-badge.svg\" alt=\"Open In Colab\"/></a>"
   ]
  },
  {
   "cell_type": "markdown",
   "metadata": {
    "id": "pHCo2OUyeYib"
   },
   "source": [
    "# Notebook for Session 10: Online fulfillment analytics\n",
    "\n",
    "---\n",
    "In this session, we also begin by installing the (i) Pyomo package and (ii) the linear programming solver GLPK (GNU Linear Programming Kit). Please feel free to revisit [Session 9](https://github.com/acedesci/scanalytics/blob/master/S8_9_retail_analytics/S9_Module2A_Retail_Price_Optimization.ipynb) for further information. "
   ]
  },
  {
   "cell_type": "code",
   "execution_count": null,
   "metadata": {
    "id": "zdvWKIywwi4_"
   },
   "outputs": [],
   "source": [
    "# Install Pyomo and GLPK\n",
    "!pip install -q pyomo\n",
    "!apt-get install -y -qq glpk-utils #if GLPK is used"
   ]
  },
  {
   "cell_type": "markdown",
   "metadata": {
    "id": "7-xsg-k95pwj"
   },
   "source": [
    "# Blocks 1&2: Data input and parameters\n",
    "\n",
    "We have two different datasets, but their structures are the same. The dataset 1 is the same as in the paper whereas the dataset 2 is a larger dataset to demonstrate how data can be adapted.\n",
    "\n",
    "1.   **Fulfillment center (FC) data**: each dataset contains a set of fulfillment centers $FC$ (*listFC*), each of which has a given level of inventory ${\\bf X}$ (*inventoryFC*). Customers can place an order for either a single item or multiple items, but if no fulfillment center has all the items available, the retailer has to resort to split deliveries, which obviously affect the shipping expenses. Therefore, our optimization model has to take account of the probability that the fulfillment center has 'other items in order' (*probMultiAvailability*).\n",
    "2.   **Customer region data**: each customer zone (*listRegion*) has to be associated with a certain demand over the next $\\tau$ days (*demandValue*) for customer $j$ and the proportion of orders that are for multiple items (*probMultiItem*). \n",
    "2.   **Shipment cost data**: *costSingle$[i,j]$* denotes the cost of a single delivery from Fulfillment Center (FC) *i* to Customer Zone *j* or $c_{ij}$. Please note that for Data 1, since there is only one customer zone (Kansas), there is only one cost from each origin (i.e., from FC *i* to Kansas). *avgNoMultiItem* stands for the *average number of items in a multi-item order*. This will help us compute the average shipping cost per item for multi-item orders. More specifically $\\omega = 1/\\mbox{avgNoMultiItem}$. \n",
    "\n",
    "\n",
    "\n",
    "\n",
    "\n",
    "\n",
    "\n"
   ]
  },
  {
   "cell_type": "code",
   "execution_count": null,
   "metadata": {
    "id": "fHWImO45lwgd"
   },
   "outputs": [],
   "source": [
    "# Data 1 (same as in the paper)\n",
    "\n",
    "# Fulfillment center (FC) data\n",
    "listFC = ['Utah', 'Nevada']\n",
    "inventoryFC = dict(zip(listFC, [5, 20]))\n",
    "print(inventoryFC)\n",
    "probMultiAvailability = dict(zip(listFC, [0.5, 0.2]))\n",
    "print(probMultiAvailability)\n",
    "\n",
    "# Customer region data\n",
    "listRegion = ['Kansas']\n",
    "demandValue = dict(zip(listRegion, [2*10]))\n",
    "print(demandValue)\n",
    "probMultiItem = dict(zip(listRegion, [0.75]))\n",
    "print(probMultiItem)\n",
    "\n",
    "# Shipment cost data\n",
    "costSingle = [[9], [12]]\n",
    "print(costSingle)\n",
    "\n",
    "# average number of items in a multi-item order\n",
    "avgNoMultiItem = 3.0\n",
    "# we can calculate the multi-item shipping discount $\\omega$\n",
    "shippingDiscount = 1/avgNoMultiItem\n",
    "\n",
    "# Prepare shipment cost above in dictionary format\n",
    "costSingleDict = {}\n",
    "for i in range(len(listFC)):\n",
    "  for j in range(len(listRegion)):\n",
    "    costSingleDict[(listFC[i],listRegion[j])] = costSingle[i][j]\n",
    "\n",
    "print(costSingleDict)  "
   ]
  },
  {
   "cell_type": "code",
   "execution_count": null,
   "metadata": {
    "id": "1fKI_a0MiKOM"
   },
   "outputs": [],
   "source": [
    "# Data 2\n",
    "\n",
    "# Fulfillment center (FC) data\n",
    "listFC = ['Delta-BC', 'Brampton-ON', 'Ottawa-ON']\n",
    "inventoryFC = dict(zip(listFC, [37, 85, 25]))\n",
    "print(inventoryFC)\n",
    "probMultiAvailability = dict(zip(listFC, [0.32, 0.45, 0.17]))\n",
    "print(probMultiAvailability)\n",
    "\n",
    "# Customer region data\n",
    "listRegion = ['Toronto', 'Montreal', 'Calgary', 'Vancouver']\n",
    "demandValue = dict(zip(listRegion, [45, 27, 15, 33]))\n",
    "print(demandValue)\n",
    "probMultiItem = dict(zip(listRegion, [0.73, 0.68, 0.54, 0.64]))\n",
    "print(probMultiItem)\n",
    "\n",
    "# Shipment cost data\n",
    "costSingle = [[24.5, 25.5, 18.1, 12.3],\n",
    "        [13.6, 17.5, 22.8, 23.6],\n",
    "        [18.1, 14.1, 21.1, 22.8]]\n",
    "\n",
    "# average number of items in a multi-item order\n",
    "avgNoMultiItem = 2.5\n",
    "# we can calculate the multi-item shipping discount $\\omega$\n",
    "shippingDiscount = 1/avgNoMultiItem\n",
    "\n",
    "# Prepare shipment cost above in dictionary format\n",
    "costSingleDict = {}\n",
    "for i in range(len(listFC)):\n",
    "  for j in range(len(listRegion)):\n",
    "    costSingleDict[(listFC[i],listRegion[j])] = costSingle[i][j]\n",
    "\n",
    "print(costSingleDict)  "
   ]
  },
  {
   "cell_type": "markdown",
   "metadata": {
    "id": "N8aZG5UzeUE0"
   },
   "source": [
    "# Block 3: Create an optimization model\n",
    "\n",
    "### Block 3.1: Variable declarations\n",
    "\n",
    "As we all learned in [Session 9](https://github.com/acedesci/scanalytics/blob/master/S8_9_retail_analytics/S9_Module2A_Retail_Price_Optimization.ipynb), an optimization model consists of (i) decision variables, (ii) objective function, and (iii) constraints.\n",
    "\n",
    "Our decision variables include model.x, model.y and model.w, which are all nonnegative, denoting the flow from FC *i* to customer region *j*. In particular,\n",
    "\n",
    "model.**x**$[i, j]$ (or $x_{ij}$) denotes the decision variable for **unsplit** flow from FC *i* to **multi-item** customer *j*. The unit cost of this flow is $\\omega c_{ij}$;\n",
    "\n",
    "model.**y**$[i, j]$ (or $y_{ij}$) denotes the decision variable for **split** flow from FC *i* to **multi-item** customer *j*. The unit cost of this flow is $2\\omega c_{ij}$ (two shipments are used if the order cannot be shipped in one shipment);\n",
    "\n",
    "model.**w**$[i, j]$ (or $w_{ij}$) denotes the decision variable for flow from FC *i* to **single-item** customer *j*.  The unit cost of this flow is $c_{ij}$.\n",
    "\n",
    "On the last line, we also create an object to store the shadow prices (dual variables). This is used if we don't want to solve the LP multiple times."
   ]
  },
  {
   "cell_type": "code",
   "execution_count": null,
   "metadata": {
    "id": "AeKxRrnufnyo"
   },
   "outputs": [],
   "source": [
    "from pyomo.environ import *\n",
    "\n",
    "model = ConcreteModel()\n",
    "# Variables\n",
    "model.x = Var(listFC, listRegion, within = NonNegativeReals)\n",
    "model.y = Var(listFC, listRegion, within = NonNegativeReals)\n",
    "model.w = Var(listFC, listRegion, within = NonNegativeReals)\n",
    "\n",
    "model.inventoryOnHand = ConstraintList()\n",
    "model.demandSingle = ConstraintList()\n",
    "model.demandMulitiple = ConstraintList()\n",
    "model.maxMultiShipment = ConstraintList()\n",
    "\n",
    "# create an object to access to shadow prices. Please note that the codes must be exactly written as \n",
    "# model.dual = Suffix(direction=Suffix.IMPORT_EXPORT) in order for it to work because it was hard coded in pyomo.\n",
    "model.dual = Suffix(direction=Suffix.IMPORT_EXPORT)"
   ]
  },
  {
   "cell_type": "markdown",
   "metadata": {
    "id": "t8AfQC35eUFC"
   },
   "source": [
    "### Block 3.2: Objective function\n",
    "\n",
    "For notational simplication, let\n",
    "\n",
    "$c_{ij}=$ costSingle$[i,j]$, the cost of a single delivery from Fulfillment Center (FC) *i* to Customer Zone *j*;\n",
    "\n",
    "$\\omega=1$ / avgNoMultiItem, expected discount of sending multi-item order in one package.\n",
    "\n",
    "Then, we have the general form of the objective function as follows\n",
    "\n",
    "$$\\min\\limits_{x,y,w} \\left\\{ \\sum_{i\\in\\mathcal{FC}} \\sum_{j\\in\\mathcal{J}}\\left(  c_{ij}\\cdot w_{ij} + \\omega \\cdot c_{ij}\\cdot x_{ij} + 2\\omega \\cdot c_{ij}\\cdot y_{ij} \\right) \\right\\}$$"
   ]
  },
  {
   "cell_type": "code",
   "execution_count": null,
   "metadata": {
    "id": "RY6Vi1TE5ztC"
   },
   "outputs": [],
   "source": [
    "# Objective function\n",
    "\n",
    "obj_expr = sum(costSingleDict[(i,j)]*model.w[(i,j)] + shippingDiscount*costSingleDict[(i,j)]*model.x[(i,j)] \\\n",
    "               + (2*shippingDiscount)*costSingleDict[(i,j)]*model.y[(i,j)] for i in listFC for j in listRegion)\n",
    "print(obj_expr)\n",
    "model.OBJ = Objective(expr = obj_expr, sense = minimize)"
   ]
  },
  {
   "cell_type": "markdown",
   "metadata": {
    "id": "GJwQt1XEeUFM"
   },
   "source": [
    "### Block 3.3: Constraints functions\n",
    "\n",
    "**Constraint Set 1**: Inventory availability at FC *i*\n",
    "\n",
    "This set of constraints ensures that the total demand (orders) assigned to FC *i* is less than or equal to the inventory at FC *i*.\n",
    "\n",
    "Let $X_i$ denote the inventory level at FC *i* and $\\mathcal{FC}$ denote the list of all FCs.\n",
    "$$\\sum_{j\\in\\mathcal{J}} \\left( w_{ij} + x_{ij} + y_{ij} \\right) \\leq X_i, \\forall i\\in \\mathcal{FC} $$"
   ]
  },
  {
   "cell_type": "code",
   "execution_count": null,
   "metadata": {
    "id": "_-J1E9CayDY-"
   },
   "outputs": [],
   "source": [
    "# Constraints 1 Inventory availability at FC i\n",
    "\n",
    "for i in listFC:\n",
    "  const_expr = sum(model.w[(i,j)] + model.x[(i,j)] + model.y[(i,j)] for j in listRegion) <= inventoryFC[i] \n",
    "  print(const_expr)\n",
    "  model.inventoryOnHand.add(expr = const_expr)\n"
   ]
  },
  {
   "cell_type": "markdown",
   "metadata": {
    "id": "iyOwKc5PeUFW"
   },
   "source": [
    "**Constraint Set 2**: Future demand for single-item order in region *j*\n",
    "\n",
    "This set of constraints ensures that the single-item demand at Customer (Demand) Zone *j* is satisfied.\n",
    "\n",
    "Let $D_j$ denote the demand at Customer Zone *j*, $\\mathcal{J}$ denote the list of all Customer (Demand) Zones and $\\lambda_j$ denote the proportion of orders that are for multiple items (probMultiItem) $\\Rightarrow\\left(1-\\lambda_j\\right)$ equals the proportion of orders that are for a single item.\n",
    "$$\\sum_{i \\in \\mathcal{FC}} w_{ij} = D_j \\cdot \\left( 1-\\lambda_j \\right), \\forall j\\in \\mathcal{J} $$"
   ]
  },
  {
   "cell_type": "code",
   "execution_count": null,
   "metadata": {
    "id": "prKy0fAE6hTd"
   },
   "outputs": [],
   "source": [
    "# Constraints 2 Future demand for single-item order in region j \n",
    "\n",
    "for j in listRegion:\n",
    "  const_expr = sum(model.w[(i,j)] for i in listFC) == demandValue[j]*(1-probMultiItem[j])\n",
    "  print(const_expr)\n",
    "  model.demandSingle.add(expr = const_expr)"
   ]
  },
  {
   "cell_type": "markdown",
   "metadata": {
    "id": "i1SNTK5_eUFh"
   },
   "source": [
    "**Constraint Set 3**: Future demand for multi-item order in region *j*\n",
    "\n",
    "This set of constraints ensures that the multi-item demand at Customer (Demand) Zone *j* is satisfied.\n",
    "\n",
    "Using the similar notations as in *Constraint set 2*, we attain\n",
    "$$\\sum_{i \\in \\mathcal{FC}}  \\left( x_{ij} + y_{ij} \\right) = D_j \\cdot \\lambda_j, \\forall j\\in \\mathcal{J} $$"
   ]
  },
  {
   "cell_type": "code",
   "execution_count": null,
   "metadata": {
    "id": "NZR8hsnq-rNe"
   },
   "outputs": [],
   "source": [
    "# Constraints 3 Future demand for multi-item order in region j \n",
    "\n",
    "for j in listRegion:\n",
    "  const_expr = sum(model.x[(i,j)] + model.y[(i,j)] for i in listFC) == demandValue[j]*probMultiItem[j]\n",
    "  print(const_expr)\n",
    "  model.demandMulitiple.add(expr = const_expr)"
   ]
  },
  {
   "cell_type": "markdown",
   "metadata": {
    "id": "Cno-OFqueUFs"
   },
   "source": [
    "**Constraint Set 4**: Estimated maximum number multi-item shipments from FC *i* to customer region *j*\n",
    "\n",
    "It should be noted that unsplit delivery for a multi-item order from FC *i* to Customer Region *j* is effected only when FC *i* has 'other items in order'. Let $\\rho_i$ denote the probability that FC *i* has 'other items in order' (probMultiAvailability). Then, we impose the following constraints. \n",
    "\n",
    "$$ x_{ij} \\leq D_j \\cdot \\lambda_j \\cdot \\rho_i, \\forall i\\in\\mathcal{FC}, j\\in \\mathcal{J} $$"
   ]
  },
  {
   "cell_type": "code",
   "execution_count": null,
   "metadata": {
    "id": "2a98wmcR-yV5"
   },
   "outputs": [],
   "source": [
    "# Constraints #4 Estimated maximum number multi-item shipments from FC i to customer regions j \n",
    "\n",
    "for i in listFC:\n",
    "  for j in listRegion:\n",
    "    const_expr = model.x[(i,j)] <= demandValue[j]*probMultiItem[j]*probMultiAvailability[i]\n",
    "    print(const_expr)\n",
    "    model.maxMultiShipment.add(expr = const_expr)"
   ]
  },
  {
   "cell_type": "markdown",
   "metadata": {
    "id": "186r2t7CmjtZ"
   },
   "source": [
    "You can print the entire model to check if you want"
   ]
  },
  {
   "cell_type": "code",
   "execution_count": null,
   "metadata": {
    "id": "qRpGXUdEmbDT"
   },
   "outputs": [],
   "source": [
    "# This is commented so that we won't print out unless necessary. You can outcomment to print it.\n",
    "# model.pprint()"
   ]
  },
  {
   "cell_type": "markdown",
   "metadata": {
    "id": "47HscW575pxD"
   },
   "source": [
    "# Block 4: Solution and results"
   ]
  },
  {
   "cell_type": "markdown",
   "metadata": {
    "id": "dM_7d4YhyxKS"
   },
   "source": [
    "Finally, we call for the solver and obtain the solution. The first line indicates which solver we want to use and the second line solves the model (this is equivalent to *fit()* in sklearn). The last line *displays* the solution."
   ]
  },
  {
   "cell_type": "code",
   "execution_count": null,
   "metadata": {
    "id": "a0KA-DNX8RqA"
   },
   "outputs": [],
   "source": [
    "# Solve the model\n",
    "opt = SolverFactory('glpk')\n",
    "opt.solve(model) \n",
    "\n",
    "model.display()"
   ]
  },
  {
   "cell_type": "markdown",
   "metadata": {
    "id": "cxbf4nIETWbt"
   },
   "source": [
    "In order to quickly determine the approximate cost-to-go without solving multiple times the LP model above, we can also make use of the shadow price. The codes below print out the shadow prices of all the constraints. Only the shadow prices of the constraint *inventoryOnHand* are used to calculate the approximate cost-to-go, i.e., $$C_{k}({\\bf X_k})=\\min_{i\\in \\mathcal{FC}}\\left({c_{ik}+C_{k+1}({\\bf X_{k+1}})}\\right)=\\min_{i\\in \\mathcal{FC}}\\left({c_{ik}+C_{k+1}({\\bf X_{k}})-\\pi_{i}}\\right).$$"
   ]
  },
  {
   "cell_type": "code",
   "execution_count": null,
   "metadata": {
    "id": "ZI2YY1sZlYSq"
   },
   "outputs": [],
   "source": [
    "# Obtain reduced cost for each constraint\n",
    "model.dual.display()"
   ]
  }
 ],
 "metadata": {
  "colab": {
   "collapsed_sections": [],
   "include_colab_link": true,
   "name": "S10_Module1_Online_Fulfillment_Script.ipynb",
   "provenance": []
  },
  "kernelspec": {
   "display_name": "Python 3 (ipykernel)",
   "language": "python",
   "name": "python3"
  },
  "language_info": {
   "codemirror_mode": {
    "name": "ipython",
    "version": 3
   },
   "file_extension": ".py",
   "mimetype": "text/x-python",
   "name": "python",
   "nbconvert_exporter": "python",
   "pygments_lexer": "ipython3",
   "version": "3.8.8"
  },
  "toc": {
   "base_numbering": 1,
   "nav_menu": {},
   "number_sections": true,
   "sideBar": true,
   "skip_h1_title": false,
   "title_cell": "Table of Contents",
   "title_sidebar": "Contents",
   "toc_cell": false,
   "toc_position": {},
   "toc_section_display": true,
   "toc_window_display": true
  }
 },
 "nbformat": 4,
 "nbformat_minor": 1
}
