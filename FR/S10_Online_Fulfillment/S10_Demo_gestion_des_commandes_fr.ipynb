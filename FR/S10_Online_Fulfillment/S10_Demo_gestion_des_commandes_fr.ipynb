{
 "cells": [
  {
   "cell_type": "code",
   "execution_count": 1,
   "metadata": {},
   "outputs": [],
   "source": [
    "import shutil\n",
    "import sys\n",
    "import os.path\n",
    "\n",
    "if not shutil.which(\"pyomo\"):\n",
    "    if \"google.colab\" in sys.modules:\n",
    "        !pip install -q pyomo\n",
    "    else:\n",
    "        !conda install -c conda-forge pyomo\n",
    "    assert(shutil.which(\"pyomo\"))\n",
    "    \n",
    "if not (shutil.which(\"glpsol\") or os.path.isfile(\"glpsol\")):\n",
    "    if \"google.colab\" in sys.modules:\n",
    "        !apt-get install -y -qq glpk-utils\n",
    "    else:\n",
    "        try:\n",
    "            !conda install -c conda-forge glpk \n",
    "        except:\n",
    "            pass\n",
    "    assert(shutil.which(\"glpsol\") or os.path.isfile(\"glpsol\"))\n",
    "\n",
    "import pyomo.environ as pe"
   ]
  },
  {
   "cell_type": "markdown",
   "metadata": {
    "colab_type": "text",
    "id": "7-xsg-k95pwj"
   },
   "source": [
    "# Blocs 1 & 2:  données et paramètres d'entrée\n",
    "Nous avons deux ensembles de données différents, mais leur structure est la même. L'ensemble de données #1 est le même que dans l'article, tandis que l'ensemble de données #2 est un ensemble de données plus grand.\n",
    "\n",
    "Ces jeux de données contiennent des données sur les aspects suivants:\n",
    "1.   **Centre de distribution**: chaque ensemble de données contient un ensemble de centres de distribution $I \\ni i$ (`listFC`), dont chacun a un niveau de stock donné $X_i$ (`inventoryFC`). Les clients peuvent passer une commande pour un seul article ou pour plusieurs articles, mais si aucun centre de distribution ne dispose de tous les articles disponibles, le détaillant doit recourir à des livraisons fractionnées, ce qui affecte évidemment les frais d'expédition. Par conséquent, notre modèle d'optimisation doit tenir compte de la probabilité que le centre de distribution ait les autres articles en commande $\\rho_i$ (`probMultiAvailability`).\n",
    "2.   **Région client**: chaque zone client $J \\ni j$ (`listRegion`) doit être associée à une certaine demande au cours des prochains $\\tau$ jours $D_j$ (`demandValue`) pour le client $j$. Chaque zone est aussi associée à une proportion de commandes contenant plusieurs articles $\\lambda_j$ (`probMultiItem`). \n",
    "2.   **Coût d'expédition**: `costSingle[i,j]` désigne le coût d'une seule livraison depuis le centre de distribution $i$ à la zone client $j$ ou $c_{ij}$. Veuillez noter que pour les données #1, puisqu'il n'y a qu'une seule zone client (Kansas), il n'y a qu'un seul coût à partir de chaque centre de distribution $i$. `avgNoMultiItem` représente le *nombre moyen d'articles dans une commande multi-articles*. Cette information est nécessaire pour calculer le coût d'expédition moyen par article pour les commandes multi-articles. Plus précisement, $\\omega = 1/\\mbox{avgNoMultiItem}$.\n",
    "\n",
    "Les variables précédentes correspondent à celles présenter dans les diapositives et diffèrent quelque peu des variables de l'article."
   ]
  },
  {
   "cell_type": "code",
   "execution_count": 2,
   "metadata": {
    "colab": {
     "base_uri": "https://localhost:8080/",
     "height": 119
    },
    "colab_type": "code",
    "id": "fHWImO45lwgd",
    "outputId": "3a665778-3e36-4385-e145-00ef9d7c6f0c"
   },
   "outputs": [
    {
     "name": "stdout",
     "output_type": "stream",
     "text": [
      "**Données**\n",
      "\n",
      "listFC (I): ['Utah', 'Nevada']\n",
      "inventoryFC (X_i): {'Utah': 5, 'Nevada': 20}\n",
      "probMultiAvailability (rho_i): {'Utah': 0.5, 'Nevada': 0.2}\n",
      "\n",
      "listRegion (J): ['Kansas']\n",
      "demandValue (D_j): {'Kansas': 20}\n",
      "probMultiItem (lambda_j): {'Kansas': 0.75}\n",
      "\n",
      "costSingle (c_ij):\n",
      " [[9], [12]]\n",
      "costSingleDict: {('Utah', 'Kansas'): 9, ('Nevada', 'Kansas'): 12}\n",
      "\n",
      "avgNoMultiItem: 3.0\n",
      "shippingDiscount (omega): 0.3333333333333333\n"
     ]
    }
   ],
   "source": [
    "DATA = 1  # choisir 1 ou 2\n",
    "\n",
    "\n",
    "if DATA == 1:  # Données #1 (comme l'article)\n",
    "    # Données du centre de distribution (FC)\n",
    "    listFC = ['Utah', 'Nevada']\n",
    "    inventoryFC = dict(zip(listFC, [5, 20]))\n",
    "    probMultiAvailability = dict(zip(listFC, [0.5, 0.2]))\n",
    "    # Données de région client\n",
    "    listRegion = ['Kansas']\n",
    "    demandValue = dict(zip(listRegion, [2 * 10]))  # demand journalière=2, tau=10 \n",
    "    probMultiItem = dict(zip(listRegion, [0.75]))\n",
    "    # Données de coût d'expédition\n",
    "    costSingle = [[9],\n",
    "                  [12]]\n",
    "    # Nombre moyen d'articles dans une commande multi-articles\n",
    "    avgNoMultiItem = 3.0\n",
    "elif DATA == 2:  # Données #2\n",
    "    # Données du centre de distribution (FC)\n",
    "    listFC = ['Delta-BC', 'Brampton-ON', 'Ottawa-ON']\n",
    "    inventoryFC = dict(zip(listFC, [37, 85, 25]))\n",
    "    probMultiAvailability = dict(zip(listFC, [0.32, 0.45, 0.17]))\n",
    "    # Données de région client\n",
    "    listRegion = ['Toronto-ON', 'Montreal-QC', 'Calgary-AB', 'Vancouver-BC']\n",
    "    demandValue = dict(zip(listRegion, [45, 27, 15, 33]))\n",
    "    probMultiItem = dict(zip(listRegion, [0.73, 0.68, 0.54, 0.64]))\n",
    "    # Données de coût d'expédition\n",
    "    costSingle = [[24.5, 25.5, 18.1, 12.3],\n",
    "                  [13.6, 17.5, 22.8, 23.6],\n",
    "                  [18.1, 14.1, 21.1, 22.8]]\n",
    "    # Nombre moyen d'articles dans une commande multi-articles\n",
    "    avgNoMultiItem = 2.5\n",
    "else:\n",
    "    raise ValueError(\"DATA doit être défini à 1 ou 2\")\n",
    "\n",
    "    \n",
    "# Vérification des données (clés et tailles)\n",
    "assert listFC == list(inventoryFC.keys())\n",
    "assert listFC == list(probMultiAvailability.keys())\n",
    "assert listRegion == list(demandValue.keys())\n",
    "assert listRegion == list(probMultiItem.keys())\n",
    "assert len(listFC) == len(costSingle)\n",
    "for i in costSingle:\n",
    "    assert len(listRegion) == len(i)\n",
    "\n",
    "    \n",
    "# Préparez les frais d'expédition ci-dessus en format dictionnaire\n",
    "costSingleDict = {}\n",
    "for i_, i in enumerate(listFC):  # i_ contient l'index et i contient le FC\n",
    "    for j_, j in enumerate(listRegion):  # j_ contient l'index et j contient la région\n",
    "        costSingleDict[i, j] = costSingle[i_][j_]\n",
    "# Nous pouvons calculer la remise d'expédition multi-articles $\\omega$\n",
    "shippingDiscount = 1 / avgNoMultiItem\n",
    "\n",
    "\n",
    "# Affichage des données\n",
    "print('**Données**\\n')\n",
    "\n",
    "print(f'listFC (I): {listFC}')\n",
    "print(f'inventoryFC (X_i): {inventoryFC}')\n",
    "print(f'probMultiAvailability (rho_i): {probMultiAvailability}\\n')\n",
    "\n",
    "print(f'listRegion (J): {listRegion}')\n",
    "print(f'demandValue (D_j): {demandValue}')\n",
    "print(f'probMultiItem (lambda_j): {probMultiItem}\\n')\n",
    "\n",
    "print(f'costSingle (c_ij):\\n {costSingle}')\n",
    "print(f'costSingleDict: {costSingleDict}\\n')\n",
    "\n",
    "print(f'avgNoMultiItem: {avgNoMultiItem}')\n",
    "print(f'shippingDiscount (omega): {shippingDiscount}')"
   ]
  },
  {
   "cell_type": "markdown",
   "metadata": {
    "colab_type": "text",
    "id": "N8aZG5UzeUE0"
   },
   "source": [
    "# Bloc 3: création du modèle d'optimisation\n",
    "\n",
    "## Bloc 3.1: déclarations de variables\n",
    "\n",
    "Comme nous l'avons appris lors de la séance 9, un modèle d'optimisation comprend (1) des variables de décision, (2) une fonction objectif et (3) des contraintes.\n",
    "\n",
    "Nos variables de décision incluent `model.x`, `model.y` et `model.w`. Ces variables sont toutes non-négatives et indiquent le flux du centre de distribution $i$ vers la région client $j$. En particulier,\n",
    "\n",
    "- `model.x[i, j]` (ou $x_{ij}$) désigne la variable de décision pour **l'expédition de plusieurs articles en un seul envoi** du centre de distribution `i` vers une région client `j`. Le coût unitaire de ce flux est $\\omega c_{ij}$;\n",
    "\n",
    "- `model.y[i, j]` (ou $y_{ij}$) désigne la variable de décision pour **l'expédition de plusieurs articles en plusieurs envois** du centre de distribution `i` vers une région client `j`. Le coût unitaire de ce flux est $2\\omega c_{ij}$ (deux envois sont utilisés si la commande ne peut pas être expédiée en un seul envoi);\n",
    "\n",
    "- `model.w[i, j]` (ou $w_{ij}$) désigne la variable de décision pour **l'expédition d'un seul article** du centre de distribution `i` vers une région client `j`. Le coût unitaire de ce flux est $c_{ij}$.\n",
    "\n",
    "Sur la dernière ligne de code de la prochaine cellule, nous créons également un objet pour stocker les coûts ombres (variables duales). Ceci est nécessaire pour éviter de résoudre le programme linéaire (PL) plusieurs fois."
   ]
  },
  {
   "cell_type": "code",
   "execution_count": 3,
   "metadata": {
    "colab": {},
    "colab_type": "code",
    "id": "AeKxRrnufnyo"
   },
   "outputs": [],
   "source": [
    "model = pe.ConcreteModel()\n",
    "\n",
    "# Variables\n",
    "model.x = pe.Var(listFC, listRegion, within=pe.NonNegativeReals)\n",
    "model.y = pe.Var(listFC, listRegion, within=pe.NonNegativeReals)\n",
    "model.w = pe.Var(listFC, listRegion, within=pe.NonNegativeReals)\n",
    "\n",
    "# Création d'un objet pour accéder aux coûts marginaux\n",
    "model.dual = pe.Suffix(direction=pe.Suffix.IMPORT)"
   ]
  },
  {
   "cell_type": "markdown",
   "metadata": {
    "colab_type": "text",
    "id": "t8AfQC35eUFC"
   },
   "source": [
    "## Bloc 3.2: ajout d'une fonction objectif\n",
    "Comme dans les diapositives, nous voulons minimiser la fonction objectif suivante\n",
    "\n",
    "$$\\text{minimiser}_{x,y,w} \\sum_{i\\in I} \\sum_{j\\in J}\\left(  c_{ij} w_{ij} + \\omega  c_{ij} x_{ij} + 2\\omega  c_{ij} y_{ij} \\right)$$\n",
    "\n",
    "où $c_{ij}=$ `costSingleDict[i, j]` et $\\omega=$ `shippingDiscount`."
   ]
  },
  {
   "cell_type": "code",
   "execution_count": 4,
   "metadata": {
    "colab": {
     "base_uri": "https://localhost:8080/",
     "height": 34
    },
    "colab_type": "code",
    "id": "RY6Vi1TE5ztC",
    "outputId": "80705a89-9070-4964-865b-7b6837de83ef"
   },
   "outputs": [
    {
     "name": "stdout",
     "output_type": "stream",
     "text": [
      "obj : Size=1, Index=None, Active=True\n",
      "    Key  : Active : Sense    : Expression\n",
      "    None :   True : minimize : 9*w[Utah,Kansas] + 3.0*x[Utah,Kansas] + 6.0*y[Utah,Kansas] + 12*w[Nevada,Kansas] + 4.0*x[Nevada,Kansas] + 8.0*y[Nevada,Kansas]\n"
     ]
    }
   ],
   "source": [
    "obj_expr = sum(\n",
    "    costSingleDict[i, j] * model.w[i, j] + \n",
    "    shippingDiscount * costSingleDict[i, j] * model.x[i, j] +\n",
    "    2 * shippingDiscount * costSingleDict[i, j] * model.y[i, j]\n",
    "    for i in listFC for j in listRegion)\n",
    "model.obj = pe.Objective(expr=obj_expr, sense=pe.minimize)\n",
    "model.obj.pprint()"
   ]
  },
  {
   "cell_type": "markdown",
   "metadata": {
    "colab_type": "text",
    "id": "GJwQt1XEeUFM"
   },
   "source": [
    "## Bloc 3.3: ajout des contraintes\n",
    "\n",
    "### Contraintes 1: disponibilité de stock au centre de distribution $i$\n",
    "\n",
    "Ces contraintes garantissent que la demande totale (des commandes) affectée au centre de distribution `i` est inférieure ou égale à ses stocks.\n",
    "\n",
    "Ces contraintes correspondent à\n",
    "\n",
    "$$\\sum_{j\\in J} \\left( w_{ij} + x_{ij} + y_{ij} \\right) \\leq X_i,\\quad \\forall i\\in I$$\n",
    "\n",
    "où $X_i=$ `inventoryFC[i]`."
   ]
  },
  {
   "cell_type": "code",
   "execution_count": 5,
   "metadata": {},
   "outputs": [
    {
     "name": "stdout",
     "output_type": "stream",
     "text": [
      "inventoryOnHand : Size=2, Index={1, 2}, Active=True\n",
      "    Key : Lower : Body                                                   : Upper : Active\n",
      "      1 :  -Inf :       w[Utah,Kansas] + x[Utah,Kansas] + y[Utah,Kansas] :   5.0 :   True\n",
      "      2 :  -Inf : w[Nevada,Kansas] + x[Nevada,Kansas] + y[Nevada,Kansas] :  20.0 :   True\n"
     ]
    }
   ],
   "source": [
    "model.inventoryOnHand = pe.ConstraintList()\n",
    "for i in listFC:\n",
    "    const_expr = sum(model.w[i, j] + model.x[i, j] + model.y[i, j] \n",
    "                     for j in listRegion) <= inventoryFC[i] \n",
    "    model.inventoryOnHand.add(expr=const_expr)\n",
    "model.inventoryOnHand.pprint()\n",
    "\n",
    "# Code équivalent:\n",
    "# def inventoryOnHand_rule(m, i):\n",
    "#     return sum(m.w[i, j] + m.x[i, j] + m.y[i, j] \n",
    "#                for j in listRegion) <= inventoryFC[i] \n",
    "# model.inventoryOnHand = pe.Constraint(listFC, rule=inventoryOnHand_rule)\n",
    "# model.inventoryOnHand.pprint()"
   ]
  },
  {
   "cell_type": "markdown",
   "metadata": {
    "colab_type": "text",
    "id": "iyOwKc5PeUFW"
   },
   "source": [
    "### Contraintes 2: demande future de commandes avec un seul article dans la région $j$\n",
    "\n",
    "Ces contraintes garantissent que la demande d'articles uniques dans la région client $j$ est satisfaite.\n",
    "\n",
    "Ces contraintes correspondent à\n",
    "\n",
    "$$\\sum_{i \\in I} w_{ij} = D_j \\left( 1-\\lambda_j \\right),\\quad \\forall j\\in J$$\n",
    "\n",
    "où $D_j=$ `demandValue[j]` et $\\lambda_j=$ `probMultiItem[j]`."
   ]
  },
  {
   "cell_type": "code",
   "execution_count": 6,
   "metadata": {
    "colab": {
     "base_uri": "https://localhost:8080/",
     "height": 34
    },
    "colab_type": "code",
    "id": "prKy0fAE6hTd",
    "outputId": "8123c988-da97-431c-d4a1-b68d8a7bf61d"
   },
   "outputs": [
    {
     "name": "stdout",
     "output_type": "stream",
     "text": [
      "demandSingle : Size=1, Index={1}, Active=True\n",
      "    Key : Lower : Body                              : Upper : Active\n",
      "      1 :   5.0 : w[Utah,Kansas] + w[Nevada,Kansas] :   5.0 :   True\n"
     ]
    }
   ],
   "source": [
    "model.demandSingle = pe.ConstraintList()\n",
    "for j in listRegion:\n",
    "    const_expr = sum(model.w[i, j] for i in listFC) == demandValue[j] * (1 - probMultiItem[j])\n",
    "    model.demandSingle.add(expr=const_expr)\n",
    "model.demandSingle.pprint()\n",
    "\n",
    "# Code équivalent:\n",
    "# def demandSingle_rule(m, j):\n",
    "#     return sum(m.w[i, j] for i in listFC) == demandValue[j] * (1 - probMultiItem[j])\n",
    "# model.demandSingle = pe.Constraint(listRegion, rule=demandSingle_rule)\n",
    "# model.demandSingle.pprint()"
   ]
  },
  {
   "cell_type": "markdown",
   "metadata": {
    "colab_type": "text",
    "id": "i1SNTK5_eUFh"
   },
   "source": [
    "### Contraintes 3: demande future de commandes multi-articles dans la région $j$\n",
    "\n",
    "Ces contraintes garantissent que la demande multi-articles dans la région client $j$ est satisfaite.\n",
    "\n",
    "Ces contraintes correspondent à\n",
    "$$\\sum_{i \\in I}  \\left( x_{ij} + y_{ij} \\right) = D_j \\lambda_j,\\quad \\forall j\\in J $$\n",
    "\n",
    "où $D_j=$ `demandValue[j]` et $\\lambda_j=$ `probMultiItem[j]`."
   ]
  },
  {
   "cell_type": "code",
   "execution_count": 7,
   "metadata": {
    "colab": {
     "base_uri": "https://localhost:8080/",
     "height": 34
    },
    "colab_type": "code",
    "id": "NZR8hsnq-rNe",
    "outputId": "a7954823-e4f3-4ff0-d7ce-e8a775232134"
   },
   "outputs": [
    {
     "name": "stdout",
     "output_type": "stream",
     "text": [
      "demandMulitiple : Size=1, Index={1}, Active=True\n",
      "    Key : Lower : Body                                                                  : Upper : Active\n",
      "      1 :  15.0 : x[Utah,Kansas] + y[Utah,Kansas] + x[Nevada,Kansas] + y[Nevada,Kansas] :  15.0 :   True\n"
     ]
    }
   ],
   "source": [
    "model.demandMulitiple = pe.ConstraintList()\n",
    "for j in listRegion:\n",
    "    const_expr = sum(model.x[i, j] + model.y[i, j]\n",
    "                     for i in listFC) == demandValue[j] * probMultiItem[j]\n",
    "    model.demandMulitiple.add(expr=const_expr)\n",
    "model.demandMulitiple.pprint()\n",
    "\n",
    "# Code équivalent:\n",
    "# def demandMulitiple_rule(m, j):\n",
    "#     return sum(m.x[i, j] + m.y[i, j]\n",
    "#                for i in listFC) == demandValue[j] * probMultiItem[j]\n",
    "# model.demandMulitiple = pe.Constraint(listRegion, rule=demandMulitiple_rule)\n",
    "# model.demandMulitiple.pprint()"
   ]
  },
  {
   "cell_type": "markdown",
   "metadata": {
    "colab_type": "text",
    "id": "Cno-OFqueUFs"
   },
   "source": [
    "### Contraintes 4: nombre maximum de commandes multi-articles expédiées en un seul envoi de $i$ vers $j$\n",
    "\n",
    "Il convient de noter que la livraison non-fractionnée pour une commande multi-articles du centre de distribution $i$ vers la région client $j$ est effectuée uniquement lorsque $i$ a les autres articles en commande. Ces contraintes garantissent qu'on ne dépasse pas le nombre **d'expédition de plusieurs articles en un seul envoi** possible.\n",
    "\n",
    "Ces contraintes correspondent à\n",
    "\n",
    "$$ x_{ij} \\leq D_j \\lambda_j \\rho_i,\\quad \\forall i\\in I, j\\in J $$\n",
    "\n",
    "où $D_j=$ `demandValue[j]`, $\\lambda_j=$ `probMultiItem[j]` et $\\rho_i=$ `probMultiAvailability[i]`."
   ]
  },
  {
   "cell_type": "code",
   "execution_count": 8,
   "metadata": {
    "colab": {
     "base_uri": "https://localhost:8080/",
     "height": 51
    },
    "colab_type": "code",
    "id": "2a98wmcR-yV5",
    "outputId": "dbe15545-261e-44b9-d392-ce50a2a89534"
   },
   "outputs": [
    {
     "name": "stdout",
     "output_type": "stream",
     "text": [
      "maxMultiShipment : Size=2, Index={1, 2}, Active=True\n",
      "    Key : Lower : Body             : Upper : Active\n",
      "      1 :  -Inf :   x[Utah,Kansas] :   7.5 :   True\n",
      "      2 :  -Inf : x[Nevada,Kansas] :   3.0 :   True\n"
     ]
    }
   ],
   "source": [
    "model.maxMultiShipment = pe.ConstraintList()\n",
    "for i in listFC:\n",
    "    for j in listRegion:\n",
    "        const_expr = model.x[i, j] <= demandValue[j] * probMultiItem[j] * probMultiAvailability[i]\n",
    "        model.maxMultiShipment.add(expr=const_expr)\n",
    "model.maxMultiShipment.pprint()\n",
    "\n",
    "# Code équivalent:\n",
    "# def maxMultiShipment_rule(m, i, j):\n",
    "#     return m.x[i, j] <= demandValue[j] * probMultiItem[j] * probMultiAvailability[i]\n",
    "# model.maxMultiShipment = pe.Constraint(listFC, listRegion, rule=maxMultiShipment_rule)\n",
    "# model.maxMultiShipment.pprint()"
   ]
  },
  {
   "cell_type": "markdown",
   "metadata": {
    "colab_type": "text",
    "id": "186r2t7CmjtZ"
   },
   "source": [
    "Finalement, vous pouvez afficher le modèle entier, si vous le désirez, en enlevant le `#` suivant."
   ]
  },
  {
   "cell_type": "code",
   "execution_count": 9,
   "metadata": {
    "colab": {},
    "colab_type": "code",
    "id": "qRpGXUdEmbDT"
   },
   "outputs": [],
   "source": [
    "#model.pprint()"
   ]
  },
  {
   "cell_type": "markdown",
   "metadata": {
    "colab_type": "text",
    "id": "47HscW575pxD"
   },
   "source": [
    "# Bloc 4: solution et interprétation\n",
    "Enfin, nous appelons le solveur et obtenons la solution optimale. On remarque pour les données #1 que la solution optimale est la même que dans l'article."
   ]
  },
  {
   "cell_type": "code",
   "execution_count": 10,
   "metadata": {
    "colab": {
     "base_uri": "https://localhost:8080/",
     "height": 629
    },
    "colab_type": "code",
    "id": "a0KA-DNX8RqA",
    "outputId": "4b5220cb-12d8-471a-83ec-dec9397d8c73"
   },
   "outputs": [
    {
     "name": "stdout",
     "output_type": "stream",
     "text": [
      "Model unknown\n",
      "\n",
      "  Variables:\n",
      "    x : Size=2, Index={Utah, Nevada}*{Kansas}\n",
      "        Key                  : Lower : Value : Upper : Fixed : Stale : Domain\n",
      "        ('Nevada', 'Kansas') :     0 :   3.0 :  None : False : False : NonNegativeReals\n",
      "          ('Utah', 'Kansas') :     0 :   5.0 :  None : False : False : NonNegativeReals\n",
      "    y : Size=2, Index={Utah, Nevada}*{Kansas}\n",
      "        Key                  : Lower : Value : Upper : Fixed : Stale : Domain\n",
      "        ('Nevada', 'Kansas') :     0 :   7.0 :  None : False : False : NonNegativeReals\n",
      "          ('Utah', 'Kansas') :     0 :   0.0 :  None : False : False : NonNegativeReals\n",
      "    w : Size=2, Index={Utah, Nevada}*{Kansas}\n",
      "        Key                  : Lower : Value : Upper : Fixed : Stale : Domain\n",
      "        ('Nevada', 'Kansas') :     0 :   5.0 :  None : False : False : NonNegativeReals\n",
      "          ('Utah', 'Kansas') :     0 :   0.0 :  None : False : False : NonNegativeReals\n",
      "\n",
      "  Objectives:\n",
      "    obj : Size=1, Index=None, Active=True\n",
      "        Key  : Active : Value\n",
      "        None :   True : 143.0\n",
      "\n",
      "  Constraints:\n",
      "    inventoryOnHand : Size=2\n",
      "        Key : Lower : Body : Upper\n",
      "          1 :  None :  5.0 :   5.0\n",
      "          2 :  None : 15.0 :  20.0\n",
      "    demandSingle : Size=1\n",
      "        Key : Lower : Body : Upper\n",
      "          1 :   5.0 :  5.0 :   5.0\n",
      "    demandMulitiple : Size=1\n",
      "        Key : Lower : Body : Upper\n",
      "          1 :  15.0 : 15.0 :  15.0\n",
      "    maxMultiShipment : Size=2\n",
      "        Key : Lower : Body : Upper\n",
      "          1 :  None :  5.0 :   7.5\n",
      "          2 :  None :  3.0 :   3.0\n"
     ]
    }
   ],
   "source": [
    "# Résolution du modèle\n",
    "pe.SolverFactory('glpk').solve(model)\n",
    "model.display()"
   ]
  },
  {
   "cell_type": "markdown",
   "metadata": {},
   "source": [
    "Il est possible d'accéder les valeurs des variables en utilisant le paramètre `value`."
   ]
  },
  {
   "cell_type": "code",
   "execution_count": 11,
   "metadata": {},
   "outputs": [
    {
     "name": "stdout",
     "output_type": "stream",
     "text": [
      "**x**\n",
      "x[('Utah', 'Kansas')]: 5.0\n",
      "x[('Nevada', 'Kansas')]: 3.0\n",
      "\n",
      "**y**\n",
      "y[('Utah', 'Kansas')]: 0.0\n",
      "y[('Nevada', 'Kansas')]: 7.0\n",
      "\n",
      "**w**\n",
      "w[('Utah', 'Kansas')]: 0.0\n",
      "w[('Nevada', 'Kansas')]: 5.0\n"
     ]
    }
   ],
   "source": [
    "print('**x**')\n",
    "for index in model.x:\n",
    "    print(f\"x[{index}]: {model.x[index].value}\")\n",
    "\n",
    "print('\\n**y**')\n",
    "for index in model.y:\n",
    "    print(f\"y[{index}]: {model.y[index].value}\")\n",
    "\n",
    "print('\\n**w**')\n",
    "for index in model.w:\n",
    "    print(f\"w[{index}]: {model.w[index].value}\")"
   ]
  },
  {
   "cell_type": "markdown",
   "metadata": {
    "colab_type": "text",
    "id": "cxbf4nIETWbt"
   },
   "source": [
    "Afin de déterminer rapidement le coût à venir approximatif sans résoudre plusieurs fois le modèle PL ci-dessus, nous pouvons utiliser les coûts ombres (c.-à-d., les variables duales). Le code ci-dessous affiche les coûts ombres de toutes les contraintes. Seuls les coûts ombres de la contrainte `inventoryOnHand` sont utilisés pour calculer le coût à venir approximatif, c.-à-d., \n",
    "\n",
    "$$ C_{k}({\\bf X_k})=\\min_{i\\in I}\\left({c_{ik}+C_{k+1}({\\bf X_{k+1}})}\\right) \\approx \\min_{i\\in I}\\left({c_{ik}+C_{k+1}({\\bf X_{k}})-\\pi_{i}}\\right)$$\n",
    "\n",
    "où ${\\bf X_k}$ (${\\bf X_{k+1}}$) correspond aux stocks à la période $k$ ($k+1$) pour tous les centres de distribution dans $I$, $c_{ik}$ correspond au coût d'envoyer la commande de $i$ à la période $k$, et $\\pi_i$ correspond à la variation du coût total si le stock de $i$ augmente d'une unité. Donc, $\\pi_i$ correspond à la variation du coût à venir si `inventoryFC[i]` augmente d'une unité; on fait $-\\pi_i$ car on veut obtenir l'effet de diminuer les stocks d'une unité si on choisit $i$."
   ]
  },
  {
   "cell_type": "code",
   "execution_count": 12,
   "metadata": {
    "colab": {
     "base_uri": "https://localhost:8080/",
     "height": 153
    },
    "colab_type": "code",
    "id": "ZI2YY1sZlYSq",
    "outputId": "40eb1eb9-f83c-4bc7-ee28-edf2391253c9"
   },
   "outputs": [
    {
     "name": "stdout",
     "output_type": "stream",
     "text": [
      "dual : Direction=IMPORT, Datatype=FLOAT\n",
      "    Key                 : Value\n",
      "     demandMulitiple[1] :   8.0\n",
      "        demandSingle[1] :  12.0\n",
      "     inventoryOnHand[1] :  -5.0\n",
      "     inventoryOnHand[2] :   0.0\n",
      "    maxMultiShipment[1] :   0.0\n",
      "    maxMultiShipment[2] :  -4.0\n"
     ]
    }
   ],
   "source": [
    "# Obtention un coût réduit pour chaque contrainte\n",
    "model.dual.display()"
   ]
  },
  {
   "cell_type": "code",
   "execution_count": 13,
   "metadata": {},
   "outputs": [
    {
     "data": {
      "text/plain": [
       "{'inventoryOnHand[1]': -5.0,\n",
       " 'inventoryOnHand[2]': 0.0,\n",
       " 'demandSingle[1]': 12.0,\n",
       " 'demandMulitiple[1]': 8.0,\n",
       " 'maxMultiShipment[1]': 0.0,\n",
       " 'maxMultiShipment[2]': -4.0}"
      ]
     },
     "execution_count": 13,
     "metadata": {},
     "output_type": "execute_result"
    }
   ],
   "source": [
    "duals_dict = {str(key):model.dual[key] for key in model.dual.keys()}\n",
    "duals_dict"
   ]
  },
  {
   "cell_type": "code",
   "execution_count": null,
   "metadata": {},
   "outputs": [],
   "source": []
  }
 ],
 "metadata": {
  "kernelspec": {
   "display_name": "py311",
   "language": "python",
   "name": "python3"
  },
  "language_info": {
   "codemirror_mode": {
    "name": "ipython",
    "version": 3
   },
   "file_extension": ".py",
   "mimetype": "text/x-python",
   "name": "python",
   "nbconvert_exporter": "python",
   "pygments_lexer": "ipython3",
   "version": "3.11.10"
  },
  "toc": {
   "base_numbering": 1,
   "nav_menu": {},
   "number_sections": true,
   "sideBar": true,
   "skip_h1_title": false,
   "title_cell": "Table of Contents",
   "title_sidebar": "Contents",
   "toc_cell": false,
   "toc_position": {
    "height": "calc(100% - 180px)",
    "left": "10px",
    "top": "150px",
    "width": "278.466px"
   },
   "toc_section_display": true,
   "toc_window_display": false
  }
 },
 "nbformat": 4,
 "nbformat_minor": 1
}
