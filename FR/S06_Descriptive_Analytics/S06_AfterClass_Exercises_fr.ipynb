{
  "cells": [
    {
      "cell_type": "markdown",
      "metadata": {
        "id": "PdRRhLQSBimf"
      },
      "source": [
        "# S06 - Exercices après le cours : Analyse descriptive et visualisation\n",
        "\n",
        "## Instructions\n",
        "Pour chaque exercice, vous avez une cellule de code pour la réponse en dessous, où vous devez écrire votre réponse entre les lignes contenant `### commencez votre code ici ###` et `### terminez votre code ici ###`. Votre code peut contenir une ou plusieurs lignes et vous pouvez exécuter cette cellule afin de terminer l'exercice. Pour exécuter la cellule, vous pouvez taper `Shift+Enter` ou appuyer sur le bouton de lecture dans la barre d'outils ci-dessus. Vos résultats apparaîtront juste en dessous de cette cellule de réponse.\n",
        "\n",
        "REMARQUE : Veuillez prêter attention au nom de la variable de sortie que vous devez fournir pour chaque question. Vous devez utiliser le même nom de variable pour la sortie afin que le résultat puisse être imprimé correctement."
      ]
    },
    {
      "cell_type": "markdown",
      "metadata": {
        "id": "_1wW6TfIBimi"
      },
      "source": [
        "# Analyse et visualisation de statistiques sur les cultures dans les Amériques\n",
        "Dans ce notebook, vous allez mettre en œuvre une visualisation des données sur des statistiques des cultures dans les Amériques. Ces données sont disponibles dans le fichier CSV `Production_Crops_E_Americas.csv`, adapté des données fournies par l'Organisation des Nations Unies pour l'alimentation et l'agriculture (FAO). Les fichiers originaux peuvent être trouvés à [cette page](https://data.world/agriculture/crop-production).\n",
        "\n",
        "Voici une description des colonnes de ces données adaptées :\n",
        "\n",
        "| NOM DE LA VARIABLE | DESCRIPTION |  \n",
        "|:----|:----|  \n",
        "|area_code| valeur numérique représentant la zone |  \n",
        "|area| nom de la zone (par exemple, Argentine, Canada, Chili, Colombie) |  \n",
        "|item_code| valeur numérique représentant l'article |  \n",
        "|item| nom du produit (par exemple, Bananes, Haricots, Manioc) |  \n",
        "|element_code| valeur numérique représentant l'élément |  \n",
        "|element| spécification des données (par exemple, Superficie Récoltée, Rendement, Production) |  \n",
        "|unit| unité de mesure (par exemple, ha - *hectare* -, hg/ha - *hectogramme par hectare* -, et tonnes) |  \n",
        "|Y2000| récolte de l'année 2000 |  \n",
        "|...| ... |  \n",
        "|Y2014| récolte de l'année 2014 |"
      ]
    },
    {
      "cell_type": "markdown",
      "metadata": {
        "id": "plhfGNSZBimj"
      },
      "source": [
        "## Préparation des données : importation de librairies et d'ensembles de données\n",
        "\n",
        "Dans la cellule de code ci-dessous, importez la librairie `pandas` sous l'alias `pd` ; la librairie `seaborn` sous l'alias `sns` ; et la librairie `matplotlib.pyplot` sous l'alias `plt`.\n",
        "\n",
        "**IMPORTANT :** Il vous suffit d'exécuter les cellules de code ci-dessous pour prétraiter les données jusqu'à ce que le DataFrame `df_transformed` soit généré (avant l'exercice 1)"
      ]
    },
    {
      "cell_type": "code",
      "execution_count": null,
      "metadata": {
        "id": "xrObjeR4Bimj"
      },
      "outputs": [],
      "source": [
        "import pandas as pd\n",
        "import matplotlib.pyplot as plt\n",
        "import seaborn as sns"
      ]
    },
    {
      "cell_type": "markdown",
      "metadata": {
        "id": "xhHWioaABimk"
      },
      "source": [
        "Importez le fichier de données `Production_Crops_E_Americas.csv` dans un DataFrame nommé `df_crops`.\n",
        "\n",
        "**Remarque :** vous pouvez utiliser la fonction `pandas.read_csv()` et le paramètre `encoding` défini sur `latin-1'` pour éviter les erreurs dues aux caractères spéciaux dans le fichier de données."
      ]
    },
    {
      "cell_type": "code",
      "execution_count": null,
      "metadata": {
        "id": "Tf6dXR0fBiml",
        "scrolled": true
      },
      "outputs": [],
      "source": [
        "url = 'https://raw.githubusercontent.com/acedesci/scanalytics/master/data/Production_Crops_E_Americas.csv'\n",
        "df_crops = pd.read_csv(url, encoding='latin-1')  # lecture d'un fichier de données dans un DataFrame\n",
        "df_crops.head()\n",
        "    \n",
        "# remplacement des valeurs manquantes par 0\n",
        "df_crops.fillna(0, inplace=True) \n",
        "\n",
        "df_crops.head()"
      ]
    },
    {
      "cell_type": "markdown",
      "metadata": {
        "id": "a-o3bEg9QKpO"
      },
      "source": [
        "Étant donné que les données se trouvent dans une structure pivot, nous les transformons à l'aide de la fonction `pd.melt(...)` pour les dé-pivoter et réorganiser les années en une seule colonne. Voir [ce lien](https://pandas.pydata.org/docs/reference/api/pandas.melt.html)."
      ]
    },
    {
      "cell_type": "code",
      "execution_count": null,
      "metadata": {
        "colab": {
          "base_uri": "https://localhost:8080/",
          "height": 423
        },
        "id": "wpDtlArYQJoH",
        "outputId": "3dd60467-296a-40a1-9144-fa13d3f8657e"
      },
      "outputs": [],
      "source": [
        "df_unpivot = pd.melt(df_crops, \n",
        "                     id_vars=['item', 'area', 'element'], \n",
        "                     value_vars=[f'Y20{i:02d}' for i in range(15)], \n",
        "                     var_name='year', value_name='value') \n",
        "df_unpivot"
      ]
    },
    {
      "cell_type": "markdown",
      "metadata": {
        "id": "YJ-zd-fQnUpG"
      },
      "source": [
        "Nous transformons ensuite les données et plaçons les valeurs dans des colonnes séparées pour les variables."
      ]
    },
    {
      "cell_type": "code",
      "execution_count": null,
      "metadata": {
        "colab": {
          "base_uri": "https://localhost:8080/",
          "height": 423
        },
        "id": "qFXH5tEuQxaK",
        "outputId": "bf1740d4-1288-47cb-ca24-e6f8ce357e8a"
      },
      "outputs": [],
      "source": [
        "df_transformed = df_unpivot.pivot(index=[\"item\", \"area\", \"year\"], \n",
        "                                  columns='element', values='value').reset_index()\n",
        "df_transformed"
      ]
    },
    {
      "cell_type": "markdown",
      "metadata": {
        "id": "qQIAim-HBimn"
      },
      "source": [
        "## Exercice 1 : Visualisations\n",
        "**a)** Explorons la production de certains produits au Canada de 2000 à 2014. Pour cela, nous séparons d'abord les données qui nous intéressent. Plus précisément, nous nous intéressons uniquement aux données de `df_transformed` en fonction des conditions suivantes\n",
        "\n",
        "* la zone est `'Canada'`\n",
        "* liste des articles (produits) à analyser : `'Blueberries'`, `'Raspberries'` et `'Strawberries'`\n",
        "\n",
        "Veuillez placer le DataFrame résultant dans un nouvel objet DataFrame `df_canada`."
      ]
    },
    {
      "cell_type": "code",
      "execution_count": null,
      "metadata": {
        "colab": {
          "base_uri": "https://localhost:8080/",
          "height": 1000
        },
        "id": "HjiJKiLrBimn",
        "outputId": "e75474e5-fc0c-4731-abc5-fc10a800eab8"
      },
      "outputs": [],
      "source": [
        "### commencez votre code ici ###\n",
        "\n",
        "### terminez votre code ici ###"
      ]
    },
    {
      "cell_type": "markdown",
      "metadata": {
        "id": "F5e0_SrGBimp"
      },
      "source": [
        "**b)** Créez un graphique linéaire à partir du DataFrame `df_canada` pour afficher la production de `'Blueberries'`, `'Raspberries'` et `'Strawberries'` au Canada. Configurez l'esthétique de votre graphique comme suit.\n",
        "\n",
        "* Définissez la taille de la figure sur `(12, 6)`\n",
        "* Donnez le titre `'Annual Production in Canada'` au graphique\n",
        "* Définissez les étiquettes des axes x et y comme `'Year'` et `'Tonnes'`, respectivement\n",
        "* Chaque élément doit apparaître comme une ligne distincte dans le graphique en utilisant les arguments `hue=\"item\"`, `style=\"item\"` et `markers=True`\n",
        "\n",
        "**Indice**:\n",
        "\n",
        "* Utilisez la fonction `seaborn.lineplot()` pour dessiner un tracé linéaire avec plusieurs groupes sémantiques (par exemple, pour différencier les éléments). Consultez [cette page](https://seaborn.pydata.org/generated/seaborn.lineplot.html) pour plus d'informations sur cette fonction.\n",
        "* Utilisez les fonctions `plt.title()` et `plt.figure()` pour définir respectivement le titre et la taille du graphique."
      ]
    },
    {
      "cell_type": "code",
      "execution_count": null,
      "metadata": {
        "colab": {
          "base_uri": "https://localhost:8080/",
          "height": 421
        },
        "id": "CtV2P1BlBimp",
        "outputId": "87cee2ab-f89f-4f2f-c239-de3c02d0f21d",
        "scrolled": false
      },
      "outputs": [],
      "source": [
        "### commencez votre code ici ###\n",
        "\n",
        "### terminez votre code ici ###"
      ]
    },
    {
      "cell_type": "markdown",
      "metadata": {
        "id": "P344fqFdBims"
      },
      "source": [
        "**c)** Créez un nuage de points à partir du DataFrame `df_canada` pour montrer les relations entre la superficie récoltée et la production des produits sélectionnés au Canada. Configurez l'esthétique de votre graphique comme suit.\n",
        "\n",
        "* Définissez la taille de la figure sur `(12, 6)`\n",
        "* Donner un titre significatif au graphique\n",
        "* Utilisez le style `'white'`\n",
        "* Définissez les étiquettes des axes x et y comme `'Hectares'` et `'Tonnes'`, respectivement\n",
        "* Chaque produit doit être différencié à l'aide de l'argument `hue='item'`\n",
        "\n",
        "**Indice:**\n",
        "* Utilisez la fonction `seaborn.scatterplot()` pour dessiner un graphique avec plusieurs groupes sémantiques (par exemple, pour différencier les éléments). Consultez [cette page](https://seaborn.pydata.org/generated/seaborn.scatterplot.html) pour plus d'informations sur cette fonction."
      ]
    },
    {
      "cell_type": "code",
      "execution_count": null,
      "metadata": {
        "colab": {
          "base_uri": "https://localhost:8080/",
          "height": 404
        },
        "id": "cMdfTmPpBims",
        "outputId": "afcb973b-96db-48c5-d903-08e44320d1cf"
      },
      "outputs": [],
      "source": [
        "### commencez votre code ici ###\n",
        "\n",
        "### terminez votre code ici ###"
      ]
    },
    {
      "cell_type": "markdown",
      "metadata": {
        "id": "FC1_L-NcTeKW"
      },
      "source": [
        "## Exercice 2 : Algorithmes de clustering\n",
        "\n",
        "**a)** Veuillez filtrer et transformer les données du DataFrame transformé `df_transformed` (qui contient les données de tous les pays) en suivant les étapes suivantes\n",
        "\n",
        "* Étape 1 : Filtrer uniquement l'élément : `'Grapes'`\n",
        "* Étape 2 : Utilisez la méthode `DataFrame.groupby()` pour résumer les statistiques par pays (`area`) pour les variables suivantes :\n",
        "* `'Production'` moyenne par an\n",
        "* `'Rendement'` moyen par an\n",
        "* Étape 3 : Supprimez les lignes avec `NaN` (Astuce : vous pouvez utiliser `df = df.dropna(axis='rows')`. Voir [ce lien](https://pandas.pydata.org/pandas-docs/stable/reference/api/pandas.DataFrame.dropna.html).\n",
        "* Étape 4 : standardiser les deux colonnes ci-dessus à l'aide de la transformation z-score et placez-les dans des nouvelles colonnes avec le préfixe `'z_'`"
      ]
    },
    {
      "cell_type": "code",
      "execution_count": null,
      "metadata": {
        "colab": {
          "base_uri": "https://localhost:8080/",
          "height": 582
        },
        "id": "MSpYrN3cWHbQ",
        "outputId": "038bca6f-de62-4cb1-f6e8-1bb6a91eeba0"
      },
      "outputs": [],
      "source": [
        "### commencez votre code ici ###\n",
        "\n",
        "### terminez votre code ici ###"
      ]
    },
    {
      "cell_type": "markdown",
      "metadata": {
        "id": "saoHxhPLZ6iZ"
      },
      "source": [
        "**Remarque :** pour les deux questions suivantes, vous pouvez utiliser le code de clustering du cours et l'adapter à ces données.\n",
        "\n",
        "**b)** Appliquez la méthode $k$-means pour regrouper les pays en fonction du DataFrame récemment créé à l'aide des variables standardisées `[\"z_Production\", \"z_Yield\"]`. Veuillez comparer les résultats en fonction de $k = 2, 3, ..., 9$ et recommander le meilleur nombre de clusters."
      ]
    },
    {
      "cell_type": "code",
      "execution_count": null,
      "metadata": {
        "colab": {
          "base_uri": "https://localhost:8080/",
          "height": 373
        },
        "id": "RbKRRSa2amNI",
        "outputId": "af434bb8-d03f-443f-e743-f9cf914b7034"
      },
      "outputs": [],
      "source": [
        "### commencez votre code ici ###\n",
        "\n",
        "### terminez votre code ici ###"
      ]
    },
    {
      "cell_type": "markdown",
      "metadata": {
        "id": "RTDjsQEhalZc"
      },
      "source": [
        "**c)** Appliquez la méthode de clustering hiérarchique pour regrouper les pays en utilisant les variables standardisées `[\"z_Production\", \"z_Yield\"]` et en utilisant $k = 2, 3, 4$. Veuillez ensuite expliquer à quoi ressemble la hiérarchie résultante des clusters. Plus précisément, quels clusters sont agrégés et combinés à partir de $k = 4$ ?"
      ]
    },
    {
      "cell_type": "code",
      "execution_count": null,
      "metadata": {
        "colab": {
          "base_uri": "https://localhost:8080/"
        },
        "id": "52tfCrfdbOMK",
        "outputId": "3ced7062-0067-4115-8fce-d12fc7e1de30"
      },
      "outputs": [],
      "source": [
        "### commencez votre code ici ###\n",
        "\n",
        "### terminez votre code ici ###"
      ]
    },
    {
      "cell_type": "code",
      "execution_count": null,
      "metadata": {},
      "outputs": [],
      "source": []
    }
  ],
  "metadata": {
    "kernelspec": {
      "display_name": "Python 3 (ipykernel)",
      "language": "python",
      "name": "python3"
    },
    "language_info": {
      "codemirror_mode": {
        "name": "ipython",
        "version": 3
      },
      "file_extension": ".py",
      "mimetype": "text/x-python",
      "name": "python",
      "nbconvert_exporter": "python",
      "pygments_lexer": "ipython3",
      "version": "3.11.5"
    },
    "toc": {
      "base_numbering": 1,
      "nav_menu": {},
      "number_sections": true,
      "sideBar": true,
      "skip_h1_title": false,
      "title_cell": "Table of Contents",
      "title_sidebar": "Contents",
      "toc_cell": false,
      "toc_position": {},
      "toc_section_display": true,
      "toc_window_display": false
    }
  },
  "nbformat": 4,
  "nbformat_minor": 1
}
