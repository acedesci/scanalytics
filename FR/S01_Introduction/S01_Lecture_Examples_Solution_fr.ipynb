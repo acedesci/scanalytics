{
 "cells": [
  {
   "cell_type": "markdown",
   "metadata": {
    "id": "S2Q5y_D6ULI8"
   },
   "source": [
    "# S01 Notions de base sur Python"
   ]
  },
  {
   "cell_type": "markdown",
   "metadata": {
    "id": "dOPDbmdOULJB"
   },
   "source": [
    "## Déclaration des variables et opérations"
   ]
  },
  {
   "cell_type": "markdown",
   "metadata": {
    "id": "ju_uLGptULJC"
   },
   "source": [
    "### Exemple 1 : Déclaration de variables"
   ]
  },
  {
   "cell_type": "markdown",
   "metadata": {
    "id": "7ulKW6ogULJC"
   },
   "source": [
    "Utilisez une variable de type entier (`int`), une variable de type float (`float`) et une variable de type chaîne (`str`).\n",
    "\n",
    "**REMARQUE :** `#` est utilisé avant le commentaire et le texte après `#` ne fait pas partie du code."
   ]
  },
  {
   "cell_type": "code",
   "execution_count": 1,
   "metadata": {
    "id": "TTuQKK3bULJD"
   },
   "outputs": [
    {
     "name": "stdout",
     "output_type": "stream",
     "text": [
      "Value of variable 'int_var': 552 , Type:  <class 'int'>\n",
      "Value of variable 'float_var': 3.141592 , Type:  <class 'float'>\n",
      "Value of variable 'str_var': Supply Chain Analytics , Type:  <class 'str'>\n"
     ]
    }
   ],
   "source": [
    "# déclarer des variables\n",
    "int_var = 552\n",
    "float_var = 3.141592\n",
    "str_var = 'Supply Chain Analytics'\n",
    "\n",
    "print(\"Value of variable 'int_var':\", int_var, \", Type: \", type(int_var))\n",
    "print(\"Value of variable 'float_var':\", float_var, \", Type: \", type(float_var))\n",
    "print(\"Value of variable 'str_var':\", str_var, \", Type: \", type(str_var))"
   ]
  },
  {
   "cell_type": "markdown",
   "metadata": {
    "id": "iFnhHHE5ULJE"
   },
   "source": [
    "### Exemple 2 : Coût de production unitaire"
   ]
  },
  {
   "cell_type": "markdown",
   "metadata": {
    "id": "6_pg7C7uULJE"
   },
   "source": [
    "Le coût unitaire est déterminé en combinant les coûts variables et les coûts fixes et en divisant le résultat par le nombre total d'unités produites. En supposant que le coût fixe total est de $40 000 \\$$, que le coût variable total est de $20 000 \\$$ et que vous avez produit $30 000$ unités, veuillez calculer le coût de production unitaire."
   ]
  },
  {
   "cell_type": "code",
   "execution_count": 2,
   "metadata": {
    "id": "xgDSvP7nULJF"
   },
   "outputs": [
    {
     "name": "stdout",
     "output_type": "stream",
     "text": [
      "Unit production cost is:  2.0\n"
     ]
    }
   ],
   "source": [
    "# déclarer des variables\n",
    "fixed_cost = 40000\n",
    "variable_cost = 20000\n",
    "total_prod = 30000\n",
    "\n",
    "# Calcul du coût unitaire\n",
    "unit_cost = (fixed_cost + variable_cost) / total_prod\n",
    "\n",
    "print('Unit production cost is: ', unit_cost)"
   ]
  },
  {
   "cell_type": "markdown",
   "metadata": {
    "id": "SoSJPAjNULJF"
   },
   "source": [
    "### Exemple 3 : EOQ"
   ]
  },
  {
   "cell_type": "markdown",
   "metadata": {
    "id": "nikAsR7-ULJG"
   },
   "source": [
    "La quantité économique à commander (EOQ) est la quantité de commande idéale qu'une entreprise doit acheter pour minimiser les coûts de stock tels que les coûts de stockage, les coûts de pénurie et les coûts de commande."
   ]
  },
  {
   "cell_type": "markdown",
   "metadata": {
    "id": "r3x6Uf68ULJG"
   },
   "source": [
    "<img src=\"https://raw.githubusercontent.com/acedesci/scanalytics/master/FR/S01_Introduction/_static/EOQ-4.png\"  width=\"600\"/>"
   ]
  },
  {
   "cell_type": "markdown",
   "metadata": {
    "id": "Zr0bJDMHULJH"
   },
   "source": [
    "L'EOQ est calculé comme suit :\n",
    "$$ EOQ=\\sqrt{\\frac{2DO}{H}}$$\n",
    "\n",
    "- $D$ : demande annuelle totale, c'est-à-dire la quantité du produit qui est utilisée chaque année ;\n",
    "- $H$ : coût de stockage par unité, c'est-à-dire le coût de possession d'une unité du produit par an ;\n",
    "- $O$ : coût fixe par commande, c'est-à-dire le coût de passation d'une commande."
   ]
  },
  {
   "cell_type": "code",
   "execution_count": 3,
   "metadata": {
    "id": "QC30694kULJH"
   },
   "outputs": [
    {
     "name": "stdout",
     "output_type": "stream",
     "text": [
      "The economic order quantity is:  489.89794855663564\n"
     ]
    }
   ],
   "source": [
    "# déclarer des variables\n",
    "D = 20000   # demande annuelle\n",
    "H = 5       # coût de stockage unitaire\n",
    "O = 30      # coût de commande fixe\n",
    "\n",
    "# calcul EOQ\n",
    "EOQ = ((2 * D * O) / H)**(1/2)\n",
    "print('The economic order quantity is: ', EOQ)"
   ]
  },
  {
   "cell_type": "code",
   "execution_count": null,
   "metadata": {},
   "outputs": [],
   "source": []
  }
 ],
 "metadata": {
  "kernelspec": {
   "display_name": "Python 3 (ipykernel)",
   "language": "python",
   "name": "python3"
  },
  "language_info": {
   "codemirror_mode": {
    "name": "ipython",
    "version": 3
   },
   "file_extension": ".py",
   "mimetype": "text/x-python",
   "name": "python",
   "nbconvert_exporter": "python",
   "pygments_lexer": "ipython3",
   "version": "3.11.5"
  },
  "toc": {
   "base_numbering": 1,
   "nav_menu": {},
   "number_sections": true,
   "sideBar": true,
   "skip_h1_title": false,
   "title_cell": "Table of Contents",
   "title_sidebar": "Contents",
   "toc_cell": false,
   "toc_position": {},
   "toc_section_display": true,
   "toc_window_display": true
  }
 },
 "nbformat": 4,
 "nbformat_minor": 4
}
