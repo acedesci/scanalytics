{
  "cells": [
    {
      "cell_type": "markdown",
      "metadata": {
        "id": "JIu64D3PUvuH"
      },
      "source": [
        "# S01 Exercices en classe : Notions de base de Python (solution)"
      ]
    },
    {
      "cell_type": "markdown",
      "metadata": {
        "id": "xTl2iP2WUvuM"
      },
      "source": [
        "## Instructions\n",
        "\n",
        "La plupart des exercices présentés ici vous permettent de pratiquer la programmation Python de base pour certaines applications en gestion des opérations et de la logistique.\n",
        "\n",
        "Pour chaque exercice, vous avez une cellule de code pour la réponse en dessous, où vous devez écrire votre réponse entre les lignes contenant `### commencez votre code ici ###` et `### terminez votre code ici ###`. Votre code peut contenir une ou plusieurs lignes et vous pouvez exécuter cette cellule afin de terminer l'exercice. Pour exécuter la cellule, vous pouvez taper `Shift+Enter` ou appuyer sur le bouton de lecture dans la barre d'outils ci-dessus. Vos résultats apparaîtront juste en dessous de cette cellule de réponse.\n",
        "\n",
        "**REMARQUE :** Veuillez prêter attention au nom de la variable de sortie que vous devez fournir sous chaque question. Vous devez utiliser le même nom de variable pour la sortie afin que le résultat puisse être imprimé correctement."
      ]
    },
    {
      "cell_type": "markdown",
      "metadata": {
        "id": "9vouvkz_UvuN"
      },
      "source": [
        "## Déclaration des variables et opérations"
      ]
    },
    {
      "cell_type": "markdown",
      "metadata": {
        "id": "sNGxhiKwUvuN"
      },
      "source": [
        "Les valeurs et les variables peuvent être manipulées à l'aide d'opérateurs. Les opérateurs sont des symboles qui effectuent des opérations sur les valeurs. Vous pouvez consulter [cette page](https://www.w3schools.com/python/python_operators.asp) pour plus d'informations sur les opérateurs en général.\n",
        "\n",
        "Les opérateurs arithmétiques sont les plus courants, nous allons donc voir comment les utiliser pour manipuler des nombres. Dans ces exercices, vous utiliserez des opérateurs arithmétiques avec des valeurs numériques pour effectuer des opérations mathématiques courantes.\n",
        "\n",
        "Pour chaque exercice, utilisez les opérateurs arithmétiques (`+`, `-`,` * `,` / `)."
      ]
    },
    {
      "cell_type": "markdown",
      "metadata": {
        "id": "XNyurkD_UvuO"
      },
      "source": [
        "### Exercice 1 : Demande totale\n",
        "Le tableau ci-dessous présente des informations sur les commandes passées par les clients pour la semaine prochaine. Créez une variable pour chaque `ClientID` avec un nom commençant par `demand_` et se terminant par le `ClientID` (par exemple, `demand_X15`), calculez la demande totale et attribuez cette valeur à la variable `total_demand`.\n",
        "\n",
        "| ClientID | Date | Demand (units)| \n",
        "| :------: | :----: | :-------------: |\n",
        "| X15       | 06-12-2020 | 560 |\n",
        "| AO5       | 06-12-2020 | 1152 |\n",
        "| ZI5       | 08-12-2020 | 32 |\n",
        "| T65       | 10-12-2020 | 194 "
      ]
    },
    {
      "cell_type": "code",
      "execution_count": 2,
      "metadata": {
        "id": "XIt-PAVIUvuO",
        "outputId": "63c093c0-0234-4de6-a0fb-f79f0ac4a29d"
      },
      "outputs": [
        {
          "name": "stdout",
          "output_type": "stream",
          "text": [
            "The total demand is:  1938\n"
          ]
        }
      ],
      "source": [
        "### commencez votre code ici ###\n",
        "demand_X15 = 560\n",
        "demand_AO5 = 1152\n",
        "demand_ZI5 = 32\n",
        "demand_T65 = 194\n",
        "\n",
        "total_demand = demand_X15 + demand_AO5 + demand_ZI5 + demand_T65\n",
        "### terminez votre code ici ###\n",
        "\n",
        "print('The total demand is: ', total_demand)"
      ]
    },
    {
      "cell_type": "markdown",
      "metadata": {
        "id": "UAH_fDBzUvuQ"
      },
      "source": [
        "### Exercice 2 : Distance euclidienne\n",
        "\n",
        "Calculer la distance euclidienne entre un entrepôt et un client $d(W,C)$, sachant les coordonnées de l'entrepôt $W=(2.1, 15.3)$ et du client $C=(12.4, 1.7)$. Affecter cette valeur à la variable `euc_dist`.\n",
        "\n",
        "**REMARQUE :** la distance euclidienne entre deux points $(x_1, y_1)$ et $(x_2, y_2)$ est égale à $\\sqrt{(x_2-x_1)^2+(y_2-y_1)^2}$ (voir aussi https://en.wikipedia.org/wiki/Euclidean_distance)\n",
        "\n",
        "**ASTUCE :** l'opérateur de puissance dans Python 3 est `**`. Vous pouvez vous référer aux références https://www.educative.io/edpresso/power-operator-in-python et https://docs.python.org/3/reference/expressions.html#the-power-operator pour plus de détails.\n"
      ]
    },
    {
      "cell_type": "code",
      "execution_count": 3,
      "metadata": {
        "colab": {
          "base_uri": "https://localhost:8080/"
        },
        "id": "Vt0eef2WUvuR",
        "outputId": "77e19e6b-e62c-400e-daa9-2da24410ea67"
      },
      "outputs": [
        {
          "name": "stdout",
          "output_type": "stream",
          "text": [
            "The Euclidian distance between the warehouse and the client is:  17.060187572239645\n"
          ]
        }
      ],
      "source": [
        "### commencez votre code ici ###\n",
        "euc_dist = ((2.1-12.4)**2 + (15.3-1.7)**2) **(0.5)\n",
        "### terminez votre code ici ###\n",
        "\n",
        "print('The Euclidian distance between the warehouse and the client is: ', euc_dist)"
      ]
    },
    {
      "cell_type": "markdown",
      "metadata": {
        "id": "29DWMZSCUvuR"
      },
      "source": [
        "### Exercice 3 : Coûts totaux\n",
        "Sur la base de l'estimation du coût d'acquisition unitaire, de la quantité commandée, du stock de sécurité, de la demande annuelle, du coût de commande unitaire et du coût de stockage annuel d'une unité, veuillez calculer le coût annuel total à l'aide des informations ci-dessous. Le coût annuel total comprend le coût annuel d'acquisition, le coût total de commande et le coût annuel de stockage, et peut être formellement exprimé comme suit :\n",
        "\n",
        "$$TC=P \\cdot D + O\\left(\\frac{D}{Q}\\right) + H\\left(\\frac{Q}{2}+SS\\right)$$\n",
        "\n",
        "- $TC$ : coût annuel total (résultat requis) ;\n",
        "- $P$ : prix unitaire d'achat (=$\\$5.6$);\n",
        "- $D$ : demande annuelle (=$15000$ unités) ;\n",
        "- $O$ : coût fixe par commande (=$\\$45$);\n",
        "- $Q$ : quantité commandée (=$200$ unités) ;\n",
        "- $H$ : coût de stockage unitaire par an (=$\\$0.8$);\n",
        "- $SS$ : stock de sécurité (=$50$ unités)."
      ]
    },
    {
      "cell_type": "code",
      "execution_count": 4,
      "metadata": {
        "id": "8MujUD3BUvuR",
        "outputId": "46386923-d1f2-44d5-ba6f-8eea4c6b1eae"
      },
      "outputs": [
        {
          "name": "stdout",
          "output_type": "stream",
          "text": [
            "The total annual cost is:  87495.0\n"
          ]
        }
      ],
      "source": [
        "### commencez votre code ici ###\n",
        "total_annual_cost = 5.6 * 15000 + 45 * (15000/200) + 0.8 * ((200/2) + 50)\n",
        "### terminez votre code ici ###\n",
        "\n",
        "print('The total annual cost is: ', total_annual_cost)"
      ]
    },
    {
      "cell_type": "code",
      "execution_count": null,
      "metadata": {},
      "outputs": [],
      "source": []
    }
  ],
  "metadata": {
    "kernelspec": {
      "display_name": "Python 3 (ipykernel)",
      "language": "python",
      "name": "python3"
    },
    "language_info": {
      "codemirror_mode": {
        "name": "ipython",
        "version": 3
      },
      "file_extension": ".py",
      "mimetype": "text/x-python",
      "name": "python",
      "nbconvert_exporter": "python",
      "pygments_lexer": "ipython3",
      "version": "3.11.5"
    },
    "toc": {
      "base_numbering": 1,
      "nav_menu": {},
      "number_sections": true,
      "sideBar": true,
      "skip_h1_title": false,
      "title_cell": "Table of Contents",
      "title_sidebar": "Contents",
      "toc_cell": false,
      "toc_position": {},
      "toc_section_display": true,
      "toc_window_display": true
    }
  },
  "nbformat": 4,
  "nbformat_minor": 1
}
