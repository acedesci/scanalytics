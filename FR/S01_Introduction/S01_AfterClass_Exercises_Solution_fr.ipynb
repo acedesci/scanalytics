{
  "cells": [
    {
      "cell_type": "markdown",
      "metadata": {
        "id": "k1ZcRrpotTl9"
      },
      "source": [
        "# S01 Exercices après le cours : Notions de base de Python (solution)"
      ]
    },
    {
      "cell_type": "markdown",
      "metadata": {
        "id": "gxsKhd2qtTmE"
      },
      "source": [
        "## Instructions\n",
        "\n",
        "La plupart des exercices présentés ici vous permettent de pratiquer la programmation Python de base pour certaines applications en gestion des opérations et de la logistique.\n",
        "\n",
        "Pour chaque exercice, vous avez une cellule de code pour la réponse en dessous, où vous devez écrire votre réponse entre les lignes contenant `### commencez votre code ici ###` et `### terminez votre code ici ###`. Votre code peut contenir une ou plusieurs lignes et vous pouvez exécuter cette cellule afin de terminer l'exercice. Pour exécuter la cellule, vous pouvez taper `Shift+Enter` ou appuyer sur le bouton de lecture dans la barre d'outils ci-dessus. Vos résultats apparaîtront juste en dessous de cette cellule de réponse.\n",
        "\n",
        "**REMARQUE :** Veuillez prêter attention au nom de la variable de sortie que vous devez fournir sous chaque question. Vous devez utiliser le même nom de variable pour la sortie afin que le résultat puisse être imprimé correctement."
      ]
    },
    {
      "cell_type": "markdown",
      "metadata": {
        "id": "tar9dEqQtTmE"
      },
      "source": [
        "## Déclaration des variables et opérations"
      ]
    },
    {
      "cell_type": "markdown",
      "metadata": {
        "id": "QoqDmd7ftTmF"
      },
      "source": [
        "Les valeurs et les variables peuvent être manipulées à l'aide d'opérateurs. Les opérateurs sont des symboles qui effectuent des opérations sur les valeurs. Vous pouvez consulter [cette page](https://www.w3schools.com/python/python_operators.asp) pour plus d'informations sur les opérateurs en général.\n",
        "\n",
        "Les opérateurs arithmétiques sont les plus courants, nous allons donc voir comment les utiliser pour manipuler des nombres. Dans ces exercices, vous utiliserez des opérateurs arithmétiques avec des valeurs numériques pour effectuer des opérations mathématiques courantes.\n",
        "\n",
        "Pour chaque exercice, utilisez les opérateurs arithmétiques (`+`, `-`,` * `,` / `)."
      ]
    },
    {
      "cell_type": "markdown",
      "metadata": {
        "id": "kVomMRYotTmF"
      },
      "source": [
        "## Calcul de l'EOQ et des coûts totaux\n",
        "\n",
        "L'année dernière, un supermarché a vendu des paquets de 5 kg de riz brun d'une valeur de 150 000 \\$. On prévoit que les ventes de ce produit augmenteront de 10 % cette année. Le prix actuel de ce produit de riz brun est fixé à 14,65 \\$. Le coût d'acquisition de ce produit est de 5,3 \\$. Le supermarché a calculé que le coût de commande est de 45 \\$ par commande et que le coût unitaire des stocks est de 22 % du coût d'acquisition."
      ]
    },
    {
      "cell_type": "markdown",
      "metadata": {
        "id": "LoyWtI0rtTmF"
      },
      "source": [
        "### Exercice 1 : Demande annuelle\n",
        "Calculez la demande annuelle pour cette année et attribuez cette valeur à la variable `annual_demand`."
      ]
    },
    {
      "cell_type": "code",
      "execution_count": 7,
      "metadata": {
        "id": "3nbTeOtdtTmG",
        "outputId": "1b71a1e0-719f-4f32-ba74-b1677a4774e1"
      },
      "outputs": [
        {
          "name": "stdout",
          "output_type": "stream",
          "text": [
            "The annual demand for this year is:  165000.0\n"
          ]
        }
      ],
      "source": [
        "### commencez votre code ici ###\n",
        "annual_demand = 150000 * 1.1\n",
        "### terminez votre code ici ###\n",
        "\n",
        "print('The annual demand for this year is: ', annual_demand)"
      ]
    },
    {
      "cell_type": "markdown",
      "metadata": {
        "id": "SJjRW0QDtTmH"
      },
      "source": [
        "### Exercice 2 : Coût unitaire de stockage\n",
        "Calculez le coût unitaire de stockage et attribuez cette valeur à la variable `inv_cost`."
      ]
    },
    {
      "cell_type": "code",
      "execution_count": 8,
      "metadata": {
        "id": "k2TbXHwAtTmH",
        "outputId": "cd25ef33-b94a-4f8a-fd2b-e9cc04e3c5c1"
      },
      "outputs": [
        {
          "name": "stdout",
          "output_type": "stream",
          "text": [
            "The unit inventory holding cost is:  1.166\n"
          ]
        }
      ],
      "source": [
        "### commencez votre code ici ###\n",
        "inv_cost = 0.22 * 5.3\n",
        "### terminez votre code ici ###\n",
        "\n",
        "print('The unit inventory holding cost is: ', inv_cost)"
      ]
    },
    {
      "cell_type": "markdown",
      "metadata": {
        "id": "FG3uYA5RtTmI"
      },
      "source": [
        "### Exercice 3 : EOQ\n",
        "Calculez la quantité économique à commander ($EOQ$) pour ce riz brun de 5 kg en réutilisant les variables précédentes et attribuez cette valeur à la variable `eoq_rice`.\n",
        "\n",
        "Rappelons que la $EOQ$ est calculé comme suit :\n",
        "\n",
        "$$ EOQ=\\sqrt{\\frac{2DO}{H}}$$\n",
        "\n",
        "- $D$ : demande annuelle totale, c'est-à-dire la quantité du produit qui est utilisée chaque année ;\n",
        "- $H$ : coût de stockage unitaire, c'est-à-dire le coût de possession d'une unité du produit par an ;\n",
        "- $O$ : coût fixe par commande, c'est-à-dire le coût de passation d'une commande."
      ]
    },
    {
      "cell_type": "code",
      "execution_count": 9,
      "metadata": {
        "id": "zqW_-1vKtTmI",
        "outputId": "d57abe04-6724-4947-a67a-b032ae7a42d5"
      },
      "outputs": [
        {
          "name": "stdout",
          "output_type": "stream",
          "text": [
            "The EOQ for the 5-kg brown rice is:  3568.7321357316487\n"
          ]
        }
      ],
      "source": [
        "### commencez votre code ici ###\n",
        "eoq_rice = (2 * annual_demand * 45 / inv_cost) ** (1/2)\n",
        "### terminez votre code ici ###\n",
        "\n",
        "print('The EOQ for the 5-kg brown rice is: ', eoq_rice)"
      ]
    },
    {
      "cell_type": "markdown",
      "metadata": {
        "id": "a4PA3xu7tTmI"
      },
      "source": [
        "### Exercice 4 : Coût total de commande\n",
        "\n",
        "Cette partie nécessite deux sorties, `n_orders` et `total_order_cost`, comme suit :\n",
        "\n",
        "1. Calculez le nombre de commandes à passer au cours de cette année en utilisant les variables `annual_demand` et `eoq_rice` des exercices précédents et attribuez cette valeur à la variable `n_orders`.\n",
        "2. Utilisez `n_orders` pour calculer le coût total de commande et attribuez cette valeur à la variable `total_order_cost`.\n",
        "\n",
        "Le coût total de commande $TOC$ est calculé comme ci-dessous, où $Q$ est la quantité commandée et $D/Q$ est le nombre de commandes à passer au cours de l'année.\n",
        "\n",
        "$$ TOC= O\\left(\\frac{D}{Q}\\right)$$"
      ]
    },
    {
      "cell_type": "code",
      "execution_count": 10,
      "metadata": {
        "id": "A6EU7jjjtTmJ",
        "outputId": "378c8b4e-c110-469d-da3b-86bcb1a88a02"
      },
      "outputs": [
        {
          "name": "stdout",
          "output_type": "stream",
          "text": [
            "The number of orders per year is:  46.2349074473678\n",
            "The total ordering cost is :  2080.570835131551\n"
          ]
        }
      ],
      "source": [
        "### commencez votre code ici ###\n",
        "n_orders = annual_demand / eoq_rice\n",
        "total_order_cost = n_orders * 45\n",
        "### terminez votre code ici ###\n",
        "\n",
        "print('The number of orders per year is: ', n_orders)\n",
        "print('The total ordering cost is : ', total_order_cost)"
      ]
    },
    {
      "cell_type": "markdown",
      "metadata": {
        "id": "kyg-1sBMtTmJ"
      },
      "source": [
        "### Exercice 5 : Coût total de gestion des stocks\n",
        "\n",
        "Calculez le coût total en supposant que la quantité commandée est `eoq_rice` et qu'il n'y a pas de stock de sécurité. Affectez cette valeur à la variable `total_cost`.\n",
        "\n",
        "Le coût total peut être calculé comme suit :\n",
        "\n",
        "$$TC=P \\cdot D + O\\left(\\frac{D}{Q}\\right) + H\\left(\\frac{Q}{2}+SS\\right)$$\n",
        "\n",
        "- $TC$ : coût annuel total ;\n",
        "- $P$ : prix unitaire d’achat ;\n",
        "- $D$ : demande annuelle ;\n",
        "- $O$ : coût fixe par commande ;\n",
        "- $Q$ : quantité commandée ;\n",
        "- $H$ : coût de stockage unitaire ;\n",
        "- $SS$ : stock de sécurité."
      ]
    },
    {
      "cell_type": "code",
      "execution_count": 11,
      "metadata": {
        "id": "dl61O1cFtTmJ",
        "outputId": "690f9f29-7978-4c3b-9801-3f94f7449269"
      },
      "outputs": [
        {
          "name": "stdout",
          "output_type": "stream",
          "text": [
            "Total cost:  878661.1416702631\n"
          ]
        }
      ],
      "source": [
        "### commencez votre code ici ###\n",
        "total_cost = 5.3 * annual_demand + total_order_cost + inv_cost * (eoq_rice/2)\n",
        "### terminez votre code ici ###\n",
        "\n",
        "print('Total cost: ', total_cost)"
      ]
    },
    {
      "cell_type": "code",
      "execution_count": null,
      "metadata": {
        "id": "S85usdidtTmK"
      },
      "outputs": [],
      "source": []
    }
  ],
  "metadata": {
    "kernelspec": {
      "display_name": "Python 3 (ipykernel)",
      "language": "python",
      "name": "python3"
    },
    "language_info": {
      "codemirror_mode": {
        "name": "ipython",
        "version": 3
      },
      "file_extension": ".py",
      "mimetype": "text/x-python",
      "name": "python",
      "nbconvert_exporter": "python",
      "pygments_lexer": "ipython3",
      "version": "3.11.5"
    },
    "toc": {
      "base_numbering": 1,
      "nav_menu": {},
      "number_sections": true,
      "sideBar": true,
      "skip_h1_title": false,
      "title_cell": "Table of Contents",
      "title_sidebar": "Contents",
      "toc_cell": false,
      "toc_position": {},
      "toc_section_display": true,
      "toc_window_display": true
    }
  },
  "nbformat": 4,
  "nbformat_minor": 1
}
