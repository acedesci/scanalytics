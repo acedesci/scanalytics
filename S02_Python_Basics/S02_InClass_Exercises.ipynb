{
 "cells": [
  {
   "cell_type": "markdown",
   "metadata": {
    "id": "dusMrXrrgEQw"
   },
   "source": [
    "# S02 In-class Exercises: Python Basics and SC Applications - Part I"
   ]
  },
  {
   "cell_type": "markdown",
   "metadata": {
    "id": "WS5Js8FsgEQ2"
   },
   "source": [
    "---\n",
    "## Instructions\n",
    "\n",
    "Most of the exercises presented here allows you to practice basic Python programming for some applications in Operations Management and Logistics. \n",
    "\n",
    "For each exercise, you have a code cell for the response underneath it, where you should write your answer between the lines containing `### start your code here ###`  and `### end your code here ###`. Your code can contain one or more lines and you can execute this cell in order to complete the exercise. To execute the cell, you can type `Shift+Enter` or press the play button in the toolbar above. Your results will appear right below this response cell.\n",
    "\n",
    "**NOTE:** Please pay attention to the variable name of the output you need to provide under each question. You must use the same variable name for the output so that the result can be printed out correctly."
   ]
  },
  {
   "cell_type": "markdown",
   "metadata": {
    "id": "QbXIY1UDgEQ3"
   },
   "source": [
    "---\n",
    "##  Functions and `math` module"
   ]
  },
  {
   "cell_type": "markdown",
   "metadata": {
    "id": "TRWeE4hKgEQ4"
   },
   "source": [
    "### Exercise 1.1: Reorder Point System (ROP)\n",
    "The EOQ model answer the question \"how much to order?\". The Reorder Point (ROP) tells \"when\" to order. ROP is introduced as the inventory level that signals when it is time to place an order. For example, ROP=1000 means that a new order should be placed as soon as the inventory on hand reaches 1000 units. \n",
    "The ROP is introduced to take into account the *lead time*, i.e., the time between placement and receipt of an order.\n",
    "\n",
    "With the assumption of constant demand and fixed lead time, the ROP is computed as:\n",
    "\n",
    "$$ROP=dL,$$\n",
    "\n",
    "where $d$ is daily demand and $L$ is lead time (in days)."
   ]
  },
  {
   "cell_type": "markdown",
   "metadata": {
    "id": "leTuH751gEQ4"
   },
   "source": [
    "\n",
    "<div>\n",
    "  <img src=\"attachment:ROP-2.PNG\" width=\"700\">\n",
    "</div>"
   ]
  },
  {
   "cell_type": "markdown",
   "metadata": {
    "id": "FlFz2elDgEQ5"
   },
   "source": [
    "Create a function which return the ROP given two arguments: (i) the daily demand $d$ and (ii) the lead time in days $L$. Name this function as `ROP`. Next, call this function to compute the ROP for demand $d=450$ and $L=3$."
   ]
  },
  {
   "cell_type": "code",
   "execution_count": null,
   "metadata": {
    "id": "Y4PN7QLSgEQ5"
   },
   "outputs": [],
   "source": [
    "### start your code here ###\n",
    "\n",
    "### end your code here ####\n",
    "\n",
    "# calling the ROP function assuming d=450 and leadtime=3\n",
    "print(\"The ROP is: \", ROP(450, 3))"
   ]
  },
  {
   "cell_type": "markdown",
   "metadata": {
    "id": "xRhADX1HgEQ6"
   },
   "source": [
    "### Exercise 1.2: ROP with Safety Stock (SS)\n",
    "\n",
    "An important aspect to consider in the ROP system is the demand variation during the lead time. If actual demand during the lead time is superior to $d$, the inventory will run out before the next order arrives. In order to correctly calculate the ROP for this case, the safety stock level must be taken into account. \n",
    "<div>\n",
    "    <img src=\"attachment:ROPSs-2.png\" width=\"700\">\n",
    "</div>"
   ]
  },
  {
   "cell_type": "markdown",
   "metadata": {
    "id": "J0DtkYfMgEQ7"
   },
   "source": [
    "The ROP with this case is computed as follows:\n",
    "\n",
    "$$ROP \\,(\\text{with SS}) = \\bar{d}L +SS,$$\n",
    "\n",
    "where:\n",
    "- $\\bar{d}$: average demand,\n",
    "- $L$: lead time,\n",
    "- $SS$: safety stock. \n",
    "\n",
    "One way to compute the safety stock  involves determining your service level,  the average  and the standard deviation of the demand. If demand is assumed to be normally distributed during the lead time, the safety stock can be  computed as: \n",
    "\n",
    "$$SS=Z\\sigma\\sqrt{L},$$\n",
    "\n",
    "where:\n",
    "- $Z$ coefficient from the normal distribution table corresponding to the desired service level,\n",
    "- $\\sigma$: standard deviation of the demand. \n",
    "\n",
    "Create a function named `safety_stock` which computes the safety stock as an integer amount (rounded up) given three arguments: (i) the lead time, (ii) the standard deviation of the demand, and (iii) the value $Z$. Call the `safety_stock` function and the `ROP` function created in Exercise 1.2 to compute the ROP with safety stock given the following situation: $\\bar{d}=450$,  $\\sigma=10$, $L=3$, and $Z=1.64$ (which corresponds to the service level of 95\\%). \n"
   ]
  },
  {
   "cell_type": "markdown",
   "metadata": {
    "id": "P4GaKeRYgEQ7"
   },
   "source": [
    "<b>Hint:</b> you can use the `math.sqrt` and `math.ceil` functions of the `math` module."
   ]
  },
  {
   "cell_type": "code",
   "execution_count": null,
   "metadata": {
    "id": "KqAMDXvegEQ7"
   },
   "outputs": [],
   "source": [
    "import math     # importing math module\n",
    "### start your code here ###\n",
    "\n",
    "### end your code here ####\n",
    "\n",
    "print('The ROP with safety stock is: ',  ROP(450, 3) + safety_stock(3, 10, 1.64))"
   ]
  },
  {
   "cell_type": "markdown",
   "metadata": {
    "id": "v61syZkhgEQ8"
   },
   "source": [
    "---\n",
    "## Conditional Statements\n"
   ]
  },
  {
   "cell_type": "markdown",
   "metadata": {
    "id": "kpuBOID6gEQ8"
   },
   "source": [
    "### Exercise 2.1: Discount Policy\n",
    "\n",
    "Using conditional statements (`if`, `elif`, `else`), comparison operations (`==`,`!=`,`>`, `<`,`>=`, `<=`) and/or logical operations (`and`, `or`, `not`), create a function which takes as argument the quantity ordered by a client and returns the discount to be applied. The discounts are determined following the table below.\n",
    "\n",
    "| Order quantity | Discount to apply |\n",
    "| :------------: | :---------------: |\n",
    "|  1 - 499       |               0 % |\n",
    "| 500 - 999      |               4 % |\n",
    "| 1000 - 1499    |               6 % |\n",
    "| 1500 - 1999    |               9 % |\n",
    "| 2000 - other        |               12 %|\n"
   ]
  },
  {
   "cell_type": "code",
   "execution_count": null,
   "metadata": {
    "id": "xTbhsqcPgEQ8"
   },
   "outputs": [],
   "source": [
    "### start your code here ###\n",
    "\n",
    "### end your code here ####\n",
    "\n",
    "# replace 'function_name' by the name of your function to know the discount factor for a order qty = 1365\n",
    "print('The discount of an order of %d units is: %f percent' %(1365, discount_to_apply(1365)))"
   ]
  },
  {
   "cell_type": "markdown",
   "metadata": {
    "id": "hH_pPW-TgEQ_"
   },
   "source": [
    "---\n",
    "## `for` and `while` Loops\n"
   ]
  },
  {
   "cell_type": "markdown",
   "metadata": {
    "id": "-gvGvBU3gEQ_"
   },
   "source": [
    "### Exercise 3.1: Average Demand\n",
    "Compute the monthly average demand considering the data below.\n",
    "\n",
    "| Month | January | February | March | April | June | July | August | September | October | November | December|\n",
    "| :---: | :---:   | :---:   | :---:  | :---: | :---:| :---: | :---: | :---:    | :---:    | :---:    | :---:   |\n",
    "| **Demand** | 12530  | 2100    |  1956  | 1523 |  1896 | 956   | 998   |   1632    | 1563   | 2531      | 2100 |\n",
    "\n",
    "\n",
    "Please calculate arithmetic mean and geometric mean of this demand data using `for` or `while` loop.\n",
    "\n",
    "**HINT:** The arithmetic mean for data $i = 1,...,n$ is equal to $A = \\frac{\\sum_{i=1}^n{x_i}}{n}$ whereas the geometric mean is equal to $G = \\sqrt[n]{x_1x_2\\cdot\\cdot\\cdot x_n}$\n",
    "\n",
    "**HINT:** The Python function `len(...)` (e.g., `len(demands)`) return the number of elements in the list\n"
   ]
  },
  {
   "cell_type": "code",
   "execution_count": null,
   "metadata": {
    "id": "DD4aQUaKgEQ_"
   },
   "outputs": [],
   "source": [
    "demands = [12530, 2100, 1956, 1523, 1896, 956, 998, 1632, 1563, 2531, 2100]\n",
    "\n",
    "### start your code here ###\n",
    "\n",
    "### end your code here ####\n",
    "\n",
    "# printing results\n",
    "print('Arithmatic mean demand is: ', a_mean)  \n",
    "print('Geomatric mean demand is: ', g_mean) "
   ]
  },
  {
   "cell_type": "markdown",
   "metadata": {
    "id": "KqquM-ozgEQ-"
   },
   "source": [
    "### Exercise 3.2: Depreciation of Fleet\n",
    "A delivery truck is purchased by a company with a cost of $ \\$ 180,000$, a useful life of 5 years and a residual value of $\\$30000$. The rate of Depreciation is $20\\%$.  \n",
    "\n",
    "Create a function which returns the value of the truck at the end of a specific year. This function should have the following parameters:\n",
    " - `n`: (int number) years after the purchase\n",
    " - `truck_cost`: (number) value paid for the new truck\n",
    " - `res_val`: (number) value of the truck at the end of its useful life\n",
    " - `depr_rate`: (float number between 0 and 1) depreciation rate"
   ]
  },
  {
   "cell_type": "code",
   "execution_count": null,
   "metadata": {
    "id": "gYFjJuyFgEQ-"
   },
   "outputs": [],
   "source": [
    "### start your code here ###\n",
    "\n",
    "\n",
    "### end your code here ####\n",
    "print(\"The current value of the truck after year\",n_year,\" is $\", current_val)"
   ]
  },
  {
   "cell_type": "code",
   "execution_count": null,
   "metadata": {
    "id": "fvAzkaScgERA"
   },
   "outputs": [],
   "source": []
  }
 ],
 "metadata": {
  "kernelspec": {
   "display_name": "Python 3 (ipykernel)",
   "language": "python",
   "name": "python3"
  },
  "language_info": {
   "codemirror_mode": {
    "name": "ipython",
    "version": 3
   },
   "file_extension": ".py",
   "mimetype": "text/x-python",
   "name": "python",
   "nbconvert_exporter": "python",
   "pygments_lexer": "ipython3",
   "version": "3.8.8"
  },
  "toc": {
   "base_numbering": 1,
   "nav_menu": {},
   "number_sections": true,
   "sideBar": true,
   "skip_h1_title": false,
   "title_cell": "Table of Contents",
   "title_sidebar": "Contents",
   "toc_cell": false,
   "toc_position": {
    "height": "calc(100% - 180px)",
    "left": "10px",
    "top": "150px",
    "width": "415.724px"
   },
   "toc_section_display": true,
   "toc_window_display": true
  }
 },
 "nbformat": 4,
 "nbformat_minor": 1
}
