{
 "cells": [
  {
   "cell_type": "markdown",
   "metadata": {},
   "source": [
    "# Exercices séance 2\n",
    "\n",
    "Chaque exercice vous permet de pratiquer une nouvelle compétence appliquée à la gestion des opérations ou à la logistique (lorsque possible). Pour chaque exercice, vous avez deux types de cellules différentes: une cellule de réponse et une cellule de validation (située juste en dessous de la cellule de réponse).\n",
    "\n",
    "##### Cellule de réponse\n",
    "Afin de compléter les exercices, vous devez remplacer chaque segment `# écrivez votre code ici` par un morceau de code composé d'une seule ou de plusieurs lignes. Vous devez exécuter la cellule contenant votre code pour vérifier si votre réponse est exacte.\n",
    "\n",
    "Si votre réponse est incorrecte, vous verrez des indications sur les paramètres que vous avez testés ainsi que sur le résultat qui est attendu dans la sortie (sous la cellule) afin que vous puissiez comprendre et corriger votre erreur.\n",
    "\n",
    "\n",
    "##### Cellule de validation\n",
    "Vous pouvez obtenir des indices (*hint*) en convertissant le commentaire en ligne de code exécutable (c'est-à-dire en supprimant le `#`). Vous pouvez aussi regarder la solution officielle de la même manière.\n",
    "Gardez à l'esprit qu'il n'y a pas une seule et unique solution en programmation.\n",
    "\n",
    "\n",
    "**Veuillez ne pas changer le nom des fonctions ou des paramètres ni changez le code des lignes check/hint/solution (à l'exception d'ajouter ou retirer le `#` au début) car cela pourrait invalider le processus de vérification.**"
   ]
  },
  {
   "cell_type": "markdown",
   "metadata": {},
   "source": [
    "# Configuration\n",
    "Tout d'abord, exécutez la cellule suivante pour importer et configurer les librairies Python dont vous aurez besoin pour faire les exercices. Si le code s'exécute avec succès, vous verrez `Configuration terminée` dans la sortie sous la cellule."
   ]
  },
  {
   "cell_type": "code",
   "execution_count": null,
   "metadata": {},
   "outputs": [],
   "source": [
    "from Atelier_Python_02_tools import *\n",
    "print('Configuration terminée')"
   ]
  },
  {
   "cell_type": "markdown",
   "metadata": {},
   "source": [
    "# Hello World!\n",
    "Un programme est une suite de lignes de code. Chaque ligne de code est une instruction exécutée par l'interpréteur de Python. L'intepréteur est une boîte qui lit et traduit le code dans un langage compréhensible par l'ordinateur. Pour chaque langage de programmation, l'affichage du texte `\"Hello World!\"` est le programme le plus simple et le plus typique à faire fonctionner lorsqu'on apprend un nouveau langage de programmation. "
   ]
  },
  {
   "cell_type": "markdown",
   "metadata": {},
   "source": [
    "## Ex 1:\n",
    "Afficher le texte `\"Hello World!\"` dans la console."
   ]
  },
  {
   "cell_type": "code",
   "execution_count": null,
   "metadata": {},
   "outputs": [],
   "source": [
    "# écrivez votre code ici"
   ]
  },
  {
   "cell_type": "code",
   "execution_count": null,
   "metadata": {},
   "outputs": [],
   "source": [
    "#HelloWorld_Q1.hint()\n",
    "#HelloWorld_Q1.solution()"
   ]
  },
  {
   "cell_type": "markdown",
   "metadata": {},
   "source": [
    "# Types"
   ]
  },
  {
   "cell_type": "markdown",
   "metadata": {},
   "source": [
    "Dans Python, chaque valeur a un type qui lui est associé. Ce type indique à quelle nature de donnée appartient la valeur. Le type d'une variable étant dynamique, le programmeur n'a pas besoin d'expliciter le type de la variable lorsqu'il lui assigne une valeur. À partir de la valeur assignée, l'interpréteur trouvera de quelle nature est la donnée. Par la suite, le typage dynamique permet de changer de type de donnée d'une variable quand sa valeur change afin d'être en accord avec la nouvelle valeur. Il y a deux genres de types:\n",
    "* Les types de donnée natifs: tout type de variable intégré à la librairie standard Python\n",
    "* Les types de données combinée: tout type de variable créé en dehors de la librairie standard Python (un type que vous créez par exemple)\n",
    "\n",
    "Vous pouvez regarder [cette page](https://www.w3schools.com/python/python_datatypes.asp) pour plus d'informations.\n",
    "\n",
    "Pour chaque exercice, utilisez un type de variable Python différent (`int`, `float` et `str`)."
   ]
  },
  {
   "cell_type": "code",
   "execution_count": null,
   "metadata": {},
   "outputs": [],
   "source": [
    "#Types.hint()"
   ]
  },
  {
   "cell_type": "markdown",
   "metadata": {},
   "source": [
    "## Ex 1:\n",
    "Utilisez une variable de type nombre entier (`int`)."
   ]
  },
  {
   "cell_type": "code",
   "execution_count": null,
   "metadata": {},
   "outputs": [],
   "source": [
    "variable = # écrivez votre code ici\n",
    "Types_Q1.check(variable)"
   ]
  },
  {
   "cell_type": "code",
   "execution_count": null,
   "metadata": {},
   "outputs": [],
   "source": [
    "#Types_Q1.hint()\n",
    "#Types_Q1.solution()"
   ]
  },
  {
   "cell_type": "markdown",
   "metadata": {},
   "source": [
    "## Ex 2:\n",
    "Utilisez une variable de type nombre à virgule flottante (`float`)."
   ]
  },
  {
   "cell_type": "code",
   "execution_count": null,
   "metadata": {},
   "outputs": [],
   "source": [
    "variable = # écrivez votre code ici\n",
    "Types_Q2.check(variable)"
   ]
  },
  {
   "cell_type": "code",
   "execution_count": null,
   "metadata": {},
   "outputs": [],
   "source": [
    "#Types_Q2.hint()\n",
    "#Types_Q2.solution()"
   ]
  },
  {
   "cell_type": "markdown",
   "metadata": {},
   "source": [
    "## Ex 3:\n",
    "Utilisez une variable de type chaîne de caractères (`str`)."
   ]
  },
  {
   "cell_type": "code",
   "execution_count": null,
   "metadata": {},
   "outputs": [],
   "source": [
    "variable = # écrivez votre code ici\n",
    "Types_Q3.check(variable)"
   ]
  },
  {
   "cell_type": "code",
   "execution_count": null,
   "metadata": {},
   "outputs": [],
   "source": [
    "#Types_Q3.hint()\n",
    "#Types_Q3.solution()"
   ]
  },
  {
   "cell_type": "markdown",
   "metadata": {},
   "source": [
    "# Opérateurs arithmétiques"
   ]
  },
  {
   "cell_type": "markdown",
   "metadata": {},
   "source": [
    "Les valeurs et les variables peuvent être manipulés par des opérateurs. Les opérateurs sont des symboles faisant des opérations sur des valeurs. Vous pouvez regarder [cette page](https://www.w3schools.com/python/python_operators.asp) pour plus d'informations à propos des opérateurs de manière générale.\n",
    "\n",
    "Les opérateurs de type arithmétiques sont les plus communs et nous allons donc voir comment les utiliser pour manipuler les nombres. Utilisez les opérateurs arithmétiques avec des valeurs numériques pour effectuer des opérations mathématiques courantes.\n",
    "\n",
    "Pour chaque exercice, utilisez les opérateurs arithmétiques (`+`, `-`, `*`, `/`)."
   ]
  },
  {
   "cell_type": "code",
   "execution_count": null,
   "metadata": {},
   "outputs": [],
   "source": [
    "#ArithmeticOperator.hint()"
   ]
  },
  {
   "cell_type": "markdown",
   "metadata": {},
   "source": [
    "## Ex 1:\n",
    "En utilisant la demande de deux clients, calculez la demande totale."
   ]
  },
  {
   "cell_type": "code",
   "execution_count": null,
   "metadata": {},
   "outputs": [],
   "source": [
    "def total_demand(demand_A, demand_B):\n",
    "    \"\"\"\n",
    "    Calcule la demande totale de deux clients\n",
    "    Paramètres:\n",
    "        demand_A: nombre, demande du client A\n",
    "        demand_B: nombre, demande du client B\n",
    "    Renvoie:\n",
    "        Nombre, demande totale\n",
    "    \"\"\"\n",
    "    return # écrivez votre code ici\n",
    "\n",
    "ArithmeticOperator_Q1.check(total_demand)"
   ]
  },
  {
   "cell_type": "code",
   "execution_count": null,
   "metadata": {},
   "outputs": [],
   "source": [
    "#ArithmeticOperator_Q1.solution()"
   ]
  },
  {
   "cell_type": "markdown",
   "metadata": {},
   "source": [
    "## Ex 2:\n",
    "En utilisant la quantité en stock et la demande d'un client, calculez la quantité restante en stock."
   ]
  },
  {
   "cell_type": "code",
   "execution_count": null,
   "metadata": {},
   "outputs": [],
   "source": [
    "def remaining_inventory(inventory, demand):\n",
    "    \"\"\"\n",
    "    Calcule la quantité restante en stock après la demande d'un client\n",
    "    Paramètres:\n",
    "        inventory: nombre, quantité en stock\n",
    "        demand: nombre, demande d'un client\n",
    "    Renvoie:\n",
    "        Nombre, quantité restante en stock\n",
    "    \"\"\"\n",
    "    return # écrivez votre code ici\n",
    "\n",
    "ArithmeticOperator_Q2.check(remaining_inventory)"
   ]
  },
  {
   "cell_type": "code",
   "execution_count": null,
   "metadata": {},
   "outputs": [],
   "source": [
    "#ArithmeticOperator_Q2.solution()"
   ]
  },
  {
   "cell_type": "markdown",
   "metadata": {},
   "source": [
    "## Ex 3:\n",
    "En utilisant un prix de vente initial d'un produit et un pourcentage de remise, calculez le nouveau prix réduit."
   ]
  },
  {
   "cell_type": "code",
   "execution_count": null,
   "metadata": {},
   "outputs": [],
   "source": [
    "def discount_price(initial_price, discount):\n",
    "    \"\"\"\n",
    "    Calcule le nouveau prix après qu'une remise soit appliquée à un produit\n",
    "    Paramètres:\n",
    "        initial_price: nombre, prix initial\n",
    "        discount: nombre entre 0 et 100, pourcentage de remise\n",
    "    Renvoie:\n",
    "        Nombre, nouveau prix\n",
    "    \"\"\"\n",
    "    return # écrivez votre code ici\n",
    "\n",
    "ArithmeticOperator_Q3.check(discount_price)"
   ]
  },
  {
   "cell_type": "code",
   "execution_count": null,
   "metadata": {},
   "outputs": [],
   "source": [
    "#ArithmeticOperator_Q3.solution()"
   ]
  },
  {
   "cell_type": "markdown",
   "metadata": {},
   "source": [
    "# Fonctions"
   ]
  },
  {
   "cell_type": "markdown",
   "metadata": {},
   "source": [
    "Une fonction est une suite de lignes (ou un bloc) de code qui ne fonctionne que lorsqu'elle est appelée. Il s'agit donc d'une sous-partie d'un programme qui peut être réutilisée. Une fonction est définie par un nom et des paramètres. Il existe deux types de fonctions:\n",
    "* Les fonctions fructueuses: ces fonctions retournent une valeur en utilisant l'instruction `return`. Cela permet de répéter des transformations sur des variables et d'utiliser le résultat dans le programme principal par la suite.\n",
    "* Les fonctions vides: ces fonctions consomment les paramètres, mais ne renvoient aucun élément. Elles sont généralement utilisées pour de l'affichage ou la gestion (enregistrement/suppression/édition) d'éléments.\n",
    "\n",
    "La librairie standard Python fournit beaucoup de fonctions. Elles sont regroupées dans des modules, c'est-à-dire une collection de fonctions regroupées sous une même thématique. Par exemple, le module `math` implémente les fonctions racine carrée, cosinus, constante mathématique π, etc. Vous pouvez regarder [cette page](https://www.w3schools.com/python/python_functions.asp) pour plus d'informations.\n",
    "\n",
    "Pour chaque exercice, écrivez la fonction et renvoyez le résultat."
   ]
  },
  {
   "cell_type": "markdown",
   "metadata": {},
   "source": [
    "## Ex 1:\n",
    "En utilisant la demande annuelle, le coût de commande unitaire et le coût de stockage annuel d'une unité, calculez la quantité économique à commander (QEC ou *EOQ* en anglais)."
   ]
  },
  {
   "cell_type": "code",
   "execution_count": null,
   "metadata": {},
   "outputs": [],
   "source": [
    "def EOQ(demand, order_cost, holding_cost):\n",
    "    \"\"\"\n",
    "    Calcule la quantité économique à commander pour minimiser les coûts totaux\n",
    "    Paramètres:\n",
    "        demand: nombre, demande annuelle\n",
    "        order_cost: nombre, coût de commande unitaire\n",
    "        holding_cost: nombre différent de 0, coût de stockage unitaire\n",
    "    Renvoie:\n",
    "        Nombre, quantité économique à commander\n",
    "    \"\"\"\n",
    "    return # écrivez votre code ici\n",
    "\n",
    "Functions_Q1.check(EOQ)"
   ]
  },
  {
   "cell_type": "code",
   "execution_count": null,
   "metadata": {},
   "outputs": [],
   "source": [
    "#Functions_Q1.hint()\n",
    "#Functions_Q1.solution()"
   ]
  },
  {
   "cell_type": "markdown",
   "metadata": {},
   "source": [
    "## Ex 2:\n",
    "En utilsant le coût d'acquisition unitaire, la quantité commandée, le stock de sécurité, la demande annuelle, le coût de commande unitaire et le coût de stockage annuel d'une unité, calculez le coût total annuel."
   ]
  },
  {
   "cell_type": "code",
   "execution_count": null,
   "metadata": {},
   "outputs": [],
   "source": [
    "def annual_total_cost(purchase_price, order_quantity, safety_stock, demand, order_cost, holding_cost):\n",
    "    \"\"\"\n",
    "    Calcule le coût total annuel pour une demande annuelle\n",
    "    Paramètres:\n",
    "        purchase_price: nombre,  coût d'acquisition unitaire\n",
    "        order_quantity: nombre différent de 0, quantité commandée\n",
    "        safety_stock: nombre, stock de sécurité\n",
    "        demand: nombre, demande annuelle\n",
    "        order_cost: nombre, coût de commande unitaire\n",
    "        holding_cost: nombre, coût de stockage unitaire\n",
    "    Renvoie:\n",
    "        Nombre, coût total annuel\n",
    "    \"\"\"\n",
    "    return # écrivez votre code ici\n",
    "\n",
    "Functions_Q2.check(annual_total_cost)"
   ]
  },
  {
   "cell_type": "code",
   "execution_count": null,
   "metadata": {},
   "outputs": [],
   "source": [
    "#Functions_Q2.hint()\n",
    "#Functions_Q2.solution()"
   ]
  },
  {
   "cell_type": "markdown",
   "metadata": {},
   "source": [
    "## Ex 3:\n",
    "Calculez la distance euclidienne entre un entrepôt et un client."
   ]
  },
  {
   "cell_type": "code",
   "execution_count": null,
   "metadata": {},
   "outputs": [],
   "source": [
    "import math\n",
    "\n",
    "def distance(x_warehouse, y_warehouse, x_client, y_client):\n",
    "    \"\"\"\n",
    "    Calcule la distance euclidienne entre un entrepôt et un client\n",
    "    Paramètres:\n",
    "        x_warehouse: nombre, coordonnée X de l'entrepôt\n",
    "        y_warehouse: nombre, coordonnée Y de l'entrepôt\n",
    "        x_client: nombre, coordonnée X du client\n",
    "        y_client: nombre, coordonnée Y du client\n",
    "    Renvoie:\n",
    "        Nombre, distance\n",
    "    \"\"\"\n",
    "    return # écrivez votre code ici\n",
    "\n",
    "Functions_Q3.check(distance)"
   ]
  },
  {
   "cell_type": "code",
   "execution_count": null,
   "metadata": {},
   "outputs": [],
   "source": [
    "#Functions_Q3.hint()\n",
    "#Functions_Q3.solution()"
   ]
  },
  {
   "cell_type": "markdown",
   "metadata": {},
   "source": [
    "# Expressions conditionnelles"
   ]
  },
  {
   "cell_type": "markdown",
   "metadata": {},
   "source": [
    "Les expressions conditionnelles sont des outils permettant de moduler le comportement d'un programme. L'élément testé est appelé une expression booléenne, c'est-à-dire qu'elle peut prendre une valeur vraie `True` ou fausse `False`. Dans cette expression, plusieurs éléments peuvent être testés grâce à des opérations de comparaison (`==`, `!=`, `>`, `<`, `>=`, `<=`) et des opérations boléennes (`and`, `or`, `not`). Chaque expression peut tester une égalité ou une inégalité. Vous pouvez regarder [cette page](https://www.w3schools.com/python/python_conditions.asp) pour plus d'informations.\n",
    "\n",
    "\n",
    "Pour chaque exercice, retournez vrai ou faux à l'énoncé demandé. Chaque fonction possède plusieurs sorties possibles, dépendamment de certaines conditions."
   ]
  },
  {
   "cell_type": "markdown",
   "metadata": {},
   "source": [
    "## Ex 1:\n",
    "En utilisant un stock initial de zéro, une quantité demandée et une quantité commandée pour chaque période, vérifiez si il y a une rupture de stock à n'importe quelle des trois périodes. Il est assumé qu'on reçoit la commande avant de satisfaire la demande à chacune des périodes."
   ]
  },
  {
   "cell_type": "code",
   "execution_count": null,
   "metadata": {},
   "outputs": [],
   "source": [
    "def shortage(demand1, supply1, demand2, supply2, demand3, supply3):\n",
    "    \"\"\"\n",
    "    Vérifiez s'il y a une rupture de stock à n'importe quelle période, en considérant le stock restant de la période précédente\n",
    "    Paramètres:\n",
    "        demand1: nombre, demande de la période 1\n",
    "        supply1: nombre, commande de la période 1\n",
    "        demand2: nombre, demande de la période 2\n",
    "        supply2: nombre, commande de la période 2\n",
    "        demand3: nombre, demande de la période 3\n",
    "        supply3: nombre, commande de la période 3\n",
    "    Renvoie:\n",
    "        Booléen, vrai si il y a une pénurie\n",
    "    \"\"\"\n",
    "    # écrivez votre code ici\n",
    "\n",
    "Conditions_Q1.check(shortage)"
   ]
  },
  {
   "cell_type": "code",
   "execution_count": null,
   "metadata": {},
   "outputs": [],
   "source": [
    "#Conditions_Q1.hint()\n",
    "#Conditions_Q1.solution()"
   ]
  },
  {
   "cell_type": "markdown",
   "metadata": {},
   "source": [
    "## Ex 2:\n",
    "En utilisant un échantillon d'une certaine taille, un nombre d'éléments défectueux dans cet échantillon et un critère d'acceptation (proportion maximale de défauts permis), contrôlez la qualité de l'échantillon."
   ]
  },
  {
   "cell_type": "code",
   "execution_count": null,
   "metadata": {},
   "outputs": [],
   "source": [
    "def quality_control(sample_size, defect, criterion):\n",
    "    \"\"\"\n",
    "    Contrôle la qualité de l'échantillon\n",
    "    Paramètres:\n",
    "        sample_size: nombre, taille de l'échantillon\n",
    "        defect: nombre, nombre d'éléments défectueux\n",
    "        criterion: nombre entre 0 et 1, critère d'acceptation\n",
    "    Renvoie:\n",
    "        Boolean, vrai si l'échantillon est de qualité acceptable\n",
    "    \"\"\"\n",
    "    # écrivez votre code ici\n",
    "\n",
    "Conditions_Q2.check(quality_control)"
   ]
  },
  {
   "cell_type": "code",
   "execution_count": null,
   "metadata": {},
   "outputs": [],
   "source": [
    "#Conditions_Q2.hint()\n",
    "#Conditions_Q2.solution()"
   ]
  },
  {
   "cell_type": "markdown",
   "metadata": {},
   "source": [
    "# Instruction `for`"
   ]
  },
  {
   "cell_type": "markdown",
   "metadata": {},
   "source": [
    "Les boucles ou itérations sont des moyens élégants de faire répéter des lignes de code. Dans cette section, nous utiliserons les boucles `for` ainsi qu'une variable qui déterminera le nombre de fois que la séquence d'instructions sera répétée.\n",
    "Vous pouvez regarder [cette page](https://www.w3schools.com/python/python_for_loops.asp) pour plus d'informations.\n",
    "\n",
    "\n",
    "Pour chaque exercice, résolvez la question demandée. Chaque fonction doit être implémentée en utilisant l'instruction `for`."
   ]
  },
  {
   "cell_type": "markdown",
   "metadata": {},
   "source": [
    "## Ex 1:\n",
    "En utilisant une prévision initiale de demande, un facteur de lissage (compris entre 0 et 1) et en supossant une demande constante, utilisez la méthode du lissage exponentiel simple et calculez la demande prévue après plusieurs périodes.\n",
    "\n",
    "(*Note: il ne s'agit pas d'un problème pertinent du point de vue de pratique, mais il sert de mise en contexte afin de pratiquer les boucles `for`.*)"
   ]
  },
  {
   "cell_type": "code",
   "execution_count": null,
   "metadata": {},
   "outputs": [],
   "source": [
    "def forecast(initial_forecast, demand, alpha, nb_period):\n",
    "    \"\"\"\n",
    "    Calcule la demande prévue en utilisant la méthode du lissage exponentiel simple\n",
    "    Paramètres:\n",
    "        initial_forecast: nombre, prévision initiale de la demande\n",
    "        demand: nombre, demande\n",
    "        alpha: nombre entre 0 and 1, paramètre de lissage\n",
    "        nb_period: entier, nombre de périodes dans le futur pour la prévision\n",
    "    Renvoie:\n",
    "        Nombre, demande prévue\n",
    "    \"\"\"\n",
    "    # écrivez votre code ici\n",
    "    \n",
    "ForStatements_Q1.check(forecast)"
   ]
  },
  {
   "cell_type": "code",
   "execution_count": null,
   "metadata": {},
   "outputs": [],
   "source": [
    "#ForStatements_Q1.hint()\n",
    "#ForStatements_Q1.solution()"
   ]
  },
  {
   "cell_type": "markdown",
   "metadata": {},
   "source": [
    "## Ex 2:\n",
    "Considérant un montant de départ de 10$, le taux d'intérêt de votre compte de banque et votre salaire (qui est ajouté après les intérêts à chaque début de période), calculez combien d'argent vous avez après *n* périodes de temps."
   ]
  },
  {
   "cell_type": "code",
   "execution_count": null,
   "metadata": {},
   "outputs": [],
   "source": [
    "def bank_account(interest, salary, n):\n",
    "    \"\"\"\n",
    "    Calcule combien d'argent vous avez après n périodes de temps\n",
    "    Paramètres:\n",
    "        interest: nombre entre 0 et 1, taux d'intérêt\n",
    "        salary: nombre, salaire\n",
    "        n: entier, durée\n",
    "    Renvoie:\n",
    "        Nombre, argent dans le compte de banque\n",
    "    \"\"\"\n",
    "    # écrivez votre code ici\n",
    "\n",
    "ForStatements_Q2.check(bank_account)"
   ]
  },
  {
   "cell_type": "code",
   "execution_count": null,
   "metadata": {},
   "outputs": [],
   "source": [
    "#ForStatements_Q2.hint()\n",
    "#ForStatements_Q2.solution()"
   ]
  },
  {
   "cell_type": "markdown",
   "metadata": {},
   "source": [
    "# Fonction récursive"
   ]
  },
  {
   "cell_type": "markdown",
   "metadata": {},
   "source": [
    "La récursivité est la capacité qu'a une fonction de s'appeler elle-même. La récursitivé est une manière déguisée de faire des itérations, comme pour une boucle `for`. Cela permet d'avoir des fonctions très compactes, mais cela augmente de manière significative la mémoire utilisée par le programme.\n",
    "\n",
    "Pour chaque exercice, résolvez la question demandée. Chaque fonction doit maintenant être implémentée en utilisant la récursivité."
   ]
  },
  {
   "cell_type": "markdown",
   "metadata": {},
   "source": [
    "## Ex 1:\n",
    "En utilisant une prévision initiale de demande, un facteur de lissage (compris entre 0 et 1) et en supossant une demande constante, utilisez la méthode du lissage exponentiel simple et calculez la demande prévue après plusieurs périodes.\n",
    "\n",
    "(*Note: il ne s'agit pas d'un problème pertinent du point de vue de pratique, mais il sert de mise en contexte afin de pratiquer les fonctions récursives.*)"
   ]
  },
  {
   "cell_type": "code",
   "execution_count": null,
   "metadata": {},
   "outputs": [],
   "source": [
    "def forecast(initial_forecast, demand, alpha, nb_period):\n",
    "    \"\"\"\n",
    "    Calcule la demande prévue en utilisant la méthode du lissage exponentiel simple\n",
    "    Paramètres:\n",
    "        initial_forecast: nombre, prévision initiale de la demande\n",
    "        demand: nombre, demande\n",
    "        alpha: nombre entre 0 and 1, paramètre de lissage\n",
    "        nb_period: entier, nombre de périodes dans le futur pour la prévision\n",
    "    Renvoie:\n",
    "        Nombre, demande prévue\n",
    "    \"\"\"\n",
    "    # écrivez votre code ici\n",
    "    \n",
    "Recursions_Q1.check(forecast)"
   ]
  },
  {
   "cell_type": "code",
   "execution_count": null,
   "metadata": {},
   "outputs": [],
   "source": [
    "#Recursions_Q1.hint()\n",
    "#Recursions_Q1.solution()"
   ]
  },
  {
   "cell_type": "markdown",
   "metadata": {},
   "source": [
    "## Ex 2:\n",
    "Considérant un montant de départ de 10$, le taux d'intérêt de votre compte de banque et votre salaire (qui est ajouté après les intérêts à chaque début de période), calculez combien d'argent vous avez après *n* périodes de temps."
   ]
  },
  {
   "cell_type": "code",
   "execution_count": null,
   "metadata": {},
   "outputs": [],
   "source": [
    "def bank_account(interest, salary, n):\n",
    "    \"\"\"\n",
    "    Calcule combien d'argent vous avez après n périodes de temps\n",
    "    Paramètres:\n",
    "        interest: nombre entre 0 et 1, taux d'intérêt\n",
    "        salary: nombre, salaire\n",
    "        n: entier, durée\n",
    "    Renvoie:\n",
    "        Nombre, argent dans le compte de banque\n",
    "    \"\"\"\n",
    "    # écrivez votre code ici\n",
    "\n",
    "Recursions_Q2.check(bank_account)"
   ]
  },
  {
   "cell_type": "code",
   "execution_count": null,
   "metadata": {},
   "outputs": [],
   "source": [
    "#Recursions_Q2.hint()\n",
    "#Recursions_Q2.solution()"
   ]
  },
  {
   "cell_type": "code",
   "execution_count": null,
   "metadata": {},
   "outputs": [],
   "source": []
  }
 ],
 "metadata": {
  "kernelspec": {
   "display_name": "Python 3 (ipykernel)",
   "language": "python",
   "name": "python3"
  },
  "language_info": {
   "codemirror_mode": {
    "name": "ipython",
    "version": 3
   },
   "file_extension": ".py",
   "mimetype": "text/x-python",
   "name": "python",
   "nbconvert_exporter": "python",
   "pygments_lexer": "ipython3",
   "version": "3.8.8"
  },
  "toc": {
   "base_numbering": 1,
   "nav_menu": {},
   "number_sections": true,
   "sideBar": true,
   "skip_h1_title": false,
   "title_cell": "Table of Contents",
   "title_sidebar": "Contents",
   "toc_cell": false,
   "toc_position": {
    "height": "calc(100% - 180px)",
    "left": "10px",
    "top": "150px",
    "width": "216.594px"
   },
   "toc_section_display": true,
   "toc_window_display": true
  }
 },
 "nbformat": 4,
 "nbformat_minor": 4
}
