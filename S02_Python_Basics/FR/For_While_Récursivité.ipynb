{
 "cells": [
  {
   "cell_type": "markdown",
   "metadata": {},
   "source": [
    "# Boucles `for`, boucles `while` et récursivité\n",
    "Dans ce notebook, nous verrons comment utiliser les boucles `for`, les boucles `while` et la récursivité pour le même problème: le calcul de la factorielle.\n",
    "\n",
    "Une factorielle est calculée en utilisant la formule suivante: \n",
    "$$\n",
    "\\begin{align}\n",
    "n! &= n \\times (n-1)! \\\\\n",
    "&= n \\times (n-1) \\times (n-2)! \\\\\n",
    "&\\vdots\\\\\n",
    "&= n \\times (n-1) \\times (n-2) \\times \\dots \\times 2 \\times 1 \\times 0!\n",
    "\\end{align}\n",
    "$$\n",
    "où $n$ est un entier positif et $0!=1$.\n",
    "\n",
    "D'autres exemples sont:\n",
    "- $1!= 1 \\times 0! =1$, \n",
    "- $3!=3 \\times 2 \\times 1 \\times 0!=6$ et \n",
    "- $5!=5 \\times 4 \\times 3 \\times 2 \\times 1 \\times 0! =120$."
   ]
  },
  {
   "cell_type": "markdown",
   "metadata": {},
   "source": [
    "## Boucles `for`\n",
    "Définissons une fonction qui peut évaluer la factorielle de n'importe quel entier positif (p.ex., $0, 1, 2, \\dots$) avec une boucle `for`."
   ]
  },
  {
   "cell_type": "code",
   "execution_count": 1,
   "metadata": {},
   "outputs": [],
   "source": [
    "def fact_for(n):\n",
    "    \"\"\" Calcule la factorielle de n en utilisant une boucle for.\n",
    "    \"\"\"\n",
    "    \n",
    "    res = 1\n",
    "    for i in range(1, n+1):\n",
    "        res *= i\n",
    "\n",
    "    return res       "
   ]
  },
  {
   "cell_type": "markdown",
   "metadata": {},
   "source": [
    "Testons maintenant cette fonction pour regarder si elle renvoie les bonnes valeurs."
   ]
  },
  {
   "cell_type": "code",
   "execution_count": 2,
   "metadata": {},
   "outputs": [
    {
     "name": "stdout",
     "output_type": "stream",
     "text": [
      "La factorielle de 0 est 1.\n",
      "La factorielle de 1 est 1.\n",
      "La factorielle de 3 est 6.\n",
      "La factorielle de 5 est 120.\n"
     ]
    }
   ],
   "source": [
    "for x in [0, 1, 3, 5]:\n",
    "    print(f'La factorielle de {x} est {fact_for(x)}.')"
   ]
  },
  {
   "cell_type": "markdown",
   "metadata": {},
   "source": [
    "## Boucles `while`\n",
    "Définissons une fonction permettant d'évaluer la  factorielle de n'importe quel entier positif, mais maintenant avec une boucle `while`. \n",
    "\n",
    "Pour transformer une fonction utilisant une boucle `for` en une fonction utilisant une boucle `while`, on doit:\n",
    "- identifier le point d'entrée de la boucle,\n",
    "- identifier le point de sortie de la boucle, et\n",
    "- identifier le pas."
   ]
  },
  {
   "cell_type": "code",
   "execution_count": 3,
   "metadata": {},
   "outputs": [],
   "source": [
    "def fact_while(n):\n",
    "    \"\"\" Calcule la factorielle de n en utilisant une boucle while.\n",
    "    \"\"\"\n",
    "    \n",
    "    res = 1\n",
    "    i = 1\n",
    "    while i < n+1:\n",
    "        res *= i\n",
    "        i += 1\n",
    "\n",
    "    return res"
   ]
  },
  {
   "cell_type": "markdown",
   "metadata": {},
   "source": [
    "Testons cette fonction sur les mêmes valeurs afin de confirmer qu'elle renvoie les mêmes résultats."
   ]
  },
  {
   "cell_type": "code",
   "execution_count": 4,
   "metadata": {},
   "outputs": [
    {
     "name": "stdout",
     "output_type": "stream",
     "text": [
      "La factorielle de 0 est 1.\n",
      "La factorielle de 1 est 1.\n",
      "La factorielle de 3 est 6.\n",
      "La factorielle de 5 est 120.\n"
     ]
    }
   ],
   "source": [
    "for x in [0, 1, 3, 5]:\n",
    "    print(f'La factorielle de {x} est {fact_while(x)}.')"
   ]
  },
  {
   "cell_type": "markdown",
   "metadata": {},
   "source": [
    "## Récursivité\n",
    "Définissions une dernière fonction calculant la factorielle de n'importe quel entier positif en utilisant la récursivité. Pour cela, nous devons trouver comment calculer le résultat que nous voulons à partir d'un autre résultat. Par exemple,\n",
    "- $3! = 3 \\times 2!$,\n",
    "- $2!=2 \\times 1!$,\n",
    "- $1! = 1 \\times 0!$ et\n",
    "- enfin $0!=1$.\n",
    "\n",
    "Rappel: Dans une fonction récursive, nous avons aussi besoin d'un cas de base. Ici, le cas de base est $0!=1$."
   ]
  },
  {
   "cell_type": "code",
   "execution_count": 5,
   "metadata": {
    "scrolled": true
   },
   "outputs": [],
   "source": [
    "def fact_rec(n):\n",
    "    \"\"\" Calcule la factorielle de n en utilisant la récursivité.\n",
    "    \"\"\"\n",
    "\n",
    "    if n == 0:\n",
    "        res = 1\n",
    "    else:\n",
    "        res = n * fact_rec(n-1)\n",
    "        \n",
    "    return res"
   ]
  },
  {
   "cell_type": "markdown",
   "metadata": {},
   "source": [
    "Testons aussi cette fonction sur les mêmes valeurs afin de confirmer qu'elle renvoie les mêmes résultats."
   ]
  },
  {
   "cell_type": "code",
   "execution_count": 6,
   "metadata": {},
   "outputs": [
    {
     "name": "stdout",
     "output_type": "stream",
     "text": [
      "La factorielle de 0 est 1.\n",
      "La factorielle de 1 est 1.\n",
      "La factorielle de 3 est 6.\n",
      "La factorielle de 5 est 120.\n"
     ]
    }
   ],
   "source": [
    "for x in [0, 1, 3, 5]:\n",
    "    print(f'La factorielle de {x} est {fact_rec(x)}.')"
   ]
  },
  {
   "cell_type": "code",
   "execution_count": null,
   "metadata": {},
   "outputs": [],
   "source": []
  }
 ],
 "metadata": {
  "kernelspec": {
   "display_name": "Python 3",
   "language": "python",
   "name": "python3"
  },
  "language_info": {
   "codemirror_mode": {
    "name": "ipython",
    "version": 3
   },
   "file_extension": ".py",
   "mimetype": "text/x-python",
   "name": "python",
   "nbconvert_exporter": "python",
   "pygments_lexer": "ipython3",
   "version": "3.8.8"
  },
  "toc": {
   "base_numbering": 1,
   "nav_menu": {},
   "number_sections": true,
   "sideBar": true,
   "skip_h1_title": false,
   "title_cell": "Table of Contents",
   "title_sidebar": "Contents",
   "toc_cell": false,
   "toc_position": {},
   "toc_section_display": true,
   "toc_window_display": true
  }
 },
 "nbformat": 4,
 "nbformat_minor": 2
}
