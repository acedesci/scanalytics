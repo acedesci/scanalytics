{
 "cells": [
  {
   "cell_type": "markdown",
   "metadata": {
    "id": "IKYXKpZ8wY8N"
   },
   "source": [
    "# S2 After-class Exercises: Python basics and SC applications - Part I"
   ]
  },
  {
   "cell_type": "markdown",
   "metadata": {
    "id": "pOrjKD2KwY8V"
   },
   "source": [
    "---\n",
    "## Instructions:\n",
    "\n",
    "Most of the exercises presented here allows you to practice basic Python programming for some applications in Operations Management and Logistics. \n",
    "\n",
    "For each exercise, you have a code cell for the response underneath it, where you should write your answer between the lines containing `### start your code here ###`  and `### end your code here ###`. Your code can contain one or more lines and you can execute this cell in order to complete the exercise. To execute the cell, you can type `Shift+Enter` or press the play button in the toolbar above. Your results will appear right below this response cell.\n",
    "\n",
    "**NOTE:** Please pay attention to the variable name of the output you would need to provide under each question. You must use the same variable name for the output so that the result can be printed out correctly."
   ]
  },
  {
   "cell_type": "markdown",
   "metadata": {
    "id": "X_qLKP1iwY8W"
   },
   "source": [
    "## Exercise 1: EOQ with discounts\n",
    "EOQ generally minimizes the total inventory cost and ordering cost. However, EOQ may not be optimal when discounts are factored into the calculation. To calculate the EOQ when discounts are involved, we need to perform the following steps:\n",
    "\n",
    "1. For each quantity range associated with a discount, calculate the quantity to optimal order Q* for that range based on the corresponding parameters using the EOQ equation;\n",
    "2. **If** Q* does not qualify for a discount, choose the smallest possible order size to get the discount and set Q* to that value, **otherwise** the value Q* remains unchanged;\n",
    "3. Calculate the total cost for each Q* from step 2;\n",
    "4. Select the Q* that gives the lowest total cost, which is calculated by. \n",
    "\n",
    "$$TC=PD + O\\left(\\frac{D}{Q}\\right) + H\\left(\\frac{Q}{2}\\right)$$\n",
    "\n",
    "- $TC$: total annual cost;\n",
    "- $P$: purchase cost per unit;\n",
    "- $D$: annual demand;\n",
    "- $O$: fixed cost per order;\n",
    "- $Q$:  order quantity (quantity $Q^*$ associated with a given discount);\n",
    "- $H$: unit inventory holding cost = $hP$ where $h$ is the inventory holding cost is given as % of the value of the product."
   ]
  },
  {
   "cell_type": "markdown",
   "metadata": {
    "id": "oi_jgQpQwY8W"
   },
   "source": [
    "#### Exercise 1.1: Functions\n",
    "\n",
    "Please create a function `total_cost` which return the calculation of the total cost based on the parameters provided to the function."
   ]
  },
  {
   "cell_type": "code",
   "execution_count": null,
   "metadata": {
    "id": "cRdqU4jXwY8X"
   },
   "outputs": [],
   "source": [
    "### start your code here ###\n",
    "\n",
    "### end your code here ####"
   ]
  },
  {
   "cell_type": "markdown",
   "metadata": {
    "id": "-uO4aSa2wY8X"
   },
   "source": [
    "#### Exercise 1.2: Functions\n",
    "\n",
    "Create a function which computes the EOQ given the following parameters:  (i) annual demand, (ii) fixed cost per order, (iii) unit inventory holding cost."
   ]
  },
  {
   "cell_type": "code",
   "execution_count": null,
   "metadata": {
    "id": "Hlyx4y6YwY8Y"
   },
   "outputs": [],
   "source": [
    "### start your code here ###\n",
    "\n",
    "### end your code here ####"
   ]
  },
  {
   "cell_type": "markdown",
   "metadata": {
    "id": "fEBxzT3SwY8Y"
   },
   "source": [
    "#### Exercise 1.3: Conditional statements \n",
    "Maka Inc. operates a chocolate shop in Montreal. The chocolate is ordered from a supplier in Denmark. Normally, cost for one unit of chocolate is $5.00, but a quantity discount is provided by the manufacturer according to the table below.\n",
    "\n",
    "| Order quantity |  Discount (\\%) | Discounted price per unit ($\\$$) |\n",
    "| :-----------:  | :------:       | :--------------:     | \n",
    "| 1 - 1000           | 0             | $\\$5.00$   |  \n",
    "| 1001 - 3000        | 4             | $\\$4.80$   |  \n",
    "| 3001 - $\\infty$        | 10             | $\\$4.50$   | \n",
    "\n",
    "Maka Inc.'s annual demand for chocolate is $10000$ units and the cost per order is $\\$50$. The unit inventory cost is estimated as $20\\%$ of the purchase price. \n",
    "\n",
    "Create a program which determines the optimal EOQ and the total costs considering the discount policy presented in the table above.\n",
    "\n",
    "**Hint:** make use of conditionals statements and the functions created in Exercises 1.1 and 1.2 to compute the EOQ and total costs for each discount. "
   ]
  },
  {
   "cell_type": "code",
   "execution_count": null,
   "metadata": {
    "id": "PoaKWrFXwY8Y"
   },
   "outputs": [],
   "source": [
    "### start your code here ###\n",
    "\n",
    "### end your code here ####   \n",
    "   \n",
    "print(\"The optimal EOQ with discounts is:\", bestQ ,\" and the total cost is :\", bestCost)"
   ]
  },
  {
   "cell_type": "markdown",
   "metadata": {
    "id": "A5hY2T2o2yx0"
   },
   "source": [
    "## Exercise 2: Bass diffusion model\n",
    "\n",
    "Please refer again to the detail of the Bass diffusion model in lecture. We have seen the calculation of the cumulative probability of adoption by an individual by time $t$: $F(t)$. Another number is the probability of adoption by an individual at time $t$ which is represented by $f(t)$ (recall that $f(t) = \\frac{d}{dt}F(t)$). \n",
    "\n",
    "Given the parameters $p$ and $q$, based on derivatives, we can calculate $f(t)$ using the following function: \n",
    "\n",
    "$$f(t) = \\frac{d}{dt}F(t) = \\frac{e^{((p+q)t)}p(p+q)^2}{[pe^{((p+q)t)}+q]^2} $$.\n",
    "\n",
    "This $f(t)$ number can effectively be used to indicate if the product is predicted to be in a growth (increasing $f(t)$) or decline (decreasing $f(t)$) stage at a given time."
   ]
  },
  {
   "cell_type": "markdown",
   "metadata": {
    "id": "JBnuOyFU9SXx"
   },
   "source": [
    "Given a value of $m$, $p$ and $q$, we want to determine the probability of adoption by an individual using the Bass model above for years 1 to 5 for the following cases:\n",
    "\n",
    "* Product 1: $m_1=1000$, $q_1 = 0.40$, and $p_1 = 0.10$\n",
    "* Product 2: $m_2=1000$, $q_2 = 0.10$, and $p_2 = 0.40$\n",
    "\n",
    "Please determine the function to calculate $f(t)$ using `for` or `while` loops. Please print out the results in the following format:\n",
    "`\"Year[%t%]: probability of adoption f(t) = %ft%\", change in f(t) = %(ft - previous_ft)%)` where the `%text%` represent the corresponding output variable from the calculation.\n",
    "\n",
    "\n",
    "<b>Hint 1:</b> You can also use the `range()` funtion in the `for` loop and the function you created in Exercise 2.1. Check [this page](https://www.w3schools.com/python/ref_func_range.asp) to know more about the `range()` function. For example, if you want to create a sequence from 1 to 5, we can use the function `range(1, 6)` (see below)."
   ]
  },
  {
   "cell_type": "code",
   "execution_count": null,
   "metadata": {
    "id": "PmnGsO4XwY8f"
   },
   "outputs": [],
   "source": [
    "for i in range(1,6):\n",
    "  print(i)"
   ]
  },
  {
   "cell_type": "markdown",
   "metadata": {
    "id": "aPZXuK83-xA1"
   },
   "source": [
    "<b>Hint 2:</b> Please first define the function to calculate f(t) and then call this function in the loop."
   ]
  },
  {
   "cell_type": "code",
   "execution_count": null,
   "metadata": {
    "id": "ncHUxAKO9u0R"
   },
   "outputs": [],
   "source": [
    "# Function to calculate F(t)\n",
    "### start your code here ###\n",
    "\n",
    "### end your code here #### \n"
   ]
  },
  {
   "cell_type": "code",
   "execution_count": null,
   "metadata": {
    "id": "tm5tBn-t_tzC"
   },
   "outputs": [],
   "source": [
    "# Calculate f(t) for product 1\n",
    "m_product_1 = 1000\n",
    "q_product_1 = 0.4\n",
    "p_product_1 = 0.1\n",
    "\n",
    "### start your code here ###\n",
    "\n",
    "### end your code here #### "
   ]
  },
  {
   "cell_type": "code",
   "execution_count": null,
   "metadata": {
    "id": "2EoGaKbV_7Fl"
   },
   "outputs": [],
   "source": [
    "# Calculate f(t) for product 2\n",
    "m_product_2 = 1000\n",
    "q_product_2 = 0.1\n",
    "p_product_2 = 0.4\n",
    "\n",
    "### start your code here ###\n",
    "\n",
    "### end your code here #### "
   ]
  }
 ],
 "metadata": {
  "colab": {
   "include_colab_link": true,
   "name": "02_AfterClass_Exercises.ipynb",
   "provenance": []
  },
  "kernelspec": {
   "display_name": "Python 3 (ipykernel)",
   "language": "python",
   "name": "python3"
  },
  "language_info": {
   "codemirror_mode": {
    "name": "ipython",
    "version": 3
   },
   "file_extension": ".py",
   "mimetype": "text/x-python",
   "name": "python",
   "nbconvert_exporter": "python",
   "pygments_lexer": "ipython3",
   "version": "3.8.8"
  },
  "toc": {
   "base_numbering": 1,
   "nav_menu": {},
   "number_sections": true,
   "sideBar": true,
   "skip_h1_title": false,
   "title_cell": "Table of Contents",
   "title_sidebar": "Contents",
   "toc_cell": false,
   "toc_position": {},
   "toc_section_display": true,
   "toc_window_display": true
  }
 },
 "nbformat": 4,
 "nbformat_minor": 1
}
