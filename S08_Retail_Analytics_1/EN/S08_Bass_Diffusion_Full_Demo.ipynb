{
 "cells": [
  {
   "cell_type": "markdown",
   "metadata": {
    "id": "baCCKjGsTSa3"
   },
   "source": [
    "# S09 - Bass Diffusion - Full Demo\n",
    "\n",
    "---"
   ]
  },
  {
   "cell_type": "markdown",
   "metadata": {
    "id": "lljX7N2kk-kC"
   },
   "source": [
    "In session 2, we have defined the following two functions for the Bass diffusion model:\n",
    "\n",
    "<blockquote>\n",
    "The cumulative number of adoptors (people who bought/adopted the product) $S(t)$ from the beginning (time 0) to time $t$ is described by $S(t) = m \\times F(t)$ where $m$ is the market size (the estimated total number of potential customers) and $F(t)$ is the <i>cumulative</i> probability that an individual (potential customer) has already adopted the product by time $t$ (which needs to be calculated). \n",
    "We can obtain $F(t)$ as a function of $p$ and $q$ as follows:\n",
    "\n",
    "$$F(t) = \\frac{1-e^{-(p+q)t}}{1+\\frac{q}{p}e^{-(p+q)t}} $$\n",
    "\n",
    "where \n",
    "<br /> \n",
    "* $p$ is the coefficiant of innovation\n",
    "<br /> \n",
    "* $q$ is the coefficient of imitation\n",
    "<br /> \n",
    "\n",
    "In addition, the probability of adoption by an individual at time $t$ which is represented by $f(t)$ (recall that $f(t) = \\frac{d}{dt}F(t)$) can be calculated as follows: \n",
    "\n",
    "$$f(t) = \\frac{d}{dt}F(t) = \\frac{e^{(p+q)t}p(p+q)^2}{[pe^{(p+q)t}+q]^2} $$\n",
    "\n",
    "Consequently, the estimated number of adoptions in each period can be calculated as  $s(t) = m\\times f(t)$.\n",
    "\n",
    "</blockquote>\n",
    "\n",
    "We have then prepared the following two functions to calculate $F(t)$ and $f(t)$."
   ]
  },
  {
   "cell_type": "code",
   "execution_count": 1,
   "metadata": {},
   "outputs": [],
   "source": [
    "import math\n",
    "\n",
    "import pandas as pd\n",
    "import numpy as np\n",
    "from sklearn.linear_model import LinearRegression"
   ]
  },
  {
   "cell_type": "code",
   "execution_count": 2,
   "metadata": {
    "id": "WCZ1wOa7Rcye"
   },
   "outputs": [],
   "source": [
    "def Bass_cumulative_probability_Ft(p, q, t):\n",
    "    return (1 - math.exp(-(p + q) * t)) / (1 + (q / p) * math.exp(-(p + q) * t))\n",
    "\n",
    "def Bass_probability_ft(p, q, t):\n",
    "    return (math.exp((p + q) * t) * p * (p + q)**2) / (p * math.exp((p + q) * t) + q)**2"
   ]
  },
  {
   "cell_type": "markdown",
   "metadata": {
    "id": "l6zE6dpvs-u2"
   },
   "source": [
    "Based on the values of $p$, $q$ and $m$ of the quarterly sales of iPhone provided in the code cell below, please compute the values of the estimated probability of adoption $f(t)$, cumulative probability of adoption $F(t)$, the number of adoptions $s(t) = m\\times f(t)$, and cumulative number of adoptions $S(t) = m\\times F(t)$ for each quarter, which is indexed by $t$. Note that the first column below is an index whereas the subsequent four columns contain the corresponding values of the estimations based on Bass diffusion model.\n",
    "\n",
    "\n",
    "|Quarter_Index| ft | Ft| st | St | \n",
    "| :- | :- | :- | :- | :- | \n",
    "|...| ... |...| ... |...|\n",
    "\n",
    "\n"
   ]
  },
  {
   "cell_type": "markdown",
   "metadata": {
    "id": "z3pM6QsjWsUn"
   },
   "source": [
    "## Regression for Bass parameters estimation (this is the additional part to the original notebook in S4)\n",
    "**Estimating Bass diffusion model parameters**\n",
    "\n",
    "We can now complete the Bass diffusion model pipeline by first estimating the parameters $p$, $q$ and $m$ from the data prior to performing prediction. First, we load the actual data of sales of iPhone. The regression model for parameters estimation is presented in the paper below (Section \"Discrete Analogue\").\n",
    "\n",
    "<b>Reference</b>: Bass, F. M. (1969). A new product growth for model consumer durables. Management science, 15(5), 215-227.\n"
   ]
  },
  {
   "cell_type": "code",
   "execution_count": 3,
   "metadata": {
    "id": "aibWFKVpW23s"
   },
   "outputs": [
    {
     "data": {
      "text/html": [
       "<div>\n",
       "<style scoped>\n",
       "    .dataframe tbody tr th:only-of-type {\n",
       "        vertical-align: middle;\n",
       "    }\n",
       "\n",
       "    .dataframe tbody tr th {\n",
       "        vertical-align: top;\n",
       "    }\n",
       "\n",
       "    .dataframe thead th {\n",
       "        text-align: right;\n",
       "    }\n",
       "</style>\n",
       "<table border=\"1\" class=\"dataframe\">\n",
       "  <thead>\n",
       "    <tr style=\"text-align: right;\">\n",
       "      <th></th>\n",
       "      <th>Sales</th>\n",
       "    </tr>\n",
       "    <tr>\n",
       "      <th>Quarter</th>\n",
       "      <th></th>\n",
       "    </tr>\n",
       "  </thead>\n",
       "  <tbody>\n",
       "    <tr>\n",
       "      <th>0</th>\n",
       "      <td>0.270</td>\n",
       "    </tr>\n",
       "    <tr>\n",
       "      <th>1</th>\n",
       "      <td>1.119</td>\n",
       "    </tr>\n",
       "    <tr>\n",
       "      <th>2</th>\n",
       "      <td>2.315</td>\n",
       "    </tr>\n",
       "    <tr>\n",
       "      <th>3</th>\n",
       "      <td>1.703</td>\n",
       "    </tr>\n",
       "    <tr>\n",
       "      <th>4</th>\n",
       "      <td>0.717</td>\n",
       "    </tr>\n",
       "  </tbody>\n",
       "</table>\n",
       "</div>"
      ],
      "text/plain": [
       "         Sales\n",
       "Quarter       \n",
       "0        0.270\n",
       "1        1.119\n",
       "2        2.315\n",
       "3        1.703\n",
       "4        0.717"
      ]
     },
     "execution_count": 3,
     "metadata": {},
     "output_type": "execute_result"
    }
   ],
   "source": [
    "url = 'https://raw.githubusercontent.com/acedesci/scanalytics/master/data/iphone_quarter_sales.csv'\n",
    "actual_sales = pd.read_csv(url, index_col='Quarter')\n",
    "actual_sales.head()"
   ]
  },
  {
   "cell_type": "markdown",
   "metadata": {
    "id": "M27Oe_7td12O"
   },
   "source": [
    "We would first determine the coefficients for the Bass diffusion model in order to perform the prediction as seen in a previous session. The Bass model in a basic form, can be written as:\n",
    "\n",
    "$s(t) = pm + (q-p)S(t) - \\frac{q}{m}S(t)^2$\n",
    "\n",
    "which can be solved by a regression function. Here we will use the following equation (note that we do not shift one period like in the paper since the period is a bit long).\n",
    "\n",
    "$s(t) = a + bS(t) + cS(t)^2$\n",
    "\n",
    "Correspondingly, we can obtain $m = \\frac{-b \\pm \\sqrt{b^2-4ac}}{2c}$ ($m$ must be positive), $p = a/m$ and $q = -mc$ (for the detailed proof, you can review the Section \"Discrete Analogue\" in the paper).\n",
    "\n",
    "In the steps below, we demonstrate how this can be done using the linear regression model."
   ]
  },
  {
   "cell_type": "code",
   "execution_count": 4,
   "metadata": {
    "id": "mAPWiVadXZBn"
   },
   "outputs": [
    {
     "data": {
      "text/html": [
       "<div>\n",
       "<style scoped>\n",
       "    .dataframe tbody tr th:only-of-type {\n",
       "        vertical-align: middle;\n",
       "    }\n",
       "\n",
       "    .dataframe tbody tr th {\n",
       "        vertical-align: top;\n",
       "    }\n",
       "\n",
       "    .dataframe thead th {\n",
       "        text-align: right;\n",
       "    }\n",
       "</style>\n",
       "<table border=\"1\" class=\"dataframe\">\n",
       "  <thead>\n",
       "    <tr style=\"text-align: right;\">\n",
       "      <th></th>\n",
       "      <th>sales</th>\n",
       "      <th>cumulative_sales</th>\n",
       "      <th>cumulative_sales_sq</th>\n",
       "    </tr>\n",
       "    <tr>\n",
       "      <th>Quarter</th>\n",
       "      <th></th>\n",
       "      <th></th>\n",
       "      <th></th>\n",
       "    </tr>\n",
       "  </thead>\n",
       "  <tbody>\n",
       "    <tr>\n",
       "      <th>0</th>\n",
       "      <td>0.270</td>\n",
       "      <td>0.270</td>\n",
       "      <td>0.072900</td>\n",
       "    </tr>\n",
       "    <tr>\n",
       "      <th>1</th>\n",
       "      <td>1.119</td>\n",
       "      <td>1.389</td>\n",
       "      <td>1.929321</td>\n",
       "    </tr>\n",
       "    <tr>\n",
       "      <th>2</th>\n",
       "      <td>2.315</td>\n",
       "      <td>3.704</td>\n",
       "      <td>13.719616</td>\n",
       "    </tr>\n",
       "    <tr>\n",
       "      <th>3</th>\n",
       "      <td>1.703</td>\n",
       "      <td>5.407</td>\n",
       "      <td>29.235649</td>\n",
       "    </tr>\n",
       "    <tr>\n",
       "      <th>4</th>\n",
       "      <td>0.717</td>\n",
       "      <td>6.124</td>\n",
       "      <td>37.503376</td>\n",
       "    </tr>\n",
       "  </tbody>\n",
       "</table>\n",
       "</div>"
      ],
      "text/plain": [
       "         sales  cumulative_sales  cumulative_sales_sq\n",
       "Quarter                                              \n",
       "0        0.270             0.270             0.072900\n",
       "1        1.119             1.389             1.929321\n",
       "2        2.315             3.704            13.719616\n",
       "3        1.703             5.407            29.235649\n",
       "4        0.717             6.124            37.503376"
      ]
     },
     "execution_count": 4,
     "metadata": {},
     "output_type": "execute_result"
    }
   ],
   "source": [
    "df = pd.DataFrame()\n",
    "# we need to prepare the inputs from sales by taking the cumulative sum up until period T - 1\n",
    "\n",
    "df[\"sales\"] = actual_sales[\"Sales\"]\n",
    "df[\"cumulative_sales\"] = np.cumsum(actual_sales[\"Sales\"])\n",
    "df[\"cumulative_sales_sq\"] = df[\"cumulative_sales\"] ** 2\n",
    "df.head()"
   ]
  },
  {
   "cell_type": "markdown",
   "metadata": {
    "id": "2ke0DAxznBcC"
   },
   "source": [
    "Now we can use a linear regression to determine $a$, $b$ and $c$ of the regression function above."
   ]
  },
  {
   "cell_type": "code",
   "execution_count": 5,
   "metadata": {
    "id": "TofO-8yaY4Y_"
   },
   "outputs": [
    {
     "name": "stdout",
     "output_type": "stream",
     "text": [
      "intercept: 3.6726987894801724\n",
      "coefficients: [ 1.15612351e-01 -6.23837858e-05]\n"
     ]
    }
   ],
   "source": [
    "X = df[[\"cumulative_sales\",\"cumulative_sales_sq\"]]\n",
    "y = df[\"sales\"]\n",
    "reg = LinearRegression().fit(X, y)\n",
    "print(f\"intercept: {reg.intercept_}\")\n",
    "print(f\"coefficients: {reg.coef_}\")\n",
    "\n",
    "a = reg.intercept_\n",
    "b = reg.coef_[0]\n",
    "c = reg.coef_[1]"
   ]
  },
  {
   "cell_type": "markdown",
   "metadata": {
    "id": "gr3GleeGnM-z"
   },
   "source": [
    "Following the results, we can obtain\n",
    "\n",
    "$m = \\frac{-b \\pm \\sqrt{b^2-4ac}}{2c}$\n",
    "\n",
    "and $m$ (the size of potential customer base) must be positive."
   ]
  },
  {
   "cell_type": "code",
   "execution_count": 6,
   "metadata": {
    "id": "eGmAdh_WabL7"
   },
   "outputs": [
    {
     "name": "stdout",
     "output_type": "stream",
     "text": [
      "m1 = -31.24072191263632 , m2 = 1884.4843034859591 , m = 1884.4843034859591\n"
     ]
    }
   ],
   "source": [
    "# determine m\n",
    "m1 = (-b + math.sqrt(b**2 - 4 * a *c)) / (2 * c)\n",
    "m2 = (-b - math.sqrt(b**2 - 4 * a *c)) / (2 * c)\n",
    "m = max(m1, m2)\n",
    "print(\"m1 =\", m1, \", m2 =\", m2, \", m =\", m)"
   ]
  },
  {
   "cell_type": "markdown",
   "metadata": {
    "id": "Y9NagL99n4f4"
   },
   "source": [
    "Then, we can directly obtain $p = a/m$ and $q = -mc$ for the Bass diffusion model."
   ]
  },
  {
   "cell_type": "code",
   "execution_count": 7,
   "metadata": {
    "id": "7shbI52Ub3FK"
   },
   "outputs": [
    {
     "name": "stdout",
     "output_type": "stream",
     "text": [
      "m = 1884.4843034859591 , p = 0.0019489145028623142 , q = 0.11756126506137607\n"
     ]
    }
   ],
   "source": [
    "p = a / m\n",
    "q = -m * c\n",
    "print(\"m =\", m, \", p =\", p, \", q =\", q)"
   ]
  },
  {
   "cell_type": "markdown",
   "metadata": {
    "id": "XTXzFcg3c-X_"
   },
   "source": [
    "## The following code is from Session 4 (Bass diffusion prediction from the given parameters)"
   ]
  },
  {
   "cell_type": "markdown",
   "metadata": {
    "id": "BNk0pTBJWux1"
   },
   "source": [
    "**Question 1**: Compute the values as indicated in the table above for the first 40 quarters of the sales (i.e., 10 years) using the parameters provided. The index of the quarter must be from 0 to 39 (i.e., the first quarter is considered period $t=0$)."
   ]
  },
  {
   "cell_type": "code",
   "execution_count": 8,
   "metadata": {
    "id": "vk7Qfr38mtko"
   },
   "outputs": [
    {
     "data": {
      "text/html": [
       "<div>\n",
       "<style scoped>\n",
       "    .dataframe tbody tr th:only-of-type {\n",
       "        vertical-align: middle;\n",
       "    }\n",
       "\n",
       "    .dataframe tbody tr th {\n",
       "        vertical-align: top;\n",
       "    }\n",
       "\n",
       "    .dataframe thead th {\n",
       "        text-align: right;\n",
       "    }\n",
       "</style>\n",
       "<table border=\"1\" class=\"dataframe\">\n",
       "  <thead>\n",
       "    <tr style=\"text-align: right;\">\n",
       "      <th></th>\n",
       "      <th>ft</th>\n",
       "      <th>Ft</th>\n",
       "      <th>st</th>\n",
       "      <th>St</th>\n",
       "    </tr>\n",
       "    <tr>\n",
       "      <th>Quarter</th>\n",
       "      <th></th>\n",
       "      <th></th>\n",
       "      <th></th>\n",
       "      <th></th>\n",
       "    </tr>\n",
       "  </thead>\n",
       "  <tbody>\n",
       "    <tr>\n",
       "      <th>0</th>\n",
       "      <td>0.001949</td>\n",
       "      <td>0.000000</td>\n",
       "      <td>3.672699</td>\n",
       "      <td>0.000000</td>\n",
       "    </tr>\n",
       "    <tr>\n",
       "      <th>1</th>\n",
       "      <td>0.002187</td>\n",
       "      <td>0.002066</td>\n",
       "      <td>4.121845</td>\n",
       "      <td>3.893112</td>\n",
       "    </tr>\n",
       "    <tr>\n",
       "      <th>2</th>\n",
       "      <td>0.002453</td>\n",
       "      <td>0.004384</td>\n",
       "      <td>4.623538</td>\n",
       "      <td>8.261201</td>\n",
       "    </tr>\n",
       "    <tr>\n",
       "      <th>3</th>\n",
       "      <td>0.002751</td>\n",
       "      <td>0.006983</td>\n",
       "      <td>5.183301</td>\n",
       "      <td>13.159540</td>\n",
       "    </tr>\n",
       "    <tr>\n",
       "      <th>4</th>\n",
       "      <td>0.003082</td>\n",
       "      <td>0.009896</td>\n",
       "      <td>5.807073</td>\n",
       "      <td>18.649135</td>\n",
       "    </tr>\n",
       "  </tbody>\n",
       "</table>\n",
       "</div>"
      ],
      "text/plain": [
       "               ft        Ft        st         St\n",
       "Quarter                                         \n",
       "0        0.001949  0.000000  3.672699   0.000000\n",
       "1        0.002187  0.002066  4.121845   3.893112\n",
       "2        0.002453  0.004384  4.623538   8.261201\n",
       "3        0.002751  0.006983  5.183301  13.159540\n",
       "4        0.003082  0.009896  5.807073  18.649135"
      ]
     },
     "execution_count": 8,
     "metadata": {},
     "output_type": "execute_result"
    }
   ],
   "source": [
    "column_names = ['ft','Ft','st','St']\n",
    "quarter_index = list(range(40))\n",
    "bass_df = pd.DataFrame(index=quarter_index, columns=column_names)\n",
    "bass_df.index.name = 'Quarter'\n",
    "\n",
    "### start your code here ###\n",
    "bass_df['ft'] = [Bass_probability_ft(p, q, t) for t in bass_df.index]\n",
    "bass_df['Ft'] = [Bass_cumulative_probability_Ft(p, q, t) for t in bass_df.index]\n",
    "bass_df['st'] = [m * bass_df.at[t, 'ft'] for t in bass_df.index]\n",
    "bass_df['St'] = [m * bass_df.at[t, 'Ft'] for t in bass_df.index]\n",
    "### end your code here ###\n",
    "\n",
    "bass_df.head()"
   ]
  },
  {
   "cell_type": "markdown",
   "metadata": {
    "id": "wqXtek3HTVNc"
   },
   "source": [
    "\n",
    "**Question 2**: Please:\n",
    "- (i) plot the columns `['ft','Ft']` in a single plot using line plot (parameter `kind='line'`) and \n",
    "- (ii) plot the columns `['st','St']` in a single plot using bar plot (parameter `kind='bar'`). \n",
    "\n",
    "You can also indicate the plot size using the parameter `figsize=(12,4)`."
   ]
  },
  {
   "cell_type": "code",
   "execution_count": 9,
   "metadata": {
    "id": "qLljeugk0Kw-",
    "scrolled": true
   },
   "outputs": [
    {
     "data": {
      "text/plain": [
       "<AxesSubplot:xlabel='Quarter'>"
      ]
     },
     "execution_count": 9,
     "metadata": {},
     "output_type": "execute_result"
    },
    {
     "data": {
      "image/png": "[encoded data removed]",
      "text/plain": [
       "<Figure size 1200x400 with 1 Axes>"
      ]
     },
     "metadata": {},
     "output_type": "display_data"
    },
    {
     "data": {
      "image/png": "[encoded data removed]",
      "text/plain": [
       "<Figure size 1200x400 with 1 Axes>"
      ]
     },
     "metadata": {},
     "output_type": "display_data"
    }
   ],
   "source": [
    "### start your code here ###\n",
    "bass_df[['ft','Ft']].plot(figsize=(12,4))\n",
    "bass_df[['st','St']].plot(kind='bar', figsize=(12,4))\n",
    "### end your code here ###"
   ]
  },
  {
   "cell_type": "markdown",
   "metadata": {
    "id": "c2G43F9gaHiS"
   },
   "source": [
    "**Question 3**: Now we can compare the results with the actual quarterly sales of iPhone for the first 40 quarters (starting from Q2 2007 when the product was first introduced).\n",
    "\n",
    "Add the following columns and their corresponding values to the `bass_df` DataFrame:\n",
    "\n",
    "*   Column `'Actual'`: which contains the actual sales from the DataFrame `actual_sales`\n",
    "*   Column `'CumulativeActual'`: which calculates the sum from the first quarter up until each quater in the index\n",
    "*   Column `'PError'`: which calculates the percentage error of each corresponding quarter from column `'Actual'` and column `'st'` (estimated sales in each quarter), i.e., `PError = (Actual - st) / Actual`"
   ]
  },
  {
   "cell_type": "code",
   "execution_count": 10,
   "metadata": {
    "id": "FaoMpo_TaFYl"
   },
   "outputs": [
    {
     "data": {
      "text/html": [
       "<div>\n",
       "<style scoped>\n",
       "    .dataframe tbody tr th:only-of-type {\n",
       "        vertical-align: middle;\n",
       "    }\n",
       "\n",
       "    .dataframe tbody tr th {\n",
       "        vertical-align: top;\n",
       "    }\n",
       "\n",
       "    .dataframe thead th {\n",
       "        text-align: right;\n",
       "    }\n",
       "</style>\n",
       "<table border=\"1\" class=\"dataframe\">\n",
       "  <thead>\n",
       "    <tr style=\"text-align: right;\">\n",
       "      <th></th>\n",
       "      <th>ft</th>\n",
       "      <th>Ft</th>\n",
       "      <th>st</th>\n",
       "      <th>St</th>\n",
       "      <th>Actual</th>\n",
       "      <th>CumulativeActual</th>\n",
       "      <th>PError</th>\n",
       "    </tr>\n",
       "    <tr>\n",
       "      <th>Quarter</th>\n",
       "      <th></th>\n",
       "      <th></th>\n",
       "      <th></th>\n",
       "      <th></th>\n",
       "      <th></th>\n",
       "      <th></th>\n",
       "      <th></th>\n",
       "    </tr>\n",
       "  </thead>\n",
       "  <tbody>\n",
       "    <tr>\n",
       "      <th>0</th>\n",
       "      <td>0.001949</td>\n",
       "      <td>0.000000</td>\n",
       "      <td>3.672699</td>\n",
       "      <td>0.000000</td>\n",
       "      <td>0.270</td>\n",
       "      <td>0.270</td>\n",
       "      <td>-12.602588</td>\n",
       "    </tr>\n",
       "    <tr>\n",
       "      <th>1</th>\n",
       "      <td>0.002187</td>\n",
       "      <td>0.002066</td>\n",
       "      <td>4.121845</td>\n",
       "      <td>3.893112</td>\n",
       "      <td>1.119</td>\n",
       "      <td>1.389</td>\n",
       "      <td>-2.683508</td>\n",
       "    </tr>\n",
       "    <tr>\n",
       "      <th>2</th>\n",
       "      <td>0.002453</td>\n",
       "      <td>0.004384</td>\n",
       "      <td>4.623538</td>\n",
       "      <td>8.261201</td>\n",
       "      <td>2.315</td>\n",
       "      <td>3.704</td>\n",
       "      <td>-0.997209</td>\n",
       "    </tr>\n",
       "    <tr>\n",
       "      <th>3</th>\n",
       "      <td>0.002751</td>\n",
       "      <td>0.006983</td>\n",
       "      <td>5.183301</td>\n",
       "      <td>13.159540</td>\n",
       "      <td>1.703</td>\n",
       "      <td>5.407</td>\n",
       "      <td>-2.043629</td>\n",
       "    </tr>\n",
       "    <tr>\n",
       "      <th>4</th>\n",
       "      <td>0.003082</td>\n",
       "      <td>0.009896</td>\n",
       "      <td>5.807073</td>\n",
       "      <td>18.649135</td>\n",
       "      <td>0.717</td>\n",
       "      <td>6.124</td>\n",
       "      <td>-7.099125</td>\n",
       "    </tr>\n",
       "    <tr>\n",
       "      <th>5</th>\n",
       "      <td>0.003450</td>\n",
       "      <td>0.013159</td>\n",
       "      <td>6.501194</td>\n",
       "      <td>24.797131</td>\n",
       "      <td>6.892</td>\n",
       "      <td>13.016</td>\n",
       "      <td>0.056704</td>\n",
       "    </tr>\n",
       "    <tr>\n",
       "      <th>6</th>\n",
       "      <td>0.003859</td>\n",
       "      <td>0.016809</td>\n",
       "      <td>7.272376</td>\n",
       "      <td>31.677206</td>\n",
       "      <td>4.363</td>\n",
       "      <td>17.379</td>\n",
       "      <td>-0.666829</td>\n",
       "    </tr>\n",
       "    <tr>\n",
       "      <th>7</th>\n",
       "      <td>0.004313</td>\n",
       "      <td>0.020892</td>\n",
       "      <td>8.127653</td>\n",
       "      <td>39.369912</td>\n",
       "      <td>3.793</td>\n",
       "      <td>21.172</td>\n",
       "      <td>-1.142803</td>\n",
       "    </tr>\n",
       "    <tr>\n",
       "      <th>8</th>\n",
       "      <td>0.004815</td>\n",
       "      <td>0.025452</td>\n",
       "      <td>9.074300</td>\n",
       "      <td>47.962967</td>\n",
       "      <td>5.208</td>\n",
       "      <td>26.380</td>\n",
       "      <td>-0.742377</td>\n",
       "    </tr>\n",
       "    <tr>\n",
       "      <th>9</th>\n",
       "      <td>0.005370</td>\n",
       "      <td>0.030540</td>\n",
       "      <td>10.119730</td>\n",
       "      <td>57.551440</td>\n",
       "      <td>7.367</td>\n",
       "      <td>33.747</td>\n",
       "      <td>-0.373657</td>\n",
       "    </tr>\n",
       "    <tr>\n",
       "      <th>10</th>\n",
       "      <td>0.005981</td>\n",
       "      <td>0.036210</td>\n",
       "      <td>11.271350</td>\n",
       "      <td>68.237826</td>\n",
       "      <td>8.737</td>\n",
       "      <td>42.484</td>\n",
       "      <td>-0.290071</td>\n",
       "    </tr>\n",
       "    <tr>\n",
       "      <th>11</th>\n",
       "      <td>0.006652</td>\n",
       "      <td>0.042522</td>\n",
       "      <td>12.536367</td>\n",
       "      <td>80.131944</td>\n",
       "      <td>8.752</td>\n",
       "      <td>51.236</td>\n",
       "      <td>-0.432400</td>\n",
       "    </tr>\n",
       "    <tr>\n",
       "      <th>12</th>\n",
       "      <td>0.007387</td>\n",
       "      <td>0.049536</td>\n",
       "      <td>13.921550</td>\n",
       "      <td>93.350623</td>\n",
       "      <td>8.398</td>\n",
       "      <td>59.634</td>\n",
       "      <td>-0.657722</td>\n",
       "    </tr>\n",
       "    <tr>\n",
       "      <th>13</th>\n",
       "      <td>0.008189</td>\n",
       "      <td>0.057319</td>\n",
       "      <td>15.432937</td>\n",
       "      <td>108.017124</td>\n",
       "      <td>14.102</td>\n",
       "      <td>73.736</td>\n",
       "      <td>-0.094379</td>\n",
       "    </tr>\n",
       "    <tr>\n",
       "      <th>14</th>\n",
       "      <td>0.009061</td>\n",
       "      <td>0.065939</td>\n",
       "      <td>17.075473</td>\n",
       "      <td>124.260231</td>\n",
       "      <td>16.235</td>\n",
       "      <td>89.971</td>\n",
       "      <td>-0.051769</td>\n",
       "    </tr>\n",
       "    <tr>\n",
       "      <th>15</th>\n",
       "      <td>0.010004</td>\n",
       "      <td>0.075465</td>\n",
       "      <td>18.852590</td>\n",
       "      <td>142.212953</td>\n",
       "      <td>18.647</td>\n",
       "      <td>108.618</td>\n",
       "      <td>-0.011025</td>\n",
       "    </tr>\n",
       "    <tr>\n",
       "      <th>16</th>\n",
       "      <td>0.011019</td>\n",
       "      <td>0.085971</td>\n",
       "      <td>20.765728</td>\n",
       "      <td>162.010779</td>\n",
       "      <td>20.338</td>\n",
       "      <td>128.956</td>\n",
       "      <td>-0.021031</td>\n",
       "    </tr>\n",
       "    <tr>\n",
       "      <th>17</th>\n",
       "      <td>0.012106</td>\n",
       "      <td>0.097528</td>\n",
       "      <td>22.813792</td>\n",
       "      <td>183.789418</td>\n",
       "      <td>17.073</td>\n",
       "      <td>146.029</td>\n",
       "      <td>-0.336250</td>\n",
       "    </tr>\n",
       "    <tr>\n",
       "      <th>18</th>\n",
       "      <td>0.013262</td>\n",
       "      <td>0.110206</td>\n",
       "      <td>24.992575</td>\n",
       "      <td>207.681977</td>\n",
       "      <td>37.044</td>\n",
       "      <td>183.073</td>\n",
       "      <td>0.325327</td>\n",
       "    </tr>\n",
       "    <tr>\n",
       "      <th>19</th>\n",
       "      <td>0.014484</td>\n",
       "      <td>0.124074</td>\n",
       "      <td>27.294161</td>\n",
       "      <td>233.815550</td>\n",
       "      <td>35.064</td>\n",
       "      <td>218.137</td>\n",
       "      <td>0.221590</td>\n",
       "    </tr>\n",
       "    <tr>\n",
       "      <th>20</th>\n",
       "      <td>0.015764</td>\n",
       "      <td>0.139193</td>\n",
       "      <td>29.706331</td>\n",
       "      <td>262.307214</td>\n",
       "      <td>26.028</td>\n",
       "      <td>244.165</td>\n",
       "      <td>-0.141322</td>\n",
       "    </tr>\n",
       "    <tr>\n",
       "      <th>21</th>\n",
       "      <td>0.017093</td>\n",
       "      <td>0.155618</td>\n",
       "      <td>32.212039</td>\n",
       "      <td>293.259450</td>\n",
       "      <td>26.910</td>\n",
       "      <td>271.075</td>\n",
       "      <td>-0.197029</td>\n",
       "    </tr>\n",
       "    <tr>\n",
       "      <th>22</th>\n",
       "      <td>0.018461</td>\n",
       "      <td>0.173392</td>\n",
       "      <td>34.788976</td>\n",
       "      <td>326.755096</td>\n",
       "      <td>47.789</td>\n",
       "      <td>318.864</td>\n",
       "      <td>0.272030</td>\n",
       "    </tr>\n",
       "    <tr>\n",
       "      <th>23</th>\n",
       "      <td>0.019851</td>\n",
       "      <td>0.192547</td>\n",
       "      <td>37.409319</td>\n",
       "      <td>362.851933</td>\n",
       "      <td>37.430</td>\n",
       "      <td>356.294</td>\n",
       "      <td>0.000553</td>\n",
       "    </tr>\n",
       "    <tr>\n",
       "      <th>24</th>\n",
       "      <td>0.021247</td>\n",
       "      <td>0.213097</td>\n",
       "      <td>40.039705</td>\n",
       "      <td>401.577141</td>\n",
       "      <td>31.241</td>\n",
       "      <td>387.535</td>\n",
       "      <td>-0.281640</td>\n",
       "    </tr>\n",
       "    <tr>\n",
       "      <th>25</th>\n",
       "      <td>0.022628</td>\n",
       "      <td>0.235036</td>\n",
       "      <td>42.641499</td>\n",
       "      <td>442.921864</td>\n",
       "      <td>33.797</td>\n",
       "      <td>421.332</td>\n",
       "      <td>-0.261695</td>\n",
       "    </tr>\n",
       "    <tr>\n",
       "      <th>26</th>\n",
       "      <td>0.023970</td>\n",
       "      <td>0.258339</td>\n",
       "      <td>45.171429</td>\n",
       "      <td>486.836225</td>\n",
       "      <td>51.025</td>\n",
       "      <td>472.357</td>\n",
       "      <td>0.114720</td>\n",
       "    </tr>\n",
       "    <tr>\n",
       "      <th>27</th>\n",
       "      <td>0.025250</td>\n",
       "      <td>0.282955</td>\n",
       "      <td>47.582589</td>\n",
       "      <td>533.225157</td>\n",
       "      <td>43.719</td>\n",
       "      <td>516.076</td>\n",
       "      <td>-0.088373</td>\n",
       "    </tr>\n",
       "    <tr>\n",
       "      <th>28</th>\n",
       "      <td>0.026440</td>\n",
       "      <td>0.308809</td>\n",
       "      <td>49.825855</td>\n",
       "      <td>581.945444</td>\n",
       "      <td>35.203</td>\n",
       "      <td>551.279</td>\n",
       "      <td>-0.415387</td>\n",
       "    </tr>\n",
       "    <tr>\n",
       "      <th>29</th>\n",
       "      <td>0.027515</td>\n",
       "      <td>0.335797</td>\n",
       "      <td>51.851650</td>\n",
       "      <td>632.804359</td>\n",
       "      <td>39.272</td>\n",
       "      <td>590.551</td>\n",
       "      <td>-0.320321</td>\n",
       "    </tr>\n",
       "    <tr>\n",
       "      <th>30</th>\n",
       "      <td>0.028449</td>\n",
       "      <td>0.363792</td>\n",
       "      <td>53.611996</td>\n",
       "      <td>685.560219</td>\n",
       "      <td>74.468</td>\n",
       "      <td>665.019</td>\n",
       "      <td>0.280067</td>\n",
       "    </tr>\n",
       "    <tr>\n",
       "      <th>31</th>\n",
       "      <td>0.029219</td>\n",
       "      <td>0.392641</td>\n",
       "      <td>55.062732</td>\n",
       "      <td>739.925081</td>\n",
       "      <td>61.170</td>\n",
       "      <td>726.189</td>\n",
       "      <td>0.099841</td>\n",
       "    </tr>\n",
       "    <tr>\n",
       "      <th>32</th>\n",
       "      <td>0.029804</td>\n",
       "      <td>0.422168</td>\n",
       "      <td>56.165740</td>\n",
       "      <td>795.569684</td>\n",
       "      <td>47.534</td>\n",
       "      <td>773.723</td>\n",
       "      <td>-0.181591</td>\n",
       "    </tr>\n",
       "    <tr>\n",
       "      <th>33</th>\n",
       "      <td>0.030189</td>\n",
       "      <td>0.452182</td>\n",
       "      <td>56.890996</td>\n",
       "      <td>852.130535</td>\n",
       "      <td>48.050</td>\n",
       "      <td>821.773</td>\n",
       "      <td>-0.183996</td>\n",
       "    </tr>\n",
       "    <tr>\n",
       "      <th>34</th>\n",
       "      <td>0.030363</td>\n",
       "      <td>0.482476</td>\n",
       "      <td>57.218267</td>\n",
       "      <td>909.218892</td>\n",
       "      <td>74.780</td>\n",
       "      <td>896.553</td>\n",
       "      <td>0.234845</td>\n",
       "    </tr>\n",
       "    <tr>\n",
       "      <th>35</th>\n",
       "      <td>0.030320</td>\n",
       "      <td>0.512836</td>\n",
       "      <td>57.138295</td>\n",
       "      <td>966.431192</td>\n",
       "      <td>51.200</td>\n",
       "      <td>947.753</td>\n",
       "      <td>-0.115982</td>\n",
       "    </tr>\n",
       "    <tr>\n",
       "      <th>36</th>\n",
       "      <td>0.030063</td>\n",
       "      <td>0.543045</td>\n",
       "      <td>56.653351</td>\n",
       "      <td>1023.360364</td>\n",
       "      <td>40.399</td>\n",
       "      <td>988.152</td>\n",
       "      <td>-0.402345</td>\n",
       "    </tr>\n",
       "    <tr>\n",
       "      <th>37</th>\n",
       "      <td>0.029598</td>\n",
       "      <td>0.572893</td>\n",
       "      <td>55.777094</td>\n",
       "      <td>1079.607339</td>\n",
       "      <td>45.513</td>\n",
       "      <td>1033.665</td>\n",
       "      <td>-0.225520</td>\n",
       "    </tr>\n",
       "    <tr>\n",
       "      <th>38</th>\n",
       "      <td>0.028938</td>\n",
       "      <td>0.602176</td>\n",
       "      <td>54.533767</td>\n",
       "      <td>1134.792093</td>\n",
       "      <td>78.290</td>\n",
       "      <td>1111.955</td>\n",
       "      <td>0.303439</td>\n",
       "    </tr>\n",
       "    <tr>\n",
       "      <th>39</th>\n",
       "      <td>0.028101</td>\n",
       "      <td>0.630710</td>\n",
       "      <td>52.956791</td>\n",
       "      <td>1188.563574</td>\n",
       "      <td>50.763</td>\n",
       "      <td>1162.718</td>\n",
       "      <td>-0.043216</td>\n",
       "    </tr>\n",
       "  </tbody>\n",
       "</table>\n",
       "</div>"
      ],
      "text/plain": [
       "               ft        Ft         st           St  Actual  CumulativeActual  \\\n",
       "Quarter                                                                         \n",
       "0        0.001949  0.000000   3.672699     0.000000   0.270             0.270   \n",
       "1        0.002187  0.002066   4.121845     3.893112   1.119             1.389   \n",
       "2        0.002453  0.004384   4.623538     8.261201   2.315             3.704   \n",
       "3        0.002751  0.006983   5.183301    13.159540   1.703             5.407   \n",
       "4        0.003082  0.009896   5.807073    18.649135   0.717             6.124   \n",
       "5        0.003450  0.013159   6.501194    24.797131   6.892            13.016   \n",
       "6        0.003859  0.016809   7.272376    31.677206   4.363            17.379   \n",
       "7        0.004313  0.020892   8.127653    39.369912   3.793            21.172   \n",
       "8        0.004815  0.025452   9.074300    47.962967   5.208            26.380   \n",
       "9        0.005370  0.030540  10.119730    57.551440   7.367            33.747   \n",
       "10       0.005981  0.036210  11.271350    68.237826   8.737            42.484   \n",
       "11       0.006652  0.042522  12.536367    80.131944   8.752            51.236   \n",
       "12       0.007387  0.049536  13.921550    93.350623   8.398            59.634   \n",
       "13       0.008189  0.057319  15.432937   108.017124  14.102            73.736   \n",
       "14       0.009061  0.065939  17.075473   124.260231  16.235            89.971   \n",
       "15       0.010004  0.075465  18.852590   142.212953  18.647           108.618   \n",
       "16       0.011019  0.085971  20.765728   162.010779  20.338           128.956   \n",
       "17       0.012106  0.097528  22.813792   183.789418  17.073           146.029   \n",
       "18       0.013262  0.110206  24.992575   207.681977  37.044           183.073   \n",
       "19       0.014484  0.124074  27.294161   233.815550  35.064           218.137   \n",
       "20       0.015764  0.139193  29.706331   262.307214  26.028           244.165   \n",
       "21       0.017093  0.155618  32.212039   293.259450  26.910           271.075   \n",
       "22       0.018461  0.173392  34.788976   326.755096  47.789           318.864   \n",
       "23       0.019851  0.192547  37.409319   362.851933  37.430           356.294   \n",
       "24       0.021247  0.213097  40.039705   401.577141  31.241           387.535   \n",
       "25       0.022628  0.235036  42.641499   442.921864  33.797           421.332   \n",
       "26       0.023970  0.258339  45.171429   486.836225  51.025           472.357   \n",
       "27       0.025250  0.282955  47.582589   533.225157  43.719           516.076   \n",
       "28       0.026440  0.308809  49.825855   581.945444  35.203           551.279   \n",
       "29       0.027515  0.335797  51.851650   632.804359  39.272           590.551   \n",
       "30       0.028449  0.363792  53.611996   685.560219  74.468           665.019   \n",
       "31       0.029219  0.392641  55.062732   739.925081  61.170           726.189   \n",
       "32       0.029804  0.422168  56.165740   795.569684  47.534           773.723   \n",
       "33       0.030189  0.452182  56.890996   852.130535  48.050           821.773   \n",
       "34       0.030363  0.482476  57.218267   909.218892  74.780           896.553   \n",
       "35       0.030320  0.512836  57.138295   966.431192  51.200           947.753   \n",
       "36       0.030063  0.543045  56.653351  1023.360364  40.399           988.152   \n",
       "37       0.029598  0.572893  55.777094  1079.607339  45.513          1033.665   \n",
       "38       0.028938  0.602176  54.533767  1134.792093  78.290          1111.955   \n",
       "39       0.028101  0.630710  52.956791  1188.563574  50.763          1162.718   \n",
       "\n",
       "            PError  \n",
       "Quarter             \n",
       "0       -12.602588  \n",
       "1        -2.683508  \n",
       "2        -0.997209  \n",
       "3        -2.043629  \n",
       "4        -7.099125  \n",
       "5         0.056704  \n",
       "6        -0.666829  \n",
       "7        -1.142803  \n",
       "8        -0.742377  \n",
       "9        -0.373657  \n",
       "10       -0.290071  \n",
       "11       -0.432400  \n",
       "12       -0.657722  \n",
       "13       -0.094379  \n",
       "14       -0.051769  \n",
       "15       -0.011025  \n",
       "16       -0.021031  \n",
       "17       -0.336250  \n",
       "18        0.325327  \n",
       "19        0.221590  \n",
       "20       -0.141322  \n",
       "21       -0.197029  \n",
       "22        0.272030  \n",
       "23        0.000553  \n",
       "24       -0.281640  \n",
       "25       -0.261695  \n",
       "26        0.114720  \n",
       "27       -0.088373  \n",
       "28       -0.415387  \n",
       "29       -0.320321  \n",
       "30        0.280067  \n",
       "31        0.099841  \n",
       "32       -0.181591  \n",
       "33       -0.183996  \n",
       "34        0.234845  \n",
       "35       -0.115982  \n",
       "36       -0.402345  \n",
       "37       -0.225520  \n",
       "38        0.303439  \n",
       "39       -0.043216  "
      ]
     },
     "execution_count": 10,
     "metadata": {},
     "output_type": "execute_result"
    }
   ],
   "source": [
    "### start your code here ###\n",
    "bass_df['Actual'] = actual_sales['Sales']\n",
    "bass_df['CumulativeActual'] = [sum(actual_sales.loc[:t,'Sales']) for t in actual_sales['Sales'].index]\n",
    "bass_df['PError'] = (bass_df['Actual'] - bass_df['st']) / bass_df['Actual']\n",
    "### end your code here ###\n",
    "bass_df"
   ]
  },
  {
   "cell_type": "markdown",
   "metadata": {
    "id": "s4qiBovTtobr"
   },
   "source": [
    "**Question 4**: We can also generate the date of the last day of each quarter using the code below."
   ]
  },
  {
   "cell_type": "code",
   "execution_count": 11,
   "metadata": {
    "id": "eJnh5ARpm8D0"
   },
   "outputs": [
    {
     "data": {
      "text/plain": [
       "DatetimeIndex(['2007-06-30', '2007-09-30', '2007-12-31', '2008-03-31',\n",
       "               '2008-06-30', '2008-09-30', '2008-12-31', '2009-03-31',\n",
       "               '2009-06-30', '2009-09-30', '2009-12-31', '2010-03-31',\n",
       "               '2010-06-30', '2010-09-30', '2010-12-31', '2011-03-31',\n",
       "               '2011-06-30', '2011-09-30', '2011-12-31', '2012-03-31',\n",
       "               '2012-06-30', '2012-09-30', '2012-12-31', '2013-03-31',\n",
       "               '2013-06-30', '2013-09-30', '2013-12-31', '2014-03-31',\n",
       "               '2014-06-30', '2014-09-30', '2014-12-31', '2015-03-31',\n",
       "               '2015-06-30', '2015-09-30', '2015-12-31', '2016-03-31',\n",
       "               '2016-06-30', '2016-09-30', '2016-12-31', '2017-03-31'],\n",
       "              dtype='datetime64[ns]', freq='Q-DEC')"
      ]
     },
     "execution_count": 11,
     "metadata": {},
     "output_type": "execute_result"
    }
   ],
   "source": [
    "quarter_index_date = pd.date_range('4/1/2007', periods=40, freq='Q')\n",
    "quarter_index_date"
   ]
  },
  {
   "cell_type": "markdown",
   "metadata": {
    "id": "7GEww6Fph65y"
   },
   "source": [
    "Please (i) replace the original indexes using the newly created list `quarter_index_date` and (ii) then create the following plots from the DataFrame `bass_df` using the size `figsize=(12,4)`:\n",
    "\n",
    "*   Columns `['St','CumulativeActual']` using a line plot\n",
    "*   Columns `['st','Actual']` using a line plot\n",
    "*   Column `['PError']` using a bar plot\n",
    "\n",
    "**Hint**: you can use the method `.set_index()` by calling `bass_df =  bass_df.set_index(new_index_list)` to set the index (see [link](https://pandas.pydata.org/docs/reference/api/pandas.DataFrame.set_index.html))"
   ]
  },
  {
   "cell_type": "code",
   "execution_count": 12,
   "metadata": {
    "id": "f5tkpswYh5uO"
   },
   "outputs": [
    {
     "data": {
      "text/plain": [
       "<AxesSubplot:xlabel='Quarter'>"
      ]
     },
     "execution_count": 12,
     "metadata": {},
     "output_type": "execute_result"
    },
    {
     "data": {
      "image/png": "[encoded data removed]",
      "text/plain": [
       "<Figure size 1200x400 with 1 Axes>"
      ]
     },
     "metadata": {},
     "output_type": "display_data"
    },
    {
     "data": {
      "image/png": "[encoded data removed]",
      "text/plain": [
       "<Figure size 1200x400 with 1 Axes>"
      ]
     },
     "metadata": {},
     "output_type": "display_data"
    },
    {
     "data": {
      "image/png": "[encoded data removed]",
      "text/plain": [
       "<Figure size 1200x400 with 1 Axes>"
      ]
     },
     "metadata": {},
     "output_type": "display_data"
    }
   ],
   "source": [
    "### start your code here ###\n",
    "bass_df = bass_df.set_index(quarter_index_date)\n",
    "bass_df.index.name = \"Quarter\"\n",
    "bass_df[['St', 'CumulativeActual']].plot(figsize=(12, 4))\n",
    "bass_df[['st', 'Actual']].plot(figsize=(12, 4))\n",
    "bass_df[['PError']].plot(kind='bar', figsize=(12, 4))\n",
    "### end your code here ###"
   ]
  }
 ],
 "metadata": {
  "colab": {
   "authorship_tag": "ABX9TyOkOvUVSNnXiNHX4nYCN6W7",
   "include_colab_link": true,
   "name": "S09_Bass_diffusion_full_demo.ipynb",
   "provenance": []
  },
  "kernelspec": {
   "display_name": "Python 3 (ipykernel)",
   "language": "python",
   "name": "python3"
  },
  "language_info": {
   "codemirror_mode": {
    "name": "ipython",
    "version": 3
   },
   "file_extension": ".py",
   "mimetype": "text/x-python",
   "name": "python",
   "nbconvert_exporter": "python",
   "pygments_lexer": "ipython3",
   "version": "3.8.8"
  },
  "toc": {
   "base_numbering": 1,
   "nav_menu": {},
   "number_sections": true,
   "sideBar": true,
   "skip_h1_title": false,
   "title_cell": "Table of Contents",
   "title_sidebar": "Contents",
   "toc_cell": false,
   "toc_position": {
    "height": "calc(100% - 180px)",
    "left": "10px",
    "top": "150px",
    "width": "309px"
   },
   "toc_section_display": true,
   "toc_window_display": true
  }
 },
 "nbformat": 4,
 "nbformat_minor": 1
}
