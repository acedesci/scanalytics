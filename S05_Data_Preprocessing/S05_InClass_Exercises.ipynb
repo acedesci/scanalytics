{
 "cells": [
  {
   "cell_type": "markdown",
   "metadata": {
    "id": "jIkMaeo-963Z"
   },
   "source": [
    "# S05 - In-Class/After-Class Exercises: Data Preprocessing and Transformation\n",
    "---\n",
    "## Instructions\n",
    "For each exercise, you have a code cell for the response underneath it, where you should write your answer between the lines containing `### start your code here ###` and `### end your code here ###`. Your code can contain one or more lines and you can execute this cell in order to complete the exercise. To execute the cell, you can type `Shift+Enter` or press the play button in the toolbar above. Your results will appear right below this response cell."
   ]
  },
  {
   "cell_type": "markdown",
   "metadata": {
    "id": "Cdi17eV1963h"
   },
   "source": [
    "### Importing data\n",
    "In this exercise, we will explore some adapted data set which provides information on the number of patients waiting, and length of time waiting at the end of each quarter, for Inpatient and Day Case admissions at Health and Social Care (HSC) Trusts in Northern Ireland. Data are presented by HSC Trust, specialty, programme of care and time band. The original data can be accessed at [this page](https://data.world/datagov-uk/a593a0b3-29ef-48f2-b2b2-ceb83d841a3c).\n",
    "\n",
    "This is a description of the columns of our adapted data in the file `day-case-waiting-times.csv`.\n",
    "\n",
    "| VARIABLE NAME | DESCRIPTION | \n",
    "|:----|:----|\n",
    "|quarter_ending| report date for each quarter|\n",
    "|HSC_trust| Health and Social Care (HSC) Trusts|\n",
    "|specialty| specialty of the HSC (e.g., Urology, General Surgery, Plastic Surgery, etc.) |\n",
    "|program| program of care (e.g, mental health, acute services)|\n",
    "|0-6_weeks|number of patients who wait for a period between (0, 6] weeks in the corresponding quarter|\n",
    "|>6-13_weeks|number of patients who wait for a period between (6, 13] weeks in the corresponding quarter|\n",
    "|>13-21_weeks|number of patients who wait for a period between (13, 21] weeks in the corresponding quarter|\n",
    "|>21-26_weeks|number of patients who wait for a period between (21, 26] weeks in the corresponding quarter|\n",
    "|>26-52_weeks|number of patients who wait for a period between (26, 52] weeks in the corresponding quarter|\n",
    "|>52_weeks|number of patients who wait for a period greater than 52 weeks in the corresponding quarter|\n",
    "|>26-30_weeks|number of patients who wait for a period between (26, 30] weeks in the corresponding quarter|\n",
    "\n",
    "Import the data file `day-case-waiting-times.csv` into a `DataFrame` named `df_WT`. Display the first 5 rows of your `DataFrame`.\n",
    "\n",
    "**Hint**: you can use the `pandas.read_csv()` funtion."
   ]
  },
  {
   "cell_type": "code",
   "execution_count": null,
   "metadata": {
    "id": "_fF7rQuT963h",
    "scrolled": true
   },
   "outputs": [],
   "source": [
    "import pandas as pd\n",
    "\n",
    "url = 'https://raw.githubusercontent.com/acedesci/scanalytics/master/S05_Data_Preprocessing/day-case-waiting-times.csv'\n",
    "df_WT = pd.read_csv(url)  # reading data file into a DataFrame\n",
    "df_WT.head()"
   ]
  },
  {
   "cell_type": "markdown",
   "metadata": {
    "id": "sWNIvri0963q"
   },
   "source": [
    "---"
   ]
  },
  {
   "cell_type": "markdown",
   "metadata": {
    "id": "NS4j2zxB963q"
   },
   "source": [
    "## Preprocessing Data and Missing Values\n",
    "### Exercise 1: Changing the data types of columns\n",
    "Take a look at the type of data in your `DataFrame`. The column `quarter_ending` should be of type `datatime64`, and all the columns from `0-6_weeks` to `>26-30_weeks` should be numeric (float or int), as they represent the number of patients whose waiting times were within the corresponding intervals. In this case, the float number is required if the column contains `NaN` value. \n",
    "\n",
    "Are your columns of the correct type? If not, convert the data into the correct format. \n",
    "\n",
    "**Hint1:** You can use the functions `pandas.to_numeric()`, `pandas.to_datetime`, and/or  `DataFrame.astype()`.\n",
    "\n",
    "**Hint2:** we can make sure that (i) the non-numerical value will be set as `NaN` by using the argument `errors = 'coerce'`, and (ii) the numeric type is float by using the argument `downcast='float'` in `pandas.to_numeric(column_series, errors = 'coerce', downcast='float')`\n",
    "\n",
    "More details can be found here [link](https://pandas.pydata.org/pandas-docs/stable/reference/api/pandas.to_numeric.html)"
   ]
  },
  {
   "cell_type": "code",
   "execution_count": null,
   "metadata": {
    "id": "WPC59qjd963r",
    "scrolled": true
   },
   "outputs": [],
   "source": [
    "df_WT.dtypes"
   ]
  },
  {
   "cell_type": "code",
   "execution_count": null,
   "metadata": {
    "id": "ooEtfnHy963r",
    "scrolled": true
   },
   "outputs": [],
   "source": [
    "### start your code here ###\n",
    "\n",
    "### end your code here ###\n",
    "df_WT.dtypes"
   ]
  },
  {
   "cell_type": "markdown",
   "metadata": {
    "id": "sdN2z8IY963r"
   },
   "source": [
    "### Exercise 2:  Missing values\n",
    "Take a look at the missing values in your `DataFrame`. Implement a line of code which shows the total number of missing values in each column."
   ]
  },
  {
   "cell_type": "code",
   "execution_count": null,
   "metadata": {
    "id": "BT3f20sr963r"
   },
   "outputs": [],
   "source": [
    "df_WT.isna().sum()"
   ]
  },
  {
   "cell_type": "markdown",
   "metadata": {
    "id": "0ve7iOhV963s"
   },
   "source": [
    "Let's assume that the missing values can appear when data is not available. Thus, in this case of having missing values,  the number of patients with waiting times within any of the interval specified by the columns of our `DataFrame` is equal to 0. We can replace the missing numeric values with 0.\n",
    "\n",
    "**Hint:** you can use the function `DataFrame.fillna()` to replace missing values of the last 7 columns. Make sure the changes are applied/saved to your `DataFrame`."
   ]
  },
  {
   "cell_type": "code",
   "execution_count": null,
   "metadata": {
    "id": "wvg-gmW9963s"
   },
   "outputs": [],
   "source": [
    "### start your code here ###\n",
    "\n",
    "###  end your code here ###\n",
    "df_WT"
   ]
  },
  {
   "cell_type": "markdown",
   "metadata": {
    "id": "O6DGWJfD963w"
   },
   "source": [
    "### Exercise 3: Aggregating data 1\n",
    "Execute the code block below. As you can see, the `DataFrame` has a column with the name `>26-52_weeks`, and another column named `>26-30_weeks`. As some data were recorded under one of these columns, thus\n",
    "\n",
    "1.   we will use only the maximum value from these two columns and \n",
    "2.   put the resulting value in the column `>26-52_weeks` and\n",
    "3.   remove the column `>26-30_weeks`.\n",
    "\n",
    "\n",
    "**Hint:** you can use the function `DataFrame.drop(columns='...')` to remove the selected column. See this [link](https://pandas.pydata.org/pandas-docs/stable/reference/api/pandas.DataFrame.drop.html)"
   ]
  },
  {
   "cell_type": "code",
   "execution_count": null,
   "metadata": {
    "id": "6IEa1lxb963x"
   },
   "outputs": [],
   "source": [
    "### start your code here ###\n",
    "  \n",
    "### end your code here ###\n",
    "df_WT"
   ]
  },
  {
   "cell_type": "markdown",
   "metadata": {
    "id": "QbDFnGnn963x"
   },
   "source": [
    "### Exercise 4: Aggregating data 2\n",
    "Compute the **total number of patients** and add this new piece of information as a new column in the `DataFrame` and assign the name `'total_patients'` to it. You can use the function `df.sum(axis = 1)` to sum based on the columns. Please make sure you sum only the last six columns containing the number of patients into this new column and **plot a histogram** of this column"
   ]
  },
  {
   "cell_type": "code",
   "execution_count": null,
   "metadata": {
    "id": "8siCgY3C963y"
   },
   "outputs": [],
   "source": [
    "### start your code here ###\n",
    "\n",
    "### end your code here ###"
   ]
  },
  {
   "cell_type": "markdown",
   "metadata": {
    "id": "_CuOFFGT963y"
   },
   "source": [
    "## Data Transformation\n",
    "\n",
    "### Exercise 5: Skewness\n",
    "Please calculate the skewness of this new `total_patients` column where:\n",
    "$Skewness = \\frac{3(X_{mean}-X_{median})}{\\sigma_X}$\n",
    "\n",
    "**Hint:** you can make use of the `DataFrame`'s functions `DataFrame.mean(), `DataFrame.median()` and `DataFrame.std()` for your calculations.\n",
    "\n"
   ]
  },
  {
   "cell_type": "code",
   "execution_count": null,
   "metadata": {
    "id": "D-EArt34963y"
   },
   "outputs": [],
   "source": [
    "### start your code here ###\n",
    "\n",
    "### end your code here ###\n",
    "print(\"skewness:\",skew)"
   ]
  },
  {
   "cell_type": "markdown",
   "metadata": {
    "id": "yV2Ygta3neIQ"
   },
   "source": [
    "### Exercise 6: log transformation\n",
    "Please (i) tranform this `total_patients` column using a log transformation `log(x+1)` and assign it to a new column `log_total_patients` and (ii) plot a histogram of this new column"
   ]
  },
  {
   "cell_type": "code",
   "execution_count": null,
   "metadata": {
    "id": "VVtFdBZAne4a"
   },
   "outputs": [],
   "source": [
    "### start your code here ###\n",
    "\n",
    "### end your code here ###"
   ]
  },
  {
   "cell_type": "markdown",
   "metadata": {
    "id": "VW-R24Dl963y"
   },
   "source": [
    "### Exercise 7: Dummy Variables\n",
    "A categorical variable should generally be encoded as **dummy variables** (a.k.a. indicator variables), each taking only one of two values (0 or 1; False or True) prior to being used in the predictive analysis.\n",
    "\n",
    "Please use **dummy encoding** and create k-1 dummy variables.\n",
    "\n",
    "This implies you will get $k-1$ = 3 dummy variables corresponding to the values in the variable `program`. You can check the values of the original categorical value by executing the cell below."
   ]
  },
  {
   "cell_type": "code",
   "execution_count": null,
   "metadata": {
    "id": "f6I_19Ke963z",
    "scrolled": true
   },
   "outputs": [],
   "source": [
    "df_WT['program'].unique()"
   ]
  },
  {
   "cell_type": "markdown",
   "metadata": {
    "id": "Dsy-hlGf9630"
   },
   "source": [
    "First create a new set of columns using `pd.get_dummies(...)` and assign the new set of columns to the new object `df_dummies`\n",
    "\n",
    "**Hint:** you can use of the `DataFrame` function `pd.get_dummies()`, which automatically  converts categorical variable into dummy/indicator variables. To perform dummy encoding, we can indicate the option `drop_first=True`. You can check [this page](https://pandas.pydata.org/pandas-docs/stable/reference/api/pandas.get_dummies.html) for more information. \n"
   ]
  },
  {
   "cell_type": "code",
   "execution_count": null,
   "metadata": {
    "id": "BHg1eBqM9630"
   },
   "outputs": [],
   "source": [
    "### start your code here ###\n",
    "\n",
    "### end your code here ###\n",
    "df_dummies.describe()"
   ]
  },
  {
   "cell_type": "markdown",
   "metadata": {
    "id": "Os2SKG7nwGeI"
   },
   "source": [
    "To add the set of new columns, we can use the function df1 = df1.join(df2). See this [link](https://pandas.pydata.org/pandas-docs/stable/reference/api/pandas.DataFrame.join.html) for more detail."
   ]
  },
  {
   "cell_type": "code",
   "execution_count": null,
   "metadata": {
    "id": "hsAh6eHGwHqB"
   },
   "outputs": [],
   "source": [
    "### start your code here ###\n",
    "\n",
    "### end your code here ###\n",
    "df_WT"
   ]
  }
 ],
 "metadata": {
  "kernelspec": {
   "display_name": "Python 3 (ipykernel)",
   "language": "python",
   "name": "python3"
  },
  "language_info": {
   "codemirror_mode": {
    "name": "ipython",
    "version": 3
   },
   "file_extension": ".py",
   "mimetype": "text/x-python",
   "name": "python",
   "nbconvert_exporter": "python",
   "pygments_lexer": "ipython3",
   "version": "3.8.8"
  },
  "toc": {
   "base_numbering": 1,
   "nav_menu": {},
   "number_sections": true,
   "sideBar": true,
   "skip_h1_title": false,
   "title_cell": "Table of Contents",
   "title_sidebar": "Contents",
   "toc_cell": false,
   "toc_position": {},
   "toc_section_display": true,
   "toc_window_display": true
  }
 },
 "nbformat": 4,
 "nbformat_minor": 1
}
