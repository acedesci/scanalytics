{
  "nbformat": 4,
  "nbformat_minor": 0,
  "metadata": {
    "kernelspec": {
      "display_name": "Python 3",
      "language": "python",
      "name": "python3"
    },
    "language_info": {
      "codemirror_mode": {
        "name": "ipython",
        "version": 3
      },
      "file_extension": ".py",
      "mimetype": "text/x-python",
      "name": "python",
      "nbconvert_exporter": "python",
      "pygments_lexer": "ipython3",
      "version": "3.7.6"
    },
    "colab": {
      "name": "S05_LectureEx_1_Notebook_Processing.ipynb",
      "provenance": [],
      "include_colab_link": true
    }
  },
  "cells": [
    {
      "cell_type": "markdown",
      "metadata": {
        "id": "view-in-github",
        "colab_type": "text"
      },
      "source": [
        "<a href=\"https://colab.research.google.com/github/acedesci/scanalytics/blob/master/S05_Data_Preprocessing/S05_LectureEx_1_Notebook_Processing.ipynb\" target=\"_parent\"><img src=\"https://colab.research.google.com/assets/colab-badge.svg\" alt=\"Open In Colab\"/></a>"
      ]
    },
    {
      "cell_type": "markdown",
      "metadata": {
        "id": "xpcq0W5adVgo"
      },
      "source": [
        "# S5 - Data Exploration,  Preprocessing and SCM examples\n",
        "Programming topics covered in this section:\n",
        "* Data preprocessing\n",
        "\n",
        "Examples include:\n",
        "* Exploring Supply Chain health commodity shipment and pricing data"
      ]
    },
    {
      "cell_type": "code",
      "metadata": {
        "id": "CWUOy93mdlkW"
      },
      "source": [
        "import pandas as pd"
      ],
      "execution_count": 1,
      "outputs": []
    },
    {
      "cell_type": "markdown",
      "metadata": {
        "id": "3o-4MMzmdVg0"
      },
      "source": [
        "## 2. Importing data and creating a report\n",
        "In this exercise, we will explore some adapted data set which provides supply chain health commodity shipment and pricing data. Specifically, the data set identifies Antiretroviral (ARV) and HIV lab shipments to supported countries. In addition, the data set provides the commodity pricing and associated supply chain expenses necessary to move the commodities to countries for use. The original data are provided by the US Agency for International Development and can be accessed at [this page](https://catalog.data.gov/dataset/supply-chain-shipment-pricing-data).\n",
        "\n",
        "This is a description of our adapted data in the file `SCMS_Delivery_History_Dataset.csv`.\n",
        "\n",
        "| VARIABLE NAME | DESCRIPTION | \n",
        "|:----|:----|\n",
        "|id| identification number|\n",
        "|project_code|identification of the project|\n",
        "|country|country to which the items are shipped|\n",
        "|vendor|identification of the vendor of the item|\n",
        "|manufacturing_side|name of the manufacturer of the item|\n",
        "|shipment|transportation mode (e.g., air, truck)|\n",
        "|schedule_delivery_date|programmed date for delivery|\n",
        "|delivered_to_client_date|real date of delivery|\n",
        "|delivery_recorded_date|registered date of delivery|\n",
        "|product_group|main category of the item|\n",
        "|product_subgroup|subcategory of the item (e.g., HIV test, pediatric, Adult) |\n",
        "|molecule_type|description of the composition of the item (e.g., Nevirapine, HIV 1/2, Didanosine)|\n",
        "|brand| item brand (e.g, generic or any other commercial brand)|\n",
        "|dosage| specifications about the dosage of each item (e.g.,10mg/ml, 200mg)|\n",
        "|dosage_form|instructions for consumption (e.g., capsule, tablet, oral solution) |\n",
        "|units_per_pack| number of units in each package|\n",
        "|quantity_pack_sold| number of packages shipped to the specified country|\n",
        "|value_sold| total value in $\\$$ USD of the shipment (i.e., pack_price * quantity_pack_sold|\n",
        "|pack_price| price in $\\$$ USD per package|\n",
        "|unit_price| price in $\\$$ USD per unit|\n",
        "|weight_kg| total weight in kilograms of the shipment|\n",
        "|freight_cost_usd| value in $\\$$USD paid for transportation|\n",
        "|insurance_usd|value in $\\$$USD paid for insurance|\n",
        "\n",
        "\n",
        "\n",
        "Let's import our data."
      ]
    },
    {
      "cell_type": "code",
      "metadata": {
        "scrolled": true,
        "colab": {
          "base_uri": "https://localhost:8080/",
          "height": 345
        },
        "id": "8cvKdP0cdVg0",
        "outputId": "6034ea03-153f-4fc4-b3ee-0ea431350299"
      },
      "source": [
        "url = 'https://raw.githubusercontent.com/acedesci/scanalytics/master/S05_Data_Preprocessing/Supply_Chain_Shipment_Pricing_Data.csv'\n",
        "df_SC = pd.read_csv(url, encoding='latin-1')  # reading data file into a DataFrame\n",
        "df_SC.head()"
      ],
      "execution_count": 2,
      "outputs": [
        {
          "output_type": "error",
          "ename": "HTTPError",
          "evalue": "ignored",
          "traceback": [
            "\u001b[0;31m---------------------------------------------------------------------------\u001b[0m",
            "\u001b[0;31mHTTPError\u001b[0m                                 Traceback (most recent call last)",
            "\u001b[0;32m<ipython-input-2-189556888e15>\u001b[0m in \u001b[0;36m<module>\u001b[0;34m()\u001b[0m\n\u001b[1;32m      1\u001b[0m \u001b[0murl\u001b[0m \u001b[0;34m=\u001b[0m \u001b[0;34m'https://raw.githubusercontent.com/acedesci/scanalytics/master/S05_Data_Preprocessing./Supply_Chain_Shipment_Pricing_Data.csv'\u001b[0m\u001b[0;34m\u001b[0m\u001b[0;34m\u001b[0m\u001b[0m\n\u001b[0;32m----> 2\u001b[0;31m \u001b[0mdf_SC\u001b[0m \u001b[0;34m=\u001b[0m \u001b[0mpd\u001b[0m\u001b[0;34m.\u001b[0m\u001b[0mread_csv\u001b[0m\u001b[0;34m(\u001b[0m\u001b[0murl\u001b[0m\u001b[0;34m,\u001b[0m \u001b[0mencoding\u001b[0m\u001b[0;34m=\u001b[0m\u001b[0;34m'latin-1'\u001b[0m\u001b[0;34m)\u001b[0m  \u001b[0;31m# reading data file into a DataFrame\u001b[0m\u001b[0;34m\u001b[0m\u001b[0;34m\u001b[0m\u001b[0m\n\u001b[0m\u001b[1;32m      3\u001b[0m \u001b[0mdf_SC\u001b[0m\u001b[0;34m.\u001b[0m\u001b[0mhead\u001b[0m\u001b[0;34m(\u001b[0m\u001b[0;34m)\u001b[0m\u001b[0;34m\u001b[0m\u001b[0;34m\u001b[0m\u001b[0m\n",
            "\u001b[0;32m/usr/local/lib/python3.6/dist-packages/pandas/io/parsers.py\u001b[0m in \u001b[0;36mread_csv\u001b[0;34m(filepath_or_buffer, sep, delimiter, header, names, index_col, usecols, squeeze, prefix, mangle_dupe_cols, dtype, engine, converters, true_values, false_values, skipinitialspace, skiprows, skipfooter, nrows, na_values, keep_default_na, na_filter, verbose, skip_blank_lines, parse_dates, infer_datetime_format, keep_date_col, date_parser, dayfirst, cache_dates, iterator, chunksize, compression, thousands, decimal, lineterminator, quotechar, quoting, doublequote, escapechar, comment, encoding, dialect, error_bad_lines, warn_bad_lines, delim_whitespace, low_memory, memory_map, float_precision)\u001b[0m\n\u001b[1;32m    686\u001b[0m     )\n\u001b[1;32m    687\u001b[0m \u001b[0;34m\u001b[0m\u001b[0m\n\u001b[0;32m--> 688\u001b[0;31m     \u001b[0;32mreturn\u001b[0m \u001b[0m_read\u001b[0m\u001b[0;34m(\u001b[0m\u001b[0mfilepath_or_buffer\u001b[0m\u001b[0;34m,\u001b[0m \u001b[0mkwds\u001b[0m\u001b[0;34m)\u001b[0m\u001b[0;34m\u001b[0m\u001b[0;34m\u001b[0m\u001b[0m\n\u001b[0m\u001b[1;32m    689\u001b[0m \u001b[0;34m\u001b[0m\u001b[0m\n\u001b[1;32m    690\u001b[0m \u001b[0;34m\u001b[0m\u001b[0m\n",
            "\u001b[0;32m/usr/local/lib/python3.6/dist-packages/pandas/io/parsers.py\u001b[0m in \u001b[0;36m_read\u001b[0;34m(filepath_or_buffer, kwds)\u001b[0m\n\u001b[1;32m    435\u001b[0m     \u001b[0;31m# See https://github.com/python/mypy/issues/1297\u001b[0m\u001b[0;34m\u001b[0m\u001b[0;34m\u001b[0m\u001b[0;34m\u001b[0m\u001b[0m\n\u001b[1;32m    436\u001b[0m     fp_or_buf, _, compression, should_close = get_filepath_or_buffer(\n\u001b[0;32m--> 437\u001b[0;31m         \u001b[0mfilepath_or_buffer\u001b[0m\u001b[0;34m,\u001b[0m \u001b[0mencoding\u001b[0m\u001b[0;34m,\u001b[0m \u001b[0mcompression\u001b[0m\u001b[0;34m\u001b[0m\u001b[0;34m\u001b[0m\u001b[0m\n\u001b[0m\u001b[1;32m    438\u001b[0m     )\n\u001b[1;32m    439\u001b[0m     \u001b[0mkwds\u001b[0m\u001b[0;34m[\u001b[0m\u001b[0;34m\"compression\"\u001b[0m\u001b[0;34m]\u001b[0m \u001b[0;34m=\u001b[0m \u001b[0mcompression\u001b[0m\u001b[0;34m\u001b[0m\u001b[0;34m\u001b[0m\u001b[0m\n",
            "\u001b[0;32m/usr/local/lib/python3.6/dist-packages/pandas/io/common.py\u001b[0m in \u001b[0;36mget_filepath_or_buffer\u001b[0;34m(filepath_or_buffer, encoding, compression, mode, storage_options)\u001b[0m\n\u001b[1;32m    181\u001b[0m     \u001b[0;32mif\u001b[0m \u001b[0misinstance\u001b[0m\u001b[0;34m(\u001b[0m\u001b[0mfilepath_or_buffer\u001b[0m\u001b[0;34m,\u001b[0m \u001b[0mstr\u001b[0m\u001b[0;34m)\u001b[0m \u001b[0;32mand\u001b[0m \u001b[0mis_url\u001b[0m\u001b[0;34m(\u001b[0m\u001b[0mfilepath_or_buffer\u001b[0m\u001b[0;34m)\u001b[0m\u001b[0;34m:\u001b[0m\u001b[0;34m\u001b[0m\u001b[0;34m\u001b[0m\u001b[0m\n\u001b[1;32m    182\u001b[0m         \u001b[0;31m# TODO: fsspec can also handle HTTP via requests, but leaving this unchanged\u001b[0m\u001b[0;34m\u001b[0m\u001b[0;34m\u001b[0m\u001b[0;34m\u001b[0m\u001b[0m\n\u001b[0;32m--> 183\u001b[0;31m         \u001b[0mreq\u001b[0m \u001b[0;34m=\u001b[0m \u001b[0murlopen\u001b[0m\u001b[0;34m(\u001b[0m\u001b[0mfilepath_or_buffer\u001b[0m\u001b[0;34m)\u001b[0m\u001b[0;34m\u001b[0m\u001b[0;34m\u001b[0m\u001b[0m\n\u001b[0m\u001b[1;32m    184\u001b[0m         \u001b[0mcontent_encoding\u001b[0m \u001b[0;34m=\u001b[0m \u001b[0mreq\u001b[0m\u001b[0;34m.\u001b[0m\u001b[0mheaders\u001b[0m\u001b[0;34m.\u001b[0m\u001b[0mget\u001b[0m\u001b[0;34m(\u001b[0m\u001b[0;34m\"Content-Encoding\"\u001b[0m\u001b[0;34m,\u001b[0m \u001b[0;32mNone\u001b[0m\u001b[0;34m)\u001b[0m\u001b[0;34m\u001b[0m\u001b[0;34m\u001b[0m\u001b[0m\n\u001b[1;32m    185\u001b[0m         \u001b[0;32mif\u001b[0m \u001b[0mcontent_encoding\u001b[0m \u001b[0;34m==\u001b[0m \u001b[0;34m\"gzip\"\u001b[0m\u001b[0;34m:\u001b[0m\u001b[0;34m\u001b[0m\u001b[0;34m\u001b[0m\u001b[0m\n",
            "\u001b[0;32m/usr/local/lib/python3.6/dist-packages/pandas/io/common.py\u001b[0m in \u001b[0;36murlopen\u001b[0;34m(*args, **kwargs)\u001b[0m\n\u001b[1;32m    135\u001b[0m     \u001b[0;32mimport\u001b[0m \u001b[0murllib\u001b[0m\u001b[0;34m.\u001b[0m\u001b[0mrequest\u001b[0m\u001b[0;34m\u001b[0m\u001b[0;34m\u001b[0m\u001b[0m\n\u001b[1;32m    136\u001b[0m \u001b[0;34m\u001b[0m\u001b[0m\n\u001b[0;32m--> 137\u001b[0;31m     \u001b[0;32mreturn\u001b[0m \u001b[0murllib\u001b[0m\u001b[0;34m.\u001b[0m\u001b[0mrequest\u001b[0m\u001b[0;34m.\u001b[0m\u001b[0murlopen\u001b[0m\u001b[0;34m(\u001b[0m\u001b[0;34m*\u001b[0m\u001b[0margs\u001b[0m\u001b[0;34m,\u001b[0m \u001b[0;34m**\u001b[0m\u001b[0mkwargs\u001b[0m\u001b[0;34m)\u001b[0m\u001b[0;34m\u001b[0m\u001b[0;34m\u001b[0m\u001b[0m\n\u001b[0m\u001b[1;32m    138\u001b[0m \u001b[0;34m\u001b[0m\u001b[0m\n\u001b[1;32m    139\u001b[0m \u001b[0;34m\u001b[0m\u001b[0m\n",
            "\u001b[0;32m/usr/lib/python3.6/urllib/request.py\u001b[0m in \u001b[0;36murlopen\u001b[0;34m(url, data, timeout, cafile, capath, cadefault, context)\u001b[0m\n\u001b[1;32m    221\u001b[0m     \u001b[0;32melse\u001b[0m\u001b[0;34m:\u001b[0m\u001b[0;34m\u001b[0m\u001b[0;34m\u001b[0m\u001b[0m\n\u001b[1;32m    222\u001b[0m         \u001b[0mopener\u001b[0m \u001b[0;34m=\u001b[0m \u001b[0m_opener\u001b[0m\u001b[0;34m\u001b[0m\u001b[0;34m\u001b[0m\u001b[0m\n\u001b[0;32m--> 223\u001b[0;31m     \u001b[0;32mreturn\u001b[0m \u001b[0mopener\u001b[0m\u001b[0;34m.\u001b[0m\u001b[0mopen\u001b[0m\u001b[0;34m(\u001b[0m\u001b[0murl\u001b[0m\u001b[0;34m,\u001b[0m \u001b[0mdata\u001b[0m\u001b[0;34m,\u001b[0m \u001b[0mtimeout\u001b[0m\u001b[0;34m)\u001b[0m\u001b[0;34m\u001b[0m\u001b[0;34m\u001b[0m\u001b[0m\n\u001b[0m\u001b[1;32m    224\u001b[0m \u001b[0;34m\u001b[0m\u001b[0m\n\u001b[1;32m    225\u001b[0m \u001b[0;32mdef\u001b[0m \u001b[0minstall_opener\u001b[0m\u001b[0;34m(\u001b[0m\u001b[0mopener\u001b[0m\u001b[0;34m)\u001b[0m\u001b[0;34m:\u001b[0m\u001b[0;34m\u001b[0m\u001b[0;34m\u001b[0m\u001b[0m\n",
            "\u001b[0;32m/usr/lib/python3.6/urllib/request.py\u001b[0m in \u001b[0;36mopen\u001b[0;34m(self, fullurl, data, timeout)\u001b[0m\n\u001b[1;32m    530\u001b[0m         \u001b[0;32mfor\u001b[0m \u001b[0mprocessor\u001b[0m \u001b[0;32min\u001b[0m \u001b[0mself\u001b[0m\u001b[0;34m.\u001b[0m\u001b[0mprocess_response\u001b[0m\u001b[0;34m.\u001b[0m\u001b[0mget\u001b[0m\u001b[0;34m(\u001b[0m\u001b[0mprotocol\u001b[0m\u001b[0;34m,\u001b[0m \u001b[0;34m[\u001b[0m\u001b[0;34m]\u001b[0m\u001b[0;34m)\u001b[0m\u001b[0;34m:\u001b[0m\u001b[0;34m\u001b[0m\u001b[0;34m\u001b[0m\u001b[0m\n\u001b[1;32m    531\u001b[0m             \u001b[0mmeth\u001b[0m \u001b[0;34m=\u001b[0m \u001b[0mgetattr\u001b[0m\u001b[0;34m(\u001b[0m\u001b[0mprocessor\u001b[0m\u001b[0;34m,\u001b[0m \u001b[0mmeth_name\u001b[0m\u001b[0;34m)\u001b[0m\u001b[0;34m\u001b[0m\u001b[0;34m\u001b[0m\u001b[0m\n\u001b[0;32m--> 532\u001b[0;31m             \u001b[0mresponse\u001b[0m \u001b[0;34m=\u001b[0m \u001b[0mmeth\u001b[0m\u001b[0;34m(\u001b[0m\u001b[0mreq\u001b[0m\u001b[0;34m,\u001b[0m \u001b[0mresponse\u001b[0m\u001b[0;34m)\u001b[0m\u001b[0;34m\u001b[0m\u001b[0;34m\u001b[0m\u001b[0m\n\u001b[0m\u001b[1;32m    533\u001b[0m \u001b[0;34m\u001b[0m\u001b[0m\n\u001b[1;32m    534\u001b[0m         \u001b[0;32mreturn\u001b[0m \u001b[0mresponse\u001b[0m\u001b[0;34m\u001b[0m\u001b[0;34m\u001b[0m\u001b[0m\n",
            "\u001b[0;32m/usr/lib/python3.6/urllib/request.py\u001b[0m in \u001b[0;36mhttp_response\u001b[0;34m(self, request, response)\u001b[0m\n\u001b[1;32m    640\u001b[0m         \u001b[0;32mif\u001b[0m \u001b[0;32mnot\u001b[0m \u001b[0;34m(\u001b[0m\u001b[0;36m200\u001b[0m \u001b[0;34m<=\u001b[0m \u001b[0mcode\u001b[0m \u001b[0;34m<\u001b[0m \u001b[0;36m300\u001b[0m\u001b[0;34m)\u001b[0m\u001b[0;34m:\u001b[0m\u001b[0;34m\u001b[0m\u001b[0;34m\u001b[0m\u001b[0m\n\u001b[1;32m    641\u001b[0m             response = self.parent.error(\n\u001b[0;32m--> 642\u001b[0;31m                 'http', request, response, code, msg, hdrs)\n\u001b[0m\u001b[1;32m    643\u001b[0m \u001b[0;34m\u001b[0m\u001b[0m\n\u001b[1;32m    644\u001b[0m         \u001b[0;32mreturn\u001b[0m \u001b[0mresponse\u001b[0m\u001b[0;34m\u001b[0m\u001b[0;34m\u001b[0m\u001b[0m\n",
            "\u001b[0;32m/usr/lib/python3.6/urllib/request.py\u001b[0m in \u001b[0;36merror\u001b[0;34m(self, proto, *args)\u001b[0m\n\u001b[1;32m    568\u001b[0m         \u001b[0;32mif\u001b[0m \u001b[0mhttp_err\u001b[0m\u001b[0;34m:\u001b[0m\u001b[0;34m\u001b[0m\u001b[0;34m\u001b[0m\u001b[0m\n\u001b[1;32m    569\u001b[0m             \u001b[0margs\u001b[0m \u001b[0;34m=\u001b[0m \u001b[0;34m(\u001b[0m\u001b[0mdict\u001b[0m\u001b[0;34m,\u001b[0m \u001b[0;34m'default'\u001b[0m\u001b[0;34m,\u001b[0m \u001b[0;34m'http_error_default'\u001b[0m\u001b[0;34m)\u001b[0m \u001b[0;34m+\u001b[0m \u001b[0morig_args\u001b[0m\u001b[0;34m\u001b[0m\u001b[0;34m\u001b[0m\u001b[0m\n\u001b[0;32m--> 570\u001b[0;31m             \u001b[0;32mreturn\u001b[0m \u001b[0mself\u001b[0m\u001b[0;34m.\u001b[0m\u001b[0m_call_chain\u001b[0m\u001b[0;34m(\u001b[0m\u001b[0;34m*\u001b[0m\u001b[0margs\u001b[0m\u001b[0;34m)\u001b[0m\u001b[0;34m\u001b[0m\u001b[0;34m\u001b[0m\u001b[0m\n\u001b[0m\u001b[1;32m    571\u001b[0m \u001b[0;34m\u001b[0m\u001b[0m\n\u001b[1;32m    572\u001b[0m \u001b[0;31m# XXX probably also want an abstract factory that knows when it makes\u001b[0m\u001b[0;34m\u001b[0m\u001b[0;34m\u001b[0m\u001b[0;34m\u001b[0m\u001b[0m\n",
            "\u001b[0;32m/usr/lib/python3.6/urllib/request.py\u001b[0m in \u001b[0;36m_call_chain\u001b[0;34m(self, chain, kind, meth_name, *args)\u001b[0m\n\u001b[1;32m    502\u001b[0m         \u001b[0;32mfor\u001b[0m \u001b[0mhandler\u001b[0m \u001b[0;32min\u001b[0m \u001b[0mhandlers\u001b[0m\u001b[0;34m:\u001b[0m\u001b[0;34m\u001b[0m\u001b[0;34m\u001b[0m\u001b[0m\n\u001b[1;32m    503\u001b[0m             \u001b[0mfunc\u001b[0m \u001b[0;34m=\u001b[0m \u001b[0mgetattr\u001b[0m\u001b[0;34m(\u001b[0m\u001b[0mhandler\u001b[0m\u001b[0;34m,\u001b[0m \u001b[0mmeth_name\u001b[0m\u001b[0;34m)\u001b[0m\u001b[0;34m\u001b[0m\u001b[0;34m\u001b[0m\u001b[0m\n\u001b[0;32m--> 504\u001b[0;31m             \u001b[0mresult\u001b[0m \u001b[0;34m=\u001b[0m \u001b[0mfunc\u001b[0m\u001b[0;34m(\u001b[0m\u001b[0;34m*\u001b[0m\u001b[0margs\u001b[0m\u001b[0;34m)\u001b[0m\u001b[0;34m\u001b[0m\u001b[0;34m\u001b[0m\u001b[0m\n\u001b[0m\u001b[1;32m    505\u001b[0m             \u001b[0;32mif\u001b[0m \u001b[0mresult\u001b[0m \u001b[0;32mis\u001b[0m \u001b[0;32mnot\u001b[0m \u001b[0;32mNone\u001b[0m\u001b[0;34m:\u001b[0m\u001b[0;34m\u001b[0m\u001b[0;34m\u001b[0m\u001b[0m\n\u001b[1;32m    506\u001b[0m                 \u001b[0;32mreturn\u001b[0m \u001b[0mresult\u001b[0m\u001b[0;34m\u001b[0m\u001b[0;34m\u001b[0m\u001b[0m\n",
            "\u001b[0;32m/usr/lib/python3.6/urllib/request.py\u001b[0m in \u001b[0;36mhttp_error_default\u001b[0;34m(self, req, fp, code, msg, hdrs)\u001b[0m\n\u001b[1;32m    648\u001b[0m \u001b[0;32mclass\u001b[0m \u001b[0mHTTPDefaultErrorHandler\u001b[0m\u001b[0;34m(\u001b[0m\u001b[0mBaseHandler\u001b[0m\u001b[0;34m)\u001b[0m\u001b[0;34m:\u001b[0m\u001b[0;34m\u001b[0m\u001b[0;34m\u001b[0m\u001b[0m\n\u001b[1;32m    649\u001b[0m     \u001b[0;32mdef\u001b[0m \u001b[0mhttp_error_default\u001b[0m\u001b[0;34m(\u001b[0m\u001b[0mself\u001b[0m\u001b[0;34m,\u001b[0m \u001b[0mreq\u001b[0m\u001b[0;34m,\u001b[0m \u001b[0mfp\u001b[0m\u001b[0;34m,\u001b[0m \u001b[0mcode\u001b[0m\u001b[0;34m,\u001b[0m \u001b[0mmsg\u001b[0m\u001b[0;34m,\u001b[0m \u001b[0mhdrs\u001b[0m\u001b[0;34m)\u001b[0m\u001b[0;34m:\u001b[0m\u001b[0;34m\u001b[0m\u001b[0;34m\u001b[0m\u001b[0m\n\u001b[0;32m--> 650\u001b[0;31m         \u001b[0;32mraise\u001b[0m \u001b[0mHTTPError\u001b[0m\u001b[0;34m(\u001b[0m\u001b[0mreq\u001b[0m\u001b[0;34m.\u001b[0m\u001b[0mfull_url\u001b[0m\u001b[0;34m,\u001b[0m \u001b[0mcode\u001b[0m\u001b[0;34m,\u001b[0m \u001b[0mmsg\u001b[0m\u001b[0;34m,\u001b[0m \u001b[0mhdrs\u001b[0m\u001b[0;34m,\u001b[0m \u001b[0mfp\u001b[0m\u001b[0;34m)\u001b[0m\u001b[0;34m\u001b[0m\u001b[0;34m\u001b[0m\u001b[0m\n\u001b[0m\u001b[1;32m    651\u001b[0m \u001b[0;34m\u001b[0m\u001b[0m\n\u001b[1;32m    652\u001b[0m \u001b[0;32mclass\u001b[0m \u001b[0mHTTPRedirectHandler\u001b[0m\u001b[0;34m(\u001b[0m\u001b[0mBaseHandler\u001b[0m\u001b[0;34m)\u001b[0m\u001b[0;34m:\u001b[0m\u001b[0;34m\u001b[0m\u001b[0;34m\u001b[0m\u001b[0m\n",
            "\u001b[0;31mHTTPError\u001b[0m: HTTP Error 404: Not Found"
          ]
        }
      ]
    },
    {
      "cell_type": "markdown",
      "metadata": {
        "id": "y4HuG2H3dVjV"
      },
      "source": [
        "---\n",
        "## Preprocessing Data"
      ]
    },
    {
      "cell_type": "markdown",
      "metadata": {
        "id": "_y7Cp120dvtH"
      },
      "source": [
        "We can use `df.describe()` function to show descriptive statistics of the data"
      ]
    },
    {
      "cell_type": "code",
      "metadata": {
        "id": "lgYsLH2VdVjW"
      },
      "source": [
        "df_SC.describe()"
      ],
      "execution_count": null,
      "outputs": []
    },
    {
      "cell_type": "markdown",
      "metadata": {
        "id": "QUZ7rOsqdVjX"
      },
      "source": [
        "Let's take a look at the type of data in our `DataFrame`. We can notice that columns `schedule_delivery_date`, `delivered_to_client_date`, and `delivery_recorded_date` is `object`, which means they can be string or mixed."
      ]
    },
    {
      "cell_type": "code",
      "metadata": {
        "scrolled": true,
        "id": "m5YmsjiBdVjX"
      },
      "source": [
        "df_SC.dtypes"
      ],
      "execution_count": null,
      "outputs": []
    },
    {
      "cell_type": "markdown",
      "metadata": {
        "id": "uhXSuCSmdVjY"
      },
      "source": [
        "Let's convert the data in columns `schedule_delivery_date`, `delivered_to_client_date`, and `delivery_recorded_date` to the correct format, as presented below. We can obtain the same results using the function `DataFrame.astype('datatime64')`"
      ]
    },
    {
      "cell_type": "code",
      "metadata": {
        "scrolled": true,
        "id": "VBq-cx44dVjY"
      },
      "source": [
        "# here we replace the original columns with the newly formatted ones\n",
        "df_SC['schedule_delivery_date'] = pd.to_datetime(df_SC['schedule_delivery_date']) \n",
        "df_SC['delivered_to_client_date'] = pd.to_datetime(df_SC['delivered_to_client_date'])\n",
        "df_SC['delivery_recorded_date'] = pd.to_datetime(df_SC['delivery_recorded_date'])\n",
        "df_SC.dtypes"
      ],
      "execution_count": null,
      "outputs": []
    },
    {
      "cell_type": "markdown",
      "metadata": {
        "id": "1QDegoL8dVja"
      },
      "source": [
        "We can also see that the columns `weight_kg` and `freight_cost_usd` are also of type `object`. These data should be a numeric value since it represents kilograms and $USD. However, the raw data have some annotations made by the user, as you can see below by printing the first 10 rows of your DataFrame, so this is why it is recognized as type `object`."
      ]
    },
    {
      "cell_type": "code",
      "metadata": {
        "id": "KXRFOs-vdVjb"
      },
      "source": [
        "df_SC.head(10)"
      ],
      "execution_count": null,
      "outputs": []
    },
    {
      "cell_type": "markdown",
      "metadata": {
        "id": "GqLOQ64sdVjc"
      },
      "source": [
        "We can then use the `to_numeric` method in order to convert the values under the `weight_kg` and `freight_cost_usd`  columns into a float:"
      ]
    },
    {
      "cell_type": "code",
      "metadata": {
        "id": "4vl3msxLdVjc"
      },
      "source": [
        "df_SC['weight_kg'] = pd.to_numeric(df_SC['weight_kg'], errors='coerce')\n",
        "df_SC['freight_cost_usd'] = pd.to_numeric(df_SC['freight_cost_usd'], errors='coerce')"
      ],
      "execution_count": null,
      "outputs": []
    },
    {
      "cell_type": "markdown",
      "metadata": {
        "id": "VUwIhxugdVjd"
      },
      "source": [
        "By setting `errors='coerce'`, you will transform the non-numeric values into `NaN`.\n",
        "Now we can obtain some descriptive statistics for `weight_kg` and `freight_cost_usd` using the `describe()` method."
      ]
    },
    {
      "cell_type": "code",
      "metadata": {
        "scrolled": true,
        "id": "A0a2bja6dVjd"
      },
      "source": [
        "df_SC.describe()"
      ],
      "execution_count": null,
      "outputs": []
    },
    {
      "cell_type": "markdown",
      "metadata": {
        "id": "ftTbWTsDdVje"
      },
      "source": [
        "---\n",
        "## Missing data"
      ]
    },
    {
      "cell_type": "markdown",
      "metadata": {
        "id": "MB_dKErgdVje"
      },
      "source": [
        "Now let's take a look at the missing values in our DataFrame. We can see how many missing values we have at each column as follows."
      ]
    },
    {
      "cell_type": "code",
      "metadata": {
        "scrolled": true,
        "id": "fuSJ-rVvdVjf"
      },
      "source": [
        "df_SC.isna().sum()"
      ],
      "execution_count": null,
      "outputs": []
    },
    {
      "cell_type": "markdown",
      "metadata": {
        "id": "JTi_pKl-dVjf"
      },
      "source": [
        "We can notice that there are some missing values in the columns `shipment` and `dosage`, which represent the transportation mode (e.g., by air) and the dosage (e.g., 30mg) of each item sold, respectively. There is not that much we can do in order to replace these missing values with meaningful information, so we'll replace the missing values of in these columns with the word `'missing'`. We use the `.fillna()` method with the option `inplace=True` to save the changes in our DataFrame. Check [this page](https://pandas.pydata.org/pandas-docs/stable/reference/api/pandas.DataFrame.fillna.html) for more information about the `.fillna()` method."
      ]
    },
    {
      "cell_type": "code",
      "metadata": {
        "scrolled": true,
        "id": "b5VYG7_4dVjg"
      },
      "source": [
        "df_SC.fillna(value={'shipment': 'missing', 'dosage': 'missing'}, inplace=True)\n",
        "df_SC.isna().sum()"
      ],
      "execution_count": null,
      "outputs": []
    },
    {
      "cell_type": "markdown",
      "metadata": {
        "id": "ASqs4HeSdVjg"
      },
      "source": [
        "Now we will replace the missing values in columns `weight_kg` and `freight_cost_usd` by 0, and  `insurance_usd` by an approximated value, computed as the mean value for this column."
      ]
    },
    {
      "cell_type": "code",
      "metadata": {
        "id": "DUXOZFzCdVjg",
        "outputId": "29fc41ba-c7fe-48b4-9f99-10d8e89c70e2"
      },
      "source": [
        "df_SC.fillna(value={'weight_kg': 0, 'freight_cost_usd': 0, 'insurance_usd': df_SC.insurance_usd.mean()})\n",
        "print(df_SC.isnull().sum())\n",
        "df_SC.describe()"
      ],
      "execution_count": null,
      "outputs": [
        {
          "output_type": "stream",
          "text": [
            "id                          0\n",
            "project_code                0\n",
            "country                     0\n",
            "vendor                      0\n",
            "manufacturing_site          0\n",
            "shipment                    0\n",
            "schedule_delivery_date      0\n",
            "delivered_to_client_date    0\n",
            "delivery_recorded_date      0\n",
            "product_group               0\n",
            "product_subgroup            0\n",
            "molecule_type               0\n",
            "brand                       0\n",
            "dosage                      0\n",
            "dosage_form                 0\n",
            "units_per_pack              0\n",
            "quantity_pack_sold          0\n",
            "value_sold                  0\n",
            "pack_price                  0\n",
            "unit_price                  0\n",
            "weight_kg                   0\n",
            "freight_cost_usd            0\n",
            "insurance_usd               0\n",
            "dtype: int64\n"
          ],
          "name": "stdout"
        },
        {
          "output_type": "execute_result",
          "data": {
            "text/html": [
              "<div>\n",
              "<style scoped>\n",
              "    .dataframe tbody tr th:only-of-type {\n",
              "        vertical-align: middle;\n",
              "    }\n",
              "\n",
              "    .dataframe tbody tr th {\n",
              "        vertical-align: top;\n",
              "    }\n",
              "\n",
              "    .dataframe thead th {\n",
              "        text-align: right;\n",
              "    }\n",
              "</style>\n",
              "<table border=\"1\" class=\"dataframe\">\n",
              "  <thead>\n",
              "    <tr style=\"text-align: right;\">\n",
              "      <th></th>\n",
              "      <th>id</th>\n",
              "      <th>units_per_pack</th>\n",
              "      <th>quantity_pack_sold</th>\n",
              "      <th>value_sold</th>\n",
              "      <th>pack_price</th>\n",
              "      <th>unit_price</th>\n",
              "      <th>weight_kg</th>\n",
              "      <th>freight_cost_usd</th>\n",
              "      <th>insurance_usd</th>\n",
              "    </tr>\n",
              "  </thead>\n",
              "  <tbody>\n",
              "    <tr>\n",
              "      <th>count</th>\n",
              "      <td>10324.000000</td>\n",
              "      <td>10324.000000</td>\n",
              "      <td>10324.000000</td>\n",
              "      <td>1.032400e+04</td>\n",
              "      <td>10324.000000</td>\n",
              "      <td>10324.000000</td>\n",
              "      <td>10324.000000</td>\n",
              "      <td>10324.000000</td>\n",
              "      <td>10324.000000</td>\n",
              "    </tr>\n",
              "    <tr>\n",
              "      <th>mean</th>\n",
              "      <td>51098.968229</td>\n",
              "      <td>77.990895</td>\n",
              "      <td>18332.534870</td>\n",
              "      <td>1.576506e+05</td>\n",
              "      <td>21.910241</td>\n",
              "      <td>0.611701</td>\n",
              "      <td>2113.574196</td>\n",
              "      <td>6665.812612</td>\n",
              "      <td>240.117626</td>\n",
              "    </tr>\n",
              "    <tr>\n",
              "      <th>std</th>\n",
              "      <td>31944.332496</td>\n",
              "      <td>76.579764</td>\n",
              "      <td>40035.302961</td>\n",
              "      <td>3.452921e+05</td>\n",
              "      <td>45.609223</td>\n",
              "      <td>3.275808</td>\n",
              "      <td>10756.353428</td>\n",
              "      <td>13404.868186</td>\n",
              "      <td>493.188408</td>\n",
              "    </tr>\n",
              "    <tr>\n",
              "      <th>min</th>\n",
              "      <td>1.000000</td>\n",
              "      <td>1.000000</td>\n",
              "      <td>1.000000</td>\n",
              "      <td>0.000000e+00</td>\n",
              "      <td>0.000000</td>\n",
              "      <td>0.000000</td>\n",
              "      <td>0.000000</td>\n",
              "      <td>0.000000</td>\n",
              "      <td>0.000000</td>\n",
              "    </tr>\n",
              "    <tr>\n",
              "      <th>25%</th>\n",
              "      <td>12795.750000</td>\n",
              "      <td>30.000000</td>\n",
              "      <td>408.000000</td>\n",
              "      <td>4.314593e+03</td>\n",
              "      <td>4.120000</td>\n",
              "      <td>0.080000</td>\n",
              "      <td>0.000000</td>\n",
              "      <td>0.000000</td>\n",
              "      <td>7.030000</td>\n",
              "    </tr>\n",
              "    <tr>\n",
              "      <th>50%</th>\n",
              "      <td>57540.500000</td>\n",
              "      <td>60.000000</td>\n",
              "      <td>3000.000000</td>\n",
              "      <td>3.047147e+04</td>\n",
              "      <td>9.300000</td>\n",
              "      <td>0.160000</td>\n",
              "      <td>122.000000</td>\n",
              "      <td>1422.090000</td>\n",
              "      <td>52.940000</td>\n",
              "    </tr>\n",
              "    <tr>\n",
              "      <th>75%</th>\n",
              "      <td>83648.250000</td>\n",
              "      <td>90.000000</td>\n",
              "      <td>17039.750000</td>\n",
              "      <td>1.664471e+05</td>\n",
              "      <td>23.592500</td>\n",
              "      <td>0.470000</td>\n",
              "      <td>1596.500000</td>\n",
              "      <td>7707.640000</td>\n",
              "      <td>241.750000</td>\n",
              "    </tr>\n",
              "    <tr>\n",
              "      <th>max</th>\n",
              "      <td>86823.000000</td>\n",
              "      <td>1000.000000</td>\n",
              "      <td>619999.000000</td>\n",
              "      <td>5.951990e+06</td>\n",
              "      <td>1345.640000</td>\n",
              "      <td>238.650000</td>\n",
              "      <td>857354.000000</td>\n",
              "      <td>289653.200000</td>\n",
              "      <td>7708.440000</td>\n",
              "    </tr>\n",
              "  </tbody>\n",
              "</table>\n",
              "</div>"
            ],
            "text/plain": [
              "                 id  units_per_pack  quantity_pack_sold    value_sold  \\\n",
              "count  10324.000000    10324.000000        10324.000000  1.032400e+04   \n",
              "mean   51098.968229       77.990895        18332.534870  1.576506e+05   \n",
              "std    31944.332496       76.579764        40035.302961  3.452921e+05   \n",
              "min        1.000000        1.000000            1.000000  0.000000e+00   \n",
              "25%    12795.750000       30.000000          408.000000  4.314593e+03   \n",
              "50%    57540.500000       60.000000         3000.000000  3.047147e+04   \n",
              "75%    83648.250000       90.000000        17039.750000  1.664471e+05   \n",
              "max    86823.000000     1000.000000       619999.000000  5.951990e+06   \n",
              "\n",
              "         pack_price    unit_price      weight_kg  freight_cost_usd  \\\n",
              "count  10324.000000  10324.000000   10324.000000      10324.000000   \n",
              "mean      21.910241      0.611701    2113.574196       6665.812612   \n",
              "std       45.609223      3.275808   10756.353428      13404.868186   \n",
              "min        0.000000      0.000000       0.000000          0.000000   \n",
              "25%        4.120000      0.080000       0.000000          0.000000   \n",
              "50%        9.300000      0.160000     122.000000       1422.090000   \n",
              "75%       23.592500      0.470000    1596.500000       7707.640000   \n",
              "max     1345.640000    238.650000  857354.000000     289653.200000   \n",
              "\n",
              "       insurance_usd  \n",
              "count   10324.000000  \n",
              "mean      240.117626  \n",
              "std       493.188408  \n",
              "min         0.000000  \n",
              "25%         7.030000  \n",
              "50%        52.940000  \n",
              "75%       241.750000  \n",
              "max      7708.440000  "
            ]
          },
          "metadata": {
            "tags": []
          },
          "execution_count": 15
        }
      ]
    },
    {
      "cell_type": "markdown",
      "metadata": {
        "id": "xCojijHIdVjh"
      },
      "source": [
        "---\n",
        "## Data Transformation\n",
        "\n",
        "### Scaling methods\n",
        "Variables tend to have different ranges and some algorithms are adversely affected by differences in variable ranges. Variables with greater ranges tend to have larger influence on data model’s results. Therefore, numeric field values may need to be standardized/normalized. \n",
        "\n",
        "From the output of the `describe()` method in the previous line of code, we can notice that the numerical variables have different ranges. For instance, `units_per_pack` varies from 1 to 1000, while `weight_kg` varies from 0 to 857354. We would like to apply normalization method to scale the numerical values in our data. \n",
        "\n",
        "Let's apply the **Min-max normalization** method, by identifying how much greater the field value is than the minimum value, and scaling this difference by the range of field values.\n",
        "\n",
        "$$X^*=\\frac{X-\\min(X)}{\\max{X}-\\min{X}}$$\n",
        "\n",
        "Thus,  I compute the normalized version of each of the numerical variable and add this as a new column of our data frame. We can proceed as follows. \n",
        "\n",
        "First, we create a list of the columns we want to normalize. "
      ]
    },
    {
      "cell_type": "code",
      "metadata": {
        "id": "u9SeAs_CdVjh"
      },
      "source": [
        "columns_to_norm = ['units_per_pack', 'quantity_pack_sold', 'value_sold', 'pack_price', 'unit_price', 'weight_kg',\n",
        "      'freight_cost_usd', 'insurance_usd']"
      ],
      "execution_count": null,
      "outputs": []
    },
    {
      "cell_type": "markdown",
      "metadata": {
        "id": "4uyUgamUdVji"
      },
      "source": [
        "Then, I can create a `for` loop to compute the normalized version for each one of these columns and add it to `df_SC`. "
      ]
    },
    {
      "cell_type": "code",
      "metadata": {
        "id": "WDapVaosdVji",
        "outputId": "8fec6045-91e9-4ae6-9590-a6f15dc4455c"
      },
      "source": [
        "for col in columns_to_norm:\n",
        "    col_norm = col + '_norm'   # create a new name for the colum. For example, 'units_per_pack_norm'\n",
        "    df_SC[col_norm] = (df_SC[col] - df_SC[col].min())/(df_SC[col].max() - df_SC[col].min())   # add the new normalized col\n",
        "df_SC.describe()"
      ],
      "execution_count": null,
      "outputs": [
        {
          "output_type": "execute_result",
          "data": {
            "text/html": [
              "<div>\n",
              "<style scoped>\n",
              "    .dataframe tbody tr th:only-of-type {\n",
              "        vertical-align: middle;\n",
              "    }\n",
              "\n",
              "    .dataframe tbody tr th {\n",
              "        vertical-align: top;\n",
              "    }\n",
              "\n",
              "    .dataframe thead th {\n",
              "        text-align: right;\n",
              "    }\n",
              "</style>\n",
              "<table border=\"1\" class=\"dataframe\">\n",
              "  <thead>\n",
              "    <tr style=\"text-align: right;\">\n",
              "      <th></th>\n",
              "      <th>id</th>\n",
              "      <th>units_per_pack</th>\n",
              "      <th>quantity_pack_sold</th>\n",
              "      <th>value_sold</th>\n",
              "      <th>pack_price</th>\n",
              "      <th>unit_price</th>\n",
              "      <th>weight_kg</th>\n",
              "      <th>freight_cost_usd</th>\n",
              "      <th>insurance_usd</th>\n",
              "      <th>units_per_pack_norm</th>\n",
              "      <th>quantity_pack_sold_norm</th>\n",
              "      <th>value_sold_norm</th>\n",
              "      <th>pack_price_norm</th>\n",
              "      <th>unit_price_norm</th>\n",
              "      <th>weight_kg_norm</th>\n",
              "      <th>freight_cost_usd_norm</th>\n",
              "      <th>insurance_usd_norm</th>\n",
              "    </tr>\n",
              "  </thead>\n",
              "  <tbody>\n",
              "    <tr>\n",
              "      <th>count</th>\n",
              "      <td>10324.000000</td>\n",
              "      <td>10324.000000</td>\n",
              "      <td>10324.000000</td>\n",
              "      <td>1.032400e+04</td>\n",
              "      <td>10324.000000</td>\n",
              "      <td>10324.000000</td>\n",
              "      <td>10324.000000</td>\n",
              "      <td>10324.000000</td>\n",
              "      <td>10324.000000</td>\n",
              "      <td>10324.000000</td>\n",
              "      <td>10324.000000</td>\n",
              "      <td>10324.000000</td>\n",
              "      <td>10324.000000</td>\n",
              "      <td>10324.000000</td>\n",
              "      <td>10324.000000</td>\n",
              "      <td>10324.000000</td>\n",
              "      <td>10324.000000</td>\n",
              "    </tr>\n",
              "    <tr>\n",
              "      <th>mean</th>\n",
              "      <td>51098.968229</td>\n",
              "      <td>77.990895</td>\n",
              "      <td>18332.534870</td>\n",
              "      <td>1.576506e+05</td>\n",
              "      <td>21.910241</td>\n",
              "      <td>0.611701</td>\n",
              "      <td>2113.574196</td>\n",
              "      <td>6665.812612</td>\n",
              "      <td>240.117626</td>\n",
              "      <td>0.077068</td>\n",
              "      <td>0.029567</td>\n",
              "      <td>0.026487</td>\n",
              "      <td>0.016282</td>\n",
              "      <td>0.002563</td>\n",
              "      <td>0.002465</td>\n",
              "      <td>0.023013</td>\n",
              "      <td>0.031150</td>\n",
              "    </tr>\n",
              "    <tr>\n",
              "      <th>std</th>\n",
              "      <td>31944.332496</td>\n",
              "      <td>76.579764</td>\n",
              "      <td>40035.302961</td>\n",
              "      <td>3.452921e+05</td>\n",
              "      <td>45.609223</td>\n",
              "      <td>3.275808</td>\n",
              "      <td>10756.353428</td>\n",
              "      <td>13404.868186</td>\n",
              "      <td>493.188408</td>\n",
              "      <td>0.076656</td>\n",
              "      <td>0.064573</td>\n",
              "      <td>0.058013</td>\n",
              "      <td>0.033894</td>\n",
              "      <td>0.013726</td>\n",
              "      <td>0.012546</td>\n",
              "      <td>0.046279</td>\n",
              "      <td>0.063980</td>\n",
              "    </tr>\n",
              "    <tr>\n",
              "      <th>min</th>\n",
              "      <td>1.000000</td>\n",
              "      <td>1.000000</td>\n",
              "      <td>1.000000</td>\n",
              "      <td>0.000000e+00</td>\n",
              "      <td>0.000000</td>\n",
              "      <td>0.000000</td>\n",
              "      <td>0.000000</td>\n",
              "      <td>0.000000</td>\n",
              "      <td>0.000000</td>\n",
              "      <td>0.000000</td>\n",
              "      <td>0.000000</td>\n",
              "      <td>0.000000</td>\n",
              "      <td>0.000000</td>\n",
              "      <td>0.000000</td>\n",
              "      <td>0.000000</td>\n",
              "      <td>0.000000</td>\n",
              "      <td>0.000000</td>\n",
              "    </tr>\n",
              "    <tr>\n",
              "      <th>25%</th>\n",
              "      <td>12795.750000</td>\n",
              "      <td>30.000000</td>\n",
              "      <td>408.000000</td>\n",
              "      <td>4.314593e+03</td>\n",
              "      <td>4.120000</td>\n",
              "      <td>0.080000</td>\n",
              "      <td>0.000000</td>\n",
              "      <td>0.000000</td>\n",
              "      <td>7.030000</td>\n",
              "      <td>0.029029</td>\n",
              "      <td>0.000656</td>\n",
              "      <td>0.000725</td>\n",
              "      <td>0.003062</td>\n",
              "      <td>0.000335</td>\n",
              "      <td>0.000000</td>\n",
              "      <td>0.000000</td>\n",
              "      <td>0.000912</td>\n",
              "    </tr>\n",
              "    <tr>\n",
              "      <th>50%</th>\n",
              "      <td>57540.500000</td>\n",
              "      <td>60.000000</td>\n",
              "      <td>3000.000000</td>\n",
              "      <td>3.047147e+04</td>\n",
              "      <td>9.300000</td>\n",
              "      <td>0.160000</td>\n",
              "      <td>122.000000</td>\n",
              "      <td>1422.090000</td>\n",
              "      <td>52.940000</td>\n",
              "      <td>0.059059</td>\n",
              "      <td>0.004837</td>\n",
              "      <td>0.005120</td>\n",
              "      <td>0.006911</td>\n",
              "      <td>0.000670</td>\n",
              "      <td>0.000142</td>\n",
              "      <td>0.004910</td>\n",
              "      <td>0.006868</td>\n",
              "    </tr>\n",
              "    <tr>\n",
              "      <th>75%</th>\n",
              "      <td>83648.250000</td>\n",
              "      <td>90.000000</td>\n",
              "      <td>17039.750000</td>\n",
              "      <td>1.664471e+05</td>\n",
              "      <td>23.592500</td>\n",
              "      <td>0.470000</td>\n",
              "      <td>1596.500000</td>\n",
              "      <td>7707.640000</td>\n",
              "      <td>241.750000</td>\n",
              "      <td>0.089089</td>\n",
              "      <td>0.027482</td>\n",
              "      <td>0.027965</td>\n",
              "      <td>0.017533</td>\n",
              "      <td>0.001969</td>\n",
              "      <td>0.001862</td>\n",
              "      <td>0.026610</td>\n",
              "      <td>0.031362</td>\n",
              "    </tr>\n",
              "    <tr>\n",
              "      <th>max</th>\n",
              "      <td>86823.000000</td>\n",
              "      <td>1000.000000</td>\n",
              "      <td>619999.000000</td>\n",
              "      <td>5.951990e+06</td>\n",
              "      <td>1345.640000</td>\n",
              "      <td>238.650000</td>\n",
              "      <td>857354.000000</td>\n",
              "      <td>289653.200000</td>\n",
              "      <td>7708.440000</td>\n",
              "      <td>1.000000</td>\n",
              "      <td>1.000000</td>\n",
              "      <td>1.000000</td>\n",
              "      <td>1.000000</td>\n",
              "      <td>1.000000</td>\n",
              "      <td>1.000000</td>\n",
              "      <td>1.000000</td>\n",
              "      <td>1.000000</td>\n",
              "    </tr>\n",
              "  </tbody>\n",
              "</table>\n",
              "</div>"
            ],
            "text/plain": [
              "                 id  units_per_pack  quantity_pack_sold    value_sold  \\\n",
              "count  10324.000000    10324.000000        10324.000000  1.032400e+04   \n",
              "mean   51098.968229       77.990895        18332.534870  1.576506e+05   \n",
              "std    31944.332496       76.579764        40035.302961  3.452921e+05   \n",
              "min        1.000000        1.000000            1.000000  0.000000e+00   \n",
              "25%    12795.750000       30.000000          408.000000  4.314593e+03   \n",
              "50%    57540.500000       60.000000         3000.000000  3.047147e+04   \n",
              "75%    83648.250000       90.000000        17039.750000  1.664471e+05   \n",
              "max    86823.000000     1000.000000       619999.000000  5.951990e+06   \n",
              "\n",
              "         pack_price    unit_price      weight_kg  freight_cost_usd  \\\n",
              "count  10324.000000  10324.000000   10324.000000      10324.000000   \n",
              "mean      21.910241      0.611701    2113.574196       6665.812612   \n",
              "std       45.609223      3.275808   10756.353428      13404.868186   \n",
              "min        0.000000      0.000000       0.000000          0.000000   \n",
              "25%        4.120000      0.080000       0.000000          0.000000   \n",
              "50%        9.300000      0.160000     122.000000       1422.090000   \n",
              "75%       23.592500      0.470000    1596.500000       7707.640000   \n",
              "max     1345.640000    238.650000  857354.000000     289653.200000   \n",
              "\n",
              "       insurance_usd  units_per_pack_norm  quantity_pack_sold_norm  \\\n",
              "count   10324.000000         10324.000000             10324.000000   \n",
              "mean      240.117626             0.077068                 0.029567   \n",
              "std       493.188408             0.076656                 0.064573   \n",
              "min         0.000000             0.000000                 0.000000   \n",
              "25%         7.030000             0.029029                 0.000656   \n",
              "50%        52.940000             0.059059                 0.004837   \n",
              "75%       241.750000             0.089089                 0.027482   \n",
              "max      7708.440000             1.000000                 1.000000   \n",
              "\n",
              "       value_sold_norm  pack_price_norm  unit_price_norm  weight_kg_norm  \\\n",
              "count     10324.000000     10324.000000     10324.000000    10324.000000   \n",
              "mean          0.026487         0.016282         0.002563        0.002465   \n",
              "std           0.058013         0.033894         0.013726        0.012546   \n",
              "min           0.000000         0.000000         0.000000        0.000000   \n",
              "25%           0.000725         0.003062         0.000335        0.000000   \n",
              "50%           0.005120         0.006911         0.000670        0.000142   \n",
              "75%           0.027965         0.017533         0.001969        0.001862   \n",
              "max           1.000000         1.000000         1.000000        1.000000   \n",
              "\n",
              "       freight_cost_usd_norm  insurance_usd_norm  \n",
              "count           10324.000000        10324.000000  \n",
              "mean                0.023013            0.031150  \n",
              "std                 0.046279            0.063980  \n",
              "min                 0.000000            0.000000  \n",
              "25%                 0.000000            0.000912  \n",
              "50%                 0.004910            0.006868  \n",
              "75%                 0.026610            0.031362  \n",
              "max                 1.000000            1.000000  "
            ]
          },
          "metadata": {
            "tags": []
          },
          "execution_count": 17
        }
      ]
    },
    {
      "cell_type": "markdown",
      "metadata": {
        "id": "3l07z-nrdVji"
      },
      "source": [
        "### Dummy Variables\n",
        "A categorical variable should generally be encoded as **dummy variables** (a.k.a. indicator variables), each taking only one of two values (0 or 1; False or True)\n",
        "When a categorical variable takes k possible values, you typically have two options to define your dummy variables:\n",
        "* Option 1: Define k-1 dummy variables, and use the unassigned category as the reference category\n",
        "* Option 2: Define k dummy variables. Often referred to as **one-hot** encoding.\n",
        "\n",
        "Let's transform our categorical variable `shipment` into dummy variables using `Option 1`. First, let's take a look at the possible values for the categorical values."
      ]
    },
    {
      "cell_type": "code",
      "metadata": {
        "scrolled": true,
        "id": "Scy19RTedVjj",
        "outputId": "a483aed2-75ef-45db-ee95-c0adaba11e0a"
      },
      "source": [
        "df_SC['shipment'].unique()"
      ],
      "execution_count": null,
      "outputs": [
        {
          "output_type": "execute_result",
          "data": {
            "text/plain": [
              "array(['Air', 'missing', 'Truck', 'Air Charter', 'Ocean'], dtype=object)"
            ]
          },
          "metadata": {
            "tags": []
          },
          "execution_count": 18
        }
      ]
    },
    {
      "cell_type": "markdown",
      "metadata": {
        "id": "NrxVTOsIdVjj"
      },
      "source": [
        "We will create 4 dummy variables with names `'Air'`,  `'Truck'`, `'Air Charter'` and `'Ocean'`, and use `'missing'` as our reference category. One way to do this is by making use of the `DataFrame` function `pd.get_dummies()`, which automatically  converts categorical variable into dummy/indicator variables. You can check [this page](https://pandas.pydata.org/pandas-docs/stable/reference/api/pandas.get_dummies.html) for more information. "
      ]
    },
    {
      "cell_type": "code",
      "metadata": {
        "id": "x9eymnJqdVjj",
        "outputId": "941028e3-6d96-4429-bc5b-51a95d3bc8c4"
      },
      "source": [
        "df_dummies = pd.get_dummies(df_SC['shipment'])\n",
        "df_dummies.head()"
      ],
      "execution_count": null,
      "outputs": [
        {
          "output_type": "execute_result",
          "data": {
            "text/html": [
              "<div>\n",
              "<style scoped>\n",
              "    .dataframe tbody tr th:only-of-type {\n",
              "        vertical-align: middle;\n",
              "    }\n",
              "\n",
              "    .dataframe tbody tr th {\n",
              "        vertical-align: top;\n",
              "    }\n",
              "\n",
              "    .dataframe thead th {\n",
              "        text-align: right;\n",
              "    }\n",
              "</style>\n",
              "<table border=\"1\" class=\"dataframe\">\n",
              "  <thead>\n",
              "    <tr style=\"text-align: right;\">\n",
              "      <th></th>\n",
              "      <th>Air</th>\n",
              "      <th>Air Charter</th>\n",
              "      <th>Ocean</th>\n",
              "      <th>Truck</th>\n",
              "      <th>missing</th>\n",
              "    </tr>\n",
              "  </thead>\n",
              "  <tbody>\n",
              "    <tr>\n",
              "      <th>0</th>\n",
              "      <td>1</td>\n",
              "      <td>0</td>\n",
              "      <td>0</td>\n",
              "      <td>0</td>\n",
              "      <td>0</td>\n",
              "    </tr>\n",
              "    <tr>\n",
              "      <th>1</th>\n",
              "      <td>1</td>\n",
              "      <td>0</td>\n",
              "      <td>0</td>\n",
              "      <td>0</td>\n",
              "      <td>0</td>\n",
              "    </tr>\n",
              "    <tr>\n",
              "      <th>2</th>\n",
              "      <td>1</td>\n",
              "      <td>0</td>\n",
              "      <td>0</td>\n",
              "      <td>0</td>\n",
              "      <td>0</td>\n",
              "    </tr>\n",
              "    <tr>\n",
              "      <th>3</th>\n",
              "      <td>1</td>\n",
              "      <td>0</td>\n",
              "      <td>0</td>\n",
              "      <td>0</td>\n",
              "      <td>0</td>\n",
              "    </tr>\n",
              "    <tr>\n",
              "      <th>4</th>\n",
              "      <td>1</td>\n",
              "      <td>0</td>\n",
              "      <td>0</td>\n",
              "      <td>0</td>\n",
              "      <td>0</td>\n",
              "    </tr>\n",
              "  </tbody>\n",
              "</table>\n",
              "</div>"
            ],
            "text/plain": [
              "   Air  Air Charter  Ocean  Truck  missing\n",
              "0    1            0      0      0        0\n",
              "1    1            0      0      0        0\n",
              "2    1            0      0      0        0\n",
              "3    1            0      0      0        0\n",
              "4    1            0      0      0        0"
            ]
          },
          "metadata": {
            "tags": []
          },
          "execution_count": 19
        }
      ]
    },
    {
      "cell_type": "markdown",
      "metadata": {
        "id": "k3try2FUdVjj"
      },
      "source": [
        "Then, we can either merge or concatenate the new `DataFrame` we just created (`df_dummies`) with our original `DataFrame`. We can also get ride of the original column `shipment`, as we will use its corresponding indicator variables instead.  We can do this using the function `pd.concat()` and the method `DataFrame.drop()`"
      ]
    },
    {
      "cell_type": "code",
      "metadata": {
        "scrolled": true,
        "id": "0SC59ivFdVjk",
        "outputId": "912d7414-0d3d-4270-ff60-382744af385b"
      },
      "source": [
        "# concatenating the original df_SC with df_dummy without the column 'missing'\n",
        "df_SC = pd.concat([df_SC, df_dummies.drop('missing', axis=1)], axis=1)  \n",
        "\n",
        "# droping the column 'shipment' and saving the changes in the original DF\n",
        "df_SC.drop('shipment', axis=1, inplace=True)    \n",
        "df_SC.describe()"
      ],
      "execution_count": null,
      "outputs": [
        {
          "output_type": "execute_result",
          "data": {
            "text/html": [
              "<div>\n",
              "<style scoped>\n",
              "    .dataframe tbody tr th:only-of-type {\n",
              "        vertical-align: middle;\n",
              "    }\n",
              "\n",
              "    .dataframe tbody tr th {\n",
              "        vertical-align: top;\n",
              "    }\n",
              "\n",
              "    .dataframe thead th {\n",
              "        text-align: right;\n",
              "    }\n",
              "</style>\n",
              "<table border=\"1\" class=\"dataframe\">\n",
              "  <thead>\n",
              "    <tr style=\"text-align: right;\">\n",
              "      <th></th>\n",
              "      <th>id</th>\n",
              "      <th>units_per_pack</th>\n",
              "      <th>quantity_pack_sold</th>\n",
              "      <th>value_sold</th>\n",
              "      <th>pack_price</th>\n",
              "      <th>unit_price</th>\n",
              "      <th>weight_kg</th>\n",
              "      <th>freight_cost_usd</th>\n",
              "      <th>insurance_usd</th>\n",
              "      <th>units_per_pack_norm</th>\n",
              "      <th>...</th>\n",
              "      <th>value_sold_norm</th>\n",
              "      <th>pack_price_norm</th>\n",
              "      <th>unit_price_norm</th>\n",
              "      <th>weight_kg_norm</th>\n",
              "      <th>freight_cost_usd_norm</th>\n",
              "      <th>insurance_usd_norm</th>\n",
              "      <th>Air</th>\n",
              "      <th>Air Charter</th>\n",
              "      <th>Ocean</th>\n",
              "      <th>Truck</th>\n",
              "    </tr>\n",
              "  </thead>\n",
              "  <tbody>\n",
              "    <tr>\n",
              "      <th>count</th>\n",
              "      <td>10324.000000</td>\n",
              "      <td>10324.000000</td>\n",
              "      <td>10324.000000</td>\n",
              "      <td>1.032400e+04</td>\n",
              "      <td>10324.000000</td>\n",
              "      <td>10324.000000</td>\n",
              "      <td>10324.000000</td>\n",
              "      <td>10324.000000</td>\n",
              "      <td>10324.000000</td>\n",
              "      <td>10324.000000</td>\n",
              "      <td>...</td>\n",
              "      <td>10324.000000</td>\n",
              "      <td>10324.000000</td>\n",
              "      <td>10324.000000</td>\n",
              "      <td>10324.000000</td>\n",
              "      <td>10324.000000</td>\n",
              "      <td>10324.000000</td>\n",
              "      <td>10324.000000</td>\n",
              "      <td>10324.000000</td>\n",
              "      <td>10324.000000</td>\n",
              "      <td>10324.000000</td>\n",
              "    </tr>\n",
              "    <tr>\n",
              "      <th>mean</th>\n",
              "      <td>51098.968229</td>\n",
              "      <td>77.990895</td>\n",
              "      <td>18332.534870</td>\n",
              "      <td>1.576506e+05</td>\n",
              "      <td>21.910241</td>\n",
              "      <td>0.611701</td>\n",
              "      <td>2113.574196</td>\n",
              "      <td>6665.812612</td>\n",
              "      <td>240.117626</td>\n",
              "      <td>0.077068</td>\n",
              "      <td>...</td>\n",
              "      <td>0.026487</td>\n",
              "      <td>0.016282</td>\n",
              "      <td>0.002563</td>\n",
              "      <td>0.002465</td>\n",
              "      <td>0.023013</td>\n",
              "      <td>0.031150</td>\n",
              "      <td>0.592115</td>\n",
              "      <td>0.062960</td>\n",
              "      <td>0.035936</td>\n",
              "      <td>0.274119</td>\n",
              "    </tr>\n",
              "    <tr>\n",
              "      <th>std</th>\n",
              "      <td>31944.332496</td>\n",
              "      <td>76.579764</td>\n",
              "      <td>40035.302961</td>\n",
              "      <td>3.452921e+05</td>\n",
              "      <td>45.609223</td>\n",
              "      <td>3.275808</td>\n",
              "      <td>10756.353428</td>\n",
              "      <td>13404.868186</td>\n",
              "      <td>493.188408</td>\n",
              "      <td>0.076656</td>\n",
              "      <td>...</td>\n",
              "      <td>0.058013</td>\n",
              "      <td>0.033894</td>\n",
              "      <td>0.013726</td>\n",
              "      <td>0.012546</td>\n",
              "      <td>0.046279</td>\n",
              "      <td>0.063980</td>\n",
              "      <td>0.491465</td>\n",
              "      <td>0.242903</td>\n",
              "      <td>0.186139</td>\n",
              "      <td>0.446091</td>\n",
              "    </tr>\n",
              "    <tr>\n",
              "      <th>min</th>\n",
              "      <td>1.000000</td>\n",
              "      <td>1.000000</td>\n",
              "      <td>1.000000</td>\n",
              "      <td>0.000000e+00</td>\n",
              "      <td>0.000000</td>\n",
              "      <td>0.000000</td>\n",
              "      <td>0.000000</td>\n",
              "      <td>0.000000</td>\n",
              "      <td>0.000000</td>\n",
              "      <td>0.000000</td>\n",
              "      <td>...</td>\n",
              "      <td>0.000000</td>\n",
              "      <td>0.000000</td>\n",
              "      <td>0.000000</td>\n",
              "      <td>0.000000</td>\n",
              "      <td>0.000000</td>\n",
              "      <td>0.000000</td>\n",
              "      <td>0.000000</td>\n",
              "      <td>0.000000</td>\n",
              "      <td>0.000000</td>\n",
              "      <td>0.000000</td>\n",
              "    </tr>\n",
              "    <tr>\n",
              "      <th>25%</th>\n",
              "      <td>12795.750000</td>\n",
              "      <td>30.000000</td>\n",
              "      <td>408.000000</td>\n",
              "      <td>4.314593e+03</td>\n",
              "      <td>4.120000</td>\n",
              "      <td>0.080000</td>\n",
              "      <td>0.000000</td>\n",
              "      <td>0.000000</td>\n",
              "      <td>7.030000</td>\n",
              "      <td>0.029029</td>\n",
              "      <td>...</td>\n",
              "      <td>0.000725</td>\n",
              "      <td>0.003062</td>\n",
              "      <td>0.000335</td>\n",
              "      <td>0.000000</td>\n",
              "      <td>0.000000</td>\n",
              "      <td>0.000912</td>\n",
              "      <td>0.000000</td>\n",
              "      <td>0.000000</td>\n",
              "      <td>0.000000</td>\n",
              "      <td>0.000000</td>\n",
              "    </tr>\n",
              "    <tr>\n",
              "      <th>50%</th>\n",
              "      <td>57540.500000</td>\n",
              "      <td>60.000000</td>\n",
              "      <td>3000.000000</td>\n",
              "      <td>3.047147e+04</td>\n",
              "      <td>9.300000</td>\n",
              "      <td>0.160000</td>\n",
              "      <td>122.000000</td>\n",
              "      <td>1422.090000</td>\n",
              "      <td>52.940000</td>\n",
              "      <td>0.059059</td>\n",
              "      <td>...</td>\n",
              "      <td>0.005120</td>\n",
              "      <td>0.006911</td>\n",
              "      <td>0.000670</td>\n",
              "      <td>0.000142</td>\n",
              "      <td>0.004910</td>\n",
              "      <td>0.006868</td>\n",
              "      <td>1.000000</td>\n",
              "      <td>0.000000</td>\n",
              "      <td>0.000000</td>\n",
              "      <td>0.000000</td>\n",
              "    </tr>\n",
              "    <tr>\n",
              "      <th>75%</th>\n",
              "      <td>83648.250000</td>\n",
              "      <td>90.000000</td>\n",
              "      <td>17039.750000</td>\n",
              "      <td>1.664471e+05</td>\n",
              "      <td>23.592500</td>\n",
              "      <td>0.470000</td>\n",
              "      <td>1596.500000</td>\n",
              "      <td>7707.640000</td>\n",
              "      <td>241.750000</td>\n",
              "      <td>0.089089</td>\n",
              "      <td>...</td>\n",
              "      <td>0.027965</td>\n",
              "      <td>0.017533</td>\n",
              "      <td>0.001969</td>\n",
              "      <td>0.001862</td>\n",
              "      <td>0.026610</td>\n",
              "      <td>0.031362</td>\n",
              "      <td>1.000000</td>\n",
              "      <td>0.000000</td>\n",
              "      <td>0.000000</td>\n",
              "      <td>1.000000</td>\n",
              "    </tr>\n",
              "    <tr>\n",
              "      <th>max</th>\n",
              "      <td>86823.000000</td>\n",
              "      <td>1000.000000</td>\n",
              "      <td>619999.000000</td>\n",
              "      <td>5.951990e+06</td>\n",
              "      <td>1345.640000</td>\n",
              "      <td>238.650000</td>\n",
              "      <td>857354.000000</td>\n",
              "      <td>289653.200000</td>\n",
              "      <td>7708.440000</td>\n",
              "      <td>1.000000</td>\n",
              "      <td>...</td>\n",
              "      <td>1.000000</td>\n",
              "      <td>1.000000</td>\n",
              "      <td>1.000000</td>\n",
              "      <td>1.000000</td>\n",
              "      <td>1.000000</td>\n",
              "      <td>1.000000</td>\n",
              "      <td>1.000000</td>\n",
              "      <td>1.000000</td>\n",
              "      <td>1.000000</td>\n",
              "      <td>1.000000</td>\n",
              "    </tr>\n",
              "  </tbody>\n",
              "</table>\n",
              "<p>8 rows × 21 columns</p>\n",
              "</div>"
            ],
            "text/plain": [
              "                 id  units_per_pack  quantity_pack_sold    value_sold  \\\n",
              "count  10324.000000    10324.000000        10324.000000  1.032400e+04   \n",
              "mean   51098.968229       77.990895        18332.534870  1.576506e+05   \n",
              "std    31944.332496       76.579764        40035.302961  3.452921e+05   \n",
              "min        1.000000        1.000000            1.000000  0.000000e+00   \n",
              "25%    12795.750000       30.000000          408.000000  4.314593e+03   \n",
              "50%    57540.500000       60.000000         3000.000000  3.047147e+04   \n",
              "75%    83648.250000       90.000000        17039.750000  1.664471e+05   \n",
              "max    86823.000000     1000.000000       619999.000000  5.951990e+06   \n",
              "\n",
              "         pack_price    unit_price      weight_kg  freight_cost_usd  \\\n",
              "count  10324.000000  10324.000000   10324.000000      10324.000000   \n",
              "mean      21.910241      0.611701    2113.574196       6665.812612   \n",
              "std       45.609223      3.275808   10756.353428      13404.868186   \n",
              "min        0.000000      0.000000       0.000000          0.000000   \n",
              "25%        4.120000      0.080000       0.000000          0.000000   \n",
              "50%        9.300000      0.160000     122.000000       1422.090000   \n",
              "75%       23.592500      0.470000    1596.500000       7707.640000   \n",
              "max     1345.640000    238.650000  857354.000000     289653.200000   \n",
              "\n",
              "       insurance_usd  units_per_pack_norm  ...  value_sold_norm  \\\n",
              "count   10324.000000         10324.000000  ...     10324.000000   \n",
              "mean      240.117626             0.077068  ...         0.026487   \n",
              "std       493.188408             0.076656  ...         0.058013   \n",
              "min         0.000000             0.000000  ...         0.000000   \n",
              "25%         7.030000             0.029029  ...         0.000725   \n",
              "50%        52.940000             0.059059  ...         0.005120   \n",
              "75%       241.750000             0.089089  ...         0.027965   \n",
              "max      7708.440000             1.000000  ...         1.000000   \n",
              "\n",
              "       pack_price_norm  unit_price_norm  weight_kg_norm  \\\n",
              "count     10324.000000     10324.000000    10324.000000   \n",
              "mean          0.016282         0.002563        0.002465   \n",
              "std           0.033894         0.013726        0.012546   \n",
              "min           0.000000         0.000000        0.000000   \n",
              "25%           0.003062         0.000335        0.000000   \n",
              "50%           0.006911         0.000670        0.000142   \n",
              "75%           0.017533         0.001969        0.001862   \n",
              "max           1.000000         1.000000        1.000000   \n",
              "\n",
              "       freight_cost_usd_norm  insurance_usd_norm           Air   Air Charter  \\\n",
              "count           10324.000000        10324.000000  10324.000000  10324.000000   \n",
              "mean                0.023013            0.031150      0.592115      0.062960   \n",
              "std                 0.046279            0.063980      0.491465      0.242903   \n",
              "min                 0.000000            0.000000      0.000000      0.000000   \n",
              "25%                 0.000000            0.000912      0.000000      0.000000   \n",
              "50%                 0.004910            0.006868      1.000000      0.000000   \n",
              "75%                 0.026610            0.031362      1.000000      0.000000   \n",
              "max                 1.000000            1.000000      1.000000      1.000000   \n",
              "\n",
              "              Ocean         Truck  \n",
              "count  10324.000000  10324.000000  \n",
              "mean       0.035936      0.274119  \n",
              "std        0.186139      0.446091  \n",
              "min        0.000000      0.000000  \n",
              "25%        0.000000      0.000000  \n",
              "50%        0.000000      0.000000  \n",
              "75%        0.000000      1.000000  \n",
              "max        1.000000      1.000000  \n",
              "\n",
              "[8 rows x 21 columns]"
            ]
          },
          "metadata": {
            "tags": []
          },
          "execution_count": 20
        }
      ]
    },
    {
      "cell_type": "markdown",
      "metadata": {
        "id": "Sd1yXEVfdVjk"
      },
      "source": [
        "## Transforming numerical variables into categorical variables\n",
        "In some cases, categorical variables may be preferred over numerical ones. We then need to partition the numerical variables into bins according to a specific criteria.\n",
        "As an example, let's transform our original variable `'weight_kg'` into a categorical variable with values `'light'` (if the weight is up to 100 kg), `'medium'`(if the weight is within the interval (100 kg, 500 kg]), `'heavy'` (if the weight is within the interval (500 kg, 1000 kg]) and `'super-heavy'`(if the weight is > 1000 kg). \n",
        "\n",
        "We can implement this transformation using the function `pd.cut()`, which helps us to segment and sort data values into bins. You can check [this page](https://pandas.pydata.org/pandas-docs/stable/reference/api/pandas.cut.html) for more information on this function.\n"
      ]
    },
    {
      "cell_type": "code",
      "metadata": {
        "id": "Fgcx3yVSdVjk",
        "outputId": "9eda79da-e235-4216-928a-482490e94e22"
      },
      "source": [
        "bins = [0, 100., 500., 1000.,  float('inf')]             # defining the bins \n",
        "names = ['light', 'medium', 'heavy', 'super-heavy']      # defining the names for the categories\n",
        "df_SC['weight_category'] = pd.cut(df_SC['weight_kg'], bins, labels=names, include_lowest=True)  # adding the new cat. var. to our DF\n",
        "df_SC.head()"
      ],
      "execution_count": null,
      "outputs": [
        {
          "output_type": "execute_result",
          "data": {
            "text/html": [
              "<div>\n",
              "<style scoped>\n",
              "    .dataframe tbody tr th:only-of-type {\n",
              "        vertical-align: middle;\n",
              "    }\n",
              "\n",
              "    .dataframe tbody tr th {\n",
              "        vertical-align: top;\n",
              "    }\n",
              "\n",
              "    .dataframe thead th {\n",
              "        text-align: right;\n",
              "    }\n",
              "</style>\n",
              "<table border=\"1\" class=\"dataframe\">\n",
              "  <thead>\n",
              "    <tr style=\"text-align: right;\">\n",
              "      <th></th>\n",
              "      <th>id</th>\n",
              "      <th>project_code</th>\n",
              "      <th>country</th>\n",
              "      <th>vendor</th>\n",
              "      <th>manufacturing_site</th>\n",
              "      <th>schedule_delivery_date</th>\n",
              "      <th>delivered_to_client_date</th>\n",
              "      <th>delivery_recorded_date</th>\n",
              "      <th>product_group</th>\n",
              "      <th>product_subgroup</th>\n",
              "      <th>...</th>\n",
              "      <th>pack_price_norm</th>\n",
              "      <th>unit_price_norm</th>\n",
              "      <th>weight_kg_norm</th>\n",
              "      <th>freight_cost_usd_norm</th>\n",
              "      <th>insurance_usd_norm</th>\n",
              "      <th>Air</th>\n",
              "      <th>Air Charter</th>\n",
              "      <th>Ocean</th>\n",
              "      <th>Truck</th>\n",
              "      <th>weight_category</th>\n",
              "    </tr>\n",
              "  </thead>\n",
              "  <tbody>\n",
              "    <tr>\n",
              "      <th>0</th>\n",
              "      <td>1</td>\n",
              "      <td>100-CI-T01</td>\n",
              "      <td>Cote d Ivoire</td>\n",
              "      <td>EXW</td>\n",
              "      <td>Ranbaxy Fine Chemicals LTD</td>\n",
              "      <td>2006-06-02</td>\n",
              "      <td>2006-06-02</td>\n",
              "      <td>2006-06-02</td>\n",
              "      <td>HRDT</td>\n",
              "      <td>HIV test</td>\n",
              "      <td>...</td>\n",
              "      <td>0.021551</td>\n",
              "      <td>0.004065</td>\n",
              "      <td>0.000015</td>\n",
              "      <td>0.002694</td>\n",
              "      <td>0.03115</td>\n",
              "      <td>1</td>\n",
              "      <td>0</td>\n",
              "      <td>0</td>\n",
              "      <td>0</td>\n",
              "      <td>light</td>\n",
              "    </tr>\n",
              "    <tr>\n",
              "      <th>1</th>\n",
              "      <td>3</td>\n",
              "      <td>108-VN-T01</td>\n",
              "      <td>Vietnam</td>\n",
              "      <td>EXW</td>\n",
              "      <td>Aurobindo Unit III, India</td>\n",
              "      <td>2006-11-14</td>\n",
              "      <td>2006-11-14</td>\n",
              "      <td>2006-11-14</td>\n",
              "      <td>ARV</td>\n",
              "      <td>Pediatric</td>\n",
              "      <td>...</td>\n",
              "      <td>0.004607</td>\n",
              "      <td>0.000126</td>\n",
              "      <td>0.000418</td>\n",
              "      <td>0.015610</td>\n",
              "      <td>0.03115</td>\n",
              "      <td>1</td>\n",
              "      <td>0</td>\n",
              "      <td>0</td>\n",
              "      <td>0</td>\n",
              "      <td>medium</td>\n",
              "    </tr>\n",
              "    <tr>\n",
              "      <th>2</th>\n",
              "      <td>4</td>\n",
              "      <td>100-CI-T01</td>\n",
              "      <td>Cote d Ivoire</td>\n",
              "      <td>FCA</td>\n",
              "      <td>ABBVIE GmbH &amp; Co.KG Wiesbaden</td>\n",
              "      <td>2006-08-27</td>\n",
              "      <td>2006-08-27</td>\n",
              "      <td>2006-08-27</td>\n",
              "      <td>HRDT</td>\n",
              "      <td>HIV test</td>\n",
              "      <td>...</td>\n",
              "      <td>0.059451</td>\n",
              "      <td>0.003352</td>\n",
              "      <td>0.000199</td>\n",
              "      <td>0.005710</td>\n",
              "      <td>0.03115</td>\n",
              "      <td>1</td>\n",
              "      <td>0</td>\n",
              "      <td>0</td>\n",
              "      <td>0</td>\n",
              "      <td>medium</td>\n",
              "    </tr>\n",
              "    <tr>\n",
              "      <th>3</th>\n",
              "      <td>15</td>\n",
              "      <td>108-VN-T01</td>\n",
              "      <td>Vietnam</td>\n",
              "      <td>EXW</td>\n",
              "      <td>Ranbaxy, Paonta Shahib, India</td>\n",
              "      <td>2006-09-01</td>\n",
              "      <td>2006-09-01</td>\n",
              "      <td>2006-09-01</td>\n",
              "      <td>ARV</td>\n",
              "      <td>Adult</td>\n",
              "      <td>...</td>\n",
              "      <td>0.002965</td>\n",
              "      <td>0.000293</td>\n",
              "      <td>0.002164</td>\n",
              "      <td>0.055263</td>\n",
              "      <td>0.03115</td>\n",
              "      <td>1</td>\n",
              "      <td>0</td>\n",
              "      <td>0</td>\n",
              "      <td>0</td>\n",
              "      <td>super-heavy</td>\n",
              "    </tr>\n",
              "    <tr>\n",
              "      <th>4</th>\n",
              "      <td>16</td>\n",
              "      <td>108-VN-T01</td>\n",
              "      <td>Vietnam</td>\n",
              "      <td>EXW</td>\n",
              "      <td>Aurobindo Unit III, India</td>\n",
              "      <td>2006-08-11</td>\n",
              "      <td>2006-08-11</td>\n",
              "      <td>2006-08-11</td>\n",
              "      <td>ARV</td>\n",
              "      <td>Adult</td>\n",
              "      <td>...</td>\n",
              "      <td>0.002378</td>\n",
              "      <td>0.000210</td>\n",
              "      <td>0.008853</td>\n",
              "      <td>0.156912</td>\n",
              "      <td>0.03115</td>\n",
              "      <td>1</td>\n",
              "      <td>0</td>\n",
              "      <td>0</td>\n",
              "      <td>0</td>\n",
              "      <td>super-heavy</td>\n",
              "    </tr>\n",
              "  </tbody>\n",
              "</table>\n",
              "<p>5 rows × 35 columns</p>\n",
              "</div>"
            ],
            "text/plain": [
              "   id project_code        country vendor             manufacturing_site  \\\n",
              "0   1   100-CI-T01  Cote d Ivoire    EXW     Ranbaxy Fine Chemicals LTD   \n",
              "1   3   108-VN-T01        Vietnam    EXW      Aurobindo Unit III, India   \n",
              "2   4   100-CI-T01  Cote d Ivoire    FCA  ABBVIE GmbH & Co.KG Wiesbaden   \n",
              "3  15   108-VN-T01        Vietnam    EXW  Ranbaxy, Paonta Shahib, India   \n",
              "4  16   108-VN-T01        Vietnam    EXW      Aurobindo Unit III, India   \n",
              "\n",
              "  schedule_delivery_date delivered_to_client_date delivery_recorded_date  \\\n",
              "0             2006-06-02               2006-06-02             2006-06-02   \n",
              "1             2006-11-14               2006-11-14             2006-11-14   \n",
              "2             2006-08-27               2006-08-27             2006-08-27   \n",
              "3             2006-09-01               2006-09-01             2006-09-01   \n",
              "4             2006-08-11               2006-08-11             2006-08-11   \n",
              "\n",
              "  product_group product_subgroup  ... pack_price_norm unit_price_norm  \\\n",
              "0          HRDT         HIV test  ...        0.021551        0.004065   \n",
              "1           ARV        Pediatric  ...        0.004607        0.000126   \n",
              "2          HRDT         HIV test  ...        0.059451        0.003352   \n",
              "3           ARV            Adult  ...        0.002965        0.000293   \n",
              "4           ARV            Adult  ...        0.002378        0.000210   \n",
              "\n",
              "  weight_kg_norm freight_cost_usd_norm  insurance_usd_norm  Air  Air Charter  \\\n",
              "0       0.000015              0.002694             0.03115    1            0   \n",
              "1       0.000418              0.015610             0.03115    1            0   \n",
              "2       0.000199              0.005710             0.03115    1            0   \n",
              "3       0.002164              0.055263             0.03115    1            0   \n",
              "4       0.008853              0.156912             0.03115    1            0   \n",
              "\n",
              "   Ocean  Truck  weight_category  \n",
              "0      0      0            light  \n",
              "1      0      0           medium  \n",
              "2      0      0           medium  \n",
              "3      0      0      super-heavy  \n",
              "4      0      0      super-heavy  \n",
              "\n",
              "[5 rows x 35 columns]"
            ]
          },
          "metadata": {
            "tags": []
          },
          "execution_count": 21
        }
      ]
    },
    {
      "cell_type": "code",
      "metadata": {
        "id": "Rj2dQRODdVjl",
        "outputId": "05e182d6-727e-444f-be37-0a351d220f49"
      },
      "source": [
        ""
      ],
      "execution_count": null,
      "outputs": [
        {
          "output_type": "execute_result",
          "data": {
            "text/plain": [
              "0.0"
            ]
          },
          "metadata": {
            "tags": []
          },
          "execution_count": 22
        }
      ]
    },
    {
      "cell_type": "code",
      "metadata": {
        "id": "prjLX5TFdVjl"
      },
      "source": [
        ""
      ],
      "execution_count": null,
      "outputs": []
    }
  ]
}