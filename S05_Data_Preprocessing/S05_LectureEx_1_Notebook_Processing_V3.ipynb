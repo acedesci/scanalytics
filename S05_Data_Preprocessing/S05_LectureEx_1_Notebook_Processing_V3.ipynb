{
  "nbformat": 4,
  "nbformat_minor": 0,
  "metadata": {
    "kernelspec": {
      "display_name": "Python 3",
      "language": "python",
      "name": "python3"
    },
    "language_info": {
      "codemirror_mode": {
        "name": "ipython",
        "version": 3
      },
      "file_extension": ".py",
      "mimetype": "text/x-python",
      "name": "python",
      "nbconvert_exporter": "python",
      "pygments_lexer": "ipython3",
      "version": "3.7.6"
    },
    "colab": {
      "name": "S05_LectureEx_1_Notebook_Processing.ipynb",
      "provenance": [],
      "include_colab_link": true
    }
  },
  "cells": [
    {
      "cell_type": "markdown",
      "metadata": {
        "id": "view-in-github",
        "colab_type": "text"
      },
      "source": [
        "<a href=\"https://colab.research.google.com/github/acedesci/scanalytics/blob/master/S05_Data_Preprocessing/S05_LectureEx_1_Notebook_Processing_V3.ipynb\" target=\"_parent\"><img src=\"https://colab.research.google.com/assets/colab-badge.svg\" alt=\"Open In Colab\"/></a>"
      ]
    },
    {
      "cell_type": "markdown",
      "metadata": {
        "id": "xpcq0W5adVgo"
      },
      "source": [
        "# S5 - Data Exploration,  Preprocessing and SCM examples\n",
        "Programming topics covered in this section:\n",
        "* Data preprocessing\n",
        "\n",
        "Examples include:\n",
        "* Exploring Supply Chain health commodity shipment and pricing data"
      ]
    },
    {
      "cell_type": "code",
      "metadata": {
        "id": "CWUOy93mdlkW"
      },
      "source": [
        "import pandas as pd"
      ],
      "execution_count": 2,
      "outputs": []
    },
    {
      "cell_type": "markdown",
      "metadata": {
        "id": "3o-4MMzmdVg0"
      },
      "source": [
        "## 1. Importing data and creating a report\n",
        "In this exercise, we will explore some adapted data set which provides supply chain health commodity shipment and pricing data. Specifically, the data set identifies Antiretroviral (ARV) and HIV lab shipments to supported countries. In addition, the data set provides the commodity pricing and associated supply chain expenses necessary to move the commodities to countries for use. The original data are provided by the US Agency for International Development and can be accessed at [this page](https://catalog.data.gov/dataset/supply-chain-shipment-pricing-data).\n",
        "\n",
        "This is a description of our adapted data in the file `SCMS_Delivery_History_Dataset.csv`.\n",
        "\n",
        "| VARIABLE NAME | DESCRIPTION | \n",
        "|:----|:----|\n",
        "|id| identification number|\n",
        "|project code|identification of the project|\n",
        "|country|country to which the items are shipped|\n",
        "|vendor|identification of the vendor of the item|\n",
        "|manufacturing site|name of the manufacturer of the item|\n",
        "|shipment mode|transportation mode (e.g., air, truck)|\n",
        "|scheduled delivery date|programmed date for delivery|\n",
        "|delivered to client date|real date of delivery|\n",
        "|delivery recorded date|registered date of delivery|\n",
        "|product group|main category of the item|\n",
        "|product subgroup|subcategory of the item (e.g., HIV test, pediatric, Adult) |\n",
        "|molecule type|description of the composition of the item (e.g., Nevirapine, HIV 1/2, Didanosine)|\n",
        "|brand| item brand (e.g, generic or any other commercial brand)|\n",
        "|dosage| specifications about the dosage of each item (e.g.,10mg/ml, 200mg)|\n",
        "|dosage form|instructions for consumption (e.g., capsule, tablet, oral solution) |\n",
        "|units per pack| number of units in each package|\n",
        "|quantity pack sold| number of packages shipped to the specified country|\n",
        "|value sold| total value in $\\$$ USD of the shipment (i.e., pack_price * quantity pack sold|\n",
        "|pack price| price in $\\$$ USD per package|\n",
        "|unit price| price in $\\$$ USD per unit|\n",
        "|weight (kilograms)| total weight in kilograms of the shipment|\n",
        "|freight cost (usd)| value in $\\$$USD paid for transportation|\n",
        "|insurance (usd)|value in $\\$$USD paid for insurance|\n",
        "\n",
        "\n",
        "\n",
        "Let's import our data."
      ]
    },
    {
      "cell_type": "code",
      "metadata": {
        "scrolled": true,
        "colab": {
          "base_uri": "https://localhost:8080/",
          "height": 842
        },
        "id": "8cvKdP0cdVg0",
        "outputId": "11e1e571-e3ab-4e9c-8d92-5eb858341c40"
      },
      "source": [
        "url = 'https://raw.githubusercontent.com/acedesci/scanalytics/master/S05_Data_Preprocessing/Supply_Chain_Shipment_Pricing_Data.csv'\n",
        "df_SC = pd.read_csv(url)  # reading data file into a DataFrame\n",
        "print(df_SC.columns)\n",
        "# To avoid an issue of having space in the name and to improve \"codability\", \n",
        "# we replace the space and remove special characters from the column names \n",
        "\n",
        "df_SC.columns = df_SC.columns.str.replace(' ', '_')\n",
        "df_SC.columns = df_SC.columns.str.replace('(', '')\n",
        "df_SC.columns = df_SC.columns.str.replace(')', '')\n",
        "df_SC.columns = df_SC.columns.str.replace('#', '')\n",
        "df_SC.columns = df_SC.columns.str.replace('/', '')\n",
        "\n",
        "df_SC"
      ],
      "execution_count": 3,
      "outputs": [
        {
          "output_type": "stream",
          "text": [
            "Index(['id', 'project code', 'pq #', 'po / so #', 'asn/dn #', 'country',\n",
            "       'managed by', 'fulfill via', 'vendor inco term', 'shipment mode',\n",
            "       'pq first sent to client date', 'po sent to vendor date',\n",
            "       'scheduled delivery date', 'delivered to client date',\n",
            "       'delivery recorded date', 'product group', 'sub classification',\n",
            "       'vendor', 'item description', 'molecule/test type', 'brand', 'dosage',\n",
            "       'dosage form', 'unit of measure (per pack)', 'line item quantity',\n",
            "       'line item value', 'pack price', 'unit price', 'manufacturing site',\n",
            "       'first line designation', 'weight (kilograms)', 'freight cost (usd)',\n",
            "       'line item insurance (usd)'],\n",
            "      dtype='object')\n"
          ],
          "name": "stdout"
        },
        {
          "output_type": "execute_result",
          "data": {
            "text/html": [
              "<div>\n",
              "<style scoped>\n",
              "    .dataframe tbody tr th:only-of-type {\n",
              "        vertical-align: middle;\n",
              "    }\n",
              "\n",
              "    .dataframe tbody tr th {\n",
              "        vertical-align: top;\n",
              "    }\n",
              "\n",
              "    .dataframe thead th {\n",
              "        text-align: right;\n",
              "    }\n",
              "</style>\n",
              "<table border=\"1\" class=\"dataframe\">\n",
              "  <thead>\n",
              "    <tr style=\"text-align: right;\">\n",
              "      <th></th>\n",
              "      <th>id</th>\n",
              "      <th>project_code</th>\n",
              "      <th>pq_</th>\n",
              "      <th>po__so_</th>\n",
              "      <th>asndn_</th>\n",
              "      <th>country</th>\n",
              "      <th>managed_by</th>\n",
              "      <th>fulfill_via</th>\n",
              "      <th>vendor_inco_term</th>\n",
              "      <th>shipment_mode</th>\n",
              "      <th>pq_first_sent_to_client_date</th>\n",
              "      <th>po_sent_to_vendor_date</th>\n",
              "      <th>scheduled_delivery_date</th>\n",
              "      <th>delivered_to_client_date</th>\n",
              "      <th>delivery_recorded_date</th>\n",
              "      <th>product_group</th>\n",
              "      <th>sub_classification</th>\n",
              "      <th>vendor</th>\n",
              "      <th>item_description</th>\n",
              "      <th>moleculetest_type</th>\n",
              "      <th>brand</th>\n",
              "      <th>dosage</th>\n",
              "      <th>dosage_form</th>\n",
              "      <th>unit_of_measure_per_pack</th>\n",
              "      <th>line_item_quantity</th>\n",
              "      <th>line_item_value</th>\n",
              "      <th>pack_price</th>\n",
              "      <th>unit_price</th>\n",
              "      <th>manufacturing_site</th>\n",
              "      <th>first_line_designation</th>\n",
              "      <th>weight_kilograms</th>\n",
              "      <th>freight_cost_usd</th>\n",
              "      <th>line_item_insurance_usd</th>\n",
              "    </tr>\n",
              "  </thead>\n",
              "  <tbody>\n",
              "    <tr>\n",
              "      <th>0</th>\n",
              "      <td>1</td>\n",
              "      <td>100-CI-T01</td>\n",
              "      <td>Pre-PQ Process</td>\n",
              "      <td>SCMS-4</td>\n",
              "      <td>ASN-8</td>\n",
              "      <td>Côte d'Ivoire</td>\n",
              "      <td>PMO - US</td>\n",
              "      <td>Direct Drop</td>\n",
              "      <td>EXW</td>\n",
              "      <td>Air</td>\n",
              "      <td>Pre-PQ Process</td>\n",
              "      <td>Date Not Captured</td>\n",
              "      <td>2-Jun-06</td>\n",
              "      <td>2-Jun-06</td>\n",
              "      <td>2-Jun-06</td>\n",
              "      <td>HRDT</td>\n",
              "      <td>HIV test</td>\n",
              "      <td>RANBAXY Fine Chemicals LTD.</td>\n",
              "      <td>HIV, Reveal G3 Rapid HIV-1 Antibody Test, 30 T...</td>\n",
              "      <td>HIV, Reveal G3 Rapid HIV-1 Antibody Test</td>\n",
              "      <td>Reveal</td>\n",
              "      <td>NaN</td>\n",
              "      <td>Test kit</td>\n",
              "      <td>30</td>\n",
              "      <td>19</td>\n",
              "      <td>551.00</td>\n",
              "      <td>29.00</td>\n",
              "      <td>0.97</td>\n",
              "      <td>Ranbaxy Fine Chemicals LTD</td>\n",
              "      <td>True</td>\n",
              "      <td>13</td>\n",
              "      <td>780.34</td>\n",
              "      <td>NaN</td>\n",
              "    </tr>\n",
              "    <tr>\n",
              "      <th>1</th>\n",
              "      <td>3</td>\n",
              "      <td>108-VN-T01</td>\n",
              "      <td>Pre-PQ Process</td>\n",
              "      <td>SCMS-13</td>\n",
              "      <td>ASN-85</td>\n",
              "      <td>Vietnam</td>\n",
              "      <td>PMO - US</td>\n",
              "      <td>Direct Drop</td>\n",
              "      <td>EXW</td>\n",
              "      <td>Air</td>\n",
              "      <td>Pre-PQ Process</td>\n",
              "      <td>Date Not Captured</td>\n",
              "      <td>14-Nov-06</td>\n",
              "      <td>14-Nov-06</td>\n",
              "      <td>14-Nov-06</td>\n",
              "      <td>ARV</td>\n",
              "      <td>Pediatric</td>\n",
              "      <td>Aurobindo Pharma Limited</td>\n",
              "      <td>Nevirapine 10mg/ml, oral suspension, Bottle, 2...</td>\n",
              "      <td>Nevirapine</td>\n",
              "      <td>Generic</td>\n",
              "      <td>10mg/ml</td>\n",
              "      <td>Oral suspension</td>\n",
              "      <td>240</td>\n",
              "      <td>1000</td>\n",
              "      <td>6200.00</td>\n",
              "      <td>6.20</td>\n",
              "      <td>0.03</td>\n",
              "      <td>Aurobindo Unit III, India</td>\n",
              "      <td>True</td>\n",
              "      <td>358</td>\n",
              "      <td>4521.5</td>\n",
              "      <td>NaN</td>\n",
              "    </tr>\n",
              "    <tr>\n",
              "      <th>2</th>\n",
              "      <td>4</td>\n",
              "      <td>100-CI-T01</td>\n",
              "      <td>Pre-PQ Process</td>\n",
              "      <td>SCMS-20</td>\n",
              "      <td>ASN-14</td>\n",
              "      <td>Côte d'Ivoire</td>\n",
              "      <td>PMO - US</td>\n",
              "      <td>Direct Drop</td>\n",
              "      <td>FCA</td>\n",
              "      <td>Air</td>\n",
              "      <td>Pre-PQ Process</td>\n",
              "      <td>Date Not Captured</td>\n",
              "      <td>27-Aug-06</td>\n",
              "      <td>27-Aug-06</td>\n",
              "      <td>27-Aug-06</td>\n",
              "      <td>HRDT</td>\n",
              "      <td>HIV test</td>\n",
              "      <td>Abbott GmbH &amp; Co. KG</td>\n",
              "      <td>HIV 1/2, Determine Complete HIV Kit, 100 Tests</td>\n",
              "      <td>HIV 1/2, Determine Complete HIV Kit</td>\n",
              "      <td>Determine</td>\n",
              "      <td>NaN</td>\n",
              "      <td>Test kit</td>\n",
              "      <td>100</td>\n",
              "      <td>500</td>\n",
              "      <td>40000.00</td>\n",
              "      <td>80.00</td>\n",
              "      <td>0.80</td>\n",
              "      <td>ABBVIE GmbH &amp; Co.KG Wiesbaden</td>\n",
              "      <td>True</td>\n",
              "      <td>171</td>\n",
              "      <td>1653.78</td>\n",
              "      <td>NaN</td>\n",
              "    </tr>\n",
              "    <tr>\n",
              "      <th>3</th>\n",
              "      <td>15</td>\n",
              "      <td>108-VN-T01</td>\n",
              "      <td>Pre-PQ Process</td>\n",
              "      <td>SCMS-78</td>\n",
              "      <td>ASN-50</td>\n",
              "      <td>Vietnam</td>\n",
              "      <td>PMO - US</td>\n",
              "      <td>Direct Drop</td>\n",
              "      <td>EXW</td>\n",
              "      <td>Air</td>\n",
              "      <td>Pre-PQ Process</td>\n",
              "      <td>Date Not Captured</td>\n",
              "      <td>1-Sep-06</td>\n",
              "      <td>1-Sep-06</td>\n",
              "      <td>1-Sep-06</td>\n",
              "      <td>ARV</td>\n",
              "      <td>Adult</td>\n",
              "      <td>SUN PHARMACEUTICAL INDUSTRIES LTD (RANBAXY LAB...</td>\n",
              "      <td>Lamivudine 150mg, tablets, 60 Tabs</td>\n",
              "      <td>Lamivudine</td>\n",
              "      <td>Generic</td>\n",
              "      <td>150mg</td>\n",
              "      <td>Tablet</td>\n",
              "      <td>60</td>\n",
              "      <td>31920</td>\n",
              "      <td>127360.80</td>\n",
              "      <td>3.99</td>\n",
              "      <td>0.07</td>\n",
              "      <td>Ranbaxy, Paonta Shahib, India</td>\n",
              "      <td>True</td>\n",
              "      <td>1855</td>\n",
              "      <td>16007.06</td>\n",
              "      <td>NaN</td>\n",
              "    </tr>\n",
              "    <tr>\n",
              "      <th>4</th>\n",
              "      <td>16</td>\n",
              "      <td>108-VN-T01</td>\n",
              "      <td>Pre-PQ Process</td>\n",
              "      <td>SCMS-81</td>\n",
              "      <td>ASN-55</td>\n",
              "      <td>Vietnam</td>\n",
              "      <td>PMO - US</td>\n",
              "      <td>Direct Drop</td>\n",
              "      <td>EXW</td>\n",
              "      <td>Air</td>\n",
              "      <td>Pre-PQ Process</td>\n",
              "      <td>Date Not Captured</td>\n",
              "      <td>11-Aug-06</td>\n",
              "      <td>11-Aug-06</td>\n",
              "      <td>11-Aug-06</td>\n",
              "      <td>ARV</td>\n",
              "      <td>Adult</td>\n",
              "      <td>Aurobindo Pharma Limited</td>\n",
              "      <td>Stavudine 30mg, capsules, 60 Caps</td>\n",
              "      <td>Stavudine</td>\n",
              "      <td>Generic</td>\n",
              "      <td>30mg</td>\n",
              "      <td>Capsule</td>\n",
              "      <td>60</td>\n",
              "      <td>38000</td>\n",
              "      <td>121600.00</td>\n",
              "      <td>3.20</td>\n",
              "      <td>0.05</td>\n",
              "      <td>Aurobindo Unit III, India</td>\n",
              "      <td>True</td>\n",
              "      <td>7590</td>\n",
              "      <td>45450.08</td>\n",
              "      <td>NaN</td>\n",
              "    </tr>\n",
              "    <tr>\n",
              "      <th>...</th>\n",
              "      <td>...</td>\n",
              "      <td>...</td>\n",
              "      <td>...</td>\n",
              "      <td>...</td>\n",
              "      <td>...</td>\n",
              "      <td>...</td>\n",
              "      <td>...</td>\n",
              "      <td>...</td>\n",
              "      <td>...</td>\n",
              "      <td>...</td>\n",
              "      <td>...</td>\n",
              "      <td>...</td>\n",
              "      <td>...</td>\n",
              "      <td>...</td>\n",
              "      <td>...</td>\n",
              "      <td>...</td>\n",
              "      <td>...</td>\n",
              "      <td>...</td>\n",
              "      <td>...</td>\n",
              "      <td>...</td>\n",
              "      <td>...</td>\n",
              "      <td>...</td>\n",
              "      <td>...</td>\n",
              "      <td>...</td>\n",
              "      <td>...</td>\n",
              "      <td>...</td>\n",
              "      <td>...</td>\n",
              "      <td>...</td>\n",
              "      <td>...</td>\n",
              "      <td>...</td>\n",
              "      <td>...</td>\n",
              "      <td>...</td>\n",
              "      <td>...</td>\n",
              "    </tr>\n",
              "    <tr>\n",
              "      <th>10319</th>\n",
              "      <td>86818</td>\n",
              "      <td>103-ZW-T30</td>\n",
              "      <td>FPQ-15197</td>\n",
              "      <td>SO-50020</td>\n",
              "      <td>DN-4307</td>\n",
              "      <td>Zimbabwe</td>\n",
              "      <td>PMO - US</td>\n",
              "      <td>From RDC</td>\n",
              "      <td>N/A - From RDC</td>\n",
              "      <td>Truck</td>\n",
              "      <td>10/16/2014</td>\n",
              "      <td>N/A - From RDC</td>\n",
              "      <td>31-Jul-15</td>\n",
              "      <td>15-Jul-15</td>\n",
              "      <td>20-Jul-15</td>\n",
              "      <td>ARV</td>\n",
              "      <td>Pediatric</td>\n",
              "      <td>SCMS from RDC</td>\n",
              "      <td>Lamivudine/Nevirapine/Zidovudine 30/50/60mg, d...</td>\n",
              "      <td>Lamivudine/Nevirapine/Zidovudine</td>\n",
              "      <td>Generic</td>\n",
              "      <td>30/50/60mg</td>\n",
              "      <td>Chewable/dispersible tablet - FDC</td>\n",
              "      <td>60</td>\n",
              "      <td>166571</td>\n",
              "      <td>599655.60</td>\n",
              "      <td>3.60</td>\n",
              "      <td>0.06</td>\n",
              "      <td>Mylan,  H-12 &amp; H-13, India</td>\n",
              "      <td>False</td>\n",
              "      <td>See DN-4307 (ID#:83920)</td>\n",
              "      <td>See DN-4307 (ID#:83920)</td>\n",
              "      <td>705.79</td>\n",
              "    </tr>\n",
              "    <tr>\n",
              "      <th>10320</th>\n",
              "      <td>86819</td>\n",
              "      <td>104-CI-T30</td>\n",
              "      <td>FPQ-15259</td>\n",
              "      <td>SO-50102</td>\n",
              "      <td>DN-4313</td>\n",
              "      <td>Côte d'Ivoire</td>\n",
              "      <td>PMO - US</td>\n",
              "      <td>From RDC</td>\n",
              "      <td>N/A - From RDC</td>\n",
              "      <td>Truck</td>\n",
              "      <td>10/24/2014</td>\n",
              "      <td>N/A - From RDC</td>\n",
              "      <td>31-Jul-15</td>\n",
              "      <td>6-Aug-15</td>\n",
              "      <td>7-Aug-15</td>\n",
              "      <td>ARV</td>\n",
              "      <td>Adult</td>\n",
              "      <td>SCMS from RDC</td>\n",
              "      <td>Lamivudine/Zidovudine 150/300mg, tablets, 60 Tabs</td>\n",
              "      <td>Lamivudine/Zidovudine</td>\n",
              "      <td>Generic</td>\n",
              "      <td>150/300mg</td>\n",
              "      <td>Tablet - FDC</td>\n",
              "      <td>60</td>\n",
              "      <td>21072</td>\n",
              "      <td>137389.44</td>\n",
              "      <td>6.52</td>\n",
              "      <td>0.11</td>\n",
              "      <td>Hetero Unit III Hyderabad IN</td>\n",
              "      <td>False</td>\n",
              "      <td>See DN-4313 (ID#:83921)</td>\n",
              "      <td>See DN-4313 (ID#:83921)</td>\n",
              "      <td>161.71</td>\n",
              "    </tr>\n",
              "    <tr>\n",
              "      <th>10321</th>\n",
              "      <td>86821</td>\n",
              "      <td>110-ZM-T30</td>\n",
              "      <td>FPQ-14784</td>\n",
              "      <td>SO-49600</td>\n",
              "      <td>DN-4316</td>\n",
              "      <td>Zambia</td>\n",
              "      <td>PMO - US</td>\n",
              "      <td>From RDC</td>\n",
              "      <td>N/A - From RDC</td>\n",
              "      <td>Truck</td>\n",
              "      <td>8/12/2014</td>\n",
              "      <td>N/A - From RDC</td>\n",
              "      <td>31-Aug-15</td>\n",
              "      <td>25-Aug-15</td>\n",
              "      <td>3-Sep-15</td>\n",
              "      <td>ARV</td>\n",
              "      <td>Adult</td>\n",
              "      <td>SCMS from RDC</td>\n",
              "      <td>Efavirenz/Lamivudine/Tenofovir Disoproxil Fuma...</td>\n",
              "      <td>Efavirenz/Lamivudine/Tenofovir Disoproxil Fuma...</td>\n",
              "      <td>Generic</td>\n",
              "      <td>600/300/300mg</td>\n",
              "      <td>Tablet - FDC</td>\n",
              "      <td>30</td>\n",
              "      <td>514526</td>\n",
              "      <td>5140114.74</td>\n",
              "      <td>9.99</td>\n",
              "      <td>0.33</td>\n",
              "      <td>Cipla Ltd A-42 MIDC Mahar. IN</td>\n",
              "      <td>False</td>\n",
              "      <td>Weight Captured Separately</td>\n",
              "      <td>Freight Included in Commodity Cost</td>\n",
              "      <td>5284.04</td>\n",
              "    </tr>\n",
              "    <tr>\n",
              "      <th>10322</th>\n",
              "      <td>86822</td>\n",
              "      <td>200-ZW-T30</td>\n",
              "      <td>FPQ-16523</td>\n",
              "      <td>SO-51680</td>\n",
              "      <td>DN-4334</td>\n",
              "      <td>Zimbabwe</td>\n",
              "      <td>PMO - US</td>\n",
              "      <td>From RDC</td>\n",
              "      <td>N/A - From RDC</td>\n",
              "      <td>Truck</td>\n",
              "      <td>7/1/2015</td>\n",
              "      <td>N/A - From RDC</td>\n",
              "      <td>9-Sep-15</td>\n",
              "      <td>4-Aug-15</td>\n",
              "      <td>11-Aug-15</td>\n",
              "      <td>ARV</td>\n",
              "      <td>Adult</td>\n",
              "      <td>SCMS from RDC</td>\n",
              "      <td>Lamivudine/Zidovudine 150/300mg, tablets, 60 Tabs</td>\n",
              "      <td>Lamivudine/Zidovudine</td>\n",
              "      <td>Generic</td>\n",
              "      <td>150/300mg</td>\n",
              "      <td>Tablet - FDC</td>\n",
              "      <td>60</td>\n",
              "      <td>17465</td>\n",
              "      <td>113871.80</td>\n",
              "      <td>6.52</td>\n",
              "      <td>0.11</td>\n",
              "      <td>Mylan (formerly Matrix) Nashik</td>\n",
              "      <td>True</td>\n",
              "      <td>1392</td>\n",
              "      <td>Freight Included in Commodity Cost</td>\n",
              "      <td>134.03</td>\n",
              "    </tr>\n",
              "    <tr>\n",
              "      <th>10323</th>\n",
              "      <td>86823</td>\n",
              "      <td>103-ZW-T30</td>\n",
              "      <td>FPQ-15197</td>\n",
              "      <td>SO-50022</td>\n",
              "      <td>DN-4336</td>\n",
              "      <td>Zimbabwe</td>\n",
              "      <td>PMO - US</td>\n",
              "      <td>From RDC</td>\n",
              "      <td>N/A - From RDC</td>\n",
              "      <td>Truck</td>\n",
              "      <td>10/16/2014</td>\n",
              "      <td>N/A - From RDC</td>\n",
              "      <td>31-Aug-15</td>\n",
              "      <td>4-Aug-15</td>\n",
              "      <td>11-Aug-15</td>\n",
              "      <td>ARV</td>\n",
              "      <td>Pediatric</td>\n",
              "      <td>SCMS from RDC</td>\n",
              "      <td>Lamivudine/Zidovudine 30/60mg, dispersible tab...</td>\n",
              "      <td>Lamivudine/Zidovudine</td>\n",
              "      <td>Generic</td>\n",
              "      <td>30/60mg</td>\n",
              "      <td>Chewable/dispersible tablet - FDC</td>\n",
              "      <td>60</td>\n",
              "      <td>36639</td>\n",
              "      <td>72911.61</td>\n",
              "      <td>1.99</td>\n",
              "      <td>0.03</td>\n",
              "      <td>Cipla, Goa, India</td>\n",
              "      <td>False</td>\n",
              "      <td>Weight Captured Separately</td>\n",
              "      <td>Freight Included in Commodity Cost</td>\n",
              "      <td>85.82</td>\n",
              "    </tr>\n",
              "  </tbody>\n",
              "</table>\n",
              "<p>10324 rows × 33 columns</p>\n",
              "</div>"
            ],
            "text/plain": [
              "          id  ... line_item_insurance_usd\n",
              "0          1  ...                     NaN\n",
              "1          3  ...                     NaN\n",
              "2          4  ...                     NaN\n",
              "3         15  ...                     NaN\n",
              "4         16  ...                     NaN\n",
              "...      ...  ...                     ...\n",
              "10319  86818  ...                  705.79\n",
              "10320  86819  ...                  161.71\n",
              "10321  86821  ...                 5284.04\n",
              "10322  86822  ...                  134.03\n",
              "10323  86823  ...                   85.82\n",
              "\n",
              "[10324 rows x 33 columns]"
            ]
          },
          "metadata": {
            "tags": []
          },
          "execution_count": 3
        }
      ]
    },
    {
      "cell_type": "markdown",
      "metadata": {
        "id": "1nyoij1WqGs3"
      },
      "source": [
        "As the table is relatively large, we only choose our column of interest to be put in the DataFrame:\r\n",
        "\r\n"
      ]
    },
    {
      "cell_type": "code",
      "metadata": {
        "colab": {
          "base_uri": "https://localhost:8080/",
          "height": 651
        },
        "id": "NDYrEy_9qWhz",
        "outputId": "9130d12c-c7ce-4059-cd22-817e345dd58d"
      },
      "source": [
        "selected_columns = ['id', 'country', 'shipment_mode', 'scheduled_delivery_date', 'sub_classification',\r\n",
        "       'vendor', 'item_description', 'brand', 'line_item_quantity',\r\n",
        "       'line_item_value', 'unit_price', 'weight_kilograms', 'freight_cost_usd',\r\n",
        "       'line_item_insurance_usd']\r\n",
        "\r\n",
        "df_SC = df_SC[selected_columns].copy() # we make a copy of this to avoid any issue\r\n",
        "df_SC"
      ],
      "execution_count": 4,
      "outputs": [
        {
          "output_type": "execute_result",
          "data": {
            "text/html": [
              "<div>\n",
              "<style scoped>\n",
              "    .dataframe tbody tr th:only-of-type {\n",
              "        vertical-align: middle;\n",
              "    }\n",
              "\n",
              "    .dataframe tbody tr th {\n",
              "        vertical-align: top;\n",
              "    }\n",
              "\n",
              "    .dataframe thead th {\n",
              "        text-align: right;\n",
              "    }\n",
              "</style>\n",
              "<table border=\"1\" class=\"dataframe\">\n",
              "  <thead>\n",
              "    <tr style=\"text-align: right;\">\n",
              "      <th></th>\n",
              "      <th>id</th>\n",
              "      <th>country</th>\n",
              "      <th>shipment_mode</th>\n",
              "      <th>scheduled_delivery_date</th>\n",
              "      <th>sub_classification</th>\n",
              "      <th>vendor</th>\n",
              "      <th>item_description</th>\n",
              "      <th>brand</th>\n",
              "      <th>line_item_quantity</th>\n",
              "      <th>line_item_value</th>\n",
              "      <th>unit_price</th>\n",
              "      <th>weight_kilograms</th>\n",
              "      <th>freight_cost_usd</th>\n",
              "      <th>line_item_insurance_usd</th>\n",
              "    </tr>\n",
              "  </thead>\n",
              "  <tbody>\n",
              "    <tr>\n",
              "      <th>0</th>\n",
              "      <td>1</td>\n",
              "      <td>Côte d'Ivoire</td>\n",
              "      <td>Air</td>\n",
              "      <td>2-Jun-06</td>\n",
              "      <td>HIV test</td>\n",
              "      <td>RANBAXY Fine Chemicals LTD.</td>\n",
              "      <td>HIV, Reveal G3 Rapid HIV-1 Antibody Test, 30 T...</td>\n",
              "      <td>Reveal</td>\n",
              "      <td>19</td>\n",
              "      <td>551.00</td>\n",
              "      <td>0.97</td>\n",
              "      <td>13</td>\n",
              "      <td>780.34</td>\n",
              "      <td>NaN</td>\n",
              "    </tr>\n",
              "    <tr>\n",
              "      <th>1</th>\n",
              "      <td>3</td>\n",
              "      <td>Vietnam</td>\n",
              "      <td>Air</td>\n",
              "      <td>14-Nov-06</td>\n",
              "      <td>Pediatric</td>\n",
              "      <td>Aurobindo Pharma Limited</td>\n",
              "      <td>Nevirapine 10mg/ml, oral suspension, Bottle, 2...</td>\n",
              "      <td>Generic</td>\n",
              "      <td>1000</td>\n",
              "      <td>6200.00</td>\n",
              "      <td>0.03</td>\n",
              "      <td>358</td>\n",
              "      <td>4521.5</td>\n",
              "      <td>NaN</td>\n",
              "    </tr>\n",
              "    <tr>\n",
              "      <th>2</th>\n",
              "      <td>4</td>\n",
              "      <td>Côte d'Ivoire</td>\n",
              "      <td>Air</td>\n",
              "      <td>27-Aug-06</td>\n",
              "      <td>HIV test</td>\n",
              "      <td>Abbott GmbH &amp; Co. KG</td>\n",
              "      <td>HIV 1/2, Determine Complete HIV Kit, 100 Tests</td>\n",
              "      <td>Determine</td>\n",
              "      <td>500</td>\n",
              "      <td>40000.00</td>\n",
              "      <td>0.80</td>\n",
              "      <td>171</td>\n",
              "      <td>1653.78</td>\n",
              "      <td>NaN</td>\n",
              "    </tr>\n",
              "    <tr>\n",
              "      <th>3</th>\n",
              "      <td>15</td>\n",
              "      <td>Vietnam</td>\n",
              "      <td>Air</td>\n",
              "      <td>1-Sep-06</td>\n",
              "      <td>Adult</td>\n",
              "      <td>SUN PHARMACEUTICAL INDUSTRIES LTD (RANBAXY LAB...</td>\n",
              "      <td>Lamivudine 150mg, tablets, 60 Tabs</td>\n",
              "      <td>Generic</td>\n",
              "      <td>31920</td>\n",
              "      <td>127360.80</td>\n",
              "      <td>0.07</td>\n",
              "      <td>1855</td>\n",
              "      <td>16007.06</td>\n",
              "      <td>NaN</td>\n",
              "    </tr>\n",
              "    <tr>\n",
              "      <th>4</th>\n",
              "      <td>16</td>\n",
              "      <td>Vietnam</td>\n",
              "      <td>Air</td>\n",
              "      <td>11-Aug-06</td>\n",
              "      <td>Adult</td>\n",
              "      <td>Aurobindo Pharma Limited</td>\n",
              "      <td>Stavudine 30mg, capsules, 60 Caps</td>\n",
              "      <td>Generic</td>\n",
              "      <td>38000</td>\n",
              "      <td>121600.00</td>\n",
              "      <td>0.05</td>\n",
              "      <td>7590</td>\n",
              "      <td>45450.08</td>\n",
              "      <td>NaN</td>\n",
              "    </tr>\n",
              "    <tr>\n",
              "      <th>...</th>\n",
              "      <td>...</td>\n",
              "      <td>...</td>\n",
              "      <td>...</td>\n",
              "      <td>...</td>\n",
              "      <td>...</td>\n",
              "      <td>...</td>\n",
              "      <td>...</td>\n",
              "      <td>...</td>\n",
              "      <td>...</td>\n",
              "      <td>...</td>\n",
              "      <td>...</td>\n",
              "      <td>...</td>\n",
              "      <td>...</td>\n",
              "      <td>...</td>\n",
              "    </tr>\n",
              "    <tr>\n",
              "      <th>10319</th>\n",
              "      <td>86818</td>\n",
              "      <td>Zimbabwe</td>\n",
              "      <td>Truck</td>\n",
              "      <td>31-Jul-15</td>\n",
              "      <td>Pediatric</td>\n",
              "      <td>SCMS from RDC</td>\n",
              "      <td>Lamivudine/Nevirapine/Zidovudine 30/50/60mg, d...</td>\n",
              "      <td>Generic</td>\n",
              "      <td>166571</td>\n",
              "      <td>599655.60</td>\n",
              "      <td>0.06</td>\n",
              "      <td>See DN-4307 (ID#:83920)</td>\n",
              "      <td>See DN-4307 (ID#:83920)</td>\n",
              "      <td>705.79</td>\n",
              "    </tr>\n",
              "    <tr>\n",
              "      <th>10320</th>\n",
              "      <td>86819</td>\n",
              "      <td>Côte d'Ivoire</td>\n",
              "      <td>Truck</td>\n",
              "      <td>31-Jul-15</td>\n",
              "      <td>Adult</td>\n",
              "      <td>SCMS from RDC</td>\n",
              "      <td>Lamivudine/Zidovudine 150/300mg, tablets, 60 Tabs</td>\n",
              "      <td>Generic</td>\n",
              "      <td>21072</td>\n",
              "      <td>137389.44</td>\n",
              "      <td>0.11</td>\n",
              "      <td>See DN-4313 (ID#:83921)</td>\n",
              "      <td>See DN-4313 (ID#:83921)</td>\n",
              "      <td>161.71</td>\n",
              "    </tr>\n",
              "    <tr>\n",
              "      <th>10321</th>\n",
              "      <td>86821</td>\n",
              "      <td>Zambia</td>\n",
              "      <td>Truck</td>\n",
              "      <td>31-Aug-15</td>\n",
              "      <td>Adult</td>\n",
              "      <td>SCMS from RDC</td>\n",
              "      <td>Efavirenz/Lamivudine/Tenofovir Disoproxil Fuma...</td>\n",
              "      <td>Generic</td>\n",
              "      <td>514526</td>\n",
              "      <td>5140114.74</td>\n",
              "      <td>0.33</td>\n",
              "      <td>Weight Captured Separately</td>\n",
              "      <td>Freight Included in Commodity Cost</td>\n",
              "      <td>5284.04</td>\n",
              "    </tr>\n",
              "    <tr>\n",
              "      <th>10322</th>\n",
              "      <td>86822</td>\n",
              "      <td>Zimbabwe</td>\n",
              "      <td>Truck</td>\n",
              "      <td>9-Sep-15</td>\n",
              "      <td>Adult</td>\n",
              "      <td>SCMS from RDC</td>\n",
              "      <td>Lamivudine/Zidovudine 150/300mg, tablets, 60 Tabs</td>\n",
              "      <td>Generic</td>\n",
              "      <td>17465</td>\n",
              "      <td>113871.80</td>\n",
              "      <td>0.11</td>\n",
              "      <td>1392</td>\n",
              "      <td>Freight Included in Commodity Cost</td>\n",
              "      <td>134.03</td>\n",
              "    </tr>\n",
              "    <tr>\n",
              "      <th>10323</th>\n",
              "      <td>86823</td>\n",
              "      <td>Zimbabwe</td>\n",
              "      <td>Truck</td>\n",
              "      <td>31-Aug-15</td>\n",
              "      <td>Pediatric</td>\n",
              "      <td>SCMS from RDC</td>\n",
              "      <td>Lamivudine/Zidovudine 30/60mg, dispersible tab...</td>\n",
              "      <td>Generic</td>\n",
              "      <td>36639</td>\n",
              "      <td>72911.61</td>\n",
              "      <td>0.03</td>\n",
              "      <td>Weight Captured Separately</td>\n",
              "      <td>Freight Included in Commodity Cost</td>\n",
              "      <td>85.82</td>\n",
              "    </tr>\n",
              "  </tbody>\n",
              "</table>\n",
              "<p>10324 rows × 14 columns</p>\n",
              "</div>"
            ],
            "text/plain": [
              "          id  ... line_item_insurance_usd\n",
              "0          1  ...                     NaN\n",
              "1          3  ...                     NaN\n",
              "2          4  ...                     NaN\n",
              "3         15  ...                     NaN\n",
              "4         16  ...                     NaN\n",
              "...      ...  ...                     ...\n",
              "10319  86818  ...                  705.79\n",
              "10320  86819  ...                  161.71\n",
              "10321  86821  ...                 5284.04\n",
              "10322  86822  ...                  134.03\n",
              "10323  86823  ...                   85.82\n",
              "\n",
              "[10324 rows x 14 columns]"
            ]
          },
          "metadata": {
            "tags": []
          },
          "execution_count": 4
        }
      ]
    },
    {
      "cell_type": "markdown",
      "metadata": {
        "id": "K8XincjduqNj"
      },
      "source": [
        "The column `item_description` provides the description of product. However, we can also assign a unique (distinct) number to each product as well. `pandas` offers a function to create a list of unique ID and map this to the original column by using `factorize` method ([link](https://pandas.pydata.org/pandas-docs/stable/reference/api/pandas.factorize.html)). This can be done as follows."
      ]
    },
    {
      "cell_type": "code",
      "metadata": {
        "id": "PQLAseuNupUA"
      },
      "source": [
        "# `codes` gives a list of new values after mapping and `uniques` gives the list of unique values\r\n",
        "codes, uniques = pd.factorize(df_SC['item_description']) \r\n",
        "# we now modify the ID a bit and put in the format of 'SKU0000'\r\n",
        "codes = [\"SKU\"+'{:04d}'.format(i) for i in codes]\r\n"
      ],
      "execution_count": 5,
      "outputs": []
    },
    {
      "cell_type": "markdown",
      "metadata": {
        "id": "mGrxO85H0Oo-"
      },
      "source": [
        "We can then add a new column to the DataFrame in front of the `item_description` column "
      ]
    },
    {
      "cell_type": "code",
      "metadata": {
        "colab": {
          "base_uri": "https://localhost:8080/",
          "height": 651
        },
        "id": "SRQQ-uDl0SV7",
        "outputId": "96d1e8af-d57a-4429-d1c4-a3b6f17426bc"
      },
      "source": [
        "df_SC.insert(6,'item_id',codes)\r\n",
        "df_SC\r\n"
      ],
      "execution_count": 6,
      "outputs": [
        {
          "output_type": "execute_result",
          "data": {
            "text/html": [
              "<div>\n",
              "<style scoped>\n",
              "    .dataframe tbody tr th:only-of-type {\n",
              "        vertical-align: middle;\n",
              "    }\n",
              "\n",
              "    .dataframe tbody tr th {\n",
              "        vertical-align: top;\n",
              "    }\n",
              "\n",
              "    .dataframe thead th {\n",
              "        text-align: right;\n",
              "    }\n",
              "</style>\n",
              "<table border=\"1\" class=\"dataframe\">\n",
              "  <thead>\n",
              "    <tr style=\"text-align: right;\">\n",
              "      <th></th>\n",
              "      <th>id</th>\n",
              "      <th>country</th>\n",
              "      <th>shipment_mode</th>\n",
              "      <th>scheduled_delivery_date</th>\n",
              "      <th>sub_classification</th>\n",
              "      <th>vendor</th>\n",
              "      <th>item_id</th>\n",
              "      <th>item_description</th>\n",
              "      <th>brand</th>\n",
              "      <th>line_item_quantity</th>\n",
              "      <th>line_item_value</th>\n",
              "      <th>unit_price</th>\n",
              "      <th>weight_kilograms</th>\n",
              "      <th>freight_cost_usd</th>\n",
              "      <th>line_item_insurance_usd</th>\n",
              "    </tr>\n",
              "  </thead>\n",
              "  <tbody>\n",
              "    <tr>\n",
              "      <th>0</th>\n",
              "      <td>1</td>\n",
              "      <td>Côte d'Ivoire</td>\n",
              "      <td>Air</td>\n",
              "      <td>2-Jun-06</td>\n",
              "      <td>HIV test</td>\n",
              "      <td>RANBAXY Fine Chemicals LTD.</td>\n",
              "      <td>SKU0000</td>\n",
              "      <td>HIV, Reveal G3 Rapid HIV-1 Antibody Test, 30 T...</td>\n",
              "      <td>Reveal</td>\n",
              "      <td>19</td>\n",
              "      <td>551.00</td>\n",
              "      <td>0.97</td>\n",
              "      <td>13</td>\n",
              "      <td>780.34</td>\n",
              "      <td>NaN</td>\n",
              "    </tr>\n",
              "    <tr>\n",
              "      <th>1</th>\n",
              "      <td>3</td>\n",
              "      <td>Vietnam</td>\n",
              "      <td>Air</td>\n",
              "      <td>14-Nov-06</td>\n",
              "      <td>Pediatric</td>\n",
              "      <td>Aurobindo Pharma Limited</td>\n",
              "      <td>SKU0001</td>\n",
              "      <td>Nevirapine 10mg/ml, oral suspension, Bottle, 2...</td>\n",
              "      <td>Generic</td>\n",
              "      <td>1000</td>\n",
              "      <td>6200.00</td>\n",
              "      <td>0.03</td>\n",
              "      <td>358</td>\n",
              "      <td>4521.5</td>\n",
              "      <td>NaN</td>\n",
              "    </tr>\n",
              "    <tr>\n",
              "      <th>2</th>\n",
              "      <td>4</td>\n",
              "      <td>Côte d'Ivoire</td>\n",
              "      <td>Air</td>\n",
              "      <td>27-Aug-06</td>\n",
              "      <td>HIV test</td>\n",
              "      <td>Abbott GmbH &amp; Co. KG</td>\n",
              "      <td>SKU0002</td>\n",
              "      <td>HIV 1/2, Determine Complete HIV Kit, 100 Tests</td>\n",
              "      <td>Determine</td>\n",
              "      <td>500</td>\n",
              "      <td>40000.00</td>\n",
              "      <td>0.80</td>\n",
              "      <td>171</td>\n",
              "      <td>1653.78</td>\n",
              "      <td>NaN</td>\n",
              "    </tr>\n",
              "    <tr>\n",
              "      <th>3</th>\n",
              "      <td>15</td>\n",
              "      <td>Vietnam</td>\n",
              "      <td>Air</td>\n",
              "      <td>1-Sep-06</td>\n",
              "      <td>Adult</td>\n",
              "      <td>SUN PHARMACEUTICAL INDUSTRIES LTD (RANBAXY LAB...</td>\n",
              "      <td>SKU0003</td>\n",
              "      <td>Lamivudine 150mg, tablets, 60 Tabs</td>\n",
              "      <td>Generic</td>\n",
              "      <td>31920</td>\n",
              "      <td>127360.80</td>\n",
              "      <td>0.07</td>\n",
              "      <td>1855</td>\n",
              "      <td>16007.06</td>\n",
              "      <td>NaN</td>\n",
              "    </tr>\n",
              "    <tr>\n",
              "      <th>4</th>\n",
              "      <td>16</td>\n",
              "      <td>Vietnam</td>\n",
              "      <td>Air</td>\n",
              "      <td>11-Aug-06</td>\n",
              "      <td>Adult</td>\n",
              "      <td>Aurobindo Pharma Limited</td>\n",
              "      <td>SKU0004</td>\n",
              "      <td>Stavudine 30mg, capsules, 60 Caps</td>\n",
              "      <td>Generic</td>\n",
              "      <td>38000</td>\n",
              "      <td>121600.00</td>\n",
              "      <td>0.05</td>\n",
              "      <td>7590</td>\n",
              "      <td>45450.08</td>\n",
              "      <td>NaN</td>\n",
              "    </tr>\n",
              "    <tr>\n",
              "      <th>...</th>\n",
              "      <td>...</td>\n",
              "      <td>...</td>\n",
              "      <td>...</td>\n",
              "      <td>...</td>\n",
              "      <td>...</td>\n",
              "      <td>...</td>\n",
              "      <td>...</td>\n",
              "      <td>...</td>\n",
              "      <td>...</td>\n",
              "      <td>...</td>\n",
              "      <td>...</td>\n",
              "      <td>...</td>\n",
              "      <td>...</td>\n",
              "      <td>...</td>\n",
              "      <td>...</td>\n",
              "    </tr>\n",
              "    <tr>\n",
              "      <th>10319</th>\n",
              "      <td>86818</td>\n",
              "      <td>Zimbabwe</td>\n",
              "      <td>Truck</td>\n",
              "      <td>31-Jul-15</td>\n",
              "      <td>Pediatric</td>\n",
              "      <td>SCMS from RDC</td>\n",
              "      <td>SKU0140</td>\n",
              "      <td>Lamivudine/Nevirapine/Zidovudine 30/50/60mg, d...</td>\n",
              "      <td>Generic</td>\n",
              "      <td>166571</td>\n",
              "      <td>599655.60</td>\n",
              "      <td>0.06</td>\n",
              "      <td>See DN-4307 (ID#:83920)</td>\n",
              "      <td>See DN-4307 (ID#:83920)</td>\n",
              "      <td>705.79</td>\n",
              "    </tr>\n",
              "    <tr>\n",
              "      <th>10320</th>\n",
              "      <td>86819</td>\n",
              "      <td>Côte d'Ivoire</td>\n",
              "      <td>Truck</td>\n",
              "      <td>31-Jul-15</td>\n",
              "      <td>Adult</td>\n",
              "      <td>SCMS from RDC</td>\n",
              "      <td>SKU0011</td>\n",
              "      <td>Lamivudine/Zidovudine 150/300mg, tablets, 60 Tabs</td>\n",
              "      <td>Generic</td>\n",
              "      <td>21072</td>\n",
              "      <td>137389.44</td>\n",
              "      <td>0.11</td>\n",
              "      <td>See DN-4313 (ID#:83921)</td>\n",
              "      <td>See DN-4313 (ID#:83921)</td>\n",
              "      <td>161.71</td>\n",
              "    </tr>\n",
              "    <tr>\n",
              "      <th>10321</th>\n",
              "      <td>86821</td>\n",
              "      <td>Zambia</td>\n",
              "      <td>Truck</td>\n",
              "      <td>31-Aug-15</td>\n",
              "      <td>Adult</td>\n",
              "      <td>SCMS from RDC</td>\n",
              "      <td>SKU0113</td>\n",
              "      <td>Efavirenz/Lamivudine/Tenofovir Disoproxil Fuma...</td>\n",
              "      <td>Generic</td>\n",
              "      <td>514526</td>\n",
              "      <td>5140114.74</td>\n",
              "      <td>0.33</td>\n",
              "      <td>Weight Captured Separately</td>\n",
              "      <td>Freight Included in Commodity Cost</td>\n",
              "      <td>5284.04</td>\n",
              "    </tr>\n",
              "    <tr>\n",
              "      <th>10322</th>\n",
              "      <td>86822</td>\n",
              "      <td>Zimbabwe</td>\n",
              "      <td>Truck</td>\n",
              "      <td>9-Sep-15</td>\n",
              "      <td>Adult</td>\n",
              "      <td>SCMS from RDC</td>\n",
              "      <td>SKU0011</td>\n",
              "      <td>Lamivudine/Zidovudine 150/300mg, tablets, 60 Tabs</td>\n",
              "      <td>Generic</td>\n",
              "      <td>17465</td>\n",
              "      <td>113871.80</td>\n",
              "      <td>0.11</td>\n",
              "      <td>1392</td>\n",
              "      <td>Freight Included in Commodity Cost</td>\n",
              "      <td>134.03</td>\n",
              "    </tr>\n",
              "    <tr>\n",
              "      <th>10323</th>\n",
              "      <td>86823</td>\n",
              "      <td>Zimbabwe</td>\n",
              "      <td>Truck</td>\n",
              "      <td>31-Aug-15</td>\n",
              "      <td>Pediatric</td>\n",
              "      <td>SCMS from RDC</td>\n",
              "      <td>SKU0124</td>\n",
              "      <td>Lamivudine/Zidovudine 30/60mg, dispersible tab...</td>\n",
              "      <td>Generic</td>\n",
              "      <td>36639</td>\n",
              "      <td>72911.61</td>\n",
              "      <td>0.03</td>\n",
              "      <td>Weight Captured Separately</td>\n",
              "      <td>Freight Included in Commodity Cost</td>\n",
              "      <td>85.82</td>\n",
              "    </tr>\n",
              "  </tbody>\n",
              "</table>\n",
              "<p>10324 rows × 15 columns</p>\n",
              "</div>"
            ],
            "text/plain": [
              "          id  ... line_item_insurance_usd\n",
              "0          1  ...                     NaN\n",
              "1          3  ...                     NaN\n",
              "2          4  ...                     NaN\n",
              "3         15  ...                     NaN\n",
              "4         16  ...                     NaN\n",
              "...      ...  ...                     ...\n",
              "10319  86818  ...                  705.79\n",
              "10320  86819  ...                  161.71\n",
              "10321  86821  ...                 5284.04\n",
              "10322  86822  ...                  134.03\n",
              "10323  86823  ...                   85.82\n",
              "\n",
              "[10324 rows x 15 columns]"
            ]
          },
          "metadata": {
            "tags": []
          },
          "execution_count": 6
        }
      ]
    },
    {
      "cell_type": "markdown",
      "metadata": {
        "id": "y4HuG2H3dVjV"
      },
      "source": [
        "---\n",
        "## 2. Preprocessing Data"
      ]
    },
    {
      "cell_type": "markdown",
      "metadata": {
        "id": "_y7Cp120dvtH"
      },
      "source": [
        "We can use `df.describe()` function to show descriptive statistics of the numerical data"
      ]
    },
    {
      "cell_type": "code",
      "metadata": {
        "colab": {
          "base_uri": "https://localhost:8080/",
          "height": 300
        },
        "id": "lgYsLH2VdVjW",
        "outputId": "c211bad2-5e1a-4aa5-a53f-6bb34e8dcd40"
      },
      "source": [
        "df_SC.describe()"
      ],
      "execution_count": 7,
      "outputs": [
        {
          "output_type": "execute_result",
          "data": {
            "text/html": [
              "<div>\n",
              "<style scoped>\n",
              "    .dataframe tbody tr th:only-of-type {\n",
              "        vertical-align: middle;\n",
              "    }\n",
              "\n",
              "    .dataframe tbody tr th {\n",
              "        vertical-align: top;\n",
              "    }\n",
              "\n",
              "    .dataframe thead th {\n",
              "        text-align: right;\n",
              "    }\n",
              "</style>\n",
              "<table border=\"1\" class=\"dataframe\">\n",
              "  <thead>\n",
              "    <tr style=\"text-align: right;\">\n",
              "      <th></th>\n",
              "      <th>id</th>\n",
              "      <th>line_item_quantity</th>\n",
              "      <th>line_item_value</th>\n",
              "      <th>unit_price</th>\n",
              "      <th>line_item_insurance_usd</th>\n",
              "    </tr>\n",
              "  </thead>\n",
              "  <tbody>\n",
              "    <tr>\n",
              "      <th>count</th>\n",
              "      <td>10324.000000</td>\n",
              "      <td>10324.000000</td>\n",
              "      <td>1.032400e+04</td>\n",
              "      <td>10324.000000</td>\n",
              "      <td>10037.000000</td>\n",
              "    </tr>\n",
              "    <tr>\n",
              "      <th>mean</th>\n",
              "      <td>51098.968229</td>\n",
              "      <td>18332.534870</td>\n",
              "      <td>1.576506e+05</td>\n",
              "      <td>0.611701</td>\n",
              "      <td>240.117626</td>\n",
              "    </tr>\n",
              "    <tr>\n",
              "      <th>std</th>\n",
              "      <td>31944.332496</td>\n",
              "      <td>40035.302961</td>\n",
              "      <td>3.452921e+05</td>\n",
              "      <td>3.275808</td>\n",
              "      <td>500.190568</td>\n",
              "    </tr>\n",
              "    <tr>\n",
              "      <th>min</th>\n",
              "      <td>1.000000</td>\n",
              "      <td>1.000000</td>\n",
              "      <td>0.000000e+00</td>\n",
              "      <td>0.000000</td>\n",
              "      <td>0.000000</td>\n",
              "    </tr>\n",
              "    <tr>\n",
              "      <th>25%</th>\n",
              "      <td>12795.750000</td>\n",
              "      <td>408.000000</td>\n",
              "      <td>4.314593e+03</td>\n",
              "      <td>0.080000</td>\n",
              "      <td>6.510000</td>\n",
              "    </tr>\n",
              "    <tr>\n",
              "      <th>50%</th>\n",
              "      <td>57540.500000</td>\n",
              "      <td>3000.000000</td>\n",
              "      <td>3.047147e+04</td>\n",
              "      <td>0.160000</td>\n",
              "      <td>47.040000</td>\n",
              "    </tr>\n",
              "    <tr>\n",
              "      <th>75%</th>\n",
              "      <td>83648.250000</td>\n",
              "      <td>17039.750000</td>\n",
              "      <td>1.664471e+05</td>\n",
              "      <td>0.470000</td>\n",
              "      <td>252.400000</td>\n",
              "    </tr>\n",
              "    <tr>\n",
              "      <th>max</th>\n",
              "      <td>86823.000000</td>\n",
              "      <td>619999.000000</td>\n",
              "      <td>5.951990e+06</td>\n",
              "      <td>238.650000</td>\n",
              "      <td>7708.440000</td>\n",
              "    </tr>\n",
              "  </tbody>\n",
              "</table>\n",
              "</div>"
            ],
            "text/plain": [
              "                 id  line_item_quantity  ...    unit_price  line_item_insurance_usd\n",
              "count  10324.000000        10324.000000  ...  10324.000000             10037.000000\n",
              "mean   51098.968229        18332.534870  ...      0.611701               240.117626\n",
              "std    31944.332496        40035.302961  ...      3.275808               500.190568\n",
              "min        1.000000            1.000000  ...      0.000000                 0.000000\n",
              "25%    12795.750000          408.000000  ...      0.080000                 6.510000\n",
              "50%    57540.500000         3000.000000  ...      0.160000                47.040000\n",
              "75%    83648.250000        17039.750000  ...      0.470000               252.400000\n",
              "max    86823.000000       619999.000000  ...    238.650000              7708.440000\n",
              "\n",
              "[8 rows x 5 columns]"
            ]
          },
          "metadata": {
            "tags": []
          },
          "execution_count": 7
        }
      ]
    },
    {
      "cell_type": "markdown",
      "metadata": {
        "id": "QUZ7rOsqdVjX"
      },
      "source": [
        "Let's take a look at the type of data in our `DataFrame`. We can notice that column `schedule_delivery_date` is `object`, which means it can be string or mixed."
      ]
    },
    {
      "cell_type": "code",
      "metadata": {
        "scrolled": true,
        "colab": {
          "base_uri": "https://localhost:8080/"
        },
        "id": "m5YmsjiBdVjX",
        "outputId": "991317d7-3854-436e-bb1d-b3bc5daec926"
      },
      "source": [
        "df_SC.dtypes"
      ],
      "execution_count": 8,
      "outputs": [
        {
          "output_type": "execute_result",
          "data": {
            "text/plain": [
              "id                           int64\n",
              "country                     object\n",
              "shipment_mode               object\n",
              "scheduled_delivery_date     object\n",
              "sub_classification          object\n",
              "vendor                      object\n",
              "item_id                     object\n",
              "item_description            object\n",
              "brand                       object\n",
              "line_item_quantity           int64\n",
              "line_item_value            float64\n",
              "unit_price                 float64\n",
              "weight_kilograms            object\n",
              "freight_cost_usd            object\n",
              "line_item_insurance_usd    float64\n",
              "dtype: object"
            ]
          },
          "metadata": {
            "tags": []
          },
          "execution_count": 8
        }
      ]
    },
    {
      "cell_type": "markdown",
      "metadata": {
        "id": "uhXSuCSmdVjY"
      },
      "source": [
        "Let's convert the data in column `schedule_delivery_date` to the correct format, as presented below. We can obtain the same results using the function `DataFrame.astype('datatime64')`"
      ]
    },
    {
      "cell_type": "code",
      "metadata": {
        "scrolled": true,
        "colab": {
          "base_uri": "https://localhost:8080/"
        },
        "id": "VBq-cx44dVjY",
        "outputId": "b7d771e8-3254-4def-e1ec-32460d6627f7"
      },
      "source": [
        "# here we replace the original column with the newly formatted one\n",
        "df_SC['scheduled_delivery_date'] = pd.to_datetime(df_SC['scheduled_delivery_date'])\n",
        "df_SC.dtypes"
      ],
      "execution_count": 9,
      "outputs": [
        {
          "output_type": "execute_result",
          "data": {
            "text/plain": [
              "id                                  int64\n",
              "country                            object\n",
              "shipment_mode                      object\n",
              "scheduled_delivery_date    datetime64[ns]\n",
              "sub_classification                 object\n",
              "vendor                             object\n",
              "item_id                            object\n",
              "item_description                   object\n",
              "brand                              object\n",
              "line_item_quantity                  int64\n",
              "line_item_value                   float64\n",
              "unit_price                        float64\n",
              "weight_kilograms                   object\n",
              "freight_cost_usd                   object\n",
              "line_item_insurance_usd           float64\n",
              "dtype: object"
            ]
          },
          "metadata": {
            "tags": []
          },
          "execution_count": 9
        }
      ]
    },
    {
      "cell_type": "markdown",
      "metadata": {
        "id": "1QDegoL8dVja"
      },
      "source": [
        "We can also see that the columns `weight_kilograms` and `freight_cost_usd` are also of type `object`. These data should be a numeric value since it represents kilograms and $USD. However, the raw data have some annotations made by the user, as you can see below by printing the first 10 rows of your DataFrame, so this is why it is recognized as type `object`."
      ]
    },
    {
      "cell_type": "code",
      "metadata": {
        "colab": {
          "base_uri": "https://localhost:8080/",
          "height": 362
        },
        "id": "KXRFOs-vdVjb",
        "outputId": "073f2046-e44c-4f49-b384-3be519fe298c"
      },
      "source": [
        "df_SC[['weight_kilograms','freight_cost_usd']].head(10)"
      ],
      "execution_count": 10,
      "outputs": [
        {
          "output_type": "execute_result",
          "data": {
            "text/html": [
              "<div>\n",
              "<style scoped>\n",
              "    .dataframe tbody tr th:only-of-type {\n",
              "        vertical-align: middle;\n",
              "    }\n",
              "\n",
              "    .dataframe tbody tr th {\n",
              "        vertical-align: top;\n",
              "    }\n",
              "\n",
              "    .dataframe thead th {\n",
              "        text-align: right;\n",
              "    }\n",
              "</style>\n",
              "<table border=\"1\" class=\"dataframe\">\n",
              "  <thead>\n",
              "    <tr style=\"text-align: right;\">\n",
              "      <th></th>\n",
              "      <th>weight_kilograms</th>\n",
              "      <th>freight_cost_usd</th>\n",
              "    </tr>\n",
              "  </thead>\n",
              "  <tbody>\n",
              "    <tr>\n",
              "      <th>0</th>\n",
              "      <td>13</td>\n",
              "      <td>780.34</td>\n",
              "    </tr>\n",
              "    <tr>\n",
              "      <th>1</th>\n",
              "      <td>358</td>\n",
              "      <td>4521.5</td>\n",
              "    </tr>\n",
              "    <tr>\n",
              "      <th>2</th>\n",
              "      <td>171</td>\n",
              "      <td>1653.78</td>\n",
              "    </tr>\n",
              "    <tr>\n",
              "      <th>3</th>\n",
              "      <td>1855</td>\n",
              "      <td>16007.06</td>\n",
              "    </tr>\n",
              "    <tr>\n",
              "      <th>4</th>\n",
              "      <td>7590</td>\n",
              "      <td>45450.08</td>\n",
              "    </tr>\n",
              "    <tr>\n",
              "      <th>5</th>\n",
              "      <td>504</td>\n",
              "      <td>5920.42</td>\n",
              "    </tr>\n",
              "    <tr>\n",
              "      <th>6</th>\n",
              "      <td>328</td>\n",
              "      <td>Freight Included in Commodity Cost</td>\n",
              "    </tr>\n",
              "    <tr>\n",
              "      <th>7</th>\n",
              "      <td>1478</td>\n",
              "      <td>6212.41</td>\n",
              "    </tr>\n",
              "    <tr>\n",
              "      <th>8</th>\n",
              "      <td>See ASN-93 (ID#:1281)</td>\n",
              "      <td>See ASN-93 (ID#:1281)</td>\n",
              "    </tr>\n",
              "    <tr>\n",
              "      <th>9</th>\n",
              "      <td>643</td>\n",
              "      <td>Freight Included in Commodity Cost</td>\n",
              "    </tr>\n",
              "  </tbody>\n",
              "</table>\n",
              "</div>"
            ],
            "text/plain": [
              "        weight_kilograms                    freight_cost_usd\n",
              "0                     13                              780.34\n",
              "1                    358                              4521.5\n",
              "2                    171                             1653.78\n",
              "3                   1855                            16007.06\n",
              "4                   7590                            45450.08\n",
              "5                    504                             5920.42\n",
              "6                    328  Freight Included in Commodity Cost\n",
              "7                   1478                             6212.41\n",
              "8  See ASN-93 (ID#:1281)               See ASN-93 (ID#:1281)\n",
              "9                    643  Freight Included in Commodity Cost"
            ]
          },
          "metadata": {
            "tags": []
          },
          "execution_count": 10
        }
      ]
    },
    {
      "cell_type": "markdown",
      "metadata": {
        "id": "GqLOQ64sdVjc"
      },
      "source": [
        "We can then use the `to_numeric` method in order to convert the values under the `weight_kilograms` and `freight_cost_usd`  columns into a float:"
      ]
    },
    {
      "cell_type": "code",
      "metadata": {
        "colab": {
          "base_uri": "https://localhost:8080/"
        },
        "id": "4vl3msxLdVjc",
        "outputId": "5f6351d8-1af2-4d33-acd0-5f47068c6ba9"
      },
      "source": [
        "df_SC['weight_kilograms'] = pd.to_numeric(df_SC['weight_kilograms'], errors='coerce')\n",
        "df_SC['freight_cost_usd'] = pd.to_numeric(df_SC['freight_cost_usd'], errors='coerce')\n",
        "df_SC.dtypes"
      ],
      "execution_count": 11,
      "outputs": [
        {
          "output_type": "execute_result",
          "data": {
            "text/plain": [
              "id                                  int64\n",
              "country                            object\n",
              "shipment_mode                      object\n",
              "scheduled_delivery_date    datetime64[ns]\n",
              "sub_classification                 object\n",
              "vendor                             object\n",
              "item_id                            object\n",
              "item_description                   object\n",
              "brand                              object\n",
              "line_item_quantity                  int64\n",
              "line_item_value                   float64\n",
              "unit_price                        float64\n",
              "weight_kilograms                  float64\n",
              "freight_cost_usd                  float64\n",
              "line_item_insurance_usd           float64\n",
              "dtype: object"
            ]
          },
          "metadata": {
            "tags": []
          },
          "execution_count": 11
        }
      ]
    },
    {
      "cell_type": "markdown",
      "metadata": {
        "id": "VUwIhxugdVjd"
      },
      "source": [
        "By setting `errors='coerce'`, you will transform the non-numeric values into `NaN`.\n",
        "Now we can obtain some descriptive statistics for `weight_kg` and `freight_cost_usd` using the `describe()` method."
      ]
    },
    {
      "cell_type": "code",
      "metadata": {
        "scrolled": true,
        "colab": {
          "base_uri": "https://localhost:8080/",
          "height": 300
        },
        "id": "A0a2bja6dVjd",
        "outputId": "05ec0a9d-f1bb-4803-f781-32402075e9da"
      },
      "source": [
        "df_SC.describe()"
      ],
      "execution_count": 12,
      "outputs": [
        {
          "output_type": "execute_result",
          "data": {
            "text/html": [
              "<div>\n",
              "<style scoped>\n",
              "    .dataframe tbody tr th:only-of-type {\n",
              "        vertical-align: middle;\n",
              "    }\n",
              "\n",
              "    .dataframe tbody tr th {\n",
              "        vertical-align: top;\n",
              "    }\n",
              "\n",
              "    .dataframe thead th {\n",
              "        text-align: right;\n",
              "    }\n",
              "</style>\n",
              "<table border=\"1\" class=\"dataframe\">\n",
              "  <thead>\n",
              "    <tr style=\"text-align: right;\">\n",
              "      <th></th>\n",
              "      <th>id</th>\n",
              "      <th>line_item_quantity</th>\n",
              "      <th>line_item_value</th>\n",
              "      <th>unit_price</th>\n",
              "      <th>weight_kilograms</th>\n",
              "      <th>freight_cost_usd</th>\n",
              "      <th>line_item_insurance_usd</th>\n",
              "    </tr>\n",
              "  </thead>\n",
              "  <tbody>\n",
              "    <tr>\n",
              "      <th>count</th>\n",
              "      <td>10324.000000</td>\n",
              "      <td>10324.000000</td>\n",
              "      <td>1.032400e+04</td>\n",
              "      <td>10324.000000</td>\n",
              "      <td>6372.000000</td>\n",
              "      <td>6198.000000</td>\n",
              "      <td>10037.000000</td>\n",
              "    </tr>\n",
              "    <tr>\n",
              "      <th>mean</th>\n",
              "      <td>51098.968229</td>\n",
              "      <td>18332.534870</td>\n",
              "      <td>1.576506e+05</td>\n",
              "      <td>0.611701</td>\n",
              "      <td>3424.441306</td>\n",
              "      <td>11103.234819</td>\n",
              "      <td>240.117626</td>\n",
              "    </tr>\n",
              "    <tr>\n",
              "      <th>std</th>\n",
              "      <td>31944.332496</td>\n",
              "      <td>40035.302961</td>\n",
              "      <td>3.452921e+05</td>\n",
              "      <td>3.275808</td>\n",
              "      <td>13526.968270</td>\n",
              "      <td>15813.026692</td>\n",
              "      <td>500.190568</td>\n",
              "    </tr>\n",
              "    <tr>\n",
              "      <th>min</th>\n",
              "      <td>1.000000</td>\n",
              "      <td>1.000000</td>\n",
              "      <td>0.000000e+00</td>\n",
              "      <td>0.000000</td>\n",
              "      <td>0.000000</td>\n",
              "      <td>0.750000</td>\n",
              "      <td>0.000000</td>\n",
              "    </tr>\n",
              "    <tr>\n",
              "      <th>25%</th>\n",
              "      <td>12795.750000</td>\n",
              "      <td>408.000000</td>\n",
              "      <td>4.314593e+03</td>\n",
              "      <td>0.080000</td>\n",
              "      <td>206.750000</td>\n",
              "      <td>2131.120000</td>\n",
              "      <td>6.510000</td>\n",
              "    </tr>\n",
              "    <tr>\n",
              "      <th>50%</th>\n",
              "      <td>57540.500000</td>\n",
              "      <td>3000.000000</td>\n",
              "      <td>3.047147e+04</td>\n",
              "      <td>0.160000</td>\n",
              "      <td>1047.000000</td>\n",
              "      <td>5869.655000</td>\n",
              "      <td>47.040000</td>\n",
              "    </tr>\n",
              "    <tr>\n",
              "      <th>75%</th>\n",
              "      <td>83648.250000</td>\n",
              "      <td>17039.750000</td>\n",
              "      <td>1.664471e+05</td>\n",
              "      <td>0.470000</td>\n",
              "      <td>3334.000000</td>\n",
              "      <td>14406.570000</td>\n",
              "      <td>252.400000</td>\n",
              "    </tr>\n",
              "    <tr>\n",
              "      <th>max</th>\n",
              "      <td>86823.000000</td>\n",
              "      <td>619999.000000</td>\n",
              "      <td>5.951990e+06</td>\n",
              "      <td>238.650000</td>\n",
              "      <td>857354.000000</td>\n",
              "      <td>289653.200000</td>\n",
              "      <td>7708.440000</td>\n",
              "    </tr>\n",
              "  </tbody>\n",
              "</table>\n",
              "</div>"
            ],
            "text/plain": [
              "                 id  ...  line_item_insurance_usd\n",
              "count  10324.000000  ...             10037.000000\n",
              "mean   51098.968229  ...               240.117626\n",
              "std    31944.332496  ...               500.190568\n",
              "min        1.000000  ...                 0.000000\n",
              "25%    12795.750000  ...                 6.510000\n",
              "50%    57540.500000  ...                47.040000\n",
              "75%    83648.250000  ...               252.400000\n",
              "max    86823.000000  ...              7708.440000\n",
              "\n",
              "[8 rows x 7 columns]"
            ]
          },
          "metadata": {
            "tags": []
          },
          "execution_count": 12
        }
      ]
    },
    {
      "cell_type": "markdown",
      "metadata": {
        "id": "ftTbWTsDdVje"
      },
      "source": [
        "---\n",
        "## 3. Missing data"
      ]
    },
    {
      "cell_type": "markdown",
      "metadata": {
        "id": "MB_dKErgdVje"
      },
      "source": [
        "Now let's take a look at the missing values in our DataFrame. We can see how many missing values we have at each column as follows."
      ]
    },
    {
      "cell_type": "code",
      "metadata": {
        "scrolled": true,
        "colab": {
          "base_uri": "https://localhost:8080/"
        },
        "id": "fuSJ-rVvdVjf",
        "outputId": "0c9f93db-87c3-458d-ccbe-7055809eb3f0"
      },
      "source": [
        "df_SC.isna().sum()"
      ],
      "execution_count": 13,
      "outputs": [
        {
          "output_type": "execute_result",
          "data": {
            "text/plain": [
              "id                            0\n",
              "country                       0\n",
              "shipment_mode               360\n",
              "scheduled_delivery_date       0\n",
              "sub_classification            0\n",
              "vendor                        0\n",
              "item_id                       0\n",
              "item_description              0\n",
              "brand                         0\n",
              "line_item_quantity            0\n",
              "line_item_value               0\n",
              "unit_price                    0\n",
              "weight_kilograms           3952\n",
              "freight_cost_usd           4126\n",
              "line_item_insurance_usd     287\n",
              "dtype: int64"
            ]
          },
          "metadata": {
            "tags": []
          },
          "execution_count": 13
        }
      ]
    },
    {
      "cell_type": "markdown",
      "metadata": {
        "id": "JTi_pKl-dVjf"
      },
      "source": [
        "We can notice that there are some missing values in the column `shipment_mode`, which represents the transportation mode (e.g., by air). There is not that much we can do in order to replace these missing values with meaningful information, so we'll replace the missing values of in these columns with the word `'missing'`. We use the `.fillna()` method with the option `inplace=True` to save the changes in our original DataFrame. Check [this page](https://pandas.pydata.org/pandas-docs/stable/reference/api/pandas.DataFrame.fillna.html) for more information about the `.fillna()` method."
      ]
    },
    {
      "cell_type": "code",
      "metadata": {
        "scrolled": true,
        "colab": {
          "base_uri": "https://localhost:8080/"
        },
        "id": "b5VYG7_4dVjg",
        "outputId": "1396e2bd-7a12-4ce4-bba9-9553012eed46"
      },
      "source": [
        "df_SC.fillna(value={'shipment_mode': 'missing'}, inplace=True)\n",
        "df_SC.isna().sum()"
      ],
      "execution_count": 14,
      "outputs": [
        {
          "output_type": "execute_result",
          "data": {
            "text/plain": [
              "id                            0\n",
              "country                       0\n",
              "shipment_mode                 0\n",
              "scheduled_delivery_date       0\n",
              "sub_classification            0\n",
              "vendor                        0\n",
              "item_id                       0\n",
              "item_description              0\n",
              "brand                         0\n",
              "line_item_quantity            0\n",
              "line_item_value               0\n",
              "unit_price                    0\n",
              "weight_kilograms           3952\n",
              "freight_cost_usd           4126\n",
              "line_item_insurance_usd     287\n",
              "dtype: int64"
            ]
          },
          "metadata": {
            "tags": []
          },
          "execution_count": 14
        }
      ]
    },
    {
      "cell_type": "code",
      "metadata": {
        "colab": {
          "base_uri": "https://localhost:8080/"
        },
        "id": "ZcHFS47z3GeC",
        "outputId": "cb7ad43c-6c10-4c72-f753-f8d4e9439cfd"
      },
      "source": [
        "df_SC.freight_cost_usd"
      ],
      "execution_count": 15,
      "outputs": [
        {
          "output_type": "execute_result",
          "data": {
            "text/plain": [
              "0          780.34\n",
              "1         4521.50\n",
              "2         1653.78\n",
              "3        16007.06\n",
              "4        45450.08\n",
              "           ...   \n",
              "10319         NaN\n",
              "10320         NaN\n",
              "10321         NaN\n",
              "10322         NaN\n",
              "10323         NaN\n",
              "Name: freight_cost_usd, Length: 10324, dtype: float64"
            ]
          },
          "metadata": {
            "tags": []
          },
          "execution_count": 15
        }
      ]
    },
    {
      "cell_type": "markdown",
      "metadata": {
        "id": "ASqs4HeSdVjg"
      },
      "source": [
        "Now we will replace the missing values in column `insurance_usd` by an approximated value, computed as the mean value for this column. Note that we create a new column for this."
      ]
    },
    {
      "cell_type": "code",
      "metadata": {
        "colab": {
          "base_uri": "https://localhost:8080/",
          "height": 423
        },
        "id": "DUXOZFzCdVjg",
        "outputId": "60f56685-7e1a-42d0-82ff-86192e5ca156"
      },
      "source": [
        "insurance_mean = df_SC['line_item_insurance_usd'].mean()\n",
        "df_SC['item_insurance_rp_mean'] = df_SC['line_item_insurance_usd'].fillna(insurance_mean)\n",
        "df_SC[['line_item_insurance_usd','item_insurance_rp_mean']][df_SC['line_item_insurance_usd'].isna() == True]\n",
        "\n"
      ],
      "execution_count": 16,
      "outputs": [
        {
          "output_type": "execute_result",
          "data": {
            "text/html": [
              "<div>\n",
              "<style scoped>\n",
              "    .dataframe tbody tr th:only-of-type {\n",
              "        vertical-align: middle;\n",
              "    }\n",
              "\n",
              "    .dataframe tbody tr th {\n",
              "        vertical-align: top;\n",
              "    }\n",
              "\n",
              "    .dataframe thead th {\n",
              "        text-align: right;\n",
              "    }\n",
              "</style>\n",
              "<table border=\"1\" class=\"dataframe\">\n",
              "  <thead>\n",
              "    <tr style=\"text-align: right;\">\n",
              "      <th></th>\n",
              "      <th>line_item_insurance_usd</th>\n",
              "      <th>item_insurance_rp_mean</th>\n",
              "    </tr>\n",
              "  </thead>\n",
              "  <tbody>\n",
              "    <tr>\n",
              "      <th>0</th>\n",
              "      <td>NaN</td>\n",
              "      <td>240.117626</td>\n",
              "    </tr>\n",
              "    <tr>\n",
              "      <th>1</th>\n",
              "      <td>NaN</td>\n",
              "      <td>240.117626</td>\n",
              "    </tr>\n",
              "    <tr>\n",
              "      <th>2</th>\n",
              "      <td>NaN</td>\n",
              "      <td>240.117626</td>\n",
              "    </tr>\n",
              "    <tr>\n",
              "      <th>3</th>\n",
              "      <td>NaN</td>\n",
              "      <td>240.117626</td>\n",
              "    </tr>\n",
              "    <tr>\n",
              "      <th>4</th>\n",
              "      <td>NaN</td>\n",
              "      <td>240.117626</td>\n",
              "    </tr>\n",
              "    <tr>\n",
              "      <th>...</th>\n",
              "      <td>...</td>\n",
              "      <td>...</td>\n",
              "    </tr>\n",
              "    <tr>\n",
              "      <th>2496</th>\n",
              "      <td>NaN</td>\n",
              "      <td>240.117626</td>\n",
              "    </tr>\n",
              "    <tr>\n",
              "      <th>2497</th>\n",
              "      <td>NaN</td>\n",
              "      <td>240.117626</td>\n",
              "    </tr>\n",
              "    <tr>\n",
              "      <th>2499</th>\n",
              "      <td>NaN</td>\n",
              "      <td>240.117626</td>\n",
              "    </tr>\n",
              "    <tr>\n",
              "      <th>2500</th>\n",
              "      <td>NaN</td>\n",
              "      <td>240.117626</td>\n",
              "    </tr>\n",
              "    <tr>\n",
              "      <th>2501</th>\n",
              "      <td>NaN</td>\n",
              "      <td>240.117626</td>\n",
              "    </tr>\n",
              "  </tbody>\n",
              "</table>\n",
              "<p>287 rows × 2 columns</p>\n",
              "</div>"
            ],
            "text/plain": [
              "      line_item_insurance_usd  item_insurance_rp_mean\n",
              "0                         NaN              240.117626\n",
              "1                         NaN              240.117626\n",
              "2                         NaN              240.117626\n",
              "3                         NaN              240.117626\n",
              "4                         NaN              240.117626\n",
              "...                       ...                     ...\n",
              "2496                      NaN              240.117626\n",
              "2497                      NaN              240.117626\n",
              "2499                      NaN              240.117626\n",
              "2500                      NaN              240.117626\n",
              "2501                      NaN              240.117626\n",
              "\n",
              "[287 rows x 2 columns]"
            ]
          },
          "metadata": {
            "tags": []
          },
          "execution_count": 16
        }
      ]
    },
    {
      "cell_type": "markdown",
      "metadata": {
        "id": "6DXN6WAC8t8a"
      },
      "source": [
        "The issue about replacing the `NaN` value by the mean or another constant is that it disregards other features/values of the data point. To overcome this is issue, we can opt to impute each missing value by using an estimation or prediction based on other data points. One practical method is to use the k-nearest neighbors (KNN) algorithm for imputation. More details can be found in this [link1](https://scikit-learn.org/stable/modules/generated/sklearn.impute.KNNImputer.html) and this [link2](\r\n",
        "https://www.analyticsvidhya.com/blog/2020/07/knnimputer-a-robust-way-to-impute-missing-values-using-scikit-learn/) This can be done using the code below which take the weighted sum of the values from the two closest data points to each missing value."
      ]
    },
    {
      "cell_type": "code",
      "metadata": {
        "id": "V7SO-ClqlpZb"
      },
      "source": [
        "import sklearn\r\n",
        "from sklearn.impute import KNNImputer\r\n",
        "\r\n",
        "# First we determine which columns we want to use as references for matching\r\n",
        "inferred_columns = ['line_item_value','weight_kilograms', 'freight_cost_usd']\r\n",
        "# Copy only the relevant columns to the new DataFrame\r\n",
        "df_SC_kNN = df_SC[inferred_columns].copy()\r\n",
        "# Add the column `line_item_insurance_(usd)` which we want to impute and assigns a new name to it\r\n",
        "df_SC_kNN['item_insurance_rp_kNN'] = df_SC['line_item_insurance_usd']\r\n",
        "\r\n",
        "# Set up the imputer object with the number of neighbors = 2 \r\n",
        "imputer = sklearn.impute.KNNImputer(n_neighbors=2)\r\n",
        "# Train to determine the neighbors and estimate the new values for all the missing values.\r\n",
        "# This process might be time consuming if the size of the data and neighborhood are large.\r\n",
        "# The new values are then assigned back to the DataFrame. # Since the method return an array (not a DataFrame), \r\n",
        "# we need to assign it back to the array values of the DataFrame, i.e., `df_SC_kNN[:]`\r\n",
        "df_SC_kNN[:] = imputer.fit_transform(df_SC_kNN)\r\n",
        "\r\n",
        "# copy the new column to t\r\n",
        "df_SC['item_insurance_rp_kNN'] = df_SC_kNN['item_insurance_rp_kNN'].copy()\r\n"
      ],
      "execution_count": 17,
      "outputs": []
    },
    {
      "cell_type": "code",
      "metadata": {
        "id": "a_pcxqYMT3IG",
        "colab": {
          "base_uri": "https://localhost:8080/",
          "height": 423
        },
        "outputId": "5695d48e-6c82-4bad-f53d-839e10f573b9"
      },
      "source": [
        "# Now we can examine the results\r\n",
        "df_SC[['item_insurance_rp_mean','item_insurance_rp_kNN']][df_SC['line_item_insurance_usd'].isna() == True]"
      ],
      "execution_count": 18,
      "outputs": [
        {
          "output_type": "execute_result",
          "data": {
            "text/html": [
              "<div>\n",
              "<style scoped>\n",
              "    .dataframe tbody tr th:only-of-type {\n",
              "        vertical-align: middle;\n",
              "    }\n",
              "\n",
              "    .dataframe tbody tr th {\n",
              "        vertical-align: top;\n",
              "    }\n",
              "\n",
              "    .dataframe thead th {\n",
              "        text-align: right;\n",
              "    }\n",
              "</style>\n",
              "<table border=\"1\" class=\"dataframe\">\n",
              "  <thead>\n",
              "    <tr style=\"text-align: right;\">\n",
              "      <th></th>\n",
              "      <th>item_insurance_rp_mean</th>\n",
              "      <th>item_insurance_rp_kNN</th>\n",
              "    </tr>\n",
              "  </thead>\n",
              "  <tbody>\n",
              "    <tr>\n",
              "      <th>0</th>\n",
              "      <td>240.117626</td>\n",
              "      <td>0.725</td>\n",
              "    </tr>\n",
              "    <tr>\n",
              "      <th>1</th>\n",
              "      <td>240.117626</td>\n",
              "      <td>8.955</td>\n",
              "    </tr>\n",
              "    <tr>\n",
              "      <th>2</th>\n",
              "      <td>240.117626</td>\n",
              "      <td>71.200</td>\n",
              "    </tr>\n",
              "    <tr>\n",
              "      <th>3</th>\n",
              "      <td>240.117626</td>\n",
              "      <td>194.285</td>\n",
              "    </tr>\n",
              "    <tr>\n",
              "      <th>4</th>\n",
              "      <td>240.117626</td>\n",
              "      <td>238.570</td>\n",
              "    </tr>\n",
              "    <tr>\n",
              "      <th>...</th>\n",
              "      <td>...</td>\n",
              "      <td>...</td>\n",
              "    </tr>\n",
              "    <tr>\n",
              "      <th>2496</th>\n",
              "      <td>240.117626</td>\n",
              "      <td>63.350</td>\n",
              "    </tr>\n",
              "    <tr>\n",
              "      <th>2497</th>\n",
              "      <td>240.117626</td>\n",
              "      <td>46.340</td>\n",
              "    </tr>\n",
              "    <tr>\n",
              "      <th>2499</th>\n",
              "      <td>240.117626</td>\n",
              "      <td>21.980</td>\n",
              "    </tr>\n",
              "    <tr>\n",
              "      <th>2500</th>\n",
              "      <td>240.117626</td>\n",
              "      <td>629.235</td>\n",
              "    </tr>\n",
              "    <tr>\n",
              "      <th>2501</th>\n",
              "      <td>240.117626</td>\n",
              "      <td>15.770</td>\n",
              "    </tr>\n",
              "  </tbody>\n",
              "</table>\n",
              "<p>287 rows × 2 columns</p>\n",
              "</div>"
            ],
            "text/plain": [
              "      item_insurance_rp_mean  item_insurance_rp_kNN\n",
              "0                 240.117626                  0.725\n",
              "1                 240.117626                  8.955\n",
              "2                 240.117626                 71.200\n",
              "3                 240.117626                194.285\n",
              "4                 240.117626                238.570\n",
              "...                      ...                    ...\n",
              "2496              240.117626                 63.350\n",
              "2497              240.117626                 46.340\n",
              "2499              240.117626                 21.980\n",
              "2500              240.117626                629.235\n",
              "2501              240.117626                 15.770\n",
              "\n",
              "[287 rows x 2 columns]"
            ]
          },
          "metadata": {
            "tags": []
          },
          "execution_count": 18
        }
      ]
    },
    {
      "cell_type": "code",
      "metadata": {
        "id": "JfHZ-vY6erBZ",
        "colab": {
          "base_uri": "https://localhost:8080/"
        },
        "outputId": "d6ea7c56-48c1-446f-d34e-990458c04f7e"
      },
      "source": [
        "df_SC.isna().sum()"
      ],
      "execution_count": 19,
      "outputs": [
        {
          "output_type": "execute_result",
          "data": {
            "text/plain": [
              "id                            0\n",
              "country                       0\n",
              "shipment_mode                 0\n",
              "scheduled_delivery_date       0\n",
              "sub_classification            0\n",
              "vendor                        0\n",
              "item_id                       0\n",
              "item_description              0\n",
              "brand                         0\n",
              "line_item_quantity            0\n",
              "line_item_value               0\n",
              "unit_price                    0\n",
              "weight_kilograms           3952\n",
              "freight_cost_usd           4126\n",
              "line_item_insurance_usd     287\n",
              "item_insurance_rp_mean        0\n",
              "item_insurance_rp_kNN         0\n",
              "dtype: int64"
            ]
          },
          "metadata": {
            "tags": []
          },
          "execution_count": 19
        }
      ]
    },
    {
      "cell_type": "markdown",
      "metadata": {
        "id": "xCojijHIdVjh"
      },
      "source": [
        "---\n",
        "## 4. Data Transformation\n",
        "\n",
        "### Scaling methods\n",
        "Variables tend to have different ranges and some algorithms are adversely affected by differences in variable ranges. Variables with greater ranges tend to have larger influence on data model’s results. Therefore, numeric field values may need to be standardized/normalized. \n",
        "\n",
        "From the output of the `describe()` method in the previous line of code, we can notice that the numerical variables have different ranges. For instance, `units_per_pack` varies from 1 to 1000, while `weight_kg` varies from 0 to 857354. We would like to apply normalization method to scale the numerical values in our data. \n",
        "\n",
        "Let's apply the **min-max normalization** and **z-score normalization** methods, by identifying how much greater the field value is than the minimum value, and scaling this difference by the range of field values.\n",
        "\n",
        "$$X^{norm}_i=\\frac{X_i-X_{min}}{X_{max}-X_{min}}$$\n",
        "and\n",
        "$$Z_i=\\frac{X_i-X_{mean}}{\\sigma_X}$$\n",
        "Thus,  I compute the normalized version of each of the numerical variable and add this as a new column of our data frame. We can proceed as follows. \n",
        "\n",
        "First, we create a list of the columns we want to normalize. "
      ]
    },
    {
      "cell_type": "code",
      "metadata": {
        "id": "u9SeAs_CdVjh"
      },
      "source": [
        "columns_to_norm = ['line_item_quantity',\t'line_item_value']"
      ],
      "execution_count": 20,
      "outputs": []
    },
    {
      "cell_type": "markdown",
      "metadata": {
        "id": "4uyUgamUdVji"
      },
      "source": [
        "Then, I can create a `for` loop to compute the normalized version for each one of these columns and add it to `df_SC`. "
      ]
    },
    {
      "cell_type": "code",
      "metadata": {
        "id": "WDapVaosdVji"
      },
      "source": [
        "for col in columns_to_norm:\n",
        "    df_SC[col + '_norm'] = (df_SC[col] - df_SC[col].min())/(df_SC[col].max() - df_SC[col].min())   # add the new normalized column\n",
        "    df_SC[col + '_z'] = (df_SC[col] - df_SC[col].mean())/df_SC[col].std()    # add the new z-norm column\n",
        "    "
      ],
      "execution_count": 21,
      "outputs": []
    },
    {
      "cell_type": "code",
      "metadata": {
        "colab": {
          "base_uri": "https://localhost:8080/",
          "height": 300
        },
        "id": "tQm838xWUlZU",
        "outputId": "3afc29f1-bcb0-4eb6-b527-c8de09b6967b"
      },
      "source": [
        "df_SC[['line_item_value','line_item_value_norm','line_item_value_z']].describe()"
      ],
      "execution_count": 22,
      "outputs": [
        {
          "output_type": "execute_result",
          "data": {
            "text/html": [
              "<div>\n",
              "<style scoped>\n",
              "    .dataframe tbody tr th:only-of-type {\n",
              "        vertical-align: middle;\n",
              "    }\n",
              "\n",
              "    .dataframe tbody tr th {\n",
              "        vertical-align: top;\n",
              "    }\n",
              "\n",
              "    .dataframe thead th {\n",
              "        text-align: right;\n",
              "    }\n",
              "</style>\n",
              "<table border=\"1\" class=\"dataframe\">\n",
              "  <thead>\n",
              "    <tr style=\"text-align: right;\">\n",
              "      <th></th>\n",
              "      <th>line_item_value</th>\n",
              "      <th>line_item_value_norm</th>\n",
              "      <th>line_item_value_z</th>\n",
              "    </tr>\n",
              "  </thead>\n",
              "  <tbody>\n",
              "    <tr>\n",
              "      <th>count</th>\n",
              "      <td>1.032400e+04</td>\n",
              "      <td>10324.000000</td>\n",
              "      <td>1.032400e+04</td>\n",
              "    </tr>\n",
              "    <tr>\n",
              "      <th>mean</th>\n",
              "      <td>1.576506e+05</td>\n",
              "      <td>0.026487</td>\n",
              "      <td>-1.030322e-16</td>\n",
              "    </tr>\n",
              "    <tr>\n",
              "      <th>std</th>\n",
              "      <td>3.452921e+05</td>\n",
              "      <td>0.058013</td>\n",
              "      <td>1.000000e+00</td>\n",
              "    </tr>\n",
              "    <tr>\n",
              "      <th>min</th>\n",
              "      <td>0.000000e+00</td>\n",
              "      <td>0.000000</td>\n",
              "      <td>-4.565716e-01</td>\n",
              "    </tr>\n",
              "    <tr>\n",
              "      <th>25%</th>\n",
              "      <td>4.314593e+03</td>\n",
              "      <td>0.000725</td>\n",
              "      <td>-4.440762e-01</td>\n",
              "    </tr>\n",
              "    <tr>\n",
              "      <th>50%</th>\n",
              "      <td>3.047147e+04</td>\n",
              "      <td>0.005120</td>\n",
              "      <td>-3.683233e-01</td>\n",
              "    </tr>\n",
              "    <tr>\n",
              "      <th>75%</th>\n",
              "      <td>1.664471e+05</td>\n",
              "      <td>0.027965</td>\n",
              "      <td>2.547575e-02</td>\n",
              "    </tr>\n",
              "    <tr>\n",
              "      <th>max</th>\n",
              "      <td>5.951990e+06</td>\n",
              "      <td>1.000000</td>\n",
              "      <td>1.678098e+01</td>\n",
              "    </tr>\n",
              "  </tbody>\n",
              "</table>\n",
              "</div>"
            ],
            "text/plain": [
              "       line_item_value  line_item_value_norm  line_item_value_z\n",
              "count     1.032400e+04          10324.000000       1.032400e+04\n",
              "mean      1.576506e+05              0.026487      -1.030322e-16\n",
              "std       3.452921e+05              0.058013       1.000000e+00\n",
              "min       0.000000e+00              0.000000      -4.565716e-01\n",
              "25%       4.314593e+03              0.000725      -4.440762e-01\n",
              "50%       3.047147e+04              0.005120      -3.683233e-01\n",
              "75%       1.664471e+05              0.027965       2.547575e-02\n",
              "max       5.951990e+06              1.000000       1.678098e+01"
            ]
          },
          "metadata": {
            "tags": []
          },
          "execution_count": 22
        }
      ]
    },
    {
      "cell_type": "markdown",
      "metadata": {
        "id": "xksxip07bC0w"
      },
      "source": [
        "In order to deal with **skewed data**, we can also use a scaling technique (such as log transformation). For example, we ca transform the column `line_item_value` as follows."
      ]
    },
    {
      "cell_type": "code",
      "metadata": {
        "colab": {
          "base_uri": "https://localhost:8080/",
          "height": 819
        },
        "id": "sK0ztiClWzOz",
        "outputId": "6ee757ac-2e23-4c36-b2d5-c2485491ab75"
      },
      "source": [
        "# first we evaluate the distribution of the value\r\n",
        "df_SC[['line_item_value']].plot(kind = 'hist')\r\n",
        "\r\n",
        "# apply the transformation\r\n",
        "import math\r\n",
        "# note that math.log calculates a natural log (i.e., ln(x))\r\n",
        "df_SC['line_item_value_log'] = [math.log(x) if x > 0 else 0 for x in df_SC['line_item_value']]\r\n",
        "\r\n",
        "# plot to compare the results\r\n",
        "df_SC[['line_item_value','line_item_value_log']].plot(x = 'line_item_value_log', y = 'line_item_value', kind = 'scatter')\r\n",
        "\r\n",
        "df_SC[['line_item_value_log']].plot(kind = 'hist')"
      ],
      "execution_count": 24,
      "outputs": [
        {
          "output_type": "execute_result",
          "data": {
            "text/plain": [
              "<matplotlib.axes._subplots.AxesSubplot at 0x7ffacf8add30>"
            ]
          },
          "metadata": {
            "tags": []
          },
          "execution_count": 24
        },
        {
          "output_type": "display_data",
          "data": {
            "image/png": "[encoded data removed]",
            "text/plain": [
              "<Figure size 432x288 with 1 Axes>"
            ]
          },
          "metadata": {
            "tags": [],
            "needs_background": "light"
          }
        },
        {
          "output_type": "display_data",
          "data": {
            "image/png": "[encoded data removed]",
            "text/plain": [
              "<Figure size 432x288 with 1 Axes>"
            ]
          },
          "metadata": {
            "tags": [],
            "needs_background": "light"
          }
        },
        {
          "output_type": "display_data",
          "data": {
            "image/png": "[encoded data removed]",
            "text/plain": [
              "<Figure size 432x288 with 1 Axes>"
            ]
          },
          "metadata": {
            "tags": [],
            "needs_background": "light"
          }
        }
      ]
    },
    {
      "cell_type": "markdown",
      "metadata": {
        "id": "3l07z-nrdVji"
      },
      "source": [
        "### Dummy Variables\n",
        "A categorical variable should generally be encoded as **dummy variables** (a.k.a. indicator variables), each taking only one of two values (0 or 1; False or True)\n",
        "When a categorical variable takes k possible values, you typically have two options to define your dummy variables:\n",
        "* Option 1: Define k-1 dummy variables, and use the unassigned category as the reference category\n",
        "* Option 2: Define k dummy variables. Often referred to as **one-hot** encoding.\n",
        "\n",
        "Let's transform our categorical variable `shipment` into dummy variables using `Option 1`. First, let's take a look at the possible values for the categorical values."
      ]
    },
    {
      "cell_type": "code",
      "metadata": {
        "scrolled": true,
        "colab": {
          "base_uri": "https://localhost:8080/"
        },
        "id": "Scy19RTedVjj",
        "outputId": "8b24004c-11ee-43d0-9894-4667ad1b1673"
      },
      "source": [
        "df_SC['shipment_mode'].unique()"
      ],
      "execution_count": null,
      "outputs": [
        {
          "output_type": "execute_result",
          "data": {
            "text/plain": [
              "array(['Air', 'missing', 'Truck', 'Air Charter', 'Ocean'], dtype=object)"
            ]
          },
          "metadata": {
            "tags": []
          },
          "execution_count": 22
        }
      ]
    },
    {
      "cell_type": "markdown",
      "metadata": {
        "id": "NrxVTOsIdVjj"
      },
      "source": [
        "We will create 4 dummy variables with names `'Air'`,  `'Truck'`, `'Air Charter'` and `'Ocean'`, and use `'missing'` as our reference category. One way to do this is by making use of the `DataFrame` function `pd.get_dummies()`, which automatically  converts categorical variable into dummy/indicator variables. You can check [this page](https://pandas.pydata.org/pandas-docs/stable/reference/api/pandas.get_dummies.html) for more information. "
      ]
    },
    {
      "cell_type": "code",
      "metadata": {
        "id": "x9eymnJqdVjj"
      },
      "source": [
        "df_dummies = pd.get_dummies(df_SC['shipment_mode'])\n",
        "df_dummies.head()\n",
        "# concatenating the original df_SC with df_dummy\n",
        "df_SC = pd.concat([df_SC, df_dummies], axis=1) "
      ],
      "execution_count": null,
      "outputs": []
    },
    {
      "cell_type": "markdown",
      "metadata": {
        "id": "k3try2FUdVjj"
      },
      "source": [
        "Then, we can add the new `DataFrame` we just created (`df_dummies`) to our original `DataFrame`.  We can do this using the function `pd.concat()` and the method `DataFrame.drop()`"
      ]
    },
    {
      "cell_type": "code",
      "metadata": {
        "scrolled": true,
        "colab": {
          "base_uri": "https://localhost:8080/",
          "height": 300
        },
        "id": "0SC59ivFdVjk",
        "outputId": "d5146f19-edc9-49cb-d05a-7c6a8370624a"
      },
      "source": [
        "df_SC[['shipment_mode']+list(df_dummies.columns)].describe()"
      ],
      "execution_count": null,
      "outputs": [
        {
          "output_type": "execute_result",
          "data": {
            "text/html": [
              "<div>\n",
              "<style scoped>\n",
              "    .dataframe tbody tr th:only-of-type {\n",
              "        vertical-align: middle;\n",
              "    }\n",
              "\n",
              "    .dataframe tbody tr th {\n",
              "        vertical-align: top;\n",
              "    }\n",
              "\n",
              "    .dataframe thead th {\n",
              "        text-align: right;\n",
              "    }\n",
              "</style>\n",
              "<table border=\"1\" class=\"dataframe\">\n",
              "  <thead>\n",
              "    <tr style=\"text-align: right;\">\n",
              "      <th></th>\n",
              "      <th>Air</th>\n",
              "      <th>Air Charter</th>\n",
              "      <th>Ocean</th>\n",
              "      <th>Truck</th>\n",
              "      <th>missing</th>\n",
              "    </tr>\n",
              "  </thead>\n",
              "  <tbody>\n",
              "    <tr>\n",
              "      <th>count</th>\n",
              "      <td>10324.000000</td>\n",
              "      <td>10324.000000</td>\n",
              "      <td>10324.000000</td>\n",
              "      <td>10324.000000</td>\n",
              "      <td>10324.00000</td>\n",
              "    </tr>\n",
              "    <tr>\n",
              "      <th>mean</th>\n",
              "      <td>0.592115</td>\n",
              "      <td>0.062960</td>\n",
              "      <td>0.035936</td>\n",
              "      <td>0.274119</td>\n",
              "      <td>0.03487</td>\n",
              "    </tr>\n",
              "    <tr>\n",
              "      <th>std</th>\n",
              "      <td>0.491465</td>\n",
              "      <td>0.242903</td>\n",
              "      <td>0.186139</td>\n",
              "      <td>0.446091</td>\n",
              "      <td>0.18346</td>\n",
              "    </tr>\n",
              "    <tr>\n",
              "      <th>min</th>\n",
              "      <td>0.000000</td>\n",
              "      <td>0.000000</td>\n",
              "      <td>0.000000</td>\n",
              "      <td>0.000000</td>\n",
              "      <td>0.00000</td>\n",
              "    </tr>\n",
              "    <tr>\n",
              "      <th>25%</th>\n",
              "      <td>0.000000</td>\n",
              "      <td>0.000000</td>\n",
              "      <td>0.000000</td>\n",
              "      <td>0.000000</td>\n",
              "      <td>0.00000</td>\n",
              "    </tr>\n",
              "    <tr>\n",
              "      <th>50%</th>\n",
              "      <td>1.000000</td>\n",
              "      <td>0.000000</td>\n",
              "      <td>0.000000</td>\n",
              "      <td>0.000000</td>\n",
              "      <td>0.00000</td>\n",
              "    </tr>\n",
              "    <tr>\n",
              "      <th>75%</th>\n",
              "      <td>1.000000</td>\n",
              "      <td>0.000000</td>\n",
              "      <td>0.000000</td>\n",
              "      <td>1.000000</td>\n",
              "      <td>0.00000</td>\n",
              "    </tr>\n",
              "    <tr>\n",
              "      <th>max</th>\n",
              "      <td>1.000000</td>\n",
              "      <td>1.000000</td>\n",
              "      <td>1.000000</td>\n",
              "      <td>1.000000</td>\n",
              "      <td>1.00000</td>\n",
              "    </tr>\n",
              "  </tbody>\n",
              "</table>\n",
              "</div>"
            ],
            "text/plain": [
              "                Air   Air Charter         Ocean         Truck      missing\n",
              "count  10324.000000  10324.000000  10324.000000  10324.000000  10324.00000\n",
              "mean       0.592115      0.062960      0.035936      0.274119      0.03487\n",
              "std        0.491465      0.242903      0.186139      0.446091      0.18346\n",
              "min        0.000000      0.000000      0.000000      0.000000      0.00000\n",
              "25%        0.000000      0.000000      0.000000      0.000000      0.00000\n",
              "50%        1.000000      0.000000      0.000000      0.000000      0.00000\n",
              "75%        1.000000      0.000000      0.000000      1.000000      0.00000\n",
              "max        1.000000      1.000000      1.000000      1.000000      1.00000"
            ]
          },
          "metadata": {
            "tags": []
          },
          "execution_count": 24
        }
      ]
    },
    {
      "cell_type": "markdown",
      "metadata": {
        "id": "Sd1yXEVfdVjk"
      },
      "source": [
        "## Transforming numerical variables into categorical variables\n",
        "In some cases, categorical variables may be preferred over numerical ones. We then need to partition the numerical variables into bins according to a specific criteria.\n",
        "As an example, let's transform our original variable `weight_kilograms` into a categorical variable with values `'light'` (if the weight is up to 100 kg), `'medium'`(if the weight is within the interval (100 kg, 500 kg]), `'heavy'` (if the weight is within the interval (500 kg, 1000 kg]) and `'super-heavy'`(if the weight is > 1000 kg). \n",
        "\n",
        "We can implement this transformation using the function `pd.cut()`, which helps us to segment and sort data values into bins. You can check [this page](https://pandas.pydata.org/pandas-docs/stable/reference/api/pandas.cut.html) for more information on this function.\n"
      ]
    },
    {
      "cell_type": "code",
      "metadata": {
        "colab": {
          "base_uri": "https://localhost:8080/",
          "height": 362
        },
        "id": "Fgcx3yVSdVjk",
        "outputId": "25f8964f-6438-440a-eaf2-05ea34ec5b2d"
      },
      "source": [
        "bins = [0, 100., 500., 1000.,  float('inf')]             # defining the bins \n",
        "names = ['light', 'medium', 'heavy', 'super-heavy']      # defining the names for the categories\n",
        "df_SC['weight_category'] = pd.cut(df_SC['weight_kilograms'], bins, labels=names, include_lowest=True)  # adding the new cat. var. to our DF\n",
        "df_SC[['weight_kilograms','weight_category']].head(10)"
      ],
      "execution_count": null,
      "outputs": [
        {
          "output_type": "execute_result",
          "data": {
            "text/html": [
              "<div>\n",
              "<style scoped>\n",
              "    .dataframe tbody tr th:only-of-type {\n",
              "        vertical-align: middle;\n",
              "    }\n",
              "\n",
              "    .dataframe tbody tr th {\n",
              "        vertical-align: top;\n",
              "    }\n",
              "\n",
              "    .dataframe thead th {\n",
              "        text-align: right;\n",
              "    }\n",
              "</style>\n",
              "<table border=\"1\" class=\"dataframe\">\n",
              "  <thead>\n",
              "    <tr style=\"text-align: right;\">\n",
              "      <th></th>\n",
              "      <th>weight_kilograms</th>\n",
              "      <th>weight_category</th>\n",
              "    </tr>\n",
              "  </thead>\n",
              "  <tbody>\n",
              "    <tr>\n",
              "      <th>0</th>\n",
              "      <td>13.0</td>\n",
              "      <td>light</td>\n",
              "    </tr>\n",
              "    <tr>\n",
              "      <th>1</th>\n",
              "      <td>358.0</td>\n",
              "      <td>medium</td>\n",
              "    </tr>\n",
              "    <tr>\n",
              "      <th>2</th>\n",
              "      <td>171.0</td>\n",
              "      <td>medium</td>\n",
              "    </tr>\n",
              "    <tr>\n",
              "      <th>3</th>\n",
              "      <td>1855.0</td>\n",
              "      <td>super-heavy</td>\n",
              "    </tr>\n",
              "    <tr>\n",
              "      <th>4</th>\n",
              "      <td>7590.0</td>\n",
              "      <td>super-heavy</td>\n",
              "    </tr>\n",
              "    <tr>\n",
              "      <th>5</th>\n",
              "      <td>504.0</td>\n",
              "      <td>heavy</td>\n",
              "    </tr>\n",
              "    <tr>\n",
              "      <th>6</th>\n",
              "      <td>328.0</td>\n",
              "      <td>medium</td>\n",
              "    </tr>\n",
              "    <tr>\n",
              "      <th>7</th>\n",
              "      <td>1478.0</td>\n",
              "      <td>super-heavy</td>\n",
              "    </tr>\n",
              "    <tr>\n",
              "      <th>8</th>\n",
              "      <td>NaN</td>\n",
              "      <td>NaN</td>\n",
              "    </tr>\n",
              "    <tr>\n",
              "      <th>9</th>\n",
              "      <td>643.0</td>\n",
              "      <td>heavy</td>\n",
              "    </tr>\n",
              "  </tbody>\n",
              "</table>\n",
              "</div>"
            ],
            "text/plain": [
              "   weight_kilograms weight_category\n",
              "0              13.0           light\n",
              "1             358.0          medium\n",
              "2             171.0          medium\n",
              "3            1855.0     super-heavy\n",
              "4            7590.0     super-heavy\n",
              "5             504.0           heavy\n",
              "6             328.0          medium\n",
              "7            1478.0     super-heavy\n",
              "8               NaN             NaN\n",
              "9             643.0           heavy"
            ]
          },
          "metadata": {
            "tags": []
          },
          "execution_count": 25
        }
      ]
    }
  ]
}