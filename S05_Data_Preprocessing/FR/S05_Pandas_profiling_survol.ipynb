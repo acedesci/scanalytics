{
 "cells": [
  {
   "cell_type": "markdown",
   "metadata": {},
   "source": [
    "# S05 - Pandas profiling - Survol\n",
    "\n",
    "`pandas_profiling` est une librairie intéressante pour explorer vos données. **Elle n'est cependant pas installée par défaut dans Anaconda.** Dans ce notebook, nous ferons un bref aperçu de `pandas_profiling`; pour plus d'informations, référez vous à la [documentation](https://pandas-profiling.ydata.ai/docs/master/index.html).\n",
    "\n",
    "# Installer pandas_profiling\n",
    "\n",
    "## Anaconda\n",
    "Pour installer `pandas_profiling`, vous devez ouvrir un *Anaconda Prompt*. Dans cette console, vous écrivez ensuite\n",
    "\n",
    "```\n",
    "conda install -c conda-forge pandas-profiling\n",
    "```\n",
    "    \n",
    "et appuyez sur Entrée.\n",
    "\n",
    "Après un certain temps, du texte sera affiché dans votre console et il vous demandera si vous souhaitez continuer. Appuyez simplement sur Entrée pour continuer.\n",
    "\n",
    "## Google Colab\n",
    "Si vous êtes dans Google Colab, il suffit d'exécuter la cellule suivante afin de pouvoir utiliser `pandas_profiling`. Si vous utilisez un Jupyter Notebook, veuillez prioriser la procédure précédente."
   ]
  },
  {
   "cell_type": "code",
   "execution_count": null,
   "metadata": {},
   "outputs": [],
   "source": [
    "# pour Google Colab seulement\n",
    "!pip install https://github.com/pandas-profiling/pandas-profiling/archive/master.zip "
   ]
  },
  {
   "cell_type": "markdown",
   "metadata": {},
   "source": [
    "# Importer pandas_profiling\n",
    "Pour importer `pandas_profiling`, faites ce qui suit:"
   ]
  },
  {
   "cell_type": "code",
   "execution_count": null,
   "metadata": {},
   "outputs": [],
   "source": [
    "import pandas as pd\n",
    "from pandas_profiling import ProfileReport"
   ]
  },
  {
   "cell_type": "markdown",
   "metadata": {},
   "source": [
    "# Importer des données\n",
    "Importons maintenant un jeu de données."
   ]
  },
  {
   "cell_type": "code",
   "execution_count": null,
   "metadata": {},
   "outputs": [],
   "source": [
    "url = 'https://raw.githubusercontent.com/acedesci/scanalytics/master/data/Supply_Chain_Shipment_Pricing_Data.csv'\n",
    "df = pd.read_csv(url)\n",
    "df.head()"
   ]
  },
  {
   "cell_type": "markdown",
   "metadata": {},
   "source": [
    "# Générer et consulter un profil\n",
    "Nous générons maintenant le rapport de profil."
   ]
  },
  {
   "cell_type": "code",
   "execution_count": null,
   "metadata": {},
   "outputs": [],
   "source": [
    "profile = ProfileReport(df,\n",
    "                        title='Pandas Profiling Report',\n",
    "                        html={'style':{'full_width':True}})"
   ]
  },
  {
   "cell_type": "markdown",
   "metadata": {},
   "source": [
    "Nous pouvons accéder à ce rapport de trois manières. **Prendre note que la première approche peut prendre un temps considérable et ne fonctionne par sur Google Colab.** La première approche consiste à utiliser des widgets (voir ci-dessous)."
   ]
  },
  {
   "cell_type": "code",
   "execution_count": null,
   "metadata": {},
   "outputs": [],
   "source": [
    "profile.to_widgets()"
   ]
  },
  {
   "cell_type": "markdown",
   "metadata": {},
   "source": [
    "La deuxième approche consiste en un rapport HTML (voir ci-dessous)."
   ]
  },
  {
   "cell_type": "code",
   "execution_count": null,
   "metadata": {},
   "outputs": [],
   "source": [
    "profile.to_notebook_iframe()"
   ]
  },
  {
   "cell_type": "markdown",
   "metadata": {},
   "source": [
    "La troisième approche consiste en l'enregistrement de ces données sous la forme d'un rapport HTML ou de données json. Si vous voulez générer un fichier de rapport HTML, enregistrez le `ProfileReport` dans un objet et utilisez la fonction `to_file()`, comme suit."
   ]
  },
  {
   "cell_type": "code",
   "execution_count": null,
   "metadata": {},
   "outputs": [],
   "source": [
    "file_name = \"pandas_profiling_report.html\"\n",
    "profile.to_file(file_name) # sauvegarder le rapport"
   ]
  },
  {
   "cell_type": "markdown",
   "metadata": {},
   "source": [
    "Pour Colab, vous devez télécharger ce fichier pour l'enregistrer en utilisant le code ci-dessous."
   ]
  },
  {
   "cell_type": "code",
   "execution_count": null,
   "metadata": {},
   "outputs": [],
   "source": [
    "from google.colab import files\n",
    "\n",
    "files.download(file_name)"
   ]
  }
 ],
 "metadata": {
  "kernelspec": {
   "display_name": "Python 3 (ipykernel)",
   "language": "python",
   "name": "python3"
  },
  "language_info": {
   "codemirror_mode": {
    "name": "ipython",
    "version": 3
   },
   "file_extension": ".py",
   "mimetype": "text/x-python",
   "name": "python",
   "nbconvert_exporter": "python",
   "pygments_lexer": "ipython3",
   "version": "3.8.8"
  },
  "toc": {
   "base_numbering": 1,
   "nav_menu": {},
   "number_sections": true,
   "sideBar": true,
   "skip_h1_title": false,
   "title_cell": "Table of Contents",
   "title_sidebar": "Contents",
   "toc_cell": false,
   "toc_position": {},
   "toc_section_display": true,
   "toc_window_display": true
  }
 },
 "nbformat": 4,
 "nbformat_minor": 4
}
