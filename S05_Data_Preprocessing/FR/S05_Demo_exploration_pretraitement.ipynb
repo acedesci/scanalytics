{
 "cells": [
  {
   "cell_type": "markdown",
   "metadata": {
    "id": "xpcq0W5adVgo"
   },
   "source": [
    "# S05 - Exploration et prétraitement des données - Survol <a class=\"tocSkip\">\n",
    "Dans cet exemple, nous allons explorer un jeu de données adapté sur les expéditions et les prix de produits de santé. Plus précisément, le jeu de données identifie les expéditions d'antirétroviraux (ARV) et de laboratoires VIH vers les pays soutenus. En outre, le jeu de données fournit les prix des produits et les dépenses associées de la chaîne logistique nécessaires pour acheminer les produits vers ces pays. Les données originales sont fournies par l'Agence américaine pour le développement international et peuvent être consultées sur [cette page](https://catalog.data.gov/dataset/supply-chain-shipment-pricing-data)."
   ]
  },
  {
   "cell_type": "code",
   "execution_count": 1,
   "metadata": {
    "id": "CWUOy93mdlkW"
   },
   "outputs": [],
   "source": [
    "import numpy as np\n",
    "import pandas as pd\n",
    "from scipy import stats\n",
    "from sklearn.impute import KNNImputer"
   ]
  },
  {
   "cell_type": "markdown",
   "metadata": {
    "id": "3o-4MMzmdVg0"
   },
   "source": [
    "# Chargement des données\n",
    "\n",
    "Voici une description de nos données adaptées dans le fichier `SCMS_Delivery_History_Dataset.csv`:\n",
    "\n",
    "| VARIABLE | DESCRIPTION | \n",
    "|:----|:----|\n",
    "|id| identification number|\n",
    "|project code|identification of the project|\n",
    "|country|country to which the items are shipped|\n",
    "|vendor|identification of the vendor of the item|\n",
    "|manufacturing site|name of the manufacturer of the item|\n",
    "|shipment mode|transportation mode (e.g., air, truck)|\n",
    "|scheduled delivery date|programmed date for delivery|\n",
    "|delivered to client date|real date of delivery|\n",
    "|delivery recorded date|registered date of delivery|\n",
    "|product group|main category of the item|\n",
    "|product subgroup|subcategory of the item (e.g., HIV test, pediatric, Adult) |\n",
    "|molecule type|description of the composition of the item (e.g., Nevirapine, HIV 1/2, Didanosine)|\n",
    "|brand| item brand (e.g., generic or any other commercial brand)|\n",
    "|dosage| specifications about the dosage of each item (e.g.,10mg/ml, 200mg)|\n",
    "|dosage form|instructions for consumption (e.g., capsule, tablet, oral solution) |\n",
    "|units per pack| number of units in each package|\n",
    "|quantity pack sold| number of packages shipped to the specified country|\n",
    "|value sold| total value in USD of the shipment (i.e., pack_price * quantity pack sold|\n",
    "|pack price| price in USD per package|\n",
    "|unit price| price in USD per unit|\n",
    "|weight (kilograms)| total weight in kilograms of the shipment|\n",
    "|freight cost (usd)| value in USD paid for transportation|\n",
    "|insurance (usd)|value in USD paid for insurance|\n",
    "\n",
    "Importons maintenant les données."
   ]
  },
  {
   "cell_type": "code",
   "execution_count": 2,
   "metadata": {
    "id": "8cvKdP0cdVg0",
    "scrolled": true
   },
   "outputs": [
    {
     "name": "stdout",
     "output_type": "stream",
     "text": [
      "Index(['id', 'project code', 'pq #', 'po / so #', 'asn/dn #', 'country',\n",
      "       'managed by', 'fulfill via', 'vendor inco term', 'shipment mode',\n",
      "       'pq first sent to client date', 'po sent to vendor date',\n",
      "       'scheduled delivery date', 'delivered to client date',\n",
      "       'delivery recorded date', 'product group', 'sub classification',\n",
      "       'vendor', 'item description', 'molecule/test type', 'brand', 'dosage',\n",
      "       'dosage form', 'unit of measure (per pack)', 'line item quantity',\n",
      "       'line item value', 'pack price', 'unit price', 'manufacturing site',\n",
      "       'first line designation', 'weight (kilograms)', 'freight cost (usd)',\n",
      "       'line item insurance (usd)'],\n",
      "      dtype='object')\n"
     ]
    },
    {
     "data": {
      "text/html": [
       "<div>\n",
       "<style scoped>\n",
       "    .dataframe tbody tr th:only-of-type {\n",
       "        vertical-align: middle;\n",
       "    }\n",
       "\n",
       "    .dataframe tbody tr th {\n",
       "        vertical-align: top;\n",
       "    }\n",
       "\n",
       "    .dataframe thead th {\n",
       "        text-align: right;\n",
       "    }\n",
       "</style>\n",
       "<table border=\"1\" class=\"dataframe\">\n",
       "  <thead>\n",
       "    <tr style=\"text-align: right;\">\n",
       "      <th></th>\n",
       "      <th>id</th>\n",
       "      <th>project_code</th>\n",
       "      <th>pq_</th>\n",
       "      <th>po__so_</th>\n",
       "      <th>asndn_</th>\n",
       "      <th>country</th>\n",
       "      <th>managed_by</th>\n",
       "      <th>fulfill_via</th>\n",
       "      <th>vendor_inco_term</th>\n",
       "      <th>shipment_mode</th>\n",
       "      <th>...</th>\n",
       "      <th>unit_of_measure_per_pack</th>\n",
       "      <th>line_item_quantity</th>\n",
       "      <th>line_item_value</th>\n",
       "      <th>pack_price</th>\n",
       "      <th>unit_price</th>\n",
       "      <th>manufacturing_site</th>\n",
       "      <th>first_line_designation</th>\n",
       "      <th>weight_kilograms</th>\n",
       "      <th>freight_cost_usd</th>\n",
       "      <th>line_item_insurance_usd</th>\n",
       "    </tr>\n",
       "  </thead>\n",
       "  <tbody>\n",
       "    <tr>\n",
       "      <th>0</th>\n",
       "      <td>1</td>\n",
       "      <td>100-CI-T01</td>\n",
       "      <td>Pre-PQ Process</td>\n",
       "      <td>SCMS-4</td>\n",
       "      <td>ASN-8</td>\n",
       "      <td>Côte d'Ivoire</td>\n",
       "      <td>PMO - US</td>\n",
       "      <td>Direct Drop</td>\n",
       "      <td>EXW</td>\n",
       "      <td>Air</td>\n",
       "      <td>...</td>\n",
       "      <td>30</td>\n",
       "      <td>19</td>\n",
       "      <td>551.0</td>\n",
       "      <td>29.00</td>\n",
       "      <td>0.97</td>\n",
       "      <td>Ranbaxy Fine Chemicals LTD</td>\n",
       "      <td>True</td>\n",
       "      <td>13</td>\n",
       "      <td>780.34</td>\n",
       "      <td>NaN</td>\n",
       "    </tr>\n",
       "    <tr>\n",
       "      <th>1</th>\n",
       "      <td>3</td>\n",
       "      <td>108-VN-T01</td>\n",
       "      <td>Pre-PQ Process</td>\n",
       "      <td>SCMS-13</td>\n",
       "      <td>ASN-85</td>\n",
       "      <td>Vietnam</td>\n",
       "      <td>PMO - US</td>\n",
       "      <td>Direct Drop</td>\n",
       "      <td>EXW</td>\n",
       "      <td>Air</td>\n",
       "      <td>...</td>\n",
       "      <td>240</td>\n",
       "      <td>1000</td>\n",
       "      <td>6200.0</td>\n",
       "      <td>6.20</td>\n",
       "      <td>0.03</td>\n",
       "      <td>Aurobindo Unit III, India</td>\n",
       "      <td>True</td>\n",
       "      <td>358</td>\n",
       "      <td>4521.5</td>\n",
       "      <td>NaN</td>\n",
       "    </tr>\n",
       "    <tr>\n",
       "      <th>2</th>\n",
       "      <td>4</td>\n",
       "      <td>100-CI-T01</td>\n",
       "      <td>Pre-PQ Process</td>\n",
       "      <td>SCMS-20</td>\n",
       "      <td>ASN-14</td>\n",
       "      <td>Côte d'Ivoire</td>\n",
       "      <td>PMO - US</td>\n",
       "      <td>Direct Drop</td>\n",
       "      <td>FCA</td>\n",
       "      <td>Air</td>\n",
       "      <td>...</td>\n",
       "      <td>100</td>\n",
       "      <td>500</td>\n",
       "      <td>40000.0</td>\n",
       "      <td>80.00</td>\n",
       "      <td>0.80</td>\n",
       "      <td>ABBVIE GmbH &amp; Co.KG Wiesbaden</td>\n",
       "      <td>True</td>\n",
       "      <td>171</td>\n",
       "      <td>1653.78</td>\n",
       "      <td>NaN</td>\n",
       "    </tr>\n",
       "    <tr>\n",
       "      <th>3</th>\n",
       "      <td>15</td>\n",
       "      <td>108-VN-T01</td>\n",
       "      <td>Pre-PQ Process</td>\n",
       "      <td>SCMS-78</td>\n",
       "      <td>ASN-50</td>\n",
       "      <td>Vietnam</td>\n",
       "      <td>PMO - US</td>\n",
       "      <td>Direct Drop</td>\n",
       "      <td>EXW</td>\n",
       "      <td>Air</td>\n",
       "      <td>...</td>\n",
       "      <td>60</td>\n",
       "      <td>31920</td>\n",
       "      <td>127360.8</td>\n",
       "      <td>3.99</td>\n",
       "      <td>0.07</td>\n",
       "      <td>Ranbaxy, Paonta Shahib, India</td>\n",
       "      <td>True</td>\n",
       "      <td>1855</td>\n",
       "      <td>16007.06</td>\n",
       "      <td>NaN</td>\n",
       "    </tr>\n",
       "    <tr>\n",
       "      <th>4</th>\n",
       "      <td>16</td>\n",
       "      <td>108-VN-T01</td>\n",
       "      <td>Pre-PQ Process</td>\n",
       "      <td>SCMS-81</td>\n",
       "      <td>ASN-55</td>\n",
       "      <td>Vietnam</td>\n",
       "      <td>PMO - US</td>\n",
       "      <td>Direct Drop</td>\n",
       "      <td>EXW</td>\n",
       "      <td>Air</td>\n",
       "      <td>...</td>\n",
       "      <td>60</td>\n",
       "      <td>38000</td>\n",
       "      <td>121600.0</td>\n",
       "      <td>3.20</td>\n",
       "      <td>0.05</td>\n",
       "      <td>Aurobindo Unit III, India</td>\n",
       "      <td>True</td>\n",
       "      <td>7590</td>\n",
       "      <td>45450.08</td>\n",
       "      <td>NaN</td>\n",
       "    </tr>\n",
       "  </tbody>\n",
       "</table>\n",
       "<p>5 rows × 33 columns</p>\n",
       "</div>"
      ],
      "text/plain": [
       "   id project_code             pq_  po__so_  asndn_        country managed_by  \\\n",
       "0   1   100-CI-T01  Pre-PQ Process   SCMS-4   ASN-8  Côte d'Ivoire   PMO - US   \n",
       "1   3   108-VN-T01  Pre-PQ Process  SCMS-13  ASN-85        Vietnam   PMO - US   \n",
       "2   4   100-CI-T01  Pre-PQ Process  SCMS-20  ASN-14  Côte d'Ivoire   PMO - US   \n",
       "3  15   108-VN-T01  Pre-PQ Process  SCMS-78  ASN-50        Vietnam   PMO - US   \n",
       "4  16   108-VN-T01  Pre-PQ Process  SCMS-81  ASN-55        Vietnam   PMO - US   \n",
       "\n",
       "   fulfill_via vendor_inco_term shipment_mode  ... unit_of_measure_per_pack  \\\n",
       "0  Direct Drop              EXW           Air  ...                       30   \n",
       "1  Direct Drop              EXW           Air  ...                      240   \n",
       "2  Direct Drop              FCA           Air  ...                      100   \n",
       "3  Direct Drop              EXW           Air  ...                       60   \n",
       "4  Direct Drop              EXW           Air  ...                       60   \n",
       "\n",
       "  line_item_quantity line_item_value pack_price unit_price  \\\n",
       "0                 19           551.0      29.00       0.97   \n",
       "1               1000          6200.0       6.20       0.03   \n",
       "2                500         40000.0      80.00       0.80   \n",
       "3              31920        127360.8       3.99       0.07   \n",
       "4              38000        121600.0       3.20       0.05   \n",
       "\n",
       "              manufacturing_site first_line_designation weight_kilograms  \\\n",
       "0     Ranbaxy Fine Chemicals LTD                   True               13   \n",
       "1      Aurobindo Unit III, India                   True              358   \n",
       "2  ABBVIE GmbH & Co.KG Wiesbaden                   True              171   \n",
       "3  Ranbaxy, Paonta Shahib, India                   True             1855   \n",
       "4      Aurobindo Unit III, India                   True             7590   \n",
       "\n",
       "  freight_cost_usd line_item_insurance_usd  \n",
       "0           780.34                     NaN  \n",
       "1           4521.5                     NaN  \n",
       "2          1653.78                     NaN  \n",
       "3         16007.06                     NaN  \n",
       "4         45450.08                     NaN  \n",
       "\n",
       "[5 rows x 33 columns]"
      ]
     },
     "execution_count": 2,
     "metadata": {},
     "output_type": "execute_result"
    }
   ],
   "source": [
    "url = 'https://raw.githubusercontent.com/acedesci/scanalytics/master/S05_Data_Preprocessing/data/Supply_Chain_Shipment_Pricing_Data.csv'\n",
    "df_SC = pd.read_csv(url)  # importation des données\n",
    "print(df_SC.columns)\n",
    "\n",
    "# Élimination des charactères spéciaux et remplacement des espaces\n",
    "df_SC.columns = df_SC.columns.str.replace(' ', '_', regex=False)\n",
    "df_SC.columns = df_SC.columns.str.replace('(', '', regex=False)\n",
    "df_SC.columns = df_SC.columns.str.replace(')', '', regex=False)\n",
    "df_SC.columns = df_SC.columns.str.replace('#', '', regex=False)\n",
    "df_SC.columns = df_SC.columns.str.replace('/', '', regex=False)\n",
    "\n",
    "df_SC.head()"
   ]
  },
  {
   "cell_type": "markdown",
   "metadata": {
    "id": "1nyoij1WqGs3"
   },
   "source": [
    "Comme la table est relativement grande, nous ne choisissons que les colonnes qui nous intéressent pour les mettre dans le DataFrame:"
   ]
  },
  {
   "cell_type": "code",
   "execution_count": 3,
   "metadata": {
    "id": "NDYrEy_9qWhz"
   },
   "outputs": [
    {
     "data": {
      "text/html": [
       "<div>\n",
       "<style scoped>\n",
       "    .dataframe tbody tr th:only-of-type {\n",
       "        vertical-align: middle;\n",
       "    }\n",
       "\n",
       "    .dataframe tbody tr th {\n",
       "        vertical-align: top;\n",
       "    }\n",
       "\n",
       "    .dataframe thead th {\n",
       "        text-align: right;\n",
       "    }\n",
       "</style>\n",
       "<table border=\"1\" class=\"dataframe\">\n",
       "  <thead>\n",
       "    <tr style=\"text-align: right;\">\n",
       "      <th></th>\n",
       "      <th>id</th>\n",
       "      <th>country</th>\n",
       "      <th>shipment_mode</th>\n",
       "      <th>scheduled_delivery_date</th>\n",
       "      <th>sub_classification</th>\n",
       "      <th>vendor</th>\n",
       "      <th>item_description</th>\n",
       "      <th>brand</th>\n",
       "      <th>line_item_quantity</th>\n",
       "      <th>line_item_value</th>\n",
       "      <th>unit_price</th>\n",
       "      <th>weight_kilograms</th>\n",
       "      <th>freight_cost_usd</th>\n",
       "      <th>line_item_insurance_usd</th>\n",
       "    </tr>\n",
       "  </thead>\n",
       "  <tbody>\n",
       "    <tr>\n",
       "      <th>0</th>\n",
       "      <td>1</td>\n",
       "      <td>Côte d'Ivoire</td>\n",
       "      <td>Air</td>\n",
       "      <td>2-Jun-06</td>\n",
       "      <td>HIV test</td>\n",
       "      <td>RANBAXY Fine Chemicals LTD.</td>\n",
       "      <td>HIV, Reveal G3 Rapid HIV-1 Antibody Test, 30 T...</td>\n",
       "      <td>Reveal</td>\n",
       "      <td>19</td>\n",
       "      <td>551.0</td>\n",
       "      <td>0.97</td>\n",
       "      <td>13</td>\n",
       "      <td>780.34</td>\n",
       "      <td>NaN</td>\n",
       "    </tr>\n",
       "    <tr>\n",
       "      <th>1</th>\n",
       "      <td>3</td>\n",
       "      <td>Vietnam</td>\n",
       "      <td>Air</td>\n",
       "      <td>14-Nov-06</td>\n",
       "      <td>Pediatric</td>\n",
       "      <td>Aurobindo Pharma Limited</td>\n",
       "      <td>Nevirapine 10mg/ml, oral suspension, Bottle, 2...</td>\n",
       "      <td>Generic</td>\n",
       "      <td>1000</td>\n",
       "      <td>6200.0</td>\n",
       "      <td>0.03</td>\n",
       "      <td>358</td>\n",
       "      <td>4521.5</td>\n",
       "      <td>NaN</td>\n",
       "    </tr>\n",
       "    <tr>\n",
       "      <th>2</th>\n",
       "      <td>4</td>\n",
       "      <td>Côte d'Ivoire</td>\n",
       "      <td>Air</td>\n",
       "      <td>27-Aug-06</td>\n",
       "      <td>HIV test</td>\n",
       "      <td>Abbott GmbH &amp; Co. KG</td>\n",
       "      <td>HIV 1/2, Determine Complete HIV Kit, 100 Tests</td>\n",
       "      <td>Determine</td>\n",
       "      <td>500</td>\n",
       "      <td>40000.0</td>\n",
       "      <td>0.80</td>\n",
       "      <td>171</td>\n",
       "      <td>1653.78</td>\n",
       "      <td>NaN</td>\n",
       "    </tr>\n",
       "    <tr>\n",
       "      <th>3</th>\n",
       "      <td>15</td>\n",
       "      <td>Vietnam</td>\n",
       "      <td>Air</td>\n",
       "      <td>1-Sep-06</td>\n",
       "      <td>Adult</td>\n",
       "      <td>SUN PHARMACEUTICAL INDUSTRIES LTD (RANBAXY LAB...</td>\n",
       "      <td>Lamivudine 150mg, tablets, 60 Tabs</td>\n",
       "      <td>Generic</td>\n",
       "      <td>31920</td>\n",
       "      <td>127360.8</td>\n",
       "      <td>0.07</td>\n",
       "      <td>1855</td>\n",
       "      <td>16007.06</td>\n",
       "      <td>NaN</td>\n",
       "    </tr>\n",
       "    <tr>\n",
       "      <th>4</th>\n",
       "      <td>16</td>\n",
       "      <td>Vietnam</td>\n",
       "      <td>Air</td>\n",
       "      <td>11-Aug-06</td>\n",
       "      <td>Adult</td>\n",
       "      <td>Aurobindo Pharma Limited</td>\n",
       "      <td>Stavudine 30mg, capsules, 60 Caps</td>\n",
       "      <td>Generic</td>\n",
       "      <td>38000</td>\n",
       "      <td>121600.0</td>\n",
       "      <td>0.05</td>\n",
       "      <td>7590</td>\n",
       "      <td>45450.08</td>\n",
       "      <td>NaN</td>\n",
       "    </tr>\n",
       "  </tbody>\n",
       "</table>\n",
       "</div>"
      ],
      "text/plain": [
       "   id        country shipment_mode scheduled_delivery_date sub_classification  \\\n",
       "0   1  Côte d'Ivoire           Air                2-Jun-06           HIV test   \n",
       "1   3        Vietnam           Air               14-Nov-06          Pediatric   \n",
       "2   4  Côte d'Ivoire           Air               27-Aug-06           HIV test   \n",
       "3  15        Vietnam           Air                1-Sep-06              Adult   \n",
       "4  16        Vietnam           Air               11-Aug-06              Adult   \n",
       "\n",
       "                                              vendor  \\\n",
       "0                        RANBAXY Fine Chemicals LTD.   \n",
       "1                           Aurobindo Pharma Limited   \n",
       "2                               Abbott GmbH & Co. KG   \n",
       "3  SUN PHARMACEUTICAL INDUSTRIES LTD (RANBAXY LAB...   \n",
       "4                           Aurobindo Pharma Limited   \n",
       "\n",
       "                                    item_description      brand  \\\n",
       "0  HIV, Reveal G3 Rapid HIV-1 Antibody Test, 30 T...     Reveal   \n",
       "1  Nevirapine 10mg/ml, oral suspension, Bottle, 2...    Generic   \n",
       "2     HIV 1/2, Determine Complete HIV Kit, 100 Tests  Determine   \n",
       "3                 Lamivudine 150mg, tablets, 60 Tabs    Generic   \n",
       "4                  Stavudine 30mg, capsules, 60 Caps    Generic   \n",
       "\n",
       "   line_item_quantity  line_item_value  unit_price weight_kilograms  \\\n",
       "0                  19            551.0        0.97               13   \n",
       "1                1000           6200.0        0.03              358   \n",
       "2                 500          40000.0        0.80              171   \n",
       "3               31920         127360.8        0.07             1855   \n",
       "4               38000         121600.0        0.05             7590   \n",
       "\n",
       "  freight_cost_usd  line_item_insurance_usd  \n",
       "0           780.34                      NaN  \n",
       "1           4521.5                      NaN  \n",
       "2          1653.78                      NaN  \n",
       "3         16007.06                      NaN  \n",
       "4         45450.08                      NaN  "
      ]
     },
     "execution_count": 3,
     "metadata": {},
     "output_type": "execute_result"
    }
   ],
   "source": [
    "selected_columns = [\n",
    "    'id', 'country', 'shipment_mode', 'scheduled_delivery_date', 'sub_classification',\n",
    "    'vendor', 'item_description', 'brand', 'line_item_quantity',\n",
    "    'line_item_value', 'unit_price', 'weight_kilograms', 'freight_cost_usd',\n",
    "    'line_item_insurance_usd']\n",
    "df_SC = df_SC[selected_columns]\n",
    "\n",
    "df_SC.head()"
   ]
  },
  {
   "cell_type": "markdown",
   "metadata": {
    "id": "K8XincjduqNj"
   },
   "source": [
    "La colonne `item_description` contient la description du produit. Toutefois, nous pouvons aussi assigner un numéro unique à chaque produit. `pandas` possède la [fonction `factorize`](https://pandas.pydata.org/pandas-docs/stable/reference/api/pandas.factorize.html) pour créer une liste de numéros uniques. Cette fonction peut être utilisée de la façon suivante."
   ]
  },
  {
   "cell_type": "code",
   "execution_count": 4,
   "metadata": {
    "id": "PQLAseuNupUA"
   },
   "outputs": [
    {
     "name": "stdout",
     "output_type": "stream",
     "text": [
      "['SKU0000', 'SKU0001', 'SKU0002', 'SKU0003', 'SKU0004', 'SKU0005', 'SKU0006', 'SKU0007', 'SKU0004', 'SKU0008']\n"
     ]
    }
   ],
   "source": [
    "# `codes` donne une liste de numéros uniques (dans le même ordre que la colonne `item_description`)\n",
    "# `uniques` donne une liste des valeurs uniques de `item_description`\n",
    "codes, uniques = pd.factorize(df_SC['item_description']) \n",
    "\n",
    "# On modifie ces codes pour obtenir le format 'SKU0000'\n",
    "codes = [f\"SKU{i:04d}\" for i in codes]\n",
    "print(codes[:10])"
   ]
  },
  {
   "cell_type": "markdown",
   "metadata": {
    "id": "mGrxO85H0Oo-"
   },
   "source": [
    "Nous ajoutons maintenant cette colonne devant la colonne `item_description`. "
   ]
  },
  {
   "cell_type": "code",
   "execution_count": 5,
   "metadata": {
    "id": "SRQQ-uDl0SV7"
   },
   "outputs": [
    {
     "data": {
      "text/html": [
       "<div>\n",
       "<style scoped>\n",
       "    .dataframe tbody tr th:only-of-type {\n",
       "        vertical-align: middle;\n",
       "    }\n",
       "\n",
       "    .dataframe tbody tr th {\n",
       "        vertical-align: top;\n",
       "    }\n",
       "\n",
       "    .dataframe thead th {\n",
       "        text-align: right;\n",
       "    }\n",
       "</style>\n",
       "<table border=\"1\" class=\"dataframe\">\n",
       "  <thead>\n",
       "    <tr style=\"text-align: right;\">\n",
       "      <th></th>\n",
       "      <th>id</th>\n",
       "      <th>country</th>\n",
       "      <th>shipment_mode</th>\n",
       "      <th>scheduled_delivery_date</th>\n",
       "      <th>sub_classification</th>\n",
       "      <th>vendor</th>\n",
       "      <th>item_id</th>\n",
       "      <th>item_description</th>\n",
       "      <th>brand</th>\n",
       "      <th>line_item_quantity</th>\n",
       "      <th>line_item_value</th>\n",
       "      <th>unit_price</th>\n",
       "      <th>weight_kilograms</th>\n",
       "      <th>freight_cost_usd</th>\n",
       "      <th>line_item_insurance_usd</th>\n",
       "    </tr>\n",
       "  </thead>\n",
       "  <tbody>\n",
       "    <tr>\n",
       "      <th>0</th>\n",
       "      <td>1</td>\n",
       "      <td>Côte d'Ivoire</td>\n",
       "      <td>Air</td>\n",
       "      <td>2-Jun-06</td>\n",
       "      <td>HIV test</td>\n",
       "      <td>RANBAXY Fine Chemicals LTD.</td>\n",
       "      <td>SKU0000</td>\n",
       "      <td>HIV, Reveal G3 Rapid HIV-1 Antibody Test, 30 T...</td>\n",
       "      <td>Reveal</td>\n",
       "      <td>19</td>\n",
       "      <td>551.0</td>\n",
       "      <td>0.97</td>\n",
       "      <td>13</td>\n",
       "      <td>780.34</td>\n",
       "      <td>NaN</td>\n",
       "    </tr>\n",
       "    <tr>\n",
       "      <th>1</th>\n",
       "      <td>3</td>\n",
       "      <td>Vietnam</td>\n",
       "      <td>Air</td>\n",
       "      <td>14-Nov-06</td>\n",
       "      <td>Pediatric</td>\n",
       "      <td>Aurobindo Pharma Limited</td>\n",
       "      <td>SKU0001</td>\n",
       "      <td>Nevirapine 10mg/ml, oral suspension, Bottle, 2...</td>\n",
       "      <td>Generic</td>\n",
       "      <td>1000</td>\n",
       "      <td>6200.0</td>\n",
       "      <td>0.03</td>\n",
       "      <td>358</td>\n",
       "      <td>4521.5</td>\n",
       "      <td>NaN</td>\n",
       "    </tr>\n",
       "    <tr>\n",
       "      <th>2</th>\n",
       "      <td>4</td>\n",
       "      <td>Côte d'Ivoire</td>\n",
       "      <td>Air</td>\n",
       "      <td>27-Aug-06</td>\n",
       "      <td>HIV test</td>\n",
       "      <td>Abbott GmbH &amp; Co. KG</td>\n",
       "      <td>SKU0002</td>\n",
       "      <td>HIV 1/2, Determine Complete HIV Kit, 100 Tests</td>\n",
       "      <td>Determine</td>\n",
       "      <td>500</td>\n",
       "      <td>40000.0</td>\n",
       "      <td>0.80</td>\n",
       "      <td>171</td>\n",
       "      <td>1653.78</td>\n",
       "      <td>NaN</td>\n",
       "    </tr>\n",
       "    <tr>\n",
       "      <th>3</th>\n",
       "      <td>15</td>\n",
       "      <td>Vietnam</td>\n",
       "      <td>Air</td>\n",
       "      <td>1-Sep-06</td>\n",
       "      <td>Adult</td>\n",
       "      <td>SUN PHARMACEUTICAL INDUSTRIES LTD (RANBAXY LAB...</td>\n",
       "      <td>SKU0003</td>\n",
       "      <td>Lamivudine 150mg, tablets, 60 Tabs</td>\n",
       "      <td>Generic</td>\n",
       "      <td>31920</td>\n",
       "      <td>127360.8</td>\n",
       "      <td>0.07</td>\n",
       "      <td>1855</td>\n",
       "      <td>16007.06</td>\n",
       "      <td>NaN</td>\n",
       "    </tr>\n",
       "    <tr>\n",
       "      <th>4</th>\n",
       "      <td>16</td>\n",
       "      <td>Vietnam</td>\n",
       "      <td>Air</td>\n",
       "      <td>11-Aug-06</td>\n",
       "      <td>Adult</td>\n",
       "      <td>Aurobindo Pharma Limited</td>\n",
       "      <td>SKU0004</td>\n",
       "      <td>Stavudine 30mg, capsules, 60 Caps</td>\n",
       "      <td>Generic</td>\n",
       "      <td>38000</td>\n",
       "      <td>121600.0</td>\n",
       "      <td>0.05</td>\n",
       "      <td>7590</td>\n",
       "      <td>45450.08</td>\n",
       "      <td>NaN</td>\n",
       "    </tr>\n",
       "  </tbody>\n",
       "</table>\n",
       "</div>"
      ],
      "text/plain": [
       "   id        country shipment_mode scheduled_delivery_date sub_classification  \\\n",
       "0   1  Côte d'Ivoire           Air                2-Jun-06           HIV test   \n",
       "1   3        Vietnam           Air               14-Nov-06          Pediatric   \n",
       "2   4  Côte d'Ivoire           Air               27-Aug-06           HIV test   \n",
       "3  15        Vietnam           Air                1-Sep-06              Adult   \n",
       "4  16        Vietnam           Air               11-Aug-06              Adult   \n",
       "\n",
       "                                              vendor  item_id  \\\n",
       "0                        RANBAXY Fine Chemicals LTD.  SKU0000   \n",
       "1                           Aurobindo Pharma Limited  SKU0001   \n",
       "2                               Abbott GmbH & Co. KG  SKU0002   \n",
       "3  SUN PHARMACEUTICAL INDUSTRIES LTD (RANBAXY LAB...  SKU0003   \n",
       "4                           Aurobindo Pharma Limited  SKU0004   \n",
       "\n",
       "                                    item_description      brand  \\\n",
       "0  HIV, Reveal G3 Rapid HIV-1 Antibody Test, 30 T...     Reveal   \n",
       "1  Nevirapine 10mg/ml, oral suspension, Bottle, 2...    Generic   \n",
       "2     HIV 1/2, Determine Complete HIV Kit, 100 Tests  Determine   \n",
       "3                 Lamivudine 150mg, tablets, 60 Tabs    Generic   \n",
       "4                  Stavudine 30mg, capsules, 60 Caps    Generic   \n",
       "\n",
       "   line_item_quantity  line_item_value  unit_price weight_kilograms  \\\n",
       "0                  19            551.0        0.97               13   \n",
       "1                1000           6200.0        0.03              358   \n",
       "2                 500          40000.0        0.80              171   \n",
       "3               31920         127360.8        0.07             1855   \n",
       "4               38000         121600.0        0.05             7590   \n",
       "\n",
       "  freight_cost_usd  line_item_insurance_usd  \n",
       "0           780.34                      NaN  \n",
       "1           4521.5                      NaN  \n",
       "2          1653.78                      NaN  \n",
       "3         16007.06                      NaN  \n",
       "4         45450.08                      NaN  "
      ]
     },
     "execution_count": 5,
     "metadata": {},
     "output_type": "execute_result"
    }
   ],
   "source": [
    "df_SC.insert(6, 'item_id', codes)\n",
    "df_SC.head()"
   ]
  },
  {
   "cell_type": "markdown",
   "metadata": {
    "id": "y4HuG2H3dVjV"
   },
   "source": [
    "# Ajustement des types des variables"
   ]
  },
  {
   "cell_type": "markdown",
   "metadata": {
    "id": "_y7Cp120dvtH"
   },
   "source": [
    "Nous pouvons utiliser la méthode `.describe()` pour montrer différentes statistiques sur les données."
   ]
  },
  {
   "cell_type": "code",
   "execution_count": 6,
   "metadata": {
    "id": "lgYsLH2VdVjW"
   },
   "outputs": [
    {
     "data": {
      "text/html": [
       "<div>\n",
       "<style scoped>\n",
       "    .dataframe tbody tr th:only-of-type {\n",
       "        vertical-align: middle;\n",
       "    }\n",
       "\n",
       "    .dataframe tbody tr th {\n",
       "        vertical-align: top;\n",
       "    }\n",
       "\n",
       "    .dataframe thead th {\n",
       "        text-align: right;\n",
       "    }\n",
       "</style>\n",
       "<table border=\"1\" class=\"dataframe\">\n",
       "  <thead>\n",
       "    <tr style=\"text-align: right;\">\n",
       "      <th></th>\n",
       "      <th>id</th>\n",
       "      <th>line_item_quantity</th>\n",
       "      <th>line_item_value</th>\n",
       "      <th>unit_price</th>\n",
       "      <th>line_item_insurance_usd</th>\n",
       "    </tr>\n",
       "  </thead>\n",
       "  <tbody>\n",
       "    <tr>\n",
       "      <th>count</th>\n",
       "      <td>10324.000000</td>\n",
       "      <td>10324.000000</td>\n",
       "      <td>1.032400e+04</td>\n",
       "      <td>10324.000000</td>\n",
       "      <td>10037.000000</td>\n",
       "    </tr>\n",
       "    <tr>\n",
       "      <th>mean</th>\n",
       "      <td>51098.968229</td>\n",
       "      <td>18332.534870</td>\n",
       "      <td>1.576506e+05</td>\n",
       "      <td>0.611701</td>\n",
       "      <td>240.117626</td>\n",
       "    </tr>\n",
       "    <tr>\n",
       "      <th>std</th>\n",
       "      <td>31944.332496</td>\n",
       "      <td>40035.302961</td>\n",
       "      <td>3.452921e+05</td>\n",
       "      <td>3.275808</td>\n",
       "      <td>500.190568</td>\n",
       "    </tr>\n",
       "    <tr>\n",
       "      <th>min</th>\n",
       "      <td>1.000000</td>\n",
       "      <td>1.000000</td>\n",
       "      <td>0.000000e+00</td>\n",
       "      <td>0.000000</td>\n",
       "      <td>0.000000</td>\n",
       "    </tr>\n",
       "    <tr>\n",
       "      <th>25%</th>\n",
       "      <td>12795.750000</td>\n",
       "      <td>408.000000</td>\n",
       "      <td>4.314593e+03</td>\n",
       "      <td>0.080000</td>\n",
       "      <td>6.510000</td>\n",
       "    </tr>\n",
       "    <tr>\n",
       "      <th>50%</th>\n",
       "      <td>57540.500000</td>\n",
       "      <td>3000.000000</td>\n",
       "      <td>3.047147e+04</td>\n",
       "      <td>0.160000</td>\n",
       "      <td>47.040000</td>\n",
       "    </tr>\n",
       "    <tr>\n",
       "      <th>75%</th>\n",
       "      <td>83648.250000</td>\n",
       "      <td>17039.750000</td>\n",
       "      <td>1.664471e+05</td>\n",
       "      <td>0.470000</td>\n",
       "      <td>252.400000</td>\n",
       "    </tr>\n",
       "    <tr>\n",
       "      <th>max</th>\n",
       "      <td>86823.000000</td>\n",
       "      <td>619999.000000</td>\n",
       "      <td>5.951990e+06</td>\n",
       "      <td>238.650000</td>\n",
       "      <td>7708.440000</td>\n",
       "    </tr>\n",
       "  </tbody>\n",
       "</table>\n",
       "</div>"
      ],
      "text/plain": [
       "                 id  line_item_quantity  line_item_value    unit_price  \\\n",
       "count  10324.000000        10324.000000     1.032400e+04  10324.000000   \n",
       "mean   51098.968229        18332.534870     1.576506e+05      0.611701   \n",
       "std    31944.332496        40035.302961     3.452921e+05      3.275808   \n",
       "min        1.000000            1.000000     0.000000e+00      0.000000   \n",
       "25%    12795.750000          408.000000     4.314593e+03      0.080000   \n",
       "50%    57540.500000         3000.000000     3.047147e+04      0.160000   \n",
       "75%    83648.250000        17039.750000     1.664471e+05      0.470000   \n",
       "max    86823.000000       619999.000000     5.951990e+06    238.650000   \n",
       "\n",
       "       line_item_insurance_usd  \n",
       "count             10037.000000  \n",
       "mean                240.117626  \n",
       "std                 500.190568  \n",
       "min                   0.000000  \n",
       "25%                   6.510000  \n",
       "50%                  47.040000  \n",
       "75%                 252.400000  \n",
       "max                7708.440000  "
      ]
     },
     "execution_count": 6,
     "metadata": {},
     "output_type": "execute_result"
    }
   ],
   "source": [
    "df_SC.describe()"
   ]
  },
  {
   "cell_type": "markdown",
   "metadata": {
    "id": "QUZ7rOsqdVjX"
   },
   "source": [
    "On remarque alors que certaines colonnes telles que `weight_kilograms` et `freight_cost_usd` sont manquantes. Ceci doit être dû à leur type. Regardons le type des différentes colonnes."
   ]
  },
  {
   "cell_type": "code",
   "execution_count": 7,
   "metadata": {
    "id": "m5YmsjiBdVjX",
    "scrolled": true
   },
   "outputs": [
    {
     "data": {
      "text/plain": [
       "id                           int64\n",
       "country                     object\n",
       "shipment_mode               object\n",
       "scheduled_delivery_date     object\n",
       "sub_classification          object\n",
       "vendor                      object\n",
       "item_id                     object\n",
       "item_description            object\n",
       "brand                       object\n",
       "line_item_quantity           int64\n",
       "line_item_value            float64\n",
       "unit_price                 float64\n",
       "weight_kilograms            object\n",
       "freight_cost_usd            object\n",
       "line_item_insurance_usd    float64\n",
       "dtype: object"
      ]
     },
     "execution_count": 7,
     "metadata": {},
     "output_type": "execute_result"
    }
   ],
   "source": [
    "df_SC.dtypes"
   ]
  },
  {
   "cell_type": "markdown",
   "metadata": {
    "id": "uhXSuCSmdVjY"
   },
   "source": [
    "Plusieurs colonnes sont identifiées comme ayant le type `object`, qui signifie généralement une colonne avec des `string` ou avec plusieurs types de données. Nous allons donc corriger ces types.\n",
    "\n",
    "Commençons par corriger la colonne `scheduled_delivery_date` avec la fonction `pd.to_datetime()` pour obtenir le type `datetime64[ns]`. Nous pouvons obtenir le même résultat avec la méthode `df_SC['scheduled_delivery_date'].astype('datetime64')`."
   ]
  },
  {
   "cell_type": "code",
   "execution_count": 8,
   "metadata": {
    "id": "VBq-cx44dVjY",
    "scrolled": true
   },
   "outputs": [
    {
     "data": {
      "text/plain": [
       "0       2006-06-02\n",
       "1       2006-11-14\n",
       "2       2006-08-27\n",
       "3       2006-09-01\n",
       "4       2006-08-11\n",
       "           ...    \n",
       "10319   2015-07-31\n",
       "10320   2015-07-31\n",
       "10321   2015-08-31\n",
       "10322   2015-09-09\n",
       "10323   2015-08-31\n",
       "Name: scheduled_delivery_date, Length: 10324, dtype: datetime64[ns]"
      ]
     },
     "execution_count": 8,
     "metadata": {},
     "output_type": "execute_result"
    }
   ],
   "source": [
    "df_SC['scheduled_delivery_date'] = pd.to_datetime(df_SC['scheduled_delivery_date'])\n",
    "df_SC['scheduled_delivery_date']"
   ]
  },
  {
   "cell_type": "markdown",
   "metadata": {
    "id": "1QDegoL8dVja"
   },
   "source": [
    "Nous allons maintenant corriger les colonnes `weight_kilograms` et `freight_cost_usd`. Ces colonnes devraient être du type `int64` ou `float64` vu qu'elles contiennent des valeurs numériques. Toutefois, comme montré ci-dessous, on remarque que ces colonnes contiennent des annotations et c'est pourquoi ces colonnes sont indiquées comme ayant le type `object`."
   ]
  },
  {
   "cell_type": "code",
   "execution_count": 9,
   "metadata": {
    "id": "KXRFOs-vdVjb"
   },
   "outputs": [
    {
     "data": {
      "text/html": [
       "<div>\n",
       "<style scoped>\n",
       "    .dataframe tbody tr th:only-of-type {\n",
       "        vertical-align: middle;\n",
       "    }\n",
       "\n",
       "    .dataframe tbody tr th {\n",
       "        vertical-align: top;\n",
       "    }\n",
       "\n",
       "    .dataframe thead th {\n",
       "        text-align: right;\n",
       "    }\n",
       "</style>\n",
       "<table border=\"1\" class=\"dataframe\">\n",
       "  <thead>\n",
       "    <tr style=\"text-align: right;\">\n",
       "      <th></th>\n",
       "      <th>weight_kilograms</th>\n",
       "      <th>freight_cost_usd</th>\n",
       "    </tr>\n",
       "  </thead>\n",
       "  <tbody>\n",
       "    <tr>\n",
       "      <th>0</th>\n",
       "      <td>13</td>\n",
       "      <td>780.34</td>\n",
       "    </tr>\n",
       "    <tr>\n",
       "      <th>1</th>\n",
       "      <td>358</td>\n",
       "      <td>4521.5</td>\n",
       "    </tr>\n",
       "    <tr>\n",
       "      <th>2</th>\n",
       "      <td>171</td>\n",
       "      <td>1653.78</td>\n",
       "    </tr>\n",
       "    <tr>\n",
       "      <th>3</th>\n",
       "      <td>1855</td>\n",
       "      <td>16007.06</td>\n",
       "    </tr>\n",
       "    <tr>\n",
       "      <th>4</th>\n",
       "      <td>7590</td>\n",
       "      <td>45450.08</td>\n",
       "    </tr>\n",
       "    <tr>\n",
       "      <th>5</th>\n",
       "      <td>504</td>\n",
       "      <td>5920.42</td>\n",
       "    </tr>\n",
       "    <tr>\n",
       "      <th>6</th>\n",
       "      <td>328</td>\n",
       "      <td>Freight Included in Commodity Cost</td>\n",
       "    </tr>\n",
       "    <tr>\n",
       "      <th>7</th>\n",
       "      <td>1478</td>\n",
       "      <td>6212.41</td>\n",
       "    </tr>\n",
       "    <tr>\n",
       "      <th>8</th>\n",
       "      <td>See ASN-93 (ID#:1281)</td>\n",
       "      <td>See ASN-93 (ID#:1281)</td>\n",
       "    </tr>\n",
       "    <tr>\n",
       "      <th>9</th>\n",
       "      <td>643</td>\n",
       "      <td>Freight Included in Commodity Cost</td>\n",
       "    </tr>\n",
       "  </tbody>\n",
       "</table>\n",
       "</div>"
      ],
      "text/plain": [
       "        weight_kilograms                    freight_cost_usd\n",
       "0                     13                              780.34\n",
       "1                    358                              4521.5\n",
       "2                    171                             1653.78\n",
       "3                   1855                            16007.06\n",
       "4                   7590                            45450.08\n",
       "5                    504                             5920.42\n",
       "6                    328  Freight Included in Commodity Cost\n",
       "7                   1478                             6212.41\n",
       "8  See ASN-93 (ID#:1281)               See ASN-93 (ID#:1281)\n",
       "9                    643  Freight Included in Commodity Cost"
      ]
     },
     "execution_count": 9,
     "metadata": {},
     "output_type": "execute_result"
    }
   ],
   "source": [
    "df_SC[['weight_kilograms','freight_cost_usd']].head(10)"
   ]
  },
  {
   "cell_type": "markdown",
   "metadata": {
    "id": "GqLOQ64sdVjc"
   },
   "source": [
    "Nous allons alors utiliser la fonction `pd.to_numeric()` pour convertir ces valeurs en `float64`. On utilise le paramètre `errors='coerce'` pour convertir les `string` en `NaN`."
   ]
  },
  {
   "cell_type": "code",
   "execution_count": 10,
   "metadata": {
    "id": "4vl3msxLdVjc"
   },
   "outputs": [
    {
     "data": {
      "text/html": [
       "<div>\n",
       "<style scoped>\n",
       "    .dataframe tbody tr th:only-of-type {\n",
       "        vertical-align: middle;\n",
       "    }\n",
       "\n",
       "    .dataframe tbody tr th {\n",
       "        vertical-align: top;\n",
       "    }\n",
       "\n",
       "    .dataframe thead th {\n",
       "        text-align: right;\n",
       "    }\n",
       "</style>\n",
       "<table border=\"1\" class=\"dataframe\">\n",
       "  <thead>\n",
       "    <tr style=\"text-align: right;\">\n",
       "      <th></th>\n",
       "      <th>weight_kilograms</th>\n",
       "      <th>freight_cost_usd</th>\n",
       "    </tr>\n",
       "  </thead>\n",
       "  <tbody>\n",
       "    <tr>\n",
       "      <th>0</th>\n",
       "      <td>13.0</td>\n",
       "      <td>780.34</td>\n",
       "    </tr>\n",
       "    <tr>\n",
       "      <th>1</th>\n",
       "      <td>358.0</td>\n",
       "      <td>4521.50</td>\n",
       "    </tr>\n",
       "    <tr>\n",
       "      <th>2</th>\n",
       "      <td>171.0</td>\n",
       "      <td>1653.78</td>\n",
       "    </tr>\n",
       "    <tr>\n",
       "      <th>3</th>\n",
       "      <td>1855.0</td>\n",
       "      <td>16007.06</td>\n",
       "    </tr>\n",
       "    <tr>\n",
       "      <th>4</th>\n",
       "      <td>7590.0</td>\n",
       "      <td>45450.08</td>\n",
       "    </tr>\n",
       "    <tr>\n",
       "      <th>5</th>\n",
       "      <td>504.0</td>\n",
       "      <td>5920.42</td>\n",
       "    </tr>\n",
       "    <tr>\n",
       "      <th>6</th>\n",
       "      <td>328.0</td>\n",
       "      <td>NaN</td>\n",
       "    </tr>\n",
       "    <tr>\n",
       "      <th>7</th>\n",
       "      <td>1478.0</td>\n",
       "      <td>6212.41</td>\n",
       "    </tr>\n",
       "    <tr>\n",
       "      <th>8</th>\n",
       "      <td>NaN</td>\n",
       "      <td>NaN</td>\n",
       "    </tr>\n",
       "    <tr>\n",
       "      <th>9</th>\n",
       "      <td>643.0</td>\n",
       "      <td>NaN</td>\n",
       "    </tr>\n",
       "  </tbody>\n",
       "</table>\n",
       "</div>"
      ],
      "text/plain": [
       "   weight_kilograms  freight_cost_usd\n",
       "0              13.0            780.34\n",
       "1             358.0           4521.50\n",
       "2             171.0           1653.78\n",
       "3            1855.0          16007.06\n",
       "4            7590.0          45450.08\n",
       "5             504.0           5920.42\n",
       "6             328.0               NaN\n",
       "7            1478.0           6212.41\n",
       "8               NaN               NaN\n",
       "9             643.0               NaN"
      ]
     },
     "execution_count": 10,
     "metadata": {},
     "output_type": "execute_result"
    }
   ],
   "source": [
    "df_SC['weight_kilograms'] = pd.to_numeric(df_SC['weight_kilograms'], errors='coerce')\n",
    "df_SC['freight_cost_usd'] = pd.to_numeric(df_SC['freight_cost_usd'], errors='coerce')\n",
    "df_SC[['weight_kilograms','freight_cost_usd']].head(10)"
   ]
  },
  {
   "cell_type": "markdown",
   "metadata": {
    "id": "VUwIhxugdVjd"
   },
   "source": [
    "Nous pouvons maintenant obtenir les statistiques descriptives pour les colonnes `weight_kilograms` et `freight_cost_usd`."
   ]
  },
  {
   "cell_type": "code",
   "execution_count": 11,
   "metadata": {
    "id": "A0a2bja6dVjd",
    "scrolled": true
   },
   "outputs": [
    {
     "data": {
      "text/html": [
       "<div>\n",
       "<style scoped>\n",
       "    .dataframe tbody tr th:only-of-type {\n",
       "        vertical-align: middle;\n",
       "    }\n",
       "\n",
       "    .dataframe tbody tr th {\n",
       "        vertical-align: top;\n",
       "    }\n",
       "\n",
       "    .dataframe thead th {\n",
       "        text-align: right;\n",
       "    }\n",
       "</style>\n",
       "<table border=\"1\" class=\"dataframe\">\n",
       "  <thead>\n",
       "    <tr style=\"text-align: right;\">\n",
       "      <th></th>\n",
       "      <th>id</th>\n",
       "      <th>line_item_quantity</th>\n",
       "      <th>line_item_value</th>\n",
       "      <th>unit_price</th>\n",
       "      <th>weight_kilograms</th>\n",
       "      <th>freight_cost_usd</th>\n",
       "      <th>line_item_insurance_usd</th>\n",
       "    </tr>\n",
       "  </thead>\n",
       "  <tbody>\n",
       "    <tr>\n",
       "      <th>count</th>\n",
       "      <td>10324.000000</td>\n",
       "      <td>10324.000000</td>\n",
       "      <td>1.032400e+04</td>\n",
       "      <td>10324.000000</td>\n",
       "      <td>6372.000000</td>\n",
       "      <td>6198.000000</td>\n",
       "      <td>10037.000000</td>\n",
       "    </tr>\n",
       "    <tr>\n",
       "      <th>mean</th>\n",
       "      <td>51098.968229</td>\n",
       "      <td>18332.534870</td>\n",
       "      <td>1.576506e+05</td>\n",
       "      <td>0.611701</td>\n",
       "      <td>3424.441306</td>\n",
       "      <td>11103.234819</td>\n",
       "      <td>240.117626</td>\n",
       "    </tr>\n",
       "    <tr>\n",
       "      <th>std</th>\n",
       "      <td>31944.332496</td>\n",
       "      <td>40035.302961</td>\n",
       "      <td>3.452921e+05</td>\n",
       "      <td>3.275808</td>\n",
       "      <td>13526.968270</td>\n",
       "      <td>15813.026692</td>\n",
       "      <td>500.190568</td>\n",
       "    </tr>\n",
       "    <tr>\n",
       "      <th>min</th>\n",
       "      <td>1.000000</td>\n",
       "      <td>1.000000</td>\n",
       "      <td>0.000000e+00</td>\n",
       "      <td>0.000000</td>\n",
       "      <td>0.000000</td>\n",
       "      <td>0.750000</td>\n",
       "      <td>0.000000</td>\n",
       "    </tr>\n",
       "    <tr>\n",
       "      <th>25%</th>\n",
       "      <td>12795.750000</td>\n",
       "      <td>408.000000</td>\n",
       "      <td>4.314593e+03</td>\n",
       "      <td>0.080000</td>\n",
       "      <td>206.750000</td>\n",
       "      <td>2131.120000</td>\n",
       "      <td>6.510000</td>\n",
       "    </tr>\n",
       "    <tr>\n",
       "      <th>50%</th>\n",
       "      <td>57540.500000</td>\n",
       "      <td>3000.000000</td>\n",
       "      <td>3.047147e+04</td>\n",
       "      <td>0.160000</td>\n",
       "      <td>1047.000000</td>\n",
       "      <td>5869.655000</td>\n",
       "      <td>47.040000</td>\n",
       "    </tr>\n",
       "    <tr>\n",
       "      <th>75%</th>\n",
       "      <td>83648.250000</td>\n",
       "      <td>17039.750000</td>\n",
       "      <td>1.664471e+05</td>\n",
       "      <td>0.470000</td>\n",
       "      <td>3334.000000</td>\n",
       "      <td>14406.570000</td>\n",
       "      <td>252.400000</td>\n",
       "    </tr>\n",
       "    <tr>\n",
       "      <th>max</th>\n",
       "      <td>86823.000000</td>\n",
       "      <td>619999.000000</td>\n",
       "      <td>5.951990e+06</td>\n",
       "      <td>238.650000</td>\n",
       "      <td>857354.000000</td>\n",
       "      <td>289653.200000</td>\n",
       "      <td>7708.440000</td>\n",
       "    </tr>\n",
       "  </tbody>\n",
       "</table>\n",
       "</div>"
      ],
      "text/plain": [
       "                 id  line_item_quantity  line_item_value    unit_price  \\\n",
       "count  10324.000000        10324.000000     1.032400e+04  10324.000000   \n",
       "mean   51098.968229        18332.534870     1.576506e+05      0.611701   \n",
       "std    31944.332496        40035.302961     3.452921e+05      3.275808   \n",
       "min        1.000000            1.000000     0.000000e+00      0.000000   \n",
       "25%    12795.750000          408.000000     4.314593e+03      0.080000   \n",
       "50%    57540.500000         3000.000000     3.047147e+04      0.160000   \n",
       "75%    83648.250000        17039.750000     1.664471e+05      0.470000   \n",
       "max    86823.000000       619999.000000     5.951990e+06    238.650000   \n",
       "\n",
       "       weight_kilograms  freight_cost_usd  line_item_insurance_usd  \n",
       "count       6372.000000       6198.000000             10037.000000  \n",
       "mean        3424.441306      11103.234819               240.117626  \n",
       "std        13526.968270      15813.026692               500.190568  \n",
       "min            0.000000          0.750000                 0.000000  \n",
       "25%          206.750000       2131.120000                 6.510000  \n",
       "50%         1047.000000       5869.655000                47.040000  \n",
       "75%         3334.000000      14406.570000               252.400000  \n",
       "max       857354.000000     289653.200000              7708.440000  "
      ]
     },
     "execution_count": 11,
     "metadata": {},
     "output_type": "execute_result"
    }
   ],
   "source": [
    "df_SC.describe()"
   ]
  },
  {
   "cell_type": "markdown",
   "metadata": {
    "id": "ftTbWTsDdVje"
   },
   "source": [
    "# Imputation des données manquantes"
   ]
  },
  {
   "cell_type": "markdown",
   "metadata": {
    "id": "MB_dKErgdVje"
   },
   "source": [
    "Occupons nous maintenant des données manquantes. Commençons par regarder le nombre de données manquantes."
   ]
  },
  {
   "cell_type": "code",
   "execution_count": 12,
   "metadata": {
    "id": "fuSJ-rVvdVjf",
    "scrolled": true
   },
   "outputs": [
    {
     "data": {
      "text/plain": [
       "id                            0\n",
       "country                       0\n",
       "shipment_mode               360\n",
       "scheduled_delivery_date       0\n",
       "sub_classification            0\n",
       "vendor                        0\n",
       "item_id                       0\n",
       "item_description              0\n",
       "brand                         0\n",
       "line_item_quantity            0\n",
       "line_item_value               0\n",
       "unit_price                    0\n",
       "weight_kilograms           3952\n",
       "freight_cost_usd           4126\n",
       "line_item_insurance_usd     287\n",
       "dtype: int64"
      ]
     },
     "execution_count": 12,
     "metadata": {},
     "output_type": "execute_result"
    }
   ],
   "source": [
    "df_SC.isnull().sum()"
   ]
  },
  {
   "cell_type": "markdown",
   "metadata": {
    "id": "JTi_pKl-dVjf"
   },
   "source": [
    "Nous remarquons qu'il y a des valeurs manquantes dans la colonne `shipment_mode`, qui contient le mode de transport (p.ex., par avion). Il n'y a pas grand chose que nous puissions faire pour remplacer ces valeurs manquantes par des informations pertinentes, nous allons donc remplacer les valeurs manquantes de cette colonne par le mot `'missing'`. Nous utilisons la méthode `.fillna()` avec le paramètre `inplace=True` pour sauvegarder ces modifications dans le `DataFrame` initial. Consultez [cette page](https://pandas.pydata.org/pandas-docs/stable/reference/api/pandas.DataFrame.fillna.html) pour plus d'information sur la méthode `.fillna()`."
   ]
  },
  {
   "cell_type": "code",
   "execution_count": 13,
   "metadata": {
    "id": "b5VYG7_4dVjg",
    "scrolled": true
   },
   "outputs": [
    {
     "data": {
      "text/plain": [
       "id                            0\n",
       "country                       0\n",
       "shipment_mode                 0\n",
       "scheduled_delivery_date       0\n",
       "sub_classification            0\n",
       "vendor                        0\n",
       "item_id                       0\n",
       "item_description              0\n",
       "brand                         0\n",
       "line_item_quantity            0\n",
       "line_item_value               0\n",
       "unit_price                    0\n",
       "weight_kilograms           3952\n",
       "freight_cost_usd           4126\n",
       "line_item_insurance_usd     287\n",
       "dtype: int64"
      ]
     },
     "execution_count": 13,
     "metadata": {},
     "output_type": "execute_result"
    }
   ],
   "source": [
    "df_SC.fillna(value={'shipment_mode': 'missing'}, inplace=True)\n",
    "df_SC.isnull().sum()"
   ]
  },
  {
   "cell_type": "markdown",
   "metadata": {
    "id": "ASqs4HeSdVjg"
   },
   "source": [
    "Nous allons maintenant remplacer les valeurs manquantes dans la colonne `line_item_insurance_usd` par la moyenne de cette colonne. La colonne imputée avec la moyenne a le nom `'item_insurance_rp_mean'`."
   ]
  },
  {
   "cell_type": "code",
   "execution_count": 14,
   "metadata": {
    "id": "DUXOZFzCdVjg"
   },
   "outputs": [
    {
     "data": {
      "text/html": [
       "<div>\n",
       "<style scoped>\n",
       "    .dataframe tbody tr th:only-of-type {\n",
       "        vertical-align: middle;\n",
       "    }\n",
       "\n",
       "    .dataframe tbody tr th {\n",
       "        vertical-align: top;\n",
       "    }\n",
       "\n",
       "    .dataframe thead th {\n",
       "        text-align: right;\n",
       "    }\n",
       "</style>\n",
       "<table border=\"1\" class=\"dataframe\">\n",
       "  <thead>\n",
       "    <tr style=\"text-align: right;\">\n",
       "      <th></th>\n",
       "      <th>line_item_insurance_usd</th>\n",
       "      <th>item_insurance_rp_mean</th>\n",
       "    </tr>\n",
       "  </thead>\n",
       "  <tbody>\n",
       "    <tr>\n",
       "      <th>0</th>\n",
       "      <td>NaN</td>\n",
       "      <td>240.117626</td>\n",
       "    </tr>\n",
       "    <tr>\n",
       "      <th>1</th>\n",
       "      <td>NaN</td>\n",
       "      <td>240.117626</td>\n",
       "    </tr>\n",
       "    <tr>\n",
       "      <th>2</th>\n",
       "      <td>NaN</td>\n",
       "      <td>240.117626</td>\n",
       "    </tr>\n",
       "    <tr>\n",
       "      <th>3</th>\n",
       "      <td>NaN</td>\n",
       "      <td>240.117626</td>\n",
       "    </tr>\n",
       "    <tr>\n",
       "      <th>4</th>\n",
       "      <td>NaN</td>\n",
       "      <td>240.117626</td>\n",
       "    </tr>\n",
       "    <tr>\n",
       "      <th>...</th>\n",
       "      <td>...</td>\n",
       "      <td>...</td>\n",
       "    </tr>\n",
       "    <tr>\n",
       "      <th>2496</th>\n",
       "      <td>NaN</td>\n",
       "      <td>240.117626</td>\n",
       "    </tr>\n",
       "    <tr>\n",
       "      <th>2497</th>\n",
       "      <td>NaN</td>\n",
       "      <td>240.117626</td>\n",
       "    </tr>\n",
       "    <tr>\n",
       "      <th>2499</th>\n",
       "      <td>NaN</td>\n",
       "      <td>240.117626</td>\n",
       "    </tr>\n",
       "    <tr>\n",
       "      <th>2500</th>\n",
       "      <td>NaN</td>\n",
       "      <td>240.117626</td>\n",
       "    </tr>\n",
       "    <tr>\n",
       "      <th>2501</th>\n",
       "      <td>NaN</td>\n",
       "      <td>240.117626</td>\n",
       "    </tr>\n",
       "  </tbody>\n",
       "</table>\n",
       "<p>287 rows × 2 columns</p>\n",
       "</div>"
      ],
      "text/plain": [
       "      line_item_insurance_usd  item_insurance_rp_mean\n",
       "0                         NaN              240.117626\n",
       "1                         NaN              240.117626\n",
       "2                         NaN              240.117626\n",
       "3                         NaN              240.117626\n",
       "4                         NaN              240.117626\n",
       "...                       ...                     ...\n",
       "2496                      NaN              240.117626\n",
       "2497                      NaN              240.117626\n",
       "2499                      NaN              240.117626\n",
       "2500                      NaN              240.117626\n",
       "2501                      NaN              240.117626\n",
       "\n",
       "[287 rows x 2 columns]"
      ]
     },
     "execution_count": 14,
     "metadata": {},
     "output_type": "execute_result"
    }
   ],
   "source": [
    "insurance_mean = df_SC['line_item_insurance_usd'].mean()  # calcul de la moyenne\n",
    "df_SC['item_insurance_rp_mean'] = df_SC['line_item_insurance_usd'].fillna(insurance_mean)\n",
    "mask = df_SC['line_item_insurance_usd'].isna() == True\n",
    "df_SC.loc[mask, ['line_item_insurance_usd','item_insurance_rp_mean']]  # affichage des données imputées"
   ]
  },
  {
   "cell_type": "markdown",
   "metadata": {
    "id": "6DXN6WAC8t8a"
   },
   "source": [
    "Le problème de remplacer les valeurs manquantes par la moyenne ou une autre constante est que cette approche omet les autres variables de ces observations. Pour surmonter ce problème, nous pouvons choisir d'imputer chaque valeur manquante en utilisant une une prédiction basée sur d'autres points de données. Une méthode pratique consiste à utiliser la méthode des *k* plus proches voisins (KNN) pour l'imputation. Voir ce [lien](https://scikit-learn.org/stable/modules/generated/sklearn.impute.KNNImputer.html) ou [celui-ci](https://www.analyticsvidhya.com/blog/2020/07/knnimputer-a-robust-way-to-impute-missing-values-using-scikit-learn/) pour plus d'information."
   ]
  },
  {
   "cell_type": "code",
   "execution_count": 15,
   "metadata": {
    "id": "V7SO-ClqlpZb"
   },
   "outputs": [
    {
     "data": {
      "text/html": [
       "<div>\n",
       "<style scoped>\n",
       "    .dataframe tbody tr th:only-of-type {\n",
       "        vertical-align: middle;\n",
       "    }\n",
       "\n",
       "    .dataframe tbody tr th {\n",
       "        vertical-align: top;\n",
       "    }\n",
       "\n",
       "    .dataframe thead th {\n",
       "        text-align: right;\n",
       "    }\n",
       "</style>\n",
       "<table border=\"1\" class=\"dataframe\">\n",
       "  <thead>\n",
       "    <tr style=\"text-align: right;\">\n",
       "      <th></th>\n",
       "      <th>item_insurance_rp_mean</th>\n",
       "      <th>item_insurance_rp_kNN</th>\n",
       "    </tr>\n",
       "  </thead>\n",
       "  <tbody>\n",
       "    <tr>\n",
       "      <th>0</th>\n",
       "      <td>240.117626</td>\n",
       "      <td>0.725</td>\n",
       "    </tr>\n",
       "    <tr>\n",
       "      <th>1</th>\n",
       "      <td>240.117626</td>\n",
       "      <td>8.955</td>\n",
       "    </tr>\n",
       "    <tr>\n",
       "      <th>2</th>\n",
       "      <td>240.117626</td>\n",
       "      <td>71.200</td>\n",
       "    </tr>\n",
       "    <tr>\n",
       "      <th>3</th>\n",
       "      <td>240.117626</td>\n",
       "      <td>194.285</td>\n",
       "    </tr>\n",
       "    <tr>\n",
       "      <th>4</th>\n",
       "      <td>240.117626</td>\n",
       "      <td>238.570</td>\n",
       "    </tr>\n",
       "    <tr>\n",
       "      <th>...</th>\n",
       "      <td>...</td>\n",
       "      <td>...</td>\n",
       "    </tr>\n",
       "    <tr>\n",
       "      <th>2496</th>\n",
       "      <td>240.117626</td>\n",
       "      <td>63.350</td>\n",
       "    </tr>\n",
       "    <tr>\n",
       "      <th>2497</th>\n",
       "      <td>240.117626</td>\n",
       "      <td>46.340</td>\n",
       "    </tr>\n",
       "    <tr>\n",
       "      <th>2499</th>\n",
       "      <td>240.117626</td>\n",
       "      <td>21.980</td>\n",
       "    </tr>\n",
       "    <tr>\n",
       "      <th>2500</th>\n",
       "      <td>240.117626</td>\n",
       "      <td>629.235</td>\n",
       "    </tr>\n",
       "    <tr>\n",
       "      <th>2501</th>\n",
       "      <td>240.117626</td>\n",
       "      <td>15.770</td>\n",
       "    </tr>\n",
       "  </tbody>\n",
       "</table>\n",
       "<p>287 rows × 2 columns</p>\n",
       "</div>"
      ],
      "text/plain": [
       "      item_insurance_rp_mean  item_insurance_rp_kNN\n",
       "0                 240.117626                  0.725\n",
       "1                 240.117626                  8.955\n",
       "2                 240.117626                 71.200\n",
       "3                 240.117626                194.285\n",
       "4                 240.117626                238.570\n",
       "...                      ...                    ...\n",
       "2496              240.117626                 63.350\n",
       "2497              240.117626                 46.340\n",
       "2499              240.117626                 21.980\n",
       "2500              240.117626                629.235\n",
       "2501              240.117626                 15.770\n",
       "\n",
       "[287 rows x 2 columns]"
      ]
     },
     "execution_count": 15,
     "metadata": {},
     "output_type": "execute_result"
    }
   ],
   "source": [
    "# Nous identifions les colonnes que nous voulons utiliser pour calculer la distance\n",
    "distance_columns = ['line_item_value','weight_kilograms', 'freight_cost_usd']\n",
    "# Faire un nouveau DataFrame avec ces colonnes\n",
    "df_SC_kNN = df_SC[distance_columns].copy()  # nous faisons une copie pour éviter de modifier les données dans df_SC\n",
    "# Nous ajoutons la colonne `'line_item_insurance_usd'` que nous voulons imputer\n",
    "# Cette colonne est renommée avec le nom `'item_insurance_rp_kNN'`\n",
    "df_SC_kNN['item_insurance_rp_kNN'] = df_SC['line_item_insurance_usd']\n",
    "\n",
    "# Nous initialisons l'algorithme avec 2 voisins comme paramètre\n",
    "imputer = KNNImputer(n_neighbors=2)\n",
    "# Nous appliquons l'algorithme. Ce qui peut prendre un certains temps.\n",
    "# Par la suite, nous remettons le résultat dans le DataFrame\n",
    "# Vu que la méthode retourne un numpy.array, nous devons utiliser `df_SC_kNN[:]` \n",
    "# pour mettre les données dans le DataFrame\n",
    "df_SC_kNN[:] = imputer.fit_transform(df_SC_kNN)\n",
    "\n",
    "# finalement, nous ajoutons cette colonne à df_SC\n",
    "df_SC['item_insurance_rp_kNN'] = df_SC_kNN['item_insurance_rp_kNN'].copy()\n",
    "\n",
    "mask = df_SC['line_item_insurance_usd'].isna() == True\n",
    "df_SC.loc[mask, ['item_insurance_rp_mean', 'item_insurance_rp_kNN']]  # comparaison des imputations"
   ]
  },
  {
   "cell_type": "code",
   "execution_count": 16,
   "metadata": {
    "id": "JfHZ-vY6erBZ"
   },
   "outputs": [
    {
     "data": {
      "text/plain": [
       "id                            0\n",
       "country                       0\n",
       "shipment_mode                 0\n",
       "scheduled_delivery_date       0\n",
       "sub_classification            0\n",
       "vendor                        0\n",
       "item_id                       0\n",
       "item_description              0\n",
       "brand                         0\n",
       "line_item_quantity            0\n",
       "line_item_value               0\n",
       "unit_price                    0\n",
       "weight_kilograms           3952\n",
       "freight_cost_usd           4126\n",
       "line_item_insurance_usd     287\n",
       "item_insurance_rp_mean        0\n",
       "item_insurance_rp_kNN         0\n",
       "dtype: int64"
      ]
     },
     "execution_count": 16,
     "metadata": {},
     "output_type": "execute_result"
    }
   ],
   "source": [
    "df_SC.isna().sum()"
   ]
  },
  {
   "cell_type": "code",
   "execution_count": 17,
   "metadata": {},
   "outputs": [
    {
     "data": {
      "text/html": [
       "<div>\n",
       "<style scoped>\n",
       "    .dataframe tbody tr th:only-of-type {\n",
       "        vertical-align: middle;\n",
       "    }\n",
       "\n",
       "    .dataframe tbody tr th {\n",
       "        vertical-align: top;\n",
       "    }\n",
       "\n",
       "    .dataframe thead th {\n",
       "        text-align: right;\n",
       "    }\n",
       "</style>\n",
       "<table border=\"1\" class=\"dataframe\">\n",
       "  <thead>\n",
       "    <tr style=\"text-align: right;\">\n",
       "      <th></th>\n",
       "      <th>id</th>\n",
       "      <th>line_item_quantity</th>\n",
       "      <th>line_item_value</th>\n",
       "      <th>unit_price</th>\n",
       "      <th>weight_kilograms</th>\n",
       "      <th>freight_cost_usd</th>\n",
       "      <th>line_item_insurance_usd</th>\n",
       "      <th>item_insurance_rp_mean</th>\n",
       "      <th>item_insurance_rp_kNN</th>\n",
       "    </tr>\n",
       "  </thead>\n",
       "  <tbody>\n",
       "    <tr>\n",
       "      <th>count</th>\n",
       "      <td>10324.000000</td>\n",
       "      <td>10324.000000</td>\n",
       "      <td>1.032400e+04</td>\n",
       "      <td>10324.000000</td>\n",
       "      <td>6372.000000</td>\n",
       "      <td>6198.000000</td>\n",
       "      <td>10037.000000</td>\n",
       "      <td>10324.000000</td>\n",
       "      <td>10324.000000</td>\n",
       "    </tr>\n",
       "    <tr>\n",
       "      <th>mean</th>\n",
       "      <td>51098.968229</td>\n",
       "      <td>18332.534870</td>\n",
       "      <td>1.576506e+05</td>\n",
       "      <td>0.611701</td>\n",
       "      <td>3424.441306</td>\n",
       "      <td>11103.234819</td>\n",
       "      <td>240.117626</td>\n",
       "      <td>240.117626</td>\n",
       "      <td>237.239424</td>\n",
       "    </tr>\n",
       "    <tr>\n",
       "      <th>std</th>\n",
       "      <td>31944.332496</td>\n",
       "      <td>40035.302961</td>\n",
       "      <td>3.452921e+05</td>\n",
       "      <td>3.275808</td>\n",
       "      <td>13526.968270</td>\n",
       "      <td>15813.026692</td>\n",
       "      <td>500.190568</td>\n",
       "      <td>493.188408</td>\n",
       "      <td>494.928995</td>\n",
       "    </tr>\n",
       "    <tr>\n",
       "      <th>min</th>\n",
       "      <td>1.000000</td>\n",
       "      <td>1.000000</td>\n",
       "      <td>0.000000e+00</td>\n",
       "      <td>0.000000</td>\n",
       "      <td>0.000000</td>\n",
       "      <td>0.750000</td>\n",
       "      <td>0.000000</td>\n",
       "      <td>0.000000</td>\n",
       "      <td>0.000000</td>\n",
       "    </tr>\n",
       "    <tr>\n",
       "      <th>25%</th>\n",
       "      <td>12795.750000</td>\n",
       "      <td>408.000000</td>\n",
       "      <td>4.314593e+03</td>\n",
       "      <td>0.080000</td>\n",
       "      <td>206.750000</td>\n",
       "      <td>2131.120000</td>\n",
       "      <td>6.510000</td>\n",
       "      <td>7.030000</td>\n",
       "      <td>6.647500</td>\n",
       "    </tr>\n",
       "    <tr>\n",
       "      <th>50%</th>\n",
       "      <td>57540.500000</td>\n",
       "      <td>3000.000000</td>\n",
       "      <td>3.047147e+04</td>\n",
       "      <td>0.160000</td>\n",
       "      <td>1047.000000</td>\n",
       "      <td>5869.655000</td>\n",
       "      <td>47.040000</td>\n",
       "      <td>52.940000</td>\n",
       "      <td>47.050000</td>\n",
       "    </tr>\n",
       "    <tr>\n",
       "      <th>75%</th>\n",
       "      <td>83648.250000</td>\n",
       "      <td>17039.750000</td>\n",
       "      <td>1.664471e+05</td>\n",
       "      <td>0.470000</td>\n",
       "      <td>3334.000000</td>\n",
       "      <td>14406.570000</td>\n",
       "      <td>252.400000</td>\n",
       "      <td>241.750000</td>\n",
       "      <td>250.067500</td>\n",
       "    </tr>\n",
       "    <tr>\n",
       "      <th>max</th>\n",
       "      <td>86823.000000</td>\n",
       "      <td>619999.000000</td>\n",
       "      <td>5.951990e+06</td>\n",
       "      <td>238.650000</td>\n",
       "      <td>857354.000000</td>\n",
       "      <td>289653.200000</td>\n",
       "      <td>7708.440000</td>\n",
       "      <td>7708.440000</td>\n",
       "      <td>7708.440000</td>\n",
       "    </tr>\n",
       "  </tbody>\n",
       "</table>\n",
       "</div>"
      ],
      "text/plain": [
       "                 id  line_item_quantity  line_item_value    unit_price  \\\n",
       "count  10324.000000        10324.000000     1.032400e+04  10324.000000   \n",
       "mean   51098.968229        18332.534870     1.576506e+05      0.611701   \n",
       "std    31944.332496        40035.302961     3.452921e+05      3.275808   \n",
       "min        1.000000            1.000000     0.000000e+00      0.000000   \n",
       "25%    12795.750000          408.000000     4.314593e+03      0.080000   \n",
       "50%    57540.500000         3000.000000     3.047147e+04      0.160000   \n",
       "75%    83648.250000        17039.750000     1.664471e+05      0.470000   \n",
       "max    86823.000000       619999.000000     5.951990e+06    238.650000   \n",
       "\n",
       "       weight_kilograms  freight_cost_usd  line_item_insurance_usd  \\\n",
       "count       6372.000000       6198.000000             10037.000000   \n",
       "mean        3424.441306      11103.234819               240.117626   \n",
       "std        13526.968270      15813.026692               500.190568   \n",
       "min            0.000000          0.750000                 0.000000   \n",
       "25%          206.750000       2131.120000                 6.510000   \n",
       "50%         1047.000000       5869.655000                47.040000   \n",
       "75%         3334.000000      14406.570000               252.400000   \n",
       "max       857354.000000     289653.200000              7708.440000   \n",
       "\n",
       "       item_insurance_rp_mean  item_insurance_rp_kNN  \n",
       "count            10324.000000           10324.000000  \n",
       "mean               240.117626             237.239424  \n",
       "std                493.188408             494.928995  \n",
       "min                  0.000000               0.000000  \n",
       "25%                  7.030000               6.647500  \n",
       "50%                 52.940000              47.050000  \n",
       "75%                241.750000             250.067500  \n",
       "max               7708.440000            7708.440000  "
      ]
     },
     "execution_count": 17,
     "metadata": {},
     "output_type": "execute_result"
    }
   ],
   "source": [
    "df_SC.describe()"
   ]
  },
  {
   "cell_type": "markdown",
   "metadata": {
    "id": "xCojijHIdVjh"
   },
   "source": [
    "\n",
    "# Transformation des données\n",
    "\n",
    "## Mise à l'échelle (*scaling*)\n",
    "Les variables ont tendance à avoir des plages différentes et certains algorithmes sont affectés négativement par les différences de plages de variables. Les variables ayant des plages plus importantes ont tendance à avoir une plus grande influence sur les résultats de certains modèles. Par conséquent, il peut être nécessaire de normaliser ou de standardiser les valeurs des champs numériques. \n",
    "\n",
    "D'après la sortie de la méthode `.describe()`, nous pouvons remarquer que les variables numériques ont des plages différentes. Par exemple, `unit_price` varie de 0 à 238.65, alors que `weight_kilograms` varie de 0 à 857354. Nous aimerions mettre à l'échelle les valeurs numériques de nos données. \n",
    "\n",
    "Appliquons les méthodes de normalisation **min-max** et la standardisation **z-score**. Plus précisément:\n",
    "$$X^{norm}_i=\\frac{X_i-X_{min}}{X_{max}-X_{min}}$$\n",
    "et\n",
    "$$Z_i=\\frac{X_i-X_{mean}}{\\sigma_X}$$.\n",
    "\n",
    "Après ce calcul, nous ajoutons les nouvelles colonnes au DataFrame.\n",
    "\n",
    "Commençons par la liste des colonnes à mettre à l'échelle."
   ]
  },
  {
   "cell_type": "code",
   "execution_count": 18,
   "metadata": {
    "id": "u9SeAs_CdVjh"
   },
   "outputs": [],
   "source": [
    "columns_to_scale = ['line_item_quantity', 'line_item_value']"
   ]
  },
  {
   "cell_type": "markdown",
   "metadata": {
    "id": "4uyUgamUdVji"
   },
   "source": [
    "Par la suite, nous pouvons faire une boucle `for` pour calculer les nouvelles colonnes et les ajouter à `df_SC`."
   ]
  },
  {
   "cell_type": "code",
   "execution_count": 19,
   "metadata": {
    "id": "WDapVaosdVji"
   },
   "outputs": [],
   "source": [
    "for col in columns_to_scale:\n",
    "    df_SC[col + '_norm'] = (df_SC[col] - df_SC[col].min()) / (df_SC[col].max() - df_SC[col].min())  # normalisation\n",
    "    df_SC[col + '_z'] = (df_SC[col] - df_SC[col].mean()) / df_SC[col].std()  # standardisation"
   ]
  },
  {
   "cell_type": "code",
   "execution_count": 20,
   "metadata": {
    "id": "tQm838xWUlZU"
   },
   "outputs": [
    {
     "data": {
      "text/html": [
       "<div>\n",
       "<style scoped>\n",
       "    .dataframe tbody tr th:only-of-type {\n",
       "        vertical-align: middle;\n",
       "    }\n",
       "\n",
       "    .dataframe tbody tr th {\n",
       "        vertical-align: top;\n",
       "    }\n",
       "\n",
       "    .dataframe thead th {\n",
       "        text-align: right;\n",
       "    }\n",
       "</style>\n",
       "<table border=\"1\" class=\"dataframe\">\n",
       "  <thead>\n",
       "    <tr style=\"text-align: right;\">\n",
       "      <th></th>\n",
       "      <th>line_item_value</th>\n",
       "      <th>line_item_value_norm</th>\n",
       "      <th>line_item_value_z</th>\n",
       "    </tr>\n",
       "  </thead>\n",
       "  <tbody>\n",
       "    <tr>\n",
       "      <th>count</th>\n",
       "      <td>1.032400e+04</td>\n",
       "      <td>10324.000000</td>\n",
       "      <td>1.032400e+04</td>\n",
       "    </tr>\n",
       "    <tr>\n",
       "      <th>mean</th>\n",
       "      <td>1.576506e+05</td>\n",
       "      <td>0.026487</td>\n",
       "      <td>-1.030322e-16</td>\n",
       "    </tr>\n",
       "    <tr>\n",
       "      <th>std</th>\n",
       "      <td>3.452921e+05</td>\n",
       "      <td>0.058013</td>\n",
       "      <td>1.000000e+00</td>\n",
       "    </tr>\n",
       "    <tr>\n",
       "      <th>min</th>\n",
       "      <td>0.000000e+00</td>\n",
       "      <td>0.000000</td>\n",
       "      <td>-4.565716e-01</td>\n",
       "    </tr>\n",
       "    <tr>\n",
       "      <th>25%</th>\n",
       "      <td>4.314593e+03</td>\n",
       "      <td>0.000725</td>\n",
       "      <td>-4.440762e-01</td>\n",
       "    </tr>\n",
       "    <tr>\n",
       "      <th>50%</th>\n",
       "      <td>3.047147e+04</td>\n",
       "      <td>0.005120</td>\n",
       "      <td>-3.683233e-01</td>\n",
       "    </tr>\n",
       "    <tr>\n",
       "      <th>75%</th>\n",
       "      <td>1.664471e+05</td>\n",
       "      <td>0.027965</td>\n",
       "      <td>2.547575e-02</td>\n",
       "    </tr>\n",
       "    <tr>\n",
       "      <th>max</th>\n",
       "      <td>5.951990e+06</td>\n",
       "      <td>1.000000</td>\n",
       "      <td>1.678098e+01</td>\n",
       "    </tr>\n",
       "  </tbody>\n",
       "</table>\n",
       "</div>"
      ],
      "text/plain": [
       "       line_item_value  line_item_value_norm  line_item_value_z\n",
       "count     1.032400e+04          10324.000000       1.032400e+04\n",
       "mean      1.576506e+05              0.026487      -1.030322e-16\n",
       "std       3.452921e+05              0.058013       1.000000e+00\n",
       "min       0.000000e+00              0.000000      -4.565716e-01\n",
       "25%       4.314593e+03              0.000725      -4.440762e-01\n",
       "50%       3.047147e+04              0.005120      -3.683233e-01\n",
       "75%       1.664471e+05              0.027965       2.547575e-02\n",
       "max       5.951990e+06              1.000000       1.678098e+01"
      ]
     },
     "execution_count": 20,
     "metadata": {},
     "output_type": "execute_result"
    }
   ],
   "source": [
    "df_SC[['line_item_value','line_item_value_norm','line_item_value_z']].describe()"
   ]
  },
  {
   "cell_type": "markdown",
   "metadata": {
    "id": "xksxip07bC0w"
   },
   "source": [
    "Pour les données asymétriques, il peut être intéressant d'utiliser aussi une transformation telle que la transformation logarithmique. On remarque ci-dessous que la colonne `line_item_value` est asymétrique."
   ]
  },
  {
   "cell_type": "code",
   "execution_count": 21,
   "metadata": {},
   "outputs": [
    {
     "data": {
      "text/plain": [
       "<AxesSubplot:>"
      ]
     },
     "execution_count": 21,
     "metadata": {},
     "output_type": "execute_result"
    },
    {
     "data": {
      "image/png": "[encoded data removed]",
      "text/plain": [
       "<Figure size 432x288 with 1 Axes>"
      ]
     },
     "metadata": {
      "needs_background": "light"
     },
     "output_type": "display_data"
    }
   ],
   "source": [
    "df_SC['line_item_value'].hist()"
   ]
  },
  {
   "cell_type": "markdown",
   "metadata": {},
   "source": [
    "Nous allons donc appliquer la transformation logarithmique ainsi la transformation racine carrée à cette colonne."
   ]
  },
  {
   "cell_type": "code",
   "execution_count": 22,
   "metadata": {
    "id": "sK0ztiClWzOz"
   },
   "outputs": [
    {
     "data": {
      "text/plain": [
       "<AxesSubplot:ylabel='Frequency'>"
      ]
     },
     "execution_count": 22,
     "metadata": {},
     "output_type": "execute_result"
    },
    {
     "data": {
      "image/png": "[encoded data removed]",
      "text/plain": [
       "<Figure size 432x288 with 1 Axes>"
      ]
     },
     "metadata": {
      "needs_background": "light"
     },
     "output_type": "display_data"
    },
    {
     "data": {
      "image/png": "[encoded data removed]",
      "text/plain": [
       "<Figure size 432x288 with 1 Axes>"
      ]
     },
     "metadata": {
      "needs_background": "light"
     },
     "output_type": "display_data"
    },
    {
     "data": {
      "image/png": "[encoded data removed]",
      "text/plain": [
       "<Figure size 432x288 with 1 Axes>"
      ]
     },
     "metadata": {
      "needs_background": "light"
     },
     "output_type": "display_data"
    },
    {
     "data": {
      "image/png": "[encoded data removed]",
      "text/plain": [
       "<Figure size 432x288 with 1 Axes>"
      ]
     },
     "metadata": {
      "needs_background": "light"
     },
     "output_type": "display_data"
    }
   ],
   "source": [
    "# appliquons la transformation logarithmique\n",
    "# notez que np.log calcule le logarithme naturel (c.-à-d., ln(x))\n",
    "# on utilise +1 pour éviter de se retrouver avec ln(0) \n",
    "df_SC['line_item_value_log'] = np.log(df_SC['line_item_value'] + 1)\n",
    "# df_SC['line_item_value_log'] = [math.log(x+1) for x in df_SC['line_item_value']]\n",
    "\n",
    "# appliquons la transformation racine carrée\n",
    "df_SC['line_item_value_sqrt'] = np.sqrt(df_SC['line_item_value'])\n",
    "# df_SC['line_item_value_sqrt'] = [math.sqrt(x) for x in df_SC['line_item_value']]\n",
    "\n",
    "# visualisons les résultats\n",
    "df_SC[['line_item_value','line_item_value_log']].plot(x='line_item_value_log', y='line_item_value', kind='scatter')\n",
    "df_SC[['line_item_value_log']].plot(kind='hist')\n",
    "\n",
    "df_SC[['line_item_value','line_item_value_sqrt']].plot(x='line_item_value_sqrt', y='line_item_value', kind='scatter')\n",
    "df_SC[['line_item_value_sqrt']].plot(kind='hist')"
   ]
  },
  {
   "cell_type": "markdown",
   "metadata": {},
   "source": [
    "Il est aussi possible d'appliquer la [fonction `boxcox` de SciPy](https://docs.scipy.org/doc/scipy/reference/generated/scipy.stats.boxcox.html) pour automatiser la recherche de la meilleure transformation possible:"
   ]
  },
  {
   "cell_type": "code",
   "execution_count": 23,
   "metadata": {},
   "outputs": [
    {
     "data": {
      "text/plain": [
       "<AxesSubplot:ylabel='Frequency'>"
      ]
     },
     "execution_count": 23,
     "metadata": {},
     "output_type": "execute_result"
    },
    {
     "data": {
      "image/png": "[encoded data removed]",
      "text/plain": [
       "<Figure size 432x288 with 1 Axes>"
      ]
     },
     "metadata": {
      "needs_background": "light"
     },
     "output_type": "display_data"
    },
    {
     "data": {
      "image/png": "[encoded data removed]",
      "text/plain": [
       "<Figure size 432x288 with 1 Axes>"
      ]
     },
     "metadata": {
      "needs_background": "light"
     },
     "output_type": "display_data"
    }
   ],
   "source": [
    "df_SC['line_item_value_boxcox'], lmbda = stats.boxcox(df_SC['line_item_value'] + 1)\n",
    "df_SC[['line_item_value','line_item_value_boxcox']].plot(x='line_item_value_boxcox', y='line_item_value', kind='scatter')\n",
    "df_SC[['line_item_value_boxcox']].plot(kind='hist')"
   ]
  },
  {
   "cell_type": "markdown",
   "metadata": {},
   "source": [
    "On remarque que cette dernière transformation semble nous donner le meilleur résultat!"
   ]
  },
  {
   "cell_type": "markdown",
   "metadata": {
    "id": "3l07z-nrdVji"
   },
   "source": [
    "## Variables binaires\n",
    "Une variable qualitative devrait généralement être encodé avec des variables binaires. Il existe généralement deux options pour cet encodage:\n",
    "- Option 1: Définir $k-1$ variables binaires et utiliser la catégorie manquante comme la catégorie de référence. Cette option est à privélégier pour éviter les problèmes de multicolinéarité qui pourrait affecter les analyses statistiques, par exemple, dans une régression linéaire.\n",
    "- Option 2: Définir $k$ variables binaires. Cette approche est souvent appelée *one-hot encoding*. Cette approche est plutôt utilisée en apprentissage automatique dans les algorithmes qui utilisent de la régularisation. Dans ce cas-ci, lorsque toutes les variables binaires sont zéros, on se retrouve alors avec une valeur manquante.\n",
    "\n",
    "Transformons notre variable qualitative `shipment_mode` avec ces deux options.\n",
    "\n",
    "Premièrement, regardons les différentes valeurs possibles dans cette colonne."
   ]
  },
  {
   "cell_type": "code",
   "execution_count": 24,
   "metadata": {
    "id": "Scy19RTedVjj",
    "scrolled": true
   },
   "outputs": [
    {
     "data": {
      "text/plain": [
       "array(['Air', 'missing', 'Truck', 'Air Charter', 'Ocean'], dtype=object)"
      ]
     },
     "execution_count": 24,
     "metadata": {},
     "output_type": "execute_result"
    }
   ],
   "source": [
    "df_SC['shipment_mode'].unique()"
   ]
  },
  {
   "cell_type": "markdown",
   "metadata": {
    "id": "NrxVTOsIdVjj"
   },
   "source": [
    "Créons maintenant 4 variables binaires avec les noms `'Air Charter'`, `'Ocean'`, `'Truck'` et `'missing'`, et utilisons `'Air'`  comme notre catégorie de référence. Nous pouvons faire cela en utilisant la fonction `pd.get_dummies()` et le paramètre `drop_first=True`. Pour plus d'information, vous pouvez consulter [cette page](https://pandas.pydata.org/pandas-docs/stable/reference/api/pandas.get_dummies.html)."
   ]
  },
  {
   "cell_type": "code",
   "execution_count": 25,
   "metadata": {
    "id": "x9eymnJqdVjj"
   },
   "outputs": [
    {
     "data": {
      "text/html": [
       "<div>\n",
       "<style scoped>\n",
       "    .dataframe tbody tr th:only-of-type {\n",
       "        vertical-align: middle;\n",
       "    }\n",
       "\n",
       "    .dataframe tbody tr th {\n",
       "        vertical-align: top;\n",
       "    }\n",
       "\n",
       "    .dataframe thead th {\n",
       "        text-align: right;\n",
       "    }\n",
       "</style>\n",
       "<table border=\"1\" class=\"dataframe\">\n",
       "  <thead>\n",
       "    <tr style=\"text-align: right;\">\n",
       "      <th></th>\n",
       "      <th>Air Charter</th>\n",
       "      <th>Ocean</th>\n",
       "      <th>Truck</th>\n",
       "      <th>missing</th>\n",
       "    </tr>\n",
       "  </thead>\n",
       "  <tbody>\n",
       "    <tr>\n",
       "      <th>0</th>\n",
       "      <td>0</td>\n",
       "      <td>0</td>\n",
       "      <td>0</td>\n",
       "      <td>0</td>\n",
       "    </tr>\n",
       "    <tr>\n",
       "      <th>1</th>\n",
       "      <td>0</td>\n",
       "      <td>0</td>\n",
       "      <td>0</td>\n",
       "      <td>0</td>\n",
       "    </tr>\n",
       "    <tr>\n",
       "      <th>2</th>\n",
       "      <td>0</td>\n",
       "      <td>0</td>\n",
       "      <td>0</td>\n",
       "      <td>0</td>\n",
       "    </tr>\n",
       "    <tr>\n",
       "      <th>3</th>\n",
       "      <td>0</td>\n",
       "      <td>0</td>\n",
       "      <td>0</td>\n",
       "      <td>0</td>\n",
       "    </tr>\n",
       "    <tr>\n",
       "      <th>4</th>\n",
       "      <td>0</td>\n",
       "      <td>0</td>\n",
       "      <td>0</td>\n",
       "      <td>0</td>\n",
       "    </tr>\n",
       "  </tbody>\n",
       "</table>\n",
       "</div>"
      ],
      "text/plain": [
       "   Air Charter  Ocean  Truck  missing\n",
       "0            0      0      0        0\n",
       "1            0      0      0        0\n",
       "2            0      0      0        0\n",
       "3            0      0      0        0\n",
       "4            0      0      0        0"
      ]
     },
     "execution_count": 25,
     "metadata": {},
     "output_type": "execute_result"
    }
   ],
   "source": [
    "df_dummies = pd.get_dummies(df_SC['shipment_mode'], drop_first=True)\n",
    "df_dummies.head()"
   ]
  },
  {
   "cell_type": "markdown",
   "metadata": {},
   "source": [
    "Pour le *one-hot encoding*, nous procédons plutôt de la sorte:"
   ]
  },
  {
   "cell_type": "code",
   "execution_count": 26,
   "metadata": {
    "id": "5omkP3cjHgUS"
   },
   "outputs": [
    {
     "data": {
      "text/html": [
       "<div>\n",
       "<style scoped>\n",
       "    .dataframe tbody tr th:only-of-type {\n",
       "        vertical-align: middle;\n",
       "    }\n",
       "\n",
       "    .dataframe tbody tr th {\n",
       "        vertical-align: top;\n",
       "    }\n",
       "\n",
       "    .dataframe thead th {\n",
       "        text-align: right;\n",
       "    }\n",
       "</style>\n",
       "<table border=\"1\" class=\"dataframe\">\n",
       "  <thead>\n",
       "    <tr style=\"text-align: right;\">\n",
       "      <th></th>\n",
       "      <th>Air</th>\n",
       "      <th>Air Charter</th>\n",
       "      <th>Ocean</th>\n",
       "      <th>Truck</th>\n",
       "      <th>missing</th>\n",
       "    </tr>\n",
       "  </thead>\n",
       "  <tbody>\n",
       "    <tr>\n",
       "      <th>0</th>\n",
       "      <td>1</td>\n",
       "      <td>0</td>\n",
       "      <td>0</td>\n",
       "      <td>0</td>\n",
       "      <td>0</td>\n",
       "    </tr>\n",
       "    <tr>\n",
       "      <th>1</th>\n",
       "      <td>1</td>\n",
       "      <td>0</td>\n",
       "      <td>0</td>\n",
       "      <td>0</td>\n",
       "      <td>0</td>\n",
       "    </tr>\n",
       "    <tr>\n",
       "      <th>2</th>\n",
       "      <td>1</td>\n",
       "      <td>0</td>\n",
       "      <td>0</td>\n",
       "      <td>0</td>\n",
       "      <td>0</td>\n",
       "    </tr>\n",
       "    <tr>\n",
       "      <th>3</th>\n",
       "      <td>1</td>\n",
       "      <td>0</td>\n",
       "      <td>0</td>\n",
       "      <td>0</td>\n",
       "      <td>0</td>\n",
       "    </tr>\n",
       "    <tr>\n",
       "      <th>4</th>\n",
       "      <td>1</td>\n",
       "      <td>0</td>\n",
       "      <td>0</td>\n",
       "      <td>0</td>\n",
       "      <td>0</td>\n",
       "    </tr>\n",
       "  </tbody>\n",
       "</table>\n",
       "</div>"
      ],
      "text/plain": [
       "   Air  Air Charter  Ocean  Truck  missing\n",
       "0    1            0      0      0        0\n",
       "1    1            0      0      0        0\n",
       "2    1            0      0      0        0\n",
       "3    1            0      0      0        0\n",
       "4    1            0      0      0        0"
      ]
     },
     "execution_count": 26,
     "metadata": {},
     "output_type": "execute_result"
    }
   ],
   "source": [
    "df_onehot = pd.get_dummies(df_SC['shipment_mode'])\n",
    "df_onehot.head()"
   ]
  },
  {
   "cell_type": "markdown",
   "metadata": {
    "id": "k3try2FUdVjj"
   },
   "source": [
    "Si nous voulons ajouter ces colonnes au DataFrame, nous pouvons alors utiliser la fonction `pd.concat()`. Par exemple, pour ajouter le *one-hot encoding*, nous procédons de la façon suivante:"
   ]
  },
  {
   "cell_type": "code",
   "execution_count": 27,
   "metadata": {
    "id": "0SC59ivFdVjk",
    "scrolled": true
   },
   "outputs": [
    {
     "data": {
      "text/html": [
       "<div>\n",
       "<style scoped>\n",
       "    .dataframe tbody tr th:only-of-type {\n",
       "        vertical-align: middle;\n",
       "    }\n",
       "\n",
       "    .dataframe tbody tr th {\n",
       "        vertical-align: top;\n",
       "    }\n",
       "\n",
       "    .dataframe thead th {\n",
       "        text-align: right;\n",
       "    }\n",
       "</style>\n",
       "<table border=\"1\" class=\"dataframe\">\n",
       "  <thead>\n",
       "    <tr style=\"text-align: right;\">\n",
       "      <th></th>\n",
       "      <th>Air</th>\n",
       "      <th>Air Charter</th>\n",
       "      <th>Ocean</th>\n",
       "      <th>Truck</th>\n",
       "      <th>missing</th>\n",
       "    </tr>\n",
       "  </thead>\n",
       "  <tbody>\n",
       "    <tr>\n",
       "      <th>count</th>\n",
       "      <td>10324.000000</td>\n",
       "      <td>10324.000000</td>\n",
       "      <td>10324.000000</td>\n",
       "      <td>10324.000000</td>\n",
       "      <td>10324.00000</td>\n",
       "    </tr>\n",
       "    <tr>\n",
       "      <th>mean</th>\n",
       "      <td>0.592115</td>\n",
       "      <td>0.062960</td>\n",
       "      <td>0.035936</td>\n",
       "      <td>0.274119</td>\n",
       "      <td>0.03487</td>\n",
       "    </tr>\n",
       "    <tr>\n",
       "      <th>std</th>\n",
       "      <td>0.491465</td>\n",
       "      <td>0.242903</td>\n",
       "      <td>0.186139</td>\n",
       "      <td>0.446091</td>\n",
       "      <td>0.18346</td>\n",
       "    </tr>\n",
       "    <tr>\n",
       "      <th>min</th>\n",
       "      <td>0.000000</td>\n",
       "      <td>0.000000</td>\n",
       "      <td>0.000000</td>\n",
       "      <td>0.000000</td>\n",
       "      <td>0.00000</td>\n",
       "    </tr>\n",
       "    <tr>\n",
       "      <th>25%</th>\n",
       "      <td>0.000000</td>\n",
       "      <td>0.000000</td>\n",
       "      <td>0.000000</td>\n",
       "      <td>0.000000</td>\n",
       "      <td>0.00000</td>\n",
       "    </tr>\n",
       "    <tr>\n",
       "      <th>50%</th>\n",
       "      <td>1.000000</td>\n",
       "      <td>0.000000</td>\n",
       "      <td>0.000000</td>\n",
       "      <td>0.000000</td>\n",
       "      <td>0.00000</td>\n",
       "    </tr>\n",
       "    <tr>\n",
       "      <th>75%</th>\n",
       "      <td>1.000000</td>\n",
       "      <td>0.000000</td>\n",
       "      <td>0.000000</td>\n",
       "      <td>1.000000</td>\n",
       "      <td>0.00000</td>\n",
       "    </tr>\n",
       "    <tr>\n",
       "      <th>max</th>\n",
       "      <td>1.000000</td>\n",
       "      <td>1.000000</td>\n",
       "      <td>1.000000</td>\n",
       "      <td>1.000000</td>\n",
       "      <td>1.00000</td>\n",
       "    </tr>\n",
       "  </tbody>\n",
       "</table>\n",
       "</div>"
      ],
      "text/plain": [
       "                Air   Air Charter         Ocean         Truck      missing\n",
       "count  10324.000000  10324.000000  10324.000000  10324.000000  10324.00000\n",
       "mean       0.592115      0.062960      0.035936      0.274119      0.03487\n",
       "std        0.491465      0.242903      0.186139      0.446091      0.18346\n",
       "min        0.000000      0.000000      0.000000      0.000000      0.00000\n",
       "25%        0.000000      0.000000      0.000000      0.000000      0.00000\n",
       "50%        1.000000      0.000000      0.000000      0.000000      0.00000\n",
       "75%        1.000000      0.000000      0.000000      1.000000      0.00000\n",
       "max        1.000000      1.000000      1.000000      1.000000      1.00000"
      ]
     },
     "execution_count": 27,
     "metadata": {},
     "output_type": "execute_result"
    }
   ],
   "source": [
    "df_SC = pd.concat([df_SC, df_onehot], axis=1) \n",
    "df_SC[df_onehot.columns].describe()"
   ]
  },
  {
   "cell_type": "markdown",
   "metadata": {
    "id": "Sd1yXEVfdVjk"
   },
   "source": [
    "## Discrétisation de variables numériques\n",
    "Dans certains cas, des variables catégoriques (c.-à-d., qualitatives) peuvent être préférables à des variables numériques. Nous devons alors répartir les variables numériques dans des boîtes.\n",
    "\n",
    "À titre d'exemple, transformons notre variable initiale `weight_kilograms` en une variable qualitative avec les valeurs `'light'` (si le poids est inférieur ou égal à 100 kg), `'medium'` (si le poids est compris dans l'intervalle [100 kg, 500 kg]), `'heavy'` (si le poids est compris dans l'intervalle [500 kg, 1000 kg]) et `'super-heavy'` (si le poids est > 1000 kg). \n",
    "\n",
    "Nous pouvons implémenter cette transformation avec la fonction `pd.cut()`, qui aide à segmenter les données dans des boîtes. Vous pouvez référer à [cette page](https://pandas.pydata.org/pandas-docs/stable/reference/api/pandas.cut.html) pour plus d'information."
   ]
  },
  {
   "cell_type": "code",
   "execution_count": 28,
   "metadata": {
    "id": "Fgcx3yVSdVjk"
   },
   "outputs": [
    {
     "data": {
      "text/html": [
       "<div>\n",
       "<style scoped>\n",
       "    .dataframe tbody tr th:only-of-type {\n",
       "        vertical-align: middle;\n",
       "    }\n",
       "\n",
       "    .dataframe tbody tr th {\n",
       "        vertical-align: top;\n",
       "    }\n",
       "\n",
       "    .dataframe thead th {\n",
       "        text-align: right;\n",
       "    }\n",
       "</style>\n",
       "<table border=\"1\" class=\"dataframe\">\n",
       "  <thead>\n",
       "    <tr style=\"text-align: right;\">\n",
       "      <th></th>\n",
       "      <th>weight_kilograms</th>\n",
       "      <th>weight_category</th>\n",
       "    </tr>\n",
       "  </thead>\n",
       "  <tbody>\n",
       "    <tr>\n",
       "      <th>0</th>\n",
       "      <td>13.0</td>\n",
       "      <td>light</td>\n",
       "    </tr>\n",
       "    <tr>\n",
       "      <th>1</th>\n",
       "      <td>358.0</td>\n",
       "      <td>medium</td>\n",
       "    </tr>\n",
       "    <tr>\n",
       "      <th>2</th>\n",
       "      <td>171.0</td>\n",
       "      <td>medium</td>\n",
       "    </tr>\n",
       "    <tr>\n",
       "      <th>3</th>\n",
       "      <td>1855.0</td>\n",
       "      <td>super-heavy</td>\n",
       "    </tr>\n",
       "    <tr>\n",
       "      <th>4</th>\n",
       "      <td>7590.0</td>\n",
       "      <td>super-heavy</td>\n",
       "    </tr>\n",
       "    <tr>\n",
       "      <th>5</th>\n",
       "      <td>504.0</td>\n",
       "      <td>heavy</td>\n",
       "    </tr>\n",
       "    <tr>\n",
       "      <th>6</th>\n",
       "      <td>328.0</td>\n",
       "      <td>medium</td>\n",
       "    </tr>\n",
       "    <tr>\n",
       "      <th>7</th>\n",
       "      <td>1478.0</td>\n",
       "      <td>super-heavy</td>\n",
       "    </tr>\n",
       "    <tr>\n",
       "      <th>8</th>\n",
       "      <td>NaN</td>\n",
       "      <td>NaN</td>\n",
       "    </tr>\n",
       "    <tr>\n",
       "      <th>9</th>\n",
       "      <td>643.0</td>\n",
       "      <td>heavy</td>\n",
       "    </tr>\n",
       "    <tr>\n",
       "      <th>10</th>\n",
       "      <td>643.0</td>\n",
       "      <td>heavy</td>\n",
       "    </tr>\n",
       "  </tbody>\n",
       "</table>\n",
       "</div>"
      ],
      "text/plain": [
       "    weight_kilograms weight_category\n",
       "0               13.0           light\n",
       "1              358.0          medium\n",
       "2              171.0          medium\n",
       "3             1855.0     super-heavy\n",
       "4             7590.0     super-heavy\n",
       "5              504.0           heavy\n",
       "6              328.0          medium\n",
       "7             1478.0     super-heavy\n",
       "8                NaN             NaN\n",
       "9              643.0           heavy\n",
       "10             643.0           heavy"
      ]
     },
     "execution_count": 28,
     "metadata": {},
     "output_type": "execute_result"
    }
   ],
   "source": [
    "bins = [0, 100., 500., 1000., float('inf')]             # les catégories\n",
    "names = ['light', 'medium', 'heavy', 'super-heavy']      # les noms des catégories\n",
    "df_SC['weight_category'] = pd.cut(df_SC['weight_kilograms'], \n",
    "                                  bins, \n",
    "                                  labels=names, \n",
    "                                  include_lowest=True)\n",
    "df_SC.loc[:10, ['weight_kilograms','weight_category']]"
   ]
  },
  {
   "cell_type": "markdown",
   "metadata": {},
   "source": [
    "# Sauvegarde des données\n",
    "\n",
    "Finalement, après avoir terminé le prétraitement des données, il peut être nécessaire de sauvegarder ces données pour être en mesure de les réutiliser ailleurs. Ceci peut être fait facilement de la sorte:"
   ]
  },
  {
   "cell_type": "code",
   "execution_count": 29,
   "metadata": {
    "id": "nH_qvb9AOfzk"
   },
   "outputs": [],
   "source": [
    "file = \"transformed_df.csv\"\n",
    "df_SC.to_csv(file)"
   ]
  },
  {
   "cell_type": "markdown",
   "metadata": {},
   "source": [
    "Dans le cas de Google Colab, il faut aussi faire l'étape suivante additionnelle pour télécharger ce fichier."
   ]
  },
  {
   "cell_type": "code",
   "execution_count": null,
   "metadata": {},
   "outputs": [],
   "source": [
    "from google.colab import files\n",
    "files.download(file)"
   ]
  }
 ],
 "metadata": {
  "colab": {
   "collapsed_sections": [],
   "include_colab_link": true,
   "name": "S05_LectureEx_1_Notebook_Processing.ipynb",
   "provenance": []
  },
  "kernelspec": {
   "display_name": "Python 3 (ipykernel)",
   "language": "python",
   "name": "python3"
  },
  "language_info": {
   "codemirror_mode": {
    "name": "ipython",
    "version": 3
   },
   "file_extension": ".py",
   "mimetype": "text/x-python",
   "name": "python",
   "nbconvert_exporter": "python",
   "pygments_lexer": "ipython3",
   "version": "3.8.8"
  },
  "toc": {
   "base_numbering": 1,
   "nav_menu": {},
   "number_sections": true,
   "sideBar": true,
   "skip_h1_title": false,
   "title_cell": "Table of Contents",
   "title_sidebar": "Contents",
   "toc_cell": false,
   "toc_position": {},
   "toc_section_display": true,
   "toc_window_display": true
  }
 },
 "nbformat": 4,
 "nbformat_minor": 1
}
