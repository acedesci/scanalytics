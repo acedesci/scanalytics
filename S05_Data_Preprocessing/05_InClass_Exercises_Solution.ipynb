{
  "nbformat": 4,
  "nbformat_minor": 0,
  "metadata": {
    "kernelspec": {
      "display_name": "Python 3",
      "language": "python",
      "name": "python3"
    },
    "language_info": {
      "codemirror_mode": {
        "name": "ipython",
        "version": 3
      },
      "file_extension": ".py",
      "mimetype": "text/x-python",
      "name": "python",
      "nbconvert_exporter": "python",
      "pygments_lexer": "ipython3",
      "version": "3.7.6"
    },
    "colab": {
      "name": "S5_InClass_Exercises_Solution.ipynb",
      "provenance": [],
      "collapsed_sections": [],
      "include_colab_link": true
    }
  },
  "cells": [
    {
      "cell_type": "markdown",
      "metadata": {
        "id": "view-in-github",
        "colab_type": "text"
      },
      "source": [
        "<a href=\"https://colab.research.google.com/github/acedesci/scanalytics/blob/master/S05_Data_Preprocessing/S05_InClass_Exercises_Solution.ipynb\" target=\"_parent\"><img src=\"https://colab.research.google.com/assets/colab-badge.svg\" alt=\"Open In Colab\"/></a>"
      ]
    },
    {
      "cell_type": "markdown",
      "metadata": {
        "id": "jIkMaeo-963Z"
      },
      "source": [
        "# S5 - In-Class/After-Class Exercise: Data Preprocessing and Transformation (Solution)\n",
        "---\n",
        "## Instructions:\n",
        "For each exercise, you have a code cell for the response underneath it, where you should write your answer between the lines containing `### start your code here ###` and `### end your code here ###`. Your code can contain one or more lines and you can execute this cell in order to complete the exercise. To execute the cell, you can type `Shift+Enter` or press the play button in the toolbar above. Your results will appear right below this response cell.\n"
      ]
    },
    {
      "cell_type": "markdown",
      "metadata": {
        "id": "Cdi17eV1963h"
      },
      "source": [
        "### Importing data\n",
        "In this exercise, we will explore some adapted data set which provides information on the number of patients waiting, and length of time waiting at the end of each quarter, for Inpatient and Day Case admissions at Health and Social Care (HSC) Trusts in Northern Ireland. Data are presented by HSC Trust, specialty, programme of care and time band. The original data can be accessed at [this page](https://data.world/datagov-uk/a593a0b3-29ef-48f2-b2b2-ceb83d841a3c).\n",
        "\n",
        "This is a description of the columns of our adapted data in the file `day-case-waiting-times.csv`.\n",
        "\n",
        "| VARIABLE NAME | DESCRIPTION | \n",
        "|:----|:----|\n",
        "|quarter_ending| report date for each quarter|\n",
        "|HSC_trust| Health and Social Care (HSC) Trusts|\n",
        "|specialty| specialty of the HSC (e.g., Urology, General Surgery, Plastic Surgery, etc.) |\n",
        "|program| program of care (e.g, mental health, acute services)|\n",
        "|0-6_weeks|number of patients who wait for a period between (0, 6] weeks in the corresponding quarter|\n",
        "|>6-13_weeks|number of patients who wait for a period between (6, 13] weeks in the corresponding quarter|\n",
        "|>13-21_weeks|number of patients who wait for a period between (13, 21] weeks in the corresponding quarter|\n",
        "|>21-26_weeks|number of patients who wait for a period between (21, 26] weeks in the corresponding quarter|\n",
        "|>26-52_weeks|number of patients who wait for a period between (26, 52] weeks in the corresponding quarter|\n",
        "|>52_weeks|number of patients who wait for a period greater than 52 weeks in the corresponding quarter|\n",
        "|>26-30_weeks|number of patients who wait for a period between (26, 30] weeks in the corresponding quarter|\n",
        "\n",
        "Import the data file `day-case-waiting-times.csv` into a `DataFrame` named `df_WT`. Display the first 5 rows of your `DataFrame`.\n",
        "\n",
        "**Hint**: you can use the `pandas.read_csv()` funtion."
      ]
    },
    {
      "cell_type": "code",
      "metadata": {
        "scrolled": true,
        "colab": {
          "base_uri": "https://localhost:8080/",
          "height": 206
        },
        "id": "_fF7rQuT963h",
        "outputId": "b19aa9c4-ec5e-4df4-c8f9-07edde9851aa"
      },
      "source": [
        "import pandas as pd\n",
        "\n",
        "url = 'https://raw.githubusercontent.com/acedesci/scanalytics/master/S05_Data_Preprocessing/day-case-waiting-times.csv'\n",
        "df_WT = pd.read_csv(url)  # reading data file into a DataFrame\n",
        "df_WT.head()"
      ],
      "execution_count": null,
      "outputs": [
        {
          "output_type": "execute_result",
          "data": {
            "text/html": [
              "<div>\n",
              "<style scoped>\n",
              "    .dataframe tbody tr th:only-of-type {\n",
              "        vertical-align: middle;\n",
              "    }\n",
              "\n",
              "    .dataframe tbody tr th {\n",
              "        vertical-align: top;\n",
              "    }\n",
              "\n",
              "    .dataframe thead th {\n",
              "        text-align: right;\n",
              "    }\n",
              "</style>\n",
              "<table border=\"1\" class=\"dataframe\">\n",
              "  <thead>\n",
              "    <tr style=\"text-align: right;\">\n",
              "      <th></th>\n",
              "      <th>quarter_ending</th>\n",
              "      <th>HSC_trust</th>\n",
              "      <th>specialty</th>\n",
              "      <th>program</th>\n",
              "      <th>0-6_weeks</th>\n",
              "      <th>&gt;6-13_weeks</th>\n",
              "      <th>&gt;13-21_weeks</th>\n",
              "      <th>&gt;21-26_weeks</th>\n",
              "      <th>&gt;26-52_weeks</th>\n",
              "      <th>&gt;52_weeks</th>\n",
              "      <th>&gt;26-30_weeks</th>\n",
              "    </tr>\n",
              "  </thead>\n",
              "  <tbody>\n",
              "    <tr>\n",
              "      <th>0</th>\n",
              "      <td>30-Jun-07</td>\n",
              "      <td>Belfast</td>\n",
              "      <td>General Surgery</td>\n",
              "      <td>Acute Services</td>\n",
              "      <td>309</td>\n",
              "      <td>218</td>\n",
              "      <td>138</td>\n",
              "      <td>6</td>\n",
              "      <td>0</td>\n",
              "      <td>NaN</td>\n",
              "      <td>--</td>\n",
              "    </tr>\n",
              "    <tr>\n",
              "      <th>1</th>\n",
              "      <td>30-Jun-07</td>\n",
              "      <td>Belfast</td>\n",
              "      <td>Urology</td>\n",
              "      <td>Acute Services</td>\n",
              "      <td>483</td>\n",
              "      <td>301</td>\n",
              "      <td>116</td>\n",
              "      <td>3</td>\n",
              "      <td>0</td>\n",
              "      <td>NaN</td>\n",
              "      <td>--</td>\n",
              "    </tr>\n",
              "    <tr>\n",
              "      <th>2</th>\n",
              "      <td>30-Jun-07</td>\n",
              "      <td>Belfast</td>\n",
              "      <td>T &amp; O Surgery</td>\n",
              "      <td>Acute Services</td>\n",
              "      <td>158</td>\n",
              "      <td>211</td>\n",
              "      <td>110</td>\n",
              "      <td>36</td>\n",
              "      <td>0</td>\n",
              "      <td>NaN</td>\n",
              "      <td>--</td>\n",
              "    </tr>\n",
              "    <tr>\n",
              "      <th>3</th>\n",
              "      <td>30-Jun-07</td>\n",
              "      <td>Belfast</td>\n",
              "      <td>ENT</td>\n",
              "      <td>Acute Services</td>\n",
              "      <td>121</td>\n",
              "      <td>159</td>\n",
              "      <td>72</td>\n",
              "      <td>1</td>\n",
              "      <td>0</td>\n",
              "      <td>NaN</td>\n",
              "      <td>--</td>\n",
              "    </tr>\n",
              "    <tr>\n",
              "      <th>4</th>\n",
              "      <td>30-Jun-07</td>\n",
              "      <td>Belfast</td>\n",
              "      <td>Ophthalmology</td>\n",
              "      <td>Acute Services</td>\n",
              "      <td>905</td>\n",
              "      <td>846</td>\n",
              "      <td>405</td>\n",
              "      <td>19</td>\n",
              "      <td>0</td>\n",
              "      <td>NaN</td>\n",
              "      <td>--</td>\n",
              "    </tr>\n",
              "  </tbody>\n",
              "</table>\n",
              "</div>"
            ],
            "text/plain": [
              "  quarter_ending HSC_trust        specialty  ... >26-52_weeks >52_weeks >26-30_weeks\n",
              "0      30-Jun-07   Belfast  General Surgery  ...            0       NaN           --\n",
              "1      30-Jun-07   Belfast          Urology  ...            0       NaN           --\n",
              "2      30-Jun-07   Belfast    T & O Surgery  ...            0       NaN           --\n",
              "3      30-Jun-07   Belfast              ENT  ...            0       NaN           --\n",
              "4      30-Jun-07   Belfast    Ophthalmology  ...            0       NaN           --\n",
              "\n",
              "[5 rows x 11 columns]"
            ]
          },
          "metadata": {
            "tags": []
          },
          "execution_count": 1
        }
      ]
    },
    {
      "cell_type": "markdown",
      "metadata": {
        "id": "sWNIvri0963q"
      },
      "source": [
        "---"
      ]
    },
    {
      "cell_type": "markdown",
      "metadata": {
        "id": "NS4j2zxB963q"
      },
      "source": [
        "## Preprocessing Data and Missing Values\n",
        "### Exercise 1: Changing the data types of columns\n",
        "Take a look at the type of data in your `DataFrame`. The column `quarter_ending` should be of type `datatime64`, and all the columns from `0-6_weeks` to `>26-30_weeks` should be numeric (float or int), as they represent the number of patients whose waiting times were within the corresponding intervals. In this case, the float number is required if the column contains `NaN` value. \n",
        "\n",
        "Are your columns of the correct type? If not, convert the data into the correct format. \n",
        "\n",
        "**Hint1:** You can use the functions `pandas.to_numeric()`, `pandas.to_datetime`, and/or  `DataFrame.astype()`.\n",
        "\n",
        "**Hint2:** we can make sure that (i) the non-numerical value will be set as `NaN` by using the argument `errors = 'coerce'`, and (ii) the numeric type is float by using the argument `downcast='float'` in `pandas.to_numeric(column_series, errors = 'coerce', downcast='float')`\n",
        "\n",
        "More details can be found here [link](https://pandas.pydata.org/pandas-docs/stable/reference/api/pandas.to_numeric.html)"
      ]
    },
    {
      "cell_type": "code",
      "metadata": {
        "scrolled": true,
        "id": "WPC59qjd963r",
        "colab": {
          "base_uri": "https://localhost:8080/"
        },
        "outputId": "e0f5716b-e854-410b-be72-c7072bcf1508"
      },
      "source": [
        "df_WT.dtypes"
      ],
      "execution_count": null,
      "outputs": [
        {
          "output_type": "execute_result",
          "data": {
            "text/plain": [
              "quarter_ending    object\n",
              "HSC_trust         object\n",
              "specialty         object\n",
              "program           object\n",
              "0-6_weeks         object\n",
              ">6-13_weeks       object\n",
              ">13-21_weeks      object\n",
              ">21-26_weeks       int64\n",
              ">26-52_weeks      object\n",
              ">52_weeks         object\n",
              ">26-30_weeks      object\n",
              "dtype: object"
            ]
          },
          "metadata": {
            "tags": []
          },
          "execution_count": 2
        }
      ]
    },
    {
      "cell_type": "code",
      "metadata": {
        "scrolled": true,
        "colab": {
          "base_uri": "https://localhost:8080/"
        },
        "id": "ooEtfnHy963r",
        "outputId": "196eea5d-cc95-4871-860f-b88d60ae497f"
      },
      "source": [
        "### start your code here ###\n",
        "df_WT['quarter_ending'] = pd.to_datetime(df_WT['quarter_ending'])\n",
        "\n",
        "for col in df_WT.columns[-7:]:\n",
        "  df_WT[col] = pd.to_numeric(df_WT[col], errors='coerce', downcast='float')\n",
        "### end your code here ###\n",
        "df_WT.dtypes"
      ],
      "execution_count": null,
      "outputs": [
        {
          "output_type": "execute_result",
          "data": {
            "text/plain": [
              "quarter_ending    datetime64[ns]\n",
              "HSC_trust                 object\n",
              "specialty                 object\n",
              "program                   object\n",
              "0-6_weeks                float32\n",
              ">6-13_weeks              float32\n",
              ">13-21_weeks             float32\n",
              ">21-26_weeks             float32\n",
              ">26-52_weeks             float32\n",
              ">52_weeks                float32\n",
              ">26-30_weeks             float32\n",
              "dtype: object"
            ]
          },
          "metadata": {
            "tags": []
          },
          "execution_count": 3
        }
      ]
    },
    {
      "cell_type": "markdown",
      "metadata": {
        "id": "sdN2z8IY963r"
      },
      "source": [
        "### Exercise 2:  Missing values\n",
        "Take a look at the missing values in your `DataFrame`. Implement a line of code which shows the total number of missing values in each column."
      ]
    },
    {
      "cell_type": "code",
      "metadata": {
        "colab": {
          "base_uri": "https://localhost:8080/"
        },
        "id": "BT3f20sr963r",
        "outputId": "fd05356f-1cc5-438b-ae5e-638ec438c1d8"
      },
      "source": [
        "df_WT.isna().sum()"
      ],
      "execution_count": null,
      "outputs": [
        {
          "output_type": "execute_result",
          "data": {
            "text/plain": [
              "quarter_ending       0\n",
              "HSC_trust            0\n",
              "specialty            0\n",
              "program              0\n",
              "0-6_weeks           18\n",
              ">6-13_weeks         17\n",
              ">13-21_weeks         5\n",
              ">21-26_weeks         0\n",
              ">26-52_weeks      2574\n",
              ">52_weeks         3194\n",
              ">26-30_weeks      3693\n",
              "dtype: int64"
            ]
          },
          "metadata": {
            "tags": []
          },
          "execution_count": 4
        }
      ]
    },
    {
      "cell_type": "markdown",
      "metadata": {
        "id": "0ve7iOhV963s"
      },
      "source": [
        "Let's assume that the missing values can appear when data is not available. Thus, in this case of having missing values,  the number of patients with waiting times within any of the interval specified by the columns of our `DataFrame` is equal to 0. We can replace the missing numeric values with 0.\n",
        "\n",
        "**Hint:** you can use the function `DataFrame.fillna()` to replace missing values of the last 7 columns. Make sure the changes are applied/saved to your `DataFrame`."
      ]
    },
    {
      "cell_type": "code",
      "metadata": {
        "id": "wvg-gmW9963s",
        "colab": {
          "base_uri": "https://localhost:8080/",
          "height": 614
        },
        "outputId": "50c686e4-e0ff-4e35-932d-a92a50551a8d"
      },
      "source": [
        "### start your code here ###\n",
        "df_WT[df_WT.columns[-7:]] = df_WT[df_WT.columns[-7:]].fillna(0)\n",
        "df_WT.isna().sum()\n",
        "###  end your code here ###\n",
        "df_WT"
      ],
      "execution_count": null,
      "outputs": [
        {
          "output_type": "execute_result",
          "data": {
            "text/html": [
              "<div>\n",
              "<style scoped>\n",
              "    .dataframe tbody tr th:only-of-type {\n",
              "        vertical-align: middle;\n",
              "    }\n",
              "\n",
              "    .dataframe tbody tr th {\n",
              "        vertical-align: top;\n",
              "    }\n",
              "\n",
              "    .dataframe thead th {\n",
              "        text-align: right;\n",
              "    }\n",
              "</style>\n",
              "<table border=\"1\" class=\"dataframe\">\n",
              "  <thead>\n",
              "    <tr style=\"text-align: right;\">\n",
              "      <th></th>\n",
              "      <th>quarter_ending</th>\n",
              "      <th>HSC_trust</th>\n",
              "      <th>specialty</th>\n",
              "      <th>program</th>\n",
              "      <th>0-6_weeks</th>\n",
              "      <th>&gt;6-13_weeks</th>\n",
              "      <th>&gt;13-21_weeks</th>\n",
              "      <th>&gt;21-26_weeks</th>\n",
              "      <th>&gt;26-52_weeks</th>\n",
              "      <th>&gt;52_weeks</th>\n",
              "      <th>&gt;26-30_weeks</th>\n",
              "    </tr>\n",
              "  </thead>\n",
              "  <tbody>\n",
              "    <tr>\n",
              "      <th>0</th>\n",
              "      <td>2007-06-30</td>\n",
              "      <td>Belfast</td>\n",
              "      <td>General Surgery</td>\n",
              "      <td>Acute Services</td>\n",
              "      <td>309.0</td>\n",
              "      <td>218.0</td>\n",
              "      <td>138.0</td>\n",
              "      <td>6.0</td>\n",
              "      <td>0.0</td>\n",
              "      <td>0.0</td>\n",
              "      <td>0.0</td>\n",
              "    </tr>\n",
              "    <tr>\n",
              "      <th>1</th>\n",
              "      <td>2007-06-30</td>\n",
              "      <td>Belfast</td>\n",
              "      <td>Urology</td>\n",
              "      <td>Acute Services</td>\n",
              "      <td>483.0</td>\n",
              "      <td>301.0</td>\n",
              "      <td>116.0</td>\n",
              "      <td>3.0</td>\n",
              "      <td>0.0</td>\n",
              "      <td>0.0</td>\n",
              "      <td>0.0</td>\n",
              "    </tr>\n",
              "    <tr>\n",
              "      <th>2</th>\n",
              "      <td>2007-06-30</td>\n",
              "      <td>Belfast</td>\n",
              "      <td>T &amp; O Surgery</td>\n",
              "      <td>Acute Services</td>\n",
              "      <td>158.0</td>\n",
              "      <td>211.0</td>\n",
              "      <td>110.0</td>\n",
              "      <td>36.0</td>\n",
              "      <td>0.0</td>\n",
              "      <td>0.0</td>\n",
              "      <td>0.0</td>\n",
              "    </tr>\n",
              "    <tr>\n",
              "      <th>3</th>\n",
              "      <td>2007-06-30</td>\n",
              "      <td>Belfast</td>\n",
              "      <td>ENT</td>\n",
              "      <td>Acute Services</td>\n",
              "      <td>121.0</td>\n",
              "      <td>159.0</td>\n",
              "      <td>72.0</td>\n",
              "      <td>1.0</td>\n",
              "      <td>0.0</td>\n",
              "      <td>0.0</td>\n",
              "      <td>0.0</td>\n",
              "    </tr>\n",
              "    <tr>\n",
              "      <th>4</th>\n",
              "      <td>2007-06-30</td>\n",
              "      <td>Belfast</td>\n",
              "      <td>Ophthalmology</td>\n",
              "      <td>Acute Services</td>\n",
              "      <td>905.0</td>\n",
              "      <td>846.0</td>\n",
              "      <td>405.0</td>\n",
              "      <td>19.0</td>\n",
              "      <td>0.0</td>\n",
              "      <td>0.0</td>\n",
              "      <td>0.0</td>\n",
              "    </tr>\n",
              "    <tr>\n",
              "      <th>...</th>\n",
              "      <td>...</td>\n",
              "      <td>...</td>\n",
              "      <td>...</td>\n",
              "      <td>...</td>\n",
              "      <td>...</td>\n",
              "      <td>...</td>\n",
              "      <td>...</td>\n",
              "      <td>...</td>\n",
              "      <td>...</td>\n",
              "      <td>...</td>\n",
              "      <td>...</td>\n",
              "    </tr>\n",
              "    <tr>\n",
              "      <th>4394</th>\n",
              "      <td>2019-09-30</td>\n",
              "      <td>Western</td>\n",
              "      <td>Ophthalmology</td>\n",
              "      <td>Acute Services</td>\n",
              "      <td>418.0</td>\n",
              "      <td>392.0</td>\n",
              "      <td>438.0</td>\n",
              "      <td>246.0</td>\n",
              "      <td>1437.0</td>\n",
              "      <td>212.0</td>\n",
              "      <td>0.0</td>\n",
              "    </tr>\n",
              "    <tr>\n",
              "      <th>4395</th>\n",
              "      <td>2019-09-30</td>\n",
              "      <td>Western</td>\n",
              "      <td>Oral Surgery</td>\n",
              "      <td>Acute Services</td>\n",
              "      <td>116.0</td>\n",
              "      <td>60.0</td>\n",
              "      <td>58.0</td>\n",
              "      <td>19.0</td>\n",
              "      <td>151.0</td>\n",
              "      <td>94.0</td>\n",
              "      <td>0.0</td>\n",
              "    </tr>\n",
              "    <tr>\n",
              "      <th>4396</th>\n",
              "      <td>2019-09-30</td>\n",
              "      <td>Western</td>\n",
              "      <td>Pain Management</td>\n",
              "      <td>Acute Services</td>\n",
              "      <td>59.0</td>\n",
              "      <td>38.0</td>\n",
              "      <td>38.0</td>\n",
              "      <td>21.0</td>\n",
              "      <td>213.0</td>\n",
              "      <td>92.0</td>\n",
              "      <td>0.0</td>\n",
              "    </tr>\n",
              "    <tr>\n",
              "      <th>4397</th>\n",
              "      <td>2019-09-30</td>\n",
              "      <td>Western</td>\n",
              "      <td>T &amp; O Surgery</td>\n",
              "      <td>Acute Services</td>\n",
              "      <td>164.0</td>\n",
              "      <td>92.0</td>\n",
              "      <td>90.0</td>\n",
              "      <td>67.0</td>\n",
              "      <td>986.0</td>\n",
              "      <td>693.0</td>\n",
              "      <td>0.0</td>\n",
              "    </tr>\n",
              "    <tr>\n",
              "      <th>4398</th>\n",
              "      <td>2019-09-30</td>\n",
              "      <td>Western</td>\n",
              "      <td>Urology</td>\n",
              "      <td>Acute Services</td>\n",
              "      <td>252.0</td>\n",
              "      <td>100.0</td>\n",
              "      <td>73.0</td>\n",
              "      <td>60.0</td>\n",
              "      <td>337.0</td>\n",
              "      <td>13.0</td>\n",
              "      <td>0.0</td>\n",
              "    </tr>\n",
              "  </tbody>\n",
              "</table>\n",
              "<p>4399 rows × 11 columns</p>\n",
              "</div>"
            ],
            "text/plain": [
              "     quarter_ending HSC_trust  ... >52_weeks >26-30_weeks\n",
              "0        2007-06-30   Belfast  ...       0.0          0.0\n",
              "1        2007-06-30   Belfast  ...       0.0          0.0\n",
              "2        2007-06-30   Belfast  ...       0.0          0.0\n",
              "3        2007-06-30   Belfast  ...       0.0          0.0\n",
              "4        2007-06-30   Belfast  ...       0.0          0.0\n",
              "...             ...       ...  ...       ...          ...\n",
              "4394     2019-09-30   Western  ...     212.0          0.0\n",
              "4395     2019-09-30   Western  ...      94.0          0.0\n",
              "4396     2019-09-30   Western  ...      92.0          0.0\n",
              "4397     2019-09-30   Western  ...     693.0          0.0\n",
              "4398     2019-09-30   Western  ...      13.0          0.0\n",
              "\n",
              "[4399 rows x 11 columns]"
            ]
          },
          "metadata": {
            "tags": []
          },
          "execution_count": 5
        }
      ]
    },
    {
      "cell_type": "markdown",
      "metadata": {
        "id": "O6DGWJfD963w"
      },
      "source": [
        "### Exercise 3: Aggregating data 1\n",
        "Execute the code block below. As you can see, the `DataFrame` has a column with the name `>26-52_weeks`, and another column named `>26-30_weeks`. As some data were recorded under one of these columns, thus\n",
        "\n",
        "1.   we will use only the maximum value from these two columns and \n",
        "2.   put the resulting value in the column `>26-52_weeks` and\n",
        "3.   remove the column `>26-30_weeks`.\n",
        "\n",
        "\n",
        "**Hint:** you can use the function `DataFrame.drop(columns='...')` to remove the selected column. See this [link](https://pandas.pydata.org/pandas-docs/stable/reference/api/pandas.DataFrame.drop.html)"
      ]
    },
    {
      "cell_type": "code",
      "metadata": {
        "colab": {
          "base_uri": "https://localhost:8080/",
          "height": 423
        },
        "id": "6IEa1lxb963x",
        "outputId": "c263fe1f-23f9-42f8-df7f-0dbb97a841e7"
      },
      "source": [
        "### start your code here ###\n",
        "df_WT['>26-52_weeks'] = [max(df_WT.loc[i,'>26-52_weeks'], df_WT.loc[i,'>26-30_weeks']) for i in df_WT.index]\n",
        "df_WT = df_WT.drop(columns='>26-30_weeks')   \n",
        "### end your code here ###\n",
        "df_WT"
      ],
      "execution_count": null,
      "outputs": [
        {
          "output_type": "execute_result",
          "data": {
            "text/html": [
              "<div>\n",
              "<style scoped>\n",
              "    .dataframe tbody tr th:only-of-type {\n",
              "        vertical-align: middle;\n",
              "    }\n",
              "\n",
              "    .dataframe tbody tr th {\n",
              "        vertical-align: top;\n",
              "    }\n",
              "\n",
              "    .dataframe thead th {\n",
              "        text-align: right;\n",
              "    }\n",
              "</style>\n",
              "<table border=\"1\" class=\"dataframe\">\n",
              "  <thead>\n",
              "    <tr style=\"text-align: right;\">\n",
              "      <th></th>\n",
              "      <th>quarter_ending</th>\n",
              "      <th>HSC_trust</th>\n",
              "      <th>specialty</th>\n",
              "      <th>program</th>\n",
              "      <th>0-6_weeks</th>\n",
              "      <th>&gt;6-13_weeks</th>\n",
              "      <th>&gt;13-21_weeks</th>\n",
              "      <th>&gt;21-26_weeks</th>\n",
              "      <th>&gt;26-52_weeks</th>\n",
              "      <th>&gt;52_weeks</th>\n",
              "    </tr>\n",
              "  </thead>\n",
              "  <tbody>\n",
              "    <tr>\n",
              "      <th>0</th>\n",
              "      <td>2007-06-30</td>\n",
              "      <td>Belfast</td>\n",
              "      <td>General Surgery</td>\n",
              "      <td>Acute Services</td>\n",
              "      <td>309.0</td>\n",
              "      <td>218.0</td>\n",
              "      <td>138.0</td>\n",
              "      <td>6.0</td>\n",
              "      <td>0.0</td>\n",
              "      <td>0.0</td>\n",
              "    </tr>\n",
              "    <tr>\n",
              "      <th>1</th>\n",
              "      <td>2007-06-30</td>\n",
              "      <td>Belfast</td>\n",
              "      <td>Urology</td>\n",
              "      <td>Acute Services</td>\n",
              "      <td>483.0</td>\n",
              "      <td>301.0</td>\n",
              "      <td>116.0</td>\n",
              "      <td>3.0</td>\n",
              "      <td>0.0</td>\n",
              "      <td>0.0</td>\n",
              "    </tr>\n",
              "    <tr>\n",
              "      <th>2</th>\n",
              "      <td>2007-06-30</td>\n",
              "      <td>Belfast</td>\n",
              "      <td>T &amp; O Surgery</td>\n",
              "      <td>Acute Services</td>\n",
              "      <td>158.0</td>\n",
              "      <td>211.0</td>\n",
              "      <td>110.0</td>\n",
              "      <td>36.0</td>\n",
              "      <td>0.0</td>\n",
              "      <td>0.0</td>\n",
              "    </tr>\n",
              "    <tr>\n",
              "      <th>3</th>\n",
              "      <td>2007-06-30</td>\n",
              "      <td>Belfast</td>\n",
              "      <td>ENT</td>\n",
              "      <td>Acute Services</td>\n",
              "      <td>121.0</td>\n",
              "      <td>159.0</td>\n",
              "      <td>72.0</td>\n",
              "      <td>1.0</td>\n",
              "      <td>0.0</td>\n",
              "      <td>0.0</td>\n",
              "    </tr>\n",
              "    <tr>\n",
              "      <th>4</th>\n",
              "      <td>2007-06-30</td>\n",
              "      <td>Belfast</td>\n",
              "      <td>Ophthalmology</td>\n",
              "      <td>Acute Services</td>\n",
              "      <td>905.0</td>\n",
              "      <td>846.0</td>\n",
              "      <td>405.0</td>\n",
              "      <td>19.0</td>\n",
              "      <td>0.0</td>\n",
              "      <td>0.0</td>\n",
              "    </tr>\n",
              "    <tr>\n",
              "      <th>...</th>\n",
              "      <td>...</td>\n",
              "      <td>...</td>\n",
              "      <td>...</td>\n",
              "      <td>...</td>\n",
              "      <td>...</td>\n",
              "      <td>...</td>\n",
              "      <td>...</td>\n",
              "      <td>...</td>\n",
              "      <td>...</td>\n",
              "      <td>...</td>\n",
              "    </tr>\n",
              "    <tr>\n",
              "      <th>4394</th>\n",
              "      <td>2019-09-30</td>\n",
              "      <td>Western</td>\n",
              "      <td>Ophthalmology</td>\n",
              "      <td>Acute Services</td>\n",
              "      <td>418.0</td>\n",
              "      <td>392.0</td>\n",
              "      <td>438.0</td>\n",
              "      <td>246.0</td>\n",
              "      <td>1437.0</td>\n",
              "      <td>212.0</td>\n",
              "    </tr>\n",
              "    <tr>\n",
              "      <th>4395</th>\n",
              "      <td>2019-09-30</td>\n",
              "      <td>Western</td>\n",
              "      <td>Oral Surgery</td>\n",
              "      <td>Acute Services</td>\n",
              "      <td>116.0</td>\n",
              "      <td>60.0</td>\n",
              "      <td>58.0</td>\n",
              "      <td>19.0</td>\n",
              "      <td>151.0</td>\n",
              "      <td>94.0</td>\n",
              "    </tr>\n",
              "    <tr>\n",
              "      <th>4396</th>\n",
              "      <td>2019-09-30</td>\n",
              "      <td>Western</td>\n",
              "      <td>Pain Management</td>\n",
              "      <td>Acute Services</td>\n",
              "      <td>59.0</td>\n",
              "      <td>38.0</td>\n",
              "      <td>38.0</td>\n",
              "      <td>21.0</td>\n",
              "      <td>213.0</td>\n",
              "      <td>92.0</td>\n",
              "    </tr>\n",
              "    <tr>\n",
              "      <th>4397</th>\n",
              "      <td>2019-09-30</td>\n",
              "      <td>Western</td>\n",
              "      <td>T &amp; O Surgery</td>\n",
              "      <td>Acute Services</td>\n",
              "      <td>164.0</td>\n",
              "      <td>92.0</td>\n",
              "      <td>90.0</td>\n",
              "      <td>67.0</td>\n",
              "      <td>986.0</td>\n",
              "      <td>693.0</td>\n",
              "    </tr>\n",
              "    <tr>\n",
              "      <th>4398</th>\n",
              "      <td>2019-09-30</td>\n",
              "      <td>Western</td>\n",
              "      <td>Urology</td>\n",
              "      <td>Acute Services</td>\n",
              "      <td>252.0</td>\n",
              "      <td>100.0</td>\n",
              "      <td>73.0</td>\n",
              "      <td>60.0</td>\n",
              "      <td>337.0</td>\n",
              "      <td>13.0</td>\n",
              "    </tr>\n",
              "  </tbody>\n",
              "</table>\n",
              "<p>4399 rows × 10 columns</p>\n",
              "</div>"
            ],
            "text/plain": [
              "     quarter_ending HSC_trust  ... >26-52_weeks >52_weeks\n",
              "0        2007-06-30   Belfast  ...          0.0       0.0\n",
              "1        2007-06-30   Belfast  ...          0.0       0.0\n",
              "2        2007-06-30   Belfast  ...          0.0       0.0\n",
              "3        2007-06-30   Belfast  ...          0.0       0.0\n",
              "4        2007-06-30   Belfast  ...          0.0       0.0\n",
              "...             ...       ...  ...          ...       ...\n",
              "4394     2019-09-30   Western  ...       1437.0     212.0\n",
              "4395     2019-09-30   Western  ...        151.0      94.0\n",
              "4396     2019-09-30   Western  ...        213.0      92.0\n",
              "4397     2019-09-30   Western  ...        986.0     693.0\n",
              "4398     2019-09-30   Western  ...        337.0      13.0\n",
              "\n",
              "[4399 rows x 10 columns]"
            ]
          },
          "metadata": {
            "tags": []
          },
          "execution_count": 6
        }
      ]
    },
    {
      "cell_type": "markdown",
      "metadata": {
        "id": "QbDFnGnn963x"
      },
      "source": [
        "### Exercise 4: Aggregating data 2\n",
        "Compute the **total number of patients** and add this new piece of information as a new column in the `DataFrame` and assign the name `'total_patients'` to it. You can use the function `df.sum(axis = 1)` to sum based on the columns. Please make sure you sum only the last six columns containing the number of patients into this new column and **plot a histogram** of this column"
      ]
    },
    {
      "cell_type": "code",
      "metadata": {
        "id": "8siCgY3C963y",
        "colab": {
          "base_uri": "https://localhost:8080/",
          "height": 282
        },
        "outputId": "27a43ffa-3230-4a0b-ccf6-36c94268d538"
      },
      "source": [
        "### start your code here ###\n",
        "df_WT['total_patients'] = df_WT[df_WT.columns[-6:]].sum(axis = 1)\n",
        "df_WT['total_patients'].plot(kind = 'hist')\n",
        "### end your code here ###"
      ],
      "execution_count": null,
      "outputs": [
        {
          "output_type": "execute_result",
          "data": {
            "text/plain": [
              "<matplotlib.axes._subplots.AxesSubplot at 0x7f47e1edf0f0>"
            ]
          },
          "metadata": {
            "tags": []
          },
          "execution_count": 7
        },
        {
          "output_type": "display_data",
          "data": {
            "image/png": "[encoded data removed]",
            "text/plain": [
              "<Figure size 432x288 with 1 Axes>"
            ]
          },
          "metadata": {
            "tags": [],
            "needs_background": "light"
          }
        }
      ]
    },
    {
      "cell_type": "markdown",
      "metadata": {
        "id": "_CuOFFGT963y"
      },
      "source": [
        "## Data Transformation\n",
        "\n",
        "### Exercise 5: Skewness\n",
        "Please calculate the skewness of this new `total_patients` column where:\n",
        "$Skewness = \\frac{3(X_{mean}-X_{median})}{\\sigma_X}$\n",
        "\n",
        "**Hint:** you can make use of the `DataFrame`'s functions `DataFrame.mean()`, `DataFrame.median()` and `DataFrame.std()` for your calculations.\n",
        "\n"
      ]
    },
    {
      "cell_type": "code",
      "metadata": {
        "id": "D-EArt34963y",
        "colab": {
          "base_uri": "https://localhost:8080/"
        },
        "outputId": "90d12943-4008-41aa-d547-b5e7c4854ef4"
      },
      "source": [
        "### start your code here ###\n",
        "skew = 3*(df_WT['total_patients'].mean() - df_WT['total_patients'].median())/df_WT['total_patients'].std()\n",
        "### end your code here ###\n",
        "print(\"skewness:\",skew)"
      ],
      "execution_count": null,
      "outputs": [
        {
          "output_type": "stream",
          "text": [
            "skewness: 1.150318580695661\n"
          ],
          "name": "stdout"
        }
      ]
    },
    {
      "cell_type": "markdown",
      "metadata": {
        "id": "yV2Ygta3neIQ"
      },
      "source": [
        "### Exercise 6: log transformation\n",
        "Please (i) tranform this `total_patients` column using a log transformation `log(x+1)` and assign it to a new column `log_total_patients` and (ii) plot a histogram of this new column"
      ]
    },
    {
      "cell_type": "code",
      "metadata": {
        "id": "VVtFdBZAne4a",
        "colab": {
          "base_uri": "https://localhost:8080/",
          "height": 286
        },
        "outputId": "cb5063b1-f861-4c44-a023-110a9c775fb1"
      },
      "source": [
        "### start your code here ###\n",
        "import math\n",
        "df_WT['log_total_patients'] = [math.log(x+1) for x in df_WT['total_patients']]\n",
        "df_WT['log_total_patients'].plot(kind = 'hist')\n",
        "### end your code here ###"
      ],
      "execution_count": null,
      "outputs": [
        {
          "output_type": "execute_result",
          "data": {
            "text/plain": [
              "<matplotlib.axes._subplots.AxesSubplot at 0x7f47e1dac1d0>"
            ]
          },
          "metadata": {
            "tags": []
          },
          "execution_count": 9
        },
        {
          "output_type": "display_data",
          "data": {
            "image/png": "[encoded data removed]",
            "text/plain": [
              "<Figure size 432x288 with 1 Axes>"
            ]
          },
          "metadata": {
            "tags": [],
            "needs_background": "light"
          }
        }
      ]
    },
    {
      "cell_type": "markdown",
      "metadata": {
        "id": "VW-R24Dl963y"
      },
      "source": [
        "### Exercise 7: Dummy Variables\n",
        "A categorical variable should generally be encoded as **dummy variables** (a.k.a. indicator variables), each taking only one of two values (0 or 1; False or True) prior to being used in the predictive analysis.\n",
        "\n",
        "Please use **dummy encoding** and create k-1 dummy variables.\n",
        "\n",
        "This implies you will get $k-1$ = 3 dummy variables corresponding to the values in the variable `program`. You can check the values of the original categorical value by executing the cell below."
      ]
    },
    {
      "cell_type": "code",
      "metadata": {
        "scrolled": true,
        "id": "f6I_19Ke963z",
        "colab": {
          "base_uri": "https://localhost:8080/"
        },
        "outputId": "a5bf72fc-5a1b-4ea5-c095-988d66e39d24"
      },
      "source": [
        "df_WT['program'].unique()"
      ],
      "execution_count": null,
      "outputs": [
        {
          "output_type": "execute_result",
          "data": {
            "text/plain": [
              "array(['Acute Services', 'Mental Health', 'Elderly Care',\n",
              "       'Maternity & Child Health'], dtype=object)"
            ]
          },
          "metadata": {
            "tags": []
          },
          "execution_count": 10
        }
      ]
    },
    {
      "cell_type": "markdown",
      "metadata": {
        "id": "Dsy-hlGf9630"
      },
      "source": [
        "First create a new set of columns using `pd.get_dummies(...)` and assign the new set of columns to the new object `df_dummies`\n",
        "\n",
        "**Hint:** you can use of the `DataFrame` function `pd.get_dummies()`, which automatically  converts categorical variable into dummy/indicator variables. To perform dummy encoding, we can indicate the option `drop_first=True`. You can check [this page](https://pandas.pydata.org/pandas-docs/stable/reference/api/pandas.get_dummies.html) for more information. \n"
      ]
    },
    {
      "cell_type": "code",
      "metadata": {
        "id": "BHg1eBqM9630",
        "colab": {
          "base_uri": "https://localhost:8080/",
          "height": 300
        },
        "outputId": "7d1e5069-2feb-4c9d-ea52-6acb0313c909"
      },
      "source": [
        "### start your code here ###\n",
        "df_dummies = pd.get_dummies(df_WT['program'], drop_first=True)\n",
        "### end your code here ###\n",
        "df_dummies.describe()"
      ],
      "execution_count": null,
      "outputs": [
        {
          "output_type": "execute_result",
          "data": {
            "text/html": [
              "<div>\n",
              "<style scoped>\n",
              "    .dataframe tbody tr th:only-of-type {\n",
              "        vertical-align: middle;\n",
              "    }\n",
              "\n",
              "    .dataframe tbody tr th {\n",
              "        vertical-align: top;\n",
              "    }\n",
              "\n",
              "    .dataframe thead th {\n",
              "        text-align: right;\n",
              "    }\n",
              "</style>\n",
              "<table border=\"1\" class=\"dataframe\">\n",
              "  <thead>\n",
              "    <tr style=\"text-align: right;\">\n",
              "      <th></th>\n",
              "      <th>Elderly Care</th>\n",
              "      <th>Maternity &amp; Child Health</th>\n",
              "      <th>Mental Health</th>\n",
              "    </tr>\n",
              "  </thead>\n",
              "  <tbody>\n",
              "    <tr>\n",
              "      <th>count</th>\n",
              "      <td>4399.000000</td>\n",
              "      <td>4399.000000</td>\n",
              "      <td>4399.000000</td>\n",
              "    </tr>\n",
              "    <tr>\n",
              "      <th>mean</th>\n",
              "      <td>0.010912</td>\n",
              "      <td>0.000227</td>\n",
              "      <td>0.000909</td>\n",
              "    </tr>\n",
              "    <tr>\n",
              "      <th>std</th>\n",
              "      <td>0.103899</td>\n",
              "      <td>0.015077</td>\n",
              "      <td>0.030144</td>\n",
              "    </tr>\n",
              "    <tr>\n",
              "      <th>min</th>\n",
              "      <td>0.000000</td>\n",
              "      <td>0.000000</td>\n",
              "      <td>0.000000</td>\n",
              "    </tr>\n",
              "    <tr>\n",
              "      <th>25%</th>\n",
              "      <td>0.000000</td>\n",
              "      <td>0.000000</td>\n",
              "      <td>0.000000</td>\n",
              "    </tr>\n",
              "    <tr>\n",
              "      <th>50%</th>\n",
              "      <td>0.000000</td>\n",
              "      <td>0.000000</td>\n",
              "      <td>0.000000</td>\n",
              "    </tr>\n",
              "    <tr>\n",
              "      <th>75%</th>\n",
              "      <td>0.000000</td>\n",
              "      <td>0.000000</td>\n",
              "      <td>0.000000</td>\n",
              "    </tr>\n",
              "    <tr>\n",
              "      <th>max</th>\n",
              "      <td>1.000000</td>\n",
              "      <td>1.000000</td>\n",
              "      <td>1.000000</td>\n",
              "    </tr>\n",
              "  </tbody>\n",
              "</table>\n",
              "</div>"
            ],
            "text/plain": [
              "       Elderly Care  Maternity & Child Health  Mental Health\n",
              "count   4399.000000               4399.000000    4399.000000\n",
              "mean       0.010912                  0.000227       0.000909\n",
              "std        0.103899                  0.015077       0.030144\n",
              "min        0.000000                  0.000000       0.000000\n",
              "25%        0.000000                  0.000000       0.000000\n",
              "50%        0.000000                  0.000000       0.000000\n",
              "75%        0.000000                  0.000000       0.000000\n",
              "max        1.000000                  1.000000       1.000000"
            ]
          },
          "metadata": {
            "tags": []
          },
          "execution_count": 11
        }
      ]
    },
    {
      "cell_type": "markdown",
      "metadata": {
        "id": "Os2SKG7nwGeI"
      },
      "source": [
        "To add the set of new columns, we can use the function df1 = df1.join(df2). See this [link](https://pandas.pydata.org/pandas-docs/stable/reference/api/pandas.DataFrame.join.html) for more detail."
      ]
    },
    {
      "cell_type": "code",
      "metadata": {
        "colab": {
          "base_uri": "https://localhost:8080/",
          "height": 651
        },
        "id": "hsAh6eHGwHqB",
        "outputId": "21e03b05-3c10-46c9-e431-5cb9c3c1762e"
      },
      "source": [
        "### start your code here ###\n",
        "# join the original df_WT with df_dummy\n",
        "# you would see an error if you run this one twice since the columns would have already been joined the first time\n",
        "df_WT = df_WT.join(df_dummies)\n",
        "### end your code here ###\n",
        "df_WT"
      ],
      "execution_count": null,
      "outputs": [
        {
          "output_type": "execute_result",
          "data": {
            "text/html": [
              "<div>\n",
              "<style scoped>\n",
              "    .dataframe tbody tr th:only-of-type {\n",
              "        vertical-align: middle;\n",
              "    }\n",
              "\n",
              "    .dataframe tbody tr th {\n",
              "        vertical-align: top;\n",
              "    }\n",
              "\n",
              "    .dataframe thead th {\n",
              "        text-align: right;\n",
              "    }\n",
              "</style>\n",
              "<table border=\"1\" class=\"dataframe\">\n",
              "  <thead>\n",
              "    <tr style=\"text-align: right;\">\n",
              "      <th></th>\n",
              "      <th>quarter_ending</th>\n",
              "      <th>HSC_trust</th>\n",
              "      <th>specialty</th>\n",
              "      <th>program</th>\n",
              "      <th>0-6_weeks</th>\n",
              "      <th>&gt;6-13_weeks</th>\n",
              "      <th>&gt;13-21_weeks</th>\n",
              "      <th>&gt;21-26_weeks</th>\n",
              "      <th>&gt;26-52_weeks</th>\n",
              "      <th>&gt;52_weeks</th>\n",
              "      <th>total_patients</th>\n",
              "      <th>log_total_patients</th>\n",
              "      <th>Elderly Care</th>\n",
              "      <th>Maternity &amp; Child Health</th>\n",
              "      <th>Mental Health</th>\n",
              "    </tr>\n",
              "  </thead>\n",
              "  <tbody>\n",
              "    <tr>\n",
              "      <th>0</th>\n",
              "      <td>2007-06-30</td>\n",
              "      <td>Belfast</td>\n",
              "      <td>General Surgery</td>\n",
              "      <td>Acute Services</td>\n",
              "      <td>309.0</td>\n",
              "      <td>218.0</td>\n",
              "      <td>138.0</td>\n",
              "      <td>6.0</td>\n",
              "      <td>0.0</td>\n",
              "      <td>0.0</td>\n",
              "      <td>671.0</td>\n",
              "      <td>6.510258</td>\n",
              "      <td>0</td>\n",
              "      <td>0</td>\n",
              "      <td>0</td>\n",
              "    </tr>\n",
              "    <tr>\n",
              "      <th>1</th>\n",
              "      <td>2007-06-30</td>\n",
              "      <td>Belfast</td>\n",
              "      <td>Urology</td>\n",
              "      <td>Acute Services</td>\n",
              "      <td>483.0</td>\n",
              "      <td>301.0</td>\n",
              "      <td>116.0</td>\n",
              "      <td>3.0</td>\n",
              "      <td>0.0</td>\n",
              "      <td>0.0</td>\n",
              "      <td>903.0</td>\n",
              "      <td>6.806829</td>\n",
              "      <td>0</td>\n",
              "      <td>0</td>\n",
              "      <td>0</td>\n",
              "    </tr>\n",
              "    <tr>\n",
              "      <th>2</th>\n",
              "      <td>2007-06-30</td>\n",
              "      <td>Belfast</td>\n",
              "      <td>T &amp; O Surgery</td>\n",
              "      <td>Acute Services</td>\n",
              "      <td>158.0</td>\n",
              "      <td>211.0</td>\n",
              "      <td>110.0</td>\n",
              "      <td>36.0</td>\n",
              "      <td>0.0</td>\n",
              "      <td>0.0</td>\n",
              "      <td>515.0</td>\n",
              "      <td>6.246107</td>\n",
              "      <td>0</td>\n",
              "      <td>0</td>\n",
              "      <td>0</td>\n",
              "    </tr>\n",
              "    <tr>\n",
              "      <th>3</th>\n",
              "      <td>2007-06-30</td>\n",
              "      <td>Belfast</td>\n",
              "      <td>ENT</td>\n",
              "      <td>Acute Services</td>\n",
              "      <td>121.0</td>\n",
              "      <td>159.0</td>\n",
              "      <td>72.0</td>\n",
              "      <td>1.0</td>\n",
              "      <td>0.0</td>\n",
              "      <td>0.0</td>\n",
              "      <td>353.0</td>\n",
              "      <td>5.869297</td>\n",
              "      <td>0</td>\n",
              "      <td>0</td>\n",
              "      <td>0</td>\n",
              "    </tr>\n",
              "    <tr>\n",
              "      <th>4</th>\n",
              "      <td>2007-06-30</td>\n",
              "      <td>Belfast</td>\n",
              "      <td>Ophthalmology</td>\n",
              "      <td>Acute Services</td>\n",
              "      <td>905.0</td>\n",
              "      <td>846.0</td>\n",
              "      <td>405.0</td>\n",
              "      <td>19.0</td>\n",
              "      <td>0.0</td>\n",
              "      <td>0.0</td>\n",
              "      <td>2175.0</td>\n",
              "      <td>7.685244</td>\n",
              "      <td>0</td>\n",
              "      <td>0</td>\n",
              "      <td>0</td>\n",
              "    </tr>\n",
              "    <tr>\n",
              "      <th>...</th>\n",
              "      <td>...</td>\n",
              "      <td>...</td>\n",
              "      <td>...</td>\n",
              "      <td>...</td>\n",
              "      <td>...</td>\n",
              "      <td>...</td>\n",
              "      <td>...</td>\n",
              "      <td>...</td>\n",
              "      <td>...</td>\n",
              "      <td>...</td>\n",
              "      <td>...</td>\n",
              "      <td>...</td>\n",
              "      <td>...</td>\n",
              "      <td>...</td>\n",
              "      <td>...</td>\n",
              "    </tr>\n",
              "    <tr>\n",
              "      <th>4394</th>\n",
              "      <td>2019-09-30</td>\n",
              "      <td>Western</td>\n",
              "      <td>Ophthalmology</td>\n",
              "      <td>Acute Services</td>\n",
              "      <td>418.0</td>\n",
              "      <td>392.0</td>\n",
              "      <td>438.0</td>\n",
              "      <td>246.0</td>\n",
              "      <td>1437.0</td>\n",
              "      <td>212.0</td>\n",
              "      <td>3143.0</td>\n",
              "      <td>8.053251</td>\n",
              "      <td>0</td>\n",
              "      <td>0</td>\n",
              "      <td>0</td>\n",
              "    </tr>\n",
              "    <tr>\n",
              "      <th>4395</th>\n",
              "      <td>2019-09-30</td>\n",
              "      <td>Western</td>\n",
              "      <td>Oral Surgery</td>\n",
              "      <td>Acute Services</td>\n",
              "      <td>116.0</td>\n",
              "      <td>60.0</td>\n",
              "      <td>58.0</td>\n",
              "      <td>19.0</td>\n",
              "      <td>151.0</td>\n",
              "      <td>94.0</td>\n",
              "      <td>498.0</td>\n",
              "      <td>6.212606</td>\n",
              "      <td>0</td>\n",
              "      <td>0</td>\n",
              "      <td>0</td>\n",
              "    </tr>\n",
              "    <tr>\n",
              "      <th>4396</th>\n",
              "      <td>2019-09-30</td>\n",
              "      <td>Western</td>\n",
              "      <td>Pain Management</td>\n",
              "      <td>Acute Services</td>\n",
              "      <td>59.0</td>\n",
              "      <td>38.0</td>\n",
              "      <td>38.0</td>\n",
              "      <td>21.0</td>\n",
              "      <td>213.0</td>\n",
              "      <td>92.0</td>\n",
              "      <td>461.0</td>\n",
              "      <td>6.135565</td>\n",
              "      <td>0</td>\n",
              "      <td>0</td>\n",
              "      <td>0</td>\n",
              "    </tr>\n",
              "    <tr>\n",
              "      <th>4397</th>\n",
              "      <td>2019-09-30</td>\n",
              "      <td>Western</td>\n",
              "      <td>T &amp; O Surgery</td>\n",
              "      <td>Acute Services</td>\n",
              "      <td>164.0</td>\n",
              "      <td>92.0</td>\n",
              "      <td>90.0</td>\n",
              "      <td>67.0</td>\n",
              "      <td>986.0</td>\n",
              "      <td>693.0</td>\n",
              "      <td>2092.0</td>\n",
              "      <td>7.646354</td>\n",
              "      <td>0</td>\n",
              "      <td>0</td>\n",
              "      <td>0</td>\n",
              "    </tr>\n",
              "    <tr>\n",
              "      <th>4398</th>\n",
              "      <td>2019-09-30</td>\n",
              "      <td>Western</td>\n",
              "      <td>Urology</td>\n",
              "      <td>Acute Services</td>\n",
              "      <td>252.0</td>\n",
              "      <td>100.0</td>\n",
              "      <td>73.0</td>\n",
              "      <td>60.0</td>\n",
              "      <td>337.0</td>\n",
              "      <td>13.0</td>\n",
              "      <td>835.0</td>\n",
              "      <td>6.728629</td>\n",
              "      <td>0</td>\n",
              "      <td>0</td>\n",
              "      <td>0</td>\n",
              "    </tr>\n",
              "  </tbody>\n",
              "</table>\n",
              "<p>4399 rows × 15 columns</p>\n",
              "</div>"
            ],
            "text/plain": [
              "     quarter_ending HSC_trust  ... Maternity & Child Health Mental Health\n",
              "0        2007-06-30   Belfast  ...                        0             0\n",
              "1        2007-06-30   Belfast  ...                        0             0\n",
              "2        2007-06-30   Belfast  ...                        0             0\n",
              "3        2007-06-30   Belfast  ...                        0             0\n",
              "4        2007-06-30   Belfast  ...                        0             0\n",
              "...             ...       ...  ...                      ...           ...\n",
              "4394     2019-09-30   Western  ...                        0             0\n",
              "4395     2019-09-30   Western  ...                        0             0\n",
              "4396     2019-09-30   Western  ...                        0             0\n",
              "4397     2019-09-30   Western  ...                        0             0\n",
              "4398     2019-09-30   Western  ...                        0             0\n",
              "\n",
              "[4399 rows x 15 columns]"
            ]
          },
          "metadata": {
            "tags": []
          },
          "execution_count": 12
        }
      ]
    }
  ]
}