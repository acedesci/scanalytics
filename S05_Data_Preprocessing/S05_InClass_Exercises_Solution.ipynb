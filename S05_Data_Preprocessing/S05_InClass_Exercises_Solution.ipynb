{
  "nbformat": 4,
  "nbformat_minor": 0,
  "metadata": {
    "kernelspec": {
      "display_name": "Python 3",
      "language": "python",
      "name": "python3"
    },
    "language_info": {
      "codemirror_mode": {
        "name": "ipython",
        "version": 3
      },
      "file_extension": ".py",
      "mimetype": "text/x-python",
      "name": "python",
      "nbconvert_exporter": "python",
      "pygments_lexer": "ipython3",
      "version": "3.7.6"
    },
    "colab": {
      "name": "S5_InClass_Exercises_Solution.ipynb",
      "provenance": [],
      "collapsed_sections": [],
      "include_colab_link": true
    }
  },
  "cells": [
    {
      "cell_type": "markdown",
      "metadata": {
        "id": "view-in-github",
        "colab_type": "text"
      },
      "source": [
        "<a href=\"https://colab.research.google.com/github/acedesci/scanalytics/blob/master/S05_Data_Preprocessing/S05_InClass_Exercises_Solution.ipynb\" target=\"_parent\"><img src=\"https://colab.research.google.com/assets/colab-badge.svg\" alt=\"Open In Colab\"/></a>"
      ]
    },
    {
      "cell_type": "markdown",
      "metadata": {
        "id": "jIkMaeo-963Z"
      },
      "source": [
        "# S5 - In-Class/After-Class Exercise: Data Exploration,  Preprocessing and SCM examples (Solution)\n",
        "---\n",
        "## Instructions:\n",
        "For each exercise, you have a code cell for the response underneath it, where you should write your answer between the lines containing `### start your code here ###` and `### end your code here ###`. Your code can contain one or more lines and you can execute this cell in order to complete the exercise. To execute the cell, you can type `Shift+Enter` or press the play button in the toolbar above. Your results will appear right below this response cell.\n"
      ]
    },
    {
      "cell_type": "markdown",
      "metadata": {
        "id": "Cdi17eV1963h"
      },
      "source": [
        "### Importing data\n",
        "In this exercise, we will explore some adapted data set which provides information on the number of patients waiting, and length of time waiting at the end of each quarter, for Inpatient and Day Case admissions at Health and Social Care (HSC) Trusts in Northern Ireland. Data are presented by HSC Trust, specialty, programme of care and time band. The original data can be accessed at [this page](https://data.world/datagov-uk/a593a0b3-29ef-48f2-b2b2-ceb83d841a3c).\n",
        "\n",
        "This is a description of the columns of our adapted data in the file `day-case-waiting-times.csv`.\n",
        "\n",
        "| VARIABLE NAME | DESCRIPTION | \n",
        "|:----|:----|\n",
        "|quarter_ending| report date for each quarter|\n",
        "|HSC_trust| Health and Social Care (HSC) Trusts|\n",
        "|specialty| specialty of the HSC (e.g., Urology, General Surgery, Plastic Surgery, etc.) |\n",
        "|program| program of care (e.g, mental health, acute services)|\n",
        "|0-6_weeks|number of patients who wait for a period between (0, 6] weeks in the corresponding quarter|\n",
        "|>6-13_weeks|number of patients who wait for a period between (6, 13] weeks in the corresponding quarter|\n",
        "|>13-21_weeks|number of patients who wait for a period between (13, 21] weeks in the corresponding quarter|\n",
        "|>21-26_weeks|number of patients who wait for a period between (21, 26] weeks in the corresponding quarter|\n",
        "|>26-52_weeks|number of patients who wait for a period between (26, 52] weeks in the corresponding quarter|\n",
        "|>52_weeks|number of patients who wait for a period greater than 52 weeks in the corresponding quarter|\n",
        "|>26-30_weeks|number of patients who wait for a period between (26, 30] weeks in the corresponding quarter|\n",
        "\n",
        "Import the data file `day-case-waiting-times.csv` into a `DataFrame` named `df_WT`. Display the first 5 rows of your `DataFrame`.\n",
        "\n",
        "**Hint**: you can use the `pandas.read_csv()` funtion."
      ]
    },
    {
      "cell_type": "code",
      "metadata": {
        "scrolled": true,
        "colab": {
          "base_uri": "https://localhost:8080/",
          "height": 206
        },
        "id": "_fF7rQuT963h",
        "outputId": "64d23641-3bff-47eb-c8e8-ebfbd1e0c4f5"
      },
      "source": [
        "url = 'https://raw.githubusercontent.com/acedesci/scanalytics/master/S05_Data_Preprocessing/day-case-waiting-times.csv'\n",
        "df_WT = pd.read_csv(url)  # reading data file into a DataFrame\n",
        "df_WT.head()\n"
      ],
      "execution_count": 15,
      "outputs": [
        {
          "output_type": "execute_result",
          "data": {
            "text/html": [
              "<div>\n",
              "<style scoped>\n",
              "    .dataframe tbody tr th:only-of-type {\n",
              "        vertical-align: middle;\n",
              "    }\n",
              "\n",
              "    .dataframe tbody tr th {\n",
              "        vertical-align: top;\n",
              "    }\n",
              "\n",
              "    .dataframe thead th {\n",
              "        text-align: right;\n",
              "    }\n",
              "</style>\n",
              "<table border=\"1\" class=\"dataframe\">\n",
              "  <thead>\n",
              "    <tr style=\"text-align: right;\">\n",
              "      <th></th>\n",
              "      <th>quarter_ending</th>\n",
              "      <th>HSC_trust</th>\n",
              "      <th>specialty</th>\n",
              "      <th>program</th>\n",
              "      <th>0-6_weeks</th>\n",
              "      <th>&gt;6-13_weeks</th>\n",
              "      <th>&gt;13-21_weeks</th>\n",
              "      <th>&gt;21-26_weeks</th>\n",
              "      <th>&gt;26-52_weeks</th>\n",
              "      <th>&gt;52_weeks</th>\n",
              "      <th>&gt;26-30_weeks</th>\n",
              "    </tr>\n",
              "  </thead>\n",
              "  <tbody>\n",
              "    <tr>\n",
              "      <th>0</th>\n",
              "      <td>30-Jun-07</td>\n",
              "      <td>Belfast</td>\n",
              "      <td>General Surgery</td>\n",
              "      <td>Acute Services</td>\n",
              "      <td>309</td>\n",
              "      <td>218</td>\n",
              "      <td>138</td>\n",
              "      <td>6</td>\n",
              "      <td>0</td>\n",
              "      <td>NaN</td>\n",
              "      <td>--</td>\n",
              "    </tr>\n",
              "    <tr>\n",
              "      <th>1</th>\n",
              "      <td>30-Jun-07</td>\n",
              "      <td>Belfast</td>\n",
              "      <td>Urology</td>\n",
              "      <td>Acute Services</td>\n",
              "      <td>483</td>\n",
              "      <td>301</td>\n",
              "      <td>116</td>\n",
              "      <td>3</td>\n",
              "      <td>0</td>\n",
              "      <td>NaN</td>\n",
              "      <td>--</td>\n",
              "    </tr>\n",
              "    <tr>\n",
              "      <th>2</th>\n",
              "      <td>30-Jun-07</td>\n",
              "      <td>Belfast</td>\n",
              "      <td>T &amp; O Surgery</td>\n",
              "      <td>Acute Services</td>\n",
              "      <td>158</td>\n",
              "      <td>211</td>\n",
              "      <td>110</td>\n",
              "      <td>36</td>\n",
              "      <td>0</td>\n",
              "      <td>NaN</td>\n",
              "      <td>--</td>\n",
              "    </tr>\n",
              "    <tr>\n",
              "      <th>3</th>\n",
              "      <td>30-Jun-07</td>\n",
              "      <td>Belfast</td>\n",
              "      <td>ENT</td>\n",
              "      <td>Acute Services</td>\n",
              "      <td>121</td>\n",
              "      <td>159</td>\n",
              "      <td>72</td>\n",
              "      <td>1</td>\n",
              "      <td>0</td>\n",
              "      <td>NaN</td>\n",
              "      <td>--</td>\n",
              "    </tr>\n",
              "    <tr>\n",
              "      <th>4</th>\n",
              "      <td>30-Jun-07</td>\n",
              "      <td>Belfast</td>\n",
              "      <td>Ophthalmology</td>\n",
              "      <td>Acute Services</td>\n",
              "      <td>905</td>\n",
              "      <td>846</td>\n",
              "      <td>405</td>\n",
              "      <td>19</td>\n",
              "      <td>0</td>\n",
              "      <td>NaN</td>\n",
              "      <td>--</td>\n",
              "    </tr>\n",
              "  </tbody>\n",
              "</table>\n",
              "</div>"
            ],
            "text/plain": [
              "  quarter_ending HSC_trust        specialty  ... >26-52_weeks >52_weeks >26-30_weeks\n",
              "0      30-Jun-07   Belfast  General Surgery  ...            0       NaN           --\n",
              "1      30-Jun-07   Belfast          Urology  ...            0       NaN           --\n",
              "2      30-Jun-07   Belfast    T & O Surgery  ...            0       NaN           --\n",
              "3      30-Jun-07   Belfast              ENT  ...            0       NaN           --\n",
              "4      30-Jun-07   Belfast    Ophthalmology  ...            0       NaN           --\n",
              "\n",
              "[5 rows x 11 columns]"
            ]
          },
          "metadata": {
            "tags": []
          },
          "execution_count": 15
        }
      ]
    },
    {
      "cell_type": "markdown",
      "metadata": {
        "id": "sWNIvri0963q"
      },
      "source": [
        "---"
      ]
    },
    {
      "cell_type": "markdown",
      "metadata": {
        "id": "NS4j2zxB963q"
      },
      "source": [
        "## Preprocessing Data and Missing Values\n",
        "### Exercise 1: Changing the data types of columns\n",
        "Take a look at the type of data in your `DataFrame`. The column `quarter_ending` should be of type `datatime64`, and all the columns from `0-6_weeks` to `>26-30_weeks` should be numeric, as they represent the number of patients whose waiting times were within the corresponding intervals.\n",
        "\n",
        "Are your columns of the correct type? If not, convert the data into the correct format. \n",
        "**Hint1:** You can use the functions `pandas.to_numeric()`, `pandas.to_datetime`, and/or  `DataFrame.astype()`.\n",
        "\n",
        "**Hint2:** we can make sure that (i) the non-numerical value will be set as `NaN` by using the argument `errors = 'coerce'`, and (ii) the numeric type is float by using the argument `downcast='float'` in `pandas.to_numeric(column_series, errors = 'coerce', downcast='float')`\n",
        "\n",
        "More details can be found here [link](https://pandas.pydata.org/pandas-docs/stable/reference/api/pandas.to_numeric.html)"
      ]
    },
    {
      "cell_type": "code",
      "metadata": {
        "scrolled": true,
        "id": "WPC59qjd963r",
        "colab": {
          "base_uri": "https://localhost:8080/"
        },
        "outputId": "5a2c9bb8-3055-4302-eb64-80f94f8e327e"
      },
      "source": [
        "df_WT.dtypes"
      ],
      "execution_count": 16,
      "outputs": [
        {
          "output_type": "execute_result",
          "data": {
            "text/plain": [
              "quarter_ending    object\n",
              "HSC_trust         object\n",
              "specialty         object\n",
              "program           object\n",
              "0-6_weeks         object\n",
              ">6-13_weeks       object\n",
              ">13-21_weeks      object\n",
              ">21-26_weeks       int64\n",
              ">26-52_weeks      object\n",
              ">52_weeks         object\n",
              ">26-30_weeks      object\n",
              "dtype: object"
            ]
          },
          "metadata": {
            "tags": []
          },
          "execution_count": 16
        }
      ]
    },
    {
      "cell_type": "code",
      "metadata": {
        "scrolled": true,
        "colab": {
          "base_uri": "https://localhost:8080/"
        },
        "id": "ooEtfnHy963r",
        "outputId": "2818412c-902a-41c9-e038-03fcf8a2ad63"
      },
      "source": [
        "### start your code here ###\n",
        "df_WT['quarter_ending'] = pd.to_datetime(df_WT['quarter_ending'])\n",
        "\n",
        "for col in df_WT.columns[-7:]:\n",
        "  df_WT[col] = pd.to_numeric(df_WT[col], errors='coerce', downcast='float')\n",
        "\n",
        "df_WT.dtypes\n",
        "### end your code here ###"
      ],
      "execution_count": 17,
      "outputs": [
        {
          "output_type": "execute_result",
          "data": {
            "text/plain": [
              "quarter_ending    datetime64[ns]\n",
              "HSC_trust                 object\n",
              "specialty                 object\n",
              "program                   object\n",
              "0-6_weeks                float32\n",
              ">6-13_weeks              float32\n",
              ">13-21_weeks             float32\n",
              ">21-26_weeks             float32\n",
              ">26-52_weeks             float32\n",
              ">52_weeks                float32\n",
              ">26-30_weeks             float32\n",
              "dtype: object"
            ]
          },
          "metadata": {
            "tags": []
          },
          "execution_count": 17
        }
      ]
    },
    {
      "cell_type": "markdown",
      "metadata": {
        "id": "sdN2z8IY963r"
      },
      "source": [
        "### Exercise 2:  Missing values\n",
        "Take a look at the missing values in your `DataFrame`. Implement a line of code which shows the total number of missing values in each column."
      ]
    },
    {
      "cell_type": "code",
      "metadata": {
        "colab": {
          "base_uri": "https://localhost:8080/"
        },
        "id": "BT3f20sr963r",
        "outputId": "3100da4e-7049-49d7-df75-12e48fcd6d62"
      },
      "source": [
        "df_WT.isna().sum()"
      ],
      "execution_count": 18,
      "outputs": [
        {
          "output_type": "execute_result",
          "data": {
            "text/plain": [
              "quarter_ending       0\n",
              "HSC_trust            0\n",
              "specialty            0\n",
              "program              0\n",
              "0-6_weeks           18\n",
              ">6-13_weeks         17\n",
              ">13-21_weeks         5\n",
              ">21-26_weeks         0\n",
              ">26-52_weeks      2574\n",
              ">52_weeks         3194\n",
              ">26-30_weeks      3693\n",
              "dtype: int64"
            ]
          },
          "metadata": {
            "tags": []
          },
          "execution_count": 18
        }
      ]
    },
    {
      "cell_type": "markdown",
      "metadata": {
        "id": "0ve7iOhV963s"
      },
      "source": [
        "Let's assume that the missing values can appear when data is not available. Thus, in this case of having missing values,  the number of patients with waiting times within any of the interval specified by the columns of our `DataFrame` is equal to 0. We can replace the missing numeric values with 0.\n",
        "\n",
        "**Hint:** you can use the function `DataFrame.fillna()` to replace missing values of the last 7 columns. Make sure the changes are applied/saved to your `DataFrame`."
      ]
    },
    {
      "cell_type": "code",
      "metadata": {
        "id": "wvg-gmW9963s",
        "colab": {
          "base_uri": "https://localhost:8080/",
          "height": 614
        },
        "outputId": "e8b2031a-b2fe-4cd4-d189-9d5fd1efe538"
      },
      "source": [
        "### start your code here ###\n",
        "df_WT[df_WT.columns[-7:]] = df_WT[df_WT.columns[-7:]].fillna(0)\n",
        "df_WT.isna().sum()\n",
        "df_WT\n",
        "###  end your code here ###"
      ],
      "execution_count": 19,
      "outputs": [
        {
          "output_type": "execute_result",
          "data": {
            "text/html": [
              "<div>\n",
              "<style scoped>\n",
              "    .dataframe tbody tr th:only-of-type {\n",
              "        vertical-align: middle;\n",
              "    }\n",
              "\n",
              "    .dataframe tbody tr th {\n",
              "        vertical-align: top;\n",
              "    }\n",
              "\n",
              "    .dataframe thead th {\n",
              "        text-align: right;\n",
              "    }\n",
              "</style>\n",
              "<table border=\"1\" class=\"dataframe\">\n",
              "  <thead>\n",
              "    <tr style=\"text-align: right;\">\n",
              "      <th></th>\n",
              "      <th>quarter_ending</th>\n",
              "      <th>HSC_trust</th>\n",
              "      <th>specialty</th>\n",
              "      <th>program</th>\n",
              "      <th>0-6_weeks</th>\n",
              "      <th>&gt;6-13_weeks</th>\n",
              "      <th>&gt;13-21_weeks</th>\n",
              "      <th>&gt;21-26_weeks</th>\n",
              "      <th>&gt;26-52_weeks</th>\n",
              "      <th>&gt;52_weeks</th>\n",
              "      <th>&gt;26-30_weeks</th>\n",
              "    </tr>\n",
              "  </thead>\n",
              "  <tbody>\n",
              "    <tr>\n",
              "      <th>0</th>\n",
              "      <td>2007-06-30</td>\n",
              "      <td>Belfast</td>\n",
              "      <td>General Surgery</td>\n",
              "      <td>Acute Services</td>\n",
              "      <td>309.0</td>\n",
              "      <td>218.0</td>\n",
              "      <td>138.0</td>\n",
              "      <td>6.0</td>\n",
              "      <td>0.0</td>\n",
              "      <td>0.0</td>\n",
              "      <td>0.0</td>\n",
              "    </tr>\n",
              "    <tr>\n",
              "      <th>1</th>\n",
              "      <td>2007-06-30</td>\n",
              "      <td>Belfast</td>\n",
              "      <td>Urology</td>\n",
              "      <td>Acute Services</td>\n",
              "      <td>483.0</td>\n",
              "      <td>301.0</td>\n",
              "      <td>116.0</td>\n",
              "      <td>3.0</td>\n",
              "      <td>0.0</td>\n",
              "      <td>0.0</td>\n",
              "      <td>0.0</td>\n",
              "    </tr>\n",
              "    <tr>\n",
              "      <th>2</th>\n",
              "      <td>2007-06-30</td>\n",
              "      <td>Belfast</td>\n",
              "      <td>T &amp; O Surgery</td>\n",
              "      <td>Acute Services</td>\n",
              "      <td>158.0</td>\n",
              "      <td>211.0</td>\n",
              "      <td>110.0</td>\n",
              "      <td>36.0</td>\n",
              "      <td>0.0</td>\n",
              "      <td>0.0</td>\n",
              "      <td>0.0</td>\n",
              "    </tr>\n",
              "    <tr>\n",
              "      <th>3</th>\n",
              "      <td>2007-06-30</td>\n",
              "      <td>Belfast</td>\n",
              "      <td>ENT</td>\n",
              "      <td>Acute Services</td>\n",
              "      <td>121.0</td>\n",
              "      <td>159.0</td>\n",
              "      <td>72.0</td>\n",
              "      <td>1.0</td>\n",
              "      <td>0.0</td>\n",
              "      <td>0.0</td>\n",
              "      <td>0.0</td>\n",
              "    </tr>\n",
              "    <tr>\n",
              "      <th>4</th>\n",
              "      <td>2007-06-30</td>\n",
              "      <td>Belfast</td>\n",
              "      <td>Ophthalmology</td>\n",
              "      <td>Acute Services</td>\n",
              "      <td>905.0</td>\n",
              "      <td>846.0</td>\n",
              "      <td>405.0</td>\n",
              "      <td>19.0</td>\n",
              "      <td>0.0</td>\n",
              "      <td>0.0</td>\n",
              "      <td>0.0</td>\n",
              "    </tr>\n",
              "    <tr>\n",
              "      <th>...</th>\n",
              "      <td>...</td>\n",
              "      <td>...</td>\n",
              "      <td>...</td>\n",
              "      <td>...</td>\n",
              "      <td>...</td>\n",
              "      <td>...</td>\n",
              "      <td>...</td>\n",
              "      <td>...</td>\n",
              "      <td>...</td>\n",
              "      <td>...</td>\n",
              "      <td>...</td>\n",
              "    </tr>\n",
              "    <tr>\n",
              "      <th>4394</th>\n",
              "      <td>2019-09-30</td>\n",
              "      <td>Western</td>\n",
              "      <td>Ophthalmology</td>\n",
              "      <td>Acute Services</td>\n",
              "      <td>418.0</td>\n",
              "      <td>392.0</td>\n",
              "      <td>438.0</td>\n",
              "      <td>246.0</td>\n",
              "      <td>1437.0</td>\n",
              "      <td>212.0</td>\n",
              "      <td>0.0</td>\n",
              "    </tr>\n",
              "    <tr>\n",
              "      <th>4395</th>\n",
              "      <td>2019-09-30</td>\n",
              "      <td>Western</td>\n",
              "      <td>Oral Surgery</td>\n",
              "      <td>Acute Services</td>\n",
              "      <td>116.0</td>\n",
              "      <td>60.0</td>\n",
              "      <td>58.0</td>\n",
              "      <td>19.0</td>\n",
              "      <td>151.0</td>\n",
              "      <td>94.0</td>\n",
              "      <td>0.0</td>\n",
              "    </tr>\n",
              "    <tr>\n",
              "      <th>4396</th>\n",
              "      <td>2019-09-30</td>\n",
              "      <td>Western</td>\n",
              "      <td>Pain Management</td>\n",
              "      <td>Acute Services</td>\n",
              "      <td>59.0</td>\n",
              "      <td>38.0</td>\n",
              "      <td>38.0</td>\n",
              "      <td>21.0</td>\n",
              "      <td>213.0</td>\n",
              "      <td>92.0</td>\n",
              "      <td>0.0</td>\n",
              "    </tr>\n",
              "    <tr>\n",
              "      <th>4397</th>\n",
              "      <td>2019-09-30</td>\n",
              "      <td>Western</td>\n",
              "      <td>T &amp; O Surgery</td>\n",
              "      <td>Acute Services</td>\n",
              "      <td>164.0</td>\n",
              "      <td>92.0</td>\n",
              "      <td>90.0</td>\n",
              "      <td>67.0</td>\n",
              "      <td>986.0</td>\n",
              "      <td>693.0</td>\n",
              "      <td>0.0</td>\n",
              "    </tr>\n",
              "    <tr>\n",
              "      <th>4398</th>\n",
              "      <td>2019-09-30</td>\n",
              "      <td>Western</td>\n",
              "      <td>Urology</td>\n",
              "      <td>Acute Services</td>\n",
              "      <td>252.0</td>\n",
              "      <td>100.0</td>\n",
              "      <td>73.0</td>\n",
              "      <td>60.0</td>\n",
              "      <td>337.0</td>\n",
              "      <td>13.0</td>\n",
              "      <td>0.0</td>\n",
              "    </tr>\n",
              "  </tbody>\n",
              "</table>\n",
              "<p>4399 rows × 11 columns</p>\n",
              "</div>"
            ],
            "text/plain": [
              "     quarter_ending HSC_trust  ... >52_weeks >26-30_weeks\n",
              "0        2007-06-30   Belfast  ...       0.0          0.0\n",
              "1        2007-06-30   Belfast  ...       0.0          0.0\n",
              "2        2007-06-30   Belfast  ...       0.0          0.0\n",
              "3        2007-06-30   Belfast  ...       0.0          0.0\n",
              "4        2007-06-30   Belfast  ...       0.0          0.0\n",
              "...             ...       ...  ...       ...          ...\n",
              "4394     2019-09-30   Western  ...     212.0          0.0\n",
              "4395     2019-09-30   Western  ...      94.0          0.0\n",
              "4396     2019-09-30   Western  ...      92.0          0.0\n",
              "4397     2019-09-30   Western  ...     693.0          0.0\n",
              "4398     2019-09-30   Western  ...      13.0          0.0\n",
              "\n",
              "[4399 rows x 11 columns]"
            ]
          },
          "metadata": {
            "tags": []
          },
          "execution_count": 19
        }
      ]
    },
    {
      "cell_type": "markdown",
      "metadata": {
        "id": "O6DGWJfD963w"
      },
      "source": [
        "### Exercise 3: Aggregating data 1\n",
        "Execute the code block below. As you can see, the `DataFrame` has a column with the name `>26-52_weeks`, and another column named `>26-30_weeks`. As some data were recorded under one of these columns, thus\n",
        "\n",
        "1.   we will use only the maximum value in these two columns and \n",
        "2.   put the resulting value in the column `>26-52_weeks` and\n",
        "3.   remove the column `>26-30_weeks`.\n",
        "\n",
        "\n",
        "**Hint:** you can use the function `DataFrame.drop(columns='...')` to remove the selected column. See this [link](https://pandas.pydata.org/pandas-docs/stable/reference/api/pandas.DataFrame.drop.html)"
      ]
    },
    {
      "cell_type": "code",
      "metadata": {
        "colab": {
          "base_uri": "https://localhost:8080/",
          "height": 423
        },
        "id": "6IEa1lxb963x",
        "outputId": "e612f192-5af0-44ae-9180-abf7c691ff79"
      },
      "source": [
        "### start your code here ###\n",
        "df_WT['>26-52_weeks'] = [max(df_WT.loc[i,'>26-52_weeks'], df_WT.loc[i,'>26-30_weeks']) for i in df_WT.index]\n",
        "df_WT = df_WT.drop(columns='>26-30_weeks')   \n",
        "df_WT\n",
        "### end your code here ###"
      ],
      "execution_count": 20,
      "outputs": [
        {
          "output_type": "execute_result",
          "data": {
            "text/html": [
              "<div>\n",
              "<style scoped>\n",
              "    .dataframe tbody tr th:only-of-type {\n",
              "        vertical-align: middle;\n",
              "    }\n",
              "\n",
              "    .dataframe tbody tr th {\n",
              "        vertical-align: top;\n",
              "    }\n",
              "\n",
              "    .dataframe thead th {\n",
              "        text-align: right;\n",
              "    }\n",
              "</style>\n",
              "<table border=\"1\" class=\"dataframe\">\n",
              "  <thead>\n",
              "    <tr style=\"text-align: right;\">\n",
              "      <th></th>\n",
              "      <th>quarter_ending</th>\n",
              "      <th>HSC_trust</th>\n",
              "      <th>specialty</th>\n",
              "      <th>program</th>\n",
              "      <th>0-6_weeks</th>\n",
              "      <th>&gt;6-13_weeks</th>\n",
              "      <th>&gt;13-21_weeks</th>\n",
              "      <th>&gt;21-26_weeks</th>\n",
              "      <th>&gt;26-52_weeks</th>\n",
              "      <th>&gt;52_weeks</th>\n",
              "    </tr>\n",
              "  </thead>\n",
              "  <tbody>\n",
              "    <tr>\n",
              "      <th>0</th>\n",
              "      <td>2007-06-30</td>\n",
              "      <td>Belfast</td>\n",
              "      <td>General Surgery</td>\n",
              "      <td>Acute Services</td>\n",
              "      <td>309.0</td>\n",
              "      <td>218.0</td>\n",
              "      <td>138.0</td>\n",
              "      <td>6.0</td>\n",
              "      <td>0.0</td>\n",
              "      <td>0.0</td>\n",
              "    </tr>\n",
              "    <tr>\n",
              "      <th>1</th>\n",
              "      <td>2007-06-30</td>\n",
              "      <td>Belfast</td>\n",
              "      <td>Urology</td>\n",
              "      <td>Acute Services</td>\n",
              "      <td>483.0</td>\n",
              "      <td>301.0</td>\n",
              "      <td>116.0</td>\n",
              "      <td>3.0</td>\n",
              "      <td>0.0</td>\n",
              "      <td>0.0</td>\n",
              "    </tr>\n",
              "    <tr>\n",
              "      <th>2</th>\n",
              "      <td>2007-06-30</td>\n",
              "      <td>Belfast</td>\n",
              "      <td>T &amp; O Surgery</td>\n",
              "      <td>Acute Services</td>\n",
              "      <td>158.0</td>\n",
              "      <td>211.0</td>\n",
              "      <td>110.0</td>\n",
              "      <td>36.0</td>\n",
              "      <td>0.0</td>\n",
              "      <td>0.0</td>\n",
              "    </tr>\n",
              "    <tr>\n",
              "      <th>3</th>\n",
              "      <td>2007-06-30</td>\n",
              "      <td>Belfast</td>\n",
              "      <td>ENT</td>\n",
              "      <td>Acute Services</td>\n",
              "      <td>121.0</td>\n",
              "      <td>159.0</td>\n",
              "      <td>72.0</td>\n",
              "      <td>1.0</td>\n",
              "      <td>0.0</td>\n",
              "      <td>0.0</td>\n",
              "    </tr>\n",
              "    <tr>\n",
              "      <th>4</th>\n",
              "      <td>2007-06-30</td>\n",
              "      <td>Belfast</td>\n",
              "      <td>Ophthalmology</td>\n",
              "      <td>Acute Services</td>\n",
              "      <td>905.0</td>\n",
              "      <td>846.0</td>\n",
              "      <td>405.0</td>\n",
              "      <td>19.0</td>\n",
              "      <td>0.0</td>\n",
              "      <td>0.0</td>\n",
              "    </tr>\n",
              "    <tr>\n",
              "      <th>...</th>\n",
              "      <td>...</td>\n",
              "      <td>...</td>\n",
              "      <td>...</td>\n",
              "      <td>...</td>\n",
              "      <td>...</td>\n",
              "      <td>...</td>\n",
              "      <td>...</td>\n",
              "      <td>...</td>\n",
              "      <td>...</td>\n",
              "      <td>...</td>\n",
              "    </tr>\n",
              "    <tr>\n",
              "      <th>4394</th>\n",
              "      <td>2019-09-30</td>\n",
              "      <td>Western</td>\n",
              "      <td>Ophthalmology</td>\n",
              "      <td>Acute Services</td>\n",
              "      <td>418.0</td>\n",
              "      <td>392.0</td>\n",
              "      <td>438.0</td>\n",
              "      <td>246.0</td>\n",
              "      <td>1437.0</td>\n",
              "      <td>212.0</td>\n",
              "    </tr>\n",
              "    <tr>\n",
              "      <th>4395</th>\n",
              "      <td>2019-09-30</td>\n",
              "      <td>Western</td>\n",
              "      <td>Oral Surgery</td>\n",
              "      <td>Acute Services</td>\n",
              "      <td>116.0</td>\n",
              "      <td>60.0</td>\n",
              "      <td>58.0</td>\n",
              "      <td>19.0</td>\n",
              "      <td>151.0</td>\n",
              "      <td>94.0</td>\n",
              "    </tr>\n",
              "    <tr>\n",
              "      <th>4396</th>\n",
              "      <td>2019-09-30</td>\n",
              "      <td>Western</td>\n",
              "      <td>Pain Management</td>\n",
              "      <td>Acute Services</td>\n",
              "      <td>59.0</td>\n",
              "      <td>38.0</td>\n",
              "      <td>38.0</td>\n",
              "      <td>21.0</td>\n",
              "      <td>213.0</td>\n",
              "      <td>92.0</td>\n",
              "    </tr>\n",
              "    <tr>\n",
              "      <th>4397</th>\n",
              "      <td>2019-09-30</td>\n",
              "      <td>Western</td>\n",
              "      <td>T &amp; O Surgery</td>\n",
              "      <td>Acute Services</td>\n",
              "      <td>164.0</td>\n",
              "      <td>92.0</td>\n",
              "      <td>90.0</td>\n",
              "      <td>67.0</td>\n",
              "      <td>986.0</td>\n",
              "      <td>693.0</td>\n",
              "    </tr>\n",
              "    <tr>\n",
              "      <th>4398</th>\n",
              "      <td>2019-09-30</td>\n",
              "      <td>Western</td>\n",
              "      <td>Urology</td>\n",
              "      <td>Acute Services</td>\n",
              "      <td>252.0</td>\n",
              "      <td>100.0</td>\n",
              "      <td>73.0</td>\n",
              "      <td>60.0</td>\n",
              "      <td>337.0</td>\n",
              "      <td>13.0</td>\n",
              "    </tr>\n",
              "  </tbody>\n",
              "</table>\n",
              "<p>4399 rows × 10 columns</p>\n",
              "</div>"
            ],
            "text/plain": [
              "     quarter_ending HSC_trust  ... >26-52_weeks >52_weeks\n",
              "0        2007-06-30   Belfast  ...          0.0       0.0\n",
              "1        2007-06-30   Belfast  ...          0.0       0.0\n",
              "2        2007-06-30   Belfast  ...          0.0       0.0\n",
              "3        2007-06-30   Belfast  ...          0.0       0.0\n",
              "4        2007-06-30   Belfast  ...          0.0       0.0\n",
              "...             ...       ...  ...          ...       ...\n",
              "4394     2019-09-30   Western  ...       1437.0     212.0\n",
              "4395     2019-09-30   Western  ...        151.0      94.0\n",
              "4396     2019-09-30   Western  ...        213.0      92.0\n",
              "4397     2019-09-30   Western  ...        986.0     693.0\n",
              "4398     2019-09-30   Western  ...        337.0      13.0\n",
              "\n",
              "[4399 rows x 10 columns]"
            ]
          },
          "metadata": {
            "tags": []
          },
          "execution_count": 20
        }
      ]
    },
    {
      "cell_type": "markdown",
      "metadata": {
        "id": "QbDFnGnn963x"
      },
      "source": [
        "### Exercise 4: Aggregating data 2\r\n",
        "Compute the total number of patients and add this new piece of information as a new column in the `DataFrame` and assign the name `'total_patients'` to it. You can use the function `df.sum(axis = 1)` to sum based on the columns. Please make sure you sum only the last six columns containing the number of patients into this new column and plot a histogram of this column"
      ]
    },
    {
      "cell_type": "code",
      "metadata": {
        "id": "8siCgY3C963y",
        "colab": {
          "base_uri": "https://localhost:8080/",
          "height": 282
        },
        "outputId": "ffa04ce7-4894-4b8e-dd29-f0e43e9b23fb"
      },
      "source": [
        "### start your code here ###\n",
        "df_WT['total_patients'] = df_WT[df_WT.columns[-6:]].sum(axis = 1)\n",
        "df_WT['total_patients'].plot(kind = 'hist')\n",
        "### end your code here ###"
      ],
      "execution_count": 22,
      "outputs": [
        {
          "output_type": "execute_result",
          "data": {
            "text/plain": [
              "<matplotlib.axes._subplots.AxesSubplot at 0x7fb0c8baf208>"
            ]
          },
          "metadata": {
            "tags": []
          },
          "execution_count": 22
        },
        {
          "output_type": "display_data",
          "data": {
            "image/png": "[encoded data removed]",
            "text/plain": [
              "<Figure size 432x288 with 1 Axes>"
            ]
          },
          "metadata": {
            "tags": [],
            "needs_background": "light"
          }
        }
      ]
    },
    {
      "cell_type": "markdown",
      "metadata": {
        "id": "_CuOFFGT963y"
      },
      "source": [
        "## Data Transformation\n",
        "\n",
        "### Exercise 5: Skewness\n",
        "Please calculate the skewness of this new `total_patients` column where:\n",
        "$Skewness = \\frac{3(X_{mean}-X_{median})}{\\sigma_X}$\n",
        "\n",
        "**Hint:** you can make use of the `DataFrame`'s functions `DataFrame.mean(), `DataFrame.median()` and `DataFrame.std()` for your calculations.\n",
        "\n"
      ]
    },
    {
      "cell_type": "code",
      "metadata": {
        "id": "D-EArt34963y",
        "colab": {
          "base_uri": "https://localhost:8080/",
          "height": 299
        },
        "outputId": "9d8d9f19-b3c9-464e-dfbd-ee478436efa1"
      },
      "source": [
        "### start your code here ###\n",
        "skew = 3*(df_WT['total_patients'].mean() - df_WT['total_patients'].median())/df_WT['total_patients'].std()\n",
        "print(\"skewness:\",skew)\n"
      ],
      "execution_count": 28,
      "outputs": [
        {
          "output_type": "stream",
          "text": [
            "skewness: 1.1449345378639113\n"
          ],
          "name": "stdout"
        },
        {
          "output_type": "execute_result",
          "data": {
            "text/plain": [
              "<matplotlib.axes._subplots.AxesSubplot at 0x7fb0c863d748>"
            ]
          },
          "metadata": {
            "tags": []
          },
          "execution_count": 28
        },
        {
          "output_type": "display_data",
          "data": {
            "image/png": "[encoded data removed]",
            "text/plain": [
              "<Figure size 432x288 with 1 Axes>"
            ]
          },
          "metadata": {
            "tags": [],
            "needs_background": "light"
          }
        }
      ]
    },
    {
      "cell_type": "markdown",
      "metadata": {
        "id": "yV2Ygta3neIQ"
      },
      "source": [
        "### Exercise 6: log transformation\r\n",
        "Please (i) tranform this `total_patients` column using a log transformation `log(x+1)` and assign it to a new column `log_total_patients` and (ii) plot a histogram of this new column"
      ]
    },
    {
      "cell_type": "code",
      "metadata": {
        "id": "VVtFdBZAne4a"
      },
      "source": [
        "### start your code here ###\r\n",
        "import math\r\n",
        "df_WT['log_total_patients'] = [math.log(x+1) for x in df_WT['total_patients']]\r\n",
        "df_WT['log_total_patients'].plot(kind = 'hist')\r\n",
        "### end your code here ###"
      ],
      "execution_count": null,
      "outputs": []
    },
    {
      "cell_type": "markdown",
      "metadata": {
        "id": "VW-R24Dl963y"
      },
      "source": [
        "### Exercise 7: Dummy Variables\n",
        "A categorical variable should generally be encoded as **dummy variables** (a.k.a. indicator variables), each taking only one of two values (0 or 1; False or True) prior to being used in the predictive analysis.\n",
        "\n",
        "Please use **dummy encoding** and create k-1 dummy variables.\n",
        "\n",
        "This implies you will get $k-1$ = 3 dummy variables corresponding to the values in the variable `program`. You can check the values of the original categorical value by executing the cell below."
      ]
    },
    {
      "cell_type": "code",
      "metadata": {
        "scrolled": true,
        "id": "f6I_19Ke963z",
        "colab": {
          "base_uri": "https://localhost:8080/"
        },
        "outputId": "1a235b82-aaa7-424c-bab4-cdf9ef3e4dd5"
      },
      "source": [
        "df_WT['program'].unique()"
      ],
      "execution_count": 29,
      "outputs": [
        {
          "output_type": "execute_result",
          "data": {
            "text/plain": [
              "array(['Acute Services', 'Mental Health', 'Elderly Care',\n",
              "       'Maternity & Child Health'], dtype=object)"
            ]
          },
          "metadata": {
            "tags": []
          },
          "execution_count": 29
        }
      ]
    },
    {
      "cell_type": "markdown",
      "metadata": {
        "id": "Dsy-hlGf9630"
      },
      "source": [
        "**Hint1:** you can use of the `DataFrame` function `pd.get_dummies()`, which automatically  converts categorical variable into dummy/indicator variables. To perform dummy encoding, we can indicate the option `drop_first=True`. You can check [this page](https://pandas.pydata.org/pandas-docs/stable/reference/api/pandas.get_dummies.html) for more information. \r\n",
        "\r\n",
        "**Hint2:** to add the set of new columns, we can use the function `df1 = pd.concat([df1, df2], axis = 1)`. See this [link](https://pandas.pydata.org/pandas-docs/stable/reference/api/pandas.concat.html) for more detail. "
      ]
    },
    {
      "cell_type": "code",
      "metadata": {
        "id": "BHg1eBqM9630",
        "outputId": "38bdfdec-af6f-46c6-d132-13cad94237e2"
      },
      "source": [
        "### start your code here ###\n",
        "df_dummies = pd.get_dummies(df_WT['program'], drop_first=True)\n",
        "\n",
        "# concatenating the original df_WT with df_dummy \n",
        "df_WT = pd.concat([df_WT, df_dummies], axis=1) \n",
        "df_WT.head()\n",
        "### end your code here ###"
      ],
      "execution_count": null,
      "outputs": [
        {
          "output_type": "execute_result",
          "data": {
            "text/html": [
              "<div>\n",
              "<style scoped>\n",
              "    .dataframe tbody tr th:only-of-type {\n",
              "        vertical-align: middle;\n",
              "    }\n",
              "\n",
              "    .dataframe tbody tr th {\n",
              "        vertical-align: top;\n",
              "    }\n",
              "\n",
              "    .dataframe thead th {\n",
              "        text-align: right;\n",
              "    }\n",
              "</style>\n",
              "<table border=\"1\" class=\"dataframe\">\n",
              "  <thead>\n",
              "    <tr style=\"text-align: right;\">\n",
              "      <th></th>\n",
              "      <th>quarter_ending</th>\n",
              "      <th>HSC_trust</th>\n",
              "      <th>specialty</th>\n",
              "      <th>program</th>\n",
              "      <th>0-6_weeks</th>\n",
              "      <th>&gt;6-13_weeks</th>\n",
              "      <th>&gt;13-21_weeks</th>\n",
              "      <th>&gt;21-26_weeks</th>\n",
              "      <th>&gt;26-52_weeks</th>\n",
              "      <th>&gt;52_weeks</th>\n",
              "      <th>...</th>\n",
              "      <th>norm-0-6_weeks</th>\n",
              "      <th>norm-&gt;6-13_weeks</th>\n",
              "      <th>norm-&gt;13-21_weeks</th>\n",
              "      <th>norm-&gt;21-26_weeks</th>\n",
              "      <th>norm-&gt;26-52_weeks</th>\n",
              "      <th>norm-&gt;52_weeks</th>\n",
              "      <th>Acute Services</th>\n",
              "      <th>Elderly Care</th>\n",
              "      <th>Maternity &amp; Child Health</th>\n",
              "      <th>Mental Health</th>\n",
              "    </tr>\n",
              "  </thead>\n",
              "  <tbody>\n",
              "    <tr>\n",
              "      <th>0</th>\n",
              "      <td>2007-06-30</td>\n",
              "      <td>Belfast</td>\n",
              "      <td>General Surgery</td>\n",
              "      <td>Acute Services</td>\n",
              "      <td>309.0</td>\n",
              "      <td>218.0</td>\n",
              "      <td>138.0</td>\n",
              "      <td>6</td>\n",
              "      <td>0.0</td>\n",
              "      <td>0.0</td>\n",
              "      <td>...</td>\n",
              "      <td>0.766115</td>\n",
              "      <td>0.724861</td>\n",
              "      <td>0.631671</td>\n",
              "      <td>-0.325319</td>\n",
              "      <td>-0.161756</td>\n",
              "      <td>-0.184495</td>\n",
              "      <td>1</td>\n",
              "      <td>0</td>\n",
              "      <td>0</td>\n",
              "      <td>0</td>\n",
              "    </tr>\n",
              "    <tr>\n",
              "      <th>1</th>\n",
              "      <td>2007-06-30</td>\n",
              "      <td>Belfast</td>\n",
              "      <td>Urology</td>\n",
              "      <td>Acute Services</td>\n",
              "      <td>483.0</td>\n",
              "      <td>301.0</td>\n",
              "      <td>116.0</td>\n",
              "      <td>3</td>\n",
              "      <td>0.0</td>\n",
              "      <td>0.0</td>\n",
              "      <td>...</td>\n",
              "      <td>1.600883</td>\n",
              "      <td>1.264467</td>\n",
              "      <td>0.443486</td>\n",
              "      <td>-0.383305</td>\n",
              "      <td>-0.161756</td>\n",
              "      <td>-0.184495</td>\n",
              "      <td>1</td>\n",
              "      <td>0</td>\n",
              "      <td>0</td>\n",
              "      <td>0</td>\n",
              "    </tr>\n",
              "    <tr>\n",
              "      <th>2</th>\n",
              "      <td>2007-06-30</td>\n",
              "      <td>Belfast</td>\n",
              "      <td>T &amp; O Surgery</td>\n",
              "      <td>Acute Services</td>\n",
              "      <td>158.0</td>\n",
              "      <td>211.0</td>\n",
              "      <td>110.0</td>\n",
              "      <td>36</td>\n",
              "      <td>0.0</td>\n",
              "      <td>0.0</td>\n",
              "      <td>...</td>\n",
              "      <td>0.041691</td>\n",
              "      <td>0.679352</td>\n",
              "      <td>0.392163</td>\n",
              "      <td>0.254542</td>\n",
              "      <td>-0.161756</td>\n",
              "      <td>-0.184495</td>\n",
              "      <td>1</td>\n",
              "      <td>0</td>\n",
              "      <td>0</td>\n",
              "      <td>0</td>\n",
              "    </tr>\n",
              "    <tr>\n",
              "      <th>3</th>\n",
              "      <td>2007-06-30</td>\n",
              "      <td>Belfast</td>\n",
              "      <td>ENT</td>\n",
              "      <td>Acute Services</td>\n",
              "      <td>121.0</td>\n",
              "      <td>159.0</td>\n",
              "      <td>72.0</td>\n",
              "      <td>1</td>\n",
              "      <td>0.0</td>\n",
              "      <td>0.0</td>\n",
              "      <td>...</td>\n",
              "      <td>-0.135817</td>\n",
              "      <td>0.341286</td>\n",
              "      <td>0.067116</td>\n",
              "      <td>-0.421962</td>\n",
              "      <td>-0.161756</td>\n",
              "      <td>-0.184495</td>\n",
              "      <td>1</td>\n",
              "      <td>0</td>\n",
              "      <td>0</td>\n",
              "      <td>0</td>\n",
              "    </tr>\n",
              "    <tr>\n",
              "      <th>4</th>\n",
              "      <td>2007-06-30</td>\n",
              "      <td>Belfast</td>\n",
              "      <td>Ophthalmology</td>\n",
              "      <td>Acute Services</td>\n",
              "      <td>905.0</td>\n",
              "      <td>846.0</td>\n",
              "      <td>405.0</td>\n",
              "      <td>19</td>\n",
              "      <td>0.0</td>\n",
              "      <td>0.0</td>\n",
              "      <td>...</td>\n",
              "      <td>3.625433</td>\n",
              "      <td>4.807658</td>\n",
              "      <td>2.915551</td>\n",
              "      <td>-0.074046</td>\n",
              "      <td>-0.161756</td>\n",
              "      <td>-0.184495</td>\n",
              "      <td>1</td>\n",
              "      <td>0</td>\n",
              "      <td>0</td>\n",
              "      <td>0</td>\n",
              "    </tr>\n",
              "  </tbody>\n",
              "</table>\n",
              "<p>5 rows × 21 columns</p>\n",
              "</div>"
            ],
            "text/plain": [
              "  quarter_ending HSC_trust        specialty         program  0-6_weeks  \\\n",
              "0     2007-06-30   Belfast  General Surgery  Acute Services      309.0   \n",
              "1     2007-06-30   Belfast          Urology  Acute Services      483.0   \n",
              "2     2007-06-30   Belfast    T & O Surgery  Acute Services      158.0   \n",
              "3     2007-06-30   Belfast              ENT  Acute Services      121.0   \n",
              "4     2007-06-30   Belfast    Ophthalmology  Acute Services      905.0   \n",
              "\n",
              "   >6-13_weeks  >13-21_weeks  >21-26_weeks  >26-52_weeks  >52_weeks  ...  \\\n",
              "0        218.0         138.0             6           0.0        0.0  ...   \n",
              "1        301.0         116.0             3           0.0        0.0  ...   \n",
              "2        211.0         110.0            36           0.0        0.0  ...   \n",
              "3        159.0          72.0             1           0.0        0.0  ...   \n",
              "4        846.0         405.0            19           0.0        0.0  ...   \n",
              "\n",
              "   norm-0-6_weeks  norm->6-13_weeks  norm->13-21_weeks  norm->21-26_weeks  \\\n",
              "0        0.766115          0.724861           0.631671          -0.325319   \n",
              "1        1.600883          1.264467           0.443486          -0.383305   \n",
              "2        0.041691          0.679352           0.392163           0.254542   \n",
              "3       -0.135817          0.341286           0.067116          -0.421962   \n",
              "4        3.625433          4.807658           2.915551          -0.074046   \n",
              "\n",
              "   norm->26-52_weeks  norm->52_weeks  Acute Services  Elderly Care  \\\n",
              "0          -0.161756       -0.184495               1             0   \n",
              "1          -0.161756       -0.184495               1             0   \n",
              "2          -0.161756       -0.184495               1             0   \n",
              "3          -0.161756       -0.184495               1             0   \n",
              "4          -0.161756       -0.184495               1             0   \n",
              "\n",
              "   Maternity & Child Health  Mental Health  \n",
              "0                         0              0  \n",
              "1                         0              0  \n",
              "2                         0              0  \n",
              "3                         0              0  \n",
              "4                         0              0  \n",
              "\n",
              "[5 rows x 21 columns]"
            ]
          },
          "metadata": {
            "tags": []
          },
          "execution_count": 16
        }
      ]
    }
  ]
}